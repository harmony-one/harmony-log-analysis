{
 "cells": [
  {
   "cell_type": "code",
   "execution_count": 1,
   "metadata": {},
   "outputs": [],
   "source": [
    "import json\n",
    "import pandas as pd\n",
    "import numpy as np\n",
    "import time\n",
    "import requests\n",
    "from collections import defaultdict"
   ]
  },
  {
   "cell_type": "markdown",
   "metadata": {},
   "source": [
    "logic:\n",
    "pre-requirement: check whether more than two blocks left in current block\n",
    "1. in current block, get the total-delegation, and total undelegation amount\n",
    "2. in the last block in current epoch, get the new total-delegation and new total undelegation amount\n",
    "3. get the total-delegation changes, and the difference of total undelegation amount changes\n",
    "4. check whether the two changes are the same"
   ]
  },
  {
   "cell_type": "code",
   "execution_count": 2,
   "metadata": {},
   "outputs": [],
   "source": [
    "def get_information(method, params):\n",
    "    url = 'https://api.s0.os.hmny.io/'\n",
    "    headers = {'Content-Type': 'application/json'}\n",
    "    data = {\"jsonrpc\":\"2.0\", \"method\": method, \"params\": params, \"id\":1}\n",
    "    r = requests.post(url, headers=headers, data = json.dumps(data))\n",
    "    content = json.loads(r.content)\n",
    "    return content"
   ]
  },
  {
   "cell_type": "code",
   "execution_count": 3,
   "metadata": {},
   "outputs": [],
   "source": [
    "def getBlockNumber():\n",
    "    method = \"hmy_blockNumber\"\n",
    "    params = []\n",
    "    num = get_information(method, params)['result']\n",
    "    return int(num, 16)"
   ]
  },
  {
   "cell_type": "code",
   "execution_count": 4,
   "metadata": {},
   "outputs": [],
   "source": [
    "def getLastBlockOfCurrentEpoch():\n",
    "    method = 'hmy_getStakingNetworkInfo'\n",
    "    params = []\n",
    "    return get_information(method, params)['result']['epoch-last-block']"
   ]
  },
  {
   "cell_type": "code",
   "execution_count": 5,
   "metadata": {},
   "outputs": [],
   "source": [
    "def getEpoch():\n",
    "    method = 'hmy_getEpoch'\n",
    "    params = []\n",
    "    num = get_information(method, params)['result']\n",
    "    return int(num, 16)"
   ]
  },
  {
   "cell_type": "code",
   "execution_count": 6,
   "metadata": {},
   "outputs": [],
   "source": [
    "def getAllValidatorInformation():\n",
    "    method = 'hmy_getAllValidatorInformation'\n",
    "    params = [0]\n",
    "    return get_information(method, params)['result'] "
   ]
  },
  {
   "cell_type": "code",
   "execution_count": 7,
   "metadata": {},
   "outputs": [],
   "source": [
    "def getStakeAndUndelegate(epoch):\n",
    "    validator = dict()\n",
    "    undelegate = dict()\n",
    "    validator_infos = getAllValidatorInformation()\n",
    "    for i in validator_infos:\n",
    "        address = i['validator']['address']\n",
    "        validator[address] = i['total-delegation']\n",
    "        undel = 0\n",
    "        for d in i['validator']['delegations']:\n",
    "            for j in d['undelegations']:\n",
    "                if epoch == j['epoch']:\n",
    "                    undel += j['amount']\n",
    "        undelegate[address] = undel\n",
    "    return validator, undelegate"
   ]
  },
  {
   "cell_type": "code",
   "execution_count": 8,
   "metadata": {},
   "outputs": [],
   "source": [
    "def diffAndFilter(map1, map2):\n",
    "    map3 = dict()\n",
    "    for k, v in map2.items():\n",
    "        if k in map1:\n",
    "            if v - map1[k] != 0:\n",
    "                map3[k] = v - map1[k]\n",
    "    return map3"
   ]
  },
  {
   "cell_type": "code",
   "execution_count": 9,
   "metadata": {},
   "outputs": [],
   "source": [
    "def U2_test():\n",
    "    print(\"Test-U2: After undelegate, the total stake amount for that validator should subtract the undelegation amount before next epoch\")\n",
    "    num = int(input(\"enter the number of epoches you want to test: \"))\n",
    "    iterations = 0\n",
    "    while iterations < num:\n",
    "        \n",
    "        block = getBlockNumber()\n",
    "        last_block = getLastBlockOfCurrentEpoch()\n",
    "        \n",
    "        # need at least 2 blocks left to compare difference\n",
    "        if block == last_block:\n",
    "            new_block = last_block + 1\n",
    "            while block < new_block:\n",
    "                block = getBlockNumber()\n",
    "        epoch = getEpoch()\n",
    "        print(\"current epoch numebr: \", epoch, \"block number: \", block, \"will begin testing...\")\n",
    "        stake, undelegate = getStakeAndUndelegate(epoch)\n",
    "\n",
    "        last_block = getLastBlockOfCurrentEpoch()\n",
    "        print(\"last block in current epoch: \", last_block)\n",
    "        while block < last_block:\n",
    "            block = getBlockNumber()\n",
    "        print(\"last block number reaches\", block, \"will compare the stakes and undelegations\")\n",
    "        new_stake, new_undelegate = getStakeAndUndelegate(epoch)\n",
    "        diff_stake = diffAndFilter(stake, new_stake)\n",
    "        diff_undelegate = diffAndFilter(undelegate, new_undelegate)\n",
    "\n",
    "        if not diff_undelegate:\n",
    "            print(\"no undelegation happens in current test, need more tests\")\n",
    "            \n",
    "        for k,v in diff_undelegate.items():\n",
    "            if k in diff_stake:\n",
    "                if v == -(diff_stake[k]):\n",
    "                    print(\"Test-U2: Success\")\n",
    "                else:\n",
    "                    print(\"Validator \", k, \"the stake change doesn't meet the undelegation change\")\n",
    "            else:\n",
    "                print(\"Test-U2: Fail\")\n",
    "                print(\"Validator: \", k, \"total stakes doesn't change after undelegation\")\n",
    "      \n",
    "        iterations += 1        \n",
    "    "
   ]
  },
  {
   "cell_type": "code",
   "execution_count": 10,
   "metadata": {},
   "outputs": [
    {
     "name": "stdout",
     "output_type": "stream",
     "text": [
      "Test-U2: After undelegate, the total stake amount for that validator should subtract the undelegation amount before next epoch\n",
      "enter the number of epoches you want to test: 1\n",
      "current epoch numebr:  61 block number:  2348 will begin testing...\n",
      "last block in current epoch:  2355\n",
      "last block number reaches 2355 will compare the stakes and undelegations\n",
      "Test-U2: Success\n"
     ]
    }
   ],
   "source": [
    "U2_test()"
   ]
  }
 ],
 "metadata": {
  "kernelspec": {
   "display_name": "Python 3",
   "language": "python",
   "name": "python3"
  },
  "language_info": {
   "codemirror_mode": {
    "name": "ipython",
    "version": 3
   },
   "file_extension": ".py",
   "mimetype": "text/x-python",
   "name": "python",
   "nbconvert_exporter": "python",
   "pygments_lexer": "ipython3",
   "version": "3.7.4"
  }
 },
 "nbformat": 4,
 "nbformat_minor": 2
}
