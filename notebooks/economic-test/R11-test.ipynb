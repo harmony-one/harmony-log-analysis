{
 "cells": [
  {
   "cell_type": "code",
   "execution_count": 1,
   "metadata": {},
   "outputs": [],
   "source": [
    "import json\n",
    "import pandas as pd\n",
    "import numpy as np\n",
    "import time\n",
    "import requests"
   ]
  },
  {
   "cell_type": "markdown",
   "metadata": {},
   "source": [
    "logic:\n",
    "1. at the last second block in current epoch, get the effective stakes in current epoch (effective stakes donot change during the whole epoch, and we cannot get the effective stake info at the last block, so we choose the last second)\n",
    "2. at the last block in current epoch, get the validator reward (accumulated reward in current block - acculated reward in last block)\n",
    "3. at the first block in new epoch, get the new effective stakes in new epoch, check the effective stakes changes. get the block reward, check the difference of block reward.\n",
    "4. check if the effective stake increases, whether the validator reward increases, if the effective stake decreases, whether the validator reward decreases."
   ]
  },
  {
   "cell_type": "markdown",
   "metadata": {},
   "source": [
    "Note: at the last block in every epoch, in the beginning, the epos-status will change to eligible / not eligible\n",
    "the currently in committee will be false\n",
    "and there is no metrics"
   ]
  },
  {
   "cell_type": "code",
   "execution_count": 2,
   "metadata": {},
   "outputs": [],
   "source": [
    "def get_information(method, params):\n",
    "    url = 'https://api.s0.os.hmny.io/'\n",
    "    headers = {'Content-Type': 'application/json'}\n",
    "    data = {\"jsonrpc\":\"2.0\", \"method\": method, \"params\": params, \"id\":1}\n",
    "    r = requests.post(url, headers=headers, data = json.dumps(data))\n",
    "    content = json.loads(r.content)\n",
    "    return content"
   ]
  },
  {
   "cell_type": "code",
   "execution_count": 3,
   "metadata": {},
   "outputs": [],
   "source": [
    "def getBlockNumber():\n",
    "    method = \"hmy_blockNumber\"\n",
    "    params = []\n",
    "    num = get_information(method, params)['result']\n",
    "    return int(num, 16)"
   ]
  },
  {
   "cell_type": "code",
   "execution_count": 4,
   "metadata": {},
   "outputs": [],
   "source": [
    "def getLastBlockOfCurrentEpoch():\n",
    "    method = 'hmy_getStakingNetworkInfo'\n",
    "    params = []\n",
    "    return get_information(method, params)['result']['epoch-last-block']"
   ]
  },
  {
   "cell_type": "code",
   "execution_count": 5,
   "metadata": {},
   "outputs": [],
   "source": [
    "def getAllValidatorInformation():\n",
    "    method = 'hmy_getAllValidatorInformation'\n",
    "    params = [0]\n",
    "    return get_information(method, params)['result'] "
   ]
  },
  {
   "cell_type": "code",
   "execution_count": 39,
   "metadata": {},
   "outputs": [],
   "source": [
    "def getStakesAndAprs():\n",
    "    stakes = dict()\n",
    "    aprs = dict()\n",
    "    validator_infos = getAllValidatorInformation()\n",
    "    for i in validator_infos:\n",
    "        if i['currently-in-committee'] == True:\n",
    "            address = i['validator']['address']\n",
    "            effective_stake = 0\n",
    "            for j in i['metrics']['by-bls-key']:\n",
    "                effective_stake += float(j['key']['effective-stake'])\n",
    "       \n",
    "            apr = float(i['lifetime']['apr'])\n",
    "            stakes[address] = effective_stake\n",
    "            aprs[address] = apr\n",
    "    return stakes, aprs"
   ]
  },
  {
   "cell_type": "code",
   "execution_count": 41,
   "metadata": {},
   "outputs": [],
   "source": [
    "def diffAndFilter(map1, map2):\n",
    "    map3 = dict()\n",
    "    for k, v in map2.items():\n",
    "        if k in map1:\n",
    "            if v - map1[k] != 0:\n",
    "                map3[k] = v - map1[k]\n",
    "    return map3"
   ]
  },
  {
   "cell_type": "code",
   "execution_count": 42,
   "metadata": {},
   "outputs": [],
   "source": [
    "def getEpoch():\n",
    "    method = 'hmy_getEpoch'\n",
    "    params = []\n",
    "    num = get_information(method, params)['result']\n",
    "    return int(num, 16)"
   ]
  },
  {
   "cell_type": "code",
   "execution_count": 48,
   "metadata": {},
   "outputs": [],
   "source": [
    "def R11_test():\n",
    "    print(\"Test-R11: Earning is proportional to effective stake \")\n",
    "    num = int(input(\"enter the number of epoches you want to test: \"))\n",
    "    \n",
    "    iterations = 0\n",
    "    while iterations < num:\n",
    "        print(\"test \" + str(iterations+1) + \" will begin ...\")\n",
    "        block = getBlockNumber()\n",
    "        last_block = getLastBlockOfCurrentEpoch()\n",
    "        if block == last_block:\n",
    "            new_block = block+1\n",
    "            while block < new_block:\n",
    "                block = getBlockNumber()\n",
    "        epoch = getEpoch()\n",
    "        print(\"current epoch: \", epoch)\n",
    "        print(\"current and last block numbers\", block, last_block)\n",
    "        \n",
    "        second_last_block = last_block - 1\n",
    "        while block < second_last_block:\n",
    "            block = getBlockNumber()\n",
    "        print(\"second last block in current epoch reached\", block, \"will begin testing...\")\n",
    "        stakes, aprs = getStakesAndAprs()\n",
    "        \n",
    "        # in the last block, we can not get the total effective stakes, no metrics. \n",
    "        new_block = block + 2\n",
    "        while block < new_block:\n",
    "            block = getBlockNumber()\n",
    "        print(\"first block in new epoch reached\", block, \"will compare the changes\")\n",
    "        new_stakes, new_aprs = getStakesAndAprs()\n",
    "\n",
    "        apr_diff = diffAndFilter(aprs, new_aprs)\n",
    "        # get the validators whose effective stake changes\n",
    "        stake_diff = diffAndFilter(stakes, new_stakes)\n",
    "\n",
    "        if not stake_diff:\n",
    "            print(\"in this iteration, no validators change the effective stake\")\n",
    "        if not apr_diff:\n",
    "            print(\"in this iteration, no validators change the apr\")\n",
    "            \n",
    "        flag = True\n",
    "        for k,v in stake_diff.items():\n",
    "            if k in apr_diff:\n",
    "                if v > 0: \n",
    "                    if apr_diff[k] <= 0:\n",
    "                        flag = False\n",
    "                        print(\"Test-R11: Fail\")\n",
    "                        print(k, \"effective stake increase: \", v)\n",
    "                        print(\"apr doesn't increase, apr changes: \", apr_diff[k])\n",
    "                if v < 0:\n",
    "                    if apr_diff[k] >= 0:\n",
    "                        flag = False\n",
    "                        print(\"Test-R11: Fail\")\n",
    "                        print(k, \"effective stake decrease: \", v)\n",
    "                        print(\"apr doesn't decrease, apr changes: \", apr_diff[k])\n",
    "                        \n",
    "        if flag:\n",
    "            print(\"Test-R11: Success\")\n",
    "        iterations += 1        "
   ]
  },
  {
   "cell_type": "code",
   "execution_count": 49,
   "metadata": {},
   "outputs": [
    {
     "name": "stdout",
     "output_type": "stream",
     "text": [
      "Test-R11: Earning is proportional to effective stake \n",
      "enter the number of epoches you want to test: 2\n",
      "test 1 will begin ...\n",
      "current epoch:  200\n",
      "current and last block numbers 7604 7637\n",
      "second last block in current epoch reached 7636 will begin testing...\n",
      "first block in new epoch reached 7638 will compare the changes\n",
      "Test-R11: Fail\n",
      "one1m6j80t6rhc3ypaumtsfmqwjwp0mrqk9ff50prh effective stake increase:  5.067291250000001e+22\n",
      "apr doesn't increase, apr changes:  -0.11137496545833869\n",
      "Test-R11: Fail\n",
      "one1vzsj3julf0ljcj3hhxuqpu6zvadu488zfrtttz effective stake increase:  7.061587321428572e+22\n",
      "apr doesn't increase, apr changes:  -0.0025263601953611214\n",
      "Test-R11: Fail\n",
      "one197p88sfgrvvqptvysxkxk5frnyzgkfjcqh97yu effective stake increase:  5.05729125e+22\n",
      "apr doesn't increase, apr changes:  -0.11137496545833869\n",
      "Test-R11: Fail\n",
      "one1ugkyk6qyzhr5elxr6a7906uv92ctwtzyavx7j6 effective stake increase:  7.061587321428572e+22\n",
      "apr doesn't increase, apr changes:  -0.0019789810535986163\n",
      "Test-R11: Fail\n",
      "one1grlw2qw7t9ulhms38w4ea0gssz0dk8vvsl7jum effective stake increase:  7.061587321428572e+22\n",
      "apr doesn't increase, apr changes:  -0.7812057428909913\n",
      "Test-R11: Fail\n",
      "one1jw4qywg8vkk3mdycvp6tw7nuq6gjer3g23vttz effective stake increase:  2.8246349285714287e+23\n",
      "apr doesn't increase, apr changes:  -0.018577426829486043\n",
      "Test-R11: Fail\n",
      "one1x9a8cl3aryhp9c3nyr0hzxzrhmlasgv4g47tya effective stake increase:  1.761061428571428e+23\n",
      "apr doesn't increase, apr changes:  -0.12384969996670492\n",
      "Test-R11: Fail\n",
      "one1tpxl87y4g8ecsm6ceqay49qxyl5vs94jjyfvd9 effective stake increase:  7.061587321428572e+22\n",
      "apr doesn't increase, apr changes:  -0.0064862104404892484\n",
      "Test-R11: Fail\n",
      "one1dcmp24uqgwszcvmm8n6r5dvhqhuukdj86pkg6n effective stake increase:  2.4371038750000007e+23\n",
      "apr doesn't increase, apr changes:  -1.3932378429605876\n",
      "Test-R11: Fail\n",
      "one19cuygr776f7j9ep97hjm0np9ay6nus9w5msy0n effective stake increase:  7.061587321428572e+22\n",
      "apr doesn't increase, apr changes:  -0.09083409680435928\n",
      "Test-R11: Fail\n",
      "one1wvfvuyljjkzxky75xkmjrfm70zusxrxzwphp88 effective stake increase:  7.061587321428572e+22\n",
      "apr doesn't increase, apr changes:  -0.030407073247918248\n",
      "Test-R11: Fail\n",
      "one17d60e5nvjnzechwl56y38ze6w49wejhtanncra effective stake increase:  1.4123174642857144e+23\n",
      "apr doesn't increase, apr changes:  -0.13280283163232198\n",
      "Test-R11: Fail\n",
      "one1c9h3u72czs6sk755tjyse7x5t70m38ppnkx922 effective stake increase:  5.067291250000001e+22\n",
      "apr doesn't increase, apr changes:  -3.5575037539329983\n",
      "test 2 will begin ...\n",
      "current epoch:  201\n",
      "current and last block numbers 7638 7675\n",
      "second last block in current epoch reached 7674 will begin testing...\n",
      "first block in new epoch reached 7676 will compare the changes\n",
      "Test-R11: Fail\n",
      "one1y5n7p8a845v96xyx2gh75wn5eyhtw5002lah27 effective stake decrease:  -2.118476196428572e+23\n",
      "apr doesn't decrease, apr changes:  0.06411798291368065\n",
      "Test-R11: Fail\n",
      "one1u6c4wer2dkm767hmjeehnwu6tqqur62gx9vqsd effective stake decrease:  -1.0438868214285705e+24\n",
      "apr doesn't decrease, apr changes:  2.1584744207631132\n",
      "Test-R11: Fail\n",
      "one1gjsxmewzws9mt3fn65jmdhr3e4hel9xza8wd6t effective stake decrease:  -2.670571428571428e+23\n",
      "apr doesn't decrease, apr changes:  1.3144499823612108\n",
      "Test-R11: Fail\n",
      "one1ajxyu56mjvjy87qnyl0dkkeyz0du2j0gvkz3yx effective stake decrease:  -7.061587321428572e+22\n",
      "apr doesn't decrease, apr changes:  0.09518092091357389\n"
     ]
    }
   ],
   "source": [
    "R11_test()"
   ]
  },
  {
   "cell_type": "code",
   "execution_count": null,
   "metadata": {},
   "outputs": [],
   "source": []
  }
 ],
 "metadata": {
  "kernelspec": {
   "display_name": "Python 3",
   "language": "python",
   "name": "python3"
  },
  "language_info": {
   "codemirror_mode": {
    "name": "ipython",
    "version": 3
   },
   "file_extension": ".py",
   "mimetype": "text/x-python",
   "name": "python",
   "nbconvert_exporter": "python",
   "pygments_lexer": "ipython3",
   "version": "3.7.6"
  }
 },
 "nbformat": 4,
 "nbformat_minor": 2
}
