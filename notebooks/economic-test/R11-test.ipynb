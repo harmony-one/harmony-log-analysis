{
 "cells": [
  {
   "cell_type": "code",
   "execution_count": 1,
   "metadata": {},
   "outputs": [],
   "source": [
    "import json\n",
    "import pandas as pd\n",
    "import numpy as np\n",
    "import time\n",
    "import requests"
   ]
  },
  {
   "cell_type": "markdown",
   "metadata": {},
   "source": [
    "logic:\n",
    "1. at the last second block in current epoch, get the effective stakes in current epoch (effective stakes donot change during the whole epoch, and we cannot get the effective stake info at the last block, so we choose the last second)\n",
    "2. at the last block in current epoch, get the validator reward (accumulated reward in current block - acculated reward in last block)\n",
    "3. at the first block in new epoch, get the new effective stakes in new epoch, check the effective stakes changes. get the block reward, check the difference of block reward.\n",
    "4. check if the effective stake increases, whether the validator reward increases, if the effective stake decreases, whether the validator reward decreases."
   ]
  },
  {
   "cell_type": "markdown",
   "metadata": {},
   "source": [
    "Note: at the last block in every epoch, in the beginning, the epos-status will change to eligible / not eligible\n",
    "the currently in committee will be false\n",
    "and there is no metrics"
   ]
  },
  {
   "cell_type": "code",
   "execution_count": 2,
   "metadata": {},
   "outputs": [],
   "source": [
    "def get_information(method, params):\n",
    "    url = 'https://api.s0.os.hmny.io/'\n",
    "    headers = {'Content-Type': 'application/json'}\n",
    "    data = {\"jsonrpc\":\"2.0\", \"method\": method, \"params\": params, \"id\":1}\n",
    "    r = requests.post(url, headers=headers, data = json.dumps(data))\n",
    "    content = json.loads(r.content)\n",
    "    return content"
   ]
  },
  {
   "cell_type": "code",
   "execution_count": 3,
   "metadata": {},
   "outputs": [],
   "source": [
    "def getBlockNumber():\n",
    "    method = \"hmy_blockNumber\"\n",
    "    params = []\n",
    "    num = get_information(method, params)['result']\n",
    "    return int(num, 16)"
   ]
  },
  {
   "cell_type": "code",
   "execution_count": 4,
   "metadata": {},
   "outputs": [],
   "source": [
    "def getLastBlockOfCurrentEpoch():\n",
    "    method = 'hmy_getStakingNetworkInfo'\n",
    "    params = []\n",
    "    return get_information(method, params)['result']['epoch-last-block']"
   ]
  },
  {
   "cell_type": "code",
   "execution_count": 5,
   "metadata": {},
   "outputs": [],
   "source": [
    "def getAllValidatorInformation():\n",
    "    method = 'hmy_getAllValidatorInformation'\n",
    "    params = [0]\n",
    "    return get_information(method, params)['result'] "
   ]
  },
  {
   "cell_type": "code",
   "execution_count": 6,
   "metadata": {},
   "outputs": [],
   "source": [
    "def getStakeAndRewards():\n",
    "    stake = dict()\n",
    "    reward = dict()\n",
    "    validator_infos = getAllValidatorInformation()\n",
    "    for i in validator_infos:\n",
    "        if i['currently-in-committee'] == True:\n",
    "            address = i['validator']['address']\n",
    "            reward_accumulated = i['lifetime']['reward-accumulated']\n",
    "            effective_stake = float(i['metrics']['total-effective-stake'])\n",
    "            stake[address] = effective_stake\n",
    "            reward[address] = reward_accumulated\n",
    "    return stake, reward"
   ]
  },
  {
   "cell_type": "code",
   "execution_count": 7,
   "metadata": {},
   "outputs": [],
   "source": [
    "def getRewards():\n",
    "    reward = dict()\n",
    "    validator_infos = getAllValidatorInformation()\n",
    "    for i in validator_infos:\n",
    "        address = i['validator']['address']\n",
    "        reward_accumulated = i['lifetime']['reward-accumulated']\n",
    "        reward[address] = reward_accumulated\n",
    "    return reward"
   ]
  },
  {
   "cell_type": "code",
   "execution_count": 8,
   "metadata": {},
   "outputs": [],
   "source": [
    "def diffAndFilter(map1, map2):\n",
    "    map3 = dict()\n",
    "    for k, v in map2.items():\n",
    "        if k in map1:\n",
    "            if v - map1[k] != 0:\n",
    "                map3[k] = v - map1[k]\n",
    "    return map3"
   ]
  },
  {
   "cell_type": "code",
   "execution_count": 9,
   "metadata": {},
   "outputs": [],
   "source": [
    "def getEpoch():\n",
    "    method = 'hmy_getEpoch'\n",
    "    params = []\n",
    "    num = get_information(method, params)['result']\n",
    "    return int(num, 16)"
   ]
  },
  {
   "cell_type": "code",
   "execution_count": 10,
   "metadata": {},
   "outputs": [],
   "source": [
    "def R11_test():\n",
    "    print(\"Test-R11: Earning is proportional to effective stake \")\n",
    "    num = int(input(\"enter the number of epoches you want to test: \"))\n",
    "    \n",
    "    iterations = 0\n",
    "    while iterations < num:\n",
    "        print(\"test \" + str(iterations+1) + \" will begin ...\")\n",
    "        block = getBlockNumber()\n",
    "        last_block = getLastBlockOfCurrentEpoch()\n",
    "        if block == last_block:\n",
    "            new_block = block+1\n",
    "            while block < new_block:\n",
    "                block = getBlockNumber()\n",
    "        epoch = getEpoch()\n",
    "        print(\"current epoch: \", epoch)\n",
    "        print(\"current and last block numbers\", block, last_block)\n",
    "        second_last_block = last_block - 1\n",
    "        while block < second_last_block:\n",
    "            block = getBlockNumber()\n",
    "        print(\"second last block in current epoch reached\", block, \"will begin testing...\")\n",
    "        stakes, rewards = getStakeAndRewards()\n",
    "        \n",
    "        # in the last block, we can not get the total effective stakes, no metrics. \n",
    "        new_block = block + 1\n",
    "        while block < new_block:\n",
    "            block = getBlockNumber()\n",
    "        print(\"last block in current epoch reached\", block, \"will calculate the reward per block\")\n",
    "        new_rewards = getRewards()\n",
    "        reward_per_block = diffAndFilter(rewards, new_rewards)\n",
    "\n",
    "        new_block = block + 1\n",
    "        while block < new_block:\n",
    "            block = getBlockNumber()\n",
    "        print(\"new epoch reached\")\n",
    "        last_block = getLastBlockOfCurrentEpoch()\n",
    "        print(\"current and last block numbers\", block, last_block)\n",
    "        \n",
    "        second_last_block = last_block - 1\n",
    "        while block < second_last_block:\n",
    "            block = getBlockNumber()\n",
    "        print(\"second last block in new epoch reached\", block, \"will begin testing...\")\n",
    "        new_stakes, rewards = getStakeAndRewards()\n",
    "\n",
    "        new_block = block + 1\n",
    "        while block < new_block:\n",
    "            block = getBlockNumber()\n",
    "        print(\"last block in new epoch reached\", block, \"will calculate the reward per block\")\n",
    "        new_rewards = getRewards()\n",
    "        reward_per_block_next = diffAndFilter(rewards, new_rewards)\n",
    "        \n",
    "        reward_diff = diffAndFilter(reward_per_block, reward_per_block_next)\n",
    "        # get the validators whose effective stake changes\n",
    "        stake_diff = diffAndFilter(stakes, new_stakes)\n",
    "\n",
    "        if not stake_diff:\n",
    "            print(\"in this iteration, no validators change the effective stake\")\n",
    "        if not reward_diff:\n",
    "            print(\"in this iteration, no validators change the reward\")\n",
    "            \n",
    "        flag = True\n",
    "        for k,v in stake_diff.items():\n",
    "            if k in reward_diff:\n",
    "                if v > 0: \n",
    "                    if reward_diff[k] <= 0:\n",
    "                        flag = False\n",
    "                        print(\"Test-R11: Fail\")\n",
    "                        print(k, \"effective stake increase: \", v)\n",
    "                        print(\"earning doesn't increase, earning changes: \", reward_diff[k])\n",
    "                if v < 0:\n",
    "                    if reward_diff[k] >= 0:\n",
    "                        flag = False\n",
    "                        print(\"Test-R11: Fail\")\n",
    "                        print(k, \"effective stake decrease: \", v)\n",
    "                        print(\"earning doesn't decrease, earning changes: \", reward_diff[k])\n",
    "                        \n",
    "        if flag:\n",
    "            print(\"Test-R11: Success\")\n",
    "        iterations += 1        "
   ]
  },
  {
   "cell_type": "code",
   "execution_count": 11,
   "metadata": {},
   "outputs": [
    {
     "name": "stdout",
     "output_type": "stream",
     "text": [
      "Test-R11: Earning is proportional to effective stake \n",
      "enter the number of epoches you want to test: 2\n",
      "test 1 will begin ...\n",
      "current epoch:  368\n",
      "current and last block numbers 14009 14021\n",
      "second last block in current epoch reached 14020 will begin testing...\n",
      "last block in current epoch reached 14021 will calculate the reward per block\n",
      "new epoch reached\n",
      "current and last block numbers 14022 14059\n",
      "second last block in new epoch reached 14058 will begin testing...\n",
      "last block in new epoch reached 14059 will calculate the reward per block\n",
      "Test-R11: Fail\n",
      "one1vzsj3julf0ljcj3hhxuqpu6zvadu488zfrtttz effective stake decrease:  -3.399999999999998e+21\n",
      "earning doesn't decrease, earning changes:  25340786769901400\n",
      "Test-R11: Fail\n",
      "one1s7fp0jrmd97estwye3mhkp7xsqf42vn5x2sfqy effective stake decrease:  -1.8399999999999941e+22\n",
      "earning doesn't decrease, earning changes:  137138375460642864\n",
      "Test-R11: Fail\n",
      "one1km7xg8e3xjys7azp9f4xp8hkw79vm2h3f2lade effective stake decrease:  -4.5999999999999853e+21\n",
      "earning doesn't decrease, earning changes:  34284593865160716\n",
      "Test-R11: Fail\n",
      "one1rn8yvmhq6eztp7qcfwndna70e3a7mwa8n08kev effective stake decrease:  -3.399999999999998e+21\n",
      "earning doesn't decrease, earning changes:  25340786769901400\n",
      "Test-R11: Fail\n",
      "one1vdvxewvahkm2pn4jmvwvgsfqct53s86r0y505l effective stake decrease:  -1.0200000000000128e+22\n",
      "earning doesn't decrease, earning changes:  76022360309704200\n",
      "Test-R11: Fail\n",
      "one15qd66tgarr6pyuh2z8m23q0gc6v2sgepeatekx effective stake decrease:  -3.399999999999998e+21\n",
      "earning doesn't decrease, earning changes:  25340786769901400\n",
      "Test-R11: Fail\n",
      "one1clfnqhzggrlkxy6kfe8rt60mxwm8eywxtj7er4 effective stake decrease:  -3.399999999999998e+21\n",
      "earning doesn't decrease, earning changes:  25340786769901400\n",
      "Test-R11: Fail\n",
      "one18vn078vyp5jafma8q7kek6w0resrgex9yufqws effective stake decrease:  -4.5999999999999853e+21\n",
      "earning doesn't decrease, earning changes:  34284593865160716\n",
      "Test-R11: Fail\n",
      "one1jk85l9kys6qvkcfgmh2ecrh0qtnll7um3jcw05 effective stake decrease:  -3.399999999999998e+21\n",
      "earning doesn't decrease, earning changes:  25340786769901400\n",
      "Test-R11: Fail\n",
      "one1aqa8tj8fs7wkwnclxgzmau2zc24jzhhlnypjfq effective stake decrease:  -4.5999999999999853e+21\n",
      "earning doesn't decrease, earning changes:  34284593865160716\n",
      "test 2 will begin ...\n",
      "current epoch:  370\n",
      "current and last block numbers 14060 14059\n",
      "second last block in current epoch reached 14060 will begin testing...\n",
      "last block in current epoch reached 14061 will calculate the reward per block\n",
      "new epoch reached\n",
      "current and last block numbers 14062 14097\n",
      "second last block in new epoch reached 14096 will begin testing...\n",
      "last block in new epoch reached 14097 will calculate the reward per block\n",
      "in this iteration, no validators change the effective stake\n",
      "Test-R11: Success\n"
     ]
    }
   ],
   "source": [
    "R11_test()"
   ]
  },
  {
   "cell_type": "code",
   "execution_count": null,
   "metadata": {},
   "outputs": [],
   "source": []
  }
 ],
 "metadata": {
  "kernelspec": {
   "display_name": "Python 3",
   "language": "python",
   "name": "python3"
  },
  "language_info": {
   "codemirror_mode": {
    "name": "ipython",
    "version": 3
   },
   "file_extension": ".py",
   "mimetype": "text/x-python",
   "name": "python",
   "nbconvert_exporter": "python",
   "pygments_lexer": "ipython3",
   "version": "3.6.9"
  }
 },
 "nbformat": 4,
 "nbformat_minor": 2
}
