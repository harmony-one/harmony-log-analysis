{
 "cells": [
  {
   "cell_type": "code",
   "execution_count": 6,
   "metadata": {},
   "outputs": [],
   "source": [
    "from pyhmy import cli\n",
    "import json\n",
    "import pandas as pd\n",
    "import numpy as np\n",
    "import os\n",
    "import time\n",
    "import requests"
   ]
  },
  {
   "cell_type": "code",
   "execution_count": 2,
   "metadata": {},
   "outputs": [
    {
     "name": "stdout",
     "output_type": "stream",
     "text": [
      "Saved harmony binary to: `/Users/yishuang/Desktop/log_analysis/notebooks/staking_dashboard/bin/hmy`\n"
     ]
    }
   ],
   "source": [
    "env = cli.download()\n",
    "cli.environment.update(env)"
   ]
  },
  {
   "cell_type": "code",
   "execution_count": 3,
   "metadata": {},
   "outputs": [
    {
     "data": {
      "text/plain": [
       "True"
      ]
     },
     "execution_count": 3,
     "metadata": {},
     "output_type": "execute_result"
    }
   ],
   "source": [
    "path = os.getcwd() + \"/bin/hmy\"\n",
    "cli.set_binary(path)"
   ]
  },
  {
   "cell_type": "code",
   "execution_count": 4,
   "metadata": {},
   "outputs": [],
   "source": [
    "def R1_test():\n",
    "    committees = json.loads(cli.single_call(\"hmy --node=https://api.s0.os.hmny.io utility committees\"))\n",
    "    harmony_nodes = []\n",
    "    for k,v in committees['result']['current']['quorum-deciders'].items():\n",
    "        for i in v['committee-members']:\n",
    "            if i['is-harmony-slot'] == True:\n",
    "                harmony_nodes.append(i['earning-account'])\n",
    "    \n",
    "    # no harmony nodes should have validator information\n",
    "    num = 0\n",
    "    for i in harmony_nodes:\n",
    "        try:\n",
    "            cli.single_call(\"hmy --node=https://api.s0.os.hmny.io blockchain validator information \" + i)\n",
    "        except:\n",
    "            num += 1\n",
    "    assert num == len(harmony_nodes)\n",
    "    return True\n",
    "            "
   ]
  },
  {
   "cell_type": "code",
   "execution_count": 5,
   "metadata": {},
   "outputs": [
    {
     "data": {
      "text/plain": [
       "True"
      ]
     },
     "execution_count": 5,
     "metadata": {},
     "output_type": "execute_result"
    }
   ],
   "source": [
    "R1_test()"
   ]
  },
  {
   "cell_type": "code",
   "execution_count": 11,
   "metadata": {},
   "outputs": [
    {
     "data": {
      "text/plain": [
       "{'blockHash': '0x4faa57063038531d9ca47264f48bcecf3837c1ff7a91ce0718125e997099ff3f',\n",
       " 'blockNumber': 16839,\n",
       " 'epoch': 443,\n",
       " 'lastCommitBitmap': '9fe27edebf791ff5ffff0f',\n",
       " 'lastCommitSig': 'e218ba2f2b564843cabd97c3a6b514ce6e611a35f2541bcf4b0f6c21de49f27380db096457dd7f8f156e0fd8c91d9a122ea8ce18033388dedd09fc2e343acc31d0b973aeedf7b5ba884906af1e71a58f337eed26ad80ae616f100f8b68ce4281',\n",
       " 'leader': 'one18ahxsrk9g4h4gz5r8ema7nyw6g9zpun5hhp54d',\n",
       " 'shardID': 0,\n",
       " 'timestamp': '2020-03-23 21:26:37 +0000 UTC',\n",
       " 'unixtime': 1584998797,\n",
       " 'viewID': 16839}"
      ]
     },
     "execution_count": 11,
     "metadata": {},
     "output_type": "execute_result"
    }
   ],
   "source": [
    "json.loads(cli.single_call(\"hmy --node=https://api.s0.os.hmny.io blockchain latest-header\"))['result']"
   ]
  },
  {
   "cell_type": "code",
   "execution_count": 12,
   "metadata": {},
   "outputs": [],
   "source": [
    "def E1_test():\n",
    "    committees = json.loads(cli.single_call(\"hmy --node=https://api.s0.os.hmny.io utility committees\"))\n",
    "    slot = committees['result']['current']['external-slot-count']\n",
    "    validator = json.loads(cli.single_call(\"hmy --node=https://api.s0.os.hmny.io blockchain validator all\"))['result'] \n",
    "    epoch = json.loads(cli.single_call(\"hmy --node=https://api.s0.os.hmny.io blockchain latest-header\"))['result']['epoch']\n",
    "    # get top #slots nodes who are eligible to elected next epoch\n",
    "    new = []\n",
    "    stake = dict()\n",
    "    for i in validator:\n",
    "        info = json.loads(cli.single_call(\"hmy --node=https://api.s0.os.hmny.io blockchain validator information \" + i))['result']\n",
    "        if info['epos-status'] == 'currently elected and signing enough blocks to be eligible for election next epoch' or info['epos-status'] == 'eligible to be elected next epoch':\n",
    "            new.append(i)\n",
    "            stake[i] = info['total-delegation']\n",
    "    if len(new) > slot:\n",
    "        sorted_stake = sorted(stake.items(), key=lambda kv: kv[1], reverse = True)\n",
    "        new = [kv[0] for kv in sorted_stake[:slot]]\n",
    "    \n",
    "    # get the lowest stakes among the top #slots\n",
    "    low = new[-1]\n",
    "    low_stake = json.loads(cli.single_call(\"hmy --node=https://api.s0.os.hmny.io blockchain validator information \" + low))['result']['total-delegation']\n",
    "    \n",
    "    # wait for epoch changes\n",
    "    new_epoch = json.loads(cli.single_call(\"hmy --node=https://api.s0.os.hmny.io blockchain latest-header\"))['result']['epoch']\n",
    "    while new_epoch == epoch:\n",
    "        time.sleep(8)\n",
    "        new_epoch = json.loads(cli.single_call(\"hmy --node=https://api.s0.os.hmny.io blockchain latest-header\"))['result']['epoch']\n",
    "    \n",
    "    # check whether the eligible validators are selected\n",
    "    for i in new:\n",
    "        info = json.loads(cli.single_call(\"hmy --node=https://api.s0.os.hmny.io blockchain validator information \" + i))['result']\n",
    "        \n",
    "        if info['epos-status'] == 'eligible to be elected next epoch' or \\\n",
    "        info['epos-status'] == 'not eligible to be elected next epoch':\n",
    "            print(\"validator \" + i + \" who is eligible to be selected is not selected\")\n",
    "            if info['total-delegation'] <= low_stake:\n",
    "                print(\"This validator's stake is lower than the lowest stakes in the committee\")\n",
    "            else:\n",
    "                print(\"This validator's stake is higher than the lowest stakes in the committee\")\n"
   ]
  },
  {
   "cell_type": "code",
   "execution_count": 13,
   "metadata": {},
   "outputs": [
    {
     "name": "stdout",
     "output_type": "stream",
     "text": [
      "validator one164e2dwupqxd7ssr85ncnkx3quk7fexy0eta2vy who is eligible to be selected is not selected\n",
      "This validator's stake is higher than the lowest stakes in the committee\n"
     ]
    }
   ],
   "source": [
    "E1_test()"
   ]
  },
  {
   "cell_type": "code",
   "execution_count": 14,
   "metadata": {},
   "outputs": [
    {
     "data": {
      "text/plain": [
       "{'current-epoch-performance': None,\n",
       " 'currently-in-committee': False,\n",
       " 'epos-status': 'eligible to be elected next epoch',\n",
       " 'lifetime': {'apr': '0.000000000000000000',\n",
       "  'blocks': {'signed': 0, 'to-sign': 0},\n",
       "  'reward-accumulated': 0},\n",
       " 'metrics': None,\n",
       " 'total-delegation': 2.166666e+24,\n",
       " 'validator': {'address': 'one164e2dwupqxd7ssr85ncnkx3quk7fexy0eta2vy',\n",
       "  'bls-public-keys': ['2eba33b81d0aacb22e793625077d0c57dd6d38d753bbf39dc720dea0f4a5c056c81d8967a99c2cf1811d0327b049ab16',\n",
       "   '394d726edbb908fa71bdb2b417dd0fe7c77d9f86b3a0b1e1b51d11e26dd1cddb4e21269c3e1d08e75d43ec98ff4ca582',\n",
       "   '73ac6379c785142d46bf8423469639fa1dfb9e416e97206cff2c07522a18999a54faaf9cbcad1e34a6c2dc770224848e',\n",
       "   'b682337f407ec929e7cc18e5103da8a038d63118990b9d8124b31836d8b394a695f16d88b6a32b2543b1dcaaba99a582'],\n",
       "  'creation-height': 1014,\n",
       "  'delegations': [{'amount': 2.166666e+24,\n",
       "    'delegator-address': 'one164e2dwupqxd7ssr85ncnkx3quk7fexy0eta2vy',\n",
       "    'reward': 0,\n",
       "    'undelegations': []}],\n",
       "  'details': 'sentry node of leo chen, shard2',\n",
       "  'identity': 'leo-sentry-s2',\n",
       "  'last-epoch-in-committee': 0,\n",
       "  'max-change-rate': '0.030000000000000000',\n",
       "  'max-rate': '0.700000000000000000',\n",
       "  'max-total-delegation': 1e+25,\n",
       "  'min-self-delegation': 3.22222e+23,\n",
       "  'name': 'leo-s2',\n",
       "  'rate': '0.030000000000000000',\n",
       "  'security-contact': 'sentrys2@leochen.net',\n",
       "  'update-height': 1014,\n",
       "  'website': 'https://sentry2.leochen.net'}}"
      ]
     },
     "execution_count": 14,
     "metadata": {},
     "output_type": "execute_result"
    }
   ],
   "source": [
    "i = 'one164e2dwupqxd7ssr85ncnkx3quk7fexy0eta2vy'\n",
    "info = json.loads(cli.single_call(\"hmy --node=https://api.s0.os.hmny.io blockchain validator information \" + i))['result']\n",
    "info"
   ]
  },
  {
   "cell_type": "markdown",
   "metadata": {},
   "source": [
    "the median stake calcualtion should be applied to all the contested validators, who are eligible for elected next epoch. \n",
    "- before election, get the top 200 eligible nodes, and calculate the median;\n",
    "- after election, calculate the median for the elected node. both the two status:\n",
    "    - currently elected and signing enough blocks to be eligible for election next epoch \n",
    "    - currently elected and not signing enough blocks to be eligible for election next epoch\n",
    "    \n",
    "Q: if they are elected, they have the metrics, not elected no metrics?"
   ]
  },
  {
   "cell_type": "code",
   "execution_count": 24,
   "metadata": {},
   "outputs": [],
   "source": [
    "def M5_test():\n",
    "    median = json.loads(cli.single_call(\"hmy --node=https://api.s0.os.hmny.io blockchain median-stake\"))\n",
    "    validator = json.loads(cli.single_call(\"hmy --node=https://api.s0.os.hmny.io blockchain validator all\"))['result'] \n",
    "    \n",
    "    # get the median stake and the upper and lower level \n",
    "    median_stake = float(median['result']['epos-median-stake'])\n",
    "    lower = np.round(median_stake - 0.15*median_stake)\n",
    "    upper = np.round(median_stake + 0.15*median_stake)\n",
    "    print(\"median stake is \" + median['result']['epos-median-stake'])\n",
    "    print(\"lower bond is \" + str(lower))\n",
    "    print(\"upper bond is \" + str(upper))\n",
    "    print(\"===========================\")\n",
    "    print(\"\")\n",
    "    # check every validator's effective stake\n",
    "    for i in validator:\n",
    "        info = json.loads(cli.single_call(\"hmy --node=https://api.s0.os.hmny.io blockchain validator information \" + i))['result']\n",
    "        if info['metrics']:\n",
    "            for s in info['metrics']['by-shard']:\n",
    "                if float(s['effective-stake']) > upper or float(s['effective-stake']) < lower:\n",
    "                    print(\"validator: \" + i + \" bls public key: \" + str(s['bls-public-key']) +\\\n",
    "                          \" shard: \" + str(s['shard-id'])) \n",
    "                    print(\"effective stake is out of range. The effective stake is \" + s['effective-stake'])\n",
    "                    print(\"\")"
   ]
  },
  {
   "cell_type": "code",
   "execution_count": 25,
   "metadata": {},
   "outputs": [
    {
     "name": "stdout",
     "output_type": "stream",
     "text": [
      "median stake is 297500000000000000000000.000000000000000000\n",
      "lower bond is 2.52875e+23\n",
      "upper bond is 3.42125e+23\n",
      "===========================\n",
      "\n",
      "validator: one103q7qe5t2505lypvltkqtddaef5tzfxwsse4z7 bls public key: 86dc2fdc2ceec18f6923b99fd86a68405c132e1005cf1df72dca75db0adfaeb53d201d66af37916d61f079f34f21fb96 shard: 2\n",
      "effective stake is out of range. The effective stake is 345000000000000000000000.000000000000000000\n",
      "\n",
      "validator: one1egemh5e9xjy3x8d3cq0kq7mw4sw4jjwgkc7axs bls public key: d90b4af4db279822edc6b4aa6a2b083512d0b6a873d8e71c814b7994e0f32b97f6a6d81d21344d7fa85e76f76af5e783 shard: 3\n",
      "effective stake is out of range. The effective stake is 345000000000000000000000.000000000000000000\n",
      "\n",
      "validator: one12d5a58rcpyf8chlcd2my8r8ns572uppetmxqrx bls public key: 6d5c07ee92b7caff12c245724cc065a8274113ae815c45f257f3c3f81017ab1f401bf76ca11c23f9fe7d0a375245648b shard: 3\n",
      "effective stake is out of range. The effective stake is 345000000000000000000000.000000000000000000\n",
      "\n",
      "validator: one17d60e5nvjnzechwl56y38ze6w49wejhtanncra bls public key: 7a4a5b3881a9f64851c9b5ec5c449b293ce567dec39bd3e80b9726cc12825e0eec0ef2bc682114e2f123ad7e1bcc6b99 shard: 1\n",
      "effective stake is out of range. The effective stake is 345000000000000000000000.000000000000000000\n",
      "\n",
      "validator: one1hwn68w7m5g8daltvrjkmq23qn58nrvr3yz6ryt bls public key: 48ad00d97fb657f3476b5a8466798f33a23b16615091ebcd3587c14c9aad9e2e28c28fd12a7e9c887e621eb2f7860d00 shard: 0\n",
      "effective stake is out of range. The effective stake is 345000000000000000000000.000000000000000000\n",
      "\n",
      "validator: one170xqsfzm4xdmuyax54t5pvtp5l5yt66u50ctrp bls public key: 24869840d8cf20bf94cc0aaede8424e7457316997796c406f6fe6ae7067552f1360915ca15e3e9afc5f91d4a68b9df8d shard: 1\n",
      "effective stake is out of range. The effective stake is 345000000000000000000000.000000000000000000\n",
      "\n",
      "validator: one1mpzx5wr2kmz9nvkhsgj6jr6zs87ahm0gxmhlck bls public key: 2c2a83b249d04bfa77556a74a2124d7158281d1a1766469deb3d8db8da0958bc889a8c94b8c97254c6c8e99927792689 shard: 1\n",
      "effective stake is out of range. The effective stake is 345000000000000000000000.000000000000000000\n",
      "\n",
      "validator: one1ekup98s5tqxtr5hdzsz664cfy579jpq6w5smrr bls public key: 718b9ead7b9aaa9cb70570450c6256937c86f08978c8a48b536c2a849f61ff52f1b78b39014064cefc5f223efd45a080 shard: 0\n",
      "effective stake is out of range. The effective stake is 345000000000000000000000.000000000000000000\n",
      "\n",
      "validator: one1hpxxxnqp5epvs2ktzdft24q39r4pttywkmt3cy bls public key: e8efbf33375c47bdac66ced93c3c0874ff30c310590e66c253fe70f1f58529717ba3b29687bca862e8d66d7c6f40cf07 shard: 3\n",
      "effective stake is out of range. The effective stake is 345000000000000000000000.000000000000000000\n",
      "\n",
      "validator: one1syx0rmtttr8jehlxvnkpyx4hvrlevmcx3tcghy bls public key: 02760cadc6ef3d3c1f8b66adbe182ebc252b451178efc168e856870311c8a7005c7060d28ea72c6c7adfab606989f413 shard: 3\n",
      "effective stake is out of range. The effective stake is 345000000000000000000000.000000000000000000\n",
      "\n",
      "validator: one1fv5ku7szkm60h4j4tcd2yanvjaw2ym3ugnls33 bls public key: 24394973188a468d5cac2dc803dce4fd8eed39e71fd8d2f4cce1594c5fbe64a6520686b9de06f56d89d3a98bdfbb5c00 shard: 0\n",
      "effective stake is out of range. The effective stake is 345000000000000000000000.000000000000000000\n",
      "\n",
      "validator: one1r55rwumsrm6w3d20uhaa3hm4rxr442k0qx9gj8 bls public key: f64d27b412859b15cbe055d86e313b52f7a851b01782ff213855ef89c1ee57b1a5d25f8159c013006f104a8206b04900 shard: 0\n",
      "effective stake is out of range. The effective stake is 345000000000000000000000.000000000000000000\n",
      "\n",
      "validator: one1gm8xwupd9e77ja46eaxv8tk4ea7re5zknaauvq bls public key: 17592c04f6f83ed1cdf472210efeaae035c72fa40b085dfe971262a7879ca1703d1fceb0b9de7e994bbee1004899cf94 shard: 0\n",
      "effective stake is out of range. The effective stake is 345000000000000000000000.000000000000000000\n",
      "\n",
      "validator: one18vn078vyp5jafma8q7kek6w0resrgex9yufqws bls public key: 394d726edbb908fa71bdb2b417dd0fe7c77d9f86b3a0b1e1b51d11e26dd1cddb4e21269c3e1d08e75d43ec98ff4ca582 shard: 2\n",
      "effective stake is out of range. The effective stake is 345000000000000000000000.000000000000000000\n",
      "\n",
      "validator: one1wxlm29z9u08udhwuulgssnnh902vh9wfnt5tyh bls public key: 20026c7ecc0c7b2bb5fd217d3a16cae4dff30b8c610d476da1a41f467db43f4d3fff706a6ebef4983564c67fc164f80a shard: 2\n",
      "effective stake is out of range. The effective stake is 345000000000000000000000.000000000000000000\n",
      "\n",
      "validator: one1a8avzz3hcvhfrh2tp7rdprpvwt838y9um9c2q7 bls public key: 6b109edaae955a8ca4e158011bbca0bd0006a3b8fe696469f5ba967954631d2250d5f31729ba11df1392bff7d498ca0f shard: 3\n",
      "effective stake is out of range. The effective stake is 345000000000000000000000.000000000000000000\n",
      "\n",
      "validator: one15qd66tgarr6pyuh2z8m23q0gc6v2sgepeatekx bls public key: cbd9dc5073a1879e669fc4413e54f0adec044ad1222929c74f50a205c3dd74770e3d14665ba8977c0ae2faec18729f0e shard: 2\n",
      "effective stake is out of range. The effective stake is 345000000000000000000000.000000000000000000\n",
      "\n",
      "validator: one1cr5q35dwd2svwutwm3wg4tf6xpqn0xkt0qqh78 bls public key: 72b674a1c58ecf2fa9990c5765f4b4692a355e9140fc1d2a37088f62d1b582d12ab07537ec6117d8b139060a11451e06 shard: 2\n",
      "effective stake is out of range. The effective stake is 345000000000000000000000.000000000000000000\n",
      "\n",
      "validator: one1vfqqagdzz352mtvdl69v0hw953hm993n6v26yl bls public key: 4c114982081e609c090fd2084fc7d562b0670ac2ed1d3ec2fd99e07ae21469c0df7f1f6cd6f7c96f61dea9e4c626a409 shard: 1\n",
      "effective stake is out of range. The effective stake is 345000000000000000000000.000000000000000000\n",
      "\n",
      "validator: one1ap70twwq79st3nlkkpasyadd8qjv8ezkauzcfq bls public key: f744b45982660ee119f31f8782d819e9b73b3810c9ea233c8d40480352e02e17220cb5ecd644140f1e224d1237fb4a00 shard: 0\n",
      "effective stake is out of range. The effective stake is 345000000000000000000000.000000000000000000\n",
      "\n"
     ]
    }
   ],
   "source": [
    "M5_test()"
   ]
  },
  {
   "cell_type": "markdown",
   "metadata": {},
   "source": [
    "question: in the same epoch, will the delegation change"
   ]
  },
  {
   "cell_type": "code",
   "execution_count": 10,
   "metadata": {},
   "outputs": [],
   "source": [
    "def get_median(lst):\n",
    "    n = len(lst) \n",
    "    lst.sort() \n",
    "    if n % 2 == 0: \n",
    "        median1 = lst[n//2] \n",
    "        median2 = lst[n//2 - 1] \n",
    "        median = (median1 + median2)/2\n",
    "    else: \n",
    "        median = lst[n//2] \n",
    "    return median"
   ]
  },
  {
   "cell_type": "code",
   "execution_count": 49,
   "metadata": {},
   "outputs": [],
   "source": [
    "def M2_test():\n",
    "    header = json.loads(cli.single_call(\"hmy --node=https://api.s0.os.hmny.io blockchain latest-header\"))['result']\n",
    "    while header['blockNumber'] % 38 != 37:\n",
    "        time.sleep(8)\n",
    "        header = json.loads(cli.single_call(\"hmy --node=https://api.s0.os.hmny.io blockchain latest-header\"))['result']\n",
    "    print(\"current block number: \" + str(header['blockNumber']))\n",
    "    median = json.loads(cli.single_call(\"hmy --node=https://api.s0.os.hmny.io blockchain median-stake\"))\n",
    "    median_stake = float(median['result']['epos-median-stake'])\n",
    "\n",
    "    elected = json.loads(cli.single_call(\"hmy --node=https://api.s0.os.hmny.io blockchain validator elected\"))\n",
    "    stake = []\n",
    "    for i in validator:\n",
    "        info = json.loads(cli.single_call(\"hmy --node=https://api.s0.os.hmny.io blockchain validator information \" + i))['result']\n",
    "        print(info)\n",
    "        print(\"=====\")\n",
    "        print(\"\")\n",
    "        stake.append(info['total-delegation'])\n",
    "    cal_median = get_median(stake)\n",
    "#     assert median == cal_median\n",
    "    print(\"manually calculated median stake: \" + str(cal_median))\n",
    "    print(\"harmony apr call median stake: \" + str(median_stake))"
   ]
  },
  {
   "cell_type": "markdown",
   "metadata": {},
   "source": [
    "### old E3-test"
   ]
  },
  {
   "cell_type": "code",
   "execution_count": null,
   "metadata": {},
   "outputs": [],
   "source": [
    "def getValidatorInfo(validator):\n",
    "    method = \"hmy_getValidatorInformation\"\n",
    "    params = [validator]\n",
    "    return get_information(method, params)"
   ]
  },
  {
   "cell_type": "code",
   "execution_count": null,
   "metadata": {},
   "outputs": [],
   "source": [
    "def getAllValidator():\n",
    "    method = 'hmy_getAllValidatorAddresses'\n",
    "    params = []\n",
    "    return get_information(method, params)['result'] "
   ]
  },
  {
   "cell_type": "code",
   "execution_count": 2,
   "metadata": {},
   "outputs": [],
   "source": [
    "def get_information(method, params):\n",
    "    url = 'https://api.s0.os.hmny.io/'\n",
    "    headers = {'Content-Type': 'application/json'}\n",
    "    data = {\"jsonrpc\":\"2.0\", \"method\": method, \"params\": params, \"id\":1}\n",
    "    r = requests.post(url, headers=headers, data = json.dumps(data))\n",
    "    content = json.loads(r.content)\n",
    "    return content"
   ]
  },
  {
   "cell_type": "code",
   "execution_count": 4,
   "metadata": {},
   "outputs": [],
   "source": [
    "def getBlockNumber():\n",
    "    method = \"hmy_blockNumber\"\n",
    "    params = []\n",
    "    num = get_information(method, params)['result']\n",
    "    return int(num, 16)"
   ]
  },
  {
   "cell_type": "code",
   "execution_count": 3,
   "metadata": {},
   "outputs": [],
   "source": [
    "# it doesn't work\n",
    "def getAllValidatorByBlock(block):\n",
    "    method = \"hmy_getValidatorInformationByBlockNumber\"\n",
    "    params = [\"0\", block]\n",
    "    return get_information(method, params)"
   ]
  },
  {
   "cell_type": "code",
   "execution_count": 10,
   "metadata": {},
   "outputs": [
    {
     "data": {
      "text/plain": [
       "32739"
      ]
     },
     "execution_count": 10,
     "metadata": {},
     "output_type": "execute_result"
    }
   ],
   "source": [
    "block = getBlockNumber()\n",
    "block"
   ]
  },
  {
   "cell_type": "code",
   "execution_count": 9,
   "metadata": {},
   "outputs": [
    {
     "data": {
      "text/plain": [
       "{'jsonrpc': '2.0',\n",
       " 'id': 1,\n",
       " 'error': {'code': -32000,\n",
       "  'message': 'not found address in current state one1qqqqqqqqqqqqqqqqqqqqqqqqqqqqqqqquzw7vz: at root: 0x3b2416165cc355d7a7785f9f698ed269a639af04d2334f19b92042794f2c9b5b: address not present in state'}}"
      ]
     },
     "execution_count": 9,
     "metadata": {},
     "output_type": "execute_result"
    }
   ],
   "source": [
    "getAllValidatorByBlock(hex(block))"
   ]
  },
  {
   "cell_type": "code",
   "execution_count": null,
   "metadata": {},
   "outputs": [],
   "source": [
    "def E3_test():\n",
    "    # get the first block in current epoch\n",
    "    block = getBlockNumber()\n",
    "    while block % 38 != 0:\n",
    "        time.sleep(8)\n",
    "        block = getBlockNumber()\n",
    "    print(\"Starting the first block in current epoch\")\n",
    "    val_old = getAllValidator()\n",
    "\n",
    "    # get the second to last block in current epoch\n",
    "    block = getBlockNumber()\n",
    "    while block % 38 != 36:\n",
    "        time.sleep(8)\n",
    "        block = getBlockNumber()\n",
    "    print(\"Starting the second to last block in current epoch\")\n",
    "    val_new = getAllValidator()\n",
    "\n",
    "    # get all the new nodes joining after the election\n",
    "    new = [i for i in val_new if i not in val_old]\n",
    "    \n",
    "    # get the hex of the first block in next epoch\n",
    "    if getBlockNumber() < block+3:\n",
    "        time.sleep(8)\n",
    "    \n",
    "    if not new:\n",
    "        print(\"no new nodes joined before the next election start\")\n",
    "        \n",
    "    hex_block = hex(block+2)\n",
    "    for i in new:\n",
    "        print(\"validator \" + i + \" joined before the next election start: \")\n",
    "        status = getValidatorByBlock(i, hex_block)['epos-status']\n",
    "        print(status)\n",
    "        if status == 'currently elected and not signing enough blocks to be eligible for election next epoch' \\\n",
    "        or status == 'not eligible to be elected next epoch':\n",
    "            print(\"[FAILED] Joining before the election was not considered as the validator\")\n",
    "            return False\n",
    "    return True"
   ]
  }
 ],
 "metadata": {
  "kernelspec": {
   "display_name": "Python 3",
   "language": "python",
   "name": "python3"
  },
  "language_info": {
   "codemirror_mode": {
    "name": "ipython",
    "version": 3
   },
   "file_extension": ".py",
   "mimetype": "text/x-python",
   "name": "python",
   "nbconvert_exporter": "python",
   "pygments_lexer": "ipython3",
   "version": "3.7.4"
  }
 },
 "nbformat": 4,
 "nbformat_minor": 2
}
