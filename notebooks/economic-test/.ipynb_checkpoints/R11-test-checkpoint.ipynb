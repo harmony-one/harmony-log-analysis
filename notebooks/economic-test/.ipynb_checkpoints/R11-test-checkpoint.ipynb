{
 "cells": [
  {
   "cell_type": "code",
   "execution_count": 19,
   "metadata": {},
   "outputs": [],
   "source": [
    "import json\n",
    "import pandas as pd\n",
    "import numpy as np\n",
    "import time\n",
    "import requests"
   ]
  },
  {
   "cell_type": "code",
   "execution_count": 20,
   "metadata": {},
   "outputs": [],
   "source": [
    "def get_information(method, params):\n",
    "    url = 'https://api.s0.os.hmny.io/'\n",
    "    headers = {'Content-Type': 'application/json'}\n",
    "    data = {\"jsonrpc\":\"2.0\", \"method\": method, \"params\": params, \"id\":1}\n",
    "    r = requests.post(url, headers=headers, data = json.dumps(data))\n",
    "    content = json.loads(r.content)\n",
    "    return content"
   ]
  },
  {
   "cell_type": "code",
   "execution_count": 21,
   "metadata": {},
   "outputs": [],
   "source": [
    "def getBlockNumber():\n",
    "    method = \"hmy_blockNumber\"\n",
    "    params = []\n",
    "    num = get_information(method, params)['result']\n",
    "    return int(num, 16)"
   ]
  },
  {
   "cell_type": "code",
   "execution_count": 24,
   "metadata": {},
   "outputs": [],
   "source": [
    "def getAllValidatorInformation():\n",
    "    method = 'hmy_getAllValidatorInformation'\n",
    "    params = [0]\n",
    "    return get_information(method, params)['result'] "
   ]
  },
  {
   "cell_type": "code",
   "execution_count": 67,
   "metadata": {},
   "outputs": [],
   "source": [
    "def getLastBlockOfCurrentEpoch():\n",
    "    method = 'hmy_getStakingNetworkInfo'\n",
    "    params = []\n",
    "    return get_information(method, params)['result']['epoch-last-block']"
   ]
  },
  {
   "cell_type": "code",
   "execution_count": 59,
   "metadata": {},
   "outputs": [],
   "source": [
    "def getStakeAndRewards():\n",
    "    stake = dict()\n",
    "    reward = dict()\n",
    "    validator_infos = getAllValidatorInformation()\n",
    "    for i in validator_infos:\n",
    "        if i['currently-in-committee'] == True:\n",
    "            address = i['validator']['address']\n",
    "            reward_accumulated = i['lifetime']['reward-accumulated']\n",
    "            effective_stake = int(float(i['metrics']['total-effective-stake']))\n",
    "            stake[address] = effective_stake\n",
    "            reward[address] = reward_accumulated\n",
    "    return stake, reward"
   ]
  },
  {
   "cell_type": "code",
   "execution_count": 60,
   "metadata": {},
   "outputs": [],
   "source": [
    "def getRewards():\n",
    "    reward = dict()\n",
    "    validator_infos = getAllValidatorInformation()\n",
    "    for i in validator_infos:\n",
    "        if i['currently-in-committee'] == True:\n",
    "            address = i['validator']['address']\n",
    "            reward_accumulated = i['lifetime']['reward-accumulated']\n",
    "            reward[address] = reward_accumulated\n",
    "    return reward"
   ]
  },
  {
   "cell_type": "code",
   "execution_count": 99,
   "metadata": {},
   "outputs": [],
   "source": [
    "def diffAndFilter(map1, map2):\n",
    "    map3 = dict()\n",
    "    for k, v in map2.items():\n",
    "        if k in map1:\n",
    "            map3[k] = v - map1[k]\n",
    "    return map3"
   ]
  },
  {
   "cell_type": "code",
   "execution_count": 100,
   "metadata": {},
   "outputs": [],
   "source": [
    "def mapFilter(map1, map2):\n",
    "    map3 = dict()\n",
    "    for k, v in map1.items():\n",
    "        if k in map2:\n",
    "            map3[k] = v\n",
    "    return map3"
   ]
  },
  {
   "cell_type": "code",
   "execution_count": 107,
   "metadata": {},
   "outputs": [],
   "source": [
    "def identical(l1, l2):\n",
    "    return l1 == l2"
   ]
  },
  {
   "cell_type": "code",
   "execution_count": 102,
   "metadata": {},
   "outputs": [],
   "source": [
    "def extract(lst): \n",
    "    return [item[0] for item in lst] "
   ]
  },
  {
   "cell_type": "code",
   "execution_count": 111,
   "metadata": {},
   "outputs": [],
   "source": [
    "def R3_test():\n",
    "    print(\"Test-R3: High stakers earn more reward than low stakers\")\n",
    "    num = int(input(\"enter the number of blocks you want to test: \"))\n",
    "    \n",
    "    block = getBlockNumber()\n",
    "    last_block = getLastBlockOfCurrentEpoch()\n",
    "    print(\"current and last block numbers\", block, last_block)\n",
    "    while block < last_block:\n",
    "        block = getBlockNumber()\n",
    "        \n",
    "    new_epoch_block = block + 1\n",
    "    while block < new_epoch_block:\n",
    "        block = getBlockNumber()\n",
    "    \n",
    "    print(\"new epoch first block reached\", new_epoch_block, \"will begin testing\")\n",
    "    new_epoch_block = block + 1\n",
    "    \n",
    "    stakes, rewards = getStakeAndRewards()\n",
    "    sorted_stakes = sorted(stakes.items(), key=lambda kv: kv[1], reverse = True)\n",
    "    sorted_rewards = sorted(rewards.items(), key=lambda kv: kv[1], reverse = True)\n",
    "    \n",
    "    print(\"obtained first block stakes and rewards\", \"total stakes found=\", \\\n",
    "          len(stakes), \"total rewards found=\", len(rewards))\n",
    "    \n",
    "    while block < new_epoch_block:\n",
    "        block = getBlockNumber()\n",
    "        \n",
    "    print(\"new epoch second block reached\", block, \"will begin comparing stakes and rewards\")\n",
    "        \n",
    "    new_rewards = getRewards()\n",
    "    \n",
    "    last_block = block\n",
    "    current_block = last_block\n",
    "\n",
    "    iterations = 0\n",
    "    while iterations < num:\n",
    "        reward_diffs = diffAndFilter(rewards, new_rewards)\n",
    "        latest_stakes = mapFilter(stakes, new_rewards)\n",
    "        sorted_stakes = sorted(latest_stakes.items(), key=lambda kv: kv[1], reverse = True)\n",
    "        sorted_reward_diffs = sorted(reward_diffs.items(), key=lambda kv: kv[1], reverse = True)\n",
    "        stake_keys = extract(sorted_stakes)\n",
    "        reward_keys = extract(sorted_reward_diffs)\n",
    "        print(\"comparison to begin, two lengths:\", len(latest_stakes), len(sorted_rewards))\n",
    "        if identical(stake_keys, reward_keys) == False:\n",
    "            print(\"Test-R3: Fail\")\n",
    "            print(\"validators sorted by stakes: \", stake_keys)\n",
    "            print(\"validators sorted by reward: \", reward_keys)\n",
    "        else:\n",
    "            print(\"Test-R3: Success\")\n",
    "            \n",
    "        last_block = current_block\n",
    "        current_block = getBlockNumber()\n",
    "        while current_block == last_block:\n",
    "            current_block = getBlockNumber()\n",
    "        \n",
    "        new_rewards = getRewards()\n",
    "        iterations = iterations + 1"
   ]
  },
  {
   "cell_type": "code",
   "execution_count": 112,
   "metadata": {},
   "outputs": [
    {
     "name": "stdout",
     "output_type": "stream",
     "text": [
      "Test-R3: High stakers earn more reward than low stakers\n",
      "enter the number of blocks you want to test: 1\n",
      "current and last block numbers 32061 32071\n",
      "new epoch first block reached 32072 will begin testing\n",
      "obtained first block stakes and rewards total stakes found= 60 total rewards found= 60\n",
      "new epoch second block reached 32073 will begin comparing stakes and rewards\n",
      "comparison to begin, two lengths: 60 60\n",
      "validators sorted by stakes:  ['one1tpxl87y4g8ecsm6ceqay49qxyl5vs94jjyfvd9', 'one1s7fp0jrmd97estwye3mhkp7xsqf42vn5x2sfqy', 'one1u6c4wer2dkm767hmjeehnwu6tqqur62gx9vqsd', 'one1ha4zg6xstkpmvvg87eghtg93u0exvzs3kl0ew0', 'one1vdvxewvahkm2pn4jmvwvgsfqct53s86r0y505l', 'one1gjsxmewzws9mt3fn65jmdhr3e4hel9xza8wd6t', 'one16226n7h7fu326plzlqt4k60yfyza5vk299ypr2', 'one1uvt0yl7dxyt9rh37gzm49vy3pgf0c3aud4k5p5', 'one1yym297x9elfeqj0ru8pk3qcnhm60e0sgxgc7zd', 'one103q7qe5t2505lypvltkqtddaef5tzfxwsse4z7', 'one1marnnvc8hywmfxhrc8mtpjkvvdt32x9kxtwkvv', 'one1egemh5e9xjy3x8d3cq0kq7mw4sw4jjwgkc7axs', 'one17tj2jjehdlg8xfgp48xpeyqur2qf6nvs88jvyu', 'one12d5a58rcpyf8chlcd2my8r8ns572uppetmxqrx', 'one1wz9fmjrwua3le0c8qxv058p3wpdg4ctjyc3ha4', 'one1hwn68w7m5g8daltvrjkmq23qn58nrvr3yz6ryt', 'one1ekup98s5tqxtr5hdzsz664cfy579jpq6w5smrr', 'one1hpxxxnqp5epvs2ktzdft24q39r4pttywkmt3cy', 'one1syx0rmtttr8jehlxvnkpyx4hvrlevmcx3tcghy', 'one1r55rwumsrm6w3d20uhaa3hm4rxr442k0qx9gj8', 'one18vn078vyp5jafma8q7kek6w0resrgex9yufqws', 'one1jw4qywg8vkk3mdycvp6tw7nuq6gjer3g23vttz', 'one1wxlm29z9u08udhwuulgssnnh902vh9wfnt5tyh', 'one1t4p6x5k7zw59kers7hwmjh3kymj0n6spr02qnf', 'one1dcmp24uqgwszcvmm8n6r5dvhqhuukdj86pkg6n', 'one1a8avzz3hcvhfrh2tp7rdprpvwt838y9um9c2q7', 'one15qd66tgarr6pyuh2z8m23q0gc6v2sgepeatekx', 'one1cr5q35dwd2svwutwm3wg4tf6xpqn0xkt0qqh78', 'one1vfqqagdzz352mtvdl69v0hw953hm993n6v26yl', 'one14shlkfq00yfmf3r4gglt0hqfcxrgx7ysmsz832', 'one1ap70twwq79st3nlkkpasyadd8qjv8ezkauzcfq', 'one1925zlp5celp8r8jj3utpcxpjtncuuv2nu2449v', 'one1d6rmp6stjf599d66ed2v0s3gsr890s4zwqlhgv', 'one1dsy63tatz7avdrl24y5clramvgur9hsarglcdl', 'one1m6j80t6rhc3ypaumtsfmqwjwp0mrqk9ff50prh', 'one1vzsj3julf0ljcj3hhxuqpu6zvadu488zfrtttz', 'one1km7xg8e3xjys7azp9f4xp8hkw79vm2h3f2lade', 'one1p5hv9qv90dyrag9fj3wzrvvrs273ypcq8mz7zn', 'one1m7r3ufqyk0xj9rkxnr38k8h6l2ghkev3fdlujm', 'one1vusgu2vytafhfczp7kqj6jvquvgx7nequ2zcjz', 'one1gjhqdsgqt0dc2a8zrdyu7z8jv2kal86jcpkr2f', 'one1aqa8tj8fs7wkwnclxgzmau2zc24jzhhlnypjfq', 'one1xqsanwfj98ffuvjjz9uk40qnzghcmhlyszl52u', 'one1muk6dvsezrhp9z5sqst8jfhftsnwnq7xyk25ge', 'one10qq0uqa4gvgdufqjph89pp7nj6yeatz94xdjrt', 'one1jm28f73rmg7lnca7duuyuqrhkp4ahfzdvzzdsf', 'one1h0g0a3j8rkrtgeq8hk9n5vwey6rwgpfpgyfqup', 'one1jnkspmvu2r4tlun50kvne2saw6qs3zaf6dnmzh', 'one1n38alfvq8g5pf3v9ll2z7unxy9thwkafm8hgl3', 'one10mhfkemujz7vfxxtp4268ysrjdzm9d9jh28mv2', 'one1trnendh9yvcuga4zwm77j9e0atu85ydr4ftqyt', 'one10qx4nn2mp5lscvcsg7n9kejmhdghm83q48dqey', 'one1leh5rmuclw5u68gw07d86kqxjd69zuny3h23c3', 'one176yqutxhzpyxq3tedn390qjgxn2xrg0lxjf6ue', 'one13dxe4km6pnwg9vdt59dudde3wyxwtxa5y7yx4h', 'one1kt98rm83e9p2fja4p8nj5mwkgfxc8374qwtvrg', 'one1tewvfjk0d4whmajpqvcvzfpx6wftrh0gagsa7n', 'one1fd094898rfktel7rezmk65zql3cjzhw9zgxcff', 'one1mlz8te7pz63e5legadztt54zpnz6y7crphk6dt', 'one1wqq9xrca6g5vfaqwm47gc953kgy6kqxm2pffuj']\n",
      "validators sorted by reward:  ['one1tpxl87y4g8ecsm6ceqay49qxyl5vs94jjyfvd9', 'one1u6c4wer2dkm767hmjeehnwu6tqqur62gx9vqsd', 'one1ha4zg6xstkpmvvg87eghtg93u0exvzs3kl0ew0', 'one16226n7h7fu326plzlqt4k60yfyza5vk299ypr2', 'one1uvt0yl7dxyt9rh37gzm49vy3pgf0c3aud4k5p5', 'one1marnnvc8hywmfxhrc8mtpjkvvdt32x9kxtwkvv', 'one1egemh5e9xjy3x8d3cq0kq7mw4sw4jjwgkc7axs', 'one12d5a58rcpyf8chlcd2my8r8ns572uppetmxqrx', 'one1wz9fmjrwua3le0c8qxv058p3wpdg4ctjyc3ha4', 'one1hpxxxnqp5epvs2ktzdft24q39r4pttywkmt3cy', 'one1syx0rmtttr8jehlxvnkpyx4hvrlevmcx3tcghy', 'one1t4p6x5k7zw59kers7hwmjh3kymj0n6spr02qnf', 'one1a8avzz3hcvhfrh2tp7rdprpvwt838y9um9c2q7', 'one1yym297x9elfeqj0ru8pk3qcnhm60e0sgxgc7zd', 'one1leh5rmuclw5u68gw07d86kqxjd69zuny3h23c3', 'one1m7r3ufqyk0xj9rkxnr38k8h6l2ghkev3fdlujm', 'one13dxe4km6pnwg9vdt59dudde3wyxwtxa5y7yx4h', 'one17tj2jjehdlg8xfgp48xpeyqur2qf6nvs88jvyu', 'one1hwn68w7m5g8daltvrjkmq23qn58nrvr3yz6ryt', 'one1ekup98s5tqxtr5hdzsz664cfy579jpq6w5smrr', 'one1r55rwumsrm6w3d20uhaa3hm4rxr442k0qx9gj8', 'one1jw4qywg8vkk3mdycvp6tw7nuq6gjer3g23vttz', 'one1dcmp24uqgwszcvmm8n6r5dvhqhuukdj86pkg6n', 'one1ap70twwq79st3nlkkpasyadd8qjv8ezkauzcfq', 'one1925zlp5celp8r8jj3utpcxpjtncuuv2nu2449v', 'one1d6rmp6stjf599d66ed2v0s3gsr890s4zwqlhgv', 'one176yqutxhzpyxq3tedn390qjgxn2xrg0lxjf6ue', 'one1m6j80t6rhc3ypaumtsfmqwjwp0mrqk9ff50prh', 'one1p5hv9qv90dyrag9fj3wzrvvrs273ypcq8mz7zn', 'one1muk6dvsezrhp9z5sqst8jfhftsnwnq7xyk25ge', 'one1jm28f73rmg7lnca7duuyuqrhkp4ahfzdvzzdsf', 'one1jnkspmvu2r4tlun50kvne2saw6qs3zaf6dnmzh', 'one1n38alfvq8g5pf3v9ll2z7unxy9thwkafm8hgl3', 'one10mhfkemujz7vfxxtp4268ysrjdzm9d9jh28mv2', 'one1trnendh9yvcuga4zwm77j9e0atu85ydr4ftqyt', 'one10qx4nn2mp5lscvcsg7n9kejmhdghm83q48dqey', 'one1kt98rm83e9p2fja4p8nj5mwkgfxc8374qwtvrg', 'one1tewvfjk0d4whmajpqvcvzfpx6wftrh0gagsa7n', 'one1mlz8te7pz63e5legadztt54zpnz6y7crphk6dt', 'one103q7qe5t2505lypvltkqtddaef5tzfxwsse4z7', 'one1vzsj3julf0ljcj3hhxuqpu6zvadu488zfrtttz', 'one1km7xg8e3xjys7azp9f4xp8hkw79vm2h3f2lade', 'one1s7fp0jrmd97estwye3mhkp7xsqf42vn5x2sfqy', 'one18vn078vyp5jafma8q7kek6w0resrgex9yufqws', 'one1gjsxmewzws9mt3fn65jmdhr3e4hel9xza8wd6t', 'one1vusgu2vytafhfczp7kqj6jvquvgx7nequ2zcjz', 'one1gjhqdsgqt0dc2a8zrdyu7z8jv2kal86jcpkr2f', 'one1aqa8tj8fs7wkwnclxgzmau2zc24jzhhlnypjfq', 'one1xqsanwfj98ffuvjjz9uk40qnzghcmhlyszl52u', 'one1wxlm29z9u08udhwuulgssnnh902vh9wfnt5tyh', 'one10qq0uqa4gvgdufqjph89pp7nj6yeatz94xdjrt', 'one15qd66tgarr6pyuh2z8m23q0gc6v2sgepeatekx', 'one1cr5q35dwd2svwutwm3wg4tf6xpqn0xkt0qqh78', 'one1vfqqagdzz352mtvdl69v0hw953hm993n6v26yl', 'one14shlkfq00yfmf3r4gglt0hqfcxrgx7ysmsz832', 'one1h0g0a3j8rkrtgeq8hk9n5vwey6rwgpfpgyfqup', 'one1vdvxewvahkm2pn4jmvwvgsfqct53s86r0y505l', 'one1fd094898rfktel7rezmk65zql3cjzhw9zgxcff', 'one1dsy63tatz7avdrl24y5clramvgur9hsarglcdl', 'one1wqq9xrca6g5vfaqwm47gc953kgy6kqxm2pffuj']\n",
      "Test-R3: Fail\n"
     ]
    }
   ],
   "source": [
    "R3_test()"
   ]
  },
  {
   "cell_type": "code",
   "execution_count": null,
   "metadata": {},
   "outputs": [],
   "source": []
  },
  {
   "cell_type": "code",
   "execution_count": null,
   "metadata": {},
   "outputs": [],
   "source": []
  }
 ],
 "metadata": {
  "kernelspec": {
   "display_name": "Python 3",
   "language": "python",
   "name": "python3"
  },
  "language_info": {
   "codemirror_mode": {
    "name": "ipython",
    "version": 3
   },
   "file_extension": ".py",
   "mimetype": "text/x-python",
   "name": "python",
   "nbconvert_exporter": "python",
   "pygments_lexer": "ipython3",
   "version": "3.7.4"
  }
 },
 "nbformat": 4,
 "nbformat_minor": 2
}
