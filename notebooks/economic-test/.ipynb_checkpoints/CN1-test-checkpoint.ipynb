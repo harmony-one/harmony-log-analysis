{
 "cells": [
  {
   "cell_type": "code",
   "execution_count": 1,
   "metadata": {},
   "outputs": [],
   "source": [
    "import json\n",
    "import pandas as pd\n",
    "import numpy as np\n",
    "import time\n",
    "import requests"
   ]
  },
  {
   "cell_type": "code",
   "execution_count": 2,
   "metadata": {},
   "outputs": [],
   "source": [
    "def get_information(method, params):\n",
    "    url = 'https://api.s0.os.hmny.io/'\n",
    "    headers = {'Content-Type': 'application/json'}\n",
    "    data = {\"jsonrpc\":\"2.0\", \"method\": method, \"params\": params, \"id\":1}\n",
    "    r = requests.post(url, headers=headers, data = json.dumps(data))\n",
    "    content = json.loads(r.content)\n",
    "    return content"
   ]
  },
  {
   "cell_type": "code",
   "execution_count": 3,
   "metadata": {},
   "outputs": [],
   "source": [
    "def getBlockNumber():\n",
    "    method = \"hmy_blockNumber\"\n",
    "    params = []\n",
    "    num = get_information(method, params)['result']\n",
    "    return int(num, 16)"
   ]
  },
  {
   "cell_type": "code",
   "execution_count": 4,
   "metadata": {},
   "outputs": [],
   "source": [
    "def getAllValidatorInformation():\n",
    "    method = 'hmy_getAllValidatorInformation'\n",
    "    params = [0]\n",
    "    return get_information(method, params)['result'] "
   ]
  },
  {
   "cell_type": "code",
   "execution_count": 5,
   "metadata": {},
   "outputs": [],
   "source": [
    "def getStakeAndRewards():\n",
    "    stake = dict()\n",
    "    reward = dict()\n",
    "    validator_infos = getAllValidatorInformation()\n",
    "    for i in validator_infos:\n",
    "        if i['currently-in-committee'] == True:\n",
    "            address = i['validator']['address']\n",
    "            reward_accumulated = i['lifetime']['reward-accumulated']\n",
    "            effective_stake = int(float(i['metrics']['total-effective-stake']))\n",
    "            stake[address] = effective_stake\n",
    "            reward[address] = reward_accumulated\n",
    "    return stake, reward"
   ]
  },
  {
   "cell_type": "code",
   "execution_count": 6,
   "metadata": {},
   "outputs": [],
   "source": [
    "def getRewards():\n",
    "    reward = dict()\n",
    "    validator_infos = getAllValidatorInformation()\n",
    "    for i in validator_infos:\n",
    "        if i['currently-in-committee'] == True:\n",
    "            address = i['validator']['address']\n",
    "            reward_accumulated = i['lifetime']['reward-accumulated']\n",
    "            reward[address] = reward_accumulated\n",
    "    return reward\n"
   ]
  },
  {
   "cell_type": "code",
   "execution_count": 7,
   "metadata": {},
   "outputs": [],
   "source": [
    "def diffAndFilter(map1, map2):\n",
    "    map3 = dict()\n",
    "    for k, v in map2.items():\n",
    "        if k in map1:\n",
    "            if v - map1[k] != 0:\n",
    "                map3[k] = v - map1[k]\n",
    "    return map3"
   ]
  },
  {
   "cell_type": "code",
   "execution_count": 8,
   "metadata": {},
   "outputs": [],
   "source": [
    "def R11_test():\n",
    "    print(\"Test-R11: Earning is proportional to effective stake \")\n",
    "    num = int(input(\"enter the number of blocks you want to test: \"))\n",
    "    \n",
    "    iterations = 0\n",
    "    while iterations < num:\n",
    "        print(\"test \" + str(iterations+1) + \" will begin ...\")\n",
    "        block = getBlockNumber()\n",
    "        print(\"current block number\", block, \"will begin testing\")\n",
    "        rewards = getRewards()\n",
    "\n",
    "        new_block = block + 1\n",
    "        while block < new_block:\n",
    "            block = getBlockNumber()\n",
    "        print(\"new block reached\", block, \"will calculate the reward per block\")\n",
    "        next_stakes, next_rewards = getStakeAndRewards()\n",
    "        reward_per_block = diffAndFilter(rewards, next_rewards)\n",
    "\n",
    "        new_block = block + 1\n",
    "        while block < new_block:\n",
    "            block = getBlockNumber()\n",
    "        print(\"new block reached\", block, \"will calculate the difference of reward per block and difference of effective stake\")\n",
    "        new_stakes, new_rewards = getStakeAndRewards()\n",
    "        reward_per_block_next = diffAndFilter(next_rewards, new_rewards)\n",
    "        reward_diff = diffAndFilter(reward_per_block, reward_per_block_next)\n",
    "\n",
    "        # get the validators whose effective stake changes\n",
    "        stake_diff = diffAndFilter(next_stakes, new_stakes)\n",
    "        if not stake_diff:\n",
    "            print(\"in this iteration, no validators change the effective stake\")\n",
    "    \n",
    "        for k,v in stake_diff.items():\n",
    "            if k in reward_diff:\n",
    "                if v > 0: \n",
    "                    if reward_diff[k] <= 0:\n",
    "                        print(\"Test-R11: Fail\")\n",
    "                        print(\"effective stake increase: \", stake_diff)\n",
    "                        print(\"reward per block doesn't increase: \", reward_diff)\n",
    "                    else:\n",
    "                        print(\"Test-R11: Success\")\n",
    "                if v < 0:\n",
    "                    if reward_diff[k] >= 0:\n",
    "                        print(\"Test-R11: Fail\")\n",
    "                        print(\"effective stake decrease: \", stake_diff)\n",
    "                        print(\"reward per block doesn't decrease: \", reward_diff)\n",
    "                    else:\n",
    "                        print(\"Test-R11: Success\")\n",
    "        \n",
    "        new_block = getBlockNumber()\n",
    "        while new_block == block:\n",
    "            new_block = getBlockNumber()\n",
    "        \n",
    "        iterations += 1        "
   ]
  },
  {
   "cell_type": "code",
   "execution_count": 9,
   "metadata": {},
   "outputs": [
    {
     "name": "stdout",
     "output_type": "stream",
     "text": [
      "Test-R11: Earning is proportional to effective stake \n",
      "enter the number of blocks you want to test: 3\n",
      "test 1 will begin ...\n",
      "current block number 5521 will begin testing\n",
      "new block reached 5522 will calculate the reward per block\n",
      "new block reached 5523 will calculate the difference of reward per block and difference of effective stake\n",
      "in this iteration, no validators change the effective stake\n",
      "test 2 will begin ...\n",
      "current block number 5524 will begin testing\n",
      "new block reached 5525 will calculate the reward per block\n",
      "new block reached 5526 will calculate the difference of reward per block and difference of effective stake\n",
      "in this iteration, no validators change the effective stake\n",
      "test 3 will begin ...\n",
      "current block number 5527 will begin testing\n",
      "new block reached 5528 will calculate the reward per block\n",
      "new block reached 5529 will calculate the difference of reward per block and difference of effective stake\n",
      "in this iteration, no validators change the effective stake\n"
     ]
    }
   ],
   "source": [
    "R11_test()"
   ]
  }
 ],
 "metadata": {
  "kernelspec": {
   "display_name": "Python 3",
   "language": "python",
   "name": "python3"
  },
  "language_info": {
   "codemirror_mode": {
    "name": "ipython",
    "version": 3
   },
   "file_extension": ".py",
   "mimetype": "text/x-python",
   "name": "python",
   "nbconvert_exporter": "python",
   "pygments_lexer": "ipython3",
   "version": "3.7.4"
  }
 },
 "nbformat": 4,
 "nbformat_minor": 2
}
