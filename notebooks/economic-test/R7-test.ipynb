{
 "cells": [
  {
   "cell_type": "code",
   "execution_count": 1,
   "metadata": {},
   "outputs": [],
   "source": [
    "import json\n",
    "import pandas as pd\n",
    "import numpy as np\n",
    "import time\n",
    "import requests"
   ]
  },
  {
   "cell_type": "code",
   "execution_count": 2,
   "metadata": {},
   "outputs": [],
   "source": [
    "def get_information(method, params):\n",
    "    url = 'https://api.s0.os.hmny.io/'\n",
    "    headers = {'Content-Type': 'application/json'}\n",
    "    data = {\"jsonrpc\":\"2.0\", \"method\": method, \"params\": params, \"id\":1}\n",
    "    r = requests.post(url, headers=headers, data = json.dumps(data))\n",
    "    content = json.loads(r.content)\n",
    "    return content"
   ]
  },
  {
   "cell_type": "code",
   "execution_count": 3,
   "metadata": {},
   "outputs": [],
   "source": [
    "def getBlockNumber():\n",
    "    method = \"hmy_blockNumber\"\n",
    "    params = []\n",
    "    num = get_information(method, params)['result']\n",
    "    return int(num, 16)"
   ]
  },
  {
   "cell_type": "code",
   "execution_count": 4,
   "metadata": {},
   "outputs": [],
   "source": [
    "def getAllValidatorInformation():\n",
    "    method = 'hmy_getAllValidatorInformation'\n",
    "    params = [-1]\n",
    "    return get_information(method, params)['result'] "
   ]
  },
  {
   "cell_type": "code",
   "execution_count": 5,
   "metadata": {},
   "outputs": [],
   "source": [
    "def getAdjustment():\n",
    "    method = 'hmy_getCurrentUtilityMetrics'\n",
    "    params = []\n",
    "    num = get_information(method, params)['result']['Adjustment']\n",
    "    return float(num)"
   ]
  },
  {
   "cell_type": "code",
   "execution_count": 6,
   "metadata": {},
   "outputs": [],
   "source": [
    "def getBlockSigners(blockNum):\n",
    "    method = 'hmy_getBlockSigners'\n",
    "    params = [blockNum]\n",
    "    return get_information(method, params)['result']"
   ]
  },
  {
   "cell_type": "code",
   "execution_count": 7,
   "metadata": {},
   "outputs": [],
   "source": [
    "def blockReward():\n",
    "    base_reward = 18e18\n",
    "    adjustment = getAdjustment()\n",
    "    block_reward = base_reward + adjustment\n",
    "    return block_reward"
   ]
  },
  {
   "cell_type": "code",
   "execution_count": 14,
   "metadata": {},
   "outputs": [],
   "source": [
    "def R7_test():\n",
    "    print(\"Test-R7: Sum of validator and delegator earning should match the block reward\")\n",
    "    num = int(input(\"enter the number of blocks you want to test: \"))\n",
    "    \n",
    "    current_block = getBlockNumber()\n",
    "    next_block = current_block + 1\n",
    "    print(\"current block\", current_block, \"next block\", next_block)\n",
    "    \n",
    "    acc_rewards_prev = dict()\n",
    "    delegations_prev = dict()\n",
    "    validator_infos = getAllValidatorInformation()\n",
    "    for i in validator_infos:\n",
    "        if i['currently-in-committee'] == True:\n",
    "            address = i['validator']['address']\n",
    "            reward_accumulated = i['lifetime']['reward-accumulated']\n",
    "            acc_rewards_prev[address] = reward_accumulated\n",
    "            ds = i['validator']['delegations']\n",
    "            dels = dict()\n",
    "            for d in ds:\n",
    "                d_addr = d['delegator-address']\n",
    "                d_reward = d['reward']\n",
    "                dels[d_addr] = d_reward\n",
    "            delegations_prev[address] = dels\n",
    "            \n",
    "    current_block = getBlockNumber()\n",
    "    while current_block < next_block:\n",
    "        current_block = getBlockNumber()\n",
    "    \n",
    "    iterations = 0\n",
    "    while iterations < num:\n",
    "        # get the validator info and compute validator rewards\n",
    "        acc_rewards_curr = dict()\n",
    "        delegations_curr = dict()\n",
    "        validator_infos = getAllValidatorInformation()\n",
    "        block_reward = blockReward()\n",
    "        validator_rewards = 0\n",
    "        total_reward = 0\n",
    "        signers = 0\n",
    "        for i in validator_infos:\n",
    "            if i['currently-in-committee'] == True:\n",
    "                signers = signers + 1\n",
    "                # block reward of the validator\n",
    "                shard_metrics = i['metrics']['by-shard']\n",
    "                validator_reward = 0\n",
    "                for by_shard in shard_metrics:\n",
    "                    validator_addr = by_shard['earning-account']\n",
    "                    by_shard_reward = block_reward * float(by_shard['overall-percent']) / 0.32\n",
    "                    validator_reward = validator_reward + by_shard_reward\n",
    "                \n",
    "                address = i['validator']['address']\n",
    "                reward_accumulated = i['lifetime']['reward-accumulated']\n",
    "                acc_rewards_curr[address] = reward_accumulated\n",
    "                reward = reward_accumulated\n",
    "                if address not in acc_rewards_prev:\n",
    "                    continue\n",
    "                reward = reward_accumulated - acc_rewards_prev[address]\n",
    "                # this reward should match sum of delegation rewards\n",
    "                ds = i['validator']['delegations']\n",
    "                del_rewards = 0\n",
    "                dels = delegations_prev[address]\n",
    "                for d in ds:\n",
    "                    d_addr = d['delegator-address']\n",
    "                    d_reward = d['reward']\n",
    "                    del_rewards = del_rewards + d_reward\n",
    "                    if d_addr in dels:\n",
    "                        del_rewards = del_rewards - dels[d_addr] \n",
    "                if del_rewards != reward:\n",
    "                    print(\"Test R7: Fail for validator\", address, \\\n",
    "                          \"expected block reward for validator\", validator_reward, \\\n",
    "                          \"validator block reward\", reward, \\\n",
    "                          \"delegation reward\", del_rewards)           \n",
    "        last_block = current_block\n",
    "        current_block = getBlockNumber()\n",
    "        while current_block == last_block:\n",
    "            current_block = getBlockNumber()\n",
    "        \n",
    "        acc_rewards_prev = acc_rewards_curr\n",
    "        delegations_prev = delegations_curr\n",
    "        \n",
    "        iterations = iterations + 1\n",
    "    print(\"done!\")"
   ]
  },
  {
   "cell_type": "code",
   "execution_count": 15,
   "metadata": {},
   "outputs": [
    {
     "name": "stdout",
     "output_type": "stream",
     "text": [
      "Test-R7: Sum of validator and delegator earning should match the block reward\n",
      "enter the number of blocks you want to test: 1\n",
      "current block 8503 next block 8504\n",
      "Test R7: Fail for validator one1dcmp24uqgwszcvmm8n6r5dvhqhuukdj86pkg6n expected block reward for validator 6.641137042492365e+18 validator block reward 5312909631315781488 delegation reward 5312909631315781496\n",
      "Test R7: Fail for validator one1a8avzz3hcvhfrh2tp7rdprpvwt838y9um9c2q7 expected block reward for validator 1.870992520269379e+18 validator block reward 3741985038652513226 delegation reward 3741985038652513230\n",
      "Test R7: Fail for validator one10qq0uqa4gvgdufqjph89pp7nj6yeatz94xdjrt expected block reward for validator 1.579362803042234e+18 validator block reward 1579362802246115339 delegation reward 1579362802246115341\n",
      "Test R7: Fail for validator one1rcv3chw86tprvhpw4fjnpy2gnvqy4gp4fmhdd9 expected block reward for validator 5.383450597355016e+18 validator block reward 5383450594641347986 delegation reward 5383450594641347988\n",
      "Test R7: Fail for validator one1u6c4wer2dkm767hmjeehnwu6tqqur62gx9vqsd expected block reward for validator 6.061836335317263e+18 validator block reward 6061836332261636392 delegation reward 6061836332261636400\n",
      "done!\n"
     ]
    }
   ],
   "source": [
    "R7_test()"
   ]
  },
  {
   "cell_type": "code",
   "execution_count": null,
   "metadata": {},
   "outputs": [],
   "source": []
  }
 ],
 "metadata": {
  "kernelspec": {
   "display_name": "Python 3",
   "language": "python",
   "name": "python3"
  },
  "language_info": {
   "codemirror_mode": {
    "name": "ipython",
    "version": 3
   },
   "file_extension": ".py",
   "mimetype": "text/x-python",
   "name": "python",
   "nbconvert_exporter": "python",
   "pygments_lexer": "ipython3",
   "version": "3.7.4"
  }
 },
 "nbformat": 4,
 "nbformat_minor": 2
}
