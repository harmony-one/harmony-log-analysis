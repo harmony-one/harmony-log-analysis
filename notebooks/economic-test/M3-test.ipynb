{
 "cells": [
  {
   "cell_type": "code",
   "execution_count": 1,
   "metadata": {},
   "outputs": [],
   "source": [
    "import json\n",
    "import pandas as pd\n",
    "import numpy as np\n",
    "import os\n",
    "import time\n",
    "import requests"
   ]
  },
  {
   "cell_type": "markdown",
   "metadata": {},
   "source": [
    "the median stake calcualtion should be applied to all the contested validators, who are eligible for elected next epoch.\n",
    "\n",
    "- before election, get the top 200 eligible nodes, and calculate the median;\n",
    "- after election, calculate the median for the elected node. both the two status:\n",
    "    - currently elected and signing enough blocks to be eligible for election next epoch\n",
    "    - currently elected and not signing enough blocks to be eligible for election next epoch"
   ]
  },
  {
   "cell_type": "markdown",
   "metadata": {},
   "source": [
    "challenge: in the same epoch, the delegation number will change, needs to get the median before the election (the last block in one epoch). However, when validator number increases, it's hard to get all the validator's stakes in 8 seconds (one block time)"
   ]
  },
  {
   "cell_type": "code",
   "execution_count": 2,
   "metadata": {},
   "outputs": [],
   "source": [
    "def get_information(method, params):\n",
    "    url = 'https://api.s0.os.hmny.io/'\n",
    "    headers = {'Content-Type': 'application/json'}\n",
    "    data = {\"jsonrpc\":\"2.0\", \"method\": method, \"params\": params, \"id\":1}\n",
    "    r = requests.post(url, headers=headers, data = json.dumps(data))\n",
    "    content = json.loads(r.content)\n",
    "    return content"
   ]
  },
  {
   "cell_type": "code",
   "execution_count": 3,
   "metadata": {},
   "outputs": [],
   "source": [
    "def getBlockNumber():\n",
    "    method = \"hmy_blockNumber\"\n",
    "    params = []\n",
    "    num = get_information(method, params)['result']\n",
    "    return int(num, 16)"
   ]
  },
  {
   "cell_type": "code",
   "execution_count": 4,
   "metadata": {},
   "outputs": [],
   "source": [
    "def getLastBlockOfCurrentEpoch():\n",
    "    method = 'hmy_getStakingNetworkInfo'\n",
    "    params = []\n",
    "    return get_information(method, params)['result']['epoch-last-block']"
   ]
  },
  {
   "cell_type": "code",
   "execution_count": 5,
   "metadata": {},
   "outputs": [],
   "source": [
    "def getAllValidatorInformation():\n",
    "    method = 'hmy_getAllValidatorInformation'\n",
    "    params = [0]\n",
    "    return get_information(method, params)['result']"
   ]
  },
  {
   "cell_type": "code",
   "execution_count": 6,
   "metadata": {},
   "outputs": [],
   "source": [
    "def getEposMedian():\n",
    "    method = \"hmy_getMedianRawStakeSnapshot\"\n",
    "    params = []\n",
    "    return float(get_information(method, params)['result']['epos-median-stake'])"
   ]
  },
  {
   "cell_type": "code",
   "execution_count": 7,
   "metadata": {},
   "outputs": [],
   "source": [
    "def get_median(lst):\n",
    "    n = len(lst) \n",
    "    lst.sort() \n",
    "    if n % 2 == 0: \n",
    "        median1 = lst[n//2] \n",
    "        median2 = lst[n//2 - 1] \n",
    "        median = (median1 + median2)/2\n",
    "    else: \n",
    "        median = lst[n//2] \n",
    "    return median"
   ]
  },
  {
   "cell_type": "code",
   "execution_count": 8,
   "metadata": {},
   "outputs": [],
   "source": [
    "def M3_test():\n",
    "    print(\"Test-M3: Median function stability: run median computation for x number of epoch to verify stability\")\n",
    "    num = int(input(\"enter the number of epoches you want to test: \"))\n",
    "    # reach the last block in current epoch to get the eligible validator address\n",
    "    \n",
    "    iterations = 0\n",
    "    while iterations < num:\n",
    "        print(str(iterations+1) + \"iteration will begin ...\")\n",
    "        block = getBlockNumber()\n",
    "        last_block = getLastBlockOfCurrentEpoch()\n",
    "        print(\"current and last block numbers\", block, last_block)\n",
    "        print(\"wait until the new epoch begins at block number ...\", last_block + 1)\n",
    "        block = getBlockNumber()\n",
    "        while block < last_block:\n",
    "            block = getBlockNumber()\n",
    "\n",
    "        new_epoch_block = block + 1\n",
    "        while block < new_epoch_block:\n",
    "            block = getBlockNumber()\n",
    "        print(\"new epoch first block reached\", new_epoch_block, \"will begin testing\")\n",
    "\n",
    "        # get the median from rpc call\n",
    "        median = getEposMedian()\n",
    "        # calculate the median manually\n",
    "        validator_infos = getAllValidatorInformation()\n",
    "        stake = []\n",
    "        for i in validator_infos:\n",
    "            stake.append(i['total-delegation'])\n",
    "        cal_median = float(get_median(stake))\n",
    "        # compare the calculated median and rpc median\n",
    "        if cal_median != median:\n",
    "            print(\"Test-M3: Fail\")\n",
    "            print(\"manually calculated median stake: \" + str(cal_median))\n",
    "            print(\"harmony apr call median stake: \" + str(median))\n",
    "        else:\n",
    "            print(\"Test-M3: Success\")\n",
    "        iterations += 1    "
   ]
  },
  {
   "cell_type": "code",
   "execution_count": 10,
   "metadata": {},
   "outputs": [
    {
     "name": "stdout",
     "output_type": "stream",
     "text": [
      "Test-M3: Median function stability: run median computation for x number of epoch to verify stability\n",
      "enter the number of epoches you want to test: 2\n",
      "1iteration will begin ...\n",
      "current and last block numbers 5514 5547\n",
      "wait until the new epoch begins at block number ... 5548\n",
      "new epoch first block reached 5548 will begin testing\n",
      "Test-M3: Fail\n",
      "manually calculated median stake: 2.1e+23\n",
      "harmony apr call median stake: 2.04944e+23\n",
      "2iteration will begin ...\n",
      "current and last block numbers 5548 5585\n",
      "wait until the new epoch begins at block number ... 5586\n",
      "new epoch first block reached 5586 will begin testing\n",
      "Test-M3: Fail\n",
      "manually calculated median stake: 2.079995e+23\n",
      "harmony apr call median stake: 1.99888e+23\n"
     ]
    }
   ],
   "source": [
    "M3_test()"
   ]
  }
 ],
 "metadata": {
  "kernelspec": {
   "display_name": "Python 3",
   "language": "python",
   "name": "python3"
  },
  "language_info": {
   "codemirror_mode": {
    "name": "ipython",
    "version": 3
   },
   "file_extension": ".py",
   "mimetype": "text/x-python",
   "name": "python",
   "nbconvert_exporter": "python",
   "pygments_lexer": "ipython3",
   "version": "3.7.4"
  }
 },
 "nbformat": 4,
 "nbformat_minor": 2
}
