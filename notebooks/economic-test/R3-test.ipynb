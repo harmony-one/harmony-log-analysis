{
 "cells": [
  {
   "cell_type": "code",
   "execution_count": 14,
   "metadata": {},
   "outputs": [],
   "source": [
    "import json\n",
    "import pandas as pd\n",
    "import numpy as np\n",
    "import time\n",
    "import requests"
   ]
  },
  {
   "cell_type": "code",
   "execution_count": 15,
   "metadata": {},
   "outputs": [],
   "source": [
    "def get_information(method, params):\n",
    "    url = 'https://api.s0.os.hmny.io/'\n",
    "    headers = {'Content-Type': 'application/json'}\n",
    "    data = {\"jsonrpc\":\"2.0\", \"method\": method, \"params\": params, \"id\":1}\n",
    "    r = requests.post(url, headers=headers, data = json.dumps(data))\n",
    "    content = json.loads(r.content)\n",
    "    return content"
   ]
  },
  {
   "cell_type": "code",
   "execution_count": 16,
   "metadata": {},
   "outputs": [],
   "source": [
    "def getBlockNumber():\n",
    "    method = \"hmy_blockNumber\"\n",
    "    params = []\n",
    "    num = get_information(method, params)['result']\n",
    "    return int(num, 16)"
   ]
  },
  {
   "cell_type": "code",
   "execution_count": 17,
   "metadata": {},
   "outputs": [],
   "source": [
    "def getAllValidatorInformation():\n",
    "    method = 'hmy_getAllValidatorInformation'\n",
    "    params = [-1]\n",
    "    return get_information(method, params)['result'] "
   ]
  },
  {
   "cell_type": "code",
   "execution_count": 18,
   "metadata": {},
   "outputs": [],
   "source": [
    "def getLastBlockOfCurrentEpoch():\n",
    "    method = 'hmy_getStakingNetworkInfo'\n",
    "    params = []\n",
    "    return get_information(method, params)['result']['epoch-last-block']"
   ]
  },
  {
   "cell_type": "code",
   "execution_count": 19,
   "metadata": {},
   "outputs": [],
   "source": [
    "def getStakeAndRewards():\n",
    "    stake = dict()\n",
    "    reward = dict()\n",
    "    validator_infos = getAllValidatorInformation()\n",
    "    for i in validator_infos:\n",
    "        if i['currently-in-committee'] == True:\n",
    "            address = i['validator']['address']\n",
    "            reward_accumulated = i['lifetime']['reward-accumulated']\n",
    "            effective_stake = int(float(i['metrics']['total-effective-stake']))\n",
    "            stake[address] = effective_stake\n",
    "            reward[address] = reward_accumulated\n",
    "    return stake, reward"
   ]
  },
  {
   "cell_type": "code",
   "execution_count": 20,
   "metadata": {},
   "outputs": [],
   "source": [
    "def getRewards():\n",
    "    reward = dict()\n",
    "    validator_infos = getAllValidatorInformation()\n",
    "    for i in validator_infos:\n",
    "        if i['currently-in-committee'] == True:\n",
    "            address = i['validator']['address']\n",
    "            reward_accumulated = i['lifetime']['reward-accumulated']\n",
    "            reward[address] = reward_accumulated\n",
    "    return reward"
   ]
  },
  {
   "cell_type": "code",
   "execution_count": 21,
   "metadata": {},
   "outputs": [],
   "source": [
    "def diffAndFilter(map1, map2):\n",
    "    map3 = dict()\n",
    "    for k, v in map2.items():\n",
    "        if k in map1:\n",
    "            map3[k] = v - map1[k]\n",
    "    return map3"
   ]
  },
  {
   "cell_type": "code",
   "execution_count": 22,
   "metadata": {},
   "outputs": [],
   "source": [
    "def mapFilter(map1, map2):\n",
    "    map3 = dict()\n",
    "    for k, v in map1.items():\n",
    "        if k in map2:\n",
    "            map3[k] = v\n",
    "    return map3"
   ]
  },
  {
   "cell_type": "code",
   "execution_count": 23,
   "metadata": {},
   "outputs": [],
   "source": [
    "def identical(l1, l2):\n",
    "    return l1 == l2"
   ]
  },
  {
   "cell_type": "code",
   "execution_count": 24,
   "metadata": {},
   "outputs": [],
   "source": [
    "def extract(lst): \n",
    "    return [item[0] for item in lst] "
   ]
  },
  {
   "cell_type": "code",
   "execution_count": 25,
   "metadata": {},
   "outputs": [],
   "source": [
    "def R3_test():\n",
    "    print(\"Test-R3: High stakers earn more reward than low stakers\")\n",
    "    num = int(input(\"enter the number of blocks you want to test: \"))\n",
    "    \n",
    "    block = getBlockNumber()\n",
    "    last_block = getLastBlockOfCurrentEpoch()\n",
    "    print(\"current and last block numbers\", block, last_block)\n",
    "    while block < last_block:\n",
    "        block = getBlockNumber()\n",
    "        \n",
    "    new_epoch_block = block + 1\n",
    "    while block < new_epoch_block:\n",
    "        block = getBlockNumber()\n",
    "    \n",
    "    print(\"new epoch first block reached\", new_epoch_block, \"will begin testing\")\n",
    "    new_epoch_block = block + 1\n",
    "    \n",
    "    stakes, rewards = getStakeAndRewards()\n",
    "    sorted_stakes = sorted(stakes.items(), key=lambda kv: kv[1], reverse = True)\n",
    "    sorted_rewards = sorted(rewards.items(), key=lambda kv: kv[1], reverse = True)\n",
    "    \n",
    "    print(\"obtained first block stakes and rewards\", \"total stakes found=\", \\\n",
    "          len(stakes), \"total rewards found=\", len(rewards))\n",
    "    \n",
    "    while block < new_epoch_block:\n",
    "        block = getBlockNumber()\n",
    "        \n",
    "    print(\"new epoch second block reached\", block, \"will begin comparing stakes and rewards\")  \n",
    "\n",
    "    iterations = 0\n",
    "    while iterations < num:\n",
    "        new_rewards = getRewards()\n",
    "        last_block = block\n",
    "        current_block = last_block\n",
    "        reward_diffs = diffAndFilter(rewards, new_rewards)\n",
    "        latest_stakes = mapFilter(stakes, new_rewards)\n",
    "        sorted_stakes = sorted(latest_stakes.items(), key=lambda kv: kv[1], reverse = True)\n",
    "        sorted_reward_diffs = sorted(reward_diffs.items(), key=lambda kv: kv[1], reverse = True)\n",
    "        stake_keys = extract(sorted_stakes)\n",
    "        reward_keys = extract(sorted_reward_diffs)\n",
    "        print(\"comparison to begin, two lengths:\", len(latest_stakes), len(sorted_rewards))\n",
    "        if identical(stake_keys, reward_keys) == False:\n",
    "            print(\"Test-R3: Fail\")\n",
    "            print(\"validators sorted by stakes: \", stake_keys)\n",
    "            print(\"validators sorted by reward: \", reward_keys)\n",
    "        else:\n",
    "            print(\"Test-R3: Success\")\n",
    "            \n",
    "        last_block = current_block\n",
    "        current_block = getBlockNumber()\n",
    "        while current_block == last_block:\n",
    "            current_block = getBlockNumber()\n",
    "        \n",
    "        new_rewards = getRewards()\n",
    "        iterations = iterations + 1"
   ]
  },
  {
   "cell_type": "code",
   "execution_count": 26,
   "metadata": {},
   "outputs": [
    {
     "name": "stdout",
     "output_type": "stream",
     "text": [
      "Test-R3: High stakers earn more reward than low stakers\n",
      "enter the number of blocks you want to test: 1\n",
      "current and last block numbers 1549 1557\n",
      "new epoch first block reached 1558 will begin testing\n",
      "obtained first block stakes and rewards total stakes found= 31 total rewards found= 31\n",
      "new epoch second block reached 1559 will begin comparing stakes and rewards\n",
      "comparison to begin, two lengths: 31 31\n",
      "Test-R3: Fail\n",
      "validators sorted by stakes:  ['one1rcv3chw86tprvhpw4fjnpy2gnvqy4gp4fmhdd9', 'one1tpxl87y4g8ecsm6ceqay49qxyl5vs94jjyfvd9', 'one1r55rwumsrm6w3d20uhaa3hm4rxr442k0qx9gj8', 'one1s7fp0jrmd97estwye3mhkp7xsqf42vn5x2sfqy', 'one1dcmp24uqgwszcvmm8n6r5dvhqhuukdj86pkg6n', 'one1ha4zg6xstkpmvvg87eghtg93u0exvzs3kl0ew0', 'one1y5n7p8a845v96xyx2gh75wn5eyhtw5002lah27', 'one170xqsfzm4xdmuyax54t5pvtp5l5yt66u50ctrp', 'one1gjsxmewzws9mt3fn65jmdhr3e4hel9xza8wd6t', 'one1wz9fmjrwua3le0c8qxv058p3wpdg4ctjyc3ha4', 'one1la07f5wduc3379ffzlpqrl4rcvlchyvtwf3uyj', 'one10jvjrtwpz2sux2ngktg3kq7m3sdz5p5au5l8c8', 'one1gm8xwupd9e77ja46eaxv8tk4ea7re5zknaauvq', 'one1ekup98s5tqxtr5hdzsz664cfy579jpq6w5smrr', 'one1mpzx5wr2kmz9nvkhsgj6jr6zs87ahm0gxmhlck', 'one1k9577lnpfx7z76zslc6r8gdmsp5kqgpll7cpk9', 'one1c9h3u72czs6sk755tjyse7x5t70m38ppnkx922', 'one1m6j80t6rhc3ypaumtsfmqwjwp0mrqk9ff50prh', 'one10fjqteq6q75nm62cx8vejqsk7mc8t5hle8ewnl', 'one1vzsj3julf0ljcj3hhxuqpu6zvadu488zfrtttz', 'one1marnnvc8hywmfxhrc8mtpjkvvdt32x9kxtwkvv', 'one1km7xg8e3xjys7azp9f4xp8hkw79vm2h3f2lade', 'one1zsvnf4nf69rmndakfeslypas5j6zc9zxhg3csf', 'one1rn8yvmhq6eztp7qcfwndna70e3a7mwa8n08kev', 'one1p5hv9qv90dyrag9fj3wzrvvrs273ypcq8mz7zn', 'one1leh5rmuclw5u68gw07d86kqxjd69zuny3h23c3', 'one1awswe9xrx5rcjxvtdd6lwta9py2t09g6cet05h', 'one1a8avzz3hcvhfrh2tp7rdprpvwt838y9um9c2q7', 'one15qd66tgarr6pyuh2z8m23q0gc6v2sgepeatekx', 'one1egemh5e9xjy3x8d3cq0kq7mw4sw4jjwgkc7axs', 'one1k8k00qfy26qpqst0xaadxqz0zh65k94d04f59y']\n",
      "validators sorted by reward:  ['one1rcv3chw86tprvhpw4fjnpy2gnvqy4gp4fmhdd9', 'one1s7fp0jrmd97estwye3mhkp7xsqf42vn5x2sfqy', 'one1tpxl87y4g8ecsm6ceqay49qxyl5vs94jjyfvd9', 'one1y5n7p8a845v96xyx2gh75wn5eyhtw5002lah27', 'one1r55rwumsrm6w3d20uhaa3hm4rxr442k0qx9gj8', 'one1gjsxmewzws9mt3fn65jmdhr3e4hel9xza8wd6t', 'one1dcmp24uqgwszcvmm8n6r5dvhqhuukdj86pkg6n', 'one1ha4zg6xstkpmvvg87eghtg93u0exvzs3kl0ew0', 'one1la07f5wduc3379ffzlpqrl4rcvlchyvtwf3uyj', 'one170xqsfzm4xdmuyax54t5pvtp5l5yt66u50ctrp', 'one1mpzx5wr2kmz9nvkhsgj6jr6zs87ahm0gxmhlck', 'one1c9h3u72czs6sk755tjyse7x5t70m38ppnkx922', 'one1wz9fmjrwua3le0c8qxv058p3wpdg4ctjyc3ha4', 'one15qd66tgarr6pyuh2z8m23q0gc6v2sgepeatekx', 'one1vzsj3julf0ljcj3hhxuqpu6zvadu488zfrtttz', 'one1km7xg8e3xjys7azp9f4xp8hkw79vm2h3f2lade', 'one1rn8yvmhq6eztp7qcfwndna70e3a7mwa8n08kev', 'one1k8k00qfy26qpqst0xaadxqz0zh65k94d04f59y', 'one10fjqteq6q75nm62cx8vejqsk7mc8t5hle8ewnl', 'one1zsvnf4nf69rmndakfeslypas5j6zc9zxhg3csf', 'one1awswe9xrx5rcjxvtdd6lwta9py2t09g6cet05h', 'one10jvjrtwpz2sux2ngktg3kq7m3sdz5p5au5l8c8', 'one1k9577lnpfx7z76zslc6r8gdmsp5kqgpll7cpk9', 'one1gm8xwupd9e77ja46eaxv8tk4ea7re5zknaauvq', 'one1ekup98s5tqxtr5hdzsz664cfy579jpq6w5smrr', 'one1leh5rmuclw5u68gw07d86kqxjd69zuny3h23c3', 'one1marnnvc8hywmfxhrc8mtpjkvvdt32x9kxtwkvv', 'one1a8avzz3hcvhfrh2tp7rdprpvwt838y9um9c2q7', 'one1egemh5e9xjy3x8d3cq0kq7mw4sw4jjwgkc7axs', 'one1m6j80t6rhc3ypaumtsfmqwjwp0mrqk9ff50prh', 'one1p5hv9qv90dyrag9fj3wzrvvrs273ypcq8mz7zn']\n"
     ]
    }
   ],
   "source": [
    "R3_test()"
   ]
  },
  {
   "cell_type": "code",
   "execution_count": null,
   "metadata": {},
   "outputs": [],
   "source": []
  },
  {
   "cell_type": "code",
   "execution_count": null,
   "metadata": {},
   "outputs": [],
   "source": []
  }
 ],
 "metadata": {
  "kernelspec": {
   "display_name": "Python 3",
   "language": "python",
   "name": "python3"
  },
  "language_info": {
   "codemirror_mode": {
    "name": "ipython",
    "version": 3
   },
   "file_extension": ".py",
   "mimetype": "text/x-python",
   "name": "python",
   "nbconvert_exporter": "python",
   "pygments_lexer": "ipython3",
   "version": "3.7.4"
  }
 },
 "nbformat": 4,
 "nbformat_minor": 2
}
