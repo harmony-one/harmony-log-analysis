{
 "cells": [
  {
   "cell_type": "code",
   "execution_count": 10,
   "metadata": {},
   "outputs": [],
   "source": [
    "import json\n",
    "import pandas as pd\n",
    "import numpy as np\n",
    "import time\n",
    "import requests"
   ]
  },
  {
   "cell_type": "code",
   "execution_count": 11,
   "metadata": {},
   "outputs": [],
   "source": [
    "def get_information(method, params):\n",
    "    url = 'https://api.s0.os.hmny.io/'\n",
    "    headers = {'Content-Type': 'application/json'}\n",
    "    data = {\"jsonrpc\":\"2.0\", \"method\": method, \"params\": params, \"id\":1}\n",
    "    r = requests.post(url, headers=headers, data = json.dumps(data))\n",
    "    content = json.loads(r.content)\n",
    "    return content"
   ]
  },
  {
   "cell_type": "code",
   "execution_count": 12,
   "metadata": {},
   "outputs": [],
   "source": [
    "def getBlockNumber():\n",
    "    method = \"hmy_blockNumber\"\n",
    "    params = []\n",
    "    num = get_information(method, params)['result']\n",
    "    return int(num, 16)"
   ]
  },
  {
   "cell_type": "code",
   "execution_count": 13,
   "metadata": {},
   "outputs": [],
   "source": [
    "def getAllValidatorInformation():\n",
    "    method = 'hmy_getAllValidatorInformation'\n",
    "    params = [-1]\n",
    "    return get_information(method, params)['result'] "
   ]
  },
  {
   "cell_type": "code",
   "execution_count": 14,
   "metadata": {},
   "outputs": [],
   "source": [
    "def getLastBlockOfCurrentEpoch():\n",
    "    method = 'hmy_getStakingNetworkInfo'\n",
    "    params = []\n",
    "    return get_information(method, params)['result']['epoch-last-block']"
   ]
  },
  {
   "cell_type": "code",
   "execution_count": 15,
   "metadata": {},
   "outputs": [],
   "source": [
    "def getStakeAndRewards():\n",
    "    stakes = dict()\n",
    "    rewards = dict()\n",
    "    shards = dict()\n",
    "    validator_infos = getAllValidatorInformation()\n",
    "    for i in validator_infos:\n",
    "        if i['currently-in-committee'] == True:\n",
    "            address = i['validator']['address']\n",
    "            reward_accumulated = i['lifetime']['reward-accumulated']\n",
    "            rewards[address] = reward_accumulated\n",
    "            by_shard_metrics = i['metrics']['by-bls-key']\n",
    "            v_stakes = dict()\n",
    "            v_shards = dict()\n",
    "            for by_shard_metric in by_shard_metrics:\n",
    "                bls_key = by_shard_metric['key']['bls-public-key']\n",
    "                e_stake = float(by_shard_metric['key']['effective-stake'])\n",
    "                shard_id = by_shard_metric['key']['shard-id']\n",
    "                v_stakes[bls_key] = e_stake\n",
    "                v_shards[bls_key] = shard_id\n",
    "            stakes[address] = v_stakes\n",
    "            shards[address] = v_shards\n",
    "    return rewards, stakes, shards"
   ]
  },
  {
   "cell_type": "code",
   "execution_count": 16,
   "metadata": {},
   "outputs": [],
   "source": [
    "def getRewards():\n",
    "    rewards = dict()\n",
    "    validator_infos = getAllValidatorInformation()\n",
    "    for i in validator_infos:\n",
    "        if i['currently-in-committee'] == True:\n",
    "            address = i['validator']['address']\n",
    "            reward_accumulated = i['lifetime']['reward-accumulated']\n",
    "            rewards[address] = reward_accumulated\n",
    "    return rewards"
   ]
  },
  {
   "cell_type": "code",
   "execution_count": 17,
   "metadata": {},
   "outputs": [],
   "source": [
    "def proportional(l1, l2):\n",
    "    return l1 == l2"
   ]
  },
  {
   "cell_type": "code",
   "execution_count": 18,
   "metadata": {},
   "outputs": [],
   "source": [
    "def extract(lst): \n",
    "    return [item[0] for item in lst] "
   ]
  },
  {
   "cell_type": "code",
   "execution_count": 22,
   "metadata": {},
   "outputs": [],
   "source": [
    "def check(lst1, lst2):\n",
    "    keys1 = [item[0] for item in lst1]\n",
    "    keys2 = [item[0] for item in lst2]\n",
    "    stakes = [item[1] for item in lst1]\n",
    "    rewards = [item[1] for item in lst2]\n",
    "    l = len(keys1)\n",
    "    i = 0\n",
    "    j = 0\n",
    "    while i < l:\n",
    "        if keys1[i] == keys1[i]:\n",
    "            i = i + 1\n",
    "        else:\n",
    "            stake = stakes[i]\n",
    "            reward = rewards[i]\n",
    "            i1 = i\n",
    "            i2 = i\n",
    "            j = i\n",
    "            while stakes[i1] == stake:\n",
    "                i1 = i1 + 1\n",
    "            while rewards[i2] == reward:\n",
    "                i2 = i2 + 1\n",
    "            if i1 != i2:\n",
    "                return False\n",
    "            while i < i1:\n",
    "                k = j\n",
    "                found = False\n",
    "                while k < i2:\n",
    "                    if keys1[i] == keys2[k]:\n",
    "                        found = True\n",
    "                        break\n",
    "                    k = k + 1\n",
    "                if found == False:\n",
    "                    return False\n",
    "                i = i + 1\n",
    "            i = i1\n",
    "     \n",
    "    return True   "
   ]
  },
  {
   "cell_type": "code",
   "execution_count": 23,
   "metadata": {},
   "outputs": [],
   "source": [
    "def R3_test():\n",
    "    print(\"Test-R3: High stakers earn more reward than low stakers\")\n",
    "    num = int(input(\"enter the number of blocks you want to test: \"))\n",
    "    \n",
    "    block = getBlockNumber()\n",
    "    last_block = getLastBlockOfCurrentEpoch()\n",
    "    print(\"current and last block numbers\", block, last_block)\n",
    "    while block < last_block:\n",
    "        block = getBlockNumber()\n",
    "        \n",
    "    new_epoch_block = block + 2 # first block is problematic, hence going for second.\n",
    "    while block < new_epoch_block:\n",
    "        block = getBlockNumber()\n",
    "    \n",
    "    print(\"new epoch first block reached\", new_epoch_block, \"will begin testing\")\n",
    "    new_epoch_block = block + 1\n",
    "    \n",
    "    rewards, stakes, shards = getStakeAndRewards()\n",
    "    \n",
    "    print(\"obtained first block stakes and rewards\", \"total stakes found=\", \\\n",
    "          len(stakes), \"total rewards found=\", len(rewards))\n",
    "    \n",
    "    while block < new_epoch_block:\n",
    "        block = getBlockNumber()\n",
    "        \n",
    "    print(\"new epoch second block reached\", block, \"will begin comparing stakes and rewards\")  \n",
    "\n",
    "    iterations = 0\n",
    "    while iterations < num:\n",
    "        new_rewards = getRewards()\n",
    "        last_block = block\n",
    "        current_block = last_block\n",
    "        \n",
    "        key_to_stake = dict()\n",
    "        key_to_reward = dict()\n",
    "        key_to_shard = dict()\n",
    "        for addr, reward in new_rewards.items():\n",
    "            if addr in rewards and addr in stakes and addr in shards:\n",
    "                addr_reward = reward - rewards[addr]\n",
    "                slots = len(stakes[addr])\n",
    "                per_slot_reward = addr_reward / slots\n",
    "                for key, stake in stakes[addr].items():\n",
    "                    key_to_reward[key] = per_slot_reward\n",
    "                    if key in stakes[addr]:\n",
    "                        key_to_stake[key] = stakes[addr][key]\n",
    "                    if key in shards[addr]:\n",
    "                        key_to_shard[key] = shards[addr][key]\n",
    "        \n",
    "        shard_rewards = dict()\n",
    "        shard_stakes = dict()\n",
    "        for key, shard in key_to_shard.items():\n",
    "            if shard not in shard_stakes:\n",
    "                shard_stakes[shard] = dict()\n",
    "            if shard not in shard_rewards:\n",
    "                shard_rewards[shard] = dict()\n",
    "            shard_stakes[shard][key] = key_to_stake[key]\n",
    "            shard_rewards[shard][key] = key_to_reward[key]\n",
    "            \n",
    "        for shard in shard_rewards.keys():\n",
    "            sorted_stakes = sorted(shard_stakes[shard].items(), key=lambda kv: kv[1], reverse = True)\n",
    "            sorted_rewards = sorted(shard_rewards[shard].items(), key=lambda kv: kv[1], reverse = True)\n",
    "            stake_keys = extract(sorted_stakes)\n",
    "            reward_keys = extract(sorted_rewards)\n",
    "            print(\"comparison to begin, two lengths:\", len(stake_keys), len(reward_keys))\n",
    "            if check(sorted_stakes, sorted_rewards) == False:\n",
    "                print(\"Test-R3: on shard\", shard, \"failed\")\n",
    "                print(\"validators sorted by stakes: \", stake_keys)\n",
    "                print(\"validators sorted by reward: \", reward_keys)\n",
    "            else:\n",
    "                print(\"Test-R3: on shard: \", shard, \"succeeded\")\n",
    "            \n",
    "        last_block = current_block\n",
    "        current_block = getBlockNumber()\n",
    "        while current_block == last_block:\n",
    "            current_block = getBlockNumber()\n",
    "        \n",
    "        rewards = new_rewards\n",
    "        iterations = iterations + 1\n",
    "        if current_block > last_block:\n",
    "            break"
   ]
  },
  {
   "cell_type": "code",
   "execution_count": 24,
   "metadata": {},
   "outputs": [
    {
     "name": "stdout",
     "output_type": "stream",
     "text": [
      "Test-R3: High stakers earn more reward than low stakers\n",
      "enter the number of blocks you want to test: 1\n",
      "current and last block numbers 12273 12273\n",
      "new epoch first block reached 12275 will begin testing\n",
      "obtained first block stakes and rewards total stakes found= 112 total rewards found= 112\n",
      "new epoch second block reached 12276 will begin comparing stakes and rewards\n",
      "comparison to begin, two lengths: 64 64\n",
      "Test-R3: on shard:  0 succeeded\n",
      "comparison to begin, two lengths: 45 45\n",
      "Test-R3: on shard:  1 succeeded\n",
      "comparison to begin, two lengths: 43 43\n",
      "Test-R3: on shard:  2 succeeded\n",
      "comparison to begin, two lengths: 40 40\n",
      "Test-R3: on shard:  3 succeeded\n"
     ]
    }
   ],
   "source": [
    "R3_test()"
   ]
  },
  {
   "cell_type": "code",
   "execution_count": null,
   "metadata": {},
   "outputs": [],
   "source": []
  },
  {
   "cell_type": "code",
   "execution_count": null,
   "metadata": {},
   "outputs": [],
   "source": []
  }
 ],
 "metadata": {
  "kernelspec": {
   "display_name": "Python 3",
   "language": "python",
   "name": "python3"
  },
  "language_info": {
   "codemirror_mode": {
    "name": "ipython",
    "version": 3
   },
   "file_extension": ".py",
   "mimetype": "text/x-python",
   "name": "python",
   "nbconvert_exporter": "python",
   "pygments_lexer": "ipython3",
   "version": "3.7.4"
  }
 },
 "nbformat": 4,
 "nbformat_minor": 2
}
