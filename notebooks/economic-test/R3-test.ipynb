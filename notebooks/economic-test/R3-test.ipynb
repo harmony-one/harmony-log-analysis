{
 "cells": [
  {
   "cell_type": "code",
   "execution_count": 47,
   "metadata": {},
   "outputs": [],
   "source": [
    "import json\n",
    "import pandas as pd\n",
    "import numpy as np\n",
    "import time\n",
    "import requests"
   ]
  },
  {
   "cell_type": "code",
   "execution_count": 48,
   "metadata": {},
   "outputs": [],
   "source": [
    "def get_information(method, params):\n",
    "    url = 'https://api.s0.os.hmny.io/'\n",
    "    headers = {'Content-Type': 'application/json'}\n",
    "    data = {\"jsonrpc\":\"2.0\", \"method\": method, \"params\": params, \"id\":1}\n",
    "    r = requests.post(url, headers=headers, data = json.dumps(data))\n",
    "    content = json.loads(r.content)\n",
    "    return content"
   ]
  },
  {
   "cell_type": "code",
   "execution_count": 49,
   "metadata": {},
   "outputs": [],
   "source": [
    "def getBlockNumber():\n",
    "    method = \"hmy_blockNumber\"\n",
    "    params = []\n",
    "    num = get_information(method, params)['result']\n",
    "    return int(num, 16)"
   ]
  },
  {
   "cell_type": "code",
   "execution_count": 50,
   "metadata": {},
   "outputs": [],
   "source": [
    "def getAllValidatorInformation():\n",
    "    method = 'hmy_getAllValidatorInformation'\n",
    "    params = [-1]\n",
    "    return get_information(method, params)['result'] "
   ]
  },
  {
   "cell_type": "code",
   "execution_count": 51,
   "metadata": {},
   "outputs": [],
   "source": [
    "def getLastBlockOfCurrentEpoch():\n",
    "    method = 'hmy_getStakingNetworkInfo'\n",
    "    params = []\n",
    "    return get_information(method, params)['result']['epoch-last-block']"
   ]
  },
  {
   "cell_type": "code",
   "execution_count": 52,
   "metadata": {},
   "outputs": [],
   "source": [
    "def getStakeAndRewards():\n",
    "    stakes = dict()\n",
    "    rewards = dict()\n",
    "    shards = dict()\n",
    "    validator_infos = getAllValidatorInformation()\n",
    "    for i in validator_infos:\n",
    "        if i['currently-in-committee'] == True:\n",
    "            address = i['validator']['address']\n",
    "            reward_accumulated = i['lifetime']['reward-accumulated']\n",
    "            rewards[address] = reward_accumulated\n",
    "            by_shard_metrics = i['metrics']['by-bls-key']\n",
    "            v_stakes = dict()\n",
    "            v_shards = dict()\n",
    "            for by_shard_metric in by_shard_metrics:\n",
    "                bls_key = by_shard_metric['key']['bls-public-key']\n",
    "                e_stake = float(by_shard_metric['key']['effective-stake'])\n",
    "                shard_id = by_shard_metric['key']['shard-id']\n",
    "                v_stakes[bls_key] = e_stake\n",
    "                v_shards[bls_key] = shard_id\n",
    "            stakes[address] = v_stakes\n",
    "            shards[address] = v_shards\n",
    "    return rewards, stakes, shards"
   ]
  },
  {
   "cell_type": "code",
   "execution_count": 53,
   "metadata": {},
   "outputs": [],
   "source": [
    "def getRewards():\n",
    "    rewards = dict()\n",
    "    validator_infos = getAllValidatorInformation()\n",
    "    for i in validator_infos:\n",
    "        if i['currently-in-committee'] == True:\n",
    "            address = i['validator']['address']\n",
    "            reward_accumulated = i['lifetime']['reward-accumulated']\n",
    "            rewards[address] = reward_accumulated\n",
    "    return rewards"
   ]
  },
  {
   "cell_type": "code",
   "execution_count": 54,
   "metadata": {},
   "outputs": [],
   "source": [
    "def proportional(l1, l2):\n",
    "    return l1 == l2"
   ]
  },
  {
   "cell_type": "code",
   "execution_count": 55,
   "metadata": {},
   "outputs": [],
   "source": [
    "def extract(lst): \n",
    "    return [item[0] for item in lst] "
   ]
  },
  {
   "cell_type": "code",
   "execution_count": 56,
   "metadata": {},
   "outputs": [],
   "source": [
    "def R3_test():\n",
    "    print(\"Test-R3: High stakers earn more reward than low stakers\")\n",
    "    num = int(input(\"enter the number of blocks you want to test: \"))\n",
    "    \n",
    "    block = getBlockNumber()\n",
    "    last_block = getLastBlockOfCurrentEpoch()\n",
    "    print(\"current and last block numbers\", block, last_block)\n",
    "    while block < last_block:\n",
    "        block = getBlockNumber()\n",
    "        \n",
    "    new_epoch_block = block + 2 # first block is problematic, hence going for second.\n",
    "    while block < new_epoch_block:\n",
    "        block = getBlockNumber()\n",
    "    \n",
    "    print(\"new epoch first block reached\", new_epoch_block, \"will begin testing\")\n",
    "    new_epoch_block = block + 1\n",
    "    \n",
    "    rewards, stakes, shards = getStakeAndRewards()\n",
    "    \n",
    "    print(\"obtained first block stakes and rewards\", \"total stakes found=\", \\\n",
    "          len(stakes), \"total rewards found=\", len(rewards))\n",
    "    \n",
    "    while block < new_epoch_block:\n",
    "        block = getBlockNumber()\n",
    "        \n",
    "    print(\"new epoch second block reached\", block, \"will begin comparing stakes and rewards\")  \n",
    "\n",
    "    iterations = 0\n",
    "    while iterations < num:\n",
    "        new_rewards = getRewards()\n",
    "        last_block = block\n",
    "        current_block = last_block\n",
    "        \n",
    "        key_to_stake = dict()\n",
    "        key_to_reward = dict()\n",
    "        key_to_shard = dict()\n",
    "        for addr, reward in new_rewards.items():\n",
    "            if addr in rewards and addr in stakes and addr in shards:\n",
    "                addr_reward = reward - rewards[addr]\n",
    "                slots = len(stakes[addr])\n",
    "                per_slot_reward = addr_reward / slots\n",
    "                for key, stake in stakes[addr].items():\n",
    "                    key_to_reward[key] = per_slot_reward\n",
    "                    if key in stakes[addr]:\n",
    "                        key_to_stake[key] = stakes[addr][key]\n",
    "                    if key in shards[addr]:\n",
    "                        key_to_shard[key] = shards[addr][key]\n",
    "        \n",
    "        shard_rewards = dict()\n",
    "        shard_stakes = dict()\n",
    "        for key, shard in key_to_shard.items():\n",
    "            if shard not in shard_stakes:\n",
    "                shard_stakes[shard] = dict()\n",
    "            if shard not in shard_rewards:\n",
    "                shard_rewards[shard] = dict()\n",
    "            shard_stakes[shard][key] = key_to_stake[key]\n",
    "            shard_rewards[shard][key] = key_to_reward[key]\n",
    "            \n",
    "        for shard in shard_rewards.keys():\n",
    "            sorted_stakes = sorted(shard_stakes[shard].items(), key=lambda kv: kv[1], reverse = True)\n",
    "            sorted_rewards = sorted(shard_rewards[shard].items(), key=lambda kv: kv[1], reverse = True)\n",
    "#             print(sorted_stakes)\n",
    "#             print(sorted_rewards)\n",
    "            stake_keys = extract(sorted_stakes)\n",
    "            reward_keys = extract(sorted_rewards)\n",
    "            print(\"comparison to begin, two lengths:\", len(stake_keys), len(reward_keys))\n",
    "            if proportional(stake_keys, reward_keys) == False:\n",
    "                print(\"Test-R3: on shard\", shard, \"failed\")\n",
    "                print(\"validators sorted by stakes: \", stake_keys)\n",
    "                print(\"validators sorted by reward: \", reward_keys)\n",
    "            else:\n",
    "                print(\"Test-R3: on shard: \", shard, \"succeeded\")\n",
    "            \n",
    "        last_block = current_block\n",
    "        current_block = getBlockNumber()\n",
    "        while current_block == last_block:\n",
    "            current_block = getBlockNumber()\n",
    "        \n",
    "        rewards = new_rewards\n",
    "        iterations = iterations + 1\n",
    "        if current_block > last_block:\n",
    "            break"
   ]
  },
  {
   "cell_type": "code",
   "execution_count": 57,
   "metadata": {},
   "outputs": [
    {
     "name": "stdout",
     "output_type": "stream",
     "text": [
      "Test-R3: High stakers earn more reward than low stakers\n",
      "enter the number of blocks you want to test: 1\n",
      "current and last block numbers 3780 3799\n",
      "new epoch first block reached 3801 will begin testing\n",
      "obtained first block stakes and rewards total stakes found= 39 total rewards found= 39\n",
      "new epoch second block reached 3802 will begin comparing stakes and rewards\n",
      "comparison to begin, two lengths: 24 24\n",
      "Test-R3: on shard 1 failed\n",
      "validators sorted by stakes:  ['7a4a5b3881a9f64851c9b5ec5c449b293ce567dec39bd3e80b9726cc12825e0eec0ef2bc682114e2f123ad7e1bcc6b99', '85dde30f23ffd30b511582550a20d675e96beaf348af5c1401eaef69e8485ac867cd78e9d4e59f42d9c65b8ae4466981', 'c221b753a0411f6de095610e4dcbf1be1788821973bb5b506ff4956e9b9b60cf331f83ba1dc40ddc17ef25e107bdfb0d', '4ee50030f8f372bc2e605ed20a5c80ad877e65f8d566f0d725c3fc0cc0a9fb67562785731d2585b3603b189a603ffc8d', '146fd89c9cd2f4c3b30cafc3c0fc7aae8cb3ab951b1f7008f1d5eaede2b5699d6979f42196f10e2760b9fc81c1482901', '65548d2a749327506a910a7307cf770770854ef57874c89b182cdf49ace0321da2c262837e212eee28bc236d5fa3f289', '8658d5172e4b7e9d080e5e53051ba5d579dcbc5cab694c7da46617049edbcfeaca01b5e2d7d17087e1670277698d7b11', 'ac777ecf79c539d21ae7bb49236176a1296fedf5bc8912c6d2d25d999669df68895b18507d5d9dd6404c335d37580419', '2a0b2bf1e646cc0cd8b71b6b9a737b5839ddced6990e2623fc85085f5ef3da63ac0e0f94ef0242ddc53ff9eb2f86d00d', '3ee892d96a9cfa292ab3e8c2eaaaa64434a75f080cb9d755b9208cb89063eff85be1dec296272e09a05542d828f5bd99', 'fc0d16c3eb0c6eaa2970a730372a57c8bb6cbfcc7fe67648afaefeee42a58f863a63cb5fd0d2ea85bfd537b37a9f0699', '552f8aa65835f04e4bc3a04a4bd1f5c67dcd562513b6728c5b9fd258d9fdb054c10008b14a739818d0c234d37b8f1301', 'b3815c62affe89560ecabb2f30de46742c927e8a951f37f080264d0b394e16b55ea0786629798d0170c713a9779e4585', 'e65ce96e41d54d49243e2294fb306768862cccd5be80347f88bafe13aa4d3582c21c613fc26f6908ed1faa0dd0c27381', 'b9626bcf02210e8979b0e661bbdbf2e5a691105761fd8800bd1e96087a57c393285af91dcf3c3d6763a643d874f14599', 'a96a75f88c7eeaa022cac3ff3368567ec3f97573ba3e879104f7f70971b4563acb77f1496460467fff61e29bbc98cc11', '3d1c23984e350a092f14dc737dee5da56beab8db00f7e6adb4540bdd45b9abbdfb8924f3346d2f0d930c7ab44869c88d', '45b93437ec61643c1414a2dbdcdbc437f60d09fb3cb3356a8a5a94230d1fe4704c916fde09836de43d438db37fa14281', '568bffcf534d3965f2e5e9ca91dffbf8e4a44cbe8c27f8f85ad4bb0f21147e6a25c5af22117a430581f2d6aebdd2b091', 'af29b09ef93d1d9498ae0d16236569826177f5541834b19aff2506f31aaca00e018cce6e20355b4114cf82051e9e5d8d', 'd6a4190f144e3197f8b0575d6f1b9d9156f837ea63a0eb8cfbe6a0af92f909b7070c2988afd98a26ec819d1ea558ef85', '4c114982081e609c090fd2084fc7d562b0670ac2ed1d3ec2fd99e07ae21469c0df7f1f6cd6f7c96f61dea9e4c626a409', '93b65691c2b779d8d31fa9cfe8ceba9bb6154a20bf69fd65ee951dc1577a07e3dc5a81d60be9e74f86aabc9b70048785', '922493eab9f3858df9fb8a16ef3c487ceef770b795a5cb473605c0614091a24f8a296b87121b64bb91d0885c25f87309']\n",
      "validators sorted by reward:  ['7a4a5b3881a9f64851c9b5ec5c449b293ce567dec39bd3e80b9726cc12825e0eec0ef2bc682114e2f123ad7e1bcc6b99', '85dde30f23ffd30b511582550a20d675e96beaf348af5c1401eaef69e8485ac867cd78e9d4e59f42d9c65b8ae4466981', 'fc0d16c3eb0c6eaa2970a730372a57c8bb6cbfcc7fe67648afaefeee42a58f863a63cb5fd0d2ea85bfd537b37a9f0699', '8658d5172e4b7e9d080e5e53051ba5d579dcbc5cab694c7da46617049edbcfeaca01b5e2d7d17087e1670277698d7b11', 'ac777ecf79c539d21ae7bb49236176a1296fedf5bc8912c6d2d25d999669df68895b18507d5d9dd6404c335d37580419', '2a0b2bf1e646cc0cd8b71b6b9a737b5839ddced6990e2623fc85085f5ef3da63ac0e0f94ef0242ddc53ff9eb2f86d00d', '3ee892d96a9cfa292ab3e8c2eaaaa64434a75f080cb9d755b9208cb89063eff85be1dec296272e09a05542d828f5bd99', '922493eab9f3858df9fb8a16ef3c487ceef770b795a5cb473605c0614091a24f8a296b87121b64bb91d0885c25f87309', '552f8aa65835f04e4bc3a04a4bd1f5c67dcd562513b6728c5b9fd258d9fdb054c10008b14a739818d0c234d37b8f1301', 'b3815c62affe89560ecabb2f30de46742c927e8a951f37f080264d0b394e16b55ea0786629798d0170c713a9779e4585', 'e65ce96e41d54d49243e2294fb306768862cccd5be80347f88bafe13aa4d3582c21c613fc26f6908ed1faa0dd0c27381', 'b9626bcf02210e8979b0e661bbdbf2e5a691105761fd8800bd1e96087a57c393285af91dcf3c3d6763a643d874f14599', 'af29b09ef93d1d9498ae0d16236569826177f5541834b19aff2506f31aaca00e018cce6e20355b4114cf82051e9e5d8d', 'd6a4190f144e3197f8b0575d6f1b9d9156f837ea63a0eb8cfbe6a0af92f909b7070c2988afd98a26ec819d1ea558ef85', '4c114982081e609c090fd2084fc7d562b0670ac2ed1d3ec2fd99e07ae21469c0df7f1f6cd6f7c96f61dea9e4c626a409', '93b65691c2b779d8d31fa9cfe8ceba9bb6154a20bf69fd65ee951dc1577a07e3dc5a81d60be9e74f86aabc9b70048785', 'c221b753a0411f6de095610e4dcbf1be1788821973bb5b506ff4956e9b9b60cf331f83ba1dc40ddc17ef25e107bdfb0d', '4ee50030f8f372bc2e605ed20a5c80ad877e65f8d566f0d725c3fc0cc0a9fb67562785731d2585b3603b189a603ffc8d', '146fd89c9cd2f4c3b30cafc3c0fc7aae8cb3ab951b1f7008f1d5eaede2b5699d6979f42196f10e2760b9fc81c1482901', '65548d2a749327506a910a7307cf770770854ef57874c89b182cdf49ace0321da2c262837e212eee28bc236d5fa3f289', 'a96a75f88c7eeaa022cac3ff3368567ec3f97573ba3e879104f7f70971b4563acb77f1496460467fff61e29bbc98cc11', '3d1c23984e350a092f14dc737dee5da56beab8db00f7e6adb4540bdd45b9abbdfb8924f3346d2f0d930c7ab44869c88d', '45b93437ec61643c1414a2dbdcdbc437f60d09fb3cb3356a8a5a94230d1fe4704c916fde09836de43d438db37fa14281', '568bffcf534d3965f2e5e9ca91dffbf8e4a44cbe8c27f8f85ad4bb0f21147e6a25c5af22117a430581f2d6aebdd2b091']\n",
      "comparison to begin, two lengths: 31 31\n",
      "Test-R3: on shard 3 failed\n",
      "validators sorted by stakes:  ['7672d516fdf4d5eabe9fb85f9a00042876426cb3505b2ac3d8a1c62d419456c883dac447f304eba74aab456eaac62e8f', '5263342d8bbc94fb44cd70b1c2a0948c3b1b39095bc3694b1fa60977c2d519dd62a7fc54895b4e5eb0601a0e425e4493', '7c8ccbdcb1a3c57750c47782b1cd95f51271a062ccb4e70a55a68cd8f0579ddc14c77d6656cb98297186aadea7cf3507', '868371e59709276ad5f513652e56cc922a03525d2b3af25970436df703617d89a8d6257fe589e20c8555e4537408398b', '6d5c07ee92b7caff12c245724cc065a8274113ae815c45f257f3c3f81017ab1f401bf76ca11c23f9fe7d0a375245648b', '7ab21e88f5d17712e30dfc9a7acdb7e0e784fabf2bf76d5f83d8a0269dd47f38d8f454cb7ece5921027a9b68d806578f', 'bd8a0ab99bc6468b10992846f74b9f4c23ed1ce9a89848a4edba15bbef10906091880e9f10b3b0e53000c2b4f934cb97', '5a1d59080b9b83c6af6afb82eb7dec09dcdf8dbd3c455d027cdac2b97c80ca96b1d4009372a39b0d9f240d0b127c6283', 'd8b57417434b662da3171a3607fb2cf418117d22387f7fe40b7be3376d0bbd01088fd86304357bf3fba3744bc4516383', 'd4c10750c0530e26f7ec580766a147fb068905c0f00cea9b4a9bde2c09961e4df43014cbd6413d2d5ac097f65fdd3907', 'ae05fe0027679995082a8138758b4c7bb746e35cf4fad0c181a88158279c7b3c75bccb064d3f55fa91f8c3e9cc28178f', 'b3f88974af22ec352fee49aae74eb5d6910e301aee5724d56b4a344b6ca2a379401ac3ca91ea076e509019421a211a0f', 'b0dbd20ad2eca9e6efcd850446d787f15d675e8c52108b300c314f12d49760cca6f4072160c6092f9e90fef2689c7d97', '87539a8d28ce53c59547f208e23a350272d2e0d8d87eb19f771d833a0196471e2d8bdeea5afabfb2a15f75af98d99c83', '2bd8287c1836a2eff2fdd0cb5299d1e7a8a1d5a714b510b0403d4f17441602a77a180adda901abbfdc8367b648a16a0b', 'a434968e1a8b022abb9039e219b28e73e3e853eda6ef273f4d4279d3fc9d89a983b86b6583fe95a73f6da5becabdb907', 'b8c18bcf8126343a4a97b24f49f6f6f61e27417c175941f59a46a0b89313863dc341a7d55f8621b7c563f06f9ade0003', '84ad0dc35bdb6ab51c70d7f65a38b1e5230fe451fa895938749c1732c109f6fac7e4107ae44961ef1280c96dedcc3e13', 'db66379230ed5b875d7f71b98c922a43c1d2a93a65013badaa2cca1a35ace401d37cf81ee54db02be961593ca535b507', '2fb1832b89450c8f6cf78ea4075aea489059f43a5b4cee418d8e30675238235ef6aab40219e7933bf827cbe14d18230b', '00d69ce5ccd22318af8d0eaee58b04aadd6f55cd7c728b1a45b1620aa6044b22f29d809a17554d0fde4e6bcdefe49e97', '5aff3653958fdddefe04aaeb5e9c4a4fc7dda03538a04fd8dfd139c66d18ec31c7deb846cb67077fde48921ddb07a387', 'd90b4af4db279822edc6b4aa6a2b083512d0b6a873d8e71c814b7994e0f32b97f6a6d81d21344d7fa85e76f76af5e783', '53ae21e0ff4d1c2a6ce23edc9e29473af91ac84b57fb2b11567c50df048f010e22fbaef7b8cc6b5f8dfea6310fc92117', '2edc3be1a21df18f49979cb24f0b7de086b5b85384a39164fadf730bfe0d13cd4e4ac4779477604c8c5ea575db19aa0f', '0ffea54237184750b92789cfe30f4b59a7caa3401d3bbb0ea6fe430f878a97632561566e1a34d710ad33972b2632810b', '769674eccdaa2956f6cda4ec5dbb52a956a0d471d47766c7314df84003d2e099ddf707f4a3217ecd844872fe07aeeb17', '191f3dc4aecd94aadea0670ea7f169a229a08c1fcd883a0a190c8696e7d2756268ff6d3f1f4ce7c2c8c0cae293d61f0b', '067053c12d01e0fd7c04724745f5ee18371414a745db4947116131df7949f4c82e4ed79930260be8da4ea8cb0f40dd0f', '262d3ba110a82f435835b9fa1a7b28dd372339ca9a87abbc28956e134d78080f5bd59556302410d11dcbf00c20a3df87', '0727f57eae19a8efea1c16766d8ee7befea5fc35b05619ec8b452070284689806336decef88cbf79b77a55075d6dce8b']\n",
      "validators sorted by reward:  ['6d5c07ee92b7caff12c245724cc065a8274113ae815c45f257f3c3f81017ab1f401bf76ca11c23f9fe7d0a375245648b', '7ab21e88f5d17712e30dfc9a7acdb7e0e784fabf2bf76d5f83d8a0269dd47f38d8f454cb7ece5921027a9b68d806578f', 'bd8a0ab99bc6468b10992846f74b9f4c23ed1ce9a89848a4edba15bbef10906091880e9f10b3b0e53000c2b4f934cb97', '5a1d59080b9b83c6af6afb82eb7dec09dcdf8dbd3c455d027cdac2b97c80ca96b1d4009372a39b0d9f240d0b127c6283', 'd8b57417434b662da3171a3607fb2cf418117d22387f7fe40b7be3376d0bbd01088fd86304357bf3fba3744bc4516383', 'd4c10750c0530e26f7ec580766a147fb068905c0f00cea9b4a9bde2c09961e4df43014cbd6413d2d5ac097f65fdd3907', 'ae05fe0027679995082a8138758b4c7bb746e35cf4fad0c181a88158279c7b3c75bccb064d3f55fa91f8c3e9cc28178f', 'b3f88974af22ec352fee49aae74eb5d6910e301aee5724d56b4a344b6ca2a379401ac3ca91ea076e509019421a211a0f', '7672d516fdf4d5eabe9fb85f9a00042876426cb3505b2ac3d8a1c62d419456c883dac447f304eba74aab456eaac62e8f', '5263342d8bbc94fb44cd70b1c2a0948c3b1b39095bc3694b1fa60977c2d519dd62a7fc54895b4e5eb0601a0e425e4493', '7c8ccbdcb1a3c57750c47782b1cd95f51271a062ccb4e70a55a68cd8f0579ddc14c77d6656cb98297186aadea7cf3507', '868371e59709276ad5f513652e56cc922a03525d2b3af25970436df703617d89a8d6257fe589e20c8555e4537408398b', '53ae21e0ff4d1c2a6ce23edc9e29473af91ac84b57fb2b11567c50df048f010e22fbaef7b8cc6b5f8dfea6310fc92117', '2edc3be1a21df18f49979cb24f0b7de086b5b85384a39164fadf730bfe0d13cd4e4ac4779477604c8c5ea575db19aa0f', '0ffea54237184750b92789cfe30f4b59a7caa3401d3bbb0ea6fe430f878a97632561566e1a34d710ad33972b2632810b', '769674eccdaa2956f6cda4ec5dbb52a956a0d471d47766c7314df84003d2e099ddf707f4a3217ecd844872fe07aeeb17', 'b0dbd20ad2eca9e6efcd850446d787f15d675e8c52108b300c314f12d49760cca6f4072160c6092f9e90fef2689c7d97', '87539a8d28ce53c59547f208e23a350272d2e0d8d87eb19f771d833a0196471e2d8bdeea5afabfb2a15f75af98d99c83', '2bd8287c1836a2eff2fdd0cb5299d1e7a8a1d5a714b510b0403d4f17441602a77a180adda901abbfdc8367b648a16a0b', 'a434968e1a8b022abb9039e219b28e73e3e853eda6ef273f4d4279d3fc9d89a983b86b6583fe95a73f6da5becabdb907', 'b8c18bcf8126343a4a97b24f49f6f6f61e27417c175941f59a46a0b89313863dc341a7d55f8621b7c563f06f9ade0003', '84ad0dc35bdb6ab51c70d7f65a38b1e5230fe451fa895938749c1732c109f6fac7e4107ae44961ef1280c96dedcc3e13', 'db66379230ed5b875d7f71b98c922a43c1d2a93a65013badaa2cca1a35ace401d37cf81ee54db02be961593ca535b507', '2fb1832b89450c8f6cf78ea4075aea489059f43a5b4cee418d8e30675238235ef6aab40219e7933bf827cbe14d18230b', '00d69ce5ccd22318af8d0eaee58b04aadd6f55cd7c728b1a45b1620aa6044b22f29d809a17554d0fde4e6bcdefe49e97', '5aff3653958fdddefe04aaeb5e9c4a4fc7dda03538a04fd8dfd139c66d18ec31c7deb846cb67077fde48921ddb07a387', '191f3dc4aecd94aadea0670ea7f169a229a08c1fcd883a0a190c8696e7d2756268ff6d3f1f4ce7c2c8c0cae293d61f0b', '067053c12d01e0fd7c04724745f5ee18371414a745db4947116131df7949f4c82e4ed79930260be8da4ea8cb0f40dd0f', '262d3ba110a82f435835b9fa1a7b28dd372339ca9a87abbc28956e134d78080f5bd59556302410d11dcbf00c20a3df87', '0727f57eae19a8efea1c16766d8ee7befea5fc35b05619ec8b452070284689806336decef88cbf79b77a55075d6dce8b', 'd90b4af4db279822edc6b4aa6a2b083512d0b6a873d8e71c814b7994e0f32b97f6a6d81d21344d7fa85e76f76af5e783']\n",
      "comparison to begin, two lengths: 28 28\n",
      "Test-R3: on shard 0 failed\n",
      "validators sorted by stakes:  ['16c0069a6a6853cb156f18408b13007e48ffaabe3b242aa17a219fa50d70567092f6ff7a61a4c7230da8fcc984b10c90', 'f0bb034bafcab36640d4aff1303f679a8401a1e6f7411e7b9d18e9136ac17c158e843820d6705c5634c7a35670f34618', 'a77f5a3b29cf03b115e19e3e855a897938d70ff3d863f2331d198de463616f2495b2738dd7370405140fa0f06a14a898', 'fe85b54968454a089e62b58d8c6e04baf86dbaf5658bcaa1e65952f4db22305f8c076f1c3c742114c69bdda466ebcb00', 'e71520eeef74ad79e896024c4639e73d4e8a72181fe9cf9d2b3b82b0652bb7de0485bc3cdcef5e49269339b92ad90680', '87cabb98a307eec7a0ff4c9384f28a17e477dac07479f384764ed7687239d034facd98f5fe85133f35bbc3d628e50a18', 'f66c17c121f2d0d6e1f361af14bd9f481b0eb6b758ef3ee57383560d49b976a8b9e885ffda49c28ae5d9cb067b493d00', 'b1bfc485e0a643dd332a7780cd31e5f28a817e62804439a036a5ff4c5ab49f0976cfafc84c4777e90d19e99a118c7214', '5c4c1244a9168afc2e64572250ef426346f5404443f077be5e7493ba942bafb411beca67d4865d554f264ca81b995880', '33096e258dd6e7bd1d6b0cc868943f526f6574a3e58cf235473a06e21be9f91c2ce67a11371951e4a18c58cbbbf69c14', '76521b88b00d9e5b3acd077d31df46aadaa3810b98c2ffa948412d53583d23cc35fd6927d3797507bea12c01d67fd790', 'ae024ac692b11b88d879494f9224970983c44402b43c9eb542db7f589810e675f03f54b22adcd73c6e09cb96e8aea910', 'f64d27b412859b15cbe055d86e313b52f7a851b01782ff213855ef89c1ee57b1a5d25f8159c013006f104a8206b04900', '0f2d10f8d8b8f9cc142eb08f375c3dd8fcac4ff099d9c344a107f84bd9d73ad69755e37c102a7b2c555c972be953d880', 'becd65dfdcb41486187b5e9c4e1b0758ff30c302b0bfb29b57e92278c4c55a869c3d9d176b9b4339787b1e961e306c14', '92fa785ddd53bdc6ff320578245d1718740a8c2bf395500c57111ea2568eff0565b9f08a115edc3695e6ecc91e2d3f14', '264eaab1701fb514719ae6d9d04df32abebda9f94a6b5d681c53c8328f2bb35fe8e3cc9af9ae1c6b520246601c11ca88', 'afc4d81ab636323b04893c23d3404f38e95e9291b3d5299dade3d03822edd3a2b799bd6d64265a9a9cac025d5dbd600c', 'a4e06ac3c87ddca4a358c92e1056f870690fec3bc9148f085240a37236a3e13ef4fc98bd95eabee92deb55842ae6fa18', 'a3e082a34c06d14e7d203e6f8f6de3ce8441f978627b1ab915a0fbde242b5cd129494808d4e5e83a01f9dece37268480', '2e8163ca128ea87a18e18ea51290ba181526e193ecdb5a8ba1e47b5a99bd6184134fae35d2f3c6eb4220e790d581db90', '5f06b084aea27ae8c612bf289031a71747aa2ba879211fb8fbc9be7274b68f8d9a96b29b76d0ed1789e107dec4ee2394', '5f31d68e9fac2a5f13b835c5f942025be50c887d8d5d0e8932a31db0a0a9e36ac59456923bfe85f813f91adb7f108798', '17592c04f6f83ed1cdf472210efeaae035c72fa40b085dfe971262a7879ca1703d1fceb0b9de7e994bbee1004899cf94', '2a213469b35be4d97be559d8d3d548f5126da9a521690551989ce19723ab56eaac885f7f8a1206681de1ad9691db5380', 'b2c5958d38748777d6e0548da5c1356a20c3ab33a6261da2977a9e8f0d97559263a64e47a364ebed6c449aef26fc6c04', '5e5ccd77a8d7d630f52d9572d8d63694ccfd18e7013729294365df154493cf481b6aa5ae18ba21bba345bfaf1d641e10', '42dcad47d66171c95969c6ff1c9dd47a4a911efffd83077d8ab243ab77c54eb0ca8daa430e37fb4a1a94ca0b4cc71418']\n",
      "validators sorted by reward:  ['16c0069a6a6853cb156f18408b13007e48ffaabe3b242aa17a219fa50d70567092f6ff7a61a4c7230da8fcc984b10c90', 'f0bb034bafcab36640d4aff1303f679a8401a1e6f7411e7b9d18e9136ac17c158e843820d6705c5634c7a35670f34618', 'a77f5a3b29cf03b115e19e3e855a897938d70ff3d863f2331d198de463616f2495b2738dd7370405140fa0f06a14a898', 'fe85b54968454a089e62b58d8c6e04baf86dbaf5658bcaa1e65952f4db22305f8c076f1c3c742114c69bdda466ebcb00', 'e71520eeef74ad79e896024c4639e73d4e8a72181fe9cf9d2b3b82b0652bb7de0485bc3cdcef5e49269339b92ad90680', '33096e258dd6e7bd1d6b0cc868943f526f6574a3e58cf235473a06e21be9f91c2ce67a11371951e4a18c58cbbbf69c14', 'becd65dfdcb41486187b5e9c4e1b0758ff30c302b0bfb29b57e92278c4c55a869c3d9d176b9b4339787b1e961e306c14', '76521b88b00d9e5b3acd077d31df46aadaa3810b98c2ffa948412d53583d23cc35fd6927d3797507bea12c01d67fd790', 'ae024ac692b11b88d879494f9224970983c44402b43c9eb542db7f589810e675f03f54b22adcd73c6e09cb96e8aea910', 'f64d27b412859b15cbe055d86e313b52f7a851b01782ff213855ef89c1ee57b1a5d25f8159c013006f104a8206b04900', '0f2d10f8d8b8f9cc142eb08f375c3dd8fcac4ff099d9c344a107f84bd9d73ad69755e37c102a7b2c555c972be953d880', '87cabb98a307eec7a0ff4c9384f28a17e477dac07479f384764ed7687239d034facd98f5fe85133f35bbc3d628e50a18', 'f66c17c121f2d0d6e1f361af14bd9f481b0eb6b758ef3ee57383560d49b976a8b9e885ffda49c28ae5d9cb067b493d00', 'b1bfc485e0a643dd332a7780cd31e5f28a817e62804439a036a5ff4c5ab49f0976cfafc84c4777e90d19e99a118c7214', '5c4c1244a9168afc2e64572250ef426346f5404443f077be5e7493ba942bafb411beca67d4865d554f264ca81b995880', 'a4e06ac3c87ddca4a358c92e1056f870690fec3bc9148f085240a37236a3e13ef4fc98bd95eabee92deb55842ae6fa18', 'a3e082a34c06d14e7d203e6f8f6de3ce8441f978627b1ab915a0fbde242b5cd129494808d4e5e83a01f9dece37268480', '2e8163ca128ea87a18e18ea51290ba181526e193ecdb5a8ba1e47b5a99bd6184134fae35d2f3c6eb4220e790d581db90', '5f06b084aea27ae8c612bf289031a71747aa2ba879211fb8fbc9be7274b68f8d9a96b29b76d0ed1789e107dec4ee2394', '264eaab1701fb514719ae6d9d04df32abebda9f94a6b5d681c53c8328f2bb35fe8e3cc9af9ae1c6b520246601c11ca88', 'afc4d81ab636323b04893c23d3404f38e95e9291b3d5299dade3d03822edd3a2b799bd6d64265a9a9cac025d5dbd600c', '5f31d68e9fac2a5f13b835c5f942025be50c887d8d5d0e8932a31db0a0a9e36ac59456923bfe85f813f91adb7f108798', '17592c04f6f83ed1cdf472210efeaae035c72fa40b085dfe971262a7879ca1703d1fceb0b9de7e994bbee1004899cf94', '2a213469b35be4d97be559d8d3d548f5126da9a521690551989ce19723ab56eaac885f7f8a1206681de1ad9691db5380', 'b2c5958d38748777d6e0548da5c1356a20c3ab33a6261da2977a9e8f0d97559263a64e47a364ebed6c449aef26fc6c04', '5e5ccd77a8d7d630f52d9572d8d63694ccfd18e7013729294365df154493cf481b6aa5ae18ba21bba345bfaf1d641e10', '42dcad47d66171c95969c6ff1c9dd47a4a911efffd83077d8ab243ab77c54eb0ca8daa430e37fb4a1a94ca0b4cc71418', '92fa785ddd53bdc6ff320578245d1718740a8c2bf395500c57111ea2568eff0565b9f08a115edc3695e6ecc91e2d3f14']\n",
      "comparison to begin, two lengths: 18 18\n",
      "Test-R3: on shard 2 failed\n",
      "validators sorted by stakes:  ['554389bd2171a83ad9af7d752479964aa885169141a1a20cc0e40f3cf40ad0b0c8f54e5341e36e68317158eebca9a80e', '8c0e74ef42b75a407fd499fce9bd2d828f12fb6d3c901e23eccf6539959b821f1c067447bd1a6f41fe8b9321c925b016', '1c57c3282714e412d974a5c1c5712f1f6062d3253d9a080580abf4342805e3311c19f81bef5b1a903fe282650b767a12', 'a11bb4202ecad06799b50dd04f5c2ec631bf411789ade7e62237f698ad3a17dfa90b60354f153404d3886e753f622086', '4573d93d7cfd364cc2aebb21184e5d8fe92d44e86cd4d13b7e8b25faa77782f3ba6dee0a4e1f65947ea35cabbc552682', 'e429cbf74e8ab28ed295999d179ad79827c7febe0208a6145aa91bbb60b68a0b1907de4c38573352cafe00c8105b1116', '394d726edbb908fa71bdb2b417dd0fe7c77d9f86b3a0b1e1b51d11e26dd1cddb4e21269c3e1d08e75d43ec98ff4ca582', '045e3d2dbc7624a3ba1f3aa253b8663d587a51c4490c071d44bfb88ac9b243e680b806b742630d2320cd9f1d99d4e58a', '20026c7ecc0c7b2bb5fd217d3a16cae4dff30b8c610d476da1a41f467db43f4d3fff706a6ebef4983564c67fc164f80a', 'a2232487bbf16dd01c5743700712819984d036bf3e39960c85045920784ba0d24149c93591dd4017ada3155e8105d402', 'fcc19da354f3c18383a5777ae1a0946cf5f1d7ab333ff066c3b80f5a74672b5f3904cd318db7fc0d39e23c23ac5c1f06', 'ebebb1629707151f2f343710de10a05f7944ce0af6982cf454ff3c3ee386a12052fff6cac11342fc9453ca0da520b302', 'a0ac19a3158611c5549135e3dc023f0227c8812988fde6b132c3e940d4c1b539d7e8e8b24f3695b188edd5308d98a10a', '8a6504754868ae41c612863f26173e19b9628b0334415d1217dc46b869e2decd16987a9df8fcd1fa612c9d2f5cef3f8a', 'e881864e00f60138f70b807c82e2587a5c56473123278de4cd6e15b4f45852ae324d7e5b35cb73005164ad4766974f96', '0ffd51e2a3e6e29e0f6ca135dcf48a3986c52d053f7ae6b3cb9d36e205bd49bd93c367a97694010bc9adb65de4705716', '5f9978fa43fe837c11b4065b108b9090f95cc6f2921194aa2b18f674918209fefa48bb3a608baac240c8fd680dabba86', '4d24c04260d77ee7400a4714dac9092f3e0ff3b9c80b88564adecd49dfc524d3920a5e0ed3e2573af4cd7a9584e0738e']\n",
      "validators sorted by reward:  ['554389bd2171a83ad9af7d752479964aa885169141a1a20cc0e40f3cf40ad0b0c8f54e5341e36e68317158eebca9a80e', '8c0e74ef42b75a407fd499fce9bd2d828f12fb6d3c901e23eccf6539959b821f1c067447bd1a6f41fe8b9321c925b016', '394d726edbb908fa71bdb2b417dd0fe7c77d9f86b3a0b1e1b51d11e26dd1cddb4e21269c3e1d08e75d43ec98ff4ca582', '045e3d2dbc7624a3ba1f3aa253b8663d587a51c4490c071d44bfb88ac9b243e680b806b742630d2320cd9f1d99d4e58a', '0ffd51e2a3e6e29e0f6ca135dcf48a3986c52d053f7ae6b3cb9d36e205bd49bd93c367a97694010bc9adb65de4705716', 'a2232487bbf16dd01c5743700712819984d036bf3e39960c85045920784ba0d24149c93591dd4017ada3155e8105d402', 'e881864e00f60138f70b807c82e2587a5c56473123278de4cd6e15b4f45852ae324d7e5b35cb73005164ad4766974f96', '5f9978fa43fe837c11b4065b108b9090f95cc6f2921194aa2b18f674918209fefa48bb3a608baac240c8fd680dabba86', '4d24c04260d77ee7400a4714dac9092f3e0ff3b9c80b88564adecd49dfc524d3920a5e0ed3e2573af4cd7a9584e0738e', '1c57c3282714e412d974a5c1c5712f1f6062d3253d9a080580abf4342805e3311c19f81bef5b1a903fe282650b767a12', 'a11bb4202ecad06799b50dd04f5c2ec631bf411789ade7e62237f698ad3a17dfa90b60354f153404d3886e753f622086', '4573d93d7cfd364cc2aebb21184e5d8fe92d44e86cd4d13b7e8b25faa77782f3ba6dee0a4e1f65947ea35cabbc552682', 'e429cbf74e8ab28ed295999d179ad79827c7febe0208a6145aa91bbb60b68a0b1907de4c38573352cafe00c8105b1116', 'fcc19da354f3c18383a5777ae1a0946cf5f1d7ab333ff066c3b80f5a74672b5f3904cd318db7fc0d39e23c23ac5c1f06', 'ebebb1629707151f2f343710de10a05f7944ce0af6982cf454ff3c3ee386a12052fff6cac11342fc9453ca0da520b302', 'a0ac19a3158611c5549135e3dc023f0227c8812988fde6b132c3e940d4c1b539d7e8e8b24f3695b188edd5308d98a10a', '8a6504754868ae41c612863f26173e19b9628b0334415d1217dc46b869e2decd16987a9df8fcd1fa612c9d2f5cef3f8a', '20026c7ecc0c7b2bb5fd217d3a16cae4dff30b8c610d476da1a41f467db43f4d3fff706a6ebef4983564c67fc164f80a']\n"
     ]
    }
   ],
   "source": [
    "R3_test()"
   ]
  },
  {
   "cell_type": "code",
   "execution_count": null,
   "metadata": {},
   "outputs": [],
   "source": []
  },
  {
   "cell_type": "code",
   "execution_count": null,
   "metadata": {},
   "outputs": [],
   "source": []
  }
 ],
 "metadata": {
  "kernelspec": {
   "display_name": "Python 3",
   "language": "python",
   "name": "python3"
  },
  "language_info": {
   "codemirror_mode": {
    "name": "ipython",
    "version": 3
   },
   "file_extension": ".py",
   "mimetype": "text/x-python",
   "name": "python",
   "nbconvert_exporter": "python",
   "pygments_lexer": "ipython3",
   "version": "3.7.4"
  }
 },
 "nbformat": 4,
 "nbformat_minor": 2
}
