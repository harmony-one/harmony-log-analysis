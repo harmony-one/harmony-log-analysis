{
 "cells": [
  {
   "cell_type": "code",
   "execution_count": 9,
   "metadata": {},
   "outputs": [],
   "source": [
    "import json\n",
    "import pandas as pd\n",
    "import numpy as np\n",
    "import time\n",
    "import requests"
   ]
  },
  {
   "cell_type": "code",
   "execution_count": null,
   "metadata": {},
   "outputs": [],
   "source": [
    "def get_information(method, params):\n",
    "    url = 'https://api.s0.os.hmny.io/'\n",
    "    headers = {'Content-Type': 'application/json'}\n",
    "    data = {\"jsonrpc\":\"2.0\", \"method\": method, \"params\": params, \"id\":1}\n",
    "    r = requests.post(url, headers=headers, data = json.dumps(data))\n",
    "    content = json.loads(r.content)\n",
    "    return content"
   ]
  },
  {
   "cell_type": "code",
   "execution_count": 10,
   "metadata": {},
   "outputs": [],
   "source": [
    "def getBlockNumber():\n",
    "    method = \"hmy_blockNumber\"\n",
    "    params = []\n",
    "    num = get_information(method, params)['result']\n",
    "    return int(num, 16)"
   ]
  },
  {
   "cell_type": "code",
   "execution_count": 37,
   "metadata": {},
   "outputs": [],
   "source": [
    "def getAllValidatorInformation():\n",
    "    method = 'hmy_getAllValidatorInformation'\n",
    "    params = [-1]\n",
    "    return get_information(method, params)['result'] "
   ]
  },
  {
   "cell_type": "code",
   "execution_count": 20,
   "metadata": {},
   "outputs": [],
   "source": [
    "def getLastBlockOfCurrentEpoch():\n",
    "    method = 'hmy_getStakingNetworkInfo'\n",
    "    params = []\n",
    "    return get_information(method, params)['result']['epoch-last-block']"
   ]
  },
  {
   "cell_type": "code",
   "execution_count": 99,
   "metadata": {},
   "outputs": [],
   "source": [
    "def R2_test():\n",
    "    print(\"Test-R2: Not elected validators should not earn reward\")\n",
    "    last_block = getLastBlockOfCurrentEpoch()\n",
    "    current_block = getBlockNumber()\n",
    "    print(\"last block of current epoch: \", last_block, \" current block number: \", current_block)\n",
    "    print(\"wait until the new epoch begins at block number ...\", last_block + 1)\n",
    "    num = int(input(\"enter the number of blocks you want to test: \"))\n",
    "    \n",
    "    while current_block < last_block + 1:\n",
    "        current_block = getBlockNumber()\n",
    "    \n",
    "    validator_infos = getAllValidatorInformation()\n",
    "    not_elected = []\n",
    "    rewards = dict()\n",
    "    delegation_counts = dict()\n",
    "    for i in validator_infos:\n",
    "        if i['currently-in-committee'] == False:\n",
    "            not_elected.append(i)\n",
    "            address = i['validator']['address']\n",
    "            delegations = i['validator']['delegations']\n",
    "            amount = delegations[0]['amount']\n",
    "            rewards[address] = amount\n",
    "            delegation_counts[address] = len(delegations)\n",
    "\n",
    "    last_block = getLastBlockOfCurrentEpoch()\n",
    "    current_block = getBlockNumber()\n",
    "    print(\"last block of current epoch: \", last_block, \" current block number: \", current_block)\n",
    "    print(\"wait until the last block of this epoch ...\", last_block + 1)\n",
    "    while current_block < last_block:\n",
    "        current_block = getBlockNumber()\n",
    "    \n",
    "    # check the rewards\n",
    "    iterations = 0\n",
    "    failures = 0\n",
    "    while iterations < num:\n",
    "        validator_infos = getAllValidatorInformation()\n",
    "        for i in validator_infos:\n",
    "            if i['currently-in-committee'] == False:\n",
    "                address = i['validator']['address']\n",
    "                delegations = i['validator']['delegations']\n",
    "                amount = delegations[0]['amount']\n",
    "                if address in rewards and rewards[address] != amount:\n",
    "                    print(\"Error: reward not same for \", address, \\\n",
    "                          \", previous: \", rewards[address], \", new: \", amount)\n",
    "                    failures = failures + 1\n",
    "        iterations = iterations + 1\n",
    "    if failures > 0:\n",
    "        print(\"Test R2 failed\")\n",
    "    else:\n",
    "        print(\"Test R2 succeeded\")"
   ]
  },
  {
   "cell_type": "code",
   "execution_count": 100,
   "metadata": {},
   "outputs": [
    {
     "name": "stdout",
     "output_type": "stream",
     "text": [
      "Test-R2: Not elected validators should not earn reward\n",
      "last block of current epoch:  31311  current block number:  31297\n",
      "wait until the new epoch begins at block number ... 31312\n",
      "enter the number of blocks you want to test: 1\n",
      "last block of current epoch:  31349  current block number:  31312\n",
      "wait until the last block of this epoch ... 31350\n",
      "Error: reward not same for  one18j6h6tlsrymmmcucc7lajcdq9uh42gjv2szadf , previous:  1400000000000000000000 , new:  0\n",
      "Test R2 failed\n"
     ]
    }
   ],
   "source": [
    "R2_test()"
   ]
  },
  {
   "cell_type": "code",
   "execution_count": null,
   "metadata": {},
   "outputs": [],
   "source": []
  }
 ],
 "metadata": {
  "kernelspec": {
   "display_name": "Python 3",
   "language": "python",
   "name": "python3"
  },
  "language_info": {
   "codemirror_mode": {
    "name": "ipython",
    "version": 3
   },
   "file_extension": ".py",
   "mimetype": "text/x-python",
   "name": "python",
   "nbconvert_exporter": "python",
   "pygments_lexer": "ipython3",
   "version": "3.7.4"
  }
 },
 "nbformat": 4,
 "nbformat_minor": 2
}
