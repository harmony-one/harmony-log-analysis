{
 "cells": [
  {
   "cell_type": "code",
   "execution_count": 1,
   "metadata": {},
   "outputs": [],
   "source": [
    "import json\n",
    "import pandas as pd\n",
    "import numpy as np\n",
    "import time\n",
    "import requests"
   ]
  },
  {
   "cell_type": "code",
   "execution_count": 2,
   "metadata": {},
   "outputs": [],
   "source": [
    "def get_information(method, params):\n",
    "    url = 'https://api.s0.os.hmny.io/'\n",
    "    headers = {'Content-Type': 'application/json'}\n",
    "    data = {\"jsonrpc\":\"2.0\", \"method\": method, \"params\": params, \"id\":1}\n",
    "    r = requests.post(url, headers=headers, data = json.dumps(data))\n",
    "    content = json.loads(r.content)\n",
    "    return content"
   ]
  },
  {
   "cell_type": "code",
   "execution_count": 3,
   "metadata": {},
   "outputs": [],
   "source": [
    "def getBlockNumber():\n",
    "    method = \"hmy_blockNumber\"\n",
    "    params = []\n",
    "    num = get_information(method, params)['result']\n",
    "    return int(num, 16)"
   ]
  },
  {
   "cell_type": "code",
   "execution_count": 4,
   "metadata": {},
   "outputs": [],
   "source": [
    "def getAllValidatorInformation():\n",
    "    method = 'hmy_getAllValidatorInformation'\n",
    "    params = [-1]\n",
    "    return get_information(method, params)['result'] "
   ]
  },
  {
   "cell_type": "code",
   "execution_count": 5,
   "metadata": {},
   "outputs": [],
   "source": [
    "def getAdjustment():\n",
    "    method = 'hmy_getCurrentUtilityMetrics'\n",
    "    params = []\n",
    "    num = get_information(method, params)['result']['Adjustment']\n",
    "    return float(num)"
   ]
  },
  {
   "cell_type": "code",
   "execution_count": 10,
   "metadata": {},
   "outputs": [],
   "source": [
    "def getBlockSigners(blockNum):\n",
    "    method = 'hmy_getBlockSigners'\n",
    "    params = [blockNum]\n",
    "    return get_information(method, params)['result']"
   ]
  },
  {
   "cell_type": "code",
   "execution_count": 11,
   "metadata": {},
   "outputs": [],
   "source": [
    "def getStakedAmount():\n",
    "    method = 'hmy_getStakingNetworkInfo'\n",
    "    params = []\n",
    "    num = get_information(method, params)['result']['total-staking']\n",
    "    return int(num)"
   ]
  },
  {
   "cell_type": "code",
   "execution_count": 32,
   "metadata": {},
   "outputs": [],
   "source": [
    "def check(block_stake, block_reward):\n",
    "    # reward increasing\n",
    "    sorted_reward = sorted(block_reward.items(), key=lambda kv: kv[1], reverse = False)\n",
    "    print(sorted_reward)\n",
    "    # stake should remain same or decrease\n",
    "    sorted_stake = sorted(block_stake.items(), key=lambda kv: kv[1], reverse = False)\n",
    "    print(sorted_stake)\n",
    "    first_block, first_stake = sorted_stake[0]\n",
    "    for block, stake in sorted_stake:\n",
    "        if stake > first_stake:\n",
    "            return False\n",
    "    return True"
   ]
  },
  {
   "cell_type": "code",
   "execution_count": 35,
   "metadata": {},
   "outputs": [],
   "source": [
    "def R8_test():\n",
    "    print(\"Test-R8: Block reward inversely proportional to staked amount\")\n",
    "    num = int(input(\"enter the number of blocks you want to test: \"))\n",
    "    \n",
    "    if num < 2:\n",
    "        print(\"need at least two blocks to compare, rerun the test!\")\n",
    "        return\n",
    "    \n",
    "    current_block = getBlockNumber()\n",
    "    next_block = current_block + 1\n",
    "    \n",
    "    acc_rewards_prev = dict()\n",
    "    validator_infos = getAllValidatorInformation()\n",
    "    for i in validator_infos:\n",
    "        if i['currently-in-committee'] == True:\n",
    "            address = i['validator']['address']\n",
    "            reward_accumulated = i['lifetime']['reward-accumulated']\n",
    "            acc_rewards_prev[address] = reward_accumulated\n",
    "            \n",
    "    current_block = getBlockNumber()\n",
    "    while current_block < next_block:\n",
    "        current_block = getBlockNumber()\n",
    "    \n",
    "    block_reward = dict()\n",
    "    block_stake = dict()\n",
    "    \n",
    "    iterations = 0\n",
    "    while iterations < num:\n",
    "        print(\"current block\", current_block)\n",
    "        # staked amount\n",
    "        staked = getStakedAmount()\n",
    "        block_stake[current_block] = staked\n",
    "        # get the validator info and compute validator rewards\n",
    "        acc_rewards_curr = dict()\n",
    "        delegations_curr = dict()\n",
    "        validator_infos = getAllValidatorInformation()\n",
    "        total_reward = 0\n",
    "        for i in validator_infos:\n",
    "            if i['currently-in-committee'] == True:\n",
    "                address = i['validator']['address']\n",
    "                reward_accumulated = i['lifetime']['reward-accumulated']\n",
    "                acc_rewards_curr[address] = reward_accumulated\n",
    "                reward = reward_accumulated\n",
    "                if address not in acc_rewards_prev:\n",
    "                    continue\n",
    "                reward = reward_accumulated - acc_rewards_prev[address]\n",
    "                total_reward = total_reward + reward\n",
    "                \n",
    "        block_reward[current_block] = total_reward\n",
    "        \n",
    "        last_block = current_block\n",
    "        current_block = getBlockNumber()\n",
    "        while current_block == last_block:\n",
    "            current_block = getBlockNumber()\n",
    "        \n",
    "        acc_rewards_prev = acc_rewards_curr\n",
    "        delegations_prev = delegations_curr\n",
    "        \n",
    "        iterations = iterations + 1\n",
    "    \n",
    "    print(\"size\", len(block_stake), len(block_reward))\n",
    "    if check(block_stake, block_reward) != True:\n",
    "        print(\"Test-R8: Failed, block reward is not inversely proportional to stake\")\n",
    "    print(\"done!\")"
   ]
  },
  {
   "cell_type": "code",
   "execution_count": 36,
   "metadata": {},
   "outputs": [
    {
     "name": "stdout",
     "output_type": "stream",
     "text": [
      "Test-R8: Block reward inversely proportional to staked amount\n",
      "enter the number of blocks you want to test: 10\n",
      "current block 8764\n",
      "current block 8765\n",
      "current block 8766\n",
      "current block 8767\n",
      "current block 8768\n",
      "current block 8769\n",
      "current block 8770\n",
      "current block 8771\n",
      "current block 8772\n",
      "current block 8773\n",
      "size 10 10\n",
      "[(8773, 120514887564984294074), (8764, 121638642464489949799), (8765, 121638642518756265133), (8766, 121638642573022577829), (8767, 123175896597743221683), (8768, 123175896681649752961), (8769, 123175896765556280125), (8770, 123175896849462803484), (8771, 123175896933369322748), (8772, 123175897017275838027)]\n",
      "[(8764, 74911463010000000000000000), (8765, 74911463010000000000000000), (8766, 111911463010000000000000000), (8767, 111911463010000000000000000), (8768, 111911463010000000000000000), (8769, 111911463010000000000000000), (8770, 111911463010000000000000000), (8771, 111911463010000000000000000), (8772, 111911463010000000000000000), (8773, 111911463010000000000000000)]\n",
      "Test-R8: Failed, block reward is not inversely proportional to stake\n",
      "done!\n"
     ]
    }
   ],
   "source": [
    "R8_test()"
   ]
  },
  {
   "cell_type": "code",
   "execution_count": null,
   "metadata": {},
   "outputs": [],
   "source": []
  }
 ],
 "metadata": {
  "kernelspec": {
   "display_name": "Python 3",
   "language": "python",
   "name": "python3"
  },
  "language_info": {
   "codemirror_mode": {
    "name": "ipython",
    "version": 3
   },
   "file_extension": ".py",
   "mimetype": "text/x-python",
   "name": "python",
   "nbconvert_exporter": "python",
   "pygments_lexer": "ipython3",
   "version": "3.7.4"
  }
 },
 "nbformat": 4,
 "nbformat_minor": 2
}
