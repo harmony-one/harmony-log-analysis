{
 "cells": [
  {
   "cell_type": "code",
   "execution_count": 1,
   "metadata": {},
   "outputs": [],
   "source": [
    "import json\n",
    "import pandas as pd\n",
    "import numpy as np\n",
    "import time\n",
    "import requests"
   ]
  },
  {
   "cell_type": "markdown",
   "metadata": {},
   "source": [
    "At the first block of every epoch\n",
    "- Get the list of elected validators (elected_list)\n",
    "- Get the stakes of validators who were not eligible for election in the last epoch (last block)\n",
    "- Check if any of these validators present in elected_list\n",
    "\n",
    "(note: election happen in the last block, however the epos-status changed in the first block)"
   ]
  },
  {
   "cell_type": "code",
   "execution_count": 2,
   "metadata": {},
   "outputs": [],
   "source": [
    "def get_information(method, params):\n",
    "    url = 'https://api.s0.os.hmny.io/'\n",
    "    headers = {'Content-Type': 'application/json'}\n",
    "    data = {\"jsonrpc\":\"2.0\", \"method\": method, \"params\": params, \"id\":1}\n",
    "    r = requests.post(url, headers=headers, data = json.dumps(data))\n",
    "    content = json.loads(r.content)\n",
    "    return content"
   ]
  },
  {
   "cell_type": "code",
   "execution_count": 3,
   "metadata": {},
   "outputs": [],
   "source": [
    "def getBlockNumber():\n",
    "    method = \"hmy_blockNumber\"\n",
    "    params = []\n",
    "    num = get_information(method, params)['result']\n",
    "    return int(num, 16)"
   ]
  },
  {
   "cell_type": "code",
   "execution_count": 4,
   "metadata": {},
   "outputs": [],
   "source": [
    "def getLastBlockOfCurrentEpoch():\n",
    "    method = 'hmy_getStakingNetworkInfo'\n",
    "    params = []\n",
    "    return get_information(method, params)['result']['epoch-last-block']"
   ]
  },
  {
   "cell_type": "code",
   "execution_count": 5,
   "metadata": {},
   "outputs": [],
   "source": [
    "def getAllElectedValidator():\n",
    "    method = \"hmy_getElectedValidatorAddresses\"\n",
    "    params =[]\n",
    "    return get_information(method, params)['result']"
   ]
  },
  {
   "cell_type": "code",
   "execution_count": 6,
   "metadata": {},
   "outputs": [],
   "source": [
    "def getAllValidatorInformation():\n",
    "    method = 'hmy_getAllValidatorInformation'\n",
    "    params = [0]\n",
    "    return get_information(method, params)['result'] "
   ]
  },
  {
   "cell_type": "code",
   "execution_count": 7,
   "metadata": {},
   "outputs": [],
   "source": [
    "def E2_test():\n",
    "    print(\"Test-E2: Joining after the election start must not consider the validator \")\n",
    "    # get the last block in current epoch\n",
    "    block = getBlockNumber()\n",
    "    last_block = getLastBlockOfCurrentEpoch()\n",
    "    print(\"current block number and last block number in current epoch: \", block, last_block)\n",
    "    while block < last_block:\n",
    "        block = getBlockNumber()\n",
    "    print(\"last block number in the current epoch reaches\", block)\n",
    "    # save the information of status in the last block\n",
    "    validators = getAllValidatorInformation()\n",
    "\n",
    "    # get the first block in next epoch\n",
    "    new_block = block + 1\n",
    "    while block < last_block:\n",
    "        block = getBlockNumber()\n",
    "    print(\"first block in new epoch reaches: \", block)\n",
    "    \n",
    "    # get the elected addresses\n",
    "    elected = getAllElectedValidator()\n",
    "    \n",
    "    ineligible = []\n",
    "    for i in validators:\n",
    "        if i['epos-status'] == \"currently elected and signing not enough blocks to be eligible for election next epoch\"\\\n",
    "        or i['epos-status']== \"not eligible to be elected next epoch\":\n",
    "            ineligible.append(i['validator']['address'])\n",
    "    \n",
    "    flag = True\n",
    "    for i in ineligible:\n",
    "        if i in elected:\n",
    "            flag = False\n",
    "            print(\"Test-E2: Fail\")\n",
    "            print(\"Validator \" + i + \"joining after the election was considered for election\")\n",
    "\n",
    "    if flag == True:\n",
    "        print(\"Test-E2: Success\")\n"
   ]
  },
  {
   "cell_type": "code",
   "execution_count": 8,
   "metadata": {},
   "outputs": [
    {
     "name": "stdout",
     "output_type": "stream",
     "text": [
      "Test-E2: Joining after the election start must not consider the validator \n",
      "current block number and last block number in current epoch:  2510 2545\n",
      "last block number in the current epoch reaches 2545\n",
      "first block in new epoch reaches:  2545\n",
      "Test-E2: Success\n"
     ]
    }
   ],
   "source": [
    "E2_test()"
   ]
  }
 ],
 "metadata": {
  "kernelspec": {
   "display_name": "Python 3",
   "language": "python",
   "name": "python3"
  },
  "language_info": {
   "codemirror_mode": {
    "name": "ipython",
    "version": 3
   },
   "file_extension": ".py",
   "mimetype": "text/x-python",
   "name": "python",
   "nbconvert_exporter": "python",
   "pygments_lexer": "ipython3",
   "version": "3.7.6"
  }
 },
 "nbformat": 4,
 "nbformat_minor": 2
}
