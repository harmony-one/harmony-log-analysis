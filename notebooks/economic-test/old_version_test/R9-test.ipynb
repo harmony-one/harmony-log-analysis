{
 "cells": [
  {
   "cell_type": "code",
   "execution_count": 4,
   "metadata": {},
   "outputs": [],
   "source": [
    "import json\n",
    "import pandas as pd\n",
    "import numpy as np\n",
    "import time\n",
    "import requests"
   ]
  },
  {
   "cell_type": "code",
   "execution_count": 5,
   "metadata": {},
   "outputs": [],
   "source": [
    "def get_information(method, params):\n",
    "    url = 'https://api.s0.os.hmny.io/'\n",
    "    headers = {'Content-Type': 'application/json'}\n",
    "    data = {\"jsonrpc\":\"2.0\", \"method\": method, \"params\": params, \"id\":1}\n",
    "    r = requests.post(url, headers=headers, data = json.dumps(data))\n",
    "    content = json.loads(r.content)\n",
    "    return content"
   ]
  },
  {
   "cell_type": "code",
   "execution_count": 6,
   "metadata": {},
   "outputs": [],
   "source": [
    "def getBlockNumber():\n",
    "    method = \"hmy_blockNumber\"\n",
    "    params = []\n",
    "    num = get_information(method, params)['result']\n",
    "    return int(num, 16)"
   ]
  },
  {
   "cell_type": "code",
   "execution_count": 7,
   "metadata": {},
   "outputs": [],
   "source": [
    "def getAllValidatorInformation():\n",
    "    method = 'hmy_getAllValidatorInformation'\n",
    "    params = [-1]\n",
    "    return get_information(method, params)['result'] "
   ]
  },
  {
   "cell_type": "code",
   "execution_count": 8,
   "metadata": {},
   "outputs": [],
   "source": [
    "def getAdjustment():\n",
    "    method = 'hmy_getCurrentUtilityMetrics'\n",
    "    params = []\n",
    "    num = get_information(method, params)['result']['Adjustment']\n",
    "    return float(num)"
   ]
  },
  {
   "cell_type": "code",
   "execution_count": 9,
   "metadata": {},
   "outputs": [],
   "source": [
    "def getBlockSigners(blockNum):\n",
    "    method = 'hmy_getBlockSigners'\n",
    "    params = [blockNum]\n",
    "    return get_information(method, params)['result']"
   ]
  },
  {
   "cell_type": "code",
   "execution_count": 12,
   "metadata": {},
   "outputs": [],
   "source": [
    "def R9_test():\n",
    "    print(\"Test-R9: Block reward never drops below minimum or raises above maximum block reward\")\n",
    "    num = int(input(\"enter the number of blocks you want to test: \"))\n",
    "    \n",
    "    current_block = getBlockNumber()\n",
    "    next_block = current_block + 1\n",
    "    \n",
    "    acc_rewards_prev = dict()\n",
    "    validator_infos = getAllValidatorInformation()\n",
    "    for i in validator_infos:\n",
    "        if i['currently-in-committee'] == True:\n",
    "            address = i['validator']['address']\n",
    "            reward_accumulated = i['lifetime']['reward-accumulated']\n",
    "            acc_rewards_prev[address] = reward_accumulated\n",
    "            \n",
    "    current_block = getBlockNumber()\n",
    "    while current_block < next_block:\n",
    "        current_block = getBlockNumber()\n",
    "        \n",
    "    # per-shard\n",
    "    # default reward = 18 ONEs\n",
    "    # min reward = 0, when >= 80% staked instead of 35% (of the circulating supply)\n",
    "    # max reward = 32, when ~0% staked instead of 35% (of the circulating supply)\n",
    "    # so, for four shards, (min, max) = (0, 128)\n",
    "    min_total_reward = 0\n",
    "    max_total_reward = 128e18\n",
    "    \n",
    "    iterations = 0\n",
    "    while iterations < num:\n",
    "        print(\"current block\", current_block)\n",
    "        \n",
    "        # get the validator info and compute validator rewards\n",
    "        acc_rewards_curr = dict()\n",
    "        validator_infos = getAllValidatorInformation()\n",
    "        total_reward = 0\n",
    "        for i in validator_infos:\n",
    "            if i['currently-in-committee'] == True:\n",
    "                address = i['validator']['address']\n",
    "                reward_accumulated = i['lifetime']['reward-accumulated']\n",
    "                acc_rewards_curr[address] = reward_accumulated\n",
    "                if address not in acc_rewards_prev:\n",
    "                    continue\n",
    "                reward = reward_accumulated - acc_rewards_prev[address]\n",
    "                total_reward = total_reward + reward   \n",
    "        \n",
    "        if total_reward < min_total_reward or total_reward > max_total_reward:\n",
    "            print(\"Test R9: Failed, block reward below minimum or above maximum\", \\\n",
    "                \"block reward\", total_reward, \\\n",
    "                \"minimum\", base_block_reward)\n",
    "        last_block = current_block\n",
    "        current_block = getBlockNumber()\n",
    "        while current_block == last_block:\n",
    "            current_block = getBlockNumber()\n",
    "        \n",
    "        acc_rewards_prev = acc_rewards_curr\n",
    "        iterations = iterations + 1\n",
    "        \n",
    "    print(\"done!\")"
   ]
  },
  {
   "cell_type": "code",
   "execution_count": 13,
   "metadata": {},
   "outputs": [
    {
     "name": "stdout",
     "output_type": "stream",
     "text": [
      "Test-R9: Block reward never drops below minimum or raises above maximum block reward\n",
      "enter the number of blocks you want to test: 1\n",
      "current block 9340\n",
      "done!\n"
     ]
    }
   ],
   "source": [
    "R9_test()"
   ]
  },
  {
   "cell_type": "code",
   "execution_count": null,
   "metadata": {},
   "outputs": [],
   "source": []
  }
 ],
 "metadata": {
  "kernelspec": {
   "display_name": "Python 3",
   "language": "python",
   "name": "python3"
  },
  "language_info": {
   "codemirror_mode": {
    "name": "ipython",
    "version": 3
   },
   "file_extension": ".py",
   "mimetype": "text/x-python",
   "name": "python",
   "nbconvert_exporter": "python",
   "pygments_lexer": "ipython3",
   "version": "3.7.6"
  }
 },
 "nbformat": 4,
 "nbformat_minor": 2
}
