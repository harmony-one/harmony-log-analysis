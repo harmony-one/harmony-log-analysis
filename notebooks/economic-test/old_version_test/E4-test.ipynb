{
 "cells": [
  {
   "cell_type": "code",
   "execution_count": 1,
   "metadata": {},
   "outputs": [],
   "source": [
    "import json\n",
    "import pandas as pd\n",
    "import numpy as np\n",
    "import os\n",
    "import time\n",
    "import requests"
   ]
  },
  {
   "cell_type": "markdown",
   "metadata": {},
   "source": [
    "logic: \n",
    "1. at the last block of current epoch, get the address of all the eligible validators\n",
    "2. at the first block of next epoch, group all the eligible validators into elected and non-elected\n",
    "3. sort elected and non-elected groups based on their stakes\n",
    "4. compare the lowest stake in elected group and highest stake in non-elected group. \n",
    "expectation: lowest stake in elected group > highest stake in non-elected group"
   ]
  },
  {
   "cell_type": "markdown",
   "metadata": {},
   "source": [
    "Question: if two validators have the same stake and both active, their stake rank is No.200. Who will be elected? based on the order who joined the network first?"
   ]
  },
  {
   "cell_type": "code",
   "execution_count": 2,
   "metadata": {},
   "outputs": [],
   "source": [
    "def get_information(method, params):\n",
    "    url = 'https://api.s0.os.hmny.io/'\n",
    "    headers = {'Content-Type': 'application/json'}\n",
    "    data = {\"jsonrpc\":\"2.0\", \"method\": method, \"params\": params, \"id\":1}\n",
    "    r = requests.post(url, headers=headers, data = json.dumps(data))\n",
    "    content = json.loads(r.content)\n",
    "    return content"
   ]
  },
  {
   "cell_type": "code",
   "execution_count": 3,
   "metadata": {},
   "outputs": [],
   "source": [
    "def getBlockNumber():\n",
    "    method = \"hmy_blockNumber\"\n",
    "    params = []\n",
    "    num = get_information(method, params)['result']\n",
    "    return int(num, 16)"
   ]
  },
  {
   "cell_type": "code",
   "execution_count": 4,
   "metadata": {},
   "outputs": [],
   "source": [
    "def getLastBlockOfCurrentEpoch():\n",
    "    method = 'hmy_getStakingNetworkInfo'\n",
    "    params = []\n",
    "    return get_information(method, params)['result']['epoch-last-block']"
   ]
  },
  {
   "cell_type": "code",
   "execution_count": 5,
   "metadata": {},
   "outputs": [],
   "source": [
    "def getAllValidatorInformation():\n",
    "    method = 'hmy_getAllValidatorInformation'\n",
    "    params = [0]\n",
    "    return get_information(method, params)['result']"
   ]
  },
  {
   "cell_type": "code",
   "execution_count": 6,
   "metadata": {},
   "outputs": [],
   "source": [
    "def getEligibleValidator():\n",
    "    eligible = []\n",
    "    validator_infos = getAllValidatorInformation()\n",
    "    for i in validator_infos:\n",
    "        if i['epos-status'] == 'currently elected and signing enough blocks to be eligible for election next epoch' or\\\n",
    "        i['epos-status'] == 'eligible to be elected next epoch':\n",
    "            address = i['validator']['address']\n",
    "            eligible.append(address)\n",
    "    return eligible"
   ]
  },
  {
   "cell_type": "code",
   "execution_count": 7,
   "metadata": {},
   "outputs": [],
   "source": [
    "def getValidatorInfo(validator):\n",
    "    method = \"hmy_getValidatorInformation\"\n",
    "    params = [validator]\n",
    "    return get_information(method, params)['result']"
   ]
  },
  {
   "cell_type": "code",
   "execution_count": 8,
   "metadata": {},
   "outputs": [],
   "source": [
    "def getStake(eligible):\n",
    "    elected = dict()\n",
    "    non_elected = dict()\n",
    "    validator_infos = getAllValidatorInformation()\n",
    "    for i in validator_infos:\n",
    "        address = i['validator']['address']\n",
    "        if address in eligible:\n",
    "            stake = i['total-delegation']\n",
    "            if i['currently-in-committee'] == True:\n",
    "                elected[address] = stake\n",
    "            else:\n",
    "                non_elected[address] = stake\n",
    "    return elected, non_elected"
   ]
  },
  {
   "cell_type": "code",
   "execution_count": 9,
   "metadata": {},
   "outputs": [],
   "source": [
    "def E4_test():\n",
    "    print(\"Test-E4: Low staker will never get elected over high staker\")\n",
    "    \n",
    "    num = int(input(\"enter the number of epoches you want to test: \"))\n",
    "    # reach the last block in current epoch to get the eligible validator address\n",
    "    \n",
    "    iterations = 0\n",
    "    while iterations < num:\n",
    "        print(str(iterations+1) + \"iteration will begin ...\")\n",
    "        # reach the last block in current epoch to get the eligible validator address\n",
    "        block = getBlockNumber()\n",
    "        last_block = getLastBlockOfCurrentEpoch()\n",
    "        print(\"current and last block numbers\", block, last_block)\n",
    "        while block < last_block:\n",
    "            block = getBlockNumber()\n",
    "        eligible = getEligibleValidator()\n",
    "\n",
    "        # reach the first block in next epoch and check the status of all eligible validators\n",
    "        new_epoch_block = block + 1\n",
    "        while block < new_epoch_block:\n",
    "            block = getBlockNumber()\n",
    "        print(\"new epoch first block reached\", new_epoch_block, \"will begin testing\")\n",
    "\n",
    "        elected, non_elected = getStake(eligible)\n",
    "        sorted_elected = sorted(elected.items(), key = lambda kv: kv[1])\n",
    "        sorted_non_elected = sorted(non_elected.items(), key = lambda kv: kv[1], reverse = True)\n",
    "\n",
    "        # get the lowest elected validator and highest non-elected validator\n",
    "        if not sorted_elected:\n",
    "            lowest_elected = 0\n",
    "        else:\n",
    "            lowest_elected = sorted_elected[0][1]\n",
    "        if not sorted_non_elected:\n",
    "            highest_unelected = 0\n",
    "        else:\n",
    "            highest_unelected = sorted_non_elected[0][1]\n",
    "\n",
    "        if lowest_elected < highest_unelected:\n",
    "            print(\"Test-E4: Fail\")\n",
    "            print(\"lowest stake in elected eligible validators: \", sorted_elected[0])\n",
    "            print(\"highest stake in unelected eligible validators: \", sorted_non_elected[0])\n",
    "        print(\"Test-E4: Success\")\n",
    "        iterations += 1\n",
    "        "
   ]
  },
  {
   "cell_type": "code",
   "execution_count": 10,
   "metadata": {},
   "outputs": [
    {
     "name": "stdout",
     "output_type": "stream",
     "text": [
      "Test-E4: Low staker will never get elected over high staker\n",
      "enter the number of epoches you want to test: 3\n",
      "1iteration will begin ...\n",
      "current and last block numbers 5031 5053\n",
      "new epoch first block reached 5054 will begin testing\n",
      "Test-E4: Success\n",
      "2iteration will begin ...\n",
      "current and last block numbers 5054 5091\n",
      "new epoch first block reached 5092 will begin testing\n",
      "Test-E4: Success\n",
      "3iteration will begin ...\n",
      "current and last block numbers 5092 5129\n",
      "new epoch first block reached 5130 will begin testing\n",
      "Test-E4: Success\n"
     ]
    }
   ],
   "source": [
    "E4_test()"
   ]
  }
 ],
 "metadata": {
  "kernelspec": {
   "display_name": "Python 3",
   "language": "python",
   "name": "python3"
  },
  "language_info": {
   "codemirror_mode": {
    "name": "ipython",
    "version": 3
   },
   "file_extension": ".py",
   "mimetype": "text/x-python",
   "name": "python",
   "nbconvert_exporter": "python",
   "pygments_lexer": "ipython3",
   "version": "3.7.6"
  }
 },
 "nbformat": 4,
 "nbformat_minor": 2
}
