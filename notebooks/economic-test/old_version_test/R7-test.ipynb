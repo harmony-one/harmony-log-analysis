{
 "cells": [
  {
   "cell_type": "code",
   "execution_count": 1,
   "metadata": {},
   "outputs": [],
   "source": [
    "import json\n",
    "import pandas as pd\n",
    "import numpy as np\n",
    "import time\n",
    "import requests"
   ]
  },
  {
   "cell_type": "code",
   "execution_count": 15,
   "metadata": {},
   "outputs": [],
   "source": [
    "def get_information(method, params):\n",
    "    url = 'https://api.s0.os.hmny.io/'\n",
    "    headers = {'Content-Type': 'application/json'}\n",
    "    data = {\"jsonrpc\":\"2.0\", \"method\": method, \"params\": params, \"id\":1}\n",
    "    r = requests.post(url, headers=headers, data = json.dumps(data))\n",
    "    content = json.loads(r.content)\n",
    "    return content"
   ]
  },
  {
   "cell_type": "code",
   "execution_count": 16,
   "metadata": {},
   "outputs": [],
   "source": [
    "def getBlockNumber():\n",
    "    method = \"hmy_blockNumber\"\n",
    "    params = []\n",
    "    num = get_information(method, params)['result']\n",
    "    return int(num, 16)"
   ]
  },
  {
   "cell_type": "code",
   "execution_count": 17,
   "metadata": {},
   "outputs": [],
   "source": [
    "def getAllValidatorInformation():\n",
    "    method = 'hmy_getAllValidatorInformation'\n",
    "    params = [-1]\n",
    "    return get_information(method, params)['result'] "
   ]
  },
  {
   "cell_type": "code",
   "execution_count": 18,
   "metadata": {},
   "outputs": [],
   "source": [
    "def R7_test():\n",
    "    print(\"Test-R7: Sum of validator and delegator earning should match the block reward\")\n",
    "    num = int(input(\"enter the number of blocks you want to test: \"))\n",
    "    \n",
    "    current_block = getBlockNumber()\n",
    "    next_block = current_block + 1\n",
    "    print(\"current block\", current_block, \"next block\", next_block)\n",
    "    \n",
    "    acc_rewards_prev = dict()\n",
    "    delegations_prev = dict()\n",
    "    validator_infos = getAllValidatorInformation()\n",
    "    for i in validator_infos:\n",
    "        if i['currently-in-committee'] == True:\n",
    "            address = i['validator']['address']\n",
    "            reward_accumulated = i['lifetime']['reward-accumulated']\n",
    "            acc_rewards_prev[address] = reward_accumulated\n",
    "            ds = i['validator']['delegations']\n",
    "            dels = dict()\n",
    "            for d in ds:\n",
    "                d_addr = d['delegator-address']\n",
    "                d_reward = d['reward']\n",
    "                dels[d_addr] = d_reward\n",
    "            delegations_prev[address] = dels\n",
    "            \n",
    "    current_block = getBlockNumber()\n",
    "    while current_block < next_block:\n",
    "        current_block = getBlockNumber()\n",
    "    \n",
    "    iterations = 0\n",
    "    while iterations < num:\n",
    "        # get the validator info and compute validator rewards\n",
    "        acc_rewards_curr = dict()\n",
    "        delegations_curr = dict()\n",
    "        validator_infos = getAllValidatorInformation()\n",
    "        block_reward = 28e18\n",
    "        validator_rewards = 0\n",
    "        total_reward = 0\n",
    "        signers = 0\n",
    "        for i in validator_infos:\n",
    "            if i['currently-in-committee'] == True:\n",
    "                signers = signers + 1\n",
    "                # block reward of the validator\n",
    "                shard_metrics = i['metrics']['by-shard']\n",
    "                validator_reward = 0\n",
    "                for by_shard in shard_metrics:\n",
    "                    validator_addr = by_shard['earning-account']\n",
    "                    by_shard_reward = block_reward * float(by_shard['overall-percent']) / 0.32\n",
    "                    validator_reward = validator_reward + by_shard_reward\n",
    "                \n",
    "                address = i['validator']['address']\n",
    "                reward_accumulated = i['lifetime']['reward-accumulated']\n",
    "                acc_rewards_curr[address] = reward_accumulated\n",
    "                reward = reward_accumulated\n",
    "                if address not in acc_rewards_prev:\n",
    "                    continue\n",
    "                reward = reward_accumulated - acc_rewards_prev[address]\n",
    "                # this reward should match sum of delegation rewards\n",
    "                ds = i['validator']['delegations']\n",
    "                del_rewards = 0\n",
    "                dels = delegations_prev[address]\n",
    "                for d in ds:\n",
    "                    d_addr = d['delegator-address']\n",
    "                    d_reward = d['reward']\n",
    "                    del_rewards = del_rewards + d_reward\n",
    "                    if d_addr in dels:\n",
    "                        del_rewards = del_rewards - dels[d_addr] \n",
    "                if del_rewards != reward:\n",
    "                    print(\"Test R7: Fail for validator\", address, \\\n",
    "                          \"expected block reward\", validator_reward, \\\n",
    "                          \"validator block reward\", reward, \\\n",
    "                          \"delegation reward\", del_rewards)           \n",
    "        last_block = current_block\n",
    "        current_block = getBlockNumber()\n",
    "        while current_block == last_block:\n",
    "            current_block = getBlockNumber()\n",
    "        \n",
    "        acc_rewards_prev = acc_rewards_curr\n",
    "        delegations_prev = delegations_curr\n",
    "        \n",
    "        iterations = iterations + 1\n",
    "    print(\"done!\")"
   ]
  },
  {
   "cell_type": "code",
   "execution_count": 19,
   "metadata": {},
   "outputs": [
    {
     "name": "stdout",
     "output_type": "stream",
     "text": [
      "Test-R7: Sum of validator and delegator earning should match the block reward\n",
      "enter the number of blocks you want to test: 1\n",
      "current block 770 next block 771\n",
      "Test R7: Fail for validator one10jvjrtwpz2sux2ngktg3kq7m3sdz5p5au5l8c8 expected block reward 4.3221476510067113e+18 validator block reward 4322147651006711400 delegation reward 4322147651006711404\n",
      "Test R7: Fail for validator one1y5n7p8a845v96xyx2gh75wn5eyhtw5002lah27 expected block reward 1.1042039206878306e+19 validator block reward 11042039206878306704 delegation reward 11042039206878306705\n",
      "Test R7: Fail for validator one1c9h3u72czs6sk755tjyse7x5t70m38ppnkx922 expected block reward 4.61685815014006e+18 validator block reward 4616858150140059936 delegation reward 4616858150140059937\n",
      "done!\n"
     ]
    }
   ],
   "source": [
    "R7_test()"
   ]
  },
  {
   "cell_type": "code",
   "execution_count": null,
   "metadata": {},
   "outputs": [],
   "source": []
  }
 ],
 "metadata": {
  "kernelspec": {
   "display_name": "Python 3",
   "language": "python",
   "name": "python3"
  },
  "language_info": {
   "codemirror_mode": {
    "name": "ipython",
    "version": 3
   },
   "file_extension": ".py",
   "mimetype": "text/x-python",
   "name": "python",
   "nbconvert_exporter": "python",
   "pygments_lexer": "ipython3",
   "version": "3.7.6"
  }
 },
 "nbformat": 4,
 "nbformat_minor": 2
}
