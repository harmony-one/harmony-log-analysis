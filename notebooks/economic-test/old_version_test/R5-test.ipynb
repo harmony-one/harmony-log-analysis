{
 "cells": [
  {
   "cell_type": "code",
   "execution_count": 1,
   "metadata": {},
   "outputs": [],
   "source": [
    "import json\n",
    "import pandas as pd\n",
    "import numpy as np\n",
    "import time\n",
    "import requests"
   ]
  },
  {
   "cell_type": "code",
   "execution_count": 2,
   "metadata": {},
   "outputs": [],
   "source": [
    "def get_information(method, params):\n",
    "    url = 'https://api.s0.os.hmny.io/'\n",
    "    headers = {'Content-Type': 'application/json'}\n",
    "    data = {\"jsonrpc\":\"2.0\", \"method\": method, \"params\": params, \"id\":1}\n",
    "    r = requests.post(url, headers=headers, data = json.dumps(data))\n",
    "    content = json.loads(r.content)\n",
    "    return content"
   ]
  },
  {
   "cell_type": "code",
   "execution_count": 3,
   "metadata": {},
   "outputs": [],
   "source": [
    "def getBlockNumber():\n",
    "    method = \"hmy_blockNumber\"\n",
    "    params = []\n",
    "    num = get_information(method, params)['result']\n",
    "    return int(num, 16)"
   ]
  },
  {
   "cell_type": "code",
   "execution_count": 4,
   "metadata": {},
   "outputs": [],
   "source": [
    "def getAllValidatorInformation():\n",
    "    method = 'hmy_getAllValidatorInformation'\n",
    "    params = [-1]\n",
    "    return get_information(method, params)['result'] "
   ]
  },
  {
   "cell_type": "code",
   "execution_count": 5,
   "metadata": {},
   "outputs": [],
   "source": [
    "def R5_test():\n",
    "    print(\"Test-R5: Reward given out to block signers sums up to the total block reward\")\n",
    "    num = int(input(\"enter the number of blocks you want to test: \"))\n",
    "    \n",
    "    current_block = getBlockNumber()\n",
    "    next_block = current_block + 1\n",
    "    print(\"current block\", current_block, \"next block\", next_block)\n",
    "    \n",
    "    acc_rewards_prev = dict()\n",
    "    validator_infos = getAllValidatorInformation()\n",
    "    for i in validator_infos:\n",
    "        if i['currently-in-committee'] == True:\n",
    "            address = i['validator']['address']\n",
    "            reward_accumulated = i['lifetime']['reward-accumulated']\n",
    "            acc_rewards_prev[address] = reward_accumulated\n",
    "            \n",
    "    current_block = getBlockNumber()\n",
    "    while current_block < next_block:\n",
    "        current_block = getBlockNumber()\n",
    "    \n",
    "    iterations = 0\n",
    "    while iterations < num:\n",
    "        # get the validator info and compute validator rewards\n",
    "        acc_rewards_curr = dict()\n",
    "        validator_infos = getAllValidatorInformation()\n",
    "        block_reward = 28e18\n",
    "        validator_rewards = 0\n",
    "        total_reward = 0\n",
    "        signers = 0\n",
    "        for i in validator_infos:\n",
    "            if i['currently-in-committee'] == True:\n",
    "                signers = signers + 1\n",
    "                address = i['validator']['address']\n",
    "                reward_accumulated = i['lifetime']['reward-accumulated']\n",
    "                shard_metrics = i['metrics']['by-bls-key']\n",
    "                validator_reward = 0\n",
    "                for by_shard in shard_metrics:\n",
    "                    validator_addr = by_shard['key']['earning-account']\n",
    "                    by_shard_reward = block_reward * float(by_shard['key']['overall-percent']) / 0.32\n",
    "                    validator_reward = validator_reward + by_shard_reward\n",
    "                acc_rewards_curr[address] = reward_accumulated\n",
    "                reward = reward_accumulated\n",
    "                if address in acc_rewards_prev:\n",
    "                    reward = reward - acc_rewards_prev[address]\n",
    "                total_reward = total_reward + reward\n",
    "                validator_rewards = validator_rewards + validator_reward\n",
    "                \n",
    "        print(\"Test-R5 pass?\", (total_reward == validator_rewards), \n",
    "            \"block\", current_block, \\\n",
    "            \"validator block reward\", validator_rewards, \\\n",
    "            \"total reward\", \"{:.20e}\".format(total_reward), \\\n",
    "            \"signers\", signers)\n",
    "        \n",
    "        last_block = current_block\n",
    "        current_block = getBlockNumber()\n",
    "        while current_block == last_block:\n",
    "            current_block = getBlockNumber()\n",
    "        \n",
    "        acc_rewards_prev = acc_rewards_curr\n",
    "        \n",
    "        iterations = iterations + 1\n",
    "    print(\"done!!!\")"
   ]
  },
  {
   "cell_type": "code",
   "execution_count": 6,
   "metadata": {},
   "outputs": [
    {
     "name": "stdout",
     "output_type": "stream",
     "text": [
      "Test-R5: Reward given out to block signers sums up to the total block reward\n",
      "enter the number of blocks you want to test: 2\n",
      "current block 2300 next block 2301\n",
      "Test-R5 pass? False block 2301 validator block reward 5.5807944400095e+19 total reward 8.40000000000000000000e+19 signers 22\n",
      "Test-R5 pass? False block 2302 validator block reward 5.5807944400095e+19 total reward 8.40000000000000000000e+19 signers 22\n",
      "done!!!\n"
     ]
    }
   ],
   "source": [
    "R5_test()"
   ]
  }
 ],
 "metadata": {
  "kernelspec": {
   "display_name": "Python 3",
   "language": "python",
   "name": "python3"
  },
  "language_info": {
   "codemirror_mode": {
    "name": "ipython",
    "version": 3
   },
   "file_extension": ".py",
   "mimetype": "text/x-python",
   "name": "python",
   "nbconvert_exporter": "python",
   "pygments_lexer": "ipython3",
   "version": "3.7.6"
  }
 },
 "nbformat": 4,
 "nbformat_minor": 2
}
