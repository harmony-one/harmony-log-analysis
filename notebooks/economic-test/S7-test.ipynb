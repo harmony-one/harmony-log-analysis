{
 "cells": [
  {
   "cell_type": "code",
   "execution_count": 7,
   "metadata": {},
   "outputs": [],
   "source": [
    "import json\n",
    "import pandas as pd\n",
    "import numpy as np\n",
    "import time\n",
    "import requests"
   ]
  },
  {
   "cell_type": "code",
   "execution_count": 8,
   "metadata": {},
   "outputs": [],
   "source": [
    "def get_information(method, params):\n",
    "    url = 'https://api.s0.os.hmny.io/'\n",
    "    headers = {'Content-Type': 'application/json'}\n",
    "    data = {\"jsonrpc\":\"2.0\", \"method\": method, \"params\": params, \"id\":1}\n",
    "    r = requests.post(url, headers=headers, data = json.dumps(data))\n",
    "    content = json.loads(r.content)\n",
    "    return content"
   ]
  },
  {
   "cell_type": "code",
   "execution_count": 9,
   "metadata": {},
   "outputs": [],
   "source": [
    "def getBlockNumber():\n",
    "    method = \"hmy_blockNumber\"\n",
    "    params = []\n",
    "    num = get_information(method, params)['result']\n",
    "    return int(num, 16)"
   ]
  },
  {
   "cell_type": "code",
   "execution_count": 10,
   "metadata": {},
   "outputs": [],
   "source": [
    "def getAllValidatorInformation():\n",
    "    method = 'hmy_getAllValidatorInformation'\n",
    "    params = [-1]\n",
    "    return get_information(method, params)['result'] "
   ]
  },
  {
   "cell_type": "code",
   "execution_count": 13,
   "metadata": {},
   "outputs": [],
   "source": [
    "def S7_test():\n",
    "    print(\"Test-S7: Stake is equally distributed across slots\")\n",
    "    num = int(input(\"enter the number of blocks you want to test: \"))\n",
    "            \n",
    "    current_block = getBlockNumber()\n",
    "    \n",
    "    iterations = 0\n",
    "    while iterations < num:\n",
    "        counters = [0, 0, 0, 0]\n",
    "        effect_stakes = [0.0, 0.0, 0.0, 0.0]\n",
    "        print(\"current block\", current_block)\n",
    "        \n",
    "        validator_infos = getAllValidatorInformation()\n",
    "        total_reward = 0\n",
    "        for i in validator_infos:\n",
    "            if i['currently-in-committee'] == True:\n",
    "                by_shard_metrics = i['metrics']['by-shard']\n",
    "                e_stake = float(by_shard_metrics[0]['effective-stake'])\n",
    "                for by_shard_metric in by_shard_metrics:\n",
    "                    stake = float(by_shard_metric['effective-stake'])\n",
    "                    if s\n",
    "                    \n",
    "        print(\"counter\", counters)\n",
    "        print(\"stakes\", effect_stakes)\n",
    "        \n",
    "        last_block = current_block\n",
    "        current_block = getBlockNumber()\n",
    "        while current_block == last_block:\n",
    "            current_block = getBlockNumber()\n",
    "        iterations = iterations + 1\n",
    "        \n",
    "    print(\"done!\")"
   ]
  },
  {
   "cell_type": "code",
   "execution_count": 14,
   "metadata": {},
   "outputs": [
    {
     "name": "stdout",
     "output_type": "stream",
     "text": [
      "Test-S7: Stake is equally distributed across slots\n",
      "enter the number of blocks you want to test: 2\n",
      "current block 536\n",
      "counter [13, 6, 9, 6]\n",
      "stakes [3.855e+24, 1.62e+24, 2.745e+24, 1.9799999999999998e+24]\n",
      "current block 537\n",
      "counter [13, 6, 9, 6]\n",
      "stakes [3.855e+24, 1.62e+24, 2.745e+24, 1.9799999999999998e+24]\n",
      "done!\n"
     ]
    }
   ],
   "source": [
    "S7_test()"
   ]
  },
  {
   "cell_type": "code",
   "execution_count": null,
   "metadata": {},
   "outputs": [],
   "source": []
  }
 ],
 "metadata": {
  "kernelspec": {
   "display_name": "Python 3",
   "language": "python",
   "name": "python3"
  },
  "language_info": {
   "codemirror_mode": {
    "name": "ipython",
    "version": 3
   },
   "file_extension": ".py",
   "mimetype": "text/x-python",
   "name": "python",
   "nbconvert_exporter": "python",
   "pygments_lexer": "ipython3",
   "version": "3.7.4"
  }
 },
 "nbformat": 4,
 "nbformat_minor": 2
}
