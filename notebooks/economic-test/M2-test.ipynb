{
 "cells": [
  {
   "cell_type": "code",
   "execution_count": 1,
   "metadata": {},
   "outputs": [],
   "source": [
    "import json\n",
    "import pandas as pd\n",
    "import numpy as np\n",
    "import os\n",
    "import time\n",
    "import requests"
   ]
  },
  {
   "cell_type": "markdown",
   "metadata": {},
   "source": [
    "Update:\n",
    "1. Epos election happens at the last block of every epoch. However the rpc epos-median number is calculated as if the election happens immediately. We can see the epos-median change in every block, no need to wait until new epoch changes.\n",
    "\n",
    "2. the median number in the rpc is calculated among all the current validators, not only elected ones. "
   ]
  },
  {
   "cell_type": "code",
   "execution_count": 2,
   "metadata": {},
   "outputs": [],
   "source": [
    "def get_information(method, params):\n",
    "    url = 'https://api.s0.os.hmny.io/'\n",
    "    headers = {'Content-Type': 'application/json'}\n",
    "    data = {\"jsonrpc\":\"2.0\", \"method\": method, \"params\": params, \"id\":1}\n",
    "    r = requests.post(url, headers=headers, data = json.dumps(data))\n",
    "    content = json.loads(r.content)\n",
    "    return content"
   ]
  },
  {
   "cell_type": "code",
   "execution_count": 3,
   "metadata": {},
   "outputs": [],
   "source": [
    "def getBlockNumber():\n",
    "    method = \"hmy_blockNumber\"\n",
    "    params = []\n",
    "    num = get_information(method, params)['result']\n",
    "    return int(num, 16)"
   ]
  },
  {
   "cell_type": "code",
   "execution_count": 4,
   "metadata": {},
   "outputs": [],
   "source": [
    "def getLastBlockOfCurrentEpoch():\n",
    "    method = 'hmy_getStakingNetworkInfo'\n",
    "    params = []\n",
    "    return get_information(method, params)['result']['epoch-last-block']"
   ]
  },
  {
   "cell_type": "code",
   "execution_count": 5,
   "metadata": {},
   "outputs": [],
   "source": [
    "def getAllValidatorInformation():\n",
    "    method = 'hmy_getAllValidatorInformation'\n",
    "    params = [0]\n",
    "    return get_information(method, params)['result']"
   ]
  },
  {
   "cell_type": "code",
   "execution_count": 6,
   "metadata": {},
   "outputs": [],
   "source": [
    "def getEposMedian():\n",
    "    method = \"hmy_getMedianRawStakeSnapshot\"\n",
    "    params = []\n",
    "    return float(get_information(method, params)['result']['epos-median-stake'])"
   ]
  },
  {
   "cell_type": "code",
   "execution_count": 7,
   "metadata": {},
   "outputs": [],
   "source": [
    "def get_median(lst):\n",
    "    n = len(lst) \n",
    "    lst.sort() \n",
    "    if n % 2 == 0: \n",
    "        median1 = lst[n//2] \n",
    "        median2 = lst[n//2 - 1] \n",
    "        median = (median1 + median2)/2\n",
    "    else: \n",
    "        median = lst[n//2] \n",
    "    return median"
   ]
  },
  {
   "cell_type": "code",
   "execution_count": 8,
   "metadata": {},
   "outputs": [],
   "source": [
    "def M2_test():\n",
    "    print(\"Test-M2: Median is correctly computed for even and odd number of available slots\")\n",
    "   \n",
    "    iterations = 0\n",
    "    block = getBlockNumber()\n",
    "    last_block = getLastBlockOfCurrentEpoch()\n",
    "    print(\"current and last block numbers\", block, last_block)\n",
    "    new_block = last_block + 1\n",
    "    while block <= new_block:    \n",
    "        print(str(iterations+1) + \"iteration will begin ...\")\n",
    "        print(\"current block number: \", block)\n",
    "        next_block = block + 1\n",
    "        # get the median from rpc call\n",
    "        median = int(getEposMedian())\n",
    "        # calculate the median manually\n",
    "        validator_infos = getAllValidatorInformation()\n",
    "        stake = []\n",
    "        for i in validator_infos:\n",
    "            stake.append(i['total-delegation'])\n",
    "        cal_median = int(get_median(stake))\n",
    "        # compare the calculated median and rpc median\n",
    "        if cal_median != median:\n",
    "            print(\"Test-M2: Fail\")\n",
    "            print(\"manually calculated median stake: \" + str(cal_median))\n",
    "            print(\"harmony apr call median stake: \" + str(median))\n",
    "            print(\"\")\n",
    "        else:\n",
    "            print(\"Test-M2: Success\")\n",
    "            print(\"\")\n",
    "        \n",
    "        while block < next_block:\n",
    "            block = getBlockNumber()\n",
    "\n"
   ]
  },
  {
   "cell_type": "code",
   "execution_count": 9,
   "metadata": {},
   "outputs": [
    {
     "name": "stdout",
     "output_type": "stream",
     "text": [
      "Test-M2: Median is correctly computed for even and odd number of available slots\n",
      "current and last block numbers 1319 1329\n",
      "1iteration will begin ...\n",
      "current block number:  1319\n",
      "Test-M2: Fail\n",
      "manually calculated median stake: 324497500000000011141120\n",
      "harmony apr call median stake: 300000000000000008388608\n",
      "\n",
      "1iteration will begin ...\n",
      "current block number:  1320\n",
      "Test-M2: Fail\n",
      "manually calculated median stake: 324497500000000011141120\n",
      "harmony apr call median stake: 300000000000000008388608\n",
      "\n",
      "1iteration will begin ...\n",
      "current block number:  1321\n",
      "Test-M2: Fail\n",
      "manually calculated median stake: 324497500000000011141120\n",
      "harmony apr call median stake: 300000000000000008388608\n",
      "\n",
      "1iteration will begin ...\n",
      "current block number:  1322\n",
      "Test-M2: Fail\n",
      "manually calculated median stake: 324497500000000011141120\n",
      "harmony apr call median stake: 300000000000000008388608\n",
      "\n",
      "1iteration will begin ...\n",
      "current block number:  1323\n",
      "Test-M2: Fail\n",
      "manually calculated median stake: 324497500000000011141120\n",
      "harmony apr call median stake: 300000000000000008388608\n",
      "\n",
      "1iteration will begin ...\n",
      "current block number:  1324\n",
      "Test-M2: Fail\n",
      "manually calculated median stake: 324497500000000011141120\n",
      "harmony apr call median stake: 300000000000000008388608\n",
      "\n",
      "1iteration will begin ...\n",
      "current block number:  1325\n",
      "Test-M2: Fail\n",
      "manually calculated median stake: 324497500000000011141120\n",
      "harmony apr call median stake: 300000000000000008388608\n",
      "\n",
      "1iteration will begin ...\n",
      "current block number:  1326\n",
      "Test-M2: Fail\n",
      "manually calculated median stake: 324497500000000011141120\n",
      "harmony apr call median stake: 300000000000000008388608\n",
      "\n",
      "1iteration will begin ...\n",
      "current block number:  1327\n",
      "Test-M2: Fail\n",
      "manually calculated median stake: 324497500000000011141120\n",
      "harmony apr call median stake: 300000000000000008388608\n",
      "\n",
      "1iteration will begin ...\n",
      "current block number:  1328\n",
      "Test-M2: Fail\n",
      "manually calculated median stake: 324497500000000011141120\n",
      "harmony apr call median stake: 300000000000000008388608\n",
      "\n",
      "1iteration will begin ...\n",
      "current block number:  1329\n",
      "Test-M2: Fail\n",
      "manually calculated median stake: 324497500000000011141120\n",
      "harmony apr call median stake: 300000000000000008388608\n",
      "\n",
      "1iteration will begin ...\n",
      "current block number:  1330\n",
      "Test-M2: Fail\n",
      "manually calculated median stake: 324497500000000011141120\n",
      "harmony apr call median stake: 300000000000000008388608\n",
      "\n"
     ]
    }
   ],
   "source": [
    "M2_test()"
   ]
  },
  {
   "cell_type": "code",
   "execution_count": null,
   "metadata": {},
   "outputs": [],
   "source": []
  }
 ],
 "metadata": {
  "kernelspec": {
   "display_name": "Python 3",
   "language": "python",
   "name": "python3"
  },
  "language_info": {
   "codemirror_mode": {
    "name": "ipython",
    "version": 3
   },
   "file_extension": ".py",
   "mimetype": "text/x-python",
   "name": "python",
   "nbconvert_exporter": "python",
   "pygments_lexer": "ipython3",
   "version": "3.7.4"
  }
 },
 "nbformat": 4,
 "nbformat_minor": 2
}
