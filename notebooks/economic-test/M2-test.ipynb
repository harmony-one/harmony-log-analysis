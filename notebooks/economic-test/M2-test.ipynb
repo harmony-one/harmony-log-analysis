{
 "cells": [
  {
   "cell_type": "code",
   "execution_count": 1,
   "metadata": {},
   "outputs": [],
   "source": [
    "import json\n",
    "import pandas as pd\n",
    "import numpy as np\n",
    "import os\n",
    "import time\n",
    "import requests"
   ]
  },
  {
   "cell_type": "markdown",
   "metadata": {},
   "source": [
    "Update:\n",
    "1. Epos election happens at the last block of every epoch. However the rpc epos-median number is calculated as if the election happens immediately. We can see the epos-median change in every block, no need to wait until new epoch changes.\n",
    "\n",
    "2. the median number in the rpc is calculated among all the current validators, not only elected ones. "
   ]
  },
  {
   "cell_type": "code",
   "execution_count": 2,
   "metadata": {},
   "outputs": [],
   "source": [
    "def get_information(method, params):\n",
    "    url = 'https://api.s0.os.hmny.io/'\n",
    "    headers = {'Content-Type': 'application/json'}\n",
    "    data = {\"jsonrpc\":\"2.0\", \"method\": method, \"params\": params, \"id\":1}\n",
    "    r = requests.post(url, headers=headers, data = json.dumps(data))\n",
    "    content = json.loads(r.content)\n",
    "    return content"
   ]
  },
  {
   "cell_type": "code",
   "execution_count": 3,
   "metadata": {},
   "outputs": [],
   "source": [
    "def getBlockNumber():\n",
    "    method = \"hmy_blockNumber\"\n",
    "    params = []\n",
    "    num = get_information(method, params)['result']\n",
    "    return int(num, 16)"
   ]
  },
  {
   "cell_type": "code",
   "execution_count": 4,
   "metadata": {},
   "outputs": [],
   "source": [
    "def getLastBlockOfCurrentEpoch():\n",
    "    method = 'hmy_getStakingNetworkInfo'\n",
    "    params = []\n",
    "    return get_information(method, params)['result']['epoch-last-block']"
   ]
  },
  {
   "cell_type": "code",
   "execution_count": 5,
   "metadata": {},
   "outputs": [],
   "source": [
    "def getAllValidatorInformation():\n",
    "    method = 'hmy_getAllValidatorInformation'\n",
    "    params = [0]\n",
    "    return get_information(method, params)['result']"
   ]
  },
  {
   "cell_type": "code",
   "execution_count": 6,
   "metadata": {},
   "outputs": [],
   "source": [
    "def getEposMedian():\n",
    "    method = \"hmy_getMedianRawStakeSnapshot\"\n",
    "    params = []\n",
    "    return float(get_information(method, params)['result']['epos-median-stake'])"
   ]
  },
  {
   "cell_type": "code",
   "execution_count": 7,
   "metadata": {},
   "outputs": [],
   "source": [
    "def get_median(lst):\n",
    "    n = len(lst) \n",
    "    lst.sort() \n",
    "    if n % 2 == 0: \n",
    "        median1 = lst[n//2] \n",
    "        median2 = lst[n//2 - 1] \n",
    "        median = (median1 + median2)/2\n",
    "    else: \n",
    "        median = lst[n//2] \n",
    "    return median"
   ]
  },
  {
   "cell_type": "code",
   "execution_count": 8,
   "metadata": {},
   "outputs": [],
   "source": [
    "\n",
    "\n",
    "\n",
    "def M2_test():\n",
    "    print(\"Test-M2: Median is correctly computed for even and odd number of available slots\")\n",
    "    num = int(input(\"enter the number of blocks you want to test: \"))\n",
    "    \n",
    "    # reach the last block in current epoch to get the eligible validator address\n",
    "    block = getBlockNumber()\n",
    "    last_block = getLastBlockOfCurrentEpoch()\n",
    "    print(\"current and last block numbers\", block, last_block)\n",
    "    print(\"wait until the new epoch begins at block number ...\", last_block + 1)\n",
    "    block = getBlockNumber()\n",
    "    while block < last_block:\n",
    "        block = getBlockNumber()\n",
    "\n",
    "    new_epoch_block = block + 1\n",
    "    while block < new_epoch_block:\n",
    "        block = getBlockNumber()\n",
    "    print(\"new epoch first block reached\", new_epoch_block, \"will begin testing\")\n",
    "        \n",
    "    iterations = 0\n",
    "    while iterations < num:\n",
    "        print(str(iterations+1) + \"iteration will begin ...\")\n",
    "        print(\"current block number\", block)\n",
    "        # get the median from rpc call\n",
    "        median = getEposMedian()\n",
    "        # calculate the median manually\n",
    "        validator_infos = getAllValidatorInformation()\n",
    "        stake = []\n",
    "        for i in validator_infos:\n",
    "            address = i['validator']['address']\n",
    "            total_delegation = i['total-delegation']\n",
    "            if i['metrics'] == None:\n",
    "                continue\n",
    "            by_shard_metrics = i['metrics']['by-shard']\n",
    "            slots = len(by_shard_metrics)\n",
    "            delegation = total_delegation / slots\n",
    "#             print(\"address\", address, \"total delegation\", total_delegation, \"slots\", slots, \"delegation\", delegation)\n",
    "            for by_shard_metric in by_shard_metrics:\n",
    "                stake.append(delegation)\n",
    "        cal_median = float(get_median(stake))\n",
    "        # compare the calculated median and rpc median\n",
    "        if cal_median != median:\n",
    "            print(\"Test-M2: Fail\")\n",
    "            print(\"manually calculated median stake: \" + str(cal_median))\n",
    "            print(\"harmony apr call median stake: \" + str(median))\n",
    "            print(\"\")\n",
    "        else:\n",
    "            print(\"Test-M2: Success\")\n",
    "            print(\"cal_median\", cal_median, \"rpc median\", median)\n",
    "        \n",
    "        new_block = getBlockNumber()\n",
    "        while block == new_block:\n",
    "            new_block = getBlockNumber()\n",
    "        block = new_block\n",
    "        iterations += 1    "
   ]
  },
  {
   "cell_type": "code",
   "execution_count": 9,
   "metadata": {},
   "outputs": [
    {
     "name": "stdout",
     "output_type": "stream",
     "text": [
      "Test-M2: Median is correctly computed for even and odd number of available slots\n",
      "enter the number of blocks you want to test: 1\n",
      "current and last block numbers 5574 5585\n",
      "wait until the new epoch begins at block number ... 5586\n",
      "new epoch first block reached 5586 will begin testing\n",
      "1iteration will begin ...\n",
      "current block number 5586\n",
      "Test-M2: Success\n",
      "cal_median 2.7174975e+23 rpc median 2.7174975e+23\n"
     ]
    }
   ],
   "source": [
    "M2_test()"
   ]
  },
  {
   "cell_type": "code",
   "execution_count": null,
   "metadata": {},
   "outputs": [],
   "source": []
  }
 ],
 "metadata": {
  "kernelspec": {
   "display_name": "Python 3",
   "language": "python",
   "name": "python3"
  },
  "language_info": {
   "codemirror_mode": {
    "name": "ipython",
    "version": 3
   },
   "file_extension": ".py",
   "mimetype": "text/x-python",
   "name": "python",
   "nbconvert_exporter": "python",
   "pygments_lexer": "ipython3",
   "version": "3.7.4"
  }
 },
 "nbformat": 4,
 "nbformat_minor": 2
}
