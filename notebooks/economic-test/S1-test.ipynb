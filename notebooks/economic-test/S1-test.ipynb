{
 "cells": [
  {
   "cell_type": "code",
   "execution_count": 1,
   "metadata": {},
   "outputs": [],
   "source": [
    "import json\n",
    "import pandas as pd\n",
    "import numpy as np\n",
    "import os\n",
    "import time\n",
    "import requests"
   ]
  },
  {
   "cell_type": "code",
   "execution_count": 2,
   "metadata": {},
   "outputs": [],
   "source": [
    "def get_information(method, params):\n",
    "    url = 'https://api.s0.os.hmny.io/'\n",
    "    headers = {'Content-Type': 'application/json'}\n",
    "    data = {\"jsonrpc\":\"2.0\", \"method\": method, \"params\": params, \"id\":1}\n",
    "    r = requests.post(url, headers=headers, data = json.dumps(data))\n",
    "    content = json.loads(r.content)\n",
    "    return content"
   ]
  },
  {
   "cell_type": "code",
   "execution_count": 3,
   "metadata": {},
   "outputs": [],
   "source": [
    "def getCommittees():\n",
    "    method = \"hmy_getSuperCommittees\"\n",
    "    params = []\n",
    "    return get_information(method, params)['result']['current']['quorum-deciders']"
   ]
  },
  {
   "cell_type": "code",
   "execution_count": 4,
   "metadata": {},
   "outputs": [],
   "source": [
    "def S1_test():\n",
    "    print(\"Test-S1: Equilibrium: percentage of external validators on each shard is balanced\")\n",
    "    committees = getCommittees()\n",
    "    perc = dict()\n",
    "    for k,v in committees.items():\n",
    "        members = v['committee-members']\n",
    "        count = v['count']\n",
    "        num = 0\n",
    "        for i in members:\n",
    "            if not i['is-harmony-slot']:\n",
    "                num += 1\n",
    "        perc[k] = num/count\n",
    "    print(\"the percentage for each shard: \", perc)"
   ]
  },
  {
   "cell_type": "code",
   "execution_count": 5,
   "metadata": {},
   "outputs": [
    {
     "name": "stdout",
     "output_type": "stream",
     "text": [
      "Test-S1: Equilibrium: percentage of external validators on each shard is balanced\n",
      "the percentage for each shard:  {'shard-0': 0.2857142857142857, 'shard-1': 0.1780821917808219, 'shard-2': 0.22077922077922077, 'shard-3': 0.21052631578947367}\n"
     ]
    }
   ],
   "source": [
    "S1_test()"
   ]
  }
 ],
 "metadata": {
  "kernelspec": {
   "display_name": "Python 3",
   "language": "python",
   "name": "python3"
  },
  "language_info": {
   "codemirror_mode": {
    "name": "ipython",
    "version": 3
   },
   "file_extension": ".py",
   "mimetype": "text/x-python",
   "name": "python",
   "nbconvert_exporter": "python",
   "pygments_lexer": "ipython3",
   "version": "3.7.4"
  }
 },
 "nbformat": 4,
 "nbformat_minor": 2
}
