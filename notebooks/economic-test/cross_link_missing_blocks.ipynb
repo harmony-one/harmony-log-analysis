{
 "cells": [
  {
   "cell_type": "code",
   "execution_count": 1,
   "metadata": {},
   "outputs": [],
   "source": [
    "import json\n",
    "import pandas as pd\n",
    "import numpy as np\n",
    "import time\n",
    "import requests"
   ]
  },
  {
   "cell_type": "code",
   "execution_count": 2,
   "metadata": {},
   "outputs": [],
   "source": [
    "def get_information(method, params):\n",
    "    url = 'https://api.s0.os.hmny.io/'\n",
    "    headers = {'Content-Type': 'application/json'}\n",
    "    data = {\"jsonrpc\":\"2.0\", \"method\": method, \"params\": params, \"id\":1}\n",
    "    r = requests.post(url, headers=headers, data = json.dumps(data))\n",
    "    content = json.loads(r.content)\n",
    "    return content"
   ]
  },
  {
   "cell_type": "code",
   "execution_count": 3,
   "metadata": {},
   "outputs": [],
   "source": [
    "def getBlockNumber():\n",
    "    method = \"hmy_blockNumber\"\n",
    "    params = []\n",
    "    num = get_information(method, params)['result']\n",
    "    return int(num, 16)"
   ]
  },
  {
   "cell_type": "code",
   "execution_count": 4,
   "metadata": {},
   "outputs": [],
   "source": [
    "def getLastBlockOfCurrentEpoch():\n",
    "    method = 'hmy_getStakingNetworkInfo'\n",
    "    params = []\n",
    "    return get_information(method, params)['result']['epoch-last-block']"
   ]
  },
  {
   "cell_type": "code",
   "execution_count": 5,
   "metadata": {},
   "outputs": [],
   "source": [
    "def getEpoch():\n",
    "    method = 'hmy_getEpoch'\n",
    "    params = []\n",
    "    num = get_information(method, params)['result']\n",
    "    return int(num, 16)"
   ]
  },
  {
   "cell_type": "code",
   "execution_count": 6,
   "metadata": {},
   "outputs": [],
   "source": [
    "def getValidatorInfo(validator):\n",
    "    method = \"hmy_getValidatorInformation\"\n",
    "    params = [validator]\n",
    "    return get_information(method, params)['result']"
   ]
  },
  {
   "cell_type": "code",
   "execution_count": 8,
   "metadata": {},
   "outputs": [
    {
     "data": {
      "text/plain": [
       "577"
      ]
     },
     "execution_count": 8,
     "metadata": {},
     "output_type": "execute_result"
    }
   ],
   "source": [
    "getBlockNumber()"
   ]
  },
  {
   "cell_type": "code",
   "execution_count": 9,
   "metadata": {},
   "outputs": [
    {
     "data": {
      "text/plain": [
       "607"
      ]
     },
     "execution_count": 9,
     "metadata": {},
     "output_type": "execute_result"
    }
   ],
   "source": [
    "getLastBlockOfCurrentEpoch()"
   ]
  },
  {
   "cell_type": "code",
   "execution_count": 11,
   "metadata": {},
   "outputs": [
    {
     "data": {
      "text/plain": [
       "569"
      ]
     },
     "execution_count": 11,
     "metadata": {},
     "output_type": "execute_result"
    }
   ],
   "source": [
    "607-38"
   ]
  },
  {
   "cell_type": "code",
   "execution_count": 14,
   "metadata": {},
   "outputs": [
    {
     "name": "stdout",
     "output_type": "stream",
     "text": [
      "enter the number of epoches you want to test: 2\n",
      "test 1 will begin ...\n",
      "current epoch:  252\n",
      "current and last block numbers 9585 9613\n",
      "block number:  9586 earning:  3434454452035485984\n",
      "block number:  9587 earning:  3434454452035485984\n",
      "block number:  9588 earning:  3434454452035485984\n",
      "block number:  9589 earning:  3434454452035485984\n",
      "block number:  9590 earning:  3434454452035485984\n",
      "block number:  9591 earning:  3434454452035485984\n",
      "block number:  9592 earning:  3434454452035485984\n",
      "block number:  9593 earning:  3434454452035485984\n",
      "block number:  9594 earning:  3434454452035485984\n",
      "block number:  9595 earning:  3434454452035485984\n",
      "block number:  9596 earning:  3434454452035485984\n",
      "block number:  9597 earning:  3434454452035485984\n",
      "block number:  9598 earning:  3434454452035485984\n",
      "block number:  9599 earning:  3434454452035485984\n",
      "block number:  9600 earning:  3434454452035485984\n",
      "block number:  9601 earning:  3434454452035485984\n",
      "block number:  9602 earning:  3434454452035485984\n",
      "block number:  9603 earning:  3434454452035485984\n",
      "block number:  9604 earning:  3434454452035485984\n",
      "block number:  9605 earning:  3434454452035485984\n",
      "block number:  9606 earning:  3434454452035485984\n",
      "block number:  9607 earning:  3434454452035485984\n",
      "block number:  9608 earning:  3434454452035485984\n",
      "block number:  9609 earning:  3434454452035485984\n",
      "block number:  9610 earning:  3434454452035485984\n",
      "block number:  9611 earning:  3434454452035485984\n",
      "block number:  9612 earning:  3434454452035485984\n",
      "block number:  9613 earning:  3434454452035485984\n",
      "block number:  9614 earning:  3434454452035485984\n",
      "test 2 will begin ...\n",
      "current epoch:  253\n",
      "current and last block numbers 9614 9651\n",
      "block number:  9615 earning:  3480608863647643616\n",
      "block number:  9616 earning:  3480608863647643616\n",
      "block number:  9617 earning:  3480608863647643616\n",
      "block number:  9618 earning:  3480608863647643616\n",
      "block number:  9619 earning:  3480608863647643616\n",
      "block number:  9620 earning:  3480608863647643616\n",
      "block number:  9621 earning:  3480608863647643616\n",
      "block number:  9622 earning:  3480608863647643616\n",
      "block number:  9623 earning:  3480608863647643616\n",
      "block number:  9624 earning:  3480608863647643616\n",
      "block number:  9625 earning:  3480608863647643616\n",
      "block number:  9626 earning:  3480608863647643616\n",
      "block number:  9627 earning:  3480608863647643616\n",
      "block number:  9628 earning:  3480608863647643616\n",
      "block number:  9629 earning:  3480608863647643616\n",
      "block number:  9630 earning:  3480608863647643616\n",
      "block number:  9631 earning:  3480608863647643616\n",
      "block number:  9632 earning:  3480608863647643616\n",
      "block number:  9633 earning:  3480608863647643616\n",
      "block number:  9634 earning:  3480608863647643616\n",
      "block number:  9635 earning:  3480608863647643616\n",
      "block number:  9636 earning:  3480608863647643616\n",
      "block number:  9637 earning:  3480608863647643616\n",
      "block number:  9638 earning:  3480608863647643616\n",
      "block number:  9639 earning:  3480608863647643616\n",
      "block number:  9640 earning:  3480608863647643616\n",
      "block number:  9641 earning:  3480608863647643616\n",
      "block number:  9642 earning:  3480608863647643616\n",
      "block number:  9643 earning:  3480608863647643616\n",
      "block number:  9644 earning:  3480608863647643616\n",
      "block number:  9645 earning:  3480608863647643616\n",
      "block number:  9646 earning:  3480608863647643616\n",
      "block number:  9647 earning:  3480608863647643616\n",
      "block number:  9648 earning:  3480608863647643616\n",
      "block number:  9649 earning:  3480608863647643616\n",
      "block number:  9650 earning:  3480608863647643616\n",
      "block number:  9651 earning:  3480608863647643616\n",
      "block number:  9652 earning:  3480608863647643616\n"
     ]
    }
   ],
   "source": [
    "# i = 'one1tpxl87y4g8ecsm6ceqay49qxyl5vs94jjyfvd9' # uptime 100%\n",
    "i = 'one17tj2jjehdlg8xfgp48xpeyqur2qf6nvs88jvyu'\n",
    "num = int(input(\"enter the number of epoches you want to test: \"))\n",
    "iterations = 0\n",
    "while iterations < num:\n",
    "    print(\"test \" + str(iterations+1) + \" will begin ...\")\n",
    "    epoch = getEpoch()\n",
    "    print(\"current epoch: \", epoch)\n",
    "    block = getBlockNumber()\n",
    "    last_block = getLastBlockOfCurrentEpoch()\n",
    "    print(\"current and last block numbers\", block, last_block)\n",
    "    while block <= last_block:\n",
    "        reward = getValidatorInfo(i)['lifetime']['reward-accumulated']\n",
    "        new_block = block+1\n",
    "        while block < new_block:\n",
    "            block = getBlockNumber()\n",
    "        new_reward = getValidatorInfo(i)['lifetime']['reward-accumulated']\n",
    "        diff = new_reward - reward\n",
    "        print(\"block number: \", block, \"earning: \", diff)\n",
    "    iterations += 1"
   ]
  },
  {
   "cell_type": "code",
   "execution_count": 15,
   "metadata": {},
   "outputs": [
    {
     "data": {
      "text/plain": [
       "{'validator': {'bls-public-keys': ['264eaab1701fb514719ae6d9d04df32abebda9f94a6b5d681c53c8328f2bb35fe8e3cc9af9ae1c6b520246601c11ca88',\n",
       "   '2f90bb40545f5ffdd23d58daa8c7276713663734128dc2307a5d5c15fbabe639f43a157d4ed85ac93fac56a86e27e78c',\n",
       "   '475ead4329fef1bacbbcaba1e27a496f4c3e824eccb2168132840974a5d3105e9654ecc71a37ae10fea2d62ff431a700',\n",
       "   '60ec71f4ea3d89b9d990140e287501d5b4384df6a80e573a929c9f4a8a25c9364b44a625545715e4cd85cb045d4f0c80',\n",
       "   '12f805a7462a0e714ad468a030655389327cfab6a6ad34f009ed89e5f73b0a2f54ae95ecee8bf8417c4f4fbc49a13590',\n",
       "   '3ed712109f3138e5a9d361471db650056c7c97597913873367dc0be1f24ff4270a104169f4afcc980e8f4af2c85dd798',\n",
       "   '46e930f2f6c2b911fee8d0606996b77675af3deb2f4032cb1a82fc3f9435fe249343b7462124391cba4afdf990b0128c',\n",
       "   'f96842aa7d6958d14aac19db9dd7cc98f0538f98fa6b7c348dccf38ad1cb18c3626115476c0d0ff88fee7c804dc9c018'],\n",
       "  'last-epoch-in-committee': 254,\n",
       "  'min-self-delegation': 10000000000000000000000,\n",
       "  'max-total-delegation': 100000000000000000000000000,\n",
       "  'rate': '0.100000000000000000',\n",
       "  'max-rate': '0.100000000000000000',\n",
       "  'max-change-rate': '0.100000000000000000',\n",
       "  'update-height': 1923,\n",
       "  'name': 'WeAreONE',\n",
       "  'identity': 'akc12190',\n",
       "  'website': 'AKC12190.COM',\n",
       "  'security-contact': 'AKC-Admin',\n",
       "  'details': 'AKCValidator',\n",
       "  'creation-height': 1923,\n",
       "  'address': 'one17tj2jjehdlg8xfgp48xpeyqur2qf6nvs88jvyu',\n",
       "  'delegations': [{'delegator-address': 'one17tj2jjehdlg8xfgp48xpeyqur2qf6nvs88jvyu',\n",
       "    'amount': 600000000000000000000000,\n",
       "    'reward': 21395612814350575990082,\n",
       "    'undelegations': []},\n",
       "   {'delegator-address': 'one1zc4jhrn0864ph923gdtg27uvljyprs6mcnyz9l',\n",
       "    'amount': 300000000000000000000000,\n",
       "    'reward': 8268506910683516260660,\n",
       "    'undelegations': []},\n",
       "   {'delegator-address': 'one1cr8qrjl6khac9d5auyslvxln864vmqd5xll2zh',\n",
       "    'amount': 300000000000000000000000,\n",
       "    'reward': 8131753669077001142210,\n",
       "    'undelegations': []},\n",
       "   {'delegator-address': 'one1675d7adqu9egn0ehd9fx4f6jmdjfynw3gkr48q',\n",
       "    'amount': 2500000000000000000000000,\n",
       "    'reward': 2977093444171760582592,\n",
       "    'undelegations': []}]},\n",
       " 'current-epoch-performance': {'current-epoch-signing-percent': {'current-epoch-signed': 144,\n",
       "   'current-epoch-to-sign': 144,\n",
       "   'num-beacon-blocks-until-next-epoch': 21,\n",
       "   'current-epoch-signing-percentage': '1.000000000000000000'}},\n",
       " 'metrics': {'total-effective-stake': '600000000000000000000000.000000000000000000',\n",
       "  'by-bls-key': [{'key': {'bls-public-key': '2f90bb40545f5ffdd23d58daa8c7276713663734128dc2307a5d5c15fbabe639f43a157d4ed85ac93fac56a86e27e78c',\n",
       "     'group-percent': '0.043520309477756286',\n",
       "     'effective-stake': '150000000000000000000000.000000000000000000',\n",
       "     'earning-account': 'one17tj2jjehdlg8xfgp48xpeyqur2qf6nvs88jvyu',\n",
       "     'overall-percent': '0.013926499032882012',\n",
       "     'shard-id': 0},\n",
       "    'earned-reward': 0},\n",
       "   {'key': {'bls-public-key': '264eaab1701fb514719ae6d9d04df32abebda9f94a6b5d681c53c8328f2bb35fe8e3cc9af9ae1c6b520246601c11ca88',\n",
       "     'group-percent': '0.043520309477756286',\n",
       "     'effective-stake': '150000000000000000000000.000000000000000000',\n",
       "     'earning-account': 'one17tj2jjehdlg8xfgp48xpeyqur2qf6nvs88jvyu',\n",
       "     'overall-percent': '0.013926499032882012',\n",
       "     'shard-id': 0},\n",
       "    'earned-reward': 0},\n",
       "   {'key': {'bls-public-key': '60ec71f4ea3d89b9d990140e287501d5b4384df6a80e573a929c9f4a8a25c9364b44a625545715e4cd85cb045d4f0c80',\n",
       "     'group-percent': '0.043520309477756286',\n",
       "     'effective-stake': '150000000000000000000000.000000000000000000',\n",
       "     'earning-account': 'one17tj2jjehdlg8xfgp48xpeyqur2qf6nvs88jvyu',\n",
       "     'overall-percent': '0.013926499032882012',\n",
       "     'shard-id': 0},\n",
       "    'earned-reward': 5222097348626650821784},\n",
       "   {'key': {'bls-public-key': '475ead4329fef1bacbbcaba1e27a496f4c3e824eccb2168132840974a5d3105e9654ecc71a37ae10fea2d62ff431a700',\n",
       "     'group-percent': '0.043520309477756286',\n",
       "     'effective-stake': '150000000000000000000000.000000000000000000',\n",
       "     'earning-account': 'one17tj2jjehdlg8xfgp48xpeyqur2qf6nvs88jvyu',\n",
       "     'overall-percent': '0.013926499032882012',\n",
       "     'shard-id': 0},\n",
       "    'earned-reward': 0}]},\n",
       " 'total-delegation': 3700000000000000000000000,\n",
       " 'currently-in-committee': True,\n",
       " 'epos-status': 'currently elected',\n",
       " 'lifetime': {'reward-accumulated': 40772966838282853951224,\n",
       "  'blocks': {'to-sign': 60974, 'signed': 60947},\n",
       "  'apr': '0.000000000000000000'}}"
      ]
     },
     "execution_count": 15,
     "metadata": {},
     "output_type": "execute_result"
    }
   ],
   "source": [
    "getValidatorInfo(i)"
   ]
  },
  {
   "cell_type": "code",
   "execution_count": null,
   "metadata": {},
   "outputs": [],
   "source": []
  },
  {
   "cell_type": "code",
   "execution_count": null,
   "metadata": {},
   "outputs": [],
   "source": []
  }
 ],
 "metadata": {
  "kernelspec": {
   "display_name": "Python 3",
   "language": "python",
   "name": "python3"
  },
  "language_info": {
   "codemirror_mode": {
    "name": "ipython",
    "version": 3
   },
   "file_extension": ".py",
   "mimetype": "text/x-python",
   "name": "python",
   "nbconvert_exporter": "python",
   "pygments_lexer": "ipython3",
   "version": "3.7.6"
  }
 },
 "nbformat": 4,
 "nbformat_minor": 2
}
