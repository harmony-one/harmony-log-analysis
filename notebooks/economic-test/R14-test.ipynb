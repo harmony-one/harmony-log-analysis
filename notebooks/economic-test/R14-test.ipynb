{
 "cells": [
  {
   "cell_type": "code",
   "execution_count": 1,
   "metadata": {},
   "outputs": [],
   "source": [
    "import json\n",
    "import pandas as pd\n",
    "import numpy as np\n",
    "import time\n",
    "import requests\n",
    "from collections import defaultdict"
   ]
  },
  {
   "cell_type": "code",
   "execution_count": 2,
   "metadata": {},
   "outputs": [],
   "source": [
    "def get_information(method, params):\n",
    "    url = 'https://api.s0.os.hmny.io/'\n",
    "    headers = {'Content-Type': 'application/json'}\n",
    "    data = {\"jsonrpc\":\"2.0\", \"method\": method, \"params\": params, \"id\":1}\n",
    "    r = requests.post(url, headers=headers, data = json.dumps(data))\n",
    "    content = json.loads(r.content)\n",
    "    return content"
   ]
  },
  {
   "cell_type": "code",
   "execution_count": 3,
   "metadata": {},
   "outputs": [],
   "source": [
    "def getBlockNumber():\n",
    "    method = \"hmy_blockNumber\"\n",
    "    params = []\n",
    "    num = get_information(method, params)['result']\n",
    "    return int(num, 16)"
   ]
  },
  {
   "cell_type": "code",
   "execution_count": 4,
   "metadata": {},
   "outputs": [],
   "source": [
    "def getAllValidatorInformation():\n",
    "    method = 'hmy_getAllValidatorInformation'\n",
    "    params = [0]\n",
    "    return get_information(method, params)['result'] "
   ]
  },
  {
   "cell_type": "code",
   "execution_count": 5,
   "metadata": {},
   "outputs": [],
   "source": [
    "def getAprByShards():\n",
    "    count = defaultdict(int)\n",
    "    apr_sum = defaultdict(int)\n",
    "    validator_infos = getAllValidatorInformation()\n",
    "    for i in validator_infos:\n",
    "        if i['currently-in-committee'] == True:\n",
    "            apr = float(i['lifetime']['apr'])\n",
    "            for s in i['metrics']['by-shard']:\n",
    "                shard = s['shard-id']\n",
    "                count[shard] += 1\n",
    "                apr_sum[shard] += apr\n",
    "    apr_avg = dict()\n",
    "    for k,v in apr_sum.items():\n",
    "        apr_avg[k] = v/count[k]\n",
    "    return apr_avg"
   ]
  },
  {
   "cell_type": "code",
   "execution_count": 6,
   "metadata": {},
   "outputs": [],
   "source": [
    "def R14_test():\n",
    "    print(\"Test-R14: Shard fairness: rate of earning on shards is similar if the block time are same\")\n",
    "    num = int(input(\"enter the number of blocks you want to test: \"))\n",
    "    \n",
    "    iterations = 0\n",
    "    while iterations < num:\n",
    "        block = getBlockNumber()\n",
    "        print(\"current block number\", block)\n",
    "        next_block = block + 1\n",
    "        while block < next_block:\n",
    "            block = getBlockNumber()\n",
    "        # get the average apr for each shard \n",
    "        print(\"next block reached\", block, \"will begin testing\")\n",
    "        apr_avg = getAprByShards()\n",
    "        apr_avg = sorted(apr_avg.items(), key=lambda kv: kv[0])\n",
    "        print(\"the average apr for each shard: \", apr_avg)\n",
    "        iterations += 1        \n",
    "    "
   ]
  },
  {
   "cell_type": "code",
   "execution_count": 7,
   "metadata": {},
   "outputs": [
    {
     "name": "stdout",
     "output_type": "stream",
     "text": [
      "Test-R14: Shard fairness: rate of earning on shards is similar if the block time are same\n",
      "enter the number of blocks you want to test: 3\n",
      "current block number 24294\n",
      "next block reached 24295 will begin testing\n",
      "the average apr for each shard:  [(0, 11.595348571901626), (1, 27.71951413820334), (2, 23.609600586957846), (3, 0.7216224870702569)]\n",
      "current block number 24295\n",
      "next block reached 24296 will begin testing\n",
      "the average apr for each shard:  [(0, 11.595348571901626), (1, 27.71951413820334), (2, 23.609600586957846), (3, 0.7216224870702569)]\n",
      "current block number 24296\n",
      "next block reached 24297 will begin testing\n",
      "the average apr for each shard:  [(0, 11.595348571901626), (1, 27.71951413820334), (2, 23.609600586957846), (3, 0.7216224870702569)]\n"
     ]
    }
   ],
   "source": [
    "R14_test()"
   ]
  }
 ],
 "metadata": {
  "kernelspec": {
   "display_name": "Python 3",
   "language": "python",
   "name": "python3"
  },
  "language_info": {
   "codemirror_mode": {
    "name": "ipython",
    "version": 3
   },
   "file_extension": ".py",
   "mimetype": "text/x-python",
   "name": "python",
   "nbconvert_exporter": "python",
   "pygments_lexer": "ipython3",
   "version": "3.7.4"
  }
 },
 "nbformat": 4,
 "nbformat_minor": 2
}
