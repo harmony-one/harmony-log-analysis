{
 "cells": [
  {
   "cell_type": "code",
   "execution_count": 1,
   "metadata": {},
   "outputs": [],
   "source": [
    "import json\n",
    "import pandas as pd\n",
    "import numpy as np\n",
    "import time\n",
    "import requests"
   ]
  },
  {
   "cell_type": "code",
   "execution_count": 2,
   "metadata": {},
   "outputs": [],
   "source": [
    "def get_information(method, params):\n",
    "    url = 'https://api.s0.os.hmny.io/'\n",
    "    headers = {'Content-Type': 'application/json'}\n",
    "    data = {\"jsonrpc\":\"2.0\", \"method\": method, \"params\": params, \"id\":1}\n",
    "    r = requests.post(url, headers=headers, data = json.dumps(data))\n",
    "    content = json.loads(r.content)\n",
    "    return content"
   ]
  },
  {
   "cell_type": "code",
   "execution_count": 3,
   "metadata": {},
   "outputs": [],
   "source": [
    "def getBlockNumber():\n",
    "    method = \"hmy_blockNumber\"\n",
    "    params = []\n",
    "    num = get_information(method, params)['result']\n",
    "    return int(num, 16)"
   ]
  },
  {
   "cell_type": "code",
   "execution_count": 4,
   "metadata": {},
   "outputs": [],
   "source": [
    "def getLastBlockOfCurrentEpoch():\n",
    "    method = 'hmy_getStakingNetworkInfo'\n",
    "    params = []\n",
    "    return get_information(method, params)['result']['epoch-last-block']"
   ]
  },
  {
   "cell_type": "code",
   "execution_count": 5,
   "metadata": {},
   "outputs": [],
   "source": [
    "def getAllValidatorInformation():\n",
    "    method = 'hmy_getAllValidatorInformation'\n",
    "    params = [0]\n",
    "    return get_information(method, params)['result'] "
   ]
  },
  {
   "cell_type": "code",
   "execution_count": 6,
   "metadata": {},
   "outputs": [],
   "source": [
    "def getAvailabilityAndRewards():\n",
    "    reward = dict()\n",
    "    validator_infos = getAllValidatorInformation()\n",
    "    for i in validator_infos:\n",
    "        if i['currently-in-committee'] == True:\n",
    "            sign = i['current-epoch-performance']['current-epoch-signing-percent']\n",
    "            perc = sign['current-epoch-signed']/sign['current-epoch-to-sign']\n",
    "            if perc == 2/3:\n",
    "                address = i['validator']['address']\n",
    "                reward_accumulated = i['lifetime']['reward-accumulated']\n",
    "                reward[address] = reward_accumulated\n",
    "    return reward"
   ]
  },
  {
   "cell_type": "code",
   "execution_count": 7,
   "metadata": {},
   "outputs": [],
   "source": [
    "def getRewardsAndStatus(cutoff):\n",
    "    reward = dict()\n",
    "    status = dict()\n",
    "    validator_infos = getAllValidatorInformation()\n",
    "    for i in validator_infos:\n",
    "        address = i['validator']['address']\n",
    "        if address in cutoff: \n",
    "            reward_accumulated = i['lifetime']['reward-accumulated']\n",
    "            reward[address] = reward_accumulated\n",
    "            epos_status = i['status']\n",
    "            status[address] = epos_status\n",
    "    return reward, status\n"
   ]
  },
  {
   "cell_type": "code",
   "execution_count": 8,
   "metadata": {},
   "outputs": [],
   "source": [
    "def CN1_test():\n",
    "    print(\"Test-CN1: Slow validator is never starved (should be able to sign blocks)\")\n",
    "    \n",
    "    \n",
    "    block = getBlockNumber()\n",
    "    last_block = getLastBlockOfCurrentEpoch()\n",
    "    print(\"current and last block numbers\", block, last_block)\n",
    "    while block < last_block:\n",
    "        block = getBlockNumber()\n",
    "    # get the validator's reward who just meets the 2/3 cut-off  \n",
    "    cutoff_rewards = getAvailabilityAndRewards()\n",
    "    if not cutoff_rewards:\n",
    "        print('currently no one is at the availability cut-off: 2/3 sign percentage')\n",
    "    else:\n",
    "        new_block = block + 1\n",
    "        while block < new_block:\n",
    "            block = getBlockNumber()\n",
    "        print(\"new epoch first block reached\", block, \"will begin testing\")\n",
    "        next_rewards, status = getRewardsAndStatus()\n",
    "        for k,v in next_rewards.items():\n",
    "            reward_per_block = v - cutoff_rewards[k]\n",
    "            if reward_per_block == 0 or status[k] == 'not eligible to be elected next epoch' \\\n",
    "            or status[k] == 'currently elected and not signing enough blocks to be eligible for election next epoch':\n",
    "                print(\"Test-CN1: Fail\")\n",
    "                if reward_per_block == 0:\n",
    "                    print(\"Slow validator doesn't get reward\")\n",
    "                if status[k] == 'not eligible to be elected next epoch' \\\n",
    "                or status[k] == 'currently elected and not signing enough blocks to be eligible for election next epoch':\n",
    "                    print(\"Slow validator is no longer eligible\")\n",
    "            else:\n",
    "                print(\"Test-CN1: Success\")\n",
    "\n",
    "    "
   ]
  },
  {
   "cell_type": "code",
   "execution_count": 9,
   "metadata": {},
   "outputs": [
    {
     "name": "stdout",
     "output_type": "stream",
     "text": [
      "Test-CN1: Slow validator is never starved (should be able to sign blocks)\n",
      "current and last block numbers 16556 16567\n",
      "currently no one is at the availability cut-off: 2/3 sign percentage\n"
     ]
    }
   ],
   "source": [
    "CN1_test()"
   ]
  }
 ],
 "metadata": {
  "kernelspec": {
   "display_name": "Python 3",
   "language": "python",
   "name": "python3"
  },
  "language_info": {
   "codemirror_mode": {
    "name": "ipython",
    "version": 3
   },
   "file_extension": ".py",
   "mimetype": "text/x-python",
   "name": "python",
   "nbconvert_exporter": "python",
   "pygments_lexer": "ipython3",
   "version": "3.7.4"
  }
 },
 "nbformat": 4,
 "nbformat_minor": 2
}
