{
 "cells": [
  {
   "cell_type": "code",
   "execution_count": 1,
   "metadata": {},
   "outputs": [],
   "source": [
    "import json\n",
    "import pandas as pd\n",
    "import numpy as np\n",
    "import os\n",
    "import time\n",
    "import requests"
   ]
  },
  {
   "cell_type": "markdown",
   "metadata": {},
   "source": [
    "logic: \n",
    "1. first get the max number of external slots: 200\n",
    "2. then filter all the validators who are eligible to be selected next epoch; if the total number of validators is lower than 200, then every filtered validator should be elected next epoch; if total number is higher than 200, we need to first sort these validators based on their total delegations, and get the top 200 validators.\n",
    "3. wait for one epoch, to check whether those filtered validators are elected"
   ]
  },
  {
   "cell_type": "code",
   "execution_count": 2,
   "metadata": {},
   "outputs": [],
   "source": [
    "def get_information(method, params):\n",
    "    url = 'https://api.s0.os.hmny.io/'\n",
    "    headers = {'Content-Type': 'application/json'}\n",
    "    data = {\"jsonrpc\":\"2.0\", \"method\": method, \"params\": params, \"id\":1}\n",
    "    r = requests.post(url, headers=headers, data = json.dumps(data))\n",
    "    content = json.loads(r.content)\n",
    "    return content"
   ]
  },
  {
   "cell_type": "code",
   "execution_count": 3,
   "metadata": {},
   "outputs": [],
   "source": [
    "def getCommittees():\n",
    "    method = \"hmy_getSuperCommittees\"\n",
    "    params = []\n",
    "    return get_information(method, params)['result']['current']"
   ]
  },
  {
   "cell_type": "code",
   "execution_count": 4,
   "metadata": {},
   "outputs": [],
   "source": [
    "def getAllValidator():\n",
    "    method = 'hmy_getAllValidatorAddresses'\n",
    "    params = []\n",
    "    return get_information(method, params)['result'] "
   ]
  },
  {
   "cell_type": "code",
   "execution_count": 5,
   "metadata": {},
   "outputs": [],
   "source": [
    "def getValidatorInfo(validator):\n",
    "    method = \"hmy_getValidatorInformation\"\n",
    "    params = [validator]\n",
    "    return get_information(method, params)['result']"
   ]
  },
  {
   "cell_type": "code",
   "execution_count": 6,
   "metadata": {},
   "outputs": [],
   "source": [
    "def getEpoch():\n",
    "    method = \"hmy_getEpoch\"\n",
    "    params = []\n",
    "    epoch = get_information(method, params)['result']\n",
    "    return int(epoch, 16)"
   ]
  },
  {
   "cell_type": "code",
   "execution_count": 7,
   "metadata": {},
   "outputs": [],
   "source": [
    "def E1_test():\n",
    "    flag = True\n",
    "    committees = getCommittees()\n",
    "    slot = committees['external-slot-count']\n",
    "    validator = getAllValidator()\n",
    "    epoch = getEpoch()\n",
    "    \n",
    "    # get top #slots nodes who are eligible to elected next epoch\n",
    "    eligible = []\n",
    "    stake = dict()\n",
    "    for i in validator:\n",
    "        info = getValidatorInfo(i)\n",
    "        status = info['epos-status']\n",
    "        if status == 'currently elected and signing enough blocks to be eligible for election next epoch' or \\\n",
    "        status == 'eligible to be elected next epoch':\n",
    "            eligible.append(i)\n",
    "            stake[i] = info['total-delegation']\n",
    "\n",
    "    if len(eligible) > slot:\n",
    "        sorted_stake = sorted(stake.items(), key=lambda kv: kv[1], reverse = True)\n",
    "        eligible = [kv[0] for kv in sorted_stake[:slot]]\n",
    "    \n",
    "    # wait for epoch changes\n",
    "    new_epoch = getEpoch()\n",
    "    while new_epoch == epoch:\n",
    "        time.sleep(8)\n",
    "        new_epoch = getEpoch()\n",
    "        \n",
    "    # check whether the eligible validators are selected\n",
    "    for i in eligible:\n",
    "        info = getValidatorInfo(i)\n",
    "        if info['epos-status'] == 'eligible to be elected next epoch' or \\\n",
    "        info['epos-status'] == 'not eligible to be elected next epoch':\n",
    "            print(\"validator \" + i + \" who is eligible to be selected is not selected\")\n",
    "            flag = False\n",
    "    if flag:\n",
    "        return True\n",
    "    return False"
   ]
  },
  {
   "cell_type": "code",
   "execution_count": 8,
   "metadata": {},
   "outputs": [
    {
     "name": "stdout",
     "output_type": "stream",
     "text": [
      "validator one164e2dwupqxd7ssr85ncnkx3quk7fexy0eta2vy who is eligible to be selected is not selected\n",
      "validator one12mx7ssutgvd243g5vpvefl5sf6vttqkq5z3x04 who is eligible to be selected is not selected\n"
     ]
    },
    {
     "data": {
      "text/plain": [
       "False"
      ]
     },
     "execution_count": 8,
     "metadata": {},
     "output_type": "execute_result"
    }
   ],
   "source": [
    "E1_test()"
   ]
  },
  {
   "cell_type": "markdown",
   "metadata": {},
   "source": [
    "the info of the exceptions: "
   ]
  },
  {
   "cell_type": "code",
   "execution_count": 9,
   "metadata": {},
   "outputs": [
    {
     "data": {
      "text/plain": [
       "{'validator': {'bls-public-keys': ['2eba33b81d0aacb22e793625077d0c57dd6d38d753bbf39dc720dea0f4a5c056c81d8967a99c2cf1811d0327b049ab16',\n",
       "   '394d726edbb908fa71bdb2b417dd0fe7c77d9f86b3a0b1e1b51d11e26dd1cddb4e21269c3e1d08e75d43ec98ff4ca582',\n",
       "   '73ac6379c785142d46bf8423469639fa1dfb9e416e97206cff2c07522a18999a54faaf9cbcad1e34a6c2dc770224848e',\n",
       "   'b682337f407ec929e7cc18e5103da8a038d63118990b9d8124b31836d8b394a695f16d88b6a32b2543b1dcaaba99a582'],\n",
       "  'last-epoch-in-committee': 0,\n",
       "  'min-self-delegation': 322222000000000000000000,\n",
       "  'max-total-delegation': 10000000000000000000000000,\n",
       "  'rate': '0.030000000000000000',\n",
       "  'max-rate': '0.700000000000000000',\n",
       "  'max-change-rate': '0.030000000000000000',\n",
       "  'update-height': 1014,\n",
       "  'name': 'leo-s2',\n",
       "  'identity': 'leo-sentry-s2',\n",
       "  'website': 'https://sentry2.leochen.net',\n",
       "  'security-contact': 'sentrys2@leochen.net',\n",
       "  'details': 'sentry node of leo chen, shard2',\n",
       "  'creation-height': 1014,\n",
       "  'address': 'one164e2dwupqxd7ssr85ncnkx3quk7fexy0eta2vy',\n",
       "  'delegations': [{'delegator-address': 'one164e2dwupqxd7ssr85ncnkx3quk7fexy0eta2vy',\n",
       "    'amount': 2166666000000000000000000,\n",
       "    'reward': 0,\n",
       "    'undelegations': []}]},\n",
       " 'current-epoch-performance': None,\n",
       " 'metrics': None,\n",
       " 'total-delegation': 2166666000000000000000000,\n",
       " 'currently-in-committee': False,\n",
       " 'epos-status': 'eligible to be elected next epoch',\n",
       " 'lifetime': {'reward-accumulated': 0,\n",
       "  'blocks': {'to-sign': 0, 'signed': 0},\n",
       "  'apr': '0.000000000000000000'}}"
      ]
     },
     "execution_count": 9,
     "metadata": {},
     "output_type": "execute_result"
    }
   ],
   "source": [
    "i = 'one164e2dwupqxd7ssr85ncnkx3quk7fexy0eta2vy'\n",
    "info = getValidatorInfo(i)\n",
    "info"
   ]
  },
  {
   "cell_type": "code",
   "execution_count": 10,
   "metadata": {},
   "outputs": [
    {
     "data": {
      "text/plain": [
       "{'validator': {'bls-public-keys': ['4db5eeb4ff5379f7ba51d522fb17a07571cf427fae86cab31e9927e5048339d7a3c40941b1ce485f75f750aabbf69d82'],\n",
       "  'last-epoch-in-committee': 0,\n",
       "  'min-self-delegation': 10000000000000000000000,\n",
       "  'max-total-delegation': 100000000000000000000000,\n",
       "  'rate': '0.100000000000000000',\n",
       "  'max-rate': '0.100000000000000000',\n",
       "  'max-change-rate': '0.100000000000000000',\n",
       "  'update-height': 25363,\n",
       "  'name': 'Yishuang-2',\n",
       "  'identity': 'Yishuang sentry',\n",
       "  'website': 'yishuang@harmony.one',\n",
       "  'security-contact': 'shuang',\n",
       "  'details': 'Yishuang’s second validator',\n",
       "  'creation-height': 25363,\n",
       "  'address': 'one12mx7ssutgvd243g5vpvefl5sf6vttqkq5z3x04',\n",
       "  'delegations': [{'delegator-address': 'one12mx7ssutgvd243g5vpvefl5sf6vttqkq5z3x04',\n",
       "    'amount': 10000000000000000000000,\n",
       "    'reward': 0,\n",
       "    'undelegations': []}]},\n",
       " 'current-epoch-performance': None,\n",
       " 'metrics': None,\n",
       " 'total-delegation': 10000000000000000000000,\n",
       " 'currently-in-committee': False,\n",
       " 'epos-status': 'eligible to be elected next epoch',\n",
       " 'lifetime': {'reward-accumulated': 0,\n",
       "  'blocks': {'to-sign': 0, 'signed': 0},\n",
       "  'apr': '0.000000000000000000'}}"
      ]
     },
     "execution_count": 10,
     "metadata": {},
     "output_type": "execute_result"
    }
   ],
   "source": [
    "i = 'one12mx7ssutgvd243g5vpvefl5sf6vttqkq5z3x04'\n",
    "info = getValidatorInfo(i)\n",
    "info"
   ]
  }
 ],
 "metadata": {
  "kernelspec": {
   "display_name": "Python 3",
   "language": "python",
   "name": "python3"
  },
  "language_info": {
   "codemirror_mode": {
    "name": "ipython",
    "version": 3
   },
   "file_extension": ".py",
   "mimetype": "text/x-python",
   "name": "python",
   "nbconvert_exporter": "python",
   "pygments_lexer": "ipython3",
   "version": "3.7.6"
  }
 },
 "nbformat": 4,
 "nbformat_minor": 2
}
