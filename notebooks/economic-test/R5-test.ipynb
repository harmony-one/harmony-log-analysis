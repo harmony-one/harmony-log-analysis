{
 "cells": [
  {
   "cell_type": "code",
   "execution_count": 1,
   "metadata": {},
   "outputs": [],
   "source": [
    "import json\n",
    "import pandas as pd\n",
    "import numpy as np\n",
    "import time\n",
    "import requests"
   ]
  },
  {
   "cell_type": "code",
   "execution_count": 2,
   "metadata": {},
   "outputs": [],
   "source": [
    "def get_information(method, params):\n",
    "    url = 'https://api.s0.os.hmny.io/'\n",
    "    headers = {'Content-Type': 'application/json'}\n",
    "    data = {\"jsonrpc\":\"2.0\", \"method\": method, \"params\": params, \"id\":1}\n",
    "    r = requests.post(url, headers=headers, data = json.dumps(data))\n",
    "    content = json.loads(r.content)\n",
    "    return content"
   ]
  },
  {
   "cell_type": "code",
   "execution_count": 3,
   "metadata": {},
   "outputs": [],
   "source": [
    "def getBlockNumber():\n",
    "    method = \"hmy_blockNumber\"\n",
    "    params = []\n",
    "    num = get_information(method, params)['result']\n",
    "    return int(num, 16)"
   ]
  },
  {
   "cell_type": "code",
   "execution_count": 4,
   "metadata": {},
   "outputs": [],
   "source": [
    "def getAllValidatorInformation():\n",
    "    method = 'hmy_getAllValidatorInformation'\n",
    "    params = [-1]\n",
    "    return get_information(method, params)['result'] "
   ]
  },
  {
   "cell_type": "code",
   "execution_count": 5,
   "metadata": {},
   "outputs": [
    {
     "data": {
      "text/plain": [
       "{'validator': {'bls-public-keys': ['7ab21e88f5d17712e30dfc9a7acdb7e0e784fabf2bf76d5f83d8a0269dd47f38d8f454cb7ece5921027a9b68d806578f',\n",
       "   'bd8a0ab99bc6468b10992846f74b9f4c23ed1ce9a89848a4edba15bbef10906091880e9f10b3b0e53000c2b4f934cb97',\n",
       "   '5a1d59080b9b83c6af6afb82eb7dec09dcdf8dbd3c455d027cdac2b97c80ca96b1d4009372a39b0d9f240d0b127c6283',\n",
       "   'd8b57417434b662da3171a3607fb2cf418117d22387f7fe40b7be3376d0bbd01088fd86304357bf3fba3744bc4516383'],\n",
       "  'last-epoch-in-committee': 56,\n",
       "  'min-self-delegation': 10000000000000000000000,\n",
       "  'max-total-delegation': 100000000000000000000000000,\n",
       "  'rate': '0.100000000000000000',\n",
       "  'max-rate': '0.500000000000000000',\n",
       "  'max-change-rate': '0.050000000000000000',\n",
       "  'update-height': 203,\n",
       "  'name': 'Ganesh',\n",
       "  'identity': 'ganesh',\n",
       "  'website': 'ganesh@harmony.one',\n",
       "  'security-contact': 'Alex',\n",
       "  'details': 'Ganesh the validator',\n",
       "  'creation-height': 203,\n",
       "  'address': 'one1tpxl87y4g8ecsm6ceqay49qxyl5vs94jjyfvd9',\n",
       "  'delegations': [{'delegator-address': 'one1tpxl87y4g8ecsm6ceqay49qxyl5vs94jjyfvd9',\n",
       "    'amount': 3384700000000000000000000,\n",
       "    'reward': 11667169078530931666204,\n",
       "    'undelegations': []},\n",
       "   {'delegator-address': 'one1xkmdek9zuvdpwjwu9j8n0ql4sdre9yml8gkwm4',\n",
       "    'amount': 34800000000000000000000,\n",
       "    'reward': 51533375938448105010,\n",
       "    'undelegations': []},\n",
       "   {'delegator-address': 'one1gm8xwupd9e77ja46eaxv8tk4ea7re5zknaauvq',\n",
       "    'amount': 300000000000000000000000,\n",
       "    'reward': 258862904266786972661,\n",
       "    'undelegations': []},\n",
       "   {'delegator-address': 'one1km7xg8e3xjys7azp9f4xp8hkw79vm2h3f2lade',\n",
       "    'amount': 100000000000000000000000,\n",
       "    'reward': 52992896030759613291,\n",
       "    'undelegations': []}]},\n",
       " 'current-epoch-performance': {'current-epoch-signing-percent': {'current-epoch-signed': 104,\n",
       "   'current-epoch-to-sign': 104,\n",
       "   'num-beacon-blocks-until-next-epoch': 13,\n",
       "   'current-epoch-signing-percentage': '1.000000000000000000'}},\n",
       " 'metrics': {'by-bls-key': [{'key': {'bls-public-key': '7ab21e88f5d17712e30dfc9a7acdb7e0e784fabf2bf76d5f83d8a0269dd47f38d8f454cb7ece5921027a9b68d806578f',\n",
       "     'group-percent': '0.110047846889952153',\n",
       "     'effective-stake': '230000000000000000000000.000000000000000000',\n",
       "     'earning-account': 'one1tpxl87y4g8ecsm6ceqay49qxyl5vs94jjyfvd9',\n",
       "     'overall-percent': '0.035215311004784689',\n",
       "     'shard-id': 3},\n",
       "    'earned-reward': 406219688855266018992},\n",
       "   {'key': {'bls-public-key': 'd8b57417434b662da3171a3607fb2cf418117d22387f7fe40b7be3376d0bbd01088fd86304357bf3fba3744bc4516383',\n",
       "     'group-percent': '0.110047846889952153',\n",
       "     'effective-stake': '230000000000000000000000.000000000000000000',\n",
       "     'earning-account': 'one1tpxl87y4g8ecsm6ceqay49qxyl5vs94jjyfvd9',\n",
       "     'overall-percent': '0.035215311004784689',\n",
       "     'shard-id': 3},\n",
       "    'earned-reward': 406219688855266018992},\n",
       "   {'key': {'bls-public-key': 'bd8a0ab99bc6468b10992846f74b9f4c23ed1ce9a89848a4edba15bbef10906091880e9f10b3b0e53000c2b4f934cb97',\n",
       "     'group-percent': '0.110047846889952153',\n",
       "     'effective-stake': '230000000000000000000000.000000000000000000',\n",
       "     'earning-account': 'one1tpxl87y4g8ecsm6ceqay49qxyl5vs94jjyfvd9',\n",
       "     'overall-percent': '0.035215311004784689',\n",
       "     'shard-id': 3},\n",
       "    'earned-reward': 406219688855266018992},\n",
       "   {'key': {'bls-public-key': '5a1d59080b9b83c6af6afb82eb7dec09dcdf8dbd3c455d027cdac2b97c80ca96b1d4009372a39b0d9f240d0b127c6283',\n",
       "     'group-percent': '0.110047846889952153',\n",
       "     'effective-stake': '230000000000000000000000.000000000000000000',\n",
       "     'earning-account': 'one1tpxl87y4g8ecsm6ceqay49qxyl5vs94jjyfvd9',\n",
       "     'overall-percent': '0.035215311004784689',\n",
       "     'shard-id': 3},\n",
       "    'earned-reward': 406219688855266018992}],\n",
       "  'boot-from-committee-status': 2},\n",
       " 'total-delegation': 3819500000000000000000000,\n",
       " 'currently-in-committee': True,\n",
       " 'epos-status': 'currently elected',\n",
       " 'epos-winning-stake': '920000000000000000000000.000000000000000000',\n",
       " 'booted-status': None,\n",
       " 'lifetime': {'reward-accumulated': 12030558254766926355488,\n",
       "  'blocks': {'to-sign': 3124, 'signed': 2775},\n",
       "  'apr': '0.000000000000000000'}}"
      ]
     },
     "execution_count": 5,
     "metadata": {},
     "output_type": "execute_result"
    }
   ],
   "source": [
    "getAllValidatorInformation()[0]"
   ]
  },
  {
   "cell_type": "code",
   "execution_count": 6,
   "metadata": {},
   "outputs": [],
   "source": [
    "def R5_test():\n",
    "    print(\"Test-R5: Reward given out to block signers sums up to the total block reward\")\n",
    "    num = int(input(\"enter the number of blocks you want to test: \"))\n",
    "    \n",
    "    current_block = getBlockNumber()\n",
    "    next_block = current_block + 1\n",
    "    print(\"current block\", current_block, \"next block\", next_block)\n",
    "    \n",
    "    acc_rewards_prev = dict()\n",
    "    validator_infos = getAllValidatorInformation()\n",
    "    for i in validator_infos:\n",
    "        if i['currently-in-committee'] == True:\n",
    "            address = i['validator']['address']\n",
    "            reward_accumulated = i['lifetime']['reward-accumulated']\n",
    "            acc_rewards_prev[address] = reward_accumulated\n",
    "            \n",
    "    current_block = getBlockNumber()\n",
    "    while current_block < next_block:\n",
    "        current_block = getBlockNumber()\n",
    "    \n",
    "    iterations = 0\n",
    "    while iterations < num:\n",
    "        # get the validator info and compute validator rewards\n",
    "        acc_rewards_curr = dict()\n",
    "        validator_infos = getAllValidatorInformation()\n",
    "        block_reward = 28e18\n",
    "        validator_rewards = 0\n",
    "        total_reward = 0\n",
    "        signers = 0\n",
    "        for i in validator_infos:\n",
    "            if i['currently-in-committee'] == True:\n",
    "                signers = signers + 1\n",
    "                address = i['validator']['address']\n",
    "                reward_accumulated = i['lifetime']['reward-accumulated']\n",
    "                shard_metrics = i['metrics']['by-bls-key']\n",
    "                validator_reward = 0\n",
    "                for by_shard in shard_metrics:\n",
    "                    validator_addr = by_shard['key']['earning-account']\n",
    "                    by_shard_reward = block_reward * float(by_shard['key']['overall-percent']) / 0.32\n",
    "                    validator_reward = validator_reward + by_shard_reward\n",
    "                acc_rewards_curr[address] = reward_accumulated\n",
    "                reward = reward_accumulated\n",
    "                if address in acc_rewards_prev:\n",
    "                    reward = reward - acc_rewards_prev[address]\n",
    "                total_reward = total_reward + reward\n",
    "                validator_rewards = validator_rewards + validator_reward\n",
    "                \n",
    "        print(\"Test-R5 pass?\", (total_reward == validator_rewards), \n",
    "            \"block\", current_block, \\\n",
    "            \"validator block reward\", validator_rewards, \\\n",
    "            \"total reward\", \"{:.20e}\".format(total_reward), \\\n",
    "            \"signers\", signers)\n",
    "        \n",
    "        last_block = current_block\n",
    "        current_block = getBlockNumber()\n",
    "        while current_block == last_block:\n",
    "            current_block = getBlockNumber()\n",
    "        \n",
    "        acc_rewards_prev = acc_rewards_curr\n",
    "        \n",
    "        iterations = iterations + 1\n",
    "    print(\"done!!!\")"
   ]
  },
  {
   "cell_type": "code",
   "execution_count": 7,
   "metadata": {},
   "outputs": [
    {
     "name": "stdout",
     "output_type": "stream",
     "text": [
      "Test-R5: Reward given out to block signers sums up to the total block reward\n",
      "enter the number of blocks you want to test: 2\n",
      "current block 2153 next block 2154\n",
      "Test-R5 pass? False block 2154 validator block reward 5.471279730429415e+19 total reward 7.90927835051546378240e+19 signers 22\n",
      "Test-R5 pass? False block 2155 validator block reward 5.471279730429415e+19 total reward 7.90927835051546378240e+19 signers 22\n",
      "done!!!\n"
     ]
    }
   ],
   "source": [
    "R5_test()"
   ]
  }
 ],
 "metadata": {
  "kernelspec": {
   "display_name": "Python 3",
   "language": "python",
   "name": "python3"
  },
  "language_info": {
   "codemirror_mode": {
    "name": "ipython",
    "version": 3
   },
   "file_extension": ".py",
   "mimetype": "text/x-python",
   "name": "python",
   "nbconvert_exporter": "python",
   "pygments_lexer": "ipython3",
   "version": "3.7.6"
  }
 },
 "nbformat": 4,
 "nbformat_minor": 2
}
