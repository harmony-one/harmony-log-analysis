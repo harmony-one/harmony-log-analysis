{
 "cells": [
  {
   "cell_type": "code",
   "execution_count": 1,
   "metadata": {},
   "outputs": [],
   "source": [
    "import json\n",
    "import pandas as pd\n",
    "import numpy as np\n",
    "import os\n",
    "import time\n",
    "import requests"
   ]
  },
  {
   "cell_type": "code",
   "execution_count": 2,
   "metadata": {},
   "outputs": [],
   "source": [
    "def get_information(method, params):\n",
    "    url = 'https://api.s0.os.hmny.io/'\n",
    "    headers = {'Content-Type': 'application/json'}\n",
    "    data = {\"jsonrpc\":\"2.0\", \"method\": method, \"params\": params, \"id\":1}\n",
    "    r = requests.post(url, headers=headers, data = json.dumps(data))\n",
    "    content = json.loads(r.content)\n",
    "    return content"
   ]
  },
  {
   "cell_type": "code",
   "execution_count": 3,
   "metadata": {},
   "outputs": [],
   "source": [
    "def getMedianRawStakeSnapshot():\n",
    "    method = \"hmy_getMedianRawStakeSnapshot\"\n",
    "    params = []\n",
    "    return get_information(method, params)['result']"
   ]
  },
  {
   "cell_type": "code",
   "execution_count": 4,
   "metadata": {},
   "outputs": [],
   "source": [
    "def getBlockNumber():\n",
    "    method = \"hmy_blockNumber\"\n",
    "    params = []\n",
    "    num = get_information(method, params)['result']\n",
    "    return int(num, 16)"
   ]
  },
  {
   "cell_type": "code",
   "execution_count": 5,
   "metadata": {},
   "outputs": [],
   "source": [
    "def M5_test():\n",
    "    flag = True\n",
    "    # get the median stake and the upper and lower level \n",
    "    result = getMedianRawStakeSnapshot()\n",
    "    median = int(float(result['epos-median-stake']))\n",
    "    lower = int(median- 0.15*median)\n",
    "    upper = int(median + 0.15*median)\n",
    "    print(\"median stake is \" + str(median))\n",
    "    print(\"lower bond is \" + str(lower))\n",
    "    print(\"upper bond is \" + str(upper))\n",
    "    \n",
    "    validator_infos = result['epos-slot-winners']\n",
    "    count = 0\n",
    "    for i in validator_infos:\n",
    "        addr = i['slot-owner']\n",
    "        stake = int(float(i['eposed-stake']))\n",
    "        bls_key = i['bls-public-key']\n",
    "        count += 1\n",
    "        if stake > upper or stake < lower:\n",
    "            print(\"validator: \", addr, \" bls public key: \", bls_key) \n",
    "            print(\"effective stake is out of range. The effective stake is \", stake)\n",
    "            print(\"\")\n",
    "            flag = False\n",
    "\n",
    "    print(\"total slots verified:\", count)\n",
    "    if flag:\n",
    "        return True\n",
    "    else:\n",
    "        return False"
   ]
  },
  {
   "cell_type": "code",
   "execution_count": 6,
   "metadata": {},
   "outputs": [
    {
     "name": "stdout",
     "output_type": "stream",
     "text": [
      "median stake is 709048999999999945211904\n",
      "lower bond is 602691649999999946719232\n",
      "upper bond is 815406349999999876595712\n",
      "validator:  one1hwn68w7m5g8daltvrjkmq23qn58nrvr3yz6ryt  bls public key:  48ad00d97fb657f3476b5a8466798f33a23b16615091ebcd3587c14c9aad9e2e28c28fd12a7e9c887e621eb2f7860d00\n",
      "effective stake is out of range. The effective stake is  815406350000000010813440\n",
      "\n",
      "validator:  one1syx0rmtttr8jehlxvnkpyx4hvrlevmcx3tcghy  bls public key:  02760cadc6ef3d3c1f8b66adbe182ebc252b451178efc168e856870311c8a7005c7060d28ea72c6c7adfab606989f413\n",
      "effective stake is out of range. The effective stake is  815406350000000010813440\n",
      "\n",
      "validator:  one19cuygr776f7j9ep97hjm0np9ay6nus9w5msy0n  bls public key:  be205ec86841a3b96249f80e364c416a63b938617ade36b6798b377188d99bf27b5e85189116f4a4ba1b7a0c060cb115\n",
      "effective stake is out of range. The effective stake is  815406350000000010813440\n",
      "\n",
      "validator:  one1jl3p3huw0yzsnsnpdux3vjsy9v97rnxgp2gptu  bls public key:  1d15096474cd0a46cea0d7b63d5b8a0e4b242348e96969110e64d6b34d1fe2d83f56aeddf8f3deb77b96f2341f4bf484\n",
      "effective stake is out of range. The effective stake is  815406350000000010813440\n",
      "\n",
      "validator:  one1ugkyk6qyzhr5elxr6a7906uv92ctwtzyavx7j6  bls public key:  16c4736e7c933b09dfe6a359e479c593fbbfa4e117030e5207ed55e9854a880593557706099a9d9e708bbdc748db6a0e\n",
      "effective stake is out of range. The effective stake is  815406350000000010813440\n",
      "\n",
      "validator:  one1ekup98s5tqxtr5hdzsz664cfy579jpq6w5smrr  bls public key:  718b9ead7b9aaa9cb70570450c6256937c86f08978c8a48b536c2a849f61ff52f1b78b39014064cefc5f223efd45a080\n",
      "effective stake is out of range. The effective stake is  815406350000000010813440\n",
      "\n",
      "validator:  one10jvjrtwpz2sux2ngktg3kq7m3sdz5p5au5l8c8  bls public key:  62712141283cbd1682dadf371b248d69e3c3fa916f8625de780badd9604ebf50166d3a39a9c2d6163f449b5e9e54cc8f\n",
      "effective stake is out of range. The effective stake is  815406350000000010813440\n",
      "\n",
      "validator:  one1tpxl87y4g8ecsm6ceqay49qxyl5vs94jjyfvd9  bls public key:  7ab21e88f5d17712e30dfc9a7acdb7e0e784fabf2bf76d5f83d8a0269dd47f38d8f454cb7ece5921027a9b68d806578f\n",
      "effective stake is out of range. The effective stake is  815406350000000010813440\n",
      "\n",
      "validator:  one1tpxl87y4g8ecsm6ceqay49qxyl5vs94jjyfvd9  bls public key:  bd8a0ab99bc6468b10992846f74b9f4c23ed1ce9a89848a4edba15bbef10906091880e9f10b3b0e53000c2b4f934cb97\n",
      "effective stake is out of range. The effective stake is  815406350000000010813440\n",
      "\n",
      "validator:  one1tpxl87y4g8ecsm6ceqay49qxyl5vs94jjyfvd9  bls public key:  5a1d59080b9b83c6af6afb82eb7dec09dcdf8dbd3c455d027cdac2b97c80ca96b1d4009372a39b0d9f240d0b127c6283\n",
      "effective stake is out of range. The effective stake is  815406350000000010813440\n",
      "\n",
      "validator:  one1tpxl87y4g8ecsm6ceqay49qxyl5vs94jjyfvd9  bls public key:  d8b57417434b662da3171a3607fb2cf418117d22387f7fe40b7be3376d0bbd01088fd86304357bf3fba3744bc4516383\n",
      "effective stake is out of range. The effective stake is  815406350000000010813440\n",
      "\n",
      "total slots verified: 25\n"
     ]
    },
    {
     "data": {
      "text/plain": [
       "False"
      ]
     },
     "execution_count": 6,
     "metadata": {},
     "output_type": "execute_result"
    }
   ],
   "source": [
    "M5_test()"
   ]
  },
  {
   "cell_type": "code",
   "execution_count": null,
   "metadata": {},
   "outputs": [],
   "source": []
  }
 ],
 "metadata": {
  "kernelspec": {
   "display_name": "Python 3",
   "language": "python",
   "name": "python3"
  },
  "language_info": {
   "codemirror_mode": {
    "name": "ipython",
    "version": 3
   },
   "file_extension": ".py",
   "mimetype": "text/x-python",
   "name": "python",
   "nbconvert_exporter": "python",
   "pygments_lexer": "ipython3",
   "version": "3.7.6"
  }
 },
 "nbformat": 4,
 "nbformat_minor": 2
}
