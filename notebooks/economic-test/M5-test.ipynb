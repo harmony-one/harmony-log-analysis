{
 "cells": [
  {
   "cell_type": "code",
   "execution_count": 1,
   "metadata": {},
   "outputs": [],
   "source": [
    "import json\n",
    "import pandas as pd\n",
    "import numpy as np\n",
    "import os\n",
    "import time\n",
    "import requests"
   ]
  },
  {
   "cell_type": "markdown",
   "metadata": {},
   "source": [
    "Q: if they are elected, they have the metrics, if not elected, no metrics?\n",
    "should I just check elected validators not all the validators?"
   ]
  },
  {
   "cell_type": "markdown",
   "metadata": {},
   "source": [
    "challenge: needs rounding for the manually calcualted number, otherwise sometimes it will fail. "
   ]
  },
  {
   "cell_type": "code",
   "execution_count": 2,
   "metadata": {},
   "outputs": [],
   "source": [
    "def get_information(method, params):\n",
    "    url = 'https://api.s0.os.hmny.io/'\n",
    "    headers = {'Content-Type': 'application/json'}\n",
    "    data = {\"jsonrpc\":\"2.0\", \"method\": method, \"params\": params, \"id\":1}\n",
    "    r = requests.post(url, headers=headers, data = json.dumps(data))\n",
    "    content = json.loads(r.content)\n",
    "    return content"
   ]
  },
  {
   "cell_type": "code",
   "execution_count": 3,
   "metadata": {},
   "outputs": [],
   "source": [
    "def getEposMedian():\n",
    "    method = \"hmy_getMedianRawStakeSnapshot\"\n",
    "    params = []\n",
    "    return get_information(method, params)['result']['epos-median-stake']"
   ]
  },
  {
   "cell_type": "code",
   "execution_count": 4,
   "metadata": {},
   "outputs": [],
   "source": [
    "def getAllValidatorInformation():\n",
    "    method = 'hmy_getAllValidatorInformation'\n",
    "    params = [0]\n",
    "    return get_information(method, params)['result'] "
   ]
  },
  {
   "cell_type": "code",
   "execution_count": 5,
   "metadata": {},
   "outputs": [],
   "source": [
    "def M5_test():\n",
    "    \n",
    "    flag = True\n",
    "    # get the median stake and the upper and lower level \n",
    "    median = float(getEposMedian())\n",
    "    lower = median- 0.15*median\n",
    "    upper = median + 0.15*median\n",
    "    print(\"median stake is \" + str(median))\n",
    "    print(\"lower bond is \" + str(lower))\n",
    "    print(\"upper bond is \" + str(upper))\n",
    "    \n",
    "    # check all the elected validator's effective stake\n",
    "    validators = getAllValidatorInformation()\n",
    "    for i in validators:\n",
    "        if i['currently-in-committee'] == True:\n",
    "            for s in i['metrics']['by-shard']:\n",
    "                if float(s['effective-stake']) > upper or float(s['effective-stake']) < lower:\n",
    "                        address = i['validator']['address']\n",
    "                        bls_key = s['bls-public-key']\n",
    "                        shard = s['shard-id']\n",
    "                        stake = s['effective-stake']\n",
    "                        print(\"validator: \", address, \"bls public key: \", bls_key, \" shard: \", shard) \n",
    "                        print(\"effective stake is out of range. The effective stake is \", stake)\n",
    "                        print(\"\")\n",
    "                        flag = False\n",
    "    if flag:\n",
    "        return True\n",
    "    else:\n",
    "        return False"
   ]
  },
  {
   "cell_type": "code",
   "execution_count": 6,
   "metadata": {
    "scrolled": false
   },
   "outputs": [
    {
     "name": "stdout",
     "output_type": "stream",
     "text": [
      "median stake is 2.96e+23\n",
      "lower bond is 2.5159999999999998e+23\n",
      "upper bond is 3.404e+23\n",
      "validator:  one1tpxl87y4g8ecsm6ceqay49qxyl5vs94jjyfvd9 bls public key:  d8b57417434b662da3171a3607fb2cf418117d22387f7fe40b7be3376d0bbd01088fd86304357bf3fba3744bc4516383  shard:  3\n",
      "effective stake is out of range. The effective stake is  340411500000000000000000.000000000000000000\n",
      "\n",
      "validator:  one1tpxl87y4g8ecsm6ceqay49qxyl5vs94jjyfvd9 bls public key:  5a1d59080b9b83c6af6afb82eb7dec09dcdf8dbd3c455d027cdac2b97c80ca96b1d4009372a39b0d9f240d0b127c6283  shard:  3\n",
      "effective stake is out of range. The effective stake is  340411500000000000000000.000000000000000000\n",
      "\n",
      "validator:  one1tpxl87y4g8ecsm6ceqay49qxyl5vs94jjyfvd9 bls public key:  bd8a0ab99bc6468b10992846f74b9f4c23ed1ce9a89848a4edba15bbef10906091880e9f10b3b0e53000c2b4f934cb97  shard:  3\n",
      "effective stake is out of range. The effective stake is  340411500000000000000000.000000000000000000\n",
      "\n",
      "validator:  one1tpxl87y4g8ecsm6ceqay49qxyl5vs94jjyfvd9 bls public key:  7ab21e88f5d17712e30dfc9a7acdb7e0e784fabf2bf76d5f83d8a0269dd47f38d8f454cb7ece5921027a9b68d806578f  shard:  3\n",
      "effective stake is out of range. The effective stake is  340411500000000000000000.000000000000000000\n",
      "\n",
      "validator:  one1r55rwumsrm6w3d20uhaa3hm4rxr442k0qx9gj8 bls public key:  ae024ac692b11b88d879494f9224970983c44402b43c9eb542db7f589810e675f03f54b22adcd73c6e09cb96e8aea910  shard:  0\n",
      "effective stake is out of range. The effective stake is  340411500000000000000000.000000000000000000\n",
      "\n",
      "validator:  one1r55rwumsrm6w3d20uhaa3hm4rxr442k0qx9gj8 bls public key:  0f2d10f8d8b8f9cc142eb08f375c3dd8fcac4ff099d9c344a107f84bd9d73ad69755e37c102a7b2c555c972be953d880  shard:  0\n",
      "effective stake is out of range. The effective stake is  340411500000000000000000.000000000000000000\n",
      "\n",
      "validator:  one1r55rwumsrm6w3d20uhaa3hm4rxr442k0qx9gj8 bls public key:  76521b88b00d9e5b3acd077d31df46aadaa3810b98c2ffa948412d53583d23cc35fd6927d3797507bea12c01d67fd790  shard:  0\n",
      "effective stake is out of range. The effective stake is  340411500000000000000000.000000000000000000\n",
      "\n",
      "validator:  one1r55rwumsrm6w3d20uhaa3hm4rxr442k0qx9gj8 bls public key:  f64d27b412859b15cbe055d86e313b52f7a851b01782ff213855ef89c1ee57b1a5d25f8159c013006f104a8206b04900  shard:  0\n",
      "effective stake is out of range. The effective stake is  340411500000000000000000.000000000000000000\n",
      "\n",
      "validator:  one1s7fp0jrmd97estwye3mhkp7xsqf42vn5x2sfqy bls public key:  e429cbf74e8ab28ed295999d179ad79827c7febe0208a6145aa91bbb60b68a0b1907de4c38573352cafe00c8105b1116  shard:  2\n",
      "effective stake is out of range. The effective stake is  340411500000000000000000.000000000000000000\n",
      "\n",
      "validator:  one1s7fp0jrmd97estwye3mhkp7xsqf42vn5x2sfqy bls public key:  a11bb4202ecad06799b50dd04f5c2ec631bf411789ade7e62237f698ad3a17dfa90b60354f153404d3886e753f622086  shard:  2\n",
      "effective stake is out of range. The effective stake is  340411500000000000000000.000000000000000000\n",
      "\n",
      "validator:  one1s7fp0jrmd97estwye3mhkp7xsqf42vn5x2sfqy bls public key:  1c57c3282714e412d974a5c1c5712f1f6062d3253d9a080580abf4342805e3311c19f81bef5b1a903fe282650b767a12  shard:  2\n",
      "effective stake is out of range. The effective stake is  340411500000000000000000.000000000000000000\n",
      "\n",
      "validator:  one1s7fp0jrmd97estwye3mhkp7xsqf42vn5x2sfqy bls public key:  4573d93d7cfd364cc2aebb21184e5d8fe92d44e86cd4d13b7e8b25faa77782f3ba6dee0a4e1f65947ea35cabbc552682  shard:  2\n",
      "effective stake is out of range. The effective stake is  340411500000000000000000.000000000000000000\n",
      "\n",
      "validator:  one10jvjrtwpz2sux2ngktg3kq7m3sdz5p5au5l8c8 bls public key:  dd36b8a6da7ba5106bde5e4844b769399019091b623b0a2cbae87b6203290dbe191e84e26adfb6d5f8e9791d88c8e803  shard:  3\n",
      "effective stake is out of range. The effective stake is  340411500000000000000000.000000000000000000\n",
      "\n",
      "validator:  one1km7xg8e3xjys7azp9f4xp8hkw79vm2h3f2lade bls public key:  95b7f81b4ad71a93e866c918a122a8754cf6db02c0f3df93d00e6651b77323d527ac39fc3e990f9c2f6e1e3ea9d15112  shard:  2\n",
      "effective stake is out of range. The effective stake is  340411500000000000000000.000000000000000000\n",
      "\n",
      "validator:  one19cuygr776f7j9ep97hjm0np9ay6nus9w5msy0n bls public key:  be205ec86841a3b96249f80e364c416a63b938617ade36b6798b377188d99bf27b5e85189116f4a4ba1b7a0c060cb115  shard:  1\n",
      "effective stake is out of range. The effective stake is  340411500000000000000000.000000000000000000\n",
      "\n",
      "validator:  one170xqsfzm4xdmuyax54t5pvtp5l5yt66u50ctrp bls public key:  ae05fe0027679995082a8138758b4c7bb746e35cf4fad0c181a88158279c7b3c75bccb064d3f55fa91f8c3e9cc28178f  shard:  3\n",
      "effective stake is out of range. The effective stake is  340411500000000000000000.000000000000000000\n",
      "\n",
      "validator:  one170xqsfzm4xdmuyax54t5pvtp5l5yt66u50ctrp bls public key:  d4c10750c0530e26f7ec580766a147fb068905c0f00cea9b4a9bde2c09961e4df43014cbd6413d2d5ac097f65fdd3907  shard:  3\n",
      "effective stake is out of range. The effective stake is  340411500000000000000000.000000000000000000\n",
      "\n",
      "validator:  one1wz9fmjrwua3le0c8qxv058p3wpdg4ctjyc3ha4 bls public key:  f6c2271a3b5d4ff49c19f36ecf8cb1a55d827423a7a5df1a18b4fa1a3febffe28ef76a88dc55d33044ebdc4edb2f4c10  shard:  0\n",
      "effective stake is out of range. The effective stake is  340411500000000000000000.000000000000000000\n",
      "\n",
      "validator:  one1wz9fmjrwua3le0c8qxv058p3wpdg4ctjyc3ha4 bls public key:  a77b62893103bd2fed24676aa5efea793a04d5af4b92e9faaf7720dfc140e3c3c5d74b237ccaa6a708780ff2152ab700  shard:  0\n",
      "effective stake is out of range. The effective stake is  340411500000000000000000.000000000000000000\n",
      "\n",
      "validator:  one1ekup98s5tqxtr5hdzsz664cfy579jpq6w5smrr bls public key:  718b9ead7b9aaa9cb70570450c6256937c86f08978c8a48b536c2a849f61ff52f1b78b39014064cefc5f223efd45a080  shard:  0\n",
      "effective stake is out of range. The effective stake is  340411500000000000000000.000000000000000000\n",
      "\n",
      "validator:  one1mpzx5wr2kmz9nvkhsgj6jr6zs87ahm0gxmhlck bls public key:  2c2a83b249d04bfa77556a74a2124d7158281d1a1766469deb3d8db8da0958bc889a8c94b8c97254c6c8e99927792689  shard:  1\n",
      "effective stake is out of range. The effective stake is  340411500000000000000000.000000000000000000\n",
      "\n",
      "validator:  one1k9577lnpfx7z76zslc6r8gdmsp5kqgpll7cpk9 bls public key:  46279d7dcb32729932b1c233ea2657fe2d86cf4acd64c5e09847d26c26f2863bca5ff665e022406296d5f4816068078f  shard:  3\n",
      "effective stake is out of range. The effective stake is  340411500000000000000000.000000000000000000\n",
      "\n",
      "validator:  one18vn078vyp5jafma8q7kek6w0resrgex9yufqws bls public key:  394d726edbb908fa71bdb2b417dd0fe7c77d9f86b3a0b1e1b51d11e26dd1cddb4e21269c3e1d08e75d43ec98ff4ca582  shard:  2\n",
      "effective stake is out of range. The effective stake is  340411500000000000000000.000000000000000000\n",
      "\n",
      "validator:  one1rcv3chw86tprvhpw4fjnpy2gnvqy4gp4fmhdd9 bls public key:  0f481d3d3109edfe112823906b1c37bfaef151621eca27d160590308b402aed2726cbe6b0166f1e51e825b646c998594  shard:  0\n",
      "effective stake is out of range. The effective stake is  340411500000000000000000.000000000000000000\n",
      "\n",
      "validator:  one1rcv3chw86tprvhpw4fjnpy2gnvqy4gp4fmhdd9 bls public key:  806dd628feb8c9d9327405e9eb8f9a365f9b7367d9ad1450ee3de91dce3624e120e03b4426a7c80b0363d6dca65f6208  shard:  0\n",
      "effective stake is out of range. The effective stake is  340411500000000000000000.000000000000000000\n",
      "\n",
      "validator:  one1rcv3chw86tprvhpw4fjnpy2gnvqy4gp4fmhdd9 bls public key:  47d8b40941cfff9daa245ed9d8a377790ac35ebe39b50a6f35d4abe2a99b1f6161cf8a28f36fabdb93f8709147339b08  shard:  0\n",
      "effective stake is out of range. The effective stake is  340411500000000000000000.000000000000000000\n",
      "\n",
      "validator:  one1rcv3chw86tprvhpw4fjnpy2gnvqy4gp4fmhdd9 bls public key:  ec5e4db27e44f436212f911e495f88face88b4c11a10952345155b11957d474cb7efdac5e463517967edbde832940590  shard:  0\n",
      "effective stake is out of range. The effective stake is  340411500000000000000000.000000000000000000\n",
      "\n",
      "validator:  one1rcv3chw86tprvhpw4fjnpy2gnvqy4gp4fmhdd9 bls public key:  d57c71c055f7dec63e78cf17c50e114adaba91108b3ebc12d02d5e3b04608ab9239ba5ee5020599929fa85b7de78d119  shard:  1\n",
      "effective stake is out of range. The effective stake is  340411500000000000000000.000000000000000000\n",
      "\n",
      "validator:  one1rcv3chw86tprvhpw4fjnpy2gnvqy4gp4fmhdd9 bls public key:  19662ac9ed6b29675fb89db112ce7a332e165caddc706c86bdf54a56c114829e08dcf1463fdb420e7f844b8dda278a8d  shard:  1\n",
      "effective stake is out of range. The effective stake is  340411500000000000000000.000000000000000000\n",
      "\n",
      "validator:  one1rcv3chw86tprvhpw4fjnpy2gnvqy4gp4fmhdd9 bls public key:  0265f9764c0f724374351ea0b8e76ef07c3ea300ef1fb6ee92b5d65ddfbdcd0f39a776be05bfddfa509bf59976e75117  shard:  3\n",
      "effective stake is out of range. The effective stake is  340411500000000000000000.000000000000000000\n",
      "\n",
      "validator:  one1rcv3chw86tprvhpw4fjnpy2gnvqy4gp4fmhdd9 bls public key:  7ac23db9d54fe085ff4ac2cc0f508121ca5eaebf213b1e99133acd175e563bff4c70a19146dd4908dda93d43653fae83  shard:  3\n",
      "effective stake is out of range. The effective stake is  340411500000000000000000.000000000000000000\n",
      "\n",
      "validator:  one1rcv3chw86tprvhpw4fjnpy2gnvqy4gp4fmhdd9 bls public key:  70119d5a5c96866986c467527e6fbd3674158ec6c3de13e4b4e74fdc55635ae91dd389a1b3ebeaea260896cbaa060c0b  shard:  3\n",
      "effective stake is out of range. The effective stake is  340411500000000000000000.000000000000000000\n",
      "\n",
      "validator:  one1jw4qywg8vkk3mdycvp6tw7nuq6gjer3g23vttz bls public key:  21f80dcd13b682819cd77fa970ad256a84aa84c3a8e1ac126b8b061fe07fb612d05f1c9d637d9f7c90d1d83fb0b44a0c  shard:  0\n",
      "effective stake is out of range. The effective stake is  340411500000000000000000.000000000000000000\n",
      "\n",
      "validator:  one1jw4qywg8vkk3mdycvp6tw7nuq6gjer3g23vttz bls public key:  21c58b6a8ba11ef9d4d753ebef02a77098353196f1d0ec58c752849cdca99d2a37f79543c187ba4b23e78046adc34498  shard:  0\n",
      "effective stake is out of range. The effective stake is  340411500000000000000000.000000000000000000\n",
      "\n",
      "validator:  one1jw4qywg8vkk3mdycvp6tw7nuq6gjer3g23vttz bls public key:  f5e3a5f3fc660460968782e0ea81c6f99e5b4c4a99813c3b4ca38d0041ae82e00fb5bcbf20f670336bc3269089fb6190  shard:  0\n",
      "effective stake is out of range. The effective stake is  340411500000000000000000.000000000000000000\n",
      "\n",
      "validator:  one1jw4qywg8vkk3mdycvp6tw7nuq6gjer3g23vttz bls public key:  b54d9219f2df9cfed9d0facf712a94f5dafafc483a91d6dc591adbc59d76a19d2057920b11e764df584cf097a6c28b94  shard:  0\n",
      "effective stake is out of range. The effective stake is  340411500000000000000000.000000000000000000\n",
      "\n",
      "validator:  one1syx0rmtttr8jehlxvnkpyx4hvrlevmcx3tcghy bls public key:  02760cadc6ef3d3c1f8b66adbe182ebc252b451178efc168e856870311c8a7005c7060d28ea72c6c7adfab606989f413  shard:  3\n",
      "effective stake is out of range. The effective stake is  340411500000000000000000.000000000000000000\n",
      "\n",
      "validator:  one17d60e5nvjnzechwl56y38ze6w49wejhtanncra bls public key:  7a4a5b3881a9f64851c9b5ec5c449b293ce567dec39bd3e80b9726cc12825e0eec0ef2bc682114e2f123ad7e1bcc6b99  shard:  1\n",
      "effective stake is out of range. The effective stake is  340411500000000000000000.000000000000000000\n",
      "\n",
      "validator:  one17d60e5nvjnzechwl56y38ze6w49wejhtanncra bls public key:  85dde30f23ffd30b511582550a20d675e96beaf348af5c1401eaef69e8485ac867cd78e9d4e59f42d9c65b8ae4466981  shard:  1\n",
      "effective stake is out of range. The effective stake is  340411500000000000000000.000000000000000000\n",
      "\n",
      "validator:  one1hpxxxnqp5epvs2ktzdft24q39r4pttywkmt3cy bls public key:  e8efbf33375c47bdac66ced93c3c0874ff30c310590e66c253fe70f1f58529717ba3b29687bca862e8d66d7c6f40cf07  shard:  3\n",
      "effective stake is out of range. The effective stake is  340411500000000000000000.000000000000000000\n",
      "\n",
      "validator:  one1hwn68w7m5g8daltvrjkmq23qn58nrvr3yz6ryt bls public key:  48ad00d97fb657f3476b5a8466798f33a23b16615091ebcd3587c14c9aad9e2e28c28fd12a7e9c887e621eb2f7860d00  shard:  0\n",
      "effective stake is out of range. The effective stake is  340411500000000000000000.000000000000000000\n",
      "\n",
      "validator:  one16hag4p3d8lz0r6hh85renh36y6vlxgqj3yr7xe bls public key:  112dea5a5a1c1f5d5651eb1871c5b186fbfa0110587c449a589d33455183112486e2b165c1534c7068fbfbfb02de2595  shard:  1\n",
      "effective stake is out of range. The effective stake is  340411500000000000000000.000000000000000000\n",
      "\n",
      "validator:  one16hag4p3d8lz0r6hh85renh36y6vlxgqj3yr7xe bls public key:  17e888e5172864b597a16e77f51e3a800df3bdfd9c714edb896e35aa295953566e0774574ab709af04378a1bd9400985  shard:  1\n",
      "effective stake is out of range. The effective stake is  340411500000000000000000.000000000000000000\n",
      "\n",
      "validator:  one16hag4p3d8lz0r6hh85renh36y6vlxgqj3yr7xe bls public key:  6a4b8e919ef3048aa8d9a3956f93e40e0d6f5089a2bf65c8b20a6da0b32d00ed2c242f94ed799ac6f3dfacf73e32bd91  shard:  1\n",
      "effective stake is out of range. The effective stake is  340411500000000000000000.000000000000000000\n",
      "\n",
      "validator:  one16hag4p3d8lz0r6hh85renh36y6vlxgqj3yr7xe bls public key:  ee1210b7c0a66ed95f5923e7a90f01252eed70e43c367e8c42a7e1fd340e9dddb5690f302650b91bd1b5a7b27eac9899  shard:  1\n",
      "effective stake is out of range. The effective stake is  340411500000000000000000.000000000000000000\n",
      "\n",
      "validator:  one1aqa8tj8fs7wkwnclxgzmau2zc24jzhhlnypjfq bls public key:  47cabe5f9a7d03d56fd42857ef3746af6d33685566e8ebea9cd86da935bffbdabc8655ae619cb98daaf602d5ba093002  shard:  2\n",
      "effective stake is out of range. The effective stake is  340411500000000000000000.000000000000000000\n",
      "\n"
     ]
    },
    {
     "data": {
      "text/plain": [
       "False"
      ]
     },
     "execution_count": 6,
     "metadata": {},
     "output_type": "execute_result"
    }
   ],
   "source": [
    "M5_test()"
   ]
  }
 ],
 "metadata": {
  "kernelspec": {
   "display_name": "Python 3",
   "language": "python",
   "name": "python3"
  },
  "language_info": {
   "codemirror_mode": {
    "name": "ipython",
    "version": 3
   },
   "file_extension": ".py",
   "mimetype": "text/x-python",
   "name": "python",
   "nbconvert_exporter": "python",
   "pygments_lexer": "ipython3",
   "version": "3.6.9"
  }
 },
 "nbformat": 4,
 "nbformat_minor": 2
}
