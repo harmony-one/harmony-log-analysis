{
 "cells": [
  {
   "cell_type": "code",
   "execution_count": 138,
   "metadata": {},
   "outputs": [],
   "source": [
    "import json\n",
    "import pandas as pd\n",
    "import numpy as np\n",
    "import os\n",
    "import time\n",
    "import requests"
   ]
  },
  {
   "cell_type": "markdown",
   "metadata": {},
   "source": [
    "Q: if they are elected, they have the metrics, if not elected, no metrics?\n",
    "should I just check elected validators not all the validators?"
   ]
  },
  {
   "cell_type": "markdown",
   "metadata": {},
   "source": [
    "challenge: needs rounding for the manually calcualted number, otherwise sometimes it will fail. "
   ]
  },
  {
   "cell_type": "code",
   "execution_count": 139,
   "metadata": {},
   "outputs": [],
   "source": [
    "def get_information(method, params):\n",
    "    url = 'https://api.s0.os.hmny.io/'\n",
    "    headers = {'Content-Type': 'application/json'}\n",
    "    data = {\"jsonrpc\":\"2.0\", \"method\": method, \"params\": params, \"id\":1}\n",
    "    r = requests.post(url, headers=headers, data = json.dumps(data))\n",
    "    content = json.loads(r.content)\n",
    "    return content"
   ]
  },
  {
   "cell_type": "code",
   "execution_count": 175,
   "metadata": {},
   "outputs": [],
   "source": [
    "def getMedianRawStakeSnapshot():\n",
    "    method = \"hmy_getMedianRawStakeSnapshot\"\n",
    "    params = []\n",
    "    return get_information(method, params)['result']"
   ]
  },
  {
   "cell_type": "code",
   "execution_count": 176,
   "metadata": {},
   "outputs": [],
   "source": [
    "def getBlockNumber():\n",
    "    method = \"hmy_blockNumber\"\n",
    "    params = []\n",
    "    num = get_information(method, params)['result']\n",
    "    return int(num, 16)"
   ]
  },
  {
   "cell_type": "code",
   "execution_count": 187,
   "metadata": {},
   "outputs": [],
   "source": [
    "def M5_test():\n",
    "    flag = True\n",
    "    # get the median stake and the upper and lower level \n",
    "    result = getMedianRawStakeSnapshot()\n",
    "    median = float(result['epos-median-stake'])\n",
    "    lower = median- 0.15*median\n",
    "    upper = median + 0.15*median\n",
    "    print(\"median stake is \" + str(median))\n",
    "    print(\"lower bond is \" + str(lower))\n",
    "    print(\"upper bond is \" + str(upper))\n",
    "    \n",
    "    validator_infos = result['epos-slot-winners']\n",
    "    count = 0\n",
    "    for i in validator_infos:\n",
    "        addr = i['slot-owner']\n",
    "        stake = float(i['eposed-stake'])\n",
    "        count = count + 1\n",
    "        if stake > upper or stake < lower:\n",
    "            print(\"validator: \" + addr + \" bls public key: \" + str(s[\"key\"]['bls-public-key']) +\\\n",
    "                \" shard: \" + str(s[\"key\"]['shard-id'])) \n",
    "            print(\"effective stake is out of range. The effective stake is \" + s[\"key\"]['effective-stake'], \"shard\", s[\"key\"]['shard-id'])\n",
    "            print(\"\")\n",
    "            flag = False\n",
    "\n",
    "    print(\"total slots verified:\", count)\n",
    "    if flag:\n",
    "        return True\n",
    "    else:\n",
    "        return False"
   ]
  },
  {
   "cell_type": "code",
   "execution_count": 188,
   "metadata": {},
   "outputs": [
    {
     "name": "stdout",
     "output_type": "stream",
     "text": [
      "median stake is 3.33874375e+23\n",
      "lower bond is 2.8379321875e+23\n",
      "upper bond is 3.8395553125e+23\n",
      "total slots verified: 148\n"
     ]
    },
    {
     "data": {
      "text/plain": [
       "True"
      ]
     },
     "execution_count": 188,
     "metadata": {},
     "output_type": "execute_result"
    }
   ],
   "source": [
    "M5_test()"
   ]
  },
  {
   "cell_type": "code",
   "execution_count": null,
   "metadata": {},
   "outputs": [],
   "source": []
  }
 ],
 "metadata": {
  "kernelspec": {
   "display_name": "Python 3",
   "language": "python",
   "name": "python3"
  },
  "language_info": {
   "codemirror_mode": {
    "name": "ipython",
    "version": 3
   },
   "file_extension": ".py",
   "mimetype": "text/x-python",
   "name": "python",
   "nbconvert_exporter": "python",
   "pygments_lexer": "ipython3",
   "version": "3.7.4"
  }
 },
 "nbformat": 4,
 "nbformat_minor": 2
}
