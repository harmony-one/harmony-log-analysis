{
 "cells": [
  {
   "cell_type": "code",
   "execution_count": 1,
   "metadata": {},
   "outputs": [],
   "source": [
    "import json\n",
    "import pandas as pd\n",
    "import numpy as np\n",
    "import time\n",
    "import requests\n",
    "from collections import defaultdict"
   ]
  },
  {
   "cell_type": "code",
   "execution_count": 2,
   "metadata": {},
   "outputs": [],
   "source": [
    "def get_information(method, params):\n",
    "    url = 'https://api.s0.os.hmny.io/'\n",
    "    headers = {'Content-Type': 'application/json'}\n",
    "    data = {\"jsonrpc\":\"2.0\", \"method\": method, \"params\": params, \"id\":1}\n",
    "    r = requests.post(url, headers=headers, data = json.dumps(data))\n",
    "    content = json.loads(r.content)\n",
    "    return content"
   ]
  },
  {
   "cell_type": "code",
   "execution_count": 3,
   "metadata": {},
   "outputs": [],
   "source": [
    "def getBlockNumber():\n",
    "    method = \"hmy_blockNumber\"\n",
    "    params = []\n",
    "    num = get_information(method, params)['result']\n",
    "    return int(num, 16)"
   ]
  },
  {
   "cell_type": "code",
   "execution_count": 4,
   "metadata": {},
   "outputs": [],
   "source": [
    "def getLastBlockOfCurrentEpoch():\n",
    "    method = 'hmy_getStakingNetworkInfo'\n",
    "    params = []\n",
    "    return get_information(method, params)['result']['epoch-last-block']"
   ]
  },
  {
   "cell_type": "code",
   "execution_count": 5,
   "metadata": {},
   "outputs": [],
   "source": [
    "def getEpoch():\n",
    "    method = 'hmy_getEpoch'\n",
    "    params = []\n",
    "    num = get_information(method, params)['result']\n",
    "    return int(num, 16)"
   ]
  },
  {
   "cell_type": "code",
   "execution_count": 6,
   "metadata": {},
   "outputs": [],
   "source": [
    "def getAllValidatorInformation():\n",
    "    method = 'hmy_getAllValidatorInformation'\n",
    "    params = [0]\n",
    "    return get_information(method, params)['result'] "
   ]
  },
  {
   "cell_type": "code",
   "execution_count": 7,
   "metadata": {},
   "outputs": [],
   "source": [
    "def getStakeAndUndelegate(epoch):\n",
    "    validator = dict()\n",
    "    undelegate = dict()\n",
    "    validator_infos = getAllValidatorInformation()\n",
    "    for i in validator_infos:\n",
    "        address = i['validator']['address']\n",
    "        stake = dict()\n",
    "        undel = dict()\n",
    "        for d in i['validator']['delegations']:\n",
    "            del_address = d['delegator-address']\n",
    "            del_amount = d['amount']\n",
    "            if not d['undelegations']:\n",
    "                undel_amount = 0\n",
    "            flag = False\n",
    "            for j in d['undelegations']:\n",
    "                if epoch == j['epoch']:\n",
    "                    flag = True\n",
    "                    undel_amount = j['amount']\n",
    "                    break\n",
    "            if not flag:\n",
    "                undel_amount = 0\n",
    "            undel_num = d['undelegations']\n",
    "            stake[del_address] = del_amount\n",
    "            undel[del_address] = undel_amount\n",
    "        validator[address] = stake\n",
    "        undelegate[address] = undel\n",
    "    return validator, undelegate"
   ]
  },
  {
   "cell_type": "code",
   "execution_count": 8,
   "metadata": {},
   "outputs": [],
   "source": [
    "def diffAndFilter(map1, map2):\n",
    "    map3 = dict()\n",
    "    for key, val in map2.items():\n",
    "        diff = dict()\n",
    "        for k, v in map2[key].items():\n",
    "            diff[k] = v - map1[key][k]\n",
    "        map3[key] = diff\n",
    "    return map3"
   ]
  },
  {
   "cell_type": "code",
   "execution_count": 9,
   "metadata": {},
   "outputs": [],
   "source": [
    "def U1_test():\n",
    "    print(\"Test-U1: Delegator/validator stake locked until undelegate \")\n",
    "    num = int(input(\"enter the number of blocks you want to test: \"))\n",
    "    \n",
    "    block = getBlockNumber()\n",
    "    last_block = getLastBlockOfCurrentEpoch()\n",
    "    if block + num > last_block:  \n",
    "        print(\"current and last block numbers\", block, last_block)\n",
    "        print(\"wait until new epoch starts ...\")\n",
    "        new_block = last_block + 1\n",
    "        while block < new_block:\n",
    "            block = getBlockNumber()\n",
    "    iterations = 0\n",
    "    while iterations < num:\n",
    "        epoch = getEpoch()\n",
    "        print(\"current epoch number\", epoch, \"current block number\", block, \"will begin testing...\")\n",
    "        stake, undelegate = getStakeAndUndelegate(epoch)\n",
    "        next_block = block + 1\n",
    "        while block < next_block:\n",
    "            block = getBlockNumber()\n",
    "        epoch = getEpoch()\n",
    "        print(\"next block reached\", block, \"current epoch\", epoch, \"will compare the stakes\")\n",
    "        new_stake, new_undelegate = getStakeAndUndelegate(epoch)\n",
    "        diff_stake = diffAndFilter(stake, new_stake)\n",
    "        diff_undelegate = diffAndFilter(undelegate, new_undelegate)\n",
    "        \n",
    "        reduce_num = 0\n",
    "        for key, val in diff_stake.items():\n",
    "            for k,v in diff_stake[key].items():\n",
    "                if v < 0:\n",
    "                    reduce_num += 1\n",
    "                    if diff_undelegate[key][k] <= 0:\n",
    "                        print(\"Test-U1: Fail\")\n",
    "                        print(\"Delgeator stake reduces without undelegate\")\n",
    "                        print(\"undelegate changes: \", diff_undelegate[key][k])\n",
    "                        print(\"stake changes: \", v)\n",
    "                    else:\n",
    "                        print(\"Test-U1: Success\")\n",
    "        if reduce_num == 0:\n",
    "            print(\"No stake reduces at current test, need more tests\")\n",
    "            \n",
    "        iterations += 1        \n",
    "    "
   ]
  },
  {
   "cell_type": "code",
   "execution_count": 10,
   "metadata": {},
   "outputs": [
    {
     "name": "stdout",
     "output_type": "stream",
     "text": [
      "Test-U1: Delegator/validator stake locked until undelegate \n",
      "enter the number of blocks you want to test: 3\n",
      "current epoch number 708 current block number 26937 will begin testing...\n",
      "next block reached 26938 current epoch 708 will compare the stakes\n",
      "No stake reduces at current test, need more tests\n",
      "current epoch number 708 current block number 26938 will begin testing...\n",
      "next block reached 26939 current epoch 708 will compare the stakes\n",
      "Test-U1: Success\n",
      "current epoch number 708 current block number 26939 will begin testing...\n",
      "next block reached 26940 current epoch 708 will compare the stakes\n",
      "No stake reduces at current test, need more tests\n"
     ]
    }
   ],
   "source": [
    "U1_test()"
   ]
  }
 ],
 "metadata": {
  "kernelspec": {
   "display_name": "Python 3",
   "language": "python",
   "name": "python3"
  },
  "language_info": {
   "codemirror_mode": {
    "name": "ipython",
    "version": 3
   },
   "file_extension": ".py",
   "mimetype": "text/x-python",
   "name": "python",
   "nbconvert_exporter": "python",
   "pygments_lexer": "ipython3",
   "version": "3.7.4"
  }
 },
 "nbformat": 4,
 "nbformat_minor": 2
}
