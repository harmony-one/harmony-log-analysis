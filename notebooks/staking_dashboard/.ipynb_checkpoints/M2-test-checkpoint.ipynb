{
 "cells": [
  {
   "cell_type": "code",
   "execution_count": 1,
   "metadata": {},
   "outputs": [],
   "source": [
    "import json\n",
    "import pandas as pd\n",
    "import numpy as np\n",
    "import os\n",
    "import time\n",
    "import requests"
   ]
  },
  {
   "cell_type": "markdown",
   "metadata": {},
   "source": [
    "the median stake calcualtion should be applied to all the contested validators, who are eligible for elected next epoch. \n",
    "- before election, get the top 200 eligible nodes, and calculate the median;\n",
    "- after election, calculate the median for the elected node. both the two status:\n",
    "    - currently elected and signing enough blocks to be eligible for election next epoch \n",
    "    - currently elected and not signing enough blocks to be eligible for election next epoch\n",
    "    "
   ]
  },
  {
   "cell_type": "markdown",
   "metadata": {},
   "source": [
    "challenge: in the same epoch, the delegation number will change, needs to get the median before the election (the last block in one epoch). However, when validator number increases, it's hard to get all the validator's stakes in 8 seconds (one block time) "
   ]
  },
  {
   "cell_type": "code",
   "execution_count": 2,
   "metadata": {},
   "outputs": [],
   "source": [
    "def get_information(method, params):\n",
    "    url = 'https://api.s0.os.hmny.io/'\n",
    "    headers = {'Content-Type': 'application/json'}\n",
    "    data = {\"jsonrpc\":\"2.0\", \"method\": method, \"params\": params, \"id\":1}\n",
    "    r = requests.post(url, headers=headers, data = json.dumps(data))\n",
    "    content = json.loads(r.content)\n",
    "    return content"
   ]
  },
  {
   "cell_type": "code",
   "execution_count": 3,
   "metadata": {},
   "outputs": [],
   "source": [
    "def getEposMedian():\n",
    "    method = \"hmy_getMedianRawStakeSnapshot\"\n",
    "    params = []\n",
    "    return get_information(method, params)['result']['epos-median-stake']"
   ]
  },
  {
   "cell_type": "code",
   "execution_count": 4,
   "metadata": {},
   "outputs": [],
   "source": [
    "def getAllElectedValidator():\n",
    "    method = \"hmy_getElectedValidatorAddresses\"\n",
    "    params =[]\n",
    "    return get_information(method, params)['result']"
   ]
  },
  {
   "cell_type": "code",
   "execution_count": 5,
   "metadata": {},
   "outputs": [],
   "source": [
    "def getValidatorByBlock(validator, block):\n",
    "    method = \"hmy_getValidatorInformationByBlockNumber\"\n",
    "    params = [validator, block]\n",
    "    return get_information(method, params)['result']"
   ]
  },
  {
   "cell_type": "code",
   "execution_count": 6,
   "metadata": {},
   "outputs": [],
   "source": [
    "def getBlockNumber():\n",
    "    method = \"hmy_blockNumber\"\n",
    "    params = []\n",
    "    num = get_information(method, params)['result']\n",
    "    return int(num, 16)"
   ]
  },
  {
   "cell_type": "code",
   "execution_count": 7,
   "metadata": {},
   "outputs": [],
   "source": [
    "def get_median(lst):\n",
    "    n = len(lst) \n",
    "    lst.sort() \n",
    "    if n % 2 == 0: \n",
    "        median1 = lst[n//2] \n",
    "        median2 = lst[n//2 - 1] \n",
    "        median = (median1 + median2)/2\n",
    "    else: \n",
    "        median = lst[n//2] \n",
    "    return median"
   ]
  },
  {
   "cell_type": "code",
   "execution_count": 8,
   "metadata": {},
   "outputs": [],
   "source": [
    "def M2_test():\n",
    "    block = getBlockNumber()\n",
    "    while block % 38 != 0:\n",
    "        time.sleep(8)\n",
    "        block = getBlockNumber()\n",
    "    print(\"first block number in the current epoch is \" + str(block))\n",
    "    elected = getAllElectedValidator()\n",
    "    median = getEposMedian()\n",
    "    \n",
    "    # get the last block number in the last epoch \n",
    "    hex_block = hex(block - 1)\n",
    "    stake = []\n",
    "    for i in elected:\n",
    "        info = getValidatorByBlock(i, hex_block)\n",
    "        stake.append(info['total-delegation'])\n",
    "    cal_median = get_median(stake)\n",
    "    print(\"manually calculated median stake: \" + str(cal_median))\n",
    "    print(\"harmony apr call median stake: \" + str(median))\n",
    "    if cal_median == median:\n",
    "        return True\n",
    "    return False"
   ]
  },
  {
   "cell_type": "code",
   "execution_count": 9,
   "metadata": {},
   "outputs": [
    {
     "name": "stdout",
     "output_type": "stream",
     "text": [
      "first block number in the current epoch is 26638\n",
      "manually calculated median stake: 3.015e+23\n",
      "harmony apr call median stake: 225000000000000000000000.000000000000000000\n"
     ]
    },
    {
     "data": {
      "text/plain": [
       "False"
      ]
     },
     "execution_count": 9,
     "metadata": {},
     "output_type": "execute_result"
    }
   ],
   "source": [
    "M2_test()"
   ]
  }
 ],
 "metadata": {
  "kernelspec": {
   "display_name": "Python 3",
   "language": "python",
   "name": "python3"
  },
  "language_info": {
   "codemirror_mode": {
    "name": "ipython",
    "version": 3
   },
   "file_extension": ".py",
   "mimetype": "text/x-python",
   "name": "python",
   "nbconvert_exporter": "python",
   "pygments_lexer": "ipython3",
   "version": "3.7.4"
  }
 },
 "nbformat": 4,
 "nbformat_minor": 2
}
