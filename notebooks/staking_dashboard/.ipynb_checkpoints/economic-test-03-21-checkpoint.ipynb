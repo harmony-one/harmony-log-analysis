{
 "cells": [
  {
   "cell_type": "code",
   "execution_count": 4,
   "metadata": {},
   "outputs": [],
   "source": [
    "from pyhmy import cli\n",
    "import json\n",
    "import pandas as pd\n",
    "import numpy as np\n",
    "import os"
   ]
  },
  {
   "cell_type": "code",
   "execution_count": 5,
   "metadata": {},
   "outputs": [
    {
     "name": "stdout",
     "output_type": "stream",
     "text": [
      "Saved harmony binary to: `/Users/yishuang/Desktop/log_analysis/notebooks/staking_dashboard/bin/hmy`\n"
     ]
    }
   ],
   "source": [
    "env = cli.download()\n",
    "cli.environment.update(env)"
   ]
  },
  {
   "cell_type": "code",
   "execution_count": 6,
   "metadata": {},
   "outputs": [
    {
     "data": {
      "text/plain": [
       "True"
      ]
     },
     "execution_count": 6,
     "metadata": {},
     "output_type": "execute_result"
    }
   ],
   "source": [
    "path = os.getcwd() + \"/bin/hmy\"\n",
    "cli.set_binary(path)"
   ]
  },
  {
   "cell_type": "code",
   "execution_count": 7,
   "metadata": {},
   "outputs": [],
   "source": [
    "validator = json.loads(cli.single_call(\"hmy --node=https://api.s0.os.hmny.io blockchain validator all\"))['result']   "
   ]
  },
  {
   "cell_type": "code",
   "execution_count": 11,
   "metadata": {},
   "outputs": [
    {
     "data": {
      "text/plain": [
       "['one1m6j80t6rhc3ypaumtsfmqwjwp0mrqk9ff50prh',\n",
       " 'one10fjqteq6q75nm62cx8vejqsk7mc8t5hle8ewnl',\n",
       " 'one1vzsj3julf0ljcj3hhxuqpu6zvadu488zfrtttz',\n",
       " 'one18vn078vyp5jafma8q7kek6w0resrgex9yufqws',\n",
       " 'one1marnnvc8hywmfxhrc8mtpjkvvdt32x9kxtwkvv',\n",
       " 'one1tewvfjk0d4whmajpqvcvzfpx6wftrh0gagsa7n',\n",
       " 'one1gm8xwupd9e77ja46eaxv8tk4ea7re5zknaauvq',\n",
       " 'one1tpxl87y4g8ecsm6ceqay49qxyl5vs94jjyfvd9',\n",
       " 'one1dcmp24uqgwszcvmm8n6r5dvhqhuukdj86pkg6n',\n",
       " 'one1vfqqagdzz352mtvdl69v0hw953hm993n6v26yl',\n",
       " 'one1km7xg8e3xjys7azp9f4xp8hkw79vm2h3f2lade',\n",
       " 'one10qq0uqa4gvgdufqjph89pp7nj6yeatz94xdjrt',\n",
       " 'one1mpzx5wr2kmz9nvkhsgj6jr6zs87ahm0gxmhlck',\n",
       " 'one1ekup98s5tqxtr5hdzsz664cfy579jpq6w5smrr',\n",
       " 'one10jvjrtwpz2sux2ngktg3kq7m3sdz5p5au5l8c8',\n",
       " 'one1rhkl7c0jz09c9ffp2pncyr4uwamfpmcr83ufkr',\n",
       " 'one19cuygr776f7j9ep97hjm0np9ay6nus9w5msy0n',\n",
       " 'one1la07f5wduc3379ffzlpqrl4rcvlchyvtwf3uyj',\n",
       " 'one1leh5rmuclw5u68gw07d86kqxjd69zuny3h23c3',\n",
       " 'one1kvfsza4u4e5ml6qv92j2pmsal2am9mcv9u4g83',\n",
       " 'one1ujljr2nuymtxm0thjm32f64xsa9uzs54swreyw',\n",
       " 'one1k9577lnpfx7z76zslc6r8gdmsp5kqgpll7cpk9',\n",
       " 'one17d60e5nvjnzechwl56y38ze6w49wejhtanncra',\n",
       " 'one1jjq5pl4le0fhhu3n2znkkt9tydrzjcyzaljtnl',\n",
       " 'one1gjsxmewzws9mt3fn65jmdhr3e4hel9xza8wd6t',\n",
       " 'one17tj2jjehdlg8xfgp48xpeyqur2qf6nvs88jvyu',\n",
       " 'one1egemh5e9xjy3x8d3cq0kq7mw4sw4jjwgkc7axs',\n",
       " 'one14shlkfq00yfmf3r4gglt0hqfcxrgx7ysmsz832',\n",
       " 'one1c9h3u72czs6sk755tjyse7x5t70m38ppnkx922',\n",
       " 'one1j33qtvx86j4ugy0a8exwwhtldm5wv4daksrwsl']"
      ]
     },
     "execution_count": 11,
     "metadata": {},
     "output_type": "execute_result"
    }
   ],
   "source": [
    "validator"
   ]
  },
  {
   "cell_type": "code",
   "execution_count": 13,
   "metadata": {},
   "outputs": [
    {
     "data": {
      "text/plain": [
       "{'current-epoch-performance': {'current-epoch-signing-percent': {'current-epoch-blocks-left': 37,\n",
       "   'current-epoch-signed': 1,\n",
       "   'current-epoch-signing-percentage': '1.000000000000000000',\n",
       "   'current-epoch-to-sign': 1}},\n",
       " 'currently-in-committee': True,\n",
       " 'epos-status': 'currently elected and signing enough blocks to be eligible for election next epoch',\n",
       " 'metrics': {'by-shard': [{'bls-public-key': 'afc4d81ab636323b04893c23d3404f38e95e9291b3d5299dade3d03822edd3a2b799bd6d64265a9a9cac025d5dbd600c',\n",
       "    'earning-account': 'one1m6j80t6rhc3ypaumtsfmqwjwp0mrqk9ff50prh',\n",
       "    'effective-stake': '10625850000000000000000.000000000000000000',\n",
       "    'group-percent': '0.140963502991172079',\n",
       "    'overall-percent': '0.045108320957175085',\n",
       "    'shard-id': 0}],\n",
       "  'current-apr': '0.000000000000000000',\n",
       "  'total-effective-stake': '10625850000000000000000.000000000000000000'},\n",
       " 'total-delegation': 9.99919e+21,\n",
       " 'validator': {'address': 'one1m6j80t6rhc3ypaumtsfmqwjwp0mrqk9ff50prh',\n",
       "  'bls-public-keys': ['afc4d81ab636323b04893c23d3404f38e95e9291b3d5299dade3d03822edd3a2b799bd6d64265a9a9cac025d5dbd600c'],\n",
       "  'creation-height': 304,\n",
       "  'delegations': [{'amount': 100000000000000000000,\n",
       "    'delegator-address': 'one1m6j80t6rhc3ypaumtsfmqwjwp0mrqk9ff50prh',\n",
       "    'reward': 6.838967249381002e+21,\n",
       "    'undelegations': []},\n",
       "   {'amount': 3190000000000000000,\n",
       "    'delegator-address': 'one1y5n7p8a845v96xyx2gh75wn5eyhtw5002lah27',\n",
       "    'reward': 53802866213221940000,\n",
       "    'undelegations': []},\n",
       "   {'amount': 9.896e+21,\n",
       "    'delegator-address': 'one1km7xg8e3xjys7azp9f4xp8hkw79vm2h3f2lade',\n",
       "    'reward': 7.413293725880992e+21,\n",
       "    'undelegations': []}],\n",
       "  'details': 'OSTN Sentry for Shard 0',\n",
       "  'identity': 'OSTNSentry0',\n",
       "  'last-epoch-in-committee': 47,\n",
       "  'lifetime': {'blocks': {'signed': 1439, 'to-sign': 1444},\n",
       "   'reward-accumulated': 1.4306063841475217e+22},\n",
       "  'max-change-rate': '0.020000000000000000',\n",
       "  'max-rate': '0.800000000000000000',\n",
       "  'max-total-delegation': 1e+22,\n",
       "  'min-self-delegation': 10000000000000000000,\n",
       "  'name': 'OSTNSentry0',\n",
       "  'rate': '0.050000000000000000',\n",
       "  'security-contact': 'Sentry',\n",
       "  'update-height': 304,\n",
       "  'website': 'sentry@harmony.one'}}"
      ]
     },
     "execution_count": 13,
     "metadata": {},
     "output_type": "execute_result"
    }
   ],
   "source": [
    "i = validator[0]\n",
    "info = json.loads(cli.single_call(\"hmy --node=https://api.s0.os.hmny.io blockchain validator information \" + i))['result']\n",
    "info"
   ]
  },
  {
   "cell_type": "code",
   "execution_count": 14,
   "metadata": {},
   "outputs": [
    {
     "data": {
      "text/plain": [
       "{'current-epoch-blocks-left': 37,\n",
       " 'current-epoch-signed': 1,\n",
       " 'current-epoch-signing-percentage': '1.000000000000000000',\n",
       " 'current-epoch-to-sign': 1}"
      ]
     },
     "execution_count": 14,
     "metadata": {},
     "output_type": "execute_result"
    }
   ],
   "source": [
    "info['current-epoch-performance']['current-epoch-signing-percent']"
   ]
  },
  {
   "cell_type": "code",
   "execution_count": 15,
   "metadata": {},
   "outputs": [
    {
     "data": {
      "text/plain": [
       "{'bls-public-key': 'afc4d81ab636323b04893c23d3404f38e95e9291b3d5299dade3d03822edd3a2b799bd6d64265a9a9cac025d5dbd600c',\n",
       " 'earning-account': 'one1m6j80t6rhc3ypaumtsfmqwjwp0mrqk9ff50prh',\n",
       " 'effective-stake': '10625850000000000000000.000000000000000000',\n",
       " 'group-percent': '0.140963502991172079',\n",
       " 'overall-percent': '0.045108320957175085',\n",
       " 'shard-id': 0}"
      ]
     },
     "execution_count": 15,
     "metadata": {},
     "output_type": "execute_result"
    }
   ],
   "source": [
    "info['metrics']['by-shard'][0]['shard-id']"
   ]
  },
  {
   "cell_type": "code",
   "execution_count": 20,
   "metadata": {},
   "outputs": [
    {
     "data": {
      "text/plain": [
       "'one1m6j80t6rhc3ypaumtsfmqwjwp0mrqk9ff50prh'"
      ]
     },
     "execution_count": 20,
     "metadata": {},
     "output_type": "execute_result"
    }
   ],
   "source": [
    "info['validator']['address']"
   ]
  },
  {
   "cell_type": "code",
   "execution_count": 17,
   "metadata": {},
   "outputs": [
    {
     "data": {
      "text/plain": [
       "'currently elected and signing enough blocks to be eligible for election next epoch'"
      ]
     },
     "execution_count": 17,
     "metadata": {},
     "output_type": "execute_result"
    }
   ],
   "source": [
    "info['epos-status']"
   ]
  },
  {
   "cell_type": "code",
   "execution_count": 21,
   "metadata": {},
   "outputs": [
    {
     "name": "stdout",
     "output_type": "stream",
     "text": [
      "one10fjqteq6q75nm62cx8vejqsk7mc8t5hle8ewnl\n",
      "one1marnnvc8hywmfxhrc8mtpjkvvdt32x9kxtwkvv\n",
      "one1tewvfjk0d4whmajpqvcvzfpx6wftrh0gagsa7n\n",
      "one1gm8xwupd9e77ja46eaxv8tk4ea7re5zknaauvq\n",
      "one1mpzx5wr2kmz9nvkhsgj6jr6zs87ahm0gxmhlck\n",
      "one19cuygr776f7j9ep97hjm0np9ay6nus9w5msy0n\n",
      "one1la07f5wduc3379ffzlpqrl4rcvlchyvtwf3uyj\n",
      "one1leh5rmuclw5u68gw07d86kqxjd69zuny3h23c3\n",
      "one1kvfsza4u4e5ml6qv92j2pmsal2am9mcv9u4g83\n",
      "one17d60e5nvjnzechwl56y38ze6w49wejhtanncra\n",
      "one14shlkfq00yfmf3r4gglt0hqfcxrgx7ysmsz832\n",
      "one1j33qtvx86j4ugy0a8exwwhtldm5wv4daksrwsl\n"
     ]
    }
   ],
   "source": [
    "shard = []\n",
    "availability = []\n",
    "name = []\n",
    "epos_status = []\n",
    "committee = []\n",
    "website = []\n",
    "details = []\n",
    "address = []\n",
    "for i in validator:  \n",
    "    try:\n",
    "        info = json.loads(cli.single_call(\"hmy --node=https://api.s0.os.hmny.io blockchain validator information \" + i))['result']\n",
    "        shard.append(info['metrics']['by-shard'][0]['shard-id'])\n",
    "        availability.append(info['current-epoch-performance']['current-epoch-signing-percent'])\n",
    "        name.append(info['validator']['name'])\n",
    "        epos_status.append(info['epos-status'])\n",
    "        committee.append(info['currently-in-committee'])\n",
    "        website.append(info['validator']['website'])\n",
    "        details.append(info['validator']['details'])\n",
    "        address.append(info['validator']['address'])\n",
    "    except:\n",
    "        print(i)"
   ]
  },
  {
   "cell_type": "code",
   "execution_count": null,
   "metadata": {},
   "outputs": [],
   "source": []
  },
  {
   "cell_type": "code",
   "execution_count": 9,
   "metadata": {},
   "outputs": [],
   "source": [
    "df = pd.DataFrame(list(zip(shard, availability, name, epos_status, committee, website, details, address)), \\\n",
    "                  columns =['shard-id', 'availability', 'name','epos-status', 'currently-in-committee', \\\n",
    "                            'website','details','address'])\n",
    "df = pd.concat([df.drop(['availability'], axis=1), df['availability'].apply(pd.Series)], axis=1)"
   ]
  },
  {
   "cell_type": "code",
   "execution_count": 7,
   "metadata": {},
   "outputs": [],
   "source": [
    "df = df.sort_values(by=['shard-id'])\n",
    "df.reset_index(inplace = True, drop = True)"
   ]
  },
  {
   "cell_type": "code",
   "execution_count": 8,
   "metadata": {},
   "outputs": [
    {
     "data": {
      "text/html": [
       "<div>\n",
       "<style scoped>\n",
       "    .dataframe tbody tr th:only-of-type {\n",
       "        vertical-align: middle;\n",
       "    }\n",
       "\n",
       "    .dataframe tbody tr th {\n",
       "        vertical-align: top;\n",
       "    }\n",
       "\n",
       "    .dataframe thead th {\n",
       "        text-align: right;\n",
       "    }\n",
       "</style>\n",
       "<table border=\"1\" class=\"dataframe\">\n",
       "  <thead>\n",
       "    <tr style=\"text-align: right;\">\n",
       "      <th></th>\n",
       "      <th>shard-id</th>\n",
       "      <th>name</th>\n",
       "      <th>status</th>\n",
       "      <th>website</th>\n",
       "      <th>details</th>\n",
       "      <th>address</th>\n",
       "      <th>num-blocks-signed</th>\n",
       "      <th>num-blocks-to-sign</th>\n",
       "    </tr>\n",
       "  </thead>\n",
       "  <tbody>\n",
       "    <tr>\n",
       "      <td>0</td>\n",
       "      <td>0</td>\n",
       "      <td>OSTNSentry0</td>\n",
       "      <td>active</td>\n",
       "      <td>sentry@harmony.one</td>\n",
       "      <td>OSTN Sentry for Shard 0</td>\n",
       "      <td>one1m6j80t6rhc3ypaumtsfmqwjwp0mrqk9ff50prh</td>\n",
       "      <td>2220</td>\n",
       "      <td>2355</td>\n",
       "    </tr>\n",
       "    <tr>\n",
       "      <td>1</td>\n",
       "      <td>0</td>\n",
       "      <td>Bubz</td>\n",
       "      <td>inactive</td>\n",
       "      <td>https://i.imgur.com/G6Mruca.jpg</td>\n",
       "      <td>https://www.youtube.com/watch?v=QQNL83fhWJU</td>\n",
       "      <td>one1z52vrx2tta07lk6pww2vgtc9wt2jws3scvh9uh</td>\n",
       "      <td>0</td>\n",
       "      <td>75</td>\n",
       "    </tr>\n",
       "    <tr>\n",
       "      <td>2</td>\n",
       "      <td>0</td>\n",
       "      <td>Bubz</td>\n",
       "      <td>inactive</td>\n",
       "      <td>https://i.imgur.com/G6Mruca.jpg</td>\n",
       "      <td>https://www.youtube.com/watch?v=QQNL83fhWJU</td>\n",
       "      <td>one13v3ar3gpfx5f34gkwac229m59h0amr9lvnnuay</td>\n",
       "      <td>0</td>\n",
       "      <td>75</td>\n",
       "    </tr>\n",
       "    <tr>\n",
       "      <td>3</td>\n",
       "      <td>0</td>\n",
       "      <td>EV14_Validator</td>\n",
       "      <td>inactive</td>\n",
       "      <td>https://i.imgur.com/G6Mruca.jpg</td>\n",
       "      <td>https://www.youtube.com/watch?v=QQNL83fhWJU</td>\n",
       "      <td>one1x3egg0tqqljylsflzyzxy3lt4qgakag80s9up2</td>\n",
       "      <td>0</td>\n",
       "      <td>75</td>\n",
       "    </tr>\n",
       "    <tr>\n",
       "      <td>4</td>\n",
       "      <td>0</td>\n",
       "      <td>Bubz</td>\n",
       "      <td>inactive</td>\n",
       "      <td>https://i.imgur.com/G6Mruca.jpg</td>\n",
       "      <td>https://www.youtube.com/watch?v=QQNL83fhWJU</td>\n",
       "      <td>one1njrpkgs6n5fza67cg6p8g78xedr7mmjrd76zpg</td>\n",
       "      <td>0</td>\n",
       "      <td>75</td>\n",
       "    </tr>\n",
       "    <tr>\n",
       "      <td>...</td>\n",
       "      <td>...</td>\n",
       "      <td>...</td>\n",
       "      <td>...</td>\n",
       "      <td>...</td>\n",
       "      <td>...</td>\n",
       "      <td>...</td>\n",
       "      <td>...</td>\n",
       "      <td>...</td>\n",
       "    </tr>\n",
       "    <tr>\n",
       "      <td>83</td>\n",
       "      <td>3</td>\n",
       "      <td>OSTNSentry3</td>\n",
       "      <td>active</td>\n",
       "      <td>sentry@harmony.one</td>\n",
       "      <td>OSTN Sentry for Shard 3</td>\n",
       "      <td>one1marnnvc8hywmfxhrc8mtpjkvvdt32x9kxtwkvv</td>\n",
       "      <td>2438</td>\n",
       "      <td>2464</td>\n",
       "    </tr>\n",
       "    <tr>\n",
       "      <td>84</td>\n",
       "      <td>3</td>\n",
       "      <td>Sesameseed</td>\n",
       "      <td>active</td>\n",
       "      <td>https://sesameseed.org/</td>\n",
       "      <td>Sesameseed is a multi-chain digital asset stak...</td>\n",
       "      <td>one1a8avzz3hcvhfrh2tp7rdprpvwt838y9um9c2q7</td>\n",
       "      <td>1758</td>\n",
       "      <td>1934</td>\n",
       "    </tr>\n",
       "    <tr>\n",
       "      <td>85</td>\n",
       "      <td>3</td>\n",
       "      <td>gondar</td>\n",
       "      <td>active</td>\n",
       "      <td>github.com</td>\n",
       "      <td>Bounty Hunter</td>\n",
       "      <td>one1hpxxxnqp5epvs2ktzdft24q39r4pttywkmt3cy</td>\n",
       "      <td>1857</td>\n",
       "      <td>1875</td>\n",
       "    </tr>\n",
       "    <tr>\n",
       "      <td>86</td>\n",
       "      <td>3</td>\n",
       "      <td>Vega</td>\n",
       "      <td>active</td>\n",
       "      <td>https://giphy.com/gifs/rick-roll-lgcUUCXgC8mEo</td>\n",
       "      <td>Cheap Stake here</td>\n",
       "      <td>one1wz9fmjrwua3le0c8qxv058p3wpdg4ctjyc3ha4</td>\n",
       "      <td>1788</td>\n",
       "      <td>1801</td>\n",
       "    </tr>\n",
       "    <tr>\n",
       "      <td>87</td>\n",
       "      <td>3</td>\n",
       "      <td>Micabytes</td>\n",
       "      <td>active</td>\n",
       "      <td>micabytes.COM</td>\n",
       "      <td>micabytes</td>\n",
       "      <td>one12d5a58rcpyf8chlcd2my8r8ns572uppetmxqrx</td>\n",
       "      <td>328</td>\n",
       "      <td>333</td>\n",
       "    </tr>\n",
       "  </tbody>\n",
       "</table>\n",
       "<p>88 rows × 8 columns</p>\n",
       "</div>"
      ],
      "text/plain": [
       "    shard-id            name    status  \\\n",
       "0          0     OSTNSentry0    active   \n",
       "1          0            Bubz  inactive   \n",
       "2          0            Bubz  inactive   \n",
       "3          0  EV14_Validator  inactive   \n",
       "4          0            Bubz  inactive   \n",
       "..       ...             ...       ...   \n",
       "83         3     OSTNSentry3    active   \n",
       "84         3      Sesameseed    active   \n",
       "85         3          gondar    active   \n",
       "86         3            Vega    active   \n",
       "87         3       Micabytes    active   \n",
       "\n",
       "                                           website  \\\n",
       "0                               sentry@harmony.one   \n",
       "1                  https://i.imgur.com/G6Mruca.jpg   \n",
       "2                  https://i.imgur.com/G6Mruca.jpg   \n",
       "3                  https://i.imgur.com/G6Mruca.jpg   \n",
       "4                  https://i.imgur.com/G6Mruca.jpg   \n",
       "..                                             ...   \n",
       "83                              sentry@harmony.one   \n",
       "84                         https://sesameseed.org/   \n",
       "85                                      github.com   \n",
       "86  https://giphy.com/gifs/rick-roll-lgcUUCXgC8mEo   \n",
       "87                                   micabytes.COM   \n",
       "\n",
       "                                              details  \\\n",
       "0                             OSTN Sentry for Shard 0   \n",
       "1         https://www.youtube.com/watch?v=QQNL83fhWJU   \n",
       "2         https://www.youtube.com/watch?v=QQNL83fhWJU   \n",
       "3         https://www.youtube.com/watch?v=QQNL83fhWJU   \n",
       "4         https://www.youtube.com/watch?v=QQNL83fhWJU   \n",
       "..                                                ...   \n",
       "83                            OSTN Sentry for Shard 3   \n",
       "84  Sesameseed is a multi-chain digital asset stak...   \n",
       "85                                      Bounty Hunter   \n",
       "86                                  Cheap Stake here    \n",
       "87                                          micabytes   \n",
       "\n",
       "                                       address  num-blocks-signed  \\\n",
       "0   one1m6j80t6rhc3ypaumtsfmqwjwp0mrqk9ff50prh               2220   \n",
       "1   one1z52vrx2tta07lk6pww2vgtc9wt2jws3scvh9uh                  0   \n",
       "2   one13v3ar3gpfx5f34gkwac229m59h0amr9lvnnuay                  0   \n",
       "3   one1x3egg0tqqljylsflzyzxy3lt4qgakag80s9up2                  0   \n",
       "4   one1njrpkgs6n5fza67cg6p8g78xedr7mmjrd76zpg                  0   \n",
       "..                                         ...                ...   \n",
       "83  one1marnnvc8hywmfxhrc8mtpjkvvdt32x9kxtwkvv               2438   \n",
       "84  one1a8avzz3hcvhfrh2tp7rdprpvwt838y9um9c2q7               1758   \n",
       "85  one1hpxxxnqp5epvs2ktzdft24q39r4pttywkmt3cy               1857   \n",
       "86  one1wz9fmjrwua3le0c8qxv058p3wpdg4ctjyc3ha4               1788   \n",
       "87  one12d5a58rcpyf8chlcd2my8r8ns572uppetmxqrx                328   \n",
       "\n",
       "    num-blocks-to-sign  \n",
       "0                 2355  \n",
       "1                   75  \n",
       "2                   75  \n",
       "3                   75  \n",
       "4                   75  \n",
       "..                 ...  \n",
       "83                2464  \n",
       "84                1934  \n",
       "85                1875  \n",
       "86                1801  \n",
       "87                 333  \n",
       "\n",
       "[88 rows x 8 columns]"
      ]
     },
     "execution_count": 8,
     "metadata": {},
     "output_type": "execute_result"
    }
   ],
   "source": [
    "df"
   ]
  },
  {
   "cell_type": "code",
   "execution_count": 9,
   "metadata": {},
   "outputs": [],
   "source": [
    "df.to_csv(\"../../csv/validator.tsv\", index=False)"
   ]
  }
 ],
 "metadata": {
  "kernelspec": {
   "display_name": "Python 3",
   "language": "python",
   "name": "python3"
  },
  "language_info": {
   "codemirror_mode": {
    "name": "ipython",
    "version": 3
   },
   "file_extension": ".py",
   "mimetype": "text/x-python",
   "name": "python",
   "nbconvert_exporter": "python",
   "pygments_lexer": "ipython3",
   "version": "3.7.4"
  }
 },
 "nbformat": 4,
 "nbformat_minor": 2
}
