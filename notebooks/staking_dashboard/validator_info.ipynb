{
 "cells": [
  {
   "cell_type": "code",
   "execution_count": 1,
   "metadata": {},
   "outputs": [],
   "source": [
    "import json\n",
    "import pandas as pd\n",
    "import numpy as np\n",
    "import os\n",
    "import time\n",
    "import requests\n",
    "import csv\n",
    "import re\n",
    "from collections import defaultdict"
   ]
  },
  {
   "cell_type": "code",
   "execution_count": 2,
   "metadata": {},
   "outputs": [],
   "source": [
    "def get_information(method, params):\n",
    "    url = 'https://api.s0.os.hmny.io/'\n",
    "    headers = {'Content-Type': 'application/json'}\n",
    "    data = {\"jsonrpc\":\"2.0\", \"method\": method, \"params\": params, \"id\":1}\n",
    "    r = requests.post(url, headers=headers, data = json.dumps(data))\n",
    "    content = json.loads(r.content)\n",
    "    return content"
   ]
  },
  {
   "cell_type": "code",
   "execution_count": 3,
   "metadata": {},
   "outputs": [],
   "source": [
    "def getAllValidatorInformation():\n",
    "    method = 'hmy_getAllValidatorInformation'\n",
    "    params = [-1]\n",
    "    return get_information(method, params)['result']"
   ]
  },
  {
   "cell_type": "code",
   "execution_count": 4,
   "metadata": {},
   "outputs": [],
   "source": [
    "def getBlockNumber():\n",
    "    method = \"hmy_blockNumber\"\n",
    "    params = []\n",
    "    num = get_information(method, params)['result']\n",
    "    return int(num, 16)"
   ]
  },
  {
   "cell_type": "code",
   "execution_count": 5,
   "metadata": {},
   "outputs": [],
   "source": [
    "def get_size(size):\n",
    "    html_url = \"https://staking-explorer2-268108.appspot.com/networks/harmony-open-staking/validators_with_page?active=true&page=0&search=&size={}&sortOrder=desc&sortProperty=expectedReturns\".format(size)\n",
    "    res = requests.get(html_url)\n",
    "    content = json.loads(res.content)\n",
    "    return content['total']"
   ]
  },
  {
   "cell_type": "code",
   "execution_count": 6,
   "metadata": {},
   "outputs": [],
   "source": [
    "def get_validator(page, size):\n",
    "    html_url = \"https://staking-explorer2-268108.appspot.com/networks/harmony-open-staking/validators_with_page?active=false&page={}&search=&size={}&sortOrder=desc&sortProperty=expectedReturns\".format(page, size)\n",
    "    res = requests.get(html_url)\n",
    "    content = json.loads(res.content)\n",
    "    return content['validators']"
   ]
  },
  {
   "cell_type": "code",
   "execution_count": 7,
   "metadata": {},
   "outputs": [],
   "source": [
    "def read_csv(csv_file) -> (dict, list):\n",
    "    r = requests.get(csv_file)\n",
    "    s = [x.decode(encoding) for x in r.content.splitlines()]\n",
    "    d = defaultdict(list)\n",
    "    v = []\n",
    "    dup_list = []\n",
    "    for line in csv.reader(s):\n",
    "        group = line[1].strip()\n",
    "        email = line[3].strip()\n",
    "        address = line[7].strip()\n",
    "        if group in groups and re.match('one1', address) != None:\n",
    "            d[group].append(address)\n",
    "            v.append(address)\n",
    "    return d, v"
   ]
  },
  {
   "cell_type": "code",
   "execution_count": 8,
   "metadata": {},
   "outputs": [],
   "source": [
    "def diffAndFilter(map1, map2):\n",
    "    map3 = dict()\n",
    "    for k, v in map2.items():\n",
    "        if k in map1:\n",
    "            if v - map1[k] != 0:\n",
    "                map3[k] = v - map1[k]\n",
    "    return map3"
   ]
  },
  {
   "cell_type": "code",
   "execution_count": 9,
   "metadata": {},
   "outputs": [],
   "source": [
    "def getNewValidatorInfo(address, df):\n",
    "    index = df[df['address'] == address].index[0]\n",
    "    return df.loc[index]['name'], df.loc[index]['security-contact'], df.loc[index]['website']"
   ]
  },
  {
   "cell_type": "code",
   "execution_count": 10,
   "metadata": {},
   "outputs": [],
   "source": [
    "bls_key = []\n",
    "availability = []\n",
    "name = []\n",
    "epos_status = []\n",
    "apr = []\n",
    "delegation = []\n",
    "committee = []\n",
    "website = []\n",
    "details = []\n",
    "address = []\n",
    "security = []\n",
    "identity = []\n",
    "boot_status = []\n",
    "dels = defaultdict(int)\n",
    "# get the accumualted reward in current block\n",
    "block = getBlockNumber()\n",
    "next_block = block + 1\n",
    "validator_infos = getAllValidatorInformation()\n",
    "for info in validator_infos:  \n",
    "    for d in info['validator']['delegations']:\n",
    "        del_address = d['delegator-address']\n",
    "        reward = d['reward']/1e18\n",
    "        dels[del_address] += reward\n",
    "# get the new accumulated reward in next block\n",
    "while block < next_block:\n",
    "    block = getBlockNumber()\n",
    "validator_infos = getAllValidatorInformation()\n",
    "new_dels = defaultdict(int)\n",
    "for info in validator_infos:\n",
    "    if not info['metrics']:\n",
    "        bls_key.append(np.nan)\n",
    "    else:\n",
    "        bls_key.append(len(info['metrics']['by-bls-key']))\n",
    "    if not info['current-epoch-performance']:\n",
    "        availability.append(np.nan)\n",
    "    else:\n",
    "        availability.append(info['current-epoch-performance']['current-epoch-signing-percent'])\n",
    "    name.append(info['validator']['name'])\n",
    "    epos_status.append(info['epos-status'])\n",
    "    apr.append(info['lifetime']['apr'])\n",
    "    delegation.append(len(info['validator']['delegations'][0]))\n",
    "    committee.append(info['currently-in-committee'])\n",
    "    website.append(info['validator']['website'])\n",
    "    details.append(info['validator']['details'])\n",
    "    address.append(info['validator']['address'])\n",
    "    security.append(info['validator']['security-contact'])\n",
    "    identity.append(info['validator']['identity'])    \n",
    "    boot_status.append(info['booted-status'])\n",
    "    for d in info['validator']['delegations']:\n",
    "        del_address = d['delegator-address']\n",
    "        reward = d['reward']/1e18\n",
    "        new_dels[del_address] += reward\n",
    "# get the reward the validator earned in that block\n",
    "reward_dict = diffAndFilter(dels, new_dels)"
   ]
  },
  {
   "cell_type": "code",
   "execution_count": 11,
   "metadata": {},
   "outputs": [
    {
     "name": "stdout",
     "output_type": "stream",
     "text": [
      "-- Epos Status Summary --\n",
      "Currently elected: 167 \n",
      "Eligible to be elected next epoch: 7 \n",
      "Not eligible to be elected next epoch: 220 \n",
      "\n"
     ]
    }
   ],
   "source": [
    "# get most infos except reward and uptime\n",
    "df = pd.DataFrame(list(zip( name, address, website, details, security, identity, epos_status, committee, apr, delegation, bls_key, boot_status)), \\\n",
    "                  columns =['name','address', 'website','details','security-contact','identity','epos-status', 'currently-in-committee', 'apr', 'delegator-num', 'bls-key-num', 'boot_status'])\n",
    "# df = pd.concat([df.drop(['availability'], axis=1), df['availability'].apply(pd.Series)], axis=1)\n",
    "# df.drop([0], axis = 1, inplace = True)\n",
    "df.reset_index(inplace = True, drop = True)\n",
    "# get reward per block\n",
    "reward = pd.DataFrame(reward_dict.items(), columns=['address', 'reward'])\n",
    "df = df.join(reward.set_index(\"address\"), on = 'address')\n",
    "# get accumulated reward\n",
    "acc_reward = pd.DataFrame(new_dels.items(), columns=['address', 'acc_reward'])\n",
    "df = df.join(acc_reward.set_index(\"address\"), on = 'address')\n",
    "# get uptime\n",
    "size = get_size(1)\n",
    "pages = size // 100 + 1\n",
    "# get the validator info\n",
    "validator = []\n",
    "for i in range(pages):\n",
    "    val = get_validator(i,100)\n",
    "    validator.extend(val)\n",
    "uptime = []\n",
    "address = []\n",
    "active_nodes = []\n",
    "elected_nodes = []\n",
    "active = []\n",
    "for i in validator:\n",
    "    uptime.append(i['uptime_percentage'])\n",
    "    address.append(i['address'])\n",
    "    active_nodes.append(i['active_nodes'])\n",
    "    elected_nodes.append(i['elected_nodes'])\n",
    "    active.append(i['active'])\n",
    "uptime_df = pd.DataFrame(list(zip(uptime, address, active_nodes, elected_nodes, active)), columns = ['uptime-percentage','address', 'active_nodes', 'elected_nodes', 'active'])\n",
    "df = df.join(uptime_df.set_index(\"address\"), on = 'address')\n",
    "df.to_csv('./csv/validator_info.csv', index = False)\n",
    "print(\"-- Epos Status Summary --\")\n",
    "count = df.groupby('epos-status')['epos-status'].count().reset_index(name = 'count')\n",
    "elected, eligible, ineligible = count['count'][0], count['count'][1], count['count'][2]\n",
    "print(\"Currently elected: %s \\nEligible to be elected next epoch: %s \\nNot eligible to be elected next epoch: %s \\n\" % (elected, eligible, ineligible))"
   ]
  },
  {
   "cell_type": "code",
   "execution_count": 22,
   "metadata": {},
   "outputs": [],
   "source": [
    "csv_link = 'https://docs.google.com/spreadsheets/d/e/2PACX-1vTUUOCAuSgP8TcA1xWY5AbxaMO7OSowYgdvaHpeMQudAZkHkJrf2sGE6TZ0hIbcy20qpZHmlC8HhCw1/pub?gid=0&single=true&output=csv'\n",
    "encoding = 'utf-8'\n",
    "groups = ['team', 'p-ops', 'foundational nodes', 'p-volunteer', 'hackers', 'community', 'partners']\n",
    "by_group, csv_validators = read_csv(csv_link)\n",
    "new_validators = [x for x in df['address'] if x not in csv_validators]"
   ]
  },
  {
   "cell_type": "code",
   "execution_count": 23,
   "metadata": {
    "scrolled": false
   },
   "outputs": [
    {
     "name": "stdout",
     "output_type": "stream",
     "text": [
      "-- New Validators --\n",
      "New Validators: 81\n",
      "Address: one15mx7cgu93a2pf8lcmatrcn65t253s32rx5l7l0, Validator Name: Bubz, Security Contact: Bubz Hacker Legion, Website: https://i.imgur.com/G6Mruca.jpg\n",
      "Address: one1cq9hvst9zgc3vxp4gn08yhrhuxxc7q2x5gv6ep, Validator Name: Bubz, Security Contact: Bubz Hacker Legion, Website: https://i.imgur.com/G6Mruca.jpg\n",
      "Address: one1n0ayywreah5ehwr6lwq4s5582s6xweau2j4wuu, Validator Name: Bubz, Security Contact: Bubz Hacker Legion, Website: https://i.imgur.com/G6Mruca.jpg\n",
      "Address: one1nhjygh8vdtfcnf7mrapxlehq3uthxm9qcpnfhr, Validator Name: U1_Validator, Security Contact: Bubz Hacker Legion, Website: https://i.imgur.com/G6Mruca.jpg\n",
      "Address: one196d32mvxkqz5dk4e8a04jwatsf8kmjfgetqf8a, Validator Name: Bubz, Security Contact: Bubz Hacker Legion, Website: https://i.imgur.com/G6Mruca.jpg\n",
      "Address: one156k98ujrrtxz5r72x753cdxhw6cdw2l8k2vkkj, Validator Name: CV1_Validator, Security Contact: Bubz Hacker Legion, Website: https://i.imgur.com/G6Mruca.jpg\n",
      "Address: one1t90e9exk6400205z5sq03c2p586cqq6q4sj7dc, Validator Name: CV10_Validator, Security Contact: Bubz Hacker Legion, Website: https://i.imgur.com/G6Mruca.jpg\n",
      "Address: one1fqe3jy2n255js9a9nr2k5ygadfac5sahvu5mh9, Validator Name: CV11_Validator, Security Contact: Bubz Hacker Legion, Website: https://mrbubzsinsanelyawesomewebsitethatisfortunatelyexactlyhowlongawebsiteURLcanbeinordertocreateavalidatoronHarmonyssolidafblockchain.com\n",
      "Address: one1sgletur4xsyh9v0qvatrmnmfkqe8chep9gpnl4, Validator Name: CV12_Validator, Security Contact: BubzBubzBubzBubzBubzBubzBubzBubzBubzBubzBubzBubzBubzBubzBubzBubzBubzBubzBubzBubzBubzBubzBubzBubzBubzBubzBubzBubzBubzBubzBubzBubzBubzBubzBubz, Website: https://i.imgur.com/G6Mruca.jpg\n",
      "Address: one15medn5mgh33dkkzfn5nahshf2r2mssavutgupf, Validator Name: CV13_Validator, Security Contact: Bubz Hacker Legion, Website: https://i.imgur.com/G6Mruca.jpg\n",
      "Address: one14aa9lyvj9jx4axhws8vhsunu56e5rhjvrtnez9, Validator Name: CV14_Validator, Security Contact: Bubz Hacker Legion, Website: https://i.imgur.com/G6Mruca.jpg\n",
      "Address: one17g8wesm8lgqasx6gmf8h8250luacw76v38y8fz, Validator Name: 020 Node Ankr, Security Contact: info@ankr.com, Website: www.ankr.com\n",
      "Address: one1kxqw2zvuyex06gydj6s92e486saxujhn4fj669, Validator Name: CV17_Validator, Security Contact: Bubz Hacker Legion, Website: https://i.imgur.com/G6Mruca.jpg\n",
      "Address: one1rshxndhv5dv9phpeg8fkjy9tesh89pca20ltyu, Validator Name: EasternShire, Security Contact: info@ankr.com, Website: www.ankr.com\n",
      "Address: one1yvpcfjumdl2rx6urjl0tkwdh69q3gdallhq07t, Validator Name: CV18_Validator, Security Contact: Bubz Hacker Legion, Website: https://i.imgur.com/G6Mruca.jpg\n",
      "Address: one1wfyvyauertts5ac5rcfxhwx74k36n66rjf7zns, Validator Name: CV19_Validator, Security Contact: Bubz Hacker Legion, Website: https://i.imgur.com/G6Mruca.jpg\n",
      "Address: one1rzftsesj0mtqn0d70ca0x6rpgfts2nlzgcm872, Validator Name: CV20_Validator, Security Contact: Bubz Hacker Legion, Website: https://i.imgur.com/G6Mruca.jpg\n",
      "Address: one13c249j2lv3erkqze4ztyznscngmmk786mpx833, Validator Name: CV21_Validator, Security Contact: Bubz Hacker Legion, Website: https://i.imgur.com/G6Mruca.jpg\n",
      "Address: one1h4fr6lgdvgt70tssk9uvheqmsa60rwl6s8uq70, Validator Name: CV22_Validator, Security Contact: Bubz Hacker Legion, Website: https://i.imgur.com/G6Mruca.jpg\n",
      "Address: one1lmfj4tk6434pzpn59t744fgytetyg85kmj4n6t, Validator Name: CV29_Validator, Security Contact: Bubz Hacker Legion, Website: https://i.imgur.com/G6Mruca.jpg\n",
      "Address: one19a09q6cwhk2nnty09elwmy6l2479mw9werhxa4, Validator Name: TitsWrinkler, Security Contact: info@ankr.com, Website: www.ankr.com\n",
      "Address: one1zyapxr0gl5fxn7agu0laermpu7uteamslmqu06, Validator Name: WetFinger, Security Contact: info@ankr.com, Website: www.ankr.com\n",
      "Address: one184c3ej7hw7l0gmzsh5z04p8dhq779m5h6nag99, Validator Name: Bubz, Security Contact: Bubz Hacker Legion, Website: https://i.imgur.com/G6Mruca.jpg\n",
      "Address: one1xe84ejekvw2nfcsu505wxcuvwd4qmm4jrhw3pc, Validator Name: CV30_Validator, Security Contact: Bubz Hacker Legion, Website: https://i.imgur.com/G6Mruca.jpg\n",
      "Address: one1m4e9f9vt0nf40ghyz8k3v642tyhq9ad6umhemf, Validator Name: CV40_Validator, Security Contact: Bubz Hacker Legion, Website: https://i.imgur.com/G6Mruca.jpg\n",
      "Address: one1yvauhhsql8xzvkmjukwqmhzncy57mmph8c6ewl, Validator Name: Bubz, Security Contact: Bubz Hacker Legion, Website: https://i.imgur.com/G6Mruca.jpg\n",
      "Address: one1elagxpn9epdxg62qrgk0j7urmzj2895d58lcsv, Validator Name: Bubz, Security Contact: Bubz Hacker Legion, Website: https://i.imgur.com/G6Mruca.jpg\n",
      "Address: one1kwhu8y8wkarmg0dp5m4nslm5mk6vxcz0l6myzk, Validator Name: BubzBubzBubzBubzBubzBubzBubzBubzBubzBubzBubzBubzBubzBubzBubzBubzBubzBubzBubzBubzBubzBubzBubzBubzBubzBubzBubzBubzBubzBubzBubzBubzBubzBubzBubz, Security Contact: Bubz Hacker Legion, Website: https://i.imgur.com/G6Mruca.jpg\n",
      "Address: one12enshrruux47ewnlq4q34vcpm5ttx5ptunw6a5, Validator Name: EV6_Validator, Security Contact: The other guy got fired, this is the new security contact, Website: https://www.CompletelyDifferentWebsite.com\n",
      "Address: one1xxya4g7cr4tu8ud4t0dk8636vevlg83dwv05e4, Validator Name: EV12_Validator, Security Contact: Bubz Hacker Legion, Website: https://i.imgur.com/G6Mruca.jpg\n",
      "Address: one1tn3lw0gensqg9khzwzd5vn9qck5a7shpks04um, Validator Name: Bubz, Security Contact: Bubz Hacker Legion, Website: https://i.imgur.com/G6Mruca.jpg\n",
      "Address: one1tna2d9ptkx5seakwp4pcz23nk5hga2epzl0eku, Validator Name: EV14_Validator, Security Contact: Bubz Hacker Legion, Website: https://i.imgur.com/G6Mruca.jpg\n",
      "Address: one1ehhqeds323unl4uuqd8j6eqxafeu2zx25kxysy, Validator Name: Bubz, Security Contact: Bubz Hacker Legion, Website: https://i.imgur.com/G6Mruca.jpg\n",
      "Address: one1n3w298gedx46ynjjff7c4pyr3pp7y9qcaxjlrt, Validator Name: Bubz, Security Contact: Bubz Hacker Legion, Website: https://i.imgur.com/G6Mruca.jpg\n",
      "Address: one1zx5mw4dam2cle4t5xjaz2tynkqm74ts0nnscd2, Validator Name: EV19_Validator, Security Contact: Bubz Hacker Legion, Website: https://i.imgur.com/G6Mruca.jpg\n",
      "Address: one1gd6ykkdtqdjxzwqfj0mw72j3uhg3p87u52sckl, Validator Name: Bubz, Security Contact: Bubz Hacker Legion, Website: https://i.imgur.com/G6Mruca.jpg\n",
      "Address: one1uj85xkexxz2trfwejvg89ntc8e6fkey759vquy, Validator Name: Bubz, Security Contact: Bubz Hacker Legion, Website: https://i.imgur.com/G6Mruca.jpg\n",
      "Address: one1dktm4dn3lu200dyk2z695zc0gelrqnz6x5ajus, Validator Name: EV23_Validator, Security Contact: Bubz Hacker Legion, Website: https://i.imgur.com/G6Mruca.jpg\n",
      "Address: one1d9hmtnrj8722svynlqs97hwne35hrmyctsfwqn, Validator Name: Bubz, Security Contact: Bubz Hacker Legion, Website: https://i.imgur.com/G6Mruca.jpg\n",
      "Address: one1m3fwdejxmsdv8j6e45sqp6cuj2nd23jv7ydy3f, Validator Name: EV26_Validator, Security Contact: Bubz Hacker Legion, Website: https://i.imgur.com/G6Mruca.jpg\n",
      "Address: one1y7w24yhlnwaugay03etcgw9ysrw3exckeezzvr, Validator Name: Bubz, Security Contact: Bubz Hacker Legion, Website: https://i.imgur.com/G6Mruca.jpg\n",
      "Address: one1kyjf3776d0luf6qux5e7fxvsfs39058fg6asyh, Validator Name: EV28_Validator, Security Contact: Bubz Hacker Legion, Website: https://i.imgur.com/G6Mruca.jpg\n",
      "Address: one144ftt7lqvvcwrdpk3lypudmxw2xxzh82v55glf, Validator Name: Bubz, Security Contact: Bubz Hacker Legion, Website: https://i.imgur.com/G6Mruca.jpg\n",
      "Address: one18u2qj6scgga6q77gnztcxxhnp8y7ktn6t0uvm7, Validator Name: , Security Contact: info@ankr.com, Website: www.ankr.com\n",
      "Address: one1vkphtlv8l29mx02p98hkf44qjxng75yfxz77tf, Validator Name: Dolphin, Security Contact: info@ankr.com, Website: www.ankr.com\n",
      "Address: one1gw22wkrrz7yp4w0fek2pnlh5j4f5pcftz27qvt, Validator Name: li upgraded auto, Security Contact: li@harmony.one, Website: li@harmony.one\n",
      "Address: one1qlfwe99857uh472ng0xtg4myaj0czfkk6hvzwk, Validator Name: harmony autonode, Security Contact: Daniel-VDM, Website: harmony.one\n",
      "Address: one1d5zjm3al5y8nsjsuandjmgr0tltktfhmjyzwaf, Validator Name: SUCKBALLZ, Security Contact: Isaak, Website: t.me/nibbaz\n",
      "Address: one1lrnym626vxkd8smrygu40q2r0sqwnrhpdw5cem, Validator Name: My Harmony One Node, Security Contact: info@ankr.com, Website: www.ankr.com\n",
      "Address: one1mjfp54mezjz0daxwe5fkd46wqfv9rd4kakq9q9, Validator Name: SadCracker, Security Contact: info@ankr.com, Website: www.ankr.com\n",
      "Address: one1jn7ytxkzs7ljkv0908zfa5jtjut9nx77vmey97, Validator Name: AssLicker, Security Contact: info@ankr.com, Website: www.ankr.com\n",
      "Address: one1pc0577xv67nugyw2jad6kmt4q49nnuwh7hqkul, Validator Name: MasterYoda_ONE_UA, Security Contact: info@ankr.com, Website: www.ankr.com\n",
      "Address: one1jdgxud6xxzwcgqnkwccans6mz9ysl8egrvnnqq, Validator Name: , Security Contact: J, Website: harmony.one\n",
      "Address: one12mr00g5l9juwt7xk8p88qhs7v77etmtr7awh6m, Validator Name: , Security Contact: , Website: \n",
      "Address: one1x8lhmh57qa09f25g5n8s0ak46tjj7yhg29q99q, Validator Name: Andrew-harmony-staking-1, Security Contact: info@ankr.com, Website: www.ankr.com\n",
      "Address: one1ehyhce5h9f62xat2970gdtsa7sddmz5n6rajpp, Validator Name: Wang Lee - Validator 2, Security Contact: info@ankr.com, Website: www.ankr.com\n",
      "Address: one1fgjge3kww26w95qfkh33k2mdc33t6e26km6vmf, Validator Name: C7, Security Contact: alien@mindstyle, Website: www.notyourbussiness.com\n",
      "Address: one183a3gzhp0pn2p4schfnsz240g5qn8d0hqat8zq, Validator Name: C7 node_test.1, Security Contact: alien@mindstyle, Website: www.notyourbussiness.com\n",
      "Address: one1d4rw6nh2crgw8apuy6d7m6ls3vllm6enupn60p, Validator Name: C7 node_test.2, Security Contact: alien@mindstyle, Website: www.notyourbussiness.com\n",
      "Address: one1muxfpf4gl59dx6my58a2zdan28k6609za9ch7r, Validator Name: C7 node_test.1x, Security Contact: alien@mindstyle, Website: www.notyourbussiness.com\n",
      "Address: one1xgv66f7emaacgu842zyg5xyyykkkl8l8hhhwfn, Validator Name: Dolphin, Security Contact: info@ankr.com, Website: www.ankr.com\n",
      "Address: one1zxnkjncuxtt5u8df4hg4cxcwa3anqk6c2chz59, Validator Name: Okpokhuo, Security Contact: info@ankr.com, Website: www.ankr.com\n",
      "Address: one150p98pdvfcd0lk5998fl3xwq6sukt7zajgnuh9, Validator Name: nv autonode, Security Contact: nv, Website: harmony.one\n",
      "Address: one1euvx2vfd50qmyvcs2hly7jerjumekkvfy5sq60, Validator Name: harmony autonode, Security Contact: Daniel-VDM, Website: harmony.one\n",
      "Address: one14shk8s5ucmueku9hjyccvwxkgu6tky9rrzdfc8, Validator Name: One Test Node, Security Contact: info@ankr.com, Website: www.ankr.com\n",
      "Address: one1vzungjk0e0eddfpajpzlrtnu5cy4skh3hrcvtc, Validator Name: Izeet007, Security Contact: info@ankr.com, Website: www.ankr.com\n",
      "Address: one1cv5akjw5yk5ryhkhehey05w38jypas5550xahm, Validator Name: Maggie key8  autonode, Security Contact: Daniel-VDM, Website: harmony.one\n",
      "Address: one1yvq64ua6x5fefdq7cw0n07swvms8ex20sf7w6w, Validator Name: test, Security Contact: info@ankr.com, Website: www.ankr.com\n",
      "Address: one1xnzpe9aqgm7aqd9f4sgzm5ycqgmw7uga43f2gd, Validator Name: Tats, Security Contact: info@ankr.com, Website: www.ankr.com\n",
      "Address: one14pcwfj5f7smq3tlw7ugkzpwry4pfrgd4hynl4f, Validator Name: Nairobi, Security Contact: anttut@gmail.com, Website: siptune.com\n",
      "Address: one15vz6c6j6qm52avvycxlzyvcxatnleazfg8ueu5, Validator Name: gondar, Security Contact: info@ankr.com, Website: www.ankr.com\n",
      "Address: one1nvwp873xy7ypcqd5jkaq0gvjchtcqdmhrl4fjf, Validator Name: harmony test autonode, Security Contact: alla, Website: harmony.one\n",
      "Address: one1psnpg3fexautp227p73yyvddsllae60txupyl7, Validator Name: fayeloon, Security Contact: info@ankr.com, Website: www.ankr.com\n",
      "Address: one17ggg46nxt86av0sqw9xgqxc5nnhglex5wq78kk, Validator Name: KEmmra, Security Contact: info@ankr.com, Website: www.ankr.com\n",
      "Address: one1m64syarm223ww67vqx4y3ug5zwvmfulvclmvdu, Validator Name: Babylonode auto, Security Contact: nv, Website: harmony.one\n",
      "Address: one1p53a77uus9se68dlnh39en5zyj9d0z6nw4a2ge, Validator Name: SadCracker, Security Contact: info@ankr.com, Website: www.ankr.com\n",
      "Address: one1e5wqxk8j6uemlar3vezkla89xyg22chzn2ttny, Validator Name: AssLicker, Security Contact: info@ankr.com, Website: www.ankr.com\n",
      "Address: one1vuh6r7kzysrj9qveesdcjjhr5clagesn0jnz6h, Validator Name: kt0801, Security Contact: none, Website: none\n",
      "Address: one1v8pukmelacy3xdap773rpg5pax3tmu40wmwr2j, Validator Name: sieemma node, Security Contact: info@ankr.com, Website: www.ankr.com\n",
      "Address: one1htajfd9ncg3jfvw56k5400mtqm9f8nc583l2ln, Validator Name: kt0801, Security Contact: kt0801, Website: kt0801\n",
      "Address: one1my9fgylq08hgeayacs3xhy9uaczq3mjfda4jup, Validator Name: wolf_autonode, Security Contact: autowolf, Website: harmony.one\n"
     ]
    }
   ],
   "source": [
    "print(\"-- New Validators --\")\n",
    "print(\"New Validators: %d\" % len(new_validators))\n",
    "for i in new_validators:\n",
    "    name, security, website = getNewValidatorInfo(i, df)\n",
    "    print(\"Address: %s, Validator Name: %s, Security Contact: %s, Website: %s\" %(i, name, security, website))\n"
   ]
  }
 ],
 "metadata": {
  "kernelspec": {
   "display_name": "Python 3",
   "language": "python",
   "name": "python3"
  },
  "language_info": {
   "codemirror_mode": {
    "name": "ipython",
    "version": 3
   },
   "file_extension": ".py",
   "mimetype": "text/x-python",
   "name": "python",
   "nbconvert_exporter": "python",
   "pygments_lexer": "ipython3",
   "version": "3.7.6"
  }
 },
 "nbformat": 4,
 "nbformat_minor": 2
}
