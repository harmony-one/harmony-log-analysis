{
 "cells": [
  {
   "cell_type": "code",
   "execution_count": 1,
   "metadata": {},
   "outputs": [],
   "source": [
    "import json\n",
    "import pandas as pd\n",
    "import os\n",
    "from os import path\n",
    "import requests\n",
    "from collections import defaultdict"
   ]
  },
  {
   "cell_type": "code",
   "execution_count": 2,
   "metadata": {},
   "outputs": [],
   "source": [
    "def get_information(method, params):\n",
    "    url = 'https://api.s0.os.hmny.io/'\n",
    "    headers = {'Content-Type': 'application/json'}\n",
    "    data = {\"jsonrpc\":\"2.0\", \"method\": method, \"params\": params, \"id\":1}\n",
    "    r = requests.post(url, headers=headers, data = json.dumps(data))\n",
    "    content = json.loads(r.content)\n",
    "    return content"
   ]
  },
  {
   "cell_type": "code",
   "execution_count": 3,
   "metadata": {},
   "outputs": [],
   "source": [
    "def getAllValidatorInformation():\n",
    "    method = 'hmy_getAllValidatorInformation'\n",
    "    params = [-1]\n",
    "    return get_information(method, params)['result']"
   ]
  },
  {
   "cell_type": "code",
   "execution_count": 4,
   "metadata": {},
   "outputs": [],
   "source": [
    "def getValidatorInfo(validator):\n",
    "    method = \"hmy_getValidatorInformation\"\n",
    "    params = [validator]\n",
    "    return get_information(method, params)['result']"
   ]
  },
  {
   "cell_type": "code",
   "execution_count": 5,
   "metadata": {},
   "outputs": [],
   "source": [
    "def getBalance(address):\n",
    "    method = \"hmy_getBalance\"\n",
    "    params = [address, \"latest\"]\n",
    "    return int(get_information(method, params)['result'],16)"
   ]
  },
  {
   "cell_type": "code",
   "execution_count": 7,
   "metadata": {},
   "outputs": [
    {
     "name": "stdout",
     "output_type": "stream",
     "text": [
      "-- Data Processing --\n",
      "-- Save csv files to ./csv/ folder --\n"
     ]
    }
   ],
   "source": [
    "if __name__ == \"__main__\":            \n",
    "    print(\"-- Data Processing --\")\n",
    "    validator_infos = getAllValidatorInformation()\n",
    "    del_reward = defaultdict(int)\n",
    "    del_stake = defaultdict(int)\n",
    "    val_address = []\n",
    "    name = dict()\n",
    "    website = dict()\n",
    "    # get the accumualted reward in current block\n",
    "    for info in validator_infos:\n",
    "        address = info['validator']['address']\n",
    "        val_address.append(address)\n",
    "        name[address] = info['validator']['name']\n",
    "        website[address] = info['validator']['website']\n",
    "        for d in info['validator']['delegations']:\n",
    "            del_address = d['delegator-address']\n",
    "            reward = d['reward']/1e18\n",
    "            del_reward[del_address] += reward\n",
    "            amount = d['amount']/1e18\n",
    "            del_stake[del_address] = amount\n",
    "    del_address = set(del_reward.keys()) - set(val_address)\n",
    "    balance = dict()\n",
    "    for i in del_address:\n",
    "        balance[i] = float(getBalance(i)/1e18)\n",
    "    balance_df = pd.DataFrame(balance.items(), columns=['address', 'balance'])\n",
    "    \n",
    "    new_del_reward = dict()\n",
    "    new_del_stake = dict()\n",
    "    for k,v in del_reward.items():\n",
    "        if k in del_address:\n",
    "            new_del_reward[k] = v\n",
    "            new_del_stake[k] = del_stake[k]\n",
    "    reward_df = pd.DataFrame(new_del_reward.items(), columns=['address', 'lifetime-reward'])\n",
    "    stake_df = pd.DataFrame(new_del_stake.items(), columns=['address', 'stake'])\n",
    "    df = reward_df.join(stake_df.set_index('address'), on = 'address')\n",
    "    df = df.join(balance_df.set_index('address'), on = 'address')\n",
    "    print(\"-- Save csv files to ./csv/ folder --\")\n",
    "    df.to_csv(\"./csv/delegator.csv\")"
   ]
  }
 ],
 "metadata": {
  "kernelspec": {
   "display_name": "Python 3",
   "language": "python",
   "name": "python3"
  },
  "language_info": {
   "codemirror_mode": {
    "name": "ipython",
    "version": 3
   },
   "file_extension": ".py",
   "mimetype": "text/x-python",
   "name": "python",
   "nbconvert_exporter": "python",
   "pygments_lexer": "ipython3",
   "version": "3.7.6"
  }
 },
 "nbformat": 4,
 "nbformat_minor": 2
}
