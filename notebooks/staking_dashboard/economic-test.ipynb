{
 "cells": [
  {
   "cell_type": "code",
   "execution_count": 1,
   "metadata": {},
   "outputs": [],
   "source": [
    "from pyhmy import cli\n",
    "import json\n",
    "import pandas as pd\n",
    "import numpy as np\n",
    "import os\n",
    "import time"
   ]
  },
  {
   "cell_type": "code",
   "execution_count": 2,
   "metadata": {},
   "outputs": [
    {
     "name": "stdout",
     "output_type": "stream",
     "text": [
      "Saved harmony binary to: `/Users/yishuang/Desktop/log_analysis/notebooks/staking_dashboard/bin/hmy`\n"
     ]
    }
   ],
   "source": [
    "env = cli.download()\n",
    "cli.environment.update(env)"
   ]
  },
  {
   "cell_type": "code",
   "execution_count": 3,
   "metadata": {},
   "outputs": [
    {
     "data": {
      "text/plain": [
       "True"
      ]
     },
     "execution_count": 3,
     "metadata": {},
     "output_type": "execute_result"
    }
   ],
   "source": [
    "path = os.getcwd() + \"/bin/hmy\"\n",
    "cli.set_binary(path)"
   ]
  },
  {
   "cell_type": "code",
   "execution_count": 4,
   "metadata": {},
   "outputs": [],
   "source": [
    "def R1_test():\n",
    "    committees = json.loads(cli.single_call(\"hmy --node=https://api.s0.os.hmny.io utility committees\"))\n",
    "    harmony_nodes = []\n",
    "    for k,v in committees['result']['current']['quorum-deciders'].items():\n",
    "        for i in v['committee-members']:\n",
    "            if i['is-harmony-slot'] == True:\n",
    "                harmony_nodes.append(i['earning-account'])\n",
    "    \n",
    "    # no harmony nodes should have validator information\n",
    "    num = 0\n",
    "    for i in harmony_nodes:\n",
    "        try:\n",
    "            cli.single_call(\"hmy --node=https://api.s0.os.hmny.io blockchain validator information \" + i)\n",
    "        except:\n",
    "            num += 1\n",
    "    assert num == len(harmony_nodes)\n",
    "    return True\n",
    "            "
   ]
  },
  {
   "cell_type": "code",
   "execution_count": 5,
   "metadata": {},
   "outputs": [
    {
     "data": {
      "text/plain": [
       "True"
      ]
     },
     "execution_count": 5,
     "metadata": {},
     "output_type": "execute_result"
    }
   ],
   "source": [
    "R1_test()"
   ]
  },
  {
   "cell_type": "code",
   "execution_count": 6,
   "metadata": {},
   "outputs": [],
   "source": [
    "def E1_test():\n",
    "    committees = json.loads(cli.single_call(\"hmy --node=https://api.s0.os.hmny.io utility committees\"))\n",
    "    slot = committees['result']['current']['external-slot-count']\n",
    "    validator = json.loads(cli.single_call(\"hmy --node=https://api.s0.os.hmny.io blockchain validator all\"))['result'] \n",
    "    epoch = json.loads(cli.single_call(\"hmy --node=https://api.s0.os.hmny.io blockchain latest-header\"))['result']['epoch']\n",
    "    # get top #slots nodes who are eligible to elected next epoch\n",
    "    new = []\n",
    "    stake = dict()\n",
    "    for i in validator:\n",
    "        info = json.loads(cli.single_call(\"hmy --node=https://api.s0.os.hmny.io blockchain validator information \" + i))['result']\n",
    "        if info['epos-status'] == 'currently elected and signing enough blocks to be eligible for election next epoch' or info['epos-status'] == 'eligible to be elected next epoch':\n",
    "            new.append(i)\n",
    "            stake[i] = info['total-delegation']\n",
    "    if len(new) > slot:\n",
    "        sorted_stake = sorted(stake.items(), key=lambda kv: kv[1], reverse = True)\n",
    "        new = [kv[0] for kv in sorted_stake[:slot]]\n",
    "    \n",
    "    # wait for epoch changes\n",
    "    new_epoch = json.loads(cli.single_call(\"hmy --node=https://api.s0.os.hmny.io blockchain latest-header\"))['result']['epoch']\n",
    "    while new_epoch == epoch:\n",
    "        time.sleep(8)\n",
    "        new_epoch = json.loads(cli.single_call(\"hmy --node=https://api.s0.os.hmny.io blockchain latest-header\"))['result']['epoch']\n",
    "    \n",
    "    # check whether the eligible validators are selected\n",
    "    for i in new:\n",
    "        info = json.loads(cli.single_call(\"hmy --node=https://api.s0.os.hmny.io blockchain validator information \" + i))['result']\n",
    "        if info['epos-status'] == 'currently elected and signing enough blocks to be eligible for election next epoch' or \\\n",
    "        info['epos-status'] == 'currently elected and not signing enough blocks to be eligible for election next epoch':\n",
    "            print(\"validator \" + i + \"who is eligible to be selected is not selected\")\n",
    "\n",
    "            \n",
    "        \n",
    "        "
   ]
  },
  {
   "cell_type": "code",
   "execution_count": 7,
   "metadata": {},
   "outputs": [
    {
     "name": "stdout",
     "output_type": "stream",
     "text": [
      "validator one1m6j80t6rhc3ypaumtsfmqwjwp0mrqk9ff50prhwho is eligible to be selected is not selected\n",
      "validator one1tpxl87y4g8ecsm6ceqay49qxyl5vs94jjyfvd9who is eligible to be selected is not selected\n",
      "validator one103q7qe5t2505lypvltkqtddaef5tzfxwsse4z7who is eligible to be selected is not selected\n",
      "validator one10fjqteq6q75nm62cx8vejqsk7mc8t5hle8ewnlwho is eligible to be selected is not selected\n",
      "validator one1vzsj3julf0ljcj3hhxuqpu6zvadu488zfrtttzwho is eligible to be selected is not selected\n",
      "validator one1marnnvc8hywmfxhrc8mtpjkvvdt32x9kxtwkvvwho is eligible to be selected is not selected\n",
      "validator one1y5n7p8a845v96xyx2gh75wn5eyhtw5002lah27who is eligible to be selected is not selected\n",
      "validator one1egemh5e9xjy3x8d3cq0kq7mw4sw4jjwgkc7axswho is eligible to be selected is not selected\n",
      "validator one1km7xg8e3xjys7azp9f4xp8hkw79vm2h3f2ladewho is eligible to be selected is not selected\n",
      "validator one17tj2jjehdlg8xfgp48xpeyqur2qf6nvs88jvyuwho is eligible to be selected is not selected\n",
      "validator one12d5a58rcpyf8chlcd2my8r8ns572uppetmxqrxwho is eligible to be selected is not selected\n",
      "validator one17d60e5nvjnzechwl56y38ze6w49wejhtanncrawho is eligible to be selected is not selected\n",
      "validator one1rhkl7c0jz09c9ffp2pncyr4uwamfpmcr83ufkrwho is eligible to be selected is not selected\n",
      "validator one19cuygr776f7j9ep97hjm0np9ay6nus9w5msy0nwho is eligible to be selected is not selected\n",
      "validator one1jjq5pl4le0fhhu3n2znkkt9tydrzjcyzaljtnlwho is eligible to be selected is not selected\n",
      "validator one1wz9fmjrwua3le0c8qxv058p3wpdg4ctjyc3ha4who is eligible to be selected is not selected\n",
      "validator one1hwn68w7m5g8daltvrjkmq23qn58nrvr3yz6rytwho is eligible to be selected is not selected\n",
      "validator one170xqsfzm4xdmuyax54t5pvtp5l5yt66u50ctrpwho is eligible to be selected is not selected\n",
      "validator one1mpzx5wr2kmz9nvkhsgj6jr6zs87ahm0gxmhlckwho is eligible to be selected is not selected\n",
      "validator one1ekup98s5tqxtr5hdzsz664cfy579jpq6w5smrrwho is eligible to be selected is not selected\n",
      "validator one1ny9q5uf4t0lvksejs9xppjds2qvneputadc3q7who is eligible to be selected is not selected\n",
      "validator one1hpxxxnqp5epvs2ktzdft24q39r4pttywkmt3cywho is eligible to be selected is not selected\n",
      "validator one1p5hv9qv90dyrag9fj3wzrvvrs273ypcq8mz7znwho is eligible to be selected is not selected\n",
      "validator one1syx0rmtttr8jehlxvnkpyx4hvrlevmcx3tcghywho is eligible to be selected is not selected\n",
      "validator one1fv5ku7szkm60h4j4tcd2yanvjaw2ym3ugnls33who is eligible to be selected is not selected\n",
      "validator one1gm8xwupd9e77ja46eaxv8tk4ea7re5zknaauvqwho is eligible to be selected is not selected\n",
      "validator one18vn078vyp5jafma8q7kek6w0resrgex9yufqwswho is eligible to be selected is not selected\n",
      "validator one1gjsxmewzws9mt3fn65jmdhr3e4hel9xza8wd6twho is eligible to be selected is not selected\n",
      "validator one1xmx3fd69jp06ad23ptsj2pxuy2vsquhha76w0awho is eligible to be selected is not selected\n",
      "validator one1u6c4wer2dkm767hmjeehnwu6tqqur62gx9vqsdwho is eligible to be selected is not selected\n",
      "validator one1zc4et7xmtp8lna54ucye9phxlvw73kfgqeh5umwho is eligible to be selected is not selected\n"
     ]
    }
   ],
   "source": [
    "E1_test()"
   ]
  },
  {
   "cell_type": "markdown",
   "metadata": {},
   "source": [
    "the median stake calcualtion should be applied to all the contested validators, who are eligible for elected next epoch. \n",
    "- before election, get the top 200 eligible nodes, and calculate the median;\n",
    "- after election, calculate the median for the elected node. both the two status:\n",
    "    - currently elected and signing enough blocks to be eligible for election next epoch \n",
    "    - currently elected and not signing enough blocks to be eligible for election next epoch\n",
    "    \n",
    "Q: if they are elected, they have the metrics, not elected no metrics?"
   ]
  },
  {
   "cell_type": "code",
   "execution_count": 8,
   "metadata": {},
   "outputs": [],
   "source": [
    "def M5_test():\n",
    "    median = json.loads(cli.single_call(\"hmy --node=https://api.s0.os.hmny.io blockchain median-stake\"))\n",
    "    validator = json.loads(cli.single_call(\"hmy --node=https://api.s0.os.hmny.io blockchain validator all\"))['result'] \n",
    "    \n",
    "    # get the median stake and the upper and lower level \n",
    "    median_stake = float(median['result']['epos-median-stake'])\n",
    "    lower = median_stake - 0.15*median_stake\n",
    "    upper = median_stake + 0.15*median_stake\n",
    "    print(\"median stake is \" + median['result']['epos-median-stake'])\n",
    "    print(\"lower bond is \" + str(lower))\n",
    "    print(\"upper bond is \" + str(upper))\n",
    "    print(\"===========================\")\n",
    "    print(\"\")\n",
    "    # check every validator's effective stake\n",
    "    for i in validator:\n",
    "        info = json.loads(cli.single_call(\"hmy --node=https://api.s0.os.hmny.io blockchain validator information \" + i))['result']\n",
    "        if info['metrics']:\n",
    "            for s in info['metrics']['by-shard']:\n",
    "                if float(s['effective-stake']) > upper or float(s['effective-stake']) < lower:\n",
    "                    print(\"validator: \" + i + \" bls public key: \" + str(s['bls-public-key']) +\\\n",
    "                          \" shard: \" + str(s['shard-id'])) \n",
    "                    print(\"effective stake is out of range. The effective stake is \" + s['effective-stake'])\n",
    "                    print(\"\")"
   ]
  },
  {
   "cell_type": "code",
   "execution_count": 9,
   "metadata": {},
   "outputs": [
    {
     "name": "stdout",
     "output_type": "stream",
     "text": [
      "median stake is 200000000000000000000000.000000000000000000\n",
      "lower bond is 1.7e+23\n",
      "upper bond is 2.2999999999999997e+23\n",
      "===========================\n",
      "\n",
      "validator: one1tpxl87y4g8ecsm6ceqay49qxyl5vs94jjyfvd9 bls public key: 7ab21e88f5d17712e30dfc9a7acdb7e0e784fabf2bf76d5f83d8a0269dd47f38d8f454cb7ece5921027a9b68d806578f shard: 3\n",
      "effective stake is out of range. The effective stake is 230000000000000000000000.000000000000000000\n",
      "\n",
      "validator: one1tpxl87y4g8ecsm6ceqay49qxyl5vs94jjyfvd9 bls public key: bd8a0ab99bc6468b10992846f74b9f4c23ed1ce9a89848a4edba15bbef10906091880e9f10b3b0e53000c2b4f934cb97 shard: 3\n",
      "effective stake is out of range. The effective stake is 230000000000000000000000.000000000000000000\n",
      "\n",
      "validator: one103q7qe5t2505lypvltkqtddaef5tzfxwsse4z7 bls public key: 86dc2fdc2ceec18f6923b99fd86a68405c132e1005cf1df72dca75db0adfaeb53d201d66af37916d61f079f34f21fb96 shard: 2\n",
      "effective stake is out of range. The effective stake is 230000000000000000000000.000000000000000000\n",
      "\n",
      "validator: one12d5a58rcpyf8chlcd2my8r8ns572uppetmxqrx bls public key: 6d5c07ee92b7caff12c245724cc065a8274113ae815c45f257f3c3f81017ab1f401bf76ca11c23f9fe7d0a375245648b shard: 3\n",
      "effective stake is out of range. The effective stake is 230000000000000000000000.000000000000000000\n",
      "\n",
      "validator: one17d60e5nvjnzechwl56y38ze6w49wejhtanncra bls public key: 7a4a5b3881a9f64851c9b5ec5c449b293ce567dec39bd3e80b9726cc12825e0eec0ef2bc682114e2f123ad7e1bcc6b99 shard: 1\n",
      "effective stake is out of range. The effective stake is 230000000000000000000000.000000000000000000\n",
      "\n",
      "validator: one1rhkl7c0jz09c9ffp2pncyr4uwamfpmcr83ufkr bls public key: 5bde9d28af81e43faf13f1ccdb2b3e8f6cbe9f76930ba6b79647476e228ef6380c15699658c4d615d474460225de8d12 shard: 2\n",
      "effective stake is out of range. The effective stake is 230000000000000000000000.000000000000000000\n",
      "\n",
      "validator: one170xqsfzm4xdmuyax54t5pvtp5l5yt66u50ctrp bls public key: 24869840d8cf20bf94cc0aaede8424e7457316997796c406f6fe6ae7067552f1360915ca15e3e9afc5f91d4a68b9df8d shard: 1\n",
      "effective stake is out of range. The effective stake is 230000000000000000000000.000000000000000000\n",
      "\n",
      "validator: one1mpzx5wr2kmz9nvkhsgj6jr6zs87ahm0gxmhlck bls public key: 2c2a83b249d04bfa77556a74a2124d7158281d1a1766469deb3d8db8da0958bc889a8c94b8c97254c6c8e99927792689 shard: 1\n",
      "effective stake is out of range. The effective stake is 230000000000000000000000.000000000000000000\n",
      "\n",
      "validator: one1ekup98s5tqxtr5hdzsz664cfy579jpq6w5smrr bls public key: 718b9ead7b9aaa9cb70570450c6256937c86f08978c8a48b536c2a849f61ff52f1b78b39014064cefc5f223efd45a080 shard: 0\n",
      "effective stake is out of range. The effective stake is 230000000000000000000000.000000000000000000\n",
      "\n",
      "validator: one1hpxxxnqp5epvs2ktzdft24q39r4pttywkmt3cy bls public key: e8efbf33375c47bdac66ced93c3c0874ff30c310590e66c253fe70f1f58529717ba3b29687bca862e8d66d7c6f40cf07 shard: 3\n",
      "effective stake is out of range. The effective stake is 230000000000000000000000.000000000000000000\n",
      "\n",
      "validator: one1syx0rmtttr8jehlxvnkpyx4hvrlevmcx3tcghy bls public key: 02760cadc6ef3d3c1f8b66adbe182ebc252b451178efc168e856870311c8a7005c7060d28ea72c6c7adfab606989f413 shard: 3\n",
      "effective stake is out of range. The effective stake is 230000000000000000000000.000000000000000000\n",
      "\n",
      "validator: one1fv5ku7szkm60h4j4tcd2yanvjaw2ym3ugnls33 bls public key: 24394973188a468d5cac2dc803dce4fd8eed39e71fd8d2f4cce1594c5fbe64a6520686b9de06f56d89d3a98bdfbb5c00 shard: 0\n",
      "effective stake is out of range. The effective stake is 230000000000000000000000.000000000000000000\n",
      "\n",
      "validator: one1gm8xwupd9e77ja46eaxv8tk4ea7re5zknaauvq bls public key: 17592c04f6f83ed1cdf472210efeaae035c72fa40b085dfe971262a7879ca1703d1fceb0b9de7e994bbee1004899cf94 shard: 0\n",
      "effective stake is out of range. The effective stake is 230000000000000000000000.000000000000000000\n",
      "\n",
      "validator: one18vn078vyp5jafma8q7kek6w0resrgex9yufqws bls public key: 394d726edbb908fa71bdb2b417dd0fe7c77d9f86b3a0b1e1b51d11e26dd1cddb4e21269c3e1d08e75d43ec98ff4ca582 shard: 2\n",
      "effective stake is out of range. The effective stake is 230000000000000000000000.000000000000000000\n",
      "\n",
      "validator: one1u6c4wer2dkm767hmjeehnwu6tqqur62gx9vqsd bls public key: dfca9b0bb41a358023b75136f51882e2b5396806f4287a0200f772c2b7b8a5981730fbc7558b086da8217969518d3498 shard: 0\n",
      "effective stake is out of range. The effective stake is 230000000000000000000000.000000000000000000\n",
      "\n",
      "validator: one1u6c4wer2dkm767hmjeehnwu6tqqur62gx9vqsd bls public key: 778fedb1699a7741eae03dbdcbc376c983b1a23aa9da2548c1706442acc3431747a957cf7aee2ae0fa028bc0c83a1684 shard: 0\n",
      "effective stake is out of range. The effective stake is 230000000000000000000000.000000000000000000\n",
      "\n",
      "validator: one1u6c4wer2dkm767hmjeehnwu6tqqur62gx9vqsd bls public key: 62937063063c3c8390c86fd406b3155158fe8ecf1e82b0116e1e27cd8fb021c61c39469658d212cb89168ada8ab89a08 shard: 0\n",
      "effective stake is out of range. The effective stake is 230000000000000000000000.000000000000000000\n",
      "\n",
      "validator: one1u6c4wer2dkm767hmjeehnwu6tqqur62gx9vqsd bls public key: 356b0732524bdd3a2ac6f2a09aa29da9a71b73167f42c64e5ba2b3322d82f79ade31b56efe61782f25c354c1dec28f88 shard: 0\n",
      "effective stake is out of range. The effective stake is 230000000000000000000000.000000000000000000\n",
      "\n"
     ]
    }
   ],
   "source": [
    "M5_test()"
   ]
  },
  {
   "cell_type": "markdown",
   "metadata": {},
   "source": [
    "question: in the same epoch, will the delegation change"
   ]
  },
  {
   "cell_type": "code",
   "execution_count": 10,
   "metadata": {},
   "outputs": [],
   "source": [
    "def get_median(lst):\n",
    "    n = len(lst) \n",
    "    lst.sort() \n",
    "    if n % 2 == 0: \n",
    "        median1 = lst[n//2] \n",
    "        median2 = lst[n//2 - 1] \n",
    "        median = (median1 + median2)/2\n",
    "    else: \n",
    "        median = lst[n//2] \n",
    "    return median"
   ]
  },
  {
   "cell_type": "code",
   "execution_count": 13,
   "metadata": {},
   "outputs": [],
   "source": [
    "def M2_test():\n",
    "    median = json.loads(cli.single_call(\"hmy --node=https://api.s0.os.hmny.io blockchain median-stake\"))\n",
    "    validator = json.loads(cli.single_call(\"hmy --node=https://api.s0.os.hmny.io blockchain validator all\"))['result'] \n",
    "    median_stake = float(median['result']['epos-median-stake'])\n",
    "    \n",
    "    elected = json.loads(cli.single_call(\"hmy --node=https://api.s0.os.hmny.io blockchain validator elected\"))\n",
    "    stake = []\n",
    "    for i in validator:\n",
    "        info = json.loads(cli.single_call(\"hmy --node=https://api.s0.os.hmny.io blockchain validator information \" + i))['result']\n",
    "        stake.append(info['total-delegation'])\n",
    "    cal_median = get_median(stake)\n",
    "#     assert median == cal_median\n",
    "    print(\"manually calculated median stake: \" + str(cal_median))\n",
    "    print(\"harmony apr call median stake: \" + str(median_stake))"
   ]
  },
  {
   "cell_type": "code",
   "execution_count": 14,
   "metadata": {},
   "outputs": [
    {
     "name": "stdout",
     "output_type": "stream",
     "text": [
      "manually calculated median stake: 4e+23\n",
      "harmony apr call median stake: 2e+23\n"
     ]
    }
   ],
   "source": [
    "M2_test()"
   ]
  },
  {
   "cell_type": "code",
   "execution_count": null,
   "metadata": {},
   "outputs": [],
   "source": []
  }
 ],
 "metadata": {
  "kernelspec": {
   "display_name": "Python 3",
   "language": "python",
   "name": "python3"
  },
  "language_info": {
   "codemirror_mode": {
    "name": "ipython",
    "version": 3
   },
   "file_extension": ".py",
   "mimetype": "text/x-python",
   "name": "python",
   "nbconvert_exporter": "python",
   "pygments_lexer": "ipython3",
   "version": "3.7.4"
  }
 },
 "nbformat": 4,
 "nbformat_minor": 2
}
