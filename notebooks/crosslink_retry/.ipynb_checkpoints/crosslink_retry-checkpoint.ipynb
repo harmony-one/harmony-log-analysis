{
 "cells": [
  {
   "cell_type": "code",
   "execution_count": 1,
   "metadata": {},
   "outputs": [],
   "source": [
    "import json\n",
    "import pandas as pd\n",
    "import os"
   ]
  },
  {
   "cell_type": "code",
   "execution_count": 2,
   "metadata": {},
   "outputs": [],
   "source": [
    "def read_data(files, path):\n",
    "    data = []\n",
    "    for file in files:\n",
    "        if \"zerolog\" in file:\n",
    "            with open(path + file, errors='ignore') as f:\n",
    "                for line in f.readlines():\n",
    "                    json_line = json.loads(line)\n",
    "                    if json_line[\"level\"] == \"debug\" and \"[BroadcastCrossLink] Broadcasting\" in json_line[\"message\"]:\n",
    "                        data.append(json_line)\n",
    "    return data"
   ]
  },
  {
   "cell_type": "code",
   "execution_count": 3,
   "metadata": {},
   "outputs": [],
   "source": [
    "def get_crosslink(shard):\n",
    "    log_dir = \"../../logs/node_logs/stress_test_03_04/s\" + str(shard) + \"-leader/\"\n",
    "    files = os.listdir(log_dir)\n",
    "    data = read_data(files, log_dir)\n",
    "    df = pd.DataFrame(data)\n",
    "    cross_link = df.duplicated(subset=['message']).sum()\n",
    "    perc = cross_link / len(df)\n",
    "    print(\"Info For Shard \"+str(shard))\n",
    "    print(\"=========================\")\n",
    "    print(\"total retry crosslink number is \" + str(cross_link))\n",
    "    print(\"total broadcast crosslink number is \" + str(len(df)))\n",
    "    print(\"percentage of retry crosslink is \" + str(perc))\n",
    "   "
   ]
  },
  {
   "cell_type": "code",
   "execution_count": 4,
   "metadata": {},
   "outputs": [
    {
     "name": "stdout",
     "output_type": "stream",
     "text": [
      "Info For Shard 1\n",
      "=========================\n",
      "total retry crosslink number is 3483\n",
      "total broadcast crosslink number is 4493\n",
      "percentage of retry crosslink is 0.7752058758068106\n"
     ]
    }
   ],
   "source": [
    "get_crosslink(1)"
   ]
  },
  {
   "cell_type": "code",
   "execution_count": 5,
   "metadata": {},
   "outputs": [
    {
     "name": "stdout",
     "output_type": "stream",
     "text": [
      "Info For Shard 2\n",
      "=========================\n",
      "total retry crosslink number is 484\n",
      "total broadcast crosslink number is 653\n",
      "percentage of retry crosslink is 0.7411944869831547\n"
     ]
    }
   ],
   "source": [
    "get_crosslink(2)"
   ]
  }
 ],
 "metadata": {
  "kernelspec": {
   "display_name": "Python 3",
   "language": "python",
   "name": "python3"
  },
  "language_info": {
   "codemirror_mode": {
    "name": "ipython",
    "version": 3
   },
   "file_extension": ".py",
   "mimetype": "text/x-python",
   "name": "python",
   "nbconvert_exporter": "python",
   "pygments_lexer": "ipython3",
   "version": "3.7.4"
  }
 },
 "nbformat": 4,
 "nbformat_minor": 2
}
