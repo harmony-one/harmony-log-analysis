{
 "cells": [
  {
   "cell_type": "code",
   "execution_count": 1,
   "metadata": {},
   "outputs": [],
   "source": [
    "import json\n",
    "import pandas as pd\n",
    "import os\n",
    "import shutil\n",
    "import re\n",
    "import plotly.express as px \n",
    "import plotly.graph_objects as go\n",
    "import numpy as np\n",
    "from IPython.core.display import display, HTML"
   ]
  },
  {
   "cell_type": "code",
   "execution_count": 2,
   "metadata": {},
   "outputs": [],
   "source": [
    "def read_data(files, path):\n",
    "    data = []\n",
    "    for file in files:\n",
    "        if \"zerolog\" in file:\n",
    "            with open(path + file, errors='ignore') as f:\n",
    "                for line in f.readlines():\n",
    "                    if 'received message: Node/Block' in line or 'received message: Node/Sync' in line:\n",
    "                        data.append(json.loads(line))\n",
    "    return data"
   ]
  },
  {
   "cell_type": "code",
   "execution_count": 3,
   "metadata": {},
   "outputs": [],
   "source": [
    "def data_processing(data):\n",
    "    df = pd.DataFrame(data)\n",
    "    df['time'] = pd.to_datetime(df['time'], format = '%Y-%m-%dT%H:%M:%S.%f')\n",
    "    return df"
   ]
  },
  {
   "cell_type": "code",
   "execution_count": 4,
   "metadata": {},
   "outputs": [],
   "source": [
    "def aggregate(df, time):\n",
    "    agg = df.groupby([pd.Grouper(freq= str(time) + 'Min', key = 'time'), 'message'])['message'].count().\\\n",
    "    reset_index(name = 'count')\n",
    "    return agg"
   ]
  },
  {
   "cell_type": "code",
   "execution_count": 5,
   "metadata": {},
   "outputs": [],
   "source": [
    "def draw_graph(df, alert, time):\n",
    "    \n",
    "    df = df.sort_values(by='time').reset_index(drop = True)\n",
    "    html_path = \"https://harmony-one.github.io/harmony-log-analysis/\" + html_dir.replace(\"../../docs/\", \"\") + \"message.html\"\n",
    "    png_path = fig_dir \n",
    "    print(\"png graphs saved in \" + png_path)\n",
    "    print('html graphs saved in ')\n",
    "    display(HTML(\"<a href='\" + html_path + \"' target='_blank'>\" + html_path + \"</a>\"))\n",
    "    if not os.path.exists(html_dir):\n",
    "        os.makedirs(html_dir)\n",
    "        \n",
    "    if not os.path.exists(png_path):\n",
    "        os.makedirs(png_path)\n",
    "    \n",
    "    hover = df.columns.tolist()\n",
    "    fig = px.line(df, x=\"time\", y=\"count\", color=\"message\", color_discrete_sequence=px.colors.cyclical.Twilight, \\\n",
    "              title = 'message counts in ' + str(time) + ' minutes vs Time', hover_data=hover)\n",
    "    fig.update_layout(xaxis_title=\"utc_time\", legend_orientation=\"h\", legend=dict(x=-0.2, y=-0.25))\n",
    "    \n",
    "    trace = []\n",
    "    text = []\n",
    "    for k,v in alert.items():\n",
    "        fig.add_shape(type=\"line\", x0=k, y0=0,x1=k,y1=1,\n",
    "                line=dict(\n",
    "                width=0.5,\n",
    "                dash=\"dot\",\n",
    "                \n",
    "            ))\n",
    "        trace.append(k)\n",
    "        text.append(v)\n",
    "    fig.update_shapes(dict(xref='x', yref='paper'))\n",
    "    \n",
    "    fig.add_trace(go.Scatter(\n",
    "        x=trace,\n",
    "        y=np.linspace(1, df['count'].max(), num = len(alert)).tolist(),\n",
    "        text=text,\n",
    "        mode=\"text\",\n",
    "        showlegend=False\n",
    "    ))\n",
    "    \n",
    "\n",
    "    fig.show(renderer=\"svg\",width=900, height=500)\n",
    "    fig.write_html(html_dir + \"message.html\")\n",
    "    fig.write_image(png_path + \"message.png\",width=1000, height=600)"
   ]
  },
  {
   "cell_type": "code",
   "execution_count": 6,
   "metadata": {},
   "outputs": [],
   "source": [
    "# get alert time from pagerduty\n",
    "alert = dict()\n",
    "alert['2020-03-31 11:24:18.0'] = 'Shard 0 stuck!'\n",
    "alert['2020-03-31 11:16:47.0'] = 'Shard 2 stuck!'\n",
    "alert['2020-03-31 07:15:15.0'] = 'Shard 3 stuck!'\n",
    "alert['2020-03-31 07:15:24.0'] = 'Shard 1 stuck!'\n",
    "alert['2020-03-30 20:52:40.0'] = 'Shard 0 stuck!'\n",
    "alert['2020-03-30 20:52:32.0'] = 'Shard 2 stuck!'\n",
    "alert['2020-03-30 20:52:37.0'] = 'Shard 3 stuck!'\n",
    "alert['2020-03-30 20:52:31.0'] = 'Shard 1 stuck!'"
   ]
  },
  {
   "cell_type": "code",
   "execution_count": 7,
   "metadata": {},
   "outputs": [],
   "source": [
    "log_dir = \"/home/ubuntu/jupyter/logs/debug/20200331/shard0/leader/\"\n",
    "html_dir = \"../../docs/graphs/crash_analysis/03-31/shard0/\"\n",
    "fig_dir = \"../../graphs/crash_analysis/03-31/shard0/\"\n",
    "files = os.listdir(log_dir)\n",
    "data = read_data(files, log_dir)\n",
    "df = data_processing(data)"
   ]
  },
  {
   "cell_type": "markdown",
   "metadata": {},
   "source": [
    "## ip address"
   ]
  },
  {
   "cell_type": "code",
   "execution_count": 8,
   "metadata": {},
   "outputs": [
    {
     "data": {
      "text/plain": [
       "'13.229.205.39'"
      ]
     },
     "execution_count": 8,
     "metadata": {},
     "output_type": "execute_result"
    }
   ],
   "source": [
    "df.iloc[0].ip"
   ]
  },
  {
   "cell_type": "code",
   "execution_count": 9,
   "metadata": {},
   "outputs": [
    {
     "data": {
      "text/html": [
       "<div>\n",
       "<style scoped>\n",
       "    .dataframe tbody tr th:only-of-type {\n",
       "        vertical-align: middle;\n",
       "    }\n",
       "\n",
       "    .dataframe tbody tr th {\n",
       "        vertical-align: top;\n",
       "    }\n",
       "\n",
       "    .dataframe thead th {\n",
       "        text-align: right;\n",
       "    }\n",
       "</style>\n",
       "<table border=\"1\" class=\"dataframe\">\n",
       "  <thead>\n",
       "    <tr style=\"text-align: right;\">\n",
       "      <th></th>\n",
       "      <th>time</th>\n",
       "      <th>message</th>\n",
       "      <th>count</th>\n",
       "    </tr>\n",
       "  </thead>\n",
       "  <tbody>\n",
       "    <tr>\n",
       "      <th>0</th>\n",
       "      <td>2020-03-29 13:55:00+00:00</td>\n",
       "      <td>NET: received message: Node/Block</td>\n",
       "      <td>81</td>\n",
       "    </tr>\n",
       "    <tr>\n",
       "      <th>1</th>\n",
       "      <td>2020-03-29 15:10:00+00:00</td>\n",
       "      <td>NET: received message: Node/Block</td>\n",
       "      <td>79</td>\n",
       "    </tr>\n",
       "    <tr>\n",
       "      <th>2</th>\n",
       "      <td>2020-03-29 22:00:00+00:00</td>\n",
       "      <td>NET: received message: Node/Block</td>\n",
       "      <td>77</td>\n",
       "    </tr>\n",
       "    <tr>\n",
       "      <th>3</th>\n",
       "      <td>2020-03-29 19:55:00+00:00</td>\n",
       "      <td>NET: received message: Node/Block</td>\n",
       "      <td>76</td>\n",
       "    </tr>\n",
       "    <tr>\n",
       "      <th>4</th>\n",
       "      <td>2020-03-29 12:50:00+00:00</td>\n",
       "      <td>NET: received message: Node/Block</td>\n",
       "      <td>76</td>\n",
       "    </tr>\n",
       "    <tr>\n",
       "      <th>...</th>\n",
       "      <td>...</td>\n",
       "      <td>...</td>\n",
       "      <td>...</td>\n",
       "    </tr>\n",
       "    <tr>\n",
       "      <th>1107</th>\n",
       "      <td>2020-03-30 23:00:00+00:00</td>\n",
       "      <td>NET: received message: Node/Block</td>\n",
       "      <td>3</td>\n",
       "    </tr>\n",
       "    <tr>\n",
       "      <th>1108</th>\n",
       "      <td>2020-03-31 00:15:00+00:00</td>\n",
       "      <td>NET: received message: Node/Block</td>\n",
       "      <td>3</td>\n",
       "    </tr>\n",
       "    <tr>\n",
       "      <th>1109</th>\n",
       "      <td>2020-03-30 22:00:00+00:00</td>\n",
       "      <td>NET: received message: Node/Block</td>\n",
       "      <td>2</td>\n",
       "    </tr>\n",
       "    <tr>\n",
       "      <th>1110</th>\n",
       "      <td>2020-03-31 00:10:00+00:00</td>\n",
       "      <td>NET: received message: Node/Block</td>\n",
       "      <td>2</td>\n",
       "    </tr>\n",
       "    <tr>\n",
       "      <th>1111</th>\n",
       "      <td>2020-03-30 22:40:00+00:00</td>\n",
       "      <td>NET: received message: Node/Block</td>\n",
       "      <td>1</td>\n",
       "    </tr>\n",
       "  </tbody>\n",
       "</table>\n",
       "<p>1112 rows × 3 columns</p>\n",
       "</div>"
      ],
      "text/plain": [
       "                          time                            message  count\n",
       "0    2020-03-29 13:55:00+00:00  NET: received message: Node/Block     81\n",
       "1    2020-03-29 15:10:00+00:00  NET: received message: Node/Block     79\n",
       "2    2020-03-29 22:00:00+00:00  NET: received message: Node/Block     77\n",
       "3    2020-03-29 19:55:00+00:00  NET: received message: Node/Block     76\n",
       "4    2020-03-29 12:50:00+00:00  NET: received message: Node/Block     76\n",
       "...                        ...                                ...    ...\n",
       "1107 2020-03-30 23:00:00+00:00  NET: received message: Node/Block      3\n",
       "1108 2020-03-31 00:15:00+00:00  NET: received message: Node/Block      3\n",
       "1109 2020-03-30 22:00:00+00:00  NET: received message: Node/Block      2\n",
       "1110 2020-03-31 00:10:00+00:00  NET: received message: Node/Block      2\n",
       "1111 2020-03-30 22:40:00+00:00  NET: received message: Node/Block      1\n",
       "\n",
       "[1112 rows x 3 columns]"
      ]
     },
     "execution_count": 9,
     "metadata": {},
     "output_type": "execute_result"
    }
   ],
   "source": [
    "agg = aggregate(df, 5)\n",
    "agg.sort_values(by='count', ascending = False).reset_index(drop = True)"
   ]
  },
  {
   "cell_type": "code",
   "execution_count": 10,
   "metadata": {},
   "outputs": [
    {
     "name": "stdout",
     "output_type": "stream",
     "text": [
      "png graphs saved in ../../graphs/crash_analysis/03-31/shard0/\n",
      "html graphs saved in \n"
     ]
    },
    {
     "data": {
      "text/html": [
       "<a href='https://harmony-one.github.io/harmony-log-analysis/graphs/crash_analysis/03-31/shard0/message.html' target='_blank'>https://harmony-one.github.io/harmony-log-analysis/graphs/crash_analysis/03-31/shard0/message.html</a>"
      ],
      "text/plain": [
       "<IPython.core.display.HTML object>"
      ]
     },
     "metadata": {},
     "output_type": "display_data"
    },
    {
     "data": {
      "image/svg+xml": [
       "<svg class=\"main-svg\" xmlns=\"http://www.w3.org/2000/svg\" xmlns:xlink=\"http://www.w3.org/1999/xlink\" width=\"900\" height=\"500\" style=\"\" viewBox=\"0 0 900 500\"><rect x=\"0\" y=\"0\" width=\"900\" height=\"500\" style=\"fill: rgb(255, 255, 255); fill-opacity: 1;\"/><defs id=\"defs-f7dd51\"><g class=\"clips\"><clipPath id=\"clipf7dd51xyplot\" class=\"plotclip\"><rect width=\"673\" height=\"287\"/></clipPath><clipPath class=\"axesclip\" id=\"clipf7dd51x\"><rect x=\"147\" y=\"0\" width=\"673\" height=\"500\"/></clipPath><clipPath class=\"axesclip\" id=\"clipf7dd51y\"><rect x=\"0\" y=\"100\" width=\"900\" height=\"287\"/></clipPath><clipPath class=\"axesclip\" id=\"clipf7dd51xy\"><rect x=\"147\" y=\"100\" width=\"673\" height=\"287\"/></clipPath></g><g class=\"gradients\"/></defs><g class=\"bglayer\"><rect class=\"bg\" x=\"147\" y=\"100\" width=\"673\" height=\"287\" style=\"fill: rgb(229, 236, 246); fill-opacity: 1; stroke-width: 0;\"/></g><g class=\"layer-below\"><g class=\"imagelayer\"/><g class=\"shapelayer\"/></g><g class=\"cartesianlayer\"><g class=\"subplot xy\"><g class=\"layer-subplot\"><g class=\"shapelayer\"/><g class=\"imagelayer\"/></g><g class=\"gridlayer\"><g class=\"x\"><path class=\"xgrid crisp\" transform=\"translate(157.58,0)\" d=\"M0,100v287\" style=\"stroke: rgb(255, 255, 255); stroke-opacity: 1; stroke-width: 1px;\"/><path class=\"xgrid crisp\" transform=\"translate(284.6,0)\" d=\"M0,100v287\" style=\"stroke: rgb(255, 255, 255); stroke-opacity: 1; stroke-width: 1px;\"/><path class=\"xgrid crisp\" transform=\"translate(411.61,0)\" d=\"M0,100v287\" style=\"stroke: rgb(255, 255, 255); stroke-opacity: 1; stroke-width: 1px;\"/><path class=\"xgrid crisp\" transform=\"translate(538.62,0)\" d=\"M0,100v287\" style=\"stroke: rgb(255, 255, 255); stroke-opacity: 1; stroke-width: 1px;\"/><path class=\"xgrid crisp\" transform=\"translate(665.64,0)\" d=\"M0,100v287\" style=\"stroke: rgb(255, 255, 255); stroke-opacity: 1; stroke-width: 1px;\"/><path class=\"xgrid crisp\" transform=\"translate(792.65,0)\" d=\"M0,100v287\" style=\"stroke: rgb(255, 255, 255); stroke-opacity: 1; stroke-width: 1px;\"/></g><g class=\"y\"><path class=\"ygrid crisp\" transform=\"translate(0,311.3)\" d=\"M147,0h673\" style=\"stroke: rgb(255, 255, 255); stroke-opacity: 1; stroke-width: 1px;\"/><path class=\"ygrid crisp\" transform=\"translate(0,246.73)\" d=\"M147,0h673\" style=\"stroke: rgb(255, 255, 255); stroke-opacity: 1; stroke-width: 1px;\"/><path class=\"ygrid crisp\" transform=\"translate(0,182.15)\" d=\"M147,0h673\" style=\"stroke: rgb(255, 255, 255); stroke-opacity: 1; stroke-width: 1px;\"/><path class=\"ygrid crisp\" transform=\"translate(0,117.58)\" d=\"M147,0h673\" style=\"stroke: rgb(255, 255, 255); stroke-opacity: 1; stroke-width: 1px;\"/></g></g><g class=\"zerolinelayer\"><path class=\"yzl zl crisp\" transform=\"translate(0,375.88)\" d=\"M147,0h673\" style=\"stroke: rgb(255, 255, 255); stroke-opacity: 1; stroke-width: 2px;\"/></g><path class=\"xlines-below\"/><path class=\"ylines-below\"/><g class=\"overlines-below\"/><g class=\"xaxislayer-below\"/><g class=\"yaxislayer-below\"/><g class=\"overaxes-below\"/><g class=\"plot\" transform=\"translate(147, 100)\" clip-path=\"url('#clipf7dd51xyplot')\"><g class=\"scatterlayer mlayer\"><g class=\"trace scatter trace90e12d\" style=\"stroke-miterlimit: 2; opacity: 1;\"><g class=\"fills\"/><g class=\"errorbars\"/><g class=\"lines\"/><g class=\"points\"/><g class=\"text\"><g class=\"textpoint\" transform=\"translate(0,3)\"><text x=\"639.35\" y=\"272.65\" text-anchor=\"middle\" style=\"font-family: 'Open Sans', verdana, arial, sans-serif; font-size: 12px; fill: rgb(42, 63, 95); fill-opacity: 1; white-space: pre;\">Shard 0 stuck!</text></g><g class=\"textpoint\" transform=\"translate(0,3)\"><text x=\"638.02\" y=\"235.75\" text-anchor=\"middle\" style=\"font-family: 'Open Sans', verdana, arial, sans-serif; font-size: 12px; fill: rgb(42, 63, 95); fill-opacity: 1; white-space: pre;\">Shard 2 stuck!</text></g><g class=\"textpoint\" transform=\"translate(0,3)\"><text x=\"595.42\" y=\"198.85\" text-anchor=\"middle\" style=\"font-family: 'Open Sans', verdana, arial, sans-serif; font-size: 12px; fill: rgb(42, 63, 95); fill-opacity: 1; white-space: pre;\">Shard 3 stuck!</text></g><g class=\"textpoint\" transform=\"translate(0,3)\"><text x=\"595.44\" y=\"161.95\" text-anchor=\"middle\" style=\"font-family: 'Open Sans', verdana, arial, sans-serif; font-size: 12px; fill: rgb(42, 63, 95); fill-opacity: 1; white-space: pre;\">Shard 1 stuck!</text></g><g class=\"textpoint\" transform=\"translate(0,3)\"><text x=\"485.59\" y=\"125.05\" text-anchor=\"middle\" style=\"font-family: 'Open Sans', verdana, arial, sans-serif; font-size: 12px; fill: rgb(42, 63, 95); fill-opacity: 1; white-space: pre;\">Shard 0 stuck!</text></g><g class=\"textpoint\" transform=\"translate(0,3)\"><text x=\"485.56\" y=\"88.15\" text-anchor=\"middle\" style=\"font-family: 'Open Sans', verdana, arial, sans-serif; font-size: 12px; fill: rgb(42, 63, 95); fill-opacity: 1; white-space: pre;\">Shard 2 stuck!</text></g><g class=\"textpoint\" transform=\"translate(0,3)\"><text x=\"485.58\" y=\"51.25\" text-anchor=\"middle\" style=\"font-family: 'Open Sans', verdana, arial, sans-serif; font-size: 12px; fill: rgb(42, 63, 95); fill-opacity: 1; white-space: pre;\">Shard 3 stuck!</text></g><g class=\"textpoint\" transform=\"translate(0,3)\"><text x=\"485.56\" y=\"14.35\" text-anchor=\"middle\" style=\"font-family: 'Open Sans', verdana, arial, sans-serif; font-size: 12px; fill: rgb(42, 63, 95); fill-opacity: 1; white-space: pre;\">Shard 1 stuck!</text></g></g></g></g></g><g class=\"overplot\"/><path class=\"xlines-above crisp\" style=\"fill: none;\" d=\"M0,0\"/><path class=\"ylines-above crisp\" style=\"fill: none;\" d=\"M0,0\"/><g class=\"overlines-above\"/><g class=\"xaxislayer-above\"><g class=\"xtick\"><text text-anchor=\"middle\" x=\"0\" y=\"400\" transform=\"translate(157.58,0)\" style=\"font-family: 'Open Sans', verdana, arial, sans-serif; font-size: 12px; fill: rgb(42, 63, 95); fill-opacity: 1; white-space: pre;\"><tspan class=\"line\" dy=\"0em\" x=\"0\" y=\"400\">00:00</tspan><tspan class=\"line\" dy=\"1.3em\" x=\"0\" y=\"400\">Mar 29, 2020</tspan></text></g><g class=\"xtick\"><text text-anchor=\"middle\" x=\"0\" y=\"400\" transform=\"translate(284.6,0)\" style=\"font-family: 'Open Sans', verdana, arial, sans-serif; font-size: 12px; fill: rgb(42, 63, 95); fill-opacity: 1; white-space: pre;\">12:00</text></g><g class=\"xtick\"><text text-anchor=\"middle\" x=\"0\" y=\"400\" transform=\"translate(411.61,0)\" style=\"font-family: 'Open Sans', verdana, arial, sans-serif; font-size: 12px; fill: rgb(42, 63, 95); fill-opacity: 1; white-space: pre;\"><tspan class=\"line\" dy=\"0em\" x=\"0\" y=\"400\">00:00</tspan><tspan class=\"line\" dy=\"1.3em\" x=\"0\" y=\"400\">Mar 30, 2020</tspan></text></g><g class=\"xtick\"><text text-anchor=\"middle\" x=\"0\" y=\"400\" transform=\"translate(538.62,0)\" style=\"font-family: 'Open Sans', verdana, arial, sans-serif; font-size: 12px; fill: rgb(42, 63, 95); fill-opacity: 1; white-space: pre;\">12:00</text></g><g class=\"xtick\"><text text-anchor=\"middle\" x=\"0\" y=\"400\" transform=\"translate(665.64,0)\" style=\"font-family: 'Open Sans', verdana, arial, sans-serif; font-size: 12px; fill: rgb(42, 63, 95); fill-opacity: 1; white-space: pre;\"><tspan class=\"line\" dy=\"0em\" x=\"0\" y=\"400\">00:00</tspan><tspan class=\"line\" dy=\"1.3em\" x=\"0\" y=\"400\">Mar 31, 2020</tspan></text></g><g class=\"xtick\"><text text-anchor=\"middle\" x=\"0\" y=\"400\" transform=\"translate(792.65,0)\" style=\"font-family: 'Open Sans', verdana, arial, sans-serif; font-size: 12px; fill: rgb(42, 63, 95); fill-opacity: 1; white-space: pre;\">12:00</text></g></g><g class=\"yaxislayer-above\"><g class=\"ytick\"><text text-anchor=\"end\" x=\"146\" y=\"4.199999999999999\" transform=\"translate(0,375.88)\" style=\"font-family: 'Open Sans', verdana, arial, sans-serif; font-size: 12px; fill: rgb(42, 63, 95); fill-opacity: 1; white-space: pre;\">0</text></g><g class=\"ytick\"><text text-anchor=\"end\" x=\"146\" y=\"4.199999999999999\" transform=\"translate(0,311.3)\" style=\"font-family: 'Open Sans', verdana, arial, sans-serif; font-size: 12px; fill: rgb(42, 63, 95); fill-opacity: 1; white-space: pre;\">20</text></g><g class=\"ytick\"><text text-anchor=\"end\" x=\"146\" y=\"4.199999999999999\" transform=\"translate(0,246.73)\" style=\"font-family: 'Open Sans', verdana, arial, sans-serif; font-size: 12px; fill: rgb(42, 63, 95); fill-opacity: 1; white-space: pre;\">40</text></g><g class=\"ytick\"><text text-anchor=\"end\" x=\"146\" y=\"4.199999999999999\" transform=\"translate(0,182.15)\" style=\"font-family: 'Open Sans', verdana, arial, sans-serif; font-size: 12px; fill: rgb(42, 63, 95); fill-opacity: 1; white-space: pre;\">60</text></g><g class=\"ytick\"><text text-anchor=\"end\" x=\"146\" y=\"4.199999999999999\" transform=\"translate(0,117.58)\" style=\"font-family: 'Open Sans', verdana, arial, sans-serif; font-size: 12px; fill: rgb(42, 63, 95); fill-opacity: 1; white-space: pre;\">80</text></g></g><g class=\"overaxes-above\"/></g></g><g class=\"polarlayer\"/><g class=\"ternarylayer\"/><g class=\"geolayer\"/><g class=\"funnelarealayer\"/><g class=\"pielayer\"/><g class=\"treemaplayer\"/><g class=\"sunburstlayer\"/><g class=\"glimages\"><image xmlns=\"http://www.w3.org/2000/svg\" xlink:href=\"data:image/png;base64,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\" preserveAspectRatio=\"none\" x=\"0\" y=\"0\" width=\"900\" height=\"500\"/><image xmlns=\"http://www.w3.org/2000/svg\" xlink:href=\"data:image/png;base64,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\" preserveAspectRatio=\"none\" x=\"0\" y=\"0\" width=\"900\" height=\"500\"/></g><defs id=\"topdefs-f7dd51\"><g class=\"clips\"/><clipPath id=\"legendf7dd51\"><rect width=\"572\" height=\"29\" x=\"0\" y=\"0\"/></clipPath></defs><g class=\"layer-above\"><g class=\"imagelayer\"/><g class=\"shapelayer\"><path data-index=\"0\" fill-rule=\"evenodd\" d=\"M786.35,387L786.35,100\" clip-path=\"url('#clipf7dd51x')\" style=\"opacity: 1; stroke: rgb(42, 63, 95); stroke-opacity: 1; fill: rgb(0, 0, 0); fill-opacity: 0; stroke-dasharray: 3px, 3px; stroke-width: 0.5px;\"/><path data-index=\"1\" fill-rule=\"evenodd\" d=\"M785.02,387L785.02,100\" clip-path=\"url('#clipf7dd51x')\" style=\"opacity: 1; stroke: rgb(42, 63, 95); stroke-opacity: 1; fill: rgb(0, 0, 0); fill-opacity: 0; stroke-dasharray: 3px, 3px; stroke-width: 0.5px;\"/><path data-index=\"2\" fill-rule=\"evenodd\" d=\"M742.42,387L742.42,100\" clip-path=\"url('#clipf7dd51x')\" style=\"opacity: 1; stroke: rgb(42, 63, 95); stroke-opacity: 1; fill: rgb(0, 0, 0); fill-opacity: 0; stroke-dasharray: 3px, 3px; stroke-width: 0.5px;\"/><path data-index=\"3\" fill-rule=\"evenodd\" d=\"M742.44,387L742.44,100\" clip-path=\"url('#clipf7dd51x')\" style=\"opacity: 1; stroke: rgb(42, 63, 95); stroke-opacity: 1; fill: rgb(0, 0, 0); fill-opacity: 0; stroke-dasharray: 3px, 3px; stroke-width: 0.5px;\"/><path data-index=\"4\" fill-rule=\"evenodd\" d=\"M632.5899999999999,387L632.5899999999999,100\" clip-path=\"url('#clipf7dd51x')\" style=\"opacity: 1; stroke: rgb(42, 63, 95); stroke-opacity: 1; fill: rgb(0, 0, 0); fill-opacity: 0; stroke-dasharray: 3px, 3px; stroke-width: 0.5px;\"/><path data-index=\"5\" fill-rule=\"evenodd\" d=\"M632.56,387L632.56,100\" clip-path=\"url('#clipf7dd51x')\" style=\"opacity: 1; stroke: rgb(42, 63, 95); stroke-opacity: 1; fill: rgb(0, 0, 0); fill-opacity: 0; stroke-dasharray: 3px, 3px; stroke-width: 0.5px;\"/><path data-index=\"6\" fill-rule=\"evenodd\" d=\"M632.5799999999999,387L632.5799999999999,100\" clip-path=\"url('#clipf7dd51x')\" style=\"opacity: 1; stroke: rgb(42, 63, 95); stroke-opacity: 1; fill: rgb(0, 0, 0); fill-opacity: 0; stroke-dasharray: 3px, 3px; stroke-width: 0.5px;\"/><path data-index=\"7\" fill-rule=\"evenodd\" d=\"M632.56,387L632.56,100\" clip-path=\"url('#clipf7dd51x')\" style=\"opacity: 1; stroke: rgb(42, 63, 95); stroke-opacity: 1; fill: rgb(0, 0, 0); fill-opacity: 0; stroke-dasharray: 3px, 3px; stroke-width: 0.5px;\"/></g></g><g class=\"infolayer\"><g class=\"legend\" pointer-events=\"all\" transform=\"translate(12.400000000000006, 458.75)\"><rect class=\"bg\" shape-rendering=\"crispEdges\" style=\"stroke: rgb(68, 68, 68); stroke-opacity: 1; fill: rgb(255, 255, 255); fill-opacity: 1; stroke-width: 0px;\" width=\"572\" height=\"29\" x=\"0\" y=\"0\"/><g class=\"scrollbox\" transform=\"translate(0, 0)\" clip-path=\"url('#legendf7dd51')\"><text class=\"legendtitletext user-select-none\" text-anchor=\"start\" x=\"2\" y=\"15.600000000000001\" style=\"font-family: 'Open Sans', verdana, arial, sans-serif; font-size: 12px; fill: rgb(42, 63, 95); fill-opacity: 1; white-space: pre;\">message</text><g class=\"groups\" transform=\"translate(0, 0)\"><g class=\"traces\" transform=\"translate(53.9375, 14.5)\" style=\"opacity: 1;\"><text class=\"legendtext user-select-none\" text-anchor=\"start\" x=\"40\" y=\"4.680000000000001\" style=\"font-family: 'Open Sans', verdana, arial, sans-serif; font-size: 12px; fill: rgb(42, 63, 95); fill-opacity: 1; white-space: pre;\">NET: received message: Node/Block</text><g class=\"layers\" style=\"opacity: 1;\"><g class=\"legendfill\"/><g class=\"legendlines\"><path class=\"js-line\" d=\"M5,0h30\" style=\"fill: none; stroke: rgb(226, 217, 226); stroke-opacity: 1; stroke-width: 2px;\"/></g><g class=\"legendsymbols\"><g class=\"legendpoints\"/></g></g><rect class=\"legendtoggle\" pointer-events=\"all\" x=\"0\" y=\"-9.5\" width=\"257.875\" height=\"19\" style=\"cursor: pointer; fill: rgb(0, 0, 0); fill-opacity: 0;\"/></g></g><g class=\"groups\" transform=\"translate(260.375, 0)\"><g class=\"traces\" transform=\"translate(53.9375, 14.5)\" style=\"opacity: 1;\"><text class=\"legendtext user-select-none\" text-anchor=\"start\" x=\"40\" y=\"4.680000000000001\" style=\"font-family: 'Open Sans', verdana, arial, sans-serif; font-size: 12px; fill: rgb(42, 63, 95); fill-opacity: 1; white-space: pre;\">NET: received message: Node/Sync</text><g class=\"layers\" style=\"opacity: 1;\"><g class=\"legendfill\"/><g class=\"legendlines\"><path class=\"js-line\" d=\"M5,0h30\" style=\"fill: none; stroke: rgb(158, 187, 201); stroke-opacity: 1; stroke-width: 2px;\"/></g><g class=\"legendsymbols\"><g class=\"legendpoints\"/></g></g><rect class=\"legendtoggle\" pointer-events=\"all\" x=\"0\" y=\"-9.5\" width=\"254.28125\" height=\"19\" style=\"cursor: pointer; fill: rgb(0, 0, 0); fill-opacity: 0;\"/></g></g></g><rect class=\"scrollbar\" rx=\"20\" ry=\"3\" width=\"0\" height=\"0\" style=\"fill: rgb(128, 139, 164); fill-opacity: 1;\" x=\"0\" y=\"0\"/></g><g class=\"g-gtitle\"><text class=\"gtitle\" x=\"45\" y=\"50\" text-anchor=\"start\" dy=\"0em\" style=\"font-family: 'Open Sans', verdana, arial, sans-serif; font-size: 17px; fill: rgb(42, 63, 95); opacity: 1; font-weight: normal; white-space: pre;\">message counts in 5 minutes vs Time</text></g><g class=\"g-xtitle\"><text class=\"xtitle\" x=\"483.5\" y=\"443.409375\" text-anchor=\"middle\" style=\"font-family: 'Open Sans', verdana, arial, sans-serif; font-size: 14px; fill: rgb(42, 63, 95); opacity: 1; font-weight: normal; white-space: pre;\">utc_time</text></g><g class=\"g-ytitle\"><text class=\"ytitle\" transform=\"rotate(-90,105.91875,243.5)\" x=\"105.91875\" y=\"243.5\" text-anchor=\"middle\" style=\"font-family: 'Open Sans', verdana, arial, sans-serif; font-size: 14px; fill: rgb(42, 63, 95); opacity: 1; font-weight: normal; white-space: pre;\">count</text></g></g></svg>"
      ]
     },
     "metadata": {},
     "output_type": "display_data"
    }
   ],
   "source": [
    "draw_graph(agg, alert, 5)"
   ]
  }
 ],
 "metadata": {
  "kernelspec": {
   "display_name": "Python 3",
   "language": "python",
   "name": "python3"
  },
  "language_info": {
   "codemirror_mode": {
    "name": "ipython",
    "version": 3
   },
   "file_extension": ".py",
   "mimetype": "text/x-python",
   "name": "python",
   "nbconvert_exporter": "python",
   "pygments_lexer": "ipython3",
   "version": "3.7.6"
  }
 },
 "nbformat": 4,
 "nbformat_minor": 4
}
