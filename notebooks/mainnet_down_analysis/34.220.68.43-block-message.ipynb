{
 "cells": [
  {
   "cell_type": "markdown",
   "metadata": {},
   "source": [
    "## message: Node/Block vs Node/Sync"
   ]
  },
  {
   "cell_type": "code",
   "execution_count": 1,
   "metadata": {},
   "outputs": [],
   "source": [
    "import json\n",
    "import pandas as pd\n",
    "import os\n",
    "import shutil\n",
    "import re\n",
    "import plotly.express as px \n",
    "import plotly.graph_objects as go\n",
    "import numpy as np\n",
    "from IPython.core.display import display, HTML"
   ]
  },
  {
   "cell_type": "code",
   "execution_count": 2,
   "metadata": {},
   "outputs": [],
   "source": [
    "def read_data(files, path, keyword):\n",
    "    data = []\n",
    "    for file in files:\n",
    "        if \"zerolog\" in file:\n",
    "            with open(path + file, errors='ignore') as f:\n",
    "                for line in f.readlines():\n",
    "                    if keyword in line:\n",
    "                        data.append(json.loads(line))\n",
    "    return data"
   ]
  },
  {
   "cell_type": "code",
   "execution_count": 3,
   "metadata": {},
   "outputs": [],
   "source": [
    "def data_processing(data):\n",
    "    df = pd.DataFrame(data)\n",
    "    df['time'] = pd.to_datetime(df['time'], format = '%Y-%m-%dT%H:%M:%S.%f')\n",
    "    return df"
   ]
  },
  {
   "cell_type": "code",
   "execution_count": 4,
   "metadata": {},
   "outputs": [],
   "source": [
    "def aggregate(df, time, name):\n",
    "    agg = df.groupby([pd.Grouper(freq= str(time) + 'Min', key = 'time'), name])[name].count().\\\n",
    "    reset_index(name = 'count')\n",
    "    return agg"
   ]
  },
  {
   "cell_type": "code",
   "execution_count": 5,
   "metadata": {},
   "outputs": [],
   "source": [
    "def get_top_frequent(df, name, number):\n",
    "    sort_df = df.sort_values(by='count', ascending = False).reset_index(drop = True) \n",
    "    lst = sort_df.loc[:number, name].tolist()\n",
    "    return lst"
   ]
  },
  {
   "cell_type": "code",
   "execution_count": 6,
   "metadata": {},
   "outputs": [],
   "source": [
    "def draw_message(df, alert, viewchange, time, name):\n",
    "    \n",
    "    df = df.sort_values(by='time').reset_index(drop = True)\n",
    "    html_path = \"https://harmony-one.github.io/harmony-log-analysis/\" + html_dir.replace(\"../../docs/\", \"\") + name + \".html\"\n",
    "    png_path = fig_dir \n",
    "    print(\"png graphs saved in \" + png_path)\n",
    "    print('html graphs saved in ')\n",
    "    display(HTML(\"<a href='\" + html_path + \"' target='_blank'>\" + html_path + \"</a>\"))\n",
    "    if not os.path.exists(html_dir):\n",
    "        os.makedirs(html_dir)\n",
    "        \n",
    "    if not os.path.exists(png_path):\n",
    "        os.makedirs(png_path)\n",
    "    \n",
    "    df1 = df[df.message == 'NET: received message: Node/Block']\n",
    "    df2 = df[df.message == 'NET: received message: Node/Sync']\n",
    "    trace1 = go.Scatter(\n",
    "        x= df1[\"time\"],\n",
    "        y= df1[\"count\"],\n",
    "        mode='lines',\n",
    "        line = dict(color='#00AEE9', \n",
    "                    width=3,\n",
    "                    dash='dash') ,\n",
    "        name=df1.iloc[0]['message'],\n",
    "        text = df1['message'],\n",
    "#         line_color= \"#00AEE9\",\n",
    "        hovertemplate = \"count: %{y}<br>\" +\n",
    "        \"UTC Time: %{x}<br>\" +\n",
    "        \"Message: %{text}<br>\"\n",
    "        \"<extra></extra>\"\n",
    "    )\n",
    "    \n",
    "    trace2 = go.Scatter(\n",
    "        x= df2[\"time\"],\n",
    "        y= df2[\"count\"],\n",
    "        mode='lines',\n",
    "        line = dict(color='#FFA07A', \n",
    "                    width=1) ,\n",
    "        name=df2.iloc[0]['message'],\n",
    "        text = df2['message'],\n",
    "#         line_color= \"#FFA07A\",\n",
    "        hovertemplate = \"count: %{y}<br>\" +\n",
    "        \"UTC Time: %{x}<br>\" +\n",
    "        \"Message: %{text}<br>\"\n",
    "        \"<extra></extra>\"\n",
    "    )\n",
    "    \n",
    "    data = [trace1, trace2]\n",
    "\n",
    "    layout = go.Layout(\n",
    "        title='Message counts aggregated in 5 minutes vs Time',\n",
    "        yaxis=dict(\n",
    "            title='aggregated counts in 5 minutes'\n",
    "        ),\n",
    "        legend_orientation=\"h\"\n",
    "    )\n",
    "    \n",
    "    fig = go.Figure(data=data, layout=layout)\n",
    "    \n",
    "    trace = []\n",
    "    text = []\n",
    "    for k,v in alert.items():\n",
    "        fig.add_shape(type=\"line\", x0=k, y0=0,x1=k,y1=1,\n",
    "                line=dict(\n",
    "                width=0.5,\n",
    "                dash=\"dot\",\n",
    "                \n",
    "            ))\n",
    "        trace.append(k)\n",
    "        text.append(v)\n",
    "    \n",
    "    for i in range(len(viewchange)):\n",
    "        if viewchange.message[i] == 'NewView':\n",
    "            fig.add_shape(type=\"line\", x0=viewchange.time[i], y0=0,x1=viewchange.time[i],y1=1,\n",
    "                    line=dict(\n",
    "                    width=0.5,\n",
    "                    color=\"LightSeaGreen\",    \n",
    "\n",
    "                ))\n",
    "\n",
    "        if viewchange.message[i] == 'StartViewChange':\n",
    "            fig.add_shape(type=\"line\", x0=viewchange.time[i], y0=0,x1=viewchange.time[i],y1=1,\n",
    "                    line=dict(\n",
    "                    width=0.5,\n",
    "                    dash=\"dashdot\",\n",
    "                    color=\"MediumPurple\",    \n",
    "                    ))\n",
    "            \n",
    "        if viewchange.message[i] == 'ResetViewChange':\n",
    "            fig.add_shape(type=\"line\", x0=viewchange.time[i], y0=0,x1=viewchange.time[i],y1=1,\n",
    "                    line=dict(\n",
    "                    width=0.5,\n",
    "                    dash=\"longdash\",\n",
    "                    color=\"RoyalBlue\",    \n",
    "                    ),\n",
    "                    opacity=0.5)\n",
    "    \n",
    "    fig.update_shapes(dict(xref='x', yref='paper'))\n",
    "    \n",
    "    newView = viewchange[viewchange.message == 'NewView'].iloc[0]\n",
    "    startChange = viewchange[viewchange.message == 'StartViewChange'].iloc[0]\n",
    "    resetChange = viewchange[viewchange.message == 'ResetViewChange'].iloc[0]\n",
    "    lst = [startChange, newView, resetChange]\n",
    "\n",
    "    for i in range(len(lst)):\n",
    "        trace.insert(0, lst[i].time)\n",
    "        text.insert(0, lst[i].message)\n",
    "              \n",
    "    fig.add_trace(go.Scatter(\n",
    "        x=trace,\n",
    "        y=np.linspace(df['count'].min(), df['count'].max(), num = len(text)).tolist(),\n",
    "        text=text,\n",
    "        mode=\"text\",\n",
    "        showlegend=False\n",
    "    ))\n",
    "    \n",
    "    fig.show(renderer=\"svg\",width=900, height=500)\n",
    "    fig.write_html(html_dir + name + \".html\")\n",
    "    fig.write_image(png_path + name + \".png\",width=1000, height=600)"
   ]
  },
  {
   "cell_type": "code",
   "execution_count": 7,
   "metadata": {},
   "outputs": [],
   "source": [
    "# get alert time from pagerduty\n",
    "alert = dict()\n",
    "alert['2020-03-31 11:24:18.0'] = 'Shard 0 stuck!'\n",
    "alert['2020-03-31 11:16:47.0'] = 'Shard 2 stuck!'\n",
    "alert['2020-03-31 07:15:15.0'] = 'Shard 3 stuck!'\n",
    "alert['2020-03-31 07:15:24.0'] = 'Shard 1 stuck!'\n",
    "alert['2020-03-30 20:52:40.0'] = 'Shard 0 stuck!'\n",
    "alert['2020-03-30 20:52:32.0'] = 'Shard 2 stuck!'\n",
    "alert['2020-03-30 20:52:37.0'] = 'Shard 3 stuck!'\n",
    "alert['2020-03-30 20:52:31.0'] = 'Shard 1 stuck!'"
   ]
  },
  {
   "cell_type": "code",
   "execution_count": 8,
   "metadata": {},
   "outputs": [],
   "source": [
    "log_dir = \"/home/ubuntu/jupyter/logs/debug/20200331/shard3/leader/\"\n",
    "html_dir = \"../../docs/graphs/crash_analysis/03-31/shard3/\"\n",
    "fig_dir = \"../../graphs/crash_analysis/03-31/shard3/\"\n",
    "files = os.listdir(log_dir)\n"
   ]
  },
  {
   "cell_type": "code",
   "execution_count": 9,
   "metadata": {},
   "outputs": [],
   "source": [
    "data = read_data(files, log_dir, 'received message: Node')\n",
    "df = data_processing(data)"
   ]
  },
  {
   "cell_type": "code",
   "execution_count": 10,
   "metadata": {},
   "outputs": [
    {
     "data": {
      "text/html": [
       "<div>\n",
       "<style scoped>\n",
       "    .dataframe tbody tr th:only-of-type {\n",
       "        vertical-align: middle;\n",
       "    }\n",
       "\n",
       "    .dataframe tbody tr th {\n",
       "        vertical-align: top;\n",
       "    }\n",
       "\n",
       "    .dataframe thead th {\n",
       "        text-align: right;\n",
       "    }\n",
       "</style>\n",
       "<table border=\"1\" class=\"dataframe\">\n",
       "  <thead>\n",
       "    <tr style=\"text-align: right;\">\n",
       "      <th></th>\n",
       "      <th>time</th>\n",
       "      <th>message</th>\n",
       "      <th>count</th>\n",
       "    </tr>\n",
       "  </thead>\n",
       "  <tbody>\n",
       "    <tr>\n",
       "      <th>0</th>\n",
       "      <td>2020-03-31 04:45:00+00:00</td>\n",
       "      <td>NET: received message: Node/Block</td>\n",
       "      <td>37</td>\n",
       "    </tr>\n",
       "    <tr>\n",
       "      <th>1</th>\n",
       "      <td>2020-03-31 07:40:00+00:00</td>\n",
       "      <td>NET: received message: Node/Sync</td>\n",
       "      <td>37</td>\n",
       "    </tr>\n",
       "    <tr>\n",
       "      <th>2</th>\n",
       "      <td>2020-03-31 08:55:00+00:00</td>\n",
       "      <td>NET: received message: Node/Sync</td>\n",
       "      <td>37</td>\n",
       "    </tr>\n",
       "    <tr>\n",
       "      <th>3</th>\n",
       "      <td>2020-03-31 07:30:00+00:00</td>\n",
       "      <td>NET: received message: Node/Block</td>\n",
       "      <td>37</td>\n",
       "    </tr>\n",
       "    <tr>\n",
       "      <th>4</th>\n",
       "      <td>2020-03-31 07:30:00+00:00</td>\n",
       "      <td>NET: received message: Node/Sync</td>\n",
       "      <td>37</td>\n",
       "    </tr>\n",
       "    <tr>\n",
       "      <th>...</th>\n",
       "      <td>...</td>\n",
       "      <td>...</td>\n",
       "      <td>...</td>\n",
       "    </tr>\n",
       "    <tr>\n",
       "      <th>189</th>\n",
       "      <td>2020-03-31 05:30:00+00:00</td>\n",
       "      <td>NET: received message: Node/Block</td>\n",
       "      <td>30</td>\n",
       "    </tr>\n",
       "    <tr>\n",
       "      <th>190</th>\n",
       "      <td>2020-03-31 05:15:00+00:00</td>\n",
       "      <td>NET: received message: Node/Sync</td>\n",
       "      <td>10</td>\n",
       "    </tr>\n",
       "    <tr>\n",
       "      <th>191</th>\n",
       "      <td>2020-03-31 05:15:00+00:00</td>\n",
       "      <td>NET: received message: Node/Block</td>\n",
       "      <td>10</td>\n",
       "    </tr>\n",
       "    <tr>\n",
       "      <th>192</th>\n",
       "      <td>2020-03-31 07:15:00+00:00</td>\n",
       "      <td>NET: received message: Node/Sync</td>\n",
       "      <td>9</td>\n",
       "    </tr>\n",
       "    <tr>\n",
       "      <th>193</th>\n",
       "      <td>2020-03-31 07:15:00+00:00</td>\n",
       "      <td>NET: received message: Node/Block</td>\n",
       "      <td>9</td>\n",
       "    </tr>\n",
       "  </tbody>\n",
       "</table>\n",
       "<p>194 rows × 3 columns</p>\n",
       "</div>"
      ],
      "text/plain": [
       "                         time                            message  count\n",
       "0   2020-03-31 04:45:00+00:00  NET: received message: Node/Block     37\n",
       "1   2020-03-31 07:40:00+00:00   NET: received message: Node/Sync     37\n",
       "2   2020-03-31 08:55:00+00:00   NET: received message: Node/Sync     37\n",
       "3   2020-03-31 07:30:00+00:00  NET: received message: Node/Block     37\n",
       "4   2020-03-31 07:30:00+00:00   NET: received message: Node/Sync     37\n",
       "..                        ...                                ...    ...\n",
       "189 2020-03-31 05:30:00+00:00  NET: received message: Node/Block     30\n",
       "190 2020-03-31 05:15:00+00:00   NET: received message: Node/Sync     10\n",
       "191 2020-03-31 05:15:00+00:00  NET: received message: Node/Block     10\n",
       "192 2020-03-31 07:15:00+00:00   NET: received message: Node/Sync      9\n",
       "193 2020-03-31 07:15:00+00:00  NET: received message: Node/Block      9\n",
       "\n",
       "[194 rows x 3 columns]"
      ]
     },
     "execution_count": 10,
     "metadata": {},
     "output_type": "execute_result"
    }
   ],
   "source": [
    "agg = aggregate(df, 5, 'message')\n",
    "agg.sort_values(by='count', ascending = False).reset_index(drop = True)"
   ]
  },
  {
   "cell_type": "code",
   "execution_count": 11,
   "metadata": {},
   "outputs": [],
   "source": [
    "data = read_data(files, log_dir, 'start view change timer')\n",
    "startViewChange = data_processing(data)[['time','message']]\n",
    "startViewChange['message'] = 'StartViewChange'\n",
    "\n",
    "data = read_data(files, log_dir, 'Resetting view change state')\n",
    "resetViewChange = data_processing(data)[['time','message']]\n",
    "resetViewChange['message'] = 'ResetViewChange'\n",
    "\n",
    "data = read_data(files, log_dir, 'Received NewView Message')\n",
    "newview = data_processing(data)[['time','message']]\n",
    "newview['message'] = 'NewView'\n",
    "\n",
    "viewchange = pd.concat([startViewChange, resetViewChange, newview], ignore_index=True)"
   ]
  },
  {
   "cell_type": "code",
   "execution_count": 12,
   "metadata": {},
   "outputs": [
    {
     "name": "stdout",
     "output_type": "stream",
     "text": [
      "png graphs saved in ../../graphs/crash_analysis/03-31/shard3/\n",
      "html graphs saved in \n"
     ]
    },
    {
     "data": {
      "text/html": [
       "<a href='https://harmony-one.github.io/harmony-log-analysis/graphs/crash_analysis/03-31/shard3/message.html' target='_blank'>https://harmony-one.github.io/harmony-log-analysis/graphs/crash_analysis/03-31/shard3/message.html</a>"
      ],
      "text/plain": [
       "<IPython.core.display.HTML object>"
      ]
     },
     "metadata": {},
     "output_type": "display_data"
    },
    {
     "data": {
      "image/svg+xml": [
       "<svg class=\"main-svg\" xmlns=\"http://www.w3.org/2000/svg\" xmlns:xlink=\"http://www.w3.org/1999/xlink\" width=\"900\" height=\"500\" style=\"\" viewBox=\"0 0 900 500\"><rect x=\"0\" y=\"0\" width=\"900\" height=\"500\" style=\"fill: rgb(255, 255, 255); fill-opacity: 1;\"/><defs id=\"defs-7e2c82\"><g class=\"clips\"><clipPath id=\"clip7e2c82xyplot\" class=\"plotclip\"><rect width=\"740\" height=\"320\"/></clipPath><clipPath class=\"axesclip\" id=\"clip7e2c82x\"><rect x=\"80\" y=\"0\" width=\"740\" height=\"500\"/></clipPath><clipPath class=\"axesclip\" id=\"clip7e2c82y\"><rect x=\"0\" y=\"100\" width=\"900\" height=\"320\"/></clipPath><clipPath class=\"axesclip\" id=\"clip7e2c82xy\"><rect x=\"80\" y=\"100\" width=\"740\" height=\"320\"/></clipPath></g><g class=\"gradients\"/></defs><g class=\"bglayer\"><rect class=\"bg\" x=\"80\" y=\"100\" width=\"740\" height=\"320\" style=\"fill: rgb(229, 236, 246); fill-opacity: 1; stroke-width: 0;\"/></g><g class=\"layer-below\"><g class=\"imagelayer\"/><g class=\"shapelayer\"/></g><g class=\"cartesianlayer\"><g class=\"subplot xy\"><g class=\"layer-subplot\"><g class=\"shapelayer\"/><g class=\"imagelayer\"/></g><g class=\"gridlayer\"><g class=\"x\"><path class=\"xgrid crisp\" transform=\"translate(168.55,0)\" d=\"M0,100v320\" style=\"stroke: rgb(255, 255, 255); stroke-opacity: 1; stroke-width: 1px;\"/><path class=\"xgrid crisp\" transform=\"translate(260.23,0)\" d=\"M0,100v320\" style=\"stroke: rgb(255, 255, 255); stroke-opacity: 1; stroke-width: 1px;\"/><path class=\"xgrid crisp\" transform=\"translate(351.9,0)\" d=\"M0,100v320\" style=\"stroke: rgb(255, 255, 255); stroke-opacity: 1; stroke-width: 1px;\"/><path class=\"xgrid crisp\" transform=\"translate(443.58,0)\" d=\"M0,100v320\" style=\"stroke: rgb(255, 255, 255); stroke-opacity: 1; stroke-width: 1px;\"/><path class=\"xgrid crisp\" transform=\"translate(535.25,0)\" d=\"M0,100v320\" style=\"stroke: rgb(255, 255, 255); stroke-opacity: 1; stroke-width: 1px;\"/><path class=\"xgrid crisp\" transform=\"translate(626.92,0)\" d=\"M0,100v320\" style=\"stroke: rgb(255, 255, 255); stroke-opacity: 1; stroke-width: 1px;\"/><path class=\"xgrid crisp\" transform=\"translate(718.6,0)\" d=\"M0,100v320\" style=\"stroke: rgb(255, 255, 255); stroke-opacity: 1; stroke-width: 1px;\"/><path class=\"xgrid crisp\" transform=\"translate(810.27,0)\" d=\"M0,100v320\" style=\"stroke: rgb(255, 255, 255); stroke-opacity: 1; stroke-width: 1px;\"/></g><g class=\"y\"><path class=\"ygrid crisp\" transform=\"translate(0,393.71)\" d=\"M80,0h740\" style=\"stroke: rgb(255, 255, 255); stroke-opacity: 1; stroke-width: 1px;\"/><path class=\"ygrid crisp\" transform=\"translate(0,342.28999999999996)\" d=\"M80,0h740\" style=\"stroke: rgb(255, 255, 255); stroke-opacity: 1; stroke-width: 1px;\"/><path class=\"ygrid crisp\" transform=\"translate(0,290.86)\" d=\"M80,0h740\" style=\"stroke: rgb(255, 255, 255); stroke-opacity: 1; stroke-width: 1px;\"/><path class=\"ygrid crisp\" transform=\"translate(0,239.43)\" d=\"M80,0h740\" style=\"stroke: rgb(255, 255, 255); stroke-opacity: 1; stroke-width: 1px;\"/><path class=\"ygrid crisp\" transform=\"translate(0,188)\" d=\"M80,0h740\" style=\"stroke: rgb(255, 255, 255); stroke-opacity: 1; stroke-width: 1px;\"/><path class=\"ygrid crisp\" transform=\"translate(0,136.57)\" d=\"M80,0h740\" style=\"stroke: rgb(255, 255, 255); stroke-opacity: 1; stroke-width: 1px;\"/></g></g><g class=\"zerolinelayer\"/><path class=\"xlines-below\"/><path class=\"ylines-below\"/><g class=\"overlines-below\"/><g class=\"xaxislayer-below\"/><g class=\"yaxislayer-below\"/><g class=\"overaxes-below\"/><g class=\"plot\" transform=\"translate(80, 100)\" clip-path=\"url('#clip7e2c82xyplot')\"><g class=\"scatterlayer mlayer\"><g class=\"trace scatter trace633417\" style=\"stroke-miterlimit: 2; opacity: 1;\"><g class=\"fills\"/><g class=\"errorbars\"/><g class=\"lines\"><path class=\"js-line\" d=\"M222.25,36.57L226.07,16L229.88,16L233.7,16L237.52,26.29L241.34,16L245.16,16L248.98,26.29L252.8,16L256.62,16L260.44,26.29L264.26,16L268.08,16L271.9,16L275.72,26.29L279.54,16L283.36,16L287.18,26.29L291,16L294.82,16L298.64,26.29L302.46,16L306.28,16L310.1,26.29L313.92,16L321.56,16L325.38,26.29L329.2,16L333.02,16L336.84,16L340.66,26.29L344.48,16L348.3,16L352.12,26.29L355.94,16L359.76,16L363.58,26.29L367.4,16L371.22,16L375.04,16L378.86,26.29L382.68,16L386.49,16L390.31,26.29L394.13,16L401.77,16L405.59,46.86L420.87,293.71L424.69,16L428.51,26.29L432.33,88L436.15,16L439.97,16L443.79,16L447.61,26.29L451.43,16L455.25,16L462.89,16L466.71,26.29L470.53,26.29L474.35,16L481.99,16L485.81,26.29L489.63,16L493.45,16L501.09,16L504.91,26.29L508.73,16L512.55,304L516.37,26.29L520.19,16L524.01,16L527.83,26.29L531.65,16L535.47,16L539.29,26.29L543.1,26.29L546.92,16L550.74,26.29L554.56,16L558.38,16L562.2,16L566.02,26.29L569.84,16L573.66,16L577.48,16L581.3,26.29L585.12,16L588.94,16L592.76,26.29L596.58,16L600.4,26.29\" style=\"vector-effect: non-scaling-stroke; fill: none; stroke: rgb(0, 174, 233); stroke-opacity: 1; stroke-width: 3px; opacity: 1; stroke-dasharray: 9px, 9px;\"/></g><g class=\"points\"/><g class=\"text\"/></g><g class=\"trace scatter trace010978\" style=\"stroke-miterlimit: 2; opacity: 1;\"><g class=\"fills\"/><g class=\"errorbars\"/><g class=\"lines\"><path class=\"js-line\" d=\"M222.25,36.57L226.07,16L229.88,16L233.7,16L237.52,26.29L241.34,16L245.16,16L248.98,26.29L252.8,16L256.62,16L260.44,26.29L264.26,16L268.08,16L271.9,16L275.72,26.29L279.54,16L283.36,16L287.18,26.29L291,16L294.82,16L298.64,26.29L302.46,16L306.28,16L310.1,26.29L313.92,16L321.56,16L325.38,26.29L329.2,16L333.02,16L336.84,16L340.66,26.29L344.48,16L348.3,16L352.12,26.29L355.94,16L359.76,16L363.58,26.29L367.4,16L371.22,16L375.04,16L378.86,26.29L382.68,16L386.49,16L390.31,26.29L394.13,16L401.77,16L405.59,46.86L420.87,293.71L424.69,16L428.51,26.29L432.33,88L436.15,16L439.97,16L443.79,16L447.61,26.29L451.43,16L455.25,16L462.89,16L466.71,26.29L470.53,26.29L474.35,16L481.99,16L485.81,26.29L489.63,16L493.45,16L501.09,16L504.91,26.29L508.73,16L512.55,304L516.37,26.29L520.19,16L524.01,16L527.83,26.29L531.65,16L535.47,16L539.29,26.29L543.1,26.29L546.92,16L550.74,26.29L554.56,16L558.38,16L562.2,16L566.02,26.29L569.84,16L573.66,16L577.48,16L581.3,26.29L585.12,16L588.94,16L592.76,26.29L596.58,16L600.4,26.29\" style=\"vector-effect: non-scaling-stroke; fill: none; stroke: rgb(255, 160, 122); stroke-opacity: 1; stroke-width: 1px; opacity: 1;\"/></g><g class=\"points\"/><g class=\"text\"/></g><g class=\"trace scatter trace4cee1e\" style=\"stroke-miterlimit: 2; opacity: 1;\"><g class=\"fills\"/><g class=\"errorbars\"/><g class=\"lines\"/><g class=\"points\"/><g class=\"text\"><g class=\"textpoint\" transform=\"translate(0,3)\"><text x=\"470.98\" y=\"304\" text-anchor=\"middle\" style=\"font-family: 'Open Sans', verdana, arial, sans-serif; font-size: 12px; fill: rgb(42, 63, 95); fill-opacity: 1; white-space: pre;\">ResetViewChange</text></g><g class=\"textpoint\" transform=\"translate(0,3)\"><text x=\"542.49\" y=\"275.2\" text-anchor=\"middle\" style=\"font-family: 'Open Sans', verdana, arial, sans-serif; font-size: 12px; fill: rgb(42, 63, 95); fill-opacity: 1; white-space: pre;\">NewView</text></g><g class=\"textpoint\" transform=\"translate(0,3)\"><text x=\"513.55\" y=\"246.4\" text-anchor=\"middle\" style=\"font-family: 'Open Sans', verdana, arial, sans-serif; font-size: 12px; fill: rgb(42, 63, 95); fill-opacity: 1; white-space: pre;\">StartViewChange</text></g><g class=\"textpoint\" transform=\"translate(0,3)\"><text x=\"703\" y=\"217.6\" text-anchor=\"middle\" style=\"font-family: 'Open Sans', verdana, arial, sans-serif; font-size: 12px; fill: rgb(42, 63, 95); fill-opacity: 1; white-space: pre;\">Shard 0 stuck!</text></g><g class=\"textpoint\" transform=\"translate(0,3)\"><text x=\"697.26\" y=\"188.8\" text-anchor=\"middle\" style=\"font-family: 'Open Sans', verdana, arial, sans-serif; font-size: 12px; fill: rgb(42, 63, 95); fill-opacity: 1; white-space: pre;\">Shard 2 stuck!</text></g><g class=\"textpoint\" transform=\"translate(0,3)\"><text x=\"512.74\" y=\"160\" text-anchor=\"middle\" style=\"font-family: 'Open Sans', verdana, arial, sans-serif; font-size: 12px; fill: rgb(42, 63, 95); fill-opacity: 1; white-space: pre;\">Shard 3 stuck!</text></g><g class=\"textpoint\" transform=\"translate(0,3)\"><text x=\"512.85\" y=\"131.2\" text-anchor=\"middle\" style=\"font-family: 'Open Sans', verdana, arial, sans-serif; font-size: 12px; fill: rgb(42, 63, 95); fill-opacity: 1; white-space: pre;\">Shard 1 stuck!</text></g><g class=\"textpoint\" transform=\"translate(0,3)\"><text x=\"37.11\" y=\"102.4\" text-anchor=\"middle\" style=\"font-family: 'Open Sans', verdana, arial, sans-serif; font-size: 12px; fill: rgb(42, 63, 95); fill-opacity: 1; white-space: pre;\">Shard 0 stuck!</text></g><g class=\"textpoint\" transform=\"translate(0,3)\"><text x=\"37.01\" y=\"73.6\" text-anchor=\"middle\" style=\"font-family: 'Open Sans', verdana, arial, sans-serif; font-size: 12px; fill: rgb(42, 63, 95); fill-opacity: 1; white-space: pre;\">Shard 2 stuck!</text></g><g class=\"textpoint\" transform=\"translate(0,3)\"><text x=\"37.08\" y=\"44.8\" text-anchor=\"middle\" style=\"font-family: 'Open Sans', verdana, arial, sans-serif; font-size: 12px; fill: rgb(42, 63, 95); fill-opacity: 1; white-space: pre;\">Shard 3 stuck!</text></g><g class=\"textpoint\" transform=\"translate(0,3)\"><text x=\"37\" y=\"16\" text-anchor=\"middle\" style=\"font-family: 'Open Sans', verdana, arial, sans-serif; font-size: 12px; fill: rgb(42, 63, 95); fill-opacity: 1; white-space: pre;\">Shard 1 stuck!</text></g></g></g></g></g><g class=\"overplot\"/><path class=\"xlines-above crisp\" style=\"fill: none;\" d=\"M0,0\"/><path class=\"ylines-above crisp\" style=\"fill: none;\" d=\"M0,0\"/><g class=\"overlines-above\"/><g class=\"xaxislayer-above\"><g class=\"xtick\"><text text-anchor=\"middle\" x=\"0\" y=\"433\" transform=\"translate(168.55,0)\" style=\"font-family: 'Open Sans', verdana, arial, sans-serif; font-size: 12px; fill: rgb(42, 63, 95); fill-opacity: 1; white-space: pre;\"><tspan class=\"line\" dy=\"0em\" x=\"0\" y=\"433\">22:00</tspan><tspan class=\"line\" dy=\"1.3em\" x=\"0\" y=\"433\">Mar 30, 2020</tspan></text></g><g class=\"xtick\"><text text-anchor=\"middle\" x=\"0\" y=\"433\" transform=\"translate(260.23,0)\" style=\"font-family: 'Open Sans', verdana, arial, sans-serif; font-size: 12px; fill: rgb(42, 63, 95); fill-opacity: 1; white-space: pre;\"><tspan class=\"line\" dy=\"0em\" x=\"0\" y=\"433\">00:00</tspan><tspan class=\"line\" dy=\"1.3em\" x=\"0\" y=\"433\">Mar 31, 2020</tspan></text></g><g class=\"xtick\"><text text-anchor=\"middle\" x=\"0\" y=\"433\" transform=\"translate(351.9,0)\" style=\"font-family: 'Open Sans', verdana, arial, sans-serif; font-size: 12px; fill: rgb(42, 63, 95); fill-opacity: 1; white-space: pre;\">02:00</text></g><g class=\"xtick\"><text text-anchor=\"middle\" x=\"0\" y=\"433\" transform=\"translate(443.58,0)\" style=\"font-family: 'Open Sans', verdana, arial, sans-serif; font-size: 12px; fill: rgb(42, 63, 95); fill-opacity: 1; white-space: pre;\">04:00</text></g><g class=\"xtick\"><text text-anchor=\"middle\" x=\"0\" y=\"433\" transform=\"translate(535.25,0)\" style=\"font-family: 'Open Sans', verdana, arial, sans-serif; font-size: 12px; fill: rgb(42, 63, 95); fill-opacity: 1; white-space: pre;\">06:00</text></g><g class=\"xtick\"><text text-anchor=\"middle\" x=\"0\" y=\"433\" transform=\"translate(626.92,0)\" style=\"font-family: 'Open Sans', verdana, arial, sans-serif; font-size: 12px; fill: rgb(42, 63, 95); fill-opacity: 1; white-space: pre;\">08:00</text></g><g class=\"xtick\"><text text-anchor=\"middle\" x=\"0\" y=\"433\" transform=\"translate(718.6,0)\" style=\"font-family: 'Open Sans', verdana, arial, sans-serif; font-size: 12px; fill: rgb(42, 63, 95); fill-opacity: 1; white-space: pre;\">10:00</text></g><g class=\"xtick\"><text text-anchor=\"middle\" x=\"0\" y=\"433\" transform=\"translate(810.27,0)\" style=\"font-family: 'Open Sans', verdana, arial, sans-serif; font-size: 12px; fill: rgb(42, 63, 95); fill-opacity: 1; white-space: pre;\">12:00</text></g></g><g class=\"yaxislayer-above\"><g class=\"ytick\"><text text-anchor=\"end\" x=\"79\" y=\"4.199999999999999\" transform=\"translate(0,393.71)\" style=\"font-family: 'Open Sans', verdana, arial, sans-serif; font-size: 12px; fill: rgb(42, 63, 95); fill-opacity: 1; white-space: pre;\">10</text></g><g class=\"ytick\"><text text-anchor=\"end\" x=\"79\" y=\"4.199999999999999\" transform=\"translate(0,342.28999999999996)\" style=\"font-family: 'Open Sans', verdana, arial, sans-serif; font-size: 12px; fill: rgb(42, 63, 95); fill-opacity: 1; white-space: pre;\">15</text></g><g class=\"ytick\"><text text-anchor=\"end\" x=\"79\" y=\"4.199999999999999\" transform=\"translate(0,290.86)\" style=\"font-family: 'Open Sans', verdana, arial, sans-serif; font-size: 12px; fill: rgb(42, 63, 95); fill-opacity: 1; white-space: pre;\">20</text></g><g class=\"ytick\"><text text-anchor=\"end\" x=\"79\" y=\"4.199999999999999\" transform=\"translate(0,239.43)\" style=\"font-family: 'Open Sans', verdana, arial, sans-serif; font-size: 12px; fill: rgb(42, 63, 95); fill-opacity: 1; white-space: pre;\">25</text></g><g class=\"ytick\"><text text-anchor=\"end\" x=\"79\" y=\"4.199999999999999\" transform=\"translate(0,188)\" style=\"font-family: 'Open Sans', verdana, arial, sans-serif; font-size: 12px; fill: rgb(42, 63, 95); fill-opacity: 1; white-space: pre;\">30</text></g><g class=\"ytick\"><text text-anchor=\"end\" x=\"79\" y=\"4.199999999999999\" transform=\"translate(0,136.57)\" style=\"font-family: 'Open Sans', verdana, arial, sans-serif; font-size: 12px; fill: rgb(42, 63, 95); fill-opacity: 1; white-space: pre;\">35</text></g></g><g class=\"overaxes-above\"/></g></g><g class=\"polarlayer\"/><g class=\"ternarylayer\"/><g class=\"geolayer\"/><g class=\"funnelarealayer\"/><g class=\"pielayer\"/><g class=\"treemaplayer\"/><g class=\"sunburstlayer\"/><g class=\"glimages\"/><defs id=\"topdefs-7e2c82\"><g class=\"clips\"/><clipPath id=\"legend7e2c82\"><rect width=\"518\" height=\"29\" x=\"0\" y=\"0\"/></clipPath></defs><g class=\"layer-above\"><g class=\"imagelayer\"/><g class=\"shapelayer\"><path data-index=\"0\" fill-rule=\"evenodd\" d=\"M783,420L783,100\" clip-path=\"url('#clip7e2c82x')\" style=\"opacity: 1; stroke: rgb(42, 63, 95); stroke-opacity: 1; fill: rgb(0, 0, 0); fill-opacity: 0; stroke-dasharray: 3px, 3px; stroke-width: 0.5px;\"/><path data-index=\"1\" fill-rule=\"evenodd\" d=\"M777.26,420L777.26,100\" clip-path=\"url('#clip7e2c82x')\" style=\"opacity: 1; stroke: rgb(42, 63, 95); stroke-opacity: 1; fill: rgb(0, 0, 0); fill-opacity: 0; stroke-dasharray: 3px, 3px; stroke-width: 0.5px;\"/><path data-index=\"2\" fill-rule=\"evenodd\" d=\"M592.74,420L592.74,100\" clip-path=\"url('#clip7e2c82x')\" style=\"opacity: 1; stroke: rgb(42, 63, 95); stroke-opacity: 1; fill: rgb(0, 0, 0); fill-opacity: 0; stroke-dasharray: 3px, 3px; stroke-width: 0.5px;\"/><path data-index=\"3\" fill-rule=\"evenodd\" d=\"M592.85,420L592.85,100\" clip-path=\"url('#clip7e2c82x')\" style=\"opacity: 1; stroke: rgb(42, 63, 95); stroke-opacity: 1; fill: rgb(0, 0, 0); fill-opacity: 0; stroke-dasharray: 3px, 3px; stroke-width: 0.5px;\"/><path data-index=\"4\" fill-rule=\"evenodd\" d=\"M117.11,420L117.11,100\" clip-path=\"url('#clip7e2c82x')\" style=\"opacity: 1; stroke: rgb(42, 63, 95); stroke-opacity: 1; fill: rgb(0, 0, 0); fill-opacity: 0; stroke-dasharray: 3px, 3px; stroke-width: 0.5px;\"/><path data-index=\"5\" fill-rule=\"evenodd\" d=\"M117.00999999999999,420L117.00999999999999,100\" clip-path=\"url('#clip7e2c82x')\" style=\"opacity: 1; stroke: rgb(42, 63, 95); stroke-opacity: 1; fill: rgb(0, 0, 0); fill-opacity: 0; stroke-dasharray: 3px, 3px; stroke-width: 0.5px;\"/><path data-index=\"6\" fill-rule=\"evenodd\" d=\"M117.08,420L117.08,100\" clip-path=\"url('#clip7e2c82x')\" style=\"opacity: 1; stroke: rgb(42, 63, 95); stroke-opacity: 1; fill: rgb(0, 0, 0); fill-opacity: 0; stroke-dasharray: 3px, 3px; stroke-width: 0.5px;\"/><path data-index=\"7\" fill-rule=\"evenodd\" d=\"M117,420L117,100\" clip-path=\"url('#clip7e2c82x')\" style=\"opacity: 1; stroke: rgb(42, 63, 95); stroke-opacity: 1; fill: rgb(0, 0, 0); fill-opacity: 0; stroke-dasharray: 3px, 3px; stroke-width: 0.5px;\"/><path data-index=\"8\" fill-rule=\"evenodd\" d=\"M593.55,420L593.55,100\" clip-path=\"url('#clip7e2c82x')\" style=\"opacity: 1; stroke: rgb(147, 112, 219); stroke-opacity: 1; fill: rgb(0, 0, 0); fill-opacity: 0; stroke-dasharray: 9px, 3px, 3px, 3px; stroke-width: 0.5px;\"/><path data-index=\"9\" fill-rule=\"evenodd\" d=\"M594.85,420L594.85,100\" clip-path=\"url('#clip7e2c82x')\" style=\"opacity: 1; stroke: rgb(147, 112, 219); stroke-opacity: 1; fill: rgb(0, 0, 0); fill-opacity: 0; stroke-dasharray: 9px, 3px, 3px, 3px; stroke-width: 0.5px;\"/><path data-index=\"10\" fill-rule=\"evenodd\" d=\"M595.65,420L595.65,100\" clip-path=\"url('#clip7e2c82x')\" style=\"opacity: 1; stroke: rgb(147, 112, 219); stroke-opacity: 1; fill: rgb(0, 0, 0); fill-opacity: 0; stroke-dasharray: 9px, 3px, 3px, 3px; stroke-width: 0.5px;\"/><path data-index=\"11\" fill-rule=\"evenodd\" d=\"M617.92,420L617.92,100\" clip-path=\"url('#clip7e2c82x')\" style=\"opacity: 1; stroke: rgb(147, 112, 219); stroke-opacity: 1; fill: rgb(0, 0, 0); fill-opacity: 0; stroke-dasharray: 9px, 3px, 3px, 3px; stroke-width: 0.5px;\"/><path data-index=\"12\" fill-rule=\"evenodd\" d=\"M622.46,420L622.46,100\" clip-path=\"url('#clip7e2c82x')\" style=\"opacity: 1; stroke: rgb(147, 112, 219); stroke-opacity: 1; fill: rgb(0, 0, 0); fill-opacity: 0; stroke-dasharray: 9px, 3px, 3px, 3px; stroke-width: 0.5px;\"/><path data-index=\"13\" fill-rule=\"evenodd\" d=\"M625.89,420L625.89,100\" clip-path=\"url('#clip7e2c82x')\" style=\"opacity: 1; stroke: rgb(147, 112, 219); stroke-opacity: 1; fill: rgb(0, 0, 0); fill-opacity: 0; stroke-dasharray: 9px, 3px, 3px, 3px; stroke-width: 0.5px;\"/><path data-index=\"14\" fill-rule=\"evenodd\" d=\"M626.68,420L626.68,100\" clip-path=\"url('#clip7e2c82x')\" style=\"opacity: 1; stroke: rgb(147, 112, 219); stroke-opacity: 1; fill: rgb(0, 0, 0); fill-opacity: 0; stroke-dasharray: 9px, 3px, 3px, 3px; stroke-width: 0.5px;\"/><path data-index=\"15\" fill-rule=\"evenodd\" d=\"M629.78,420L629.78,100\" clip-path=\"url('#clip7e2c82x')\" style=\"opacity: 1; stroke: rgb(147, 112, 219); stroke-opacity: 1; fill: rgb(0, 0, 0); fill-opacity: 0; stroke-dasharray: 9px, 3px, 3px, 3px; stroke-width: 0.5px;\"/><path data-index=\"16\" fill-rule=\"evenodd\" d=\"M636.69,420L636.69,100\" clip-path=\"url('#clip7e2c82x')\" style=\"opacity: 1; stroke: rgb(147, 112, 219); stroke-opacity: 1; fill: rgb(0, 0, 0); fill-opacity: 0; stroke-dasharray: 9px, 3px, 3px, 3px; stroke-width: 0.5px;\"/><path data-index=\"17\" fill-rule=\"evenodd\" d=\"M648.77,420L648.77,100\" clip-path=\"url('#clip7e2c82x')\" style=\"opacity: 1; stroke: rgb(147, 112, 219); stroke-opacity: 1; fill: rgb(0, 0, 0); fill-opacity: 0; stroke-dasharray: 9px, 3px, 3px, 3px; stroke-width: 0.5px;\"/><path data-index=\"18\" fill-rule=\"evenodd\" d=\"M598.74,420L598.74,100\" clip-path=\"url('#clip7e2c82x')\" style=\"opacity: 1; stroke: rgb(147, 112, 219); stroke-opacity: 1; fill: rgb(0, 0, 0); fill-opacity: 0; stroke-dasharray: 9px, 3px, 3px, 3px; stroke-width: 0.5px;\"/><path data-index=\"19\" fill-rule=\"evenodd\" d=\"M605.66,420L605.66,100\" clip-path=\"url('#clip7e2c82x')\" style=\"opacity: 1; stroke: rgb(147, 112, 219); stroke-opacity: 1; fill: rgb(0, 0, 0); fill-opacity: 0; stroke-dasharray: 9px, 3px, 3px, 3px; stroke-width: 0.5px;\"/><path data-index=\"20\" fill-rule=\"evenodd\" d=\"M550.98,420L550.98,100\" clip-path=\"url('#clip7e2c82x')\" style=\"opacity: 0.5; stroke: rgb(65, 105, 225); stroke-opacity: 1; fill: rgb(0, 0, 0); fill-opacity: 0; stroke-dasharray: 15px, 15px; stroke-width: 0.5px;\"/><path data-index=\"21\" fill-rule=\"evenodd\" d=\"M550.99,420L550.99,100\" clip-path=\"url('#clip7e2c82x')\" style=\"opacity: 0.5; stroke: rgb(65, 105, 225); stroke-opacity: 1; fill: rgb(0, 0, 0); fill-opacity: 0; stroke-dasharray: 15px, 15px; stroke-width: 0.5px;\"/><path data-index=\"22\" fill-rule=\"evenodd\" d=\"M554.8,420L554.8,100\" clip-path=\"url('#clip7e2c82x')\" style=\"opacity: 0.5; stroke: rgb(65, 105, 225); stroke-opacity: 1; fill: rgb(0, 0, 0); fill-opacity: 0; stroke-dasharray: 15px, 15px; stroke-width: 0.5px;\"/><path data-index=\"23\" fill-rule=\"evenodd\" d=\"M558.14,420L558.14,100\" clip-path=\"url('#clip7e2c82x')\" style=\"opacity: 0.5; stroke: rgb(65, 105, 225); stroke-opacity: 1; fill: rgb(0, 0, 0); fill-opacity: 0; stroke-dasharray: 15px, 15px; stroke-width: 0.5px;\"/><path data-index=\"24\" fill-rule=\"evenodd\" d=\"M558.97,420L558.97,100\" clip-path=\"url('#clip7e2c82x')\" style=\"opacity: 0.5; stroke: rgb(65, 105, 225); stroke-opacity: 1; fill: rgb(0, 0, 0); fill-opacity: 0; stroke-dasharray: 15px, 15px; stroke-width: 0.5px;\"/><path data-index=\"25\" fill-rule=\"evenodd\" d=\"M559.01,420L559.01,100\" clip-path=\"url('#clip7e2c82x')\" style=\"opacity: 0.5; stroke: rgb(65, 105, 225); stroke-opacity: 1; fill: rgb(0, 0, 0); fill-opacity: 0; stroke-dasharray: 15px, 15px; stroke-width: 0.5px;\"/><path data-index=\"26\" fill-rule=\"evenodd\" d=\"M559.02,420L559.02,100\" clip-path=\"url('#clip7e2c82x')\" style=\"opacity: 0.5; stroke: rgb(65, 105, 225); stroke-opacity: 1; fill: rgb(0, 0, 0); fill-opacity: 0; stroke-dasharray: 15px, 15px; stroke-width: 0.5px;\"/><path data-index=\"27\" fill-rule=\"evenodd\" d=\"M559.87,420L559.87,100\" clip-path=\"url('#clip7e2c82x')\" style=\"opacity: 0.5; stroke: rgb(65, 105, 225); stroke-opacity: 1; fill: rgb(0, 0, 0); fill-opacity: 0; stroke-dasharray: 15px, 15px; stroke-width: 0.5px;\"/><path data-index=\"28\" fill-rule=\"evenodd\" d=\"M559.88,420L559.88,100\" clip-path=\"url('#clip7e2c82x')\" style=\"opacity: 0.5; stroke: rgb(65, 105, 225); stroke-opacity: 1; fill: rgb(0, 0, 0); fill-opacity: 0; stroke-dasharray: 15px, 15px; stroke-width: 0.5px;\"/><path data-index=\"29\" fill-rule=\"evenodd\" d=\"M559.89,420L559.89,100\" clip-path=\"url('#clip7e2c82x')\" style=\"opacity: 0.5; stroke: rgb(65, 105, 225); stroke-opacity: 1; fill: rgb(0, 0, 0); fill-opacity: 0; stroke-dasharray: 15px, 15px; stroke-width: 0.5px;\"/><path data-index=\"30\" fill-rule=\"evenodd\" d=\"M593.8,420L593.8,100\" clip-path=\"url('#clip7e2c82x')\" style=\"opacity: 0.5; stroke: rgb(65, 105, 225); stroke-opacity: 1; fill: rgb(0, 0, 0); fill-opacity: 0; stroke-dasharray: 15px, 15px; stroke-width: 0.5px;\"/><path data-index=\"31\" fill-rule=\"evenodd\" d=\"M593.84,420L593.84,100\" clip-path=\"url('#clip7e2c82x')\" style=\"opacity: 0.5; stroke: rgb(65, 105, 225); stroke-opacity: 1; fill: rgb(0, 0, 0); fill-opacity: 0; stroke-dasharray: 15px, 15px; stroke-width: 0.5px;\"/><path data-index=\"32\" fill-rule=\"evenodd\" d=\"M593.87,420L593.87,100\" clip-path=\"url('#clip7e2c82x')\" style=\"opacity: 0.5; stroke: rgb(65, 105, 225); stroke-opacity: 1; fill: rgb(0, 0, 0); fill-opacity: 0; stroke-dasharray: 15px, 15px; stroke-width: 0.5px;\"/><path data-index=\"33\" fill-rule=\"evenodd\" d=\"M593.91,420L593.91,100\" clip-path=\"url('#clip7e2c82x')\" style=\"opacity: 0.5; stroke: rgb(65, 105, 225); stroke-opacity: 1; fill: rgb(0, 0, 0); fill-opacity: 0; stroke-dasharray: 15px, 15px; stroke-width: 0.5px;\"/><path data-index=\"34\" fill-rule=\"evenodd\" d=\"M593.93,420L593.93,100\" clip-path=\"url('#clip7e2c82x')\" style=\"opacity: 0.5; stroke: rgb(65, 105, 225); stroke-opacity: 1; fill: rgb(0, 0, 0); fill-opacity: 0; stroke-dasharray: 15px, 15px; stroke-width: 0.5px;\"/><path data-index=\"35\" fill-rule=\"evenodd\" d=\"M566.94,420L566.94,100\" clip-path=\"url('#clip7e2c82x')\" style=\"opacity: 0.5; stroke: rgb(65, 105, 225); stroke-opacity: 1; fill: rgb(0, 0, 0); fill-opacity: 0; stroke-dasharray: 15px, 15px; stroke-width: 0.5px;\"/><path data-index=\"36\" fill-rule=\"evenodd\" d=\"M621.67,420L621.67,100\" clip-path=\"url('#clip7e2c82x')\" style=\"opacity: 0.5; stroke: rgb(65, 105, 225); stroke-opacity: 1; fill: rgb(0, 0, 0); fill-opacity: 0; stroke-dasharray: 15px, 15px; stroke-width: 0.5px;\"/><path data-index=\"37\" fill-rule=\"evenodd\" d=\"M621.68,420L621.68,100\" clip-path=\"url('#clip7e2c82x')\" style=\"opacity: 0.5; stroke: rgb(65, 105, 225); stroke-opacity: 1; fill: rgb(0, 0, 0); fill-opacity: 0; stroke-dasharray: 15px, 15px; stroke-width: 0.5px;\"/><path data-index=\"38\" fill-rule=\"evenodd\" d=\"M622.49,420L622.49,100\" clip-path=\"url('#clip7e2c82x')\" style=\"opacity: 0.5; stroke: rgb(65, 105, 225); stroke-opacity: 1; fill: rgb(0, 0, 0); fill-opacity: 0; stroke-dasharray: 15px, 15px; stroke-width: 0.5px;\"/><path data-index=\"39\" fill-rule=\"evenodd\" d=\"M625.3,420L625.3,100\" clip-path=\"url('#clip7e2c82x')\" style=\"opacity: 0.5; stroke: rgb(65, 105, 225); stroke-opacity: 1; fill: rgb(0, 0, 0); fill-opacity: 0; stroke-dasharray: 15px, 15px; stroke-width: 0.5px;\"/><path data-index=\"40\" fill-rule=\"evenodd\" d=\"M625.3,420L625.3,100\" clip-path=\"url('#clip7e2c82x')\" style=\"opacity: 0.5; stroke: rgb(65, 105, 225); stroke-opacity: 1; fill: rgb(0, 0, 0); fill-opacity: 0; stroke-dasharray: 15px, 15px; stroke-width: 0.5px;\"/><path data-index=\"41\" fill-rule=\"evenodd\" d=\"M647.39,420L647.39,100\" clip-path=\"url('#clip7e2c82x')\" style=\"opacity: 0.5; stroke: rgb(65, 105, 225); stroke-opacity: 1; fill: rgb(0, 0, 0); fill-opacity: 0; stroke-dasharray: 15px, 15px; stroke-width: 0.5px;\"/><path data-index=\"42\" fill-rule=\"evenodd\" d=\"M647.39,420L647.39,100\" clip-path=\"url('#clip7e2c82x')\" style=\"opacity: 0.5; stroke: rgb(65, 105, 225); stroke-opacity: 1; fill: rgb(0, 0, 0); fill-opacity: 0; stroke-dasharray: 15px, 15px; stroke-width: 0.5px;\"/><path data-index=\"43\" fill-rule=\"evenodd\" d=\"M648.79,420L648.79,100\" clip-path=\"url('#clip7e2c82x')\" style=\"opacity: 0.5; stroke: rgb(65, 105, 225); stroke-opacity: 1; fill: rgb(0, 0, 0); fill-opacity: 0; stroke-dasharray: 15px, 15px; stroke-width: 0.5px;\"/><path data-index=\"44\" fill-rule=\"evenodd\" d=\"M622.49,420L622.49,100\" clip-path=\"url('#clip7e2c82x')\" style=\"opacity: 1; stroke: rgb(32, 178, 170); stroke-opacity: 1; fill: rgb(0, 0, 0); fill-opacity: 0; stroke-width: 0.5px;\"/><path data-index=\"45\" fill-rule=\"evenodd\" d=\"M636.72,420L636.72,100\" clip-path=\"url('#clip7e2c82x')\" style=\"opacity: 1; stroke: rgb(32, 178, 170); stroke-opacity: 1; fill: rgb(0, 0, 0); fill-opacity: 0; stroke-width: 0.5px;\"/><path data-index=\"46\" fill-rule=\"evenodd\" d=\"M648.79,420L648.79,100\" clip-path=\"url('#clip7e2c82x')\" style=\"opacity: 1; stroke: rgb(32, 178, 170); stroke-opacity: 1; fill: rgb(0, 0, 0); fill-opacity: 0; stroke-width: 0.5px;\"/></g></g><g class=\"infolayer\"><g class=\"legend\" pointer-events=\"all\" transform=\"translate(80, 452)\"><rect class=\"bg\" shape-rendering=\"crispEdges\" style=\"stroke: rgb(68, 68, 68); stroke-opacity: 1; fill: rgb(255, 255, 255); fill-opacity: 1; stroke-width: 0px;\" width=\"518\" height=\"29\" x=\"0\" y=\"0\"/><g class=\"scrollbox\" transform=\"translate(0, 0)\" clip-path=\"url('#legend7e2c82')\"><g class=\"groups\"><g class=\"traces\" style=\"opacity: 1;\" transform=\"translate(0, 14.5)\"><text class=\"legendtext user-select-none\" text-anchor=\"start\" x=\"40\" y=\"4.680000000000001\" style=\"font-family: 'Open Sans', verdana, arial, sans-serif; font-size: 12px; fill: rgb(42, 63, 95); fill-opacity: 1; white-space: pre;\">NET: received message: Node/Block</text><g class=\"layers\" style=\"opacity: 1;\"><g class=\"legendfill\"/><g class=\"legendlines\"><path class=\"js-line\" d=\"M5,0h30\" style=\"fill: none; stroke: rgb(0, 174, 233); stroke-opacity: 1; stroke-dasharray: 9px, 9px; stroke-width: 3px;\"/></g><g class=\"legendsymbols\"><g class=\"legendpoints\"/></g></g><rect class=\"legendtoggle\" pointer-events=\"all\" x=\"0\" y=\"-9.5\" width=\"257.875\" height=\"19\" style=\"cursor: pointer; fill: rgb(0, 0, 0); fill-opacity: 0;\"/></g><g class=\"traces\" style=\"opacity: 1;\" transform=\"translate(260.375, 14.5)\"><text class=\"legendtext user-select-none\" text-anchor=\"start\" x=\"40\" y=\"4.680000000000001\" style=\"font-family: 'Open Sans', verdana, arial, sans-serif; font-size: 12px; fill: rgb(42, 63, 95); fill-opacity: 1; white-space: pre;\">NET: received message: Node/Sync</text><g class=\"layers\" style=\"opacity: 1;\"><g class=\"legendfill\"/><g class=\"legendlines\"><path class=\"js-line\" d=\"M5,0h30\" style=\"fill: none; stroke: rgb(255, 160, 122); stroke-opacity: 1; stroke-width: 1px;\"/></g><g class=\"legendsymbols\"><g class=\"legendpoints\"/></g></g><rect class=\"legendtoggle\" pointer-events=\"all\" x=\"0\" y=\"-9.5\" width=\"254.28125\" height=\"19\" style=\"cursor: pointer; fill: rgb(0, 0, 0); fill-opacity: 0;\"/></g></g></g><rect class=\"scrollbar\" rx=\"20\" ry=\"3\" width=\"0\" height=\"0\" style=\"fill: rgb(128, 139, 164); fill-opacity: 1;\" x=\"0\" y=\"0\"/></g><g class=\"g-gtitle\"><text class=\"gtitle\" x=\"45\" y=\"50\" text-anchor=\"start\" dy=\"0em\" style=\"font-family: 'Open Sans', verdana, arial, sans-serif; font-size: 17px; fill: rgb(42, 63, 95); opacity: 1; font-weight: normal; white-space: pre;\">Message counts aggregated in 5 minutes vs Time</text></g><g class=\"g-xtitle\"/><g class=\"g-ytitle\"><text class=\"ytitle\" transform=\"rotate(-90,38.91875,260)\" x=\"38.91875\" y=\"260\" text-anchor=\"middle\" style=\"font-family: 'Open Sans', verdana, arial, sans-serif; font-size: 14px; fill: rgb(42, 63, 95); opacity: 1; font-weight: normal; white-space: pre;\">aggregated counts in 5 minutes</text></g></g></svg>"
      ]
     },
     "metadata": {},
     "output_type": "display_data"
    }
   ],
   "source": [
    "draw_message(agg, alert, viewchange, 5, 'message')"
   ]
  }
 ],
 "metadata": {
  "kernelspec": {
   "display_name": "Python 3",
   "language": "python",
   "name": "python3"
  },
  "language_info": {
   "codemirror_mode": {
    "name": "ipython",
    "version": 3
   },
   "file_extension": ".py",
   "mimetype": "text/x-python",
   "name": "python",
   "nbconvert_exporter": "python",
   "pygments_lexer": "ipython3",
   "version": "3.7.6"
  }
 },
 "nbformat": 4,
 "nbformat_minor": 4
}
