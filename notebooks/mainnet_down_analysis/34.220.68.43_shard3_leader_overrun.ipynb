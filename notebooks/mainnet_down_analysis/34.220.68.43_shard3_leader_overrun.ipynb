{
 "cells": [
  {
   "cell_type": "code",
   "execution_count": 1,
   "metadata": {},
   "outputs": [],
   "source": [
    "import json\n",
    "import pandas as pd\n",
    "import os\n",
    "import shutil\n",
    "import re\n",
    "import plotly.express as px \n",
    "import plotly.graph_objects as go\n",
    "import numpy as np\n",
    "from IPython.core.display import display, HTML"
   ]
  },
  {
   "cell_type": "code",
   "execution_count": 2,
   "metadata": {},
   "outputs": [],
   "source": [
    "def read_data(files, path, keyword):\n",
    "    data = []\n",
    "    for file in files:\n",
    "        if \"zerolog\" in file:\n",
    "            with open(path + file, errors='ignore') as f:\n",
    "                for line in f.readlines():\n",
    "                    if keyword in line:\n",
    "                        data.append(json.loads(line))\n",
    "    return data"
   ]
  },
  {
   "cell_type": "code",
   "execution_count": 3,
   "metadata": {},
   "outputs": [],
   "source": [
    "def data_processing(data):\n",
    "    df = pd.DataFrame(data)\n",
    "    df['time'] = pd.to_datetime(df['time'], format = '%Y-%m-%dT%H:%M:%S.%f')\n",
    "    return df"
   ]
  },
  {
   "cell_type": "code",
   "execution_count": 4,
   "metadata": {},
   "outputs": [],
   "source": [
    "def aggregate(df, time, name):\n",
    "    agg = df.groupby([pd.Grouper(freq= str(time) + 'Min', key = 'time'), name])[name].count().\\\n",
    "    reset_index(name = 'count')\n",
    "    return agg"
   ]
  },
  {
   "cell_type": "code",
   "execution_count": 5,
   "metadata": {},
   "outputs": [],
   "source": [
    "def get_top_frequent(df, name, number):\n",
    "    sort_df = df.sort_values(by='count', ascending = False).reset_index(drop = True) \n",
    "    lst = sort_df.loc[:number, name].tolist()\n",
    "    return lst"
   ]
  },
  {
   "cell_type": "code",
   "execution_count": 6,
   "metadata": {},
   "outputs": [],
   "source": [
    "def draw_error(df, alert, viewchange, time, name):\n",
    "    \n",
    "    df = df.sort_values(by='time').reset_index(drop = True)\n",
    "    html_path = \"https://harmony-one.github.io/harmony-log-analysis/\" + html_dir.replace(\"../../docs/\", \"\") + name + \".html\"\n",
    "    png_path = fig_dir \n",
    "    print(\"png graphs saved in \" + png_path)\n",
    "    print('html graphs saved in ')\n",
    "    display(HTML(\"<a href='\" + html_path + \"' target='_blank'>\" + html_path + \"</a>\"))\n",
    "    if not os.path.exists(html_dir):\n",
    "        os.makedirs(html_dir)\n",
    "        \n",
    "    if not os.path.exists(png_path):\n",
    "        os.makedirs(png_path)\n",
    "    \n",
    "    hover = df.columns.tolist()\n",
    "    fig = px.line(df, x=\"time\", y=\"count\", color=name, color_discrete_sequence=px.colors.qualitative.Set2, \\\n",
    "              title = name + ' counts in ' + str(time) + ' minutes vs Time', hover_data=hover)\n",
    "    fig.update_layout(xaxis_title=\"utc_time\", legend_orientation=\"h\", legend=dict(x=-0.05, y=-0.6))\n",
    "    \n",
    "    trace = []\n",
    "    text = []\n",
    "    for k,v in alert.items():\n",
    "        fig.add_shape(type=\"line\", x0=k, y0=0,x1=k,y1=1,\n",
    "                line=dict(\n",
    "                width=0.5,\n",
    "            ))\n",
    "        trace.append(k)\n",
    "        text.append(v)\n",
    "    \n",
    "    \n",
    "    for i in range(len(viewchange)):\n",
    "        if viewchange.message[i] == 'NewView':\n",
    "            fig.add_shape(type=\"line\", x0=viewchange.time[i], y0=0,x1=viewchange.time[i],y1=1,\n",
    "                    line=dict(\n",
    "                    width=0.5,\n",
    "                    color=\"LightSeaGreen\",    \n",
    "\n",
    "                ))\n",
    "\n",
    "        if viewchange.message[i] == 'StartViewChange':\n",
    "            fig.add_shape(type=\"line\", x0=viewchange.time[i], y0=0,x1=viewchange.time[i],y1=1,\n",
    "                    line=dict(\n",
    "                    width=0.5,\n",
    "                    dash=\"dashdot\",\n",
    "                    color=\"MediumPurple\",    \n",
    "                    ))\n",
    "            \n",
    "        if viewchange.message[i] == 'ResetViewChange':\n",
    "            fig.add_shape(type=\"line\", x0=viewchange.time[i], y0=0,x1=viewchange.time[i],y1=1,\n",
    "                    line=dict(\n",
    "                    width=0.5,\n",
    "                    dash=\"longdash\",\n",
    "                    color=\"RoyalBlue\",    \n",
    "                    ),\n",
    "                    opacity=0.5)\n",
    "    \n",
    "    fig.update_shapes(dict(xref='x', yref='paper'))\n",
    "    \n",
    "    newView = viewchange[viewchange.message == 'NewView'].iloc[0]\n",
    "    startChange = viewchange[viewchange.message == 'StartViewChange'].iloc[0]\n",
    "    resetChange = viewchange[viewchange.message == 'ResetViewChange'].iloc[0]\n",
    "    lst = [startChange, newView, resetChange]\n",
    "\n",
    "    for i in range(len(lst)):\n",
    "        trace.insert(0, lst[i].time)\n",
    "        text.insert(0, lst[i].message)\n",
    "              \n",
    "    fig.add_trace(go.Scatter(\n",
    "        x=trace,\n",
    "        y=np.linspace(df['count'].min()*1.2, df['count'].max()*0.9, num = len(text)).tolist(),\n",
    "        text=text,\n",
    "        mode=\"text\",\n",
    "        showlegend=False\n",
    "    ))\n",
    "    \n",
    "\n",
    "    fig.show(renderer=\"svg\",width=900, height=500)\n",
    "    fig.write_html(html_dir + name + \".html\")\n",
    "    fig.write_image(png_path + name + \".png\",width=1000, height=600)"
   ]
  },
  {
   "cell_type": "code",
   "execution_count": 7,
   "metadata": {},
   "outputs": [],
   "source": [
    "# get alert time from pagerduty\n",
    "alert = dict()\n",
    "alert['2020-03-31 11:24:18.0'] = 'Shard 0 stuck!'\n",
    "alert['2020-03-31 11:16:47.0'] = 'Shard 2 stuck!'\n",
    "alert['2020-03-31 07:15:15.0'] = 'Shard 3 stuck!'\n",
    "alert['2020-03-31 07:15:24.0'] = 'Shard 1 stuck!'\n",
    "alert['2020-03-30 20:52:40.0'] = 'Shard 0 stuck!'\n",
    "alert['2020-03-30 20:52:32.0'] = 'Shard 2 stuck!'\n",
    "alert['2020-03-30 20:52:37.0'] = 'Shard 3 stuck!'\n",
    "alert['2020-03-30 20:52:31.0'] = 'Shard 1 stuck!'"
   ]
  },
  {
   "cell_type": "code",
   "execution_count": 8,
   "metadata": {},
   "outputs": [],
   "source": [
    "log_dir = \"/home/ubuntu/jupyter/logs/debug/20200331/shard3/leader/\"\n",
    "html_dir = \"../../docs/graphs/crash_analysis/mainnet/03-31/shard3-leader/\"\n",
    "fig_dir = \"../../graphs/crash_analysis/mainnet/03-31/shard3-leader/\"\n",
    "files = os.listdir(log_dir)"
   ]
  },
  {
   "cell_type": "markdown",
   "metadata": {},
   "source": [
    "### get the top sender "
   ]
  },
  {
   "cell_type": "markdown",
   "metadata": {},
   "source": [
    "some metrics\n",
    "- total 124 different senders\n",
    "- max: 9428\n",
    "- min: 24\n",
    "- \\> 9000 errors: 44 senders\n",
    "- \\> 8000 errors: 51 senders\n",
    "- \\> 5000 errors: 52 senders\n",
    "- \\> 3000 errors: 113 senders"
   ]
  },
  {
   "cell_type": "code",
   "execution_count": 9,
   "metadata": {},
   "outputs": [
    {
     "data": {
      "text/html": [
       "<div>\n",
       "<style scoped>\n",
       "    .dataframe tbody tr th:only-of-type {\n",
       "        vertical-align: middle;\n",
       "    }\n",
       "\n",
       "    .dataframe tbody tr th {\n",
       "        vertical-align: top;\n",
       "    }\n",
       "\n",
       "    .dataframe thead th {\n",
       "        text-align: right;\n",
       "    }\n",
       "</style>\n",
       "<table border=\"1\" class=\"dataframe\">\n",
       "  <thead>\n",
       "    <tr style=\"text-align: right;\">\n",
       "      <th></th>\n",
       "      <th>sender</th>\n",
       "      <th>count</th>\n",
       "    </tr>\n",
       "  </thead>\n",
       "  <tbody>\n",
       "    <tr>\n",
       "      <th>0</th>\n",
       "      <td>Qmea5pZ4vwEbsVTob92sLeg9SQk5o91pR7bU67x9VzbkWU</td>\n",
       "      <td>9248</td>\n",
       "    </tr>\n",
       "    <tr>\n",
       "      <th>1</th>\n",
       "      <td>QmQQE4eWgW79vN8pLzznRNdHRRi6nWZ4RL352S6xJCSeu1</td>\n",
       "      <td>9248</td>\n",
       "    </tr>\n",
       "    <tr>\n",
       "      <th>2</th>\n",
       "      <td>QmZft5PhMxZoQx1sczcXtSt2tD4bFhjLCQWSoQPzTbz5GX</td>\n",
       "      <td>9248</td>\n",
       "    </tr>\n",
       "    <tr>\n",
       "      <th>3</th>\n",
       "      <td>QmdB3AhjX9snFsynMkp53VgE8tEnqztcbBN8fS5S9jhwGd</td>\n",
       "      <td>9248</td>\n",
       "    </tr>\n",
       "    <tr>\n",
       "      <th>4</th>\n",
       "      <td>Qmcxvs5mcDHu5S83t8Z1JqztPVsP2AzzusYy7U2GfHdgmF</td>\n",
       "      <td>9248</td>\n",
       "    </tr>\n",
       "    <tr>\n",
       "      <th>...</th>\n",
       "      <td>...</td>\n",
       "      <td>...</td>\n",
       "    </tr>\n",
       "    <tr>\n",
       "      <th>119</th>\n",
       "      <td>QmfAvzBRz2SppA5ozxw1nPfgqzAZQfVBTphvrJYqP9kTxN</td>\n",
       "      <td>1182</td>\n",
       "    </tr>\n",
       "    <tr>\n",
       "      <th>120</th>\n",
       "      <td>Qmc1ooNobR9uq7RZkGpfQGSeJB2fZCHSUHXfkrSpzaDH7G</td>\n",
       "      <td>815</td>\n",
       "    </tr>\n",
       "    <tr>\n",
       "      <th>121</th>\n",
       "      <td>QmY5LbbKPTKtbWY9HLcQ7AF3LU6tU5M3pM75vinQw3qjCZ</td>\n",
       "      <td>503</td>\n",
       "    </tr>\n",
       "    <tr>\n",
       "      <th>122</th>\n",
       "      <td>QmWHHRUTojdTFEGDi2thDpNVXbs5PiLvnyAAsHZ6RHraZe</td>\n",
       "      <td>58</td>\n",
       "    </tr>\n",
       "    <tr>\n",
       "      <th>123</th>\n",
       "      <td>QmaeVBBVMjR4SsRXxF8JQgwwwDJYxNJbJTGfhaZKWsxox9</td>\n",
       "      <td>24</td>\n",
       "    </tr>\n",
       "  </tbody>\n",
       "</table>\n",
       "<p>124 rows × 2 columns</p>\n",
       "</div>"
      ],
      "text/plain": [
       "                                             sender  count\n",
       "0    Qmea5pZ4vwEbsVTob92sLeg9SQk5o91pR7bU67x9VzbkWU   9248\n",
       "1    QmQQE4eWgW79vN8pLzznRNdHRRi6nWZ4RL352S6xJCSeu1   9248\n",
       "2    QmZft5PhMxZoQx1sczcXtSt2tD4bFhjLCQWSoQPzTbz5GX   9248\n",
       "3    QmdB3AhjX9snFsynMkp53VgE8tEnqztcbBN8fS5S9jhwGd   9248\n",
       "4    Qmcxvs5mcDHu5S83t8Z1JqztPVsP2AzzusYy7U2GfHdgmF   9248\n",
       "..                                              ...    ...\n",
       "119  QmfAvzBRz2SppA5ozxw1nPfgqzAZQfVBTphvrJYqP9kTxN   1182\n",
       "120  Qmc1ooNobR9uq7RZkGpfQGSeJB2fZCHSUHXfkrSpzaDH7G    815\n",
       "121  QmY5LbbKPTKtbWY9HLcQ7AF3LU6tU5M3pM75vinQw3qjCZ    503\n",
       "122  QmWHHRUTojdTFEGDi2thDpNVXbs5PiLvnyAAsHZ6RHraZe     58\n",
       "123  QmaeVBBVMjR4SsRXxF8JQgwwwDJYxNJbJTGfhaZKWsxox9     24\n",
       "\n",
       "[124 rows x 2 columns]"
      ]
     },
     "execution_count": 9,
     "metadata": {},
     "output_type": "execute_result"
    }
   ],
   "source": [
    "data = read_data(files, log_dir, 'overrun')\n",
    "df = data_processing(data)\n",
    "sender = df.groupby('sender')['sender'].count().reset_index(name = 'count') \n",
    "sender.sort_values(by='count', ascending = False).reset_index(drop = True)"
   ]
  },
  {
   "cell_type": "code",
   "execution_count": 10,
   "metadata": {},
   "outputs": [
    {
     "data": {
      "text/html": [
       "<div>\n",
       "<style scoped>\n",
       "    .dataframe tbody tr th:only-of-type {\n",
       "        vertical-align: middle;\n",
       "    }\n",
       "\n",
       "    .dataframe tbody tr th {\n",
       "        vertical-align: top;\n",
       "    }\n",
       "\n",
       "    .dataframe thead th {\n",
       "        text-align: right;\n",
       "    }\n",
       "</style>\n",
       "<table border=\"1\" class=\"dataframe\">\n",
       "  <thead>\n",
       "    <tr style=\"text-align: right;\">\n",
       "      <th></th>\n",
       "      <th>count</th>\n",
       "    </tr>\n",
       "  </thead>\n",
       "  <tbody>\n",
       "    <tr>\n",
       "      <th>count</th>\n",
       "      <td>124.000000</td>\n",
       "    </tr>\n",
       "    <tr>\n",
       "      <th>mean</th>\n",
       "      <td>5474.717742</td>\n",
       "    </tr>\n",
       "    <tr>\n",
       "      <th>std</th>\n",
       "      <td>3157.392082</td>\n",
       "    </tr>\n",
       "    <tr>\n",
       "      <th>min</th>\n",
       "      <td>24.000000</td>\n",
       "    </tr>\n",
       "    <tr>\n",
       "      <th>25%</th>\n",
       "      <td>3081.000000</td>\n",
       "    </tr>\n",
       "    <tr>\n",
       "      <th>50%</th>\n",
       "      <td>3086.000000</td>\n",
       "    </tr>\n",
       "    <tr>\n",
       "      <th>75%</th>\n",
       "      <td>9231.500000</td>\n",
       "    </tr>\n",
       "    <tr>\n",
       "      <th>max</th>\n",
       "      <td>9248.000000</td>\n",
       "    </tr>\n",
       "  </tbody>\n",
       "</table>\n",
       "</div>"
      ],
      "text/plain": [
       "             count\n",
       "count   124.000000\n",
       "mean   5474.717742\n",
       "std    3157.392082\n",
       "min      24.000000\n",
       "25%    3081.000000\n",
       "50%    3086.000000\n",
       "75%    9231.500000\n",
       "max    9248.000000"
      ]
     },
     "execution_count": 10,
     "metadata": {},
     "output_type": "execute_result"
    }
   ],
   "source": [
    "sender.describe()"
   ]
  },
  {
   "cell_type": "code",
   "execution_count": 11,
   "metadata": {},
   "outputs": [],
   "source": [
    "lst = get_top_frequent(sender, 'sender', 51)\n",
    "mask = df['sender'].apply(lambda x: x in lst)\n",
    "df_2 = df[mask]"
   ]
  },
  {
   "cell_type": "markdown",
   "metadata": {},
   "source": [
    "### add view change time"
   ]
  },
  {
   "cell_type": "code",
   "execution_count": 12,
   "metadata": {},
   "outputs": [],
   "source": [
    "data = read_data(files, log_dir, 'start view change timer')\n",
    "startViewChange = data_processing(data)[['time','message']]\n",
    "startViewChange['message'] = 'StartViewChange'\n",
    "\n",
    "data = read_data(files, log_dir, 'Resetting view change state')\n",
    "resetViewChange = data_processing(data)[['time','message']]\n",
    "resetViewChange['message'] = 'ResetViewChange'\n",
    "\n",
    "data = read_data(files, log_dir, 'Received NewView Message')\n",
    "newview = data_processing(data)[['time','message']]\n",
    "newview['message'] = 'NewView'\n",
    "\n",
    "viewchange = pd.concat([startViewChange, resetViewChange, newview], ignore_index=True)"
   ]
  },
  {
   "cell_type": "markdown",
   "metadata": {},
   "source": [
    "### aggregate on five minutes level"
   ]
  },
  {
   "cell_type": "code",
   "execution_count": 13,
   "metadata": {},
   "outputs": [
    {
     "data": {
      "text/html": [
       "<div>\n",
       "<style scoped>\n",
       "    .dataframe tbody tr th:only-of-type {\n",
       "        vertical-align: middle;\n",
       "    }\n",
       "\n",
       "    .dataframe tbody tr th {\n",
       "        vertical-align: top;\n",
       "    }\n",
       "\n",
       "    .dataframe thead th {\n",
       "        text-align: right;\n",
       "    }\n",
       "</style>\n",
       "<table border=\"1\" class=\"dataframe\">\n",
       "  <thead>\n",
       "    <tr style=\"text-align: right;\">\n",
       "      <th></th>\n",
       "      <th>time</th>\n",
       "      <th>sender</th>\n",
       "      <th>count</th>\n",
       "    </tr>\n",
       "  </thead>\n",
       "  <tbody>\n",
       "    <tr>\n",
       "      <th>0</th>\n",
       "      <td>2020-03-31 01:00:00+00:00</td>\n",
       "      <td>QmVKuF9RXEVUTcpQfLcdExFNgxaza22pXYG4tKGr59E4V4</td>\n",
       "      <td>156</td>\n",
       "    </tr>\n",
       "    <tr>\n",
       "      <th>1</th>\n",
       "      <td>2020-03-31 01:00:00+00:00</td>\n",
       "      <td>QmWRqGxAch41er8JzC8jCLvEj6rfYz2pSbTrcyJhmko7no</td>\n",
       "      <td>156</td>\n",
       "    </tr>\n",
       "    <tr>\n",
       "      <th>2</th>\n",
       "      <td>2020-03-31 01:00:00+00:00</td>\n",
       "      <td>QmVDPrtuHFG2WAkQVLRXQGEmQbx8FwhTY8LvM3ahbNqYhD</td>\n",
       "      <td>156</td>\n",
       "    </tr>\n",
       "    <tr>\n",
       "      <th>3</th>\n",
       "      <td>2020-03-31 01:00:00+00:00</td>\n",
       "      <td>QmV8KyKF75E9FqRMnWrBGJPqHeqhxTZXAtHSe4k4iikZAP</td>\n",
       "      <td>156</td>\n",
       "    </tr>\n",
       "    <tr>\n",
       "      <th>4</th>\n",
       "      <td>2020-03-31 01:00:00+00:00</td>\n",
       "      <td>QmV33UgvrQ5jf7Uhy4tjPD1rDZSXEuCb7YqeMqReUe74tr</td>\n",
       "      <td>156</td>\n",
       "    </tr>\n",
       "    <tr>\n",
       "      <th>...</th>\n",
       "      <td>...</td>\n",
       "      <td>...</td>\n",
       "      <td>...</td>\n",
       "    </tr>\n",
       "    <tr>\n",
       "      <th>3271</th>\n",
       "      <td>2020-03-31 06:20:00+00:00</td>\n",
       "      <td>QmXaWMJYCuukwbazGr7RLUvFs9gAYG7LN74hLgWdSWUpyV</td>\n",
       "      <td>15</td>\n",
       "    </tr>\n",
       "    <tr>\n",
       "      <th>3272</th>\n",
       "      <td>2020-03-31 06:20:00+00:00</td>\n",
       "      <td>QmXxdd5WcSS8DJMyGtP7a8S6vd9mgwNpxTSbsUJtF2N7WY</td>\n",
       "      <td>15</td>\n",
       "    </tr>\n",
       "    <tr>\n",
       "      <th>3273</th>\n",
       "      <td>2020-03-31 06:20:00+00:00</td>\n",
       "      <td>QmZbMzrZexEZax44GSxAdKHEdcQgotm6K4Tu8X5qbWNBR1</td>\n",
       "      <td>15</td>\n",
       "    </tr>\n",
       "    <tr>\n",
       "      <th>3274</th>\n",
       "      <td>2020-03-31 06:20:00+00:00</td>\n",
       "      <td>QmfMKDCBM7T8eNsX6KmfsurWUQtef3VdBM2vcXh8BAAGYa</td>\n",
       "      <td>15</td>\n",
       "    </tr>\n",
       "    <tr>\n",
       "      <th>3275</th>\n",
       "      <td>2020-03-31 06:20:00+00:00</td>\n",
       "      <td>QmPmzUNMPuj3bkVzpAZWUZnJvLCZtBxdnSqjM9uX4rZbQf</td>\n",
       "      <td>10</td>\n",
       "    </tr>\n",
       "  </tbody>\n",
       "</table>\n",
       "<p>3276 rows × 3 columns</p>\n",
       "</div>"
      ],
      "text/plain": [
       "                          time  \\\n",
       "0    2020-03-31 01:00:00+00:00   \n",
       "1    2020-03-31 01:00:00+00:00   \n",
       "2    2020-03-31 01:00:00+00:00   \n",
       "3    2020-03-31 01:00:00+00:00   \n",
       "4    2020-03-31 01:00:00+00:00   \n",
       "...                        ...   \n",
       "3271 2020-03-31 06:20:00+00:00   \n",
       "3272 2020-03-31 06:20:00+00:00   \n",
       "3273 2020-03-31 06:20:00+00:00   \n",
       "3274 2020-03-31 06:20:00+00:00   \n",
       "3275 2020-03-31 06:20:00+00:00   \n",
       "\n",
       "                                              sender  count  \n",
       "0     QmVKuF9RXEVUTcpQfLcdExFNgxaza22pXYG4tKGr59E4V4    156  \n",
       "1     QmWRqGxAch41er8JzC8jCLvEj6rfYz2pSbTrcyJhmko7no    156  \n",
       "2     QmVDPrtuHFG2WAkQVLRXQGEmQbx8FwhTY8LvM3ahbNqYhD    156  \n",
       "3     QmV8KyKF75E9FqRMnWrBGJPqHeqhxTZXAtHSe4k4iikZAP    156  \n",
       "4     QmV33UgvrQ5jf7Uhy4tjPD1rDZSXEuCb7YqeMqReUe74tr    156  \n",
       "...                                              ...    ...  \n",
       "3271  QmXaWMJYCuukwbazGr7RLUvFs9gAYG7LN74hLgWdSWUpyV     15  \n",
       "3272  QmXxdd5WcSS8DJMyGtP7a8S6vd9mgwNpxTSbsUJtF2N7WY     15  \n",
       "3273  QmZbMzrZexEZax44GSxAdKHEdcQgotm6K4Tu8X5qbWNBR1     15  \n",
       "3274  QmfMKDCBM7T8eNsX6KmfsurWUQtef3VdBM2vcXh8BAAGYa     15  \n",
       "3275  QmPmzUNMPuj3bkVzpAZWUZnJvLCZtBxdnSqjM9uX4rZbQf     10  \n",
       "\n",
       "[3276 rows x 3 columns]"
      ]
     },
     "execution_count": 13,
     "metadata": {},
     "output_type": "execute_result"
    }
   ],
   "source": [
    "agg = aggregate(df_2, 5, 'sender')\n",
    "agg.sort_values(by='count', ascending = False).reset_index(drop = True)"
   ]
  },
  {
   "cell_type": "markdown",
   "metadata": {},
   "source": [
    "### draw graphs"
   ]
  },
  {
   "cell_type": "code",
   "execution_count": 14,
   "metadata": {},
   "outputs": [
    {
     "name": "stdout",
     "output_type": "stream",
     "text": [
      "png graphs saved in ../../graphs/crash_analysis/mainnet/03-31/shard3-leader/\n",
      "html graphs saved in \n"
     ]
    },
    {
     "data": {
      "text/html": [
       "<a href='https://harmony-one.github.io/harmony-log-analysis/graphs/crash_analysis/mainnet/03-31/shard3-leader/sender.html' target='_blank'>https://harmony-one.github.io/harmony-log-analysis/graphs/crash_analysis/mainnet/03-31/shard3-leader/sender.html</a>"
      ],
      "text/plain": [
       "<IPython.core.display.HTML object>"
      ]
     },
     "metadata": {},
     "output_type": "display_data"
    },
    {
     "data": {
      "image/svg+xml": [
       "<svg class=\"main-svg\" xmlns=\"http://www.w3.org/2000/svg\" xmlns:xlink=\"http://www.w3.org/1999/xlink\" width=\"900\" height=\"500\" style=\"\" viewBox=\"0 0 900 500\"><rect x=\"0\" y=\"0\" width=\"900\" height=\"500\" style=\"fill: rgb(255, 255, 255); fill-opacity: 1;\"/><defs id=\"defs-12630b\"><g class=\"clips\"><clipPath id=\"clip12630bxyplot\" class=\"plotclip\"><rect width=\"740\" height=\"86\"/></clipPath><clipPath class=\"axesclip\" id=\"clip12630bx\"><rect x=\"80\" y=\"0\" width=\"740\" height=\"500\"/></clipPath><clipPath class=\"axesclip\" id=\"clip12630by\"><rect x=\"0\" y=\"100\" width=\"900\" height=\"86\"/></clipPath><clipPath class=\"axesclip\" id=\"clip12630bxy\"><rect x=\"80\" y=\"100\" width=\"740\" height=\"86\"/></clipPath></g><g class=\"gradients\"/></defs><g class=\"bglayer\"><rect class=\"bg\" x=\"80\" y=\"100\" width=\"740\" height=\"86\" style=\"fill: rgb(229, 236, 246); fill-opacity: 1; stroke-width: 0;\"/></g><g class=\"layer-below\"><g class=\"imagelayer\"/><g class=\"shapelayer\"/></g><g class=\"cartesianlayer\"><g class=\"subplot xy\"><g class=\"layer-subplot\"><g class=\"shapelayer\"/><g class=\"imagelayer\"/></g><g class=\"gridlayer\"><g class=\"x\"><path class=\"xgrid crisp\" transform=\"translate(152.61,0)\" d=\"M0,100v86\" style=\"stroke: rgb(255, 255, 255); stroke-opacity: 1; stroke-width: 1px;\"/><path class=\"xgrid crisp\" transform=\"translate(286.66999999999996,0)\" d=\"M0,100v86\" style=\"stroke: rgb(255, 255, 255); stroke-opacity: 1; stroke-width: 1px;\"/><path class=\"xgrid crisp\" transform=\"translate(420.72,0)\" d=\"M0,100v86\" style=\"stroke: rgb(255, 255, 255); stroke-opacity: 1; stroke-width: 1px;\"/><path class=\"xgrid crisp\" transform=\"translate(554.77,0)\" d=\"M0,100v86\" style=\"stroke: rgb(255, 255, 255); stroke-opacity: 1; stroke-width: 1px;\"/><path class=\"xgrid crisp\" transform=\"translate(688.83,0)\" d=\"M0,100v86\" style=\"stroke: rgb(255, 255, 255); stroke-opacity: 1; stroke-width: 1px;\"/></g><g class=\"y\"><path class=\"ygrid crisp\" transform=\"translate(0,160.49)\" d=\"M80,0h740\" style=\"stroke: rgb(255, 255, 255); stroke-opacity: 1; stroke-width: 1px;\"/><path class=\"ygrid crisp\" transform=\"translate(0,133.99)\" d=\"M80,0h740\" style=\"stroke: rgb(255, 255, 255); stroke-opacity: 1; stroke-width: 1px;\"/><path class=\"ygrid crisp\" transform=\"translate(0,107.48)\" d=\"M80,0h740\" style=\"stroke: rgb(255, 255, 255); stroke-opacity: 1; stroke-width: 1px;\"/></g></g><g class=\"zerolinelayer\"/><path class=\"xlines-below\"/><path class=\"ylines-below\"/><g class=\"overlines-below\"/><g class=\"xaxislayer-below\"/><g class=\"yaxislayer-below\"/><g class=\"overaxes-below\"/><g class=\"plot\" transform=\"translate(80, 100)\" clip-path=\"url('#clip12630bxyplot')\"><g class=\"scatterlayer mlayer\"><g class=\"trace scatter trace6af361\" style=\"stroke-miterlimit: 2; opacity: 1;\"><g class=\"fills\"/><g class=\"errorbars\"/><g class=\"lines\"/><g class=\"points\"/><g class=\"text\"><g class=\"textpoint\" transform=\"translate(0,3)\"><text x=\"363.72\" y=\"80.64\" text-anchor=\"middle\" style=\"font-family: 'Open Sans', verdana, arial, sans-serif; font-size: 12px; fill: rgb(42, 63, 95); fill-opacity: 1; white-space: pre;\">ResetViewChange</text></g><g class=\"textpoint\" transform=\"translate(0,3)\"><text x=\"468.29\" y=\"69.29\" text-anchor=\"middle\" style=\"font-family: 'Open Sans', verdana, arial, sans-serif; font-size: 12px; fill: rgb(42, 63, 95); fill-opacity: 1; white-space: pre;\">NewView</text></g><g class=\"textpoint\" transform=\"translate(0,3)\"><text x=\"425.97\" y=\"57.95\" text-anchor=\"middle\" style=\"font-family: 'Open Sans', verdana, arial, sans-serif; font-size: 12px; fill: rgb(42, 63, 95); fill-opacity: 1; white-space: pre;\">StartViewChange</text></g><g class=\"textpoint\" transform=\"translate(0,3)\"><text x=\"703\" y=\"46.6\" text-anchor=\"middle\" style=\"font-family: 'Open Sans', verdana, arial, sans-serif; font-size: 12px; fill: rgb(42, 63, 95); fill-opacity: 1; white-space: pre;\">Shard 0 stuck!</text></g><g class=\"textpoint\" transform=\"translate(0,3)\"><text x=\"694.6\" y=\"35.26\" text-anchor=\"middle\" style=\"font-family: 'Open Sans', verdana, arial, sans-serif; font-size: 12px; fill: rgb(42, 63, 95); fill-opacity: 1; white-space: pre;\">Shard 2 stuck!</text></g><g class=\"textpoint\" transform=\"translate(0,3)\"><text x=\"424.78\" y=\"23.92\" text-anchor=\"middle\" style=\"font-family: 'Open Sans', verdana, arial, sans-serif; font-size: 12px; fill: rgb(42, 63, 95); fill-opacity: 1; white-space: pre;\">Shard 3 stuck!</text></g><g class=\"textpoint\" transform=\"translate(0,3)\"><text x=\"424.95\" y=\"12.57\" text-anchor=\"middle\" style=\"font-family: 'Open Sans', verdana, arial, sans-serif; font-size: 12px; fill: rgb(42, 63, 95); fill-opacity: 1; white-space: pre;\">Shard 1 stuck!</text></g></g></g></g></g><g class=\"overplot\"/><path class=\"xlines-above crisp\" style=\"fill: none;\" d=\"M0,0\"/><path class=\"ylines-above crisp\" style=\"fill: none;\" d=\"M0,0\"/><g class=\"overlines-above\"/><g class=\"xaxislayer-above\"><g class=\"xtick\"><text text-anchor=\"middle\" x=\"0\" y=\"199\" transform=\"translate(152.61,0)\" style=\"font-family: 'Open Sans', verdana, arial, sans-serif; font-size: 12px; fill: rgb(42, 63, 95); fill-opacity: 1; white-space: pre;\"><tspan class=\"line\" dy=\"0em\" x=\"0\" y=\"199\">02:00</tspan><tspan class=\"line\" dy=\"1.3em\" x=\"0\" y=\"199\">Mar 31, 2020</tspan></text></g><g class=\"xtick\"><text text-anchor=\"middle\" x=\"0\" y=\"199\" transform=\"translate(286.66999999999996,0)\" style=\"font-family: 'Open Sans', verdana, arial, sans-serif; font-size: 12px; fill: rgb(42, 63, 95); fill-opacity: 1; white-space: pre;\">04:00</text></g><g class=\"xtick\"><text text-anchor=\"middle\" x=\"0\" y=\"199\" transform=\"translate(420.72,0)\" style=\"font-family: 'Open Sans', verdana, arial, sans-serif; font-size: 12px; fill: rgb(42, 63, 95); fill-opacity: 1; white-space: pre;\">06:00</text></g><g class=\"xtick\"><text text-anchor=\"middle\" x=\"0\" y=\"199\" transform=\"translate(554.77,0)\" style=\"font-family: 'Open Sans', verdana, arial, sans-serif; font-size: 12px; fill: rgb(42, 63, 95); fill-opacity: 1; white-space: pre;\">08:00</text></g><g class=\"xtick\"><text text-anchor=\"middle\" x=\"0\" y=\"199\" transform=\"translate(688.83,0)\" style=\"font-family: 'Open Sans', verdana, arial, sans-serif; font-size: 12px; fill: rgb(42, 63, 95); fill-opacity: 1; white-space: pre;\">10:00</text></g></g><g class=\"yaxislayer-above\"><g class=\"ytick\"><text text-anchor=\"end\" x=\"79\" y=\"4.199999999999999\" transform=\"translate(0,160.49)\" style=\"font-family: 'Open Sans', verdana, arial, sans-serif; font-size: 12px; fill: rgb(42, 63, 95); fill-opacity: 1; white-space: pre;\">50</text></g><g class=\"ytick\"><text text-anchor=\"end\" x=\"79\" y=\"4.199999999999999\" transform=\"translate(0,133.99)\" style=\"font-family: 'Open Sans', verdana, arial, sans-serif; font-size: 12px; fill: rgb(42, 63, 95); fill-opacity: 1; white-space: pre;\">100</text></g><g class=\"ytick\"><text text-anchor=\"end\" x=\"79\" y=\"4.199999999999999\" transform=\"translate(0,107.48)\" style=\"font-family: 'Open Sans', verdana, arial, sans-serif; font-size: 12px; fill: rgb(42, 63, 95); fill-opacity: 1; white-space: pre;\">150</text></g></g><g class=\"overaxes-above\"/></g></g><g class=\"polarlayer\"/><g class=\"ternarylayer\"/><g class=\"geolayer\"/><g class=\"funnelarealayer\"/><g class=\"pielayer\"/><g class=\"treemaplayer\"/><g class=\"sunburstlayer\"/><g class=\"glimages\"><image xmlns=\"http://www.w3.org/2000/svg\" xlink:href=\"data:image/png;base64,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\" preserveAspectRatio=\"none\" x=\"0\" y=\"0\" width=\"900\" height=\"500\"/><image xmlns=\"http://www.w3.org/2000/svg\" xlink:href=\"data:image/png;base64,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\" preserveAspectRatio=\"none\" x=\"0\" y=\"0\" width=\"900\" height=\"500\"/></g><defs id=\"topdefs-12630b\"><g class=\"clips\"/><clipPath id=\"legend12630b\"><rect width=\"859\" height=\"250\" x=\"0\" y=\"0\"/></clipPath></defs><g class=\"layer-above\"><g class=\"imagelayer\"/><g class=\"shapelayer\"><path data-index=\"0\" fill-rule=\"evenodd\" d=\"M783,186L783,100\" clip-path=\"url('#clip12630bx')\" style=\"opacity: 1; stroke: rgb(42, 63, 95); stroke-opacity: 1; fill: rgb(0, 0, 0); fill-opacity: 0; stroke-width: 0.5px;\"/><path data-index=\"1\" fill-rule=\"evenodd\" d=\"M774.6,186L774.6,100\" clip-path=\"url('#clip12630bx')\" style=\"opacity: 1; stroke: rgb(42, 63, 95); stroke-opacity: 1; fill: rgb(0, 0, 0); fill-opacity: 0; stroke-width: 0.5px;\"/><path data-index=\"2\" fill-rule=\"evenodd\" d=\"M504.78,186L504.78,100\" clip-path=\"url('#clip12630bx')\" style=\"opacity: 1; stroke: rgb(42, 63, 95); stroke-opacity: 1; fill: rgb(0, 0, 0); fill-opacity: 0; stroke-width: 0.5px;\"/><path data-index=\"3\" fill-rule=\"evenodd\" d=\"M504.95,186L504.95,100\" clip-path=\"url('#clip12630bx')\" style=\"opacity: 1; stroke: rgb(42, 63, 95); stroke-opacity: 1; fill: rgb(0, 0, 0); fill-opacity: 0; stroke-width: 0.5px;\"/><path data-index=\"4\" fill-rule=\"evenodd\" d=\"M505.97,186L505.97,100\" clip-path=\"url('#clip12630bx')\" style=\"opacity: 1; stroke: rgb(147, 112, 219); stroke-opacity: 1; fill: rgb(0, 0, 0); fill-opacity: 0; stroke-dasharray: 9px, 3px, 3px, 3px; stroke-width: 0.5px;\"/><path data-index=\"5\" fill-rule=\"evenodd\" d=\"M507.86,186L507.86,100\" clip-path=\"url('#clip12630bx')\" style=\"opacity: 1; stroke: rgb(147, 112, 219); stroke-opacity: 1; fill: rgb(0, 0, 0); fill-opacity: 0; stroke-dasharray: 9px, 3px, 3px, 3px; stroke-width: 0.5px;\"/><path data-index=\"6\" fill-rule=\"evenodd\" d=\"M509.04,186L509.04,100\" clip-path=\"url('#clip12630bx')\" style=\"opacity: 1; stroke: rgb(147, 112, 219); stroke-opacity: 1; fill: rgb(0, 0, 0); fill-opacity: 0; stroke-dasharray: 9px, 3px, 3px, 3px; stroke-width: 0.5px;\"/><path data-index=\"7\" fill-rule=\"evenodd\" d=\"M541.6,186L541.6,100\" clip-path=\"url('#clip12630bx')\" style=\"opacity: 1; stroke: rgb(147, 112, 219); stroke-opacity: 1; fill: rgb(0, 0, 0); fill-opacity: 0; stroke-dasharray: 9px, 3px, 3px, 3px; stroke-width: 0.5px;\"/><path data-index=\"8\" fill-rule=\"evenodd\" d=\"M548.24,186L548.24,100\" clip-path=\"url('#clip12630bx')\" style=\"opacity: 1; stroke: rgb(147, 112, 219); stroke-opacity: 1; fill: rgb(0, 0, 0); fill-opacity: 0; stroke-dasharray: 9px, 3px, 3px, 3px; stroke-width: 0.5px;\"/><path data-index=\"9\" fill-rule=\"evenodd\" d=\"M553.26,186L553.26,100\" clip-path=\"url('#clip12630bx')\" style=\"opacity: 1; stroke: rgb(147, 112, 219); stroke-opacity: 1; fill: rgb(0, 0, 0); fill-opacity: 0; stroke-dasharray: 9px, 3px, 3px, 3px; stroke-width: 0.5px;\"/><path data-index=\"10\" fill-rule=\"evenodd\" d=\"M554.4200000000001,186L554.4200000000001,100\" clip-path=\"url('#clip12630bx')\" style=\"opacity: 1; stroke: rgb(147, 112, 219); stroke-opacity: 1; fill: rgb(0, 0, 0); fill-opacity: 0; stroke-dasharray: 9px, 3px, 3px, 3px; stroke-width: 0.5px;\"/><path data-index=\"11\" fill-rule=\"evenodd\" d=\"M558.94,186L558.94,100\" clip-path=\"url('#clip12630bx')\" style=\"opacity: 1; stroke: rgb(147, 112, 219); stroke-opacity: 1; fill: rgb(0, 0, 0); fill-opacity: 0; stroke-dasharray: 9px, 3px, 3px, 3px; stroke-width: 0.5px;\"/><path data-index=\"12\" fill-rule=\"evenodd\" d=\"M569.05,186L569.05,100\" clip-path=\"url('#clip12630bx')\" style=\"opacity: 1; stroke: rgb(147, 112, 219); stroke-opacity: 1; fill: rgb(0, 0, 0); fill-opacity: 0; stroke-dasharray: 9px, 3px, 3px, 3px; stroke-width: 0.5px;\"/><path data-index=\"13\" fill-rule=\"evenodd\" d=\"M586.72,186L586.72,100\" clip-path=\"url('#clip12630bx')\" style=\"opacity: 1; stroke: rgb(147, 112, 219); stroke-opacity: 1; fill: rgb(0, 0, 0); fill-opacity: 0; stroke-dasharray: 9px, 3px, 3px, 3px; stroke-width: 0.5px;\"/><path data-index=\"14\" fill-rule=\"evenodd\" d=\"M513.56,186L513.56,100\" clip-path=\"url('#clip12630bx')\" style=\"opacity: 1; stroke: rgb(147, 112, 219); stroke-opacity: 1; fill: rgb(0, 0, 0); fill-opacity: 0; stroke-dasharray: 9px, 3px, 3px, 3px; stroke-width: 0.5px;\"/><path data-index=\"15\" fill-rule=\"evenodd\" d=\"M523.6700000000001,186L523.6700000000001,100\" clip-path=\"url('#clip12630bx')\" style=\"opacity: 1; stroke: rgb(147, 112, 219); stroke-opacity: 1; fill: rgb(0, 0, 0); fill-opacity: 0; stroke-dasharray: 9px, 3px, 3px, 3px; stroke-width: 0.5px;\"/><path data-index=\"16\" fill-rule=\"evenodd\" d=\"M443.72,186L443.72,100\" clip-path=\"url('#clip12630bx')\" style=\"opacity: 0.5; stroke: rgb(65, 105, 225); stroke-opacity: 1; fill: rgb(0, 0, 0); fill-opacity: 0; stroke-dasharray: 15px, 15px; stroke-width: 0.5px;\"/><path data-index=\"17\" fill-rule=\"evenodd\" d=\"M443.73,186L443.73,100\" clip-path=\"url('#clip12630bx')\" style=\"opacity: 0.5; stroke: rgb(65, 105, 225); stroke-opacity: 1; fill: rgb(0, 0, 0); fill-opacity: 0; stroke-dasharray: 15px, 15px; stroke-width: 0.5px;\"/><path data-index=\"18\" fill-rule=\"evenodd\" d=\"M449.31,186L449.31,100\" clip-path=\"url('#clip12630bx')\" style=\"opacity: 0.5; stroke: rgb(65, 105, 225); stroke-opacity: 1; fill: rgb(0, 0, 0); fill-opacity: 0; stroke-dasharray: 15px, 15px; stroke-width: 0.5px;\"/><path data-index=\"19\" fill-rule=\"evenodd\" d=\"M454.19,186L454.19,100\" clip-path=\"url('#clip12630bx')\" style=\"opacity: 0.5; stroke: rgb(65, 105, 225); stroke-opacity: 1; fill: rgb(0, 0, 0); fill-opacity: 0; stroke-dasharray: 15px, 15px; stroke-width: 0.5px;\"/><path data-index=\"20\" fill-rule=\"evenodd\" d=\"M455.41,186L455.41,100\" clip-path=\"url('#clip12630bx')\" style=\"opacity: 0.5; stroke: rgb(65, 105, 225); stroke-opacity: 1; fill: rgb(0, 0, 0); fill-opacity: 0; stroke-dasharray: 15px, 15px; stroke-width: 0.5px;\"/><path data-index=\"21\" fill-rule=\"evenodd\" d=\"M455.46,186L455.46,100\" clip-path=\"url('#clip12630bx')\" style=\"opacity: 0.5; stroke: rgb(65, 105, 225); stroke-opacity: 1; fill: rgb(0, 0, 0); fill-opacity: 0; stroke-dasharray: 15px, 15px; stroke-width: 0.5px;\"/><path data-index=\"22\" fill-rule=\"evenodd\" d=\"M455.47,186L455.47,100\" clip-path=\"url('#clip12630bx')\" style=\"opacity: 0.5; stroke: rgb(65, 105, 225); stroke-opacity: 1; fill: rgb(0, 0, 0); fill-opacity: 0; stroke-dasharray: 15px, 15px; stroke-width: 0.5px;\"/><path data-index=\"23\" fill-rule=\"evenodd\" d=\"M456.71,186L456.71,100\" clip-path=\"url('#clip12630bx')\" style=\"opacity: 0.5; stroke: rgb(65, 105, 225); stroke-opacity: 1; fill: rgb(0, 0, 0); fill-opacity: 0; stroke-dasharray: 15px, 15px; stroke-width: 0.5px;\"/><path data-index=\"24\" fill-rule=\"evenodd\" d=\"M456.74,186L456.74,100\" clip-path=\"url('#clip12630bx')\" style=\"opacity: 0.5; stroke: rgb(65, 105, 225); stroke-opacity: 1; fill: rgb(0, 0, 0); fill-opacity: 0; stroke-dasharray: 15px, 15px; stroke-width: 0.5px;\"/><path data-index=\"25\" fill-rule=\"evenodd\" d=\"M456.75,186L456.75,100\" clip-path=\"url('#clip12630bx')\" style=\"opacity: 0.5; stroke: rgb(65, 105, 225); stroke-opacity: 1; fill: rgb(0, 0, 0); fill-opacity: 0; stroke-dasharray: 15px, 15px; stroke-width: 0.5px;\"/><path data-index=\"26\" fill-rule=\"evenodd\" d=\"M506.34,186L506.34,100\" clip-path=\"url('#clip12630bx')\" style=\"opacity: 0.5; stroke: rgb(65, 105, 225); stroke-opacity: 1; fill: rgb(0, 0, 0); fill-opacity: 0; stroke-dasharray: 15px, 15px; stroke-width: 0.5px;\"/><path data-index=\"27\" fill-rule=\"evenodd\" d=\"M506.4,186L506.4,100\" clip-path=\"url('#clip12630bx')\" style=\"opacity: 0.5; stroke: rgb(65, 105, 225); stroke-opacity: 1; fill: rgb(0, 0, 0); fill-opacity: 0; stroke-dasharray: 15px, 15px; stroke-width: 0.5px;\"/><path data-index=\"28\" fill-rule=\"evenodd\" d=\"M506.44,186L506.44,100\" clip-path=\"url('#clip12630bx')\" style=\"opacity: 0.5; stroke: rgb(65, 105, 225); stroke-opacity: 1; fill: rgb(0, 0, 0); fill-opacity: 0; stroke-dasharray: 15px, 15px; stroke-width: 0.5px;\"/><path data-index=\"29\" fill-rule=\"evenodd\" d=\"M506.49,186L506.49,100\" clip-path=\"url('#clip12630bx')\" style=\"opacity: 0.5; stroke: rgb(65, 105, 225); stroke-opacity: 1; fill: rgb(0, 0, 0); fill-opacity: 0; stroke-dasharray: 15px, 15px; stroke-width: 0.5px;\"/><path data-index=\"30\" fill-rule=\"evenodd\" d=\"M506.53,186L506.53,100\" clip-path=\"url('#clip12630bx')\" style=\"opacity: 0.5; stroke: rgb(65, 105, 225); stroke-opacity: 1; fill: rgb(0, 0, 0); fill-opacity: 0; stroke-dasharray: 15px, 15px; stroke-width: 0.5px;\"/><path data-index=\"31\" fill-rule=\"evenodd\" d=\"M467.06,186L467.06,100\" clip-path=\"url('#clip12630bx')\" style=\"opacity: 0.5; stroke: rgb(65, 105, 225); stroke-opacity: 1; fill: rgb(0, 0, 0); fill-opacity: 0; stroke-dasharray: 15px, 15px; stroke-width: 0.5px;\"/><path data-index=\"32\" fill-rule=\"evenodd\" d=\"M547.0899999999999,186L547.0899999999999,100\" clip-path=\"url('#clip12630bx')\" style=\"opacity: 0.5; stroke: rgb(65, 105, 225); stroke-opacity: 1; fill: rgb(0, 0, 0); fill-opacity: 0; stroke-dasharray: 15px, 15px; stroke-width: 0.5px;\"/><path data-index=\"33\" fill-rule=\"evenodd\" d=\"M547.1,186L547.1,100\" clip-path=\"url('#clip12630bx')\" style=\"opacity: 0.5; stroke: rgb(65, 105, 225); stroke-opacity: 1; fill: rgb(0, 0, 0); fill-opacity: 0; stroke-dasharray: 15px, 15px; stroke-width: 0.5px;\"/><path data-index=\"34\" fill-rule=\"evenodd\" d=\"M548.29,186L548.29,100\" clip-path=\"url('#clip12630bx')\" style=\"opacity: 0.5; stroke: rgb(65, 105, 225); stroke-opacity: 1; fill: rgb(0, 0, 0); fill-opacity: 0; stroke-dasharray: 15px, 15px; stroke-width: 0.5px;\"/><path data-index=\"35\" fill-rule=\"evenodd\" d=\"M552.39,186L552.39,100\" clip-path=\"url('#clip12630bx')\" style=\"opacity: 0.5; stroke: rgb(65, 105, 225); stroke-opacity: 1; fill: rgb(0, 0, 0); fill-opacity: 0; stroke-dasharray: 15px, 15px; stroke-width: 0.5px;\"/><path data-index=\"36\" fill-rule=\"evenodd\" d=\"M552.4,186L552.4,100\" clip-path=\"url('#clip12630bx')\" style=\"opacity: 0.5; stroke: rgb(65, 105, 225); stroke-opacity: 1; fill: rgb(0, 0, 0); fill-opacity: 0; stroke-dasharray: 15px, 15px; stroke-width: 0.5px;\"/><path data-index=\"37\" fill-rule=\"evenodd\" d=\"M584.69,186L584.69,100\" clip-path=\"url('#clip12630bx')\" style=\"opacity: 0.5; stroke: rgb(65, 105, 225); stroke-opacity: 1; fill: rgb(0, 0, 0); fill-opacity: 0; stroke-dasharray: 15px, 15px; stroke-width: 0.5px;\"/><path data-index=\"38\" fill-rule=\"evenodd\" d=\"M584.7,186L584.7,100\" clip-path=\"url('#clip12630bx')\" style=\"opacity: 0.5; stroke: rgb(65, 105, 225); stroke-opacity: 1; fill: rgb(0, 0, 0); fill-opacity: 0; stroke-dasharray: 15px, 15px; stroke-width: 0.5px;\"/><path data-index=\"39\" fill-rule=\"evenodd\" d=\"M586.75,186L586.75,100\" clip-path=\"url('#clip12630bx')\" style=\"opacity: 0.5; stroke: rgb(65, 105, 225); stroke-opacity: 1; fill: rgb(0, 0, 0); fill-opacity: 0; stroke-dasharray: 15px, 15px; stroke-width: 0.5px;\"/><path data-index=\"40\" fill-rule=\"evenodd\" d=\"M548.29,186L548.29,100\" clip-path=\"url('#clip12630bx')\" style=\"opacity: 1; stroke: rgb(32, 178, 170); stroke-opacity: 1; fill: rgb(0, 0, 0); fill-opacity: 0; stroke-width: 0.5px;\"/><path data-index=\"41\" fill-rule=\"evenodd\" d=\"M569.1,186L569.1,100\" clip-path=\"url('#clip12630bx')\" style=\"opacity: 1; stroke: rgb(32, 178, 170); stroke-opacity: 1; fill: rgb(0, 0, 0); fill-opacity: 0; stroke-width: 0.5px;\"/><path data-index=\"42\" fill-rule=\"evenodd\" d=\"M586.75,186L586.75,100\" clip-path=\"url('#clip12630bx')\" style=\"opacity: 1; stroke: rgb(32, 178, 170); stroke-opacity: 1; fill: rgb(0, 0, 0); fill-opacity: 0; stroke-width: 0.5px;\"/></g></g><g class=\"infolayer\"><g class=\"legend\" pointer-events=\"all\" transform=\"translate(41, 237.6)\"><rect class=\"bg\" shape-rendering=\"crispEdges\" style=\"stroke: rgb(68, 68, 68); stroke-opacity: 1; fill: rgb(255, 255, 255); fill-opacity: 1; stroke-width: 0px;\" width=\"859\" height=\"250\" x=\"0\" y=\"0\"/><g class=\"scrollbox\" transform=\"translate(0, 0)\" clip-path=\"url('#legend12630b')\"><text class=\"legendtitletext user-select-none\" text-anchor=\"start\" x=\"2\" y=\"15.600000000000001\" style=\"font-family: 'Open Sans', verdana, arial, sans-serif; font-size: 12px; fill: rgb(42, 63, 95); fill-opacity: 1; white-space: pre;\">sender</text><g class=\"groups\" transform=\"translate(0, 0)\"><g class=\"traces\" transform=\"translate(41.25, 14.5)\" style=\"opacity: 1;\"><text class=\"legendtext user-select-none\" text-anchor=\"start\" x=\"40\" y=\"4.680000000000001\" style=\"font-family: 'Open Sans', verdana, arial, sans-serif; font-size: 12px; fill: rgb(42, 63, 95); fill-opacity: 1; white-space: pre;\">QmNn7YtPELpRR67n2286YvjGhKvcoaqErr5TAWXjWShKHG</text><g class=\"layers\" style=\"opacity: 1;\"><g class=\"legendfill\"/><g class=\"legendlines\"><path class=\"js-line\" d=\"M5,0h30\" style=\"fill: none; stroke: rgb(102, 194, 165); stroke-opacity: 1; stroke-width: 2px;\"/></g><g class=\"legendsymbols\"><g class=\"legendpoints\"/></g></g><rect class=\"legendtoggle\" pointer-events=\"all\" x=\"0\" y=\"-9.5\" width=\"393.171875\" height=\"19\" style=\"cursor: pointer; fill: rgb(0, 0, 0); fill-opacity: 0;\"/></g></g><g class=\"groups\" transform=\"translate(395.671875, 0)\"><g class=\"traces\" transform=\"translate(41.25, 14.5)\" style=\"opacity: 1;\"><text class=\"legendtext user-select-none\" text-anchor=\"start\" x=\"40\" y=\"4.680000000000001\" style=\"font-family: 'Open Sans', verdana, arial, sans-serif; font-size: 12px; fill: rgb(42, 63, 95); fill-opacity: 1; white-space: pre;\">QmZft5PhMxZoQx1sczcXtSt2tD4bFhjLCQWSoQPzTbz5GX</text><g class=\"layers\" style=\"opacity: 1;\"><g class=\"legendfill\"/><g class=\"legendlines\"><path class=\"js-line\" d=\"M5,0h30\" style=\"fill: none; stroke: rgb(252, 141, 98); stroke-opacity: 1; stroke-width: 2px;\"/></g><g class=\"legendsymbols\"><g class=\"legendpoints\"/></g></g><rect class=\"legendtoggle\" pointer-events=\"all\" x=\"0\" y=\"-9.5\" width=\"386.640625\" height=\"19\" style=\"cursor: pointer; fill: rgb(0, 0, 0); fill-opacity: 0;\"/></g></g><g class=\"groups\" transform=\"translate(0, 19)\"><g class=\"traces\" transform=\"translate(41.25, 14.5)\" style=\"opacity: 1;\"><text class=\"legendtext user-select-none\" text-anchor=\"start\" x=\"40\" y=\"4.680000000000001\" style=\"font-family: 'Open Sans', verdana, arial, sans-serif; font-size: 12px; fill: rgb(42, 63, 95); fill-opacity: 1; white-space: pre;\">Qma2SgMTYfMpXMsWhPWzoyFNFfQXJfy86gnRvuNGZz5wqg</text><g class=\"layers\" style=\"opacity: 1;\"><g class=\"legendfill\"/><g class=\"legendlines\"><path class=\"js-line\" d=\"M5,0h30\" style=\"fill: none; stroke: rgb(141, 160, 203); stroke-opacity: 1; stroke-width: 2px;\"/></g><g class=\"legendsymbols\"><g class=\"legendpoints\"/></g></g><rect class=\"legendtoggle\" pointer-events=\"all\" x=\"0\" y=\"-9.5\" width=\"403.5625\" height=\"19\" style=\"cursor: pointer; fill: rgb(0, 0, 0); fill-opacity: 0;\"/></g></g><g class=\"groups\" transform=\"translate(406.0625, 19)\"><g class=\"traces\" transform=\"translate(41.25, 14.5)\" style=\"opacity: 1;\"><text class=\"legendtext user-select-none\" text-anchor=\"start\" x=\"40\" y=\"4.680000000000001\" style=\"font-family: 'Open Sans', verdana, arial, sans-serif; font-size: 12px; fill: rgb(42, 63, 95); fill-opacity: 1; white-space: pre;\">QmbTGHArwmkbGXFotcfMqz6hwrChQeacWMQfXJs8uYYpvS</text><g class=\"layers\" style=\"opacity: 1;\"><g class=\"legendfill\"/><g class=\"legendlines\"><path class=\"js-line\" d=\"M5,0h30\" style=\"fill: none; stroke: rgb(231, 138, 195); stroke-opacity: 1; stroke-width: 2px;\"/></g><g class=\"legendsymbols\"><g class=\"legendpoints\"/></g></g><rect class=\"legendtoggle\" pointer-events=\"all\" x=\"0\" y=\"-9.5\" width=\"400.140625\" height=\"19\" style=\"cursor: pointer; fill: rgb(0, 0, 0); fill-opacity: 0;\"/></g></g><g class=\"groups\" transform=\"translate(0, 38)\"><g class=\"traces\" transform=\"translate(41.25, 14.5)\" style=\"opacity: 1;\"><text class=\"legendtext user-select-none\" text-anchor=\"start\" x=\"40\" y=\"4.680000000000001\" style=\"font-family: 'Open Sans', verdana, arial, sans-serif; font-size: 12px; fill: rgb(42, 63, 95); fill-opacity: 1; white-space: pre;\">QmbTi827JGQQQvoHVZYMpSAo5mGQXB3NkkW4UQRDHJ1pHv</text><g class=\"layers\" style=\"opacity: 1;\"><g class=\"legendfill\"/><g class=\"legendlines\"><path class=\"js-line\" d=\"M5,0h30\" style=\"fill: none; stroke: rgb(166, 216, 84); stroke-opacity: 1; stroke-width: 2px;\"/></g><g class=\"legendsymbols\"><g class=\"legendpoints\"/></g></g><rect class=\"legendtoggle\" pointer-events=\"all\" x=\"0\" y=\"-9.5\" width=\"418.28125\" height=\"19\" style=\"cursor: pointer; fill: rgb(0, 0, 0); fill-opacity: 0;\"/></g></g><g class=\"groups\" transform=\"translate(420.78125, 38)\"><g class=\"traces\" transform=\"translate(41.25, 14.5)\" style=\"opacity: 1;\"><text class=\"legendtext user-select-none\" text-anchor=\"start\" x=\"40\" y=\"4.680000000000001\" style=\"font-family: 'Open Sans', verdana, arial, sans-serif; font-size: 12px; fill: rgb(42, 63, 95); fill-opacity: 1; white-space: pre;\">Qmbn8cnTyaMckeuebDy9uj2honRotnCjLXCVphWsT9xifW</text><g class=\"layers\" style=\"opacity: 1;\"><g class=\"legendfill\"/><g class=\"legendlines\"><path class=\"js-line\" d=\"M5,0h30\" style=\"fill: none; stroke: rgb(255, 217, 47); stroke-opacity: 1; stroke-width: 2px;\"/></g><g class=\"legendsymbols\"><g class=\"legendpoints\"/></g></g><rect class=\"legendtoggle\" pointer-events=\"all\" x=\"0\" y=\"-9.5\" width=\"383.9375\" height=\"19\" style=\"cursor: pointer; fill: rgb(0, 0, 0); fill-opacity: 0;\"/></g></g><g class=\"groups\" transform=\"translate(0, 57)\"><g class=\"traces\" transform=\"translate(41.25, 14.5)\" style=\"opacity: 1;\"><text class=\"legendtext user-select-none\" text-anchor=\"start\" x=\"40\" y=\"4.680000000000001\" style=\"font-family: 'Open Sans', verdana, arial, sans-serif; font-size: 12px; fill: rgb(42, 63, 95); fill-opacity: 1; white-space: pre;\">QmbpwDkcizYojr9Z33YrjfKetAnpTNJhD3jymaW161Rnw3</text><g class=\"layers\" style=\"opacity: 1;\"><g class=\"legendfill\"/><g class=\"legendlines\"><path class=\"js-line\" d=\"M5,0h30\" style=\"fill: none; stroke: rgb(229, 196, 148); stroke-opacity: 1; stroke-width: 2px;\"/></g><g class=\"legendsymbols\"><g class=\"legendpoints\"/></g></g><rect class=\"legendtoggle\" pointer-events=\"all\" x=\"0\" y=\"-9.5\" width=\"378.15625\" height=\"19\" style=\"cursor: pointer; fill: rgb(0, 0, 0); fill-opacity: 0;\"/></g></g><g class=\"groups\" transform=\"translate(380.65625, 57)\"><g class=\"traces\" transform=\"translate(41.25, 14.5)\" style=\"opacity: 1;\"><text class=\"legendtext user-select-none\" text-anchor=\"start\" x=\"40\" y=\"4.680000000000001\" style=\"font-family: 'Open Sans', verdana, arial, sans-serif; font-size: 12px; fill: rgb(42, 63, 95); fill-opacity: 1; white-space: pre;\">Qmbx5dS6TSTTRc8ojYUiRh6XyyNk19c7euFQUD4fZosy2a</text><g class=\"layers\" style=\"opacity: 1;\"><g class=\"legendfill\"/><g class=\"legendlines\"><path class=\"js-line\" d=\"M5,0h30\" style=\"fill: none; stroke: rgb(179, 179, 179); stroke-opacity: 1; stroke-width: 2px;\"/></g><g class=\"legendsymbols\"><g class=\"legendpoints\"/></g></g><rect class=\"legendtoggle\" pointer-events=\"all\" x=\"0\" y=\"-9.5\" width=\"387.5\" height=\"19\" style=\"cursor: pointer; fill: rgb(0, 0, 0); fill-opacity: 0;\"/></g></g><g class=\"groups\" transform=\"translate(0, 76)\"><g class=\"traces\" transform=\"translate(41.25, 14.5)\" style=\"opacity: 1;\"><text class=\"legendtext user-select-none\" text-anchor=\"start\" x=\"40\" y=\"4.680000000000001\" style=\"font-family: 'Open Sans', verdana, arial, sans-serif; font-size: 12px; fill: rgb(42, 63, 95); fill-opacity: 1; white-space: pre;\">Qmc9APCjJaoXrLUpBg4b8WPrP3Hwo8XSwktyfXsr6CTmH2</text><g class=\"layers\" style=\"opacity: 1;\"><g class=\"legendfill\"/><g class=\"legendlines\"><path class=\"js-line\" d=\"M5,0h30\" style=\"fill: none; stroke: rgb(102, 194, 165); stroke-opacity: 1; stroke-width: 2px;\"/></g><g class=\"legendsymbols\"><g class=\"legendpoints\"/></g></g><rect class=\"legendtoggle\" pointer-events=\"all\" x=\"0\" y=\"-9.5\" width=\"389.890625\" height=\"19\" style=\"cursor: pointer; fill: rgb(0, 0, 0); fill-opacity: 0;\"/></g></g><g class=\"groups\" transform=\"translate(392.390625, 76)\"><g class=\"traces\" transform=\"translate(41.25, 14.5)\" style=\"opacity: 1;\"><text class=\"legendtext user-select-none\" text-anchor=\"start\" x=\"40\" y=\"4.680000000000001\" style=\"font-family: 'Open Sans', verdana, arial, sans-serif; font-size: 12px; fill: rgb(42, 63, 95); fill-opacity: 1; white-space: pre;\">QmceFguqK5V3yzokgnFrUkW9W3ydV4zu51XrCMf1gPC5Wr</text><g class=\"layers\" style=\"opacity: 1;\"><g class=\"legendfill\"/><g class=\"legendlines\"><path class=\"js-line\" d=\"M5,0h30\" style=\"fill: none; stroke: rgb(252, 141, 98); stroke-opacity: 1; stroke-width: 2px;\"/></g><g class=\"legendsymbols\"><g class=\"legendpoints\"/></g></g><rect class=\"legendtoggle\" pointer-events=\"all\" x=\"0\" y=\"-9.5\" width=\"398\" height=\"19\" style=\"cursor: pointer; fill: rgb(0, 0, 0); fill-opacity: 0;\"/></g></g><g class=\"groups\" transform=\"translate(0, 95)\"><g class=\"traces\" transform=\"translate(41.25, 14.5)\" style=\"opacity: 1;\"><text class=\"legendtext user-select-none\" text-anchor=\"start\" x=\"40\" y=\"4.680000000000001\" style=\"font-family: 'Open Sans', verdana, arial, sans-serif; font-size: 12px; fill: rgb(42, 63, 95); fill-opacity: 1; white-space: pre;\">Qmcxvs5mcDHu5S83t8Z1JqztPVsP2AzzusYy7U2GfHdgmF</text><g class=\"layers\" style=\"opacity: 1;\"><g class=\"legendfill\"/><g class=\"legendlines\"><path class=\"js-line\" d=\"M5,0h30\" style=\"fill: none; stroke: rgb(141, 160, 203); stroke-opacity: 1; stroke-width: 2px;\"/></g><g class=\"legendsymbols\"><g class=\"legendpoints\"/></g></g><rect class=\"legendtoggle\" pointer-events=\"all\" x=\"0\" y=\"-9.5\" width=\"389.546875\" height=\"19\" style=\"cursor: pointer; fill: rgb(0, 0, 0); fill-opacity: 0;\"/></g></g><g class=\"groups\" transform=\"translate(392.046875, 95)\"><g class=\"traces\" transform=\"translate(41.25, 14.5)\" style=\"opacity: 1;\"><text class=\"legendtext user-select-none\" text-anchor=\"start\" x=\"40\" y=\"4.680000000000001\" style=\"font-family: 'Open Sans', verdana, arial, sans-serif; font-size: 12px; fill: rgb(42, 63, 95); fill-opacity: 1; white-space: pre;\">QmdB3AhjX9snFsynMkp53VgE8tEnqztcbBN8fS5S9jhwGd</text><g class=\"layers\" style=\"opacity: 1;\"><g class=\"legendfill\"/><g class=\"legendlines\"><path class=\"js-line\" d=\"M5,0h30\" style=\"fill: none; stroke: rgb(231, 138, 195); stroke-opacity: 1; stroke-width: 2px;\"/></g><g class=\"legendsymbols\"><g class=\"legendpoints\"/></g></g><rect class=\"legendtoggle\" pointer-events=\"all\" x=\"0\" y=\"-9.5\" width=\"385.046875\" height=\"19\" style=\"cursor: pointer; fill: rgb(0, 0, 0); fill-opacity: 0;\"/></g></g><g class=\"groups\" transform=\"translate(0, 114)\"><g class=\"traces\" transform=\"translate(41.25, 14.5)\" style=\"opacity: 1;\"><text class=\"legendtext user-select-none\" text-anchor=\"start\" x=\"40\" y=\"4.680000000000001\" style=\"font-family: 'Open Sans', verdana, arial, sans-serif; font-size: 12px; fill: rgb(42, 63, 95); fill-opacity: 1; white-space: pre;\">QmdEZA2hMcaYz3yDxPt9bUU3hBdY8FKhK7xjEGZrYHCZVh</text><g class=\"layers\" style=\"opacity: 1;\"><g class=\"legendfill\"/><g class=\"legendlines\"><path class=\"js-line\" d=\"M5,0h30\" style=\"fill: none; stroke: rgb(166, 216, 84); stroke-opacity: 1; stroke-width: 2px;\"/></g><g class=\"legendsymbols\"><g class=\"legendpoints\"/></g></g><rect class=\"legendtoggle\" pointer-events=\"all\" x=\"0\" y=\"-9.5\" width=\"397.453125\" height=\"19\" style=\"cursor: pointer; fill: rgb(0, 0, 0); fill-opacity: 0;\"/></g></g><g class=\"groups\" transform=\"translate(399.953125, 114)\"><g class=\"traces\" transform=\"translate(41.25, 14.5)\" style=\"opacity: 1;\"><text class=\"legendtext user-select-none\" text-anchor=\"start\" x=\"40\" y=\"4.680000000000001\" style=\"font-family: 'Open Sans', verdana, arial, sans-serif; font-size: 12px; fill: rgb(42, 63, 95); fill-opacity: 1; white-space: pre;\">QmdVXdwSg6A555Nbr4ZuH5Wf4zZxsKgGwwhBnnJCCN4xEk</text><g class=\"layers\" style=\"opacity: 1;\"><g class=\"legendfill\"/><g class=\"legendlines\"><path class=\"js-line\" d=\"M5,0h30\" style=\"fill: none; stroke: rgb(255, 217, 47); stroke-opacity: 1; stroke-width: 2px;\"/></g><g class=\"legendsymbols\"><g class=\"legendpoints\"/></g></g><rect class=\"legendtoggle\" pointer-events=\"all\" x=\"0\" y=\"-9.5\" width=\"406.40625\" height=\"19\" style=\"cursor: pointer; fill: rgb(0, 0, 0); fill-opacity: 0;\"/></g></g><g class=\"groups\" transform=\"translate(0, 133)\"><g class=\"traces\" transform=\"translate(41.25, 14.5)\" style=\"opacity: 1;\"><text class=\"legendtext user-select-none\" text-anchor=\"start\" x=\"40\" y=\"4.680000000000001\" style=\"font-family: 'Open Sans', verdana, arial, sans-serif; font-size: 12px; fill: rgb(42, 63, 95); fill-opacity: 1; white-space: pre;\">QmdbF5QMCXHsuE8Zkha5wXAnq31SMGhiwh53kNc3WQV9ub</text><g class=\"layers\" style=\"opacity: 1;\"><g class=\"legendfill\"/><g class=\"legendlines\"><path class=\"js-line\" d=\"M5,0h30\" style=\"fill: none; stroke: rgb(229, 196, 148); stroke-opacity: 1; stroke-width: 2px;\"/></g><g class=\"legendsymbols\"><g class=\"legendpoints\"/></g></g><rect class=\"legendtoggle\" pointer-events=\"all\" x=\"0\" y=\"-9.5\" width=\"415.84375\" height=\"19\" style=\"cursor: pointer; fill: rgb(0, 0, 0); fill-opacity: 0;\"/></g></g><g class=\"groups\" transform=\"translate(418.34375, 133)\"><g class=\"traces\" transform=\"translate(41.25, 14.5)\" style=\"opacity: 1;\"><text class=\"legendtext user-select-none\" text-anchor=\"start\" x=\"40\" y=\"4.680000000000001\" style=\"font-family: 'Open Sans', verdana, arial, sans-serif; font-size: 12px; fill: rgb(42, 63, 95); fill-opacity: 1; white-space: pre;\">Qmdj9rvNbwa9PdcXGGBcGKvkvUCfmLUoSJ3GbdrAzfgWGv</text><g class=\"layers\" style=\"opacity: 1;\"><g class=\"legendfill\"/><g class=\"legendlines\"><path class=\"js-line\" d=\"M5,0h30\" style=\"fill: none; stroke: rgb(179, 179, 179); stroke-opacity: 1; stroke-width: 2px;\"/></g><g class=\"legendsymbols\"><g class=\"legendpoints\"/></g></g><rect class=\"legendtoggle\" pointer-events=\"all\" x=\"0\" y=\"-9.5\" width=\"395.234375\" height=\"19\" style=\"cursor: pointer; fill: rgb(0, 0, 0); fill-opacity: 0;\"/></g></g><g class=\"groups\" transform=\"translate(0, 152)\"><g class=\"traces\" transform=\"translate(41.25, 14.5)\" style=\"opacity: 1;\"><text class=\"legendtext user-select-none\" text-anchor=\"start\" x=\"40\" y=\"4.680000000000001\" style=\"font-family: 'Open Sans', verdana, arial, sans-serif; font-size: 12px; fill: rgb(42, 63, 95); fill-opacity: 1; white-space: pre;\">QmdqMfiurx7sLMKS6Wk8Vn6JnDi8tdqCVQAKk1wX9vMqCq</text><g class=\"layers\" style=\"opacity: 1;\"><g class=\"legendfill\"/><g class=\"legendlines\"><path class=\"js-line\" d=\"M5,0h30\" style=\"fill: none; stroke: rgb(102, 194, 165); stroke-opacity: 1; stroke-width: 2px;\"/></g><g class=\"legendsymbols\"><g class=\"legendpoints\"/></g></g><rect class=\"legendtoggle\" pointer-events=\"all\" x=\"0\" y=\"-9.5\" width=\"394.78125\" height=\"19\" style=\"cursor: pointer; fill: rgb(0, 0, 0); fill-opacity: 0;\"/></g></g><g class=\"groups\" transform=\"translate(397.28125, 152)\"><g class=\"traces\" transform=\"translate(41.25, 14.5)\" style=\"opacity: 1;\"><text class=\"legendtext user-select-none\" text-anchor=\"start\" x=\"40\" y=\"4.680000000000001\" style=\"font-family: 'Open Sans', verdana, arial, sans-serif; font-size: 12px; fill: rgb(42, 63, 95); fill-opacity: 1; white-space: pre;\">QmdugmofRGZ4D1e1L139Mmoqm9P4xrqG92sMqcsn4aFvLa</text><g class=\"layers\" style=\"opacity: 1;\"><g class=\"legendfill\"/><g class=\"legendlines\"><path class=\"js-line\" d=\"M5,0h30\" style=\"fill: none; stroke: rgb(252, 141, 98); stroke-opacity: 1; stroke-width: 2px;\"/></g><g class=\"legendsymbols\"><g class=\"legendpoints\"/></g></g><rect class=\"legendtoggle\" pointer-events=\"all\" x=\"0\" y=\"-9.5\" width=\"407.625\" height=\"19\" style=\"cursor: pointer; fill: rgb(0, 0, 0); fill-opacity: 0;\"/></g></g><g class=\"groups\" transform=\"translate(0, 171)\"><g class=\"traces\" transform=\"translate(41.25, 14.5)\" style=\"opacity: 1;\"><text class=\"legendtext user-select-none\" text-anchor=\"start\" x=\"40\" y=\"4.680000000000001\" style=\"font-family: 'Open Sans', verdana, arial, sans-serif; font-size: 12px; fill: rgb(42, 63, 95); fill-opacity: 1; white-space: pre;\">Qme5vxFFs48V6Z4SYde8riceVnEUJvvhQn6p2FxmukZf6s</text><g class=\"layers\" style=\"opacity: 1;\"><g class=\"legendfill\"/><g class=\"legendlines\"><path class=\"js-line\" d=\"M5,0h30\" style=\"fill: none; stroke: rgb(141, 160, 203); stroke-opacity: 1; stroke-width: 2px;\"/></g><g class=\"legendsymbols\"><g class=\"legendpoints\"/></g></g><rect class=\"legendtoggle\" pointer-events=\"all\" x=\"0\" y=\"-9.5\" width=\"383.765625\" height=\"19\" style=\"cursor: pointer; fill: rgb(0, 0, 0); fill-opacity: 0;\"/></g></g><g class=\"groups\" transform=\"translate(386.265625, 171)\"><g class=\"traces\" transform=\"translate(41.25, 14.5)\" style=\"opacity: 1;\"><text class=\"legendtext user-select-none\" text-anchor=\"start\" x=\"40\" y=\"4.680000000000001\" style=\"font-family: 'Open Sans', verdana, arial, sans-serif; font-size: 12px; fill: rgb(42, 63, 95); fill-opacity: 1; white-space: pre;\">QmeCzQLFUnAtMhb8Ce4r6bBhZ3V6xJjFYbtwpapMu7uBA2</text><g class=\"layers\" style=\"opacity: 1;\"><g class=\"legendfill\"/><g class=\"legendlines\"><path class=\"js-line\" d=\"M5,0h30\" style=\"fill: none; stroke: rgb(231, 138, 195); stroke-opacity: 1; stroke-width: 2px;\"/></g><g class=\"legendsymbols\"><g class=\"legendpoints\"/></g></g><rect class=\"legendtoggle\" pointer-events=\"all\" x=\"0\" y=\"-9.5\" width=\"392.359375\" height=\"19\" style=\"cursor: pointer; fill: rgb(0, 0, 0); fill-opacity: 0;\"/></g></g><g class=\"groups\" transform=\"translate(0, 190)\"><g class=\"traces\" transform=\"translate(41.25, 14.5)\" style=\"opacity: 1;\"><text class=\"legendtext user-select-none\" text-anchor=\"start\" x=\"40\" y=\"4.680000000000001\" style=\"font-family: 'Open Sans', verdana, arial, sans-serif; font-size: 12px; fill: rgb(42, 63, 95); fill-opacity: 1; white-space: pre;\">QmeGXx1w13RUrvAcvxsWgg6FseQfNHSoX82SsEbNHMQTpD</text><g class=\"layers\" style=\"opacity: 1;\"><g class=\"legendfill\"/><g class=\"legendlines\"><path class=\"js-line\" d=\"M5,0h30\" style=\"fill: none; stroke: rgb(166, 216, 84); stroke-opacity: 1; stroke-width: 2px;\"/></g><g class=\"legendsymbols\"><g class=\"legendpoints\"/></g></g><rect class=\"legendtoggle\" pointer-events=\"all\" x=\"0\" y=\"-9.5\" width=\"409.015625\" height=\"19\" style=\"cursor: pointer; fill: rgb(0, 0, 0); fill-opacity: 0;\"/></g></g><g class=\"groups\" transform=\"translate(411.515625, 190)\"><g class=\"traces\" transform=\"translate(41.25, 14.5)\" style=\"opacity: 1;\"><text class=\"legendtext user-select-none\" text-anchor=\"start\" x=\"40\" y=\"4.680000000000001\" style=\"font-family: 'Open Sans', verdana, arial, sans-serif; font-size: 12px; fill: rgb(42, 63, 95); fill-opacity: 1; white-space: pre;\">QmePqR5rK5TvnFwQV8taDo4YgLzz4fo625zYMpW31dMnwe</text><g class=\"layers\" style=\"opacity: 1;\"><g class=\"legendfill\"/><g class=\"legendlines\"><path class=\"js-line\" d=\"M5,0h30\" style=\"fill: none; stroke: rgb(255, 217, 47); stroke-opacity: 1; stroke-width: 2px;\"/></g><g class=\"legendsymbols\"><g class=\"legendpoints\"/></g></g><rect class=\"legendtoggle\" pointer-events=\"all\" x=\"0\" y=\"-9.5\" width=\"400.453125\" height=\"19\" style=\"cursor: pointer; fill: rgb(0, 0, 0); fill-opacity: 0;\"/></g></g><g class=\"groups\" transform=\"translate(0, 209)\"><g class=\"traces\" transform=\"translate(41.25, 14.5)\" style=\"opacity: 1;\"><text class=\"legendtext user-select-none\" text-anchor=\"start\" x=\"40\" y=\"4.680000000000001\" style=\"font-family: 'Open Sans', verdana, arial, sans-serif; font-size: 12px; fill: rgb(42, 63, 95); fill-opacity: 1; white-space: pre;\">Qmea5pZ4vwEbsVTob92sLeg9SQk5o91pR7bU67x9VzbkWU</text><g class=\"layers\" style=\"opacity: 1;\"><g class=\"legendfill\"/><g class=\"legendlines\"><path class=\"js-line\" d=\"M5,0h30\" style=\"fill: none; stroke: rgb(229, 196, 148); stroke-opacity: 1; stroke-width: 2px;\"/></g><g class=\"legendsymbols\"><g class=\"legendpoints\"/></g></g><rect class=\"legendtoggle\" pointer-events=\"all\" x=\"0\" y=\"-9.5\" width=\"400.921875\" height=\"19\" style=\"cursor: pointer; fill: rgb(0, 0, 0); fill-opacity: 0;\"/></g></g><g class=\"groups\" transform=\"translate(403.421875, 209)\"><g class=\"traces\" transform=\"translate(41.25, 14.5)\" style=\"opacity: 1;\"><text class=\"legendtext user-select-none\" text-anchor=\"start\" x=\"40\" y=\"4.680000000000001\" style=\"font-family: 'Open Sans', verdana, arial, sans-serif; font-size: 12px; fill: rgb(42, 63, 95); fill-opacity: 1; white-space: pre;\">QmfMKDCBM7T8eNsX6KmfsurWUQtef3VdBM2vcXh8BAAGYa</text><g class=\"layers\" style=\"opacity: 1;\"><g class=\"legendfill\"/><g class=\"legendlines\"><path class=\"js-line\" d=\"M5,0h30\" style=\"fill: none; stroke: rgb(179, 179, 179); stroke-opacity: 1; stroke-width: 2px;\"/></g><g class=\"legendsymbols\"><g class=\"legendpoints\"/></g></g><rect class=\"legendtoggle\" pointer-events=\"all\" x=\"0\" y=\"-9.5\" width=\"405.6875\" height=\"19\" style=\"cursor: pointer; fill: rgb(0, 0, 0); fill-opacity: 0;\"/></g></g><g class=\"groups\" transform=\"translate(0, 228)\"><g class=\"traces\" transform=\"translate(41.25, 14.5)\" style=\"opacity: 1;\"><text class=\"legendtext user-select-none\" text-anchor=\"start\" x=\"40\" y=\"4.680000000000001\" style=\"font-family: 'Open Sans', verdana, arial, sans-serif; font-size: 12px; fill: rgb(42, 63, 95); fill-opacity: 1; white-space: pre;\">QmZbMzrZexEZax44GSxAdKHEdcQgotm6K4Tu8X5qbWNBR1</text><g class=\"layers\" style=\"opacity: 1;\"><g class=\"legendfill\"/><g class=\"legendlines\"><path class=\"js-line\" d=\"M5,0h30\" style=\"fill: none; stroke: rgb(102, 194, 165); stroke-opacity: 1; stroke-width: 2px;\"/></g><g class=\"legendsymbols\"><g class=\"legendpoints\"/></g></g><rect class=\"legendtoggle\" pointer-events=\"all\" x=\"0\" y=\"-9.5\" width=\"408.234375\" height=\"19\" style=\"cursor: pointer; fill: rgb(0, 0, 0); fill-opacity: 0;\"/></g></g><g class=\"groups\" transform=\"translate(410.734375, 228)\"><g class=\"traces\" transform=\"translate(41.25, 14.5)\" style=\"opacity: 1;\"><text class=\"legendtext user-select-none\" text-anchor=\"start\" x=\"40\" y=\"4.680000000000001\" style=\"font-family: 'Open Sans', verdana, arial, sans-serif; font-size: 12px; fill: rgb(42, 63, 95); fill-opacity: 1; white-space: pre;\">QmYbW4unbHQJeXok3mXRbNSfTFHfvWf2PX6WisCVVC7ooC</text><g class=\"layers\" style=\"opacity: 1;\"><g class=\"legendfill\"/><g class=\"legendlines\"><path class=\"js-line\" d=\"M5,0h30\" style=\"fill: none; stroke: rgb(252, 141, 98); stroke-opacity: 1; stroke-width: 2px;\"/></g><g class=\"legendsymbols\"><g class=\"legendpoints\"/></g></g><rect class=\"legendtoggle\" pointer-events=\"all\" x=\"0\" y=\"-9.5\" width=\"403.59375\" height=\"19\" style=\"cursor: pointer; fill: rgb(0, 0, 0); fill-opacity: 0;\"/></g></g><g class=\"groups\" transform=\"translate(0, 247)\"><g class=\"traces\" transform=\"translate(41.25, 14.5)\" style=\"opacity: 1;\"><text class=\"legendtext user-select-none\" text-anchor=\"start\" x=\"40\" y=\"4.680000000000001\" style=\"font-family: 'Open Sans', verdana, arial, sans-serif; font-size: 12px; fill: rgb(42, 63, 95); fill-opacity: 1; white-space: pre;\">Qmd2UG2CpYQU3VuDEdmRawvdVXMhN5jqe74qE9mqYBic13</text><g class=\"layers\" style=\"opacity: 1;\"><g class=\"legendfill\"/><g class=\"legendlines\"><path class=\"js-line\" d=\"M5,0h30\" style=\"fill: none; stroke: rgb(141, 160, 203); stroke-opacity: 1; stroke-width: 2px;\"/></g><g class=\"legendsymbols\"><g class=\"legendpoints\"/></g></g><rect class=\"legendtoggle\" pointer-events=\"all\" x=\"0\" y=\"-9.5\" width=\"412.390625\" height=\"19\" style=\"cursor: pointer; fill: rgb(0, 0, 0); fill-opacity: 0;\"/></g></g><g class=\"groups\" transform=\"translate(0, 266)\"><g class=\"traces\" transform=\"translate(41.25, 14.5)\" style=\"opacity: 1;\"><text class=\"legendtext user-select-none\" text-anchor=\"start\" x=\"40\" y=\"4.680000000000001\" style=\"font-family: 'Open Sans', verdana, arial, sans-serif; font-size: 12px; fill: rgb(42, 63, 95); fill-opacity: 1; white-space: pre;\">QmXxdd5WcSS8DJMyGtP7a8S6vd9mgwNpxTSbsUJtF2N7WY</text><g class=\"layers\" style=\"opacity: 1;\"><g class=\"legendfill\"/><g class=\"legendlines\"><path class=\"js-line\" d=\"M5,0h30\" style=\"fill: none; stroke: rgb(231, 138, 195); stroke-opacity: 1; stroke-width: 2px;\"/></g><g class=\"legendsymbols\"><g class=\"legendpoints\"/></g></g><rect class=\"legendtoggle\" pointer-events=\"all\" x=\"0\" y=\"-9.5\" width=\"404.546875\" height=\"19\" style=\"cursor: pointer; fill: rgb(0, 0, 0); fill-opacity: 0;\"/></g></g><g class=\"groups\" transform=\"translate(407.046875, 266)\"><g class=\"traces\" transform=\"translate(41.25, 14.5)\" style=\"opacity: 1;\"><text class=\"legendtext user-select-none\" text-anchor=\"start\" x=\"40\" y=\"4.680000000000001\" style=\"font-family: 'Open Sans', verdana, arial, sans-serif; font-size: 12px; fill: rgb(42, 63, 95); fill-opacity: 1; white-space: pre;\">QmY1jB1o8RDUshbsmg7DpEqVhuY3hEs23wfyzGEJ7M9rS7</text><g class=\"layers\" style=\"opacity: 1;\"><g class=\"legendfill\"/><g class=\"legendlines\"><path class=\"js-line\" d=\"M5,0h30\" style=\"fill: none; stroke: rgb(166, 216, 84); stroke-opacity: 1; stroke-width: 2px;\"/></g><g class=\"legendsymbols\"><g class=\"legendpoints\"/></g></g><rect class=\"legendtoggle\" pointer-events=\"all\" x=\"0\" y=\"-9.5\" width=\"394.421875\" height=\"19\" style=\"cursor: pointer; fill: rgb(0, 0, 0); fill-opacity: 0;\"/></g></g><g class=\"groups\" transform=\"translate(0, 285)\"><g class=\"traces\" transform=\"translate(41.25, 14.5)\" style=\"opacity: 1;\"><text class=\"legendtext user-select-none\" text-anchor=\"start\" x=\"40\" y=\"4.680000000000001\" style=\"font-family: 'Open Sans', verdana, arial, sans-serif; font-size: 12px; fill: rgb(42, 63, 95); fill-opacity: 1; white-space: pre;\">QmNytna1fsJYyHDNG4ic7oz2D4mn11ym3yAYtaRBJjifBk</text><g class=\"layers\" style=\"opacity: 1;\"><g class=\"legendfill\"/><g class=\"legendlines\"><path class=\"js-line\" d=\"M5,0h30\" style=\"fill: none; stroke: rgb(255, 217, 47); stroke-opacity: 1; stroke-width: 2px;\"/></g><g class=\"legendsymbols\"><g class=\"legendpoints\"/></g></g><rect class=\"legendtoggle\" pointer-events=\"all\" x=\"0\" y=\"-9.5\" width=\"376.34375\" height=\"19\" style=\"cursor: pointer; fill: rgb(0, 0, 0); fill-opacity: 0;\"/></g></g><g class=\"groups\" transform=\"translate(378.84375, 285)\"><g class=\"traces\" transform=\"translate(41.25, 14.5)\" style=\"opacity: 1;\"><text class=\"legendtext user-select-none\" text-anchor=\"start\" x=\"40\" y=\"4.680000000000001\" style=\"font-family: 'Open Sans', verdana, arial, sans-serif; font-size: 12px; fill: rgb(42, 63, 95); fill-opacity: 1; white-space: pre;\">QmP9xXTZA7VTgRbMt23uDLqM5GZe92SYiruoLwy2sZNR7J</text><g class=\"layers\" style=\"opacity: 1;\"><g class=\"legendfill\"/><g class=\"legendlines\"><path class=\"js-line\" d=\"M5,0h30\" style=\"fill: none; stroke: rgb(229, 196, 148); stroke-opacity: 1; stroke-width: 2px;\"/></g><g class=\"legendsymbols\"><g class=\"legendpoints\"/></g></g><rect class=\"legendtoggle\" pointer-events=\"all\" x=\"0\" y=\"-9.5\" width=\"395.703125\" height=\"19\" style=\"cursor: pointer; fill: rgb(0, 0, 0); fill-opacity: 0;\"/></g></g><g class=\"groups\" transform=\"translate(0, 304)\"><g class=\"traces\" transform=\"translate(41.25, 14.5)\" style=\"opacity: 1;\"><text class=\"legendtext user-select-none\" text-anchor=\"start\" x=\"40\" y=\"4.680000000000001\" style=\"font-family: 'Open Sans', verdana, arial, sans-serif; font-size: 12px; fill: rgb(42, 63, 95); fill-opacity: 1; white-space: pre;\">QmPj4ZmdngXKW6V3iNJ9MJtryWpCKL9hHCxgb7bVGopB73</text><g class=\"layers\" style=\"opacity: 1;\"><g class=\"legendfill\"/><g class=\"legendlines\"><path class=\"js-line\" d=\"M5,0h30\" style=\"fill: none; stroke: rgb(179, 179, 179); stroke-opacity: 1; stroke-width: 2px;\"/></g><g class=\"legendsymbols\"><g class=\"legendpoints\"/></g></g><rect class=\"legendtoggle\" pointer-events=\"all\" x=\"0\" y=\"-9.5\" width=\"398.328125\" height=\"19\" style=\"cursor: pointer; fill: rgb(0, 0, 0); fill-opacity: 0;\"/></g></g><g class=\"groups\" transform=\"translate(400.828125, 304)\"><g class=\"traces\" transform=\"translate(41.25, 14.5)\" style=\"opacity: 1;\"><text class=\"legendtext user-select-none\" text-anchor=\"start\" x=\"40\" y=\"4.680000000000001\" style=\"font-family: 'Open Sans', verdana, arial, sans-serif; font-size: 12px; fill: rgb(42, 63, 95); fill-opacity: 1; white-space: pre;\">QmPmzUNMPuj3bkVzpAZWUZnJvLCZtBxdnSqjM9uX4rZbQf</text><g class=\"layers\" style=\"opacity: 1;\"><g class=\"legendfill\"/><g class=\"legendlines\"><path class=\"js-line\" d=\"M5,0h30\" style=\"fill: none; stroke: rgb(102, 194, 165); stroke-opacity: 1; stroke-width: 2px;\"/></g><g class=\"legendsymbols\"><g class=\"legendpoints\"/></g></g><rect class=\"legendtoggle\" pointer-events=\"all\" x=\"0\" y=\"-9.5\" width=\"396.390625\" height=\"19\" style=\"cursor: pointer; fill: rgb(0, 0, 0); fill-opacity: 0;\"/></g></g><g class=\"groups\" transform=\"translate(0, 323)\"><g class=\"traces\" transform=\"translate(41.25, 14.5)\" style=\"opacity: 1;\"><text class=\"legendtext user-select-none\" text-anchor=\"start\" x=\"40\" y=\"4.680000000000001\" style=\"font-family: 'Open Sans', verdana, arial, sans-serif; font-size: 12px; fill: rgb(42, 63, 95); fill-opacity: 1; white-space: pre;\">QmPyMqHNMLnvhn9yLuYHyM32EBFWFVuedeKS5RZoaH66Ht</text><g class=\"layers\" style=\"opacity: 1;\"><g class=\"legendfill\"/><g class=\"legendlines\"><path class=\"js-line\" d=\"M5,0h30\" style=\"fill: none; stroke: rgb(252, 141, 98); stroke-opacity: 1; stroke-width: 2px;\"/></g><g class=\"legendsymbols\"><g class=\"legendpoints\"/></g></g><rect class=\"legendtoggle\" pointer-events=\"all\" x=\"0\" y=\"-9.5\" width=\"410.359375\" height=\"19\" style=\"cursor: pointer; fill: rgb(0, 0, 0); fill-opacity: 0;\"/></g></g><g class=\"groups\" transform=\"translate(0, 342)\"><g class=\"traces\" transform=\"translate(41.25, 14.5)\" style=\"opacity: 1;\"><text class=\"legendtext user-select-none\" text-anchor=\"start\" x=\"40\" y=\"4.680000000000001\" style=\"font-family: 'Open Sans', verdana, arial, sans-serif; font-size: 12px; fill: rgb(42, 63, 95); fill-opacity: 1; white-space: pre;\">QmQQE4eWgW79vN8pLzznRNdHRRi6nWZ4RL352S6xJCSeu1</text><g class=\"layers\" style=\"opacity: 1;\"><g class=\"legendfill\"/><g class=\"legendlines\"><path class=\"js-line\" d=\"M5,0h30\" style=\"fill: none; stroke: rgb(141, 160, 203); stroke-opacity: 1; stroke-width: 2px;\"/></g><g class=\"legendsymbols\"><g class=\"legendpoints\"/></g></g><rect class=\"legendtoggle\" pointer-events=\"all\" x=\"0\" y=\"-9.5\" width=\"409.328125\" height=\"19\" style=\"cursor: pointer; fill: rgb(0, 0, 0); fill-opacity: 0;\"/></g></g><g class=\"groups\" transform=\"translate(0, 361)\"><g class=\"traces\" transform=\"translate(41.25, 14.5)\" style=\"opacity: 1;\"><text class=\"legendtext user-select-none\" text-anchor=\"start\" x=\"40\" y=\"4.680000000000001\" style=\"font-family: 'Open Sans', verdana, arial, sans-serif; font-size: 12px; fill: rgb(42, 63, 95); fill-opacity: 1; white-space: pre;\">QmRBn2JmnEmwpV1jufrmdcWayQerBsqJ42hHD8EEGDwg8U</text><g class=\"layers\" style=\"opacity: 1;\"><g class=\"legendfill\"/><g class=\"legendlines\"><path class=\"js-line\" d=\"M5,0h30\" style=\"fill: none; stroke: rgb(231, 138, 195); stroke-opacity: 1; stroke-width: 2px;\"/></g><g class=\"legendsymbols\"><g class=\"legendpoints\"/></g></g><rect class=\"legendtoggle\" pointer-events=\"all\" x=\"0\" y=\"-9.5\" width=\"405.90625\" height=\"19\" style=\"cursor: pointer; fill: rgb(0, 0, 0); fill-opacity: 0;\"/></g></g><g class=\"groups\" transform=\"translate(408.40625, 361)\"><g class=\"traces\" transform=\"translate(41.25, 14.5)\" style=\"opacity: 1;\"><text class=\"legendtext user-select-none\" text-anchor=\"start\" x=\"40\" y=\"4.680000000000001\" style=\"font-family: 'Open Sans', verdana, arial, sans-serif; font-size: 12px; fill: rgb(42, 63, 95); fill-opacity: 1; white-space: pre;\">QmRfA2Vg4syrztgMS6U156Vi9Gn5DRoKPuuY4dKKsyqPYg</text><g class=\"layers\" style=\"opacity: 1;\"><g class=\"legendfill\"/><g class=\"legendlines\"><path class=\"js-line\" d=\"M5,0h30\" style=\"fill: none; stroke: rgb(166, 216, 84); stroke-opacity: 1; stroke-width: 2px;\"/></g><g class=\"legendsymbols\"><g class=\"legendpoints\"/></g></g><rect class=\"legendtoggle\" pointer-events=\"all\" x=\"0\" y=\"-9.5\" width=\"388.859375\" height=\"19\" style=\"cursor: pointer; fill: rgb(0, 0, 0); fill-opacity: 0;\"/></g></g><g class=\"groups\" transform=\"translate(0, 380)\"><g class=\"traces\" transform=\"translate(41.25, 14.5)\" style=\"opacity: 1;\"><text class=\"legendtext user-select-none\" text-anchor=\"start\" x=\"40\" y=\"4.680000000000001\" style=\"font-family: 'Open Sans', verdana, arial, sans-serif; font-size: 12px; fill: rgb(42, 63, 95); fill-opacity: 1; white-space: pre;\">QmS1ThiLfu4ouTtzVzxNtk2GfRJreVbwUWWjjTWWEukD1H</text><g class=\"layers\" style=\"opacity: 1;\"><g class=\"legendfill\"/><g class=\"legendlines\"><path class=\"js-line\" d=\"M5,0h30\" style=\"fill: none; stroke: rgb(255, 217, 47); stroke-opacity: 1; stroke-width: 2px;\"/></g><g class=\"legendsymbols\"><g class=\"legendpoints\"/></g></g><rect class=\"legendtoggle\" pointer-events=\"all\" x=\"0\" y=\"-9.5\" width=\"387.84375\" height=\"19\" style=\"cursor: pointer; fill: rgb(0, 0, 0); fill-opacity: 0;\"/></g></g><g class=\"groups\" transform=\"translate(390.34375, 380)\"><g class=\"traces\" transform=\"translate(41.25, 14.5)\" style=\"opacity: 1;\"><text class=\"legendtext user-select-none\" text-anchor=\"start\" x=\"40\" y=\"4.680000000000001\" style=\"font-family: 'Open Sans', verdana, arial, sans-serif; font-size: 12px; fill: rgb(42, 63, 95); fill-opacity: 1; white-space: pre;\">QmTYfVopQBPcMjPsbkJ4aSjew5aMF6HyfRzdw4NtZGb8Bd</text><g class=\"layers\" style=\"opacity: 1;\"><g class=\"legendfill\"/><g class=\"legendlines\"><path class=\"js-line\" d=\"M5,0h30\" style=\"fill: none; stroke: rgb(229, 196, 148); stroke-opacity: 1; stroke-width: 2px;\"/></g><g class=\"legendsymbols\"><g class=\"legendpoints\"/></g></g><rect class=\"legendtoggle\" pointer-events=\"all\" x=\"0\" y=\"-9.5\" width=\"386.71875\" height=\"19\" style=\"cursor: pointer; fill: rgb(0, 0, 0); fill-opacity: 0;\"/></g></g><g class=\"groups\" transform=\"translate(0, 399)\"><g class=\"traces\" transform=\"translate(41.25, 14.5)\" style=\"opacity: 1;\"><text class=\"legendtext user-select-none\" text-anchor=\"start\" x=\"40\" y=\"4.680000000000001\" style=\"font-family: 'Open Sans', verdana, arial, sans-serif; font-size: 12px; fill: rgb(42, 63, 95); fill-opacity: 1; white-space: pre;\">QmUYvUfkz8yzfkN3tzCYkfQJb9TG5wvLc49y2m3KyEV3pt</text><g class=\"layers\" style=\"opacity: 1;\"><g class=\"legendfill\"/><g class=\"legendlines\"><path class=\"js-line\" d=\"M5,0h30\" style=\"fill: none; stroke: rgb(179, 179, 179); stroke-opacity: 1; stroke-width: 2px;\"/></g><g class=\"legendsymbols\"><g class=\"legendpoints\"/></g></g><rect class=\"legendtoggle\" pointer-events=\"all\" x=\"0\" y=\"-9.5\" width=\"381.78125\" height=\"19\" style=\"cursor: pointer; fill: rgb(0, 0, 0); fill-opacity: 0;\"/></g></g><g class=\"groups\" transform=\"translate(384.28125, 399)\"><g class=\"traces\" transform=\"translate(41.25, 14.5)\" style=\"opacity: 1;\"><text class=\"legendtext user-select-none\" text-anchor=\"start\" x=\"40\" y=\"4.680000000000001\" style=\"font-family: 'Open Sans', verdana, arial, sans-serif; font-size: 12px; fill: rgb(42, 63, 95); fill-opacity: 1; white-space: pre;\">QmNouhswdsDyiBg26Zbh24PUSAsEQJcpB8UtJHLRWDUj5B</text><g class=\"layers\" style=\"opacity: 1;\"><g class=\"legendfill\"/><g class=\"legendlines\"><path class=\"js-line\" d=\"M5,0h30\" style=\"fill: none; stroke: rgb(102, 194, 165); stroke-opacity: 1; stroke-width: 2px;\"/></g><g class=\"legendsymbols\"><g class=\"legendpoints\"/></g></g><rect class=\"legendtoggle\" pointer-events=\"all\" x=\"0\" y=\"-9.5\" width=\"393.265625\" height=\"19\" style=\"cursor: pointer; fill: rgb(0, 0, 0); fill-opacity: 0;\"/></g></g><g class=\"groups\" transform=\"translate(0, 418)\"><g class=\"traces\" transform=\"translate(41.25, 14.5)\" style=\"opacity: 1;\"><text class=\"legendtext user-select-none\" text-anchor=\"start\" x=\"40\" y=\"4.680000000000001\" style=\"font-family: 'Open Sans', verdana, arial, sans-serif; font-size: 12px; fill: rgb(42, 63, 95); fill-opacity: 1; white-space: pre;\">QmV33UgvrQ5jf7Uhy4tjPD1rDZSXEuCb7YqeMqReUe74tr</text><g class=\"layers\" style=\"opacity: 1;\"><g class=\"legendfill\"/><g class=\"legendlines\"><path class=\"js-line\" d=\"M5,0h30\" style=\"fill: none; stroke: rgb(252, 141, 98); stroke-opacity: 1; stroke-width: 2px;\"/></g><g class=\"legendsymbols\"><g class=\"legendpoints\"/></g></g><rect class=\"legendtoggle\" pointer-events=\"all\" x=\"0\" y=\"-9.5\" width=\"384.78125\" height=\"19\" style=\"cursor: pointer; fill: rgb(0, 0, 0); fill-opacity: 0;\"/></g></g><g class=\"groups\" transform=\"translate(387.28125, 418)\"><g class=\"traces\" transform=\"translate(41.25, 14.5)\" style=\"opacity: 1;\"><text class=\"legendtext user-select-none\" text-anchor=\"start\" x=\"40\" y=\"4.680000000000001\" style=\"font-family: 'Open Sans', verdana, arial, sans-serif; font-size: 12px; fill: rgb(42, 63, 95); fill-opacity: 1; white-space: pre;\">QmV8KyKF75E9FqRMnWrBGJPqHeqhxTZXAtHSe4k4iikZAP</text><g class=\"layers\" style=\"opacity: 1;\"><g class=\"legendfill\"/><g class=\"legendlines\"><path class=\"js-line\" d=\"M5,0h30\" style=\"fill: none; stroke: rgb(141, 160, 203); stroke-opacity: 1; stroke-width: 2px;\"/></g><g class=\"legendsymbols\"><g class=\"legendpoints\"/></g></g><rect class=\"legendtoggle\" pointer-events=\"all\" x=\"0\" y=\"-9.5\" width=\"390.359375\" height=\"19\" style=\"cursor: pointer; fill: rgb(0, 0, 0); fill-opacity: 0;\"/></g></g><g class=\"groups\" transform=\"translate(0, 437)\"><g class=\"traces\" transform=\"translate(41.25, 14.5)\" style=\"opacity: 1;\"><text class=\"legendtext user-select-none\" text-anchor=\"start\" x=\"40\" y=\"4.680000000000001\" style=\"font-family: 'Open Sans', verdana, arial, sans-serif; font-size: 12px; fill: rgb(42, 63, 95); fill-opacity: 1; white-space: pre;\">QmVDPrtuHFG2WAkQVLRXQGEmQbx8FwhTY8LvM3ahbNqYhD</text><g class=\"layers\" style=\"opacity: 1;\"><g class=\"legendfill\"/><g class=\"legendlines\"><path class=\"js-line\" d=\"M5,0h30\" style=\"fill: none; stroke: rgb(231, 138, 195); stroke-opacity: 1; stroke-width: 2px;\"/></g><g class=\"legendsymbols\"><g class=\"legendpoints\"/></g></g><rect class=\"legendtoggle\" pointer-events=\"all\" x=\"0\" y=\"-9.5\" width=\"417.03125\" height=\"19\" style=\"cursor: pointer; fill: rgb(0, 0, 0); fill-opacity: 0;\"/></g></g><g class=\"groups\" transform=\"translate(419.53125, 437)\"><g class=\"traces\" transform=\"translate(41.25, 14.5)\" style=\"opacity: 1;\"><text class=\"legendtext user-select-none\" text-anchor=\"start\" x=\"40\" y=\"4.680000000000001\" style=\"font-family: 'Open Sans', verdana, arial, sans-serif; font-size: 12px; fill: rgb(42, 63, 95); fill-opacity: 1; white-space: pre;\">QmVKuF9RXEVUTcpQfLcdExFNgxaza22pXYG4tKGr59E4V4</text><g class=\"layers\" style=\"opacity: 1;\"><g class=\"legendfill\"/><g class=\"legendlines\"><path class=\"js-line\" d=\"M5,0h30\" style=\"fill: none; stroke: rgb(166, 216, 84); stroke-opacity: 1; stroke-width: 2px;\"/></g><g class=\"legendsymbols\"><g class=\"legendpoints\"/></g></g><rect class=\"legendtoggle\" pointer-events=\"all\" x=\"0\" y=\"-9.5\" width=\"391.265625\" height=\"19\" style=\"cursor: pointer; fill: rgb(0, 0, 0); fill-opacity: 0;\"/></g></g><g class=\"groups\" transform=\"translate(0, 456)\"><g class=\"traces\" transform=\"translate(41.25, 14.5)\" style=\"opacity: 1;\"><text class=\"legendtext user-select-none\" text-anchor=\"start\" x=\"40\" y=\"4.680000000000001\" style=\"font-family: 'Open Sans', verdana, arial, sans-serif; font-size: 12px; fill: rgb(42, 63, 95); fill-opacity: 1; white-space: pre;\">QmVWdwidF1Nmczx7nZpmnKjntvF6QpoMQJokDxbexmsPGP</text><g class=\"layers\" style=\"opacity: 1;\"><g class=\"legendfill\"/><g class=\"legendlines\"><path class=\"js-line\" d=\"M5,0h30\" style=\"fill: none; stroke: rgb(255, 217, 47); stroke-opacity: 1; stroke-width: 2px;\"/></g><g class=\"legendsymbols\"><g class=\"legendpoints\"/></g></g><rect class=\"legendtoggle\" pointer-events=\"all\" x=\"0\" y=\"-9.5\" width=\"404.796875\" height=\"19\" style=\"cursor: pointer; fill: rgb(0, 0, 0); fill-opacity: 0;\"/></g></g><g class=\"groups\" transform=\"translate(407.296875, 456)\"><g class=\"traces\" transform=\"translate(41.25, 14.5)\" style=\"opacity: 1;\"><text class=\"legendtext user-select-none\" text-anchor=\"start\" x=\"40\" y=\"4.680000000000001\" style=\"font-family: 'Open Sans', verdana, arial, sans-serif; font-size: 12px; fill: rgb(42, 63, 95); fill-opacity: 1; white-space: pre;\">QmWRqGxAch41er8JzC8jCLvEj6rfYz2pSbTrcyJhmko7no</text><g class=\"layers\" style=\"opacity: 1;\"><g class=\"legendfill\"/><g class=\"legendlines\"><path class=\"js-line\" d=\"M5,0h30\" style=\"fill: none; stroke: rgb(229, 196, 148); stroke-opacity: 1; stroke-width: 2px;\"/></g><g class=\"legendsymbols\"><g class=\"legendpoints\"/></g></g><rect class=\"legendtoggle\" pointer-events=\"all\" x=\"0\" y=\"-9.5\" width=\"371.671875\" height=\"19\" style=\"cursor: pointer; fill: rgb(0, 0, 0); fill-opacity: 0;\"/></g></g><g class=\"groups\" transform=\"translate(0, 475)\"><g class=\"traces\" transform=\"translate(41.25, 14.5)\" style=\"opacity: 1;\"><text class=\"legendtext user-select-none\" text-anchor=\"start\" x=\"40\" y=\"4.680000000000001\" style=\"font-family: 'Open Sans', verdana, arial, sans-serif; font-size: 12px; fill: rgb(42, 63, 95); fill-opacity: 1; white-space: pre;\">QmWw8rsT2qynnCfuTtTJrueEbC3arDwc1xLHpjD3onS3PP</text><g class=\"layers\" style=\"opacity: 1;\"><g class=\"legendfill\"/><g class=\"legendlines\"><path class=\"js-line\" d=\"M5,0h30\" style=\"fill: none; stroke: rgb(179, 179, 179); stroke-opacity: 1; stroke-width: 2px;\"/></g><g class=\"legendsymbols\"><g class=\"legendpoints\"/></g></g><rect class=\"legendtoggle\" pointer-events=\"all\" x=\"0\" y=\"-9.5\" width=\"384.171875\" height=\"19\" style=\"cursor: pointer; fill: rgb(0, 0, 0); fill-opacity: 0;\"/></g></g><g class=\"groups\" transform=\"translate(386.671875, 475)\"><g class=\"traces\" transform=\"translate(41.25, 14.5)\" style=\"opacity: 1;\"><text class=\"legendtext user-select-none\" text-anchor=\"start\" x=\"40\" y=\"4.680000000000001\" style=\"font-family: 'Open Sans', verdana, arial, sans-serif; font-size: 12px; fill: rgb(42, 63, 95); fill-opacity: 1; white-space: pre;\">QmX6vUGmsbhayCWxYGSa7iTLTer6H9FH16EApF9328Qvf2</text><g class=\"layers\" style=\"opacity: 1;\"><g class=\"legendfill\"/><g class=\"legendlines\"><path class=\"js-line\" d=\"M5,0h30\" style=\"fill: none; stroke: rgb(102, 194, 165); stroke-opacity: 1; stroke-width: 2px;\"/></g><g class=\"legendsymbols\"><g class=\"legendpoints\"/></g></g><rect class=\"legendtoggle\" pointer-events=\"all\" x=\"0\" y=\"-9.5\" width=\"396.921875\" height=\"19\" style=\"cursor: pointer; fill: rgb(0, 0, 0); fill-opacity: 0;\"/></g></g><g class=\"groups\" transform=\"translate(0, 494)\"><g class=\"traces\" transform=\"translate(41.25, 14.5)\" style=\"opacity: 1;\"><text class=\"legendtext user-select-none\" text-anchor=\"start\" x=\"40\" y=\"4.680000000000001\" style=\"font-family: 'Open Sans', verdana, arial, sans-serif; font-size: 12px; fill: rgb(42, 63, 95); fill-opacity: 1; white-space: pre;\">QmXLVYroNSvi2gG6h8GXXZxzwLmzraqxWDyf9Dtadfbqcz</text><g class=\"layers\" style=\"opacity: 1;\"><g class=\"legendfill\"/><g class=\"legendlines\"><path class=\"js-line\" d=\"M5,0h30\" style=\"fill: none; stroke: rgb(252, 141, 98); stroke-opacity: 1; stroke-width: 2px;\"/></g><g class=\"legendsymbols\"><g class=\"legendpoints\"/></g></g><rect class=\"legendtoggle\" pointer-events=\"all\" x=\"0\" y=\"-9.5\" width=\"389.421875\" height=\"19\" style=\"cursor: pointer; fill: rgb(0, 0, 0); fill-opacity: 0;\"/></g></g><g class=\"groups\" transform=\"translate(391.921875, 494)\"><g class=\"traces\" transform=\"translate(41.25, 14.5)\" style=\"opacity: 1;\"><text class=\"legendtext user-select-none\" text-anchor=\"start\" x=\"40\" y=\"4.680000000000001\" style=\"font-family: 'Open Sans', verdana, arial, sans-serif; font-size: 12px; fill: rgb(42, 63, 95); fill-opacity: 1; white-space: pre;\">QmXaWMJYCuukwbazGr7RLUvFs9gAYG7LN74hLgWdSWUpyV</text><g class=\"layers\" style=\"opacity: 1;\"><g class=\"legendfill\"/><g class=\"legendlines\"><path class=\"js-line\" d=\"M5,0h30\" style=\"fill: none; stroke: rgb(141, 160, 203); stroke-opacity: 1; stroke-width: 2px;\"/></g><g class=\"legendsymbols\"><g class=\"legendpoints\"/></g></g><rect class=\"legendtoggle\" pointer-events=\"all\" x=\"0\" y=\"-9.5\" width=\"409.703125\" height=\"19\" style=\"cursor: pointer; fill: rgb(0, 0, 0); fill-opacity: 0;\"/></g></g><g class=\"groups\" transform=\"translate(0, 513)\"><g class=\"traces\" transform=\"translate(41.25, 14.5)\" style=\"opacity: 1;\"><text class=\"legendtext user-select-none\" text-anchor=\"start\" x=\"40\" y=\"4.680000000000001\" style=\"font-family: 'Open Sans', verdana, arial, sans-serif; font-size: 12px; fill: rgb(42, 63, 95); fill-opacity: 1; white-space: pre;\">QmUb8MYNtURyL7cVkjoWVBKqQcdmxA4gMX7n7DGXpfQdBK</text><g class=\"layers\" style=\"opacity: 1;\"><g class=\"legendfill\"/><g class=\"legendlines\"><path class=\"js-line\" d=\"M5,0h30\" style=\"fill: none; stroke: rgb(231, 138, 195); stroke-opacity: 1; stroke-width: 2px;\"/></g><g class=\"legendsymbols\"><g class=\"legendpoints\"/></g></g><rect class=\"legendtoggle\" pointer-events=\"all\" x=\"0\" y=\"-9.5\" width=\"413.40625\" height=\"19\" style=\"cursor: pointer; fill: rgb(0, 0, 0); fill-opacity: 0;\"/></g></g></g><rect class=\"scrollbar\" rx=\"20\" ry=\"3\" width=\"0\" height=\"0\" style=\"fill: rgb(128, 139, 164); fill-opacity: 1;\" x=\"0\" y=\"0\"/></g><g class=\"g-gtitle\"><text class=\"gtitle\" x=\"45\" y=\"50\" text-anchor=\"start\" dy=\"0em\" style=\"font-family: 'Open Sans', verdana, arial, sans-serif; font-size: 17px; fill: rgb(42, 63, 95); opacity: 1; font-weight: normal; white-space: pre;\">sender counts in 5 minutes vs Time</text></g><g class=\"g-xtitle\"><text class=\"xtitle\" x=\"450\" y=\"242.409375\" text-anchor=\"middle\" style=\"font-family: 'Open Sans', verdana, arial, sans-serif; font-size: 14px; fill: rgb(42, 63, 95); opacity: 1; font-weight: normal; white-space: pre;\">utc_time</text></g><g class=\"g-ytitle\"><text class=\"ytitle\" transform=\"rotate(-90,31.293750000000003,143)\" x=\"31.293750000000003\" y=\"143\" text-anchor=\"middle\" style=\"font-family: 'Open Sans', verdana, arial, sans-serif; font-size: 14px; fill: rgb(42, 63, 95); opacity: 1; font-weight: normal; white-space: pre;\">count</text></g></g></svg>"
      ]
     },
     "metadata": {},
     "output_type": "display_data"
    }
   ],
   "source": [
    "draw_error(agg, dict(list(alert.items())[0: 4]), viewchange, 5, 'sender')"
   ]
  }
 ],
 "metadata": {
  "kernelspec": {
   "display_name": "Python 3",
   "language": "python",
   "name": "python3"
  },
  "language_info": {
   "codemirror_mode": {
    "name": "ipython",
    "version": 3
   },
   "file_extension": ".py",
   "mimetype": "text/x-python",
   "name": "python",
   "nbconvert_exporter": "python",
   "pygments_lexer": "ipython3",
   "version": "3.7.6"
  }
 },
 "nbformat": 4,
 "nbformat_minor": 4
}
