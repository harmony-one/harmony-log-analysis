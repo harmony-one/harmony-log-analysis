{
 "cells": [
  {
   "cell_type": "markdown",
   "metadata": {},
   "source": [
    "# read data and save as pickle file"
   ]
  },
  {
   "cell_type": "code",
   "execution_count": 1,
   "metadata": {},
   "outputs": [],
   "source": [
    "import json\n",
    "import pandas as pd\n",
    "import os\n",
    "import gzip"
   ]
  },
  {
   "cell_type": "code",
   "execution_count": 2,
   "metadata": {},
   "outputs": [],
   "source": [
    "def read_data(files, path):\n",
    "    data = []\n",
    "    for file in files:\n",
    "        if \"zerolog\" in file:\n",
    "            with gzip.open(path + file) as f:\n",
    "                for line in f.readlines():\n",
    "                    if 'error'.encode('utf-8') in line:\n",
    "                        data.append(json.loads(line))\n",
    "    return data"
   ]
  },
  {
   "cell_type": "code",
   "execution_count": 3,
   "metadata": {},
   "outputs": [],
   "source": [
    "# load leader data and save as pickle file\n",
    "log_dir = \"../../logs/node_logs/ostn_03_29/leader/\"\n",
    "files = os.listdir(log_dir)\n",
    "data = read_data(files, log_dir)\n",
    "df = pd.DataFrame(data, columns = ['level', 'ip', 'error', 'time', 'message'])\n",
    "df.to_pickle(\"../../logs/node_logs/ostn_03_29/leader.pkl\")\n",
    "\n",
    "# load validator data and save as pickle file\n",
    "log_dir = \"../../logs/node_logs/ostn_03_29/validator/\"\n",
    "files = os.listdir(log_dir)\n",
    "data_val = read_data(files, log_dir)\n",
    "df_val = pd.DataFrame(data_val, columns = ['level', 'ip', 'error', 'time', 'message'])\n",
    "df_val.to_pickle(\"../../logs/node_logs/ostn_03_29/validator.pkl\")"
   ]
  },
  {
   "cell_type": "code",
   "execution_count": null,
   "metadata": {},
   "outputs": [],
   "source": []
  }
 ],
 "metadata": {
  "kernelspec": {
   "display_name": "Python 3",
   "language": "python",
   "name": "python3"
  },
  "language_info": {
   "codemirror_mode": {
    "name": "ipython",
    "version": 3
   },
   "file_extension": ".py",
   "mimetype": "text/x-python",
   "name": "python",
   "nbconvert_exporter": "python",
   "pygments_lexer": "ipython3",
   "version": "3.7.4"
  }
 },
 "nbformat": 4,
 "nbformat_minor": 2
}
