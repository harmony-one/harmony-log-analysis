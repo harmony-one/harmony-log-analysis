{
 "cells": [
  {
   "cell_type": "code",
   "execution_count": 1,
   "metadata": {
    "scrolled": true
   },
   "outputs": [],
   "source": [
    "import json\n",
    "import requests\n",
    "import pandas as pd\n",
    "from pytz import timezone\n",
    "import pytz\n",
    "from datetime import datetime"
   ]
  },
  {
   "cell_type": "code",
   "execution_count": 2,
   "metadata": {
    "scrolled": false
   },
   "outputs": [
    {
     "ename": "NameError",
     "evalue": "name 'job_lst' is not defined",
     "output_type": "error",
     "traceback": [
      "\u001b[0;31m---------------------------------------------------------------------------\u001b[0m",
      "\u001b[0;31mNameError\u001b[0m                                 Traceback (most recent call last)",
      "\u001b[0;32m<ipython-input-2-609b8a725c9b>\u001b[0m in \u001b[0;36m<module>\u001b[0;34m\u001b[0m\n\u001b[1;32m      8\u001b[0m \u001b[0mid_num\u001b[0m \u001b[0;34m=\u001b[0m \u001b[0;34m[\u001b[0m\u001b[0;34m]\u001b[0m\u001b[0;34m\u001b[0m\u001b[0;34m\u001b[0m\u001b[0m\n\u001b[1;32m      9\u001b[0m \u001b[0murl_lst\u001b[0m \u001b[0;34m=\u001b[0m \u001b[0;34m[\u001b[0m\u001b[0;34m]\u001b[0m\u001b[0;34m\u001b[0m\u001b[0;34m\u001b[0m\u001b[0m\n\u001b[0;32m---> 10\u001b[0;31m \u001b[0;32mfor\u001b[0m \u001b[0mj\u001b[0m \u001b[0;32min\u001b[0m \u001b[0mjob_lst\u001b[0m\u001b[0;34m[\u001b[0m\u001b[0;34m'builds'\u001b[0m\u001b[0;34m]\u001b[0m\u001b[0;34m:\u001b[0m\u001b[0;34m\u001b[0m\u001b[0;34m\u001b[0m\u001b[0m\n\u001b[0m\u001b[1;32m     11\u001b[0m     \u001b[0;31m# get the url\u001b[0m\u001b[0;34m\u001b[0m\u001b[0;34m\u001b[0m\u001b[0;34m\u001b[0m\u001b[0m\n\u001b[1;32m     12\u001b[0m     \u001b[0murl\u001b[0m \u001b[0;34m=\u001b[0m \u001b[0mj\u001b[0m\u001b[0;34m[\u001b[0m\u001b[0;34m'url'\u001b[0m\u001b[0;34m]\u001b[0m \u001b[0;34m+\u001b[0m \u001b[0;34m\"api/json\"\u001b[0m\u001b[0;34m\u001b[0m\u001b[0;34m\u001b[0m\u001b[0m\n",
      "\u001b[0;31mNameError\u001b[0m: name 'job_lst' is not defined"
     ]
    }
   ],
   "source": [
    "network = []\n",
    "branch = []\n",
    "binary = []\n",
    "date = []\n",
    "commit_hash = []\n",
    "github_link = []\n",
    "name = []\n",
    "id_num = []\n",
    "url_lst = []\n",
    "for j in job_lst['builds']:\n",
    "    # get the url\n",
    "    url = j['url'] + \"api/json\"\n",
    "    url_lst.append(j['url'])\n",
    "    res = requests.get(url)\n",
    "    content = json.loads(res.content)\n",
    "    \n",
    "    # data processing\n",
    "    for p in content['actions'][0]['parameters']:\n",
    "        if p['name'] == 'NETWORK':\n",
    "            network.append(p['value'])\n",
    "        elif p['name'] == 'BRANCH':\n",
    "            branch.append(p['value'])\n",
    "        elif p['name'] == 'STATIC_BINARY':\n",
    "            binary.append(p['value'])\n",
    "    pst = datetime.fromtimestamp(content['timestamp']/1000.0).astimezone(timezone('US/Pacific'))\n",
    "    date.append(pst.strftime(\"%Y/%m/%d %H:%M:%S\"))\n",
    "\n",
    "    for i in content['actions']:\n",
    "        if '_class' in i and i['_class'] == 'hudson.plugins.git.util.BuildData' and i['remoteUrls'][0] == 'https://github.com/harmony-one/harmony':\n",
    "            commit = i['lastBuiltRevision']['SHA1']\n",
    "            commit_hash.append(commit)\n",
    "            github_link.append(\"https://github.com/harmony-one/harmony/commit/\" + commit )\n",
    "        if '_class' in i and i['_class'] == 'hudson.model.CauseAction':\n",
    "            name.append(i['causes'][0]['userName'])\n",
    "    id_num.append(content['id'])"
   ]
  },
  {
   "cell_type": "code",
   "execution_count": null,
   "metadata": {},
   "outputs": [],
   "source": [
    "html_url = \"https://jenkins.harmony.one/job/harmony-release/api/json\"\n",
    "res = requests.get(html_url)\n",
    "job_lst = json.loads(res.content)"
   ]
  },
  {
   "cell_type": "code",
   "execution_count": null,
   "metadata": {
    "scrolled": false
   },
   "outputs": [],
   "source": [
    "df = pd.DataFrame(list(zip(id_num, date, network, branch, binary, name, commit_hash, url_lst, github_link)), columns = ['job-id','date','network','branch','binary','username', 'commit_hash', \"jenkins-link\",'github-link'])\n",
    "df            \n",
    "             "
   ]
  },
  {
   "cell_type": "code",
   "execution_count": null,
   "metadata": {},
   "outputs": [],
   "source": [
    "df.to_csv('./csv/jenkins.csv')"
   ]
  },
  {
   "cell_type": "code",
   "execution_count": null,
   "metadata": {},
   "outputs": [],
   "source": []
  }
 ],
 "metadata": {
  "kernelspec": {
   "display_name": "Python 3",
   "language": "python",
   "name": "python3"
  },
  "language_info": {
   "codemirror_mode": {
    "name": "ipython",
    "version": 3
   },
   "file_extension": ".py",
   "mimetype": "text/x-python",
   "name": "python",
   "nbconvert_exporter": "python",
   "pygments_lexer": "ipython3",
   "version": "3.7.6"
  }
 },
 "nbformat": 4,
 "nbformat_minor": 4
}
