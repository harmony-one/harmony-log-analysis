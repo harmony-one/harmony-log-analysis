{
 "cells": [
  {
   "cell_type": "markdown",
   "metadata": {},
   "source": [
    "# Log Analysis and Visulization"
   ]
  },
  {
   "cell_type": "code",
   "execution_count": null,
   "metadata": {},
   "outputs": [],
   "source": [
    "import utils\n",
    "import os\n",
    "from os import path\n",
    "import pickle\n",
    "import pandas as pd"
   ]
  },
  {
   "cell_type": "code",
   "execution_count": null,
   "metadata": {
    "scrolled": false
   },
   "outputs": [],
   "source": [
    "if __name__ == \"__main__\":\n",
    "    \n",
    "    with open('./tmp/shard.pkl', 'rb') as f:\n",
    "        shard = pickle.load(f)\n",
    "    with open('./tmp/param.pkl', 'rb') as f:\n",
    "        param = pickle.load(f)\n",
    "        \n",
    "    date = shard[0].iloc[0]['timestamp'].strftime(\"%Y-%m-%d %H:%M:%S\").split()[0].replace(\"-\",\"_\")     \n",
    "    fig_dir = \"../../graphs/test_logs/ostn/\" + date + \"/part/\"\n",
    "    html_dir = \"../../docs/graphs/test_logs/ostn/\" + date + \"/part/\"\n",
    "    \n",
    "    data = [html_dir, fig_dir]\n",
    "    for directory in data:\n",
    "        if not path.exists(directory):\n",
    "            try:\n",
    "                os.makedirs(directory)\n",
    "            except:\n",
    "                print(\"Could not make directory\")\n",
    "                exit(1)\n",
    "    \n",
    "    utils.set_config(param)\n",
    "    config = utils.config\n",
    "    ## get the index of the new chain started\n",
    "    index = []\n",
    "    for s in shard:\n",
    "        i = s[s['time_per_block'] < 0].index.tolist()   \n",
    "        if len(i) == 0:\n",
    "            break\n",
    "        i.insert(0,0)\n",
    "        i.append(len(s))\n",
    "        index.append(i)\n",
    "    \n",
    "    if len(index) == 0:\n",
    "        new = pd.concat(shard)\n",
    "        new.reset_index(inplace = True, drop = True)\n",
    "        utils.visualization(new, fig_dir, html_dir, config)\n",
    "    else:    \n",
    "        for i in range(len(index[0])-1):\n",
    "            df = []\n",
    "            for s in range(len(shard)):\n",
    "                df.append(shard[s].iloc[index[s][i]+1:index[s][i+1]])\n",
    "            new = pd.concat(df)\n",
    "\n",
    "            fig_path = fig_dir + \"chain_\" + str(i) + \"/\"\n",
    "            if not path.exists(fig_path):\n",
    "                os.makedirs(fig_path)\n",
    "\n",
    "            utils.visualization(new, fig_path, html_dir, config)"
   ]
  }
 ],
 "metadata": {
  "kernelspec": {
   "display_name": "Python 3",
   "language": "python",
   "name": "python3"
  },
  "language_info": {
   "codemirror_mode": {
    "name": "ipython",
    "version": 3
   },
   "file_extension": ".py",
   "mimetype": "text/x-python",
   "name": "python",
   "nbconvert_exporter": "python",
   "pygments_lexer": "ipython3",
   "version": "3.7.6"
  }
 },
 "nbformat": 4,
 "nbformat_minor": 2
}
