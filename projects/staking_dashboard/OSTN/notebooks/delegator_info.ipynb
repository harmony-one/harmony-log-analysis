{
 "cells": [
  {
   "cell_type": "code",
   "execution_count": 1,
   "metadata": {},
   "outputs": [],
   "source": [
    "import json\n",
    "import pandas as pd\n",
    "import os\n",
    "from os import path\n",
    "import requests\n",
    "import csv\n",
    "import re\n",
    "from collections import defaultdict"
   ]
  },
  {
   "cell_type": "code",
   "execution_count": 2,
   "metadata": {},
   "outputs": [],
   "source": [
    "def get_information(url, method, params):\n",
    "    \n",
    "    headers = {'Content-Type': 'application/json'}\n",
    "    data = {\"jsonrpc\":\"2.0\", \"method\": method, \"params\": params, \"id\":1}\n",
    "    r = requests.post(url, headers=headers, data = json.dumps(data))\n",
    "    content = json.loads(r.content)\n",
    "    return content"
   ]
  },
  {
   "cell_type": "code",
   "execution_count": 3,
   "metadata": {},
   "outputs": [],
   "source": [
    "def getAllValidatorInformation():\n",
    "    url = 'https://api.s0.os.hmny.io/'\n",
    "    method = 'hmy_getAllValidatorInformation'\n",
    "    params = [-1]\n",
    "    return get_information(method, params)['result']"
   ]
  },
  {
   "cell_type": "code",
   "execution_count": 4,
   "metadata": {},
   "outputs": [],
   "source": [
    "def getValidatorInfo(validator):\n",
    "    method = \"hmy_getValidatorInformation\"\n",
    "    params = [validator]\n",
    "    return get_information(method, params)['result']"
   ]
  },
  {
   "cell_type": "code",
   "execution_count": 5,
   "metadata": {},
   "outputs": [],
   "source": [
    "def getBalance(url, address):\n",
    "    url = 'https://api.s0.os.hmny.io/'\n",
    "    method = \"hmy_getBalance\"\n",
    "    params = [address, \"latest\"]\n",
    "    return int(get_information(url, method, params)['result'],16)"
   ]
  },
  {
   "cell_type": "code",
   "execution_count": 6,
   "metadata": {},
   "outputs": [],
   "source": [
    "def getTransactionCount(url, address):\n",
    "    method = \"hmy_getTransactionsCount\"\n",
    "    params = [address, \"ALL\"]\n",
    "    return get_information(url, method, params)['result']"
   ]
  },
  {
   "cell_type": "code",
   "execution_count": 7,
   "metadata": {},
   "outputs": [],
   "source": [
    "def getStakingTransactionCount(url, address):\n",
    "    method = 'hmy_getStakingTransactionsCount'\n",
    "    params = [address, 'ALL']\n",
    "    return get_information(url, method, params)['result']"
   ]
  },
  {
   "cell_type": "code",
   "execution_count": null,
   "metadata": {},
   "outputs": [],
   "source": [
    "def getNormalTransactionCount(address):\n",
    "    method = \"hmyv2_getTransactionsHistory\"\n",
    "    params = [{\n",
    "        \"address\": address,\n",
    "        \"fullTx\": False,\n",
    "        \"pageIndex\": 0,\n",
    "        \"pageSize\": 1000,\n",
    "        \"txType\": \"ALL\",\n",
    "        \"order\": \"ASC\"\n",
    "    }]\n",
    "    return get_information(method, params)['result']"
   ]
  },
  {
   "cell_type": "code",
   "execution_count": null,
   "metadata": {},
   "outputs": [],
   "source": [
    "def getEpoch():\n",
    "    method = \"hmy_getEpoch\"\n",
    "    params = []\n",
    "    epoch = get_information(method, params)['result']\n",
    "    return int(epoch, 16)"
   ]
  },
  {
   "cell_type": "code",
   "execution_count": null,
   "metadata": {},
   "outputs": [],
   "source": [
    "def read_csv(csv_file) -> (list):\n",
    "    encoding = 'utf-8'\n",
    "    r = requests.get(csv_file)\n",
    "    s = [x.decode(encoding) for x in r.content.splitlines()]\n",
    "    v = []\n",
    "    for line in csv.reader(s):\n",
    "        address = line[3].strip()\n",
    "        if re.match('one1', address) != None:\n",
    "            v.append(address)\n",
    "    return v"
   ]
  },
  {
   "cell_type": "code",
   "execution_count": null,
   "metadata": {},
   "outputs": [],
   "source": [
    "if __name__ == \"__main__\":  \n",
    "    \n",
    "    base = path.dirname(path.realpath(\"delegator_info\"))\n",
    "    data = path.abspath(path.join(base, 'csv'))\n",
    "    if not path.exists(data):\n",
    "        try:\n",
    "            os.mkdir(data)\n",
    "        except:\n",
    "            print(\"Could not make csv directory\")\n",
    "            exit(1)\n",
    "            \n",
    "    print(\"-- Data Processing --\")\n",
    "    validator_infos = getAllValidatorInformation()\n",
    "    del_reward = defaultdict(int)\n",
    "    del_stake = defaultdict(int)\n",
    "    undel = defaultdict(int)\n",
    "    val_address = []\n",
    "    epoch = getEpoch()\n",
    "    # get the accumualted reward in current block\n",
    "    for info in validator_infos:\n",
    "        address = info['validator']['address']\n",
    "        val_address.append(address)\n",
    "        for d in info['validator']['delegations']:\n",
    "            del_address = d['delegator-address']\n",
    "            reward = d['reward']/1e18\n",
    "            del_reward[del_address] += reward\n",
    "            amount = d['amount']/1e18\n",
    "            del_stake[del_address] += amount\n",
    "            for u in d['undelegations']:\n",
    "                if epoch - u['epoch'] <= 7:\n",
    "                    undel[del_address] += u['amount']/1e18\n",
    "                \n",
    "    del_address = set(del_reward.keys()) - set(val_address)\n",
    "    balance = dict()\n",
    "    recent_transaction = dict()\n",
    "    normal_transaction = dict()\n",
    "    for i in del_address:\n",
    "        balance[i] = float(getBalance(i)/1e18)\n",
    "        recent_transaction[i] = getTransactionCount(i)\n",
    "        normal_transaction[i] = len(getNormalTransactionCount(i)['transactions'])\n",
    "    balance_df = pd.DataFrame(balance.items(), columns=['address', 'ONEs available'])\n",
    "    recent_transaction_df = pd.DataFrame(recent_transaction.items(), columns = ['address', 'latest-transaction-count'])\n",
    "    normal_transaction_df = pd.DataFrame(normal_transaction.items(), columns = ['address', 'normal-transaction-count'])\n",
    "    new_del_reward = dict()\n",
    "    new_del_stake = dict()\n",
    "    new_undel = dict()\n",
    "    for k,v in del_reward.items():\n",
    "        if k in del_address:\n",
    "            new_del_reward[k] = v\n",
    "            new_del_stake[k] = del_stake[k]\n",
    "            new_undel[k] = undel[k]\n",
    "    reward_df = pd.DataFrame(new_del_reward.items(), columns=['address', 'lifetime-reward (total rewards - claim rewards)'])\n",
    "    stake_df = pd.DataFrame(new_del_stake.items(), columns=['address', 'stake (total delegated stake)'])\n",
    "    undel_df = pd.DataFrame(new_undel.items(), columns=['address', 'pending undelegation'])\n",
    "    df = reward_df.join(stake_df.set_index('address'), on = 'address')\n",
    "    df = df.join(balance_df.set_index('address'), on = 'address')\n",
    "    df = df.join(recent_transaction_df.set_index('address'), on = 'address')\n",
    "    df = df.join(normal_transaction_df.set_index('address'), on = 'address')\n",
    "    df = df.join(undel_df.set_index('address'), on = 'address')\n",
    "    df['initial-balance'] = 1304741\n",
    "#     df['total-lifetime-reward'] = df['lifetime-reward (total rewards - claim rewards)'] + df['ONEs available'] + df['pending undelegation'] - df['initial-balance'] + df['stake (total delegated stake)']\n",
    "    \n",
    "    print(\"-- Filter the delegators in the google sheet --\")\n",
    "    html = 'https://docs.google.com/spreadsheets/d/e/2PACX-1vTDAqXO-xVP4UwJlNJ6Qaws4N-TZ3FNZXqiSidPzU1I8pX5DS063d8h0jw84QhPmMDVBgKhopHhilFy/pub?gid=0&single=true&output=csv'\n",
    "    delegator = read_csv(html)\n",
    "    df['filter'] = df.apply(lambda c: True if c['address'] in delegator else False, axis = 1)\n",
    "    print(\"-- Save csv files to ./csv/delegator.csv --\")\n",
    "    df.to_csv(path.join(data, 'delegator.csv'))\n",
    "    \n",
    "    filter_df = df[df['filter']].reset_index(drop = True)\n",
    "    filter_df.to_csv(path.join(data, 'filter_delegator.csv'))\n",
    "    print(\"-- Save csv files to ./csv/filter_delegator.csv --\")\n",
    "\n"
   ]
  }
 ],
 "metadata": {
  "kernelspec": {
   "display_name": "Python 3",
   "language": "python",
   "name": "python3"
  },
  "language_info": {
   "codemirror_mode": {
    "name": "ipython",
    "version": 3
   },
   "file_extension": ".py",
   "mimetype": "text/x-python",
   "name": "python",
   "nbconvert_exporter": "python",
   "pygments_lexer": "ipython3",
   "version": "3.7.6"
  }
 },
 "nbformat": 4,
 "nbformat_minor": 2
}
