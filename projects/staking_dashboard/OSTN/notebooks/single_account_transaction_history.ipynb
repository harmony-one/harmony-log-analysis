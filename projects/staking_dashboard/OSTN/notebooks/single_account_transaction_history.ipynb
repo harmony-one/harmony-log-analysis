{
 "cells": [
  {
   "cell_type": "code",
   "execution_count": 1,
   "metadata": {},
   "outputs": [],
   "source": [
    "import json\n",
    "import requests\n",
    "import pandas as pd\n",
    "import datetime"
   ]
  },
  {
   "cell_type": "code",
   "execution_count": 2,
   "metadata": {},
   "outputs": [],
   "source": [
    "def get_information(url, method, params) -> dict:\n",
    "    headers = {'Content-Type': 'application/json'}\n",
    "    data = {\"jsonrpc\":\"2.0\", \"method\": method, \"params\": params, \"id\":1}\n",
    "    r = requests.post(url, headers=headers, data = json.dumps(data),timeout = 5)\n",
    "    if r.status_code != 200:\n",
    "        print(\"Error: Return status code %s\" % r.status_code)\n",
    "        return None\n",
    "    try:\n",
    "        content = json.loads(r.content)\n",
    "    except ValueError:\n",
    "        print(\"Error: Unable to read JSON reply\")\n",
    "        return None\n",
    "    \n",
    "    if \"error\" in content:\n",
    "        print(\"Error: The method does not exist/is not available\")\n",
    "        return None\n",
    "    else:\n",
    "        return content['result']"
   ]
  },
  {
   "cell_type": "code",
   "execution_count": 3,
   "metadata": {},
   "outputs": [],
   "source": [
    "def getNormalTransaction(shard, address):\n",
    "    url = endpoint[shard]\n",
    "    method = \"hmyv2_getTransactionsHistory\"\n",
    "    params = [{\n",
    "        \"address\": address,\n",
    "        \"fullTx\": True,\n",
    "        \"pageIndex\": 0,\n",
    "        \"pageSize\": 1000,\n",
    "        \"txType\": \"ALL\",\n",
    "        \"order\": \"ASC\"\n",
    "    }]\n",
    "    return get_information(url, method, params)"
   ]
  },
  {
   "cell_type": "code",
   "execution_count": 4,
   "metadata": {},
   "outputs": [],
   "source": [
    "endpoint = ['https://api.s0.os.hmny.io/', 'https://api.s1.os.hmny.io/', 'https://api.s2.os.hmny.io/', 'https://api.s3.os.hmny.io/']\n",
    "addr = 'one16xh2u9r4677egx4x3s0u966ave90l37hh7wq72'\n",
    "res = []\n",
    "for i in range(len(endpoint)):\n",
    "    res.extend(getNormalTransaction(i, addr)['transactions'])\n",
    "df = pd.DataFrame.from_dict(res, orient='columns')\n",
    "df['timestamp'] = df['timestamp'].apply(lambda c: datetime.datetime.fromtimestamp(c))\n",
    "df['value'] = df['value'].apply(lambda c: int(c/1e18))\n",
    "maggie = df[['timestamp','from','to','value']]\n",
    "maggie.to_csv('./csv/maggie_transaction.csv')"
   ]
  }
 ],
 "metadata": {
  "kernelspec": {
   "display_name": "Python 3",
   "language": "python",
   "name": "python3"
  },
  "language_info": {
   "codemirror_mode": {
    "name": "ipython",
    "version": 3
   },
   "file_extension": ".py",
   "mimetype": "text/x-python",
   "name": "python",
   "nbconvert_exporter": "python",
   "pygments_lexer": "ipython3",
   "version": "3.7.6"
  }
 },
 "nbformat": 4,
 "nbformat_minor": 4
}
