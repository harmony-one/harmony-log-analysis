{
 "cells": [
  {
   "cell_type": "code",
   "execution_count": 1,
   "metadata": {},
   "outputs": [],
   "source": [
    "import json\n",
    "import pandas as pd\n",
    "import os\n",
    "from os import path\n",
    "import requests\n",
    "import csv\n",
    "import re\n",
    "from collections import defaultdict\n",
    "import datetime"
   ]
  },
  {
   "cell_type": "code",
   "execution_count": 2,
   "metadata": {},
   "outputs": [],
   "source": [
    "def get_information(method, params):\n",
    "    url = 'https://api.s0.os.hmny.io/'\n",
    "    headers = {'Content-Type': 'application/json'}\n",
    "    data = {\"jsonrpc\":\"2.0\", \"method\": method, \"params\": params, \"id\":1}\n",
    "    r = requests.post(url, headers=headers, data = json.dumps(data))\n",
    "    content = json.loads(r.content)\n",
    "    return content"
   ]
  },
  {
   "cell_type": "code",
   "execution_count": 3,
   "metadata": {},
   "outputs": [],
   "source": [
    "def getAllValidatorInformation():\n",
    "    method = 'hmy_getAllValidatorInformation'\n",
    "    params = [-1]\n",
    "    return get_information(method, params)['result']"
   ]
  },
  {
   "cell_type": "code",
   "execution_count": 4,
   "metadata": {},
   "outputs": [],
   "source": [
    "def getValidatorInfo(validator):\n",
    "    method = \"hmy_getValidatorInformation\"\n",
    "    params = [validator]\n",
    "    return get_information(method, params)['result']"
   ]
  },
  {
   "cell_type": "code",
   "execution_count": 5,
   "metadata": {},
   "outputs": [],
   "source": [
    "def getBalance(address):\n",
    "    method = \"hmy_getBalance\"\n",
    "    params = [address, \"latest\"]\n",
    "    return int(get_information(method, params)['result'],16)"
   ]
  },
  {
   "cell_type": "code",
   "execution_count": 6,
   "metadata": {},
   "outputs": [],
   "source": [
    "def getTransactionCount(address):\n",
    "    method = \"hmy_getTransactionCount\"\n",
    "    params = [address, \"latest\"]\n",
    "    return int(get_information(method, params)['result'],16)"
   ]
  },
  {
   "cell_type": "code",
   "execution_count": 7,
   "metadata": {},
   "outputs": [],
   "source": [
    "def getNormalTransactionCount(address):\n",
    "    method = \"hmyv2_getTransactionsHistory\"\n",
    "    params = [{\n",
    "        \"address\": address,\n",
    "        \"fullTx\": False,\n",
    "        \"pageIndex\": 0,\n",
    "        \"pageSize\": 1000,\n",
    "        \"txType\": \"ALL\",\n",
    "        \"order\": \"ASC\"\n",
    "    }]\n",
    "    return get_information(method, params)['result']"
   ]
  },
  {
   "cell_type": "code",
   "execution_count": 8,
   "metadata": {},
   "outputs": [],
   "source": [
    "def getEpoch():\n",
    "    method = \"hmy_getEpoch\"\n",
    "    params = []\n",
    "    epoch = get_information(method, params)['result']\n",
    "    return int(epoch, 16)"
   ]
  },
  {
   "cell_type": "code",
   "execution_count": 10,
   "metadata": {},
   "outputs": [
    {
     "name": "stdout",
     "output_type": "stream",
     "text": [
      "-- Data Processing --\n",
      "-- Save csv files to ./csv/2020_04_28 06:09:32_all_delegators.csv --\n"
     ]
    }
   ],
   "source": [
    "if __name__ == \"__main__\":  \n",
    "    \n",
    "    base = path.dirname(path.realpath(\"all_delegator_info\"))\n",
    "    data = path.abspath(path.join(base, 'csv'))\n",
    "    if not path.exists(data):\n",
    "        try:\n",
    "            os.mkdir(data)\n",
    "        except:\n",
    "            print(\"Could not make csv directory\")\n",
    "            exit(1)\n",
    "            \n",
    "    print(\"-- Data Processing --\")\n",
    "    validator_infos = getAllValidatorInformation()\n",
    "    del_reward = defaultdict(int)\n",
    "    del_stake = defaultdict(int)\n",
    "    undel = defaultdict(int)\n",
    "    epoch = getEpoch()\n",
    "    # get the accumualted reward in current block\n",
    "    for info in validator_infos:\n",
    "\n",
    "        for d in info['validator']['delegations']:\n",
    "            del_address = d['delegator-address']\n",
    "            reward = d['reward']/1e18\n",
    "            del_reward[del_address] += reward\n",
    "            amount = d['amount']/1e18\n",
    "            del_stake[del_address] += amount\n",
    "            for u in d['undelegations']:\n",
    "                if epoch - u['epoch'] <= 7:\n",
    "                    undel[del_address] += u['amount']/1e18\n",
    "                \n",
    "    del_address = set(del_reward.keys()) \n",
    "    balance = dict()\n",
    "    recent_transaction = dict()\n",
    "    normal_transaction = dict()\n",
    "    for i in del_address:\n",
    "        balance[i] = float(getBalance(i)/1e18)\n",
    "        recent_transaction[i] = getTransactionCount(i)\n",
    "        normal_transaction[i] = len(getNormalTransactionCount(i)['transactions'])\n",
    "    balance_df = pd.DataFrame(balance.items(), columns=['address', 'balance (ONEs available = initial balance - current delegation - pending undelgation  + claim rewards)'])\n",
    "    recent_transaction_df = pd.DataFrame(recent_transaction.items(), columns = ['address', 'latesst-transaction-count'])\n",
    "    normal_transaction_df = pd.DataFrame(normal_transaction.items(), columns = ['address', 'normal-transaction-count'])\n",
    "    new_del_reward = dict()\n",
    "    new_del_stake = dict()\n",
    "    new_undel = dict()\n",
    "    for k,v in del_reward.items():\n",
    "        if k in del_address:\n",
    "            new_del_reward[k] = v\n",
    "            new_del_stake[k] = del_stake[k]\n",
    "            new_undel[k] = undel[k]\n",
    "    reward_df = pd.DataFrame(new_del_reward.items(), columns=['address', 'lifetime-reward (total rewards - claim rewards)'])\n",
    "    stake_df = pd.DataFrame(new_del_stake.items(), columns=['address', 'stake (total delegated stake)'])\n",
    "    undel_df = pd.DataFrame(new_undel.items(), columns=['address', 'pending undelegation'])\n",
    "    df = reward_df.join(stake_df.set_index('address'), on = 'address')\n",
    "    df = df.join(balance_df.set_index('address'), on = 'address')\n",
    "    df = df.join(recent_transaction_df.set_index('address'), on = 'address')\n",
    "    df = df.join(normal_transaction_df.set_index('address'), on = 'address')\n",
    "    df = df.join(undel_df.set_index('address'), on = 'address')\n",
    "    time = datetime.datetime.now().strftime(\"%Y_%m_%d %H:%M:%S\")\n",
    "    \n",
    "    print(\"-- Save csv files to ./csv/{:s}_all_delegators.csv --\".format(time))\n",
    "    df.to_csv(path.join(data, '{:s}all_delegators.csv'.format(time)))\n",
    "    \n",
    "\n"
   ]
  },
  {
   "cell_type": "code",
   "execution_count": null,
   "metadata": {},
   "outputs": [],
   "source": []
  }
 ],
 "metadata": {
  "kernelspec": {
   "display_name": "Python 3",
   "language": "python",
   "name": "python3"
  },
  "language_info": {
   "codemirror_mode": {
    "name": "ipython",
    "version": 3
   },
   "file_extension": ".py",
   "mimetype": "text/x-python",
   "name": "python",
   "nbconvert_exporter": "python",
   "pygments_lexer": "ipython3",
   "version": "3.7.6"
  }
 },
 "nbformat": 4,
 "nbformat_minor": 2
}
