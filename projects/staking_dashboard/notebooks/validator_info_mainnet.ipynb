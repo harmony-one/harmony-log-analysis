{
 "cells": [
  {
   "cell_type": "code",
   "execution_count": 1,
   "metadata": {},
   "outputs": [],
   "source": [
    "import json\n",
    "import pandas as pd\n",
    "import numpy as np\n",
    "import os\n",
    "from os import path\n",
    "import time\n",
    "import requests\n",
    "import re\n",
    "from collections import defaultdict"
   ]
  },
  {
   "cell_type": "code",
   "execution_count": 2,
   "metadata": {},
   "outputs": [],
   "source": [
    "def get_size(size):\n",
    "    html_url = \"https://staking-explorer2-268108.appspot.com/networks/harmony/validators_with_page?active=false&page=0&search=&size={}&sortOrder=desc&sortProperty=apr\".format(size)\n",
    "    res = requests.get(html_url)\n",
    "    content = json.loads(res.content)\n",
    "    return content['total']"
   ]
  },
  {
   "cell_type": "code",
   "execution_count": 3,
   "metadata": {},
   "outputs": [],
   "source": [
    "def get_validator(page, size):\n",
    "    html_url = \"https://staking-explorer2-268108.appspot.com/networks/harmony/validators_with_page?active=false&page={}&search=&size={}&sortOrder=desc&sortProperty=apr\".format(page, size)\n",
    "    res = requests.get(html_url)\n",
    "    content = json.loads(res.content)\n",
    "    return content['validators']"
   ]
  },
  {
   "cell_type": "code",
   "execution_count": 4,
   "metadata": {},
   "outputs": [],
   "source": [
    "# get uptime\n",
    "size = get_size(1)\n",
    "pages = size // 100 + 1\n",
    "# get the validator info\n",
    "validator = []\n",
    "for i in range(pages):\n",
    "    val = get_validator(i,100)\n",
    "    validator.extend(val)"
   ]
  },
  {
   "cell_type": "code",
   "execution_count": 5,
   "metadata": {},
   "outputs": [
    {
     "name": "stdout",
     "output_type": "stream",
     "text": [
      "csv file saved in http://analytics.hmny.io/edit/harmony-log-analysis/projects/staking_dashboard/csv/validator_info_mainnet.csv\n"
     ]
    }
   ],
   "source": [
    "column = list(validator[0].keys())\n",
    "remove = ['bls-public-keys','delegations','last-epoch-in-committee','update-height','remainder','voting_power','signed_blocks','blocks_should_sign','uctDate','index','commision-recent-change','average_stake','average_stake_by_bls','active']\n",
    "new_column = []\n",
    "for i in column:\n",
    "    if i not in remove:\n",
    "        new_column.append(i)\n",
    "df = pd.DataFrame(validator, columns = new_column)\n",
    "percent_change = ['rate','max-rate','max-change-rate', 'apr','uptime_percentage']\n",
    "for name in percent_change:\n",
    "    df[name] = df[name].apply(lambda c: \"{0:.2f}%\".format(float(c)*100))\n",
    "atto_change = ['min-self-delegation','max-total-delegation', 'self_stake', 'total_stake', 'lifetime_reward_accumulated']\n",
    "for name in atto_change:\n",
    "    df[name] = df[name].apply(lambda c: float(c)/1e18)\n",
    "df.to_csv('../csv/validator_info_mainnet.csv', index = False)\n",
    "print(f\"csv file saved in http://analytics.hmny.io/edit/harmony-log-analysis/projects/staking_dashboard/csv/validator_info_mainnet.csv\")"
   ]
  },
  {
   "cell_type": "markdown",
   "metadata": {},
   "source": [
    "## email address"
   ]
  },
  {
   "cell_type": "code",
   "execution_count": 6,
   "metadata": {},
   "outputs": [],
   "source": [
    "pattern = re.compile('(.+?@.+?)')\n",
    "address = []\n",
    "for i in df['security-contact']:\n",
    "    if re.match(pattern, i):\n",
    "        if \"&\" in i:\n",
    "            lst = i.split(\"&\")\n",
    "            for l in lst:\n",
    "                address.append(l.replace(\" \",\"\"))\n",
    "        else:\n",
    "            address.append(i)\n",
    "with open(\"../csv/address.txt\", \"w\") as f:\n",
    "    for i in set(address):\n",
    "        f.write(i)\n",
    "        f.write(\"\\n\")"
   ]
  }
 ],
 "metadata": {
  "kernelspec": {
   "display_name": "Python 3",
   "language": "python",
   "name": "python3"
  },
  "language_info": {
   "codemirror_mode": {
    "name": "ipython",
    "version": 3
   },
   "file_extension": ".py",
   "mimetype": "text/x-python",
   "name": "python",
   "nbconvert_exporter": "python",
   "pygments_lexer": "ipython3",
   "version": "3.7.6"
  }
 },
 "nbformat": 4,
 "nbformat_minor": 2
}
