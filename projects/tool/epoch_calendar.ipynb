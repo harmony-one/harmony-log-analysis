{
 "cells": [
  {
   "cell_type": "code",
   "execution_count": 1,
   "metadata": {},
   "outputs": [],
   "source": [
    "import pyhmy\n",
    "from pyhmy import (\n",
    "    blockchain\n",
    ")\n",
    "import logging\n",
    "from datetime import datetime\n",
    "from pytz import timezone\n",
    "from os import path\n",
    "import os\n",
    "import json"
   ]
  },
  {
   "cell_type": "code",
   "execution_count": 2,
   "metadata": {},
   "outputs": [],
   "source": [
    "\n",
    "        \n",
    "\n"
   ]
  },
  {
   "cell_type": "code",
   "execution_count": 3,
   "metadata": {},
   "outputs": [
    {
     "name": "stderr",
     "output_type": "stream",
     "text": [
      "{\"epoch\": 186, \"block\": 3375104, \"cst_time\": \"2020_05_16_15:08:52\", \"pst_time\": \"2020_05_16_08:08:52\"}\n",
      "{\"epoch\": 187, \"block\": 3391488, \"cst_time\": \"2020_05_18_13:18:48\", \"pst_time\": \"2020_05_18_06:18:48\"}\n",
      "{\"epoch\": 188, \"block\": 3407872, \"cst_time\": \"2020_05_20_13:14:40\", \"pst_time\": \"2020_05_20_06:14:40\"}\n",
      "{\"epoch\": 189, \"block\": 3424256, \"cst_time\": \"2020_05_22_16:43:23\", \"pst_time\": \"2020_05_22_09:43:23\"}\n",
      "{\"epoch\": 190, \"block\": 3440640, \"cst_time\": \"2020_05_24_11:18:05\", \"pst_time\": \"2020_05_24_04:18:05\"}\n",
      "{\"epoch\": 191, \"block\": 3457024, \"cst_time\": \"2020_05_26_08:59:27\", \"pst_time\": \"2020_05_26_01:59:27\"}\n",
      "{\"epoch\": 192, \"block\": 3473408, \"cst_time\": \"2020_05_28_07:45:57\", \"pst_time\": \"2020_05_28_00:45:57\"}\n",
      "{\"epoch\": 193, \"block\": 3489792, \"cst_time\": \"2020_05_30_07:41:46\", \"pst_time\": \"2020_05_30_00:41:46\"}\n",
      "{\"epoch\": 194, \"block\": 3506176, \"cst_time\": \"2020_05_31_23:59:04\", \"pst_time\": \"2020_05_31_16:59:04\"}\n",
      "{\"epoch\": 195, \"block\": 3522560, \"cst_time\": \"2020_06_02_15:07:18\", \"pst_time\": \"2020_06_02_08:07:18\"}\n",
      "{\"epoch\": 196, \"block\": 3538944, \"cst_time\": \"2020_06_04_05:44:11\", \"pst_time\": \"2020_06_03_22:44:11\"}\n",
      "{\"epoch\": 197, \"block\": 3555328, \"cst_time\": \"2020_06_05_20:25:16\", \"pst_time\": \"2020_06_05_13:25:16\"}\n",
      "{\"epoch\": 198, \"block\": 3571712, \"cst_time\": \"2020_06_07_10:54:05\", \"pst_time\": \"2020_06_07_03:54:05\"}\n",
      "{\"epoch\": 199, \"block\": 3588096, \"cst_time\": \"2020_06_09_02:29:41\", \"pst_time\": \"2020_06_08_19:29:41\"}\n",
      "{\"epoch\": 200, \"block\": 3604480, \"cst_time\": \"2020_06_10_17:00:51\", \"pst_time\": \"2020_06_10_10:00:51\"}\n",
      "{\"epoch\": 201, \"block\": 3620864, \"cst_time\": \"2020_06_12_09:01:49\", \"pst_time\": \"2020_06_12_02:01:49\"}\n",
      "{\"epoch\": 202, \"block\": 3637248, \"cst_time\": \"2020_06_13_23:50:05\", \"pst_time\": \"2020_06_13_16:50:05\"}\n",
      "{\"epoch\": 203, \"block\": 3653632, \"cst_time\": \"2020_06_15_15:21:59\", \"pst_time\": \"2020_06_15_08:21:59\"}\n",
      "{\"epoch\": 204, \"block\": 3670016, \"cst_time\": \"2020_06_17_08:09:30\", \"pst_time\": \"2020_06_17_01:09:30\"}\n"
     ]
    }
   ],
   "source": [
    "if __name__ == \"__main__\":\n",
    "    \n",
    "    base = path.dirname(path.realpath(\"epoch_calendar.ipynb\"))\n",
    "    log_dir = path.abspath(path.join(base, 'logs'))\n",
    "    if not path.exists(log_dir):\n",
    "        try:\n",
    "            os.makedirs(log_dir)\n",
    "        except:\n",
    "            print(\"Could not make data directory\")\n",
    "            exit(1)\n",
    "            \n",
    "    logger = logging.getLogger(\"calendar\")\n",
    "    logger.setLevel(logging.INFO)\n",
    "    filename = \"epoch_calendar.log\"\n",
    "    file_handler = logging.FileHandler(path.join(log_dir, filename))\n",
    "    file_handler.setLevel(logging.INFO)\n",
    "    console_handler = logging.StreamHandler()\n",
    "    console_handler.setLevel(logging.INFO)\n",
    "    logger.addHandler(file_handler)\n",
    "    logger.addHandler(console_handler)\n",
    "            \n",
    "    mainnetEpochBlock1 = 344064\n",
    "    blocksPerEpoch = 16384\n",
    "    endpoint = 'https://api.s0.t.hmny.io/'\n",
    "    staking_epoch = blockchain.get_staking_epoch(endpoint)\n",
    "    curr_epoch = blockchain.get_current_epoch(endpoint)\n",
    "    for i in range(staking_epoch, curr_epoch+1): \n",
    "        block_num = mainnetEpochBlock1 + blocksPerEpoch*(i-1)\n",
    "        timestamp = int(blockchain.get_block_by_number(block_num, endpoint)['timestamp'],16)\n",
    "        cst_time = datetime.fromtimestamp(timestamp).strftime('%Y_%m_%d_%H:%M:%S')\n",
    "        pst_time = datetime.fromtimestamp(timestamp).astimezone(timezone('US/Pacific')).strftime('%Y_%m_%d_%H:%M:%S')\n",
    "        t = {\n",
    "            \"epoch\": i,\n",
    "            \"block\": block_num,\n",
    "            \"cst_time\": cst_time,\n",
    "            \"pst_time\": pst_time\n",
    "        }\n",
    "        logger.info(json.dumps(t))\n",
    "    "
   ]
  }
 ],
 "metadata": {
  "kernelspec": {
   "display_name": "Python 3",
   "language": "python",
   "name": "python3"
  },
  "language_info": {
   "codemirror_mode": {
    "name": "ipython",
    "version": 3
   },
   "file_extension": ".py",
   "mimetype": "text/x-python",
   "name": "python",
   "nbconvert_exporter": "python",
   "pygments_lexer": "ipython3",
   "version": "3.7.6"
  }
 },
 "nbformat": 4,
 "nbformat_minor": 4
}
