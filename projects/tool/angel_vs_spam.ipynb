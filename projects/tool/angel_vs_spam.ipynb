{
 "cells": [
  {
   "cell_type": "code",
   "execution_count": 1,
   "metadata": {},
   "outputs": [],
   "source": [
    "import json \n",
    "import pandas as pd\n",
    "import numpy as np\n",
    "import re\n",
    "from datetime import datetime\n",
    "import seaborn as sns"
   ]
  },
  {
   "cell_type": "markdown",
   "metadata": {},
   "source": [
    "## import data"
   ]
  },
  {
   "cell_type": "code",
   "execution_count": 2,
   "metadata": {},
   "outputs": [],
   "source": [
    "data = []    \n",
    "with open(\"json/to-20200629.json\", errors='ignore') as f:\n",
    "    for line in f.readlines():\n",
    "        try: \n",
    "            data.append(json.loads(line))\n",
    "        except: \n",
    "            pass"
   ]
  },
  {
   "cell_type": "markdown",
   "metadata": {},
   "source": [
    "## data processing"
   ]
  },
  {
   "cell_type": "code",
   "execution_count": 32,
   "metadata": {},
   "outputs": [],
   "source": [
    "df = pd.DataFrame(data, columns = ['text','retweet_count','favorite_count','id','user','in_reply_to_status_id_str', 'quoted_status_id_str'])\n",
    "\n",
    "# get user info from users field\n",
    "column = ['description','screen_name','name','followers_count','statuses_count','favourites_count','created_at', 'entities','following']\n",
    "for c in column:\n",
    "    df[c] = df['user'].apply(lambda x: x[c])\n",
    "\n",
    "# get harmony url from entities\n",
    "df['harmony-url'] = df['entities'].apply(lambda x: x[\"url\"][\"urls\"][0][\"expanded_url\"] if 'url' in x else (x['description'][\"urls\"][0][\"expanded_url\"] if \"description\" in x and x['description']['urls'] else \"\"))    \n",
    "df.drop(['user','entities'], axis=1, inplace = True)\n",
    "# create the retweet link for query\n",
    "df['retweet_link'] = df.apply(lambda c: \"https://twitter.com/{}/status/{}\".format(c['screen_name'],c['id']), axis = 1)\n",
    "\n",
    "# change create time to datetime type\n",
    "df['created_at'] = df['created_at'].apply(lambda c: datetime.strptime(c,'%a %b %d %H:%M:%S +0000 %Y'))\n",
    "\n",
    "df.drop(['id'], axis = 1, inplace=True)"
   ]
  },
  {
   "cell_type": "code",
   "execution_count": 59,
   "metadata": {},
   "outputs": [],
   "source": [
    "df['harmony-url'] = df['entities'].apply(lambda x: x[\"url\"][\"urls\"][0][\"expanded_url\"] if 'url' in x else (x['description'][\"urls\"][0][\"expanded_url\"] if \"description\" in x and x['description']['urls'] else \"\"))  "
   ]
  },
  {
   "cell_type": "markdown",
   "metadata": {},
   "source": [
    "### - original 10399 data"
   ]
  },
  {
   "cell_type": "code",
   "execution_count": 4,
   "metadata": {},
   "outputs": [
    {
     "data": {
      "text/plain": [
       "(10399, 15)"
      ]
     },
     "execution_count": 4,
     "metadata": {},
     "output_type": "execute_result"
    }
   ],
   "source": [
    "df.shape"
   ]
  },
  {
   "cell_type": "markdown",
   "metadata": {},
   "source": [
    "### - filter only June pow related twitter"
   ]
  },
  {
   "cell_type": "code",
   "execution_count": 5,
   "metadata": {},
   "outputs": [],
   "source": [
    "df['reply_pow_flag'] = df['in_reply_to_status_id_str'].apply(lambda c: True if not c \\\n",
    "                                                   or c == '1276552098402889731' \\\n",
    "                                                   else False)\n",
    "\n",
    " \n",
    "df = df[df['reply_pow_flag']] \n",
    "df['quote_pow_flag'] = df['quoted_status_id_str'].apply(lambda c: True if np.isnan(float(c)) \\\n",
    "                                                         or c == '1276552098402889731' \\\n",
    "                                                         else False)\n",
    "df = df[df['quote_pow_flag']] "
   ]
  },
  {
   "cell_type": "markdown",
   "metadata": {},
   "source": [
    "### - filter the original writer who retweets/reply with comments "
   ]
  },
  {
   "cell_type": "code",
   "execution_count": 6,
   "metadata": {},
   "outputs": [],
   "source": [
    "df['RT_flag'] = df['text'].apply(lambda c: True if \"RT\" in c else False)\n",
    "comment_df = df[df['RT_flag'] == False]"
   ]
  },
  {
   "cell_type": "markdown",
   "metadata": {},
   "source": [
    "### - filter those with correct harmony-link \n",
    "- http://harmony.one/#[NAME]=[ONE-address] \n",
    "- https://harmony.one/#[NAME]=[ONE-address]"
   ]
  },
  {
   "cell_type": "code",
   "execution_count": 7,
   "metadata": {
    "collapsed": true
   },
   "outputs": [
    {
     "name": "stderr",
     "output_type": "stream",
     "text": [
      "/home/ubuntu/anaconda3/lib/python3.7/site-packages/ipykernel_launcher.py:2: SettingWithCopyWarning: \n",
      "A value is trying to be set on a copy of a slice from a DataFrame.\n",
      "Try using .loc[row_indexer,col_indexer] = value instead\n",
      "\n",
      "See the caveats in the documentation: https://pandas.pydata.org/pandas-docs/stable/user_guide/indexing.html#returning-a-view-versus-a-copy\n",
      "  \n",
      "/home/ubuntu/anaconda3/lib/python3.7/site-packages/pandas/core/frame.py:3997: SettingWithCopyWarning: \n",
      "A value is trying to be set on a copy of a slice from a DataFrame\n",
      "\n",
      "See the caveats in the documentation: https://pandas.pydata.org/pandas-docs/stable/user_guide/indexing.html#returning-a-view-versus-a-copy\n",
      "  errors=errors,\n"
     ]
    }
   ],
   "source": [
    "pattern = re.compile('.*?\\/#.*?=one.*?')\n",
    "comment_df['hmy-url-flag'] = comment_df['harmony-url'].apply(lambda c: True if re.match(pattern, c) else False)\n",
    "filter_df = comment_df[comment_df['hmy-url-flag']]\n",
    "filter_df.drop(['RT_flag','hmy-url-flag', 'quote_pow_flag','reply_pow_flag'], axis=1, inplace = True)"
   ]
  },
  {
   "cell_type": "markdown",
   "metadata": {},
   "source": [
    "### - filter followers 100+ retweet > 0"
   ]
  },
  {
   "cell_type": "code",
   "execution_count": 8,
   "metadata": {},
   "outputs": [],
   "source": [
    "filter_df = filter_df[(filter_df['followers_count'] >= 100) & (filter_df['retweet_count'] > 0)]\n",
    "filter_df.reset_index(drop = True, inplace = True)"
   ]
  },
  {
   "cell_type": "markdown",
   "metadata": {},
   "source": [
    "## Statisc summary of the filter result\n",
    "- 129 unique users satisfied reward\n",
    "- among those 15 are following by stephen\n",
    "- max retweet 206"
   ]
  },
  {
   "cell_type": "code",
   "execution_count": 16,
   "metadata": {},
   "outputs": [
    {
     "data": {
      "text/plain": [
       "129"
      ]
     },
     "execution_count": 16,
     "metadata": {},
     "output_type": "execute_result"
    }
   ],
   "source": [
    "len(filter_df['screen_name'].unique())"
   ]
  },
  {
   "cell_type": "code",
   "execution_count": 9,
   "metadata": {},
   "outputs": [
    {
     "data": {
      "text/html": [
       "<div>\n",
       "<style scoped>\n",
       "    .dataframe tbody tr th:only-of-type {\n",
       "        vertical-align: middle;\n",
       "    }\n",
       "\n",
       "    .dataframe tbody tr th {\n",
       "        vertical-align: top;\n",
       "    }\n",
       "\n",
       "    .dataframe thead th {\n",
       "        text-align: right;\n",
       "    }\n",
       "</style>\n",
       "<table border=\"1\" class=\"dataframe\">\n",
       "  <thead>\n",
       "    <tr style=\"text-align: right;\">\n",
       "      <th></th>\n",
       "      <th>retweet_count</th>\n",
       "      <th>favorite_count</th>\n",
       "      <th>followers_count</th>\n",
       "      <th>statuses_count</th>\n",
       "      <th>favourites_count</th>\n",
       "    </tr>\n",
       "  </thead>\n",
       "  <tbody>\n",
       "    <tr>\n",
       "      <th>count</th>\n",
       "      <td>132.000000</td>\n",
       "      <td>132.000000</td>\n",
       "      <td>132.000000</td>\n",
       "      <td>132.000000</td>\n",
       "      <td>132.000000</td>\n",
       "    </tr>\n",
       "    <tr>\n",
       "      <th>mean</th>\n",
       "      <td>25.484848</td>\n",
       "      <td>20.924242</td>\n",
       "      <td>547.151515</td>\n",
       "      <td>3150.219697</td>\n",
       "      <td>2561.742424</td>\n",
       "    </tr>\n",
       "    <tr>\n",
       "      <th>std</th>\n",
       "      <td>35.832623</td>\n",
       "      <td>27.604519</td>\n",
       "      <td>1046.829335</td>\n",
       "      <td>10248.485268</td>\n",
       "      <td>6907.880526</td>\n",
       "    </tr>\n",
       "    <tr>\n",
       "      <th>min</th>\n",
       "      <td>1.000000</td>\n",
       "      <td>0.000000</td>\n",
       "      <td>100.000000</td>\n",
       "      <td>14.000000</td>\n",
       "      <td>1.000000</td>\n",
       "    </tr>\n",
       "    <tr>\n",
       "      <th>25%</th>\n",
       "      <td>3.000000</td>\n",
       "      <td>4.000000</td>\n",
       "      <td>131.750000</td>\n",
       "      <td>336.750000</td>\n",
       "      <td>210.750000</td>\n",
       "    </tr>\n",
       "    <tr>\n",
       "      <th>50%</th>\n",
       "      <td>12.000000</td>\n",
       "      <td>11.000000</td>\n",
       "      <td>192.000000</td>\n",
       "      <td>724.500000</td>\n",
       "      <td>510.500000</td>\n",
       "    </tr>\n",
       "    <tr>\n",
       "      <th>75%</th>\n",
       "      <td>33.000000</td>\n",
       "      <td>24.000000</td>\n",
       "      <td>511.750000</td>\n",
       "      <td>2173.500000</td>\n",
       "      <td>1935.250000</td>\n",
       "    </tr>\n",
       "    <tr>\n",
       "      <th>max</th>\n",
       "      <td>206.000000</td>\n",
       "      <td>159.000000</td>\n",
       "      <td>8486.000000</td>\n",
       "      <td>106011.000000</td>\n",
       "      <td>48848.000000</td>\n",
       "    </tr>\n",
       "  </tbody>\n",
       "</table>\n",
       "</div>"
      ],
      "text/plain": [
       "       retweet_count  favorite_count  followers_count  statuses_count  \\\n",
       "count     132.000000      132.000000       132.000000      132.000000   \n",
       "mean       25.484848       20.924242       547.151515     3150.219697   \n",
       "std        35.832623       27.604519      1046.829335    10248.485268   \n",
       "min         1.000000        0.000000       100.000000       14.000000   \n",
       "25%         3.000000        4.000000       131.750000      336.750000   \n",
       "50%        12.000000       11.000000       192.000000      724.500000   \n",
       "75%        33.000000       24.000000       511.750000     2173.500000   \n",
       "max       206.000000      159.000000      8486.000000   106011.000000   \n",
       "\n",
       "       favourites_count  \n",
       "count        132.000000  \n",
       "mean        2561.742424  \n",
       "std         6907.880526  \n",
       "min            1.000000  \n",
       "25%          210.750000  \n",
       "50%          510.500000  \n",
       "75%         1935.250000  \n",
       "max        48848.000000  "
      ]
     },
     "execution_count": 9,
     "metadata": {},
     "output_type": "execute_result"
    }
   ],
   "source": [
    "filter_df.describe()"
   ]
  },
  {
   "cell_type": "code",
   "execution_count": 10,
   "metadata": {},
   "outputs": [
    {
     "data": {
      "text/plain": [
       "15"
      ]
     },
     "execution_count": 10,
     "metadata": {},
     "output_type": "execute_result"
    }
   ],
   "source": [
    "len(filter_df[filter_df['following']])"
   ]
  },
  {
   "cell_type": "markdown",
   "metadata": {},
   "source": [
    "## Histogram of retweet counts\n",
    "- 6 ppl > 100 retweets\n",
    "- 23 ppl > 50 retweets"
   ]
  },
  {
   "cell_type": "code",
   "execution_count": 11,
   "metadata": {},
   "outputs": [
    {
     "data": {
      "text/plain": [
       "<matplotlib.axes._subplots.AxesSubplot at 0x7f2961f03710>"
      ]
     },
     "execution_count": 11,
     "metadata": {},
     "output_type": "execute_result"
    },
    {
     "data": {
      "image/png": "[encoded data removed]",
      "text/plain": [
       "<Figure size 432x288 with 1 Axes>"
      ]
     },
     "metadata": {
      "needs_background": "light"
     },
     "output_type": "display_data"
    }
   ],
   "source": [
    "sns.distplot(filter_df['retweet_count'], bins=10, rug=True)"
   ]
  },
  {
   "cell_type": "markdown",
   "metadata": {},
   "source": [
    "### - retweets 100 +"
   ]
  },
  {
   "cell_type": "code",
   "execution_count": 12,
   "metadata": {},
   "outputs": [
    {
     "data": {
      "text/html": [
       "<div>\n",
       "<style scoped>\n",
       "    .dataframe tbody tr th:only-of-type {\n",
       "        vertical-align: middle;\n",
       "    }\n",
       "\n",
       "    .dataframe tbody tr th {\n",
       "        vertical-align: top;\n",
       "    }\n",
       "\n",
       "    .dataframe thead th {\n",
       "        text-align: right;\n",
       "    }\n",
       "</style>\n",
       "<table border=\"1\" class=\"dataframe\">\n",
       "  <thead>\n",
       "    <tr style=\"text-align: right;\">\n",
       "      <th></th>\n",
       "      <th>text</th>\n",
       "      <th>retweet_count</th>\n",
       "      <th>name</th>\n",
       "      <th>created_at</th>\n",
       "      <th>following</th>\n",
       "    </tr>\n",
       "  </thead>\n",
       "  <tbody>\n",
       "    <tr>\n",
       "      <th>13</th>\n",
       "      <td>@stse @cz_binance @HuobiGlobal @AtomicWallet C...</td>\n",
       "      <td>206</td>\n",
       "      <td>Kim Abrahan 🇵🇭 $SLNS</td>\n",
       "      <td>2019-09-19 01:19:38</td>\n",
       "      <td>False</td>\n",
       "    </tr>\n",
       "    <tr>\n",
       "      <th>34</th>\n",
       "      <td>@stse\\nHarmony introduced Harmony Angels - Rad...</td>\n",
       "      <td>118</td>\n",
       "      <td>Jignesh Beladiya</td>\n",
       "      <td>2010-06-25 05:15:42</td>\n",
       "      <td>False</td>\n",
       "    </tr>\n",
       "    <tr>\n",
       "      <th>37</th>\n",
       "      <td>@stse @cz_binance @HuobiGlobal @AtomicWallet J...</td>\n",
       "      <td>140</td>\n",
       "      <td>✨🔥✨ RENGGA ✨🔥✨</td>\n",
       "      <td>2019-10-26 10:57:17</td>\n",
       "      <td>False</td>\n",
       "    </tr>\n",
       "    <tr>\n",
       "      <th>43</th>\n",
       "      <td>@stse @cz_binance @HuobiGlobal @AtomicWallet #...</td>\n",
       "      <td>116</td>\n",
       "      <td>Kasurganteng</td>\n",
       "      <td>2018-11-17 01:58:58</td>\n",
       "      <td>False</td>\n",
       "    </tr>\n",
       "    <tr>\n",
       "      <th>121</th>\n",
       "      <td>@stse @cz_binance @HuobiGlobal @AtomicWallet #...</td>\n",
       "      <td>190</td>\n",
       "      <td>Pratama raka</td>\n",
       "      <td>2013-05-19 14:57:17</td>\n",
       "      <td>False</td>\n",
       "    </tr>\n",
       "    <tr>\n",
       "      <th>131</th>\n",
       "      <td>@stse\\nOur mission is to scale trust for billi...</td>\n",
       "      <td>151</td>\n",
       "      <td>Zunaidi Munandar Siregar</td>\n",
       "      <td>2018-07-26 00:45:47</td>\n",
       "      <td>True</td>\n",
       "    </tr>\n",
       "  </tbody>\n",
       "</table>\n",
       "</div>"
      ],
      "text/plain": [
       "                                                  text  retweet_count  \\\n",
       "13   @stse @cz_binance @HuobiGlobal @AtomicWallet C...            206   \n",
       "34   @stse\\nHarmony introduced Harmony Angels - Rad...            118   \n",
       "37   @stse @cz_binance @HuobiGlobal @AtomicWallet J...            140   \n",
       "43   @stse @cz_binance @HuobiGlobal @AtomicWallet #...            116   \n",
       "121  @stse @cz_binance @HuobiGlobal @AtomicWallet #...            190   \n",
       "131  @stse\\nOur mission is to scale trust for billi...            151   \n",
       "\n",
       "                         name          created_at  following  \n",
       "13       Kim Abrahan 🇵🇭 $SLNS 2019-09-19 01:19:38      False  \n",
       "34           Jignesh Beladiya 2010-06-25 05:15:42      False  \n",
       "37             ✨🔥✨ RENGGA ✨🔥✨ 2019-10-26 10:57:17      False  \n",
       "43               Kasurganteng 2018-11-17 01:58:58      False  \n",
       "121              Pratama raka 2013-05-19 14:57:17      False  \n",
       "131  Zunaidi Munandar Siregar 2018-07-26 00:45:47       True  "
      ]
     },
     "execution_count": 12,
     "metadata": {},
     "output_type": "execute_result"
    }
   ],
   "source": [
    "filter_df[filter_df['retweet_count'] > 100][['text','retweet_count','name','created_at','following']]"
   ]
  },
  {
   "cell_type": "code",
   "execution_count": 13,
   "metadata": {},
   "outputs": [
    {
     "name": "stdout",
     "output_type": "stream",
     "text": [
      "https://twitter.com/cabs_kim/status/1276875338971090946\n",
      "https://twitter.com/jigneshon/status/1276765382196506624\n",
      "https://twitter.com/jonospirit/status/1276737190932799493\n",
      "https://twitter.com/Kasurganteng/status/1276711848096624644\n",
      "https://twitter.com/pra_rakapratama/status/1276553640963002368\n",
      "https://twitter.com/MunandarZunaidi/status/1276446873528578048\n"
     ]
    }
   ],
   "source": [
    "check_df = filter_df[filter_df['retweet_count'] > 100]\n",
    "for i in range(len(check_df)):\n",
    "    print(check_df.iloc[i]['retweet_link'])"
   ]
  },
  {
   "cell_type": "markdown",
   "metadata": {},
   "source": [
    "### - retweets 50+ "
   ]
  },
  {
   "cell_type": "code",
   "execution_count": 21,
   "metadata": {},
   "outputs": [
    {
     "data": {
      "text/plain": [
       "23"
      ]
     },
     "execution_count": 21,
     "metadata": {},
     "output_type": "execute_result"
    }
   ],
   "source": [
    "len(filter_df[filter_df['retweet_count'] > 50])"
   ]
  },
  {
   "cell_type": "code",
   "execution_count": 57,
   "metadata": {},
   "outputs": [
    {
     "name": "stdout",
     "output_type": "stream",
     "text": [
      "https://twitter.com/cabs_kim/status/1276875338971090946\n",
      "https://twitter.com/Ilhamak15659158/status/1276784200041951232\n",
      "https://twitter.com/bhaktidas108/status/1276780194393702401\n",
      "https://twitter.com/jigneshon/status/1276765382196506624\n",
      "https://twitter.com/dukuncoin/status/1276740731512578050\n",
      "https://twitter.com/jonospirit/status/1276737190932799493\n",
      "https://twitter.com/Angkasah09/status/1276733666723389441\n",
      "https://twitter.com/Kasurganteng/status/1276711848096624644\n",
      "https://twitter.com/agli_chandra/status/1276687486903660549\n",
      "https://twitter.com/fandiyusuf_710/status/1276594041094729729\n",
      "https://twitter.com/ahsanedge/status/1276587250545909761\n",
      "https://twitter.com/stse/status/1276584018998222849\n",
      "https://twitter.com/Lastri43468297/status/1276582893821636609\n",
      "https://twitter.com/salmanmbstu96/status/1276566320377556993\n",
      "https://twitter.com/dee_jick/status/1276557906549207041\n",
      "https://twitter.com/NurulHasikin17/status/1276554366279839745\n",
      "https://twitter.com/Cryptotest14/status/1276554319756775425\n",
      "https://twitter.com/happy_trader1/status/1276553949873451009\n",
      "https://twitter.com/pra_rakapratama/status/1276553640963002368\n",
      "https://twitter.com/xplrIT/status/1276552501676912640\n",
      "https://twitter.com/meymeymi/status/1276476671609036800\n",
      "https://twitter.com/BhendotMamz/status/1276467557348724738\n",
      "https://twitter.com/MunandarZunaidi/status/1276446873528578048\n"
     ]
    }
   ],
   "source": [
    "check_df = filter_df[(filter_df['retweet_count'] > 50)]\n",
    "for i in range(len(check_df)):\n",
    "    print(check_df.iloc[i]['retweet_link'])"
   ]
  },
  {
   "cell_type": "markdown",
   "metadata": {},
   "source": [
    "### - retweets 50+ and followed by stephen"
   ]
  },
  {
   "cell_type": "code",
   "execution_count": 22,
   "metadata": {},
   "outputs": [
    {
     "data": {
      "text/html": [
       "<div>\n",
       "<style scoped>\n",
       "    .dataframe tbody tr th:only-of-type {\n",
       "        vertical-align: middle;\n",
       "    }\n",
       "\n",
       "    .dataframe tbody tr th {\n",
       "        vertical-align: top;\n",
       "    }\n",
       "\n",
       "    .dataframe thead th {\n",
       "        text-align: right;\n",
       "    }\n",
       "</style>\n",
       "<table border=\"1\" class=\"dataframe\">\n",
       "  <thead>\n",
       "    <tr style=\"text-align: right;\">\n",
       "      <th></th>\n",
       "      <th>text</th>\n",
       "      <th>retweet_count</th>\n",
       "      <th>name</th>\n",
       "      <th>created_at</th>\n",
       "      <th>following</th>\n",
       "    </tr>\n",
       "  </thead>\n",
       "  <tbody>\n",
       "    <tr>\n",
       "      <th>66</th>\n",
       "      <td>@stse @cz_binance @HuobiGlobal @AtomicWallet #...</td>\n",
       "      <td>51</td>\n",
       "      <td>F🅰ndy</td>\n",
       "      <td>2012-07-19 08:18:32</td>\n",
       "      <td>True</td>\n",
       "    </tr>\n",
       "    <tr>\n",
       "      <th>72</th>\n",
       "      <td>we've reserved vanity url https://t.co/TYUtTLS...</td>\n",
       "      <td>89</td>\n",
       "      <td>stephen tse</td>\n",
       "      <td>2008-03-06 00:46:35</td>\n",
       "      <td>True</td>\n",
       "    </tr>\n",
       "    <tr>\n",
       "      <th>131</th>\n",
       "      <td>@stse\\nOur mission is to scale trust for billi...</td>\n",
       "      <td>151</td>\n",
       "      <td>Zunaidi Munandar Siregar</td>\n",
       "      <td>2018-07-26 00:45:47</td>\n",
       "      <td>True</td>\n",
       "    </tr>\n",
       "  </tbody>\n",
       "</table>\n",
       "</div>"
      ],
      "text/plain": [
       "                                                  text  retweet_count  \\\n",
       "66   @stse @cz_binance @HuobiGlobal @AtomicWallet #...             51   \n",
       "72   we've reserved vanity url https://t.co/TYUtTLS...             89   \n",
       "131  @stse\\nOur mission is to scale trust for billi...            151   \n",
       "\n",
       "                         name          created_at  following  \n",
       "66                      F🅰ndy 2012-07-19 08:18:32       True  \n",
       "72                stephen tse 2008-03-06 00:46:35       True  \n",
       "131  Zunaidi Munandar Siregar 2018-07-26 00:45:47       True  "
      ]
     },
     "execution_count": 22,
     "metadata": {},
     "output_type": "execute_result"
    }
   ],
   "source": [
    "filter_df[(filter_df['retweet_count'] > 50) & (filter_df['following'])][['text','retweet_count','name','created_at','following']]"
   ]
  },
  {
   "cell_type": "code",
   "execution_count": 23,
   "metadata": {},
   "outputs": [
    {
     "name": "stdout",
     "output_type": "stream",
     "text": [
      "https://twitter.com/fandiyusuf_710/status/1276594041094729729\n",
      "https://twitter.com/stse/status/1276584018998222849\n",
      "https://twitter.com/MunandarZunaidi/status/1276446873528578048\n"
     ]
    }
   ],
   "source": [
    "check_df = filter_df[(filter_df['retweet_count'] > 50) & (filter_df['following'])]\n",
    "for i in range(len(check_df)):\n",
    "    print(check_df.iloc[i]['retweet_link'])"
   ]
  },
  {
   "cell_type": "markdown",
   "metadata": {},
   "source": [
    "### - retweets 10+ and followed by stephen"
   ]
  },
  {
   "cell_type": "code",
   "execution_count": 14,
   "metadata": {},
   "outputs": [
    {
     "data": {
      "text/html": [
       "<div>\n",
       "<style scoped>\n",
       "    .dataframe tbody tr th:only-of-type {\n",
       "        vertical-align: middle;\n",
       "    }\n",
       "\n",
       "    .dataframe tbody tr th {\n",
       "        vertical-align: top;\n",
       "    }\n",
       "\n",
       "    .dataframe thead th {\n",
       "        text-align: right;\n",
       "    }\n",
       "</style>\n",
       "<table border=\"1\" class=\"dataframe\">\n",
       "  <thead>\n",
       "    <tr style=\"text-align: right;\">\n",
       "      <th></th>\n",
       "      <th>text</th>\n",
       "      <th>retweet_count</th>\n",
       "      <th>name</th>\n",
       "      <th>created_at</th>\n",
       "      <th>following</th>\n",
       "    </tr>\n",
       "  </thead>\n",
       "  <tbody>\n",
       "    <tr>\n",
       "      <th>61</th>\n",
       "      <td>@stse @cz_binance @HuobiGlobal @AtomicWallet J...</td>\n",
       "      <td>18</td>\n",
       "      <td>Ganesha Upadhyaya</td>\n",
       "      <td>2011-02-10 01:02:30</td>\n",
       "      <td>True</td>\n",
       "    </tr>\n",
       "    <tr>\n",
       "      <th>66</th>\n",
       "      <td>@stse @cz_binance @HuobiGlobal @AtomicWallet #...</td>\n",
       "      <td>51</td>\n",
       "      <td>F🅰ndy</td>\n",
       "      <td>2012-07-19 08:18:32</td>\n",
       "      <td>True</td>\n",
       "    </tr>\n",
       "    <tr>\n",
       "      <th>72</th>\n",
       "      <td>we've reserved vanity url https://t.co/TYUtTLS...</td>\n",
       "      <td>89</td>\n",
       "      <td>stephen tse</td>\n",
       "      <td>2008-03-06 00:46:35</td>\n",
       "      <td>True</td>\n",
       "    </tr>\n",
       "    <tr>\n",
       "      <th>100</th>\n",
       "      <td>@stse @cz_binance @HuobiGlobal @AtomicWallet @...</td>\n",
       "      <td>38</td>\n",
       "      <td>Mach G</td>\n",
       "      <td>2017-04-25 14:38:20</td>\n",
       "      <td>True</td>\n",
       "    </tr>\n",
       "    <tr>\n",
       "      <th>131</th>\n",
       "      <td>@stse\\nOur mission is to scale trust for billi...</td>\n",
       "      <td>151</td>\n",
       "      <td>Zunaidi Munandar Siregar</td>\n",
       "      <td>2018-07-26 00:45:47</td>\n",
       "      <td>True</td>\n",
       "    </tr>\n",
       "  </tbody>\n",
       "</table>\n",
       "</div>"
      ],
      "text/plain": [
       "                                                  text  retweet_count  \\\n",
       "61   @stse @cz_binance @HuobiGlobal @AtomicWallet J...             18   \n",
       "66   @stse @cz_binance @HuobiGlobal @AtomicWallet #...             51   \n",
       "72   we've reserved vanity url https://t.co/TYUtTLS...             89   \n",
       "100  @stse @cz_binance @HuobiGlobal @AtomicWallet @...             38   \n",
       "131  @stse\\nOur mission is to scale trust for billi...            151   \n",
       "\n",
       "                         name          created_at  following  \n",
       "61          Ganesha Upadhyaya 2011-02-10 01:02:30       True  \n",
       "66                      F🅰ndy 2012-07-19 08:18:32       True  \n",
       "72                stephen tse 2008-03-06 00:46:35       True  \n",
       "100                    Mach G 2017-04-25 14:38:20       True  \n",
       "131  Zunaidi Munandar Siregar 2018-07-26 00:45:47       True  "
      ]
     },
     "execution_count": 14,
     "metadata": {},
     "output_type": "execute_result"
    }
   ],
   "source": [
    "filter_df[(filter_df['retweet_count'] > 10) & (filter_df['following'])][['text','retweet_count','name','created_at','following']]"
   ]
  },
  {
   "cell_type": "code",
   "execution_count": 25,
   "metadata": {},
   "outputs": [
    {
     "name": "stdout",
     "output_type": "stream",
     "text": [
      "https://twitter.com/gupadhyaya/status/1276632268958662656\n",
      "https://twitter.com/fandiyusuf_710/status/1276594041094729729\n",
      "https://twitter.com/stse/status/1276584018998222849\n",
      "https://twitter.com/theartistmsg/status/1276562341111517192\n",
      "https://twitter.com/MunandarZunaidi/status/1276446873528578048\n"
     ]
    }
   ],
   "source": [
    "check_df = filter_df[(filter_df['retweet_count'] > 10) & (filter_df['following'])]\n",
    "for i in range(len(check_df)):\n",
    "    print(check_df.iloc[i]['retweet_link'])"
   ]
  },
  {
   "cell_type": "markdown",
   "metadata": {},
   "source": [
    "## check the user create time \n",
    "- newest created at 2020-06-19\n",
    "- seems normal "
   ]
  },
  {
   "cell_type": "code",
   "execution_count": 15,
   "metadata": {},
   "outputs": [
    {
     "data": {
      "text/html": [
       "<div>\n",
       "<style scoped>\n",
       "    .dataframe tbody tr th:only-of-type {\n",
       "        vertical-align: middle;\n",
       "    }\n",
       "\n",
       "    .dataframe tbody tr th {\n",
       "        vertical-align: top;\n",
       "    }\n",
       "\n",
       "    .dataframe thead th {\n",
       "        text-align: right;\n",
       "    }\n",
       "</style>\n",
       "<table border=\"1\" class=\"dataframe\">\n",
       "  <thead>\n",
       "    <tr style=\"text-align: right;\">\n",
       "      <th></th>\n",
       "      <th>text</th>\n",
       "      <th>retweet_count</th>\n",
       "      <th>name</th>\n",
       "      <th>created_at</th>\n",
       "    </tr>\n",
       "  </thead>\n",
       "  <tbody>\n",
       "    <tr>\n",
       "      <th>123</th>\n",
       "      <td>@stse @cz_binance @HuobiGlobal @AtomicWallet #...</td>\n",
       "      <td>1</td>\n",
       "      <td>Cryptono</td>\n",
       "      <td>2020-06-19 16:03:17</td>\n",
       "    </tr>\n",
       "    <tr>\n",
       "      <th>128</th>\n",
       "      <td>@stse\\n\\n#Pow\\n#Pow20\\nverry nice Wow best pro...</td>\n",
       "      <td>98</td>\n",
       "      <td>meymeymi</td>\n",
       "      <td>2020-05-30 10:35:10</td>\n",
       "    </tr>\n",
       "    <tr>\n",
       "      <th>8</th>\n",
       "      <td>@stse @cz_binance @HuobiGlobal @AtomicWallet C...</td>\n",
       "      <td>6</td>\n",
       "      <td>Mikoto Miyuki</td>\n",
       "      <td>2020-05-26 21:08:54</td>\n",
       "    </tr>\n",
       "    <tr>\n",
       "      <th>33</th>\n",
       "      <td>@stse @cz_binance @HuobiGlobal @AtomicWallet J...</td>\n",
       "      <td>1</td>\n",
       "      <td>saman kumara</td>\n",
       "      <td>2020-05-22 19:22:40</td>\n",
       "    </tr>\n",
       "    <tr>\n",
       "      <th>5</th>\n",
       "      <td>@stse @cz_binance @HuobiGlobal @AtomicWallet #...</td>\n",
       "      <td>6</td>\n",
       "      <td>ZakiraCrypt</td>\n",
       "      <td>2020-05-09 09:00:40</td>\n",
       "    </tr>\n",
       "  </tbody>\n",
       "</table>\n",
       "</div>"
      ],
      "text/plain": [
       "                                                  text  retweet_count  \\\n",
       "123  @stse @cz_binance @HuobiGlobal @AtomicWallet #...              1   \n",
       "128  @stse\\n\\n#Pow\\n#Pow20\\nverry nice Wow best pro...             98   \n",
       "8    @stse @cz_binance @HuobiGlobal @AtomicWallet C...              6   \n",
       "33   @stse @cz_binance @HuobiGlobal @AtomicWallet J...              1   \n",
       "5    @stse @cz_binance @HuobiGlobal @AtomicWallet #...              6   \n",
       "\n",
       "              name          created_at  \n",
       "123       Cryptono 2020-06-19 16:03:17  \n",
       "128       meymeymi 2020-05-30 10:35:10  \n",
       "8    Mikoto Miyuki 2020-05-26 21:08:54  \n",
       "33    saman kumara 2020-05-22 19:22:40  \n",
       "5      ZakiraCrypt 2020-05-09 09:00:40  "
      ]
     },
     "execution_count": 15,
     "metadata": {},
     "output_type": "execute_result"
    }
   ],
   "source": [
    "time_df = filter_df.sort_values(by= ['created_at'], ascending = False)\n",
    "time_df[['text','retweet_count','name','created_at']].head(5)"
   ]
  },
  {
   "cell_type": "markdown",
   "metadata": {},
   "source": [
    "## filter the users who comment/retweet more than once\n",
    "- when we are rewarding, should we only reward once or based on the sum of the reweet?"
   ]
  },
  {
   "cell_type": "code",
   "execution_count": 17,
   "metadata": {},
   "outputs": [
    {
     "data": {
      "text/html": [
       "<div>\n",
       "<style scoped>\n",
       "    .dataframe tbody tr th:only-of-type {\n",
       "        vertical-align: middle;\n",
       "    }\n",
       "\n",
       "    .dataframe tbody tr th {\n",
       "        vertical-align: top;\n",
       "    }\n",
       "\n",
       "    .dataframe thead th {\n",
       "        text-align: right;\n",
       "    }\n",
       "</style>\n",
       "<table border=\"1\" class=\"dataframe\">\n",
       "  <thead>\n",
       "    <tr style=\"text-align: right;\">\n",
       "      <th></th>\n",
       "      <th>screen_name</th>\n",
       "      <th>count</th>\n",
       "    </tr>\n",
       "  </thead>\n",
       "  <tbody>\n",
       "    <tr>\n",
       "      <th>70</th>\n",
       "      <td>aroluyo</td>\n",
       "      <td>2</td>\n",
       "    </tr>\n",
       "    <tr>\n",
       "      <th>73</th>\n",
       "      <td>bitkingkong81</td>\n",
       "      <td>2</td>\n",
       "    </tr>\n",
       "    <tr>\n",
       "      <th>108</th>\n",
       "      <td>mumet011</td>\n",
       "      <td>2</td>\n",
       "    </tr>\n",
       "  </tbody>\n",
       "</table>\n",
       "</div>"
      ],
      "text/plain": [
       "       screen_name  count\n",
       "70         aroluyo      2\n",
       "73   bitkingkong81      2\n",
       "108       mumet011      2"
      ]
     },
     "execution_count": 17,
     "metadata": {},
     "output_type": "execute_result"
    }
   ],
   "source": [
    "user = filter_df.groupby(['screen_name'])['screen_name'].count().reset_index(name = 'count')\n",
    "filter_user = user[user['count'] > 1]\n",
    "filter_user.sort_values(by = ['count'],ascending = False)"
   ]
  },
  {
   "cell_type": "code",
   "execution_count": 19,
   "metadata": {},
   "outputs": [
    {
     "data": {
      "text/html": [
       "<div>\n",
       "<style scoped>\n",
       "    .dataframe tbody tr th:only-of-type {\n",
       "        vertical-align: middle;\n",
       "    }\n",
       "\n",
       "    .dataframe tbody tr th {\n",
       "        vertical-align: top;\n",
       "    }\n",
       "\n",
       "    .dataframe thead th {\n",
       "        text-align: right;\n",
       "    }\n",
       "</style>\n",
       "<table border=\"1\" class=\"dataframe\">\n",
       "  <thead>\n",
       "    <tr style=\"text-align: right;\">\n",
       "      <th></th>\n",
       "      <th>screen_name</th>\n",
       "      <th>retweet_count</th>\n",
       "    </tr>\n",
       "  </thead>\n",
       "  <tbody>\n",
       "    <tr>\n",
       "      <th>0</th>\n",
       "      <td>aroluyo</td>\n",
       "      <td>25</td>\n",
       "    </tr>\n",
       "    <tr>\n",
       "      <th>1</th>\n",
       "      <td>bitkingkong81</td>\n",
       "      <td>15</td>\n",
       "    </tr>\n",
       "    <tr>\n",
       "      <th>2</th>\n",
       "      <td>mumet011</td>\n",
       "      <td>9</td>\n",
       "    </tr>\n",
       "  </tbody>\n",
       "</table>\n",
       "</div>"
      ],
      "text/plain": [
       "     screen_name  retweet_count\n",
       "0        aroluyo             25\n",
       "1  bitkingkong81             15\n",
       "2       mumet011              9"
      ]
     },
     "execution_count": 19,
     "metadata": {},
     "output_type": "execute_result"
    }
   ],
   "source": [
    "filter_df['duplicate_user_flag'] = filter_df['screen_name'].apply(lambda x: True if x in filter_user['screen_name'].tolist() else False)\n",
    "duplicate_user_df = filter_df[filter_df['duplicate_user_flag']]\n",
    "duplicate_retweet = duplicate_user_df.groupby(['screen_name'])['retweet_count'].sum().reset_index()\n",
    "duplicate_retweet.sort_values(by = ['retweet_count'],ascending = False)\n"
   ]
  },
  {
   "cell_type": "code",
   "execution_count": 20,
   "metadata": {},
   "outputs": [
    {
     "name": "stdout",
     "output_type": "stream",
     "text": [
      "https://twitter.com/aroluyo/status/1276681398020116482\n",
      "https://twitter.com/aroluyo/status/1276669654707077126\n",
      "https://twitter.com/bitkingkong81/status/1276838620557537281\n",
      "https://twitter.com/bitkingkong81/status/1276836733733072902\n",
      "https://twitter.com/mumet011/status/1276601751806701568\n",
      "https://twitter.com/mumet011/status/1276560858370301959\n"
     ]
    }
   ],
   "source": [
    "name_list = duplicate_retweet['screen_name'].tolist()\n",
    "for name in name_list:\n",
    "    index = filter_df[filter_df['screen_name'] == name].index\n",
    "    for i in index:\n",
    "        print(filter_df.iloc[i]['retweet_link'])"
   ]
  },
  {
   "cell_type": "code",
   "execution_count": null,
   "metadata": {},
   "outputs": [],
   "source": []
  }
 ],
 "metadata": {
  "kernelspec": {
   "display_name": "Python 3",
   "language": "python",
   "name": "python3"
  },
  "language_info": {
   "codemirror_mode": {
    "name": "ipython",
    "version": 3
   },
   "file_extension": ".py",
   "mimetype": "text/x-python",
   "name": "python",
   "nbconvert_exporter": "python",
   "pygments_lexer": "ipython3",
   "version": "3.7.6"
  }
 },
 "nbformat": 4,
 "nbformat_minor": 4
}
