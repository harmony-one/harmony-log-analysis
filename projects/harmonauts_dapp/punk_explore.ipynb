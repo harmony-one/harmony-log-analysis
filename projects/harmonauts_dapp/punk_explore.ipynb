{
 "cells": [
  {
   "cell_type": "code",
   "execution_count": 1,
   "metadata": {},
   "outputs": [],
   "source": [
    "import pyhmy\n",
    "from pyhmy import (\n",
    "    cli\n",
    ")\n",
    "import os\n",
    "import re\n",
    "import requests\n",
    "import json"
   ]
  },
  {
   "cell_type": "code",
   "execution_count": 2,
   "metadata": {},
   "outputs": [],
   "source": [
    "def download_cli(path):\n",
    "    env = cli.download()\n",
    "    cli.environment.update(env)\n",
    "    path = os.getcwd() + \"/bin/hmy\"\n",
    "    cli.set_binary(path)"
   ]
  },
  {
   "cell_type": "code",
   "execution_count": 3,
   "metadata": {},
   "outputs": [
    {
     "name": "stdout",
     "output_type": "stream",
     "text": [
      "Saved harmony binary to: `/home/ubuntu/jupyter/harmony-log-analysis/projects/harmonauts_dapp/bin/hmy`\n",
      "CLI Version: Harmony (C) 2020. hmy, version v399-a30c33c (sj@harmony.one 2020-07-09T10:37:26+0000)\n"
     ]
    }
   ],
   "source": [
    "cli_path = os.getcwd() + \"/bin/hmy\"       \n",
    "download_cli(cli_path)\n",
    "pyhmy_version = cli.get_version()\n",
    "print(f\"CLI Version: {pyhmy_version}\")\n",
    "version_str = re.search('version v.*-', pyhmy_version).group(0).split('-')[0].replace(\"version v\", \"\")\n",
    "assert int(version_str) >= 321"
   ]
  },
  {
   "cell_type": "markdown",
   "metadata": {},
   "source": [
    "## addr to bech32"
   ]
  },
  {
   "cell_type": "code",
   "execution_count": 4,
   "metadata": {},
   "outputs": [
    {
     "data": {
      "text/plain": [
       "'one1eszwm5xcxn7dx3cf0kru4hh6msqyf7hzdkvp77'"
      ]
     },
     "execution_count": 4,
     "metadata": {},
     "output_type": "execute_result"
    }
   ],
   "source": [
    "addr_bytes = '0xCC04Edd0D834Fcd347097d87CaDEfADc0044FAE2'\n",
    "addr_hrc = cli.single_call(\"hmy utility addr-to-bech32 {}\".format(addr_bytes)).strip(\"\\n\")\n",
    "addr_hrc"
   ]
  },
  {
   "cell_type": "markdown",
   "metadata": {},
   "source": [
    "## bech32 to addr"
   ]
  },
  {
   "cell_type": "code",
   "execution_count": 8,
   "metadata": {},
   "outputs": [
    {
     "data": {
      "text/plain": [
       "'0x793DAC3Ec4969A5BEE684BcF4290d52feB8F51b4'"
      ]
     },
     "execution_count": 8,
     "metadata": {},
     "output_type": "execute_result"
    }
   ],
   "source": [
    "addr = 'one10y76c0kyj6d9hmngf0859yx49l4c75d5z77zxr'\n",
    "addr_bytes = cli.single_call(\"hmy utility bech32-to-addr {}\".format(addr)).strip(\"\\n\")\n",
    "addr_bytes"
   ]
  },
  {
   "cell_type": "markdown",
   "metadata": {},
   "source": [
    "## set initial owner"
   ]
  },
  {
   "cell_type": "code",
   "execution_count": 6,
   "metadata": {},
   "outputs": [
    {
     "data": {
      "text/plain": [
       "'one1sj98rxxp4edltlc7wvjv6kt5tthaaw94xc98s6'"
      ]
     },
     "execution_count": 6,
     "metadata": {},
     "output_type": "execute_result"
    }
   ],
   "source": [
    "data = '0xa75a9049000000000000000000000000848a7198c1ae5bf5ff1e7324cd59745aefdeb8b50000000000000000000000000000000000000000000000000000000000000010'\n",
    "# the first 4 byte represent set initial owner \"a75a9049\"\n",
    "# the second 32 bytes represent address\n",
    "addr_bytes = data[10:74]\n",
    "addr_hrc = cli.single_call(\"hmy utility addr-to-bech32 {}\".format(addr_bytes)).strip(\"\\n\")\n",
    "addr_hrc"
   ]
  },
  {
   "cell_type": "code",
   "execution_count": 7,
   "metadata": {},
   "outputs": [
    {
     "data": {
      "text/plain": [
       "16"
      ]
     },
     "execution_count": 7,
     "metadata": {},
     "output_type": "execute_result"
    }
   ],
   "source": [
    "# the last 32 bytes represent the index\n",
    "int(data[-64:],16)"
   ]
  },
  {
   "cell_type": "markdown",
   "metadata": {},
   "source": [
    "## buy punk"
   ]
  },
  {
   "cell_type": "code",
   "execution_count": 8,
   "metadata": {},
   "outputs": [
    {
     "data": {
      "text/plain": [
       "2"
      ]
     },
     "execution_count": 8,
     "metadata": {},
     "output_type": "execute_result"
    }
   ],
   "source": [
    "# \"8264fe98\" \n",
    "data = '0x8264fe980000000000000000000000000000000000000000000000000000000000000002'\n",
    "punkIndex = int(data[-64:],16)\n",
    "punkIndex"
   ]
  },
  {
   "cell_type": "markdown",
   "metadata": {},
   "source": [
    "## offer Price"
   ]
  },
  {
   "cell_type": "code",
   "execution_count": 9,
   "metadata": {},
   "outputs": [
    {
     "name": "stdout",
     "output_type": "stream",
     "text": [
      "16\n",
      "999999999999998.9\n"
     ]
    }
   ],
   "source": [
    "# “c44193c3”\n",
    "data = '0xc44193c30000000000000000000000000000000000000000000000000000000000000010000000000000000000000000000000000000314dc6448d932ae0a456589c0000'\n",
    "punkIndex = int(data[10:74],16)\n",
    "print(punkIndex)\n",
    "amount = int(data[-64:],16)/1e18\n",
    "print(amount)"
   ]
  },
  {
   "cell_type": "markdown",
   "metadata": {},
   "source": [
    "## getPunk"
   ]
  },
  {
   "cell_type": "code",
   "execution_count": 10,
   "metadata": {},
   "outputs": [
    {
     "data": {
      "text/plain": [
       "3"
      ]
     },
     "execution_count": 10,
     "metadata": {},
     "output_type": "execute_result"
    }
   ],
   "source": [
    "# c81d1d5b\n",
    "data = '0xc81d1d5b0000000000000000000000000000000000000000000000000000000000000003'\n",
    "punkIndex = int(data[-64:],16)\n",
    "punkIndex"
   ]
  },
  {
   "cell_type": "markdown",
   "metadata": {},
   "source": [
    "## transfer punk"
   ]
  },
  {
   "cell_type": "code",
   "execution_count": 11,
   "metadata": {},
   "outputs": [
    {
     "name": "stdout",
     "output_type": "stream",
     "text": [
      "0\n",
      "one1fd094898rfktel7rezmk65zql3cjzhw9zgxcff\n"
     ]
    }
   ],
   "source": [
    "data = '0x8b72a2ec0000000000000000000000004b5e5a9ca71a6cbcffc3c8b76d5040fc71215dc50000000000000000000000000000000000000000000000000000000000000000'\n",
    "punkIndex = int(data[-64:],16)\n",
    "print(punkIndex)\n",
    "addr_bytes = data[10:74]\n",
    "addr_hrc = cli.single_call(\"hmy utility addr-to-bech32 {}\".format(addr_bytes)).strip(\"\\n\")\n",
    "print(addr_hrc)"
   ]
  },
  {
   "cell_type": "markdown",
   "metadata": {},
   "source": [
    " ## Bid"
   ]
  },
  {
   "cell_type": "code",
   "execution_count": 12,
   "metadata": {},
   "outputs": [
    {
     "name": "stdout",
     "output_type": "stream",
     "text": [
      "2\n"
     ]
    }
   ],
   "source": [
    "data = '0x091dbfd20000000000000000000000000000000000000000000000000000000000000002'\n",
    "punkIndex = int(data[-64:],16)\n",
    "print(punkIndex)"
   ]
  },
  {
   "cell_type": "markdown",
   "metadata": {},
   "source": [
    "## Accept bid"
   ]
  },
  {
   "cell_type": "code",
   "execution_count": 13,
   "metadata": {},
   "outputs": [
    {
     "name": "stdout",
     "output_type": "stream",
     "text": [
      "2\n",
      "1.1\n"
     ]
    }
   ],
   "source": [
    "data = '0x23165b7500000000000000000000000000000000000000000000000000000000000000020000000000000000000000000000000000000000000000000f43fc2c04ee0000'\n",
    "punkIndex = int(data[10:74],16)\n",
    "print(punkIndex)\n",
    "amount = int(data[-64:],16)/1e18\n",
    "# addr_hrc = cli.single_call(\"hmy utility addr-to-bech32 {}\".format(addr_bytes)).strip(\"\\n\")\n",
    "print(amount)"
   ]
  }
 ],
 "metadata": {
  "kernelspec": {
   "display_name": "Python 3",
   "language": "python",
   "name": "python3"
  },
  "language_info": {
   "codemirror_mode": {
    "name": "ipython",
    "version": 3
   },
   "file_extension": ".py",
   "mimetype": "text/x-python",
   "name": "python",
   "nbconvert_exporter": "python",
   "pygments_lexer": "ipython3",
   "version": "3.6.9"
  }
 },
 "nbformat": 4,
 "nbformat_minor": 4
}
