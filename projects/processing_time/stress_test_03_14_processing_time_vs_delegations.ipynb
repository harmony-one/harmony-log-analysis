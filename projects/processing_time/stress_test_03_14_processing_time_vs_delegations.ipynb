{
 "cells": [
  {
   "cell_type": "markdown",
   "metadata": {},
   "source": [
    "# stress test Processing Time / delegations validators analysis\n"
   ]
  },
  {
   "cell_type": "code",
   "execution_count": 1,
   "metadata": {},
   "outputs": [],
   "source": [
    "# !pip install pyhmy --upgrade\n",
    "import json\n",
    "import pandas as pd\n",
    "import os\n",
    "import shutil\n",
    "import re\n",
    "import plotly.express as px \n",
    "import plotly.graph_objects as go\n",
    "import numpy as np\n",
    "from pyhmy import cli"
   ]
  },
  {
   "cell_type": "code",
   "execution_count": 2,
   "metadata": {},
   "outputs": [],
   "source": [
    "def read_data(files, path):\n",
    "    data = []\n",
    "    for file in files:\n",
    "        if \"zerolog\" in file:\n",
    "            with open(path + file, errors='ignore') as f:\n",
    "                for line in f.readlines():\n",
    "                    if \"PROPOSING NEW BLOCK\" in line or \"Successfully Proposed New Block\" in line:\n",
    "                        data.append(json.loads(line))\n",
    "    return data"
   ]
  },
  {
   "cell_type": "code",
   "execution_count": 3,
   "metadata": {},
   "outputs": [],
   "source": [
    "def data_processing(data):\n",
    "    df = pd.DataFrame(data, columns = ['blockNum', 'time', 'message'])\n",
    "    df[\"message\"] = df[\"message\"].apply(lambda c: c.replace(\"-\",\"\").replace(\"=\",\"\").strip())\n",
    "    pattern = re.compile('(.*?)\\..*?')\n",
    "    df['time'] = df['time'].apply(lambda c: re.findall(pattern, c)[0].replace(\"T\",\" \"))\n",
    "    df['time'] = pd.to_datetime(df['time'])\n",
    "    df.sort_values(by=['time','message'], inplace = True)\n",
    "    df.reset_index(inplace = True, drop = True)\n",
    "    return df"
   ]
  },
  {
   "cell_type": "code",
   "execution_count": 4,
   "metadata": {},
   "outputs": [],
   "source": [
    "def get_block_change_index(df):\n",
    "    df['block_diff'] = (df['blockNum']-df['blockNum'].shift()).fillna(0).astype(int)\n",
    "    index = df[df['block_diff'] < 0].index.tolist()\n",
    "    index.insert(0,0)\n",
    "    index.append(len(df))\n",
    "    return index"
   ]
  },
  {
   "cell_type": "code",
   "execution_count": 5,
   "metadata": {},
   "outputs": [],
   "source": [
    "def draw_time_graph(df, index):  \n",
    "    \n",
    "    html_path = \"https://harmony-one.github.io/harmony-log-analysis/\" + html_dir.replace(\"../../docs/\", \"\")\\\n",
    "    + str(index) + \"_processing_time_vs_block_height.html\"\n",
    "    png_path = html_dir\n",
    "    print(\"png graphs saved in \" + png_path)\n",
    "    print('html graphs saved in ' + html_path)\n",
    "    \n",
    "    if not os.path.exists(html_dir):\n",
    "        os.makedirs(html_dir)\n",
    "        \n",
    "    if not os.path.exists(png_path):\n",
    "        os.makedirs(png_path)\n",
    "        \n",
    "#     colors = [\"#00AEE9\"]\n",
    "#     fig = px.line(df[df['message'] == 'Successfully Proposed New Block'], \\\n",
    "#                   x=\"blockNum\", y=\"time_diff\", color='message', color_discrete_sequence=colors,\n",
    "#                   title = 'Processing Time vs Block Height')\n",
    "    fig = go.Figure()\n",
    "    fig.add_trace(go.Scatter(\n",
    "            x= df[\"blockNum\"],\n",
    "            y= df[\"time_diff\"],\n",
    "            mode='lines',\n",
    "            name='processing time',\n",
    "            line_color= \"#85C1E9\"\n",
    "        ))\n",
    "\n",
    "    for i in df.index.tolist():\n",
    "        if (i+1) % 525 == 0:\n",
    "            fig.add_shape(type=\"line\", x0=df.iloc[i][\"blockNum\"], y0=0,x1=df.iloc[i][\"blockNum\"],y1=1,\n",
    "                    line=dict(\n",
    "                    width=0.5,\n",
    "                    dash=\"dot\",\n",
    "                ))\n",
    "    fig.update_shapes(dict(xref='x', yref='paper'))\n",
    "    fig.update_layout(title = \"Processing Time vs Block Height\")\n",
    "    \n",
    "#     fig.show()\n",
    "    fig.show(renderer=\"svg\",width=800, height=500)\n",
    "    fig.write_html(html_dir + str(index) + \"_processing_time_vs_block_height.html\")\n",
    "    fig.write_image(png_path + str(index) + \"_processing_time_vs_block_height.png\",width=900, height=500)"
   ]
  },
  {
   "cell_type": "code",
   "execution_count": 6,
   "metadata": {},
   "outputs": [],
   "source": [
    "def read_delegations(files, path):\n",
    "    data = []\n",
    "    for file in files:\n",
    "        if \"zerolog\" in file:\n",
    "            with open(path + file, errors='ignore') as f:\n",
    "                for line in f.readlines():\n",
    "                    if \"paid out delegations\" in line:\n",
    "                        data.append(json.loads(line))\n",
    "    return data"
   ]
  },
  {
   "cell_type": "code",
   "execution_count": 7,
   "metadata": {},
   "outputs": [],
   "source": [
    "def delegation_processing(delegations):\n",
    "    validators = []\n",
    "    delegators = []\n",
    "    for i in delegations:\n",
    "        validators.append(len(i['count-track']))\n",
    "        delegators.append(sum(i['count-track'].values()))\n",
    "\n",
    "    df = pd.DataFrame(delegations, columns = ['block-number', 'epoch','time'])\n",
    "    df['validators-number'] = validators\n",
    "    df['delegators-number'] = delegators\n",
    "    pattern = re.compile('(.*?)\\..*?')\n",
    "    df['time'] = df['time'].apply(lambda c: re.findall(pattern, c)[0].replace(\"T\",\" \"))\n",
    "    df['time'] = pd.to_datetime(df['time'])\n",
    "    df.sort_values(by=['time'], inplace = True)\n",
    "    df.reset_index(inplace = True, drop = True)\n",
    "    return df"
   ]
  },
  {
   "cell_type": "code",
   "execution_count": 8,
   "metadata": {},
   "outputs": [],
   "source": [
    "def get_epoch_change_index(df):\n",
    "    df['epoch-diff'] = (df['epoch']-df['epoch'].shift()).fillna(0).astype(int)\n",
    "    index = df[df['epoch-diff'] < 0].index.tolist()\n",
    "    index.insert(0,0)\n",
    "    index.append(len(df))\n",
    "    return index"
   ]
  },
  {
   "cell_type": "code",
   "execution_count": 9,
   "metadata": {},
   "outputs": [],
   "source": [
    "def draw_delegation_graph(df, index):  \n",
    "    \n",
    "    html_path = \"https://harmony-one.github.io/harmony-log-analysis/\" + html_dir.replace(\"../../docs/\", \"\")\\\n",
    "     + str(index) + \"_delegation_vs_block_height.html\"\n",
    "    png_path = fig_dir\n",
    "    print(\"png graphs saved in \" + png_path)\n",
    "    print('html graphs saved in ' + html_path)\n",
    "    \n",
    "    if not os.path.exists(html_dir):\n",
    "        os.makedirs(html_dir)\n",
    "        \n",
    "    if not os.path.exists(png_path):\n",
    "        os.makedirs(png_path)\n",
    "        \n",
    "    fig = go.Figure()\n",
    "    fig.add_trace(go.Scatter(\n",
    "            x= df[\"block-number\"],\n",
    "            y= df[\"validators-number\"],\n",
    "            mode='lines',\n",
    "            name='number of validators',\n",
    "            line_color= \"#F5B7B1\"\n",
    "        ))\n",
    "\n",
    "    fig.add_trace(go.Scatter(\n",
    "        x= df[\"block-number\"],\n",
    "        y= df[\"delegators-number\"],\n",
    "        mode = \"lines\",\n",
    "        line_color = \"#85C1E9\",\n",
    "        name='number of delegators'   \n",
    "    ))\n",
    "    \n",
    "\n",
    "    for i in df.index.tolist():\n",
    "        if (i+2) % 7 == 0:\n",
    "            fig.add_shape(type=\"line\", x0=df.iloc[i][\"block-number\"], y0=0,x1=df.iloc[i][\"block-number\"],y1=1,\n",
    "                    line=dict(\n",
    "                    width=0.5,\n",
    "                    dash=\"dot\",\n",
    "                ))\n",
    "    fig.update_shapes(dict(xref='x', yref='paper'))\n",
    "    fig.update_layout(title = \"Delegation Information vs Block Height\")\n",
    "    \n",
    "#     fig.show()\n",
    "    fig.show(renderer=\"svg\",width=800, height=500)\n",
    "    fig.write_html(html_dir + str(index) + \"_delegation_vs_block_height.html\")\n",
    "    fig.write_image(png_path + str(index) + \"_delegation_vs_block_height.png\",width=1000, height=500)"
   ]
  },
  {
   "cell_type": "code",
   "execution_count": 10,
   "metadata": {},
   "outputs": [],
   "source": [
    "def download_cli(path):\n",
    "    env = cli.download()\n",
    "    cli.environment.update(env)\n",
    "    path = os.getcwd() + \"/bin/hmy\"\n",
    "    cli.set_binary(path)"
   ]
  },
  {
   "cell_type": "code",
   "execution_count": 11,
   "metadata": {},
   "outputs": [],
   "source": [
    "def get_top_validator(delegation, size):\n",
    "    \n",
    "    sorted_validator = sorted(delegation['count-track'].items(), key=lambda x: x[1], reverse = True)\n",
    "\n",
    "    # call cli to change address cost a lot of time. Todo only change address for top ones.           \n",
    "    new = []\n",
    "    for v in sorted_validator[:size]:\n",
    "        new.append(cli.single_call(\"hmy utility addr-to-bech32 \" + v[0]).strip(\"\\n\"))\n",
    "        \n",
    "    # changing keys of dictionary \n",
    "    top_validator = dict(zip(new, list(dict(sorted_validator[:5]).values()))) \n",
    "    return top_validator"
   ]
  },
  {
   "cell_type": "code",
   "execution_count": 12,
   "metadata": {},
   "outputs": [],
   "source": [
    "def draw_graph(new, new_del, index):\n",
    "    \n",
    "    html_path = \"https://harmony-one.github.io/harmony-log-analysis/\" + html_dir.replace(\"../../docs/\", \"\")\\\n",
    "    + str(index) + \"_delegation_vs_processing_time.html\"\n",
    "    png_path = fig_dir \n",
    "    print(\"png graphs saved in \" + png_path)\n",
    "    print('html graphs saved in ' + html_path)\n",
    "    \n",
    "    if not os.path.exists(html_dir):\n",
    "        os.makedirs(html_dir)\n",
    "        \n",
    "    if not os.path.exists(png_path):\n",
    "        os.makedirs(png_path)\n",
    "    \n",
    "    trace1 = go.Scatter(\n",
    "        x= new[\"blockNum\"],\n",
    "        y= new[\"time_diff\"],\n",
    "        mode='lines',\n",
    "        name='processing time',\n",
    "        line_color= \"#66CDAA\",\n",
    "        text = new['time'],\n",
    "        hovertemplate = \"Processing Time: %{y}<br>\" +\n",
    "        \"Block Height: %{x}<br>\" +\n",
    "        \"UTC Time: %{text}<br>\" +\n",
    "        \"<extra></extra>\"\n",
    "    )\n",
    "\n",
    "    trace2 = go.Scatter(\n",
    "        x= new_del[\"block-number\"],\n",
    "        y= new_del[\"validators-number\"],\n",
    "        mode='lines',\n",
    "        name='number of validators',\n",
    "        line_color= \"#ffa07a\",\n",
    "        yaxis='y2',\n",
    "        text = new_del['time'],\n",
    "        customdata = new_del['epoch'],\n",
    "        hovertemplate = 'Number of Validators: %{y}<br>' +\n",
    "        'Block Height: %{x}<br>' +\n",
    "        'Epoch Number: %{customdata}<br>' + \n",
    "        'UTC Time: %{text}<br>' +\n",
    "        '<extra></extra>'\n",
    "    )\n",
    "\n",
    "    trace3 = go.Scatter(\n",
    "        x= new_del[\"block-number\"],\n",
    "        y= new_del[\"delegators-number\"],\n",
    "        mode = \"lines\",\n",
    "        line_color = \"#00AEE9\",\n",
    "        name='number of delegators',\n",
    "        yaxis='y2',\n",
    "        text = new_del['time'],\n",
    "#         customdata = np.vstack((new_del['epoch'], new_del['validators-number'])),\n",
    "        customdata = new_del['epoch'],\n",
    "        hovertemplate = 'Number of Delegators: %{y}<br>' +\n",
    "        'Block Height: %{x}<br>' +\n",
    "        'Epoch Number: %{customdata}<br>' + \n",
    "        'UTC Time: %{text}' +\n",
    "        '<extra></extra>'\n",
    "    )\n",
    "\n",
    "    data = [trace1, trace2, trace3]\n",
    "    layout = go.Layout(\n",
    "        title='Delegation Information vs Processing Time',\n",
    "        yaxis=dict(\n",
    "            title='Processing Time'\n",
    "        ),\n",
    "        yaxis2=dict(\n",
    "            title='Delegation Information',\n",
    "            overlaying='y',\n",
    "            side='right'\n",
    "        ),\n",
    "        legend_orientation=\"h\"\n",
    "    )\n",
    "    \n",
    "    fig = go.Figure(data=data, layout=layout)\n",
    "    \n",
    "#     for i in new_del.index.tolist():\n",
    "#         if i % 7 == 0:\n",
    "#             fig.add_shape(type=\"line\", x0=new_del.iloc[i][\"block-number\"], y0=0,x1=new_del.iloc[i][\"block-number\"],y1=1,\n",
    "#                     line=dict(\n",
    "#                     width=0.5,\n",
    "#                     dash=\"dot\",\n",
    "#                 ))\n",
    "#     fig.update_shapes(dict(xref='x', yref='paper'))\n",
    "    fig.show(renderer=\"svg\",width=800, height=500)\n",
    "    fig.write_html(html_dir + str(index) + \"_delegation_vs_processing_time.html\")\n",
    "    fig.write_image(png_path + str(index) + \"_delegation_vs_processing_time.png\",width=1000, height=500)"
   ]
  },
  {
   "cell_type": "code",
   "execution_count": 13,
   "metadata": {},
   "outputs": [],
   "source": [
    "# path = os.getcwd() + \"/bin/hmy\"\n",
    "# download_cli(path)\n",
    "# pyhmy_version = cli.get_version()\n",
    "# print(f\"CLI Version: {pyhmy_version}\")\n",
    "# version_str = re.search('version v.*-', pyhmy_version).group(0).split('-')[0].replace(\"version v\", \"\")\n",
    "# assert int(version_str) >= 321"
   ]
  },
  {
   "cell_type": "markdown",
   "metadata": {},
   "source": [
    "## s0-leader "
   ]
  },
  {
   "cell_type": "code",
   "execution_count": 14,
   "metadata": {},
   "outputs": [],
   "source": [
    "log_dir = \"../../logs/node_logs/stress_test_03_14/s0-leader/\"\n",
    "fig_dir = \"../../graphs/processing_time/stress_test_03_14/s0-leader/\"\n",
    "html_dir = \"../../docs/graphs/processing_time/stress_test_03_14/so-leader/\"\n",
    "files = os.listdir(log_dir)\n",
    "data = read_data(files, log_dir)\n",
    "df = data_processing(data)\n",
    "index = get_block_change_index(df)\n",
    "\n",
    "delegations = read_delegations(files, log_dir)\n",
    "df_delegation = delegation_processing(delegations)\n",
    "index_del = get_epoch_change_index(df_delegation)"
   ]
  },
  {
   "cell_type": "markdown",
   "metadata": {},
   "source": [
    "### draw processing time vs block height"
   ]
  },
  {
   "cell_type": "code",
   "execution_count": 15,
   "metadata": {},
   "outputs": [],
   "source": [
    "# for idx in range(len(index)-1):\n",
    "    \n",
    "#     print(\"Block \"+str(idx+1))\n",
    "#     new = df.loc[index[idx]:index[idx+1]-1]\n",
    "#     new = new.drop_duplicates(subset = ['blockNum', 'message'], keep = \"last\")\n",
    "#     new['time_diff'] = new.groupby(['blockNum'])['time'].apply(lambda c: c.diff().dt.seconds)\n",
    "#     new.dropna(inplace = True)\n",
    "#     new.reset_index(inplace = True, drop = True) \n",
    "#     draw_time_graph(new, idx)     "
   ]
  },
  {
   "cell_type": "markdown",
   "metadata": {},
   "source": [
    "### draw delegation information vs block height"
   ]
  },
  {
   "cell_type": "code",
   "execution_count": 16,
   "metadata": {},
   "outputs": [],
   "source": [
    "# for idx in range(len(index_del)-1):    \n",
    "#     print(\"Block \"+str(idx+1))   \n",
    "#     new = df_delegation.loc[index_del[idx]:index_del[idx+1]-1]\n",
    "#     new = new.drop_duplicates(subset = ['block-number', 'epoch'], keep = \"last\")\n",
    "#     new.reset_index(inplace = True, drop = True)\n",
    "#     draw_delegation_graph(new, idx)   "
   ]
  },
  {
   "cell_type": "markdown",
   "metadata": {},
   "source": [
    "### draw delegation information vs processing time"
   ]
  },
  {
   "cell_type": "code",
   "execution_count": 17,
   "metadata": {},
   "outputs": [
    {
     "name": "stdout",
     "output_type": "stream",
     "text": [
      "Block 1\n",
      "png graphs saved in ../../graphs/processing_time/stress_test_03_14/s0-leader/\n",
      "html graphs saved in https://harmony-one.github.io/harmony-log-analysis/graphs/processing_time/stress_test_03_14/so-leader/0_delegation_vs_processing_time.html\n"
     ]
    },
    {
     "data": {
      "image/svg+xml": [
       "<svg class=\"main-svg\" xmlns=\"http://www.w3.org/2000/svg\" xmlns:xlink=\"http://www.w3.org/1999/xlink\" width=\"800\" height=\"500\" viewBox=\"0 0 800 500\"><rect x=\"0\" y=\"0\" width=\"800\" height=\"500\" style=\"fill: rgb(255, 255, 255); fill-opacity: 1;\"/><defs id=\"defs-3fab80\"><g class=\"clips\"><clipPath id=\"clip3fab80xyplot\" class=\"plotclip\"><rect width=\"640\" height=\"320\"/></clipPath><clipPath id=\"clip3fab80xy2plot\" class=\"plotclip\"><rect width=\"640\" height=\"320\"/></clipPath><clipPath class=\"axesclip\" id=\"clip3fab80x\"><rect x=\"80\" y=\"0\" width=\"640\" height=\"500\"/></clipPath><clipPath class=\"axesclip\" id=\"clip3fab80y\"><rect x=\"0\" y=\"100\" width=\"800\" height=\"320\"/></clipPath><clipPath class=\"axesclip\" id=\"clip3fab80xy\"><rect x=\"80\" y=\"100\" width=\"640\" height=\"320\"/></clipPath><clipPath class=\"axesclip\" id=\"clip3fab80y2\"><rect x=\"0\" y=\"100\" width=\"800\" height=\"320\"/></clipPath><clipPath class=\"axesclip\" id=\"clip3fab80xy2\"><rect x=\"80\" y=\"100\" width=\"640\" height=\"320\"/></clipPath></g><g class=\"gradients\"/></defs><g class=\"bglayer\"><rect class=\"bg\" x=\"80\" y=\"100\" width=\"640\" height=\"320\" style=\"fill: rgb(229, 236, 246); fill-opacity: 1; stroke-width: 0;\"/></g><g class=\"layer-below\"><g class=\"imagelayer\"/><g class=\"shapelayer\"/></g><g class=\"cartesianlayer\"><g class=\"subplot xy\"><g class=\"layer-subplot\"><g class=\"shapelayer\"/><g class=\"imagelayer\"/></g><g class=\"gridlayer\"><g class=\"x\"><path class=\"xgrid crisp\" transform=\"translate(187.34,0)\" d=\"M0,100v320\" style=\"stroke: rgb(255, 255, 255); stroke-opacity: 1; stroke-width: 1px;\"/><path class=\"xgrid crisp\" transform=\"translate(294.73,0)\" d=\"M0,100v320\" style=\"stroke: rgb(255, 255, 255); stroke-opacity: 1; stroke-width: 1px;\"/><path class=\"xgrid crisp\" transform=\"translate(402.12,0)\" d=\"M0,100v320\" style=\"stroke: rgb(255, 255, 255); stroke-opacity: 1; stroke-width: 1px;\"/><path class=\"xgrid crisp\" transform=\"translate(509.51,0)\" d=\"M0,100v320\" style=\"stroke: rgb(255, 255, 255); stroke-opacity: 1; stroke-width: 1px;\"/><path class=\"xgrid crisp\" transform=\"translate(616.9,0)\" d=\"M0,100v320\" style=\"stroke: rgb(255, 255, 255); stroke-opacity: 1; stroke-width: 1px;\"/></g><g class=\"y\"><path class=\"ygrid crisp\" transform=\"translate(0,346.4)\" d=\"M80,0h640\" style=\"stroke: rgb(255, 255, 255); stroke-opacity: 1; stroke-width: 1px;\"/><path class=\"ygrid crisp\" transform=\"translate(0,288.8)\" d=\"M80,0h640\" style=\"stroke: rgb(255, 255, 255); stroke-opacity: 1; stroke-width: 1px;\"/><path class=\"ygrid crisp\" transform=\"translate(0,231.2)\" d=\"M80,0h640\" style=\"stroke: rgb(255, 255, 255); stroke-opacity: 1; stroke-width: 1px;\"/><path class=\"ygrid crisp\" transform=\"translate(0,173.6)\" d=\"M80,0h640\" style=\"stroke: rgb(255, 255, 255); stroke-opacity: 1; stroke-width: 1px;\"/><path class=\"ygrid crisp\" transform=\"translate(0,116)\" d=\"M80,0h640\" style=\"stroke: rgb(255, 255, 255); stroke-opacity: 1; stroke-width: 1px;\"/></g><g class=\"y2\"><path class=\"y2grid crisp\" transform=\"translate(0,346.85)\" d=\"M80,0h640\" style=\"stroke: rgb(255, 255, 255); stroke-opacity: 1; stroke-width: 1px;\"/><path class=\"y2grid crisp\" transform=\"translate(0,289.7)\" d=\"M80,0h640\" style=\"stroke: rgb(255, 255, 255); stroke-opacity: 1; stroke-width: 1px;\"/><path class=\"y2grid crisp\" transform=\"translate(0,232.55)\" d=\"M80,0h640\" style=\"stroke: rgb(255, 255, 255); stroke-opacity: 1; stroke-width: 1px;\"/><path class=\"y2grid crisp\" transform=\"translate(0,175.41)\" d=\"M80,0h640\" style=\"stroke: rgb(255, 255, 255); stroke-opacity: 1; stroke-width: 1px;\"/><path class=\"y2grid crisp\" transform=\"translate(0,118.26)\" d=\"M80,0h640\" style=\"stroke: rgb(255, 255, 255); stroke-opacity: 1; stroke-width: 1px;\"/></g></g><g class=\"zerolinelayer\"><path class=\"yzl zl crisp\" transform=\"translate(0,404)\" d=\"M80,0h640\" style=\"stroke: rgb(255, 255, 255); stroke-opacity: 1; stroke-width: 2px;\"/><path class=\"y2zl zl crisp\" transform=\"translate(0,404)\" d=\"M80,0h640\" style=\"stroke: rgb(255, 255, 255); stroke-opacity: 1; stroke-width: 2px;\"/></g><path class=\"xlines-below\"/><path class=\"ylines-below\"/><g class=\"overlines-below\"><path class=\"xy2-x\"/><path class=\"xy2-y\"/></g><g class=\"xaxislayer-below\"/><g class=\"yaxislayer-below\"/><g class=\"overaxes-below\"><g class=\"xy2-x\"/><g class=\"xy2-y\"/></g><g class=\"plot\" transform=\"translate(80, 100)\" clip-path=\"url('#clip3fab80xyplot')\"><g class=\"scatterlayer mlayer\"><g class=\"trace scatter traced973e1\" style=\"stroke-miterlimit: 2; opacity: 1;\"><g class=\"fills\"/><g class=\"errorbars\"/><g class=\"lines\"><path class=\"js-line\" d=\"M0,304L3.54,304L3.6,16L4.4,304L4.46,304L30.28,304L30.34,16L31.14,304L31.2,304L97.3,304L97.35,16L98.1,304L98.16,304L103.96,304L104.01,16L104.81,304L104.87,304L276.21,304L276.26,16L277.07,304L277.12,304L398.58,304L398.64,16L399.44,304L399.5,304L474.4,304L474.46,16L475.26,304L475.32,304L584.16,304L584.21,16L584.96,304L585.02,304L640,304\" style=\"vector-effect: non-scaling-stroke; fill: none; stroke: rgb(102, 205, 170); stroke-opacity: 1; stroke-width: 2px; opacity: 1;\"/></g><g class=\"points\"/><g class=\"text\"/></g></g></g><g class=\"overplot\"><g class=\"xy2\" transform=\"translate(80, 100)\" clip-path=\"url('#clip3fab80xy2plot')\"><g class=\"scatterlayer mlayer\"><g class=\"trace scatter trace696ba2\" style=\"stroke-miterlimit: 2; opacity: 1;\"><g class=\"fills\"/><g class=\"errorbars\"/><g class=\"lines\"><path class=\"js-line\" d=\"M11.97,304L229.44,303.67L233.47,302.81L241.52,301.13L245.55,301.07L608,301.07\" style=\"vector-effect: non-scaling-stroke; fill: none; stroke: rgb(255, 160, 122); stroke-opacity: 1; stroke-width: 2px; opacity: 1;\"/></g><g class=\"points\"/><g class=\"text\"/></g><g class=\"trace scatter tracec46cf4\" style=\"stroke-miterlimit: 2; opacity: 1;\"><g class=\"fills\"/><g class=\"errorbars\"/><g class=\"lines\"><path class=\"js-line\" d=\"M11.97,304L229.44,303.67L233.47,302.81L241.52,301.13L245.55,301.07L297.9,300.43L301.93,300.21L314.01,298.38L318.04,297.06L334.15,292.72L338.18,292.72L346.23,292.72L350.26,291.58L362.34,287.91L366.37,287.52L402.61,275.16L406.64,272.88L410.67,268.05L414.69,261.68L426.77,245.67L430.8,240.49L450.94,212.07L454.96,207.13L495.24,154.39L499.26,149.7L535.51,103L539.54,100.48L551.62,91.29L555.64,87.96L563.7,78.72L567.73,73.81L579.81,56.9L583.83,50.73L603.97,21.35L608,16\" style=\"vector-effect: non-scaling-stroke; fill: none; stroke: rgb(0, 174, 233); stroke-opacity: 1; stroke-width: 2px; opacity: 1;\"/></g><g class=\"points\"/><g class=\"text\"/></g></g></g></g><path class=\"xlines-above crisp\" d=\"M0,0\" style=\"fill: none;\"/><path class=\"ylines-above crisp\" d=\"M0,0\" style=\"fill: none;\"/><g class=\"overlines-above\"><path class=\"xy2-x crisp\" d=\"M0,0\" style=\"fill: none;\"/><path class=\"xy2-y crisp\" d=\"M0,0\" style=\"fill: none;\"/></g><g class=\"xaxislayer-above\"><g class=\"xtick\"><text text-anchor=\"middle\" x=\"0\" y=\"433\" transform=\"translate(79.95,0)\" style=\"font-family: 'Open Sans', verdana, arial, sans-serif; font-size: 12px; fill: rgb(42, 63, 95); fill-opacity: 1; white-space: pre;\">0</text></g><g class=\"xtick\"><text text-anchor=\"middle\" x=\"0\" y=\"433\" transform=\"translate(187.34,0)\" style=\"font-family: 'Open Sans', verdana, arial, sans-serif; font-size: 12px; fill: rgb(42, 63, 95); fill-opacity: 1; white-space: pre;\">2k</text></g><g class=\"xtick\"><text text-anchor=\"middle\" x=\"0\" y=\"433\" transform=\"translate(294.73,0)\" style=\"font-family: 'Open Sans', verdana, arial, sans-serif; font-size: 12px; fill: rgb(42, 63, 95); fill-opacity: 1; white-space: pre;\">4k</text></g><g class=\"xtick\"><text text-anchor=\"middle\" x=\"0\" y=\"433\" transform=\"translate(402.12,0)\" style=\"font-family: 'Open Sans', verdana, arial, sans-serif; font-size: 12px; fill: rgb(42, 63, 95); fill-opacity: 1; white-space: pre;\">6k</text></g><g class=\"xtick\"><text text-anchor=\"middle\" x=\"0\" y=\"433\" transform=\"translate(509.51,0)\" style=\"font-family: 'Open Sans', verdana, arial, sans-serif; font-size: 12px; fill: rgb(42, 63, 95); fill-opacity: 1; white-space: pre;\">8k</text></g><g class=\"xtick\"><text text-anchor=\"middle\" x=\"0\" y=\"433\" transform=\"translate(616.9,0)\" style=\"font-family: 'Open Sans', verdana, arial, sans-serif; font-size: 12px; fill: rgb(42, 63, 95); fill-opacity: 1; white-space: pre;\">10k</text></g></g><g class=\"yaxislayer-above\"><g class=\"ytick\"><text text-anchor=\"end\" x=\"79\" y=\"4.199999999999999\" transform=\"translate(0,404)\" style=\"font-family: 'Open Sans', verdana, arial, sans-serif; font-size: 12px; fill: rgb(42, 63, 95); fill-opacity: 1; white-space: pre;\">0</text></g><g class=\"ytick\"><text text-anchor=\"end\" x=\"79\" y=\"4.199999999999999\" transform=\"translate(0,346.4)\" style=\"font-family: 'Open Sans', verdana, arial, sans-serif; font-size: 12px; fill: rgb(42, 63, 95); fill-opacity: 1; white-space: pre;\">0.2</text></g><g class=\"ytick\"><text text-anchor=\"end\" x=\"79\" y=\"4.199999999999999\" transform=\"translate(0,288.8)\" style=\"font-family: 'Open Sans', verdana, arial, sans-serif; font-size: 12px; fill: rgb(42, 63, 95); fill-opacity: 1; white-space: pre;\">0.4</text></g><g class=\"ytick\"><text text-anchor=\"end\" x=\"79\" y=\"4.199999999999999\" transform=\"translate(0,231.2)\" style=\"font-family: 'Open Sans', verdana, arial, sans-serif; font-size: 12px; fill: rgb(42, 63, 95); fill-opacity: 1; white-space: pre;\">0.6</text></g><g class=\"ytick\"><text text-anchor=\"end\" x=\"79\" y=\"4.199999999999999\" transform=\"translate(0,173.6)\" style=\"font-family: 'Open Sans', verdana, arial, sans-serif; font-size: 12px; fill: rgb(42, 63, 95); fill-opacity: 1; white-space: pre;\">0.8</text></g><g class=\"ytick\"><text text-anchor=\"end\" x=\"79\" y=\"4.199999999999999\" transform=\"translate(0,116)\" style=\"font-family: 'Open Sans', verdana, arial, sans-serif; font-size: 12px; fill: rgb(42, 63, 95); fill-opacity: 1; white-space: pre;\">1</text></g></g><g class=\"overaxes-above\"><g class=\"xy2-x\"/><g class=\"xy2-y\"><g class=\"y2tick\"><text text-anchor=\"start\" x=\"721\" y=\"4.199999999999999\" transform=\"translate(0,404)\" style=\"font-family: 'Open Sans', verdana, arial, sans-serif; font-size: 12px; fill: rgb(42, 63, 95); fill-opacity: 1; white-space: pre;\">0</text></g><g class=\"y2tick\"><text text-anchor=\"start\" x=\"721\" y=\"4.199999999999999\" transform=\"translate(0,346.85)\" style=\"font-family: 'Open Sans', verdana, arial, sans-serif; font-size: 12px; fill: rgb(42, 63, 95); fill-opacity: 1; white-space: pre;\">10k</text></g><g class=\"y2tick\"><text text-anchor=\"start\" x=\"721\" y=\"4.199999999999999\" transform=\"translate(0,289.7)\" style=\"font-family: 'Open Sans', verdana, arial, sans-serif; font-size: 12px; fill: rgb(42, 63, 95); fill-opacity: 1; white-space: pre;\">20k</text></g><g class=\"y2tick\"><text text-anchor=\"start\" x=\"721\" y=\"4.199999999999999\" transform=\"translate(0,232.55)\" style=\"font-family: 'Open Sans', verdana, arial, sans-serif; font-size: 12px; fill: rgb(42, 63, 95); fill-opacity: 1; white-space: pre;\">30k</text></g><g class=\"y2tick\"><text text-anchor=\"start\" x=\"721\" y=\"4.199999999999999\" transform=\"translate(0,175.41)\" style=\"font-family: 'Open Sans', verdana, arial, sans-serif; font-size: 12px; fill: rgb(42, 63, 95); fill-opacity: 1; white-space: pre;\">40k</text></g><g class=\"y2tick\"><text text-anchor=\"start\" x=\"721\" y=\"4.199999999999999\" transform=\"translate(0,118.26)\" style=\"font-family: 'Open Sans', verdana, arial, sans-serif; font-size: 12px; fill: rgb(42, 63, 95); fill-opacity: 1; white-space: pre;\">50k</text></g></g></g></g><g class=\"subplot xy2\"/></g><g class=\"polarlayer\"/><g class=\"ternarylayer\"/><g class=\"geolayer\"/><g class=\"funnelarealayer\"/><g class=\"pielayer\"/><g class=\"treemaplayer\"/><g class=\"sunburstlayer\"/><g class=\"glimages\"/><defs id=\"topdefs-3fab80\"><g class=\"clips\"/><clipPath id=\"legend3fab80\"><rect width=\"486\" height=\"29\" x=\"0\" y=\"0\"/></clipPath></defs><g class=\"layer-above\"><g class=\"imagelayer\"/><g class=\"shapelayer\"/></g><g class=\"infolayer\"><g class=\"legend\" pointer-events=\"all\" transform=\"translate(80, 452)\"><rect class=\"bg\" shape-rendering=\"crispEdges\" style=\"stroke: rgb(68, 68, 68); stroke-opacity: 1; fill: rgb(255, 255, 255); fill-opacity: 1; stroke-width: 0px;\" width=\"486\" height=\"29\" x=\"0\" y=\"0\"/><g class=\"scrollbox\" transform=\"translate(0, 0)\" clip-path=\"url('#legend3fab80')\"><g class=\"groups\"><g class=\"traces\" transform=\"translate(0, 14.5)\" style=\"opacity: 1;\"><text class=\"legendtext user-select-none\" text-anchor=\"start\" x=\"40\" y=\"4.680000000000001\" style=\"font-family: 'Open Sans', verdana, arial, sans-serif; font-size: 12px; fill: rgb(42, 63, 95); fill-opacity: 1; white-space: pre;\">processing time</text><g class=\"layers\" style=\"opacity: 1;\"><g class=\"legendfill\"/><g class=\"legendlines\"><path class=\"js-line\" d=\"M5,0h30\" style=\"fill: none; stroke: rgb(102, 205, 170); stroke-opacity: 1; stroke-width: 2px;\"/></g><g class=\"legendsymbols\"><g class=\"legendpoints\"/></g></g><rect class=\"legendtoggle\" pointer-events=\"all\" x=\"0\" y=\"-9.5\" width=\"137.703125\" height=\"19\" style=\"cursor: pointer; fill: rgb(0, 0, 0); fill-opacity: 0;\"/></g><g class=\"traces\" transform=\"translate(140.203125, 14.5)\" style=\"opacity: 1;\"><text class=\"legendtext user-select-none\" text-anchor=\"start\" x=\"40\" y=\"4.680000000000001\" style=\"font-family: 'Open Sans', verdana, arial, sans-serif; font-size: 12px; fill: rgb(42, 63, 95); fill-opacity: 1; white-space: pre;\">number of validators</text><g class=\"layers\" style=\"opacity: 1;\"><g class=\"legendfill\"/><g class=\"legendlines\"><path class=\"js-line\" d=\"M5,0h30\" style=\"fill: none; stroke: rgb(255, 160, 122); stroke-opacity: 1; stroke-width: 2px;\"/></g><g class=\"legendsymbols\"><g class=\"legendpoints\"/></g></g><rect class=\"legendtoggle\" pointer-events=\"all\" x=\"0\" y=\"-9.5\" width=\"168\" height=\"19\" style=\"cursor: pointer; fill: rgb(0, 0, 0); fill-opacity: 0;\"/></g><g class=\"traces\" transform=\"translate(310.703125, 14.5)\" style=\"opacity: 1;\"><text class=\"legendtext user-select-none\" text-anchor=\"start\" x=\"40\" y=\"4.680000000000001\" style=\"font-family: 'Open Sans', verdana, arial, sans-serif; font-size: 12px; fill: rgb(42, 63, 95); fill-opacity: 1; white-space: pre;\">number of delegators</text><g class=\"layers\" style=\"opacity: 1;\"><g class=\"legendfill\"/><g class=\"legendlines\"><path class=\"js-line\" d=\"M5,0h30\" style=\"fill: none; stroke: rgb(0, 174, 233); stroke-opacity: 1; stroke-width: 2px;\"/></g><g class=\"legendsymbols\"><g class=\"legendpoints\"/></g></g><rect class=\"legendtoggle\" pointer-events=\"all\" x=\"0\" y=\"-9.5\" width=\"172.171875\" height=\"19\" style=\"cursor: pointer; fill: rgb(0, 0, 0); fill-opacity: 0;\"/></g></g></g><rect class=\"scrollbar\" rx=\"20\" ry=\"3\" width=\"0\" height=\"0\" style=\"fill: rgb(128, 139, 164); fill-opacity: 1;\" x=\"0\" y=\"0\"/></g><g class=\"g-gtitle\"><text class=\"gtitle\" x=\"40\" y=\"50\" text-anchor=\"start\" dy=\"0em\" style=\"font-family: 'Open Sans', verdana, arial, sans-serif; font-size: 17px; fill: rgb(42, 63, 95); opacity: 1; font-weight: normal; white-space: pre;\">Delegation Information vs Processing Time</text></g><g class=\"g-xtitle\"/><g class=\"g-ytitle\"><text class=\"ytitle\" transform=\"rotate(-90,34.575,260)\" x=\"34.575\" y=\"260\" text-anchor=\"middle\" style=\"font-family: 'Open Sans', verdana, arial, sans-serif; font-size: 14px; fill: rgb(42, 63, 95); opacity: 1; font-weight: normal; white-space: pre;\">Processing Time</text></g><g class=\"g-y2title\"><text class=\"y2title\" transform=\"rotate(-90,768.159375,260)\" x=\"768.159375\" y=\"260\" text-anchor=\"middle\" style=\"font-family: 'Open Sans', verdana, arial, sans-serif; font-size: 14px; fill: rgb(42, 63, 95); opacity: 1; font-weight: normal; white-space: pre;\">Delegation Information</text></g></g></svg>"
      ]
     },
     "metadata": {},
     "output_type": "display_data"
    },
    {
     "name": "stdout",
     "output_type": "stream",
     "text": [
      "Statistics summary for block 1\n",
      "==================================\n",
      "       validators-number  delegators-number\n",
      "count         149.000000         149.000000\n",
      "mean          321.241611       10150.852349\n",
      "std           246.036793       15115.735351\n",
      "min             0.000000           0.000000\n",
      "25%             2.000000           2.000000\n",
      "50%           512.000000         824.000000\n",
      "75%           513.000000       17889.000000\n",
      "max           513.000000       50395.000000\n",
      "\n",
      "Block 2\n",
      "png graphs saved in ../../graphs/processing_time/stress_test_03_14/s0-leader/\n",
      "html graphs saved in https://harmony-one.github.io/harmony-log-analysis/graphs/processing_time/stress_test_03_14/so-leader/1_delegation_vs_processing_time.html\n"
     ]
    },
    {
     "data": {
      "image/svg+xml": [
       "<svg class=\"main-svg\" xmlns=\"http://www.w3.org/2000/svg\" xmlns:xlink=\"http://www.w3.org/1999/xlink\" width=\"800\" height=\"500\" viewBox=\"0 0 800 500\"><rect x=\"0\" y=\"0\" width=\"800\" height=\"500\" style=\"fill: rgb(255, 255, 255); fill-opacity: 1;\"/><defs id=\"defs-c66bbe\"><g class=\"clips\"><clipPath id=\"clipc66bbexyplot\" class=\"plotclip\"><rect width=\"640\" height=\"320\"/></clipPath><clipPath id=\"clipc66bbexy2plot\" class=\"plotclip\"><rect width=\"640\" height=\"320\"/></clipPath><clipPath class=\"axesclip\" id=\"clipc66bbex\"><rect x=\"80\" y=\"0\" width=\"640\" height=\"500\"/></clipPath><clipPath class=\"axesclip\" id=\"clipc66bbey\"><rect x=\"0\" y=\"100\" width=\"800\" height=\"320\"/></clipPath><clipPath class=\"axesclip\" id=\"clipc66bbexy\"><rect x=\"80\" y=\"100\" width=\"640\" height=\"320\"/></clipPath><clipPath class=\"axesclip\" id=\"clipc66bbey2\"><rect x=\"0\" y=\"100\" width=\"800\" height=\"320\"/></clipPath><clipPath class=\"axesclip\" id=\"clipc66bbexy2\"><rect x=\"80\" y=\"100\" width=\"640\" height=\"320\"/></clipPath></g><g class=\"gradients\"/></defs><g class=\"bglayer\"><rect class=\"bg\" x=\"80\" y=\"100\" width=\"640\" height=\"320\" style=\"fill: rgb(229, 236, 246); fill-opacity: 1; stroke-width: 0;\"/></g><g class=\"layer-below\"><g class=\"imagelayer\"/><g class=\"shapelayer\"/></g><g class=\"cartesianlayer\"><g class=\"subplot xy\"><g class=\"layer-subplot\"><g class=\"shapelayer\"/><g class=\"imagelayer\"/></g><g class=\"gridlayer\"><g class=\"x\"><path class=\"xgrid crisp\" transform=\"translate(174.45999999999998,0)\" d=\"M0,100v320\" style=\"stroke: rgb(255, 255, 255); stroke-opacity: 1; stroke-width: 1px;\"/><path class=\"xgrid crisp\" transform=\"translate(269.1,0)\" d=\"M0,100v320\" style=\"stroke: rgb(255, 255, 255); stroke-opacity: 1; stroke-width: 1px;\"/><path class=\"xgrid crisp\" transform=\"translate(363.75,0)\" d=\"M0,100v320\" style=\"stroke: rgb(255, 255, 255); stroke-opacity: 1; stroke-width: 1px;\"/><path class=\"xgrid crisp\" transform=\"translate(458.4,0)\" d=\"M0,100v320\" style=\"stroke: rgb(255, 255, 255); stroke-opacity: 1; stroke-width: 1px;\"/><path class=\"xgrid crisp\" transform=\"translate(553.04,0)\" d=\"M0,100v320\" style=\"stroke: rgb(255, 255, 255); stroke-opacity: 1; stroke-width: 1px;\"/><path class=\"xgrid crisp\" transform=\"translate(647.69,0)\" d=\"M0,100v320\" style=\"stroke: rgb(255, 255, 255); stroke-opacity: 1; stroke-width: 1px;\"/></g><g class=\"y\"><path class=\"ygrid crisp\" transform=\"translate(0,346.4)\" d=\"M80,0h640\" style=\"stroke: rgb(255, 255, 255); stroke-opacity: 1; stroke-width: 1px;\"/><path class=\"ygrid crisp\" transform=\"translate(0,288.8)\" d=\"M80,0h640\" style=\"stroke: rgb(255, 255, 255); stroke-opacity: 1; stroke-width: 1px;\"/><path class=\"ygrid crisp\" transform=\"translate(0,231.2)\" d=\"M80,0h640\" style=\"stroke: rgb(255, 255, 255); stroke-opacity: 1; stroke-width: 1px;\"/><path class=\"ygrid crisp\" transform=\"translate(0,173.6)\" d=\"M80,0h640\" style=\"stroke: rgb(255, 255, 255); stroke-opacity: 1; stroke-width: 1px;\"/><path class=\"ygrid crisp\" transform=\"translate(0,116)\" d=\"M80,0h640\" style=\"stroke: rgb(255, 255, 255); stroke-opacity: 1; stroke-width: 1px;\"/></g><g class=\"y2\"><path class=\"y2grid crisp\" transform=\"translate(0,340)\" d=\"M80,0h640\" style=\"stroke: rgb(255, 255, 255); stroke-opacity: 1; stroke-width: 1px;\"/><path class=\"y2grid crisp\" transform=\"translate(0,180)\" d=\"M80,0h640\" style=\"stroke: rgb(255, 255, 255); stroke-opacity: 1; stroke-width: 1px;\"/></g></g><g class=\"zerolinelayer\"><path class=\"yzl zl crisp\" transform=\"translate(0,404)\" d=\"M80,0h640\" style=\"stroke: rgb(255, 255, 255); stroke-opacity: 1; stroke-width: 2px;\"/><path class=\"y2zl zl crisp\" transform=\"translate(0,260)\" d=\"M80,0h640\" style=\"stroke: rgb(255, 255, 255); stroke-opacity: 1; stroke-width: 2px;\"/></g><path class=\"xlines-below\"/><path class=\"ylines-below\"/><g class=\"overlines-below\"><path class=\"xy2-x\"/><path class=\"xy2-y\"/></g><g class=\"xaxislayer-below\"/><g class=\"yaxislayer-below\"/><g class=\"overaxes-below\"><g class=\"xy2-x\"/><g class=\"xy2-y\"/></g><g class=\"plot\" transform=\"translate(80, 100)\" clip-path=\"url('#clipc66bbexyplot')\"><g class=\"scatterlayer mlayer\"><g class=\"trace scatter trace4741d0\" style=\"stroke-miterlimit: 2; opacity: 1;\"><g class=\"fills\"/><g class=\"errorbars\"/><g class=\"lines\"><path class=\"js-line\" d=\"M0,304L15.14,304L15.33,16L15.52,16L15.71,304L406.22,304L406.41,16L407.17,304L407.36,304L640,304\" style=\"vector-effect: non-scaling-stroke; fill: none; stroke: rgb(102, 205, 170); stroke-opacity: 1; stroke-width: 2px; opacity: 1;\"/></g><g class=\"points\"/><g class=\"text\"/></g></g></g><g class=\"overplot\"><g class=\"xy2\" transform=\"translate(80, 100)\" clip-path=\"url('#clipc66bbexy2plot')\"><g class=\"scatterlayer mlayer\"><g class=\"trace scatter tracef7a6d7\" style=\"stroke-miterlimit: 2; opacity: 1;\"><g class=\"fills\"/><g class=\"errorbars\"/><g class=\"lines\"><path class=\"js-line\" d=\"M42.21,160L624.29,160\" style=\"vector-effect: non-scaling-stroke; fill: none; stroke: rgb(255, 160, 122); stroke-opacity: 1; stroke-width: 2px; opacity: 1;\"/></g><g class=\"points\"/><g class=\"text\"/></g><g class=\"trace scatter trace8386a2\" style=\"stroke-miterlimit: 2; opacity: 1;\"><g class=\"fills\"/><g class=\"errorbars\"/><g class=\"lines\"><path class=\"js-line\" d=\"M42.21,160L624.29,160\" style=\"vector-effect: non-scaling-stroke; fill: none; stroke: rgb(0, 174, 233); stroke-opacity: 1; stroke-width: 2px; opacity: 1;\"/></g><g class=\"points\"/><g class=\"text\"/></g></g></g></g><path class=\"xlines-above crisp\" d=\"M0,0\" style=\"fill: none;\"/><path class=\"ylines-above crisp\" d=\"M0,0\" style=\"fill: none;\"/><g class=\"overlines-above\"><path class=\"xy2-x crisp\" d=\"M0,0\" style=\"fill: none;\"/><path class=\"xy2-y crisp\" d=\"M0,0\" style=\"fill: none;\"/></g><g class=\"xaxislayer-above\"><g class=\"xtick\"><text text-anchor=\"middle\" x=\"0\" y=\"433\" transform=\"translate(174.45999999999998,0)\" style=\"font-family: 'Open Sans', verdana, arial, sans-serif; font-size: 12px; fill: rgb(42, 63, 95); fill-opacity: 1; white-space: pre;\">500</text></g><g class=\"xtick\"><text text-anchor=\"middle\" x=\"0\" y=\"433\" transform=\"translate(269.1,0)\" style=\"font-family: 'Open Sans', verdana, arial, sans-serif; font-size: 12px; fill: rgb(42, 63, 95); fill-opacity: 1; white-space: pre;\">1000</text></g><g class=\"xtick\"><text text-anchor=\"middle\" x=\"0\" y=\"433\" transform=\"translate(363.75,0)\" style=\"font-family: 'Open Sans', verdana, arial, sans-serif; font-size: 12px; fill: rgb(42, 63, 95); fill-opacity: 1; white-space: pre;\">1500</text></g><g class=\"xtick\"><text text-anchor=\"middle\" x=\"0\" y=\"433\" transform=\"translate(458.4,0)\" style=\"font-family: 'Open Sans', verdana, arial, sans-serif; font-size: 12px; fill: rgb(42, 63, 95); fill-opacity: 1; white-space: pre;\">2000</text></g><g class=\"xtick\"><text text-anchor=\"middle\" x=\"0\" y=\"433\" transform=\"translate(553.04,0)\" style=\"font-family: 'Open Sans', verdana, arial, sans-serif; font-size: 12px; fill: rgb(42, 63, 95); fill-opacity: 1; white-space: pre;\">2500</text></g><g class=\"xtick\"><text text-anchor=\"middle\" x=\"0\" y=\"433\" transform=\"translate(647.69,0)\" style=\"font-family: 'Open Sans', verdana, arial, sans-serif; font-size: 12px; fill: rgb(42, 63, 95); fill-opacity: 1; white-space: pre;\">3000</text></g></g><g class=\"yaxislayer-above\"><g class=\"ytick\"><text text-anchor=\"end\" x=\"79\" y=\"4.199999999999999\" transform=\"translate(0,404)\" style=\"font-family: 'Open Sans', verdana, arial, sans-serif; font-size: 12px; fill: rgb(42, 63, 95); fill-opacity: 1; white-space: pre;\">0</text></g><g class=\"ytick\"><text text-anchor=\"end\" x=\"79\" y=\"4.199999999999999\" transform=\"translate(0,346.4)\" style=\"font-family: 'Open Sans', verdana, arial, sans-serif; font-size: 12px; fill: rgb(42, 63, 95); fill-opacity: 1; white-space: pre;\">0.2</text></g><g class=\"ytick\"><text text-anchor=\"end\" x=\"79\" y=\"4.199999999999999\" transform=\"translate(0,288.8)\" style=\"font-family: 'Open Sans', verdana, arial, sans-serif; font-size: 12px; fill: rgb(42, 63, 95); fill-opacity: 1; white-space: pre;\">0.4</text></g><g class=\"ytick\"><text text-anchor=\"end\" x=\"79\" y=\"4.199999999999999\" transform=\"translate(0,231.2)\" style=\"font-family: 'Open Sans', verdana, arial, sans-serif; font-size: 12px; fill: rgb(42, 63, 95); fill-opacity: 1; white-space: pre;\">0.6</text></g><g class=\"ytick\"><text text-anchor=\"end\" x=\"79\" y=\"4.199999999999999\" transform=\"translate(0,173.6)\" style=\"font-family: 'Open Sans', verdana, arial, sans-serif; font-size: 12px; fill: rgb(42, 63, 95); fill-opacity: 1; white-space: pre;\">0.8</text></g><g class=\"ytick\"><text text-anchor=\"end\" x=\"79\" y=\"4.199999999999999\" transform=\"translate(0,116)\" style=\"font-family: 'Open Sans', verdana, arial, sans-serif; font-size: 12px; fill: rgb(42, 63, 95); fill-opacity: 1; white-space: pre;\">1</text></g></g><g class=\"overaxes-above\"><g class=\"xy2-x\"/><g class=\"xy2-y\"><g class=\"y2tick\"><text text-anchor=\"start\" x=\"721\" y=\"4.199999999999999\" transform=\"translate(0,420)\" style=\"font-family: 'Open Sans', verdana, arial, sans-serif; font-size: 12px; fill: rgb(42, 63, 95); fill-opacity: 1; white-space: pre;\">−1</text></g><g class=\"y2tick\"><text text-anchor=\"start\" x=\"721\" y=\"4.199999999999999\" transform=\"translate(0,340)\" style=\"font-family: 'Open Sans', verdana, arial, sans-serif; font-size: 12px; fill: rgb(42, 63, 95); fill-opacity: 1; white-space: pre;\">−0.5</text></g><g class=\"y2tick\"><text text-anchor=\"start\" x=\"721\" y=\"4.199999999999999\" transform=\"translate(0,260)\" style=\"font-family: 'Open Sans', verdana, arial, sans-serif; font-size: 12px; fill: rgb(42, 63, 95); fill-opacity: 1; white-space: pre;\">0</text></g><g class=\"y2tick\"><text text-anchor=\"start\" x=\"721\" y=\"4.199999999999999\" transform=\"translate(0,180)\" style=\"font-family: 'Open Sans', verdana, arial, sans-serif; font-size: 12px; fill: rgb(42, 63, 95); fill-opacity: 1; white-space: pre;\">0.5</text></g><g class=\"y2tick\"><text text-anchor=\"start\" x=\"721\" y=\"4.199999999999999\" transform=\"translate(0,100)\" style=\"font-family: 'Open Sans', verdana, arial, sans-serif; font-size: 12px; fill: rgb(42, 63, 95); fill-opacity: 1; white-space: pre;\">1</text></g></g></g></g><g class=\"subplot xy2\"/></g><g class=\"polarlayer\"/><g class=\"ternarylayer\"/><g class=\"geolayer\"/><g class=\"funnelarealayer\"/><g class=\"pielayer\"/><g class=\"treemaplayer\"/><g class=\"sunburstlayer\"/><g class=\"glimages\"/><defs id=\"topdefs-c66bbe\"><g class=\"clips\"/><clipPath id=\"legendc66bbe\"><rect width=\"486\" height=\"29\" x=\"0\" y=\"0\"/></clipPath></defs><g class=\"layer-above\"><g class=\"imagelayer\"/><g class=\"shapelayer\"/></g><g class=\"infolayer\"><g class=\"legend\" pointer-events=\"all\" transform=\"translate(80, 452)\"><rect class=\"bg\" shape-rendering=\"crispEdges\" width=\"486\" height=\"29\" x=\"0\" y=\"0\" style=\"stroke: rgb(68, 68, 68); stroke-opacity: 1; fill: rgb(255, 255, 255); fill-opacity: 1; stroke-width: 0px;\"/><g class=\"scrollbox\" transform=\"translate(0, 0)\" clip-path=\"url('#legendc66bbe')\"><g class=\"groups\"><g class=\"traces\" transform=\"translate(0, 14.5)\" style=\"opacity: 1;\"><text class=\"legendtext user-select-none\" text-anchor=\"start\" x=\"40\" y=\"4.680000000000001\" style=\"font-family: 'Open Sans', verdana, arial, sans-serif; font-size: 12px; fill: rgb(42, 63, 95); fill-opacity: 1; white-space: pre;\">processing time</text><g class=\"layers\" style=\"opacity: 1;\"><g class=\"legendfill\"/><g class=\"legendlines\"><path class=\"js-line\" d=\"M5,0h30\" style=\"fill: none; stroke: rgb(102, 205, 170); stroke-opacity: 1; stroke-width: 2px;\"/></g><g class=\"legendsymbols\"><g class=\"legendpoints\"/></g></g><rect class=\"legendtoggle\" pointer-events=\"all\" x=\"0\" y=\"-9.5\" width=\"137.703125\" height=\"19\" style=\"cursor: pointer; fill: rgb(0, 0, 0); fill-opacity: 0;\"/></g><g class=\"traces\" transform=\"translate(140.203125, 14.5)\" style=\"opacity: 1;\"><text class=\"legendtext user-select-none\" text-anchor=\"start\" x=\"40\" y=\"4.680000000000001\" style=\"font-family: 'Open Sans', verdana, arial, sans-serif; font-size: 12px; fill: rgb(42, 63, 95); fill-opacity: 1; white-space: pre;\">number of validators</text><g class=\"layers\" style=\"opacity: 1;\"><g class=\"legendfill\"/><g class=\"legendlines\"><path class=\"js-line\" d=\"M5,0h30\" style=\"fill: none; stroke: rgb(255, 160, 122); stroke-opacity: 1; stroke-width: 2px;\"/></g><g class=\"legendsymbols\"><g class=\"legendpoints\"/></g></g><rect class=\"legendtoggle\" pointer-events=\"all\" x=\"0\" y=\"-9.5\" width=\"168\" height=\"19\" style=\"cursor: pointer; fill: rgb(0, 0, 0); fill-opacity: 0;\"/></g><g class=\"traces\" transform=\"translate(310.703125, 14.5)\" style=\"opacity: 1;\"><text class=\"legendtext user-select-none\" text-anchor=\"start\" x=\"40\" y=\"4.680000000000001\" style=\"font-family: 'Open Sans', verdana, arial, sans-serif; font-size: 12px; fill: rgb(42, 63, 95); fill-opacity: 1; white-space: pre;\">number of delegators</text><g class=\"layers\" style=\"opacity: 1;\"><g class=\"legendfill\"/><g class=\"legendlines\"><path class=\"js-line\" d=\"M5,0h30\" style=\"fill: none; stroke: rgb(0, 174, 233); stroke-opacity: 1; stroke-width: 2px;\"/></g><g class=\"legendsymbols\"><g class=\"legendpoints\"/></g></g><rect class=\"legendtoggle\" pointer-events=\"all\" x=\"0\" y=\"-9.5\" width=\"172.171875\" height=\"19\" style=\"cursor: pointer; fill: rgb(0, 0, 0); fill-opacity: 0;\"/></g></g></g><rect class=\"scrollbar\" rx=\"20\" ry=\"3\" width=\"0\" height=\"0\" x=\"0\" y=\"0\" style=\"fill: rgb(128, 139, 164); fill-opacity: 1;\"/></g><g class=\"g-gtitle\"><text class=\"gtitle\" x=\"40\" y=\"50\" text-anchor=\"start\" dy=\"0em\" style=\"font-family: 'Open Sans', verdana, arial, sans-serif; font-size: 17px; fill: rgb(42, 63, 95); opacity: 1; font-weight: normal; white-space: pre;\">Delegation Information vs Processing Time</text></g><g class=\"g-xtitle\"/><g class=\"g-ytitle\"><text class=\"ytitle\" transform=\"rotate(-90,34.575,260)\" x=\"34.575\" y=\"260\" text-anchor=\"middle\" style=\"font-family: 'Open Sans', verdana, arial, sans-serif; font-size: 14px; fill: rgb(42, 63, 95); opacity: 1; font-weight: normal; white-space: pre;\">Processing Time</text></g><g class=\"g-y2title\"><text class=\"y2title\" transform=\"rotate(-90,775.2375,260)\" x=\"775.2375\" y=\"260\" text-anchor=\"middle\" style=\"font-family: 'Open Sans', verdana, arial, sans-serif; font-size: 14px; fill: rgb(42, 63, 95); opacity: 1; font-weight: normal; white-space: pre;\">Delegation Information</text></g></g></svg>"
      ]
     },
     "metadata": {},
     "output_type": "display_data"
    },
    {
     "name": "stdout",
     "output_type": "stream",
     "text": [
      "Statistics summary for block 2\n",
      "==================================\n",
      "       validators-number  delegators-number\n",
      "count               42.0               42.0\n",
      "mean                 0.0                0.0\n",
      "std                  0.0                0.0\n",
      "min                  0.0                0.0\n",
      "25%                  0.0                0.0\n",
      "50%                  0.0                0.0\n",
      "75%                  0.0                0.0\n",
      "max                  0.0                0.0\n",
      "\n"
     ]
    }
   ],
   "source": [
    "for idx in range(len(index)-1):\n",
    "    \n",
    "    print(\"Block \"+str(idx+1))\n",
    "    new = df.loc[index[idx]:index[idx+1]-1]\n",
    "    new = new.drop_duplicates(subset = ['blockNum', 'message'], keep = \"last\")\n",
    "    new['time_diff'] = new.groupby(['blockNum'])['time'].apply(lambda c: c.diff().dt.seconds)\n",
    "    new.dropna(inplace = True)\n",
    "    new.reset_index(inplace = True, drop = True) \n",
    "    \n",
    "    new_del = df_delegation.loc[index_del[idx]:index_del[idx+1]-1]\n",
    "    new_del = new_del.drop_duplicates(subset = ['block-number', 'epoch'], keep = \"last\")\n",
    "    new_del.reset_index(inplace = True, drop = True)\n",
    "   \n",
    "    draw_graph(new, new_del, idx)\n",
    "    \n",
    "    print(\"Statistics summary for block \" + str(idx+1))\n",
    "    print(\"==================================\")\n",
    "    print(new_del[['validators-number','delegators-number']].describe())\n",
    "    print(\"\")"
   ]
  },
  {
   "cell_type": "markdown",
   "metadata": {},
   "source": [
    "## s1-leader"
   ]
  },
  {
   "cell_type": "code",
   "execution_count": 18,
   "metadata": {},
   "outputs": [],
   "source": [
    "log_dir = \"../../logs/node_logs/stress_test_03_14/s1-leader/\"\n",
    "fig_dir = \"../../graphs/processing_time/stress_test_03_14/s1-leader/\"\n",
    "html_dir = \"../../docs/graphs/processing_time/stress_test_03_14/s1-leader/\"\n",
    "files = os.listdir(log_dir)\n",
    "data = read_data(files, log_dir)\n",
    "df = data_processing(data)\n",
    "index = get_block_change_index(df)\n",
    "\n",
    "delegations = read_delegations(files, log_dir)\n",
    "df_delegation = delegation_processing(delegations)\n",
    "index_del = get_epoch_change_index(df_delegation)"
   ]
  },
  {
   "cell_type": "markdown",
   "metadata": {},
   "source": [
    "### draw delegation information vs processing time"
   ]
  },
  {
   "cell_type": "code",
   "execution_count": 19,
   "metadata": {},
   "outputs": [
    {
     "name": "stdout",
     "output_type": "stream",
     "text": [
      "Block 1\n",
      "png graphs saved in ../../graphs/processing_time/stress_test_03_14/s1-leader/\n",
      "html graphs saved in https://harmony-one.github.io/harmony-log-analysis/graphs/processing_time/stress_test_03_14/s1-leader/0_delegation_vs_processing_time.html\n"
     ]
    },
    {
     "data": {
      "image/svg+xml": [
       "<svg class=\"main-svg\" xmlns=\"http://www.w3.org/2000/svg\" xmlns:xlink=\"http://www.w3.org/1999/xlink\" width=\"800\" height=\"500\" viewBox=\"0 0 800 500\"><rect x=\"0\" y=\"0\" width=\"800\" height=\"500\" style=\"fill: rgb(255, 255, 255); fill-opacity: 1;\"/><defs id=\"defs-281c91\"><g class=\"clips\"><clipPath id=\"clip281c91xyplot\" class=\"plotclip\"><rect width=\"640\" height=\"320\"/></clipPath><clipPath id=\"clip281c91xy2plot\" class=\"plotclip\"><rect width=\"640\" height=\"320\"/></clipPath><clipPath class=\"axesclip\" id=\"clip281c91x\"><rect x=\"80\" y=\"0\" width=\"640\" height=\"500\"/></clipPath><clipPath class=\"axesclip\" id=\"clip281c91y\"><rect x=\"0\" y=\"100\" width=\"800\" height=\"320\"/></clipPath><clipPath class=\"axesclip\" id=\"clip281c91xy\"><rect x=\"80\" y=\"100\" width=\"640\" height=\"320\"/></clipPath><clipPath class=\"axesclip\" id=\"clip281c91y2\"><rect x=\"0\" y=\"100\" width=\"800\" height=\"320\"/></clipPath><clipPath class=\"axesclip\" id=\"clip281c91xy2\"><rect x=\"80\" y=\"100\" width=\"640\" height=\"320\"/></clipPath></g><g class=\"gradients\"/></defs><g class=\"bglayer\"><rect class=\"bg\" x=\"80\" y=\"100\" width=\"640\" height=\"320\" style=\"fill: rgb(229, 236, 246); fill-opacity: 1; stroke-width: 0;\"/></g><g class=\"layer-below\"><g class=\"imagelayer\"/><g class=\"shapelayer\"/></g><g class=\"cartesianlayer\"><g class=\"subplot xy\"><g class=\"layer-subplot\"><g class=\"shapelayer\"/><g class=\"imagelayer\"/></g><g class=\"gridlayer\"><g class=\"x\"><path class=\"xgrid crisp\" transform=\"translate(194.3,0)\" d=\"M0,100v320\" style=\"stroke: rgb(255, 255, 255); stroke-opacity: 1; stroke-width: 1px;\"/><path class=\"xgrid crisp\" transform=\"translate(308.65999999999997,0)\" d=\"M0,100v320\" style=\"stroke: rgb(255, 255, 255); stroke-opacity: 1; stroke-width: 1px;\"/><path class=\"xgrid crisp\" transform=\"translate(423.01,0)\" d=\"M0,100v320\" style=\"stroke: rgb(255, 255, 255); stroke-opacity: 1; stroke-width: 1px;\"/><path class=\"xgrid crisp\" transform=\"translate(537.37,0)\" d=\"M0,100v320\" style=\"stroke: rgb(255, 255, 255); stroke-opacity: 1; stroke-width: 1px;\"/><path class=\"xgrid crisp\" transform=\"translate(651.73,0)\" d=\"M0,100v320\" style=\"stroke: rgb(255, 255, 255); stroke-opacity: 1; stroke-width: 1px;\"/></g><g class=\"y\"><path class=\"ygrid crisp\" transform=\"translate(0,362.86)\" d=\"M80,0h640\" style=\"stroke: rgb(255, 255, 255); stroke-opacity: 1; stroke-width: 1px;\"/><path class=\"ygrid crisp\" transform=\"translate(0,321.71000000000004)\" d=\"M80,0h640\" style=\"stroke: rgb(255, 255, 255); stroke-opacity: 1; stroke-width: 1px;\"/><path class=\"ygrid crisp\" transform=\"translate(0,280.57)\" d=\"M80,0h640\" style=\"stroke: rgb(255, 255, 255); stroke-opacity: 1; stroke-width: 1px;\"/><path class=\"ygrid crisp\" transform=\"translate(0,239.43)\" d=\"M80,0h640\" style=\"stroke: rgb(255, 255, 255); stroke-opacity: 1; stroke-width: 1px;\"/><path class=\"ygrid crisp\" transform=\"translate(0,198.29000000000002)\" d=\"M80,0h640\" style=\"stroke: rgb(255, 255, 255); stroke-opacity: 1; stroke-width: 1px;\"/><path class=\"ygrid crisp\" transform=\"translate(0,157.14)\" d=\"M80,0h640\" style=\"stroke: rgb(255, 255, 255); stroke-opacity: 1; stroke-width: 1px;\"/><path class=\"ygrid crisp\" transform=\"translate(0,116)\" d=\"M80,0h640\" style=\"stroke: rgb(255, 255, 255); stroke-opacity: 1; stroke-width: 1px;\"/></g><g class=\"y2\"><path class=\"y2grid crisp\" transform=\"translate(0,344.49)\" d=\"M80,0h640\" style=\"stroke: rgb(255, 255, 255); stroke-opacity: 1; stroke-width: 1px;\"/><path class=\"y2grid crisp\" transform=\"translate(0,284.99)\" d=\"M80,0h640\" style=\"stroke: rgb(255, 255, 255); stroke-opacity: 1; stroke-width: 1px;\"/><path class=\"y2grid crisp\" transform=\"translate(0,225.48000000000002)\" d=\"M80,0h640\" style=\"stroke: rgb(255, 255, 255); stroke-opacity: 1; stroke-width: 1px;\"/><path class=\"y2grid crisp\" transform=\"translate(0,165.97)\" d=\"M80,0h640\" style=\"stroke: rgb(255, 255, 255); stroke-opacity: 1; stroke-width: 1px;\"/><path class=\"y2grid crisp\" transform=\"translate(0,106.47)\" d=\"M80,0h640\" style=\"stroke: rgb(255, 255, 255); stroke-opacity: 1; stroke-width: 1px;\"/></g></g><g class=\"zerolinelayer\"><path class=\"yzl zl crisp\" transform=\"translate(0,404)\" d=\"M80,0h640\" style=\"stroke: rgb(255, 255, 255); stroke-opacity: 1; stroke-width: 2px;\"/><path class=\"y2zl zl crisp\" transform=\"translate(0,404)\" d=\"M80,0h640\" style=\"stroke: rgb(255, 255, 255); stroke-opacity: 1; stroke-width: 2px;\"/></g><path class=\"xlines-below\"/><path class=\"ylines-below\"/><g class=\"overlines-below\"><path class=\"xy2-x\"/><path class=\"xy2-y\"/></g><g class=\"xaxislayer-below\"/><g class=\"yaxislayer-below\"/><g class=\"overaxes-below\"><g class=\"xy2-x\"/><g class=\"xy2-y\"/></g><g class=\"plot\" transform=\"translate(80, 100)\" clip-path=\"url('#clip281c91xyplot')\"><g class=\"scatterlayer mlayer\"><g class=\"trace scatter trace585592\" style=\"stroke-miterlimit: 2; opacity: 1;\"><g class=\"fills\"/><g class=\"errorbars\"/><g class=\"lines\"><path class=\"js-line\" d=\"M0,304L4.12,304L4.17,262.86L4.97,304L5.03,304L9.38,304L9.43,262.86L10.23,304L10.29,304L11.55,304L11.61,262.86L12.41,304L12.46,304L13.15,304L13.21,262.86L14.01,304L14.07,304L15.72,304L15.78,262.86L16.58,304L16.64,304L17.15,304L17.21,262.86L18.01,304L18.07,304L29.05,304L29.1,262.86L29.9,304L29.96,262.86L30.76,304L30.82,304L31.28,304L31.33,262.86L32.13,304L32.19,304L33.62,304L33.68,262.86L34.48,304L34.54,304L37.22,304L37.28,262.86L38.08,304L38.14,304L38.48,262.86L38.88,304L38.94,304L39.85,304L39.91,262.86L40.71,304L40.77,304L41.8,304L41.85,262.86L42.66,304L42.71,304L47.46,304L47.52,262.86L48.32,304L48.37,304L51,304L51.06,262.86L51.86,304L51.92,304L52.38,304L52.43,262.86L53.23,304L53.29,304L57.12,304L57.18,262.86L57.98,304L58.04,304L61.87,304L61.92,262.86L62.72,304L62.78,304L63.47,262.86L63.53,304L63.58,304L64.27,304L64.33,262.86L65.13,304L65.18,262.86L65.98,304L66.04,304L67.24,304L67.3,262.86L68.1,304L68.16,304L69.36,304L69.41,262.86L70.22,304L70.27,304L71.64,304L71.7,262.86L72.5,304L72.56,304L73.07,304L73.13,262.86L73.93,304L73.99,304L86,304L86.05,262.86L86.85,304L86.91,304L89.31,304L89.37,262.86L90.17,304L90.23,304L91.09,304L91.14,262.86L91.94,304L92,304L93.54,304L93.6,262.86L94.4,304L94.46,304L99.83,304L99.89,262.86L100.69,304L100.75,304L109.1,304L109.15,262.86L109.95,304L110.01,304L111.56,304L111.61,262.86L112.41,304L112.47,304L114.7,304L114.76,262.86L115.56,304L115.62,304L126.42,304L126.48,262.86L127.28,304L127.34,304L128.19,304L128.25,262.86L129.05,304L129.11,304L130.48,304L130.54,262.86L131.34,304L131.4,304L132.08,304L132.14,262.86L132.94,304L133,304L134.54,304L134.6,262.86L135.4,304L135.46,304L138.26,304L138.32,262.86L139.12,304L139.17,304L140.89,304L140.95,262.86L141.75,304L141.8,304L142.03,262.86L142.55,304L142.6,304L144.6,304L144.66,262.86L145.46,304L145.52,304L146.03,304L146.09,262.86L146.89,304L146.95,304L153.87,304L153.92,262.86L154.73,304L154.78,304L154.95,304L155.01,262.86L155.81,304L155.87,304L158.1,304L158.16,262.86L158.96,304L159.01,304L164.39,304L164.45,262.86L165.25,304L165.3,304L165.93,304L165.99,262.86L166.79,304L166.85,304L168.28,304L168.33,262.86L169.13,304L169.19,304L170.74,304L170.79,262.86L171.59,304L171.65,304L171.82,304L171.88,262.86L172.68,304L172.74,304L174.45,304L174.51,262.86L175.31,304L175.37,304L180,304L180.06,262.86L180.86,304L180.91,304L182.63,304L182.69,262.86L183.49,304L183.54,304L184.34,304L184.4,262.86L185.2,304L185.26,304L185.43,304L185.49,262.86L186.29,304L186.35,304L186.52,304L186.57,262.86L187.37,304L187.43,304L187.95,304L188,262.86L188.8,304L188.86,304L190.12,304L190.18,262.86L190.98,304L191.03,304L191.38,304L191.43,262.86L192.23,304L192.29,304L194.01,304L194.06,262.86L194.86,304L194.92,304L195.44,262.86L195.67,304L195.72,304L201.1,304L201.15,262.86L201.95,304L202.01,304L202.64,304L202.7,262.86L203.5,304L203.56,304L204.64,304L204.7,262.86L205.5,304L205.56,304L210.99,304L211.05,262.86L211.85,304L211.9,304L213.33,304L213.39,262.86L214.19,304L214.25,304L215.96,304L216.02,262.86L216.82,304L216.88,304L219.85,304L219.91,262.86L220.71,304L220.77,304L221.4,304L221.45,262.86L222.25,304L222.31,304L223.74,304L223.8,262.86L224.6,304L224.65,304L225.46,262.86L225.51,304L226.6,304L226.66,262.86L227.46,304L227.51,304L229.17,304L229.23,262.86L229.97,304L230.03,262.86L230.83,304L230.89,304L233.52,304L233.57,262.86L234.38,304L234.43,304L234.49,262.86L235.18,304L235.23,304L236.09,304L236.15,262.86L236.95,304L237.01,304L238.21,304L238.26,262.86L239.06,304L239.12,304L240.32,304L240.38,262.86L241.18,304L241.24,304L242.78,304L242.84,98.29L243.64,304L243.7,98.29L244.5,304L244.55,180.57L244.67,304L245.12,139.43L245.18,180.57L245.24,304L245.98,98.29L246.04,180.57L246.1,304L246.27,98.29L246.44,304L246.5,304L246.84,139.43L247.24,304L247.3,304L247.98,139.43L248.04,180.57L248.1,304L248.27,98.29L248.44,262.86L248.5,304L248.84,98.29L249.24,304L249.3,304L249.41,98.29L250.04,139.43L250.1,304L250.9,98.29L250.96,304L251.13,57.14L251.76,139.43L251.81,262.86L252.27,98.29L252.5,304L252.56,98.29L253.36,304L253.42,139.43L253.7,98.29L254.22,304L254.27,139.43L254.56,98.29L254.79,304L254.84,98.29L255.65,304L255.7,139.43L256.22,304L256.27,180.57L256.33,139.43L256.9,98.29L257.13,304L257.19,304L257.25,16L257.93,304L257.99,262.86L258.79,304L258.85,304L259.25,304L259.3,262.86L260.11,304L260.16,304L260.85,304L260.91,262.86L261.71,304L261.76,304L265.82,304L265.88,262.86L266.68,304L266.74,304L268,304L268.05,262.86L268.85,304L268.91,304L270,304L270.05,262.86L270.85,304L270.91,304L271.08,262.86L271.66,304L271.71,304L272.34,304L272.4,262.86L273.2,304L273.26,304L276.74,304L276.8,262.86L277.6,304L277.66,304L279.09,304L279.15,262.86L279.95,304L280,304L282.46,304L282.52,262.86L283.32,304L283.38,304L288.41,304L288.47,262.86L289.27,304L289.32,304L291.04,304L291.1,262.86L291.9,304L291.95,304L292.41,304L292.47,262.86L293.27,304L293.33,304L293.78,304L293.84,262.86L294.64,304L294.7,304L296.13,304L296.19,262.86L296.99,304L297.04,304L301.56,304L301.62,262.86L302.42,304L302.47,304L304.88,304L304.93,262.86L305.73,304L305.79,304L306.53,304L306.59,262.86L307.39,304L307.45,304L307.91,304L307.96,262.86L308.76,304L308.82,304L309.68,304L309.74,262.86L310.54,304L310.59,304L312.42,304L312.48,262.86L313.28,304L313.34,304L313.51,304L313.57,262.86L314.37,304L314.43,304L314.88,304L314.94,262.86L315.74,304L315.8,304L318.31,304L318.37,262.86L319.17,304L319.23,304L323.34,304L323.4,262.86L324.2,304L324.26,262.86L325.06,304L325.12,262.86L325.92,304L325.98,304L327,304L327.06,262.86L327.86,304L327.92,304L331.81,304L331.86,262.86L332.67,304L332.72,304L340.96,304L341.01,262.86L341.81,304L341.87,304L344.56,304L344.62,262.86L345.42,304L345.47,304L347.19,304L347.25,262.86L348.05,304L348.1,304L348.33,304L348.39,262.86L349.19,304L349.25,304L349.36,262.86L349.99,304L350.05,304L350.91,304L350.96,262.86L351.76,304L351.82,304L354.16,304L354.22,262.86L355.02,304L355.08,304L355.77,304L355.82,262.86L356.62,304L356.68,262.86L357.42,304L357.48,262.86L358.28,304L358.34,304L358.68,304L358.74,262.86L359.54,304L359.6,304L365.94,304L366,262.86L366.8,304L366.86,304L367.2,304L367.26,262.86L368.06,304L368.12,304L368.8,262.86L368.86,304L368.92,304L369.37,304L369.43,262.86L370.23,304L370.29,304L370.63,304L370.69,262.86L371.49,304L371.55,304L372.52,304L372.58,262.86L373.38,304L373.43,304L373.78,304L373.83,262.86L374.63,304L374.69,304L374.86,304L374.92,262.86L375.72,304L375.78,304L378.24,304L378.29,262.86L379.09,304L379.15,304L379.89,304L379.95,262.86L380.75,304L380.81,304L382.47,304L382.52,262.86L383.33,304L383.38,304L385.84,304L385.9,262.86L386.7,304L386.76,304L387.5,304L387.56,262.86L388.36,304L388.41,304L390.59,304L390.64,262.86L391.44,304L391.5,304L391.73,304L391.79,262.86L392.59,304L392.65,304L393.9,304L393.96,262.86L394.76,304L394.82,304L396.13,304L396.19,262.86L396.99,304L397.05,304L398.59,304L398.65,262.86L399.45,304L399.51,304L403.8,304L403.85,262.86L404.65,304L404.71,304L406.25,304L406.31,262.86L407.11,304L407.17,304L407.51,304L407.57,262.86L408.37,304L408.43,304L408.54,262.86L409.17,304L409.23,304L410.71,304L410.77,262.86L411.51,304L411.57,262.86L412.37,304L412.43,304L413.4,304L413.46,262.86L414.26,304L414.32,304L415.17,304L415.23,262.86L416.03,304L416.09,304L417.86,304L417.92,262.86L418.72,304L418.78,304L420.09,304L420.15,262.86L420.95,304L421.01,304L421.46,304L421.52,262.86L422.32,304L422.38,304L423.58,304L423.64,262.86L424.44,304L424.49,304L424.84,304L424.89,262.86L425.69,304L425.75,262.86L426.55,304L426.61,304L426.67,262.86L427.35,304L427.41,304L428.67,304L428.73,262.86L429.53,304L429.58,304L429.87,304L429.93,262.86L430.73,304L430.78,304L431.53,304L431.58,262.86L432.38,304L432.44,304L432.67,304L432.73,262.86L433.53,304L433.59,304L434.04,262.86L434.33,304L434.39,304L435.3,304L435.36,262.86L436.16,304L436.22,304L437.24,304L437.3,262.86L438.16,304L438.22,304L438.33,262.86L438.96,304L439.02,304L439.42,304L439.47,262.86L440.28,304L440.33,304L441.53,304L441.59,262.86L442.39,304L442.45,304L443.25,304L443.31,262.86L444.11,304L444.16,304L444.96,304L445.02,262.86L445.82,304L445.88,304L446.16,304L446.22,262.86L447.02,304L447.08,304L449.48,304L449.54,262.86L450.34,304L450.4,304L454.23,304L454.28,262.86L455.08,304L455.14,304L457.94,304L458,262.86L458.8,304L458.86,304L460.06,304L460.12,262.86L460.92,304L460.97,304L463.43,304L463.49,262.86L464.29,304L464.35,304L465.43,304L465.49,262.86L466.29,304L466.35,304L466.63,304L466.69,262.86L467.49,304L467.55,304L469.04,304L469.09,262.86L469.89,304L469.95,304L470.35,262.86L470.69,304L470.75,304L470.81,262.86L471.49,304L471.55,304L472.52,304L472.58,262.86L473.38,304L473.44,304L473.61,262.86L474.18,304L474.24,304L474.53,304L474.58,262.86L475.33,304L475.38,262.86L476.18,304L476.24,304L476.3,262.86L476.98,304L477.04,304L477.33,304L477.38,262.86L478.18,304L478.24,304L478.41,304L478.47,262.86L479.27,304L479.33,304L480.19,262.86L480.24,304L481.16,304L481.22,262.86L482.02,304L482.07,304L483.62,304L483.67,262.86L484.47,304L484.53,304L484.93,304L484.99,262.86L485.79,304L485.85,304L486.42,262.86L486.59,304L486.65,304L487.96,304L488.02,262.86L488.82,304L488.88,304L489.05,304L489.11,262.86L489.91,304L489.96,304L490.25,304L490.31,262.86L491.11,304L491.16,304L491.96,304L492.02,262.86L492.82,304L492.88,304L493.05,262.86L493.62,304L493.68,304L494.65,304L494.71,262.86L495.51,304L495.57,304L497.28,304L497.34,262.86L498.14,304L498.2,304L500.43,304L500.48,262.86L501.28,304L501.34,304L501.86,262.86L502.09,304L502.14,304L502.6,304L502.66,262.86L503.46,304L503.51,304L504.2,262.86L504.26,304L504.32,304L504.66,304L504.72,262.86L505.52,304L505.57,304L505.86,304L505.92,262.86L506.72,304L506.77,304L508.66,304L508.72,262.86L509.52,304L509.58,304L510.15,304L510.2,262.86L511.01,304L511.06,304L512.61,304L512.66,262.86L513.46,304L513.52,304L514.44,304L514.49,262.86L515.29,304L515.35,304L517.92,304L517.98,262.86L518.72,304L518.78,262.86L519.52,304L519.58,262.86L520.38,304L520.44,304L522.27,304L522.33,262.86L523.13,304L523.18,304L524.44,304L524.5,262.86L525.3,304L525.36,304L526.44,304L526.5,262.86L527.3,304L527.36,262.86L528.22,304L528.27,304L528.73,304L528.79,262.86L529.59,304L529.65,304L530.05,304L530.1,262.86L530.9,304L530.96,304L531.59,304L531.65,262.86L532.45,304L532.5,304L532.9,304L532.96,262.86L533.76,304L533.82,304L535.53,304L535.59,262.86L536.39,304L536.45,304L537.14,262.86L537.19,304L537.25,304L539.19,304L539.25,262.86L540.05,304L540.11,304L540.22,221.71L540.85,304L540.91,304L544.45,304L544.51,262.86L545.31,304L545.37,262.86L546.17,304L546.23,304L548.74,304L548.8,262.86L549.66,304L549.72,304L550.69,304L550.74,262.86L551.54,304L551.6,304L552.97,304L553.03,262.86L553.09,221.71L553.15,304L553.72,304L553.77,304L553.89,262.86L554.52,304L554.58,304L555.43,304L555.49,262.86L556.29,304L556.35,304L556.98,304L557.03,262.86L557.83,304L557.89,304L559.26,304L559.32,262.86L560.12,304L560.18,304L560.46,304L560.52,262.86L561.32,304L561.38,304L561.61,304L561.67,262.86L562.47,304L562.52,304L564.81,304L564.87,262.86L565.67,304L565.73,304L565.9,304L565.95,262.86L566.75,304L566.81,304L567.21,262.86L567.55,304L567.61,304L567.78,262.86L568.36,304L568.41,304L570.18,304L570.24,221.71L571.04,304L571.1,304L572.13,304L572.19,262.86L572.99,304L573.04,304L573.22,262.86L573.79,304L573.84,304L574.47,304L574.53,262.86L575.33,304L575.39,304L577.9,304L577.96,262.86L578.76,304L578.82,221.71L579.68,304L579.73,304L580.82,304L580.88,262.86L581.68,304L581.74,304L582.88,304L582.94,262.86L583.68,304L583.74,262.86L584.54,304L584.59,304L585.11,304L585.17,262.86L585.97,304L586.02,304L586.94,304L587,262.86L587.4,221.71L587.8,304L587.85,304L588.42,304L588.48,262.86L589.28,304L589.34,262.86L590.14,304L590.2,304L590.54,304L590.6,262.86L591.4,304L591.46,304L591.63,304L591.68,221.71L592.48,304L592.54,304L594.89,304L594.94,262.86L595.74,304L595.8,304L595.97,221.71L596.54,304L596.6,304L596.83,304L596.89,262.86L597.63,304L597.69,262.86L598.43,304L598.49,262.86L599.29,304L599.35,304L599.75,304L599.8,262.86L600.26,221.71L600.6,304L600.66,304L600.89,304L600.95,262.86L601.75,304L601.8,304L603.92,304L603.98,262.86L604.78,304L604.84,304L606.49,304L606.55,262.86L607.35,304L607.41,304L608.44,304L608.49,262.86L608.84,221.71L609.3,304L609.35,304L609.52,304L609.58,262.86L610.38,304L610.44,304L612.15,304L612.21,262.86L613.01,304L613.07,304L613.13,221.71L613.81,304L613.87,304L614.33,262.86L614.61,304L614.67,304L617.36,304L617.41,221.71L618.21,304L618.27,304L620.39,304L620.44,262.86L621.25,304L621.3,304L621.65,304L621.7,221.71L622.45,304L622.5,262.86L623.3,304L623.36,304L624.1,304L624.16,262.86L624.96,304L625.02,304L625.76,304L625.82,262.86L625.99,221.71L626.62,304L626.68,304L628.16,304L628.22,262.86L629.02,304L629.08,304L629.25,304L629.31,262.86L630.11,304L630.17,304L630.28,180.57L630.91,304L630.97,304L632.62,304L632.68,262.86L633.48,304L633.54,304L634.45,304L634.51,262.86L634.57,221.71L634.63,304L635.2,304L635.25,304L637.14,304L637.2,262.86L638,304L638.06,304L638.63,304L638.68,262.86L638.86,221.71L639.49,304L639.54,304L640,304\" style=\"vector-effect: non-scaling-stroke; fill: none; stroke: rgb(102, 205, 170); stroke-opacity: 1; stroke-width: 2px; opacity: 1;\"/></g><g class=\"points\"/><g class=\"text\"/></g></g></g><g class=\"overplot\"><g class=\"xy2\" transform=\"translate(80, 100)\" clip-path=\"url('#clip281c91xy2plot')\"><g class=\"scatterlayer mlayer\"><g class=\"trace scatter tracebff684\" style=\"stroke-miterlimit: 2; opacity: 1;\"><g class=\"fills\"/><g class=\"errorbars\"/><g class=\"lines\"><path class=\"js-line\" d=\"M12.75,304L244.32,303.66L248.61,302.76L257.19,301.01L261.48,300.95L638.86,300.95\" style=\"vector-effect: non-scaling-stroke; fill: none; stroke: rgb(255, 160, 122); stroke-opacity: 1; stroke-width: 2px; opacity: 1;\"/></g><g class=\"points\"/><g class=\"text\"/></g><g class=\"trace scatter trace04a433\" style=\"stroke-miterlimit: 2; opacity: 1;\"><g class=\"fills\"/><g class=\"errorbars\"/><g class=\"lines\"><path class=\"js-line\" d=\"M12.75,304L244.32,303.66L248.61,302.76L257.19,301.01L261.48,300.95L317.23,300.29L321.52,300.05L334.38,298.14L338.67,296.78L355.82,292.25L360.11,292.25L368.69,292.25L372.98,291.06L385.84,287.25L390.13,286.84L428.73,273.97L433.01,271.6L437.3,266.57L441.59,259.93L454.46,243.27L458.74,237.86L480.19,208.28L484.47,203.13L527.36,148.22L531.65,143.34L570.24,94.7L574.53,92.08L587.4,82.52L591.68,79.05L600.26,69.43L604.55,64.31L617.41,46.71L621.7,40.28L638.86,16\" style=\"vector-effect: non-scaling-stroke; fill: none; stroke: rgb(0, 174, 233); stroke-opacity: 1; stroke-width: 2px; opacity: 1;\"/></g><g class=\"points\"/><g class=\"text\"/></g></g></g></g><path class=\"xlines-above crisp\" d=\"M0,0\" style=\"fill: none;\"/><path class=\"ylines-above crisp\" d=\"M0,0\" style=\"fill: none;\"/><g class=\"overlines-above\"><path class=\"xy2-x crisp\" d=\"M0,0\" style=\"fill: none;\"/><path class=\"xy2-y crisp\" d=\"M0,0\" style=\"fill: none;\"/></g><g class=\"xaxislayer-above\"><g class=\"xtick\"><text text-anchor=\"middle\" x=\"0\" y=\"433\" transform=\"translate(79.94,0)\" style=\"font-family: 'Open Sans', verdana, arial, sans-serif; font-size: 12px; fill: rgb(42, 63, 95); fill-opacity: 1; white-space: pre;\">0</text></g><g class=\"xtick\"><text text-anchor=\"middle\" x=\"0\" y=\"433\" transform=\"translate(194.3,0)\" style=\"font-family: 'Open Sans', verdana, arial, sans-serif; font-size: 12px; fill: rgb(42, 63, 95); fill-opacity: 1; white-space: pre;\">2k</text></g><g class=\"xtick\"><text text-anchor=\"middle\" x=\"0\" y=\"433\" transform=\"translate(308.65999999999997,0)\" style=\"font-family: 'Open Sans', verdana, arial, sans-serif; font-size: 12px; fill: rgb(42, 63, 95); fill-opacity: 1; white-space: pre;\">4k</text></g><g class=\"xtick\"><text text-anchor=\"middle\" x=\"0\" y=\"433\" transform=\"translate(423.01,0)\" style=\"font-family: 'Open Sans', verdana, arial, sans-serif; font-size: 12px; fill: rgb(42, 63, 95); fill-opacity: 1; white-space: pre;\">6k</text></g><g class=\"xtick\"><text text-anchor=\"middle\" x=\"0\" y=\"433\" transform=\"translate(537.37,0)\" style=\"font-family: 'Open Sans', verdana, arial, sans-serif; font-size: 12px; fill: rgb(42, 63, 95); fill-opacity: 1; white-space: pre;\">8k</text></g><g class=\"xtick\"><text text-anchor=\"middle\" x=\"0\" y=\"433\" transform=\"translate(651.73,0)\" style=\"font-family: 'Open Sans', verdana, arial, sans-serif; font-size: 12px; fill: rgb(42, 63, 95); fill-opacity: 1; white-space: pre;\">10k</text></g></g><g class=\"yaxislayer-above\"><g class=\"ytick\"><text text-anchor=\"end\" x=\"79\" y=\"4.199999999999999\" transform=\"translate(0,404)\" style=\"font-family: 'Open Sans', verdana, arial, sans-serif; font-size: 12px; fill: rgb(42, 63, 95); fill-opacity: 1; white-space: pre;\">0</text></g><g class=\"ytick\"><text text-anchor=\"end\" x=\"79\" y=\"4.199999999999999\" transform=\"translate(0,362.86)\" style=\"font-family: 'Open Sans', verdana, arial, sans-serif; font-size: 12px; fill: rgb(42, 63, 95); fill-opacity: 1; white-space: pre;\">1</text></g><g class=\"ytick\"><text text-anchor=\"end\" x=\"79\" y=\"4.199999999999999\" transform=\"translate(0,321.71000000000004)\" style=\"font-family: 'Open Sans', verdana, arial, sans-serif; font-size: 12px; fill: rgb(42, 63, 95); fill-opacity: 1; white-space: pre;\">2</text></g><g class=\"ytick\"><text text-anchor=\"end\" x=\"79\" y=\"4.199999999999999\" transform=\"translate(0,280.57)\" style=\"font-family: 'Open Sans', verdana, arial, sans-serif; font-size: 12px; fill: rgb(42, 63, 95); fill-opacity: 1; white-space: pre;\">3</text></g><g class=\"ytick\"><text text-anchor=\"end\" x=\"79\" y=\"4.199999999999999\" transform=\"translate(0,239.43)\" style=\"font-family: 'Open Sans', verdana, arial, sans-serif; font-size: 12px; fill: rgb(42, 63, 95); fill-opacity: 1; white-space: pre;\">4</text></g><g class=\"ytick\"><text text-anchor=\"end\" x=\"79\" y=\"4.199999999999999\" transform=\"translate(0,198.29000000000002)\" style=\"font-family: 'Open Sans', verdana, arial, sans-serif; font-size: 12px; fill: rgb(42, 63, 95); fill-opacity: 1; white-space: pre;\">5</text></g><g class=\"ytick\"><text text-anchor=\"end\" x=\"79\" y=\"4.199999999999999\" transform=\"translate(0,157.14)\" style=\"font-family: 'Open Sans', verdana, arial, sans-serif; font-size: 12px; fill: rgb(42, 63, 95); fill-opacity: 1; white-space: pre;\">6</text></g><g class=\"ytick\"><text text-anchor=\"end\" x=\"79\" y=\"4.199999999999999\" transform=\"translate(0,116)\" style=\"font-family: 'Open Sans', verdana, arial, sans-serif; font-size: 12px; fill: rgb(42, 63, 95); fill-opacity: 1; white-space: pre;\">7</text></g></g><g class=\"overaxes-above\"><g class=\"xy2-x\"/><g class=\"xy2-y\"><g class=\"y2tick\"><text text-anchor=\"start\" x=\"721\" y=\"4.199999999999999\" transform=\"translate(0,404)\" style=\"font-family: 'Open Sans', verdana, arial, sans-serif; font-size: 12px; fill: rgb(42, 63, 95); fill-opacity: 1; white-space: pre;\">0</text></g><g class=\"y2tick\"><text text-anchor=\"start\" x=\"721\" y=\"4.199999999999999\" transform=\"translate(0,344.49)\" style=\"font-family: 'Open Sans', verdana, arial, sans-serif; font-size: 12px; fill: rgb(42, 63, 95); fill-opacity: 1; white-space: pre;\">10k</text></g><g class=\"y2tick\"><text text-anchor=\"start\" x=\"721\" y=\"4.199999999999999\" transform=\"translate(0,284.99)\" style=\"font-family: 'Open Sans', verdana, arial, sans-serif; font-size: 12px; fill: rgb(42, 63, 95); fill-opacity: 1; white-space: pre;\">20k</text></g><g class=\"y2tick\"><text text-anchor=\"start\" x=\"721\" y=\"4.199999999999999\" transform=\"translate(0,225.48000000000002)\" style=\"font-family: 'Open Sans', verdana, arial, sans-serif; font-size: 12px; fill: rgb(42, 63, 95); fill-opacity: 1; white-space: pre;\">30k</text></g><g class=\"y2tick\"><text text-anchor=\"start\" x=\"721\" y=\"4.199999999999999\" transform=\"translate(0,165.97)\" style=\"font-family: 'Open Sans', verdana, arial, sans-serif; font-size: 12px; fill: rgb(42, 63, 95); fill-opacity: 1; white-space: pre;\">40k</text></g><g class=\"y2tick\"><text text-anchor=\"start\" x=\"721\" y=\"4.199999999999999\" transform=\"translate(0,106.47)\" style=\"font-family: 'Open Sans', verdana, arial, sans-serif; font-size: 12px; fill: rgb(42, 63, 95); fill-opacity: 1; white-space: pre;\">50k</text></g></g></g></g><g class=\"subplot xy2\"/></g><g class=\"polarlayer\"/><g class=\"ternarylayer\"/><g class=\"geolayer\"/><g class=\"funnelarealayer\"/><g class=\"pielayer\"/><g class=\"treemaplayer\"/><g class=\"sunburstlayer\"/><g class=\"glimages\"/><defs id=\"topdefs-281c91\"><g class=\"clips\"/><clipPath id=\"legend281c91\"><rect width=\"486\" height=\"29\" x=\"0\" y=\"0\"/></clipPath></defs><g class=\"layer-above\"><g class=\"imagelayer\"/><g class=\"shapelayer\"/></g><g class=\"infolayer\"><g class=\"legend\" pointer-events=\"all\" transform=\"translate(80, 452)\"><rect class=\"bg\" shape-rendering=\"crispEdges\" width=\"486\" height=\"29\" x=\"0\" y=\"0\" style=\"stroke: rgb(68, 68, 68); stroke-opacity: 1; fill: rgb(255, 255, 255); fill-opacity: 1; stroke-width: 0px;\"/><g class=\"scrollbox\" transform=\"translate(0, 0)\" clip-path=\"url('#legend281c91')\"><g class=\"groups\"><g class=\"traces\" transform=\"translate(0, 14.5)\" style=\"opacity: 1;\"><text class=\"legendtext user-select-none\" text-anchor=\"start\" x=\"40\" y=\"4.680000000000001\" style=\"font-family: 'Open Sans', verdana, arial, sans-serif; font-size: 12px; fill: rgb(42, 63, 95); fill-opacity: 1; white-space: pre;\">processing time</text><g class=\"layers\" style=\"opacity: 1;\"><g class=\"legendfill\"/><g class=\"legendlines\"><path class=\"js-line\" d=\"M5,0h30\" style=\"fill: none; stroke: rgb(102, 205, 170); stroke-opacity: 1; stroke-width: 2px;\"/></g><g class=\"legendsymbols\"><g class=\"legendpoints\"/></g></g><rect class=\"legendtoggle\" pointer-events=\"all\" x=\"0\" y=\"-9.5\" width=\"137.703125\" height=\"19\" style=\"cursor: pointer; fill: rgb(0, 0, 0); fill-opacity: 0;\"/></g><g class=\"traces\" transform=\"translate(140.203125, 14.5)\" style=\"opacity: 1;\"><text class=\"legendtext user-select-none\" text-anchor=\"start\" x=\"40\" y=\"4.680000000000001\" style=\"font-family: 'Open Sans', verdana, arial, sans-serif; font-size: 12px; fill: rgb(42, 63, 95); fill-opacity: 1; white-space: pre;\">number of validators</text><g class=\"layers\" style=\"opacity: 1;\"><g class=\"legendfill\"/><g class=\"legendlines\"><path class=\"js-line\" d=\"M5,0h30\" style=\"fill: none; stroke: rgb(255, 160, 122); stroke-opacity: 1; stroke-width: 2px;\"/></g><g class=\"legendsymbols\"><g class=\"legendpoints\"/></g></g><rect class=\"legendtoggle\" pointer-events=\"all\" x=\"0\" y=\"-9.5\" width=\"168\" height=\"19\" style=\"cursor: pointer; fill: rgb(0, 0, 0); fill-opacity: 0;\"/></g><g class=\"traces\" transform=\"translate(310.703125, 14.5)\" style=\"opacity: 1;\"><text class=\"legendtext user-select-none\" text-anchor=\"start\" x=\"40\" y=\"4.680000000000001\" style=\"font-family: 'Open Sans', verdana, arial, sans-serif; font-size: 12px; fill: rgb(42, 63, 95); fill-opacity: 1; white-space: pre;\">number of delegators</text><g class=\"layers\" style=\"opacity: 1;\"><g class=\"legendfill\"/><g class=\"legendlines\"><path class=\"js-line\" d=\"M5,0h30\" style=\"fill: none; stroke: rgb(0, 174, 233); stroke-opacity: 1; stroke-width: 2px;\"/></g><g class=\"legendsymbols\"><g class=\"legendpoints\"/></g></g><rect class=\"legendtoggle\" pointer-events=\"all\" x=\"0\" y=\"-9.5\" width=\"172.171875\" height=\"19\" style=\"cursor: pointer; fill: rgb(0, 0, 0); fill-opacity: 0;\"/></g></g></g><rect class=\"scrollbar\" rx=\"20\" ry=\"3\" width=\"0\" height=\"0\" x=\"0\" y=\"0\" style=\"fill: rgb(128, 139, 164); fill-opacity: 1;\"/></g><g class=\"g-gtitle\"><text class=\"gtitle\" x=\"40\" y=\"50\" text-anchor=\"start\" dy=\"0em\" style=\"font-family: 'Open Sans', verdana, arial, sans-serif; font-size: 17px; fill: rgb(42, 63, 95); opacity: 1; font-weight: normal; white-space: pre;\">Delegation Information vs Processing Time</text></g><g class=\"g-xtitle\"/><g class=\"g-ytitle\"><text class=\"ytitle\" transform=\"rotate(-90,46.559375,260)\" x=\"46.559375\" y=\"260\" text-anchor=\"middle\" style=\"font-family: 'Open Sans', verdana, arial, sans-serif; font-size: 14px; fill: rgb(42, 63, 95); opacity: 1; font-weight: normal; white-space: pre;\">Processing Time</text></g><g class=\"g-y2title\"><text class=\"y2title\" transform=\"rotate(-90,768.159375,260)\" x=\"768.159375\" y=\"260\" text-anchor=\"middle\" style=\"font-family: 'Open Sans', verdana, arial, sans-serif; font-size: 14px; fill: rgb(42, 63, 95); opacity: 1; font-weight: normal; white-space: pre;\">Delegation Information</text></g></g></svg>"
      ]
     },
     "metadata": {},
     "output_type": "display_data"
    },
    {
     "name": "stdout",
     "output_type": "stream",
     "text": [
      "Statistics summary for block 1\n",
      "==================================\n",
      "       validators-number  delegators-number\n",
      "count         147.000000         147.000000\n",
      "mean          318.632653        9609.687075\n",
      "std           246.683539       14479.119045\n",
      "min             0.000000           0.000000\n",
      "25%             2.000000           2.000000\n",
      "50%           512.000000         754.000000\n",
      "75%           513.000000       16518.500000\n",
      "max           513.000000       48398.000000\n",
      "Block 2\n",
      "png graphs saved in ../../graphs/processing_time/stress_test_03_14/s1-leader/\n",
      "html graphs saved in https://harmony-one.github.io/harmony-log-analysis/graphs/processing_time/stress_test_03_14/s1-leader/1_delegation_vs_processing_time.html\n"
     ]
    },
    {
     "data": {
      "image/svg+xml": [
       "<svg class=\"main-svg\" xmlns=\"http://www.w3.org/2000/svg\" xmlns:xlink=\"http://www.w3.org/1999/xlink\" width=\"800\" height=\"500\" viewBox=\"0 0 800 500\"><rect x=\"0\" y=\"0\" width=\"800\" height=\"500\" style=\"fill: rgb(255, 255, 255); fill-opacity: 1;\"/><defs id=\"defs-e854ae\"><g class=\"clips\"><clipPath id=\"clipe854aexyplot\" class=\"plotclip\"><rect width=\"640\" height=\"320\"/></clipPath><clipPath id=\"clipe854aexy2plot\" class=\"plotclip\"><rect width=\"640\" height=\"320\"/></clipPath><clipPath class=\"axesclip\" id=\"clipe854aex\"><rect x=\"80\" y=\"0\" width=\"640\" height=\"500\"/></clipPath><clipPath class=\"axesclip\" id=\"clipe854aey\"><rect x=\"0\" y=\"100\" width=\"800\" height=\"320\"/></clipPath><clipPath class=\"axesclip\" id=\"clipe854aexy\"><rect x=\"80\" y=\"100\" width=\"640\" height=\"320\"/></clipPath><clipPath class=\"axesclip\" id=\"clipe854aey2\"><rect x=\"0\" y=\"100\" width=\"800\" height=\"320\"/></clipPath><clipPath class=\"axesclip\" id=\"clipe854aexy2\"><rect x=\"80\" y=\"100\" width=\"640\" height=\"320\"/></clipPath></g><g class=\"gradients\"/></defs><g class=\"bglayer\"><rect class=\"bg\" x=\"80\" y=\"100\" width=\"640\" height=\"320\" style=\"fill: rgb(229, 236, 246); fill-opacity: 1; stroke-width: 0;\"/></g><g class=\"layer-below\"><g class=\"imagelayer\"/><g class=\"shapelayer\"/></g><g class=\"cartesianlayer\"><g class=\"subplot xy\"><g class=\"layer-subplot\"><g class=\"shapelayer\"/><g class=\"imagelayer\"/></g><g class=\"gridlayer\"><g class=\"x\"><path class=\"xgrid crisp\" transform=\"translate(194.26,0)\" d=\"M0,100v320\" style=\"stroke: rgb(255, 255, 255); stroke-opacity: 1; stroke-width: 1px;\"/><path class=\"xgrid crisp\" transform=\"translate(308.75,0)\" d=\"M0,100v320\" style=\"stroke: rgb(255, 255, 255); stroke-opacity: 1; stroke-width: 1px;\"/><path class=\"xgrid crisp\" transform=\"translate(423.24,0)\" d=\"M0,100v320\" style=\"stroke: rgb(255, 255, 255); stroke-opacity: 1; stroke-width: 1px;\"/><path class=\"xgrid crisp\" transform=\"translate(537.73,0)\" d=\"M0,100v320\" style=\"stroke: rgb(255, 255, 255); stroke-opacity: 1; stroke-width: 1px;\"/><path class=\"xgrid crisp\" transform=\"translate(652.22,0)\" d=\"M0,100v320\" style=\"stroke: rgb(255, 255, 255); stroke-opacity: 1; stroke-width: 1px;\"/></g><g class=\"y\"><path class=\"ygrid crisp\" transform=\"translate(0,346.4)\" d=\"M80,0h640\" style=\"stroke: rgb(255, 255, 255); stroke-opacity: 1; stroke-width: 1px;\"/><path class=\"ygrid crisp\" transform=\"translate(0,288.8)\" d=\"M80,0h640\" style=\"stroke: rgb(255, 255, 255); stroke-opacity: 1; stroke-width: 1px;\"/><path class=\"ygrid crisp\" transform=\"translate(0,231.2)\" d=\"M80,0h640\" style=\"stroke: rgb(255, 255, 255); stroke-opacity: 1; stroke-width: 1px;\"/><path class=\"ygrid crisp\" transform=\"translate(0,173.6)\" d=\"M80,0h640\" style=\"stroke: rgb(255, 255, 255); stroke-opacity: 1; stroke-width: 1px;\"/><path class=\"ygrid crisp\" transform=\"translate(0,116)\" d=\"M80,0h640\" style=\"stroke: rgb(255, 255, 255); stroke-opacity: 1; stroke-width: 1px;\"/></g><g class=\"y2\"><path class=\"y2grid crisp\" transform=\"translate(0,340)\" d=\"M80,0h640\" style=\"stroke: rgb(255, 255, 255); stroke-opacity: 1; stroke-width: 1px;\"/><path class=\"y2grid crisp\" transform=\"translate(0,180)\" d=\"M80,0h640\" style=\"stroke: rgb(255, 255, 255); stroke-opacity: 1; stroke-width: 1px;\"/></g></g><g class=\"zerolinelayer\"><path class=\"yzl zl crisp\" transform=\"translate(0,404)\" d=\"M80,0h640\" style=\"stroke: rgb(255, 255, 255); stroke-opacity: 1; stroke-width: 2px;\"/><path class=\"y2zl zl crisp\" transform=\"translate(0,260)\" d=\"M80,0h640\" style=\"stroke: rgb(255, 255, 255); stroke-opacity: 1; stroke-width: 2px;\"/></g><path class=\"xlines-below\"/><path class=\"ylines-below\"/><g class=\"overlines-below\"><path class=\"xy2-x\"/><path class=\"xy2-y\"/></g><g class=\"xaxislayer-below\"/><g class=\"yaxislayer-below\"/><g class=\"overaxes-below\"><g class=\"xy2-x\"/><g class=\"xy2-y\"/></g><g class=\"plot\" transform=\"translate(80, 100)\" clip-path=\"url('#clipe854aexyplot')\"><g class=\"scatterlayer mlayer\"><g class=\"trace scatter trace2696af\" style=\"stroke-miterlimit: 2; opacity: 1;\"><g class=\"fills\"/><g class=\"errorbars\"/><g class=\"lines\"><path class=\"js-line\" d=\"M0,304L7.33,304L7.56,16L8.47,304L8.7,304L29.54,304L29.77,16L30.68,304L30.91,304L41.45,304L41.67,16L42.59,304L42.82,304L46.71,304L46.94,16L47.86,304L48.09,304L51.98,304L52.21,16L53.12,304L53.35,304L56.56,304L56.79,16L57.7,304L57.93,304L62.51,304L62.74,16L63.66,304L63.89,304L75.11,304L75.33,16L76.25,304L76.48,304L81.75,304L81.97,16L82.89,304L83.12,304L91.59,304L91.82,16L92.74,304L92.97,304L96.86,304L97.09,16L98,304L98.23,304L103.04,304L103.27,16L104.19,304L104.42,304L110.6,304L110.83,16L111.74,304L111.97,304L114.03,304L114.26,16L115.18,304L115.41,304L116.78,304L117.01,16L117.92,304L118.15,304L126.63,304L126.86,16L127.77,304L128,304L136.7,304L136.93,16L137.85,304L138.08,304L143.57,304L143.8,16L144.72,304L144.94,304L145.63,304L145.86,16L146.78,304L147.01,304L161.89,304L162.12,16L163.03,304L163.26,304L164.18,304L164.41,16L165.32,304L165.55,304L180.21,304L180.44,16L181.35,304L181.58,304L183.18,304L183.41,16L184.33,304L184.56,304L190.05,304L190.28,16L191.2,304L191.43,304L200.82,304L201.04,16L201.96,304L202.19,304L213.18,304L213.41,16L214.33,304L214.55,304L224.86,304L225.09,16L226,304L226.23,304L232.87,304L233.1,16L234.02,304L234.25,304L235.85,304L236.08,16L236.99,304L237.22,304L240.43,304L240.66,16L241.57,304L241.8,304L251.42,304L251.65,16L252.57,304L252.79,304L258.06,304L258.29,16L259.21,304L259.43,304L267.22,304L267.45,16L268.36,304L268.59,304L273.63,304L273.86,16L274.78,304L275.01,304L280.5,304L280.73,16L281.65,304L281.87,304L293.09,304L293.32,16L294.24,304L294.47,304L301.34,304L301.57,16L302.48,304L302.71,304L309.12,304L309.35,16L310.27,304L310.5,304L314.85,304L315.08,16L315.99,304L316.22,304L318.74,304L318.97,16L319.89,304L320.11,304L321.03,16L321.26,304L329.96,304L330.19,16L331.11,304L331.33,304L338.43,304L338.66,16L339.58,304L339.81,304L344.39,304L344.62,16L345.53,304L345.76,304L348.28,304L348.51,16L349.42,304L349.65,304L354.23,304L354.46,16L355.38,304L355.61,304L358.81,304L359.04,16L359.96,304L360.19,304L368.2,304L368.43,16L369.35,304L369.57,304L376.44,304L376.67,16L377.59,304L377.82,304L382.17,304L382.4,16L383.31,304L383.54,304L396.59,304L396.82,16L397.74,304L397.97,304L398.65,304L398.88,16L399.8,304L400.03,304L403.23,304L403.46,16L404.38,304L404.61,304L407.13,304L407.36,16L408.27,304L408.5,304L410.33,304L410.56,16L411.48,304L411.71,304L412.39,304L412.62,16L413.54,304L413.77,304L414.68,16L414.91,304L424.99,304L425.22,16L426.13,304L426.36,304L433.69,304L433.92,16L434.83,304L435.06,304L448.8,304L449.03,16L449.95,304L450.18,304L450.4,16L450.86,304L451.09,304L474.22,304L474.45,16L475.36,304L475.59,304L486.13,304L486.35,16L487.27,304L487.5,304L488.19,304L488.42,16L489.33,304L489.56,304L489.79,16L490.25,304L490.48,304L503.3,304L503.53,16L504.44,304L504.67,304L520.93,304L521.16,16L522.08,304L522.3,304L530.09,304L530.32,16L531.23,304L531.46,304L539.94,304L540.16,16L541.08,304L541.31,304L545.66,304L545.89,16L546.81,304L547.03,304L547.26,16L547.72,304L547.95,304L548.41,304L548.64,16L549.55,304L549.78,304L558.03,304L558.25,16L559.17,304L559.4,304L560.77,304L561,16L561.92,304L562.15,304L562.83,304L563.06,16L563.98,304L564.21,304L564.44,16L564.89,304L565.12,304L573.37,304L573.6,16L574.51,304L574.74,304L605.88,304L606.11,16L607.03,304L607.26,304L634.28,304L634.5,16L635.42,304L635.65,304L635.88,16L636.34,304L636.57,304L639.54,304L639.77,16L640,304\" style=\"vector-effect: non-scaling-stroke; fill: none; stroke: rgb(102, 205, 170); stroke-opacity: 1; stroke-width: 2px; opacity: 1;\"/></g><g class=\"points\"/><g class=\"text\"/></g></g></g><g class=\"overplot\"><g class=\"xy2\" transform=\"translate(80, 100)\" clip-path=\"url('#clipe854aexy2plot')\"><g class=\"scatterlayer mlayer\"><g class=\"trace scatter trace36714d\" style=\"stroke-miterlimit: 2; opacity: 1;\"><g class=\"fills\"/><g class=\"errorbars\"/><g class=\"lines\"><path class=\"js-line\" d=\"M51.06,160L634.96,160\" style=\"vector-effect: non-scaling-stroke; fill: none; stroke: rgb(255, 160, 122); stroke-opacity: 1; stroke-width: 2px; opacity: 1;\"/></g><g class=\"points\"/><g class=\"text\"/></g><g class=\"trace scatter trace623de1\" style=\"stroke-miterlimit: 2; opacity: 1;\"><g class=\"fills\"/><g class=\"errorbars\"/><g class=\"lines\"><path class=\"js-line\" d=\"M51.06,160L634.96,160\" style=\"vector-effect: non-scaling-stroke; fill: none; stroke: rgb(0, 174, 233); stroke-opacity: 1; stroke-width: 2px; opacity: 1;\"/></g><g class=\"points\"/><g class=\"text\"/></g></g></g></g><path class=\"xlines-above crisp\" d=\"M0,0\" style=\"fill: none;\"/><path class=\"ylines-above crisp\" d=\"M0,0\" style=\"fill: none;\"/><g class=\"overlines-above\"><path class=\"xy2-x crisp\" d=\"M0,0\" style=\"fill: none;\"/><path class=\"xy2-y crisp\" d=\"M0,0\" style=\"fill: none;\"/></g><g class=\"xaxislayer-above\"><g class=\"xtick\"><text text-anchor=\"middle\" x=\"0\" y=\"433\" transform=\"translate(194.26,0)\" style=\"font-family: 'Open Sans', verdana, arial, sans-serif; font-size: 12px; fill: rgb(42, 63, 95); fill-opacity: 1; white-space: pre;\">500</text></g><g class=\"xtick\"><text text-anchor=\"middle\" x=\"0\" y=\"433\" transform=\"translate(308.75,0)\" style=\"font-family: 'Open Sans', verdana, arial, sans-serif; font-size: 12px; fill: rgb(42, 63, 95); fill-opacity: 1; white-space: pre;\">1000</text></g><g class=\"xtick\"><text text-anchor=\"middle\" x=\"0\" y=\"433\" transform=\"translate(423.24,0)\" style=\"font-family: 'Open Sans', verdana, arial, sans-serif; font-size: 12px; fill: rgb(42, 63, 95); fill-opacity: 1; white-space: pre;\">1500</text></g><g class=\"xtick\"><text text-anchor=\"middle\" x=\"0\" y=\"433\" transform=\"translate(537.73,0)\" style=\"font-family: 'Open Sans', verdana, arial, sans-serif; font-size: 12px; fill: rgb(42, 63, 95); fill-opacity: 1; white-space: pre;\">2000</text></g><g class=\"xtick\"><text text-anchor=\"middle\" x=\"0\" y=\"433\" transform=\"translate(652.22,0)\" style=\"font-family: 'Open Sans', verdana, arial, sans-serif; font-size: 12px; fill: rgb(42, 63, 95); fill-opacity: 1; white-space: pre;\">2500</text></g></g><g class=\"yaxislayer-above\"><g class=\"ytick\"><text text-anchor=\"end\" x=\"79\" y=\"4.199999999999999\" transform=\"translate(0,404)\" style=\"font-family: 'Open Sans', verdana, arial, sans-serif; font-size: 12px; fill: rgb(42, 63, 95); fill-opacity: 1; white-space: pre;\">0</text></g><g class=\"ytick\"><text text-anchor=\"end\" x=\"79\" y=\"4.199999999999999\" transform=\"translate(0,346.4)\" style=\"font-family: 'Open Sans', verdana, arial, sans-serif; font-size: 12px; fill: rgb(42, 63, 95); fill-opacity: 1; white-space: pre;\">0.2</text></g><g class=\"ytick\"><text text-anchor=\"end\" x=\"79\" y=\"4.199999999999999\" transform=\"translate(0,288.8)\" style=\"font-family: 'Open Sans', verdana, arial, sans-serif; font-size: 12px; fill: rgb(42, 63, 95); fill-opacity: 1; white-space: pre;\">0.4</text></g><g class=\"ytick\"><text text-anchor=\"end\" x=\"79\" y=\"4.199999999999999\" transform=\"translate(0,231.2)\" style=\"font-family: 'Open Sans', verdana, arial, sans-serif; font-size: 12px; fill: rgb(42, 63, 95); fill-opacity: 1; white-space: pre;\">0.6</text></g><g class=\"ytick\"><text text-anchor=\"end\" x=\"79\" y=\"4.199999999999999\" transform=\"translate(0,173.6)\" style=\"font-family: 'Open Sans', verdana, arial, sans-serif; font-size: 12px; fill: rgb(42, 63, 95); fill-opacity: 1; white-space: pre;\">0.8</text></g><g class=\"ytick\"><text text-anchor=\"end\" x=\"79\" y=\"4.199999999999999\" transform=\"translate(0,116)\" style=\"font-family: 'Open Sans', verdana, arial, sans-serif; font-size: 12px; fill: rgb(42, 63, 95); fill-opacity: 1; white-space: pre;\">1</text></g></g><g class=\"overaxes-above\"><g class=\"xy2-x\"/><g class=\"xy2-y\"><g class=\"y2tick\"><text text-anchor=\"start\" x=\"721\" y=\"4.199999999999999\" transform=\"translate(0,420)\" style=\"font-family: 'Open Sans', verdana, arial, sans-serif; font-size: 12px; fill: rgb(42, 63, 95); fill-opacity: 1; white-space: pre;\">−1</text></g><g class=\"y2tick\"><text text-anchor=\"start\" x=\"721\" y=\"4.199999999999999\" transform=\"translate(0,340)\" style=\"font-family: 'Open Sans', verdana, arial, sans-serif; font-size: 12px; fill: rgb(42, 63, 95); fill-opacity: 1; white-space: pre;\">−0.5</text></g><g class=\"y2tick\"><text text-anchor=\"start\" x=\"721\" y=\"4.199999999999999\" transform=\"translate(0,260)\" style=\"font-family: 'Open Sans', verdana, arial, sans-serif; font-size: 12px; fill: rgb(42, 63, 95); fill-opacity: 1; white-space: pre;\">0</text></g><g class=\"y2tick\"><text text-anchor=\"start\" x=\"721\" y=\"4.199999999999999\" transform=\"translate(0,180)\" style=\"font-family: 'Open Sans', verdana, arial, sans-serif; font-size: 12px; fill: rgb(42, 63, 95); fill-opacity: 1; white-space: pre;\">0.5</text></g><g class=\"y2tick\"><text text-anchor=\"start\" x=\"721\" y=\"4.199999999999999\" transform=\"translate(0,100)\" style=\"font-family: 'Open Sans', verdana, arial, sans-serif; font-size: 12px; fill: rgb(42, 63, 95); fill-opacity: 1; white-space: pre;\">1</text></g></g></g></g><g class=\"subplot xy2\"/></g><g class=\"polarlayer\"/><g class=\"ternarylayer\"/><g class=\"geolayer\"/><g class=\"funnelarealayer\"/><g class=\"pielayer\"/><g class=\"treemaplayer\"/><g class=\"sunburstlayer\"/><g class=\"glimages\"/><defs id=\"topdefs-e854ae\"><g class=\"clips\"/><clipPath id=\"legende854ae\"><rect width=\"486\" height=\"29\" x=\"0\" y=\"0\"/></clipPath></defs><g class=\"layer-above\"><g class=\"imagelayer\"/><g class=\"shapelayer\"/></g><g class=\"infolayer\"><g class=\"legend\" pointer-events=\"all\" transform=\"translate(80, 452)\"><rect class=\"bg\" shape-rendering=\"crispEdges\" width=\"486\" height=\"29\" x=\"0\" y=\"0\" style=\"stroke: rgb(68, 68, 68); stroke-opacity: 1; fill: rgb(255, 255, 255); fill-opacity: 1; stroke-width: 0px;\"/><g class=\"scrollbox\" transform=\"translate(0, 0)\" clip-path=\"url('#legende854ae')\"><g class=\"groups\"><g class=\"traces\" transform=\"translate(0, 14.5)\" style=\"opacity: 1;\"><text class=\"legendtext user-select-none\" text-anchor=\"start\" x=\"40\" y=\"4.680000000000001\" style=\"font-family: 'Open Sans', verdana, arial, sans-serif; font-size: 12px; fill: rgb(42, 63, 95); fill-opacity: 1; white-space: pre;\">processing time</text><g class=\"layers\" style=\"opacity: 1;\"><g class=\"legendfill\"/><g class=\"legendlines\"><path class=\"js-line\" d=\"M5,0h30\" style=\"fill: none; stroke: rgb(102, 205, 170); stroke-opacity: 1; stroke-width: 2px;\"/></g><g class=\"legendsymbols\"><g class=\"legendpoints\"/></g></g><rect class=\"legendtoggle\" pointer-events=\"all\" x=\"0\" y=\"-9.5\" width=\"137.703125\" height=\"19\" style=\"cursor: pointer; fill: rgb(0, 0, 0); fill-opacity: 0;\"/></g><g class=\"traces\" transform=\"translate(140.203125, 14.5)\" style=\"opacity: 1;\"><text class=\"legendtext user-select-none\" text-anchor=\"start\" x=\"40\" y=\"4.680000000000001\" style=\"font-family: 'Open Sans', verdana, arial, sans-serif; font-size: 12px; fill: rgb(42, 63, 95); fill-opacity: 1; white-space: pre;\">number of validators</text><g class=\"layers\" style=\"opacity: 1;\"><g class=\"legendfill\"/><g class=\"legendlines\"><path class=\"js-line\" d=\"M5,0h30\" style=\"fill: none; stroke: rgb(255, 160, 122); stroke-opacity: 1; stroke-width: 2px;\"/></g><g class=\"legendsymbols\"><g class=\"legendpoints\"/></g></g><rect class=\"legendtoggle\" pointer-events=\"all\" x=\"0\" y=\"-9.5\" width=\"168\" height=\"19\" style=\"cursor: pointer; fill: rgb(0, 0, 0); fill-opacity: 0;\"/></g><g class=\"traces\" transform=\"translate(310.703125, 14.5)\" style=\"opacity: 1;\"><text class=\"legendtext user-select-none\" text-anchor=\"start\" x=\"40\" y=\"4.680000000000001\" style=\"font-family: 'Open Sans', verdana, arial, sans-serif; font-size: 12px; fill: rgb(42, 63, 95); fill-opacity: 1; white-space: pre;\">number of delegators</text><g class=\"layers\" style=\"opacity: 1;\"><g class=\"legendfill\"/><g class=\"legendlines\"><path class=\"js-line\" d=\"M5,0h30\" style=\"fill: none; stroke: rgb(0, 174, 233); stroke-opacity: 1; stroke-width: 2px;\"/></g><g class=\"legendsymbols\"><g class=\"legendpoints\"/></g></g><rect class=\"legendtoggle\" pointer-events=\"all\" x=\"0\" y=\"-9.5\" width=\"172.171875\" height=\"19\" style=\"cursor: pointer; fill: rgb(0, 0, 0); fill-opacity: 0;\"/></g></g></g><rect class=\"scrollbar\" rx=\"20\" ry=\"3\" width=\"0\" height=\"0\" x=\"0\" y=\"0\" style=\"fill: rgb(128, 139, 164); fill-opacity: 1;\"/></g><g class=\"g-gtitle\"><text class=\"gtitle\" x=\"40\" y=\"50\" text-anchor=\"start\" dy=\"0em\" style=\"font-family: 'Open Sans', verdana, arial, sans-serif; font-size: 17px; fill: rgb(42, 63, 95); opacity: 1; font-weight: normal; white-space: pre;\">Delegation Information vs Processing Time</text></g><g class=\"g-xtitle\"/><g class=\"g-ytitle\"><text class=\"ytitle\" transform=\"rotate(-90,34.575,260)\" x=\"34.575\" y=\"260\" text-anchor=\"middle\" style=\"font-family: 'Open Sans', verdana, arial, sans-serif; font-size: 14px; fill: rgb(42, 63, 95); opacity: 1; font-weight: normal; white-space: pre;\">Processing Time</text></g><g class=\"g-y2title\"><text class=\"y2title\" transform=\"rotate(-90,775.2375,260)\" x=\"775.2375\" y=\"260\" text-anchor=\"middle\" style=\"font-family: 'Open Sans', verdana, arial, sans-serif; font-size: 14px; fill: rgb(42, 63, 95); opacity: 1; font-weight: normal; white-space: pre;\">Delegation Information</text></g></g></svg>"
      ]
     },
     "metadata": {},
     "output_type": "display_data"
    },
    {
     "name": "stdout",
     "output_type": "stream",
     "text": [
      "Statistics summary for block 2\n",
      "==================================\n",
      "       validators-number  delegators-number\n",
      "count               35.0               35.0\n",
      "mean                 0.0                0.0\n",
      "std                  0.0                0.0\n",
      "min                  0.0                0.0\n",
      "25%                  0.0                0.0\n",
      "50%                  0.0                0.0\n",
      "75%                  0.0                0.0\n",
      "max                  0.0                0.0\n"
     ]
    }
   ],
   "source": [
    "for idx in range(len(index)-1):\n",
    "    \n",
    "    print(\"Block \"+str(idx+1))\n",
    "    new = df.loc[index[idx]:index[idx+1]-1]\n",
    "    new = new.drop_duplicates(subset = ['blockNum', 'message'], keep = \"last\")\n",
    "    new['time_diff'] = new.groupby(['blockNum'])['time'].apply(lambda c: c.diff().dt.seconds)\n",
    "    new.dropna(inplace = True)\n",
    "    new.reset_index(inplace = True, drop = True) \n",
    "    \n",
    "    new_del = df_delegation.loc[index_del[idx]:index_del[idx+1]-1]\n",
    "    new_del = new_del.drop_duplicates(subset = ['block-number', 'epoch'], keep = \"last\")\n",
    "    new_del.reset_index(inplace = True, drop = True)\n",
    "   \n",
    "    draw_graph(new, new_del, idx)\n",
    "    \n",
    "    print(\"Statistics summary for block \" + str(idx+1))\n",
    "    print(\"==================================\")\n",
    "    print(new_del[['validators-number','delegators-number']].describe())"
   ]
  }
 ],
 "metadata": {
  "kernelspec": {
   "display_name": "Python 3",
   "language": "python",
   "name": "python3"
  },
  "language_info": {
   "codemirror_mode": {
    "name": "ipython",
    "version": 3
   },
   "file_extension": ".py",
   "mimetype": "text/x-python",
   "name": "python",
   "nbconvert_exporter": "python",
   "pygments_lexer": "ipython3",
   "version": "3.7.6"
  }
 },
 "nbformat": 4,
 "nbformat_minor": 2
}
