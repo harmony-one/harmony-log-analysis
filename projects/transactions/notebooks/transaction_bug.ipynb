{
 "cells": [
  {
   "cell_type": "code",
   "execution_count": 1,
   "metadata": {},
   "outputs": [],
   "source": [
    "import json\n",
    "import requests\n",
    "import logging\n",
    "from datetime import datetime\n",
    "from collections import defaultdict\n",
    "from threading import Thread"
   ]
  },
  {
   "cell_type": "code",
   "execution_count": 2,
   "metadata": {},
   "outputs": [],
   "source": [
    "def get_information(url, method, params) -> dict:\n",
    "    headers = {'Content-Type': 'application/json'}\n",
    "    data = {\"jsonrpc\":\"2.0\", \"method\": method, \"params\": params, \"id\":1}\n",
    "    r = requests.post(url, headers=headers, data = json.dumps(data))\n",
    "    if r.status_code != 200:\n",
    "        print(\"Error: Return status code %s\" % r.status_code)\n",
    "        return None\n",
    "    # Check for valid JSON format return\n",
    "    try:\n",
    "        r.json()\n",
    "    except ValueError:\n",
    "        print(\"Error: Unable to read JSON reply\")\n",
    "        return None\n",
    "\n",
    "    return r.json()"
   ]
  },
  {
   "cell_type": "code",
   "execution_count": 3,
   "metadata": {},
   "outputs": [],
   "source": [
    "def getLatestHeader(shard) -> dict:\n",
    "    url = endpoint[shard]\n",
    "    method = 'hmy_latestHeader'\n",
    "    params = []\n",
    "    return get_information(url, method, params)"
   ]
  },
  {
   "cell_type": "code",
   "execution_count": 4,
   "metadata": {},
   "outputs": [],
   "source": [
    "def getBalance(shard, address):\n",
    "    url = endpoint[shard]\n",
    "    method = \"hmy_getBalance\"\n",
    "    params = [address, \"latest\"]\n",
    "    return get_information(url, method, params)\n",
    "    "
   ]
  },
  {
   "cell_type": "code",
   "execution_count": 5,
   "metadata": {},
   "outputs": [],
   "source": [
    "def getStakingTransactionCount(shard, address):\n",
    "    url = endpoint[shard]\n",
    "    method = 'hmy_getStakingTransactionsCount'\n",
    "    params = [address, 'ALL']\n",
    "    return get_information(url, method, params)"
   ]
  },
  {
   "cell_type": "code",
   "execution_count": 6,
   "metadata": {},
   "outputs": [],
   "source": [
    "def getBlockTransactionCountByNumber(shard, number) -> int:\n",
    "    url = endpoint[shard]\n",
    "    method = \"hmyv2_getBlockTransactionCountByNumber\"\n",
    "    params = [number]\n",
    "    return get_information(url, method, params)\n"
   ]
  },
  {
   "cell_type": "code",
   "execution_count": 7,
   "metadata": {},
   "outputs": [],
   "source": [
    "def getBlockByNumber(shard, number) -> dict:\n",
    "    url = endpoint[shard]\n",
    "    method = 'hmyv2_getBlockByNumber'\n",
    "    params = [number, {\"fullTx\":True,\"inclTx\": True,\"withSigners\":False,\"InclStaking\":False}]\n",
    "    return get_information(url, method, params)"
   ]
  },
  {
   "cell_type": "code",
   "execution_count": 8,
   "metadata": {},
   "outputs": [],
   "source": [
    "# mainnet\n",
    "# endpoint = ['http://54.184.18.215:9500', 'http://34.246.32.62:9500', 'http://52.200.94.53:9500','http://18.178.10.83:9500']\n",
    "# ostn\n",
    "endpoint = ['https://api.s0.os.hmny.io/', 'https://api.s1.os.hmny.io/', 'https://api.s2.os.hmny.io/', 'https://api.s3.os.hmny.io/']"
   ]
  },
  {
   "cell_type": "code",
   "execution_count": 9,
   "metadata": {},
   "outputs": [],
   "source": [
    "def getTransactionsCount(shard, address) -> int:\n",
    "    url = endpoint[shard]\n",
    "    method = 'hmy_getTransactionsCount'\n",
    "    params = [address, 'ALL']\n",
    "    return get_information(url, method, params)"
   ]
  },
  {
   "cell_type": "code",
   "execution_count": 10,
   "metadata": {},
   "outputs": [],
   "source": [
    "def getTransactionCount(shard, address) -> int:\n",
    "    url = endpoint[shard]\n",
    "    method = 'hmy_getTransactionCount'\n",
    "    params = [address, 'latest']\n",
    "    return get_information(url, method, params)"
   ]
  },
  {
   "cell_type": "code",
   "execution_count": 11,
   "metadata": {},
   "outputs": [],
   "source": [
    "def getNormalTransaction(shard, address):\n",
    "    url = endpoint[shard]\n",
    "    method = \"hmy_getTransactionsHistory\"\n",
    "    params = [{\n",
    "        \"address\": address,\n",
    "        \"fullTx\": True,\n",
    "        \"pageIndex\": 0,\n",
    "        \"pageSize\": 100000,\n",
    "        \"txType\": \"ALL\",\n",
    "        \"order\": \"ASC\"\n",
    "    }]\n",
    "    return get_information(url, method, params)"
   ]
  },
  {
   "cell_type": "code",
   "execution_count": 12,
   "metadata": {},
   "outputs": [
    {
     "data": {
      "text/plain": [
       "29"
      ]
     },
     "execution_count": 12,
     "metadata": {},
     "output_type": "execute_result"
    }
   ],
   "source": [
    "i = 'one19day69t6zzqrk3yr5086v9892c9ajvkw84fegv'\n",
    "int(getTransactionCount(0, i)['result'],16)"
   ]
  },
  {
   "cell_type": "code",
   "execution_count": 13,
   "metadata": {},
   "outputs": [
    {
     "data": {
      "text/plain": [
       "1"
      ]
     },
     "execution_count": 13,
     "metadata": {},
     "output_type": "execute_result"
    }
   ],
   "source": [
    "getTransactionsCount(0, i)['result']"
   ]
  },
  {
   "cell_type": "code",
   "execution_count": 14,
   "metadata": {},
   "outputs": [
    {
     "data": {
      "text/plain": [
       "{'transactions': [{'blockHash': '0x22a53f3e71305007516ac4c73d3008153d8ef0eec9ecf7f604dbdd63a16baf2c',\n",
       "   'blockNumber': '0x3bba',\n",
       "   'from': 'one16xh2u9r4677egx4x3s0u966ave90l37hh7wq72',\n",
       "   'timestamp': '0x5eabb73e',\n",
       "   'gas': '0x5208',\n",
       "   'gasPrice': '0x3b9aca00',\n",
       "   'hash': '0x12782e64f59dea6003ba7ae17ffbea38744a439ab1354d274deb1659e5f66cd1',\n",
       "   'input': '0x',\n",
       "   'nonce': '0x44',\n",
       "   'to': 'one19day69t6zzqrk3yr5086v9892c9ajvkw84fegv',\n",
       "   'transactionIndex': '0x0',\n",
       "   'value': '0x1144a26bdfde983740000',\n",
       "   'shardID': 0,\n",
       "   'toShardID': 0,\n",
       "   'v': '0x29',\n",
       "   'r': '0x86426221541ad8ee823bcca78b402a696cd96e89e454163f265b5ea566904f28',\n",
       "   's': '0x4eed11570bdda7cec813569b5672013687b76a0437d1411433f4461e14275773'}]}"
      ]
     },
     "execution_count": 14,
     "metadata": {},
     "output_type": "execute_result"
    }
   ],
   "source": [
    "getNormalTransaction(0, i)['result']"
   ]
  }
 ],
 "metadata": {
  "kernelspec": {
   "display_name": "Python 3",
   "language": "python",
   "name": "python3"
  },
  "language_info": {
   "codemirror_mode": {
    "name": "ipython",
    "version": 3
   },
   "file_extension": ".py",
   "mimetype": "text/x-python",
   "name": "python",
   "nbconvert_exporter": "python",
   "pygments_lexer": "ipython3",
   "version": "3.7.6"
  }
 },
 "nbformat": 4,
 "nbformat_minor": 4
}
