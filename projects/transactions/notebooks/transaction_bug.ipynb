{
 "cells": [
  {
   "cell_type": "code",
   "execution_count": 1,
   "metadata": {},
   "outputs": [],
   "source": [
    "import json\n",
    "import requests\n",
    "import logging\n",
    "from datetime import datetime\n",
    "from collections import defaultdict\n",
    "from threading import Thread"
   ]
  },
  {
   "cell_type": "code",
   "execution_count": 2,
   "metadata": {},
   "outputs": [],
   "source": [
    "def get_information(url, method, params) -> dict:\n",
    "    headers = {'Content-Type': 'application/json'}\n",
    "    data = {\"jsonrpc\":\"2.0\", \"method\": method, \"params\": params, \"id\":1}\n",
    "    r = requests.post(url, headers=headers, data = json.dumps(data))\n",
    "    if r.status_code != 200:\n",
    "        print(\"Error: Return status code %s\" % r.status_code)\n",
    "        return None\n",
    "    # Check for valid JSON format return\n",
    "    try:\n",
    "        r.json()\n",
    "    except ValueError:\n",
    "        print(\"Error: Unable to read JSON reply\")\n",
    "        return None\n",
    "\n",
    "    return r.json()"
   ]
  },
  {
   "cell_type": "code",
   "execution_count": 3,
   "metadata": {},
   "outputs": [],
   "source": [
    "def getLatestHeader(shard) -> dict:\n",
    "    url = endpoint[shard]\n",
    "    method = 'hmy_latestHeader'\n",
    "    params = []\n",
    "    return get_information(url, method, params)"
   ]
  },
  {
   "cell_type": "code",
   "execution_count": 4,
   "metadata": {},
   "outputs": [],
   "source": [
    "def getBalance(shard, address):\n",
    "    url = endpoint[shard]\n",
    "    method = \"hmy_getBalance\"\n",
    "    params = [address, \"latest\"]\n",
    "    return get_information(url, method, params)\n",
    "    "
   ]
  },
  {
   "cell_type": "code",
   "execution_count": 5,
   "metadata": {},
   "outputs": [],
   "source": [
    "def getStakingTransactionCount(shard, address):\n",
    "    url = endpoint[shard]\n",
    "    method = 'hmy_getStakingTransactionsCount'\n",
    "    params = [address, 'ALL']\n",
    "    return get_information(url, method, params)"
   ]
  },
  {
   "cell_type": "code",
   "execution_count": 6,
   "metadata": {},
   "outputs": [],
   "source": [
    "def getBlockTransactionCountByNumber(shard, number) -> int:\n",
    "    url = endpoint[shard]\n",
    "    method = \"hmyv2_getBlockTransactionCountByNumber\"\n",
    "    params = [number]\n",
    "    return get_information(url, method, params)\n"
   ]
  },
  {
   "cell_type": "code",
   "execution_count": 7,
   "metadata": {},
   "outputs": [],
   "source": [
    "def getBlockByNumber(shard, number) -> dict:\n",
    "    url = endpoint[shard]\n",
    "    method = 'hmyv2_getBlockByNumber'\n",
    "    params = [number, {\"fullTx\":True,\"inclTx\": True,\"withSigners\":False,\"InclStaking\":False}]\n",
    "    return get_information(url, method, params)"
   ]
  },
  {
   "cell_type": "code",
   "execution_count": 10,
   "metadata": {},
   "outputs": [],
   "source": [
    "\n",
    "endpoint = ['https://api.s0.t.hmny.io/', 'https://api.s1.t.hmny.io/', 'https://api.s2.t.hmny.io/', 'https://api.s3.os.hmny.io/']"
   ]
  },
  {
   "cell_type": "code",
   "execution_count": 11,
   "metadata": {},
   "outputs": [],
   "source": [
    "def getTransactionsCount(shard, address):\n",
    "    url = endpoint[shard]\n",
    "    method = 'hmy_getTransactionsCount'\n",
    "    params = [address, 'ALL']\n",
    "    return get_information(url, method, params)"
   ]
  },
  {
   "cell_type": "code",
   "execution_count": 12,
   "metadata": {},
   "outputs": [],
   "source": [
    "def getTransactionCount(shard, address) :\n",
    "    url = endpoint[shard]\n",
    "    method = 'hmy_getTransactionCount'\n",
    "    params = [address, 'latest']\n",
    "    return get_information(url, method, params)"
   ]
  },
  {
   "cell_type": "code",
   "execution_count": 32,
   "metadata": {},
   "outputs": [],
   "source": [
    "def getStakingTransactionCount(shard, address):\n",
    "    url = endpoint[shard]\n",
    "    method = 'hmy_getStakingTransactionsCount'\n",
    "    params = [address, 'ALL']\n",
    "    return get_information(url, method, params)"
   ]
  },
  {
   "cell_type": "code",
   "execution_count": 23,
   "metadata": {},
   "outputs": [
    {
     "data": {
      "text/plain": [
       "41"
      ]
     },
     "execution_count": 23,
     "metadata": {},
     "output_type": "execute_result"
    }
   ],
   "source": [
    "i = 'one1uzv8ar0tvm36580x922hhv9cxdsa7zpxgwku6e'\n",
    "int(getTransactionCount(0, i)['result'],16)"
   ]
  },
  {
   "cell_type": "code",
   "execution_count": 34,
   "metadata": {},
   "outputs": [
    {
     "data": {
      "text/plain": [
       "17"
      ]
     },
     "execution_count": 34,
     "metadata": {},
     "output_type": "execute_result"
    }
   ],
   "source": [
    "getStakingTransactionCount(0, i)['result']"
   ]
  },
  {
   "cell_type": "code",
   "execution_count": 24,
   "metadata": {},
   "outputs": [
    {
     "data": {
      "text/plain": [
       "29"
      ]
     },
     "execution_count": 24,
     "metadata": {},
     "output_type": "execute_result"
    }
   ],
   "source": [
    "getTransactionsCount(0, i)['result']"
   ]
  },
  {
   "cell_type": "code",
   "execution_count": 27,
   "metadata": {},
   "outputs": [
    {
     "data": {
      "text/plain": [
       "0"
      ]
     },
     "execution_count": 27,
     "metadata": {},
     "output_type": "execute_result"
    }
   ],
   "source": [
    "getTransactionsCount(2, i)['result']"
   ]
  },
  {
   "cell_type": "code",
   "execution_count": 13,
   "metadata": {},
   "outputs": [],
   "source": [
    "def getNormalTransaction(shard, address):\n",
    "    url = endpoint[shard]\n",
    "    method = \"hmy_getTransactionsHistory\"\n",
    "    params = [{\n",
    "        \"address\": address,\n",
    "        \"fullTx\": True,\n",
    "        \"pageIndex\": 0,\n",
    "        \"pageSize\": 100000,\n",
    "        \"txType\": \"ALL\",\n",
    "        \"order\": \"ASC\"\n",
    "    }]\n",
    "    return get_information(url, method, params)"
   ]
  },
  {
   "cell_type": "code",
   "execution_count": 16,
   "metadata": {},
   "outputs": [
    {
     "data": {
      "text/plain": [
       "{'transactions': [{'blockHash': '0x14120dcfad7a0facf907381ad494496ddf3aa66498cafb78a2f6b00aef4722e9',\n",
       "   'blockNumber': '0x335107',\n",
       "   'from': 'one1wx6p8kjucu5llqz79h9pmn0qf55772m2d2xt26',\n",
       "   'timestamp': '0x5ebe708e',\n",
       "   'gas': '0x5208',\n",
       "   'gasPrice': '0x3b9aca00',\n",
       "   'hash': '0x6ad6bf58cc02dca1bfe8342e811aa0738467de059fd87ca0b32a39e643abf647',\n",
       "   'input': '0x',\n",
       "   'nonce': '0x995',\n",
       "   'to': 'one19day69t6zzqrk3yr5086v9892c9ajvkw84fegv',\n",
       "   'transactionIndex': '0x0',\n",
       "   'value': '0xfb39ef5864a61bac00',\n",
       "   'shardID': 0,\n",
       "   'toShardID': 0,\n",
       "   'v': '0x25',\n",
       "   'r': '0x1c3258a6df50656f45e961b4aca3f77d84b8bce4480e27bd563e23e02578eada',\n",
       "   's': '0x702f2dbdd9add0a44be883e5256407e28cb764aa8edae8e370aef2648d0cb1e8'},\n",
       "  {'blockHash': '0xe12de395a293fed331d84b8e37fd78b40aea202795fe6110602f0a1ed0ad8bc7',\n",
       "   'blockNumber': '0x3351a3',\n",
       "   'from': 'one1wx6p8kjucu5llqz79h9pmn0qf55772m2d2xt26',\n",
       "   'timestamp': '0x5ebe75ea',\n",
       "   'gas': '0x5208',\n",
       "   'gasPrice': '0x3b9aca00',\n",
       "   'hash': '0x26c7111ad50b056169315ef2082251148f94358f3a3ec613156a339826a47a5a',\n",
       "   'input': '0x',\n",
       "   'nonce': '0x99a',\n",
       "   'to': 'one19day69t6zzqrk3yr5086v9892c9ajvkw84fegv',\n",
       "   'transactionIndex': '0x0',\n",
       "   'value': '0xe37477684313c1f000',\n",
       "   'shardID': 0,\n",
       "   'toShardID': 0,\n",
       "   'v': '0x26',\n",
       "   'r': '0x2da13cc8571bb82f5854b96118f64542f2fb3561b1063edc26d4582e47c3401e',\n",
       "   's': '0x34b37f31798d5672b8caefe170431152ea54205b57a04d9f508c73cc00e93c01'},\n",
       "  {'blockHash': '0x51ab516a7e85a78322153e23aaa21bbf0739e2ad8065345073c07795ed454203',\n",
       "   'blockNumber': '0x37a318',\n",
       "   'from': 'one1wx6p8kjucu5llqz79h9pmn0qf55772m2d2xt26',\n",
       "   'timestamp': '0x5ee69159',\n",
       "   'gas': '0x5208',\n",
       "   'gasPrice': '0x3b9aca00',\n",
       "   'hash': '0x421c0ffa0cebea82dc32ea15273611092a1c8da4b619ea9ece5715fe9a31c1b4',\n",
       "   'input': '0x',\n",
       "   'nonce': '0x15b3',\n",
       "   'to': 'one19day69t6zzqrk3yr5086v9892c9ajvkw84fegv',\n",
       "   'transactionIndex': '0x0',\n",
       "   'value': '0x32c9f25549a4be8e800',\n",
       "   'shardID': 0,\n",
       "   'toShardID': 0,\n",
       "   'v': '0x26',\n",
       "   'r': '0x2da69d8b36f0961defb9400f45577bf122d55c887bfec568bbfc7cebb2f161cb',\n",
       "   's': '0x3b9182fbcab1aa077df49e1d1cb3729b2caf640456884c2e3954f4fed2f6b8cd'}]}"
      ]
     },
     "execution_count": 16,
     "metadata": {},
     "output_type": "execute_result"
    }
   ],
   "source": [
    "getNormalTransaction(0, i)['result']"
   ]
  },
  {
   "cell_type": "code",
   "execution_count": null,
   "metadata": {},
   "outputs": [],
   "source": []
  }
 ],
 "metadata": {
  "kernelspec": {
   "display_name": "Python 3",
   "language": "python",
   "name": "python3"
  },
  "language_info": {
   "codemirror_mode": {
    "name": "ipython",
    "version": 3
   },
   "file_extension": ".py",
   "mimetype": "text/x-python",
   "name": "python",
   "nbconvert_exporter": "python",
   "pygments_lexer": "ipython3",
   "version": "3.7.6"
  }
 },
 "nbformat": 4,
 "nbformat_minor": 4
}
