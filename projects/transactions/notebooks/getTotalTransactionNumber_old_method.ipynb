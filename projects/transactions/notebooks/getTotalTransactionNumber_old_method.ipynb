{
 "cells": [
  {
   "cell_type": "code",
   "execution_count": null,
   "metadata": {},
   "outputs": [],
   "source": [
    "import json\n",
    "import requests\n",
    "import logging\n",
    "from datetime import datetime\n",
    "from collections import defaultdict\n",
    "from threading import Thread\n",
    "\n",
    "logging.basicConfig(level=logging.INFO)\n",
    "logger = logging.getLogger(\"transaction\")\n",
    "logger.setLevel(logging.INFO)\n",
    "filename = \"./logs/transaction_{}.log\".format(datetime.utcnow().strftime('%Y_%m_%d_%H:%M:%S'))\n",
    "file_handler = logging.FileHandler(filename)\n",
    "file_handler.setLevel(logging.INFO)\n",
    "console_handler = logging.StreamHandler()\n",
    "console_handler.setLevel(logging.INFO)\n",
    "logger.addHandler(file_handler)\n",
    "logger.addHandler(console_handler)"
   ]
  },
  {
   "cell_type": "code",
   "execution_count": null,
   "metadata": {},
   "outputs": [],
   "source": [
    "def get_information(url, method, params) -> dict:\n",
    "    headers = {'Content-Type': 'application/json'}\n",
    "    data = {\"jsonrpc\":\"2.0\", \"method\": method, \"params\": params, \"id\":1}\n",
    "    try:\n",
    "        r = requests.post(url, headers=headers, data = json.dumps(data))\n",
    "    except:\n",
    "        print(\"Error: request meets error\")\n",
    "        return None\n",
    "    if r.status_code != 200:\n",
    "        print(\"Error: Return status code %s\" % r.status_code)\n",
    "        return None\n",
    "    try:\n",
    "        content = json.loads(r.content)\n",
    "    except ValueError:\n",
    "        print(\"Error: Unable to read JSON reply\")\n",
    "        return None\n",
    "    if \"result\" in content:\n",
    "        return content['result']\n",
    "    else:\n",
    "        print(\"Error: The method does not exist/is not available\")\n",
    "        return None"
   ]
  },
  {
   "cell_type": "code",
   "execution_count": null,
   "metadata": {},
   "outputs": [],
   "source": [
    "def getLatestHeader(shard) -> dict:\n",
    "    url = endpoint[shard]\n",
    "    method = 'hmy_latestHeader'\n",
    "    params = []\n",
    "    return get_information(url, method, params)"
   ]
  },
  {
   "cell_type": "code",
   "execution_count": null,
   "metadata": {},
   "outputs": [],
   "source": [
    "def getBlockTransactionCountByNumber(shard, number) -> int:\n",
    "    url = endpoint[shard]\n",
    "    method = \"hmy_getBlockTransactionCountByNumber\"\n",
    "    params = [hex(number)]\n",
    "    num = get_information(url, method, params)\n",
    "    if num != None:\n",
    "        return int(num,16)\n",
    "    else:\n",
    "        print(f\"Error: can't get the transaction number for block: {number}, shard: {shard}\")\n",
    "        print(num)\n",
    "        return None"
   ]
  },
  {
   "cell_type": "code",
   "execution_count": null,
   "metadata": {},
   "outputs": [],
   "source": [
    "def getBlockByNumber(shard, number) -> dict:\n",
    "    url = endpoint[shard]\n",
    "    method = 'hmyv2_getBlockByNumber'\n",
    "    params = [number, {\"fullTx\":True,\"inclTx\":True,\"InclStaking\":True}]\n",
    "    res = get_information(url, method, params)\n",
    "    if res != None:\n",
    "        return res\n",
    "    else:\n",
    "        print(f\"Error: can't get block info for block: {number}, shard: {shard}\")\n",
    "        print(res)\n",
    "        return None"
   ]
  },
  {
   "cell_type": "code",
   "execution_count": null,
   "metadata": {},
   "outputs": [],
   "source": [
    "endpoint = ['https://api.s0.t.hmny.io/', 'https://api.s1.t.hmny.io/', 'https://api.s2.t.hmny.io/', 'https://api.s3.t.hmny.io/']"
   ]
  },
  {
   "cell_type": "code",
   "execution_count": null,
   "metadata": {},
   "outputs": [],
   "source": [
    "shard = {0:[3219002, getLatestHeader(0)['blockNumber']], 1: [787002,getLatestHeader(1)['blockNumber']], 2: [579001, getLatestHeader(2)['blockNumber']], 3:[3158002, getLatestHeader(3)['blockNumber']]}\n",
    "thread_dict = defaultdict(dict)\n",
    "for k,v in shard.items():\n",
    "    prev, curr = v\n",
    "    thread_lst = defaultdict(list)\n",
    "    for i in range(prev, curr):\n",
    "        thread_lst[i%1000].append(i)\n",
    "    thread_dict[k] = thread_lst"
   ]
  },
  {
   "cell_type": "code",
   "execution_count": null,
   "metadata": {
    "scrolled": true
   },
   "outputs": [],
   "source": [
    "if __name__ == \"__main__\":\n",
    "    total = 8\n",
    "    def collect_data(s):\n",
    "        global total\n",
    "        for i in thread_dict[2][s]:\n",
    "            count = getBlockTransactionCountByNumber(2, i)\n",
    "            if count == None:\n",
    "                # retry the request once\n",
    "                print(\"retry getBlockTransactionCountByNumber\")\n",
    "                count = getBlockTransactionCountByNumber(2, i)\n",
    "            if count != None:\n",
    "                total += count\n",
    "                res = getBlockByNumber(2, i)\n",
    "                if res == None:\n",
    "                    # retry the request once\n",
    "                    res = getBlockByNumber(2, i)\n",
    "                    print(\"retry getBlockTByNumber\")\n",
    "                if res != None:\n",
    "                    time = datetime.fromtimestamp(res['timestamp']).strftime('%Y_%m_%d %H:%M:%S')\n",
    "                    t = {\n",
    "                        \"timestamp\": time,\n",
    "                        \"shard\": 2,\n",
    "                         \"block\": i,\n",
    "                        \"shard-transactions\": total,\n",
    "                        }\n",
    "                    if s == 1:\n",
    "                        logger.info(json.dumps(t))\n",
    "        logger.info(json.dumps(t))\n",
    "\n",
    "    threads = []\n",
    "#     for shard in range(len(endpoint)):\n",
    "    for x in range(1000):\n",
    "        threads.append(Thread(target = collect_data, args = [x]))\n",
    "    for t in threads:\n",
    "        t.start()\n",
    "    for t in threads:\n",
    "        t.join()"
   ]
  },
  {
   "cell_type": "code",
   "execution_count": null,
   "metadata": {},
   "outputs": [],
   "source": []
  }
 ],
 "metadata": {
  "kernelspec": {
   "display_name": "Python 3",
   "language": "python",
   "name": "python3"
  },
  "language_info": {
   "codemirror_mode": {
    "name": "ipython",
    "version": 3
   },
   "file_extension": ".py",
   "mimetype": "text/x-python",
   "name": "python",
   "nbconvert_exporter": "python",
   "pygments_lexer": "ipython3",
   "version": "3.7.6"
  }
 },
 "nbformat": 4,
 "nbformat_minor": 4
}
