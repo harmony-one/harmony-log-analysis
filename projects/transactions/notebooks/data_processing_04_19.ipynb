{
 "cells": [
  {
   "cell_type": "code",
   "execution_count": null,
   "metadata": {},
   "outputs": [],
   "source": [
    "import json\n",
    "import requests\n",
    "from datetime import datetime\n",
    "import pandas as pd\n",
    "\n",
    "def get_information(method, params):\n",
    "    url = 'https://api.s0.os.hmny.io/'\n",
    "    headers = {'Content-Type': 'application/json'}\n",
    "    data = {\"jsonrpc\":\"2.0\", \"method\": method, \"params\": params, \"id\":1}\n",
    "    r = requests.post(url, headers=headers, data = json.dumps(data))\n",
    "    content = json.loads(r.content)\n",
    "    return content['result']\n",
    "\n",
    "def getBlockByNumber(number):\n",
    "    method = 'hmyv2_getBlockByNumber'\n",
    "    params = [number, {\"fullTx\":True,\"inclTx\":True,\"InclStaking\":True}]\n",
    "    return get_information(method, params)\n",
    "\n",
    "if __name__ == \"__main__\":\n",
    "    transactions = []\n",
    "    staking = []\n",
    "    time = []\n",
    "    for i in range(40765, 51046):\n",
    "        res = getBlockByNumber(i)\n",
    "        transactions.append(len(res['transactions']))\n",
    "        time.append(datetime.fromtimestamp(res['timestamp']))\n",
    "        staking.append(len(res['stakingTransactions']))\n",
    "\n",
    "    df = pd.DataFrame(list(zip(time, transactions, staking)), columns = ['time', 'transactions', 'staking-transactions'])\n",
    "    df.to_pickle(\"../pickle/2020_04_19_ostn.pkl\")\n",
    "    print(\"successfully save the dataframe to pickle\")"
   ]
  }
 ],
 "metadata": {
  "kernelspec": {
   "display_name": "Python 3",
   "language": "python",
   "name": "python3"
  },
  "language_info": {
   "codemirror_mode": {
    "name": "ipython",
    "version": 3
   },
   "file_extension": ".py",
   "mimetype": "text/x-python",
   "name": "python",
   "nbconvert_exporter": "python",
   "pygments_lexer": "ipython3",
   "version": "3.7.6"
  }
 },
 "nbformat": 4,
 "nbformat_minor": 4
}
