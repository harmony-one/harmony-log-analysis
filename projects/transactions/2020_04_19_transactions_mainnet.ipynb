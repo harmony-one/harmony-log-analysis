{
 "cells": [
  {
   "cell_type": "code",
   "execution_count": 1,
   "metadata": {},
   "outputs": [],
   "source": [
    "import pandas as pd\n",
    "import plotly.express as px "
   ]
  },
  {
   "cell_type": "code",
   "execution_count": 4,
   "metadata": {},
   "outputs": [],
   "source": [
    "def aggregate_sum(df, time, name):\n",
    "    agg = df.groupby([pd.Grouper(freq= str(time) + 'Min', key = 'time'), name])[name].sum().\\\n",
    "    reset_index(name = 'agg_sum')\n",
    "    return agg"
   ]
  },
  {
   "cell_type": "code",
   "execution_count": 6,
   "metadata": {},
   "outputs": [],
   "source": [
    "df = pd.read_pickle(\"2020_04_19_mainnet.pkl\")"
   ]
  },
  {
   "cell_type": "markdown",
   "metadata": {},
   "source": [
    "## transactions total from 2020-04-19 00:00:01 - 2020-04-20 00:00:00"
   ]
  },
  {
   "cell_type": "code",
   "execution_count": null,
   "metadata": {},
   "outputs": [],
   "source": [
    "df['transactions'].sum()"
   ]
  },
  {
   "cell_type": "markdown",
   "metadata": {},
   "source": [
    "## staking transactions total from 2020-04-19 00:00:01 - 2020-04-20 00:00:00"
   ]
  },
  {
   "cell_type": "code",
   "execution_count": null,
   "metadata": {},
   "outputs": [],
   "source": [
    "df['staking-transactions'].sum()"
   ]
  },
  {
   "cell_type": "markdown",
   "metadata": {},
   "source": [
    "## Visualizations"
   ]
  },
  {
   "cell_type": "code",
   "execution_count": null,
   "metadata": {},
   "outputs": [],
   "source": [
    "agg = aggregate_sum(df, 5, 'transactions')\n",
    "\n",
    "fig = px.line(agg, x=\"time\", y=\"agg_sum\", \n",
    "          title =  'transactions aggregate in 5 minutes vs Time')\n",
    "fig.update_layout(xaxis_title=\"utc_time\", legend_orientation=\"h\", legend=dict(x=0, y=-0.1))\n",
    "fig.show()"
   ]
  },
  {
   "cell_type": "code",
   "execution_count": null,
   "metadata": {},
   "outputs": [],
   "source": [
    "agg = aggregate_sum(df, 5, 'staking-transactions')\n",
    "\n",
    "fig = px.line(agg, x=\"time\", y=\"agg_sum\", \n",
    "          title =  'stakiung transactions aggregate in 5 minutes vs Time')\n",
    "fig.update_layout(xaxis_title=\"utc_time\", legend_orientation=\"h\", legend=dict(x=0, y=-0.1))\n",
    "fig.show()"
   ]
  }
 ],
 "metadata": {
  "kernelspec": {
   "display_name": "Python 3",
   "language": "python",
   "name": "python3"
  },
  "language_info": {
   "codemirror_mode": {
    "name": "ipython",
    "version": 3
   },
   "file_extension": ".py",
   "mimetype": "text/x-python",
   "name": "python",
   "nbconvert_exporter": "python",
   "pygments_lexer": "ipython3",
   "version": "3.7.6"
  }
 },
 "nbformat": 4,
 "nbformat_minor": 4
}
