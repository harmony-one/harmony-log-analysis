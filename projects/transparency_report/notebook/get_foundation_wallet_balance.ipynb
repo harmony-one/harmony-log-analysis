{
 "cells": [
  {
   "cell_type": "code",
   "execution_count": 1,
   "metadata": {},
   "outputs": [],
   "source": [
    "from pyhmy import account\n",
    "import pyhmy"
   ]
  },
  {
   "cell_type": "code",
   "execution_count": 2,
   "metadata": {},
   "outputs": [],
   "source": [
    "endpoint = ['https://api.s0.t.hmny.io/', 'https://api.s1.t.hmny.io/', 'https://api.s2.t.hmny.io/', 'https://api.s3.t.hmny.io/']\n",
    "# cloest block on July 1st 0:00\n",
    "block_num = [3797299, 3769233, 3806793, 3806793]"
   ]
  },
  {
   "cell_type": "code",
   "execution_count": 3,
   "metadata": {},
   "outputs": [],
   "source": [
    "def get_balance(addr):\n",
    "    balance = 0\n",
    "    for shard in range(len(endpoint)):\n",
    "        balance += account.get_balance_by_block(addr, block_num[shard], endpoint[shard])/1e18\n",
    "    print(f\"address {addr}: balance {balance}\")\n",
    "    return balance"
   ]
  },
  {
   "cell_type": "code",
   "execution_count": 4,
   "metadata": {},
   "outputs": [
    {
     "name": "stdout",
     "output_type": "stream",
     "text": [
      "address one1fr252qlyl3zc6z43g3lr3pa0s9f252t9rhjmxk: balance 100000000.008168\n",
      "address one1a5fznwvnr3fed9676g42u7q30crtmmkk5qspe9: balance 362433563.0729464\n",
      "address one1v8slq3ajf7kmhrskrrupp7dewvnqnmmdlfezfu: balance 5569115705.999874\n"
     ]
    }
   ],
   "source": [
    "address = [\"one1fr252qlyl3zc6z43g3lr3pa0s9f252t9rhjmxk\", \"one1a5fznwvnr3fed9676g42u7q30crtmmkk5qspe9\", \"one1v8slq3ajf7kmhrskrrupp7dewvnqnmmdlfezfu\"]\n",
    "for addr in address:\n",
    "    get_balance(addr)"
   ]
  },
  {
   "cell_type": "code",
   "execution_count": null,
   "metadata": {},
   "outputs": [],
   "source": []
  }
 ],
 "metadata": {
  "kernelspec": {
   "display_name": "Python 3",
   "language": "python",
   "name": "python3"
  },
  "language_info": {
   "codemirror_mode": {
    "name": "ipython",
    "version": 3
   },
   "file_extension": ".py",
   "mimetype": "text/x-python",
   "name": "python",
   "nbconvert_exporter": "python",
   "pygments_lexer": "ipython3",
   "version": "3.6.9"
  }
 },
 "nbformat": 4,
 "nbformat_minor": 4
}
