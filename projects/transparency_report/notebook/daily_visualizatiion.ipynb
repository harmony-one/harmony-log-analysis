{
 "cells": [
  {
   "cell_type": "code",
   "execution_count": 1,
   "metadata": {},
   "outputs": [],
   "source": [
    "import json\n",
    "import gzip\n",
    "import os\n",
    "from os import path\n",
    "import pandas as pd\n",
    "import numpy as np\n",
    "import datetime\n",
    "import plotly.express as px \n",
    "import plotly.graph_objects as go\n",
    "from IPython.core.display import display, HTML\n",
    "from collections import defaultdict\n",
    "import pickle"
   ]
  },
  {
   "cell_type": "code",
   "execution_count": 2,
   "metadata": {},
   "outputs": [],
   "source": [
    "def is_json(myjson):\n",
    "    try:\n",
    "        json_object = json.loads(myjson)\n",
    "    except ValueError as e:\n",
    "        return False\n",
    "    return True\n",
    "\n",
    "def read_data(path):\n",
    "    data = []\n",
    "    with open(path, errors='ignore') as f:\n",
    "        for line in f.readlines():\n",
    "            try: \n",
    "                if not is_json(line):\n",
    "                    continue\n",
    "                data.append(json.loads(line))\n",
    "            except:\n",
    "                print('bad json: ', line)\n",
    "    return data"
   ]
  },
  {
   "cell_type": "code",
   "execution_count": 3,
   "metadata": {},
   "outputs": [],
   "source": [
    "html_dir = \"../../../docs/graphs/transparency_report/\"\n",
    "if not path.exists(html_dir):\n",
    "    try:\n",
    "        os.makedirs(html_dir)\n",
    "    except:\n",
    "        print(\"Could not make directory\")\n",
    "        exit(1)"
   ]
  },
  {
   "cell_type": "code",
   "execution_count": 4,
   "metadata": {},
   "outputs": [],
   "source": [
    "log_dir = \"/home/ubuntu/jupyter/monitor/mini_explorer/data/\"\n",
    "json_dir = \"/home/ubuntu/jupyter/harmony-log-analysis/projects/ONE_holder/credential\"\n",
    "files = os.listdir(log_dir)\n",
    "total_gas_used = defaultdict(int)\n",
    "avg_gas_limit = defaultdict(int)\n",
    "avg_size = defaultdict(int)\n",
    "block_time = defaultdict(dict)"
   ]
  },
  {
   "cell_type": "code",
   "execution_count": 5,
   "metadata": {},
   "outputs": [],
   "source": [
    "# get old data\n",
    "csv_file = \"../data/daily_info.csv\"\n",
    "if path.exists(csv_file):\n",
    "    df = pd.read_csv(csv_file)\n",
    "    df['date'] = pd.to_datetime(df['date'], format='%Y-%m-%d')\n",
    "else:\n",
    "    for file in files:\n",
    "        if \".log\" not in file and file != \".ipynb_checkpoints\":\n",
    "            date = file[8:]\n",
    "            data = read_data(log_dir+file)\n",
    "            df = pd.DataFrame(data) \n",
    "            df[\"timestamp\"] = df[\"timestamp\"].apply(lambda t: t.replace(\" +0000 UTC\",\"\"))\n",
    "            df[\"timestamp\"] = pd.to_datetime(df['timestamp'])\n",
    "            df.drop(['staking'], axis=1, inplace = True)\n",
    "            df.drop_duplicates(inplace = True)\n",
    "            total_gas_used[date] = df['gas'].sum()\n",
    "            avg_gas_limit[date] = df['maxGas'].mean()\n",
    "            avg_size[date] = df['size'].mean()\n",
    "            # sort by timestamp \n",
    "            df.sort_values(by=['timestamp'], inplace = True)\n",
    "            shard = []\n",
    "            for name, s in df.groupby(\"shard\"):\n",
    "                shard.append(s.reset_index(drop = True))\n",
    "\n",
    "            # calculate the average time per block, transaction_per_second\n",
    "            for i in range(len(shard)):\n",
    "                s = shard[i]\n",
    "                s[\"time_diff\"] = (s['timestamp']-s['timestamp'].shift()).fillna(pd.Timedelta(seconds=0))\n",
    "                s[\"block_diff\"] = (s['block']-s['block'].shift()).fillna(0).astype(int)\n",
    "                # time per block\n",
    "                s[\"time_per_block\"] = s.apply(lambda c: c[\"time_diff\"].seconds/c[\"block_diff\"] if c[\"block_diff\"] != 0 else np.nan, axis = 1)\n",
    "                block_time[date][\"block-time-shard-{}\".format(i)] = s['time_per_block'].mean()\n",
    "            block_time[date]['avg-block-time'] = sum(block_time[date].values())/4\n",
    "\n",
    "    time_df = pd.DataFrame(block_time.items(), columns=['date', 'block-time'])  \n",
    "    time_df = pd.concat([time_df.drop(['block-time'], axis=1), time_df['block-time'].apply(pd.Series)], axis=1)\n",
    "    used_df = pd.DataFrame(total_gas_used.items(), columns=['date', 'total-gas-used']) \n",
    "    limit_df = pd.DataFrame(avg_gas_limit.items(), columns=['date', 'avg-gas-limit']) \n",
    "    size_df = pd.DataFrame(avg_size.items(), columns=['date', 'avg-size']) \n",
    "\n",
    "    df = time_df.join(used_df.set_index('date'), on = 'date')\n",
    "    df = df.join(limit_df.set_index('date'), on = 'date')\n",
    "    df = df.join(size_df.set_index('date'), on = 'date')\n",
    "\n",
    "    df['date'] = pd.to_datetime(df['date'], format='%Y_%m_%d')\n",
    "    df.sort_values(by=['date'], inplace = True)\n",
    "    df.reset_index(drop = True, inplace = True)\n",
    "    df.to_csv(csv_file, index = False)\n"
   ]
  },
  {
   "cell_type": "code",
   "execution_count": 6,
   "metadata": {},
   "outputs": [],
   "source": [
    "def get_new_data():\n",
    "    total_gas_used = defaultdict(int)\n",
    "    avg_gas_limit = defaultdict(int)\n",
    "    avg_size = defaultdict(int)\n",
    "    block_time = defaultdict(dict)\n",
    "    date = datetime.date.today()-datetime.timedelta(days=1)\n",
    "    name = \"mainnet_\"+date.strftime(\"%Y_%m_%d\")\n",
    "    data = read_data(log_dir+name)\n",
    "    df = pd.DataFrame(data) \n",
    "    df[\"timestamp\"] = df[\"timestamp\"].apply(lambda t: t.replace(\" +0000 UTC\",\"\"))\n",
    "    df[\"timestamp\"] = pd.to_datetime(df['timestamp'])\n",
    "    df.drop(['staking'], axis=1, inplace = True)\n",
    "    df.drop_duplicates(inplace = True)\n",
    "    total_gas_used[date] = df['gas'].sum()\n",
    "    avg_gas_limit[date] = df['maxGas'].mean()\n",
    "    avg_size[date] = df['size'].mean()\n",
    "    # sort by timestamp \n",
    "    df.sort_values(by=['timestamp'], inplace = True)\n",
    "    shard = []\n",
    "    for name, s in df.groupby(\"shard\"):\n",
    "        shard.append(s.reset_index(drop = True))\n",
    "\n",
    "    # calculate the average time per block, transaction_per_second\n",
    "    for i in range(len(shard)):\n",
    "        s = shard[i]\n",
    "        s[\"time_diff\"] = (s['timestamp']-s['timestamp'].shift()).fillna(pd.Timedelta(seconds=0))\n",
    "        s[\"block_diff\"] = (s['block']-s['block'].shift()).fillna(0).astype(int)\n",
    "        # time per block\n",
    "        s[\"time_per_block\"] = s.apply(lambda c: c[\"time_diff\"].seconds/c[\"block_diff\"] if c[\"block_diff\"] != 0 else np.nan, axis = 1)\n",
    "        block_time[date][\"block-time-shard-{}\".format(i)] = s['time_per_block'].mean()\n",
    "    block_time[date]['avg-block-time'] = sum(block_time[date].values())/4\n",
    "    \n",
    "    time_df = pd.DataFrame(block_time.items(), columns=['date', 'block-time'])  \n",
    "    time_df = pd.concat([time_df.drop(['block-time'], axis=1), time_df['block-time'].apply(pd.Series)], axis=1)\n",
    "    used_df = pd.DataFrame(total_gas_used.items(), columns=['date', 'total-gas-used']) \n",
    "    limit_df = pd.DataFrame(avg_gas_limit.items(), columns=['date', 'avg-gas-limit']) \n",
    "    size_df = pd.DataFrame(avg_size.items(), columns=['date', 'avg-size']) \n",
    "\n",
    "    df = time_df.join(used_df.set_index('date'), on = 'date')\n",
    "    df = df.join(limit_df.set_index('date'), on = 'date')\n",
    "    df = df.join(size_df.set_index('date'), on = 'date')\n",
    "\n",
    "    df['date'] = pd.to_datetime(df['date'], format='%Y-%m-%d')\n",
    "    return df"
   ]
  },
  {
   "cell_type": "code",
   "execution_count": 7,
   "metadata": {},
   "outputs": [],
   "source": [
    "df_new = get_new_data()"
   ]
  },
  {
   "cell_type": "code",
   "execution_count": 8,
   "metadata": {},
   "outputs": [],
   "source": [
    "df_all = pd.concat([df,df_new], axis = 0)\n",
    "df_all.drop_duplicates(subset = 'date', keep = 'first', inplace = True)"
   ]
  },
  {
   "cell_type": "code",
   "execution_count": 9,
   "metadata": {},
   "outputs": [],
   "source": [
    "def draw_graph(df, feature, name, title):\n",
    "    html_path = \"https://harmony-one.github.io/harmony-log-analysis/\" + html_dir.replace(\"../../docs/\", \"\")\n",
    "    \n",
    "    hover = df.columns.tolist()\n",
    "    fig = px.line(df, x='date', y=feature, color_discrete_sequence = ['#99d6ff'], title = 'Harmony {} Chart'.format(title))\n",
    "\n",
    "    fig.update_xaxes({'showgrid': False, 'showspikes': True, 'title': None})\n",
    "    fig.update_yaxes({'gridcolor': \"#E8E8E8\"})\n",
    "    fig.update_layout({'plot_bgcolor':'rgba(0,0,0,0)', \"title_x\": 0.5, 'hovermode': 'closest'})\n",
    "#     fig.show(renderer=\"svg\",width=800, height=500)\n",
    "    fig.write_html(\"{:s}{:s}.html\".format(html_dir, name))\n",
    "    print(\"HTML saved in \" )\n",
    "    display_path = \"{:s}{:s}.html\".format(html_path, name)\n",
    "    display(HTML(\"<a href='\" + display_path + \"' target='_blank'>\" + display_path + \"</a>\"))\n",
    "    return fig"
   ]
  },
  {
   "cell_type": "code",
   "execution_count": 10,
   "metadata": {},
   "outputs": [],
   "source": [
    "def draw_area_graph(df, feature, name, title):\n",
    "    html_path = \"https://harmony-one.github.io/harmony-log-analysis/\" + html_dir.replace(\"../../docs/\", \"\")\n",
    "    \n",
    "    hover = df.columns.tolist()\n",
    "    fig = px.area(df, x='date', y=feature, color_discrete_sequence = ['#99d6ff'], title = 'Harmony {} Chart'.format(title))\n",
    "\n",
    "    fig.update_xaxes({'showgrid': False, 'showspikes': True, 'title': None})\n",
    "    fig.update_yaxes({'gridcolor': \"#E8E8E8\"})\n",
    "    fig.update_layout({'plot_bgcolor':'rgba(0,0,0,0)', \"title_x\": 0.5, 'hovermode': 'closest'})\n",
    "#     fig.show(renderer=\"svg\",width=800, height=500)\n",
    "    fig.write_html(\"{:s}{:s}.html\".format(html_dir, name))\n",
    "    print(\"HTML saved in \" )\n",
    "    display_path = \"{:s}{:s}.html\".format(html_path, name)\n",
    "    display(HTML(\"<a href='\" + display_path + \"' target='_blank'>\" + display_path + \"</a>\"))\n",
    "    return fig"
   ]
  },
  {
   "cell_type": "markdown",
   "metadata": {},
   "source": [
    "## Daily Total Gas Used"
   ]
  },
  {
   "cell_type": "code",
   "execution_count": 11,
   "metadata": {},
   "outputs": [
    {
     "name": "stdout",
     "output_type": "stream",
     "text": [
      "HTML saved in \n"
     ]
    },
    {
     "data": {
      "text/html": [
       "<a href='https://harmony-one.github.io/harmony-log-analysis/../graphs/transparency_report/daily_gas_used.html' target='_blank'>https://harmony-one.github.io/harmony-log-analysis/../graphs/transparency_report/daily_gas_used.html</a>"
      ],
      "text/plain": [
       "<IPython.core.display.HTML object>"
      ]
     },
     "metadata": {},
     "output_type": "display_data"
    },
    {
     "data": {
      "image/svg+xml": [
       "<svg class=\"main-svg\" xmlns=\"http://www.w3.org/2000/svg\" xmlns:xlink=\"http://www.w3.org/1999/xlink\" width=\"800\" height=\"500\" style=\"\" viewBox=\"0 0 800 500\"><rect x=\"0\" y=\"0\" width=\"800\" height=\"500\" style=\"fill: rgb(255, 255, 255); fill-opacity: 1;\"/><defs id=\"defs-dec6ef\"><g class=\"clips\"><clipPath id=\"clipdec6efxyplot\" class=\"plotclip\"><rect width=\"640\" height=\"320\"/></clipPath><clipPath class=\"axesclip\" id=\"clipdec6efx\"><rect x=\"80\" y=\"0\" width=\"640\" height=\"500\"/></clipPath><clipPath class=\"axesclip\" id=\"clipdec6efy\"><rect x=\"0\" y=\"100\" width=\"800\" height=\"320\"/></clipPath><clipPath class=\"axesclip\" id=\"clipdec6efxy\"><rect x=\"80\" y=\"100\" width=\"640\" height=\"320\"/></clipPath></g><g class=\"gradients\"/></defs><g class=\"bglayer\"><rect class=\"bg\" x=\"80\" y=\"100\" width=\"640\" height=\"320\" style=\"fill: rgb(0, 0, 0); fill-opacity: 0; stroke-width: 0;\"/></g><g class=\"layer-below\"><g class=\"imagelayer\"/><g class=\"shapelayer\"/></g><g class=\"cartesianlayer\"><g class=\"subplot xy\"><g class=\"layer-subplot\"><g class=\"shapelayer\"/><g class=\"imagelayer\"/></g><g class=\"gridlayer\"><g class=\"x\"/><g class=\"y\"><path class=\"ygrid crisp\" transform=\"translate(0,355.58000000000004)\" d=\"M80,0h640\" style=\"stroke: rgb(232, 232, 232); stroke-opacity: 1; stroke-width: 1px;\"/><path class=\"ygrid crisp\" transform=\"translate(0,306.49)\" d=\"M80,0h640\" style=\"stroke: rgb(232, 232, 232); stroke-opacity: 1; stroke-width: 1px;\"/><path class=\"ygrid crisp\" transform=\"translate(0,257.40999999999997)\" d=\"M80,0h640\" style=\"stroke: rgb(232, 232, 232); stroke-opacity: 1; stroke-width: 1px;\"/><path class=\"ygrid crisp\" transform=\"translate(0,208.32999999999998)\" d=\"M80,0h640\" style=\"stroke: rgb(232, 232, 232); stroke-opacity: 1; stroke-width: 1px;\"/><path class=\"ygrid crisp\" transform=\"translate(0,159.25)\" d=\"M80,0h640\" style=\"stroke: rgb(232, 232, 232); stroke-opacity: 1; stroke-width: 1px;\"/><path class=\"ygrid crisp\" transform=\"translate(0,110.16)\" d=\"M80,0h640\" style=\"stroke: rgb(232, 232, 232); stroke-opacity: 1; stroke-width: 1px;\"/></g></g><g class=\"zerolinelayer\"><path class=\"yzl zl crisp\" transform=\"translate(0,404.66)\" d=\"M80,0h640\" style=\"stroke: rgb(255, 255, 255); stroke-opacity: 1; stroke-width: 2px;\"/></g><path class=\"xlines-below\"/><path class=\"ylines-below\"/><g class=\"overlines-below\"/><g class=\"xaxislayer-below\"/><g class=\"yaxislayer-below\"/><g class=\"overaxes-below\"/><g class=\"plot\" transform=\"translate(80, 100)\" clip-path=\"url('#clipdec6efxyplot')\"><g class=\"scatterlayer mlayer\"><g class=\"trace scatter trace4236d0\" style=\"stroke-miterlimit: 2; opacity: 1;\"><g class=\"fills\"/><g class=\"errorbars\"/><g class=\"lines\"><path class=\"js-line\" d=\"M0,304L8.42,293.69L16.84,295.92L25.26,290.45L33.68,294.84L42.11,293.46L50.53,295.99L58.95,289.52L67.37,286.08L75.79,16L84.21,192.02L92.63,265.36L101.05,245.92L109.47,275.18L117.89,252.47L126.32,268.53L134.74,253.81L143.16,273.86L151.58,281.74L160,281.31L168.42,275.12L176.84,275.05L185.26,244.53L193.68,270.07L202.11,274.33L210.53,276.94L218.95,285.69L235.79,288.63L244.21,282.12L252.63,262.86L261.05,274.01L269.47,287.47L277.89,289.85L286.32,289.87L294.74,286.24L311.58,286.95L320,283.53L328.42,287.1L336.84,284.92L345.26,285.2L353.68,274.45L370.53,291.38L378.95,290.55L387.37,287.6L395.79,283.4L404.21,285.83L412.63,286.29L421.05,289.83L429.47,263.95L446.32,281.02L454.74,285.65L463.16,276.67L471.58,283.54L480,275.22L488.42,270.19L496.84,277.49L505.26,282.64L513.68,285.47L522.11,284.63L530.53,269.01L538.95,276.76L547.37,286.73L555.79,289.48L564.21,274.52L572.63,284.17L581.05,277.96L589.47,282.94L597.89,284.73L606.32,269.78L614.74,280.83L623.16,265.92L631.58,300.09L640,298.42\" style=\"vector-effect: non-scaling-stroke; fill: none; stroke: rgb(153, 214, 255); stroke-opacity: 1; stroke-width: 2px; opacity: 1;\"/></g><g class=\"points\"/><g class=\"text\"/></g></g></g><g class=\"overplot\"/><path class=\"xlines-above crisp\" d=\"M0,0\" style=\"fill: none;\"/><path class=\"ylines-above crisp\" d=\"M0,0\" style=\"fill: none;\"/><g class=\"overlines-above\"/><g class=\"xaxislayer-above\"><g class=\"xtick\"><text text-anchor=\"middle\" x=\"0\" y=\"433\" transform=\"translate(113.68,0)\" style=\"font-family: 'Open Sans', verdana, arial, sans-serif; font-size: 12px; fill: rgb(42, 63, 95); fill-opacity: 1; white-space: pre;\"><tspan class=\"line\" dy=\"0em\" x=\"0\" y=\"433\">May 10</tspan><tspan class=\"line\" dy=\"1.3em\" x=\"0\" y=\"433\">2020</tspan></text></g><g class=\"xtick\"><text text-anchor=\"middle\" x=\"0\" y=\"433\" transform=\"translate(231.58,0)\" style=\"font-family: 'Open Sans', verdana, arial, sans-serif; font-size: 12px; fill: rgb(42, 63, 95); fill-opacity: 1; white-space: pre;\">May 24</text></g><g class=\"xtick\"><text text-anchor=\"middle\" x=\"0\" y=\"433\" transform=\"translate(349.47,0)\" style=\"font-family: 'Open Sans', verdana, arial, sans-serif; font-size: 12px; fill: rgb(42, 63, 95); fill-opacity: 1; white-space: pre;\">Jun 7</text></g><g class=\"xtick\"><text text-anchor=\"middle\" x=\"0\" y=\"433\" transform=\"translate(467.37,0)\" style=\"font-family: 'Open Sans', verdana, arial, sans-serif; font-size: 12px; fill: rgb(42, 63, 95); fill-opacity: 1; white-space: pre;\">Jun 21</text></g><g class=\"xtick\"><text text-anchor=\"middle\" x=\"0\" y=\"433\" transform=\"translate(585.26,0)\" style=\"font-family: 'Open Sans', verdana, arial, sans-serif; font-size: 12px; fill: rgb(42, 63, 95); fill-opacity: 1; white-space: pre;\">Jul 5</text></g><g class=\"xtick\"><text text-anchor=\"middle\" x=\"0\" y=\"433\" transform=\"translate(703.16,0)\" style=\"font-family: 'Open Sans', verdana, arial, sans-serif; font-size: 12px; fill: rgb(42, 63, 95); fill-opacity: 1; white-space: pre;\">Jul 19</text></g></g><g class=\"yaxislayer-above\"><g class=\"ytick\"><text text-anchor=\"end\" x=\"79\" y=\"4.199999999999999\" transform=\"translate(0,404.66)\" style=\"font-family: 'Open Sans', verdana, arial, sans-serif; font-size: 12px; fill: rgb(42, 63, 95); fill-opacity: 1; white-space: pre;\">0</text></g><g class=\"ytick\"><text text-anchor=\"end\" x=\"79\" y=\"4.199999999999999\" transform=\"translate(0,355.58000000000004)\" style=\"font-family: 'Open Sans', verdana, arial, sans-serif; font-size: 12px; fill: rgb(42, 63, 95); fill-opacity: 1; white-space: pre;\">100M</text></g><g class=\"ytick\"><text text-anchor=\"end\" x=\"79\" y=\"4.199999999999999\" transform=\"translate(0,306.49)\" style=\"font-family: 'Open Sans', verdana, arial, sans-serif; font-size: 12px; fill: rgb(42, 63, 95); fill-opacity: 1; white-space: pre;\">200M</text></g><g class=\"ytick\"><text text-anchor=\"end\" x=\"79\" y=\"4.199999999999999\" transform=\"translate(0,257.40999999999997)\" style=\"font-family: 'Open Sans', verdana, arial, sans-serif; font-size: 12px; fill: rgb(42, 63, 95); fill-opacity: 1; white-space: pre;\">300M</text></g><g class=\"ytick\"><text text-anchor=\"end\" x=\"79\" y=\"4.199999999999999\" transform=\"translate(0,208.32999999999998)\" style=\"font-family: 'Open Sans', verdana, arial, sans-serif; font-size: 12px; fill: rgb(42, 63, 95); fill-opacity: 1; white-space: pre;\">400M</text></g><g class=\"ytick\"><text text-anchor=\"end\" x=\"79\" y=\"4.199999999999999\" transform=\"translate(0,159.25)\" style=\"font-family: 'Open Sans', verdana, arial, sans-serif; font-size: 12px; fill: rgb(42, 63, 95); fill-opacity: 1; white-space: pre;\">500M</text></g><g class=\"ytick\"><text text-anchor=\"end\" x=\"79\" y=\"4.199999999999999\" transform=\"translate(0,110.16)\" style=\"font-family: 'Open Sans', verdana, arial, sans-serif; font-size: 12px; fill: rgb(42, 63, 95); fill-opacity: 1; white-space: pre;\">600M</text></g></g><g class=\"overaxes-above\"/></g></g><g class=\"polarlayer\"/><g class=\"ternarylayer\"/><g class=\"geolayer\"/><g class=\"funnelarealayer\"/><g class=\"pielayer\"/><g class=\"treemaplayer\"/><g class=\"sunburstlayer\"/><g class=\"glimages\"/><defs id=\"topdefs-dec6ef\"><g class=\"clips\"/></defs><g class=\"layer-above\"><g class=\"imagelayer\"/><g class=\"shapelayer\"/></g><g class=\"infolayer\"><g class=\"g-gtitle\"><text class=\"gtitle\" x=\"400\" y=\"50\" text-anchor=\"middle\" dy=\"0em\" style=\"font-family: 'Open Sans', verdana, arial, sans-serif; font-size: 17px; fill: rgb(42, 63, 95); opacity: 1; font-weight: normal; white-space: pre;\">Harmony Daily Gas Used Chart</text></g><g class=\"g-xtitle\"/><g class=\"g-ytitle\"><text class=\"ytitle\" transform=\"rotate(-90,20.934375000000003,260)\" x=\"20.934375000000003\" y=\"260\" text-anchor=\"middle\" style=\"font-family: 'Open Sans', verdana, arial, sans-serif; font-size: 14px; fill: rgb(42, 63, 95); opacity: 1; font-weight: normal; white-space: pre;\">Total Gas Used Per Day</text></g></g></svg>"
      ]
     },
     "metadata": {},
     "output_type": "display_data"
    }
   ],
   "source": [
    "fig = draw_graph(df_all, 'total-gas-used','daily_gas_used', 'Daily Gas Used')\n",
    "fig.update_layout(yaxis_title=\"Total Gas Used Per Day\")\n",
    "fig.show(renderer=\"svg\",width=800, height=500)\n"
   ]
  },
  {
   "cell_type": "markdown",
   "metadata": {},
   "source": [
    "## Average Gas Limit"
   ]
  },
  {
   "cell_type": "code",
   "execution_count": 12,
   "metadata": {},
   "outputs": [
    {
     "name": "stdout",
     "output_type": "stream",
     "text": [
      "HTML saved in \n"
     ]
    },
    {
     "data": {
      "text/html": [
       "<a href='https://harmony-one.github.io/harmony-log-analysis/../graphs/transparency_report/avg_gas_limit.html' target='_blank'>https://harmony-one.github.io/harmony-log-analysis/../graphs/transparency_report/avg_gas_limit.html</a>"
      ],
      "text/plain": [
       "<IPython.core.display.HTML object>"
      ]
     },
     "metadata": {},
     "output_type": "display_data"
    },
    {
     "data": {
      "image/svg+xml": [
       "<svg class=\"main-svg\" xmlns=\"http://www.w3.org/2000/svg\" xmlns:xlink=\"http://www.w3.org/1999/xlink\" width=\"800\" height=\"500\" style=\"\" viewBox=\"0 0 800 500\"><rect x=\"0\" y=\"0\" width=\"800\" height=\"500\" style=\"fill: rgb(255, 255, 255); fill-opacity: 1;\"/><defs id=\"defs-d6d04b\"><g class=\"clips\"><clipPath id=\"clipd6d04bxyplot\" class=\"plotclip\"><rect width=\"640\" height=\"320\"/></clipPath><clipPath class=\"axesclip\" id=\"clipd6d04bx\"><rect x=\"80\" y=\"0\" width=\"640\" height=\"500\"/></clipPath><clipPath class=\"axesclip\" id=\"clipd6d04by\"><rect x=\"0\" y=\"100\" width=\"800\" height=\"320\"/></clipPath><clipPath class=\"axesclip\" id=\"clipd6d04bxy\"><rect x=\"80\" y=\"100\" width=\"640\" height=\"320\"/></clipPath></g><g class=\"gradients\"/></defs><g class=\"bglayer\"><rect class=\"bg\" x=\"80\" y=\"100\" width=\"640\" height=\"320\" style=\"fill: rgb(0, 0, 0); fill-opacity: 0; stroke-width: 0;\"/></g><g class=\"layer-below\"><g class=\"imagelayer\"/><g class=\"shapelayer\"/></g><g class=\"cartesianlayer\"><g class=\"subplot xy\"><g class=\"layer-subplot\"><g class=\"shapelayer\"/><g class=\"imagelayer\"/></g><g class=\"gridlayer\"><g class=\"x\"/><g class=\"y\"><path class=\"ygrid crisp\" transform=\"translate(0,382)\" d=\"M80,0h640\" style=\"stroke: rgb(232, 232, 232); stroke-opacity: 1; stroke-width: 1px;\"/><path class=\"ygrid crisp\" transform=\"translate(0,344)\" d=\"M80,0h640\" style=\"stroke: rgb(232, 232, 232); stroke-opacity: 1; stroke-width: 1px;\"/><path class=\"ygrid crisp\" transform=\"translate(0,306)\" d=\"M80,0h640\" style=\"stroke: rgb(232, 232, 232); stroke-opacity: 1; stroke-width: 1px;\"/><path class=\"ygrid crisp\" transform=\"translate(0,268)\" d=\"M80,0h640\" style=\"stroke: rgb(232, 232, 232); stroke-opacity: 1; stroke-width: 1px;\"/><path class=\"ygrid crisp\" transform=\"translate(0,230)\" d=\"M80,0h640\" style=\"stroke: rgb(232, 232, 232); stroke-opacity: 1; stroke-width: 1px;\"/><path class=\"ygrid crisp\" transform=\"translate(0,192)\" d=\"M80,0h640\" style=\"stroke: rgb(232, 232, 232); stroke-opacity: 1; stroke-width: 1px;\"/><path class=\"ygrid crisp\" transform=\"translate(0,154)\" d=\"M80,0h640\" style=\"stroke: rgb(232, 232, 232); stroke-opacity: 1; stroke-width: 1px;\"/><path class=\"ygrid crisp\" transform=\"translate(0,116)\" d=\"M80,0h640\" style=\"stroke: rgb(232, 232, 232); stroke-opacity: 1; stroke-width: 1px;\"/></g></g><g class=\"zerolinelayer\"><path class=\"yzl zl crisp\" transform=\"translate(0,420)\" d=\"M80,0h640\" style=\"stroke: rgb(255, 255, 255); stroke-opacity: 1; stroke-width: 2px;\"/></g><path class=\"xlines-below\"/><path class=\"ylines-below\"/><g class=\"overlines-below\"/><g class=\"xaxislayer-below\"/><g class=\"yaxislayer-below\"/><g class=\"overaxes-below\"/><g class=\"plot\" transform=\"translate(80, 100)\" clip-path=\"url('#clipd6d04bxyplot')\"><g class=\"scatterlayer mlayer\"><g class=\"trace scatter trace0d7412\" style=\"stroke-miterlimit: 2;\"><g class=\"fills\"><g><path class=\"js-fill\" d=\"M640,320L0,320L0,16L640,16\" style=\"fill: rgb(153, 214, 255); fill-opacity: 0.5; stroke-width: 0;\"/></g></g><g class=\"errorbars\"/><g class=\"lines\"><path class=\"js-line\" d=\"M0,16L640,16\" style=\"vector-effect: non-scaling-stroke; fill: none; stroke: rgb(153, 214, 255); stroke-opacity: 1; stroke-width: 2px; opacity: 1;\"/></g><g class=\"points\"/><g class=\"text\"/></g></g></g><g class=\"overplot\"/><path class=\"xlines-above crisp\" d=\"M0,0\" style=\"fill: none;\"/><path class=\"ylines-above crisp\" d=\"M0,0\" style=\"fill: none;\"/><g class=\"overlines-above\"/><g class=\"xaxislayer-above\"><g class=\"xtick\"><text text-anchor=\"middle\" x=\"0\" y=\"433\" transform=\"translate(113.68,0)\" style=\"font-family: 'Open Sans', verdana, arial, sans-serif; font-size: 12px; fill: rgb(42, 63, 95); fill-opacity: 1; white-space: pre;\"><tspan class=\"line\" dy=\"0em\" x=\"0\" y=\"433\">May 10</tspan><tspan class=\"line\" dy=\"1.3em\" x=\"0\" y=\"433\">2020</tspan></text></g><g class=\"xtick\"><text text-anchor=\"middle\" x=\"0\" y=\"433\" transform=\"translate(231.58,0)\" style=\"font-family: 'Open Sans', verdana, arial, sans-serif; font-size: 12px; fill: rgb(42, 63, 95); fill-opacity: 1; white-space: pre;\">May 24</text></g><g class=\"xtick\"><text text-anchor=\"middle\" x=\"0\" y=\"433\" transform=\"translate(349.47,0)\" style=\"font-family: 'Open Sans', verdana, arial, sans-serif; font-size: 12px; fill: rgb(42, 63, 95); fill-opacity: 1; white-space: pre;\">Jun 7</text></g><g class=\"xtick\"><text text-anchor=\"middle\" x=\"0\" y=\"433\" transform=\"translate(467.37,0)\" style=\"font-family: 'Open Sans', verdana, arial, sans-serif; font-size: 12px; fill: rgb(42, 63, 95); fill-opacity: 1; white-space: pre;\">Jun 21</text></g><g class=\"xtick\"><text text-anchor=\"middle\" x=\"0\" y=\"433\" transform=\"translate(585.26,0)\" style=\"font-family: 'Open Sans', verdana, arial, sans-serif; font-size: 12px; fill: rgb(42, 63, 95); fill-opacity: 1; white-space: pre;\">Jul 5</text></g><g class=\"xtick\"><text text-anchor=\"middle\" x=\"0\" y=\"433\" transform=\"translate(703.16,0)\" style=\"font-family: 'Open Sans', verdana, arial, sans-serif; font-size: 12px; fill: rgb(42, 63, 95); fill-opacity: 1; white-space: pre;\">Jul 19</text></g></g><g class=\"yaxislayer-above\"><g class=\"ytick\"><text text-anchor=\"end\" x=\"79\" y=\"4.199999999999999\" transform=\"translate(0,420)\" style=\"font-family: 'Open Sans', verdana, arial, sans-serif; font-size: 12px; fill: rgb(42, 63, 95); fill-opacity: 1; white-space: pre;\">0</text></g><g class=\"ytick\"><text text-anchor=\"end\" x=\"79\" y=\"4.199999999999999\" transform=\"translate(0,382)\" style=\"font-family: 'Open Sans', verdana, arial, sans-serif; font-size: 12px; fill: rgb(42, 63, 95); fill-opacity: 1; white-space: pre;\">10M</text></g><g class=\"ytick\"><text text-anchor=\"end\" x=\"79\" y=\"4.199999999999999\" transform=\"translate(0,344)\" style=\"font-family: 'Open Sans', verdana, arial, sans-serif; font-size: 12px; fill: rgb(42, 63, 95); fill-opacity: 1; white-space: pre;\">20M</text></g><g class=\"ytick\"><text text-anchor=\"end\" x=\"79\" y=\"4.199999999999999\" transform=\"translate(0,306)\" style=\"font-family: 'Open Sans', verdana, arial, sans-serif; font-size: 12px; fill: rgb(42, 63, 95); fill-opacity: 1; white-space: pre;\">30M</text></g><g class=\"ytick\"><text text-anchor=\"end\" x=\"79\" y=\"4.199999999999999\" transform=\"translate(0,268)\" style=\"font-family: 'Open Sans', verdana, arial, sans-serif; font-size: 12px; fill: rgb(42, 63, 95); fill-opacity: 1; white-space: pre;\">40M</text></g><g class=\"ytick\"><text text-anchor=\"end\" x=\"79\" y=\"4.199999999999999\" transform=\"translate(0,230)\" style=\"font-family: 'Open Sans', verdana, arial, sans-serif; font-size: 12px; fill: rgb(42, 63, 95); fill-opacity: 1; white-space: pre;\">50M</text></g><g class=\"ytick\"><text text-anchor=\"end\" x=\"79\" y=\"4.199999999999999\" transform=\"translate(0,192)\" style=\"font-family: 'Open Sans', verdana, arial, sans-serif; font-size: 12px; fill: rgb(42, 63, 95); fill-opacity: 1; white-space: pre;\">60M</text></g><g class=\"ytick\"><text text-anchor=\"end\" x=\"79\" y=\"4.199999999999999\" transform=\"translate(0,154)\" style=\"font-family: 'Open Sans', verdana, arial, sans-serif; font-size: 12px; fill: rgb(42, 63, 95); fill-opacity: 1; white-space: pre;\">70M</text></g><g class=\"ytick\"><text text-anchor=\"end\" x=\"79\" y=\"4.199999999999999\" transform=\"translate(0,116)\" style=\"font-family: 'Open Sans', verdana, arial, sans-serif; font-size: 12px; fill: rgb(42, 63, 95); fill-opacity: 1; white-space: pre;\">80M</text></g></g><g class=\"overaxes-above\"/></g></g><g class=\"polarlayer\"/><g class=\"ternarylayer\"/><g class=\"geolayer\"/><g class=\"funnelarealayer\"/><g class=\"pielayer\"/><g class=\"treemaplayer\"/><g class=\"sunburstlayer\"/><g class=\"glimages\"/><defs id=\"topdefs-d6d04b\"><g class=\"clips\"/></defs><g class=\"layer-above\"><g class=\"imagelayer\"/><g class=\"shapelayer\"/></g><g class=\"infolayer\"><g class=\"g-gtitle\"><text class=\"gtitle\" x=\"400\" y=\"50\" text-anchor=\"middle\" dy=\"0em\" style=\"font-family: 'Open Sans', verdana, arial, sans-serif; font-size: 17px; fill: rgb(42, 63, 95); opacity: 1; font-weight: normal; white-space: pre;\">Harmony Average Gas Limit Chart</text></g><g class=\"g-xtitle\"/><g class=\"g-ytitle\"><text class=\"ytitle\" transform=\"rotate(-90,28.575000000000003,260)\" x=\"28.575000000000003\" y=\"260\" text-anchor=\"middle\" style=\"font-family: 'Open Sans', verdana, arial, sans-serif; font-size: 14px; fill: rgb(42, 63, 95); opacity: 1; font-weight: normal; white-space: pre;\">Average Gas Limit</text></g></g></svg>"
      ]
     },
     "metadata": {},
     "output_type": "display_data"
    }
   ],
   "source": [
    "fig = draw_area_graph(df_all, 'avg-gas-limit','avg_gas_limit', 'Average Gas Limit')\n",
    "fig.update_layout(yaxis_title=\"Average Gas Limit\")\n",
    "fig.show(renderer=\"svg\",width=800, height=500)"
   ]
  },
  {
   "cell_type": "markdown",
   "metadata": {},
   "source": [
    "## Average Size "
   ]
  },
  {
   "cell_type": "code",
   "execution_count": 13,
   "metadata": {},
   "outputs": [
    {
     "name": "stdout",
     "output_type": "stream",
     "text": [
      "HTML saved in \n"
     ]
    },
    {
     "data": {
      "text/html": [
       "<a href='https://harmony-one.github.io/harmony-log-analysis/../graphs/transparency_report/avg_size.html' target='_blank'>https://harmony-one.github.io/harmony-log-analysis/../graphs/transparency_report/avg_size.html</a>"
      ],
      "text/plain": [
       "<IPython.core.display.HTML object>"
      ]
     },
     "metadata": {},
     "output_type": "display_data"
    },
    {
     "data": {
      "image/svg+xml": [
       "<svg class=\"main-svg\" xmlns=\"http://www.w3.org/2000/svg\" xmlns:xlink=\"http://www.w3.org/1999/xlink\" width=\"800\" height=\"500\" style=\"\" viewBox=\"0 0 800 500\"><rect x=\"0\" y=\"0\" width=\"800\" height=\"500\" style=\"fill: rgb(255, 255, 255); fill-opacity: 1;\"/><defs id=\"defs-d3b456\"><g class=\"clips\"><clipPath id=\"clipd3b456xyplot\" class=\"plotclip\"><rect width=\"640\" height=\"320\"/></clipPath><clipPath class=\"axesclip\" id=\"clipd3b456x\"><rect x=\"80\" y=\"0\" width=\"640\" height=\"500\"/></clipPath><clipPath class=\"axesclip\" id=\"clipd3b456y\"><rect x=\"0\" y=\"100\" width=\"800\" height=\"320\"/></clipPath><clipPath class=\"axesclip\" id=\"clipd3b456xy\"><rect x=\"80\" y=\"100\" width=\"640\" height=\"320\"/></clipPath></g><g class=\"gradients\"/></defs><g class=\"bglayer\"><rect class=\"bg\" x=\"80\" y=\"100\" width=\"640\" height=\"320\" style=\"fill: rgb(0, 0, 0); fill-opacity: 0; stroke-width: 0;\"/></g><g class=\"layer-below\"><g class=\"imagelayer\"/><g class=\"shapelayer\"/></g><g class=\"cartesianlayer\"><g class=\"subplot xy\"><g class=\"layer-subplot\"><g class=\"shapelayer\"/><g class=\"imagelayer\"/></g><g class=\"gridlayer\"><g class=\"x\"/><g class=\"y\"><path class=\"ygrid crisp\" transform=\"translate(0,385)\" d=\"M80,0h640\" style=\"stroke: rgb(232, 232, 232); stroke-opacity: 1; stroke-width: 1px;\"/><path class=\"ygrid crisp\" transform=\"translate(0,296.18)\" d=\"M80,0h640\" style=\"stroke: rgb(232, 232, 232); stroke-opacity: 1; stroke-width: 1px;\"/><path class=\"ygrid crisp\" transform=\"translate(0,207.36)\" d=\"M80,0h640\" style=\"stroke: rgb(232, 232, 232); stroke-opacity: 1; stroke-width: 1px;\"/><path class=\"ygrid crisp\" transform=\"translate(0,118.55)\" d=\"M80,0h640\" style=\"stroke: rgb(232, 232, 232); stroke-opacity: 1; stroke-width: 1px;\"/></g></g><g class=\"zerolinelayer\"/><path class=\"xlines-below\"/><path class=\"ylines-below\"/><g class=\"overlines-below\"/><g class=\"xaxislayer-below\"/><g class=\"yaxislayer-below\"/><g class=\"overaxes-below\"/><g class=\"plot\" transform=\"translate(80, 100)\" clip-path=\"url('#clipd3b456xyplot')\"><g class=\"scatterlayer mlayer\"><g class=\"trace scatter tracebacebc\" style=\"stroke-miterlimit: 2; opacity: 1;\"><g class=\"fills\"/><g class=\"errorbars\"/><g class=\"lines\"><path class=\"js-line\" d=\"M0,304L8.42,290.79L16.84,291.6L25.26,292.84L33.68,292.24L42.11,291.15L50.53,298.65L58.95,288.74L67.37,289.91L75.79,289.58L84.21,192.24L92.63,186.51L101.05,159.48L109.47,16L117.89,19.53L126.32,68.65L134.74,86.6L143.16,103.12L151.58,84.77L160,96.52L168.42,84.26L176.84,93.51L185.26,67.33L193.68,82.07L202.11,85.63L210.53,91.26L218.95,106.15L227.37,93.56L235.79,111.15L244.21,91.61L252.63,84.94L261.05,101.75L269.47,96.51L277.89,106.69L286.32,93.87L294.74,117.77L303.16,104.55L311.58,95.96L320,95.16L328.42,108.71L336.84,91.02L345.26,107.63L353.68,96.41L362.11,96.29L370.53,109.28L378.95,94.85L387.37,108.79L395.79,90.92L404.21,104.33L412.63,111.65L421.05,110.06L429.47,78.28L437.89,83.13L446.32,105.94L454.74,93.12L463.16,106.66L471.58,94.78L480,108.05L488.42,89.48L496.84,97.73L505.26,113.42L513.68,97.29L522.11,113.23L530.53,96.02L538.95,98.01L547.37,116.94L555.79,102.1L564.21,98.13L572.63,115.31L581.05,97.2L589.47,98.48L597.89,87.16L606.32,91.57L614.74,111.17L623.16,94.96L631.58,89.19L640,80.25\" style=\"vector-effect: non-scaling-stroke; fill: none; stroke: rgb(153, 214, 255); stroke-opacity: 1; stroke-width: 2px; opacity: 1;\"/></g><g class=\"points\"/><g class=\"text\"/></g></g></g><g class=\"overplot\"/><path class=\"xlines-above crisp\" d=\"M0,0\" style=\"fill: none;\"/><path class=\"ylines-above crisp\" d=\"M0,0\" style=\"fill: none;\"/><g class=\"overlines-above\"/><g class=\"xaxislayer-above\"><g class=\"xtick\"><text text-anchor=\"middle\" x=\"0\" y=\"433\" transform=\"translate(113.68,0)\" style=\"font-family: 'Open Sans', verdana, arial, sans-serif; font-size: 12px; fill: rgb(42, 63, 95); fill-opacity: 1; white-space: pre;\"><tspan class=\"line\" dy=\"0em\" x=\"0\" y=\"433\">May 10</tspan><tspan class=\"line\" dy=\"1.3em\" x=\"0\" y=\"433\">2020</tspan></text></g><g class=\"xtick\"><text text-anchor=\"middle\" x=\"0\" y=\"433\" transform=\"translate(231.58,0)\" style=\"font-family: 'Open Sans', verdana, arial, sans-serif; font-size: 12px; fill: rgb(42, 63, 95); fill-opacity: 1; white-space: pre;\">May 24</text></g><g class=\"xtick\"><text text-anchor=\"middle\" x=\"0\" y=\"433\" transform=\"translate(349.47,0)\" style=\"font-family: 'Open Sans', verdana, arial, sans-serif; font-size: 12px; fill: rgb(42, 63, 95); fill-opacity: 1; white-space: pre;\">Jun 7</text></g><g class=\"xtick\"><text text-anchor=\"middle\" x=\"0\" y=\"433\" transform=\"translate(467.37,0)\" style=\"font-family: 'Open Sans', verdana, arial, sans-serif; font-size: 12px; fill: rgb(42, 63, 95); fill-opacity: 1; white-space: pre;\">Jun 21</text></g><g class=\"xtick\"><text text-anchor=\"middle\" x=\"0\" y=\"433\" transform=\"translate(585.26,0)\" style=\"font-family: 'Open Sans', verdana, arial, sans-serif; font-size: 12px; fill: rgb(42, 63, 95); fill-opacity: 1; white-space: pre;\">Jul 5</text></g><g class=\"xtick\"><text text-anchor=\"middle\" x=\"0\" y=\"433\" transform=\"translate(703.16,0)\" style=\"font-family: 'Open Sans', verdana, arial, sans-serif; font-size: 12px; fill: rgb(42, 63, 95); fill-opacity: 1; white-space: pre;\">Jul 19</text></g></g><g class=\"yaxislayer-above\"><g class=\"ytick\"><text text-anchor=\"end\" x=\"79\" y=\"4.199999999999999\" transform=\"translate(0,385)\" style=\"font-family: 'Open Sans', verdana, arial, sans-serif; font-size: 12px; fill: rgb(42, 63, 95); fill-opacity: 1; white-space: pre;\">750</text></g><g class=\"ytick\"><text text-anchor=\"end\" x=\"79\" y=\"4.199999999999999\" transform=\"translate(0,296.18)\" style=\"font-family: 'Open Sans', verdana, arial, sans-serif; font-size: 12px; fill: rgb(42, 63, 95); fill-opacity: 1; white-space: pre;\">800</text></g><g class=\"ytick\"><text text-anchor=\"end\" x=\"79\" y=\"4.199999999999999\" transform=\"translate(0,207.36)\" style=\"font-family: 'Open Sans', verdana, arial, sans-serif; font-size: 12px; fill: rgb(42, 63, 95); fill-opacity: 1; white-space: pre;\">850</text></g><g class=\"ytick\"><text text-anchor=\"end\" x=\"79\" y=\"4.199999999999999\" transform=\"translate(0,118.55)\" style=\"font-family: 'Open Sans', verdana, arial, sans-serif; font-size: 12px; fill: rgb(42, 63, 95); fill-opacity: 1; white-space: pre;\">900</text></g></g><g class=\"overaxes-above\"/></g></g><g class=\"polarlayer\"/><g class=\"ternarylayer\"/><g class=\"geolayer\"/><g class=\"funnelarealayer\"/><g class=\"pielayer\"/><g class=\"treemaplayer\"/><g class=\"sunburstlayer\"/><g class=\"glimages\"/><defs id=\"topdefs-d3b456\"><g class=\"clips\"/></defs><g class=\"layer-above\"><g class=\"imagelayer\"/><g class=\"shapelayer\"/></g><g class=\"infolayer\"><g class=\"g-gtitle\"><text class=\"gtitle\" x=\"400\" y=\"50\" text-anchor=\"middle\" dy=\"0em\" style=\"font-family: 'Open Sans', verdana, arial, sans-serif; font-size: 17px; fill: rgb(42, 63, 95); opacity: 1; font-weight: normal; white-space: pre;\">Harmony Average Block Size Chart</text></g><g class=\"g-xtitle\"/><g class=\"g-ytitle\"><text class=\"ytitle\" transform=\"rotate(-90,31.293750000000003,260)\" x=\"31.293750000000003\" y=\"260\" text-anchor=\"middle\" style=\"font-family: 'Open Sans', verdana, arial, sans-serif; font-size: 14px; fill: rgb(42, 63, 95); opacity: 1; font-weight: normal; white-space: pre;\">Block Size in Bytes</text></g></g></svg>"
      ]
     },
     "metadata": {},
     "output_type": "display_data"
    }
   ],
   "source": [
    "fig = draw_graph(df_all, 'avg-size','avg_size', 'Average Block Size')\n",
    "fig.update_layout(yaxis_title=\"Block Size in Bytes\")\n",
    "fig.show(renderer=\"svg\",width=800, height=500)"
   ]
  },
  {
   "cell_type": "markdown",
   "metadata": {},
   "source": [
    "## Average Block Time"
   ]
  },
  {
   "cell_type": "code",
   "execution_count": 14,
   "metadata": {},
   "outputs": [
    {
     "name": "stdout",
     "output_type": "stream",
     "text": [
      "HTML saved in \n"
     ]
    },
    {
     "data": {
      "text/html": [
       "<a href='https://harmony-one.github.io/harmony-log-analysis/../graphs/transparency_report/avg_block_time.html' target='_blank'>https://harmony-one.github.io/harmony-log-analysis/../graphs/transparency_report/avg_block_time.html</a>"
      ],
      "text/plain": [
       "<IPython.core.display.HTML object>"
      ]
     },
     "metadata": {},
     "output_type": "display_data"
    },
    {
     "data": {
      "image/svg+xml": [
       "<svg class=\"main-svg\" xmlns=\"http://www.w3.org/2000/svg\" xmlns:xlink=\"http://www.w3.org/1999/xlink\" width=\"800\" height=\"500\" style=\"\" viewBox=\"0 0 800 500\"><rect x=\"0\" y=\"0\" width=\"800\" height=\"500\" style=\"fill: rgb(255, 255, 255); fill-opacity: 1;\"/><defs id=\"defs-125e9e\"><g class=\"clips\"><clipPath id=\"clip125e9exyplot\" class=\"plotclip\"><rect width=\"640\" height=\"320\"/></clipPath><clipPath class=\"axesclip\" id=\"clip125e9ex\"><rect x=\"80\" y=\"0\" width=\"640\" height=\"500\"/></clipPath><clipPath class=\"axesclip\" id=\"clip125e9ey\"><rect x=\"0\" y=\"100\" width=\"800\" height=\"320\"/></clipPath><clipPath class=\"axesclip\" id=\"clip125e9exy\"><rect x=\"80\" y=\"100\" width=\"640\" height=\"320\"/></clipPath></g><g class=\"gradients\"/></defs><g class=\"bglayer\"><rect class=\"bg\" x=\"80\" y=\"100\" width=\"640\" height=\"320\" style=\"fill: rgb(0, 0, 0); fill-opacity: 0; stroke-width: 0;\"/></g><g class=\"layer-below\"><g class=\"imagelayer\"/><g class=\"shapelayer\"/></g><g class=\"cartesianlayer\"><g class=\"subplot xy\"><g class=\"layer-subplot\"><g class=\"shapelayer\"/><g class=\"imagelayer\"/></g><g class=\"gridlayer\"><g class=\"x\"/><g class=\"y\"><path class=\"ygrid crisp\" transform=\"translate(0,379.14)\" d=\"M80,0h640\" style=\"stroke: rgb(232, 232, 232); stroke-opacity: 1; stroke-width: 1px;\"/><path class=\"ygrid crisp\" transform=\"translate(0,328.98)\" d=\"M80,0h640\" style=\"stroke: rgb(232, 232, 232); stroke-opacity: 1; stroke-width: 1px;\"/><path class=\"ygrid crisp\" transform=\"translate(0,278.82)\" d=\"M80,0h640\" style=\"stroke: rgb(232, 232, 232); stroke-opacity: 1; stroke-width: 1px;\"/><path class=\"ygrid crisp\" transform=\"translate(0,228.67)\" d=\"M80,0h640\" style=\"stroke: rgb(232, 232, 232); stroke-opacity: 1; stroke-width: 1px;\"/><path class=\"ygrid crisp\" transform=\"translate(0,178.51)\" d=\"M80,0h640\" style=\"stroke: rgb(232, 232, 232); stroke-opacity: 1; stroke-width: 1px;\"/><path class=\"ygrid crisp\" transform=\"translate(0,128.36)\" d=\"M80,0h640\" style=\"stroke: rgb(232, 232, 232); stroke-opacity: 1; stroke-width: 1px;\"/></g></g><g class=\"zerolinelayer\"/><path class=\"xlines-below\"/><path class=\"ylines-below\"/><g class=\"overlines-below\"/><g class=\"xaxislayer-below\"/><g class=\"yaxislayer-below\"/><g class=\"overaxes-below\"/><g class=\"plot\" transform=\"translate(80, 100)\" clip-path=\"url('#clip125e9exyplot')\"><g class=\"scatterlayer mlayer\"><g class=\"trace scatter trace556ed7\" style=\"stroke-miterlimit: 2; opacity: 1;\"><g class=\"fills\"/><g class=\"errorbars\"/><g class=\"lines\"><path class=\"js-line\" d=\"M0,279.41L8.42,280.58L16.84,278.63L25.26,281.05L33.68,280.14L42.11,278.5L50.53,284.47L58.95,270.23L67.37,196.18L75.79,186.16L84.21,113.29L92.63,177.33L101.05,148.64L109.47,144.04L117.89,44.7L126.32,16L134.74,225.98L143.16,186.75L151.58,167.65L160,173.36L168.42,173.83L176.84,140.42L185.26,138.15L193.68,116.31L202.11,253.27L210.53,260.47L218.95,259.84L227.37,272.68L235.79,262.91L244.21,271.09L252.63,263.95L261.05,264.81L269.47,207.01L277.89,240.15L286.32,234.59L294.74,290.14L303.16,264.06L311.58,261.05L320,286.22L328.42,278.77L336.84,260.05L345.26,258.44L353.68,262.14L362.11,268.68L370.53,260.49L378.95,243.93L387.37,263.8L395.79,262.57L404.21,236.41L412.63,144.03L421.05,208.71L429.47,165.29L437.89,221.28L446.32,272.23L454.74,247.01L463.16,194.06L471.58,237.61L480,247.63L488.42,181.51L496.84,247.65L505.26,268.48L513.68,281.28L522.11,284.58L530.53,293.32L538.95,298.14L547.37,299.87L555.79,291.14L564.21,289.78L572.63,291.23L581.05,278.84L589.47,271.63L597.89,292.82L606.32,304L614.74,295.49L623.16,293.85L640,280.74\" style=\"vector-effect: non-scaling-stroke; fill: none; stroke: rgb(153, 214, 255); stroke-opacity: 1; stroke-width: 2px; opacity: 1;\"/></g><g class=\"points\"/><g class=\"text\"/></g></g></g><g class=\"overplot\"/><path class=\"xlines-above crisp\" d=\"M0,0\" style=\"fill: none;\"/><path class=\"ylines-above crisp\" d=\"M0,0\" style=\"fill: none;\"/><g class=\"overlines-above\"/><g class=\"xaxislayer-above\"><g class=\"xtick\"><text text-anchor=\"middle\" x=\"0\" y=\"433\" transform=\"translate(113.68,0)\" style=\"font-family: 'Open Sans', verdana, arial, sans-serif; font-size: 12px; fill: rgb(42, 63, 95); fill-opacity: 1; white-space: pre;\"><tspan class=\"line\" dy=\"0em\" x=\"0\" y=\"433\">May 10</tspan><tspan class=\"line\" dy=\"1.3em\" x=\"0\" y=\"433\">2020</tspan></text></g><g class=\"xtick\"><text text-anchor=\"middle\" x=\"0\" y=\"433\" transform=\"translate(231.58,0)\" style=\"font-family: 'Open Sans', verdana, arial, sans-serif; font-size: 12px; fill: rgb(42, 63, 95); fill-opacity: 1; white-space: pre;\">May 24</text></g><g class=\"xtick\"><text text-anchor=\"middle\" x=\"0\" y=\"433\" transform=\"translate(349.47,0)\" style=\"font-family: 'Open Sans', verdana, arial, sans-serif; font-size: 12px; fill: rgb(42, 63, 95); fill-opacity: 1; white-space: pre;\">Jun 7</text></g><g class=\"xtick\"><text text-anchor=\"middle\" x=\"0\" y=\"433\" transform=\"translate(467.37,0)\" style=\"font-family: 'Open Sans', verdana, arial, sans-serif; font-size: 12px; fill: rgb(42, 63, 95); fill-opacity: 1; white-space: pre;\">Jun 21</text></g><g class=\"xtick\"><text text-anchor=\"middle\" x=\"0\" y=\"433\" transform=\"translate(585.26,0)\" style=\"font-family: 'Open Sans', verdana, arial, sans-serif; font-size: 12px; fill: rgb(42, 63, 95); fill-opacity: 1; white-space: pre;\">Jul 5</text></g><g class=\"xtick\"><text text-anchor=\"middle\" x=\"0\" y=\"433\" transform=\"translate(703.16,0)\" style=\"font-family: 'Open Sans', verdana, arial, sans-serif; font-size: 12px; fill: rgb(42, 63, 95); fill-opacity: 1; white-space: pre;\">Jul 19</text></g></g><g class=\"yaxislayer-above\"><g class=\"ytick\"><text text-anchor=\"end\" x=\"79\" y=\"4.199999999999999\" transform=\"translate(0,379.14)\" style=\"font-family: 'Open Sans', verdana, arial, sans-serif; font-size: 12px; fill: rgb(42, 63, 95); fill-opacity: 1; white-space: pre;\">8.2</text></g><g class=\"ytick\"><text text-anchor=\"end\" x=\"79\" y=\"4.199999999999999\" transform=\"translate(0,328.98)\" style=\"font-family: 'Open Sans', verdana, arial, sans-serif; font-size: 12px; fill: rgb(42, 63, 95); fill-opacity: 1; white-space: pre;\">8.4</text></g><g class=\"ytick\"><text text-anchor=\"end\" x=\"79\" y=\"4.199999999999999\" transform=\"translate(0,278.82)\" style=\"font-family: 'Open Sans', verdana, arial, sans-serif; font-size: 12px; fill: rgb(42, 63, 95); fill-opacity: 1; white-space: pre;\">8.6</text></g><g class=\"ytick\"><text text-anchor=\"end\" x=\"79\" y=\"4.199999999999999\" transform=\"translate(0,228.67)\" style=\"font-family: 'Open Sans', verdana, arial, sans-serif; font-size: 12px; fill: rgb(42, 63, 95); fill-opacity: 1; white-space: pre;\">8.8</text></g><g class=\"ytick\"><text text-anchor=\"end\" x=\"79\" y=\"4.199999999999999\" transform=\"translate(0,178.51)\" style=\"font-family: 'Open Sans', verdana, arial, sans-serif; font-size: 12px; fill: rgb(42, 63, 95); fill-opacity: 1; white-space: pre;\">9</text></g><g class=\"ytick\"><text text-anchor=\"end\" x=\"79\" y=\"4.199999999999999\" transform=\"translate(0,128.36)\" style=\"font-family: 'Open Sans', verdana, arial, sans-serif; font-size: 12px; fill: rgb(42, 63, 95); fill-opacity: 1; white-space: pre;\">9.2</text></g></g><g class=\"overaxes-above\"/></g></g><g class=\"polarlayer\"/><g class=\"ternarylayer\"/><g class=\"geolayer\"/><g class=\"funnelarealayer\"/><g class=\"pielayer\"/><g class=\"treemaplayer\"/><g class=\"sunburstlayer\"/><g class=\"glimages\"/><defs id=\"topdefs-125e9e\"><g class=\"clips\"/></defs><g class=\"layer-above\"><g class=\"imagelayer\"/><g class=\"shapelayer\"/></g><g class=\"infolayer\"><g class=\"g-gtitle\"><text class=\"gtitle\" x=\"400\" y=\"50\" text-anchor=\"middle\" dy=\"0em\" style=\"font-family: 'Open Sans', verdana, arial, sans-serif; font-size: 17px; fill: rgb(42, 63, 95); opacity: 1; font-weight: normal; white-space: pre;\">Harmony Average Block Time Chart</text></g><g class=\"g-xtitle\"/><g class=\"g-ytitle\"><text class=\"ytitle\" transform=\"rotate(-90,35.10625,260)\" x=\"35.10625\" y=\"260\" text-anchor=\"middle\" style=\"font-family: 'Open Sans', verdana, arial, sans-serif; font-size: 14px; fill: rgb(42, 63, 95); opacity: 1; font-weight: normal; white-space: pre;\">Block Time in Secs</text></g></g></svg>"
      ]
     },
     "metadata": {},
     "output_type": "display_data"
    }
   ],
   "source": [
    "fig = draw_graph(df_all, 'avg-block-time','avg_block_time', 'Average Block Time')\n",
    "fig.update_layout(yaxis_title=\"Block Time in Secs\")\n",
    "fig.show(renderer=\"svg\",width=800, height=500)"
   ]
  },
  {
   "cell_type": "code",
   "execution_count": 15,
   "metadata": {},
   "outputs": [],
   "source": [
    "colors = [\"#00AEE9\", \"#FFA07A\", \"#758796\", \"#66CDAA\"]\n",
    "def draw_block_time_graph(df):\n",
    "    html_path = \"https://harmony-one.github.io/harmony-log-analysis/\" + html_dir.replace(\"../../docs/\", \"\")\n",
    "    trace1 = go.Scatter(\n",
    "            x = df['date'],\n",
    "            y = df['block-time-shard-0'],\n",
    "            mode = 'lines',\n",
    "            line = dict(color = colors[0],\n",
    "                        width = 1),\n",
    "            name = 'Shard 0 Block Time'\n",
    "        )\n",
    "    trace2 = go.Scatter(\n",
    "            x = df['date'],\n",
    "            y = df['block-time-shard-1'],\n",
    "            mode = 'lines',\n",
    "            line = dict(color = colors[1],\n",
    "                        width = 1),\n",
    "            name = 'Shard 1 Block Time'\n",
    "        )\n",
    "    trace3 = go.Scatter(\n",
    "            x = df['date'],\n",
    "            y = df['block-time-shard-2'],\n",
    "            mode = 'lines',\n",
    "            line = dict(color = colors[2],\n",
    "                        width = 1),\n",
    "            name = 'Shard 2 Block Time'\n",
    "        )\n",
    "    trace4 = go.Scatter(\n",
    "            x = df['date'],\n",
    "            y = df['block-time-shard-3'],\n",
    "            mode = 'lines',\n",
    "            line = dict(color = colors[3],\n",
    "                        width = 1),\n",
    "            name = 'Shard 3 Block Time'\n",
    "        )\n",
    " \n",
    "    data = [trace1, trace2, trace3, trace4]\n",
    "    layout = go.Layout(\n",
    "                title = 'Daily Avg Block Time',\n",
    "                yaxis=dict(\n",
    "                    title='Block Time in Secs'\n",
    "                    ),\n",
    "#                 legend_orientation=\"h\", \n",
    "#                 legend=dict(x=0, y=-0.1)\n",
    "            )\n",
    "    fig = go.Figure(data=data, layout=layout)\n",
    "\n",
    "#     fig.update_layout(legend_orientation=\"h\", legend=dict(x=0, y=-0.25))\n",
    "    fig.update_xaxes({'showgrid': False, 'showspikes': True, 'title': None})\n",
    "    fig.update_yaxes({'gridcolor': \"#E8E8E8\"})\n",
    "    fig.update_layout({'plot_bgcolor':'rgba(0,0,0,0)', \"title_x\": 0.5, 'hovermode': 'closest'})\n",
    "\n",
    "    fig.show(renderer=\"svg\",width=800, height=500)\n",
    "    fig.write_html(\"{:s}daily_avg_block_time.html\".format(html_dir))\n",
    "    print(\"HTML saved in \" )\n",
    "    display_path = \"{:s}daily_avg_block_time.html\".format(html_path)\n",
    "    display(HTML(\"<a href='\" + display_path + \"' target='_blank'>\" + display_path + \"</a>\"))\n"
   ]
  },
  {
   "cell_type": "code",
   "execution_count": 16,
   "metadata": {},
   "outputs": [
    {
     "data": {
      "image/svg+xml": [
       "<svg class=\"main-svg\" xmlns=\"http://www.w3.org/2000/svg\" xmlns:xlink=\"http://www.w3.org/1999/xlink\" width=\"800\" height=\"500\" style=\"\" viewBox=\"0 0 800 500\"><rect x=\"0\" y=\"0\" width=\"800\" height=\"500\" style=\"fill: rgb(255, 255, 255); fill-opacity: 1;\"/><defs id=\"defs-d9ecd6\"><g class=\"clips\"><clipPath id=\"clipd9ecd6xyplot\" class=\"plotclip\"><rect width=\"536\" height=\"320\"/></clipPath><clipPath class=\"axesclip\" id=\"clipd9ecd6x\"><rect x=\"80\" y=\"0\" width=\"536\" height=\"500\"/></clipPath><clipPath class=\"axesclip\" id=\"clipd9ecd6y\"><rect x=\"0\" y=\"100\" width=\"800\" height=\"320\"/></clipPath><clipPath class=\"axesclip\" id=\"clipd9ecd6xy\"><rect x=\"80\" y=\"100\" width=\"536\" height=\"320\"/></clipPath></g><g class=\"gradients\"/></defs><g class=\"bglayer\"><rect class=\"bg\" x=\"80\" y=\"100\" width=\"536\" height=\"320\" style=\"fill: rgb(0, 0, 0); fill-opacity: 0; stroke-width: 0;\"/></g><g class=\"layer-below\"><g class=\"imagelayer\"/><g class=\"shapelayer\"/></g><g class=\"cartesianlayer\"><g class=\"subplot xy\"><g class=\"layer-subplot\"><g class=\"shapelayer\"/><g class=\"imagelayer\"/></g><g class=\"gridlayer\"><g class=\"x\"/><g class=\"y\"><path class=\"ygrid crisp\" transform=\"translate(0,404.26)\" d=\"M80,0h536\" style=\"stroke: rgb(232, 232, 232); stroke-opacity: 1; stroke-width: 1px;\"/><path class=\"ygrid crisp\" transform=\"translate(0,339.53999999999996)\" d=\"M80,0h536\" style=\"stroke: rgb(232, 232, 232); stroke-opacity: 1; stroke-width: 1px;\"/><path class=\"ygrid crisp\" transform=\"translate(0,274.83000000000004)\" d=\"M80,0h536\" style=\"stroke: rgb(232, 232, 232); stroke-opacity: 1; stroke-width: 1px;\"/><path class=\"ygrid crisp\" transform=\"translate(0,210.11)\" d=\"M80,0h536\" style=\"stroke: rgb(232, 232, 232); stroke-opacity: 1; stroke-width: 1px;\"/><path class=\"ygrid crisp\" transform=\"translate(0,145.39)\" d=\"M80,0h536\" style=\"stroke: rgb(232, 232, 232); stroke-opacity: 1; stroke-width: 1px;\"/></g></g><g class=\"zerolinelayer\"/><path class=\"xlines-below\"/><path class=\"ylines-below\"/><g class=\"overlines-below\"/><g class=\"xaxislayer-below\"/><g class=\"yaxislayer-below\"/><g class=\"overaxes-below\"/><g class=\"plot\" transform=\"translate(80, 100)\" clip-path=\"url('#clipd9ecd6xyplot')\"><g class=\"scatterlayer mlayer\"><g class=\"trace scatter tracea422ba\" style=\"stroke-miterlimit: 2; opacity: 1;\"><g class=\"fills\"/><g class=\"errorbars\"/><g class=\"lines\"><path class=\"js-line\" d=\"M0,289.89L14.11,289.72L21.16,290.3L28.21,290.79L35.26,289.39L42.32,291.36L49.37,287.54L56.42,274.61L63.47,255.69L70.53,166.3L77.58,209.05L84.63,187.31L91.68,150.22L98.74,79.04L105.79,16L112.84,229.77L119.89,205.39L126.95,171.92L134,166.15L141.05,178.46L148.11,152.71L155.16,141.76L162.21,115.16L169.26,243.23L176.32,259.47L183.37,260.8L190.42,274.25L197.47,270.73L204.53,277.46L211.58,268.54L218.63,275.21L225.68,269.15L232.74,253.25L239.79,263.78L246.84,283.86L253.89,252.48L260.95,253.63L268,274.35L275.05,264.86L282.11,246.65L289.16,243.13L296.21,258.84L303.26,261.77L310.32,245.78L317.37,246.71L324.42,249.91L331.47,244.28L338.53,218.65L345.58,123.14L352.63,182.52L359.68,142.56L366.74,201.88L373.79,250.65L380.84,248.02L387.89,205.54L394.95,224.67L402,224.62L409.05,187.13L416.11,255.49L423.16,263.72L430.21,265.72L437.26,270.1L444.32,277.72L451.37,283.53L458.42,282.93L465.47,282.06L472.53,279.25L479.58,273.14L486.63,263.74L493.68,266.01L500.74,270.03L507.79,280.9L514.84,272.96L521.89,271.96L528.95,264.54L536,260.55\" style=\"vector-effect: non-scaling-stroke; fill: none; stroke: rgb(0, 174, 233); stroke-opacity: 1; stroke-width: 1px; opacity: 1;\"/></g><g class=\"points\"/><g class=\"text\"/></g><g class=\"trace scatter trace1edccc\" style=\"stroke-miterlimit: 2; opacity: 1;\"><g class=\"fills\"/><g class=\"errorbars\"/><g class=\"lines\"><path class=\"js-line\" d=\"M0,293.26L7.05,293.38L14.11,292.45L21.16,294.24L28.21,291.93L35.26,292.19L42.32,293.89L49.37,289.93L56.42,265L63.47,273.65L70.53,273.38L77.58,289.82L84.63,280.68L91.68,281.94L98.74,274.52L105.79,289.18L112.84,294.22L119.89,279.83L126.95,287.63L134,300.35L141.05,297.29L148.11,298.72L155.16,296.43L162.21,294.17L169.26,299.67L183.37,298.6L190.42,300.32L197.47,296.84L204.53,297.25L225.68,298.23L232.74,297.43L239.79,284.34L246.84,297.94L253.89,301.35L260.95,297.36L268,301.76L275.05,302.45L282.11,301.27L289.16,301.87L296.21,299.75L303.26,294.98L310.32,302.79L317.37,302.19L324.42,302.44L331.47,301.42L345.58,300.35L352.63,303.42L366.74,301.61L373.79,302.18L380.84,296.4L387.89,287.96L394.95,298.76L402,303.21L409.05,289.79L416.11,289.81L423.16,292.31L430.21,298L437.26,300.87L444.32,301.52L451.37,300.54L458.42,302.59L479.58,302.62L486.63,302.43L528.95,302.75L536,301.34\" style=\"vector-effect: non-scaling-stroke; fill: none; stroke: rgb(255, 160, 122); stroke-opacity: 1; stroke-width: 1px; opacity: 1;\"/></g><g class=\"points\"/><g class=\"text\"/></g><g class=\"trace scatter tracedc7806\" style=\"stroke-miterlimit: 2; opacity: 1;\"><g class=\"fills\"/><g class=\"errorbars\"/><g class=\"lines\"><path class=\"js-line\" d=\"M0,290.94L7.05,291.55L14.11,290.74L35.26,290.71L42.32,293.31L49.37,287.61L56.42,270.61L63.47,273.12L70.53,276.93L77.58,281.13L84.63,283.03L91.68,295.75L98.74,287.96L105.79,292.92L112.84,300.77L119.89,290.6L126.95,299.53L134,298.21L141.05,287.65L148.11,279.16L155.16,288.71L162.21,294.38L169.26,296.14L176.32,291.59L183.37,292.94L197.47,289.24L204.53,291.16L225.68,290.65L232.74,289.73L239.79,284.48L246.84,298.75L253.89,296.02L260.95,296.22L268,296.81L275.05,295.87L282.11,296.23L289.16,295.23L296.21,289.69L303.26,299.86L310.32,301.37L317.37,301.87L331.47,301.51L338.53,300.45L352.63,303.5L359.68,299.42L366.74,298.27L373.79,301.39L380.84,291.61L387.89,297.13L394.95,300.41L402,301.06L409.05,299.09L416.11,298.77L423.16,294.45L430.21,300.21L437.26,296.8L444.32,297.84L451.37,297.5L458.42,298.01L465.47,289.18L472.53,290.32L479.58,298.32L486.63,295.99L493.68,285.95L500.74,303.35L507.79,303.82L514.84,302.43L536,301.29\" style=\"vector-effect: non-scaling-stroke; fill: none; stroke: rgb(117, 135, 150); stroke-opacity: 1; stroke-width: 1px; opacity: 1;\"/></g><g class=\"points\"/><g class=\"text\"/></g><g class=\"trace scatter tracedb997a\" style=\"stroke-miterlimit: 2; opacity: 1;\"><g class=\"fills\"/><g class=\"errorbars\"/><g class=\"lines\"><path class=\"js-line\" d=\"M0,291.46L7.05,292.23L14.11,291.81L42.32,292.2L49.37,290.98L56.42,269.41L63.47,266.82L70.53,277.45L77.58,280.17L84.63,279.53L91.68,297.9L98.74,281.74L105.79,295.54L112.84,285.63L119.89,294.07L126.95,291.1L134,291.37L141.05,293.16L148.11,291.48L162.21,293.48L169.26,299.52L176.32,295.43L183.37,292.99L190.42,292.94L197.47,291.7L204.53,291.09L211.58,292.49L218.63,286.52L225.68,232.79L232.74,284.6L239.79,286.68L246.84,296.07L253.89,299.84L268,299.64L275.05,301.7L282.11,301.41L289.16,303.65L296.21,299.44L303.26,297.85L310.32,296.07L317.37,278.15L324.42,295.2L331.47,300.94L338.53,301.21L345.58,300.25L352.63,303.13L359.68,303.14L373.79,303.91L380.84,296.07L387.89,286.8L394.95,298.55L402,303.84L409.05,288.48L416.11,288.69L423.16,303.77L451.37,303.31L458.42,303.13L472.53,303.73L479.58,303.66L486.63,302.8L493.68,303.01L500.74,303.75L507.79,303.72L536,303.74\" style=\"vector-effect: non-scaling-stroke; fill: none; stroke: rgb(102, 205, 170); stroke-opacity: 1; stroke-width: 1px; opacity: 1;\"/></g><g class=\"points\"/><g class=\"text\"/></g></g></g><g class=\"overplot\"/><path class=\"xlines-above crisp\" style=\"fill: none;\" d=\"M0,0\"/><path class=\"ylines-above crisp\" style=\"fill: none;\" d=\"M0,0\"/><g class=\"overlines-above\"/><g class=\"xaxislayer-above\"><g class=\"xtick\"><text text-anchor=\"middle\" x=\"0\" y=\"433\" transform=\"translate(108.21000000000001,0)\" style=\"font-family: 'Open Sans', verdana, arial, sans-serif; font-size: 12px; fill: rgb(42, 63, 95); fill-opacity: 1; white-space: pre;\"><tspan class=\"line\" dy=\"0em\" x=\"0\" y=\"433\">May 10</tspan><tspan class=\"line\" dy=\"1.3em\" x=\"0\" y=\"433\">2020</tspan></text></g><g class=\"xtick\"><text text-anchor=\"middle\" x=\"0\" y=\"433\" transform=\"translate(206.95,0)\" style=\"font-family: 'Open Sans', verdana, arial, sans-serif; font-size: 12px; fill: rgb(42, 63, 95); fill-opacity: 1; white-space: pre;\">May 24</text></g><g class=\"xtick\"><text text-anchor=\"middle\" x=\"0\" y=\"433\" transform=\"translate(305.68,0)\" style=\"font-family: 'Open Sans', verdana, arial, sans-serif; font-size: 12px; fill: rgb(42, 63, 95); fill-opacity: 1; white-space: pre;\">Jun 7</text></g><g class=\"xtick\"><text text-anchor=\"middle\" x=\"0\" y=\"433\" transform=\"translate(404.42,0)\" style=\"font-family: 'Open Sans', verdana, arial, sans-serif; font-size: 12px; fill: rgb(42, 63, 95); fill-opacity: 1; white-space: pre;\">Jun 21</text></g><g class=\"xtick\"><text text-anchor=\"middle\" x=\"0\" y=\"433\" transform=\"translate(503.16,0)\" style=\"font-family: 'Open Sans', verdana, arial, sans-serif; font-size: 12px; fill: rgb(42, 63, 95); fill-opacity: 1; white-space: pre;\">Jul 5</text></g><g class=\"xtick\"><text text-anchor=\"middle\" x=\"0\" y=\"433\" transform=\"translate(601.89,0)\" style=\"font-family: 'Open Sans', verdana, arial, sans-serif; font-size: 12px; fill: rgb(42, 63, 95); fill-opacity: 1; white-space: pre;\">Jul 19</text></g></g><g class=\"yaxislayer-above\"><g class=\"ytick\"><text text-anchor=\"end\" x=\"79\" y=\"4.199999999999999\" transform=\"translate(0,404.26)\" style=\"font-family: 'Open Sans', verdana, arial, sans-serif; font-size: 12px; fill: rgb(42, 63, 95); fill-opacity: 1; white-space: pre;\">8</text></g><g class=\"ytick\"><text text-anchor=\"end\" x=\"79\" y=\"4.199999999999999\" transform=\"translate(0,339.53999999999996)\" style=\"font-family: 'Open Sans', verdana, arial, sans-serif; font-size: 12px; fill: rgb(42, 63, 95); fill-opacity: 1; white-space: pre;\">9</text></g><g class=\"ytick\"><text text-anchor=\"end\" x=\"79\" y=\"4.199999999999999\" transform=\"translate(0,274.83000000000004)\" style=\"font-family: 'Open Sans', verdana, arial, sans-serif; font-size: 12px; fill: rgb(42, 63, 95); fill-opacity: 1; white-space: pre;\">10</text></g><g class=\"ytick\"><text text-anchor=\"end\" x=\"79\" y=\"4.199999999999999\" transform=\"translate(0,210.11)\" style=\"font-family: 'Open Sans', verdana, arial, sans-serif; font-size: 12px; fill: rgb(42, 63, 95); fill-opacity: 1; white-space: pre;\">11</text></g><g class=\"ytick\"><text text-anchor=\"end\" x=\"79\" y=\"4.199999999999999\" transform=\"translate(0,145.39)\" style=\"font-family: 'Open Sans', verdana, arial, sans-serif; font-size: 12px; fill: rgb(42, 63, 95); fill-opacity: 1; white-space: pre;\">12</text></g></g><g class=\"overaxes-above\"/></g></g><g class=\"polarlayer\"/><g class=\"ternarylayer\"/><g class=\"geolayer\"/><g class=\"funnelarealayer\"/><g class=\"pielayer\"/><g class=\"treemaplayer\"/><g class=\"sunburstlayer\"/><g class=\"glimages\"/><defs id=\"topdefs-d9ecd6\"><g class=\"clips\"/><clipPath id=\"legendd9ecd6\"><rect width=\"161\" height=\"86\" x=\"0\" y=\"0\"/></clipPath></defs><g class=\"layer-above\"><g class=\"imagelayer\"/><g class=\"shapelayer\"/></g><g class=\"infolayer\"><g class=\"legend\" pointer-events=\"all\" transform=\"translate(626.72, 100)\"><rect class=\"bg\" shape-rendering=\"crispEdges\" style=\"stroke: rgb(68, 68, 68); stroke-opacity: 1; fill: rgb(255, 255, 255); fill-opacity: 1; stroke-width: 0px;\" width=\"161\" height=\"86\" x=\"0\" y=\"0\"/><g class=\"scrollbox\" transform=\"translate(0, 0)\" clip-path=\"url('#legendd9ecd6')\"><g class=\"groups\"><g class=\"traces\" style=\"opacity: 1;\" transform=\"translate(0, 14.5)\"><text class=\"legendtext user-select-none\" text-anchor=\"start\" x=\"40\" y=\"4.680000000000001\" style=\"font-family: 'Open Sans', verdana, arial, sans-serif; font-size: 12px; fill: rgb(42, 63, 95); fill-opacity: 1; white-space: pre;\">Shard 0 Block Time</text><g class=\"layers\" style=\"opacity: 1;\"><g class=\"legendfill\"/><g class=\"legendlines\"><path class=\"js-line\" d=\"M5,0h30\" style=\"fill: none; stroke: rgb(0, 174, 233); stroke-opacity: 1; stroke-width: 1px;\"/></g><g class=\"legendsymbols\"><g class=\"legendpoints\"/></g></g><rect class=\"legendtoggle\" pointer-events=\"all\" x=\"0\" y=\"-9.5\" width=\"155.828125\" height=\"19\" style=\"cursor: pointer; fill: rgb(0, 0, 0); fill-opacity: 0;\"/></g><g class=\"traces\" style=\"opacity: 1;\" transform=\"translate(0, 33.5)\"><text class=\"legendtext user-select-none\" text-anchor=\"start\" x=\"40\" y=\"4.680000000000001\" style=\"font-family: 'Open Sans', verdana, arial, sans-serif; font-size: 12px; fill: rgb(42, 63, 95); fill-opacity: 1; white-space: pre;\">Shard 1 Block Time</text><g class=\"layers\" style=\"opacity: 1;\"><g class=\"legendfill\"/><g class=\"legendlines\"><path class=\"js-line\" d=\"M5,0h30\" style=\"fill: none; stroke: rgb(255, 160, 122); stroke-opacity: 1; stroke-width: 1px;\"/></g><g class=\"legendsymbols\"><g class=\"legendpoints\"/></g></g><rect class=\"legendtoggle\" pointer-events=\"all\" x=\"0\" y=\"-9.5\" width=\"155.828125\" height=\"19\" style=\"cursor: pointer; fill: rgb(0, 0, 0); fill-opacity: 0;\"/></g><g class=\"traces\" style=\"opacity: 1;\" transform=\"translate(0, 52.5)\"><text class=\"legendtext user-select-none\" text-anchor=\"start\" x=\"40\" y=\"4.680000000000001\" style=\"font-family: 'Open Sans', verdana, arial, sans-serif; font-size: 12px; fill: rgb(42, 63, 95); fill-opacity: 1; white-space: pre;\">Shard 2 Block Time</text><g class=\"layers\" style=\"opacity: 1;\"><g class=\"legendfill\"/><g class=\"legendlines\"><path class=\"js-line\" d=\"M5,0h30\" style=\"fill: none; stroke: rgb(117, 135, 150); stroke-opacity: 1; stroke-width: 1px;\"/></g><g class=\"legendsymbols\"><g class=\"legendpoints\"/></g></g><rect class=\"legendtoggle\" pointer-events=\"all\" x=\"0\" y=\"-9.5\" width=\"155.828125\" height=\"19\" style=\"cursor: pointer; fill: rgb(0, 0, 0); fill-opacity: 0;\"/></g><g class=\"traces\" style=\"opacity: 1;\" transform=\"translate(0, 71.5)\"><text class=\"legendtext user-select-none\" text-anchor=\"start\" x=\"40\" y=\"4.680000000000001\" style=\"font-family: 'Open Sans', verdana, arial, sans-serif; font-size: 12px; fill: rgb(42, 63, 95); fill-opacity: 1; white-space: pre;\">Shard 3 Block Time</text><g class=\"layers\" style=\"opacity: 1;\"><g class=\"legendfill\"/><g class=\"legendlines\"><path class=\"js-line\" d=\"M5,0h30\" style=\"fill: none; stroke: rgb(102, 205, 170); stroke-opacity: 1; stroke-width: 1px;\"/></g><g class=\"legendsymbols\"><g class=\"legendpoints\"/></g></g><rect class=\"legendtoggle\" pointer-events=\"all\" x=\"0\" y=\"-9.5\" width=\"155.828125\" height=\"19\" style=\"cursor: pointer; fill: rgb(0, 0, 0); fill-opacity: 0;\"/></g></g></g><rect class=\"scrollbar\" rx=\"20\" ry=\"3\" width=\"0\" height=\"0\" style=\"fill: rgb(128, 139, 164); fill-opacity: 1;\" x=\"0\" y=\"0\"/></g><g class=\"g-gtitle\"><text class=\"gtitle\" x=\"400\" y=\"50\" text-anchor=\"middle\" dy=\"0em\" style=\"font-family: 'Open Sans', verdana, arial, sans-serif; font-size: 17px; fill: rgb(42, 63, 95); opacity: 1; font-weight: normal; white-space: pre;\">Daily Avg Block Time</text></g><g class=\"g-xtitle\"/><g class=\"g-ytitle\"><text class=\"ytitle\" transform=\"rotate(-90,38.91875,260)\" x=\"38.91875\" y=\"260\" text-anchor=\"middle\" style=\"font-family: 'Open Sans', verdana, arial, sans-serif; font-size: 14px; fill: rgb(42, 63, 95); opacity: 1; font-weight: normal; white-space: pre;\">Block Time in Secs</text></g></g></svg>"
      ]
     },
     "metadata": {},
     "output_type": "display_data"
    },
    {
     "name": "stdout",
     "output_type": "stream",
     "text": [
      "HTML saved in \n"
     ]
    },
    {
     "data": {
      "text/html": [
       "<a href='https://harmony-one.github.io/harmony-log-analysis/../graphs/transparency_report/daily_avg_block_time.html' target='_blank'>https://harmony-one.github.io/harmony-log-analysis/../graphs/transparency_report/daily_avg_block_time.html</a>"
      ],
      "text/plain": [
       "<IPython.core.display.HTML object>"
      ]
     },
     "metadata": {},
     "output_type": "display_data"
    }
   ],
   "source": [
    "draw_block_time_graph(df_all)"
   ]
  },
  {
   "cell_type": "markdown",
   "metadata": {},
   "source": [
    "## unique address\n",
    "- to do no"
   ]
  },
  {
   "cell_type": "code",
   "execution_count": 17,
   "metadata": {},
   "outputs": [],
   "source": [
    "\n",
    "addr_dir = \"../logs/address_growth.log\"\n",
    "address = read_data(addr_dir)\n",
    "addr_df = pd.DataFrame(address) \n",
    "addr_df[\"timestamp\"] = pd.to_datetime(addr_df['timestamp'],format = '%Y-%m-%d')\n",
    "\n"
   ]
  },
  {
   "cell_type": "code",
   "execution_count": 18,
   "metadata": {},
   "outputs": [],
   "source": [
    "addr_df.rename(columns = {'timestamp': 'date'}, inplace = True)"
   ]
  },
  {
   "cell_type": "code",
   "execution_count": 19,
   "metadata": {},
   "outputs": [],
   "source": [
    "addr_df = addr_df.groupby(['date'])['count'].sum().reset_index(name = 'count')"
   ]
  },
  {
   "cell_type": "code",
   "execution_count": 20,
   "metadata": {},
   "outputs": [],
   "source": [
    "addr_df['total-count'] = addr_df['count'].cumsum()"
   ]
  },
  {
   "cell_type": "code",
   "execution_count": 21,
   "metadata": {},
   "outputs": [],
   "source": [
    "addr_dir = \"../logs/shard0_unique_address.log\"\n",
    "address = read_data(addr_dir)\n",
    "addr_df = pd.DataFrame(address) \n",
    "addr_df[\"timestamp\"] = pd.to_datetime(addr_df['timestamp'],format = '%Y_%m_%d %H:%M:%S')\n",
    "addr_df['date'] = addr_df['timestamp'].dt.date\n"
   ]
  },
  {
   "cell_type": "code",
   "execution_count": 22,
   "metadata": {},
   "outputs": [
    {
     "name": "stdout",
     "output_type": "stream",
     "text": [
      "HTML saved in \n"
     ]
    },
    {
     "data": {
      "text/html": [
       "<a href='https://harmony-one.github.io/harmony-log-analysis/../graphs/transparency_report/unique_address.html' target='_blank'>https://harmony-one.github.io/harmony-log-analysis/../graphs/transparency_report/unique_address.html</a>"
      ],
      "text/plain": [
       "<IPython.core.display.HTML object>"
      ]
     },
     "metadata": {},
     "output_type": "display_data"
    },
    {
     "data": {
      "image/svg+xml": [
       "<svg class=\"main-svg\" xmlns=\"http://www.w3.org/2000/svg\" xmlns:xlink=\"http://www.w3.org/1999/xlink\" width=\"800\" height=\"500\" style=\"\" viewBox=\"0 0 800 500\"><rect x=\"0\" y=\"0\" width=\"800\" height=\"500\" style=\"fill: rgb(255, 255, 255); fill-opacity: 1;\"/><defs id=\"defs-d913a9\"><g class=\"clips\"><clipPath id=\"clipd913a9xyplot\" class=\"plotclip\"><rect width=\"640\" height=\"320\"/></clipPath><clipPath class=\"axesclip\" id=\"clipd913a9x\"><rect x=\"80\" y=\"0\" width=\"640\" height=\"500\"/></clipPath><clipPath class=\"axesclip\" id=\"clipd913a9y\"><rect x=\"0\" y=\"100\" width=\"800\" height=\"320\"/></clipPath><clipPath class=\"axesclip\" id=\"clipd913a9xy\"><rect x=\"80\" y=\"100\" width=\"640\" height=\"320\"/></clipPath></g><g class=\"gradients\"/></defs><g class=\"bglayer\"><rect class=\"bg\" x=\"80\" y=\"100\" width=\"640\" height=\"320\" style=\"fill: rgb(0, 0, 0); fill-opacity: 0; stroke-width: 0;\"/></g><g class=\"layer-below\"><g class=\"imagelayer\"/><g class=\"shapelayer\"/></g><g class=\"cartesianlayer\"><g class=\"subplot xy\"><g class=\"layer-subplot\"><g class=\"shapelayer\"/><g class=\"imagelayer\"/></g><g class=\"gridlayer\"><g class=\"x\"/><g class=\"y\"><path class=\"ygrid crisp\" transform=\"translate(0,361.66)\" d=\"M80,0h640\" style=\"stroke: rgb(232, 232, 232); stroke-opacity: 1; stroke-width: 1px;\"/><path class=\"ygrid crisp\" transform=\"translate(0,303.31)\" d=\"M80,0h640\" style=\"stroke: rgb(232, 232, 232); stroke-opacity: 1; stroke-width: 1px;\"/><path class=\"ygrid crisp\" transform=\"translate(0,244.97)\" d=\"M80,0h640\" style=\"stroke: rgb(232, 232, 232); stroke-opacity: 1; stroke-width: 1px;\"/><path class=\"ygrid crisp\" transform=\"translate(0,186.63)\" d=\"M80,0h640\" style=\"stroke: rgb(232, 232, 232); stroke-opacity: 1; stroke-width: 1px;\"/><path class=\"ygrid crisp\" transform=\"translate(0,128.28)\" d=\"M80,0h640\" style=\"stroke: rgb(232, 232, 232); stroke-opacity: 1; stroke-width: 1px;\"/></g></g><g class=\"zerolinelayer\"><path class=\"yzl zl crisp\" transform=\"translate(0,420)\" d=\"M80,0h640\" style=\"stroke: rgb(255, 255, 255); stroke-opacity: 1; stroke-width: 2px;\"/></g><path class=\"xlines-below\"/><path class=\"ylines-below\"/><g class=\"overlines-below\"/><g class=\"xaxislayer-below\"/><g class=\"yaxislayer-below\"/><g class=\"overaxes-below\"/><g class=\"plot\" transform=\"translate(80, 100)\" clip-path=\"url('#clipd913a9xyplot')\"><g class=\"scatterlayer mlayer\"><g class=\"trace scatter tracef7e4b6\" style=\"stroke-miterlimit: 2;\"><g class=\"fills\"><g><path class=\"js-fill\" d=\"M640,320L0,320L0,292.11L162.54,291.32L165.93,291.29L169.31,290.51L169.31,290.48L169.31,289.92L171.01,289.89L171.01,289.6L172.7,289.57L177.78,289.22L196.4,289.19L318.31,286.04L325.08,286.01L350.48,284.96L350.48,284.94L350.48,284.76L352.17,284.73L352.17,284.12L353.86,284.09L362.33,283.07L362.33,283.04L367.41,282.22L367.41,282.19L367.41,281.67L369.1,281.64L369.1,281.17L370.79,281.14L379.26,280.01L379.26,279.98L397.88,278.05L397.88,277.99L399.58,277.18L399.58,277.15L399.58,276.3L401.27,276.27L401.27,274.08L402.96,274.05L402.96,273.47L404.66,273.44L404.66,272.95L406.35,272.92L406.35,272.77L408.04,272.74L408.04,271.72L409.74,271.69L409.74,270.93L411.43,270.9L411.43,270.44L413.12,270.41L413.12,269.94L414.81,269.91L414.81,269.45L416.51,269.42L416.51,269.1L418.2,269.07L418.2,268.75L419.89,268.72L419.89,267.81L421.59,267.78L421.59,267.23L423.28,267.2L423.28,266.47L424.97,266.44L424.97,264.84L426.67,264.81L426.67,263.96L428.36,263.93L428.36,263.44L430.05,263.41L430.05,262.68L431.75,262.65L431.75,262.39L433.44,262.36L433.44,261.83L435.13,261.8L435.13,261.25L436.83,261.22L436.83,260.9L438.52,260.87L438.52,260.4L440.21,260.37L440.21,260.02L441.9,259.99L441.9,259.82L443.6,259.79L443.6,259.47L445.29,259.44L445.29,258.91L446.98,258.88L446.98,258.45L448.68,258.42L448.68,257.69L450.37,257.66L450.37,257.08L452.06,257.05L452.06,256.76L453.76,256.73L453.76,256.26L455.45,256.23L455.45,256.06L457.14,256.03L457.14,255.76L458.84,255.73L458.84,255.33L460.53,255.3L460.53,255.06L462.22,255.03L462.22,254.48L463.92,254.45L463.92,253.81L465.61,253.78L465.61,253.4L467.3,253.37L467.3,253.02L468.99,252.99L468.99,252.73L470.69,252.7L470.69,251.59L472.38,251.56L472.38,250.95L474.07,250.92L474.07,249.64L475.77,249.61L475.77,248.91L477.46,248.88L477.46,248.59L479.15,248.56L479.15,248.09L480.85,248.06L480.85,247.39L482.54,247.36L482.54,246.57L484.23,246.55L484.23,246.28L485.93,246.25L485.93,245.64L487.62,245.61L487.62,245.26L489.31,245.23L489.31,244.74L491.01,244.71L491.01,244.18L492.7,244.15L492.7,243.72L494.39,243.69L494.39,243.51L496.08,243.48L496.08,242.9L497.78,242.87L497.78,242.43L499.47,242.4L499.47,241.94L501.16,241.91L501.16,241.62L502.86,241.59L502.86,241.24L504.55,241.21L504.55,240.39L506.24,240.36L506.24,239.63L507.94,239.6L507.94,238.52L509.63,238.49L509.63,237.76L511.32,237.74L511.32,236.42L513.02,236.39L513.02,234.76L514.71,234.73L514.71,233.68L516.4,233.65L516.4,233.01L518.1,232.98L518.1,232.37L519.79,232.34L519.79,231.55L521.48,231.52L521.48,230.5L523.17,230.47L523.17,229.6L524.87,229.57L524.87,228.72L526.56,228.69L526.56,227.29L528.25,227.26L528.25,226.18L529.95,226.15L529.95,225.34L531.64,225.31L531.64,223.79L533.33,223.76L533.33,222.8L535.03,222.77L535.03,221.43L536.72,221.4L536.72,219.74L538.41,219.71L538.41,217.37L540.11,217.34L540.11,216.61L541.8,216.59L541.8,215.59L543.49,215.56L543.49,213.93L545.19,213.9L545.19,207.72L546.88,207.69L546.88,203.75L548.57,203.72L548.57,202.79L550.26,202.76L550.26,200.19L551.96,200.16L551.96,198.21L553.65,198.18L553.65,194.01L555.34,193.98L555.34,191.56L557.04,191.53L557.04,188.55L558.73,188.52L558.73,186.45L560.42,186.42L560.42,185.08L562.12,185.05L562.12,183.39L563.81,183.36L563.81,181.52L565.5,181.49L565.5,178.9L567.2,178.87L567.2,161.48L568.89,161.45L568.89,146.81L570.58,146.78L570.58,141.85L572.28,141.82L572.28,139.69L573.97,139.66L573.97,132.28L575.66,132.25L575.66,127.49L577.35,127.47L577.35,125.86L579.05,125.83L579.05,124.02L580.74,123.99L580.74,122.51L582.43,122.48L582.43,114.46L584.13,114.43L584.13,112.56L585.82,112.53L585.82,110.93L587.51,110.9L587.51,109.2L589.21,109.17L589.21,107.28L590.9,107.25L590.9,105.67L592.59,105.65L592.59,103.78L594.29,103.75L594.29,102.44L595.98,102.41L595.98,100.42L597.67,100.39L597.67,98.24L599.37,98.21L599.37,96.86L601.06,96.84L601.06,95.08L602.75,95.06L602.75,93.86L604.44,93.83L604.44,92.02L606.14,91.99L606.14,90.15L607.83,90.13L607.83,88.38L609.52,88.35L609.52,86.71L609.52,86.71L611.22,86.68L611.22,84.87L612.91,84.85L612.91,82.57L614.6,82.57L614.6,81.87L616.3,81.84L616.3,80.15L617.99,80.12L617.99,61.54L619.68,61.51L619.68,56.37L621.38,56.37L621.38,54.13L623.07,54.1L623.07,44.06L624.76,44.03L624.76,36.6L626.46,36.57L626.46,29.59L628.15,29.56L628.15,27.32L629.84,27.29L629.84,26.18L631.53,26.15L631.53,24.75L633.23,24.72L633.23,23.76L634.92,23.73L634.92,22.42L636.61,22.39L636.61,17.72L638.31,17.69L638.31,16.06L640,16.03\" style=\"fill: rgb(153, 214, 255); fill-opacity: 0.5; stroke-width: 0;\"/></g></g><g class=\"errorbars\"/><g class=\"lines\"><path class=\"js-line\" d=\"M0,292.11L162.54,291.32L165.93,291.29L169.31,290.51L169.31,290.48L169.31,289.92L171.01,289.89L171.01,289.6L172.7,289.57L177.78,289.22L196.4,289.19L318.31,286.04L325.08,286.01L350.48,284.96L350.48,284.94L350.48,284.76L352.17,284.73L352.17,284.12L353.86,284.09L362.33,283.07L362.33,283.04L367.41,282.22L367.41,282.19L367.41,281.67L369.1,281.64L369.1,281.17L370.79,281.14L379.26,280.01L379.26,279.98L397.88,278.05L397.88,277.99L399.58,277.18L399.58,277.15L399.58,276.3L401.27,276.27L401.27,274.08L402.96,274.05L402.96,273.47L404.66,273.44L404.66,272.95L406.35,272.92L406.35,272.77L408.04,272.74L408.04,271.72L409.74,271.69L409.74,270.93L411.43,270.9L411.43,270.44L413.12,270.41L413.12,269.94L414.81,269.91L414.81,269.45L416.51,269.42L416.51,269.1L418.2,269.07L418.2,268.75L419.89,268.72L419.89,267.81L421.59,267.78L421.59,267.23L423.28,267.2L423.28,266.47L424.97,266.44L424.97,264.84L426.67,264.81L426.67,263.96L428.36,263.93L428.36,263.44L430.05,263.41L430.05,262.68L431.75,262.65L431.75,262.39L433.44,262.36L433.44,261.83L435.13,261.8L435.13,261.25L436.83,261.22L436.83,260.9L438.52,260.87L438.52,260.4L440.21,260.37L440.21,260.02L441.9,259.99L441.9,259.82L443.6,259.79L443.6,259.47L445.29,259.44L445.29,258.91L446.98,258.88L446.98,258.45L448.68,258.42L448.68,257.69L450.37,257.66L450.37,257.08L452.06,257.05L452.06,256.76L453.76,256.73L453.76,256.26L455.45,256.23L455.45,256.06L457.14,256.03L457.14,255.76L458.84,255.73L458.84,255.33L460.53,255.3L460.53,255.06L462.22,255.03L462.22,254.48L463.92,254.45L463.92,253.81L465.61,253.78L465.61,253.4L467.3,253.37L467.3,253.02L468.99,252.99L468.99,252.73L470.69,252.7L470.69,251.59L472.38,251.56L472.38,250.95L474.07,250.92L474.07,249.64L475.77,249.61L475.77,248.91L477.46,248.88L477.46,248.59L479.15,248.56L479.15,248.09L480.85,248.06L480.85,247.39L482.54,247.36L482.54,246.57L484.23,246.55L484.23,246.28L485.93,246.25L485.93,245.64L487.62,245.61L487.62,245.26L489.31,245.23L489.31,244.74L491.01,244.71L491.01,244.18L492.7,244.15L492.7,243.72L494.39,243.69L494.39,243.51L496.08,243.48L496.08,242.9L497.78,242.87L497.78,242.43L499.47,242.4L499.47,241.94L501.16,241.91L501.16,241.62L502.86,241.59L502.86,241.24L504.55,241.21L504.55,240.39L506.24,240.36L506.24,239.63L507.94,239.6L507.94,238.52L509.63,238.49L509.63,237.76L511.32,237.74L511.32,236.42L513.02,236.39L513.02,234.76L514.71,234.73L514.71,233.68L516.4,233.65L516.4,233.01L518.1,232.98L518.1,232.37L519.79,232.34L519.79,231.55L521.48,231.52L521.48,230.5L523.17,230.47L523.17,229.6L524.87,229.57L524.87,228.72L526.56,228.69L526.56,227.29L528.25,227.26L528.25,226.18L529.95,226.15L529.95,225.34L531.64,225.31L531.64,223.79L533.33,223.76L533.33,222.8L535.03,222.77L535.03,221.43L536.72,221.4L536.72,219.74L538.41,219.71L538.41,217.37L540.11,217.34L540.11,216.61L541.8,216.59L541.8,215.59L543.49,215.56L543.49,213.93L545.19,213.9L545.19,207.72L546.88,207.69L546.88,203.75L548.57,203.72L548.57,202.79L550.26,202.76L550.26,200.19L551.96,200.16L551.96,198.21L553.65,198.18L553.65,194.01L555.34,193.98L555.34,191.56L557.04,191.53L557.04,188.55L558.73,188.52L558.73,186.45L560.42,186.42L560.42,185.08L562.12,185.05L562.12,183.39L563.81,183.36L563.81,181.52L565.5,181.49L565.5,178.9L567.2,178.87L567.2,161.48L568.89,161.45L568.89,146.81L570.58,146.78L570.58,141.85L572.28,141.82L572.28,139.69L573.97,139.66L573.97,132.28L575.66,132.25L575.66,127.49L577.35,127.47L577.35,125.86L579.05,125.83L579.05,124.02L580.74,123.99L580.74,122.51L582.43,122.48L582.43,114.46L584.13,114.43L584.13,112.56L585.82,112.53L585.82,110.93L587.51,110.9L587.51,109.2L589.21,109.17L589.21,107.28L590.9,107.25L590.9,105.67L592.59,105.65L592.59,103.78L594.29,103.75L594.29,102.44L595.98,102.41L595.98,100.42L597.67,100.39L597.67,98.24L599.37,98.21L599.37,96.86L601.06,96.84L601.06,95.08L602.75,95.06L602.75,93.86L604.44,93.83L604.44,92.02L606.14,91.99L606.14,90.15L607.83,90.13L607.83,88.38L609.52,88.35L609.52,86.71L609.52,86.71L611.22,86.68L611.22,84.87L612.91,84.85L612.91,82.57L614.6,82.57L614.6,81.87L616.3,81.84L616.3,80.15L617.99,80.12L617.99,61.54L619.68,61.51L619.68,56.37L621.38,56.37L621.38,54.13L623.07,54.1L623.07,44.06L624.76,44.03L624.76,36.6L626.46,36.57L626.46,29.59L628.15,29.56L628.15,27.32L629.84,27.29L629.84,26.18L631.53,26.15L631.53,24.75L633.23,24.72L633.23,23.76L634.92,23.73L634.92,22.42L636.61,22.39L636.61,17.72L638.31,17.69L638.31,16.06L640,16.03\" style=\"vector-effect: non-scaling-stroke; fill: none; stroke: rgb(153, 214, 255); stroke-opacity: 1; stroke-width: 2px; opacity: 1;\"/></g><g class=\"points\"/><g class=\"text\"/></g></g></g><g class=\"overplot\"/><path class=\"xlines-above crisp\" d=\"M0,0\" style=\"fill: none;\"/><path class=\"ylines-above crisp\" d=\"M0,0\" style=\"fill: none;\"/><g class=\"overlines-above\"/><g class=\"xaxislayer-above\"><g class=\"xtick\"><text text-anchor=\"middle\" x=\"0\" y=\"433\" transform=\"translate(85.08,0)\" style=\"font-family: 'Open Sans', verdana, arial, sans-serif; font-size: 12px; fill: rgb(42, 63, 95); fill-opacity: 1; white-space: pre;\">Jul 2019</text></g><g class=\"xtick\"><text text-anchor=\"middle\" x=\"0\" y=\"433\" transform=\"translate(190.05,0)\" style=\"font-family: 'Open Sans', verdana, arial, sans-serif; font-size: 12px; fill: rgb(42, 63, 95); fill-opacity: 1; white-space: pre;\">Sep 2019</text></g><g class=\"xtick\"><text text-anchor=\"middle\" x=\"0\" y=\"433\" transform=\"translate(293.33000000000004,0)\" style=\"font-family: 'Open Sans', verdana, arial, sans-serif; font-size: 12px; fill: rgb(42, 63, 95); fill-opacity: 1; white-space: pre;\">Nov 2019</text></g><g class=\"xtick\"><text text-anchor=\"middle\" x=\"0\" y=\"433\" transform=\"translate(396.61,0)\" style=\"font-family: 'Open Sans', verdana, arial, sans-serif; font-size: 12px; fill: rgb(42, 63, 95); fill-opacity: 1; white-space: pre;\">Jan 2020</text></g><g class=\"xtick\"><text text-anchor=\"middle\" x=\"0\" y=\"433\" transform=\"translate(498.2,0)\" style=\"font-family: 'Open Sans', verdana, arial, sans-serif; font-size: 12px; fill: rgb(42, 63, 95); fill-opacity: 1; white-space: pre;\">Mar 2020</text></g><g class=\"xtick\"><text text-anchor=\"middle\" x=\"0\" y=\"433\" transform=\"translate(601.48,0)\" style=\"font-family: 'Open Sans', verdana, arial, sans-serif; font-size: 12px; fill: rgb(42, 63, 95); fill-opacity: 1; white-space: pre;\">May 2020</text></g><g class=\"xtick\"><text text-anchor=\"middle\" x=\"0\" y=\"433\" transform=\"translate(704.76,0)\" style=\"font-family: 'Open Sans', verdana, arial, sans-serif; font-size: 12px; fill: rgb(42, 63, 95); fill-opacity: 1; white-space: pre;\">Jul 2020</text></g></g><g class=\"yaxislayer-above\"><g class=\"ytick\"><text text-anchor=\"end\" x=\"79\" y=\"4.199999999999999\" transform=\"translate(0,420)\" style=\"font-family: 'Open Sans', verdana, arial, sans-serif; font-size: 12px; fill: rgb(42, 63, 95); fill-opacity: 1; white-space: pre;\">0</text></g><g class=\"ytick\"><text text-anchor=\"end\" x=\"79\" y=\"4.199999999999999\" transform=\"translate(0,361.66)\" style=\"font-family: 'Open Sans', verdana, arial, sans-serif; font-size: 12px; fill: rgb(42, 63, 95); fill-opacity: 1; white-space: pre;\">2k</text></g><g class=\"ytick\"><text text-anchor=\"end\" x=\"79\" y=\"4.199999999999999\" transform=\"translate(0,303.31)\" style=\"font-family: 'Open Sans', verdana, arial, sans-serif; font-size: 12px; fill: rgb(42, 63, 95); fill-opacity: 1; white-space: pre;\">4k</text></g><g class=\"ytick\"><text text-anchor=\"end\" x=\"79\" y=\"4.199999999999999\" transform=\"translate(0,244.97)\" style=\"font-family: 'Open Sans', verdana, arial, sans-serif; font-size: 12px; fill: rgb(42, 63, 95); fill-opacity: 1; white-space: pre;\">6k</text></g><g class=\"ytick\"><text text-anchor=\"end\" x=\"79\" y=\"4.199999999999999\" transform=\"translate(0,186.63)\" style=\"font-family: 'Open Sans', verdana, arial, sans-serif; font-size: 12px; fill: rgb(42, 63, 95); fill-opacity: 1; white-space: pre;\">8k</text></g><g class=\"ytick\"><text text-anchor=\"end\" x=\"79\" y=\"4.199999999999999\" transform=\"translate(0,128.28)\" style=\"font-family: 'Open Sans', verdana, arial, sans-serif; font-size: 12px; fill: rgb(42, 63, 95); fill-opacity: 1; white-space: pre;\">10k</text></g></g><g class=\"overaxes-above\"/></g></g><g class=\"polarlayer\"/><g class=\"ternarylayer\"/><g class=\"geolayer\"/><g class=\"funnelarealayer\"/><g class=\"pielayer\"/><g class=\"treemaplayer\"/><g class=\"sunburstlayer\"/><g class=\"glimages\"/><defs id=\"topdefs-d913a9\"><g class=\"clips\"/></defs><g class=\"layer-above\"><g class=\"imagelayer\"/><g class=\"shapelayer\"/></g><g class=\"infolayer\"><g class=\"g-gtitle\"><text class=\"gtitle\" x=\"400\" y=\"50\" text-anchor=\"middle\" dy=\"0em\" style=\"font-family: 'Open Sans', verdana, arial, sans-serif; font-size: 17px; fill: rgb(42, 63, 95); opacity: 1; font-weight: normal; white-space: pre;\">Harmony Unique Address Chart</text></g><g class=\"g-xtitle\"/><g class=\"g-ytitle\"><text class=\"ytitle\" transform=\"rotate(-90,31.981250000000003,260)\" x=\"31.981250000000003\" y=\"260\" text-anchor=\"middle\" style=\"font-family: 'Open Sans', verdana, arial, sans-serif; font-size: 14px; fill: rgb(42, 63, 95); opacity: 1; font-weight: normal; white-space: pre;\">Harmony Cumulative Address Growth</text></g></g></svg>"
      ]
     },
     "metadata": {},
     "output_type": "display_data"
    }
   ],
   "source": [
    "fig = draw_area_graph(addr_df, \"count\", \"unique_address\", \"Unique Address\")\n",
    "fig.update_layout(yaxis_title=\"Harmony Cumulative Address Growth\")\n",
    "fig.show(renderer=\"svg\",width=800, height=500)"
   ]
  },
  {
   "cell_type": "markdown",
   "metadata": {},
   "source": [
    "## Daily Volumn "
   ]
  },
  {
   "cell_type": "code",
   "execution_count": 23,
   "metadata": {},
   "outputs": [],
   "source": [
    "def read_data_txs(files, path):\n",
    "    data = []\n",
    "    for file in files:\n",
    "        with open(path+file, errors='ignore') as f:\n",
    "            for line in f.readlines():\n",
    "                try: \n",
    "                    if not is_json(line):\n",
    "                        continue\n",
    "                    data.append(json.loads(line))\n",
    "                except:\n",
    "                    print('bad json: ', line)\n",
    "    return data"
   ]
  },
  {
   "cell_type": "code",
   "execution_count": 24,
   "metadata": {},
   "outputs": [],
   "source": [
    "txs_data_dir = '../transaction_data/'\n",
    "files = os.listdir(txs_data_dir)\n",
    "data = read_data_txs(files, txs_data_dir)\n",
    "df = pd.DataFrame(data)\n",
    "df['timestamp'] = pd.to_datetime(df['timestamp'], format='%Y_%m_%d %H:%M:%S')\n",
    "df['date'] = df['timestamp'].dt.date\n"
   ]
  },
  {
   "cell_type": "code",
   "execution_count": 25,
   "metadata": {},
   "outputs": [
    {
     "name": "stdout",
     "output_type": "stream",
     "text": [
      "HTML saved in \n"
     ]
    },
    {
     "data": {
      "text/html": [
       "<a href='https://harmony-one.github.io/harmony-log-analysis/../graphs/transparency_report/daily_volume.html' target='_blank'>https://harmony-one.github.io/harmony-log-analysis/../graphs/transparency_report/daily_volume.html</a>"
      ],
      "text/plain": [
       "<IPython.core.display.HTML object>"
      ]
     },
     "metadata": {},
     "output_type": "display_data"
    },
    {
     "data": {
      "image/svg+xml": [
       "<svg class=\"main-svg\" xmlns=\"http://www.w3.org/2000/svg\" xmlns:xlink=\"http://www.w3.org/1999/xlink\" width=\"800\" height=\"500\" style=\"\" viewBox=\"0 0 800 500\"><rect x=\"0\" y=\"0\" width=\"800\" height=\"500\" style=\"fill: rgb(255, 255, 255); fill-opacity: 1;\"/><defs id=\"defs-f81a70\"><g class=\"clips\"><clipPath id=\"clipf81a70xyplot\" class=\"plotclip\"><rect width=\"640\" height=\"320\"/></clipPath><clipPath class=\"axesclip\" id=\"clipf81a70x\"><rect x=\"80\" y=\"0\" width=\"640\" height=\"500\"/></clipPath><clipPath class=\"axesclip\" id=\"clipf81a70y\"><rect x=\"0\" y=\"100\" width=\"800\" height=\"320\"/></clipPath><clipPath class=\"axesclip\" id=\"clipf81a70xy\"><rect x=\"80\" y=\"100\" width=\"640\" height=\"320\"/></clipPath></g><g class=\"gradients\"/></defs><g class=\"bglayer\"><rect class=\"bg\" x=\"80\" y=\"100\" width=\"640\" height=\"320\" style=\"fill: rgb(0, 0, 0); fill-opacity: 0; stroke-width: 0;\"/></g><g class=\"layer-below\"><g class=\"imagelayer\"/><g class=\"shapelayer\"/></g><g class=\"cartesianlayer\"><g class=\"subplot xy\"><g class=\"layer-subplot\"><g class=\"shapelayer\"/><g class=\"imagelayer\"/></g><g class=\"gridlayer\"><g class=\"x\"/><g class=\"y\"><path class=\"ygrid crisp\" transform=\"translate(0,358.29)\" d=\"M80,0h640\" style=\"stroke: rgb(232, 232, 232); stroke-opacity: 1; stroke-width: 1px;\"/><path class=\"ygrid crisp\" transform=\"translate(0,312.57)\" d=\"M80,0h640\" style=\"stroke: rgb(232, 232, 232); stroke-opacity: 1; stroke-width: 1px;\"/><path class=\"ygrid crisp\" transform=\"translate(0,266.86)\" d=\"M80,0h640\" style=\"stroke: rgb(232, 232, 232); stroke-opacity: 1; stroke-width: 1px;\"/><path class=\"ygrid crisp\" transform=\"translate(0,221.14)\" d=\"M80,0h640\" style=\"stroke: rgb(232, 232, 232); stroke-opacity: 1; stroke-width: 1px;\"/><path class=\"ygrid crisp\" transform=\"translate(0,175.43)\" d=\"M80,0h640\" style=\"stroke: rgb(232, 232, 232); stroke-opacity: 1; stroke-width: 1px;\"/><path class=\"ygrid crisp\" transform=\"translate(0,129.71)\" d=\"M80,0h640\" style=\"stroke: rgb(232, 232, 232); stroke-opacity: 1; stroke-width: 1px;\"/></g></g><g class=\"zerolinelayer\"><path class=\"yzl zl crisp\" transform=\"translate(0,404)\" d=\"M80,0h640\" style=\"stroke: rgb(255, 255, 255); stroke-opacity: 1; stroke-width: 2px;\"/></g><path class=\"xlines-below\"/><path class=\"ylines-below\"/><g class=\"overlines-below\"/><g class=\"xaxislayer-below\"/><g class=\"yaxislayer-below\"/><g class=\"overaxes-below\"/><g class=\"plot\" transform=\"translate(80, 100)\" clip-path=\"url('#clipf81a70xyplot')\"><g class=\"scatterlayer mlayer\"><g class=\"trace scatter trace320a2f\" style=\"stroke-miterlimit: 2; opacity: 1;\"><g class=\"fills\"/><g class=\"errorbars\"/><g class=\"lines\"><path class=\"js-line\" d=\"M0,304L287.16,304L289.03,16L290.91,304L292.79,303.99L294.66,300.95L296.54,304L315.31,303.81L317.18,300.96L319.06,303.59L320.94,303.97L332.2,303.82L334.08,303.95L337.83,304L339.71,302.45L341.58,303.99L343.46,303.81L349.09,303.98L350.97,193.09L352.84,274.81L354.72,301.83L356.6,303.75L358.48,303.77L367.86,303.26L369.74,287.81L371.61,303.7L373.49,301.5L377.24,303.64L379.12,217.09L381,302.95L382.87,302.61L384.75,303.74L386.63,303.7L390.38,303.67L392.26,303.36L394.13,302.72L396.01,303.21L397.89,302.66L399.77,303.44L411.03,303.71L412.9,302.67L416.66,303.64L418.53,303.59L426.04,303.68L427.92,303.87L429.79,303.42L431.67,300.83L433.55,298.31L435.43,302.59L437.3,303.85L439.18,303.81L441.06,303.29L442.93,303.93L456.07,303.89L457.95,303.91L484.22,303.71L486.1,301.7L489.85,303.16L491.73,302.5L493.61,294.72L495.48,303.35L497.36,303.74L499.24,302.09L502.99,303.12L504.87,302.46L510.5,302.87L512.38,280.36L514.25,296.53L516.13,299.14L518.01,303.45L519.88,296.87L521.76,300.54L523.64,293.32L525.51,299.92L527.39,301.28L529.27,302.89L531.14,303.32L533.02,302.22L534.9,257.28L536.77,292.35L538.65,301.81L540.53,280.23L542.4,302.04L544.28,266.74L546.16,262.46L548.04,293.79L549.91,302.58L551.79,301.71L553.67,302.77L559.3,303.13L561.17,302.54L564.93,302.4L566.8,303.24L568.68,300.26L570.56,298.7L572.43,302.49L574.31,302.51L576.19,301.58L578.06,302.26L579.94,299.52L581.82,302.73L585.57,302.92L587.45,301.63L591.2,303.33L593.08,301.62L594.96,302.86L596.83,296.49L598.71,300.9L600.59,302.16L602.46,299.59L604.34,300.44L608.09,302.59L609.97,303.17L611.85,303.02L613.72,296.39L615.6,295.31L617.48,302.05L619.35,301.31L621.23,301.96L623.11,302.61L624.99,301.98L628.74,301.92L630.62,302.98L632.49,301.65L634.37,303.03L636.25,300.21L638.12,289.94L640,300.18\" style=\"vector-effect: non-scaling-stroke; fill: none; stroke: rgb(153, 214, 255); stroke-opacity: 1; stroke-width: 2px; opacity: 1;\"/></g><g class=\"points\"/><g class=\"text\"/></g></g></g><g class=\"overplot\"/><path class=\"xlines-above crisp\" d=\"M0,0\" style=\"fill: none;\"/><path class=\"ylines-above crisp\" d=\"M0,0\" style=\"fill: none;\"/><g class=\"overlines-above\"/><g class=\"xaxislayer-above\"><g class=\"xtick\"><text text-anchor=\"middle\" x=\"0\" y=\"433\" transform=\"translate(111.91,0)\" style=\"font-family: 'Open Sans', verdana, arial, sans-serif; font-size: 12px; fill: rgb(42, 63, 95); fill-opacity: 1; white-space: pre;\">Sep 2019</text></g><g class=\"xtick\"><text text-anchor=\"middle\" x=\"0\" y=\"433\" transform=\"translate(226.39,0)\" style=\"font-family: 'Open Sans', verdana, arial, sans-serif; font-size: 12px; fill: rgb(42, 63, 95); fill-opacity: 1; white-space: pre;\">Nov 2019</text></g><g class=\"xtick\"><text text-anchor=\"middle\" x=\"0\" y=\"433\" transform=\"translate(340.88,0)\" style=\"font-family: 'Open Sans', verdana, arial, sans-serif; font-size: 12px; fill: rgb(42, 63, 95); fill-opacity: 1; white-space: pre;\">Jan 2020</text></g><g class=\"xtick\"><text text-anchor=\"middle\" x=\"0\" y=\"433\" transform=\"translate(453.49,0)\" style=\"font-family: 'Open Sans', verdana, arial, sans-serif; font-size: 12px; fill: rgb(42, 63, 95); fill-opacity: 1; white-space: pre;\">Mar 2020</text></g><g class=\"xtick\"><text text-anchor=\"middle\" x=\"0\" y=\"433\" transform=\"translate(567.98,0)\" style=\"font-family: 'Open Sans', verdana, arial, sans-serif; font-size: 12px; fill: rgb(42, 63, 95); fill-opacity: 1; white-space: pre;\">May 2020</text></g><g class=\"xtick\"><text text-anchor=\"middle\" x=\"0\" y=\"433\" transform=\"translate(682.46,0)\" style=\"font-family: 'Open Sans', verdana, arial, sans-serif; font-size: 12px; fill: rgb(42, 63, 95); fill-opacity: 1; white-space: pre;\">Jul 2020</text></g></g><g class=\"yaxislayer-above\"><g class=\"ytick\"><text text-anchor=\"end\" x=\"79\" y=\"4.199999999999999\" transform=\"translate(0,404)\" style=\"font-family: 'Open Sans', verdana, arial, sans-serif; font-size: 12px; fill: rgb(42, 63, 95); fill-opacity: 1; white-space: pre;\">0</text></g><g class=\"ytick\"><text text-anchor=\"end\" x=\"79\" y=\"4.199999999999999\" transform=\"translate(0,358.29)\" style=\"font-family: 'Open Sans', verdana, arial, sans-serif; font-size: 12px; fill: rgb(42, 63, 95); fill-opacity: 1; white-space: pre;\">2B</text></g><g class=\"ytick\"><text text-anchor=\"end\" x=\"79\" y=\"4.199999999999999\" transform=\"translate(0,312.57)\" style=\"font-family: 'Open Sans', verdana, arial, sans-serif; font-size: 12px; fill: rgb(42, 63, 95); fill-opacity: 1; white-space: pre;\">4B</text></g><g class=\"ytick\"><text text-anchor=\"end\" x=\"79\" y=\"4.199999999999999\" transform=\"translate(0,266.86)\" style=\"font-family: 'Open Sans', verdana, arial, sans-serif; font-size: 12px; fill: rgb(42, 63, 95); fill-opacity: 1; white-space: pre;\">6B</text></g><g class=\"ytick\"><text text-anchor=\"end\" x=\"79\" y=\"4.199999999999999\" transform=\"translate(0,221.14)\" style=\"font-family: 'Open Sans', verdana, arial, sans-serif; font-size: 12px; fill: rgb(42, 63, 95); fill-opacity: 1; white-space: pre;\">8B</text></g><g class=\"ytick\"><text text-anchor=\"end\" x=\"79\" y=\"4.199999999999999\" transform=\"translate(0,175.43)\" style=\"font-family: 'Open Sans', verdana, arial, sans-serif; font-size: 12px; fill: rgb(42, 63, 95); fill-opacity: 1; white-space: pre;\">10B</text></g><g class=\"ytick\"><text text-anchor=\"end\" x=\"79\" y=\"4.199999999999999\" transform=\"translate(0,129.71)\" style=\"font-family: 'Open Sans', verdana, arial, sans-serif; font-size: 12px; fill: rgb(42, 63, 95); fill-opacity: 1; white-space: pre;\">12B</text></g></g><g class=\"overaxes-above\"/></g></g><g class=\"polarlayer\"/><g class=\"ternarylayer\"/><g class=\"geolayer\"/><g class=\"funnelarealayer\"/><g class=\"pielayer\"/><g class=\"treemaplayer\"/><g class=\"sunburstlayer\"/><g class=\"glimages\"/><defs id=\"topdefs-f81a70\"><g class=\"clips\"/></defs><g class=\"layer-above\"><g class=\"imagelayer\"/><g class=\"shapelayer\"/></g><g class=\"infolayer\"><g class=\"g-gtitle\"><text class=\"gtitle\" x=\"400\" y=\"50\" text-anchor=\"middle\" dy=\"0em\" style=\"font-family: 'Open Sans', verdana, arial, sans-serif; font-size: 17px; fill: rgb(42, 63, 95); opacity: 1; font-weight: normal; white-space: pre;\">Harmony Daily Volume Chart</text></g><g class=\"g-xtitle\"/><g class=\"g-ytitle\"><text class=\"ytitle\" transform=\"rotate(-90,30.684375000000003,260)\" x=\"30.684375000000003\" y=\"260\" text-anchor=\"middle\" style=\"font-family: 'Open Sans', verdana, arial, sans-serif; font-size: 14px; fill: rgb(42, 63, 95); opacity: 1; font-weight: normal; white-space: pre;\">Total Volume Per Day</text></g></g></svg>"
      ]
     },
     "metadata": {},
     "output_type": "display_data"
    }
   ],
   "source": [
    "volume_df = df.groupby(['date'])['volume'].sum().reset_index()\n",
    "fig = draw_graph(volume_df, 'volume', 'daily_volume', 'Daily Volume')\n",
    "fig.update_layout(yaxis_title=\"Total Volume Per Day\")\n",
    "fig.show(renderer=\"svg\",width=800, height=500)"
   ]
  },
  {
   "cell_type": "code",
   "execution_count": 26,
   "metadata": {},
   "outputs": [],
   "source": [
    "# csv_file = \"../data/volumn.csv\"\n",
    "# volumn_df = pd.read_csv(csv_file)\n",
    "# volumn_df['date'] = pd.to_datetime(volumn_df['date'], format='%Y-%m-%d')\n",
    "# fig = draw_graph(volumn_df, 'volumn', 'daily_volumn', 'Daily Volumn')\n",
    "# fig.update_layout(yaxis_title=\"Total Volumn Per Day\")\n",
    "# fig.show(renderer=\"svg\",width=800, height=500)"
   ]
  },
  {
   "cell_type": "markdown",
   "metadata": {},
   "source": [
    "## gas"
   ]
  },
  {
   "cell_type": "code",
   "execution_count": 27,
   "metadata": {},
   "outputs": [],
   "source": [
    "gas_df = df[['date','gas','gasPrice']]\n",
    "gas_df = gas_df.groupby(['date']).mean().reset_index()\n",
    "gas_df['txs_fee'] = df['gas'] * df['gasPrice'] /1e18"
   ]
  },
  {
   "cell_type": "code",
   "execution_count": 28,
   "metadata": {},
   "outputs": [],
   "source": [
    "# gas_dir  = \"../logs/gas.log\"\n",
    "# gas = read_data(gas_dir)\n",
    "# gas_df = pd.DataFrame(gas) \n",
    "# gas_df['gas'] = gas_df['gas'].apply(lambda c: int(c,16))\n",
    "# gas_df['gasPrice'] = gas_df['gasPrice'].apply(lambda c: int(c,16))\n",
    "# gas_df['timestamp'] = pd.to_datetime(gas_df['timestamp'], format = '%Y_%m_%d %H:%M:%S')\n",
    "# gas_df['date'] = gas_df['timestamp'].dt.date\n",
    "# gas_df = gas_df[['date','gas','gasPrice']]\n",
    "\n",
    "# df = gas_df.groupby(['date']).mean().reset_index()\n",
    "# df['txs_fee'] = df['gas'] * df['gasPrice'] /1e18"
   ]
  },
  {
   "cell_type": "code",
   "execution_count": 29,
   "metadata": {},
   "outputs": [
    {
     "name": "stdout",
     "output_type": "stream",
     "text": [
      "HTML saved in \n"
     ]
    },
    {
     "data": {
      "text/html": [
       "<a href='https://harmony-one.github.io/harmony-log-analysis/../graphs/transparency_report/avg_gas.html' target='_blank'>https://harmony-one.github.io/harmony-log-analysis/../graphs/transparency_report/avg_gas.html</a>"
      ],
      "text/plain": [
       "<IPython.core.display.HTML object>"
      ]
     },
     "metadata": {},
     "output_type": "display_data"
    },
    {
     "data": {
      "image/svg+xml": [
       "<svg class=\"main-svg\" xmlns=\"http://www.w3.org/2000/svg\" xmlns:xlink=\"http://www.w3.org/1999/xlink\" width=\"800\" height=\"500\" style=\"\" viewBox=\"0 0 800 500\"><rect x=\"0\" y=\"0\" width=\"800\" height=\"500\" style=\"fill: rgb(255, 255, 255); fill-opacity: 1;\"/><defs id=\"defs-8321d3\"><g class=\"clips\"><clipPath id=\"clip8321d3xyplot\" class=\"plotclip\"><rect width=\"640\" height=\"320\"/></clipPath><clipPath class=\"axesclip\" id=\"clip8321d3x\"><rect x=\"80\" y=\"0\" width=\"640\" height=\"500\"/></clipPath><clipPath class=\"axesclip\" id=\"clip8321d3y\"><rect x=\"0\" y=\"100\" width=\"800\" height=\"320\"/></clipPath><clipPath class=\"axesclip\" id=\"clip8321d3xy\"><rect x=\"80\" y=\"100\" width=\"640\" height=\"320\"/></clipPath></g><g class=\"gradients\"/></defs><g class=\"bglayer\"><rect class=\"bg\" x=\"80\" y=\"100\" width=\"640\" height=\"320\" style=\"fill: rgb(0, 0, 0); fill-opacity: 0; stroke-width: 0;\"/></g><g class=\"layer-below\"><g class=\"imagelayer\"/><g class=\"shapelayer\"/></g><g class=\"cartesianlayer\"><g class=\"subplot xy\"><g class=\"layer-subplot\"><g class=\"shapelayer\"/><g class=\"imagelayer\"/></g><g class=\"gridlayer\"><g class=\"x\"/><g class=\"y\"><path class=\"ygrid crisp\" transform=\"translate(0,344.27)\" d=\"M80,0h640\" style=\"stroke: rgb(232, 232, 232); stroke-opacity: 1; stroke-width: 1px;\"/><path class=\"ygrid crisp\" transform=\"translate(0,284.40999999999997)\" d=\"M80,0h640\" style=\"stroke: rgb(232, 232, 232); stroke-opacity: 1; stroke-width: 1px;\"/><path class=\"ygrid crisp\" transform=\"translate(0,224.55)\" d=\"M80,0h640\" style=\"stroke: rgb(232, 232, 232); stroke-opacity: 1; stroke-width: 1px;\"/><path class=\"ygrid crisp\" transform=\"translate(0,164.7)\" d=\"M80,0h640\" style=\"stroke: rgb(232, 232, 232); stroke-opacity: 1; stroke-width: 1px;\"/><path class=\"ygrid crisp\" transform=\"translate(0,104.84)\" d=\"M80,0h640\" style=\"stroke: rgb(232, 232, 232); stroke-opacity: 1; stroke-width: 1px;\"/></g></g><g class=\"zerolinelayer\"><path class=\"yzl zl crisp\" transform=\"translate(0,404.13)\" d=\"M80,0h640\" style=\"stroke: rgb(255, 255, 255); stroke-opacity: 1; stroke-width: 2px;\"/></g><path class=\"xlines-below\"/><path class=\"ylines-below\"/><g class=\"overlines-below\"/><g class=\"xaxislayer-below\"/><g class=\"yaxislayer-below\"/><g class=\"overaxes-below\"/><g class=\"plot\" transform=\"translate(80, 100)\" clip-path=\"url('#clip8321d3xyplot')\"><g class=\"scatterlayer mlayer\"><g class=\"trace scatter tracef61f1a\" style=\"stroke-miterlimit: 2; opacity: 1;\"><g class=\"fills\"/><g class=\"errorbars\"/><g class=\"lines\"><path class=\"js-line\" d=\"M0,304L80.7,304L90.09,302.09L93.84,302.87L95.72,302.87L106.98,303.21L108.86,303.77L110.73,302.87L112.61,303.25L114.49,304L116.36,302.87L120.12,303.98L123.87,302.87L125.75,302.87L127.62,303.97L129.5,301.47L133.26,302.87L135.13,304L137.01,304L148.27,304L150.15,304L153.9,303.82L155.78,16L157.65,302.53L159.53,303.99L163.28,304L165.16,301.8L167.04,303.75L168.91,304L182.05,303.92L183.93,292.29L185.81,302.79L187.68,302.87L191.44,303.97L193.31,303.61L197.07,303.37L198.94,303.99L200.82,303.97L202.7,303.09L210.21,302.87L212.08,304L217.71,303.86L219.59,283.64L221.47,303.43L223.34,303.43L227.1,303.88L228.97,302.87L232.73,304L234.6,304L247.74,304L249.62,303.18L253.37,304L255.25,303.43L257.13,304L259,303.25L260.88,302.87L262.76,304L311.55,303.98L313.43,297.81L317.18,300.59L319.06,286.04L320.94,304L322.82,303.99L328.45,303.58L330.32,304L446.69,303.93L448.56,302.94L450.44,303.79L452.32,303.74L457.95,303.88L459.82,302.5L461.7,297.99L463.58,303.86L465.45,303.89L467.33,297.8L469.21,302.24L471.09,303.87L474.84,303.71L476.72,294.21L478.59,303.98L480.47,303.46L484.22,303.98L486.1,303.97L493.61,303.99L495.48,303.26L501.11,303.96L502.99,302.96L504.87,303.9L506.74,303.95L523.64,303.93L525.51,302.73L527.39,303.88L529.27,303.89L548.04,303.73L549.91,303.03L555.54,303.87L557.42,303.53L559.3,303.48L561.17,301.44L563.05,303.43L564.93,303.38L574.31,303.49L576.19,303.59L581.82,303.25L583.7,301.07L587.45,303.41L589.33,303.47L591.2,301.02L593.08,247.92L594.96,290.61L596.83,301.09L598.71,285.05L600.59,256.52L602.46,301.3L604.34,299.35L606.22,301.4L608.09,301.06L615.6,302.49L617.48,301.73L619.35,302.06L621.23,301.51L624.99,301.92L626.86,302.1L636.25,302.06L638.12,302.28L640,302.25\" style=\"vector-effect: non-scaling-stroke; fill: none; stroke: rgb(153, 214, 255); stroke-opacity: 1; stroke-width: 2px; opacity: 1;\"/></g><g class=\"points\"/><g class=\"text\"/></g></g></g><g class=\"overplot\"/><path class=\"xlines-above crisp\" d=\"M0,0\" style=\"fill: none;\"/><path class=\"ylines-above crisp\" d=\"M0,0\" style=\"fill: none;\"/><g class=\"overlines-above\"/><g class=\"xaxislayer-above\"><g class=\"xtick\"><text text-anchor=\"middle\" x=\"0\" y=\"433\" transform=\"translate(111.91,0)\" style=\"font-family: 'Open Sans', verdana, arial, sans-serif; font-size: 12px; fill: rgb(42, 63, 95); fill-opacity: 1; white-space: pre;\">Sep 2019</text></g><g class=\"xtick\"><text text-anchor=\"middle\" x=\"0\" y=\"433\" transform=\"translate(226.39,0)\" style=\"font-family: 'Open Sans', verdana, arial, sans-serif; font-size: 12px; fill: rgb(42, 63, 95); fill-opacity: 1; white-space: pre;\">Nov 2019</text></g><g class=\"xtick\"><text text-anchor=\"middle\" x=\"0\" y=\"433\" transform=\"translate(340.88,0)\" style=\"font-family: 'Open Sans', verdana, arial, sans-serif; font-size: 12px; fill: rgb(42, 63, 95); fill-opacity: 1; white-space: pre;\">Jan 2020</text></g><g class=\"xtick\"><text text-anchor=\"middle\" x=\"0\" y=\"433\" transform=\"translate(453.49,0)\" style=\"font-family: 'Open Sans', verdana, arial, sans-serif; font-size: 12px; fill: rgb(42, 63, 95); fill-opacity: 1; white-space: pre;\">Mar 2020</text></g><g class=\"xtick\"><text text-anchor=\"middle\" x=\"0\" y=\"433\" transform=\"translate(567.98,0)\" style=\"font-family: 'Open Sans', verdana, arial, sans-serif; font-size: 12px; fill: rgb(42, 63, 95); fill-opacity: 1; white-space: pre;\">May 2020</text></g><g class=\"xtick\"><text text-anchor=\"middle\" x=\"0\" y=\"433\" transform=\"translate(682.46,0)\" style=\"font-family: 'Open Sans', verdana, arial, sans-serif; font-size: 12px; fill: rgb(42, 63, 95); fill-opacity: 1; white-space: pre;\">Jul 2020</text></g></g><g class=\"yaxislayer-above\"><g class=\"ytick\"><text text-anchor=\"end\" x=\"79\" y=\"4.199999999999999\" transform=\"translate(0,404.13)\" style=\"font-family: 'Open Sans', verdana, arial, sans-serif; font-size: 12px; fill: rgb(42, 63, 95); fill-opacity: 1; white-space: pre;\">0</text></g><g class=\"ytick\"><text text-anchor=\"end\" x=\"79\" y=\"4.199999999999999\" transform=\"translate(0,344.27)\" style=\"font-family: 'Open Sans', verdana, arial, sans-serif; font-size: 12px; fill: rgb(42, 63, 95); fill-opacity: 1; white-space: pre;\">10M</text></g><g class=\"ytick\"><text text-anchor=\"end\" x=\"79\" y=\"4.199999999999999\" transform=\"translate(0,284.40999999999997)\" style=\"font-family: 'Open Sans', verdana, arial, sans-serif; font-size: 12px; fill: rgb(42, 63, 95); fill-opacity: 1; white-space: pre;\">20M</text></g><g class=\"ytick\"><text text-anchor=\"end\" x=\"79\" y=\"4.199999999999999\" transform=\"translate(0,224.55)\" style=\"font-family: 'Open Sans', verdana, arial, sans-serif; font-size: 12px; fill: rgb(42, 63, 95); fill-opacity: 1; white-space: pre;\">30M</text></g><g class=\"ytick\"><text text-anchor=\"end\" x=\"79\" y=\"4.199999999999999\" transform=\"translate(0,164.7)\" style=\"font-family: 'Open Sans', verdana, arial, sans-serif; font-size: 12px; fill: rgb(42, 63, 95); fill-opacity: 1; white-space: pre;\">40M</text></g><g class=\"ytick\"><text text-anchor=\"end\" x=\"79\" y=\"4.199999999999999\" transform=\"translate(0,104.84)\" style=\"font-family: 'Open Sans', verdana, arial, sans-serif; font-size: 12px; fill: rgb(42, 63, 95); fill-opacity: 1; white-space: pre;\">50M</text></g></g><g class=\"overaxes-above\"/></g></g><g class=\"polarlayer\"/><g class=\"ternarylayer\"/><g class=\"geolayer\"/><g class=\"funnelarealayer\"/><g class=\"pielayer\"/><g class=\"treemaplayer\"/><g class=\"sunburstlayer\"/><g class=\"glimages\"/><defs id=\"topdefs-8321d3\"><g class=\"clips\"/></defs><g class=\"layer-above\"><g class=\"imagelayer\"/><g class=\"shapelayer\"/></g><g class=\"infolayer\"><g class=\"g-gtitle\"><text class=\"gtitle\" x=\"400\" y=\"50\" text-anchor=\"middle\" dy=\"0em\" style=\"font-family: 'Open Sans', verdana, arial, sans-serif; font-size: 17px; fill: rgb(42, 63, 95); opacity: 1; font-weight: normal; white-space: pre;\">Harmony Average Gas Chart</text></g><g class=\"g-xtitle\"/><g class=\"g-ytitle\"><text class=\"ytitle\" transform=\"rotate(-90,28.575000000000003,260)\" x=\"28.575000000000003\" y=\"260\" text-anchor=\"middle\" style=\"font-family: 'Open Sans', verdana, arial, sans-serif; font-size: 14px; fill: rgb(42, 63, 95); opacity: 1; font-weight: normal; white-space: pre;\">Gas in nano</text></g></g></svg>"
      ]
     },
     "metadata": {},
     "output_type": "display_data"
    }
   ],
   "source": [
    "fig = draw_graph(gas_df, 'gas','avg_gas', 'Average Gas')\n",
    "fig.update_layout(yaxis_title=\"Gas in nano\")\n",
    "fig.show(renderer=\"svg\",width=800, height=500)"
   ]
  },
  {
   "cell_type": "markdown",
   "metadata": {},
   "source": [
    "## gas price"
   ]
  },
  {
   "cell_type": "code",
   "execution_count": 30,
   "metadata": {},
   "outputs": [
    {
     "name": "stdout",
     "output_type": "stream",
     "text": [
      "HTML saved in \n"
     ]
    },
    {
     "data": {
      "text/html": [
       "<a href='https://harmony-one.github.io/harmony-log-analysis/../graphs/transparency_report/avg_gasPrice.html' target='_blank'>https://harmony-one.github.io/harmony-log-analysis/../graphs/transparency_report/avg_gasPrice.html</a>"
      ],
      "text/plain": [
       "<IPython.core.display.HTML object>"
      ]
     },
     "metadata": {},
     "output_type": "display_data"
    },
    {
     "data": {
      "image/svg+xml": [
       "<svg class=\"main-svg\" xmlns=\"http://www.w3.org/2000/svg\" xmlns:xlink=\"http://www.w3.org/1999/xlink\" width=\"800\" height=\"500\" style=\"\" viewBox=\"0 0 800 500\"><rect x=\"0\" y=\"0\" width=\"800\" height=\"500\" style=\"fill: rgb(255, 255, 255); fill-opacity: 1;\"/><defs id=\"defs-26b879\"><g class=\"clips\"><clipPath id=\"clip26b879xyplot\" class=\"plotclip\"><rect width=\"640\" height=\"320\"/></clipPath><clipPath class=\"axesclip\" id=\"clip26b879x\"><rect x=\"80\" y=\"0\" width=\"640\" height=\"500\"/></clipPath><clipPath class=\"axesclip\" id=\"clip26b879y\"><rect x=\"0\" y=\"100\" width=\"800\" height=\"320\"/></clipPath><clipPath class=\"axesclip\" id=\"clip26b879xy\"><rect x=\"80\" y=\"100\" width=\"640\" height=\"320\"/></clipPath></g><g class=\"gradients\"/></defs><g class=\"bglayer\"><rect class=\"bg\" x=\"80\" y=\"100\" width=\"640\" height=\"320\" style=\"fill: rgb(0, 0, 0); fill-opacity: 0; stroke-width: 0;\"/></g><g class=\"layer-below\"><g class=\"imagelayer\"/><g class=\"shapelayer\"/></g><g class=\"cartesianlayer\"><g class=\"subplot xy\"><g class=\"layer-subplot\"><g class=\"shapelayer\"/><g class=\"imagelayer\"/></g><g class=\"gridlayer\"><g class=\"x\"/><g class=\"y\"><path class=\"ygrid crisp\" transform=\"translate(0,347.13)\" d=\"M80,0h640\" style=\"stroke: rgb(232, 232, 232); stroke-opacity: 1; stroke-width: 1px;\"/><path class=\"ygrid crisp\" transform=\"translate(0,290.26)\" d=\"M80,0h640\" style=\"stroke: rgb(232, 232, 232); stroke-opacity: 1; stroke-width: 1px;\"/><path class=\"ygrid crisp\" transform=\"translate(0,233.38)\" d=\"M80,0h640\" style=\"stroke: rgb(232, 232, 232); stroke-opacity: 1; stroke-width: 1px;\"/><path class=\"ygrid crisp\" transform=\"translate(0,176.51)\" d=\"M80,0h640\" style=\"stroke: rgb(232, 232, 232); stroke-opacity: 1; stroke-width: 1px;\"/><path class=\"ygrid crisp\" transform=\"translate(0,119.64)\" d=\"M80,0h640\" style=\"stroke: rgb(232, 232, 232); stroke-opacity: 1; stroke-width: 1px;\"/></g></g><g class=\"zerolinelayer\"><path class=\"yzl zl crisp\" transform=\"translate(0,404)\" d=\"M80,0h640\" style=\"stroke: rgb(255, 255, 255); stroke-opacity: 1; stroke-width: 2px;\"/></g><path class=\"xlines-below\"/><path class=\"ylines-below\"/><g class=\"overlines-below\"/><g class=\"xaxislayer-below\"/><g class=\"yaxislayer-below\"/><g class=\"overaxes-below\"/><g class=\"plot\" transform=\"translate(80, 100)\" clip-path=\"url('#clip26b879xyplot')\"><g class=\"scatterlayer mlayer\"><g class=\"trace scatter trace5df3d5\" style=\"stroke-miterlimit: 2; opacity: 1;\"><g class=\"fills\"/><g class=\"errorbars\"/><g class=\"lines\"><path class=\"js-line\" d=\"M0,304L54.43,303.99L60.06,302.7L65.69,304L67.57,302.29L69.44,304L73.2,299.45L76.95,304L78.83,303.63L80.7,303.86L90.09,299.66L91.96,302.86L93.84,302.86L106.98,302.84L108.86,303.61L110.73,302.86L112.61,303.17L114.49,304L116.36,302.86L120.12,300.21L123.87,302.86L125.75,302.86L127.62,299.45L129.5,303.92L133.26,302.86L137.01,303.89L138.89,300.78L140.76,302.78L142.64,302.78L148.27,303.89L150.15,303.25L153.9,301.23L155.78,299.28L157.65,303.85L159.53,303.27L165.16,303.77L167.04,301.36L168.91,303.89L170.79,303.89L172.67,300.53L174.55,303.89L180.18,304L182.05,300.27L183.93,303.25L185.81,302.53L187.68,302.86L189.56,298.65L191.44,302.99L193.31,297.93L195.19,273.75L197.07,16L198.94,304L200.82,299.45L202.7,293.99L204.57,294.5L206.45,297.45L208.33,303.9L213.96,303.89L215.84,301.44L217.71,303.9L219.59,303.89L227.1,303.9L228.97,302.86L230.85,303.82L232.73,303.9L236.48,303.89L238.36,302.26L242.11,303.72L243.99,301.04L245.87,300.56L247.74,303.89L249.62,296.1L251.5,303.93L257.13,304L259,296.42L260.88,302.86L262.76,303.89L270.26,300.86L272.14,302.81L274.02,302.88L275.89,303.97L277.77,303.61L279.65,301.67L281.52,299.45L283.4,303.77L285.28,302.71L287.16,303.69L289.03,302.73L290.91,303.69L294.66,304L296.54,301.96L298.42,303.05L300.29,303.22L302.17,302.85L304.05,303.89L307.8,303.91L309.68,303.05L315.31,303.76L317.18,303.22L319.06,303.71L320.94,303.29L322.82,302.69L324.69,83.48L326.57,303.57L328.45,303.23L332.2,303.9L334.08,302.79L335.95,303.89L337.83,302.95L339.71,301.67L341.58,303.56L343.46,303.81L345.34,303.22L347.21,303.89L349.09,303.61L350.97,303.55L352.84,245.76L354.72,303.52L356.6,303.27L360.35,303.89L362.23,303.84L364.11,303.86L365.98,303.02L369.74,303.81L371.61,303.83L377.24,303.45L379.12,303.8L390.38,303.57L392.26,303.6L401.64,303.85L403.52,303.88L450.44,303.4L452.32,301.71L456.07,303.66L457.95,303.9L459.82,303.63L461.7,302.25L465.45,303.89L467.33,303.64L471.09,303.71L472.96,301.98L474.84,301.99L476.72,303.41L480.47,303.63L482.35,303.82L506.74,303.75L508.62,303.86L512.38,303.83L514.25,302.75L518.01,303.75L519.88,303.69L531.14,303.85L533.02,303.72L548.04,303.7L549.91,303.49L613.72,303.21L615.6,299.39L617.48,303.34L619.35,303.4L640,303.51\" style=\"vector-effect: non-scaling-stroke; fill: none; stroke: rgb(153, 214, 255); stroke-opacity: 1; stroke-width: 2px; opacity: 1;\"/></g><g class=\"points\"/><g class=\"text\"/></g></g></g><g class=\"overplot\"/><path class=\"xlines-above crisp\" d=\"M0,0\" style=\"fill: none;\"/><path class=\"ylines-above crisp\" d=\"M0,0\" style=\"fill: none;\"/><g class=\"overlines-above\"/><g class=\"xaxislayer-above\"><g class=\"xtick\"><text text-anchor=\"middle\" x=\"0\" y=\"433\" transform=\"translate(111.91,0)\" style=\"font-family: 'Open Sans', verdana, arial, sans-serif; font-size: 12px; fill: rgb(42, 63, 95); fill-opacity: 1; white-space: pre;\">Sep 2019</text></g><g class=\"xtick\"><text text-anchor=\"middle\" x=\"0\" y=\"433\" transform=\"translate(226.39,0)\" style=\"font-family: 'Open Sans', verdana, arial, sans-serif; font-size: 12px; fill: rgb(42, 63, 95); fill-opacity: 1; white-space: pre;\">Nov 2019</text></g><g class=\"xtick\"><text text-anchor=\"middle\" x=\"0\" y=\"433\" transform=\"translate(340.88,0)\" style=\"font-family: 'Open Sans', verdana, arial, sans-serif; font-size: 12px; fill: rgb(42, 63, 95); fill-opacity: 1; white-space: pre;\">Jan 2020</text></g><g class=\"xtick\"><text text-anchor=\"middle\" x=\"0\" y=\"433\" transform=\"translate(453.49,0)\" style=\"font-family: 'Open Sans', verdana, arial, sans-serif; font-size: 12px; fill: rgb(42, 63, 95); fill-opacity: 1; white-space: pre;\">Mar 2020</text></g><g class=\"xtick\"><text text-anchor=\"middle\" x=\"0\" y=\"433\" transform=\"translate(567.98,0)\" style=\"font-family: 'Open Sans', verdana, arial, sans-serif; font-size: 12px; fill: rgb(42, 63, 95); fill-opacity: 1; white-space: pre;\">May 2020</text></g><g class=\"xtick\"><text text-anchor=\"middle\" x=\"0\" y=\"433\" transform=\"translate(682.46,0)\" style=\"font-family: 'Open Sans', verdana, arial, sans-serif; font-size: 12px; fill: rgb(42, 63, 95); fill-opacity: 1; white-space: pre;\">Jul 2020</text></g></g><g class=\"yaxislayer-above\"><g class=\"ytick\"><text text-anchor=\"end\" x=\"79\" y=\"4.199999999999999\" transform=\"translate(0,404)\" style=\"font-family: 'Open Sans', verdana, arial, sans-serif; font-size: 12px; fill: rgb(42, 63, 95); fill-opacity: 1; white-space: pre;\">0</text></g><g class=\"ytick\"><text text-anchor=\"end\" x=\"79\" y=\"4.199999999999999\" transform=\"translate(0,347.13)\" style=\"font-family: 'Open Sans', verdana, arial, sans-serif; font-size: 12px; fill: rgb(42, 63, 95); fill-opacity: 1; white-space: pre;\">0.5T</text></g><g class=\"ytick\"><text text-anchor=\"end\" x=\"79\" y=\"4.199999999999999\" transform=\"translate(0,290.26)\" style=\"font-family: 'Open Sans', verdana, arial, sans-serif; font-size: 12px; fill: rgb(42, 63, 95); fill-opacity: 1; white-space: pre;\">1T</text></g><g class=\"ytick\"><text text-anchor=\"end\" x=\"79\" y=\"4.199999999999999\" transform=\"translate(0,233.38)\" style=\"font-family: 'Open Sans', verdana, arial, sans-serif; font-size: 12px; fill: rgb(42, 63, 95); fill-opacity: 1; white-space: pre;\">1.5T</text></g><g class=\"ytick\"><text text-anchor=\"end\" x=\"79\" y=\"4.199999999999999\" transform=\"translate(0,176.51)\" style=\"font-family: 'Open Sans', verdana, arial, sans-serif; font-size: 12px; fill: rgb(42, 63, 95); fill-opacity: 1; white-space: pre;\">2T</text></g><g class=\"ytick\"><text text-anchor=\"end\" x=\"79\" y=\"4.199999999999999\" transform=\"translate(0,119.64)\" style=\"font-family: 'Open Sans', verdana, arial, sans-serif; font-size: 12px; fill: rgb(42, 63, 95); fill-opacity: 1; white-space: pre;\">2.5T</text></g></g><g class=\"overaxes-above\"/></g></g><g class=\"polarlayer\"/><g class=\"ternarylayer\"/><g class=\"geolayer\"/><g class=\"funnelarealayer\"/><g class=\"pielayer\"/><g class=\"treemaplayer\"/><g class=\"sunburstlayer\"/><g class=\"glimages\"/><defs id=\"topdefs-26b879\"><g class=\"clips\"/></defs><g class=\"layer-above\"><g class=\"imagelayer\"/><g class=\"shapelayer\"/></g><g class=\"infolayer\"><g class=\"g-gtitle\"><text class=\"gtitle\" x=\"400\" y=\"50\" text-anchor=\"middle\" dy=\"0em\" style=\"font-family: 'Open Sans', verdana, arial, sans-serif; font-size: 17px; fill: rgb(42, 63, 95); opacity: 1; font-weight: normal; white-space: pre;\">Harmony Average Gas Price Chart</text></g><g class=\"g-xtitle\"/><g class=\"g-ytitle\"><text class=\"ytitle\" transform=\"rotate(-90,27.778125000000003,260)\" x=\"27.778125000000003\" y=\"260\" text-anchor=\"middle\" style=\"font-family: 'Open Sans', verdana, arial, sans-serif; font-size: 14px; fill: rgb(42, 63, 95); opacity: 1; font-weight: normal; white-space: pre;\">Gas Price in nano</text></g></g></svg>"
      ]
     },
     "metadata": {},
     "output_type": "display_data"
    }
   ],
   "source": [
    "fig = draw_graph(gas_df, 'gasPrice','avg_gasPrice', 'Average Gas Price')\n",
    "fig.update_layout(yaxis_title=\"Gas Price in nano\")\n",
    "fig.show(renderer=\"svg\",width=800, height=500)"
   ]
  },
  {
   "cell_type": "markdown",
   "metadata": {},
   "source": [
    "## transaction fee"
   ]
  },
  {
   "cell_type": "code",
   "execution_count": 31,
   "metadata": {},
   "outputs": [
    {
     "name": "stdout",
     "output_type": "stream",
     "text": [
      "HTML saved in \n"
     ]
    },
    {
     "data": {
      "text/html": [
       "<a href='https://harmony-one.github.io/harmony-log-analysis/../graphs/transparency_report/avg_txs_fee.html' target='_blank'>https://harmony-one.github.io/harmony-log-analysis/../graphs/transparency_report/avg_txs_fee.html</a>"
      ],
      "text/plain": [
       "<IPython.core.display.HTML object>"
      ]
     },
     "metadata": {},
     "output_type": "display_data"
    },
    {
     "data": {
      "image/svg+xml": [
       "<svg class=\"main-svg\" xmlns=\"http://www.w3.org/2000/svg\" xmlns:xlink=\"http://www.w3.org/1999/xlink\" width=\"800\" height=\"500\" style=\"\" viewBox=\"0 0 800 500\"><rect x=\"0\" y=\"0\" width=\"800\" height=\"500\" style=\"fill: rgb(255, 255, 255); fill-opacity: 1;\"/><defs id=\"defs-e62a61\"><g class=\"clips\"><clipPath id=\"clipe62a61xyplot\" class=\"plotclip\"><rect width=\"640\" height=\"320\"/></clipPath><clipPath class=\"axesclip\" id=\"clipe62a61x\"><rect x=\"80\" y=\"0\" width=\"640\" height=\"500\"/></clipPath><clipPath class=\"axesclip\" id=\"clipe62a61y\"><rect x=\"0\" y=\"100\" width=\"800\" height=\"320\"/></clipPath><clipPath class=\"axesclip\" id=\"clipe62a61xy\"><rect x=\"80\" y=\"100\" width=\"640\" height=\"320\"/></clipPath></g><g class=\"gradients\"/></defs><g class=\"bglayer\"><rect class=\"bg\" x=\"80\" y=\"100\" width=\"640\" height=\"320\" style=\"fill: rgb(0, 0, 0); fill-opacity: 0; stroke-width: 0;\"/></g><g class=\"layer-below\"><g class=\"imagelayer\"/><g class=\"shapelayer\"/></g><g class=\"cartesianlayer\"><g class=\"subplot xy\"><g class=\"layer-subplot\"><g class=\"shapelayer\"/><g class=\"imagelayer\"/></g><g class=\"gridlayer\"><g class=\"x\"/><g class=\"y\"><path class=\"ygrid crisp\" transform=\"translate(0,346.4)\" d=\"M80,0h640\" style=\"stroke: rgb(232, 232, 232); stroke-opacity: 1; stroke-width: 1px;\"/><path class=\"ygrid crisp\" transform=\"translate(0,288.8)\" d=\"M80,0h640\" style=\"stroke: rgb(232, 232, 232); stroke-opacity: 1; stroke-width: 1px;\"/><path class=\"ygrid crisp\" transform=\"translate(0,231.2)\" d=\"M80,0h640\" style=\"stroke: rgb(232, 232, 232); stroke-opacity: 1; stroke-width: 1px;\"/><path class=\"ygrid crisp\" transform=\"translate(0,173.6)\" d=\"M80,0h640\" style=\"stroke: rgb(232, 232, 232); stroke-opacity: 1; stroke-width: 1px;\"/><path class=\"ygrid crisp\" transform=\"translate(0,116)\" d=\"M80,0h640\" style=\"stroke: rgb(232, 232, 232); stroke-opacity: 1; stroke-width: 1px;\"/></g></g><g class=\"zerolinelayer\"><path class=\"yzl zl crisp\" transform=\"translate(0,404)\" d=\"M80,0h640\" style=\"stroke: rgb(255, 255, 255); stroke-opacity: 1; stroke-width: 2px;\"/></g><path class=\"xlines-below\"/><path class=\"ylines-below\"/><g class=\"overlines-below\"/><g class=\"xaxislayer-below\"/><g class=\"yaxislayer-below\"/><g class=\"overaxes-below\"/><g class=\"plot\" transform=\"translate(80, 100)\" clip-path=\"url('#clipe62a61xyplot')\"><g class=\"scatterlayer mlayer\"><g class=\"trace scatter trace9a9f39\" style=\"stroke-miterlimit: 2; opacity: 1;\"><g class=\"fills\"/><g class=\"errorbars\"/><g class=\"lines\"><path class=\"js-line\" d=\"M0,16L39.41,16L41.29,303.4L60.06,303.4L63.81,16L65.69,16L67.57,297.95L80.7,297.95L90.09,303.4L93.84,303.4L95.72,297.95L97.6,297.95L99.47,16L101.35,16L103.23,303.4L106.98,303.4L108.86,16L110.73,16L112.61,297.95L114.49,297.95L116.36,16L125.75,16L127.62,304L129.5,304L133.26,16L138.89,16L140.76,303.4L142.64,16L144.52,16L146.39,16L148.27,303.4L163.28,303.4L165.16,16L170.79,16L172.67,303.4L176.42,303.4L178.3,16L185.81,16L187.68,303.4L189.56,303.4L191.44,297.95L197.07,297.95L198.94,303.4L200.82,303.4L202.7,16L204.57,16L206.45,289.48L208.33,289.48L210.21,16L219.59,16L221.47,303.4L228.97,303.4L230.85,297.95L232.73,297.95L234.6,16L236.48,16L238.36,303.4L242.11,303.4L243.99,16L249.62,16L251.5,303.4L257.13,303.4L259,16L262.76,16L270.26,303.4L275.89,303.4L277.77,16L283.4,16L285.28,303.4L287.16,303.4L289.03,16L290.91,16L292.79,303.4L294.66,303.4L296.54,16L298.42,16L300.29,303.4L302.17,303.4L304.05,16L305.92,16L307.8,303.4L309.68,303.4L311.55,16L313.43,16L315.31,303.4L322.82,303.4L324.69,16L328.45,16L330.32,303.4L337.83,303.4L339.71,16L341.58,16L343.46,303.4L345.34,303.4L347.21,297.95L350.97,297.95L352.84,16L354.72,16L356.6,303.4L364.11,303.4L365.98,16L371.61,16L373.49,303.4L375.37,303.4L377.24,16L379.12,16L381,303.4L390.38,303.4L392.26,16L397.89,16L399.77,297.95L405.4,297.95L407.27,16L409.15,16L411.03,297.95L412.9,297.95L414.78,16L416.66,297.95L418.53,16L420.41,297.95L422.29,16L427.92,16L429.79,297.95L431.67,297.95L433.55,303.4L435.43,303.4L437.3,16L439.18,16L441.06,297.95L442.93,297.95L444.81,303.4L446.69,303.4L448.56,243.52L487.98,243.52L489.85,16L491.73,16L493.61,243.52L557.42,243.52L559.3,16L561.17,243.52L563.05,16L564.93,243.52L566.8,243.52L623.11,243.52L624.99,16L626.86,16L628.74,243.52L640,243.52\" style=\"vector-effect: non-scaling-stroke; fill: none; stroke: rgb(153, 214, 255); stroke-opacity: 1; stroke-width: 2px; opacity: 1;\"/></g><g class=\"points\"/><g class=\"text\"/></g></g></g><g class=\"overplot\"/><path class=\"xlines-above crisp\" d=\"M0,0\" style=\"fill: none;\"/><path class=\"ylines-above crisp\" d=\"M0,0\" style=\"fill: none;\"/><g class=\"overlines-above\"/><g class=\"xaxislayer-above\"><g class=\"xtick\"><text text-anchor=\"middle\" x=\"0\" y=\"433\" transform=\"translate(111.91,0)\" style=\"font-family: 'Open Sans', verdana, arial, sans-serif; font-size: 12px; fill: rgb(42, 63, 95); fill-opacity: 1; white-space: pre;\">Sep 2019</text></g><g class=\"xtick\"><text text-anchor=\"middle\" x=\"0\" y=\"433\" transform=\"translate(226.39,0)\" style=\"font-family: 'Open Sans', verdana, arial, sans-serif; font-size: 12px; fill: rgb(42, 63, 95); fill-opacity: 1; white-space: pre;\">Nov 2019</text></g><g class=\"xtick\"><text text-anchor=\"middle\" x=\"0\" y=\"433\" transform=\"translate(340.88,0)\" style=\"font-family: 'Open Sans', verdana, arial, sans-serif; font-size: 12px; fill: rgb(42, 63, 95); fill-opacity: 1; white-space: pre;\">Jan 2020</text></g><g class=\"xtick\"><text text-anchor=\"middle\" x=\"0\" y=\"433\" transform=\"translate(453.49,0)\" style=\"font-family: 'Open Sans', verdana, arial, sans-serif; font-size: 12px; fill: rgb(42, 63, 95); fill-opacity: 1; white-space: pre;\">Mar 2020</text></g><g class=\"xtick\"><text text-anchor=\"middle\" x=\"0\" y=\"433\" transform=\"translate(567.98,0)\" style=\"font-family: 'Open Sans', verdana, arial, sans-serif; font-size: 12px; fill: rgb(42, 63, 95); fill-opacity: 1; white-space: pre;\">May 2020</text></g><g class=\"xtick\"><text text-anchor=\"middle\" x=\"0\" y=\"433\" transform=\"translate(682.46,0)\" style=\"font-family: 'Open Sans', verdana, arial, sans-serif; font-size: 12px; fill: rgb(42, 63, 95); fill-opacity: 1; white-space: pre;\">Jul 2020</text></g></g><g class=\"yaxislayer-above\"><g class=\"ytick\"><text text-anchor=\"end\" x=\"79\" y=\"4.199999999999999\" transform=\"translate(0,404)\" style=\"font-family: 'Open Sans', verdana, arial, sans-serif; font-size: 12px; fill: rgb(42, 63, 95); fill-opacity: 1; white-space: pre;\">0</text></g><g class=\"ytick\"><text text-anchor=\"end\" x=\"79\" y=\"4.199999999999999\" transform=\"translate(0,346.4)\" style=\"font-family: 'Open Sans', verdana, arial, sans-serif; font-size: 12px; fill: rgb(42, 63, 95); fill-opacity: 1; white-space: pre;\">0.002</text></g><g class=\"ytick\"><text text-anchor=\"end\" x=\"79\" y=\"4.199999999999999\" transform=\"translate(0,288.8)\" style=\"font-family: 'Open Sans', verdana, arial, sans-serif; font-size: 12px; fill: rgb(42, 63, 95); fill-opacity: 1; white-space: pre;\">0.004</text></g><g class=\"ytick\"><text text-anchor=\"end\" x=\"79\" y=\"4.199999999999999\" transform=\"translate(0,231.2)\" style=\"font-family: 'Open Sans', verdana, arial, sans-serif; font-size: 12px; fill: rgb(42, 63, 95); fill-opacity: 1; white-space: pre;\">0.006</text></g><g class=\"ytick\"><text text-anchor=\"end\" x=\"79\" y=\"4.199999999999999\" transform=\"translate(0,173.6)\" style=\"font-family: 'Open Sans', verdana, arial, sans-serif; font-size: 12px; fill: rgb(42, 63, 95); fill-opacity: 1; white-space: pre;\">0.008</text></g><g class=\"ytick\"><text text-anchor=\"end\" x=\"79\" y=\"4.199999999999999\" transform=\"translate(0,116)\" style=\"font-family: 'Open Sans', verdana, arial, sans-serif; font-size: 12px; fill: rgb(42, 63, 95); fill-opacity: 1; white-space: pre;\">0.01</text></g></g><g class=\"overaxes-above\"/></g></g><g class=\"polarlayer\"/><g class=\"ternarylayer\"/><g class=\"geolayer\"/><g class=\"funnelarealayer\"/><g class=\"pielayer\"/><g class=\"treemaplayer\"/><g class=\"sunburstlayer\"/><g class=\"glimages\"/><defs id=\"topdefs-e62a61\"><g class=\"clips\"/></defs><g class=\"layer-above\"><g class=\"imagelayer\"/><g class=\"shapelayer\"/></g><g class=\"infolayer\"><g class=\"g-gtitle\"><text class=\"gtitle\" x=\"400\" y=\"50\" text-anchor=\"middle\" dy=\"0em\" style=\"font-family: 'Open Sans', verdana, arial, sans-serif; font-size: 17px; fill: rgb(42, 63, 95); opacity: 1; font-weight: normal; white-space: pre;\">Harmony Average Transaction Fee Chart</text></g><g class=\"g-xtitle\"/><g class=\"g-ytitle\"><text class=\"ytitle\" transform=\"rotate(-90,19.840625000000003,260)\" x=\"19.840625000000003\" y=\"260\" text-anchor=\"middle\" style=\"font-family: 'Open Sans', verdana, arial, sans-serif; font-size: 14px; fill: rgb(42, 63, 95); opacity: 1; font-weight: normal; white-space: pre;\">Daily Average Transaction Fee in ONE</text></g></g></svg>"
      ]
     },
     "metadata": {},
     "output_type": "display_data"
    }
   ],
   "source": [
    "fig = draw_graph(gas_df, 'txs_fee','avg_txs_fee', 'Average Transaction Fee')\n",
    "fig.update_layout(yaxis_title=\"Daily Average Transaction Fee in ONE\")\n",
    "fig.show(renderer=\"svg\",width=800, height=500)"
   ]
  }
 ],
 "metadata": {
  "kernelspec": {
   "display_name": "Python 3",
   "language": "python",
   "name": "python3"
  },
  "language_info": {
   "codemirror_mode": {
    "name": "ipython",
    "version": 3
   },
   "file_extension": ".py",
   "mimetype": "text/x-python",
   "name": "python",
   "nbconvert_exporter": "python",
   "pygments_lexer": "ipython3",
   "version": "3.6.9"
  }
 },
 "nbformat": 4,
 "nbformat_minor": 4
}
