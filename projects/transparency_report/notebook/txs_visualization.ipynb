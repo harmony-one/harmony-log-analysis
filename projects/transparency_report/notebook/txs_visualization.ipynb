{
 "cells": [
  {
   "cell_type": "code",
   "execution_count": 1,
   "metadata": {},
   "outputs": [],
   "source": [
    "import requests\n",
    "import json\n",
    "import pandas as pd\n",
    "import plotly.express as px \n",
    "import plotly.graph_objects as go\n",
    "from IPython.core.display import display, HTML\n",
    "import os\n",
    "from os import path"
   ]
  },
  {
   "cell_type": "code",
   "execution_count": 2,
   "metadata": {},
   "outputs": [],
   "source": [
    "html_dir = \"../../../docs/graphs/transparency_report/\"\n",
    "if not path.exists(html_dir):\n",
    "    try:\n",
    "        os.makedirs(html_dir)\n",
    "    except:\n",
    "        print(\"Could not make directory\")\n",
    "        exit(1)"
   ]
  },
  {
   "cell_type": "code",
   "execution_count": 3,
   "metadata": {},
   "outputs": [],
   "source": [
    "def is_json(myjson):\n",
    "    try:\n",
    "        json_object = json.loads(myjson)\n",
    "    except ValueError as e:\n",
    "        return False\n",
    "    return True\n",
    "\n",
    "def read_data(path):\n",
    "    data = []\n",
    "    with open(path, errors='ignore') as f:\n",
    "        for line in f.readlines():\n",
    "            try: \n",
    "                if not is_json(line):\n",
    "                    continue\n",
    "                data.append(json.loads(line))\n",
    "            except:\n",
    "                print('bad json: ', line)\n",
    "    return data\n",
    "\n",
    "def get_data(link, feature):\n",
    "    res = requests.get(link)\n",
    "    data = json.loads(res.content)\n",
    "    df = pd.DataFrame(data.items(), columns=['date', feature])  \n",
    "    \n",
    "    return df\n",
    "\n",
    "def draw_graph(df, feature, name, title):\n",
    "    html_path = \"https://harmony-one.github.io/harmony-log-analysis/\" + html_dir.replace(\"../../docs/\", \"\")\n",
    "\n",
    "    fig = px.line(df, x='date', y=feature, color_discrete_sequence = ['#99d6ff'], title = 'Harmony {} Chart'.format(title))\n",
    "    fig.update_xaxes({'showgrid': False, 'showspikes': True, 'title': None})\n",
    "    fig.update_yaxes({'gridcolor': \"#E8E8E8\"})\n",
    "    fig.update_layout({'plot_bgcolor':'rgba(0,0,0,0)', \"title_x\": 0.5, 'hovermode': 'closest'})\n",
    "#     fig.show(renderer=\"svg\",width=800, height=500)\n",
    "    fig.write_html(\"{:s}{:s}.html\".format(html_dir, name))\n",
    "    print(\"HTML saved in \" )\n",
    "    display_path = \"{:s}{:s}.html\".format(html_path, name)\n",
    "    display(HTML(\"<a href='\" + display_path + \"' target='_blank'>\" + display_path + \"</a>\"))\n",
    "    return fig"
   ]
  },
  {
   "cell_type": "markdown",
   "metadata": {},
   "source": [
    "## Daily Transaction"
   ]
  },
  {
   "cell_type": "code",
   "execution_count": 4,
   "metadata": {},
   "outputs": [
    {
     "name": "stdout",
     "output_type": "stream",
     "text": [
      "HTML saved in \n"
     ]
    },
    {
     "data": {
      "text/html": [
       "<a href='https://harmony-one.github.io/harmony-log-analysis/../graphs/transparency_report/daily_txs_count.html' target='_blank'>https://harmony-one.github.io/harmony-log-analysis/../graphs/transparency_report/daily_txs_count.html</a>"
      ],
      "text/plain": [
       "<IPython.core.display.HTML object>"
      ]
     },
     "metadata": {},
     "output_type": "display_data"
    },
    {
     "data": {
      "image/svg+xml": [
       "<svg class=\"main-svg\" xmlns=\"http://www.w3.org/2000/svg\" xmlns:xlink=\"http://www.w3.org/1999/xlink\" width=\"800\" height=\"500\" style=\"\" viewBox=\"0 0 800 500\"><rect x=\"0\" y=\"0\" width=\"800\" height=\"500\" style=\"fill: rgb(255, 255, 255); fill-opacity: 1;\"/><defs id=\"defs-987a8a\"><g class=\"clips\"><clipPath id=\"clip987a8axyplot\" class=\"plotclip\"><rect width=\"640\" height=\"320\"/></clipPath><clipPath class=\"axesclip\" id=\"clip987a8ax\"><rect x=\"80\" y=\"0\" width=\"640\" height=\"500\"/></clipPath><clipPath class=\"axesclip\" id=\"clip987a8ay\"><rect x=\"0\" y=\"100\" width=\"800\" height=\"320\"/></clipPath><clipPath class=\"axesclip\" id=\"clip987a8axy\"><rect x=\"80\" y=\"100\" width=\"640\" height=\"320\"/></clipPath></g><g class=\"gradients\"/></defs><g class=\"bglayer\"><rect class=\"bg\" x=\"80\" y=\"100\" width=\"640\" height=\"320\" style=\"fill: rgb(0, 0, 0); fill-opacity: 0; stroke-width: 0;\"/></g><g class=\"layer-below\"><g class=\"imagelayer\"/><g class=\"shapelayer\"/></g><g class=\"cartesianlayer\"><g class=\"subplot xy\"><g class=\"layer-subplot\"><g class=\"shapelayer\"/><g class=\"imagelayer\"/></g><g class=\"gridlayer\"><g class=\"x\"/><g class=\"y\"><path class=\"ygrid crisp\" transform=\"translate(0,361.77)\" d=\"M80,0h640\" style=\"stroke: rgb(232, 232, 232); stroke-opacity: 1; stroke-width: 1px;\"/><path class=\"ygrid crisp\" transform=\"translate(0,319.53999999999996)\" d=\"M80,0h640\" style=\"stroke: rgb(232, 232, 232); stroke-opacity: 1; stroke-width: 1px;\"/><path class=\"ygrid crisp\" transform=\"translate(0,277.31)\" d=\"M80,0h640\" style=\"stroke: rgb(232, 232, 232); stroke-opacity: 1; stroke-width: 1px;\"/><path class=\"ygrid crisp\" transform=\"translate(0,235.09)\" d=\"M80,0h640\" style=\"stroke: rgb(232, 232, 232); stroke-opacity: 1; stroke-width: 1px;\"/><path class=\"ygrid crisp\" transform=\"translate(0,192.86)\" d=\"M80,0h640\" style=\"stroke: rgb(232, 232, 232); stroke-opacity: 1; stroke-width: 1px;\"/><path class=\"ygrid crisp\" transform=\"translate(0,150.63)\" d=\"M80,0h640\" style=\"stroke: rgb(232, 232, 232); stroke-opacity: 1; stroke-width: 1px;\"/><path class=\"ygrid crisp\" transform=\"translate(0,108.4)\" d=\"M80,0h640\" style=\"stroke: rgb(232, 232, 232); stroke-opacity: 1; stroke-width: 1px;\"/></g></g><g class=\"zerolinelayer\"><path class=\"yzl zl crisp\" transform=\"translate(0,404)\" d=\"M80,0h640\" style=\"stroke: rgb(255, 255, 255); stroke-opacity: 1; stroke-width: 2px;\"/></g><path class=\"xlines-below\"/><path class=\"ylines-below\"/><g class=\"overlines-below\"/><g class=\"xaxislayer-below\"/><g class=\"yaxislayer-below\"/><g class=\"overaxes-below\"/><g class=\"plot\" transform=\"translate(80, 100)\" clip-path=\"url('#clip987a8axyplot')\"><g class=\"scatterlayer mlayer\"><g class=\"trace scatter trace391688\" style=\"stroke-miterlimit: 2; opacity: 1;\"><g class=\"fills\"/><g class=\"errorbars\"/><g class=\"lines\"><path class=\"js-line\" d=\"M0,304L87.88,304L89.53,302.4L91.19,304L92.85,304L104.46,303.92L106.11,302.4L107.77,304L109.43,304L112.75,303.92L114.4,303.16L116.06,303.92L117.72,303.16L119.38,299.19L121.04,301.38L122.69,300.54L124.35,295.13L126.01,16L127.67,200.71L129.33,304L130.98,304L134.3,302.99L135.96,299.69L137.62,303.49L139.27,303.66L140.93,299.95L142.59,304L147.56,303.66L149.22,300.71L152.54,304L154.2,304L159.17,303.41L160.83,303.16L162.49,302.99L164.15,295.55L165.8,294.71L167.46,297.83L170.78,301.47L172.44,302.56L180.73,303.92L182.38,303.83L189.02,303.92L190.67,303.92L192.33,303.24L193.99,299.95L195.65,304L197.31,303.92L198.96,301.64L200.62,303.75L202.28,303.16L203.94,303.66L212.23,303.41L213.89,302.48L215.54,303.24L217.2,296.57L218.86,302.99L220.52,303.24L222.18,302.9L223.83,303.75L227.15,303.24L228.81,303.49L235.44,303.66L237.1,303.24L238.76,303.41L240.41,302.31L242.07,301.72L243.73,291.33L245.39,303.92L247.05,303.75L248.7,296.31L250.36,303.49L252.02,300.03L253.68,302.31L255.34,303.75L256.99,304L261.97,302.65L263.63,303.41L268.6,303.92L270.26,303.83L273.58,302.99L275.23,303.83L281.87,303.83L283.52,300.28L285.18,302.99L286.84,303.92L298.45,303.83L300.1,301.3L301.76,301.97L303.42,303.66L310.05,303.83L311.71,303.66L316.68,304L318.34,302.56L320,303.66L321.66,302.56L323.32,303.92L324.97,303.16L328.29,303.92L329.95,302.14L333.26,303.58L334.92,302.4L336.58,301.13L338.24,303.07L339.9,249.36L341.55,302.65L343.21,300.71L344.87,292.01L346.53,301.72L348.19,297.58L349.84,302.23L351.5,301.8L353.16,303.41L354.82,297.67L356.48,302.48L358.13,297.58L359.79,299.86L361.45,293.87L363.11,302.65L364.77,300.62L368.08,302.9L369.74,299.27L371.4,301.55L373.06,301.64L374.72,302.82L376.37,302.48L378.03,301.8L379.69,297.5L381.35,302.65L383.01,301.38L384.66,302.31L386.32,302.06L387.98,302.06L389.64,300.79L391.3,293.95L392.95,290.49L394.61,297.75L396.27,300.03L397.93,302.31L399.59,297.16L401.24,296.15L402.9,298.17L404.56,298.09L406.22,300.03L407.88,300.28L409.53,298.26L411.19,296.4L412.85,299.61L414.51,285.33L416.17,289.05L417.82,293.44L419.48,295.64L421.14,294.79L422.8,296.74L424.46,295.3L426.11,296.4L427.77,294.29L429.43,296.82L431.09,239.47L432.75,243.11L434.4,242.94L436.06,239.64L437.72,281.79L439.38,233.48L441.04,230.35L442.69,239.9L446.01,240.4L447.67,239.47L449.33,236.43L450.98,242.6L452.64,241.08L454.3,237.62L455.96,298.09L457.62,300.03L459.27,299.27L460.93,291.5L462.59,296.15L464.25,291.84L467.56,299.86L469.22,297.5L472.54,298.85L474.2,297.92L475.85,296.91L477.51,299.27L479.17,299.1L480.83,295.47L484.15,300.79L485.8,299.1L487.46,296.74L489.12,298.93L490.78,300.11L492.44,296.06L494.09,296.99L495.75,296.99L499.07,295.22L500.73,289.39L502.38,202.9L504.04,260.17L505.7,178.16L507.36,241.84L509.02,249.27L510.67,217.18L512.33,196.57L513.99,201.89L515.65,191.33L517.31,228.41L518.96,286.69L520.62,161.52L522.28,181.71L523.94,173.26L525.6,178.33L527.25,159.49L528.91,189.9L530.57,168.36L532.23,160.34L533.89,87.28L535.54,76.81L537.2,160.25L538.86,237.36L540.52,168.19L542.18,164.9L543.83,226.72L547.15,262.11L548.81,259.74L550.47,250.03L552.12,204.42L553.78,200.37L555.44,77.06L558.76,229.59L560.41,230.52L562.07,179.68L563.73,203.16L565.39,259.24L567.05,247.5L568.7,116.17L570.36,103.16L572.02,243.44L573.68,244.46L575.34,240.23L576.99,246.15L578.65,247.16L580.31,241.5L583.63,225.29L585.28,218.61L586.94,234.58L588.6,221.91L593.58,239.73L595.23,240.23L598.55,225.29L600.21,210.08L601.87,251.47L603.52,175.96L605.18,107.05L606.84,142.69L608.5,226.55L610.16,172.75L611.81,193.61L613.47,161.77L615.13,134.49L616.79,183.06L618.45,218.02L620.1,208.82L621.76,242.68L623.42,186.18L625.08,231.7L626.74,225.45L628.39,252.14L630.05,220.89L631.71,234.15L633.37,230.1L635.03,225.12L636.68,243.36L638.34,230.18L640,249.19\" style=\"vector-effect: non-scaling-stroke; fill: none; stroke: rgb(153, 214, 255); stroke-opacity: 1; stroke-width: 2px; opacity: 1;\"/></g><g class=\"points\"/><g class=\"text\"/></g></g></g><g class=\"overplot\"/><path class=\"xlines-above crisp\" d=\"M0,0\" style=\"fill: none;\"/><path class=\"ylines-above crisp\" d=\"M0,0\" style=\"fill: none;\"/><g class=\"overlines-above\"/><g class=\"xaxislayer-above\"><g class=\"xtick\"><text text-anchor=\"middle\" x=\"0\" y=\"433\" transform=\"translate(84.97,0)\" style=\"font-family: 'Open Sans', verdana, arial, sans-serif; font-size: 12px; fill: rgb(42, 63, 95); fill-opacity: 1; white-space: pre;\">Jul 2019</text></g><g class=\"xtick\"><text text-anchor=\"middle\" x=\"0\" y=\"433\" transform=\"translate(187.76999999999998,0)\" style=\"font-family: 'Open Sans', verdana, arial, sans-serif; font-size: 12px; fill: rgb(42, 63, 95); fill-opacity: 1; white-space: pre;\">Sep 2019</text></g><g class=\"xtick\"><text text-anchor=\"middle\" x=\"0\" y=\"433\" transform=\"translate(288.90999999999997,0)\" style=\"font-family: 'Open Sans', verdana, arial, sans-serif; font-size: 12px; fill: rgb(42, 63, 95); fill-opacity: 1; white-space: pre;\">Nov 2019</text></g><g class=\"xtick\"><text text-anchor=\"middle\" x=\"0\" y=\"433\" transform=\"translate(390.05,0)\" style=\"font-family: 'Open Sans', verdana, arial, sans-serif; font-size: 12px; fill: rgb(42, 63, 95); fill-opacity: 1; white-space: pre;\">Jan 2020</text></g><g class=\"xtick\"><text text-anchor=\"middle\" x=\"0\" y=\"433\" transform=\"translate(489.53,0)\" style=\"font-family: 'Open Sans', verdana, arial, sans-serif; font-size: 12px; fill: rgb(42, 63, 95); fill-opacity: 1; white-space: pre;\">Mar 2020</text></g><g class=\"xtick\"><text text-anchor=\"middle\" x=\"0\" y=\"433\" transform=\"translate(590.6700000000001,0)\" style=\"font-family: 'Open Sans', verdana, arial, sans-serif; font-size: 12px; fill: rgb(42, 63, 95); fill-opacity: 1; white-space: pre;\">May 2020</text></g><g class=\"xtick\"><text text-anchor=\"middle\" x=\"0\" y=\"433\" transform=\"translate(691.81,0)\" style=\"font-family: 'Open Sans', verdana, arial, sans-serif; font-size: 12px; fill: rgb(42, 63, 95); fill-opacity: 1; white-space: pre;\">Jul 2020</text></g></g><g class=\"yaxislayer-above\"><g class=\"ytick\"><text text-anchor=\"end\" x=\"79\" y=\"4.199999999999999\" transform=\"translate(0,404)\" style=\"font-family: 'Open Sans', verdana, arial, sans-serif; font-size: 12px; fill: rgb(42, 63, 95); fill-opacity: 1; white-space: pre;\">0</text></g><g class=\"ytick\"><text text-anchor=\"end\" x=\"79\" y=\"4.199999999999999\" transform=\"translate(0,361.77)\" style=\"font-family: 'Open Sans', verdana, arial, sans-serif; font-size: 12px; fill: rgb(42, 63, 95); fill-opacity: 1; white-space: pre;\">500</text></g><g class=\"ytick\"><text text-anchor=\"end\" x=\"79\" y=\"4.199999999999999\" transform=\"translate(0,319.53999999999996)\" style=\"font-family: 'Open Sans', verdana, arial, sans-serif; font-size: 12px; fill: rgb(42, 63, 95); fill-opacity: 1; white-space: pre;\">1000</text></g><g class=\"ytick\"><text text-anchor=\"end\" x=\"79\" y=\"4.199999999999999\" transform=\"translate(0,277.31)\" style=\"font-family: 'Open Sans', verdana, arial, sans-serif; font-size: 12px; fill: rgb(42, 63, 95); fill-opacity: 1; white-space: pre;\">1500</text></g><g class=\"ytick\"><text text-anchor=\"end\" x=\"79\" y=\"4.199999999999999\" transform=\"translate(0,235.09)\" style=\"font-family: 'Open Sans', verdana, arial, sans-serif; font-size: 12px; fill: rgb(42, 63, 95); fill-opacity: 1; white-space: pre;\">2000</text></g><g class=\"ytick\"><text text-anchor=\"end\" x=\"79\" y=\"4.199999999999999\" transform=\"translate(0,192.86)\" style=\"font-family: 'Open Sans', verdana, arial, sans-serif; font-size: 12px; fill: rgb(42, 63, 95); fill-opacity: 1; white-space: pre;\">2500</text></g><g class=\"ytick\"><text text-anchor=\"end\" x=\"79\" y=\"4.199999999999999\" transform=\"translate(0,150.63)\" style=\"font-family: 'Open Sans', verdana, arial, sans-serif; font-size: 12px; fill: rgb(42, 63, 95); fill-opacity: 1; white-space: pre;\">3000</text></g><g class=\"ytick\"><text text-anchor=\"end\" x=\"79\" y=\"4.199999999999999\" transform=\"translate(0,108.4)\" style=\"font-family: 'Open Sans', verdana, arial, sans-serif; font-size: 12px; fill: rgb(42, 63, 95); fill-opacity: 1; white-space: pre;\">3500</text></g></g><g class=\"overaxes-above\"/></g></g><g class=\"polarlayer\"/><g class=\"ternarylayer\"/><g class=\"geolayer\"/><g class=\"funnelarealayer\"/><g class=\"pielayer\"/><g class=\"treemaplayer\"/><g class=\"sunburstlayer\"/><g class=\"glimages\"/><defs id=\"topdefs-987a8a\"><g class=\"clips\"/></defs><g class=\"layer-above\"><g class=\"imagelayer\"/><g class=\"shapelayer\"/></g><g class=\"infolayer\"><g class=\"g-gtitle\"><text class=\"gtitle\" x=\"400\" y=\"50\" text-anchor=\"middle\" dy=\"0em\" style=\"font-family: 'Open Sans', verdana, arial, sans-serif; font-size: 17px; fill: rgb(42, 63, 95); opacity: 1; font-weight: normal; white-space: pre;\">Harmony Daily Transaction Chart</text></g><g class=\"g-xtitle\"/><g class=\"g-ytitle\"><text class=\"ytitle\" transform=\"rotate(-90,23.653125000000003,260)\" x=\"23.653125000000003\" y=\"260\" text-anchor=\"middle\" style=\"font-family: 'Open Sans', verdana, arial, sans-serif; font-size: 14px; fill: rgb(42, 63, 95); opacity: 1; font-weight: normal; white-space: pre;\">Transaction Per Day</text></g></g></svg>"
      ]
     },
     "metadata": {},
     "output_type": "display_data"
    }
   ],
   "source": [
    "link = \"https://harmony-explorer-mainnet.firebaseio.com/total-txs-count.json\"\n",
    "feature = 'Harmony Cumulative Transaction Growth'\n",
    "df = get_data(link, feature)\n",
    "df['Daily Increase'] = (df[feature]-df[feature].shift()).fillna(0).astype(int)\n",
    "new_df = df[['date','Daily Increase']].loc[1:]\n",
    "new_df['date'] = pd.to_datetime(new_df['date'],format ='%Y_%m_%d')\n",
    "\n",
    "old_df = pd.read_csv(\"../data/daily_txs.csv\", header = 0)\n",
    "old_df = old_df[old_df['date'] < '2020-07-07']\n",
    "old_df.rename(columns = {'txs-count':'Daily Increase'}, inplace = True)\n",
    "old_df['date'] = pd.to_datetime(old_df['date'],format ='%Y-%m-%d')\n",
    "\n",
    "merge_df = pd.concat([old_df, new_df], axis=0)\n",
    "merge_df.reset_index(drop = True, inplace = True)\n",
    "fig = draw_graph(merge_df, 'Daily Increase', \"daily_txs_count\", \"Daily Transaction\")\n",
    "fig.update_layout(yaxis_title=\"Transaction Per Day\")\n",
    "fig.show(renderer=\"svg\",width=800, height=500)"
   ]
  },
  {
   "cell_type": "markdown",
   "metadata": {},
   "source": [
    "## Staking Transaction"
   ]
  },
  {
   "cell_type": "code",
   "execution_count": 5,
   "metadata": {},
   "outputs": [
    {
     "name": "stdout",
     "output_type": "stream",
     "text": [
      "HTML saved in \n"
     ]
    },
    {
     "data": {
      "text/html": [
       "<a href='https://harmony-one.github.io/harmony-log-analysis/../graphs/transparency_report/daily_staking_txs_count.html' target='_blank'>https://harmony-one.github.io/harmony-log-analysis/../graphs/transparency_report/daily_staking_txs_count.html</a>"
      ],
      "text/plain": [
       "<IPython.core.display.HTML object>"
      ]
     },
     "metadata": {},
     "output_type": "display_data"
    },
    {
     "data": {
      "image/svg+xml": [
       "<svg class=\"main-svg\" xmlns=\"http://www.w3.org/2000/svg\" xmlns:xlink=\"http://www.w3.org/1999/xlink\" width=\"800\" height=\"500\" style=\"\" viewBox=\"0 0 800 500\"><rect x=\"0\" y=\"0\" width=\"800\" height=\"500\" style=\"fill: rgb(255, 255, 255); fill-opacity: 1;\"/><defs id=\"defs-d2b5df\"><g class=\"clips\"><clipPath id=\"clipd2b5dfxyplot\" class=\"plotclip\"><rect width=\"640\" height=\"320\"/></clipPath><clipPath class=\"axesclip\" id=\"clipd2b5dfx\"><rect x=\"80\" y=\"0\" width=\"640\" height=\"500\"/></clipPath><clipPath class=\"axesclip\" id=\"clipd2b5dfy\"><rect x=\"0\" y=\"100\" width=\"800\" height=\"320\"/></clipPath><clipPath class=\"axesclip\" id=\"clipd2b5dfxy\"><rect x=\"80\" y=\"100\" width=\"640\" height=\"320\"/></clipPath></g><g class=\"gradients\"/></defs><g class=\"bglayer\"><rect class=\"bg\" x=\"80\" y=\"100\" width=\"640\" height=\"320\" style=\"fill: rgb(0, 0, 0); fill-opacity: 0; stroke-width: 0;\"/></g><g class=\"layer-below\"><g class=\"imagelayer\"/><g class=\"shapelayer\"/></g><g class=\"cartesianlayer\"><g class=\"subplot xy\"><g class=\"layer-subplot\"><g class=\"shapelayer\"/><g class=\"imagelayer\"/></g><g class=\"gridlayer\"><g class=\"x\"/><g class=\"y\"><path class=\"ygrid crisp\" transform=\"translate(0,392.35)\" d=\"M80,0h640\" style=\"stroke: rgb(232, 232, 232); stroke-opacity: 1; stroke-width: 1px;\"/><path class=\"ygrid crisp\" transform=\"translate(0,322.14)\" d=\"M80,0h640\" style=\"stroke: rgb(232, 232, 232); stroke-opacity: 1; stroke-width: 1px;\"/><path class=\"ygrid crisp\" transform=\"translate(0,251.93)\" d=\"M80,0h640\" style=\"stroke: rgb(232, 232, 232); stroke-opacity: 1; stroke-width: 1px;\"/><path class=\"ygrid crisp\" transform=\"translate(0,181.72)\" d=\"M80,0h640\" style=\"stroke: rgb(232, 232, 232); stroke-opacity: 1; stroke-width: 1px;\"/><path class=\"ygrid crisp\" transform=\"translate(0,111.51)\" d=\"M80,0h640\" style=\"stroke: rgb(232, 232, 232); stroke-opacity: 1; stroke-width: 1px;\"/></g></g><g class=\"zerolinelayer\"/><path class=\"xlines-below\"/><path class=\"ylines-below\"/><g class=\"overlines-below\"/><g class=\"xaxislayer-below\"/><g class=\"yaxislayer-below\"/><g class=\"overaxes-below\"/><g class=\"plot\" transform=\"translate(80, 100)\" clip-path=\"url('#clipd2b5dfxyplot')\"><g class=\"scatterlayer mlayer\"><g class=\"trace scatter trace038834\" style=\"stroke-miterlimit: 2; opacity: 1;\"><g class=\"fills\"/><g class=\"errorbars\"/><g class=\"lines\"><path class=\"js-line\" d=\"M10.49,34.39L20.98,177.34L31.48,166.95L41.97,167.93L52.46,114.43L62.95,155.58L73.44,78.07L83.93,182.12L94.43,171.73L104.92,173.13L115.41,143.22L125.9,156.56L136.39,16L146.89,79.89L157.38,129.18L167.87,160.21L178.36,274.93L188.85,259.63L199.34,300.77L209.84,239.83L220.33,35.1L230.82,186.61L241.31,285.89L251.8,257.94L262.3,268.47L272.79,247.83L283.28,274.37L293.77,248.11L304.26,268.9L314.75,266.09L325.25,245.02L335.74,290.52L346.23,275.07L356.72,291.5L367.21,266.65L377.7,265.67L388.2,300.77L398.69,261.17L409.18,263.56L419.67,220.45L430.16,294.87L440.66,269.32L451.15,291.92L461.64,267.91L472.13,256.12L482.62,256.96L493.11,264.96L503.61,285.46L514.1,260.33L524.59,275.92L535.08,287.99L545.57,262.44L556.07,292.06L566.56,246.15L577.05,263.28L587.54,299.09L598.03,282.24L608.52,281.39L619.02,297.68L629.51,276.2L640,304\" style=\"vector-effect: non-scaling-stroke; fill: none; stroke: rgb(153, 214, 255); stroke-opacity: 1; stroke-width: 2px; opacity: 1;\"/></g><g class=\"points\"/><g class=\"text\"/></g></g></g><g class=\"overplot\"/><path class=\"xlines-above crisp\" d=\"M0,0\" style=\"fill: none;\"/><path class=\"ylines-above crisp\" d=\"M0,0\" style=\"fill: none;\"/><g class=\"overlines-above\"/><g class=\"xaxislayer-above\"><g class=\"xtick\"><text text-anchor=\"middle\" x=\"0\" y=\"433\" transform=\"translate(100.98,0)\" style=\"font-family: 'Open Sans', verdana, arial, sans-serif; font-size: 12px; fill: rgb(42, 63, 95); fill-opacity: 1; white-space: pre;\"><tspan class=\"line\" dy=\"0em\" x=\"0\" y=\"433\">May 17</tspan><tspan class=\"line\" dy=\"1.3em\" x=\"0\" y=\"433\">2020</tspan></text></g><g class=\"xtick\"><text text-anchor=\"middle\" x=\"0\" y=\"433\" transform=\"translate(174.43,0)\" style=\"font-family: 'Open Sans', verdana, arial, sans-serif; font-size: 12px; fill: rgb(42, 63, 95); fill-opacity: 1; white-space: pre;\">May 24</text></g><g class=\"xtick\"><text text-anchor=\"middle\" x=\"0\" y=\"433\" transform=\"translate(247.87,0)\" style=\"font-family: 'Open Sans', verdana, arial, sans-serif; font-size: 12px; fill: rgb(42, 63, 95); fill-opacity: 1; white-space: pre;\">May 31</text></g><g class=\"xtick\"><text text-anchor=\"middle\" x=\"0\" y=\"433\" transform=\"translate(321.31,0)\" style=\"font-family: 'Open Sans', verdana, arial, sans-serif; font-size: 12px; fill: rgb(42, 63, 95); fill-opacity: 1; white-space: pre;\">Jun 7</text></g><g class=\"xtick\"><text text-anchor=\"middle\" x=\"0\" y=\"433\" transform=\"translate(394.75,0)\" style=\"font-family: 'Open Sans', verdana, arial, sans-serif; font-size: 12px; fill: rgb(42, 63, 95); fill-opacity: 1; white-space: pre;\">Jun 14</text></g><g class=\"xtick\"><text text-anchor=\"middle\" x=\"0\" y=\"433\" transform=\"translate(468.2,0)\" style=\"font-family: 'Open Sans', verdana, arial, sans-serif; font-size: 12px; fill: rgb(42, 63, 95); fill-opacity: 1; white-space: pre;\">Jun 21</text></g><g class=\"xtick\"><text text-anchor=\"middle\" x=\"0\" y=\"433\" transform=\"translate(541.64,0)\" style=\"font-family: 'Open Sans', verdana, arial, sans-serif; font-size: 12px; fill: rgb(42, 63, 95); fill-opacity: 1; white-space: pre;\">Jun 28</text></g><g class=\"xtick\"><text text-anchor=\"middle\" x=\"0\" y=\"433\" transform=\"translate(615.08,0)\" style=\"font-family: 'Open Sans', verdana, arial, sans-serif; font-size: 12px; fill: rgb(42, 63, 95); fill-opacity: 1; white-space: pre;\">Jul 5</text></g><g class=\"xtick\"><text text-anchor=\"middle\" x=\"0\" y=\"433\" transform=\"translate(688.52,0)\" style=\"font-family: 'Open Sans', verdana, arial, sans-serif; font-size: 12px; fill: rgb(42, 63, 95); fill-opacity: 1; white-space: pre;\">Jul 12</text></g></g><g class=\"yaxislayer-above\"><g class=\"ytick\"><text text-anchor=\"end\" x=\"79\" y=\"4.199999999999999\" transform=\"translate(0,392.35)\" style=\"font-family: 'Open Sans', verdana, arial, sans-serif; font-size: 12px; fill: rgb(42, 63, 95); fill-opacity: 1; white-space: pre;\">500</text></g><g class=\"ytick\"><text text-anchor=\"end\" x=\"79\" y=\"4.199999999999999\" transform=\"translate(0,322.14)\" style=\"font-family: 'Open Sans', verdana, arial, sans-serif; font-size: 12px; fill: rgb(42, 63, 95); fill-opacity: 1; white-space: pre;\">1000</text></g><g class=\"ytick\"><text text-anchor=\"end\" x=\"79\" y=\"4.199999999999999\" transform=\"translate(0,251.93)\" style=\"font-family: 'Open Sans', verdana, arial, sans-serif; font-size: 12px; fill: rgb(42, 63, 95); fill-opacity: 1; white-space: pre;\">1500</text></g><g class=\"ytick\"><text text-anchor=\"end\" x=\"79\" y=\"4.199999999999999\" transform=\"translate(0,181.72)\" style=\"font-family: 'Open Sans', verdana, arial, sans-serif; font-size: 12px; fill: rgb(42, 63, 95); fill-opacity: 1; white-space: pre;\">2000</text></g><g class=\"ytick\"><text text-anchor=\"end\" x=\"79\" y=\"4.199999999999999\" transform=\"translate(0,111.51)\" style=\"font-family: 'Open Sans', verdana, arial, sans-serif; font-size: 12px; fill: rgb(42, 63, 95); fill-opacity: 1; white-space: pre;\">2500</text></g></g><g class=\"overaxes-above\"/></g></g><g class=\"polarlayer\"/><g class=\"ternarylayer\"/><g class=\"geolayer\"/><g class=\"funnelarealayer\"/><g class=\"pielayer\"/><g class=\"treemaplayer\"/><g class=\"sunburstlayer\"/><g class=\"glimages\"/><defs id=\"topdefs-d2b5df\"><g class=\"clips\"/></defs><g class=\"layer-above\"><g class=\"imagelayer\"/><g class=\"shapelayer\"/></g><g class=\"infolayer\"><g class=\"g-gtitle\"><text class=\"gtitle\" x=\"400\" y=\"50\" text-anchor=\"middle\" dy=\"0em\" style=\"font-family: 'Open Sans', verdana, arial, sans-serif; font-size: 17px; fill: rgb(42, 63, 95); opacity: 1; font-weight: normal; white-space: pre;\">Harmony Staking Transactions Chart</text></g><g class=\"g-xtitle\"/><g class=\"g-ytitle\"><text class=\"ytitle\" transform=\"rotate(-90,23.653125000000003,260)\" x=\"23.653125000000003\" y=\"260\" text-anchor=\"middle\" style=\"font-family: 'Open Sans', verdana, arial, sans-serif; font-size: 14px; fill: rgb(42, 63, 95); opacity: 1; font-weight: normal; white-space: pre;\">Staking Transaction Per Day</text></g></g></svg>"
      ]
     },
     "metadata": {},
     "output_type": "display_data"
    }
   ],
   "source": [
    "log_dir = \"../logs/stakingTxsCount.log\"\n",
    "data = read_data(log_dir)\n",
    "df = pd.DataFrame(data) \n",
    "df['timestamp'] = pd.to_datetime(df['timestamp'], format = '%Y_%m_%d %H:%M:%S')\n",
    "df['date'] = df['timestamp'].dt.date\n",
    "staking_df = df.groupby(['date'])['count'].max().reset_index(name = 'staking_txs_count')\n",
    "staking_df = staking_df[:-2]\n",
    "link = \"https://harmony-explorer-mainnet.firebaseio.com/daily-stakingTxs-count.json\"\n",
    "feature = 'staking_txs_count'\n",
    "new_df = get_data(link, feature)\n",
    "merge_df = pd.concat([staking_df, new_df], axis=0)\n",
    "merge_df.reset_index(drop = True, inplace = True)\n",
    "merge_df['daily_staking_txs_count'] = merge_df[\"staking_txs_count\"]- merge_df[\"staking_txs_count\"].shift()\n",
    "\n",
    "fig = draw_graph(merge_df, \"daily_staking_txs_count\", \"daily_staking_txs_count\", \"Staking Transactions\")\n",
    "fig.update_layout(yaxis_title=\"Staking Transaction Per Day\")\n",
    "fig.show(renderer=\"svg\",width=800, height=500)"
   ]
  },
  {
   "cell_type": "code",
   "execution_count": null,
   "metadata": {},
   "outputs": [],
   "source": []
  }
 ],
 "metadata": {
  "kernelspec": {
   "display_name": "Python 3",
   "language": "python",
   "name": "python3"
  },
  "language_info": {
   "codemirror_mode": {
    "name": "ipython",
    "version": 3
   },
   "file_extension": ".py",
   "mimetype": "text/x-python",
   "name": "python",
   "nbconvert_exporter": "python",
   "pygments_lexer": "ipython3",
   "version": "3.6.9"
  }
 },
 "nbformat": 4,
 "nbformat_minor": 4
}
