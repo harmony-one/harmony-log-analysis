{
 "cells": [
  {
   "cell_type": "code",
   "execution_count": 75,
   "metadata": {},
   "outputs": [],
   "source": [
    "import pyhmy\n",
    "from pyhmy import (\n",
    "    blockchain,\n",
    "    staking\n",
    ")\n",
    "from os import path\n",
    "import datetime\n",
    "import firebase_admin\n",
    "from firebase_admin import credentials\n",
    "from firebase_admin import db\n",
    "from collections import defaultdict\n",
    "import pandas as pd\n",
    "import requests\n",
    "import json"
   ]
  },
  {
   "cell_type": "code",
   "execution_count": 90,
   "metadata": {},
   "outputs": [],
   "source": [
    "def get_information(url, method, params) -> dict:\n",
    "    headers = {'Content-Type': 'application/json; charset=utf8'}\n",
    "    data = {\"jsonrpc\":\"2.0\", \"method\": method, \"params\": params, \"id\":1}\n",
    "    try:\n",
    "        r = requests.post(url, headers=headers, data = json.dumps(data))\n",
    "    except requests.exceptions.ConnectionError as e:\n",
    "        print(\"Error: connection error\")\n",
    "        time.sleep(5)\n",
    "        return None\n",
    "    if r.status_code != 200:\n",
    "        print(\"Error: Return status code %s\" % r.status_code)\n",
    "        return None\n",
    "    try:\n",
    "        r.json()\n",
    "    except ValueError:\n",
    "        print(\"Error: Unable to read JSON reply\")\n",
    "        return None\n",
    "    return r.json()\n",
    "\n",
    "def getCirculatingSupply(shard):\n",
    "    url = endpoint[shard]\n",
    "    method = 'hmy_getCirculatingSupply'\n",
    "    params = []\n",
    "    return get_information(url, method, params)['result']\n",
    "\n",
    "def getTotalSupply(shard):\n",
    "    url = endpoint[shard]\n",
    "    method = 'hmy_getTotalSupply'\n",
    "    params = []\n",
    "    return get_information(url, method, params)['result']\n",
    "\n",
    "def getStakingNetworkInfo(shard):\n",
    "    url = endpoint[shard]\n",
    "    method = 'hmy_getStakingNetworkInfo'\n",
    "    params = []\n",
    "    return get_information(url, method, params)['result']\n"
   ]
  },
  {
   "cell_type": "code",
   "execution_count": 8,
   "metadata": {},
   "outputs": [],
   "source": [
    "endpoint = ['https://api.s0.t.hmny.io/', 'https://api.s1.t.hmny.io/', 'https://api.s2.t.hmny.io/', 'https://api.s3.t.hmny.io/']\n",
    "block_reward = 28\n",
    "# when we enter into the open staking \n",
    "shard_0 = 3375104\n",
    "shard_1 = 3286736\n",
    "shard_2 = 3326152\n",
    "shard_3 = 3313571"
   ]
  },
  {
   "cell_type": "code",
   "execution_count": 63,
   "metadata": {},
   "outputs": [
    {
     "data": {
      "text/plain": [
       "'2020_07_01_00:00:02'"
      ]
     },
     "execution_count": 63,
     "metadata": {},
     "output_type": "execute_result"
    }
   ],
   "source": [
    "timestamp = blockchain.get_block_by_number(3797299, endpoint=endpoint[0])['timestamp']\n",
    "time = int(timestamp,16)\n",
    "datetime.datetime.fromtimestamp(time).strftime('%Y_%m_%d_%H:%M:%S')"
   ]
  },
  {
   "cell_type": "code",
   "execution_count": 68,
   "metadata": {},
   "outputs": [
    {
     "data": {
      "text/plain": [
       "'2020_06_30_23:59:57'"
      ]
     },
     "execution_count": 68,
     "metadata": {},
     "output_type": "execute_result"
    }
   ],
   "source": [
    "timestamp = blockchain.get_block_by_number(3769233, endpoint=endpoint[1])['timestamp']\n",
    "time = int(timestamp,16)\n",
    "datetime.datetime.fromtimestamp(time).strftime('%Y_%m_%d_%H:%M:%S')"
   ]
  },
  {
   "cell_type": "code",
   "execution_count": 44,
   "metadata": {},
   "outputs": [
    {
     "data": {
      "text/plain": [
       "'2020_07_01_00:00:02'"
      ]
     },
     "execution_count": 44,
     "metadata": {},
     "output_type": "execute_result"
    }
   ],
   "source": [
    "timestamp = blockchain.get_block_by_number(3806793, endpoint=endpoint[2])['timestamp']\n",
    "time = int(timestamp,16)\n",
    "datetime.datetime.fromtimestamp(time).strftime('%Y_%m_%d_%H:%M:%S')"
   ]
  },
  {
   "cell_type": "code",
   "execution_count": 54,
   "metadata": {},
   "outputs": [
    {
     "data": {
      "text/plain": [
       "'2020_07_01_00:00:02'"
      ]
     },
     "execution_count": 54,
     "metadata": {},
     "output_type": "execute_result"
    }
   ],
   "source": [
    "timestamp = blockchain.get_block_by_number(3806793, endpoint=endpoint[2])['timestamp']\n",
    "time = int(timestamp,16)\n",
    "datetime.datetime.fromtimestamp(time).strftime('%Y_%m_%d_%H:%M:%S')"
   ]
  },
  {
   "cell_type": "markdown",
   "metadata": {},
   "source": [
    "## total supply"
   ]
  },
  {
   "cell_type": "code",
   "execution_count": 92,
   "metadata": {},
   "outputs": [
    {
     "name": "stdout",
     "output_type": "stream",
     "text": [
      "total supply: 12652599540.0\n"
     ]
    }
   ],
   "source": [
    "new_shard_0 = 3797299\n",
    "new_shard_1 = 3769233\n",
    "new_shard_2 = 3806793\n",
    "new_shard_3 = 3806793\n",
    "initial = float(getTotalSupply(0))\n",
    "total_supply = (new_shard_0 + new_shard_1 + new_shard_2 + new_shard_3 - (shard_0 + shard_1 + shard_2 + shard_3))*block_reward + initial\n",
    "print(f\"total supply: {total_supply}\")\n"
   ]
  },
  {
   "cell_type": "markdown",
   "metadata": {},
   "source": [
    "## circulating supply"
   ]
  },
  {
   "cell_type": "code",
   "execution_count": 93,
   "metadata": {},
   "outputs": [
    {
     "name": "stdout",
     "output_type": "stream",
     "text": [
      "circulating supply: 6895381245.882339\n"
     ]
    }
   ],
   "source": [
    "unlocked = float(getCirculatingSupply(0))\n",
    "circulating_supply =  unlocked + (new_shard_0 + new_shard_1 + new_shard_2 + new_shard_3 - (shard_0 + shard_1 + shard_2 + shard_3))*block_reward\n",
    "print(f\"circulating supply: {circulating_supply}\")"
   ]
  },
  {
   "cell_type": "markdown",
   "metadata": {},
   "source": [
    "## staking ratio"
   ]
  },
  {
   "cell_type": "code",
   "execution_count": 95,
   "metadata": {},
   "outputs": [
    {
     "name": "stdout",
     "output_type": "stream",
     "text": [
      "staking ratio: 0.5809399934833337\n"
     ]
    }
   ],
   "source": [
    "total_stake = getStakingNetworkInfo(0)['total-staking']/1e18\n",
    "staking_ratio = total_stake/circulating_supply\n",
    "print(f\"staking ratio: {staking_ratio}\")"
   ]
  },
  {
   "cell_type": "code",
   "execution_count": null,
   "metadata": {},
   "outputs": [],
   "source": []
  }
 ],
 "metadata": {
  "kernelspec": {
   "display_name": "Python 3",
   "language": "python",
   "name": "python3"
  },
  "language_info": {
   "codemirror_mode": {
    "name": "ipython",
    "version": 3
   },
   "file_extension": ".py",
   "mimetype": "text/x-python",
   "name": "python",
   "nbconvert_exporter": "python",
   "pygments_lexer": "ipython3",
   "version": "3.6.9"
  }
 },
 "nbformat": 4,
 "nbformat_minor": 4
}
