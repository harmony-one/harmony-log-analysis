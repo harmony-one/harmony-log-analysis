{
 "cells": [
  {
   "cell_type": "code",
   "execution_count": 1,
   "metadata": {},
   "outputs": [],
   "source": [
    "import json\n",
    "import gzip\n",
    "import os\n",
    "from os import path\n",
    "import pandas as pd\n",
    "import numpy as np\n",
    "import datetime\n",
    "import plotly.express as px \n",
    "import plotly.graph_objects as go\n",
    "from IPython.core.display import display, HTML\n",
    "from collections import defaultdict\n",
    "import pickle"
   ]
  },
  {
   "cell_type": "code",
   "execution_count": 2,
   "metadata": {},
   "outputs": [],
   "source": [
    "def is_json(myjson):\n",
    "    try:\n",
    "        json_object = json.loads(myjson)\n",
    "    except ValueError as e:\n",
    "        return False\n",
    "    return True\n",
    "\n",
    "def read_data(path):\n",
    "    data = []\n",
    "    with open(path, errors='ignore') as f:\n",
    "        for line in f.readlines():\n",
    "            try: \n",
    "                if not is_json(line):\n",
    "                    continue\n",
    "                data.append(json.loads(line))\n",
    "            except:\n",
    "                print('bad json: ', line)\n",
    "    return data"
   ]
  },
  {
   "cell_type": "code",
   "execution_count": 3,
   "metadata": {},
   "outputs": [],
   "source": [
    "html_dir = \"../../docs/graphs/transparency_report/\"\n",
    "if not path.exists(html_dir):\n",
    "    try:\n",
    "        os.makedirs(html_dir)\n",
    "    except:\n",
    "        print(\"Could not make directory\")\n",
    "        exit(1)"
   ]
  },
  {
   "cell_type": "code",
   "execution_count": 4,
   "metadata": {},
   "outputs": [],
   "source": [
    "log_dir = \"/home/ubuntu/jupyter/monitor/mini_explorer/data/\"\n",
    "json_dir = \"/home/ubuntu/jupyter/harmony-log-analysis/projects/ONE_holder/credential\"\n",
    "files = os.listdir(log_dir)\n",
    "total_gas_used = defaultdict(int)\n",
    "avg_gas_limit = defaultdict(int)\n",
    "avg_size = defaultdict(int)\n",
    "block_time = defaultdict(dict)"
   ]
  },
  {
   "cell_type": "code",
   "execution_count": 5,
   "metadata": {},
   "outputs": [],
   "source": [
    "csv_file = \"data/daily_info.csv\"\n",
    "if path.exists(csv_file):\n",
    "    df = pd.read_csv(csv_file)\n",
    "    df['date'] = pd.to_datetime(df['date'], format='%Y-%m-%d')\n",
    "else:\n",
    "    for file in files:\n",
    "        if \".log\" not in file and file != \".ipynb_checkpoints\":\n",
    "            date = file[8:]\n",
    "            data = read_data(log_dir+file)\n",
    "            df = pd.DataFrame(data) \n",
    "            df[\"timestamp\"] = df[\"timestamp\"].apply(lambda t: t.replace(\" +0000 UTC\",\"\"))\n",
    "            df[\"timestamp\"] = pd.to_datetime(df['timestamp'])\n",
    "            df.drop(['staking'], axis=1, inplace = True)\n",
    "            df.drop_duplicates(inplace = True)\n",
    "            total_gas_used[date] = df['gas'].sum()\n",
    "            avg_gas_limit[date] = df['maxGas'].mean()\n",
    "            avg_size[date] = df['size'].mean()\n",
    "            # sort by timestamp \n",
    "            df.sort_values(by=['timestamp'], inplace = True)\n",
    "            shard = []\n",
    "            for name, s in df.groupby(\"shard\"):\n",
    "                shard.append(s.reset_index(drop = True))\n",
    "\n",
    "            # calculate the average time per block, transaction_per_second\n",
    "            for i in range(len(shard)):\n",
    "                s = shard[i]\n",
    "                s[\"time_diff\"] = (s['timestamp']-s['timestamp'].shift()).fillna(pd.Timedelta(seconds=0))\n",
    "                s[\"block_diff\"] = (s['block']-s['block'].shift()).fillna(0).astype(int)\n",
    "                # time per block\n",
    "                s[\"time_per_block\"] = s.apply(lambda c: c[\"time_diff\"].seconds/c[\"block_diff\"] if c[\"block_diff\"] != 0 else np.nan, axis = 1)\n",
    "                block_time[date][\"block-time-shard-{}\".format(i)] = s['time_per_block'].mean()\n",
    "            block_time[date]['avg-block-time'] = sum(block_time[date].values())/4\n",
    "\n",
    "    time_df = pd.DataFrame(block_time.items(), columns=['date', 'block-time'])  \n",
    "    time_df = pd.concat([time_df.drop(['block-time'], axis=1), time_df['block-time'].apply(pd.Series)], axis=1)\n",
    "    used_df = pd.DataFrame(total_gas_used.items(), columns=['date', 'total-gas-used']) \n",
    "    limit_df = pd.DataFrame(avg_gas_limit.items(), columns=['date', 'avg-gas-limit']) \n",
    "    size_df = pd.DataFrame(avg_size.items(), columns=['date', 'avg-size']) \n",
    "\n",
    "    df = time_df.join(used_df.set_index('date'), on = 'date')\n",
    "    df = df.join(limit_df.set_index('date'), on = 'date')\n",
    "    df = df.join(size_df.set_index('date'), on = 'date')\n",
    "\n",
    "    df['date'] = pd.to_datetime(df['date'], format='%Y_%m_%d')\n",
    "    df.sort_values(by=['date'], inplace = True)\n",
    "    df.reset_index(drop = True, inplace = True)\n",
    "    df.to_csv(csv_file, index = False)"
   ]
  },
  {
   "cell_type": "code",
   "execution_count": 6,
   "metadata": {},
   "outputs": [],
   "source": [
    "def draw_graph(df, feature, name, title):\n",
    "    html_path = \"https://harmony-one.github.io/harmony-log-analysis/\" + html_dir.replace(\"../../docs/\", \"\")\n",
    "    \n",
    "    hover = df.columns.tolist()\n",
    "    fig = px.line(df, x='date', y=feature, color_discrete_sequence = ['#99d6ff'], title = 'Harmony {} Chart'.format(title))\n",
    "\n",
    "    fig.update_xaxes({'showgrid': False, 'showspikes': True, 'title': None})\n",
    "    fig.update_yaxes({'gridcolor': \"#E8E8E8\"})\n",
    "    fig.update_layout({'plot_bgcolor':'rgba(0,0,0,0)', \"title_x\": 0.5, 'hovermode': 'closest'})\n",
    "#     fig.show(renderer=\"svg\",width=800, height=500)\n",
    "    fig.write_html(\"{:s}{:s}.html\".format(html_dir, name))\n",
    "    print(\"HTML saved in \" )\n",
    "    display_path = \"{:s}{:s}.html\".format(html_path, name)\n",
    "    display(HTML(\"<a href='\" + display_path + \"' target='_blank'>\" + display_path + \"</a>\"))\n",
    "    return fig"
   ]
  },
  {
   "cell_type": "code",
   "execution_count": 7,
   "metadata": {},
   "outputs": [],
   "source": [
    "def draw_area_graph(df, feature, name, title):\n",
    "    html_path = \"https://harmony-one.github.io/harmony-log-analysis/\" + html_dir.replace(\"../../docs/\", \"\")\n",
    "    \n",
    "    hover = df.columns.tolist()\n",
    "    fig = px.area(df, x='date', y=feature, color_discrete_sequence = ['#99d6ff'], title = 'Harmony {} Chart'.format(title))\n",
    "\n",
    "    fig.update_xaxes({'showgrid': False, 'showspikes': True, 'title': None})\n",
    "    fig.update_yaxes({'gridcolor': \"#E8E8E8\"})\n",
    "    fig.update_layout({'plot_bgcolor':'rgba(0,0,0,0)', \"title_x\": 0.5, 'hovermode': 'closest'})\n",
    "#     fig.show(renderer=\"svg\",width=800, height=500)\n",
    "    fig.write_html(\"{:s}{:s}.html\".format(html_dir, name))\n",
    "    print(\"HTML saved in \" )\n",
    "    display_path = \"{:s}{:s}.html\".format(html_path, name)\n",
    "    display(HTML(\"<a href='\" + display_path + \"' target='_blank'>\" + display_path + \"</a>\"))\n",
    "    return fig"
   ]
  },
  {
   "cell_type": "markdown",
   "metadata": {},
   "source": [
    "## Daily Total Gas Used"
   ]
  },
  {
   "cell_type": "code",
   "execution_count": 8,
   "metadata": {},
   "outputs": [
    {
     "name": "stdout",
     "output_type": "stream",
     "text": [
      "HTML saved in \n"
     ]
    },
    {
     "data": {
      "text/html": [
       "<a href='https://harmony-one.github.io/harmony-log-analysis/graphs/transparency_report/daily_gas_used.html' target='_blank'>https://harmony-one.github.io/harmony-log-analysis/graphs/transparency_report/daily_gas_used.html</a>"
      ],
      "text/plain": [
       "<IPython.core.display.HTML object>"
      ]
     },
     "metadata": {},
     "output_type": "display_data"
    },
    {
     "data": {
      "image/svg+xml": [
       "<svg class=\"main-svg\" xmlns=\"http://www.w3.org/2000/svg\" xmlns:xlink=\"http://www.w3.org/1999/xlink\" width=\"800\" height=\"500\" style=\"\" viewBox=\"0 0 800 500\"><rect x=\"0\" y=\"0\" width=\"800\" height=\"500\" style=\"fill: rgb(255, 255, 255); fill-opacity: 1;\"/><defs id=\"defs-02a97a\"><g class=\"clips\"><clipPath id=\"clip02a97axyplot\" class=\"plotclip\"><rect width=\"640\" height=\"320\"/></clipPath><clipPath class=\"axesclip\" id=\"clip02a97ax\"><rect x=\"80\" y=\"0\" width=\"640\" height=\"500\"/></clipPath><clipPath class=\"axesclip\" id=\"clip02a97ay\"><rect x=\"0\" y=\"100\" width=\"800\" height=\"320\"/></clipPath><clipPath class=\"axesclip\" id=\"clip02a97axy\"><rect x=\"80\" y=\"100\" width=\"640\" height=\"320\"/></clipPath></g><g class=\"gradients\"/></defs><g class=\"bglayer\"><rect class=\"bg\" x=\"80\" y=\"100\" width=\"640\" height=\"320\" style=\"fill: rgb(0, 0, 0); fill-opacity: 0; stroke-width: 0;\"/></g><g class=\"layer-below\"><g class=\"imagelayer\"/><g class=\"shapelayer\"/></g><g class=\"cartesianlayer\"><g class=\"subplot xy\"><g class=\"layer-subplot\"><g class=\"shapelayer\"/><g class=\"imagelayer\"/></g><g class=\"gridlayer\"><g class=\"x\"/><g class=\"y\"><path class=\"ygrid crisp\" transform=\"translate(0,355.58000000000004)\" d=\"M80,0h640\" style=\"stroke: rgb(232, 232, 232); stroke-opacity: 1; stroke-width: 1px;\"/><path class=\"ygrid crisp\" transform=\"translate(0,306.49)\" d=\"M80,0h640\" style=\"stroke: rgb(232, 232, 232); stroke-opacity: 1; stroke-width: 1px;\"/><path class=\"ygrid crisp\" transform=\"translate(0,257.40999999999997)\" d=\"M80,0h640\" style=\"stroke: rgb(232, 232, 232); stroke-opacity: 1; stroke-width: 1px;\"/><path class=\"ygrid crisp\" transform=\"translate(0,208.32999999999998)\" d=\"M80,0h640\" style=\"stroke: rgb(232, 232, 232); stroke-opacity: 1; stroke-width: 1px;\"/><path class=\"ygrid crisp\" transform=\"translate(0,159.25)\" d=\"M80,0h640\" style=\"stroke: rgb(232, 232, 232); stroke-opacity: 1; stroke-width: 1px;\"/><path class=\"ygrid crisp\" transform=\"translate(0,110.16)\" d=\"M80,0h640\" style=\"stroke: rgb(232, 232, 232); stroke-opacity: 1; stroke-width: 1px;\"/></g></g><g class=\"zerolinelayer\"><path class=\"yzl zl crisp\" transform=\"translate(0,404.66)\" d=\"M80,0h640\" style=\"stroke: rgb(255, 255, 255); stroke-opacity: 1; stroke-width: 2px;\"/></g><path class=\"xlines-below\"/><path class=\"ylines-below\"/><g class=\"overlines-below\"/><g class=\"xaxislayer-below\"/><g class=\"yaxislayer-below\"/><g class=\"overaxes-below\"/><g class=\"plot\" transform=\"translate(80, 100)\" clip-path=\"url('#clip02a97axyplot')\"><g class=\"scatterlayer mlayer\"><g class=\"trace scatter trace27fe3f\" style=\"stroke-miterlimit: 2; opacity: 1;\"><g class=\"fills\"/><g class=\"errorbars\"/><g class=\"lines\"><path class=\"js-line\" d=\"M0,304L9.85,293.69L19.69,295.92L29.54,290.45L39.38,294.84L49.23,293.46L59.08,295.99L68.92,289.52L78.77,286.08L88.62,16L98.46,192.02L108.31,265.36L118.15,245.92L128,275.18L137.85,252.47L147.69,268.53L157.54,253.81L167.38,273.86L177.23,281.74L187.08,281.31L196.92,275.12L206.77,275.05L216.62,244.53L226.46,270.07L236.31,274.33L246.15,276.94L256,285.69L275.69,288.63L285.54,282.12L295.38,262.86L305.23,274.01L315.08,287.47L324.92,289.85L334.77,289.87L344.62,286.24L364.31,286.95L374.15,283.53L384,287.1L393.85,284.92L403.69,285.2L413.54,274.45L433.23,291.38L443.08,290.55L452.92,287.6L462.77,283.4L472.62,285.83L482.46,286.29L492.31,289.83L502.15,263.95L521.85,281.02L531.69,285.65L541.54,276.67L551.38,283.54L561.23,275.22L571.08,270.19L580.92,277.49L590.77,282.64L600.62,285.47L610.46,284.63L620.31,269.01L630.15,276.76L640,287.88\" style=\"vector-effect: non-scaling-stroke; fill: none; stroke: rgb(153, 214, 255); stroke-opacity: 1; stroke-width: 2px; opacity: 1;\"/></g><g class=\"points\"/><g class=\"text\"/></g></g></g><g class=\"overplot\"/><path class=\"xlines-above crisp\" d=\"M0,0\" style=\"fill: none;\"/><path class=\"ylines-above crisp\" d=\"M0,0\" style=\"fill: none;\"/><g class=\"overlines-above\"/><g class=\"xaxislayer-above\"><g class=\"xtick\"><text text-anchor=\"middle\" x=\"0\" y=\"433\" transform=\"translate(119.38,0)\" style=\"font-family: 'Open Sans', verdana, arial, sans-serif; font-size: 12px; fill: rgb(42, 63, 95); fill-opacity: 1; white-space: pre;\"><tspan class=\"line\" dy=\"0em\" x=\"0\" y=\"433\">May 10</tspan><tspan class=\"line\" dy=\"1.3em\" x=\"0\" y=\"433\">2020</tspan></text></g><g class=\"xtick\"><text text-anchor=\"middle\" x=\"0\" y=\"433\" transform=\"translate(257.23,0)\" style=\"font-family: 'Open Sans', verdana, arial, sans-serif; font-size: 12px; fill: rgb(42, 63, 95); fill-opacity: 1; white-space: pre;\">May 24</text></g><g class=\"xtick\"><text text-anchor=\"middle\" x=\"0\" y=\"433\" transform=\"translate(395.08,0)\" style=\"font-family: 'Open Sans', verdana, arial, sans-serif; font-size: 12px; fill: rgb(42, 63, 95); fill-opacity: 1; white-space: pre;\">Jun 7</text></g><g class=\"xtick\"><text text-anchor=\"middle\" x=\"0\" y=\"433\" transform=\"translate(532.9200000000001,0)\" style=\"font-family: 'Open Sans', verdana, arial, sans-serif; font-size: 12px; fill: rgb(42, 63, 95); fill-opacity: 1; white-space: pre;\">Jun 21</text></g><g class=\"xtick\"><text text-anchor=\"middle\" x=\"0\" y=\"433\" transform=\"translate(670.77,0)\" style=\"font-family: 'Open Sans', verdana, arial, sans-serif; font-size: 12px; fill: rgb(42, 63, 95); fill-opacity: 1; white-space: pre;\">Jul 5</text></g></g><g class=\"yaxislayer-above\"><g class=\"ytick\"><text text-anchor=\"end\" x=\"79\" y=\"4.199999999999999\" transform=\"translate(0,404.66)\" style=\"font-family: 'Open Sans', verdana, arial, sans-serif; font-size: 12px; fill: rgb(42, 63, 95); fill-opacity: 1; white-space: pre;\">0</text></g><g class=\"ytick\"><text text-anchor=\"end\" x=\"79\" y=\"4.199999999999999\" transform=\"translate(0,355.58000000000004)\" style=\"font-family: 'Open Sans', verdana, arial, sans-serif; font-size: 12px; fill: rgb(42, 63, 95); fill-opacity: 1; white-space: pre;\">100M</text></g><g class=\"ytick\"><text text-anchor=\"end\" x=\"79\" y=\"4.199999999999999\" transform=\"translate(0,306.49)\" style=\"font-family: 'Open Sans', verdana, arial, sans-serif; font-size: 12px; fill: rgb(42, 63, 95); fill-opacity: 1; white-space: pre;\">200M</text></g><g class=\"ytick\"><text text-anchor=\"end\" x=\"79\" y=\"4.199999999999999\" transform=\"translate(0,257.40999999999997)\" style=\"font-family: 'Open Sans', verdana, arial, sans-serif; font-size: 12px; fill: rgb(42, 63, 95); fill-opacity: 1; white-space: pre;\">300M</text></g><g class=\"ytick\"><text text-anchor=\"end\" x=\"79\" y=\"4.199999999999999\" transform=\"translate(0,208.32999999999998)\" style=\"font-family: 'Open Sans', verdana, arial, sans-serif; font-size: 12px; fill: rgb(42, 63, 95); fill-opacity: 1; white-space: pre;\">400M</text></g><g class=\"ytick\"><text text-anchor=\"end\" x=\"79\" y=\"4.199999999999999\" transform=\"translate(0,159.25)\" style=\"font-family: 'Open Sans', verdana, arial, sans-serif; font-size: 12px; fill: rgb(42, 63, 95); fill-opacity: 1; white-space: pre;\">500M</text></g><g class=\"ytick\"><text text-anchor=\"end\" x=\"79\" y=\"4.199999999999999\" transform=\"translate(0,110.16)\" style=\"font-family: 'Open Sans', verdana, arial, sans-serif; font-size: 12px; fill: rgb(42, 63, 95); fill-opacity: 1; white-space: pre;\">600M</text></g></g><g class=\"overaxes-above\"/></g></g><g class=\"polarlayer\"/><g class=\"ternarylayer\"/><g class=\"geolayer\"/><g class=\"funnelarealayer\"/><g class=\"pielayer\"/><g class=\"treemaplayer\"/><g class=\"sunburstlayer\"/><g class=\"glimages\"/><defs id=\"topdefs-02a97a\"><g class=\"clips\"/></defs><g class=\"layer-above\"><g class=\"imagelayer\"/><g class=\"shapelayer\"/></g><g class=\"infolayer\"><g class=\"g-gtitle\"><text class=\"gtitle\" x=\"400\" y=\"50\" text-anchor=\"middle\" dy=\"0em\" style=\"font-family: 'Open Sans', verdana, arial, sans-serif; font-size: 17px; fill: rgb(42, 63, 95); opacity: 1; font-weight: normal; white-space: pre;\">Harmony Daily Gas Used Chart</text></g><g class=\"g-xtitle\"/><g class=\"g-ytitle\"><text class=\"ytitle\" transform=\"rotate(-90,20.934375000000003,260)\" x=\"20.934375000000003\" y=\"260\" text-anchor=\"middle\" style=\"font-family: 'Open Sans', verdana, arial, sans-serif; font-size: 14px; fill: rgb(42, 63, 95); opacity: 1; font-weight: normal; white-space: pre;\">Total Gas Used Per Day</text></g></g></svg>"
      ]
     },
     "metadata": {},
     "output_type": "display_data"
    }
   ],
   "source": [
    "fig = draw_graph(df, 'total-gas-used','daily_gas_used', 'Daily Gas Used')\n",
    "fig.update_layout(yaxis_title=\"Total Gas Used Per Day\")\n",
    "fig.show(renderer=\"svg\",width=800, height=500)\n"
   ]
  },
  {
   "cell_type": "markdown",
   "metadata": {},
   "source": [
    "## Average Gas Limit"
   ]
  },
  {
   "cell_type": "code",
   "execution_count": 9,
   "metadata": {},
   "outputs": [
    {
     "name": "stdout",
     "output_type": "stream",
     "text": [
      "HTML saved in \n"
     ]
    },
    {
     "data": {
      "text/html": [
       "<a href='https://harmony-one.github.io/harmony-log-analysis/graphs/transparency_report/avg_gas_limit.html' target='_blank'>https://harmony-one.github.io/harmony-log-analysis/graphs/transparency_report/avg_gas_limit.html</a>"
      ],
      "text/plain": [
       "<IPython.core.display.HTML object>"
      ]
     },
     "metadata": {},
     "output_type": "display_data"
    },
    {
     "data": {
      "image/svg+xml": [
       "<svg class=\"main-svg\" xmlns=\"http://www.w3.org/2000/svg\" xmlns:xlink=\"http://www.w3.org/1999/xlink\" width=\"800\" height=\"500\" style=\"\" viewBox=\"0 0 800 500\"><rect x=\"0\" y=\"0\" width=\"800\" height=\"500\" style=\"fill: rgb(255, 255, 255); fill-opacity: 1;\"/><defs id=\"defs-95b4c9\"><g class=\"clips\"><clipPath id=\"clip95b4c9xyplot\" class=\"plotclip\"><rect width=\"640\" height=\"320\"/></clipPath><clipPath class=\"axesclip\" id=\"clip95b4c9x\"><rect x=\"80\" y=\"0\" width=\"640\" height=\"500\"/></clipPath><clipPath class=\"axesclip\" id=\"clip95b4c9y\"><rect x=\"0\" y=\"100\" width=\"800\" height=\"320\"/></clipPath><clipPath class=\"axesclip\" id=\"clip95b4c9xy\"><rect x=\"80\" y=\"100\" width=\"640\" height=\"320\"/></clipPath></g><g class=\"gradients\"/></defs><g class=\"bglayer\"><rect class=\"bg\" x=\"80\" y=\"100\" width=\"640\" height=\"320\" style=\"fill: rgb(0, 0, 0); fill-opacity: 0; stroke-width: 0;\"/></g><g class=\"layer-below\"><g class=\"imagelayer\"/><g class=\"shapelayer\"/></g><g class=\"cartesianlayer\"><g class=\"subplot xy\"><g class=\"layer-subplot\"><g class=\"shapelayer\"/><g class=\"imagelayer\"/></g><g class=\"gridlayer\"><g class=\"x\"/><g class=\"y\"><path class=\"ygrid crisp\" transform=\"translate(0,382)\" d=\"M80,0h640\" style=\"stroke: rgb(232, 232, 232); stroke-opacity: 1; stroke-width: 1px;\"/><path class=\"ygrid crisp\" transform=\"translate(0,344)\" d=\"M80,0h640\" style=\"stroke: rgb(232, 232, 232); stroke-opacity: 1; stroke-width: 1px;\"/><path class=\"ygrid crisp\" transform=\"translate(0,306)\" d=\"M80,0h640\" style=\"stroke: rgb(232, 232, 232); stroke-opacity: 1; stroke-width: 1px;\"/><path class=\"ygrid crisp\" transform=\"translate(0,268)\" d=\"M80,0h640\" style=\"stroke: rgb(232, 232, 232); stroke-opacity: 1; stroke-width: 1px;\"/><path class=\"ygrid crisp\" transform=\"translate(0,230)\" d=\"M80,0h640\" style=\"stroke: rgb(232, 232, 232); stroke-opacity: 1; stroke-width: 1px;\"/><path class=\"ygrid crisp\" transform=\"translate(0,192)\" d=\"M80,0h640\" style=\"stroke: rgb(232, 232, 232); stroke-opacity: 1; stroke-width: 1px;\"/><path class=\"ygrid crisp\" transform=\"translate(0,154)\" d=\"M80,0h640\" style=\"stroke: rgb(232, 232, 232); stroke-opacity: 1; stroke-width: 1px;\"/><path class=\"ygrid crisp\" transform=\"translate(0,116)\" d=\"M80,0h640\" style=\"stroke: rgb(232, 232, 232); stroke-opacity: 1; stroke-width: 1px;\"/></g></g><g class=\"zerolinelayer\"><path class=\"yzl zl crisp\" transform=\"translate(0,420)\" d=\"M80,0h640\" style=\"stroke: rgb(255, 255, 255); stroke-opacity: 1; stroke-width: 2px;\"/></g><path class=\"xlines-below\"/><path class=\"ylines-below\"/><g class=\"overlines-below\"/><g class=\"xaxislayer-below\"/><g class=\"yaxislayer-below\"/><g class=\"overaxes-below\"/><g class=\"plot\" transform=\"translate(80, 100)\" clip-path=\"url('#clip95b4c9xyplot')\"><g class=\"scatterlayer mlayer\"><g class=\"trace scatter tracec2e812\" style=\"stroke-miterlimit: 2;\"><g class=\"fills\"><g><path class=\"js-fill\" d=\"M640,320L0,320L0,16L640,16\" style=\"fill: rgb(153, 214, 255); fill-opacity: 0.5; stroke-width: 0;\"/></g></g><g class=\"errorbars\"/><g class=\"lines\"><path class=\"js-line\" d=\"M0,16L640,16\" style=\"vector-effect: non-scaling-stroke; fill: none; stroke: rgb(153, 214, 255); stroke-opacity: 1; stroke-width: 2px; opacity: 1;\"/></g><g class=\"points\"/><g class=\"text\"/></g></g></g><g class=\"overplot\"/><path class=\"xlines-above crisp\" d=\"M0,0\" style=\"fill: none;\"/><path class=\"ylines-above crisp\" d=\"M0,0\" style=\"fill: none;\"/><g class=\"overlines-above\"/><g class=\"xaxislayer-above\"><g class=\"xtick\"><text text-anchor=\"middle\" x=\"0\" y=\"433\" transform=\"translate(119.38,0)\" style=\"font-family: 'Open Sans', verdana, arial, sans-serif; font-size: 12px; fill: rgb(42, 63, 95); fill-opacity: 1; white-space: pre;\"><tspan class=\"line\" dy=\"0em\" x=\"0\" y=\"433\">May 10</tspan><tspan class=\"line\" dy=\"1.3em\" x=\"0\" y=\"433\">2020</tspan></text></g><g class=\"xtick\"><text text-anchor=\"middle\" x=\"0\" y=\"433\" transform=\"translate(257.23,0)\" style=\"font-family: 'Open Sans', verdana, arial, sans-serif; font-size: 12px; fill: rgb(42, 63, 95); fill-opacity: 1; white-space: pre;\">May 24</text></g><g class=\"xtick\"><text text-anchor=\"middle\" x=\"0\" y=\"433\" transform=\"translate(395.08,0)\" style=\"font-family: 'Open Sans', verdana, arial, sans-serif; font-size: 12px; fill: rgb(42, 63, 95); fill-opacity: 1; white-space: pre;\">Jun 7</text></g><g class=\"xtick\"><text text-anchor=\"middle\" x=\"0\" y=\"433\" transform=\"translate(532.9200000000001,0)\" style=\"font-family: 'Open Sans', verdana, arial, sans-serif; font-size: 12px; fill: rgb(42, 63, 95); fill-opacity: 1; white-space: pre;\">Jun 21</text></g><g class=\"xtick\"><text text-anchor=\"middle\" x=\"0\" y=\"433\" transform=\"translate(670.77,0)\" style=\"font-family: 'Open Sans', verdana, arial, sans-serif; font-size: 12px; fill: rgb(42, 63, 95); fill-opacity: 1; white-space: pre;\">Jul 5</text></g></g><g class=\"yaxislayer-above\"><g class=\"ytick\"><text text-anchor=\"end\" x=\"79\" y=\"4.199999999999999\" transform=\"translate(0,420)\" style=\"font-family: 'Open Sans', verdana, arial, sans-serif; font-size: 12px; fill: rgb(42, 63, 95); fill-opacity: 1; white-space: pre;\">0</text></g><g class=\"ytick\"><text text-anchor=\"end\" x=\"79\" y=\"4.199999999999999\" transform=\"translate(0,382)\" style=\"font-family: 'Open Sans', verdana, arial, sans-serif; font-size: 12px; fill: rgb(42, 63, 95); fill-opacity: 1; white-space: pre;\">10M</text></g><g class=\"ytick\"><text text-anchor=\"end\" x=\"79\" y=\"4.199999999999999\" transform=\"translate(0,344)\" style=\"font-family: 'Open Sans', verdana, arial, sans-serif; font-size: 12px; fill: rgb(42, 63, 95); fill-opacity: 1; white-space: pre;\">20M</text></g><g class=\"ytick\"><text text-anchor=\"end\" x=\"79\" y=\"4.199999999999999\" transform=\"translate(0,306)\" style=\"font-family: 'Open Sans', verdana, arial, sans-serif; font-size: 12px; fill: rgb(42, 63, 95); fill-opacity: 1; white-space: pre;\">30M</text></g><g class=\"ytick\"><text text-anchor=\"end\" x=\"79\" y=\"4.199999999999999\" transform=\"translate(0,268)\" style=\"font-family: 'Open Sans', verdana, arial, sans-serif; font-size: 12px; fill: rgb(42, 63, 95); fill-opacity: 1; white-space: pre;\">40M</text></g><g class=\"ytick\"><text text-anchor=\"end\" x=\"79\" y=\"4.199999999999999\" transform=\"translate(0,230)\" style=\"font-family: 'Open Sans', verdana, arial, sans-serif; font-size: 12px; fill: rgb(42, 63, 95); fill-opacity: 1; white-space: pre;\">50M</text></g><g class=\"ytick\"><text text-anchor=\"end\" x=\"79\" y=\"4.199999999999999\" transform=\"translate(0,192)\" style=\"font-family: 'Open Sans', verdana, arial, sans-serif; font-size: 12px; fill: rgb(42, 63, 95); fill-opacity: 1; white-space: pre;\">60M</text></g><g class=\"ytick\"><text text-anchor=\"end\" x=\"79\" y=\"4.199999999999999\" transform=\"translate(0,154)\" style=\"font-family: 'Open Sans', verdana, arial, sans-serif; font-size: 12px; fill: rgb(42, 63, 95); fill-opacity: 1; white-space: pre;\">70M</text></g><g class=\"ytick\"><text text-anchor=\"end\" x=\"79\" y=\"4.199999999999999\" transform=\"translate(0,116)\" style=\"font-family: 'Open Sans', verdana, arial, sans-serif; font-size: 12px; fill: rgb(42, 63, 95); fill-opacity: 1; white-space: pre;\">80M</text></g></g><g class=\"overaxes-above\"/></g></g><g class=\"polarlayer\"/><g class=\"ternarylayer\"/><g class=\"geolayer\"/><g class=\"funnelarealayer\"/><g class=\"pielayer\"/><g class=\"treemaplayer\"/><g class=\"sunburstlayer\"/><g class=\"glimages\"/><defs id=\"topdefs-95b4c9\"><g class=\"clips\"/></defs><g class=\"layer-above\"><g class=\"imagelayer\"/><g class=\"shapelayer\"/></g><g class=\"infolayer\"><g class=\"g-gtitle\"><text class=\"gtitle\" x=\"400\" y=\"50\" text-anchor=\"middle\" dy=\"0em\" style=\"font-family: 'Open Sans', verdana, arial, sans-serif; font-size: 17px; fill: rgb(42, 63, 95); opacity: 1; font-weight: normal; white-space: pre;\">Harmony Average Gas Limit Chart</text></g><g class=\"g-xtitle\"/><g class=\"g-ytitle\"><text class=\"ytitle\" transform=\"rotate(-90,28.575000000000003,260)\" x=\"28.575000000000003\" y=\"260\" text-anchor=\"middle\" style=\"font-family: 'Open Sans', verdana, arial, sans-serif; font-size: 14px; fill: rgb(42, 63, 95); opacity: 1; font-weight: normal; white-space: pre;\">Average Gas Limit</text></g></g></svg>"
      ]
     },
     "metadata": {},
     "output_type": "display_data"
    }
   ],
   "source": [
    "fig = draw_area_graph(df, 'avg-gas-limit','avg_gas_limit', 'Average Gas Limit')\n",
    "fig.update_layout(yaxis_title=\"Average Gas Limit\")\n",
    "fig.show(renderer=\"svg\",width=800, height=500)"
   ]
  },
  {
   "cell_type": "markdown",
   "metadata": {},
   "source": [
    "## Average Size "
   ]
  },
  {
   "cell_type": "code",
   "execution_count": 10,
   "metadata": {},
   "outputs": [
    {
     "name": "stdout",
     "output_type": "stream",
     "text": [
      "HTML saved in \n"
     ]
    },
    {
     "data": {
      "text/html": [
       "<a href='https://harmony-one.github.io/harmony-log-analysis/graphs/transparency_report/avg_size.html' target='_blank'>https://harmony-one.github.io/harmony-log-analysis/graphs/transparency_report/avg_size.html</a>"
      ],
      "text/plain": [
       "<IPython.core.display.HTML object>"
      ]
     },
     "metadata": {},
     "output_type": "display_data"
    },
    {
     "data": {
      "image/svg+xml": [
       "<svg class=\"main-svg\" xmlns=\"http://www.w3.org/2000/svg\" xmlns:xlink=\"http://www.w3.org/1999/xlink\" width=\"800\" height=\"500\" style=\"\" viewBox=\"0 0 800 500\"><rect x=\"0\" y=\"0\" width=\"800\" height=\"500\" style=\"fill: rgb(255, 255, 255); fill-opacity: 1;\"/><defs id=\"defs-120096\"><g class=\"clips\"><clipPath id=\"clip120096xyplot\" class=\"plotclip\"><rect width=\"640\" height=\"320\"/></clipPath><clipPath class=\"axesclip\" id=\"clip120096x\"><rect x=\"80\" y=\"0\" width=\"640\" height=\"500\"/></clipPath><clipPath class=\"axesclip\" id=\"clip120096y\"><rect x=\"0\" y=\"100\" width=\"800\" height=\"320\"/></clipPath><clipPath class=\"axesclip\" id=\"clip120096xy\"><rect x=\"80\" y=\"100\" width=\"640\" height=\"320\"/></clipPath></g><g class=\"gradients\"/></defs><g class=\"bglayer\"><rect class=\"bg\" x=\"80\" y=\"100\" width=\"640\" height=\"320\" style=\"fill: rgb(0, 0, 0); fill-opacity: 0; stroke-width: 0;\"/></g><g class=\"layer-below\"><g class=\"imagelayer\"/><g class=\"shapelayer\"/></g><g class=\"cartesianlayer\"><g class=\"subplot xy\"><g class=\"layer-subplot\"><g class=\"shapelayer\"/><g class=\"imagelayer\"/></g><g class=\"gridlayer\"><g class=\"x\"/><g class=\"y\"><path class=\"ygrid crisp\" transform=\"translate(0,385)\" d=\"M80,0h640\" style=\"stroke: rgb(232, 232, 232); stroke-opacity: 1; stroke-width: 1px;\"/><path class=\"ygrid crisp\" transform=\"translate(0,296.18)\" d=\"M80,0h640\" style=\"stroke: rgb(232, 232, 232); stroke-opacity: 1; stroke-width: 1px;\"/><path class=\"ygrid crisp\" transform=\"translate(0,207.36)\" d=\"M80,0h640\" style=\"stroke: rgb(232, 232, 232); stroke-opacity: 1; stroke-width: 1px;\"/><path class=\"ygrid crisp\" transform=\"translate(0,118.55)\" d=\"M80,0h640\" style=\"stroke: rgb(232, 232, 232); stroke-opacity: 1; stroke-width: 1px;\"/></g></g><g class=\"zerolinelayer\"/><path class=\"xlines-below\"/><path class=\"ylines-below\"/><g class=\"overlines-below\"/><g class=\"xaxislayer-below\"/><g class=\"yaxislayer-below\"/><g class=\"overaxes-below\"/><g class=\"plot\" transform=\"translate(80, 100)\" clip-path=\"url('#clip120096xyplot')\"><g class=\"scatterlayer mlayer\"><g class=\"trace scatter trace0a35e9\" style=\"stroke-miterlimit: 2; opacity: 1;\"><g class=\"fills\"/><g class=\"errorbars\"/><g class=\"lines\"><path class=\"js-line\" d=\"M0,304L9.85,290.79L19.69,291.6L29.54,292.84L39.38,292.24L49.23,291.15L59.08,298.65L68.92,288.74L78.77,289.91L88.62,289.58L98.46,192.24L108.31,186.51L118.15,159.48L128,16L137.85,19.53L147.69,68.65L157.54,86.6L167.38,103.12L177.23,84.77L187.08,96.52L196.92,84.26L206.77,93.51L216.62,67.33L226.46,82.07L236.31,85.63L246.15,91.26L256,106.15L265.85,93.56L275.69,111.15L285.54,91.61L295.38,84.94L305.23,101.75L315.08,96.51L324.92,106.69L334.77,93.87L344.62,117.77L354.46,104.55L364.31,95.96L374.15,95.16L384,108.71L393.85,91.02L403.69,107.63L413.54,96.41L423.38,96.29L433.23,109.28L443.08,94.85L452.92,108.79L462.77,90.92L472.62,104.33L482.46,111.65L492.31,110.06L502.15,78.28L512,83.13L521.85,105.94L531.69,93.12L541.54,106.66L551.38,94.78L561.23,108.05L571.08,89.48L580.92,97.73L590.77,113.42L600.62,97.29L610.46,113.23L620.31,96.02L630.15,98.01L640,117.34\" style=\"vector-effect: non-scaling-stroke; fill: none; stroke: rgb(153, 214, 255); stroke-opacity: 1; stroke-width: 2px; opacity: 1;\"/></g><g class=\"points\"/><g class=\"text\"/></g></g></g><g class=\"overplot\"/><path class=\"xlines-above crisp\" d=\"M0,0\" style=\"fill: none;\"/><path class=\"ylines-above crisp\" d=\"M0,0\" style=\"fill: none;\"/><g class=\"overlines-above\"/><g class=\"xaxislayer-above\"><g class=\"xtick\"><text text-anchor=\"middle\" x=\"0\" y=\"433\" transform=\"translate(119.38,0)\" style=\"font-family: 'Open Sans', verdana, arial, sans-serif; font-size: 12px; fill: rgb(42, 63, 95); fill-opacity: 1; white-space: pre;\"><tspan class=\"line\" dy=\"0em\" x=\"0\" y=\"433\">May 10</tspan><tspan class=\"line\" dy=\"1.3em\" x=\"0\" y=\"433\">2020</tspan></text></g><g class=\"xtick\"><text text-anchor=\"middle\" x=\"0\" y=\"433\" transform=\"translate(257.23,0)\" style=\"font-family: 'Open Sans', verdana, arial, sans-serif; font-size: 12px; fill: rgb(42, 63, 95); fill-opacity: 1; white-space: pre;\">May 24</text></g><g class=\"xtick\"><text text-anchor=\"middle\" x=\"0\" y=\"433\" transform=\"translate(395.08,0)\" style=\"font-family: 'Open Sans', verdana, arial, sans-serif; font-size: 12px; fill: rgb(42, 63, 95); fill-opacity: 1; white-space: pre;\">Jun 7</text></g><g class=\"xtick\"><text text-anchor=\"middle\" x=\"0\" y=\"433\" transform=\"translate(532.9200000000001,0)\" style=\"font-family: 'Open Sans', verdana, arial, sans-serif; font-size: 12px; fill: rgb(42, 63, 95); fill-opacity: 1; white-space: pre;\">Jun 21</text></g><g class=\"xtick\"><text text-anchor=\"middle\" x=\"0\" y=\"433\" transform=\"translate(670.77,0)\" style=\"font-family: 'Open Sans', verdana, arial, sans-serif; font-size: 12px; fill: rgb(42, 63, 95); fill-opacity: 1; white-space: pre;\">Jul 5</text></g></g><g class=\"yaxislayer-above\"><g class=\"ytick\"><text text-anchor=\"end\" x=\"79\" y=\"4.199999999999999\" transform=\"translate(0,385)\" style=\"font-family: 'Open Sans', verdana, arial, sans-serif; font-size: 12px; fill: rgb(42, 63, 95); fill-opacity: 1; white-space: pre;\">750</text></g><g class=\"ytick\"><text text-anchor=\"end\" x=\"79\" y=\"4.199999999999999\" transform=\"translate(0,296.18)\" style=\"font-family: 'Open Sans', verdana, arial, sans-serif; font-size: 12px; fill: rgb(42, 63, 95); fill-opacity: 1; white-space: pre;\">800</text></g><g class=\"ytick\"><text text-anchor=\"end\" x=\"79\" y=\"4.199999999999999\" transform=\"translate(0,207.36)\" style=\"font-family: 'Open Sans', verdana, arial, sans-serif; font-size: 12px; fill: rgb(42, 63, 95); fill-opacity: 1; white-space: pre;\">850</text></g><g class=\"ytick\"><text text-anchor=\"end\" x=\"79\" y=\"4.199999999999999\" transform=\"translate(0,118.55)\" style=\"font-family: 'Open Sans', verdana, arial, sans-serif; font-size: 12px; fill: rgb(42, 63, 95); fill-opacity: 1; white-space: pre;\">900</text></g></g><g class=\"overaxes-above\"/></g></g><g class=\"polarlayer\"/><g class=\"ternarylayer\"/><g class=\"geolayer\"/><g class=\"funnelarealayer\"/><g class=\"pielayer\"/><g class=\"treemaplayer\"/><g class=\"sunburstlayer\"/><g class=\"glimages\"/><defs id=\"topdefs-120096\"><g class=\"clips\"/></defs><g class=\"layer-above\"><g class=\"imagelayer\"/><g class=\"shapelayer\"/></g><g class=\"infolayer\"><g class=\"g-gtitle\"><text class=\"gtitle\" x=\"400\" y=\"50\" text-anchor=\"middle\" dy=\"0em\" style=\"font-family: 'Open Sans', verdana, arial, sans-serif; font-size: 17px; fill: rgb(42, 63, 95); opacity: 1; font-weight: normal; white-space: pre;\">Harmony Average Block Size Chart</text></g><g class=\"g-xtitle\"/><g class=\"g-ytitle\"><text class=\"ytitle\" transform=\"rotate(-90,31.293750000000003,260)\" x=\"31.293750000000003\" y=\"260\" text-anchor=\"middle\" style=\"font-family: 'Open Sans', verdana, arial, sans-serif; font-size: 14px; fill: rgb(42, 63, 95); opacity: 1; font-weight: normal; white-space: pre;\">Block Size in Bytes</text></g></g></svg>"
      ]
     },
     "metadata": {},
     "output_type": "display_data"
    }
   ],
   "source": [
    "fig = draw_graph(df, 'avg-size','avg_size', 'Average Block Size')\n",
    "fig.update_layout(yaxis_title=\"Block Size in Bytes\")\n",
    "fig.show(renderer=\"svg\",width=800, height=500)"
   ]
  },
  {
   "cell_type": "markdown",
   "metadata": {},
   "source": [
    "## Daily Volumn "
   ]
  },
  {
   "cell_type": "code",
   "execution_count": 11,
   "metadata": {},
   "outputs": [
    {
     "name": "stdout",
     "output_type": "stream",
     "text": [
      "HTML saved in \n"
     ]
    },
    {
     "data": {
      "text/html": [
       "<a href='https://harmony-one.github.io/harmony-log-analysis/graphs/transparency_report/daily_volumn.html' target='_blank'>https://harmony-one.github.io/harmony-log-analysis/graphs/transparency_report/daily_volumn.html</a>"
      ],
      "text/plain": [
       "<IPython.core.display.HTML object>"
      ]
     },
     "metadata": {},
     "output_type": "display_data"
    },
    {
     "data": {
      "image/svg+xml": [
       "<svg class=\"main-svg\" xmlns=\"http://www.w3.org/2000/svg\" xmlns:xlink=\"http://www.w3.org/1999/xlink\" width=\"800\" height=\"500\" style=\"\" viewBox=\"0 0 800 500\"><rect x=\"0\" y=\"0\" width=\"800\" height=\"500\" style=\"fill: rgb(255, 255, 255); fill-opacity: 1;\"/><defs id=\"defs-f575b8\"><g class=\"clips\"><clipPath id=\"clipf575b8xyplot\" class=\"plotclip\"><rect width=\"640\" height=\"320\"/></clipPath><clipPath class=\"axesclip\" id=\"clipf575b8x\"><rect x=\"80\" y=\"0\" width=\"640\" height=\"500\"/></clipPath><clipPath class=\"axesclip\" id=\"clipf575b8y\"><rect x=\"0\" y=\"100\" width=\"800\" height=\"320\"/></clipPath><clipPath class=\"axesclip\" id=\"clipf575b8xy\"><rect x=\"80\" y=\"100\" width=\"640\" height=\"320\"/></clipPath></g><g class=\"gradients\"/></defs><g class=\"bglayer\"><rect class=\"bg\" x=\"80\" y=\"100\" width=\"640\" height=\"320\" style=\"fill: rgb(0, 0, 0); fill-opacity: 0; stroke-width: 0;\"/></g><g class=\"layer-below\"><g class=\"imagelayer\"/><g class=\"shapelayer\"/></g><g class=\"cartesianlayer\"><g class=\"subplot xy\"><g class=\"layer-subplot\"><g class=\"shapelayer\"/><g class=\"imagelayer\"/></g><g class=\"gridlayer\"><g class=\"x\"/><g class=\"y\"><path class=\"ygrid crisp\" transform=\"translate(0,365.9)\" d=\"M80,0h640\" style=\"stroke: rgb(232, 232, 232); stroke-opacity: 1; stroke-width: 1px;\"/><path class=\"ygrid crisp\" transform=\"translate(0,327.81)\" d=\"M80,0h640\" style=\"stroke: rgb(232, 232, 232); stroke-opacity: 1; stroke-width: 1px;\"/><path class=\"ygrid crisp\" transform=\"translate(0,289.71000000000004)\" d=\"M80,0h640\" style=\"stroke: rgb(232, 232, 232); stroke-opacity: 1; stroke-width: 1px;\"/><path class=\"ygrid crisp\" transform=\"translate(0,251.62)\" d=\"M80,0h640\" style=\"stroke: rgb(232, 232, 232); stroke-opacity: 1; stroke-width: 1px;\"/><path class=\"ygrid crisp\" transform=\"translate(0,213.51999999999998)\" d=\"M80,0h640\" style=\"stroke: rgb(232, 232, 232); stroke-opacity: 1; stroke-width: 1px;\"/><path class=\"ygrid crisp\" transform=\"translate(0,175.43)\" d=\"M80,0h640\" style=\"stroke: rgb(232, 232, 232); stroke-opacity: 1; stroke-width: 1px;\"/><path class=\"ygrid crisp\" transform=\"translate(0,137.32999999999998)\" d=\"M80,0h640\" style=\"stroke: rgb(232, 232, 232); stroke-opacity: 1; stroke-width: 1px;\"/></g></g><g class=\"zerolinelayer\"><path class=\"yzl zl crisp\" transform=\"translate(0,404)\" d=\"M80,0h640\" style=\"stroke: rgb(255, 255, 255); stroke-opacity: 1; stroke-width: 2px;\"/></g><path class=\"xlines-below\"/><path class=\"ylines-below\"/><g class=\"overlines-below\"/><g class=\"xaxislayer-below\"/><g class=\"yaxislayer-below\"/><g class=\"overaxes-below\"/><g class=\"plot\" transform=\"translate(80, 100)\" clip-path=\"url('#clipf575b8xyplot')\"><g class=\"scatterlayer mlayer\"><g class=\"trace scatter trace68b3c8\" style=\"stroke-miterlimit: 2; opacity: 1;\"><g class=\"fills\"/><g class=\"errorbars\"/><g class=\"lines\"><path class=\"js-line\" d=\"M0,304L306,304L308,16L310,304L312,303.99L314,300.95L316,304L336,303.81L338,300.96L340,303.59L342,303.97L354,303.82L356,303.95L360,304L362,302.45L364,303.99L366,303.81L372,303.98L374,193.09L376,274.81L378,301.83L380,303.75L382,303.77L392,303.26L394,287.81L396,303.7L398,301.5L402,303.64L404,217.09L406,302.95L408,302.61L410,303.74L412,303.7L416,303.67L418,303.36L420,302.72L422,303.21L424,302.66L426,303.44L438,303.71L440,302.67L444,303.64L446,303.59L454,303.68L456,303.87L458,303.42L460,300.83L462,298.31L464,302.59L466,303.84L468,303.81L470,303.29L472,303.92L488,303.91L490,303.9L516,303.71L518,301.7L522,303.16L524,302.5L526,294.72L528,303.35L530,303.74L532,301.91L534,302.95L536,303.12L540,302.36L542,302.32L544,302.86L546,280.35L548,296.44L550,299.08L552,303.42L554,296.86L556,300.54L558,293.31L560,299.92L562,301.28L564,302.89L566,303.31L568,302.22L570,257.28L572,291.05L574,301.8L576,280.23L578,302.04L580,266.74L582,262.46L584,293.79L586,302.58L588,301.71L590,302.77L596,303.13L598,302.54L602,302.4L604,303.24L606,300.26L608,298.7L610,302.49L612,302.51L614,301.58L616,302.26L618,299.52L620,302.73L624,302.92L626,301.63L630,303.33L632,301.62L634,302.86L636,296.49L638,300.9L640,302.16\" style=\"vector-effect: non-scaling-stroke; fill: none; stroke: rgb(153, 214, 255); stroke-opacity: 1; stroke-width: 2px; opacity: 1;\"/></g><g class=\"points\"/><g class=\"text\"/></g></g></g><g class=\"overplot\"/><path class=\"xlines-above crisp\" d=\"M0,0\" style=\"fill: none;\"/><path class=\"ylines-above crisp\" d=\"M0,0\" style=\"fill: none;\"/><g class=\"overlines-above\"/><g class=\"xaxislayer-above\"><g class=\"xtick\"><text text-anchor=\"middle\" x=\"0\" y=\"433\" transform=\"translate(114,0)\" style=\"font-family: 'Open Sans', verdana, arial, sans-serif; font-size: 12px; fill: rgb(42, 63, 95); fill-opacity: 1; white-space: pre;\">Sep 2019</text></g><g class=\"xtick\"><text text-anchor=\"middle\" x=\"0\" y=\"433\" transform=\"translate(236,0)\" style=\"font-family: 'Open Sans', verdana, arial, sans-serif; font-size: 12px; fill: rgb(42, 63, 95); fill-opacity: 1; white-space: pre;\">Nov 2019</text></g><g class=\"xtick\"><text text-anchor=\"middle\" x=\"0\" y=\"433\" transform=\"translate(358,0)\" style=\"font-family: 'Open Sans', verdana, arial, sans-serif; font-size: 12px; fill: rgb(42, 63, 95); fill-opacity: 1; white-space: pre;\">Jan 2020</text></g><g class=\"xtick\"><text text-anchor=\"middle\" x=\"0\" y=\"433\" transform=\"translate(478,0)\" style=\"font-family: 'Open Sans', verdana, arial, sans-serif; font-size: 12px; fill: rgb(42, 63, 95); fill-opacity: 1; white-space: pre;\">Mar 2020</text></g><g class=\"xtick\"><text text-anchor=\"middle\" x=\"0\" y=\"433\" transform=\"translate(600,0)\" style=\"font-family: 'Open Sans', verdana, arial, sans-serif; font-size: 12px; fill: rgb(42, 63, 95); fill-opacity: 1; white-space: pre;\">May 2020</text></g></g><g class=\"yaxislayer-above\"><g class=\"ytick\"><text text-anchor=\"end\" x=\"79\" y=\"4.199999999999999\" transform=\"translate(0,404)\" style=\"font-family: 'Open Sans', verdana, arial, sans-serif; font-size: 12px; fill: rgb(42, 63, 95); fill-opacity: 1; white-space: pre;\">0</text></g><g class=\"ytick\"><text text-anchor=\"end\" x=\"79\" y=\"4.199999999999999\" transform=\"translate(0,365.9)\" style=\"font-family: 'Open Sans', verdana, arial, sans-serif; font-size: 12px; fill: rgb(42, 63, 95); fill-opacity: 1; white-space: pre;\">5B</text></g><g class=\"ytick\"><text text-anchor=\"end\" x=\"79\" y=\"4.199999999999999\" transform=\"translate(0,327.81)\" style=\"font-family: 'Open Sans', verdana, arial, sans-serif; font-size: 12px; fill: rgb(42, 63, 95); fill-opacity: 1; white-space: pre;\">10B</text></g><g class=\"ytick\"><text text-anchor=\"end\" x=\"79\" y=\"4.199999999999999\" transform=\"translate(0,289.71000000000004)\" style=\"font-family: 'Open Sans', verdana, arial, sans-serif; font-size: 12px; fill: rgb(42, 63, 95); fill-opacity: 1; white-space: pre;\">15B</text></g><g class=\"ytick\"><text text-anchor=\"end\" x=\"79\" y=\"4.199999999999999\" transform=\"translate(0,251.62)\" style=\"font-family: 'Open Sans', verdana, arial, sans-serif; font-size: 12px; fill: rgb(42, 63, 95); fill-opacity: 1; white-space: pre;\">20B</text></g><g class=\"ytick\"><text text-anchor=\"end\" x=\"79\" y=\"4.199999999999999\" transform=\"translate(0,213.51999999999998)\" style=\"font-family: 'Open Sans', verdana, arial, sans-serif; font-size: 12px; fill: rgb(42, 63, 95); fill-opacity: 1; white-space: pre;\">25B</text></g><g class=\"ytick\"><text text-anchor=\"end\" x=\"79\" y=\"4.199999999999999\" transform=\"translate(0,175.43)\" style=\"font-family: 'Open Sans', verdana, arial, sans-serif; font-size: 12px; fill: rgb(42, 63, 95); fill-opacity: 1; white-space: pre;\">30B</text></g><g class=\"ytick\"><text text-anchor=\"end\" x=\"79\" y=\"4.199999999999999\" transform=\"translate(0,137.32999999999998)\" style=\"font-family: 'Open Sans', verdana, arial, sans-serif; font-size: 12px; fill: rgb(42, 63, 95); fill-opacity: 1; white-space: pre;\">35B</text></g></g><g class=\"overaxes-above\"/></g></g><g class=\"polarlayer\"/><g class=\"ternarylayer\"/><g class=\"geolayer\"/><g class=\"funnelarealayer\"/><g class=\"pielayer\"/><g class=\"treemaplayer\"/><g class=\"sunburstlayer\"/><g class=\"glimages\"/><defs id=\"topdefs-f575b8\"><g class=\"clips\"/></defs><g class=\"layer-above\"><g class=\"imagelayer\"/><g class=\"shapelayer\"/></g><g class=\"infolayer\"><g class=\"g-gtitle\"><text class=\"gtitle\" x=\"400\" y=\"50\" text-anchor=\"middle\" dy=\"0em\" style=\"font-family: 'Open Sans', verdana, arial, sans-serif; font-size: 17px; fill: rgb(42, 63, 95); opacity: 1; font-weight: normal; white-space: pre;\">Harmony Daily Volumn Chart</text></g><g class=\"g-xtitle\"/><g class=\"g-ytitle\"><text class=\"ytitle\" transform=\"rotate(-90,30.684375000000003,260)\" x=\"30.684375000000003\" y=\"260\" text-anchor=\"middle\" style=\"font-family: 'Open Sans', verdana, arial, sans-serif; font-size: 14px; fill: rgb(42, 63, 95); opacity: 1; font-weight: normal; white-space: pre;\">Total Volumn Per Day</text></g></g></svg>"
      ]
     },
     "metadata": {},
     "output_type": "display_data"
    }
   ],
   "source": [
    "csv_file = \"data/volumn.csv\"\n",
    "volumn_df = pd.read_csv(csv_file)\n",
    "volumn_df['date'] = pd.to_datetime(volumn_df['date'], format='%Y-%m-%d')\n",
    "fig = draw_graph(volumn_df, 'volumn', 'daily_volumn', 'Daily Volumn')\n",
    "fig.update_layout(yaxis_title=\"Total Volumn Per Day\")\n",
    "fig.show(renderer=\"svg\",width=800, height=500)"
   ]
  },
  {
   "cell_type": "markdown",
   "metadata": {},
   "source": [
    "## Average Block Time"
   ]
  },
  {
   "cell_type": "code",
   "execution_count": 12,
   "metadata": {},
   "outputs": [
    {
     "name": "stdout",
     "output_type": "stream",
     "text": [
      "HTML saved in \n"
     ]
    },
    {
     "data": {
      "text/html": [
       "<a href='https://harmony-one.github.io/harmony-log-analysis/graphs/transparency_report/avg_block_time.html' target='_blank'>https://harmony-one.github.io/harmony-log-analysis/graphs/transparency_report/avg_block_time.html</a>"
      ],
      "text/plain": [
       "<IPython.core.display.HTML object>"
      ]
     },
     "metadata": {},
     "output_type": "display_data"
    },
    {
     "data": {
      "image/svg+xml": [
       "<svg class=\"main-svg\" xmlns=\"http://www.w3.org/2000/svg\" xmlns:xlink=\"http://www.w3.org/1999/xlink\" width=\"800\" height=\"500\" style=\"\" viewBox=\"0 0 800 500\"><rect x=\"0\" y=\"0\" width=\"800\" height=\"500\" style=\"fill: rgb(255, 255, 255); fill-opacity: 1;\"/><defs id=\"defs-e349a6\"><g class=\"clips\"><clipPath id=\"clipe349a6xyplot\" class=\"plotclip\"><rect width=\"640\" height=\"320\"/></clipPath><clipPath class=\"axesclip\" id=\"clipe349a6x\"><rect x=\"80\" y=\"0\" width=\"640\" height=\"500\"/></clipPath><clipPath class=\"axesclip\" id=\"clipe349a6y\"><rect x=\"0\" y=\"100\" width=\"800\" height=\"320\"/></clipPath><clipPath class=\"axesclip\" id=\"clipe349a6xy\"><rect x=\"80\" y=\"100\" width=\"640\" height=\"320\"/></clipPath></g><g class=\"gradients\"/></defs><g class=\"bglayer\"><rect class=\"bg\" x=\"80\" y=\"100\" width=\"640\" height=\"320\" style=\"fill: rgb(0, 0, 0); fill-opacity: 0; stroke-width: 0;\"/></g><g class=\"layer-below\"><g class=\"imagelayer\"/><g class=\"shapelayer\"/></g><g class=\"cartesianlayer\"><g class=\"subplot xy\"><g class=\"layer-subplot\"><g class=\"shapelayer\"/><g class=\"imagelayer\"/></g><g class=\"gridlayer\"><g class=\"x\"/><g class=\"y\"><path class=\"ygrid crisp\" transform=\"translate(0,383.53)\" d=\"M80,0h640\" style=\"stroke: rgb(232, 232, 232); stroke-opacity: 1; stroke-width: 1px;\"/><path class=\"ygrid crisp\" transform=\"translate(0,332.53999999999996)\" d=\"M80,0h640\" style=\"stroke: rgb(232, 232, 232); stroke-opacity: 1; stroke-width: 1px;\"/><path class=\"ygrid crisp\" transform=\"translate(0,281.53999999999996)\" d=\"M80,0h640\" style=\"stroke: rgb(232, 232, 232); stroke-opacity: 1; stroke-width: 1px;\"/><path class=\"ygrid crisp\" transform=\"translate(0,230.55)\" d=\"M80,0h640\" style=\"stroke: rgb(232, 232, 232); stroke-opacity: 1; stroke-width: 1px;\"/><path class=\"ygrid crisp\" transform=\"translate(0,179.56)\" d=\"M80,0h640\" style=\"stroke: rgb(232, 232, 232); stroke-opacity: 1; stroke-width: 1px;\"/><path class=\"ygrid crisp\" transform=\"translate(0,128.56)\" d=\"M80,0h640\" style=\"stroke: rgb(232, 232, 232); stroke-opacity: 1; stroke-width: 1px;\"/></g></g><g class=\"zerolinelayer\"/><path class=\"xlines-below\"/><path class=\"ylines-below\"/><g class=\"overlines-below\"/><g class=\"xaxislayer-below\"/><g class=\"yaxislayer-below\"/><g class=\"overaxes-below\"/><g class=\"plot\" transform=\"translate(80, 100)\" clip-path=\"url('#clipe349a6xyplot')\"><g class=\"scatterlayer mlayer\"><g class=\"trace scatter trace036a1d\" style=\"stroke-miterlimit: 2; opacity: 1;\"><g class=\"fills\"/><g class=\"errorbars\"/><g class=\"lines\"><path class=\"js-line\" d=\"M0,283.81L9.85,285L19.69,283.01L29.54,285.48L39.38,284.55L49.23,282.88L59.08,288.96L68.92,274.47L78.77,199.19L88.62,189L98.46,114.92L108.31,180.03L118.15,150.86L128,146.18L137.85,45.18L147.69,16L157.54,229.49L167.38,189.6L177.23,170.19L187.08,175.99L196.92,176.47L206.77,142.5L216.62,140.19L226.46,117.99L236.31,257.23L246.15,264.55L256,263.92L265.85,276.97L275.69,267.04L285.54,275.35L295.38,268.1L305.23,268.96L315.08,210.2L324.92,243.9L334.77,238.24L344.62,294.72L354.46,268.2L364.31,265.14L374.15,290.73L384,283.16L393.85,264.13L403.69,262.49L413.54,266.25L423.38,272.9L433.23,264.57L443.08,247.73L452.92,267.94L462.77,266.69L472.62,240.09L482.46,146.17L492.31,211.93L502.15,167.78L512,224.71L521.85,276.51L531.69,250.87L541.54,197.04L551.38,241.31L561.23,251.49L571.08,184.28L580.92,251.52L590.77,272.7L600.62,285.71L610.46,289.07L620.31,297.95L630.15,302.86L640,304\" style=\"vector-effect: non-scaling-stroke; fill: none; stroke: rgb(153, 214, 255); stroke-opacity: 1; stroke-width: 2px; opacity: 1;\"/></g><g class=\"points\"/><g class=\"text\"/></g></g></g><g class=\"overplot\"/><path class=\"xlines-above crisp\" d=\"M0,0\" style=\"fill: none;\"/><path class=\"ylines-above crisp\" d=\"M0,0\" style=\"fill: none;\"/><g class=\"overlines-above\"/><g class=\"xaxislayer-above\"><g class=\"xtick\"><text text-anchor=\"middle\" x=\"0\" y=\"433\" transform=\"translate(119.38,0)\" style=\"font-family: 'Open Sans', verdana, arial, sans-serif; font-size: 12px; fill: rgb(42, 63, 95); fill-opacity: 1; white-space: pre;\"><tspan class=\"line\" dy=\"0em\" x=\"0\" y=\"433\">May 10</tspan><tspan class=\"line\" dy=\"1.3em\" x=\"0\" y=\"433\">2020</tspan></text></g><g class=\"xtick\"><text text-anchor=\"middle\" x=\"0\" y=\"433\" transform=\"translate(257.23,0)\" style=\"font-family: 'Open Sans', verdana, arial, sans-serif; font-size: 12px; fill: rgb(42, 63, 95); fill-opacity: 1; white-space: pre;\">May 24</text></g><g class=\"xtick\"><text text-anchor=\"middle\" x=\"0\" y=\"433\" transform=\"translate(395.08,0)\" style=\"font-family: 'Open Sans', verdana, arial, sans-serif; font-size: 12px; fill: rgb(42, 63, 95); fill-opacity: 1; white-space: pre;\">Jun 7</text></g><g class=\"xtick\"><text text-anchor=\"middle\" x=\"0\" y=\"433\" transform=\"translate(532.9200000000001,0)\" style=\"font-family: 'Open Sans', verdana, arial, sans-serif; font-size: 12px; fill: rgb(42, 63, 95); fill-opacity: 1; white-space: pre;\">Jun 21</text></g><g class=\"xtick\"><text text-anchor=\"middle\" x=\"0\" y=\"433\" transform=\"translate(670.77,0)\" style=\"font-family: 'Open Sans', verdana, arial, sans-serif; font-size: 12px; fill: rgb(42, 63, 95); fill-opacity: 1; white-space: pre;\">Jul 5</text></g></g><g class=\"yaxislayer-above\"><g class=\"ytick\"><text text-anchor=\"end\" x=\"79\" y=\"4.199999999999999\" transform=\"translate(0,383.53)\" style=\"font-family: 'Open Sans', verdana, arial, sans-serif; font-size: 12px; fill: rgb(42, 63, 95); fill-opacity: 1; white-space: pre;\">8.2</text></g><g class=\"ytick\"><text text-anchor=\"end\" x=\"79\" y=\"4.199999999999999\" transform=\"translate(0,332.53999999999996)\" style=\"font-family: 'Open Sans', verdana, arial, sans-serif; font-size: 12px; fill: rgb(42, 63, 95); fill-opacity: 1; white-space: pre;\">8.4</text></g><g class=\"ytick\"><text text-anchor=\"end\" x=\"79\" y=\"4.199999999999999\" transform=\"translate(0,281.53999999999996)\" style=\"font-family: 'Open Sans', verdana, arial, sans-serif; font-size: 12px; fill: rgb(42, 63, 95); fill-opacity: 1; white-space: pre;\">8.6</text></g><g class=\"ytick\"><text text-anchor=\"end\" x=\"79\" y=\"4.199999999999999\" transform=\"translate(0,230.55)\" style=\"font-family: 'Open Sans', verdana, arial, sans-serif; font-size: 12px; fill: rgb(42, 63, 95); fill-opacity: 1; white-space: pre;\">8.8</text></g><g class=\"ytick\"><text text-anchor=\"end\" x=\"79\" y=\"4.199999999999999\" transform=\"translate(0,179.56)\" style=\"font-family: 'Open Sans', verdana, arial, sans-serif; font-size: 12px; fill: rgb(42, 63, 95); fill-opacity: 1; white-space: pre;\">9</text></g><g class=\"ytick\"><text text-anchor=\"end\" x=\"79\" y=\"4.199999999999999\" transform=\"translate(0,128.56)\" style=\"font-family: 'Open Sans', verdana, arial, sans-serif; font-size: 12px; fill: rgb(42, 63, 95); fill-opacity: 1; white-space: pre;\">9.2</text></g></g><g class=\"overaxes-above\"/></g></g><g class=\"polarlayer\"/><g class=\"ternarylayer\"/><g class=\"geolayer\"/><g class=\"funnelarealayer\"/><g class=\"pielayer\"/><g class=\"treemaplayer\"/><g class=\"sunburstlayer\"/><g class=\"glimages\"/><defs id=\"topdefs-e349a6\"><g class=\"clips\"/></defs><g class=\"layer-above\"><g class=\"imagelayer\"/><g class=\"shapelayer\"/></g><g class=\"infolayer\"><g class=\"g-gtitle\"><text class=\"gtitle\" x=\"400\" y=\"50\" text-anchor=\"middle\" dy=\"0em\" style=\"font-family: 'Open Sans', verdana, arial, sans-serif; font-size: 17px; fill: rgb(42, 63, 95); opacity: 1; font-weight: normal; white-space: pre;\">Harmony Average Block Time Chart</text></g><g class=\"g-xtitle\"/><g class=\"g-ytitle\"><text class=\"ytitle\" transform=\"rotate(-90,35.10625,260)\" x=\"35.10625\" y=\"260\" text-anchor=\"middle\" style=\"font-family: 'Open Sans', verdana, arial, sans-serif; font-size: 14px; fill: rgb(42, 63, 95); opacity: 1; font-weight: normal; white-space: pre;\">Block Time in Secs</text></g></g></svg>"
      ]
     },
     "metadata": {},
     "output_type": "display_data"
    }
   ],
   "source": [
    "fig = draw_graph(df, 'avg-block-time','avg_block_time', 'Average Block Time')\n",
    "fig.update_layout(yaxis_title=\"Block Time in Secs\")\n",
    "fig.show(renderer=\"svg\",width=800, height=500)"
   ]
  },
  {
   "cell_type": "code",
   "execution_count": 13,
   "metadata": {},
   "outputs": [],
   "source": [
    "colors = [\"#00AEE9\", \"#FFA07A\", \"#758796\", \"#66CDAA\"]\n",
    "def draw_block_time_graph(df):\n",
    "    html_path = \"https://harmony-one.github.io/harmony-log-analysis/\" + html_dir.replace(\"../../docs/\", \"\")\n",
    "    trace1 = go.Scatter(\n",
    "            x = df['date'],\n",
    "            y = df['block-time-shard-0'],\n",
    "            mode = 'lines',\n",
    "            line = dict(color = colors[0],\n",
    "                        width = 1),\n",
    "            name = 'Shard 0 Block Time'\n",
    "        )\n",
    "    trace2 = go.Scatter(\n",
    "            x = df['date'],\n",
    "            y = df['block-time-shard-1'],\n",
    "            mode = 'lines',\n",
    "            line = dict(color = colors[1],\n",
    "                        width = 1),\n",
    "            name = 'Shard 1 Block Time'\n",
    "        )\n",
    "    trace3 = go.Scatter(\n",
    "            x = df['date'],\n",
    "            y = df['block-time-shard-2'],\n",
    "            mode = 'lines',\n",
    "            line = dict(color = colors[2],\n",
    "                        width = 1),\n",
    "            name = 'Shard 2 Block Time'\n",
    "        )\n",
    "    trace4 = go.Scatter(\n",
    "            x = df['date'],\n",
    "            y = df['block-time-shard-3'],\n",
    "            mode = 'lines',\n",
    "            line = dict(color = colors[3],\n",
    "                        width = 1),\n",
    "            name = 'Shard 3 Block Time'\n",
    "        )\n",
    " \n",
    "    data = [trace1, trace2, trace3, trace4]\n",
    "    layout = go.Layout(\n",
    "                title = 'Daily Avg Block Time',\n",
    "                yaxis=dict(\n",
    "                    title='Block Time in Secs'\n",
    "                    ),\n",
    "#                 legend_orientation=\"h\", \n",
    "#                 legend=dict(x=0, y=-0.1)\n",
    "            )\n",
    "    fig = go.Figure(data=data, layout=layout)\n",
    "\n",
    "#     fig.update_layout(legend_orientation=\"h\", legend=dict(x=0, y=-0.25))\n",
    "    fig.update_xaxes({'showgrid': False, 'showspikes': True, 'title': None})\n",
    "    fig.update_yaxes({'gridcolor': \"#E8E8E8\"})\n",
    "    fig.update_layout({'plot_bgcolor':'rgba(0,0,0,0)', \"title_x\": 0.5, 'hovermode': 'closest'})\n",
    "\n",
    "    fig.show(renderer=\"svg\",width=800, height=500)\n",
    "    fig.write_html(\"{:s}daily_avg_block_time.html\".format(html_dir))\n",
    "    print(\"HTML saved in \" )\n",
    "    display_path = \"{:s}daily_avg_block_time.html\".format(html_path)\n",
    "    display(HTML(\"<a href='\" + display_path + \"' target='_blank'>\" + display_path + \"</a>\"))\n"
   ]
  },
  {
   "cell_type": "code",
   "execution_count": 14,
   "metadata": {},
   "outputs": [
    {
     "data": {
      "image/svg+xml": [
       "<svg class=\"main-svg\" xmlns=\"http://www.w3.org/2000/svg\" xmlns:xlink=\"http://www.w3.org/1999/xlink\" width=\"800\" height=\"500\" style=\"\" viewBox=\"0 0 800 500\"><rect x=\"0\" y=\"0\" width=\"800\" height=\"500\" style=\"fill: rgb(255, 255, 255); fill-opacity: 1;\"/><defs id=\"defs-7ab4c1\"><g class=\"clips\"><clipPath id=\"clip7ab4c1xyplot\" class=\"plotclip\"><rect width=\"536\" height=\"320\"/></clipPath><clipPath class=\"axesclip\" id=\"clip7ab4c1x\"><rect x=\"80\" y=\"0\" width=\"536\" height=\"500\"/></clipPath><clipPath class=\"axesclip\" id=\"clip7ab4c1y\"><rect x=\"0\" y=\"100\" width=\"800\" height=\"320\"/></clipPath><clipPath class=\"axesclip\" id=\"clip7ab4c1xy\"><rect x=\"80\" y=\"100\" width=\"536\" height=\"320\"/></clipPath></g><g class=\"gradients\"/></defs><g class=\"bglayer\"><rect class=\"bg\" x=\"80\" y=\"100\" width=\"536\" height=\"320\" style=\"fill: rgb(0, 0, 0); fill-opacity: 0; stroke-width: 0;\"/></g><g class=\"layer-below\"><g class=\"imagelayer\"/><g class=\"shapelayer\"/></g><g class=\"cartesianlayer\"><g class=\"subplot xy\"><g class=\"layer-subplot\"><g class=\"shapelayer\"/><g class=\"imagelayer\"/></g><g class=\"gridlayer\"><g class=\"x\"/><g class=\"y\"><path class=\"ygrid crisp\" transform=\"translate(0,404.34)\" d=\"M80,0h536\" style=\"stroke: rgb(232, 232, 232); stroke-opacity: 1; stroke-width: 1px;\"/><path class=\"ygrid crisp\" transform=\"translate(0,339.61)\" d=\"M80,0h536\" style=\"stroke: rgb(232, 232, 232); stroke-opacity: 1; stroke-width: 1px;\"/><path class=\"ygrid crisp\" transform=\"translate(0,274.87)\" d=\"M80,0h536\" style=\"stroke: rgb(232, 232, 232); stroke-opacity: 1; stroke-width: 1px;\"/><path class=\"ygrid crisp\" transform=\"translate(0,210.14)\" d=\"M80,0h536\" style=\"stroke: rgb(232, 232, 232); stroke-opacity: 1; stroke-width: 1px;\"/><path class=\"ygrid crisp\" transform=\"translate(0,145.4)\" d=\"M80,0h536\" style=\"stroke: rgb(232, 232, 232); stroke-opacity: 1; stroke-width: 1px;\"/></g></g><g class=\"zerolinelayer\"/><path class=\"xlines-below\"/><path class=\"ylines-below\"/><g class=\"overlines-below\"/><g class=\"xaxislayer-below\"/><g class=\"yaxislayer-below\"/><g class=\"overaxes-below\"/><g class=\"plot\" transform=\"translate(80, 100)\" clip-path=\"url('#clip7ab4c1xyplot')\"><g class=\"scatterlayer mlayer\"><g class=\"trace scatter trace87c087\" style=\"stroke-miterlimit: 2; opacity: 1;\"><g class=\"fills\"/><g class=\"errorbars\"/><g class=\"lines\"><path class=\"js-line\" d=\"M0,289.97L16.49,289.8L24.74,290.38L32.98,290.88L41.23,289.47L49.48,291.44L57.72,287.62L65.97,274.69L74.22,255.77L82.46,166.35L90.71,209.11L98.95,187.36L107.2,150.26L115.45,79.06L123.69,16L131.94,229.83L140.18,205.45L148.43,171.97L156.68,166.2L164.92,178.51L173.17,152.75L181.42,141.8L189.66,115.19L197.91,243.29L206.15,259.55L214.4,260.87L222.65,274.33L230.89,270.8L239.14,277.53L247.38,268.62L255.63,275.29L263.88,269.22L272.12,253.32L280.37,263.85L288.62,283.94L296.86,252.55L305.11,253.7L313.35,274.43L321.6,264.94L329.85,246.72L338.09,243.2L346.34,258.92L354.58,261.84L362.83,245.85L371.08,246.77L379.32,249.98L387.57,244.35L395.82,218.71L404.06,123.17L412.31,182.56L420.55,142.6L428.8,201.94L437.05,250.72L445.29,248.08L453.54,205.6L461.78,224.73L470.03,224.68L478.28,187.18L486.52,255.56L494.77,263.8L503.02,265.8L511.26,270.18L519.51,277.8L527.75,283.61L536,282.55\" style=\"vector-effect: non-scaling-stroke; fill: none; stroke: rgb(0, 174, 233); stroke-opacity: 1; stroke-width: 1px; opacity: 1;\"/></g><g class=\"points\"/><g class=\"text\"/></g><g class=\"trace scatter trace40a52b\" style=\"stroke-miterlimit: 2; opacity: 1;\"><g class=\"fills\"/><g class=\"errorbars\"/><g class=\"lines\"><path class=\"js-line\" d=\"M0,293.35L8.25,293.46L16.49,292.54L24.74,294.32L32.98,292.01L41.23,292.27L49.48,293.97L57.72,290.02L65.97,265.08L74.22,273.73L82.46,273.46L90.71,289.9L98.95,280.76L107.2,282.02L115.45,274.59L123.69,289.26L131.94,294.31L140.18,279.91L148.43,287.71L156.68,300.43L164.92,297.37L173.17,298.81L181.42,296.51L189.66,294.25L197.91,299.75L214.4,298.69L222.65,300.4L230.89,296.92L239.14,297.33L263.88,298.31L272.12,297.51L280.37,284.42L288.62,298.02L296.86,301.44L305.11,297.44L313.35,301.85L321.6,302.54L329.85,301.35L338.09,301.96L346.34,299.83L354.58,295.07L362.83,302.88L371.08,302.27L379.32,302.52L387.57,301.5L404.06,300.44L412.31,303.5L428.8,301.69L437.05,302.26L445.29,296.48L453.54,288.04L461.78,298.85L470.03,303.3L478.28,289.87L486.52,289.89L494.77,292.4L503.02,298.08L511.26,300.95L519.51,301.61L527.75,300.63L536,302.61\" style=\"vector-effect: non-scaling-stroke; fill: none; stroke: rgb(255, 160, 122); stroke-opacity: 1; stroke-width: 1px; opacity: 1;\"/></g><g class=\"points\"/><g class=\"text\"/></g><g class=\"trace scatter tracecc3b73\" style=\"stroke-miterlimit: 2; opacity: 1;\"><g class=\"fills\"/><g class=\"errorbars\"/><g class=\"lines\"><path class=\"js-line\" d=\"M0,291.02L8.25,291.63L16.49,290.82L41.23,290.79L49.48,293.4L57.72,287.69L65.97,270.68L74.22,273.19L82.46,277.01L90.71,281.21L98.95,283.11L107.2,295.83L115.45,288.04L123.69,293L131.94,300.85L140.18,290.68L148.43,299.61L156.68,298.29L164.92,287.73L173.17,279.23L181.42,288.79L189.66,294.46L197.91,296.22L206.15,291.67L214.4,293.02L230.89,289.32L239.14,291.24L263.88,290.73L272.12,289.82L280.37,284.56L288.62,298.83L296.86,296.1L305.11,296.3L313.35,296.89L321.6,295.95L329.85,296.31L338.09,295.32L346.34,289.77L354.58,299.94L362.83,301.45L371.08,301.95L387.57,301.6L395.82,300.53L412.31,303.58L420.55,299.51L428.8,298.35L437.05,301.47L445.29,291.69L453.54,297.22L461.78,300.5L470.03,301.14L478.28,299.17L486.52,298.85L494.77,294.54L503.02,300.3L511.26,296.88L519.51,297.93L527.75,297.58L536,298\" style=\"vector-effect: non-scaling-stroke; fill: none; stroke: rgb(117, 135, 150); stroke-opacity: 1; stroke-width: 1px; opacity: 1;\"/></g><g class=\"points\"/><g class=\"text\"/></g><g class=\"trace scatter trace299cb1\" style=\"stroke-miterlimit: 2; opacity: 1;\"><g class=\"fills\"/><g class=\"errorbars\"/><g class=\"lines\"><path class=\"js-line\" d=\"M0,291.54L8.25,292.31L16.49,291.89L49.48,292.29L57.72,291.06L65.97,269.48L74.22,266.9L82.46,277.53L90.71,280.25L98.95,279.61L107.2,297.98L115.45,281.82L123.69,295.62L131.94,285.71L140.18,294.15L148.43,291.18L156.68,291.45L164.92,293.24L173.17,291.56L189.66,293.56L197.91,299.61L206.15,295.52L214.4,293.08L222.65,293.02L230.89,291.79L239.14,291.17L247.38,292.57L255.63,286.6L263.88,232.85L272.12,284.68L280.37,286.76L288.62,296.15L296.86,299.93L313.35,299.73L321.6,301.79L329.85,301.49L338.09,303.74L346.34,299.52L354.58,297.93L362.83,296.16L371.08,278.23L379.32,295.28L387.57,301.03L395.82,301.3L404.06,300.34L412.31,303.22L420.55,303.22L437.05,304L445.29,296.15L453.54,286.88L461.78,298.63L470.03,303.93L478.28,288.56L486.52,288.77L494.77,303.86L527.75,303.39L536,303.21\" style=\"vector-effect: non-scaling-stroke; fill: none; stroke: rgb(102, 205, 170); stroke-opacity: 1; stroke-width: 1px; opacity: 1;\"/></g><g class=\"points\"/><g class=\"text\"/></g></g></g><g class=\"overplot\"/><path class=\"xlines-above crisp\" style=\"fill: none;\" d=\"M0,0\"/><path class=\"ylines-above crisp\" style=\"fill: none;\" d=\"M0,0\"/><g class=\"overlines-above\"/><g class=\"xaxislayer-above\"><g class=\"xtick\"><text text-anchor=\"middle\" x=\"0\" y=\"433\" transform=\"translate(112.97999999999999,0)\" style=\"font-family: 'Open Sans', verdana, arial, sans-serif; font-size: 12px; fill: rgb(42, 63, 95); fill-opacity: 1; white-space: pre;\"><tspan class=\"line\" dy=\"0em\" x=\"0\" y=\"433\">May 10</tspan><tspan class=\"line\" dy=\"1.3em\" x=\"0\" y=\"433\">2020</tspan></text></g><g class=\"xtick\"><text text-anchor=\"middle\" x=\"0\" y=\"433\" transform=\"translate(228.43,0)\" style=\"font-family: 'Open Sans', verdana, arial, sans-serif; font-size: 12px; fill: rgb(42, 63, 95); fill-opacity: 1; white-space: pre;\">May 24</text></g><g class=\"xtick\"><text text-anchor=\"middle\" x=\"0\" y=\"433\" transform=\"translate(343.88,0)\" style=\"font-family: 'Open Sans', verdana, arial, sans-serif; font-size: 12px; fill: rgb(42, 63, 95); fill-opacity: 1; white-space: pre;\">Jun 7</text></g><g class=\"xtick\"><text text-anchor=\"middle\" x=\"0\" y=\"433\" transform=\"translate(459.32,0)\" style=\"font-family: 'Open Sans', verdana, arial, sans-serif; font-size: 12px; fill: rgb(42, 63, 95); fill-opacity: 1; white-space: pre;\">Jun 21</text></g><g class=\"xtick\"><text text-anchor=\"middle\" x=\"0\" y=\"433\" transform=\"translate(574.77,0)\" style=\"font-family: 'Open Sans', verdana, arial, sans-serif; font-size: 12px; fill: rgb(42, 63, 95); fill-opacity: 1; white-space: pre;\">Jul 5</text></g></g><g class=\"yaxislayer-above\"><g class=\"ytick\"><text text-anchor=\"end\" x=\"79\" y=\"4.199999999999999\" transform=\"translate(0,404.34)\" style=\"font-family: 'Open Sans', verdana, arial, sans-serif; font-size: 12px; fill: rgb(42, 63, 95); fill-opacity: 1; white-space: pre;\">8</text></g><g class=\"ytick\"><text text-anchor=\"end\" x=\"79\" y=\"4.199999999999999\" transform=\"translate(0,339.61)\" style=\"font-family: 'Open Sans', verdana, arial, sans-serif; font-size: 12px; fill: rgb(42, 63, 95); fill-opacity: 1; white-space: pre;\">9</text></g><g class=\"ytick\"><text text-anchor=\"end\" x=\"79\" y=\"4.199999999999999\" transform=\"translate(0,274.87)\" style=\"font-family: 'Open Sans', verdana, arial, sans-serif; font-size: 12px; fill: rgb(42, 63, 95); fill-opacity: 1; white-space: pre;\">10</text></g><g class=\"ytick\"><text text-anchor=\"end\" x=\"79\" y=\"4.199999999999999\" transform=\"translate(0,210.14)\" style=\"font-family: 'Open Sans', verdana, arial, sans-serif; font-size: 12px; fill: rgb(42, 63, 95); fill-opacity: 1; white-space: pre;\">11</text></g><g class=\"ytick\"><text text-anchor=\"end\" x=\"79\" y=\"4.199999999999999\" transform=\"translate(0,145.4)\" style=\"font-family: 'Open Sans', verdana, arial, sans-serif; font-size: 12px; fill: rgb(42, 63, 95); fill-opacity: 1; white-space: pre;\">12</text></g></g><g class=\"overaxes-above\"/></g></g><g class=\"polarlayer\"/><g class=\"ternarylayer\"/><g class=\"geolayer\"/><g class=\"funnelarealayer\"/><g class=\"pielayer\"/><g class=\"treemaplayer\"/><g class=\"sunburstlayer\"/><g class=\"glimages\"/><defs id=\"topdefs-7ab4c1\"><g class=\"clips\"/><clipPath id=\"legend7ab4c1\"><rect width=\"161\" height=\"86\" x=\"0\" y=\"0\"/></clipPath></defs><g class=\"layer-above\"><g class=\"imagelayer\"/><g class=\"shapelayer\"/></g><g class=\"infolayer\"><g class=\"legend\" pointer-events=\"all\" transform=\"translate(626.72, 100)\"><rect class=\"bg\" shape-rendering=\"crispEdges\" style=\"stroke: rgb(68, 68, 68); stroke-opacity: 1; fill: rgb(255, 255, 255); fill-opacity: 1; stroke-width: 0px;\" width=\"161\" height=\"86\" x=\"0\" y=\"0\"/><g class=\"scrollbox\" transform=\"translate(0, 0)\" clip-path=\"url('#legend7ab4c1')\"><g class=\"groups\"><g class=\"traces\" style=\"opacity: 1;\" transform=\"translate(0, 14.5)\"><text class=\"legendtext user-select-none\" text-anchor=\"start\" x=\"40\" y=\"4.680000000000001\" style=\"font-family: 'Open Sans', verdana, arial, sans-serif; font-size: 12px; fill: rgb(42, 63, 95); fill-opacity: 1; white-space: pre;\">Shard 0 Block Time</text><g class=\"layers\" style=\"opacity: 1;\"><g class=\"legendfill\"/><g class=\"legendlines\"><path class=\"js-line\" d=\"M5,0h30\" style=\"fill: none; stroke: rgb(0, 174, 233); stroke-opacity: 1; stroke-width: 1px;\"/></g><g class=\"legendsymbols\"><g class=\"legendpoints\"/></g></g><rect class=\"legendtoggle\" pointer-events=\"all\" x=\"0\" y=\"-9.5\" width=\"155.828125\" height=\"19\" style=\"cursor: pointer; fill: rgb(0, 0, 0); fill-opacity: 0;\"/></g><g class=\"traces\" style=\"opacity: 1;\" transform=\"translate(0, 33.5)\"><text class=\"legendtext user-select-none\" text-anchor=\"start\" x=\"40\" y=\"4.680000000000001\" style=\"font-family: 'Open Sans', verdana, arial, sans-serif; font-size: 12px; fill: rgb(42, 63, 95); fill-opacity: 1; white-space: pre;\">Shard 1 Block Time</text><g class=\"layers\" style=\"opacity: 1;\"><g class=\"legendfill\"/><g class=\"legendlines\"><path class=\"js-line\" d=\"M5,0h30\" style=\"fill: none; stroke: rgb(255, 160, 122); stroke-opacity: 1; stroke-width: 1px;\"/></g><g class=\"legendsymbols\"><g class=\"legendpoints\"/></g></g><rect class=\"legendtoggle\" pointer-events=\"all\" x=\"0\" y=\"-9.5\" width=\"155.828125\" height=\"19\" style=\"cursor: pointer; fill: rgb(0, 0, 0); fill-opacity: 0;\"/></g><g class=\"traces\" style=\"opacity: 1;\" transform=\"translate(0, 52.5)\"><text class=\"legendtext user-select-none\" text-anchor=\"start\" x=\"40\" y=\"4.680000000000001\" style=\"font-family: 'Open Sans', verdana, arial, sans-serif; font-size: 12px; fill: rgb(42, 63, 95); fill-opacity: 1; white-space: pre;\">Shard 2 Block Time</text><g class=\"layers\" style=\"opacity: 1;\"><g class=\"legendfill\"/><g class=\"legendlines\"><path class=\"js-line\" d=\"M5,0h30\" style=\"fill: none; stroke: rgb(117, 135, 150); stroke-opacity: 1; stroke-width: 1px;\"/></g><g class=\"legendsymbols\"><g class=\"legendpoints\"/></g></g><rect class=\"legendtoggle\" pointer-events=\"all\" x=\"0\" y=\"-9.5\" width=\"155.828125\" height=\"19\" style=\"cursor: pointer; fill: rgb(0, 0, 0); fill-opacity: 0;\"/></g><g class=\"traces\" style=\"opacity: 1;\" transform=\"translate(0, 71.5)\"><text class=\"legendtext user-select-none\" text-anchor=\"start\" x=\"40\" y=\"4.680000000000001\" style=\"font-family: 'Open Sans', verdana, arial, sans-serif; font-size: 12px; fill: rgb(42, 63, 95); fill-opacity: 1; white-space: pre;\">Shard 3 Block Time</text><g class=\"layers\" style=\"opacity: 1;\"><g class=\"legendfill\"/><g class=\"legendlines\"><path class=\"js-line\" d=\"M5,0h30\" style=\"fill: none; stroke: rgb(102, 205, 170); stroke-opacity: 1; stroke-width: 1px;\"/></g><g class=\"legendsymbols\"><g class=\"legendpoints\"/></g></g><rect class=\"legendtoggle\" pointer-events=\"all\" x=\"0\" y=\"-9.5\" width=\"155.828125\" height=\"19\" style=\"cursor: pointer; fill: rgb(0, 0, 0); fill-opacity: 0;\"/></g></g></g><rect class=\"scrollbar\" rx=\"20\" ry=\"3\" width=\"0\" height=\"0\" style=\"fill: rgb(128, 139, 164); fill-opacity: 1;\" x=\"0\" y=\"0\"/></g><g class=\"g-gtitle\"><text class=\"gtitle\" x=\"400\" y=\"50\" text-anchor=\"middle\" dy=\"0em\" style=\"font-family: 'Open Sans', verdana, arial, sans-serif; font-size: 17px; fill: rgb(42, 63, 95); opacity: 1; font-weight: normal; white-space: pre;\">Daily Avg Block Time</text></g><g class=\"g-xtitle\"/><g class=\"g-ytitle\"><text class=\"ytitle\" transform=\"rotate(-90,38.91875,260)\" x=\"38.91875\" y=\"260\" text-anchor=\"middle\" style=\"font-family: 'Open Sans', verdana, arial, sans-serif; font-size: 14px; fill: rgb(42, 63, 95); opacity: 1; font-weight: normal; white-space: pre;\">Block Time in Secs</text></g></g></svg>"
      ]
     },
     "metadata": {},
     "output_type": "display_data"
    },
    {
     "name": "stdout",
     "output_type": "stream",
     "text": [
      "HTML saved in \n"
     ]
    },
    {
     "data": {
      "text/html": [
       "<a href='https://harmony-one.github.io/harmony-log-analysis/graphs/transparency_report/daily_avg_block_time.html' target='_blank'>https://harmony-one.github.io/harmony-log-analysis/graphs/transparency_report/daily_avg_block_time.html</a>"
      ],
      "text/plain": [
       "<IPython.core.display.HTML object>"
      ]
     },
     "metadata": {},
     "output_type": "display_data"
    }
   ],
   "source": [
    "draw_block_time_graph(df)"
   ]
  },
  {
   "cell_type": "markdown",
   "metadata": {},
   "source": [
    "## unique address"
   ]
  },
  {
   "cell_type": "code",
   "execution_count": 21,
   "metadata": {},
   "outputs": [],
   "source": [
    "\n",
    "addr_dir = \"logs/address_growth.log\"\n",
    "address = read_data(addr_dir)\n",
    "addr_df = pd.DataFrame(address) \n",
    "addr_df[\"timestamp\"] = pd.to_datetime(addr_df['timestamp'],format = '%Y-%m-%d')\n",
    "\n"
   ]
  },
  {
   "cell_type": "code",
   "execution_count": 24,
   "metadata": {},
   "outputs": [],
   "source": [
    "addr_df.rename(columns = {'timestamp': 'date'}, inplace = True)"
   ]
  },
  {
   "cell_type": "code",
   "execution_count": 28,
   "metadata": {},
   "outputs": [],
   "source": [
    "addr_df = addr_df.groupby(['date'])['count'].sum().reset_index(name = 'count')"
   ]
  },
  {
   "cell_type": "code",
   "execution_count": 31,
   "metadata": {},
   "outputs": [],
   "source": [
    "addr_df['total-count'] = addr_df['count'].cumsum()"
   ]
  },
  {
   "cell_type": "code",
   "execution_count": 32,
   "metadata": {},
   "outputs": [
    {
     "data": {
      "text/html": [
       "<div>\n",
       "<style scoped>\n",
       "    .dataframe tbody tr th:only-of-type {\n",
       "        vertical-align: middle;\n",
       "    }\n",
       "\n",
       "    .dataframe tbody tr th {\n",
       "        vertical-align: top;\n",
       "    }\n",
       "\n",
       "    .dataframe thead th {\n",
       "        text-align: right;\n",
       "    }\n",
       "</style>\n",
       "<table border=\"1\" class=\"dataframe\">\n",
       "  <thead>\n",
       "    <tr style=\"text-align: right;\">\n",
       "      <th></th>\n",
       "      <th>date</th>\n",
       "      <th>count</th>\n",
       "      <th>total-count</th>\n",
       "    </tr>\n",
       "  </thead>\n",
       "  <tbody>\n",
       "    <tr>\n",
       "      <th>0</th>\n",
       "      <td>2019-06-28</td>\n",
       "      <td>956</td>\n",
       "      <td>956</td>\n",
       "    </tr>\n",
       "    <tr>\n",
       "      <th>1</th>\n",
       "      <td>2019-08-15</td>\n",
       "      <td>1</td>\n",
       "      <td>957</td>\n",
       "    </tr>\n",
       "    <tr>\n",
       "      <th>2</th>\n",
       "      <td>2019-08-21</td>\n",
       "      <td>6</td>\n",
       "      <td>963</td>\n",
       "    </tr>\n",
       "    <tr>\n",
       "      <th>3</th>\n",
       "      <td>2019-08-29</td>\n",
       "      <td>1</td>\n",
       "      <td>964</td>\n",
       "    </tr>\n",
       "    <tr>\n",
       "      <th>4</th>\n",
       "      <td>2019-08-30</td>\n",
       "      <td>1</td>\n",
       "      <td>965</td>\n",
       "    </tr>\n",
       "    <tr>\n",
       "      <th>...</th>\n",
       "      <td>...</td>\n",
       "      <td>...</td>\n",
       "      <td>...</td>\n",
       "    </tr>\n",
       "    <tr>\n",
       "      <th>260</th>\n",
       "      <td>2020-07-05</td>\n",
       "      <td>49</td>\n",
       "      <td>10448</td>\n",
       "    </tr>\n",
       "    <tr>\n",
       "      <th>261</th>\n",
       "      <td>2020-07-06</td>\n",
       "      <td>34</td>\n",
       "      <td>10482</td>\n",
       "    </tr>\n",
       "    <tr>\n",
       "      <th>262</th>\n",
       "      <td>2020-07-07</td>\n",
       "      <td>47</td>\n",
       "      <td>10529</td>\n",
       "    </tr>\n",
       "    <tr>\n",
       "      <th>263</th>\n",
       "      <td>2020-07-08</td>\n",
       "      <td>164</td>\n",
       "      <td>10693</td>\n",
       "    </tr>\n",
       "    <tr>\n",
       "      <th>264</th>\n",
       "      <td>2020-07-09</td>\n",
       "      <td>4</td>\n",
       "      <td>10697</td>\n",
       "    </tr>\n",
       "  </tbody>\n",
       "</table>\n",
       "<p>265 rows × 3 columns</p>\n",
       "</div>"
      ],
      "text/plain": [
       "          date  count  total-count\n",
       "0   2019-06-28    956          956\n",
       "1   2019-08-15      1          957\n",
       "2   2019-08-21      6          963\n",
       "3   2019-08-29      1          964\n",
       "4   2019-08-30      1          965\n",
       "..         ...    ...          ...\n",
       "260 2020-07-05     49        10448\n",
       "261 2020-07-06     34        10482\n",
       "262 2020-07-07     47        10529\n",
       "263 2020-07-08    164        10693\n",
       "264 2020-07-09      4        10697\n",
       "\n",
       "[265 rows x 3 columns]"
      ]
     },
     "execution_count": 32,
     "metadata": {},
     "output_type": "execute_result"
    }
   ],
   "source": [
    "addr_df"
   ]
  },
  {
   "cell_type": "code",
   "execution_count": 15,
   "metadata": {},
   "outputs": [],
   "source": [
    "addr_dir = \"logs/shard0_unique_address.log\"\n",
    "address = read_data(addr_dir)\n",
    "addr_df = pd.DataFrame(address) \n",
    "addr_df[\"timestamp\"] = pd.to_datetime(addr_df['timestamp'],format = '%Y_%m_%d %H:%M:%S')\n",
    "addr_df['date'] = addr_df['timestamp'].dt.date\n"
   ]
  },
  {
   "cell_type": "code",
   "execution_count": 16,
   "metadata": {},
   "outputs": [
    {
     "name": "stdout",
     "output_type": "stream",
     "text": [
      "HTML saved in \n"
     ]
    },
    {
     "data": {
      "text/html": [
       "<a href='https://harmony-one.github.io/harmony-log-analysis/graphs/transparency_report/unique_address.html' target='_blank'>https://harmony-one.github.io/harmony-log-analysis/graphs/transparency_report/unique_address.html</a>"
      ],
      "text/plain": [
       "<IPython.core.display.HTML object>"
      ]
     },
     "metadata": {},
     "output_type": "display_data"
    },
    {
     "data": {
      "image/svg+xml": [
       "<svg class=\"main-svg\" xmlns=\"http://www.w3.org/2000/svg\" xmlns:xlink=\"http://www.w3.org/1999/xlink\" width=\"800\" height=\"500\" style=\"\" viewBox=\"0 0 800 500\"><rect x=\"0\" y=\"0\" width=\"800\" height=\"500\" style=\"fill: rgb(255, 255, 255); fill-opacity: 1;\"/><defs id=\"defs-87fc30\"><g class=\"clips\"><clipPath id=\"clip87fc30xyplot\" class=\"plotclip\"><rect width=\"640\" height=\"320\"/></clipPath><clipPath class=\"axesclip\" id=\"clip87fc30x\"><rect x=\"80\" y=\"0\" width=\"640\" height=\"500\"/></clipPath><clipPath class=\"axesclip\" id=\"clip87fc30y\"><rect x=\"0\" y=\"100\" width=\"800\" height=\"320\"/></clipPath><clipPath class=\"axesclip\" id=\"clip87fc30xy\"><rect x=\"80\" y=\"100\" width=\"640\" height=\"320\"/></clipPath></g><g class=\"gradients\"/></defs><g class=\"bglayer\"><rect class=\"bg\" x=\"80\" y=\"100\" width=\"640\" height=\"320\" style=\"fill: rgb(0, 0, 0); fill-opacity: 0; stroke-width: 0;\"/></g><g class=\"layer-below\"><g class=\"imagelayer\"/><g class=\"shapelayer\"/></g><g class=\"cartesianlayer\"><g class=\"subplot xy\"><g class=\"layer-subplot\"><g class=\"shapelayer\"/><g class=\"imagelayer\"/></g><g class=\"gridlayer\"><g class=\"x\"/><g class=\"y\"><path class=\"ygrid crisp\" transform=\"translate(0,361.66)\" d=\"M80,0h640\" style=\"stroke: rgb(232, 232, 232); stroke-opacity: 1; stroke-width: 1px;\"/><path class=\"ygrid crisp\" transform=\"translate(0,303.31)\" d=\"M80,0h640\" style=\"stroke: rgb(232, 232, 232); stroke-opacity: 1; stroke-width: 1px;\"/><path class=\"ygrid crisp\" transform=\"translate(0,244.97)\" d=\"M80,0h640\" style=\"stroke: rgb(232, 232, 232); stroke-opacity: 1; stroke-width: 1px;\"/><path class=\"ygrid crisp\" transform=\"translate(0,186.63)\" d=\"M80,0h640\" style=\"stroke: rgb(232, 232, 232); stroke-opacity: 1; stroke-width: 1px;\"/><path class=\"ygrid crisp\" transform=\"translate(0,128.28)\" d=\"M80,0h640\" style=\"stroke: rgb(232, 232, 232); stroke-opacity: 1; stroke-width: 1px;\"/></g></g><g class=\"zerolinelayer\"><path class=\"yzl zl crisp\" transform=\"translate(0,420)\" d=\"M80,0h640\" style=\"stroke: rgb(255, 255, 255); stroke-opacity: 1; stroke-width: 2px;\"/></g><path class=\"xlines-below\"/><path class=\"ylines-below\"/><g class=\"overlines-below\"/><g class=\"xaxislayer-below\"/><g class=\"yaxislayer-below\"/><g class=\"overaxes-below\"/><g class=\"plot\" transform=\"translate(80, 100)\" clip-path=\"url('#clip87fc30xyplot')\"><g class=\"scatterlayer mlayer\"><g class=\"trace scatter trace1103da\" style=\"stroke-miterlimit: 2;\"><g class=\"fills\"><g><path class=\"js-fill\" d=\"M640,320L0,320L0,292.11L162.54,291.32L165.93,291.29L169.31,290.51L169.31,290.48L169.31,289.92L171.01,289.89L171.01,289.6L172.7,289.57L177.78,289.22L196.4,289.19L318.31,286.04L325.08,286.01L350.48,284.96L350.48,284.94L350.48,284.76L352.17,284.73L352.17,284.12L353.86,284.09L362.33,283.07L362.33,283.04L367.41,282.22L367.41,282.19L367.41,281.67L369.1,281.64L369.1,281.17L370.79,281.14L379.26,280.01L379.26,279.98L397.88,278.05L397.88,277.99L399.58,277.18L399.58,277.15L399.58,276.3L401.27,276.27L401.27,274.08L402.96,274.05L402.96,273.47L404.66,273.44L404.66,272.95L406.35,272.92L406.35,272.77L408.04,272.74L408.04,271.72L409.74,271.69L409.74,270.93L411.43,270.9L411.43,270.44L413.12,270.41L413.12,269.94L414.81,269.91L414.81,269.45L416.51,269.42L416.51,269.1L418.2,269.07L418.2,268.75L419.89,268.72L419.89,267.81L421.59,267.78L421.59,267.23L423.28,267.2L423.28,266.47L424.97,266.44L424.97,264.84L426.67,264.81L426.67,263.96L428.36,263.93L428.36,263.44L430.05,263.41L430.05,262.68L431.75,262.65L431.75,262.39L433.44,262.36L433.44,261.83L435.13,261.8L435.13,261.25L436.83,261.22L436.83,260.9L438.52,260.87L438.52,260.4L440.21,260.37L440.21,260.02L441.9,259.99L441.9,259.82L443.6,259.79L443.6,259.47L445.29,259.44L445.29,258.91L446.98,258.88L446.98,258.45L448.68,258.42L448.68,257.69L450.37,257.66L450.37,257.08L452.06,257.05L452.06,256.76L453.76,256.73L453.76,256.26L455.45,256.23L455.45,256.06L457.14,256.03L457.14,255.76L458.84,255.73L458.84,255.33L460.53,255.3L460.53,255.06L462.22,255.03L462.22,254.48L463.92,254.45L463.92,253.81L465.61,253.78L465.61,253.4L467.3,253.37L467.3,253.02L468.99,252.99L468.99,252.73L470.69,252.7L470.69,251.59L472.38,251.56L472.38,250.95L474.07,250.92L474.07,249.64L475.77,249.61L475.77,248.91L477.46,248.88L477.46,248.59L479.15,248.56L479.15,248.09L480.85,248.06L480.85,247.39L482.54,247.36L482.54,246.57L484.23,246.55L484.23,246.28L485.93,246.25L485.93,245.64L487.62,245.61L487.62,245.26L489.31,245.23L489.31,244.74L491.01,244.71L491.01,244.18L492.7,244.15L492.7,243.72L494.39,243.69L494.39,243.51L496.08,243.48L496.08,242.9L497.78,242.87L497.78,242.43L499.47,242.4L499.47,241.94L501.16,241.91L501.16,241.62L502.86,241.59L502.86,241.24L504.55,241.21L504.55,240.39L506.24,240.36L506.24,239.63L507.94,239.6L507.94,238.52L509.63,238.49L509.63,237.76L511.32,237.74L511.32,236.42L513.02,236.39L513.02,234.76L514.71,234.73L514.71,233.68L516.4,233.65L516.4,233.01L518.1,232.98L518.1,232.37L519.79,232.34L519.79,231.55L521.48,231.52L521.48,230.5L523.17,230.47L523.17,229.6L524.87,229.57L524.87,228.72L526.56,228.69L526.56,227.29L528.25,227.26L528.25,226.18L529.95,226.15L529.95,225.34L531.64,225.31L531.64,223.79L533.33,223.76L533.33,222.8L535.03,222.77L535.03,221.43L536.72,221.4L536.72,219.74L538.41,219.71L538.41,217.37L540.11,217.34L540.11,216.61L541.8,216.59L541.8,215.59L543.49,215.56L543.49,213.93L545.19,213.9L545.19,207.72L546.88,207.69L546.88,203.75L548.57,203.72L548.57,202.79L550.26,202.76L550.26,200.19L551.96,200.16L551.96,198.21L553.65,198.18L553.65,194.01L555.34,193.98L555.34,191.56L557.04,191.53L557.04,188.55L558.73,188.52L558.73,186.45L560.42,186.42L560.42,185.08L562.12,185.05L562.12,183.39L563.81,183.36L563.81,181.52L565.5,181.49L565.5,178.9L567.2,178.87L567.2,161.48L568.89,161.45L568.89,146.81L570.58,146.78L570.58,141.85L572.28,141.82L572.28,139.69L573.97,139.66L573.97,132.28L575.66,132.25L575.66,127.49L577.35,127.47L577.35,125.86L579.05,125.83L579.05,124.02L580.74,123.99L580.74,122.51L582.43,122.48L582.43,114.46L584.13,114.43L584.13,112.56L585.82,112.53L585.82,110.93L587.51,110.9L587.51,109.2L589.21,109.17L589.21,107.28L590.9,107.25L590.9,105.67L592.59,105.65L592.59,103.78L594.29,103.75L594.29,102.44L595.98,102.41L595.98,100.42L597.67,100.39L597.67,98.24L599.37,98.21L599.37,96.86L601.06,96.84L601.06,95.08L602.75,95.06L602.75,93.86L604.44,93.83L604.44,92.02L606.14,91.99L606.14,90.15L607.83,90.13L607.83,88.38L609.52,88.35L609.52,86.71L609.52,86.71L611.22,86.68L611.22,84.87L612.91,84.85L612.91,82.57L614.6,82.57L614.6,81.87L616.3,81.84L616.3,80.15L617.99,80.12L617.99,61.54L619.68,61.51L619.68,56.37L621.38,56.37L621.38,54.13L623.07,54.1L623.07,44.06L624.76,44.03L624.76,36.6L626.46,36.57L626.46,29.59L628.15,29.56L628.15,27.32L629.84,27.29L629.84,26.18L631.53,26.15L631.53,24.75L633.23,24.72L633.23,23.76L634.92,23.73L634.92,22.42L636.61,22.39L636.61,17.72L638.31,17.69L638.31,16.06L640,16.03\" style=\"fill: rgb(153, 214, 255); fill-opacity: 0.5; stroke-width: 0;\"/></g></g><g class=\"errorbars\"/><g class=\"lines\"><path class=\"js-line\" d=\"M0,292.11L162.54,291.32L165.93,291.29L169.31,290.51L169.31,290.48L169.31,289.92L171.01,289.89L171.01,289.6L172.7,289.57L177.78,289.22L196.4,289.19L318.31,286.04L325.08,286.01L350.48,284.96L350.48,284.94L350.48,284.76L352.17,284.73L352.17,284.12L353.86,284.09L362.33,283.07L362.33,283.04L367.41,282.22L367.41,282.19L367.41,281.67L369.1,281.64L369.1,281.17L370.79,281.14L379.26,280.01L379.26,279.98L397.88,278.05L397.88,277.99L399.58,277.18L399.58,277.15L399.58,276.3L401.27,276.27L401.27,274.08L402.96,274.05L402.96,273.47L404.66,273.44L404.66,272.95L406.35,272.92L406.35,272.77L408.04,272.74L408.04,271.72L409.74,271.69L409.74,270.93L411.43,270.9L411.43,270.44L413.12,270.41L413.12,269.94L414.81,269.91L414.81,269.45L416.51,269.42L416.51,269.1L418.2,269.07L418.2,268.75L419.89,268.72L419.89,267.81L421.59,267.78L421.59,267.23L423.28,267.2L423.28,266.47L424.97,266.44L424.97,264.84L426.67,264.81L426.67,263.96L428.36,263.93L428.36,263.44L430.05,263.41L430.05,262.68L431.75,262.65L431.75,262.39L433.44,262.36L433.44,261.83L435.13,261.8L435.13,261.25L436.83,261.22L436.83,260.9L438.52,260.87L438.52,260.4L440.21,260.37L440.21,260.02L441.9,259.99L441.9,259.82L443.6,259.79L443.6,259.47L445.29,259.44L445.29,258.91L446.98,258.88L446.98,258.45L448.68,258.42L448.68,257.69L450.37,257.66L450.37,257.08L452.06,257.05L452.06,256.76L453.76,256.73L453.76,256.26L455.45,256.23L455.45,256.06L457.14,256.03L457.14,255.76L458.84,255.73L458.84,255.33L460.53,255.3L460.53,255.06L462.22,255.03L462.22,254.48L463.92,254.45L463.92,253.81L465.61,253.78L465.61,253.4L467.3,253.37L467.3,253.02L468.99,252.99L468.99,252.73L470.69,252.7L470.69,251.59L472.38,251.56L472.38,250.95L474.07,250.92L474.07,249.64L475.77,249.61L475.77,248.91L477.46,248.88L477.46,248.59L479.15,248.56L479.15,248.09L480.85,248.06L480.85,247.39L482.54,247.36L482.54,246.57L484.23,246.55L484.23,246.28L485.93,246.25L485.93,245.64L487.62,245.61L487.62,245.26L489.31,245.23L489.31,244.74L491.01,244.71L491.01,244.18L492.7,244.15L492.7,243.72L494.39,243.69L494.39,243.51L496.08,243.48L496.08,242.9L497.78,242.87L497.78,242.43L499.47,242.4L499.47,241.94L501.16,241.91L501.16,241.62L502.86,241.59L502.86,241.24L504.55,241.21L504.55,240.39L506.24,240.36L506.24,239.63L507.94,239.6L507.94,238.52L509.63,238.49L509.63,237.76L511.32,237.74L511.32,236.42L513.02,236.39L513.02,234.76L514.71,234.73L514.71,233.68L516.4,233.65L516.4,233.01L518.1,232.98L518.1,232.37L519.79,232.34L519.79,231.55L521.48,231.52L521.48,230.5L523.17,230.47L523.17,229.6L524.87,229.57L524.87,228.72L526.56,228.69L526.56,227.29L528.25,227.26L528.25,226.18L529.95,226.15L529.95,225.34L531.64,225.31L531.64,223.79L533.33,223.76L533.33,222.8L535.03,222.77L535.03,221.43L536.72,221.4L536.72,219.74L538.41,219.71L538.41,217.37L540.11,217.34L540.11,216.61L541.8,216.59L541.8,215.59L543.49,215.56L543.49,213.93L545.19,213.9L545.19,207.72L546.88,207.69L546.88,203.75L548.57,203.72L548.57,202.79L550.26,202.76L550.26,200.19L551.96,200.16L551.96,198.21L553.65,198.18L553.65,194.01L555.34,193.98L555.34,191.56L557.04,191.53L557.04,188.55L558.73,188.52L558.73,186.45L560.42,186.42L560.42,185.08L562.12,185.05L562.12,183.39L563.81,183.36L563.81,181.52L565.5,181.49L565.5,178.9L567.2,178.87L567.2,161.48L568.89,161.45L568.89,146.81L570.58,146.78L570.58,141.85L572.28,141.82L572.28,139.69L573.97,139.66L573.97,132.28L575.66,132.25L575.66,127.49L577.35,127.47L577.35,125.86L579.05,125.83L579.05,124.02L580.74,123.99L580.74,122.51L582.43,122.48L582.43,114.46L584.13,114.43L584.13,112.56L585.82,112.53L585.82,110.93L587.51,110.9L587.51,109.2L589.21,109.17L589.21,107.28L590.9,107.25L590.9,105.67L592.59,105.65L592.59,103.78L594.29,103.75L594.29,102.44L595.98,102.41L595.98,100.42L597.67,100.39L597.67,98.24L599.37,98.21L599.37,96.86L601.06,96.84L601.06,95.08L602.75,95.06L602.75,93.86L604.44,93.83L604.44,92.02L606.14,91.99L606.14,90.15L607.83,90.13L607.83,88.38L609.52,88.35L609.52,86.71L609.52,86.71L611.22,86.68L611.22,84.87L612.91,84.85L612.91,82.57L614.6,82.57L614.6,81.87L616.3,81.84L616.3,80.15L617.99,80.12L617.99,61.54L619.68,61.51L619.68,56.37L621.38,56.37L621.38,54.13L623.07,54.1L623.07,44.06L624.76,44.03L624.76,36.6L626.46,36.57L626.46,29.59L628.15,29.56L628.15,27.32L629.84,27.29L629.84,26.18L631.53,26.15L631.53,24.75L633.23,24.72L633.23,23.76L634.92,23.73L634.92,22.42L636.61,22.39L636.61,17.72L638.31,17.69L638.31,16.06L640,16.03\" style=\"vector-effect: non-scaling-stroke; fill: none; stroke: rgb(153, 214, 255); stroke-opacity: 1; stroke-width: 2px; opacity: 1;\"/></g><g class=\"points\"/><g class=\"text\"/></g></g></g><g class=\"overplot\"/><path class=\"xlines-above crisp\" d=\"M0,0\" style=\"fill: none;\"/><path class=\"ylines-above crisp\" d=\"M0,0\" style=\"fill: none;\"/><g class=\"overlines-above\"/><g class=\"xaxislayer-above\"><g class=\"xtick\"><text text-anchor=\"middle\" x=\"0\" y=\"433\" transform=\"translate(85.08,0)\" style=\"font-family: 'Open Sans', verdana, arial, sans-serif; font-size: 12px; fill: rgb(42, 63, 95); fill-opacity: 1; white-space: pre;\">Jul 2019</text></g><g class=\"xtick\"><text text-anchor=\"middle\" x=\"0\" y=\"433\" transform=\"translate(190.05,0)\" style=\"font-family: 'Open Sans', verdana, arial, sans-serif; font-size: 12px; fill: rgb(42, 63, 95); fill-opacity: 1; white-space: pre;\">Sep 2019</text></g><g class=\"xtick\"><text text-anchor=\"middle\" x=\"0\" y=\"433\" transform=\"translate(293.33000000000004,0)\" style=\"font-family: 'Open Sans', verdana, arial, sans-serif; font-size: 12px; fill: rgb(42, 63, 95); fill-opacity: 1; white-space: pre;\">Nov 2019</text></g><g class=\"xtick\"><text text-anchor=\"middle\" x=\"0\" y=\"433\" transform=\"translate(396.61,0)\" style=\"font-family: 'Open Sans', verdana, arial, sans-serif; font-size: 12px; fill: rgb(42, 63, 95); fill-opacity: 1; white-space: pre;\">Jan 2020</text></g><g class=\"xtick\"><text text-anchor=\"middle\" x=\"0\" y=\"433\" transform=\"translate(498.2,0)\" style=\"font-family: 'Open Sans', verdana, arial, sans-serif; font-size: 12px; fill: rgb(42, 63, 95); fill-opacity: 1; white-space: pre;\">Mar 2020</text></g><g class=\"xtick\"><text text-anchor=\"middle\" x=\"0\" y=\"433\" transform=\"translate(601.48,0)\" style=\"font-family: 'Open Sans', verdana, arial, sans-serif; font-size: 12px; fill: rgb(42, 63, 95); fill-opacity: 1; white-space: pre;\">May 2020</text></g><g class=\"xtick\"><text text-anchor=\"middle\" x=\"0\" y=\"433\" transform=\"translate(704.76,0)\" style=\"font-family: 'Open Sans', verdana, arial, sans-serif; font-size: 12px; fill: rgb(42, 63, 95); fill-opacity: 1; white-space: pre;\">Jul 2020</text></g></g><g class=\"yaxislayer-above\"><g class=\"ytick\"><text text-anchor=\"end\" x=\"79\" y=\"4.199999999999999\" transform=\"translate(0,420)\" style=\"font-family: 'Open Sans', verdana, arial, sans-serif; font-size: 12px; fill: rgb(42, 63, 95); fill-opacity: 1; white-space: pre;\">0</text></g><g class=\"ytick\"><text text-anchor=\"end\" x=\"79\" y=\"4.199999999999999\" transform=\"translate(0,361.66)\" style=\"font-family: 'Open Sans', verdana, arial, sans-serif; font-size: 12px; fill: rgb(42, 63, 95); fill-opacity: 1; white-space: pre;\">2k</text></g><g class=\"ytick\"><text text-anchor=\"end\" x=\"79\" y=\"4.199999999999999\" transform=\"translate(0,303.31)\" style=\"font-family: 'Open Sans', verdana, arial, sans-serif; font-size: 12px; fill: rgb(42, 63, 95); fill-opacity: 1; white-space: pre;\">4k</text></g><g class=\"ytick\"><text text-anchor=\"end\" x=\"79\" y=\"4.199999999999999\" transform=\"translate(0,244.97)\" style=\"font-family: 'Open Sans', verdana, arial, sans-serif; font-size: 12px; fill: rgb(42, 63, 95); fill-opacity: 1; white-space: pre;\">6k</text></g><g class=\"ytick\"><text text-anchor=\"end\" x=\"79\" y=\"4.199999999999999\" transform=\"translate(0,186.63)\" style=\"font-family: 'Open Sans', verdana, arial, sans-serif; font-size: 12px; fill: rgb(42, 63, 95); fill-opacity: 1; white-space: pre;\">8k</text></g><g class=\"ytick\"><text text-anchor=\"end\" x=\"79\" y=\"4.199999999999999\" transform=\"translate(0,128.28)\" style=\"font-family: 'Open Sans', verdana, arial, sans-serif; font-size: 12px; fill: rgb(42, 63, 95); fill-opacity: 1; white-space: pre;\">10k</text></g></g><g class=\"overaxes-above\"/></g></g><g class=\"polarlayer\"/><g class=\"ternarylayer\"/><g class=\"geolayer\"/><g class=\"funnelarealayer\"/><g class=\"pielayer\"/><g class=\"treemaplayer\"/><g class=\"sunburstlayer\"/><g class=\"glimages\"/><defs id=\"topdefs-87fc30\"><g class=\"clips\"/></defs><g class=\"layer-above\"><g class=\"imagelayer\"/><g class=\"shapelayer\"/></g><g class=\"infolayer\"><g class=\"g-gtitle\"><text class=\"gtitle\" x=\"400\" y=\"50\" text-anchor=\"middle\" dy=\"0em\" style=\"font-family: 'Open Sans', verdana, arial, sans-serif; font-size: 17px; fill: rgb(42, 63, 95); opacity: 1; font-weight: normal; white-space: pre;\">Harmony Unique Address Chart</text></g><g class=\"g-xtitle\"/><g class=\"g-ytitle\"><text class=\"ytitle\" transform=\"rotate(-90,31.981250000000003,260)\" x=\"31.981250000000003\" y=\"260\" text-anchor=\"middle\" style=\"font-family: 'Open Sans', verdana, arial, sans-serif; font-size: 14px; fill: rgb(42, 63, 95); opacity: 1; font-weight: normal; white-space: pre;\">Harmony Cumulative Address Growth</text></g></g></svg>"
      ]
     },
     "metadata": {},
     "output_type": "display_data"
    }
   ],
   "source": [
    "fig = draw_area_graph(addr_df, \"count\", \"unique_address\", \"Unique Address\")\n",
    "fig.update_layout(yaxis_title=\"Harmony Cumulative Address Growth\")\n",
    "fig.show(renderer=\"svg\",width=800, height=500)"
   ]
  },
  {
   "cell_type": "code",
   "execution_count": null,
   "metadata": {},
   "outputs": [],
   "source": []
  }
 ],
 "metadata": {
  "kernelspec": {
   "display_name": "Python 3",
   "language": "python",
   "name": "python3"
  },
  "language_info": {
   "codemirror_mode": {
    "name": "ipython",
    "version": 3
   },
   "file_extension": ".py",
   "mimetype": "text/x-python",
   "name": "python",
   "nbconvert_exporter": "python",
   "pygments_lexer": "ipython3",
   "version": "3.6.9"
  }
 },
 "nbformat": 4,
 "nbformat_minor": 4
}
