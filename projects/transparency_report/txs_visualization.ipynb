{
 "cells": [
  {
   "cell_type": "code",
   "execution_count": 1,
   "metadata": {},
   "outputs": [],
   "source": [
    "import requests\n",
    "import json\n",
    "import pandas as pd\n",
    "import plotly.express as px \n",
    "import plotly.graph_objects as go\n",
    "from IPython.core.display import display, HTML\n",
    "import os\n",
    "from os import path"
   ]
  },
  {
   "cell_type": "code",
   "execution_count": 2,
   "metadata": {},
   "outputs": [],
   "source": [
    "html_dir = \"../../docs/graphs/transparency_report/\"\n",
    "if not path.exists(html_dir):\n",
    "    try:\n",
    "        os.makedirs(html_dir)\n",
    "    except:\n",
    "        print(\"Could not make directory\")\n",
    "        exit(1)"
   ]
  },
  {
   "cell_type": "code",
   "execution_count": 3,
   "metadata": {},
   "outputs": [],
   "source": [
    "def get_data(link, feature):\n",
    "    res = requests.get(link)\n",
    "    data = json.loads(res.content)\n",
    "    df = pd.DataFrame(data.items(), columns=['date', feature])  \n",
    "    df['Daily Increase'] = (df[feature]-df[feature].shift()).fillna(0).astype(int)\n",
    "    return df"
   ]
  },
  {
   "cell_type": "code",
   "execution_count": 4,
   "metadata": {},
   "outputs": [],
   "source": [
    "def draw_graph(df, feature, name):\n",
    "    html_path = \"https://harmony-one.github.io/harmony-log-analysis/\" + html_dir.replace(\"../../docs/\", \"\")\n",
    "    if \"txs_count\" in name:\n",
    "        fig = px.line(df, x='date', y=feature, color_discrete_sequence = ['#99d6ff'], title = 'Harmony Daily Transaction Chart')\n",
    "    else:\n",
    "        hover = df.columns.tolist()\n",
    "        fig = px.area(df, x='date', y=feature, color_discrete_sequence = ['#99d6ff'], hover_data=hover, title = 'Harmony Unique Address Chart')\n",
    "\n",
    "    fig.update_xaxes({'showgrid': False, 'showspikes': True, 'title': None})\n",
    "    fig.update_yaxes({'gridcolor': \"#E8E8E8\"})\n",
    "    fig.update_layout({'plot_bgcolor':'rgba(0,0,0,0)', \"title_x\": 0.5, 'hovermode': 'closest'})\n",
    "#     fig.show(renderer=\"svg\",width=800, height=500)\n",
    "    fig.write_html(\"{:s}{:s}.html\".format(html_dir, name))\n",
    "    print(\"HTML saved in \" )\n",
    "    display_path = \"{:s}{:s}.html\".format(html_path, name)\n",
    "    display(HTML(\"<a href='\" + display_path + \"' target='_blank'>\" + display_path + \"</a>\"))\n",
    "    return fig"
   ]
  },
  {
   "cell_type": "code",
   "execution_count": 5,
   "metadata": {},
   "outputs": [
    {
     "name": "stdout",
     "output_type": "stream",
     "text": [
      "HTML saved in \n"
     ]
    },
    {
     "data": {
      "text/html": [
       "<a href='https://harmony-one.github.io/harmony-log-analysis/graphs/transparency_report/daily_txs_count.html' target='_blank'>https://harmony-one.github.io/harmony-log-analysis/graphs/transparency_report/daily_txs_count.html</a>"
      ],
      "text/plain": [
       "<IPython.core.display.HTML object>"
      ]
     },
     "metadata": {},
     "output_type": "display_data"
    },
    {
     "data": {
      "image/svg+xml": [
       "<svg class=\"main-svg\" xmlns=\"http://www.w3.org/2000/svg\" xmlns:xlink=\"http://www.w3.org/1999/xlink\" width=\"800\" height=\"500\" style=\"\" viewBox=\"0 0 800 500\"><rect x=\"0\" y=\"0\" width=\"800\" height=\"500\" style=\"fill: rgb(255, 255, 255); fill-opacity: 1;\"/><defs id=\"defs-2560ad\"><g class=\"clips\"><clipPath id=\"clip2560adxyplot\" class=\"plotclip\"><rect width=\"640\" height=\"320\"/></clipPath><clipPath class=\"axesclip\" id=\"clip2560adx\"><rect x=\"80\" y=\"0\" width=\"640\" height=\"500\"/></clipPath><clipPath class=\"axesclip\" id=\"clip2560ady\"><rect x=\"0\" y=\"100\" width=\"800\" height=\"320\"/></clipPath><clipPath class=\"axesclip\" id=\"clip2560adxy\"><rect x=\"80\" y=\"100\" width=\"640\" height=\"320\"/></clipPath></g><g class=\"gradients\"/></defs><g class=\"bglayer\"><rect class=\"bg\" x=\"80\" y=\"100\" width=\"640\" height=\"320\" style=\"fill: rgb(0, 0, 0); fill-opacity: 0; stroke-width: 0;\"/></g><g class=\"layer-below\"><g class=\"imagelayer\"/><g class=\"shapelayer\"/></g><g class=\"cartesianlayer\"><g class=\"subplot xy\"><g class=\"layer-subplot\"><g class=\"shapelayer\"/><g class=\"imagelayer\"/></g><g class=\"gridlayer\"><g class=\"x\"/><g class=\"y\"><path class=\"ygrid crisp\" transform=\"translate(0,361.77)\" d=\"M80,0h640\" style=\"stroke: rgb(232, 232, 232); stroke-opacity: 1; stroke-width: 1px;\"/><path class=\"ygrid crisp\" transform=\"translate(0,319.53999999999996)\" d=\"M80,0h640\" style=\"stroke: rgb(232, 232, 232); stroke-opacity: 1; stroke-width: 1px;\"/><path class=\"ygrid crisp\" transform=\"translate(0,277.31)\" d=\"M80,0h640\" style=\"stroke: rgb(232, 232, 232); stroke-opacity: 1; stroke-width: 1px;\"/><path class=\"ygrid crisp\" transform=\"translate(0,235.09)\" d=\"M80,0h640\" style=\"stroke: rgb(232, 232, 232); stroke-opacity: 1; stroke-width: 1px;\"/><path class=\"ygrid crisp\" transform=\"translate(0,192.86)\" d=\"M80,0h640\" style=\"stroke: rgb(232, 232, 232); stroke-opacity: 1; stroke-width: 1px;\"/><path class=\"ygrid crisp\" transform=\"translate(0,150.63)\" d=\"M80,0h640\" style=\"stroke: rgb(232, 232, 232); stroke-opacity: 1; stroke-width: 1px;\"/><path class=\"ygrid crisp\" transform=\"translate(0,108.4)\" d=\"M80,0h640\" style=\"stroke: rgb(232, 232, 232); stroke-opacity: 1; stroke-width: 1px;\"/></g></g><g class=\"zerolinelayer\"><path class=\"yzl zl crisp\" transform=\"translate(0,404)\" d=\"M80,0h640\" style=\"stroke: rgb(255, 255, 255); stroke-opacity: 1; stroke-width: 2px;\"/></g><path class=\"xlines-below\"/><path class=\"ylines-below\"/><g class=\"overlines-below\"/><g class=\"xaxislayer-below\"/><g class=\"yaxislayer-below\"/><g class=\"overaxes-below\"/><g class=\"plot\" transform=\"translate(80, 100)\" clip-path=\"url('#clip2560adxyplot')\"><g class=\"scatterlayer mlayer\"><g class=\"trace scatter traceed832f\" style=\"stroke-miterlimit: 2; opacity: 1;\"><g class=\"fills\"/><g class=\"errorbars\"/><g class=\"lines\"><path class=\"js-line\" d=\"M0,304L89.74,304L91.43,302.4L93.12,304L94.81,304L106.67,303.92L108.36,302.4L110.05,304L111.75,304L115.13,303.92L116.83,303.16L118.52,303.92L120.21,303.16L121.9,299.19L123.6,301.38L125.29,300.54L126.98,295.13L128.68,16L130.37,200.71L132.06,304L133.76,304L137.14,302.99L138.84,299.69L140.53,303.49L142.22,303.66L143.92,299.95L145.61,304L150.69,303.66L152.38,300.71L155.77,304L157.46,304L162.54,303.41L164.23,303.16L165.93,302.99L167.62,295.55L169.31,294.71L171.01,297.83L174.39,301.47L176.08,302.56L184.55,303.92L186.24,303.83L193.02,303.92L194.71,303.92L196.4,303.24L198.1,299.95L199.79,304L201.48,303.92L203.17,301.64L204.87,303.75L206.56,303.16L208.25,303.66L216.72,303.41L218.41,302.48L220.11,303.24L221.8,296.57L223.49,302.99L225.19,303.24L226.88,302.9L228.57,303.75L231.96,303.24L233.65,303.49L240.42,303.66L242.12,303.24L243.81,303.41L245.5,302.31L247.2,301.72L248.89,291.33L250.58,303.92L252.28,303.75L253.97,296.31L255.66,303.49L257.35,300.03L259.05,302.31L260.74,303.75L262.43,304L267.51,302.65L269.21,303.41L274.29,303.92L275.98,303.83L279.37,302.99L281.06,303.83L287.83,303.83L289.52,300.28L291.22,302.99L292.91,303.92L304.76,303.83L306.46,301.3L308.15,301.97L309.84,303.66L316.61,303.83L318.31,303.66L323.39,304L325.08,302.56L326.77,303.66L328.47,302.56L330.16,303.92L331.85,303.16L335.24,303.92L336.93,302.14L338.62,303.32L340.32,303.58L343.7,301.13L345.4,303.07L347.09,249.36L348.78,302.65L350.48,300.71L352.17,292.01L353.86,301.72L355.56,297.58L357.25,302.23L358.94,301.8L360.63,303.41L362.33,297.67L364.02,302.48L365.71,297.58L367.41,299.86L369.1,293.87L370.79,302.65L372.49,300.62L375.87,302.9L377.57,299.27L379.26,301.55L380.95,301.64L382.65,302.82L384.34,302.48L386.03,301.8L387.72,297.5L389.42,302.65L391.11,301.38L392.8,302.31L394.5,302.06L396.19,302.06L397.88,300.79L399.58,293.95L401.27,290.49L402.96,297.75L404.66,300.03L406.35,302.31L408.04,297.16L409.74,296.15L411.43,298.17L413.12,298.09L414.81,300.03L416.51,300.28L418.2,298.26L419.89,296.4L421.59,299.61L423.28,285.33L424.97,289.05L426.67,293.44L428.36,295.64L430.05,294.79L431.75,296.74L433.44,295.3L435.13,296.4L436.83,294.29L438.52,296.82L440.21,239.47L441.9,243.11L443.6,242.94L445.29,239.64L446.98,281.79L448.68,233.48L450.37,230.35L452.06,239.9L455.45,240.4L457.14,239.47L458.84,236.43L460.53,242.6L462.22,241.08L463.92,237.62L465.61,298.09L467.3,300.03L468.99,299.27L470.69,291.5L472.38,296.15L474.07,291.84L477.46,299.86L479.15,297.5L482.54,298.85L484.23,297.92L485.93,296.91L487.62,299.27L489.31,299.1L491.01,295.47L494.39,300.79L496.08,299.1L497.78,296.74L499.47,298.93L501.16,300.11L502.86,296.06L504.55,296.99L506.24,296.99L509.63,295.22L511.32,289.39L513.02,202.9L514.71,260.17L516.4,178.16L518.1,241.84L519.79,249.27L521.48,217.18L523.17,196.57L524.87,201.89L526.56,191.33L528.25,228.41L529.95,286.69L531.64,161.52L533.33,181.71L535.03,173.26L536.72,178.33L538.41,159.49L540.11,189.9L541.8,168.36L543.49,160.34L545.19,87.28L546.88,76.81L548.57,160.25L550.26,237.36L551.96,168.19L553.65,164.9L555.34,226.72L558.73,262.11L560.42,259.74L562.12,250.03L563.81,204.42L565.5,200.37L567.2,77.06L570.58,229.59L572.28,230.52L573.97,179.68L575.66,203.16L577.35,259.24L579.05,247.5L580.74,116.17L582.43,103.16L584.13,243.44L585.82,244.46L587.51,240.23L589.21,246.15L590.9,247.16L592.59,241.5L595.98,225.29L597.67,218.61L599.37,234.58L601.06,221.91L606.14,239.73L607.83,240.23L611.22,225.29L612.91,210.08L614.6,251.47L616.3,175.96L617.99,107.05L619.68,142.69L621.38,226.55L623.07,172.75L624.76,193.61L626.46,161.77L628.15,134.49L629.84,183.06L631.53,218.02L633.23,208.82L634.92,242.68L636.61,186.18L638.31,231.7L640,225.45\" style=\"vector-effect: non-scaling-stroke; fill: none; stroke: rgb(153, 214, 255); stroke-opacity: 1; stroke-width: 2px; opacity: 1;\"/></g><g class=\"points\"/><g class=\"text\"/></g></g></g><g class=\"overplot\"/><path class=\"xlines-above crisp\" d=\"M0,0\" style=\"fill: none;\"/><path class=\"ylines-above crisp\" d=\"M0,0\" style=\"fill: none;\"/><g class=\"overlines-above\"/><g class=\"xaxislayer-above\"><g class=\"xtick\"><text text-anchor=\"middle\" x=\"0\" y=\"433\" transform=\"translate(85.08,0)\" style=\"font-family: 'Open Sans', verdana, arial, sans-serif; font-size: 12px; fill: rgb(42, 63, 95); fill-opacity: 1; white-space: pre;\">Jul 2019</text></g><g class=\"xtick\"><text text-anchor=\"middle\" x=\"0\" y=\"433\" transform=\"translate(190.05,0)\" style=\"font-family: 'Open Sans', verdana, arial, sans-serif; font-size: 12px; fill: rgb(42, 63, 95); fill-opacity: 1; white-space: pre;\">Sep 2019</text></g><g class=\"xtick\"><text text-anchor=\"middle\" x=\"0\" y=\"433\" transform=\"translate(293.33000000000004,0)\" style=\"font-family: 'Open Sans', verdana, arial, sans-serif; font-size: 12px; fill: rgb(42, 63, 95); fill-opacity: 1; white-space: pre;\">Nov 2019</text></g><g class=\"xtick\"><text text-anchor=\"middle\" x=\"0\" y=\"433\" transform=\"translate(396.61,0)\" style=\"font-family: 'Open Sans', verdana, arial, sans-serif; font-size: 12px; fill: rgb(42, 63, 95); fill-opacity: 1; white-space: pre;\">Jan 2020</text></g><g class=\"xtick\"><text text-anchor=\"middle\" x=\"0\" y=\"433\" transform=\"translate(498.2,0)\" style=\"font-family: 'Open Sans', verdana, arial, sans-serif; font-size: 12px; fill: rgb(42, 63, 95); fill-opacity: 1; white-space: pre;\">Mar 2020</text></g><g class=\"xtick\"><text text-anchor=\"middle\" x=\"0\" y=\"433\" transform=\"translate(601.48,0)\" style=\"font-family: 'Open Sans', verdana, arial, sans-serif; font-size: 12px; fill: rgb(42, 63, 95); fill-opacity: 1; white-space: pre;\">May 2020</text></g><g class=\"xtick\"><text text-anchor=\"middle\" x=\"0\" y=\"433\" transform=\"translate(704.76,0)\" style=\"font-family: 'Open Sans', verdana, arial, sans-serif; font-size: 12px; fill: rgb(42, 63, 95); fill-opacity: 1; white-space: pre;\">Jul 2020</text></g></g><g class=\"yaxislayer-above\"><g class=\"ytick\"><text text-anchor=\"end\" x=\"79\" y=\"4.199999999999999\" transform=\"translate(0,404)\" style=\"font-family: 'Open Sans', verdana, arial, sans-serif; font-size: 12px; fill: rgb(42, 63, 95); fill-opacity: 1; white-space: pre;\">0</text></g><g class=\"ytick\"><text text-anchor=\"end\" x=\"79\" y=\"4.199999999999999\" transform=\"translate(0,361.77)\" style=\"font-family: 'Open Sans', verdana, arial, sans-serif; font-size: 12px; fill: rgb(42, 63, 95); fill-opacity: 1; white-space: pre;\">500</text></g><g class=\"ytick\"><text text-anchor=\"end\" x=\"79\" y=\"4.199999999999999\" transform=\"translate(0,319.53999999999996)\" style=\"font-family: 'Open Sans', verdana, arial, sans-serif; font-size: 12px; fill: rgb(42, 63, 95); fill-opacity: 1; white-space: pre;\">1000</text></g><g class=\"ytick\"><text text-anchor=\"end\" x=\"79\" y=\"4.199999999999999\" transform=\"translate(0,277.31)\" style=\"font-family: 'Open Sans', verdana, arial, sans-serif; font-size: 12px; fill: rgb(42, 63, 95); fill-opacity: 1; white-space: pre;\">1500</text></g><g class=\"ytick\"><text text-anchor=\"end\" x=\"79\" y=\"4.199999999999999\" transform=\"translate(0,235.09)\" style=\"font-family: 'Open Sans', verdana, arial, sans-serif; font-size: 12px; fill: rgb(42, 63, 95); fill-opacity: 1; white-space: pre;\">2000</text></g><g class=\"ytick\"><text text-anchor=\"end\" x=\"79\" y=\"4.199999999999999\" transform=\"translate(0,192.86)\" style=\"font-family: 'Open Sans', verdana, arial, sans-serif; font-size: 12px; fill: rgb(42, 63, 95); fill-opacity: 1; white-space: pre;\">2500</text></g><g class=\"ytick\"><text text-anchor=\"end\" x=\"79\" y=\"4.199999999999999\" transform=\"translate(0,150.63)\" style=\"font-family: 'Open Sans', verdana, arial, sans-serif; font-size: 12px; fill: rgb(42, 63, 95); fill-opacity: 1; white-space: pre;\">3000</text></g><g class=\"ytick\"><text text-anchor=\"end\" x=\"79\" y=\"4.199999999999999\" transform=\"translate(0,108.4)\" style=\"font-family: 'Open Sans', verdana, arial, sans-serif; font-size: 12px; fill: rgb(42, 63, 95); fill-opacity: 1; white-space: pre;\">3500</text></g></g><g class=\"overaxes-above\"/></g></g><g class=\"polarlayer\"/><g class=\"ternarylayer\"/><g class=\"geolayer\"/><g class=\"funnelarealayer\"/><g class=\"pielayer\"/><g class=\"treemaplayer\"/><g class=\"sunburstlayer\"/><g class=\"glimages\"/><defs id=\"topdefs-2560ad\"><g class=\"clips\"/></defs><g class=\"layer-above\"><g class=\"imagelayer\"/><g class=\"shapelayer\"/></g><g class=\"infolayer\"><g class=\"g-gtitle\"><text class=\"gtitle\" x=\"400\" y=\"50\" text-anchor=\"middle\" dy=\"0em\" style=\"font-family: 'Open Sans', verdana, arial, sans-serif; font-size: 17px; fill: rgb(42, 63, 95); opacity: 1; font-weight: normal; white-space: pre;\">Harmony Daily Transaction Chart</text></g><g class=\"g-xtitle\"/><g class=\"g-ytitle\"><text class=\"ytitle\" transform=\"rotate(-90,23.653125000000003,260)\" x=\"23.653125000000003\" y=\"260\" text-anchor=\"middle\" style=\"font-family: 'Open Sans', verdana, arial, sans-serif; font-size: 14px; fill: rgb(42, 63, 95); opacity: 1; font-weight: normal; white-space: pre;\">Transaction Per Day</text></g></g></svg>"
      ]
     },
     "metadata": {},
     "output_type": "display_data"
    }
   ],
   "source": [
    "link = \"https://harmony-explorer-mainnet.firebaseio.com/total-txs-count.json\"\n",
    "feature = 'Harmony Cumulative Transaction Growth'\n",
    "df = get_data(link, feature)\n",
    "new_df = df[['date','Daily Increase']].loc[1:]\n",
    "new_df['date'] = pd.to_datetime(new_df['date'],format ='%Y_%m_%d')\n",
    "\n",
    "old_df = pd.read_csv(\"data/daily_txs.csv\", header = 0)\n",
    "old_df = old_df[old_df['date'] < '2020-07-07']\n",
    "old_df.rename(columns = {'txs-count':'Daily Increase'}, inplace = True)\n",
    "old_df['date'] = pd.to_datetime(old_df['date'],format ='%Y-%m-%d')\n",
    "\n",
    "merge_df = pd.concat([old_df, new_df], axis=0)\n",
    "merge_df.reset_index(drop = True, inplace = True)\n",
    "fig = draw_graph(merge_df, 'Daily Increase', \"daily_txs_count\")\n",
    "fig.update_layout(yaxis_title=\"Transaction Per Day\")\n",
    "fig.show(renderer=\"svg\",width=800, height=500)"
   ]
  }
 ],
 "metadata": {
  "kernelspec": {
   "display_name": "Python 3",
   "language": "python",
   "name": "python3"
  },
  "language_info": {
   "codemirror_mode": {
    "name": "ipython",
    "version": 3
   },
   "file_extension": ".py",
   "mimetype": "text/x-python",
   "name": "python",
   "nbconvert_exporter": "python",
   "pygments_lexer": "ipython3",
   "version": "3.7.6"
  }
 },
 "nbformat": 4,
 "nbformat_minor": 4
}
