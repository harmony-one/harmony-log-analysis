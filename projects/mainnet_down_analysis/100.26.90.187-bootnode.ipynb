{
 "cells": [
  {
   "cell_type": "code",
   "execution_count": 1,
   "metadata": {},
   "outputs": [],
   "source": [
    "import json\n",
    "import pandas as pd\n",
    "import os\n",
    "import shutil\n",
    "import re\n",
    "import plotly.express as px \n",
    "import plotly.graph_objects as go\n",
    "import numpy as np\n",
    "from IPython.core.display import display, HTML\n",
    "# below you need to set up for linux\n",
    "# import plotly.io as pio\n",
    "# pio.orca.config.use_xvfb = True\n",
    "# pio.orca.config.save() "
   ]
  },
  {
   "cell_type": "code",
   "execution_count": 2,
   "metadata": {},
   "outputs": [],
   "source": [
    "def read_file(file):\n",
    "    date = []\n",
    "    ip = []\n",
    "    status = []\n",
    "    netLocalPeer = []\n",
    "    connLocalPeer = []\n",
    "    connLocalAddr = []\n",
    "    connRemotePeer = []\n",
    "    connRemoteAddr = []\n",
    "    streamProtocolID = []\n",
    "    with open(file, errors='ignore') as f:\n",
    "        for line in f.readlines():\n",
    "            date.append(line.partition(\"]\")[0].partition(\"DEBUG[\")[2])\n",
    "            status.append(line.partition(\"port\")[0].partition(\"]\")[2].strip())\n",
    "            pattern = re.compile(\".*?=(.*?) .*?\")\n",
    "            tmp = re.findall(pattern, line)\n",
    "            ip.append(tmp[1])\n",
    "            netLocalPeer.append(tmp[2])\n",
    "            connLocalPeer.append(tmp[4])\n",
    "            connLocalAddr.append(tmp[5])\n",
    "            connRemotePeer.append(tmp[6])\n",
    "            connRemoteAddr.append(tmp[7])\n",
    "            if len(tmp) == 11:\n",
    "                streamProtocolID.append(tmp[8])\n",
    "            else:\n",
    "                streamProtocolID.append(\"\")\n",
    "            \n",
    "    key_word = ['date', 'ip', 'status', 'netLocalPeer', 'connLocalPeer', 'connLocalAddr', 'connRemotePeer', 'connRemoteAddr', 'streamProtocolID']\n",
    "    lst = [date, ip, status, netLocalPeer, connLocalPeer, connLocalAddr, connRemotePeer, connRemoteAddr, streamProtocolID]\n",
    "    df = pd.DataFrame(zip(*lst), columns = key_word)\n",
    "    return df"
   ]
  },
  {
   "cell_type": "code",
   "execution_count": 3,
   "metadata": {},
   "outputs": [],
   "source": [
    "def get_top_10_frequent(df, name):\n",
    "    sort_df = df.sort_values(by='count', ascending = False).reset_index(drop = True) \n",
    "    lst = sort_df.loc[:9, name].tolist()\n",
    "    return lst"
   ]
  },
  {
   "cell_type": "code",
   "execution_count": 4,
   "metadata": {},
   "outputs": [],
   "source": [
    "def aggregate_value(df, name, lst):\n",
    "    mask = df[name].apply(lambda x: x in lst)\n",
    "    df_2 = df[mask]\n",
    "    five_minute = df_2.groupby([pd.Grouper(freq='5Min', key = 'date'), name])[name].count().reset_index(name = 'count')\n",
    "    five_minute = five_minute.sort_values(by='count', ascending = False).reset_index(drop = True) \n",
    "    return five_minute"
   ]
  },
  {
   "cell_type": "code",
   "execution_count": 5,
   "metadata": {},
   "outputs": [],
   "source": [
    "def draw_graph(df, group, alert):\n",
    "    \n",
    "    df = df.sort_values(by='date').reset_index(drop = True)\n",
    "    html_path = \"https://harmony-one.github.io/harmony-log-analysis/\" + html_dir.replace(\"../../docs/\", \"\") + group + \".html\"\n",
    "    png_path = fig_dir \n",
    "    print(\"png graphs saved in \" + png_path)\n",
    "    print('html graphs saved in ')\n",
    "    display(HTML(\"<a href='\" + html_path + \"' target='_blank'>\" + html_path + \"</a>\"))\n",
    "    if not os.path.exists(html_dir):\n",
    "        os.makedirs(html_dir)\n",
    "        \n",
    "    if not os.path.exists(png_path):\n",
    "        os.makedirs(png_path)\n",
    "    \n",
    "    hover = df.columns.tolist()\n",
    "    fig = px.line(df, x=\"date\", y=\"count\", color=group, color_discrete_sequence=px.colors.cyclical.Twilight, \\\n",
    "              title = group + ' visit times in five minutesvs Time', hover_data=hover)\n",
    "    fig.update_layout(xaxis_title=\"utc_time\", legend_orientation=\"h\", legend=dict(x=-0.2, y=-0.25))\n",
    "    \n",
    "    trace = []\n",
    "    text = []\n",
    "    for k,v in alert.items():\n",
    "        fig.add_shape(type=\"line\", x0=k, y0=0,x1=k,y1=1,\n",
    "                line=dict(\n",
    "                width=0.5,\n",
    "                dash=\"dot\",\n",
    "                \n",
    "            ))\n",
    "        trace.append(k)\n",
    "        text.append(v)\n",
    "    fig.update_shapes(dict(xref='x', yref='paper'))\n",
    "    \n",
    "    fig.add_trace(go.Scatter(\n",
    "        x=trace,\n",
    "        y=np.linspace(1, df['count'].max(), num = len(alert)).tolist(),\n",
    "        text=text,\n",
    "        mode=\"text\",\n",
    "        showlegend=False\n",
    "    ))\n",
    "    \n",
    "\n",
    "    fig.show(renderer=\"svg\",width=900, height=500)\n",
    "    fig.write_html(html_dir + group + \".html\")\n",
    "    fig.write_image(png_path + group + \".png\",width=1000, height=600)"
   ]
  },
  {
   "cell_type": "code",
   "execution_count": 6,
   "metadata": {},
   "outputs": [],
   "source": [
    "# get alert time from pagerduty\n",
    "alert = dict()\n",
    "alert['2020-03-31 11:24:18.0'] = 'Shard 0 stuck!'\n",
    "alert['2020-03-31 11:16:47.0'] = 'Shard 2 stuck!'\n",
    "alert['2020-03-31 07:15:15.0'] = 'Shard 3 stuck!'\n",
    "alert['2020-03-31 07:15:24.0'] = 'Shard 1 stuck!'\n",
    "alert['2020-03-30 20:52:40.0'] = 'Shard 0 stuck!'\n",
    "alert['2020-03-30 20:52:32.0'] = 'Shard 2 stuck!'\n",
    "alert['2020-03-30 20:52:37.0'] = 'Shard 3 stuck!'\n",
    "alert['2020-03-30 20:52:31.0'] = 'Shard 1 stuck!'"
   ]
  },
  {
   "cell_type": "code",
   "execution_count": 7,
   "metadata": {},
   "outputs": [],
   "source": [
    "file = \"../../logs/bootnode/sample.log\"\n",
    "df = read_file(file)\n",
    "df['date'] = df['date'].apply(lambda r: \"2020-\"+r)\n",
    "df['date'] = pd.to_datetime(df['date'], format = '%Y-%m-%d|%H:%M:%S.%f')"
   ]
  },
  {
   "cell_type": "code",
   "execution_count": 8,
   "metadata": {},
   "outputs": [],
   "source": [
    "html_dir = \"../../docs/graphs/crash_analysis/mainnet/03-31/100.26.90.187-bootnode/\"\n",
    "fig_dir = \"../../graphs/crash_analysis/mainnet/03-31/100.26.90.187-bootnode/\""
   ]
  },
  {
   "cell_type": "markdown",
   "metadata": {},
   "source": [
    "## basic statistics info\n",
    "\n",
    "Date range (UTC) 2020-03-29 00:01:52.144000 - 2020-04-01 19:16:54.162000\n",
    "\n",
    "Total data points: 316100\n",
    "\n",
    "- Unique Ip address: 100.26.90.187\n",
    "- Unique netLocalPeer: Qmdfjtk6hPoyrH1zVD9PEH4zfWLo38dP2mDvvKXfh3tnEv\n",
    "- Unique connLocalPeer: Qmdfjtk6hPoyrH1zVD9PEH4zfWLo38dP2mDvvKXfh3tnEv\n",
    "- 3 types of connLocalAddr\n",
    "- 4 type of status: connected, disconnected, stream closed, stream opened\n",
    "- 5 type streamProtocolID,  with 181742 among missing info\n",
    "- 594 connRemotePeer\n",
    "- 757 connRemoteAddr\n"
   ]
  },
  {
   "cell_type": "code",
   "execution_count": 9,
   "metadata": {},
   "outputs": [
    {
     "name": "stdout",
     "output_type": "stream",
     "text": [
      "start time:  2020-03-29 00:01:52.144000 end time:  2020-04-01 19:16:54.162000\n",
      "total data points: 316100\n",
      "ip:  {'100.26.90.187'}\n",
      "netLocalPeer:  {'Qmdfjtk6hPoyrH1zVD9PEH4zfWLo38dP2mDvvKXfh3tnEv'}\n",
      "connLocalPeer:  {'Qmdfjtk6hPoyrH1zVD9PEH4zfWLo38dP2mDvvKXfh3tnEv'}\n",
      "status:  {'stream closed', 'stream opened', 'connected', 'disconnected'}\n"
     ]
    }
   ],
   "source": [
    "print(\"start time: \", df.date.iloc[-1], \"end time: \", df.date.iloc[0])\n",
    "print(\"total data points:\", len(df))\n",
    "print(\"ip: \", set(df.ip))\n",
    "print(\"netLocalPeer: \", set(df.netLocalPeer))\n",
    "print(\"connLocalPeer: \", set(df.connLocalPeer))\n",
    "print('status: ', set(df.status))"
   ]
  },
  {
   "cell_type": "code",
   "execution_count": 10,
   "metadata": {},
   "outputs": [
    {
     "data": {
      "text/plain": [
       "status\n",
       "connected          4425\n",
       "disconnected       4439\n",
       "stream closed    153639\n",
       "stream opened    153597\n",
       "Name: status, dtype: int64"
      ]
     },
     "execution_count": 10,
     "metadata": {},
     "output_type": "execute_result"
    }
   ],
   "source": [
    "df.groupby('status')['status'].count()"
   ]
  },
  {
   "cell_type": "code",
   "execution_count": 11,
   "metadata": {},
   "outputs": [
    {
     "data": {
      "text/html": [
       "<div>\n",
       "<style scoped>\n",
       "    .dataframe tbody tr th:only-of-type {\n",
       "        vertical-align: middle;\n",
       "    }\n",
       "\n",
       "    .dataframe tbody tr th {\n",
       "        vertical-align: top;\n",
       "    }\n",
       "\n",
       "    .dataframe thead th {\n",
       "        text-align: right;\n",
       "    }\n",
       "</style>\n",
       "<table border=\"1\" class=\"dataframe\">\n",
       "  <thead>\n",
       "    <tr style=\"text-align: right;\">\n",
       "      <th></th>\n",
       "      <th>streamProtocolID</th>\n",
       "      <th>count</th>\n",
       "    </tr>\n",
       "  </thead>\n",
       "  <tbody>\n",
       "    <tr>\n",
       "      <th>0</th>\n",
       "      <td></td>\n",
       "      <td>181742</td>\n",
       "    </tr>\n",
       "    <tr>\n",
       "      <th>1</th>\n",
       "      <td>/ipfs/id/1.0.0</td>\n",
       "      <td>8846</td>\n",
       "    </tr>\n",
       "    <tr>\n",
       "      <th>2</th>\n",
       "      <td>/ipfs/id/push/1.0.0</td>\n",
       "      <td>19194</td>\n",
       "    </tr>\n",
       "    <tr>\n",
       "      <th>3</th>\n",
       "      <td>/ipfs/kad/1.0.0</td>\n",
       "      <td>97457</td>\n",
       "    </tr>\n",
       "    <tr>\n",
       "      <th>4</th>\n",
       "      <td>/meshsub/1.0.0</td>\n",
       "      <td>8857</td>\n",
       "    </tr>\n",
       "    <tr>\n",
       "      <th>5</th>\n",
       "      <td>/p2p/id/delta/1.0.0</td>\n",
       "      <td>4</td>\n",
       "    </tr>\n",
       "  </tbody>\n",
       "</table>\n",
       "</div>"
      ],
      "text/plain": [
       "      streamProtocolID   count\n",
       "0                       181742\n",
       "1       /ipfs/id/1.0.0    8846\n",
       "2  /ipfs/id/push/1.0.0   19194\n",
       "3      /ipfs/kad/1.0.0   97457\n",
       "4       /meshsub/1.0.0    8857\n",
       "5  /p2p/id/delta/1.0.0       4"
      ]
     },
     "execution_count": 11,
     "metadata": {},
     "output_type": "execute_result"
    }
   ],
   "source": [
    "df.groupby('streamProtocolID')['streamProtocolID'].count().reset_index(name = 'count')"
   ]
  },
  {
   "cell_type": "code",
   "execution_count": 12,
   "metadata": {},
   "outputs": [
    {
     "data": {
      "text/plain": [
       "connLocalAddr\n",
       "/ip4/0.0.0.0/tcp/9874           267655\n",
       "/ip4/172.31.70.126/tcp/55322        14\n",
       "/ip4/172.31.70.126/tcp/9874      48431\n",
       "Name: connLocalAddr, dtype: int64"
      ]
     },
     "execution_count": 12,
     "metadata": {},
     "output_type": "execute_result"
    }
   ],
   "source": [
    "df.groupby('connLocalAddr')['connLocalAddr'].count()"
   ]
  },
  {
   "cell_type": "code",
   "execution_count": 13,
   "metadata": {},
   "outputs": [
    {
     "data": {
      "text/html": [
       "<div>\n",
       "<style scoped>\n",
       "    .dataframe tbody tr th:only-of-type {\n",
       "        vertical-align: middle;\n",
       "    }\n",
       "\n",
       "    .dataframe tbody tr th {\n",
       "        vertical-align: top;\n",
       "    }\n",
       "\n",
       "    .dataframe thead th {\n",
       "        text-align: right;\n",
       "    }\n",
       "</style>\n",
       "<table border=\"1\" class=\"dataframe\">\n",
       "  <thead>\n",
       "    <tr style=\"text-align: right;\">\n",
       "      <th></th>\n",
       "      <th>connRemotePeer</th>\n",
       "      <th>count</th>\n",
       "    </tr>\n",
       "  </thead>\n",
       "  <tbody>\n",
       "    <tr>\n",
       "      <th>0</th>\n",
       "      <td>16Uiu2HAkw5SNNtSvH1zJiQ6Gc3WoGNSxiyNueRKe6fuAu...</td>\n",
       "      <td>36752</td>\n",
       "    </tr>\n",
       "    <tr>\n",
       "      <th>1</th>\n",
       "      <td>QmTJxtwPAU15R5QYbHmzs4Q8hFSRiDNWcboVHykm3WnN2v</td>\n",
       "      <td>8033</td>\n",
       "    </tr>\n",
       "    <tr>\n",
       "      <th>2</th>\n",
       "      <td>QmQayinFSgMMw5cSpDUiD9pQ2WeP6WNmGxpZ6ou3mdVFJX</td>\n",
       "      <td>4358</td>\n",
       "    </tr>\n",
       "    <tr>\n",
       "      <th>3</th>\n",
       "      <td>QmZJJx6AdaoEkGLrYG4JeLCKeCKDjnFz2wfHNHxAqFSGA9</td>\n",
       "      <td>3556</td>\n",
       "    </tr>\n",
       "    <tr>\n",
       "      <th>4</th>\n",
       "      <td>QmU5yhxb9N9NRv1QKPWZ7Qib9oSPQRGnqSjMcavRNxdKFS</td>\n",
       "      <td>2155</td>\n",
       "    </tr>\n",
       "    <tr>\n",
       "      <th>...</th>\n",
       "      <td>...</td>\n",
       "      <td>...</td>\n",
       "    </tr>\n",
       "    <tr>\n",
       "      <th>589</th>\n",
       "      <td>QmYNwFkbHzz8tPJjYDLteWYfNB35Hg9mSoKjVTsFDwZxjM</td>\n",
       "      <td>6</td>\n",
       "    </tr>\n",
       "    <tr>\n",
       "      <th>590</th>\n",
       "      <td>Qmef46FuAymK8kmKt8tx8Mkavn3RHVRrAuLVgrUp5DbAJg</td>\n",
       "      <td>4</td>\n",
       "    </tr>\n",
       "    <tr>\n",
       "      <th>591</th>\n",
       "      <td>QmRqcN9yCtJSDNiwyoYm9KZaBdTZxCSjYLXtbEh5EkMysn</td>\n",
       "      <td>4</td>\n",
       "    </tr>\n",
       "    <tr>\n",
       "      <th>592</th>\n",
       "      <td>QmP6e2QtuoDxRzT4mkotr4nYKr8QEqRk3BAWGStADHHgtH</td>\n",
       "      <td>3</td>\n",
       "    </tr>\n",
       "    <tr>\n",
       "      <th>593</th>\n",
       "      <td>QmUuZMVWbFgewx7vZbbHz4pvMeEnkeWPZ5JHAjhAo23pVE</td>\n",
       "      <td>2</td>\n",
       "    </tr>\n",
       "  </tbody>\n",
       "</table>\n",
       "<p>594 rows × 2 columns</p>\n",
       "</div>"
      ],
      "text/plain": [
       "                                        connRemotePeer  count\n",
       "0    16Uiu2HAkw5SNNtSvH1zJiQ6Gc3WoGNSxiyNueRKe6fuAu...  36752\n",
       "1       QmTJxtwPAU15R5QYbHmzs4Q8hFSRiDNWcboVHykm3WnN2v   8033\n",
       "2       QmQayinFSgMMw5cSpDUiD9pQ2WeP6WNmGxpZ6ou3mdVFJX   4358\n",
       "3       QmZJJx6AdaoEkGLrYG4JeLCKeCKDjnFz2wfHNHxAqFSGA9   3556\n",
       "4       QmU5yhxb9N9NRv1QKPWZ7Qib9oSPQRGnqSjMcavRNxdKFS   2155\n",
       "..                                                 ...    ...\n",
       "589     QmYNwFkbHzz8tPJjYDLteWYfNB35Hg9mSoKjVTsFDwZxjM      6\n",
       "590     Qmef46FuAymK8kmKt8tx8Mkavn3RHVRrAuLVgrUp5DbAJg      4\n",
       "591     QmRqcN9yCtJSDNiwyoYm9KZaBdTZxCSjYLXtbEh5EkMysn      4\n",
       "592     QmP6e2QtuoDxRzT4mkotr4nYKr8QEqRk3BAWGStADHHgtH      3\n",
       "593     QmUuZMVWbFgewx7vZbbHz4pvMeEnkeWPZ5JHAjhAo23pVE      2\n",
       "\n",
       "[594 rows x 2 columns]"
      ]
     },
     "execution_count": 13,
     "metadata": {},
     "output_type": "execute_result"
    }
   ],
   "source": [
    "RemotePeer = df.groupby('connRemotePeer')['connRemotePeer'].count().reset_index(name = 'count')\n",
    "RemotePeer.sort_values(by='count', ascending = False).reset_index(drop = True) "
   ]
  },
  {
   "cell_type": "code",
   "execution_count": 14,
   "metadata": {},
   "outputs": [
    {
     "data": {
      "text/html": [
       "<div>\n",
       "<style scoped>\n",
       "    .dataframe tbody tr th:only-of-type {\n",
       "        vertical-align: middle;\n",
       "    }\n",
       "\n",
       "    .dataframe tbody tr th {\n",
       "        vertical-align: top;\n",
       "    }\n",
       "\n",
       "    .dataframe thead th {\n",
       "        text-align: right;\n",
       "    }\n",
       "</style>\n",
       "<table border=\"1\" class=\"dataframe\">\n",
       "  <thead>\n",
       "    <tr style=\"text-align: right;\">\n",
       "      <th></th>\n",
       "      <th>connRemoteAddr</th>\n",
       "      <th>count</th>\n",
       "    </tr>\n",
       "  </thead>\n",
       "  <tbody>\n",
       "    <tr>\n",
       "      <th>0</th>\n",
       "      <td>/ip4/144.91.95.131/tcp/10000</td>\n",
       "      <td>12424</td>\n",
       "    </tr>\n",
       "    <tr>\n",
       "      <th>1</th>\n",
       "      <td>/ip4/144.91.109.166/tcp/10000</td>\n",
       "      <td>11942</td>\n",
       "    </tr>\n",
       "    <tr>\n",
       "      <th>2</th>\n",
       "      <td>/ip4/5.189.148.218/tcp/10000</td>\n",
       "      <td>10062</td>\n",
       "    </tr>\n",
       "    <tr>\n",
       "      <th>3</th>\n",
       "      <td>/ip4/54.250.183.167/tcp/9000</td>\n",
       "      <td>8051</td>\n",
       "    </tr>\n",
       "    <tr>\n",
       "      <th>4</th>\n",
       "      <td>/ip4/54.213.43.194/tcp/9874</td>\n",
       "      <td>3556</td>\n",
       "    </tr>\n",
       "    <tr>\n",
       "      <th>...</th>\n",
       "      <td>...</td>\n",
       "      <td>...</td>\n",
       "    </tr>\n",
       "    <tr>\n",
       "      <th>752</th>\n",
       "      <td>/ip4/78.46.163.214/tcp/9000</td>\n",
       "      <td>4</td>\n",
       "    </tr>\n",
       "    <tr>\n",
       "      <th>753</th>\n",
       "      <td>/ip4/78.46.181.197/tcp/9000</td>\n",
       "      <td>3</td>\n",
       "    </tr>\n",
       "    <tr>\n",
       "      <th>754</th>\n",
       "      <td>/ip4/18.215.193.75/tcp/58592</td>\n",
       "      <td>3</td>\n",
       "    </tr>\n",
       "    <tr>\n",
       "      <th>755</th>\n",
       "      <td>/ip4/18.215.193.75/tcp/49554</td>\n",
       "      <td>3</td>\n",
       "    </tr>\n",
       "    <tr>\n",
       "      <th>756</th>\n",
       "      <td>/ip4/3.112.138.57/tcp/6911</td>\n",
       "      <td>2</td>\n",
       "    </tr>\n",
       "  </tbody>\n",
       "</table>\n",
       "<p>757 rows × 2 columns</p>\n",
       "</div>"
      ],
      "text/plain": [
       "                    connRemoteAddr  count\n",
       "0     /ip4/144.91.95.131/tcp/10000  12424\n",
       "1    /ip4/144.91.109.166/tcp/10000  11942\n",
       "2     /ip4/5.189.148.218/tcp/10000  10062\n",
       "3     /ip4/54.250.183.167/tcp/9000   8051\n",
       "4      /ip4/54.213.43.194/tcp/9874   3556\n",
       "..                             ...    ...\n",
       "752    /ip4/78.46.163.214/tcp/9000      4\n",
       "753    /ip4/78.46.181.197/tcp/9000      3\n",
       "754   /ip4/18.215.193.75/tcp/58592      3\n",
       "755   /ip4/18.215.193.75/tcp/49554      3\n",
       "756     /ip4/3.112.138.57/tcp/6911      2\n",
       "\n",
       "[757 rows x 2 columns]"
      ]
     },
     "execution_count": 14,
     "metadata": {},
     "output_type": "execute_result"
    }
   ],
   "source": [
    "RemoteAddr = df.groupby('connRemoteAddr')['connRemoteAddr'].count().reset_index(name = 'count')\n",
    "RemoteAddr.sort_values(by='count', ascending = False).reset_index(drop = True)   "
   ]
  },
  {
   "cell_type": "markdown",
   "metadata": {},
   "source": [
    "## visualization on connRemotePeer"
   ]
  },
  {
   "cell_type": "markdown",
   "metadata": {},
   "source": [
    "### get top frequent peer "
   ]
  },
  {
   "cell_type": "code",
   "execution_count": 15,
   "metadata": {},
   "outputs": [
    {
     "data": {
      "text/plain": [
       "['16Uiu2HAkw5SNNtSvH1zJiQ6Gc3WoGNSxiyNueRKe6fuAuh57G3Bk',\n",
       " 'QmTJxtwPAU15R5QYbHmzs4Q8hFSRiDNWcboVHykm3WnN2v',\n",
       " 'QmQayinFSgMMw5cSpDUiD9pQ2WeP6WNmGxpZ6ou3mdVFJX',\n",
       " 'QmZJJx6AdaoEkGLrYG4JeLCKeCKDjnFz2wfHNHxAqFSGA9',\n",
       " 'QmU5yhxb9N9NRv1QKPWZ7Qib9oSPQRGnqSjMcavRNxdKFS',\n",
       " 'QmRVbTpEYup8dSaURZfF6ByrMTSKa4UyUzJhSjahFzRqNj',\n",
       " 'QmNnXzRTQbb9aNVaspGaNDJnMpxGrptuDUYTLX22YEu99b',\n",
       " 'QmX8fE15MosqXSswd6VrXLrpLS38z7R4djkNLB2f91qNkH',\n",
       " 'QmV6JRS5CPwCduwPyVhSfJdngXzNuYoNf3PAGcQzrgpPzG',\n",
       " 'QmbNumW6AmHZGzjE3wdeenM1TVLL6ynbqeVdrX3uzGpCee']"
      ]
     },
     "execution_count": 15,
     "metadata": {},
     "output_type": "execute_result"
    }
   ],
   "source": [
    "lst = get_top_10_frequent(RemotePeer, 'connRemotePeer')\n",
    "lst"
   ]
  },
  {
   "cell_type": "markdown",
   "metadata": {},
   "source": [
    "### aggregate count in five minute level"
   ]
  },
  {
   "cell_type": "code",
   "execution_count": 16,
   "metadata": {},
   "outputs": [
    {
     "data": {
      "text/html": [
       "<div>\n",
       "<style scoped>\n",
       "    .dataframe tbody tr th:only-of-type {\n",
       "        vertical-align: middle;\n",
       "    }\n",
       "\n",
       "    .dataframe tbody tr th {\n",
       "        vertical-align: top;\n",
       "    }\n",
       "\n",
       "    .dataframe thead th {\n",
       "        text-align: right;\n",
       "    }\n",
       "</style>\n",
       "<table border=\"1\" class=\"dataframe\">\n",
       "  <thead>\n",
       "    <tr style=\"text-align: right;\">\n",
       "      <th></th>\n",
       "      <th>date</th>\n",
       "      <th>connRemotePeer</th>\n",
       "      <th>count</th>\n",
       "    </tr>\n",
       "  </thead>\n",
       "  <tbody>\n",
       "    <tr>\n",
       "      <th>0</th>\n",
       "      <td>2020-03-30 20:40:00</td>\n",
       "      <td>16Uiu2HAkw5SNNtSvH1zJiQ6Gc3WoGNSxiyNueRKe6fuAu...</td>\n",
       "      <td>8268</td>\n",
       "    </tr>\n",
       "    <tr>\n",
       "      <th>1</th>\n",
       "      <td>2020-03-31 11:15:00</td>\n",
       "      <td>16Uiu2HAkw5SNNtSvH1zJiQ6Gc3WoGNSxiyNueRKe6fuAu...</td>\n",
       "      <td>6181</td>\n",
       "    </tr>\n",
       "    <tr>\n",
       "      <th>2</th>\n",
       "      <td>2020-03-31 11:20:00</td>\n",
       "      <td>16Uiu2HAkw5SNNtSvH1zJiQ6Gc3WoGNSxiyNueRKe6fuAu...</td>\n",
       "      <td>4976</td>\n",
       "    </tr>\n",
       "    <tr>\n",
       "      <th>3</th>\n",
       "      <td>2020-03-31 07:15:00</td>\n",
       "      <td>16Uiu2HAkw5SNNtSvH1zJiQ6Gc3WoGNSxiyNueRKe6fuAu...</td>\n",
       "      <td>4830</td>\n",
       "    </tr>\n",
       "    <tr>\n",
       "      <th>4</th>\n",
       "      <td>2020-03-30 20:50:00</td>\n",
       "      <td>16Uiu2HAkw5SNNtSvH1zJiQ6Gc3WoGNSxiyNueRKe6fuAu...</td>\n",
       "      <td>4293</td>\n",
       "    </tr>\n",
       "    <tr>\n",
       "      <th>...</th>\n",
       "      <td>...</td>\n",
       "      <td>...</td>\n",
       "      <td>...</td>\n",
       "    </tr>\n",
       "    <tr>\n",
       "      <th>6577</th>\n",
       "      <td>2020-03-31 07:20:00</td>\n",
       "      <td>QmNnXzRTQbb9aNVaspGaNDJnMpxGrptuDUYTLX22YEu99b</td>\n",
       "      <td>1</td>\n",
       "    </tr>\n",
       "    <tr>\n",
       "      <th>6578</th>\n",
       "      <td>2020-03-30 21:10:00</td>\n",
       "      <td>QmNnXzRTQbb9aNVaspGaNDJnMpxGrptuDUYTLX22YEu99b</td>\n",
       "      <td>1</td>\n",
       "    </tr>\n",
       "    <tr>\n",
       "      <th>6579</th>\n",
       "      <td>2020-03-31 04:55:00</td>\n",
       "      <td>QmX8fE15MosqXSswd6VrXLrpLS38z7R4djkNLB2f91qNkH</td>\n",
       "      <td>1</td>\n",
       "    </tr>\n",
       "    <tr>\n",
       "      <th>6580</th>\n",
       "      <td>2020-03-31 14:45:00</td>\n",
       "      <td>QmX8fE15MosqXSswd6VrXLrpLS38z7R4djkNLB2f91qNkH</td>\n",
       "      <td>1</td>\n",
       "    </tr>\n",
       "    <tr>\n",
       "      <th>6581</th>\n",
       "      <td>2020-03-30 23:25:00</td>\n",
       "      <td>QmNnXzRTQbb9aNVaspGaNDJnMpxGrptuDUYTLX22YEu99b</td>\n",
       "      <td>1</td>\n",
       "    </tr>\n",
       "  </tbody>\n",
       "</table>\n",
       "<p>6582 rows × 3 columns</p>\n",
       "</div>"
      ],
      "text/plain": [
       "                    date                                     connRemotePeer  \\\n",
       "0    2020-03-30 20:40:00  16Uiu2HAkw5SNNtSvH1zJiQ6Gc3WoGNSxiyNueRKe6fuAu...   \n",
       "1    2020-03-31 11:15:00  16Uiu2HAkw5SNNtSvH1zJiQ6Gc3WoGNSxiyNueRKe6fuAu...   \n",
       "2    2020-03-31 11:20:00  16Uiu2HAkw5SNNtSvH1zJiQ6Gc3WoGNSxiyNueRKe6fuAu...   \n",
       "3    2020-03-31 07:15:00  16Uiu2HAkw5SNNtSvH1zJiQ6Gc3WoGNSxiyNueRKe6fuAu...   \n",
       "4    2020-03-30 20:50:00  16Uiu2HAkw5SNNtSvH1zJiQ6Gc3WoGNSxiyNueRKe6fuAu...   \n",
       "...                  ...                                                ...   \n",
       "6577 2020-03-31 07:20:00     QmNnXzRTQbb9aNVaspGaNDJnMpxGrptuDUYTLX22YEu99b   \n",
       "6578 2020-03-30 21:10:00     QmNnXzRTQbb9aNVaspGaNDJnMpxGrptuDUYTLX22YEu99b   \n",
       "6579 2020-03-31 04:55:00     QmX8fE15MosqXSswd6VrXLrpLS38z7R4djkNLB2f91qNkH   \n",
       "6580 2020-03-31 14:45:00     QmX8fE15MosqXSswd6VrXLrpLS38z7R4djkNLB2f91qNkH   \n",
       "6581 2020-03-30 23:25:00     QmNnXzRTQbb9aNVaspGaNDJnMpxGrptuDUYTLX22YEu99b   \n",
       "\n",
       "      count  \n",
       "0      8268  \n",
       "1      6181  \n",
       "2      4976  \n",
       "3      4830  \n",
       "4      4293  \n",
       "...     ...  \n",
       "6577      1  \n",
       "6578      1  \n",
       "6579      1  \n",
       "6580      1  \n",
       "6581      1  \n",
       "\n",
       "[6582 rows x 3 columns]"
      ]
     },
     "execution_count": 16,
     "metadata": {},
     "output_type": "execute_result"
    }
   ],
   "source": [
    "five_minute = aggregate_value(df, 'connRemotePeer', lst)\n",
    "five_minute"
   ]
  },
  {
   "cell_type": "markdown",
   "metadata": {},
   "source": [
    "### draw graph"
   ]
  },
  {
   "cell_type": "code",
   "execution_count": 17,
   "metadata": {
    "scrolled": false
   },
   "outputs": [
    {
     "name": "stdout",
     "output_type": "stream",
     "text": [
      "png graphs saved in ../../graphs/crash_analysis/mainnet/03-31/100.26.90.187-bootnode/\n",
      "html graphs saved in \n"
     ]
    },
    {
     "data": {
      "text/html": [
       "<a href='https://harmony-one.github.io/harmony-log-analysis/graphs/crash_analysis/mainnet/03-31/100.26.90.187-bootnode/connRemotePeer.html' target='_blank'>https://harmony-one.github.io/harmony-log-analysis/graphs/crash_analysis/mainnet/03-31/100.26.90.187-bootnode/connRemotePeer.html</a>"
      ],
      "text/plain": [
       "<IPython.core.display.HTML object>"
      ]
     },
     "metadata": {},
     "output_type": "display_data"
    },
    {
     "data": {
      "image/svg+xml": [
       "<svg class=\"main-svg\" xmlns=\"http://www.w3.org/2000/svg\" xmlns:xlink=\"http://www.w3.org/1999/xlink\" width=\"900\" height=\"500\" style=\"\" viewBox=\"0 0 900 500\"><rect x=\"0\" y=\"0\" width=\"900\" height=\"500\" style=\"fill: rgb(255, 255, 255); fill-opacity: 1;\"/><defs id=\"defs-b1c17b\"><g class=\"clips\"><clipPath id=\"clipb1c17bxyplot\" class=\"plotclip\"><rect width=\"673\" height=\"211\"/></clipPath><clipPath class=\"axesclip\" id=\"clipb1c17bx\"><rect x=\"147\" y=\"0\" width=\"673\" height=\"500\"/></clipPath><clipPath class=\"axesclip\" id=\"clipb1c17by\"><rect x=\"0\" y=\"100\" width=\"900\" height=\"211\"/></clipPath><clipPath class=\"axesclip\" id=\"clipb1c17bxy\"><rect x=\"147\" y=\"100\" width=\"673\" height=\"211\"/></clipPath></g><g class=\"gradients\"/></defs><g class=\"bglayer\"><rect class=\"bg\" x=\"147\" y=\"100\" width=\"673\" height=\"211\" style=\"fill: rgb(229, 236, 246); fill-opacity: 1; stroke-width: 0;\"/></g><g class=\"layer-below\"><g class=\"imagelayer\"/><g class=\"shapelayer\"/></g><g class=\"cartesianlayer\"><g class=\"subplot xy\"><g class=\"layer-subplot\"><g class=\"shapelayer\"/><g class=\"imagelayer\"/></g><g class=\"gridlayer\"><g class=\"x\"><path class=\"xgrid crisp\" transform=\"translate(235.59,0)\" d=\"M0,100v211\" style=\"stroke: rgb(255, 255, 255); stroke-opacity: 1; stroke-width: 1px;\"/><path class=\"xgrid crisp\" transform=\"translate(324.16999999999996,0)\" d=\"M0,100v211\" style=\"stroke: rgb(255, 255, 255); stroke-opacity: 1; stroke-width: 1px;\"/><path class=\"xgrid crisp\" transform=\"translate(412.76,0)\" d=\"M0,100v211\" style=\"stroke: rgb(255, 255, 255); stroke-opacity: 1; stroke-width: 1px;\"/><path class=\"xgrid crisp\" transform=\"translate(501.34,0)\" d=\"M0,100v211\" style=\"stroke: rgb(255, 255, 255); stroke-opacity: 1; stroke-width: 1px;\"/><path class=\"xgrid crisp\" transform=\"translate(589.9300000000001,0)\" d=\"M0,100v211\" style=\"stroke: rgb(255, 255, 255); stroke-opacity: 1; stroke-width: 1px;\"/><path class=\"xgrid crisp\" transform=\"translate(678.51,0)\" d=\"M0,100v211\" style=\"stroke: rgb(255, 255, 255); stroke-opacity: 1; stroke-width: 1px;\"/><path class=\"xgrid crisp\" transform=\"translate(767.1,0)\" d=\"M0,100v211\" style=\"stroke: rgb(255, 255, 255); stroke-opacity: 1; stroke-width: 1px;\"/></g><g class=\"y\"><path class=\"ygrid crisp\" transform=\"translate(0,254.53)\" d=\"M147,0h673\" style=\"stroke: rgb(255, 255, 255); stroke-opacity: 1; stroke-width: 1px;\"/><path class=\"ygrid crisp\" transform=\"translate(0,208.59)\" d=\"M147,0h673\" style=\"stroke: rgb(255, 255, 255); stroke-opacity: 1; stroke-width: 1px;\"/><path class=\"ygrid crisp\" transform=\"translate(0,162.65)\" d=\"M147,0h673\" style=\"stroke: rgb(255, 255, 255); stroke-opacity: 1; stroke-width: 1px;\"/><path class=\"ygrid crisp\" transform=\"translate(0,116.71000000000001)\" d=\"M147,0h673\" style=\"stroke: rgb(255, 255, 255); stroke-opacity: 1; stroke-width: 1px;\"/></g></g><g class=\"zerolinelayer\"><path class=\"yzl zl crisp\" transform=\"translate(0,300.47)\" d=\"M147,0h673\" style=\"stroke: rgb(255, 255, 255); stroke-opacity: 1; stroke-width: 2px;\"/></g><path class=\"xlines-below\"/><path class=\"ylines-below\"/><g class=\"overlines-below\"/><g class=\"xaxislayer-below\"/><g class=\"yaxislayer-below\"/><g class=\"overaxes-below\"/><g class=\"plot\" transform=\"translate(147, 100)\" clip-path=\"url('#clipb1c17bxyplot')\"><g class=\"scatterlayer mlayer\"><g class=\"trace scatter trace9758b0\" style=\"stroke-miterlimit: 2; opacity: 1;\"><g class=\"fills\"/><g class=\"errorbars\"/><g class=\"lines\"/><g class=\"points\"/><g class=\"text\"><g class=\"textpoint\" transform=\"translate(0,3)\"><text x=\"438.53\" y=\"200.45\" text-anchor=\"middle\" style=\"font-family: 'Open Sans', verdana, arial, sans-serif; font-size: 12px; fill: rgb(42, 63, 95); fill-opacity: 1; white-space: pre;\">Shard 0 stuck!</text></g><g class=\"textpoint\" transform=\"translate(0,3)\"><text x=\"437.61\" y=\"173.32\" text-anchor=\"middle\" style=\"font-family: 'Open Sans', verdana, arial, sans-serif; font-size: 12px; fill: rgb(42, 63, 95); fill-opacity: 1; white-space: pre;\">Shard 2 stuck!</text></g><g class=\"textpoint\" transform=\"translate(0,3)\"><text x=\"407.89\" y=\"146.19\" text-anchor=\"middle\" style=\"font-family: 'Open Sans', verdana, arial, sans-serif; font-size: 12px; fill: rgb(42, 63, 95); fill-opacity: 1; white-space: pre;\">Shard 3 stuck!</text></g><g class=\"textpoint\" transform=\"translate(0,3)\"><text x=\"407.91\" y=\"119.06\" text-anchor=\"middle\" style=\"font-family: 'Open Sans', verdana, arial, sans-serif; font-size: 12px; fill: rgb(42, 63, 95); fill-opacity: 1; white-space: pre;\">Shard 1 stuck!</text></g><g class=\"textpoint\" transform=\"translate(0,3)\"><text x=\"331.29\" y=\"91.94\" text-anchor=\"middle\" style=\"font-family: 'Open Sans', verdana, arial, sans-serif; font-size: 12px; fill: rgb(42, 63, 95); fill-opacity: 1; white-space: pre;\">Shard 0 stuck!</text></g><g class=\"textpoint\" transform=\"translate(0,3)\"><text x=\"331.28\" y=\"64.81\" text-anchor=\"middle\" style=\"font-family: 'Open Sans', verdana, arial, sans-serif; font-size: 12px; fill: rgb(42, 63, 95); fill-opacity: 1; white-space: pre;\">Shard 2 stuck!</text></g><g class=\"textpoint\" transform=\"translate(0,3)\"><text x=\"331.29\" y=\"37.68\" text-anchor=\"middle\" style=\"font-family: 'Open Sans', verdana, arial, sans-serif; font-size: 12px; fill: rgb(42, 63, 95); fill-opacity: 1; white-space: pre;\">Shard 3 stuck!</text></g><g class=\"textpoint\" transform=\"translate(0,3)\"><text x=\"331.27\" y=\"10.55\" text-anchor=\"middle\" style=\"font-family: 'Open Sans', verdana, arial, sans-serif; font-size: 12px; fill: rgb(42, 63, 95); fill-opacity: 1; white-space: pre;\">Shard 1 stuck!</text></g></g></g></g></g><g class=\"overplot\"/><path class=\"xlines-above crisp\" style=\"fill: none;\" d=\"M0,0\"/><path class=\"ylines-above crisp\" style=\"fill: none;\" d=\"M0,0\"/><g class=\"overlines-above\"/><g class=\"xaxislayer-above\"><g class=\"xtick\"><text text-anchor=\"middle\" x=\"0\" y=\"324\" transform=\"translate(147,0)\" style=\"font-family: 'Open Sans', verdana, arial, sans-serif; font-size: 12px; fill: rgb(42, 63, 95); fill-opacity: 1; white-space: pre;\"><tspan class=\"line\" dy=\"0em\" x=\"0\" y=\"324\">00:00</tspan><tspan class=\"line\" dy=\"1.3em\" x=\"0\" y=\"324\">Mar 29, 2020</tspan></text></g><g class=\"xtick\"><text text-anchor=\"middle\" x=\"0\" y=\"324\" transform=\"translate(235.59,0)\" style=\"font-family: 'Open Sans', verdana, arial, sans-serif; font-size: 12px; fill: rgb(42, 63, 95); fill-opacity: 1; white-space: pre;\">12:00</text></g><g class=\"xtick\"><text text-anchor=\"middle\" x=\"0\" y=\"324\" transform=\"translate(324.16999999999996,0)\" style=\"font-family: 'Open Sans', verdana, arial, sans-serif; font-size: 12px; fill: rgb(42, 63, 95); fill-opacity: 1; white-space: pre;\"><tspan class=\"line\" dy=\"0em\" x=\"0\" y=\"324\">00:00</tspan><tspan class=\"line\" dy=\"1.3em\" x=\"0\" y=\"324\">Mar 30, 2020</tspan></text></g><g class=\"xtick\"><text text-anchor=\"middle\" x=\"0\" y=\"324\" transform=\"translate(412.76,0)\" style=\"font-family: 'Open Sans', verdana, arial, sans-serif; font-size: 12px; fill: rgb(42, 63, 95); fill-opacity: 1; white-space: pre;\">12:00</text></g><g class=\"xtick\"><text text-anchor=\"middle\" x=\"0\" y=\"324\" transform=\"translate(501.34,0)\" style=\"font-family: 'Open Sans', verdana, arial, sans-serif; font-size: 12px; fill: rgb(42, 63, 95); fill-opacity: 1; white-space: pre;\"><tspan class=\"line\" dy=\"0em\" x=\"0\" y=\"324\">00:00</tspan><tspan class=\"line\" dy=\"1.3em\" x=\"0\" y=\"324\">Mar 31, 2020</tspan></text></g><g class=\"xtick\"><text text-anchor=\"middle\" x=\"0\" y=\"324\" transform=\"translate(589.9300000000001,0)\" style=\"font-family: 'Open Sans', verdana, arial, sans-serif; font-size: 12px; fill: rgb(42, 63, 95); fill-opacity: 1; white-space: pre;\">12:00</text></g><g class=\"xtick\"><text text-anchor=\"middle\" x=\"0\" y=\"324\" transform=\"translate(678.51,0)\" style=\"font-family: 'Open Sans', verdana, arial, sans-serif; font-size: 12px; fill: rgb(42, 63, 95); fill-opacity: 1; white-space: pre;\"><tspan class=\"line\" dy=\"0em\" x=\"0\" y=\"324\">00:00</tspan><tspan class=\"line\" dy=\"1.3em\" x=\"0\" y=\"324\">Apr 1, 2020</tspan></text></g><g class=\"xtick\"><text text-anchor=\"middle\" x=\"0\" y=\"324\" transform=\"translate(767.1,0)\" style=\"font-family: 'Open Sans', verdana, arial, sans-serif; font-size: 12px; fill: rgb(42, 63, 95); fill-opacity: 1; white-space: pre;\">12:00</text></g></g><g class=\"yaxislayer-above\"><g class=\"ytick\"><text text-anchor=\"end\" x=\"146\" y=\"4.199999999999999\" transform=\"translate(0,300.47)\" style=\"font-family: 'Open Sans', verdana, arial, sans-serif; font-size: 12px; fill: rgb(42, 63, 95); fill-opacity: 1; white-space: pre;\">0</text></g><g class=\"ytick\"><text text-anchor=\"end\" x=\"146\" y=\"4.199999999999999\" transform=\"translate(0,254.53)\" style=\"font-family: 'Open Sans', verdana, arial, sans-serif; font-size: 12px; fill: rgb(42, 63, 95); fill-opacity: 1; white-space: pre;\">2000</text></g><g class=\"ytick\"><text text-anchor=\"end\" x=\"146\" y=\"4.199999999999999\" transform=\"translate(0,208.59)\" style=\"font-family: 'Open Sans', verdana, arial, sans-serif; font-size: 12px; fill: rgb(42, 63, 95); fill-opacity: 1; white-space: pre;\">4000</text></g><g class=\"ytick\"><text text-anchor=\"end\" x=\"146\" y=\"4.199999999999999\" transform=\"translate(0,162.65)\" style=\"font-family: 'Open Sans', verdana, arial, sans-serif; font-size: 12px; fill: rgb(42, 63, 95); fill-opacity: 1; white-space: pre;\">6000</text></g><g class=\"ytick\"><text text-anchor=\"end\" x=\"146\" y=\"4.199999999999999\" transform=\"translate(0,116.71000000000001)\" style=\"font-family: 'Open Sans', verdana, arial, sans-serif; font-size: 12px; fill: rgb(42, 63, 95); fill-opacity: 1; white-space: pre;\">8000</text></g></g><g class=\"overaxes-above\"/></g></g><g class=\"polarlayer\"/><g class=\"ternarylayer\"/><g class=\"geolayer\"/><g class=\"funnelarealayer\"/><g class=\"pielayer\"/><g class=\"treemaplayer\"/><g class=\"sunburstlayer\"/><g class=\"glimages\"><image xmlns=\"http://www.w3.org/2000/svg\" xlink:href=\"data:image/png;base64,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\" preserveAspectRatio=\"none\" x=\"0\" y=\"0\" width=\"900\" height=\"500\"/><image xmlns=\"http://www.w3.org/2000/svg\" xlink:href=\"data:image/png;base64,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\" preserveAspectRatio=\"none\" x=\"0\" y=\"0\" width=\"900\" height=\"500\"/></g><defs id=\"topdefs-b1c17b\"><g class=\"clips\"/><clipPath id=\"legendb1c17b\"><rect width=\"920\" height=\"124\" x=\"0\" y=\"0\"/></clipPath></defs><g class=\"layer-above\"><g class=\"imagelayer\"/><g class=\"shapelayer\"><path data-index=\"0\" fill-rule=\"evenodd\" d=\"M585.53,311L585.53,100\" clip-path=\"url('#clipb1c17bx')\" style=\"opacity: 1; stroke: rgb(42, 63, 95); stroke-opacity: 1; fill: rgb(0, 0, 0); fill-opacity: 0; stroke-dasharray: 3px, 3px; stroke-width: 0.5px;\"/><path data-index=\"1\" fill-rule=\"evenodd\" d=\"M584.61,311L584.61,100\" clip-path=\"url('#clipb1c17bx')\" style=\"opacity: 1; stroke: rgb(42, 63, 95); stroke-opacity: 1; fill: rgb(0, 0, 0); fill-opacity: 0; stroke-dasharray: 3px, 3px; stroke-width: 0.5px;\"/><path data-index=\"2\" fill-rule=\"evenodd\" d=\"M554.89,311L554.89,100\" clip-path=\"url('#clipb1c17bx')\" style=\"opacity: 1; stroke: rgb(42, 63, 95); stroke-opacity: 1; fill: rgb(0, 0, 0); fill-opacity: 0; stroke-dasharray: 3px, 3px; stroke-width: 0.5px;\"/><path data-index=\"3\" fill-rule=\"evenodd\" d=\"M554.9100000000001,311L554.9100000000001,100\" clip-path=\"url('#clipb1c17bx')\" style=\"opacity: 1; stroke: rgb(42, 63, 95); stroke-opacity: 1; fill: rgb(0, 0, 0); fill-opacity: 0; stroke-dasharray: 3px, 3px; stroke-width: 0.5px;\"/><path data-index=\"4\" fill-rule=\"evenodd\" d=\"M478.29,311L478.29,100\" clip-path=\"url('#clipb1c17bx')\" style=\"opacity: 1; stroke: rgb(42, 63, 95); stroke-opacity: 1; fill: rgb(0, 0, 0); fill-opacity: 0; stroke-dasharray: 3px, 3px; stroke-width: 0.5px;\"/><path data-index=\"5\" fill-rule=\"evenodd\" d=\"M478.28,311L478.28,100\" clip-path=\"url('#clipb1c17bx')\" style=\"opacity: 1; stroke: rgb(42, 63, 95); stroke-opacity: 1; fill: rgb(0, 0, 0); fill-opacity: 0; stroke-dasharray: 3px, 3px; stroke-width: 0.5px;\"/><path data-index=\"6\" fill-rule=\"evenodd\" d=\"M478.29,311L478.29,100\" clip-path=\"url('#clipb1c17bx')\" style=\"opacity: 1; stroke: rgb(42, 63, 95); stroke-opacity: 1; fill: rgb(0, 0, 0); fill-opacity: 0; stroke-dasharray: 3px, 3px; stroke-width: 0.5px;\"/><path data-index=\"7\" fill-rule=\"evenodd\" d=\"M478.27,311L478.27,100\" clip-path=\"url('#clipb1c17bx')\" style=\"opacity: 1; stroke: rgb(42, 63, 95); stroke-opacity: 1; fill: rgb(0, 0, 0); fill-opacity: 0; stroke-dasharray: 3px, 3px; stroke-width: 0.5px;\"/></g></g><g class=\"infolayer\"><g class=\"legend\" pointer-events=\"all\" transform=\"translate(0, 363.75)\"><rect class=\"bg\" shape-rendering=\"crispEdges\" style=\"stroke: rgb(68, 68, 68); stroke-opacity: 1; fill: rgb(255, 255, 255); fill-opacity: 1; stroke-width: 0px;\" width=\"920\" height=\"124\" x=\"0\" y=\"0\"/><g class=\"scrollbox\" transform=\"translate(0, 0)\" clip-path=\"url('#legendb1c17b')\"><text class=\"legendtitletext user-select-none\" text-anchor=\"start\" x=\"2\" y=\"15.600000000000001\" style=\"font-family: 'Open Sans', verdana, arial, sans-serif; font-size: 12px; fill: rgb(42, 63, 95); fill-opacity: 1; white-space: pre;\">connRemotePeer</text><g class=\"groups\" transform=\"translate(0, 0)\"><g class=\"traces\" transform=\"translate(102.03125, 14.5)\" style=\"opacity: 1;\"><text class=\"legendtext user-select-none\" text-anchor=\"start\" x=\"40\" y=\"4.680000000000001\" style=\"font-family: 'Open Sans', verdana, arial, sans-serif; font-size: 12px; fill: rgb(42, 63, 95); fill-opacity: 1; white-space: pre;\">QmZJJx6AdaoEkGLrYG4JeLCKeCKDjnFz2wfHNHxAqFSGA9</text><g class=\"layers\" style=\"opacity: 1;\"><g class=\"legendfill\"/><g class=\"legendlines\"><path class=\"js-line\" d=\"M5,0h30\" style=\"fill: none; stroke: rgb(226, 217, 226); stroke-opacity: 1; stroke-width: 2px;\"/></g><g class=\"legendsymbols\"><g class=\"legendpoints\"/></g></g><rect class=\"legendtoggle\" pointer-events=\"all\" x=\"0\" y=\"-9.5\" width=\"384.828125\" height=\"19\" style=\"cursor: pointer; fill: rgb(0, 0, 0); fill-opacity: 0;\"/></g></g><g class=\"groups\" transform=\"translate(387.328125, 0)\"><g class=\"traces\" transform=\"translate(102.03125, 14.5)\" style=\"opacity: 1;\"><text class=\"legendtext user-select-none\" text-anchor=\"start\" x=\"40\" y=\"4.680000000000001\" style=\"font-family: 'Open Sans', verdana, arial, sans-serif; font-size: 12px; fill: rgb(42, 63, 95); fill-opacity: 1; white-space: pre;\">QmX8fE15MosqXSswd6VrXLrpLS38z7R4djkNLB2f91qNkH</text><g class=\"layers\" style=\"opacity: 1;\"><g class=\"legendfill\"/><g class=\"legendlines\"><path class=\"js-line\" d=\"M5,0h30\" style=\"fill: none; stroke: rgb(158, 187, 201); stroke-opacity: 1; stroke-width: 2px;\"/></g><g class=\"legendsymbols\"><g class=\"legendpoints\"/></g></g><rect class=\"legendtoggle\" pointer-events=\"all\" x=\"0\" y=\"-9.5\" width=\"386.859375\" height=\"19\" style=\"cursor: pointer; fill: rgb(0, 0, 0); fill-opacity: 0;\"/></g></g><g class=\"groups\" transform=\"translate(0, 19)\"><g class=\"traces\" transform=\"translate(102.03125, 14.5)\" style=\"opacity: 1;\"><text class=\"legendtext user-select-none\" text-anchor=\"start\" x=\"40\" y=\"4.680000000000001\" style=\"font-family: 'Open Sans', verdana, arial, sans-serif; font-size: 12px; fill: rgb(42, 63, 95); fill-opacity: 1; white-space: pre;\">QmU5yhxb9N9NRv1QKPWZ7Qib9oSPQRGnqSjMcavRNxdKFS</text><g class=\"layers\" style=\"opacity: 1;\"><g class=\"legendfill\"/><g class=\"legendlines\"><path class=\"js-line\" d=\"M5,0h30\" style=\"fill: none; stroke: rgb(103, 133, 190); stroke-opacity: 1; stroke-width: 2px;\"/></g><g class=\"legendsymbols\"><g class=\"legendpoints\"/></g></g><rect class=\"legendtoggle\" pointer-events=\"all\" x=\"0\" y=\"-9.5\" width=\"407.15625\" height=\"19\" style=\"cursor: pointer; fill: rgb(0, 0, 0); fill-opacity: 0;\"/></g></g><g class=\"groups\" transform=\"translate(409.65625, 19)\"><g class=\"traces\" transform=\"translate(102.03125, 14.5)\" style=\"opacity: 1;\"><text class=\"legendtext user-select-none\" text-anchor=\"start\" x=\"40\" y=\"4.680000000000001\" style=\"font-family: 'Open Sans', verdana, arial, sans-serif; font-size: 12px; fill: rgb(42, 63, 95); fill-opacity: 1; white-space: pre;\">QmRVbTpEYup8dSaURZfF6ByrMTSKa4UyUzJhSjahFzRqNj</text><g class=\"layers\" style=\"opacity: 1;\"><g class=\"legendfill\"/><g class=\"legendlines\"><path class=\"js-line\" d=\"M5,0h30\" style=\"fill: none; stroke: rgb(94, 67, 165); stroke-opacity: 1; stroke-width: 2px;\"/></g><g class=\"legendsymbols\"><g class=\"legendpoints\"/></g></g><rect class=\"legendtoggle\" pointer-events=\"all\" x=\"0\" y=\"-9.5\" width=\"382.890625\" height=\"19\" style=\"cursor: pointer; fill: rgb(0, 0, 0); fill-opacity: 0;\"/></g></g><g class=\"groups\" transform=\"translate(0, 38)\"><g class=\"traces\" transform=\"translate(102.03125, 14.5)\" style=\"opacity: 1;\"><text class=\"legendtext user-select-none\" text-anchor=\"start\" x=\"40\" y=\"4.680000000000001\" style=\"font-family: 'Open Sans', verdana, arial, sans-serif; font-size: 12px; fill: rgb(42, 63, 95); fill-opacity: 1; white-space: pre;\">QmQayinFSgMMw5cSpDUiD9pQ2WeP6WNmGxpZ6ou3mdVFJX</text><g class=\"layers\" style=\"opacity: 1;\"><g class=\"legendfill\"/><g class=\"legendlines\"><path class=\"js-line\" d=\"M5,0h30\" style=\"fill: none; stroke: rgb(66, 18, 87); stroke-opacity: 1; stroke-width: 2px;\"/></g><g class=\"legendsymbols\"><g class=\"legendpoints\"/></g></g><rect class=\"legendtoggle\" pointer-events=\"all\" x=\"0\" y=\"-9.5\" width=\"417.90625\" height=\"19\" style=\"cursor: pointer; fill: rgb(0, 0, 0); fill-opacity: 0;\"/></g></g><g class=\"groups\" transform=\"translate(420.40625, 38)\"><g class=\"traces\" transform=\"translate(102.03125, 14.5)\" style=\"opacity: 1;\"><text class=\"legendtext user-select-none\" text-anchor=\"start\" x=\"40\" y=\"4.680000000000001\" style=\"font-family: 'Open Sans', verdana, arial, sans-serif; font-size: 12px; fill: rgb(42, 63, 95); fill-opacity: 1; white-space: pre;\">QmV6JRS5CPwCduwPyVhSfJdngXzNuYoNf3PAGcQzrgpPzG</text><g class=\"layers\" style=\"opacity: 1;\"><g class=\"legendfill\"/><g class=\"legendlines\"><path class=\"js-line\" d=\"M5,0h30\" style=\"fill: none; stroke: rgb(71, 19, 64); stroke-opacity: 1; stroke-width: 2px;\"/></g><g class=\"legendsymbols\"><g class=\"legendpoints\"/></g></g><rect class=\"legendtoggle\" pointer-events=\"all\" x=\"0\" y=\"-9.5\" width=\"387.75\" height=\"19\" style=\"cursor: pointer; fill: rgb(0, 0, 0); fill-opacity: 0;\"/></g></g><g class=\"groups\" transform=\"translate(0, 57)\"><g class=\"traces\" transform=\"translate(102.03125, 14.5)\" style=\"opacity: 1;\"><text class=\"legendtext user-select-none\" text-anchor=\"start\" x=\"40\" y=\"4.680000000000001\" style=\"font-family: 'Open Sans', verdana, arial, sans-serif; font-size: 12px; fill: rgb(42, 63, 95); fill-opacity: 1; white-space: pre;\">QmbNumW6AmHZGzjE3wdeenM1TVLL6ynbqeVdrX3uzGpCee</text><g class=\"layers\" style=\"opacity: 1;\"><g class=\"legendfill\"/><g class=\"legendlines\"><path class=\"js-line\" d=\"M5,0h30\" style=\"fill: none; stroke: rgb(142, 44, 80); stroke-opacity: 1; stroke-width: 2px;\"/></g><g class=\"legendsymbols\"><g class=\"legendpoints\"/></g></g><rect class=\"legendtoggle\" pointer-events=\"all\" x=\"0\" y=\"-9.5\" width=\"412.5625\" height=\"19\" style=\"cursor: pointer; fill: rgb(0, 0, 0); fill-opacity: 0;\"/></g></g><g class=\"groups\" transform=\"translate(0, 76)\"><g class=\"traces\" transform=\"translate(102.03125, 14.5)\" style=\"opacity: 1;\"><text class=\"legendtext user-select-none\" text-anchor=\"start\" x=\"40\" y=\"4.680000000000001\" style=\"font-family: 'Open Sans', verdana, arial, sans-serif; font-size: 12px; fill: rgb(42, 63, 95); fill-opacity: 1; white-space: pre;\">QmTJxtwPAU15R5QYbHmzs4Q8hFSRiDNWcboVHykm3WnN2v</text><g class=\"layers\" style=\"opacity: 1;\"><g class=\"legendfill\"/><g class=\"legendlines\"><path class=\"js-line\" d=\"M5,0h30\" style=\"fill: none; stroke: rgb(186, 102, 87); stroke-opacity: 1; stroke-width: 2px;\"/></g><g class=\"legendsymbols\"><g class=\"legendpoints\"/></g></g><rect class=\"legendtoggle\" pointer-events=\"all\" x=\"0\" y=\"-9.5\" width=\"412.21875\" height=\"19\" style=\"cursor: pointer; fill: rgb(0, 0, 0); fill-opacity: 0;\"/></g></g><g class=\"groups\" transform=\"translate(414.71875, 76)\"><g class=\"traces\" transform=\"translate(102.03125, 14.5)\" style=\"opacity: 1;\"><text class=\"legendtext user-select-none\" text-anchor=\"start\" x=\"40\" y=\"4.680000000000001\" style=\"font-family: 'Open Sans', verdana, arial, sans-serif; font-size: 12px; fill: rgb(42, 63, 95); fill-opacity: 1; white-space: pre;\">QmNnXzRTQbb9aNVaspGaNDJnMpxGrptuDUYTLX22YEu99b</text><g class=\"layers\" style=\"opacity: 1;\"><g class=\"legendfill\"/><g class=\"legendlines\"><path class=\"js-line\" d=\"M5,0h30\" style=\"fill: none; stroke: rgb(206, 172, 148); stroke-opacity: 1; stroke-width: 2px;\"/></g><g class=\"legendsymbols\"><g class=\"legendpoints\"/></g></g><rect class=\"legendtoggle\" pointer-events=\"all\" x=\"0\" y=\"-9.5\" width=\"400.1875\" height=\"19\" style=\"cursor: pointer; fill: rgb(0, 0, 0); fill-opacity: 0;\"/></g></g><g class=\"groups\" transform=\"translate(0, 95)\"><g class=\"traces\" transform=\"translate(102.03125, 14.5)\" style=\"opacity: 1;\"><text class=\"legendtext user-select-none\" text-anchor=\"start\" x=\"40\" y=\"4.680000000000001\" style=\"font-family: 'Open Sans', verdana, arial, sans-serif; font-size: 12px; fill: rgb(42, 63, 95); fill-opacity: 1; white-space: pre;\">16Uiu2HAkw5SNNtSvH1zJiQ6Gc3WoGNSxiyNueRKe6fuAuh57G3Bk</text><g class=\"layers\" style=\"opacity: 1;\"><g class=\"legendfill\"/><g class=\"legendlines\"><path class=\"js-line\" d=\"M5,0h30\" style=\"fill: none; stroke: rgb(226, 217, 226); stroke-opacity: 1; stroke-width: 2px;\"/></g><g class=\"legendsymbols\"><g class=\"legendpoints\"/></g></g><rect class=\"legendtoggle\" pointer-events=\"all\" x=\"0\" y=\"-9.5\" width=\"441.40625\" height=\"19\" style=\"cursor: pointer; fill: rgb(0, 0, 0); fill-opacity: 0;\"/></g></g></g><rect class=\"scrollbar\" rx=\"20\" ry=\"3\" width=\"0\" height=\"0\" style=\"fill: rgb(128, 139, 164); fill-opacity: 1;\" x=\"0\" y=\"0\"/></g><g class=\"g-gtitle\"><text class=\"gtitle\" x=\"45\" y=\"50\" text-anchor=\"start\" dy=\"0em\" style=\"font-family: 'Open Sans', verdana, arial, sans-serif; font-size: 17px; fill: rgb(42, 63, 95); opacity: 1; font-weight: normal; white-space: pre;\">connRemotePeer visit times in five minutesvs Time</text></g><g class=\"g-xtitle\"><text class=\"xtitle\" x=\"483.5\" y=\"367.409375\" text-anchor=\"middle\" style=\"font-family: 'Open Sans', verdana, arial, sans-serif; font-size: 14px; fill: rgb(42, 63, 95); opacity: 1; font-weight: normal; white-space: pre;\">utc_time</text></g><g class=\"g-ytitle\"><text class=\"ytitle\" transform=\"rotate(-90,90.653125,205.5)\" x=\"90.653125\" y=\"205.5\" text-anchor=\"middle\" style=\"font-family: 'Open Sans', verdana, arial, sans-serif; font-size: 14px; fill: rgb(42, 63, 95); opacity: 1; font-weight: normal; white-space: pre;\">count</text></g></g></svg>"
      ]
     },
     "metadata": {},
     "output_type": "display_data"
    }
   ],
   "source": [
    "draw_graph(five_minute, 'connRemotePeer', alert)"
   ]
  },
  {
   "cell_type": "markdown",
   "metadata": {},
   "source": [
    "### Visualize on connRemoteAddr"
   ]
  },
  {
   "cell_type": "markdown",
   "metadata": {},
   "source": [
    "### get top 10 frequent address"
   ]
  },
  {
   "cell_type": "code",
   "execution_count": 18,
   "metadata": {},
   "outputs": [
    {
     "data": {
      "text/plain": [
       "['/ip4/144.91.95.131/tcp/10000',\n",
       " '/ip4/144.91.109.166/tcp/10000',\n",
       " '/ip4/5.189.148.218/tcp/10000',\n",
       " '/ip4/54.250.183.167/tcp/9000',\n",
       " '/ip4/54.213.43.194/tcp/9874',\n",
       " '/ip4/13.113.101.219/tcp/12019',\n",
       " '/ip4/79.117.176.43/tcp/10000',\n",
       " '/ip4/54.193.9.232/tcp/9000',\n",
       " '/ip4/79.117.176.43/tcp/9000',\n",
       " '/ip4/167.172.123.33/tcp/9000']"
      ]
     },
     "execution_count": 18,
     "metadata": {},
     "output_type": "execute_result"
    }
   ],
   "source": [
    "lst = get_top_10_frequent(RemoteAddr, 'connRemoteAddr')\n",
    "lst"
   ]
  },
  {
   "cell_type": "markdown",
   "metadata": {},
   "source": [
    "### aggregate value in five minutes"
   ]
  },
  {
   "cell_type": "code",
   "execution_count": 19,
   "metadata": {},
   "outputs": [
    {
     "data": {
      "text/html": [
       "<div>\n",
       "<style scoped>\n",
       "    .dataframe tbody tr th:only-of-type {\n",
       "        vertical-align: middle;\n",
       "    }\n",
       "\n",
       "    .dataframe tbody tr th {\n",
       "        vertical-align: top;\n",
       "    }\n",
       "\n",
       "    .dataframe thead th {\n",
       "        text-align: right;\n",
       "    }\n",
       "</style>\n",
       "<table border=\"1\" class=\"dataframe\">\n",
       "  <thead>\n",
       "    <tr style=\"text-align: right;\">\n",
       "      <th></th>\n",
       "      <th>date</th>\n",
       "      <th>connRemoteAddr</th>\n",
       "      <th>count</th>\n",
       "    </tr>\n",
       "  </thead>\n",
       "  <tbody>\n",
       "    <tr>\n",
       "      <th>0</th>\n",
       "      <td>2020-03-30 20:40:00</td>\n",
       "      <td>/ip4/79.117.176.43/tcp/10000</td>\n",
       "      <td>2254</td>\n",
       "    </tr>\n",
       "    <tr>\n",
       "      <th>1</th>\n",
       "      <td>2020-03-31 11:15:00</td>\n",
       "      <td>/ip4/144.91.109.166/tcp/10000</td>\n",
       "      <td>2213</td>\n",
       "    </tr>\n",
       "    <tr>\n",
       "      <th>2</th>\n",
       "      <td>2020-03-30 20:40:00</td>\n",
       "      <td>/ip4/144.91.95.131/tcp/10000</td>\n",
       "      <td>2122</td>\n",
       "    </tr>\n",
       "    <tr>\n",
       "      <th>3</th>\n",
       "      <td>2020-03-31 11:20:00</td>\n",
       "      <td>/ip4/144.91.95.131/tcp/10000</td>\n",
       "      <td>2093</td>\n",
       "    </tr>\n",
       "    <tr>\n",
       "      <th>4</th>\n",
       "      <td>2020-03-31 11:15:00</td>\n",
       "      <td>/ip4/5.189.148.218/tcp/10000</td>\n",
       "      <td>2010</td>\n",
       "    </tr>\n",
       "    <tr>\n",
       "      <th>...</th>\n",
       "      <td>...</td>\n",
       "      <td>...</td>\n",
       "      <td>...</td>\n",
       "    </tr>\n",
       "    <tr>\n",
       "      <th>3546</th>\n",
       "      <td>2020-03-29 09:25:00</td>\n",
       "      <td>/ip4/54.250.183.167/tcp/9000</td>\n",
       "      <td>1</td>\n",
       "    </tr>\n",
       "    <tr>\n",
       "      <th>3547</th>\n",
       "      <td>2020-03-29 06:50:00</td>\n",
       "      <td>/ip4/54.250.183.167/tcp/9000</td>\n",
       "      <td>1</td>\n",
       "    </tr>\n",
       "    <tr>\n",
       "      <th>3548</th>\n",
       "      <td>2020-03-31 11:40:00</td>\n",
       "      <td>/ip4/167.172.123.33/tcp/9000</td>\n",
       "      <td>1</td>\n",
       "    </tr>\n",
       "    <tr>\n",
       "      <th>3549</th>\n",
       "      <td>2020-03-31 12:00:00</td>\n",
       "      <td>/ip4/167.172.123.33/tcp/9000</td>\n",
       "      <td>1</td>\n",
       "    </tr>\n",
       "    <tr>\n",
       "      <th>3550</th>\n",
       "      <td>2020-04-01 00:30:00</td>\n",
       "      <td>/ip4/13.113.101.219/tcp/12019</td>\n",
       "      <td>1</td>\n",
       "    </tr>\n",
       "  </tbody>\n",
       "</table>\n",
       "<p>3551 rows × 3 columns</p>\n",
       "</div>"
      ],
      "text/plain": [
       "                    date                 connRemoteAddr  count\n",
       "0    2020-03-30 20:40:00   /ip4/79.117.176.43/tcp/10000   2254\n",
       "1    2020-03-31 11:15:00  /ip4/144.91.109.166/tcp/10000   2213\n",
       "2    2020-03-30 20:40:00   /ip4/144.91.95.131/tcp/10000   2122\n",
       "3    2020-03-31 11:20:00   /ip4/144.91.95.131/tcp/10000   2093\n",
       "4    2020-03-31 11:15:00   /ip4/5.189.148.218/tcp/10000   2010\n",
       "...                  ...                            ...    ...\n",
       "3546 2020-03-29 09:25:00   /ip4/54.250.183.167/tcp/9000      1\n",
       "3547 2020-03-29 06:50:00   /ip4/54.250.183.167/tcp/9000      1\n",
       "3548 2020-03-31 11:40:00   /ip4/167.172.123.33/tcp/9000      1\n",
       "3549 2020-03-31 12:00:00   /ip4/167.172.123.33/tcp/9000      1\n",
       "3550 2020-04-01 00:30:00  /ip4/13.113.101.219/tcp/12019      1\n",
       "\n",
       "[3551 rows x 3 columns]"
      ]
     },
     "execution_count": 19,
     "metadata": {},
     "output_type": "execute_result"
    }
   ],
   "source": [
    "five_minute = aggregate_value(df, 'connRemoteAddr', lst)\n",
    "five_minute"
   ]
  },
  {
   "cell_type": "markdown",
   "metadata": {},
   "source": [
    "### draw graph"
   ]
  },
  {
   "cell_type": "code",
   "execution_count": 20,
   "metadata": {},
   "outputs": [
    {
     "name": "stdout",
     "output_type": "stream",
     "text": [
      "png graphs saved in ../../graphs/crash_analysis/mainnet/03-31/100.26.90.187-bootnode/\n",
      "html graphs saved in \n"
     ]
    },
    {
     "data": {
      "text/html": [
       "<a href='https://harmony-one.github.io/harmony-log-analysis/graphs/crash_analysis/mainnet/03-31/100.26.90.187-bootnode/connRemoteAddr.html' target='_blank'>https://harmony-one.github.io/harmony-log-analysis/graphs/crash_analysis/mainnet/03-31/100.26.90.187-bootnode/connRemoteAddr.html</a>"
      ],
      "text/plain": [
       "<IPython.core.display.HTML object>"
      ]
     },
     "metadata": {},
     "output_type": "display_data"
    },
    {
     "data": {
      "image/svg+xml": [
       "<svg class=\"main-svg\" xmlns=\"http://www.w3.org/2000/svg\" xmlns:xlink=\"http://www.w3.org/1999/xlink\" width=\"900\" height=\"500\" style=\"\" viewBox=\"0 0 900 500\"><rect x=\"0\" y=\"0\" width=\"900\" height=\"500\" style=\"fill: rgb(255, 255, 255); fill-opacity: 1;\"/><defs id=\"defs-547ee2\"><g class=\"clips\"><clipPath id=\"clip547ee2xyplot\" class=\"plotclip\"><rect width=\"673\" height=\"242\"/></clipPath><clipPath class=\"axesclip\" id=\"clip547ee2x\"><rect x=\"147\" y=\"0\" width=\"673\" height=\"500\"/></clipPath><clipPath class=\"axesclip\" id=\"clip547ee2y\"><rect x=\"0\" y=\"100\" width=\"900\" height=\"242\"/></clipPath><clipPath class=\"axesclip\" id=\"clip547ee2xy\"><rect x=\"147\" y=\"100\" width=\"673\" height=\"242\"/></clipPath></g><g class=\"gradients\"/></defs><g class=\"bglayer\"><rect class=\"bg\" x=\"147\" y=\"100\" width=\"673\" height=\"242\" style=\"fill: rgb(229, 236, 246); fill-opacity: 1; stroke-width: 0;\"/></g><g class=\"layer-below\"><g class=\"imagelayer\"/><g class=\"shapelayer\"/></g><g class=\"cartesianlayer\"><g class=\"subplot xy\"><g class=\"layer-subplot\"><g class=\"shapelayer\"/><g class=\"imagelayer\"/></g><g class=\"gridlayer\"><g class=\"x\"><path class=\"xgrid crisp\" transform=\"translate(235.59,0)\" d=\"M0,100v242\" style=\"stroke: rgb(255, 255, 255); stroke-opacity: 1; stroke-width: 1px;\"/><path class=\"xgrid crisp\" transform=\"translate(324.16999999999996,0)\" d=\"M0,100v242\" style=\"stroke: rgb(255, 255, 255); stroke-opacity: 1; stroke-width: 1px;\"/><path class=\"xgrid crisp\" transform=\"translate(412.76,0)\" d=\"M0,100v242\" style=\"stroke: rgb(255, 255, 255); stroke-opacity: 1; stroke-width: 1px;\"/><path class=\"xgrid crisp\" transform=\"translate(501.34,0)\" d=\"M0,100v242\" style=\"stroke: rgb(255, 255, 255); stroke-opacity: 1; stroke-width: 1px;\"/><path class=\"xgrid crisp\" transform=\"translate(589.9300000000001,0)\" d=\"M0,100v242\" style=\"stroke: rgb(255, 255, 255); stroke-opacity: 1; stroke-width: 1px;\"/><path class=\"xgrid crisp\" transform=\"translate(678.51,0)\" d=\"M0,100v242\" style=\"stroke: rgb(255, 255, 255); stroke-opacity: 1; stroke-width: 1px;\"/><path class=\"xgrid crisp\" transform=\"translate(767.1,0)\" d=\"M0,100v242\" style=\"stroke: rgb(255, 255, 255); stroke-opacity: 1; stroke-width: 1px;\"/></g><g class=\"y\"><path class=\"ygrid crisp\" transform=\"translate(0,281.65999999999997)\" d=\"M147,0h673\" style=\"stroke: rgb(255, 255, 255); stroke-opacity: 1; stroke-width: 1px;\"/><path class=\"ygrid crisp\" transform=\"translate(0,233.33)\" d=\"M147,0h673\" style=\"stroke: rgb(255, 255, 255); stroke-opacity: 1; stroke-width: 1px;\"/><path class=\"ygrid crisp\" transform=\"translate(0,184.99)\" d=\"M147,0h673\" style=\"stroke: rgb(255, 255, 255); stroke-opacity: 1; stroke-width: 1px;\"/><path class=\"ygrid crisp\" transform=\"translate(0,136.65)\" d=\"M147,0h673\" style=\"stroke: rgb(255, 255, 255); stroke-opacity: 1; stroke-width: 1px;\"/></g></g><g class=\"zerolinelayer\"><path class=\"yzl zl crisp\" transform=\"translate(0,330)\" d=\"M147,0h673\" style=\"stroke: rgb(255, 255, 255); stroke-opacity: 1; stroke-width: 2px;\"/></g><path class=\"xlines-below\"/><path class=\"ylines-below\"/><g class=\"overlines-below\"/><g class=\"xaxislayer-below\"/><g class=\"yaxislayer-below\"/><g class=\"overaxes-below\"/><g class=\"plot\" transform=\"translate(147, 100)\" clip-path=\"url('#clip547ee2xyplot')\"><g class=\"scatterlayer mlayer\"><g class=\"trace scatter trace7aec81\" style=\"stroke-miterlimit: 2; opacity: 1;\"><g class=\"fills\"/><g class=\"errorbars\"/><g class=\"lines\"/><g class=\"points\"/><g class=\"text\"><g class=\"textpoint\" transform=\"translate(0,3)\"><text x=\"438.53\" y=\"229.9\" text-anchor=\"middle\" style=\"font-family: 'Open Sans', verdana, arial, sans-serif; font-size: 12px; fill: rgb(42, 63, 95); fill-opacity: 1; white-space: pre;\">Shard 0 stuck!</text></g><g class=\"textpoint\" transform=\"translate(0,3)\"><text x=\"437.61\" y=\"198.79\" text-anchor=\"middle\" style=\"font-family: 'Open Sans', verdana, arial, sans-serif; font-size: 12px; fill: rgb(42, 63, 95); fill-opacity: 1; white-space: pre;\">Shard 2 stuck!</text></g><g class=\"textpoint\" transform=\"translate(0,3)\"><text x=\"407.89\" y=\"167.67\" text-anchor=\"middle\" style=\"font-family: 'Open Sans', verdana, arial, sans-serif; font-size: 12px; fill: rgb(42, 63, 95); fill-opacity: 1; white-space: pre;\">Shard 3 stuck!</text></g><g class=\"textpoint\" transform=\"translate(0,3)\"><text x=\"407.91\" y=\"136.56\" text-anchor=\"middle\" style=\"font-family: 'Open Sans', verdana, arial, sans-serif; font-size: 12px; fill: rgb(42, 63, 95); fill-opacity: 1; white-space: pre;\">Shard 1 stuck!</text></g><g class=\"textpoint\" transform=\"translate(0,3)\"><text x=\"331.29\" y=\"105.44\" text-anchor=\"middle\" style=\"font-family: 'Open Sans', verdana, arial, sans-serif; font-size: 12px; fill: rgb(42, 63, 95); fill-opacity: 1; white-space: pre;\">Shard 0 stuck!</text></g><g class=\"textpoint\" transform=\"translate(0,3)\"><text x=\"331.28\" y=\"74.33\" text-anchor=\"middle\" style=\"font-family: 'Open Sans', verdana, arial, sans-serif; font-size: 12px; fill: rgb(42, 63, 95); fill-opacity: 1; white-space: pre;\">Shard 2 stuck!</text></g><g class=\"textpoint\" transform=\"translate(0,3)\"><text x=\"331.29\" y=\"43.21\" text-anchor=\"middle\" style=\"font-family: 'Open Sans', verdana, arial, sans-serif; font-size: 12px; fill: rgb(42, 63, 95); fill-opacity: 1; white-space: pre;\">Shard 3 stuck!</text></g><g class=\"textpoint\" transform=\"translate(0,3)\"><text x=\"331.27\" y=\"12.1\" text-anchor=\"middle\" style=\"font-family: 'Open Sans', verdana, arial, sans-serif; font-size: 12px; fill: rgb(42, 63, 95); fill-opacity: 1; white-space: pre;\">Shard 1 stuck!</text></g></g></g></g></g><g class=\"overplot\"/><path class=\"xlines-above crisp\" style=\"fill: none;\" d=\"M0,0\"/><path class=\"ylines-above crisp\" style=\"fill: none;\" d=\"M0,0\"/><g class=\"overlines-above\"/><g class=\"xaxislayer-above\"><g class=\"xtick\"><text text-anchor=\"middle\" x=\"0\" y=\"355\" transform=\"translate(147,0)\" style=\"font-family: 'Open Sans', verdana, arial, sans-serif; font-size: 12px; fill: rgb(42, 63, 95); fill-opacity: 1; white-space: pre;\"><tspan class=\"line\" dy=\"0em\" x=\"0\" y=\"355\">00:00</tspan><tspan class=\"line\" dy=\"1.3em\" x=\"0\" y=\"355\">Mar 29, 2020</tspan></text></g><g class=\"xtick\"><text text-anchor=\"middle\" x=\"0\" y=\"355\" transform=\"translate(235.59,0)\" style=\"font-family: 'Open Sans', verdana, arial, sans-serif; font-size: 12px; fill: rgb(42, 63, 95); fill-opacity: 1; white-space: pre;\">12:00</text></g><g class=\"xtick\"><text text-anchor=\"middle\" x=\"0\" y=\"355\" transform=\"translate(324.16999999999996,0)\" style=\"font-family: 'Open Sans', verdana, arial, sans-serif; font-size: 12px; fill: rgb(42, 63, 95); fill-opacity: 1; white-space: pre;\"><tspan class=\"line\" dy=\"0em\" x=\"0\" y=\"355\">00:00</tspan><tspan class=\"line\" dy=\"1.3em\" x=\"0\" y=\"355\">Mar 30, 2020</tspan></text></g><g class=\"xtick\"><text text-anchor=\"middle\" x=\"0\" y=\"355\" transform=\"translate(412.76,0)\" style=\"font-family: 'Open Sans', verdana, arial, sans-serif; font-size: 12px; fill: rgb(42, 63, 95); fill-opacity: 1; white-space: pre;\">12:00</text></g><g class=\"xtick\"><text text-anchor=\"middle\" x=\"0\" y=\"355\" transform=\"translate(501.34,0)\" style=\"font-family: 'Open Sans', verdana, arial, sans-serif; font-size: 12px; fill: rgb(42, 63, 95); fill-opacity: 1; white-space: pre;\"><tspan class=\"line\" dy=\"0em\" x=\"0\" y=\"355\">00:00</tspan><tspan class=\"line\" dy=\"1.3em\" x=\"0\" y=\"355\">Mar 31, 2020</tspan></text></g><g class=\"xtick\"><text text-anchor=\"middle\" x=\"0\" y=\"355\" transform=\"translate(589.9300000000001,0)\" style=\"font-family: 'Open Sans', verdana, arial, sans-serif; font-size: 12px; fill: rgb(42, 63, 95); fill-opacity: 1; white-space: pre;\">12:00</text></g><g class=\"xtick\"><text text-anchor=\"middle\" x=\"0\" y=\"355\" transform=\"translate(678.51,0)\" style=\"font-family: 'Open Sans', verdana, arial, sans-serif; font-size: 12px; fill: rgb(42, 63, 95); fill-opacity: 1; white-space: pre;\"><tspan class=\"line\" dy=\"0em\" x=\"0\" y=\"355\">00:00</tspan><tspan class=\"line\" dy=\"1.3em\" x=\"0\" y=\"355\">Apr 1, 2020</tspan></text></g><g class=\"xtick\"><text text-anchor=\"middle\" x=\"0\" y=\"355\" transform=\"translate(767.1,0)\" style=\"font-family: 'Open Sans', verdana, arial, sans-serif; font-size: 12px; fill: rgb(42, 63, 95); fill-opacity: 1; white-space: pre;\">12:00</text></g></g><g class=\"yaxislayer-above\"><g class=\"ytick\"><text text-anchor=\"end\" x=\"146\" y=\"4.199999999999999\" transform=\"translate(0,330)\" style=\"font-family: 'Open Sans', verdana, arial, sans-serif; font-size: 12px; fill: rgb(42, 63, 95); fill-opacity: 1; white-space: pre;\">0</text></g><g class=\"ytick\"><text text-anchor=\"end\" x=\"146\" y=\"4.199999999999999\" transform=\"translate(0,281.65999999999997)\" style=\"font-family: 'Open Sans', verdana, arial, sans-serif; font-size: 12px; fill: rgb(42, 63, 95); fill-opacity: 1; white-space: pre;\">500</text></g><g class=\"ytick\"><text text-anchor=\"end\" x=\"146\" y=\"4.199999999999999\" transform=\"translate(0,233.33)\" style=\"font-family: 'Open Sans', verdana, arial, sans-serif; font-size: 12px; fill: rgb(42, 63, 95); fill-opacity: 1; white-space: pre;\">1000</text></g><g class=\"ytick\"><text text-anchor=\"end\" x=\"146\" y=\"4.199999999999999\" transform=\"translate(0,184.99)\" style=\"font-family: 'Open Sans', verdana, arial, sans-serif; font-size: 12px; fill: rgb(42, 63, 95); fill-opacity: 1; white-space: pre;\">1500</text></g><g class=\"ytick\"><text text-anchor=\"end\" x=\"146\" y=\"4.199999999999999\" transform=\"translate(0,136.65)\" style=\"font-family: 'Open Sans', verdana, arial, sans-serif; font-size: 12px; fill: rgb(42, 63, 95); fill-opacity: 1; white-space: pre;\">2000</text></g></g><g class=\"overaxes-above\"/></g></g><g class=\"polarlayer\"/><g class=\"ternarylayer\"/><g class=\"geolayer\"/><g class=\"funnelarealayer\"/><g class=\"pielayer\"/><g class=\"treemaplayer\"/><g class=\"sunburstlayer\"/><g class=\"glimages\"><image xmlns=\"http://www.w3.org/2000/svg\" xlink:href=\"data:image/png;base64,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\" preserveAspectRatio=\"none\" x=\"0\" y=\"0\" width=\"900\" height=\"500\"/><image xmlns=\"http://www.w3.org/2000/svg\" xlink:href=\"data:image/png;base64,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\" preserveAspectRatio=\"none\" x=\"0\" y=\"0\" width=\"900\" height=\"500\"/></g><defs id=\"topdefs-547ee2\"><g class=\"clips\"/><clipPath id=\"legend547ee2\"><rect width=\"786\" height=\"86\" x=\"0\" y=\"0\"/></clipPath></defs><g class=\"layer-above\"><g class=\"imagelayer\"/><g class=\"shapelayer\"><path data-index=\"0\" fill-rule=\"evenodd\" d=\"M585.53,342L585.53,100\" clip-path=\"url('#clip547ee2x')\" style=\"opacity: 1; stroke: rgb(42, 63, 95); stroke-opacity: 1; fill: rgb(0, 0, 0); fill-opacity: 0; stroke-dasharray: 3px, 3px; stroke-width: 0.5px;\"/><path data-index=\"1\" fill-rule=\"evenodd\" d=\"M584.61,342L584.61,100\" clip-path=\"url('#clip547ee2x')\" style=\"opacity: 1; stroke: rgb(42, 63, 95); stroke-opacity: 1; fill: rgb(0, 0, 0); fill-opacity: 0; stroke-dasharray: 3px, 3px; stroke-width: 0.5px;\"/><path data-index=\"2\" fill-rule=\"evenodd\" d=\"M554.89,342L554.89,100\" clip-path=\"url('#clip547ee2x')\" style=\"opacity: 1; stroke: rgb(42, 63, 95); stroke-opacity: 1; fill: rgb(0, 0, 0); fill-opacity: 0; stroke-dasharray: 3px, 3px; stroke-width: 0.5px;\"/><path data-index=\"3\" fill-rule=\"evenodd\" d=\"M554.9100000000001,342L554.9100000000001,100\" clip-path=\"url('#clip547ee2x')\" style=\"opacity: 1; stroke: rgb(42, 63, 95); stroke-opacity: 1; fill: rgb(0, 0, 0); fill-opacity: 0; stroke-dasharray: 3px, 3px; stroke-width: 0.5px;\"/><path data-index=\"4\" fill-rule=\"evenodd\" d=\"M478.29,342L478.29,100\" clip-path=\"url('#clip547ee2x')\" style=\"opacity: 1; stroke: rgb(42, 63, 95); stroke-opacity: 1; fill: rgb(0, 0, 0); fill-opacity: 0; stroke-dasharray: 3px, 3px; stroke-width: 0.5px;\"/><path data-index=\"5\" fill-rule=\"evenodd\" d=\"M478.28,342L478.28,100\" clip-path=\"url('#clip547ee2x')\" style=\"opacity: 1; stroke: rgb(42, 63, 95); stroke-opacity: 1; fill: rgb(0, 0, 0); fill-opacity: 0; stroke-dasharray: 3px, 3px; stroke-width: 0.5px;\"/><path data-index=\"6\" fill-rule=\"evenodd\" d=\"M478.29,342L478.29,100\" clip-path=\"url('#clip547ee2x')\" style=\"opacity: 1; stroke: rgb(42, 63, 95); stroke-opacity: 1; fill: rgb(0, 0, 0); fill-opacity: 0; stroke-dasharray: 3px, 3px; stroke-width: 0.5px;\"/><path data-index=\"7\" fill-rule=\"evenodd\" d=\"M478.27,342L478.27,100\" clip-path=\"url('#clip547ee2x')\" style=\"opacity: 1; stroke: rgb(42, 63, 95); stroke-opacity: 1; fill: rgb(0, 0, 0); fill-opacity: 0; stroke-dasharray: 3px, 3px; stroke-width: 0.5px;\"/></g></g><g class=\"infolayer\"><g class=\"legend\" pointer-events=\"all\" transform=\"translate(12.400000000000006, 402.5)\"><rect class=\"bg\" shape-rendering=\"crispEdges\" style=\"stroke: rgb(68, 68, 68); stroke-opacity: 1; fill: rgb(255, 255, 255); fill-opacity: 1; stroke-width: 0px;\" width=\"786\" height=\"86\" x=\"0\" y=\"0\"/><g class=\"scrollbox\" transform=\"translate(0, 0)\" clip-path=\"url('#legend547ee2')\"><text class=\"legendtitletext user-select-none\" text-anchor=\"start\" x=\"2\" y=\"15.600000000000001\" style=\"font-family: 'Open Sans', verdana, arial, sans-serif; font-size: 12px; fill: rgb(42, 63, 95); fill-opacity: 1; white-space: pre;\">connRemoteAddr</text><g class=\"groups\" transform=\"translate(0, 0)\"><g class=\"traces\" transform=\"translate(103.6875, 14.5)\" style=\"opacity: 1;\"><text class=\"legendtext user-select-none\" text-anchor=\"start\" x=\"40\" y=\"4.680000000000001\" style=\"font-family: 'Open Sans', verdana, arial, sans-serif; font-size: 12px; fill: rgb(42, 63, 95); fill-opacity: 1; white-space: pre;\">/ip4/54.213.43.194/tcp/9874</text><g class=\"layers\" style=\"opacity: 1;\"><g class=\"legendfill\"/><g class=\"legendlines\"><path class=\"js-line\" d=\"M5,0h30\" style=\"fill: none; stroke: rgb(226, 217, 226); stroke-opacity: 1; stroke-width: 2px;\"/></g><g class=\"legendsymbols\"><g class=\"legendpoints\"/></g></g><rect class=\"legendtoggle\" pointer-events=\"all\" x=\"0\" y=\"-9.5\" width=\"214.515625\" height=\"19\" style=\"cursor: pointer; fill: rgb(0, 0, 0); fill-opacity: 0;\"/></g></g><g class=\"groups\" transform=\"translate(217.015625, 0)\"><g class=\"traces\" transform=\"translate(103.6875, 14.5)\" style=\"opacity: 1;\"><text class=\"legendtext user-select-none\" text-anchor=\"start\" x=\"40\" y=\"4.680000000000001\" style=\"font-family: 'Open Sans', verdana, arial, sans-serif; font-size: 12px; fill: rgb(42, 63, 95); fill-opacity: 1; white-space: pre;\">/ip4/54.193.9.232/tcp/9000</text><g class=\"layers\" style=\"opacity: 1;\"><g class=\"legendfill\"/><g class=\"legendlines\"><path class=\"js-line\" d=\"M5,0h30\" style=\"fill: none; stroke: rgb(158, 187, 201); stroke-opacity: 1; stroke-width: 2px;\"/></g><g class=\"legendsymbols\"><g class=\"legendpoints\"/></g></g><rect class=\"legendtoggle\" pointer-events=\"all\" x=\"0\" y=\"-9.5\" width=\"206.875\" height=\"19\" style=\"cursor: pointer; fill: rgb(0, 0, 0); fill-opacity: 0;\"/></g></g><g class=\"groups\" transform=\"translate(426.390625, 0)\"><g class=\"traces\" transform=\"translate(103.6875, 14.5)\" style=\"opacity: 1;\"><text class=\"legendtext user-select-none\" text-anchor=\"start\" x=\"40\" y=\"4.680000000000001\" style=\"font-family: 'Open Sans', verdana, arial, sans-serif; font-size: 12px; fill: rgb(42, 63, 95); fill-opacity: 1; white-space: pre;\">/ip4/13.113.101.219/tcp/12019</text><g class=\"layers\" style=\"opacity: 1;\"><g class=\"legendfill\"/><g class=\"legendlines\"><path class=\"js-line\" d=\"M5,0h30\" style=\"fill: none; stroke: rgb(103, 133, 190); stroke-opacity: 1; stroke-width: 2px;\"/></g><g class=\"legendsymbols\"><g class=\"legendpoints\"/></g></g><rect class=\"legendtoggle\" pointer-events=\"all\" x=\"0\" y=\"-9.5\" width=\"229.78125\" height=\"19\" style=\"cursor: pointer; fill: rgb(0, 0, 0); fill-opacity: 0;\"/></g></g><g class=\"groups\" transform=\"translate(0, 19)\"><g class=\"traces\" transform=\"translate(103.6875, 14.5)\" style=\"opacity: 1;\"><text class=\"legendtext user-select-none\" text-anchor=\"start\" x=\"40\" y=\"4.680000000000001\" style=\"font-family: 'Open Sans', verdana, arial, sans-serif; font-size: 12px; fill: rgb(42, 63, 95); fill-opacity: 1; white-space: pre;\">/ip4/54.250.183.167/tcp/9000</text><g class=\"layers\" style=\"opacity: 1;\"><g class=\"legendfill\"/><g class=\"legendlines\"><path class=\"js-line\" d=\"M5,0h30\" style=\"fill: none; stroke: rgb(94, 67, 165); stroke-opacity: 1; stroke-width: 2px;\"/></g><g class=\"legendsymbols\"><g class=\"legendpoints\"/></g></g><rect class=\"legendtoggle\" pointer-events=\"all\" x=\"0\" y=\"-9.5\" width=\"222.15625\" height=\"19\" style=\"cursor: pointer; fill: rgb(0, 0, 0); fill-opacity: 0;\"/></g></g><g class=\"groups\" transform=\"translate(224.65625, 19)\"><g class=\"traces\" transform=\"translate(103.6875, 14.5)\" style=\"opacity: 1;\"><text class=\"legendtext user-select-none\" text-anchor=\"start\" x=\"40\" y=\"4.680000000000001\" style=\"font-family: 'Open Sans', verdana, arial, sans-serif; font-size: 12px; fill: rgb(42, 63, 95); fill-opacity: 1; white-space: pre;\">/ip4/167.172.123.33/tcp/9000</text><g class=\"layers\" style=\"opacity: 1;\"><g class=\"legendfill\"/><g class=\"legendlines\"><path class=\"js-line\" d=\"M5,0h30\" style=\"fill: none; stroke: rgb(66, 18, 87); stroke-opacity: 1; stroke-width: 2px;\"/></g><g class=\"legendsymbols\"><g class=\"legendpoints\"/></g></g><rect class=\"legendtoggle\" pointer-events=\"all\" x=\"0\" y=\"-9.5\" width=\"222.15625\" height=\"19\" style=\"cursor: pointer; fill: rgb(0, 0, 0); fill-opacity: 0;\"/></g></g><g class=\"groups\" transform=\"translate(449.3125, 19)\"><g class=\"traces\" transform=\"translate(103.6875, 14.5)\" style=\"opacity: 1;\"><text class=\"legendtext user-select-none\" text-anchor=\"start\" x=\"40\" y=\"4.680000000000001\" style=\"font-family: 'Open Sans', verdana, arial, sans-serif; font-size: 12px; fill: rgb(42, 63, 95); fill-opacity: 1; white-space: pre;\">/ip4/79.117.176.43/tcp/10000</text><g class=\"layers\" style=\"opacity: 1;\"><g class=\"legendfill\"/><g class=\"legendlines\"><path class=\"js-line\" d=\"M5,0h30\" style=\"fill: none; stroke: rgb(71, 19, 64); stroke-opacity: 1; stroke-width: 2px;\"/></g><g class=\"legendsymbols\"><g class=\"legendpoints\"/></g></g><rect class=\"legendtoggle\" pointer-events=\"all\" x=\"0\" y=\"-9.5\" width=\"222.15625\" height=\"19\" style=\"cursor: pointer; fill: rgb(0, 0, 0); fill-opacity: 0;\"/></g></g><g class=\"groups\" transform=\"translate(0, 38)\"><g class=\"traces\" transform=\"translate(103.6875, 14.5)\" style=\"opacity: 1;\"><text class=\"legendtext user-select-none\" text-anchor=\"start\" x=\"40\" y=\"4.680000000000001\" style=\"font-family: 'Open Sans', verdana, arial, sans-serif; font-size: 12px; fill: rgb(42, 63, 95); fill-opacity: 1; white-space: pre;\">/ip4/5.189.148.218/tcp/10000</text><g class=\"layers\" style=\"opacity: 1;\"><g class=\"legendfill\"/><g class=\"legendlines\"><path class=\"js-line\" d=\"M5,0h30\" style=\"fill: none; stroke: rgb(142, 44, 80); stroke-opacity: 1; stroke-width: 2px;\"/></g><g class=\"legendsymbols\"><g class=\"legendpoints\"/></g></g><rect class=\"legendtoggle\" pointer-events=\"all\" x=\"0\" y=\"-9.5\" width=\"222.15625\" height=\"19\" style=\"cursor: pointer; fill: rgb(0, 0, 0); fill-opacity: 0;\"/></g></g><g class=\"groups\" transform=\"translate(224.65625, 38)\"><g class=\"traces\" transform=\"translate(103.6875, 14.5)\" style=\"opacity: 1;\"><text class=\"legendtext user-select-none\" text-anchor=\"start\" x=\"40\" y=\"4.680000000000001\" style=\"font-family: 'Open Sans', verdana, arial, sans-serif; font-size: 12px; fill: rgb(42, 63, 95); fill-opacity: 1; white-space: pre;\">/ip4/144.91.109.166/tcp/10000</text><g class=\"layers\" style=\"opacity: 1;\"><g class=\"legendfill\"/><g class=\"legendlines\"><path class=\"js-line\" d=\"M5,0h30\" style=\"fill: none; stroke: rgb(186, 102, 87); stroke-opacity: 1; stroke-width: 2px;\"/></g><g class=\"legendsymbols\"><g class=\"legendpoints\"/></g></g><rect class=\"legendtoggle\" pointer-events=\"all\" x=\"0\" y=\"-9.5\" width=\"229.78125\" height=\"19\" style=\"cursor: pointer; fill: rgb(0, 0, 0); fill-opacity: 0;\"/></g></g><g class=\"groups\" transform=\"translate(456.9375, 38)\"><g class=\"traces\" transform=\"translate(103.6875, 14.5)\" style=\"opacity: 1;\"><text class=\"legendtext user-select-none\" text-anchor=\"start\" x=\"40\" y=\"4.680000000000001\" style=\"font-family: 'Open Sans', verdana, arial, sans-serif; font-size: 12px; fill: rgb(42, 63, 95); fill-opacity: 1; white-space: pre;\">/ip4/144.91.95.131/tcp/10000</text><g class=\"layers\" style=\"opacity: 1;\"><g class=\"legendfill\"/><g class=\"legendlines\"><path class=\"js-line\" d=\"M5,0h30\" style=\"fill: none; stroke: rgb(206, 172, 148); stroke-opacity: 1; stroke-width: 2px;\"/></g><g class=\"legendsymbols\"><g class=\"legendpoints\"/></g></g><rect class=\"legendtoggle\" pointer-events=\"all\" x=\"0\" y=\"-9.5\" width=\"222.15625\" height=\"19\" style=\"cursor: pointer; fill: rgb(0, 0, 0); fill-opacity: 0;\"/></g></g><g class=\"groups\" transform=\"translate(0, 57)\"><g class=\"traces\" transform=\"translate(103.6875, 14.5)\" style=\"opacity: 1;\"><text class=\"legendtext user-select-none\" text-anchor=\"start\" x=\"40\" y=\"4.680000000000001\" style=\"font-family: 'Open Sans', verdana, arial, sans-serif; font-size: 12px; fill: rgb(42, 63, 95); fill-opacity: 1; white-space: pre;\">/ip4/79.117.176.43/tcp/9000</text><g class=\"layers\" style=\"opacity: 1;\"><g class=\"legendfill\"/><g class=\"legendlines\"><path class=\"js-line\" d=\"M5,0h30\" style=\"fill: none; stroke: rgb(226, 217, 226); stroke-opacity: 1; stroke-width: 2px;\"/></g><g class=\"legendsymbols\"><g class=\"legendpoints\"/></g></g><rect class=\"legendtoggle\" pointer-events=\"all\" x=\"0\" y=\"-9.5\" width=\"214.515625\" height=\"19\" style=\"cursor: pointer; fill: rgb(0, 0, 0); fill-opacity: 0;\"/></g></g></g><rect class=\"scrollbar\" rx=\"20\" ry=\"3\" width=\"0\" height=\"0\" style=\"fill: rgb(128, 139, 164); fill-opacity: 1;\" x=\"0\" y=\"0\"/></g><g class=\"g-gtitle\"><text class=\"gtitle\" x=\"45\" y=\"50\" text-anchor=\"start\" dy=\"0em\" style=\"font-family: 'Open Sans', verdana, arial, sans-serif; font-size: 17px; fill: rgb(42, 63, 95); opacity: 1; font-weight: normal; white-space: pre;\">connRemoteAddr visit times in five minutesvs Time</text></g><g class=\"g-xtitle\"><text class=\"xtitle\" x=\"483.5\" y=\"398.409375\" text-anchor=\"middle\" style=\"font-family: 'Open Sans', verdana, arial, sans-serif; font-size: 14px; fill: rgb(42, 63, 95); opacity: 1; font-weight: normal; white-space: pre;\">utc_time</text></g><g class=\"g-ytitle\"><text class=\"ytitle\" transform=\"rotate(-90,90.653125,221)\" x=\"90.653125\" y=\"221\" text-anchor=\"middle\" style=\"font-family: 'Open Sans', verdana, arial, sans-serif; font-size: 14px; fill: rgb(42, 63, 95); opacity: 1; font-weight: normal; white-space: pre;\">count</text></g></g></svg>"
      ]
     },
     "metadata": {},
     "output_type": "display_data"
    }
   ],
   "source": [
    "draw_graph(five_minute, 'connRemoteAddr', alert)"
   ]
  }
 ],
 "metadata": {
  "kernelspec": {
   "display_name": "Python 3",
   "language": "python",
   "name": "python3"
  },
  "language_info": {
   "codemirror_mode": {
    "name": "ipython",
    "version": 3
   },
   "file_extension": ".py",
   "mimetype": "text/x-python",
   "name": "python",
   "nbconvert_exporter": "python",
   "pygments_lexer": "ipython3",
   "version": "3.7.6"
  }
 },
 "nbformat": 4,
 "nbformat_minor": 4
}
