{
 "cells": [
  {
   "cell_type": "code",
   "execution_count": 33,
   "metadata": {},
   "outputs": [],
   "source": [
    "import requests\n",
    "import csv\n",
    "import re\n",
    "import json\n",
    "from collections import defaultdict\n",
    "from threading import Thread\n",
    "import pandas as pd\n",
    "import logging\n",
    "from datetime import datetime\n",
    "from os import path\n",
    "import os\n",
    "from queue import Queue\n",
    "import time"
   ]
  },
  {
   "cell_type": "code",
   "execution_count": 3,
   "metadata": {},
   "outputs": [],
   "source": [
    "logging.basicConfig(level=logging.INFO)\n",
    "logger = logging.getLogger(\"uptime\")\n",
    "logger.setLevel(logging.INFO)\n",
    "filename = \"./logs/uptime_{}.log\".format(datetime.utcnow().strftime('%Y_%m_%d_%H:%M:%S'))\n",
    "file_handler = logging.FileHandler(filename)\n",
    "file_handler.setLevel(logging.INFO)\n",
    "console_handler = logging.StreamHandler()\n",
    "console_handler.setLevel(logging.INFO)\n",
    "logger.addHandler(file_handler)\n",
    "logger.addHandler(console_handler)"
   ]
  },
  {
   "cell_type": "code",
   "execution_count": 10,
   "metadata": {},
   "outputs": [],
   "source": [
    "def get_information(url, method, params) -> dict:\n",
    "    headers = {'Content-Type': 'application/json'}\n",
    "    data = {\"jsonrpc\":\"2.0\", \"method\": method, \"params\": params, \"id\":1}\n",
    "    r = requests.post(url, headers=headers, data = json.dumps(data))\n",
    "    if r.status_code != 200:\n",
    "        print(\"Error: Return status code %s\" % r.status_code)\n",
    "        exit(1)\n",
    "    content = json.loads(r.content)\n",
    "    return content['result']"
   ]
  },
  {
   "cell_type": "code",
   "execution_count": 180,
   "metadata": {},
   "outputs": [],
   "source": [
    "def getCommittees(shard, epoch) -> dict:\n",
    "    url = endpoint[shard]\n",
    "    method = \"hmy_getValidators\"\n",
    "    params = [epoch]\n",
    "    return get_information(url, method, params)\n"
   ]
  },
  {
   "cell_type": "code",
   "execution_count": 5,
   "metadata": {},
   "outputs": [],
   "source": [
    "def getBlockSigner(shard, block):\n",
    "    url = endpoint[shard]\n",
    "    payload = json.dumps({\n",
    "        \"jsonrpc\": \"2.0\",\n",
    "        \"method\": \"hmy_getBlockSigners\",\n",
    "        \"params\": [\n",
    "            hex(block)\n",
    "        ],\n",
    "        \"id\": 1\n",
    "    })\n",
    "    headers = {\n",
    "        'Content-Type': 'application/json'\n",
    "    }\n",
    "    response = requests.request('POST', url, headers=headers, data=payload, allow_redirects=False, timeout=30)\n",
    "    try:\n",
    "        returned = json.loads(response.content)[\"result\"]\n",
    "        return returned\n",
    "    except Exception:  # Catch all to not halt\n",
    "        t= {\n",
    "            'block-num': block,\n",
    "            'reason': f\"Failed to json load block {block}. Content: {response.content}\"\n",
    "        }\n",
    "        logger.info(json.dumps(t))\n",
    "        print(f\"\\n[!!!] Failed to json load block {block}. Content: {response.content}\\n\")"
   ]
  },
  {
   "cell_type": "code",
   "execution_count": 167,
   "metadata": {},
   "outputs": [],
   "source": [
    "def getLatestHeader(shard) -> dict:\n",
    "    url = endpoint[shard]\n",
    "    method = 'hmy_latestHeader'\n",
    "    params = []\n",
    "    return get_information(url, method, params)"
   ]
  },
  {
   "cell_type": "code",
   "execution_count": 8,
   "metadata": {},
   "outputs": [],
   "source": [
    "def getBlockByNumber(shard, number) -> dict:\n",
    "    url = endpoint[shard]\n",
    "    method = 'hmyv2_getBlockByNumber'\n",
    "    params = [number, {\"fullTx\":True,\"inclTx\":True,\"InclStaking\":True}]\n",
    "    return get_information(url, method, params)"
   ]
  },
  {
   "cell_type": "code",
   "execution_count": 11,
   "metadata": {},
   "outputs": [],
   "source": [
    "def getBlockByNumber(shard, number) -> dict:\n",
    "    url = endpoint[shard]\n",
    "    method = 'hmy_getBlockByNumber'\n",
    "    params = [hex(number), False]\n",
    "    return get_information(url, method, params)"
   ]
  },
  {
   "cell_type": "code",
   "execution_count": 9,
   "metadata": {},
   "outputs": [],
   "source": [
    "def IsFirstBlockOfEpoch(block) -> bool:\n",
    "    if 1 < block < mainnetEpochBlock1:\n",
    "        return False\n",
    "    elif block == 1:\n",
    "        return True\n",
    "    else:\n",
    "        return ((block - mainnetEpochBlock1) % blocksPerEpoch == 0)"
   ]
  },
  {
   "cell_type": "code",
   "execution_count": 162,
   "metadata": {},
   "outputs": [],
   "source": [
    "def getSigningAddress(shard, epoch) -> list:\n",
    "    for i in getCommittees(shard, epoch)['validators']:\n",
    "        if i['address'] != 'one1qqqqqqqqqqqqqqqqqqqqqqqqqqqqqqqquzw7vz':\n",
    "            address.append(i['address'])\n",
    "    return address"
   ]
  },
  {
   "cell_type": "code",
   "execution_count": 11,
   "metadata": {},
   "outputs": [],
   "source": [
    "def getSigningPerc(sign, count):\n",
    "    perc = dict()\n",
    "    for k, v in count.items():\n",
    "        if k in sign:\n",
    "            perc[k] = sign[k]/v\n",
    "        else:\n",
    "            perc[k] = 0\n",
    "    return perc"
   ]
  },
  {
   "cell_type": "code",
   "execution_count": 12,
   "metadata": {},
   "outputs": [],
   "source": [
    "def get_information(url, method, params) -> dict:\n",
    "    headers = {'Content-Type': 'application/json; charset=utf8'}\n",
    "    data = {\"jsonrpc\":\"2.0\", \"method\": method, \"params\": params, \"id\":1}\n",
    "    try:\n",
    "        r = requests.post(url, headers=headers, data = json.dumps(data))\n",
    "    except requests.exceptions.ConnectionError as e:\n",
    "        print(\"Error: connection error\")\n",
    "        time.sleep(5)\n",
    "        return None\n",
    "    if r.status_code != 200:\n",
    "        print(\"Error: Return status code %s\" % r.status_code)\n",
    "        return None\n",
    "    try:\n",
    "        r.json()\n",
    "    except ValueError:\n",
    "        print(\"Error: Unable to read JSON reply\")\n",
    "        return None\n",
    "    return r.json()"
   ]
  },
  {
   "cell_type": "code",
   "execution_count": 29,
   "metadata": {},
   "outputs": [],
   "source": [
    "import pickle\n",
    "file = \"../pickle/committee_count_mainnet.pkl\"\n",
    "with open(file, 'rb') as f:\n",
    "    count = pickle.load(f)"
   ]
  },
  {
   "cell_type": "code",
   "execution_count": 39,
   "metadata": {},
   "outputs": [],
   "source": [
    "import pickle\n",
    "file = \"../pickle/signer_count_mainnet.pickle\"\n",
    "with open(file, 'rb') as f:\n",
    "    count = pickle.load(f)"
   ]
  },
  {
   "cell_type": "code",
   "execution_count": 24,
   "metadata": {},
   "outputs": [],
   "source": [
    "file = \"../pickle/shard_info_mainnet.pickle\"\n",
    "with open(file, 'rb') as f:\n",
    "    info = pickle.load(f)"
   ]
  },
  {
   "cell_type": "code",
   "execution_count": null,
   "metadata": {},
   "outputs": [],
   "source": [
    "mainnetEpochBlock1 = 344064\n",
    "blocksPerEpoch = 16384\n",
    "endpoint = ['https://api.s0.t.hmny.io/', 'https://api.s1.t.hmny.io/', 'https://api.s2.t.hmny.io/', 'https://api.s3.t.hmny.io/']\n",
    "\n",
    "num = []\n",
    "for j in range(4):\n",
    "    num.append(getLatestHeader(j)['blockNumber'])"
   ]
  },
  {
   "cell_type": "code",
   "execution_count": null,
   "metadata": {},
   "outputs": [],
   "source": [
    "if __name__ == \"__main__\":\n",
    "    sign = defaultdict(int)\n",
    "    count = defaultdict(int)\n",
    "    def collect_data(shard):\n",
    "        global sign, count\n",
    "        epoch = 0\n",
    "        for i in range(1,num[shard]+1):\n",
    "            if IsFirstBlockOfEpoch(i):\n",
    "                address = getSigningAddress(shard, epoch)\n",
    "                epoch += 1\n",
    "            signer = getBlockSigner(shard, block)\n",
    "            for j in address:\n",
    "                if j in signer:\n",
    "                    sign[j] += 1\n",
    "                count[j] += 1\n",
    "            if (shard == 0) and (i % 1000 == 0):\n",
    "                res = getBlockByNumber(shard, i)\n",
    "                time = datetime.fromtimestamp(res['timestamp']).strftime('%Y_%m_%d_%H:%M:%S')\n",
    "                perc = getSigningPerc(sign, count)\n",
    "                t = {\n",
    "                     \"timestamp\": time,\n",
    "                     \"signing-percentage\": perc,\n",
    "                    }\n",
    "                logger.info(json.dumps(t))\n",
    "        if shard == 0:\n",
    "            res = getBlockByNumber(shard, i)\n",
    "            time = datetime.fromtimestamp(res['timestamp']).strftime('%Y_%m_%d_%H:%M:%S')\n",
    "            perc = getSigningPerc(sign, count)\n",
    "            t = {\n",
    "                 \"timestamp\": time,\n",
    "                 \"signing-percentage\": perc,\n",
    "                }\n",
    "            logger.info(json.dumps(t))\n",
    "    \n",
    "    threads = []\n",
    "    for x in range(len(endpoint)):\n",
    "        threads.append(Thread(target = collect_data, args = [x]))\n",
    "    for t in threads:\n",
    "        t.start()\n",
    "    for t in threads:\n",
    "        t.join()\n",
    "        \n",
    "    perc = getSigningPerc(sign, count)\n",
    "    df = pd.DataFrame(perc.items(), columns=['address', 'signing-percentage'])\n",
    "    df.to_csv(\"block_signer.csv\")\n",
    "    print(\"Successfully saving signing percentage to csv\")"
   ]
  },
  {
   "cell_type": "code",
   "execution_count": 14,
   "metadata": {},
   "outputs": [],
   "source": [
    "import firebase_admin\n",
    "from firebase_admin import credentials\n",
    "from firebase_admin import firestore\n",
    "from os import path\n",
    "\n",
    "base = path.dirname(path.realpath(\"block_signers.ipynb\"))\n",
    "json_dir = path.abspath(path.join(base, 'credential'))\n",
    "log_dir = path.abspath(path.join(base, 'logs'))\n",
    "\n",
    "# Fetch the service account key JSON file contents\n",
    "cred = credentials.Certificate(path.join(json_dir, \"harmony-explorer-mainnet-firebase-adminsdk.json\"))\n",
    "\n",
    "# Initialize the app with a service account, granting admin privileges\n",
    "firebase_admin.initialize_app(cred, {'databaseURL': \"https://harmony-explorer-mainnet.firebaseio.com\"})\n",
    "db = firestore.client()\n"
   ]
  },
  {
   "cell_type": "code",
   "execution_count": 97,
   "metadata": {},
   "outputs": [
    {
     "data": {
      "text/plain": [
       "update_time {\n",
       "  seconds: 1589476945\n",
       "  nanos: 726860000\n",
       "}"
      ]
     },
     "execution_count": 97,
     "metadata": {},
     "output_type": "execute_result"
    }
   ],
   "source": [
    "block_ref.set(signer_dict)"
   ]
  },
  {
   "cell_type": "code",
   "execution_count": null,
   "metadata": {},
   "outputs": [],
   "source": [
    "import firebase_admin\n",
    "from firebase_admin import credentials\n",
    "from firebase_admin import db\n",
    "\n",
    "\n",
    "base = path.dirname(path.realpath(\"block_signers.ipynb\"))\n",
    "json_dir = path.abspath(path.join(base, 'credential'))\n",
    "log_dir = path.abspath(path.join(base, 'logs'))\n",
    "\n",
    "# Fetch the service account key JSON file contents\n",
    "cred = credentials.Certificate(path.join(json_dir, \"harmony-explorer-mainnet-firebase-adminsdk.json\"))\n",
    "\n",
    "\n",
    "# Initialize the app with a service account, granting admin privileges\n",
    "firebase_admin.initialize_app(cred, {\n",
    "    'databaseURL': 'https://harmony-explorer-mainnet.firebaseio.com/'\n",
    "})\n",
    "\n",
    "# As an admin, the app has access to read and write all data, regradless of Security Rules\n",
    "ref = db.reference('block-signer')\n",
    "shard_ref = ref.child('shard0')\n",
    "block_ref = shard_ref.child(\"1\")\n",
    "block_ref.set({\n",
    "    'signers':signer\n",
    "})"
   ]
  },
  {
   "cell_type": "code",
   "execution_count": null,
   "metadata": {},
   "outputs": [],
   "source": [
    "ref = db.reference('block-signer')\n",
    "shard_ref = ref.child('shard0')\n",
    "block_ref = shard_ref.child(\"1\")\n",
    "block_ref.set(\n",
    "    signer_dict\n",
    ")"
   ]
  },
  {
   "cell_type": "code",
   "execution_count": null,
   "metadata": {},
   "outputs": [],
   "source": []
  }
 ],
 "metadata": {
  "kernelspec": {
   "display_name": "Python 3",
   "language": "python",
   "name": "python3"
  },
  "language_info": {
   "codemirror_mode": {
    "name": "ipython",
    "version": 3
   },
   "file_extension": ".py",
   "mimetype": "text/x-python",
   "name": "python",
   "nbconvert_exporter": "python",
   "pygments_lexer": "ipython3",
   "version": "3.7.6"
  }
 },
 "nbformat": 4,
 "nbformat_minor": 4
}
