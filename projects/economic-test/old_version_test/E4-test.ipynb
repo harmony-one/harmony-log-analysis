{
 "cells": [
  {
   "cell_type": "code",
   "execution_count": 1,
   "metadata": {},
   "outputs": [],
   "source": [
    "import json\n",
    "import pandas as pd\n",
    "import numpy as np\n",
    "import os\n",
    "import time\n",
    "import requests\n",
    "import logging"
   ]
  },
  {
   "cell_type": "markdown",
   "metadata": {},
   "source": [
    "logic: \n",
    "1. at the last block of current epoch, get the address of all the eligible validators\n",
    "2. at the first block of next epoch, group all the eligible validators into elected and non-elected\n",
    "3. sort elected and non-elected groups based on their stakes\n",
    "4. compare the lowest stake in elected group and highest stake in non-elected group. \n",
    "expectation: lowest stake in elected group > highest stake in non-elected group"
   ]
  },
  {
   "cell_type": "markdown",
   "metadata": {},
   "source": [
    "Question: if two validators have the same stake and both active, their stake rank is No.200. Who will be elected? based on the order who joined the network first?"
   ]
  },
  {
   "cell_type": "code",
   "execution_count": 2,
   "metadata": {},
   "outputs": [],
   "source": [
    "logging.basicConfig(level=logging.INFO)\n",
    "logger = logging.getLogger(\"economic-test\")\n",
    "logger.setLevel(logging.INFO)"
   ]
  },
  {
   "cell_type": "code",
   "execution_count": 3,
   "metadata": {},
   "outputs": [],
   "source": [
    "def get_information(method, params):\n",
    "    url = 'https://api.s0.t.hmny.io/'\n",
    "    headers = {'Content-Type': 'application/json'}\n",
    "    data = {\"jsonrpc\":\"2.0\", \"method\": method, \"params\": params, \"id\":1}\n",
    "    r = requests.post(url, headers=headers, data = json.dumps(data))\n",
    "    content = json.loads(r.content)\n",
    "    return content"
   ]
  },
  {
   "cell_type": "code",
   "execution_count": 4,
   "metadata": {},
   "outputs": [],
   "source": [
    "def getBlockNumber():\n",
    "    method = \"hmy_blockNumber\"\n",
    "    params = []\n",
    "    num = get_information(method, params)['result']\n",
    "    return int(num, 16)"
   ]
  },
  {
   "cell_type": "code",
   "execution_count": 5,
   "metadata": {},
   "outputs": [],
   "source": [
    "def getLastBlockOfCurrentEpoch():\n",
    "    method = 'hmy_getStakingNetworkInfo'\n",
    "    params = []\n",
    "    return get_information(method, params)['result']['epoch-last-block']"
   ]
  },
  {
   "cell_type": "code",
   "execution_count": 6,
   "metadata": {},
   "outputs": [],
   "source": [
    "def getCurrentAndLastBlock():\n",
    "    block = getBlockNumber()\n",
    "    last_block = getLastBlockOfCurrentEpoch()\n",
    "    return block, last_block"
   ]
  },
  {
   "cell_type": "code",
   "execution_count": 7,
   "metadata": {},
   "outputs": [],
   "source": [
    "def getAllValidatorInformation():\n",
    "    method = 'hmy_getAllValidatorInformation'\n",
    "    params = [0]\n",
    "    return get_information(method, params)['result']"
   ]
  },
  {
   "cell_type": "code",
   "execution_count": 8,
   "metadata": {},
   "outputs": [],
   "source": [
    "def getEligibleValidator():\n",
    "    eligible = []\n",
    "    validator_infos = getAllValidatorInformation()\n",
    "    for i in validator_infos:\n",
    "        if i['epos-status'] == 'currently elected and signing enough blocks to be eligible for election next epoch' or\\\n",
    "        i['epos-status'] == 'eligible to be elected next epoch':\n",
    "            address = i['validator']['address']\n",
    "            eligible.append(address)\n",
    "    return eligible"
   ]
  },
  {
   "cell_type": "code",
   "execution_count": 9,
   "metadata": {},
   "outputs": [],
   "source": [
    "def getValidatorInfo(validator):\n",
    "    method = \"hmy_getValidatorInformation\"\n",
    "    params = [validator]\n",
    "    return get_information(method, params)['result']"
   ]
  },
  {
   "cell_type": "code",
   "execution_count": 10,
   "metadata": {},
   "outputs": [],
   "source": [
    "def getStake(eligible):\n",
    "    elected = dict()\n",
    "    non_elected = dict()\n",
    "    validator_infos = getAllValidatorInformation()\n",
    "    for i in validator_infos:\n",
    "        address = i['validator']['address']\n",
    "        if address in eligible:\n",
    "            stake = i['total-delegation']\n",
    "            if i['currently-in-committee'] == True:\n",
    "                elected[address] = stake\n",
    "            else:\n",
    "                non_elected[address] = stake\n",
    "    return elected, non_elected"
   ]
  },
  {
   "cell_type": "code",
   "execution_count": 11,
   "metadata": {},
   "outputs": [],
   "source": [
    "def E4_test(single):\n",
    "    logger.info(f\"Test-E4: Low staker will never get elected over high staker\")\n",
    "    # the number of epoches you want to test\n",
    "    num = 1\n",
    "    iterations = 0\n",
    "    flag = True\n",
    "    try:\n",
    "        while iterations < num:\n",
    "            block, last_block = getCurrentAndLastBlock()\n",
    "            logger.info(f\"current and last block numbers: {block}, {last_block}\")\n",
    "            if block == last_block:\n",
    "                logger.info(f\"current block is the last block in epoch, waiting for the new epoch...\")\n",
    "                new_block = block+1\n",
    "                while block < new_block:\n",
    "                    block = getBlockNumber()\n",
    "                block, last_block = getCurrentAndLastBlock()\n",
    "                logger.info(f\"current and last block numbers: {block}, {last_block}\")\n",
    "            second_last_block = last_block - 1\n",
    "            while block < second_last_block:\n",
    "                block = getBlockNumber()\n",
    "            logger.info(f\"second last block in current epoch reached, {block}, wait for 6 seconds to reach the end of the block\")\n",
    "            time.sleep(6)\n",
    "            logger.info(f\"begin collecting eligible validators...\")\n",
    "            validator_infos = getAllValidatorInformation()\n",
    "            eligible_stake = dict()\n",
    "            for i in validator_infos:\n",
    "                if i['epos-status'] == 'currently elected' or i['epos-status'] == 'eligible to be elected next epoch':\n",
    "                    address = i['validator']['address']\n",
    "                    eligible_stake[address] = i['total-delegation']\n",
    "            # reach the first block in next epoch and check the status of all eligible validators\n",
    "            new_epoch_block = block + 1\n",
    "            while block < new_epoch_block:\n",
    "                block = getBlockNumber()\n",
    "            logger.info(f\"first block of new epoch reached, {new_epoch_block}, will begin checking all the elgible validators' election result...\")\n",
    "            elected = dict()\n",
    "            non_elected = dict()\n",
    "            validator_infos = getAllValidatorInformation()\n",
    "            for i in validator_infos:\n",
    "                if i['metrics']:\n",
    "                    address = i['validator']['address']\n",
    "                    by_key_metrics = i['metrics']['by-bls-key']\n",
    "                    slots = len(by_key_metrics)\n",
    "                    if address in eligible_stake:\n",
    "                        if i['currently-in-committee']:\n",
    "                            elected[address] = float(eligible_stake[address] / slots)\n",
    "                        else:\n",
    "                            non_elected[address] = float(eligible_stake[address] / slots)\n",
    "            sorted_elected = sorted(elected.items(), key = lambda kv: kv[1])\n",
    "            sorted_non_elected = sorted(non_elected.items(), key = lambda kv: kv[1], reverse = True)\n",
    "\n",
    "            # get the lowest elected validator and highest non-elected validator\n",
    "            if not sorted_elected:\n",
    "                lowest_elected = 0\n",
    "            else:\n",
    "                lowest_elected = sorted_elected[0][1]\n",
    "            if not sorted_non_elected:\n",
    "                highest_unelected = 0\n",
    "            else:\n",
    "                highest_unelected = sorted_non_elected[0][1]\n",
    "            if lowest_elected < highest_unelected:\n",
    "                logger.warning(f\"Test-E4: Fail\")\n",
    "                logger.warning(f\"lowest stake in elected eligible validators: {sorted_elected[0]}\" )\n",
    "                logger.warning(f\"highest stake in unelected eligible validators: {sorted_non_elected[0]}\\n\")\n",
    "                flag = False\n",
    "            iterations += 1\n",
    "    except TypeError as e:\n",
    "        logger.error(f\"error: {e}\")\n",
    "    curr_test = None\n",
    "    if flag:\n",
    "        logger.info(f\"Test-E4: Succeed\\n\")\n",
    "        return True, curr_test\n",
    "    else:\n",
    "        return False, curr_test"
   ]
  },
  {
   "cell_type": "code",
   "execution_count": 12,
   "metadata": {},
   "outputs": [
    {
     "name": "stderr",
     "output_type": "stream",
     "text": [
      "INFO:economic-test:Test-E4: Low staker will never get elected over high staker\n",
      "INFO:economic-test:current and last block numbers: 3470277, 3473407\n",
      "INFO:economic-test:second last block in current epoch reached, 3473406, wait for 6 seconds to reach the end of the block\n",
      "INFO:economic-test:begin collecting eligible validators...\n",
      "INFO:economic-test:first block of new epoch reached, 3473407, will begin checking all the elgible validators' election result...\n",
      "INFO:economic-test:Test-E4: Succeed\n",
      "\n"
     ]
    },
    {
     "data": {
      "text/plain": [
       "(True, None)"
      ]
     },
     "execution_count": 12,
     "metadata": {},
     "output_type": "execute_result"
    }
   ],
   "source": [
    "E4_test(True)"
   ]
  }
 ],
 "metadata": {
  "kernelspec": {
   "display_name": "Python 3",
   "language": "python",
   "name": "python3"
  },
  "language_info": {
   "codemirror_mode": {
    "name": "ipython",
    "version": 3
   },
   "file_extension": ".py",
   "mimetype": "text/x-python",
   "name": "python",
   "nbconvert_exporter": "python",
   "pygments_lexer": "ipython3",
   "version": "3.7.6"
  }
 },
 "nbformat": 4,
 "nbformat_minor": 2
}
