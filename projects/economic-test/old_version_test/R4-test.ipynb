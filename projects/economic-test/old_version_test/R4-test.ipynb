{
 "cells": [
  {
   "cell_type": "code",
   "execution_count": 11,
   "metadata": {},
   "outputs": [],
   "source": [
    "import json\n",
    "import pandas as pd\n",
    "import numpy as np\n",
    "import time\n",
    "import requests\n",
    "import logging"
   ]
  },
  {
   "cell_type": "code",
   "execution_count": 12,
   "metadata": {},
   "outputs": [],
   "source": [
    "logging.basicConfig(level=logging.INFO)\n",
    "logger = logging.getLogger(\"economic-test\")\n",
    "logger.setLevel(logging.INFO)"
   ]
  },
  {
   "cell_type": "code",
   "execution_count": 2,
   "metadata": {},
   "outputs": [],
   "source": [
    "def get_information(method, params):\n",
    "    url = 'https://api.s0.t.hmny.io/'\n",
    "    headers = {'Content-Type': 'application/json'}\n",
    "    data = {\"jsonrpc\":\"2.0\", \"method\": method, \"params\": params, \"id\":1}\n",
    "    r = requests.post(url, headers=headers, data = json.dumps(data))\n",
    "    content = json.loads(r.content)\n",
    "    return content"
   ]
  },
  {
   "cell_type": "code",
   "execution_count": 3,
   "metadata": {},
   "outputs": [],
   "source": [
    "def getBlockNumber():\n",
    "    method = \"hmy_blockNumber\"\n",
    "    params = []\n",
    "    num = get_information(method, params)['result']\n",
    "    return int(num, 16)"
   ]
  },
  {
   "cell_type": "code",
   "execution_count": 14,
   "metadata": {},
   "outputs": [],
   "source": [
    "def getLastBlockOfCurrentEpoch():\n",
    "    method = 'hmy_getStakingNetworkInfo'\n",
    "    params = []\n",
    "    return get_information(method, params)['result']['epoch-last-block']"
   ]
  },
  {
   "cell_type": "code",
   "execution_count": 15,
   "metadata": {},
   "outputs": [],
   "source": [
    "def getCurrentAndLastBlock():\n",
    "    block = getBlockNumber()\n",
    "    last_block = getLastBlockOfCurrentEpoch()\n",
    "    print(\"current and last block numbers\", block, last_block)\n",
    "    return block, last_block"
   ]
  },
  {
   "cell_type": "code",
   "execution_count": 4,
   "metadata": {},
   "outputs": [],
   "source": [
    "def getAllValidatorInformation():\n",
    "    method = 'hmy_getAllValidatorInformation'\n",
    "    params = [-1]\n",
    "    return get_information(method, params)['result'] "
   ]
  },
  {
   "cell_type": "code",
   "execution_count": 5,
   "metadata": {},
   "outputs": [],
   "source": [
    "def getValidatorAndDelegationRewards():\n",
    "    acc_rewards = dict()\n",
    "    delegations = dict()\n"
   ]
  },
  {
   "cell_type": "code",
   "execution_count": 16,
   "metadata": {},
   "outputs": [],
   "source": [
    "def R4_test(single):\n",
    "    logger.info(f\"Test-R4: Reward given out to delegators sums up to the total delegation reward for each validator\")\n",
    "    \n",
    "    block, last_block = getCurrentAndLastBlock()\n",
    "    logger.info(f\"current and last block numbers: {block}, {last_block}\")\n",
    "    if block == last_block or block + 1 == last_block:\n",
    "        logger.info(f\"current at the last block or last second block, wait until the 5th/6th block in the new epoch\")\n",
    "        while block < last_block+6:\n",
    "            block = getBlockNumber()\n",
    "    logger.info(f\"current block {block}, will begin collecting infos...\")\n",
    "    acc_rewards_prev = dict()\n",
    "    delegations_prev = dict()\n",
    "    validator_infos = getAllValidatorInformation()\n",
    "    for i in validator_infos:\n",
    "        if i['currently-in-committee'] == True:\n",
    "            address = i['validator']['address']\n",
    "            reward_accumulated = i['lifetime']['reward-accumulated']\n",
    "            acc_rewards_prev[address] = reward_accumulated\n",
    "            ds = i['validator']['delegations']\n",
    "            dels = dict()\n",
    "            for d in ds:\n",
    "                d_addr = d['delegator-address']\n",
    "                d_reward = d['reward']\n",
    "                dels[d_addr] = d_reward\n",
    "            delegations_prev[address] = dels  \n",
    "    next_block = block + 1\n",
    "    while block < next_block:\n",
    "        block = getBlockNumber()\n",
    "    logger.info(f\"new block reached, {block}, will begin testing...\")\n",
    "    flag = True\n",
    "    logger.info(f\"current block: {block}\")\n",
    "    # get the validator info and compute validator rewards\n",
    "    acc_rewards_curr = dict()\n",
    "    delegations_curr = dict()\n",
    "    validator_infos = getAllValidatorInformation()\n",
    "    for i in validator_infos:\n",
    "        if i['currently-in-committee'] == True:\n",
    "            address = i['validator']['address']\n",
    "            reward_accumulated = i['lifetime']['reward-accumulated']\n",
    "            acc_rewards_curr[address] = reward_accumulated\n",
    "            if address not in acc_rewards_prev:\n",
    "                continue\n",
    "            reward = reward_accumulated - acc_rewards_prev[address]\n",
    "            if reward == 0:\n",
    "                continue\n",
    "            del_rewards = 0\n",
    "            dels = delegations_prev[address]\n",
    "            ds = i['validator']['delegations']\n",
    "            for d in ds:\n",
    "                d_addr = d['delegator-address']\n",
    "                d_reward = d['reward']\n",
    "                del_rewards += d['reward']\n",
    "                if d_addr in dels:\n",
    "                    del_rewards -= dels[d_addr]\n",
    "            if format(del_rewards, '.20e') != format(reward, '.20e'):\n",
    "                logger.warning(f\"Test-R4:Fail\")\n",
    "                logger.warning(f\"for validator {address}, validator reward: {reward:.20e}, delegators reward: {del_rewards:.20e}\\n\")\n",
    "                flag = False\n",
    "    if single:\n",
    "        curr_test = None\n",
    "    else:       \n",
    "        curr_test = R5_test\n",
    "    if flag:\n",
    "        logger.info(f\"Test-R4: Succeed\\n\")\n",
    "        return True, curr_test\n",
    "    else:\n",
    "        return False, curr_test\n",
    "    "
   ]
  },
  {
   "cell_type": "code",
   "execution_count": 18,
   "metadata": {},
   "outputs": [
    {
     "name": "stderr",
     "output_type": "stream",
     "text": [
      "INFO:economic-test:Test-R4: Reward given out to delegators sums up to the total delegation reward for each validator\n",
      "INFO:economic-test:current and last block numbers: 3586553, 3588095\n",
      "INFO:economic-test:current block 3586553, will begin collecting infos...\n"
     ]
    },
    {
     "name": "stdout",
     "output_type": "stream",
     "text": [
      "current and last block numbers 3586553 3588095\n"
     ]
    },
    {
     "name": "stderr",
     "output_type": "stream",
     "text": [
      "INFO:economic-test:new block reached, 3586554, will begin testing...\n",
      "INFO:economic-test:current block: 3586554\n",
      "INFO:economic-test:Test-R4: Succeed\n",
      "\n"
     ]
    },
    {
     "data": {
      "text/plain": [
       "(True, None)"
      ]
     },
     "execution_count": 18,
     "metadata": {},
     "output_type": "execute_result"
    }
   ],
   "source": [
    "R4_test(True)"
   ]
  },
  {
   "cell_type": "code",
   "execution_count": null,
   "metadata": {},
   "outputs": [],
   "source": []
  }
 ],
 "metadata": {
  "kernelspec": {
   "display_name": "Python 3",
   "language": "python",
   "name": "python3"
  },
  "language_info": {
   "codemirror_mode": {
    "name": "ipython",
    "version": 3
   },
   "file_extension": ".py",
   "mimetype": "text/x-python",
   "name": "python",
   "nbconvert_exporter": "python",
   "pygments_lexer": "ipython3",
   "version": "3.7.6"
  }
 },
 "nbformat": 4,
 "nbformat_minor": 2
}
