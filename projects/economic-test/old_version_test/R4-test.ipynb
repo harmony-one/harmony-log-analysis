{
 "cells": [
  {
   "cell_type": "code",
   "execution_count": 1,
   "metadata": {},
   "outputs": [],
   "source": [
    "import json\n",
    "import pandas as pd\n",
    "import numpy as np\n",
    "import time\n",
    "import requests"
   ]
  },
  {
   "cell_type": "code",
   "execution_count": 2,
   "metadata": {},
   "outputs": [],
   "source": [
    "def get_information(method, params):\n",
    "    url = 'https://api.s0.os.hmny.io/'\n",
    "    headers = {'Content-Type': 'application/json'}\n",
    "    data = {\"jsonrpc\":\"2.0\", \"method\": method, \"params\": params, \"id\":1}\n",
    "    r = requests.post(url, headers=headers, data = json.dumps(data))\n",
    "    content = json.loads(r.content)\n",
    "    return content"
   ]
  },
  {
   "cell_type": "code",
   "execution_count": 3,
   "metadata": {},
   "outputs": [],
   "source": [
    "def getBlockNumber():\n",
    "    method = \"hmy_blockNumber\"\n",
    "    params = []\n",
    "    num = get_information(method, params)['result']\n",
    "    return int(num, 16)"
   ]
  },
  {
   "cell_type": "code",
   "execution_count": 4,
   "metadata": {},
   "outputs": [],
   "source": [
    "def getAllValidatorInformation():\n",
    "    method = 'hmy_getAllValidatorInformation'\n",
    "    params = [-1]\n",
    "    return get_information(method, params)['result'] "
   ]
  },
  {
   "cell_type": "code",
   "execution_count": 5,
   "metadata": {},
   "outputs": [],
   "source": [
    "def getValidatorAndDelegationRewards():\n",
    "    acc_rewards = dict()\n",
    "    delegations = dict()\n"
   ]
  },
  {
   "cell_type": "code",
   "execution_count": 6,
   "metadata": {},
   "outputs": [],
   "source": [
    "def R4_test():\n",
    "    print(\"Test-R4: Reward given out to delegators sums up to the total delegation reward for each validator\")\n",
    "    num = int(input(\"enter the number of blocks you want to test: \"))\n",
    "    \n",
    "    current_block = getBlockNumber()\n",
    "    next_block = current_block + 1\n",
    "    \n",
    "    acc_rewards_prev = dict()\n",
    "    delegations_prev = dict()\n",
    "    validator_infos = getAllValidatorInformation()\n",
    "    for i in validator_infos:\n",
    "        if i['currently-in-committee'] == True:\n",
    "            reward_accumulated = i['lifetime']['reward-accumulated']\n",
    "            acc_rewards_prev[address] = reward_accumulated\n",
    "            ds = i['validator']['delegations']\n",
    "            dels = dict()\n",
    "            for d in ds:\n",
    "                d_addr = d['delegator-address']\n",
    "                d_reward = d['reward']\n",
    "                dels[d_addr] = d_reward\n",
    "            delegations_prev[address] = dels  \n",
    "            \n",
    "    current_block = getBlockNumber()\n",
    "    while current_block < next_block:\n",
    "        current_block = getBlockNumber()\n",
    "    \n",
    "    iterations = 0\n",
    "    while iterations < num:\n",
    "        print(\"current block\", current_block)\n",
    "        # get the validator info and compute validator rewards\n",
    "        acc_rewards_curr = dict()\n",
    "        delegations_curr = dict()\n",
    "        validator_infos = getAllValidatorInformation()\n",
    "        for i in validator_infos:\n",
    "            if i['currently-in-committee'] == True:\n",
    "                address = i['validator']['address']\n",
    "                reward_accumulated = i['lifetime']['reward-accumulated']\n",
    "                acc_rewards_curr[address] = reward_accumulated\n",
    "                if address not in acc_rewards_prev:\n",
    "                    continue\n",
    "                reward = reward_accumulated - acc_rewards_prev[address]\n",
    "                if reward == 0:\n",
    "                    continue\n",
    "                elif reward < 0:\n",
    "                    reward = -reward # first time delegations\n",
    "                del_rewards = 0\n",
    "                dels = delegations_prev[address]\n",
    "                ds = i['validator']['delegations']\n",
    "                for d in ds:\n",
    "                    d_addr = d['delegator-address']\n",
    "                    d_reward = d['reward']\n",
    "                    del_rewards = del_rewards + d['reward']\n",
    "                    if d_addr in dels:\n",
    "                        del_rewards = del_rewards - dels[d_addr]\n",
    "                if del_rewards != reward:\n",
    "                    print(\"Test-R4 pass?\", (del_rewards == reward), \"for validator\", address, \\\n",
    "                        \"validator reward\", reward, \"delegators reward\", del_rewards)\n",
    "                delegations_curr[address] = ds\n",
    "        \n",
    "        last_block = current_block\n",
    "        current_block = getBlockNumber()\n",
    "        while current_block == last_block:\n",
    "            current_block = getBlockNumber()\n",
    "        \n",
    "        acc_rewards_prev = acc_rewards_curr\n",
    "        delegations_prev = delegations_curr\n",
    "        \n",
    "        iterations = iterations + 1\n",
    "    print(\"done!\")\n",
    "    "
   ]
  },
  {
   "cell_type": "code",
   "execution_count": 7,
   "metadata": {},
   "outputs": [
    {
     "name": "stdout",
     "output_type": "stream",
     "text": [
      "Test-R4: Reward given out to delegators sums up to the total delegation reward for each validator\n",
      "enter the number of blocks you want to test: 2\n",
      "current block 2199\n",
      "Test-R4 pass? False for validator one1marnnvc8hywmfxhrc8mtpjkvvdt32x9kxtwkvv validator reward 2245283018867926100 delegators reward 2245283018867926101\n",
      "Test-R4 pass? False for validator one1j6yxw3elz4yvx3dku46uxynkvxd43n0eg0p3pf validator reward 2245283018867924532 delegators reward 2245283018867924533\n",
      "current block 2200\n",
      "Test-R4 pass? False for validator one1tpxl87y4g8ecsm6ceqay49qxyl5vs94jjyfvd9 validator reward 12150943396226415200 delegators reward 12601652594389567871566\n",
      "Test-R4 pass? False for validator one1jl3p3huw0yzsnsnpdux3vjsy9v97rnxgp2gptu validator reward 3425531914893617032 delegators reward 3443703546325932942258\n",
      "Test-R4 pass? False for validator one1m6j80t6rhc3ypaumtsfmqwjwp0mrqk9ff50prh validator reward 2531914893617021248 delegators reward 3139201665911872100568\n",
      "Test-R4 pass? False for validator one1marnnvc8hywmfxhrc8mtpjkvvdt32x9kxtwkvv validator reward 2245283018867926100 delegators reward 3463810296661826534481\n",
      "Test-R4 pass? False for validator one1lsvf8fms0emzvw45eazx855cdjh6x467fa4ad8 validator reward 2531914893617021248 delegators reward 2642486522463320909376\n",
      "Test-R4 pass? False for validator one1k9577lnpfx7z76zslc6r8gdmsp5kqgpll7cpk9 validator reward 2531914893617021248 delegators reward 2541301263165946652532\n",
      "Test-R4 pass? False for validator one1k02f7xydtku7y49w5hure73h5kvnefqukdz77z validator reward 3037735849056603800 delegators reward 4693898257225715336848\n",
      "Test-R4 pass? False for validator one10jvjrtwpz2sux2ngktg3kq7m3sdz5p5au5l8c8 validator reward 3037735849056603800 delegators reward 3635887524590867102508\n",
      "Test-R4 pass? False for validator one1j6yxw3elz4yvx3dku46uxynkvxd43n0eg0p3pf validator reward 2245283018867924532 delegators reward 2693758423754306471644\n",
      "Test-R4 pass? False for validator one19cuygr776f7j9ep97hjm0np9ay6nus9w5msy0n validator reward 8050000000000000000 delegators reward 2641654178608979736160\n",
      "Test-R4 pass? False for validator one192upps337qfuxfqacv557ltzf8vpr5rqtesr66 validator reward 2531914893617021248 delegators reward 1583624483264759889369\n",
      "Test-R4 pass? False for validator one1ekup98s5tqxtr5hdzsz664cfy579jpq6w5smrr validator reward 3425531914893617032 delegators reward 1588381519032498868384\n",
      "Test-R4 pass? False for validator one18j26t2sx2japgv0se47yj8su3jgekxpw2t0xzu validator reward 2531914893617021248 delegators reward 964792096014597191628\n",
      "Test-R4 pass? False for validator one1syx0rmtttr8jehlxvnkpyx4hvrlevmcx3tcghy validator reward 3037735849056603800 delegators reward 515086543537871380824\n",
      "Test-R4 pass? False for validator one1ssvwcp4wwjlk0lwa9zru0r9aphsqcp6cyazczc validator reward 2245283018867924532 delegators reward 1509824099867134882715\n",
      "Test-R4 pass? False for validator one1urlepwspcfgws0qkf4z098m0n2clw6v3fzzu6y validator reward 5950000000000001736 delegators reward 1370325487603763038578\n",
      "Test-R4 pass? False for validator one1c9h3u72czs6sk755tjyse7x5t70m38ppnkx922 validator reward 5950000000000000000 delegators reward 1514592097848876335240\n",
      "Test-R4 pass? False for validator one1ueuzxz6knfpn6zvxdqq2r2q0qyqsdlaxmufr43 validator reward 8050000000000000000 delegators reward 1722664009214010285444\n",
      "Test-R4 pass? False for validator one1pevzlwxutrxwv64t6u0y9s6yanmwzfl9f7c4jk validator reward 2531914893617023264 delegators reward 737202644753888842480\n",
      "Test-R4 pass? False for validator one1hwn68w7m5g8daltvrjkmq23qn58nrvr3yz6ryt validator reward 3425531914893617032 delegators reward 853369572445472868828\n",
      "Test-R4 pass? False for validator one1w6ka9u0phcr2ux3d0sn0crkmmcly29pd653nhc validator reward 2531914893617021248 delegators reward 406437185813938692672\n",
      "done!\n"
     ]
    }
   ],
   "source": [
    "R4_test()"
   ]
  }
 ],
 "metadata": {
  "kernelspec": {
   "display_name": "Python 3",
   "language": "python",
   "name": "python3"
  },
  "language_info": {
   "codemirror_mode": {
    "name": "ipython",
    "version": 3
   },
   "file_extension": ".py",
   "mimetype": "text/x-python",
   "name": "python",
   "nbconvert_exporter": "python",
   "pygments_lexer": "ipython3",
   "version": "3.7.6"
  }
 },
 "nbformat": 4,
 "nbformat_minor": 2
}
