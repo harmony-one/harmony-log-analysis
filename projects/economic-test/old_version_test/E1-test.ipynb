{
 "cells": [
  {
   "cell_type": "code",
   "execution_count": 1,
   "metadata": {},
   "outputs": [],
   "source": [
    "import json\n",
    "import pandas as pd\n",
    "import numpy as np\n",
    "import os\n",
    "import time\n",
    "import requests\n",
    "import logging"
   ]
  },
  {
   "cell_type": "markdown",
   "metadata": {},
   "source": [
    "logic: \n",
    "1. first get the max number of external slots: 200\n",
    "2. then filter all the validators who are eligible to be selected next epoch; if the total number of validators is lower than 200, then every filtered validator should be elected next epoch; if total number is higher than 200, we need to first sort these validators based on their total delegations, and get the top 200 validators.\n",
    "3. wait for one epoch, to check whether those filtered validators are elected"
   ]
  },
  {
   "cell_type": "code",
   "execution_count": 2,
   "metadata": {},
   "outputs": [],
   "source": [
    "logging.basicConfig(level=logging.INFO)\n",
    "logger = logging.getLogger(\"economic-test\")\n",
    "logger.setLevel(logging.INFO)\n"
   ]
  },
  {
   "cell_type": "code",
   "execution_count": 3,
   "metadata": {},
   "outputs": [],
   "source": [
    "def get_information(method, params):\n",
    "    url = 'https://api.s0.t.hmny.io/'\n",
    "    headers = {'Content-Type': 'application/json'}\n",
    "    data = {\"jsonrpc\":\"2.0\", \"method\": method, \"params\": params, \"id\":1}\n",
    "    r = requests.post(url, headers=headers, data = json.dumps(data))\n",
    "    content = json.loads(r.content)\n",
    "    return content"
   ]
  },
  {
   "cell_type": "code",
   "execution_count": 4,
   "metadata": {},
   "outputs": [],
   "source": [
    "def getCommittees():\n",
    "    method = \"hmy_getSuperCommittees\"\n",
    "    params = []\n",
    "    return get_information(method, params)['result']['current']"
   ]
  },
  {
   "cell_type": "code",
   "execution_count": 5,
   "metadata": {},
   "outputs": [],
   "source": [
    "def getAllValidator():\n",
    "    method = 'hmy_getAllValidatorAddresses'\n",
    "    params = []\n",
    "    return get_information(method, params)['result'] "
   ]
  },
  {
   "cell_type": "code",
   "execution_count": 6,
   "metadata": {},
   "outputs": [],
   "source": [
    "def getValidatorInfo(validator):\n",
    "    method = \"hmy_getValidatorInformation\"\n",
    "    params = [validator]\n",
    "    return get_information(method, params)['result']"
   ]
  },
  {
   "cell_type": "code",
   "execution_count": 7,
   "metadata": {},
   "outputs": [],
   "source": [
    "def getEpoch():\n",
    "    method = \"hmy_getEpoch\"\n",
    "    params = []\n",
    "    epoch = get_information(method, params)['result']\n",
    "    return int(epoch, 16)"
   ]
  },
  {
   "cell_type": "code",
   "execution_count": 8,
   "metadata": {},
   "outputs": [],
   "source": [
    "def getBlockNumber():\n",
    "    method = \"hmy_blockNumber\"\n",
    "    params = []\n",
    "    num = get_information(method, params)['result']\n",
    "    return int(num, 16)"
   ]
  },
  {
   "cell_type": "code",
   "execution_count": 9,
   "metadata": {},
   "outputs": [],
   "source": [
    "def getLastBlockOfCurrentEpoch():\n",
    "    method = 'hmy_getStakingNetworkInfo'\n",
    "    params = []\n",
    "    return get_information(method, params)['result']['epoch-last-block']"
   ]
  },
  {
   "cell_type": "code",
   "execution_count": 10,
   "metadata": {},
   "outputs": [],
   "source": [
    "def getCurrentAndLastBlock():\n",
    "    block = getBlockNumber()\n",
    "    last_block = getLastBlockOfCurrentEpoch()\n",
    "    print(\"current and last block numbers\", block, last_block)\n",
    "    return block, last_block"
   ]
  },
  {
   "cell_type": "code",
   "execution_count": 11,
   "metadata": {},
   "outputs": [],
   "source": [
    "def getAllValidatorInformation():\n",
    "    method = 'hmy_getAllValidatorInformation'\n",
    "    params = [-1]\n",
    "    return get_information(method, params)['result']"
   ]
  },
  {
   "cell_type": "code",
   "execution_count": 12,
   "metadata": {},
   "outputs": [],
   "source": [
    "def getEligibleValidator():\n",
    "    eligible = []\n",
    "    validator_infos = getAllValidatorInformation()\n",
    "    for i in validator_infos:\n",
    "        if i['epos-status'] == 'currently elected' or i['epos-status'] == 'eligible to be elected next epoch':\n",
    "            address = i['validator']['address']\n",
    "            eligible.append(address)\n",
    "    return eligible"
   ]
  },
  {
   "cell_type": "code",
   "execution_count": 13,
   "metadata": {},
   "outputs": [],
   "source": [
    "def E1_test():\n",
    "    global curr_test\n",
    "    logging.info(f\"Test-E1: A staked validator whose stake is in the top #slots stakes is always considered for election\")\n",
    "    try:\n",
    "        committees = getCommittees()\n",
    "        slot = committees['external-slot-count']\n",
    "        block, last_block = getCurrentAndLastBlock()\n",
    "        if block == last_block:\n",
    "            logger.info(f\"current block is the last block in epoch, waiting for the new epoch...\")\n",
    "            new_block = block+1\n",
    "            while block < new_block:\n",
    "                block = getBlockNumber()\n",
    "            block, last_block = getCurrentAndLastBlock()\n",
    "        logger.info(f\"current block, {block}, begin collecting eligible validators...\")\n",
    "        # get top #slots nodes who are eligible to elected next epoch\n",
    "        validator_infos = getAllValidatorInformation()\n",
    "        eligible = []\n",
    "        stake = dict()\n",
    "        for i in validator_infos:\n",
    "            if i['epos-status'] == 'currently elected' or i['epos-status'] == 'eligible to be elected next epoch':\n",
    "                address = i['validator']['address']\n",
    "                eligible.append(address)\n",
    "                stake[address] = i['total-delegation']\n",
    "\n",
    "        if len(eligible) > slot:\n",
    "            sorted_stake = sorted(stake.items(), key=lambda kv: kv[1], reverse = True)\n",
    "            eligible = [kv[0] for kv in sorted_stake[:slot]]\n",
    "\n",
    "        # wait for epoch changes\n",
    "        while block < last_block+1:\n",
    "            block = getBlockNumber()\n",
    "        logger.info(f\"first block in new epoch reached, {block}, will wait for 5 seconds to begin testing...\")\n",
    "        time.sleep(5)\n",
    "        # check whether the eligible validators are selected\n",
    "        validator_infos = getAllValidatorInformation()\n",
    "        flag = True\n",
    "        for i in validator_infos:\n",
    "            if i in eligible:  \n",
    "                if i['epos-status'] != 'currently elected':\n",
    "                    logger.warning(f\"Test E1: Fail\")\n",
    "                    logger.warning(f\"validator {i['validator']['address']} who is eligible to be elected is not elected\")\n",
    "                    flag = False\n",
    "    except TypeError as e:\n",
    "        logger.error(f\"error: {e}\")\n",
    "    if flag:\n",
    "        logger.info(f\"Test E1: Succeed\")\n",
    "        return True\n",
    "    else:\n",
    "        return False"
   ]
  },
  {
   "cell_type": "code",
   "execution_count": null,
   "metadata": {},
   "outputs": [
    {
     "name": "stderr",
     "output_type": "stream",
     "text": [
      "INFO:root:Test-E1: A staked validator whose stake is in the top #slots stakes is always considered for election\n",
      "INFO:economic-test:current block, 3462568, begin collecting eligible validators...\n"
     ]
    },
    {
     "name": "stdout",
     "output_type": "stream",
     "text": [
      "current and last block numbers 3462568 3473407\n"
     ]
    }
   ],
   "source": [
    "E1_test()"
   ]
  }
 ],
 "metadata": {
  "kernelspec": {
   "display_name": "Python 3",
   "language": "python",
   "name": "python3"
  },
  "language_info": {
   "codemirror_mode": {
    "name": "ipython",
    "version": 3
   },
   "file_extension": ".py",
   "mimetype": "text/x-python",
   "name": "python",
   "nbconvert_exporter": "python",
   "pygments_lexer": "ipython3",
   "version": "3.7.6"
  }
 },
 "nbformat": 4,
 "nbformat_minor": 2
}
