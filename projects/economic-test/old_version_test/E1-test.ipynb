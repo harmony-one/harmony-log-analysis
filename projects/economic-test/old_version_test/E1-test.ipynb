{
 "cells": [
  {
   "cell_type": "code",
   "execution_count": 11,
   "metadata": {},
   "outputs": [],
   "source": [
    "import json\n",
    "import pandas as pd\n",
    "import numpy as np\n",
    "import os\n",
    "import time\n",
    "import requests\n",
    "import logging"
   ]
  },
  {
   "cell_type": "markdown",
   "metadata": {},
   "source": [
    "logic: \n",
    "1. first get the max number of external slots: 200\n",
    "2. then filter all the validators who are eligible to be selected next epoch; if the total number of validators is lower than 200, then every filtered validator should be elected next epoch; if total number is higher than 200, we need to first sort these validators based on their total delegations, and get the top 200 validators.\n",
    "3. wait for one epoch, to check whether those filtered validators are elected"
   ]
  },
  {
   "cell_type": "code",
   "execution_count": 26,
   "metadata": {},
   "outputs": [],
   "source": [
    "logger = logging.getLogger(\"economic-test\")\n",
    "logger.setLevel(logging.INFO)\n"
   ]
  },
  {
   "cell_type": "code",
   "execution_count": 27,
   "metadata": {},
   "outputs": [],
   "source": [
    "def get_information(method, params):\n",
    "    url = 'https://api.s0.os.hmny.io/'\n",
    "    headers = {'Content-Type': 'application/json'}\n",
    "    data = {\"jsonrpc\":\"2.0\", \"method\": method, \"params\": params, \"id\":1}\n",
    "    r = requests.post(url, headers=headers, data = json.dumps(data))\n",
    "    content = json.loads(r.content)\n",
    "    return content"
   ]
  },
  {
   "cell_type": "code",
   "execution_count": 28,
   "metadata": {},
   "outputs": [],
   "source": [
    "def getCommittees():\n",
    "    method = \"hmy_getSuperCommittees\"\n",
    "    params = []\n",
    "    return get_information(method, params)['result']['current']"
   ]
  },
  {
   "cell_type": "code",
   "execution_count": 29,
   "metadata": {},
   "outputs": [],
   "source": [
    "def getAllValidator():\n",
    "    method = 'hmy_getAllValidatorAddresses'\n",
    "    params = []\n",
    "    return get_information(method, params)['result'] "
   ]
  },
  {
   "cell_type": "code",
   "execution_count": 30,
   "metadata": {},
   "outputs": [],
   "source": [
    "def getValidatorInfo(validator):\n",
    "    method = \"hmy_getValidatorInformation\"\n",
    "    params = [validator]\n",
    "    return get_information(method, params)['result']"
   ]
  },
  {
   "cell_type": "code",
   "execution_count": 31,
   "metadata": {},
   "outputs": [],
   "source": [
    "def getEpoch():\n",
    "    method = \"hmy_getEpoch\"\n",
    "    params = []\n",
    "    epoch = get_information(method, params)['result']\n",
    "    return int(epoch, 16)"
   ]
  },
  {
   "cell_type": "code",
   "execution_count": 32,
   "metadata": {},
   "outputs": [],
   "source": [
    "def getBlockNumber():\n",
    "    method = \"hmy_blockNumber\"\n",
    "    params = []\n",
    "    num = get_information(method, params)['result']\n",
    "    return int(num, 16)"
   ]
  },
  {
   "cell_type": "code",
   "execution_count": 40,
   "metadata": {},
   "outputs": [],
   "source": [
    "def getLastBlockOfCurrentEpoch():\n",
    "    method = 'hmy_getStakingNetworkInfo'\n",
    "    params = []\n",
    "    return get_information(method, params)['result']['epoch-last-block']"
   ]
  },
  {
   "cell_type": "code",
   "execution_count": 41,
   "metadata": {},
   "outputs": [],
   "source": [
    "def getCurrentAndLastBlock():\n",
    "    block = getBlockNumber()\n",
    "    last_block = getLastBlockOfCurrentEpoch()\n",
    "    print(\"current and last block numbers\", block, last_block)\n",
    "    return block, last_block"
   ]
  },
  {
   "cell_type": "code",
   "execution_count": 33,
   "metadata": {},
   "outputs": [],
   "source": [
    "def getAllValidatorInformation():\n",
    "    method = 'hmy_getAllValidatorInformation'\n",
    "    params = [-1]\n",
    "    return get_information(method, params)['result']"
   ]
  },
  {
   "cell_type": "code",
   "execution_count": 34,
   "metadata": {},
   "outputs": [],
   "source": [
    "def getEligibleValidator():\n",
    "    eligible = []\n",
    "    validator_infos = getAllValidatorInformation()\n",
    "    for i in validator_infos:\n",
    "        if i['epos-status'] == 'currently elected' or i['epos-status'] == 'eligible to be elected next epoch':\n",
    "            address = i['validator']['address']\n",
    "            eligible.append(address)\n",
    "    return eligible"
   ]
  },
  {
   "cell_type": "code",
   "execution_count": 43,
   "metadata": {},
   "outputs": [],
   "source": [
    "def E1_test():\n",
    "    global curr_test\n",
    "    logging.info(f\"Test-E1: A staked validator whose stake is in the top #slots stakes is always considered for election\")\n",
    "    try:\n",
    "        committees = getCommittees()\n",
    "        slot = committees['external-slot-count']\n",
    "        block, last_block = getCurrentAndLastBlock()\n",
    "        if block == last_block:\n",
    "            logger.info(f\"current block is the last block in epoch, waiting for the new epoch...\")\n",
    "            new_block = block+1\n",
    "            while block < new_block:\n",
    "                block = getBlockNumber()\n",
    "            block, last_block = getCurrentAndLastBlock()\n",
    "        logger.info(f\"current block, {block}, begin collecting eligible validators...\")\n",
    "        # get top #slots nodes who are eligible to elected next epoch\n",
    "        validator_infos = getAllValidatorInformation()\n",
    "        eligible = []\n",
    "        stake = dict()\n",
    "        for i in validator_infos:\n",
    "            if i['epos-status'] == 'currently elected' or i['epos-status'] == 'eligible to be elected next epoch':\n",
    "                address = i['validator']['address']\n",
    "                eligible.append(address)\n",
    "                stake[address] = i['total-delegation']\n",
    "\n",
    "        if len(eligible) > slot:\n",
    "            sorted_stake = sorted(stake.items(), key=lambda kv: kv[1], reverse = True)\n",
    "            eligible = [kv[0] for kv in sorted_stake[:slot]]\n",
    "\n",
    "        # wait for epoch changes\n",
    "        while block < last_block+1:\n",
    "            block = getBlockNumber()\n",
    "        logger.info(f\"first block in new epoch reached, {block}, will wait for 5 seconds to begin testing...\")\n",
    "        time.sleep(5)\n",
    "        # check whether the eligible validators are selected\n",
    "        validator_infos = getAllValidatorInformation()\n",
    "        flag = True\n",
    "        for i in validator_infos:\n",
    "            if i in eligible:  \n",
    "                if i['epos-status'] != 'currently elected':\n",
    "                    logger.warning(f\"Test E1: Fail\")\n",
    "                    logger.warning(f\"validator {i['validator']['address']} who is eligible to be elected is not elected\")\n",
    "                    flag = False\n",
    "    except TypeError as e:\n",
    "        logger.error(f\"error: {e}\")\n",
    "    if flag:\n",
    "        logger.info(f\"Test E1: Succeed\")\n",
    "        return True\n",
    "    else:\n",
    "        return False"
   ]
  },
  {
   "cell_type": "code",
   "execution_count": 44,
   "metadata": {},
   "outputs": [
    {
     "name": "stderr",
     "output_type": "stream",
     "text": [
      "2020-04-11 00:46:38,953:Test-E1: A staked validator whose stake is in the top #slots stakes is always considered for election\n",
      "2020-04-11 00:46:39,556:current block, 8382, begin collecting eligible validators...\n"
     ]
    },
    {
     "name": "stdout",
     "output_type": "stream",
     "text": [
      "current and last block numbers 8382 8397\n"
     ]
    },
    {
     "name": "stderr",
     "output_type": "stream",
     "text": [
      "2020-04-11 00:48:40,668:first block in new epoch reached, 8398, will wait for 5 seconds to begin testing...\n",
      "2020-04-11 00:48:46,112:Test E1: Succeed\n"
     ]
    },
    {
     "data": {
      "text/plain": [
       "True"
      ]
     },
     "execution_count": 44,
     "metadata": {},
     "output_type": "execute_result"
    }
   ],
   "source": [
    "E1_test()"
   ]
  },
  {
   "cell_type": "markdown",
   "metadata": {},
   "source": [
    "the info of the exceptions: "
   ]
  },
  {
   "cell_type": "code",
   "execution_count": 9,
   "metadata": {},
   "outputs": [
    {
     "data": {
      "text/plain": [
       "{'validator': {'bls-public-keys': ['2eba33b81d0aacb22e793625077d0c57dd6d38d753bbf39dc720dea0f4a5c056c81d8967a99c2cf1811d0327b049ab16',\n",
       "   '394d726edbb908fa71bdb2b417dd0fe7c77d9f86b3a0b1e1b51d11e26dd1cddb4e21269c3e1d08e75d43ec98ff4ca582',\n",
       "   '73ac6379c785142d46bf8423469639fa1dfb9e416e97206cff2c07522a18999a54faaf9cbcad1e34a6c2dc770224848e',\n",
       "   'b682337f407ec929e7cc18e5103da8a038d63118990b9d8124b31836d8b394a695f16d88b6a32b2543b1dcaaba99a582'],\n",
       "  'last-epoch-in-committee': 0,\n",
       "  'min-self-delegation': 322222000000000000000000,\n",
       "  'max-total-delegation': 10000000000000000000000000,\n",
       "  'rate': '0.030000000000000000',\n",
       "  'max-rate': '0.700000000000000000',\n",
       "  'max-change-rate': '0.030000000000000000',\n",
       "  'update-height': 1014,\n",
       "  'name': 'leo-s2',\n",
       "  'identity': 'leo-sentry-s2',\n",
       "  'website': 'https://sentry2.leochen.net',\n",
       "  'security-contact': 'sentrys2@leochen.net',\n",
       "  'details': 'sentry node of leo chen, shard2',\n",
       "  'creation-height': 1014,\n",
       "  'address': 'one164e2dwupqxd7ssr85ncnkx3quk7fexy0eta2vy',\n",
       "  'delegations': [{'delegator-address': 'one164e2dwupqxd7ssr85ncnkx3quk7fexy0eta2vy',\n",
       "    'amount': 2166666000000000000000000,\n",
       "    'reward': 0,\n",
       "    'undelegations': []}]},\n",
       " 'current-epoch-performance': None,\n",
       " 'metrics': None,\n",
       " 'total-delegation': 2166666000000000000000000,\n",
       " 'currently-in-committee': False,\n",
       " 'epos-status': 'eligible to be elected next epoch',\n",
       " 'lifetime': {'reward-accumulated': 0,\n",
       "  'blocks': {'to-sign': 0, 'signed': 0},\n",
       "  'apr': '0.000000000000000000'}}"
      ]
     },
     "execution_count": 9,
     "metadata": {},
     "output_type": "execute_result"
    }
   ],
   "source": [
    "i = 'one164e2dwupqxd7ssr85ncnkx3quk7fexy0eta2vy'\n",
    "info = getValidatorInfo(i)\n",
    "info"
   ]
  },
  {
   "cell_type": "code",
   "execution_count": 10,
   "metadata": {},
   "outputs": [
    {
     "data": {
      "text/plain": [
       "{'validator': {'bls-public-keys': ['4db5eeb4ff5379f7ba51d522fb17a07571cf427fae86cab31e9927e5048339d7a3c40941b1ce485f75f750aabbf69d82'],\n",
       "  'last-epoch-in-committee': 0,\n",
       "  'min-self-delegation': 10000000000000000000000,\n",
       "  'max-total-delegation': 100000000000000000000000,\n",
       "  'rate': '0.100000000000000000',\n",
       "  'max-rate': '0.100000000000000000',\n",
       "  'max-change-rate': '0.100000000000000000',\n",
       "  'update-height': 25363,\n",
       "  'name': 'Yishuang-2',\n",
       "  'identity': 'Yishuang sentry',\n",
       "  'website': 'yishuang@harmony.one',\n",
       "  'security-contact': 'shuang',\n",
       "  'details': 'Yishuang’s second validator',\n",
       "  'creation-height': 25363,\n",
       "  'address': 'one12mx7ssutgvd243g5vpvefl5sf6vttqkq5z3x04',\n",
       "  'delegations': [{'delegator-address': 'one12mx7ssutgvd243g5vpvefl5sf6vttqkq5z3x04',\n",
       "    'amount': 10000000000000000000000,\n",
       "    'reward': 0,\n",
       "    'undelegations': []}]},\n",
       " 'current-epoch-performance': None,\n",
       " 'metrics': None,\n",
       " 'total-delegation': 10000000000000000000000,\n",
       " 'currently-in-committee': False,\n",
       " 'epos-status': 'eligible to be elected next epoch',\n",
       " 'lifetime': {'reward-accumulated': 0,\n",
       "  'blocks': {'to-sign': 0, 'signed': 0},\n",
       "  'apr': '0.000000000000000000'}}"
      ]
     },
     "execution_count": 10,
     "metadata": {},
     "output_type": "execute_result"
    }
   ],
   "source": [
    "i = 'one12mx7ssutgvd243g5vpvefl5sf6vttqkq5z3x04'\n",
    "info = getValidatorInfo(i)\n",
    "info"
   ]
  }
 ],
 "metadata": {
  "kernelspec": {
   "display_name": "Python 3",
   "language": "python",
   "name": "python3"
  },
  "language_info": {
   "codemirror_mode": {
    "name": "ipython",
    "version": 3
   },
   "file_extension": ".py",
   "mimetype": "text/x-python",
   "name": "python",
   "nbconvert_exporter": "python",
   "pygments_lexer": "ipython3",
   "version": "3.7.6"
  }
 },
 "nbformat": 4,
 "nbformat_minor": 2
}
