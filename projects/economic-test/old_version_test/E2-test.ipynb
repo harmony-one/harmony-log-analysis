{
 "cells": [
  {
   "cell_type": "code",
   "execution_count": 1,
   "metadata": {},
   "outputs": [],
   "source": [
    "import json\n",
    "import pandas as pd\n",
    "import numpy as np\n",
    "import time\n",
    "import requests\n",
    "import logging"
   ]
  },
  {
   "cell_type": "markdown",
   "metadata": {},
   "source": [
    "At the first block of every epoch\n",
    "- Get the list of elected validators (elected_list)\n",
    "- Get the stakes of validators who were not eligible for election in the last epoch (last block)\n",
    "- Check if any of these validators present in elected_list\n",
    "\n",
    "(note: election happen in the last block, however the epos-status changed in the first block)"
   ]
  },
  {
   "cell_type": "code",
   "execution_count": 2,
   "metadata": {},
   "outputs": [],
   "source": [
    "logging.basicConfig(level=logging.INFO)\n",
    "logger = logging.getLogger(\"economic-test\")\n",
    "logger.setLevel(logging.INFO)"
   ]
  },
  {
   "cell_type": "code",
   "execution_count": 3,
   "metadata": {},
   "outputs": [],
   "source": [
    "def get_information(method, params):\n",
    "    url = 'https://api.s0.t.hmny.io/'\n",
    "    headers = {'Content-Type': 'application/json'}\n",
    "    data = {\"jsonrpc\":\"2.0\", \"method\": method, \"params\": params, \"id\":1}\n",
    "    r = requests.post(url, headers=headers, data = json.dumps(data))\n",
    "    content = json.loads(r.content)\n",
    "    return content"
   ]
  },
  {
   "cell_type": "code",
   "execution_count": 4,
   "metadata": {},
   "outputs": [],
   "source": [
    "def getBlockNumber():\n",
    "    method = \"hmy_blockNumber\"\n",
    "    params = []\n",
    "    num = get_information(method, params)['result']\n",
    "    return int(num, 16)"
   ]
  },
  {
   "cell_type": "code",
   "execution_count": 5,
   "metadata": {},
   "outputs": [],
   "source": [
    "def getLastBlockOfCurrentEpoch():\n",
    "    method = 'hmy_getStakingNetworkInfo'\n",
    "    params = []\n",
    "    return get_information(method, params)['result']['epoch-last-block']"
   ]
  },
  {
   "cell_type": "code",
   "execution_count": 6,
   "metadata": {},
   "outputs": [],
   "source": [
    "def getCurrentAndLastBlock():\n",
    "    block = getBlockNumber()\n",
    "    last_block = getLastBlockOfCurrentEpoch()\n",
    "    return block, last_block"
   ]
  },
  {
   "cell_type": "code",
   "execution_count": 7,
   "metadata": {},
   "outputs": [],
   "source": [
    "def getAllElectedValidator():\n",
    "    method = \"hmy_getElectedValidatorAddresses\"\n",
    "    params =[]\n",
    "    return get_information(method, params)['result']"
   ]
  },
  {
   "cell_type": "code",
   "execution_count": 8,
   "metadata": {},
   "outputs": [],
   "source": [
    "def getAllValidatorInformation():\n",
    "    method = 'hmy_getAllValidatorInformation'\n",
    "    params = [0]\n",
    "    return get_information(method, params)['result'] "
   ]
  },
  {
   "cell_type": "code",
   "execution_count": 9,
   "metadata": {},
   "outputs": [],
   "source": [
    "def getEligibleValidator():\n",
    "    eligible = []\n",
    "    validator_infos = getAllValidatorInformation()\n",
    "    for i in validator_infos:\n",
    "        if i['epos-status'] == 'currently elected' or i['epos-status'] == 'eligible to be elected next epoch':\n",
    "            address = i['validator']['address']\n",
    "            eligible.append(address)\n",
    "    return eligible"
   ]
  },
  {
   "cell_type": "code",
   "execution_count": 10,
   "metadata": {},
   "outputs": [],
   "source": [
    "def E2_test(single):\n",
    "    logger.info(f\"Test-E2: Joining after the election start must not consider the validator\")\n",
    "    if single:\n",
    "        curr_test = None\n",
    "    else:\n",
    "        curr_test = E3_test\n",
    "    flag = True\n",
    "    num = 1\n",
    "    iterations = 0\n",
    "    new_count = 0\n",
    "    try:\n",
    "        while iterations < num:\n",
    "            # get the last block in current epoch\n",
    "            block, last_block = getCurrentAndLastBlock()\n",
    "            logger.info(f\"current and last block numbers: {block}, {last_block}\")\n",
    "            logger.info(f\"wait for the last second block ...\")\n",
    "            while block < last_block - 1:\n",
    "                block = getBlockNumber()\n",
    "            logger.info(f\"last second block in the current epoch reached {block} will begin collecting existing eligible validators after 5 seconds\")\n",
    "            time.sleep(5)\n",
    "            eligible_old = getEligibleValidator()\n",
    "\n",
    "            while block < last_block:\n",
    "                block = getBlockNumber()\n",
    "            logger.info(f\"last block in the current epoch reached {block} will begin collecting new eligible validators after 5 seconds\")\n",
    "            time.sleep(5)\n",
    "            eligible_current = getEligibleValidator()\n",
    "\n",
    "            logger.info(f\"checking whether we have validators who set their status active after election starts\")\n",
    "            eligible_new = set(eligible_current) - set(eligible_old)\n",
    "            if not eligible_new:\n",
    "                logger.info(f\"no validator joined after the election start in current test\")\n",
    "            else:\n",
    "                new_count += 1\n",
    "                while block < last_block + 1:\n",
    "                    block = getBlockNumber()\n",
    "                logger.info(f\"first block in the current epoch reached {block} will wait for 5 seconds to begin collecting elected infos\")\n",
    "                time.sleep(3)\n",
    "                logger.info(f\"begin checking validators who joined after the election was elected...\")\n",
    "                validators = getAllValidatorInformation()\n",
    "                for i in validators:\n",
    "                    if i['validator']['address'] in eligible_new:\n",
    "                        if i['currently-in-committee']:\n",
    "                            logger.warning(f\"Test-E2: Fail\")\n",
    "                            logger.warning(f\"Validator  {i} joining after the election was considered for election\\n\")\n",
    "                            flag = False\n",
    "            iterations += 1\n",
    "    except TypeError as e:\n",
    "        logger.error(f\"error: {e}\")\n",
    "    if new_count == 0:\n",
    "        logger.info(f\"Test-E2: No validator joined after the election in all tests, need more tests\\n\")\n",
    "        return \"Need More Tests\", curr_test\n",
    "    if flag:\n",
    "        logger.info(f\"Test-E2: Succeed\\n\")\n",
    "        return True, curr_test\n",
    "    else:\n",
    "        return False, curr_test"
   ]
  },
  {
   "cell_type": "code",
   "execution_count": 11,
   "metadata": {},
   "outputs": [
    {
     "name": "stderr",
     "output_type": "stream",
     "text": [
      "INFO:economic-test:Test-E2: Joining after the election start must not consider the validator\n",
      "INFO:economic-test:current and last block numbers: 3470276, 3473407\n",
      "INFO:economic-test:wait for the last second block ...\n",
      "INFO:economic-test:last second block in the current epoch reached 3473406 will begin collecting existing eligible validators after 5 seconds\n",
      "INFO:economic-test:last block in the current epoch reached 3473407 will begin collecting new eligible validators after 5 seconds\n",
      "INFO:economic-test:checking whether we have validators who set their status active after election starts\n",
      "INFO:economic-test:no validator joined after the election start in current test\n",
      "INFO:economic-test:Test-E2: No validator joined after the election in all tests, need more tests\n",
      "\n"
     ]
    },
    {
     "data": {
      "text/plain": [
       "('Need More Tests', None)"
      ]
     },
     "execution_count": 11,
     "metadata": {},
     "output_type": "execute_result"
    }
   ],
   "source": [
    "E2_test(True)"
   ]
  }
 ],
 "metadata": {
  "kernelspec": {
   "display_name": "Python 3",
   "language": "python",
   "name": "python3"
  },
  "language_info": {
   "codemirror_mode": {
    "name": "ipython",
    "version": 3
   },
   "file_extension": ".py",
   "mimetype": "text/x-python",
   "name": "python",
   "nbconvert_exporter": "python",
   "pygments_lexer": "ipython3",
   "version": "3.7.6"
  }
 },
 "nbformat": 4,
 "nbformat_minor": 2
}
