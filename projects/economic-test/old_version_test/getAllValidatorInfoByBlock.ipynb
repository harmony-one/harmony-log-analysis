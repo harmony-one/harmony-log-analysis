{
 "cells": [
  {
   "cell_type": "code",
   "execution_count": 1,
   "metadata": {},
   "outputs": [],
   "source": [
    "import json\n",
    "import pandas as pd\n",
    "import numpy as np\n",
    "import time\n",
    "import requests\n",
    "import logging\n",
    "from collections import defaultdict"
   ]
  },
  {
   "cell_type": "code",
   "execution_count": 2,
   "metadata": {},
   "outputs": [],
   "source": [
    "logging.basicConfig(level=logging.INFO)\n",
    "logger = logging.getLogger(\"economic-test\")\n",
    "logger.setLevel(logging.INFO)"
   ]
  },
  {
   "cell_type": "code",
   "execution_count": 7,
   "metadata": {},
   "outputs": [],
   "source": [
    "def get_information(method, params):\n",
    "#     url = 'https://api.s0.os.hmny.io/'\n",
    "    url = 'https://api.s0.dry.hmny.io/'\n",
    "    headers = {'Content-Type': 'application/json'}\n",
    "    data = {\"jsonrpc\":\"2.0\", \"method\": method, \"params\": params, \"id\":1}\n",
    "    r = requests.post(url, headers=headers, data = json.dumps(data))\n",
    "    content = json.loads(r.content)\n",
    "    return content"
   ]
  },
  {
   "cell_type": "code",
   "execution_count": 18,
   "metadata": {},
   "outputs": [],
   "source": [
    "def getBlockNumber():\n",
    "    method = \"hmy_blockNumber\"\n",
    "    params = []\n",
    "    num = get_information(method, params)['result']\n",
    "    return int(num, 16)"
   ]
  },
  {
   "cell_type": "code",
   "execution_count": 19,
   "metadata": {},
   "outputs": [],
   "source": [
    "def getLastBlockOfCurrentEpoch():\n",
    "    method = 'hmy_getStakingNetworkInfo'\n",
    "    params = []\n",
    "    return get_information(method, params)['result']['epoch-last-block']"
   ]
  },
  {
   "cell_type": "code",
   "execution_count": 20,
   "metadata": {},
   "outputs": [],
   "source": [
    "def getCurrentAndLastBlock():\n",
    "    block = getBlockNumber()\n",
    "    last_block = getLastBlockOfCurrentEpoch()\n",
    "    print(\"current and last block numbers\", block, last_block)\n",
    "    return block, last_block"
   ]
  },
  {
   "cell_type": "code",
   "execution_count": 13,
   "metadata": {},
   "outputs": [],
   "source": [
    "def getAllValidatorInformation():\n",
    "    method = 'hmy_getAllValidatorInformation'\n",
    "    params = [-1]\n",
    "    return get_information(method, params)['result'] "
   ]
  },
  {
   "cell_type": "code",
   "execution_count": 15,
   "metadata": {},
   "outputs": [],
   "source": [
    "def getAllValidatorAddress():\n",
    "    method = 'hmy_getAllValidatorAddresses'\n",
    "    params = []\n",
    "    return get_information(method, params)['result'] "
   ]
  },
  {
   "cell_type": "code",
   "execution_count": 10,
   "metadata": {},
   "outputs": [],
   "source": [
    "def getAllValidatorInformationByBlockNumber(block):\n",
    "    method = 'hmy_getAllValidatorInformationByBlockNumber'\n",
    "    params = [-1, hex(block)]\n",
    "    return get_information(method, params)"
   ]
  },
  {
   "cell_type": "code",
   "execution_count": 24,
   "metadata": {},
   "outputs": [
    {
     "data": {
      "text/plain": [
       "{'jsonrpc': '2.0',\n",
       " 'id': 1,\n",
       " 'error': {'code': -32000,\n",
       "  'message': 'not found address in current state one103q7qe5t2505lypvltkqtddaef5tzfxwsse4z7: at root: 0x78879100befdb7a6be5eaa4609ff259057f93e18b747095823cb6b8f495557a2: address not present in state'}}"
      ]
     },
     "execution_count": 24,
     "metadata": {},
     "output_type": "execute_result"
    }
   ],
   "source": [
    "getAllValidatorInformationByBlockNumber(3221588)"
   ]
  },
  {
   "cell_type": "code",
   "execution_count": 16,
   "metadata": {},
   "outputs": [
    {
     "data": {
      "text/plain": [
       "['one1tpxl87y4g8ecsm6ceqay49qxyl5vs94jjyfvd9',\n",
       " 'one103q7qe5t2505lypvltkqtddaef5tzfxwsse4z7',\n",
       " 'one18vn078vyp5jafma8q7kek6w0resrgex9yufqws',\n",
       " 'one1sgcpjc405ueglhp5udsskjxcn8crrc2lmuf35c',\n",
       " 'one1km7xg8e3xjys7azp9f4xp8hkw79vm2h3f2lade',\n",
       " 'one1gjsxmewzws9mt3fn65jmdhr3e4hel9xza8wd6t',\n",
       " 'one1fd094898rfktel7rezmk65zql3cjzhw9zgxcff',\n",
       " 'one14xg2cxw3nyll6laws2xc9zfql3cd3ww2yl5vut',\n",
       " 'one1nlptlw8srthgljachm4w5rgv8ulvkt3cgk4uqq',\n",
       " 'one16295hjtqyr0z22swaqthv7mvmvn2gltnj5gera']"
      ]
     },
     "execution_count": 16,
     "metadata": {},
     "output_type": "execute_result"
    }
   ],
   "source": [
    "getAllValidatorAddress()"
   ]
  },
  {
   "cell_type": "code",
   "execution_count": 21,
   "metadata": {},
   "outputs": [
    {
     "name": "stdout",
     "output_type": "stream",
     "text": [
      "current and last block numbers 3225192 3225619\n"
     ]
    },
    {
     "data": {
      "text/plain": [
       "(3225192, 3225619)"
      ]
     },
     "execution_count": 21,
     "metadata": {},
     "output_type": "execute_result"
    }
   ],
   "source": [
    "getCurrentAndLastBlock()"
   ]
  },
  {
   "cell_type": "code",
   "execution_count": 22,
   "metadata": {},
   "outputs": [],
   "source": [
    "def getValidatorInfo(validator):\n",
    "    method = \"hmy_getValidatorInformation\"\n",
    "    params = [validator]\n",
    "    return get_information(method, params)['result']"
   ]
  },
  {
   "cell_type": "code",
   "execution_count": 25,
   "metadata": {},
   "outputs": [
    {
     "data": {
      "text/plain": [
       "{'validator': {'bls-public-keys': ['86dc2fdc2ceec18f6923b99fd86a68405c132e1005cf1df72dca75db0adfaeb53d201d66af37916d61f079f34f21fb96'],\n",
       "  'last-epoch-in-committee': 183,\n",
       "  'min-self-delegation': 10000000000000000000000,\n",
       "  'max-total-delegation': 12600000000000000000000000000,\n",
       "  'rate': '0.050000000000000000',\n",
       "  'max-rate': '1.000000000000000000',\n",
       "  'max-change-rate': '0.050000000000000000',\n",
       "  'update-height': 3221644,\n",
       "  'name': 'Rongjian',\n",
       "  'identity': 'rj',\n",
       "  'website': 'rongjian@harmony.one',\n",
       "  'security-contact': 'harmony',\n",
       "  'details': 'RJ the validator',\n",
       "  'creation-height': 3221644,\n",
       "  'address': 'one103q7qe5t2505lypvltkqtddaef5tzfxwsse4z7',\n",
       "  'delegations': [{'delegator-address': 'one103q7qe5t2505lypvltkqtddaef5tzfxwsse4z7',\n",
       "    'amount': 10000000000000000000000,\n",
       "    'reward': 2283464703487489489435,\n",
       "    'undelegations': []},\n",
       "   {'delegator-address': 'one18xfcqu7jf0cq5apweyu5jxr30x9cvetegwqfss',\n",
       "    'amount': 9700000000000000000000,\n",
       "    'reward': 1243338888888888898812,\n",
       "    'undelegations': [{'amount': 300000000000000000000, 'epoch': 180}]},\n",
       "   {'delegator-address': 'one1tpxl87y4g8ecsm6ceqay49qxyl5vs94jjyfvd9',\n",
       "    'amount': 1000000000000000000000,\n",
       "    'reward': 128179266895761743280,\n",
       "    'undelegations': []}]},\n",
       " 'current-epoch-performance': None,\n",
       " 'metrics': None,\n",
       " 'total-delegation': 20700000000000000000000,\n",
       " 'currently-in-committee': False,\n",
       " 'epos-status': 'not eligible to be elected next epoch',\n",
       " 'epos-winning-stake': None,\n",
       " 'booted-status': 'manually turned inactive or insufficient uptime',\n",
       " 'lifetime': {'reward-accumulated': 3654982859272140128292,\n",
       "  'blocks': {'to-sign': 1354, 'signed': 762},\n",
       "  'apr': '202.379627698732825122'}}"
      ]
     },
     "execution_count": 25,
     "metadata": {},
     "output_type": "execute_result"
    }
   ],
   "source": [
    "i = 'one103q7qe5t2505lypvltkqtddaef5tzfxwsse4z7'\n",
    "getValidatorInfo(i)"
   ]
  },
  {
   "cell_type": "code",
   "execution_count": null,
   "metadata": {},
   "outputs": [],
   "source": []
  }
 ],
 "metadata": {
  "kernelspec": {
   "display_name": "Python 3",
   "language": "python",
   "name": "python3"
  },
  "language_info": {
   "codemirror_mode": {
    "name": "ipython",
    "version": 3
   },
   "file_extension": ".py",
   "mimetype": "text/x-python",
   "name": "python",
   "nbconvert_exporter": "python",
   "pygments_lexer": "ipython3",
   "version": "3.7.6"
  }
 },
 "nbformat": 4,
 "nbformat_minor": 2
}
