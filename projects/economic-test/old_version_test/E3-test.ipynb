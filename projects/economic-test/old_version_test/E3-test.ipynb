{
 "cells": [
  {
   "cell_type": "code",
   "execution_count": 1,
   "metadata": {},
   "outputs": [],
   "source": [
    "import json\n",
    "import pandas as pd\n",
    "import numpy as np\n",
    "import time\n",
    "import requests"
   ]
  },
  {
   "cell_type": "markdown",
   "metadata": {},
   "source": [
    "At the first block of every epoch\n",
    "- Get the list of elected validators (elected_list)\n",
    "- Get the stakes of validators who were eligible for election in the last epoch (last block)\n",
    "- Check if any of these validators not present in elected_list"
   ]
  },
  {
   "cell_type": "code",
   "execution_count": 2,
   "metadata": {},
   "outputs": [],
   "source": [
    "def get_information(method, params):\n",
    "    url = 'https://api.s0.os.hmny.io/'\n",
    "    headers = {'Content-Type': 'application/json'}\n",
    "    data = {\"jsonrpc\":\"2.0\", \"method\": method, \"params\": params, \"id\":\"1\"}\n",
    "    r = requests.post(url, headers=headers, data = json.dumps(data))\n",
    "    content = json.loads(r.content)\n",
    "    return content"
   ]
  },
  {
   "cell_type": "code",
   "execution_count": 3,
   "metadata": {},
   "outputs": [],
   "source": [
    "def getBlockNumber():\n",
    "    method = \"hmy_blockNumber\"\n",
    "    params = []\n",
    "    num = get_information(method, params)['result']\n",
    "    return int(num, 16)"
   ]
  },
  {
   "cell_type": "code",
   "execution_count": 4,
   "metadata": {},
   "outputs": [],
   "source": [
    "def getAllValidator():\n",
    "    method = 'hmy_getAllValidatorAddresses'\n",
    "    params = []\n",
    "    return get_information(method, params)['result']\n",
    "    "
   ]
  },
  {
   "cell_type": "code",
   "execution_count": 5,
   "metadata": {},
   "outputs": [],
   "source": [
    "def getValidatorByBlock(validator, block):\n",
    "    method = \"hmy_getValidatorInformationByBlockNumber\"\n",
    "    params = [validator, block]\n",
    "    return get_information(method, params)['result']"
   ]
  },
  {
   "cell_type": "code",
   "execution_count": 6,
   "metadata": {},
   "outputs": [],
   "source": [
    "def getAllElectedValidator():\n",
    "    method = \"hmy_getElectedValidatorAddresses\"\n",
    "    params =[]\n",
    "    return get_information(method, params)['result']"
   ]
  },
  {
   "cell_type": "code",
   "execution_count": 7,
   "metadata": {},
   "outputs": [],
   "source": [
    "def E3_test():\n",
    "    # get the last block in current epoch\n",
    "    flag = True\n",
    "    block = getBlockNumber()\n",
    "    while block % 38 != 37:\n",
    "        time.sleep(8)\n",
    "        block = getBlockNumber()\n",
    "    print(\"last block number in the last epoch is \" + str(block))\n",
    "    validators = getAllValidator()\n",
    "\n",
    "    # get the first block in next epoch\n",
    "    block = getBlockNumber()\n",
    "    while block % 38 != 0:\n",
    "        time.sleep(8)\n",
    "        block = getBlockNumber()\n",
    "    print(\"first block number in the current epoch is \" + str(block))\n",
    "    elected = getAllElectedValidator()\n",
    "    \n",
    "    hex_block = hex(block-1)\n",
    "    eligible = []\n",
    "    for i in validators:\n",
    "        status = getValidatorByBlock(i, hex_block)['epos-status']\n",
    "        if status == \"currently elected and signing enough blocks to be eligible for election next epoch\"\\\n",
    "        or status == \"eligible to be elected next epoch\":\n",
    "            eligible.append(i)\n",
    "    \n",
    "    for i in eligible:\n",
    "        if i not in elected:\n",
    "            print(\"[FAILED] Validator \" + i + \" joined before election was not considered as the validator for election\")\n",
    "            flag = False\n",
    "    if flag:\n",
    "        return True\n",
    "    return False\n",
    "    "
   ]
  },
  {
   "cell_type": "code",
   "execution_count": 8,
   "metadata": {},
   "outputs": [
    {
     "name": "stdout",
     "output_type": "stream",
     "text": [
      "last block number in the last epoch is 26637\n",
      "first block number in the current epoch is 26638\n",
      "[FAILED] Validator one164e2dwupqxd7ssr85ncnkx3quk7fexy0eta2vy joined before election was not considered as the validator for election\n",
      "[FAILED] Validator one12mx7ssutgvd243g5vpvefl5sf6vttqkq5z3x04 joined before election was not considered as the validator for election\n"
     ]
    },
    {
     "data": {
      "text/plain": [
       "False"
      ]
     },
     "execution_count": 8,
     "metadata": {},
     "output_type": "execute_result"
    }
   ],
   "source": [
    "E3_test()"
   ]
  }
 ],
 "metadata": {
  "kernelspec": {
   "display_name": "Python 3",
   "language": "python",
   "name": "python3"
  },
  "language_info": {
   "codemirror_mode": {
    "name": "ipython",
    "version": 3
   },
   "file_extension": ".py",
   "mimetype": "text/x-python",
   "name": "python",
   "nbconvert_exporter": "python",
   "pygments_lexer": "ipython3",
   "version": "3.7.6"
  }
 },
 "nbformat": 4,
 "nbformat_minor": 2
}
