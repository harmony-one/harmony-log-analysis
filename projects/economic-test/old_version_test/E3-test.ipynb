{
 "cells": [
  {
   "cell_type": "code",
   "execution_count": 1,
   "metadata": {},
   "outputs": [],
   "source": [
    "import json\n",
    "import pandas as pd\n",
    "import numpy as np\n",
    "import time\n",
    "import requests\n",
    "import logging"
   ]
  },
  {
   "cell_type": "markdown",
   "metadata": {},
   "source": [
    "At the first block of every epoch\n",
    "- Get the list of elected validators (elected_list)\n",
    "- Get the stakes of validators who were eligible for election in the last epoch (last block)\n",
    "- Check if any of these validators not present in elected_list"
   ]
  },
  {
   "cell_type": "code",
   "execution_count": 2,
   "metadata": {},
   "outputs": [],
   "source": [
    "logging.basicConfig(level=logging.INFO)\n",
    "logger = logging.getLogger(\"economic-test\")\n",
    "logger.setLevel(logging.INFO)"
   ]
  },
  {
   "cell_type": "code",
   "execution_count": 3,
   "metadata": {},
   "outputs": [],
   "source": [
    "def get_information(method, params):\n",
    "    url = 'https://api.s0.t.hmny.io/'\n",
    "    headers = {'Content-Type': 'application/json'}\n",
    "    data = {\"jsonrpc\":\"2.0\", \"method\": method, \"params\": params, \"id\":\"1\"}\n",
    "    r = requests.post(url, headers=headers, data = json.dumps(data))\n",
    "    content = json.loads(r.content)\n",
    "    return content"
   ]
  },
  {
   "cell_type": "code",
   "execution_count": 4,
   "metadata": {},
   "outputs": [],
   "source": [
    "def getBlockNumber():\n",
    "    method = \"hmy_blockNumber\"\n",
    "    params = []\n",
    "    num = get_information(method, params)['result']\n",
    "    return int(num, 16)"
   ]
  },
  {
   "cell_type": "code",
   "execution_count": 5,
   "metadata": {},
   "outputs": [],
   "source": [
    "def getLastBlockOfCurrentEpoch():\n",
    "    method = 'hmy_getStakingNetworkInfo'\n",
    "    params = []\n",
    "    return get_information(method, params)['result']['epoch-last-block']"
   ]
  },
  {
   "cell_type": "code",
   "execution_count": 6,
   "metadata": {},
   "outputs": [],
   "source": [
    "def getCurrentAndLastBlock():\n",
    "    block = getBlockNumber()\n",
    "    last_block = getLastBlockOfCurrentEpoch()\n",
    "    return block, last_block"
   ]
  },
  {
   "cell_type": "code",
   "execution_count": 7,
   "metadata": {},
   "outputs": [],
   "source": [
    "def getCommittees():\n",
    "    method = \"hmy_getSuperCommittees\"\n",
    "    params = []\n",
    "    return get_information(method, params)['result']['current']"
   ]
  },
  {
   "cell_type": "code",
   "execution_count": 8,
   "metadata": {},
   "outputs": [],
   "source": [
    "def getAllValidator():\n",
    "    method = 'hmy_getAllValidatorAddresses'\n",
    "    params = []\n",
    "    return get_information(method, params)['result']\n",
    "    "
   ]
  },
  {
   "cell_type": "code",
   "execution_count": 9,
   "metadata": {},
   "outputs": [],
   "source": [
    "def getValidatorByBlock(validator, block):\n",
    "    method = \"hmy_getValidatorInformationByBlockNumber\"\n",
    "    params = [validator, block]\n",
    "    return get_information(method, params)['result']"
   ]
  },
  {
   "cell_type": "code",
   "execution_count": 10,
   "metadata": {},
   "outputs": [],
   "source": [
    "def getAllElectedValidator():\n",
    "    method = \"hmy_getElectedValidatorAddresses\"\n",
    "    params =[]\n",
    "    return get_information(method, params)['result']"
   ]
  },
  {
   "cell_type": "code",
   "execution_count": 11,
   "metadata": {},
   "outputs": [],
   "source": [
    "def getAllValidatorInformation():\n",
    "    method = 'hmy_getAllValidatorInformation'\n",
    "    params = [0]\n",
    "    return get_information(method, params)['result']"
   ]
  },
  {
   "cell_type": "code",
   "execution_count": 12,
   "metadata": {},
   "outputs": [],
   "source": [
    "def E3_test(single):\n",
    "    logger.info(f\"Test-E3: Joining before election start must consider the validator for election\")\n",
    "    try:\n",
    "        committees = getCommittees()\n",
    "        slot = committees['external-slot-count']\n",
    "        iterations = 0\n",
    "        num = 1\n",
    "        while iterations < num:\n",
    "            block, last_block = getCurrentAndLastBlock()\n",
    "            logger.info(f\"current and last block numbers: {block}, {last_block}\")\n",
    "            if block == last_block:\n",
    "                logger.info(f\"current block is the last block in epoch, waiting for the new epoch...\")\n",
    "                new_block = block+1\n",
    "                while block < new_block:\n",
    "                    block = getBlockNumber()\n",
    "                block, last_block = getCurrentAndLastBlock()\n",
    "                logger.info(f\"current and last block numbers: {block}, {last_block}\")\n",
    "            second_last_block = last_block - 1\n",
    "            while block < second_last_block:\n",
    "                block = getBlockNumber()\n",
    "            logger.info(f\"second last block in current epoch reached, {block}, wait for 6 seconds to reach the end of the block\")\n",
    "            time.sleep(6)\n",
    "            logger.info(\"begin collecting eligible validators...\")\n",
    "            # get top #slots nodes who are eligible to elected next epoch\n",
    "            validator_infos = getAllValidatorInformation()\n",
    "            eligible = []\n",
    "            stake = dict()\n",
    "            for i in validator_infos:\n",
    "                if i['epos-status'] == 'currently elected' or i['epos-status'] == 'eligible to be elected next epoch':\n",
    "                    address = i['validator']['address']\n",
    "                    eligible.append(address)\n",
    "                    stake[address] = i['total-delegation']\n",
    "\n",
    "            if len(eligible) > slot:\n",
    "                sorted_stake = sorted(stake.items(), key=lambda kv: kv[1], reverse = True)\n",
    "                eligible = [kv[0] for kv in sorted_stake[:slot]]\n",
    "\n",
    "            # wait for epoch changes\n",
    "            new_block = block + 2\n",
    "            while block < new_block:\n",
    "                block = getBlockNumber()\n",
    "            logger.info(f\"first block in new epoch reached, {block}, will wait for 5 seconds to begin testing...\")\n",
    "            time.sleep(5)\n",
    "            # check whether the eligible validators are selected\n",
    "            validator_infos = getAllValidatorInformation()\n",
    "            flag = True\n",
    "            for i in validator_infos:\n",
    "                if i in eligible:  \n",
    "                    if i['epos-status'] != 'currently elected':\n",
    "                        logger.warning(f\"Test-E3: Fail\")\n",
    "                        logger.warning(f\"Validator {i} joined before election was not considered as the validator for election\\n\")\n",
    "                        flag = False\n",
    "            iterations += 1\n",
    "    except TypeError as e:\n",
    "        logger.error(f\"error: {e}\")\n",
    "    if single:\n",
    "        curr_test = None\n",
    "    else:\n",
    "        curr_test = E4_test\n",
    "    if flag:\n",
    "        logger.info(f\"Test E3: Succeed\\n\")\n",
    "        return True, curr_test\n",
    "    else:\n",
    "        return False, curr_test"
   ]
  },
  {
   "cell_type": "code",
   "execution_count": 13,
   "metadata": {},
   "outputs": [
    {
     "name": "stderr",
     "output_type": "stream",
     "text": [
      "INFO:economic-test:Test-E3: Joining before election start must consider the validator for election\n",
      "INFO:economic-test:current and last block numbers: 3489580, 3489791\n",
      "INFO:economic-test:second last block in current epoch reached, 3489790, wait for 6 seconds to reach the end of the block\n",
      "INFO:economic-test:begin collecting eligible validators...\n",
      "INFO:economic-test:first block in new epoch reached, 3489792, will wait for 5 seconds to begin testing...\n",
      "INFO:economic-test:Test E3: Succeed\n",
      "\n"
     ]
    },
    {
     "data": {
      "text/plain": [
       "(True, None)"
      ]
     },
     "execution_count": 13,
     "metadata": {},
     "output_type": "execute_result"
    }
   ],
   "source": [
    "E3_test(True)"
   ]
  },
  {
   "cell_type": "code",
   "execution_count": null,
   "metadata": {},
   "outputs": [],
   "source": []
  }
 ],
 "metadata": {
  "kernelspec": {
   "display_name": "Python 3",
   "language": "python",
   "name": "python3"
  },
  "language_info": {
   "codemirror_mode": {
    "name": "ipython",
    "version": 3
   },
   "file_extension": ".py",
   "mimetype": "text/x-python",
   "name": "python",
   "nbconvert_exporter": "python",
   "pygments_lexer": "ipython3",
   "version": "3.7.6"
  }
 },
 "nbformat": 4,
 "nbformat_minor": 2
}
