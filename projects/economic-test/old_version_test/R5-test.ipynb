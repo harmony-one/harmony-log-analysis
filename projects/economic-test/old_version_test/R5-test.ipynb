{
 "cells": [
  {
   "cell_type": "code",
   "execution_count": 1,
   "metadata": {},
   "outputs": [],
   "source": [
    "import json\n",
    "import pandas as pd\n",
    "import numpy as np\n",
    "import time\n",
    "import requests\n",
    "import logging\n",
    "from collections import defaultdict"
   ]
  },
  {
   "cell_type": "code",
   "execution_count": 2,
   "metadata": {},
   "outputs": [],
   "source": [
    "logging.basicConfig(level=logging.INFO)\n",
    "logger = logging.getLogger(\"economic-test\")\n",
    "logger.setLevel(logging.INFO)"
   ]
  },
  {
   "cell_type": "code",
   "execution_count": 3,
   "metadata": {},
   "outputs": [],
   "source": [
    "def get_information(method, params):\n",
    "    url = 'https://api.s0.os.hmny.io/'\n",
    "    headers = {'Content-Type': 'application/json'}\n",
    "    data = {\"jsonrpc\":\"2.0\", \"method\": method, \"params\": params, \"id\":1}\n",
    "    r = requests.post(url, headers=headers, data = json.dumps(data))\n",
    "    content = json.loads(r.content)\n",
    "    return content"
   ]
  },
  {
   "cell_type": "code",
   "execution_count": 4,
   "metadata": {},
   "outputs": [],
   "source": [
    "def getBlockNumber():\n",
    "    method = \"hmy_blockNumber\"\n",
    "    params = []\n",
    "    num = get_information(method, params)['result']\n",
    "    return int(num, 16)"
   ]
  },
  {
   "cell_type": "code",
   "execution_count": 5,
   "metadata": {},
   "outputs": [],
   "source": [
    "def getLastBlockOfCurrentEpoch():\n",
    "    method = 'hmy_getStakingNetworkInfo'\n",
    "    params = []\n",
    "    return get_information(method, params)['result']['epoch-last-block']"
   ]
  },
  {
   "cell_type": "code",
   "execution_count": 6,
   "metadata": {},
   "outputs": [],
   "source": [
    "def getCurrentAndLastBlock():\n",
    "    block = getBlockNumber()\n",
    "    last_block = getLastBlockOfCurrentEpoch()\n",
    "    print(\"current and last block numbers\", block, last_block)\n",
    "    return block, last_block"
   ]
  },
  {
   "cell_type": "code",
   "execution_count": 7,
   "metadata": {},
   "outputs": [],
   "source": [
    "def getAllValidatorInformation():\n",
    "    method = 'hmy_getAllValidatorInformation'\n",
    "    params = [-1]\n",
    "    return get_information(method, params)['result'] "
   ]
  },
  {
   "cell_type": "code",
   "execution_count": 8,
   "metadata": {},
   "outputs": [],
   "source": [
    "def getSuperCommittees():\n",
    "    method = \"hmy_getSuperCommittees\"\n",
    "    params = []\n",
    "    return get_information(method, params)['result']['current']"
   ]
  },
  {
   "cell_type": "code",
   "execution_count": 9,
   "metadata": {},
   "outputs": [],
   "source": [
    "def diffAndFilter(map1, map2):\n",
    "    map3 = dict()\n",
    "    for k, v in map2.items():\n",
    "        if k in map1:\n",
    "            map3[k] = v - map1[k]\n",
    "    return map3"
   ]
  },
  {
   "cell_type": "code",
   "execution_count": 10,
   "metadata": {},
   "outputs": [],
   "source": [
    "def diffAndFilter2(map1, map2):\n",
    "    map3 = dict()\n",
    "    for key, val in map2.items():\n",
    "        diff = dict()\n",
    "        for k, v in map2[key].items():\n",
    "            if v - map1[key][k] != 0:\n",
    "                diff[k] = v - map1[key][k]\n",
    "        map3[key] = diff\n",
    "    return map3"
   ]
  },
  {
   "cell_type": "code",
   "execution_count": 11,
   "metadata": {},
   "outputs": [],
   "source": [
    "def R5_test(single):\n",
    "    logger.info(f\"Test-R5: Reward given out to block signers sums up to the total block reward\")\n",
    "    logger.info(f\"check sum over earned-reward diff of all keys per shard = 28\")\n",
    "    block, last_block = getCurrentAndLastBlock()\n",
    "    logger.info(f\"current and last block numbers: {block}, {last_block}\")\n",
    "    if block == last_block or block == last_block -1:\n",
    "        logger.info(f\"current at the last block or last second block, wait until the first block in the new epoch\")\n",
    "        while block < last_block+1:\n",
    "            block = getBlockNumber()\n",
    "    logger.info(f\"current block {block}, will begin collecting infos...\")\n",
    "\n",
    "    earn_rewards_prev = defaultdict(dict)\n",
    "    validator_infos = getAllValidatorInformation()\n",
    "    for i in validator_infos:\n",
    "        if i['metrics']:\n",
    "            for k in i['metrics']['by-bls-key']:\n",
    "                key = k['key']\n",
    "                shard = key['shard-id']\n",
    "                bls_key = key['bls-public-key']\n",
    "                earn_reward = k['earned-reward']\n",
    "                earn_rewards_prev[shard][bls_key] = earn_reward\n",
    "                \n",
    "    next_block = block + 1\n",
    "    while block < next_block:\n",
    "        block = getBlockNumber()\n",
    "    logger.info(f\"new block {block} reached, will begin testing...\")\n",
    "    flag = True\n",
    "    # get the validator info and compute validator rewards\n",
    "    earn_rewards_curr = defaultdict(dict)\n",
    "    validator_infos = getAllValidatorInformation()\n",
    "    block_reward = 28e18\n",
    "    for i in validator_infos:\n",
    "        if i['metrics']:\n",
    "            for k in i['metrics']['by-bls-key']:\n",
    "                key = k['key']\n",
    "                shard = key['shard-id']\n",
    "                bls_key = key['bls-public-key']\n",
    "                earn_reward = k['earned-reward']\n",
    "                earn_rewards_curr[shard][bls_key] = earn_reward\n",
    "    earn_reward_diff = diffAndFilter2(earn_rewards_prev, earn_rewards_curr) \n",
    "    for shard, diff in earn_reward_diff.items():\n",
    "        reward = sum(diff.values())\n",
    "        if format(reward, '.20e') != format(block_reward, '.20e'):\n",
    "            logger.warning(f\"Test-R5: Fail\")\n",
    "            logger.warning(f\"shard: {shard}, block: {block}, sum of earned reward: {reward:.20e}, block reward: {block_reward:.20e}\\n\")\n",
    "            flag = False\n",
    "    \n",
    "    if single:\n",
    "        curr_test = None\n",
    "    else:\n",
    "        curr_test = R6_test\n",
    "    if flag:\n",
    "        logger.info(f\"Test-R5: Succeed\\n\")\n",
    "        return True, curr_test\n",
    "    else:\n",
    "        return False, curr_test"
   ]
  },
  {
   "cell_type": "code",
   "execution_count": 12,
   "metadata": {},
   "outputs": [
    {
     "name": "stderr",
     "output_type": "stream",
     "text": [
      "INFO:economic-test:Test-R5: Reward given out to block signers sums up to the total block reward\n",
      "INFO:economic-test:check sum over earned-reward diff of all keys per shard = 28\n",
      "INFO:economic-test:current and last block numbers: 5840, 5849\n",
      "INFO:economic-test:current block 5840, will begin collecting infos...\n"
     ]
    },
    {
     "name": "stdout",
     "output_type": "stream",
     "text": [
      "current and last block numbers 5840 5849\n"
     ]
    },
    {
     "name": "stderr",
     "output_type": "stream",
     "text": [
      "INFO:economic-test:new block 5841 reached, will begin testing...\n",
      "WARNING:economic-test:Test-R5: Fail\n",
      "WARNING:economic-test:shard: 1, block: 5841, sum of earned reward: 2.52401653495425146880e+19, block reward: 2.80000000000000000000e+19\n",
      "\n",
      "WARNING:economic-test:Test-R5: Fail\n",
      "WARNING:economic-test:shard: 3, block: 5841, sum of earned reward: 2.44857983559529390080e+19, block reward: 2.80000000000000000000e+19\n",
      "\n",
      "WARNING:economic-test:Test-R5: Fail\n",
      "WARNING:economic-test:shard: 2, block: 5841, sum of earned reward: 2.31125126961369415680e+19, block reward: 2.80000000000000000000e+19\n",
      "\n"
     ]
    },
    {
     "data": {
      "text/plain": [
       "(False, None)"
      ]
     },
     "execution_count": 12,
     "metadata": {},
     "output_type": "execute_result"
    }
   ],
   "source": [
    "R5_test(True)"
   ]
  },
  {
   "cell_type": "code",
   "execution_count": 13,
   "metadata": {},
   "outputs": [],
   "source": [
    "def R5_test(single):\n",
    "    logger.info(f\"check sum over earned-reward diff of all keys per shard = validator reward diff\")\n",
    "    block, last_block = getCurrentAndLastBlock()\n",
    "    logger.info(f\"current and last block numbers: {block}, {last_block}\")\n",
    "    if block == last_block or block == last_block -1:\n",
    "        logger.info(f\"current at the last block or last second block, wait until the first block in the new epoch\")\n",
    "        while block < last_block+1:\n",
    "            block = getBlockNumber()\n",
    "    logger.info(f\"current block {block}, will begin collecting infos...\")\n",
    "    acc_reward_prev = defaultdict(int)\n",
    "    earn_rewards_prev = defaultdict(dict)\n",
    "    validator_infos = getAllValidatorInformation()\n",
    "    for i in validator_infos:\n",
    "        if i['metrics']:\n",
    "            addr = i['validator']['address']\n",
    "            acc_reward_prev[addr] = i['lifetime']['reward-accumulated']\n",
    "            for k in i['metrics']['by-bls-key']:\n",
    "                key = k['key']\n",
    "                bls_key = key['bls-public-key']\n",
    "                earn_reward = k['earned-reward']\n",
    "                earn_rewards_prev[addr][bls_key] = earn_reward\n",
    "                acc_reward_prev[addr] = i['lifetime']['reward-accumulated']\n",
    "\n",
    "    next_block = block + 1\n",
    "    while block < next_block:\n",
    "        block = getBlockNumber()\n",
    "    logger.info(f\"new block {block} reached, will begin testing...\")\n",
    "    flag = True\n",
    "    # get the validator info and compute validator rewards\n",
    "    earn_rewards_curr = defaultdict(dict)\n",
    "    acc_reward_curr = defaultdict(int)\n",
    "    validator_infos = getAllValidatorInformation()\n",
    "    block_reward = 28e18\n",
    "    for i in validator_infos:\n",
    "        if i['metrics']:\n",
    "            addr = i['validator']['address']\n",
    "            acc_reward_curr[addr] = i['lifetime']['reward-accumulated']\n",
    "            for k in i['metrics']['by-bls-key']:\n",
    "                key = k['key']\n",
    "                bls_key = key['bls-public-key']\n",
    "                earn_reward = k['earned-reward']\n",
    "                earn_rewards_curr[addr][bls_key] = earn_reward\n",
    "\n",
    "    earn_reward_diff = diffAndFilter2(earn_rewards_prev, earn_rewards_curr) \n",
    "    val_reward_diff = diffAndFilter(acc_reward_prev, acc_reward_curr)\n",
    "    for addr, diff in earn_reward_diff.items():\n",
    "        reward = sum(diff.values())\n",
    "        val_reward = val_reward_diff[addr]\n",
    "        if format(reward, '.20e') != format(val_reward, '.20e'):\n",
    "            logger.warning(f\"Test-R5: Fail\")\n",
    "            logger.warning(f\"validator: {addr}, sum of earned reward: {reward:.20e}, validator reward: {val_reward:.20e}\\n\")\n",
    "            flag = False\n",
    "\n",
    "    if single:\n",
    "        curr_test = None\n",
    "    else:\n",
    "        curr_test = R6_test\n",
    "    if flag:\n",
    "        logger.info(f\"Test-R5: Succeed\\n\")\n",
    "        return True, curr_test\n",
    "    else:\n",
    "        return False, curr_test"
   ]
  },
  {
   "cell_type": "code",
   "execution_count": 14,
   "metadata": {},
   "outputs": [
    {
     "name": "stderr",
     "output_type": "stream",
     "text": [
      "INFO:economic-test:check sum over earned-reward diff of all keys per shard = validator reward diff\n",
      "INFO:economic-test:current and last block numbers: 5841, 5849\n",
      "INFO:economic-test:current block 5841, will begin collecting infos...\n"
     ]
    },
    {
     "name": "stdout",
     "output_type": "stream",
     "text": [
      "current and last block numbers 5841 5849\n"
     ]
    },
    {
     "name": "stderr",
     "output_type": "stream",
     "text": [
      "INFO:economic-test:new block 5842 reached, will begin testing...\n",
      "INFO:economic-test:Test-R5: Succeed\n",
      "\n"
     ]
    },
    {
     "data": {
      "text/plain": [
       "(True, None)"
      ]
     },
     "execution_count": 14,
     "metadata": {},
     "output_type": "execute_result"
    }
   ],
   "source": [
    "R5_test(True)"
   ]
  },
  {
   "cell_type": "code",
   "execution_count": 15,
   "metadata": {},
   "outputs": [],
   "source": [
    "def R5_test(single):\n",
    "    logger.info(f\"check sum over earned-reward diff of all keys per shard = 28\")\n",
    "    block, last_block = getCurrentAndLastBlock()\n",
    "    logger.info(f\"current and last block numbers: {block}, {last_block}\")\n",
    "    if block == last_block or block == last_block -1:\n",
    "        logger.info(f\"current at the last block or last second block, wait until the first block in the new epoch\")\n",
    "        while block < last_block+1:\n",
    "            block = getBlockNumber()\n",
    "    logger.info(f\"current block {block}, will begin collecting infos...\")\n",
    "\n",
    "    earn_rewards_prev = defaultdict(int)\n",
    "    validator_infos = getAllValidatorInformation()\n",
    "    for i in validator_infos:\n",
    "        if i['metrics']:\n",
    "            for k in i['metrics']['by-bls-key']:\n",
    "                key = k['key']\n",
    "                bls_key = key['bls-public-key']\n",
    "                earn_reward = k['earned-reward']\n",
    "                earn_rewards_prev[bls_key] = earn_reward\n",
    "                \n",
    "    next_block = block + 1\n",
    "    while block < next_block:\n",
    "        block = getBlockNumber()\n",
    "    logger.info(f\"new block {block} reached, will begin testing...\")\n",
    "    flag = True\n",
    "    # get the validator info and compute validator rewards\n",
    "    earn_rewards_curr = defaultdict(dict)\n",
    "    voting_power = defaultdict(dict)\n",
    "    validator_infos = getAllValidatorInformation()\n",
    "    block_reward = 28e18\n",
    "    for i in validator_infos:\n",
    "        if i['metrics']:\n",
    "            for k in i['metrics']['by-bls-key']:\n",
    "                key = k['key']\n",
    "                bls_key = key['bls-public-key']\n",
    "                earn_reward = k['earned-reward']\n",
    "                earn_rewards_curr[bls_key] = earn_reward\n",
    "                perc = float(key['group-percent'])\n",
    "                voting_power[bls_key] = perc\n",
    "    earn_reward_diff = diffAndFilter(earn_rewards_prev, earn_rewards_curr) \n",
    "    for k, v in earn_reward_diff.items():\n",
    "        reward = voting_power[k] * block_reward\n",
    "        if format(v, '.20e') != format(reward, '.20e'):\n",
    "            logger.warning(f\"Test-R5: Fail\")\n",
    "            logger.warning(f\"bls-key: {k}, earned reward: {v:.20e}, voting-power * 28: {reward:.20e}\\n\")\n",
    "            flag = False\n",
    "  \n",
    "    if single:\n",
    "        curr_test = None\n",
    "    else:\n",
    "        curr_test = R6_test\n",
    "    if flag:\n",
    "        logger.info(f\"Test-R5: Succeed\\n\")\n",
    "        return True, curr_test\n",
    "    else:\n",
    "        return False, curr_test"
   ]
  },
  {
   "cell_type": "code",
   "execution_count": 16,
   "metadata": {},
   "outputs": [
    {
     "name": "stderr",
     "output_type": "stream",
     "text": [
      "INFO:economic-test:check sum over earned-reward diff of all keys per shard = 28\n",
      "INFO:economic-test:current and last block numbers: 5842, 5849\n",
      "INFO:economic-test:current block 5842, will begin collecting infos...\n"
     ]
    },
    {
     "name": "stdout",
     "output_type": "stream",
     "text": [
      "current and last block numbers 5842 5849\n"
     ]
    },
    {
     "name": "stderr",
     "output_type": "stream",
     "text": [
      "INFO:economic-test:new block 5843 reached, will begin testing...\n",
      "WARNING:economic-test:Test-R5: Fail\n",
      "WARNING:economic-test:bls-key: 285021b00e21f75364d92ebcbc204e73f268e50163347cbd97a5401c800f6348252c2c23fc6ba9e099f3a6380726ac85, earned reward: 7.15458604517297408000e+17, voting-power * 28: 7.15458604517297536000e+17\n",
      "\n",
      "WARNING:economic-test:Test-R5: Fail\n",
      "WARNING:economic-test:bls-key: 3774ee37c4f629346260edac71fc1ef45692accaffe60f02d6090b9ef91712f3bc8cdd355b1dcd06c4d2193d06e7f086, earned reward: 0.00000000000000000000e+00, voting-power * 28: 1.08067416795667520000e+18\n",
      "\n",
      "WARNING:economic-test:Test-R5: Fail\n",
      "WARNING:economic-test:bls-key: aedece36291cfe7199f022aec69e841b1f80ca87ddd6b267a5be7ecf569f9cbbb9fe87100822a87de5468d22a0bc4f8c, earned reward: 9.84464985449456512000e+17, voting-power * 28: 9.84464985449456640000e+17\n",
      "\n",
      "WARNING:economic-test:Test-R5: Fail\n",
      "WARNING:economic-test:bls-key: f4a1cf9f6971ae086e38663552f0b8efc4578d23b0ca82f69a60d2958d571764e060ee2c03973c6a6dda4b38d5f21608, earned reward: 9.84464985449456512000e+17, voting-power * 28: 9.84464985449456640000e+17\n",
      "\n",
      "WARNING:economic-test:Test-R5: Fail\n",
      "WARNING:economic-test:bls-key: 2d1ae8792c86f914ff8eb28267bc2818c44e8f26b8f6bf79b35d1b2684de24a862920402762a0a0700b78855c061978c, earned reward: 9.84464985449456512000e+17, voting-power * 28: 9.84464985449456640000e+17\n",
      "\n",
      "WARNING:economic-test:Test-R5: Fail\n",
      "WARNING:economic-test:bls-key: aef3357702c7a45f39ad63aa4c5cc7265134f05e3d2c729c9261e6bc94e7e1325e070a5cf7ad572f0b83f3f35174da84, earned reward: 9.84464985449456512000e+17, voting-power * 28: 9.84464985449456640000e+17\n",
      "\n",
      "WARNING:economic-test:Test-R5: Fail\n",
      "WARNING:economic-test:bls-key: 81201af5b1de127d32291fba838c1f3d535929bb0f4a585abd4a3c4c4190f690726edf8f93488e39de2bc1c419a9e606, earned reward: 9.37910482759543424000e+17, voting-power * 28: 9.37910482759543936000e+17\n",
      "\n",
      "WARNING:economic-test:Test-R5: Fail\n",
      "WARNING:economic-test:bls-key: b62668e207c65571a2596e1524a61fe3132cb865707b7cb8ab94278a67916234bb55d19b300909c8f809e7dc58b0100d, earned reward: 8.22489865271492736000e+17, voting-power * 28: 8.22489865271492608000e+17\n",
      "\n",
      "WARNING:economic-test:Test-R5: Fail\n",
      "WARNING:economic-test:bls-key: 81007818766b57dfbc078307100141eccee6e86f7d666754d5480c45c602e6f5d7f36b9addf1de995bc798361103ca0a, earned reward: 0.00000000000000000000e+00, voting-power * 28: 1.26893771196879462400e+18\n",
      "\n",
      "WARNING:economic-test:Test-R5: Fail\n",
      "WARNING:economic-test:bls-key: 3db51e1ab47e33b2eea18327a19ab3ce4e0496636d88c16d08b2e78f6e4d161a5a75e117fd696353ef4be9f67f0e0a96, earned reward: 0.00000000000000000000e+00, voting-power * 28: 1.26893771196879462400e+18\n",
      "\n",
      "WARNING:economic-test:Test-R5: Fail\n",
      "WARNING:economic-test:bls-key: 1e09f6ede6b7cca5d2c53a2b6de6ea70a8ca1b4d2fbbeb8758c599afd74cfa8964842de85b7b783b7cc86fb6ccb11312, earned reward: 0.00000000000000000000e+00, voting-power * 28: 1.26893771196879462400e+18\n",
      "\n",
      "WARNING:economic-test:Test-R5: Fail\n",
      "WARNING:economic-test:bls-key: 59b98b2f2ee7a192fc68c05c4af99028a4fbc8532ea56eacd47711fd193d55195826d1a247a054e41904a48b3176cd93, earned reward: 0.00000000000000000000e+00, voting-power * 28: 1.01033297266352972800e+18\n",
      "\n",
      "WARNING:economic-test:Test-R5: Fail\n",
      "WARNING:economic-test:bls-key: dc735a503388d93a86ad56ab8d2f0c79dbec64b9331812beeab068553959650e848e6fbb3fc280081e90abb50074bd16, earned reward: 1.26495688896275200000e+18, voting-power * 28: 1.26495688896275174400e+18\n",
      "\n",
      "WARNING:economic-test:Test-R5: Fail\n",
      "WARNING:economic-test:bls-key: 85dde30f23ffd30b511582550a20d675e96beaf348af5c1401eaef69e8485ac867cd78e9d4e59f42d9c65b8ae4466981, earned reward: 0.00000000000000000000e+00, voting-power * 28: 9.65785171386568832000e+17\n",
      "\n",
      "WARNING:economic-test:Test-R5: Fail\n",
      "WARNING:economic-test:bls-key: a7727191ce47f86dfd942ae31c57a1f9a9bd56c6d6fb69b73f97660ef3a8cfd5c8025272b68c68f4f94c019f4db80789, earned reward: 0.00000000000000000000e+00, voting-power * 28: 8.28264307684348416000e+17\n",
      "\n",
      "WARNING:economic-test:Test-R5: Fail\n",
      "WARNING:economic-test:bls-key: 4433d90f6ae044f553ef9f8de95f1a96889e43352d6bbead3d75cd8c8306758a5296ae550388f4bb87c95c9a54e8790c, earned reward: 0.00000000000000000000e+00, voting-power * 28: 1.21168572683045657600e+18\n",
      "\n",
      "WARNING:economic-test:Test-R5: Fail\n",
      "WARNING:economic-test:bls-key: 7882326df6f00fef775f8c80d3270c55329c2fd5d022ad1ef5d33f6267050db71dcb818a14aeaa1df13c709e3ee4a307, earned reward: 8.60436831764051456000e+17, voting-power * 28: 8.60436831764051328000e+17\n",
      "\n",
      "WARNING:economic-test:Test-R5: Fail\n",
      "WARNING:economic-test:bls-key: 08c5de6061d35c3ca2278c9d778b63171a411e42dc3841006483c3e9b2e21a5b0f7e38a75033492c2fddad8d02fda682, earned reward: 1.08067416795667507200e+18, voting-power * 28: 1.08067416795667520000e+18\n",
      "\n",
      "WARNING:economic-test:Test-R5: Fail\n",
      "WARNING:economic-test:bls-key: 356b0732524bdd3a2ac6f2a09aa29da9a71b73167f42c64e5ba2b3322d82f79ade31b56efe61782f25c354c1dec28f88, earned reward: 9.84464985449456512000e+17, voting-power * 28: 9.84464985449456640000e+17\n",
      "\n",
      "WARNING:economic-test:Test-R5: Fail\n",
      "WARNING:economic-test:bls-key: 62937063063c3c8390c86fd406b3155158fe8ecf1e82b0116e1e27cd8fb021c61c39469658d212cb89168ada8ab89a08, earned reward: 9.84464985449456512000e+17, voting-power * 28: 9.84464985449456640000e+17\n",
      "\n",
      "WARNING:economic-test:Test-R5: Fail\n",
      "WARNING:economic-test:bls-key: 778fedb1699a7741eae03dbdcbc376c983b1a23aa9da2548c1706442acc3431747a957cf7aee2ae0fa028bc0c83a1684, earned reward: 9.84464985449456512000e+17, voting-power * 28: 9.84464985449456640000e+17\n",
      "\n",
      "WARNING:economic-test:Test-R5: Fail\n",
      "WARNING:economic-test:bls-key: dfca9b0bb41a358023b75136f51882e2b5396806f4287a0200f772c2b7b8a5981730fbc7558b086da8217969518d3498, earned reward: 9.84464985449456512000e+17, voting-power * 28: 9.84464985449456640000e+17\n",
      "\n",
      "WARNING:economic-test:Test-R5: Fail\n",
      "WARNING:economic-test:bls-key: e51276b7d84c593298cb0331559ce2790d9d2343364ea6f0a8e4a00c84952d59b0bc0569b028aaaaefd317772a7eda86, earned reward: 1.08067416795667507200e+18, voting-power * 28: 1.08067416795667520000e+18\n",
      "\n",
      "WARNING:economic-test:Test-R5: Fail\n",
      "WARNING:economic-test:bls-key: f82943c858a2ba048488e092177f254256051c4afbbd710748c41511996910e6d16baf96cd0a1aff1091dd3c73f16b8b, earned reward: 8.60436831764051456000e+17, voting-power * 28: 8.60436831764051328000e+17\n",
      "\n",
      "WARNING:economic-test:Test-R5: Fail\n",
      "WARNING:economic-test:bls-key: ac8239b96a22bc150ee3d0d06dbe05491f38c9b293860148a9a4be86c994b323567f15a8b823097f671e078f7554128f, earned reward: 8.60436831764051456000e+17, voting-power * 28: 8.60436831764051328000e+17\n",
      "\n",
      "WARNING:economic-test:Test-R5: Fail\n",
      "WARNING:economic-test:bls-key: 365cfdec86227f8fab1bdc9d5bbcb91a4396f462ec2bc638701e1a0a9c46705b67d4540408fcb33aeaec2ea3b2247195, earned reward: 8.55717103736528512000e+17, voting-power * 28: 8.55717103736528384000e+17\n",
      "\n",
      "WARNING:economic-test:Test-R5: Fail\n",
      "WARNING:economic-test:bls-key: 44f40b7f59c35437074faef361d625040888e64bed01e8643df66c0d671efed5182c77bb9056378c6e72f7e2b7025314, earned reward: 9.84464985449456512000e+17, voting-power * 28: 9.84464985449456640000e+17\n",
      "\n",
      "WARNING:economic-test:Test-R5: Fail\n",
      "WARNING:economic-test:bls-key: b3f88974af22ec352fee49aae74eb5d6910e301aee5724d56b4a344b6ca2a379401ac3ca91ea076e509019421a211a0f, earned reward: 0.00000000000000000000e+00, voting-power * 28: 1.01033297266352972800e+18\n",
      "\n",
      "WARNING:economic-test:Test-R5: Fail\n",
      "WARNING:economic-test:bls-key: b8bd3e0d47f075b4344a2b8fee5f16f06ccb6d1088447aa94e781b471af50728f1d6cd6a1d400b7a9a5cf7e9baa0d207, earned reward: 8.60436831764051456000e+17, voting-power * 28: 8.60436831764051328000e+17\n",
      "\n",
      "WARNING:economic-test:Test-R5: Fail\n",
      "WARNING:economic-test:bls-key: c361ae8fa27a90f29a3d91b168232a4b4bf9532cf2b2ba79aef5965686fd2bcb19e3d233432fd5323be2f8cab7a8cb17, earned reward: 0.00000000000000000000e+00, voting-power * 28: 7.46767849360000256000e+17\n",
      "\n",
      "WARNING:economic-test:Test-R5: Fail\n",
      "WARNING:economic-test:bls-key: 417a914ca4fb5e07f53988e0ae9c775cb2e063121a1d349c340e13996a089e28849ecac12bf7bf96c40bd1f2a4fd370c, earned reward: 1.13431494645723520000e+18, voting-power * 28: 1.13431494645723507200e+18\n",
      "\n",
      "WARNING:economic-test:Test-R5: Fail\n",
      "WARNING:economic-test:bls-key: ff09a6ba17b70e419389c3547ab920baf1f7598e27fdcf8a14550fdee839320df813219a1aa213a8cebcf7417f48df80, earned reward: 9.84464985449455616000e+17, voting-power * 28: 9.84464985449456640000e+17\n",
      "\n"
     ]
    },
    {
     "name": "stderr",
     "output_type": "stream",
     "text": [
      "WARNING:economic-test:Test-R5: Fail\n",
      "WARNING:economic-test:bls-key: d90b4af4db279822edc6b4aa6a2b083512d0b6a873d8e71c814b7994e0f32b97f6a6d81d21344d7fa85e76f76af5e783, earned reward: 7.46767849359999360000e+17, voting-power * 28: 7.46767849360000256000e+17\n",
      "\n",
      "WARNING:economic-test:Test-R5: Fail\n",
      "WARNING:economic-test:bls-key: 010118a662e038e16ec5cb5785a19d3a0e9e5c1da5524c76d11ae907815b3e7b35558fd7bc23d5f39d8791b375a1628b, earned reward: 8.60436831764051456000e+17, voting-power * 28: 8.60436831764051328000e+17\n",
      "\n"
     ]
    },
    {
     "data": {
      "text/plain": [
       "(False, None)"
      ]
     },
     "execution_count": 16,
     "metadata": {},
     "output_type": "execute_result"
    }
   ],
   "source": [
    "R5_test(True)"
   ]
  },
  {
   "cell_type": "code",
   "execution_count": 17,
   "metadata": {},
   "outputs": [
    {
     "name": "stdout",
     "output_type": "stream",
     "text": [
      "voting-power-%: 0.011037544815846501, voting-power-unnormalized: 0.034492327549520317, effective-stake: 688575150000000000000000.000000000000000000\n"
     ]
    }
   ],
   "source": [
    "res = getSuperCommittees()['quorum-deciders']\n",
    "for shard, value in res.items():\n",
    "    member = value['committee-members']\n",
    "    for i in member:\n",
    "        if i['earning-account'] == 'one1237cvlujddq9f68s94344rptsuwx0h7ek5lcnc':\n",
    "            print(f\"voting-power-%: {i['voting-power-%']}, voting-power-unnormalized: {i['voting-power-unnormalized']}, effective-stake: {i['effective-stake']}\")\n",
    "            "
   ]
  },
  {
   "cell_type": "code",
   "execution_count": 18,
   "metadata": {},
   "outputs": [
    {
     "name": "stdout",
     "output_type": "stream",
     "text": [
      "group-percent: 0.034492327549520317, overall-percent: 0.011037544815846501, effective-stake: 688575150000000000000000.000000000000000000\n"
     ]
    }
   ],
   "source": [
    "res = getAllValidatorInformation()[2]['metrics']['by-bls-key'][0]['key']\n",
    "print(f\"group-percent: {res['group-percent']}, overall-percent: {res['overall-percent']}, effective-stake: {res['effective-stake']}\")"
   ]
  }
 ],
 "metadata": {
  "kernelspec": {
   "display_name": "Python 3",
   "language": "python",
   "name": "python3"
  },
  "language_info": {
   "codemirror_mode": {
    "name": "ipython",
    "version": 3
   },
   "file_extension": ".py",
   "mimetype": "text/x-python",
   "name": "python",
   "nbconvert_exporter": "python",
   "pygments_lexer": "ipython3",
   "version": "3.7.6"
  }
 },
 "nbformat": 4,
 "nbformat_minor": 2
}
