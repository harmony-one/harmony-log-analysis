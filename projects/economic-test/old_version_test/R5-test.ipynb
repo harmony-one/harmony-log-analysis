{
 "cells": [
  {
   "cell_type": "code",
   "execution_count": 1,
   "metadata": {},
   "outputs": [],
   "source": [
    "import json\n",
    "import pandas as pd\n",
    "import numpy as np\n",
    "import time\n",
    "import requests\n",
    "import logging"
   ]
  },
  {
   "cell_type": "code",
   "execution_count": 2,
   "metadata": {},
   "outputs": [],
   "source": [
    "logging.basicConfig(level=logging.INFO)\n",
    "logger = logging.getLogger(\"economic-test\")\n",
    "logger.setLevel(logging.INFO)"
   ]
  },
  {
   "cell_type": "code",
   "execution_count": 3,
   "metadata": {},
   "outputs": [],
   "source": [
    "def get_information(method, params):\n",
    "    url = 'https://api.s0.os.hmny.io/'\n",
    "    headers = {'Content-Type': 'application/json'}\n",
    "    data = {\"jsonrpc\":\"2.0\", \"method\": method, \"params\": params, \"id\":1}\n",
    "    r = requests.post(url, headers=headers, data = json.dumps(data))\n",
    "    content = json.loads(r.content)\n",
    "    return content"
   ]
  },
  {
   "cell_type": "code",
   "execution_count": 4,
   "metadata": {},
   "outputs": [],
   "source": [
    "def getBlockNumber():\n",
    "    method = \"hmy_blockNumber\"\n",
    "    params = []\n",
    "    num = get_information(method, params)['result']\n",
    "    return int(num, 16)"
   ]
  },
  {
   "cell_type": "code",
   "execution_count": 8,
   "metadata": {},
   "outputs": [],
   "source": [
    "def getLastBlockOfCurrentEpoch():\n",
    "    method = 'hmy_getStakingNetworkInfo'\n",
    "    params = []\n",
    "    return get_information(method, params)['result']['epoch-last-block']"
   ]
  },
  {
   "cell_type": "code",
   "execution_count": 9,
   "metadata": {},
   "outputs": [],
   "source": [
    "def getCurrentAndLastBlock():\n",
    "    block = getBlockNumber()\n",
    "    last_block = getLastBlockOfCurrentEpoch()\n",
    "    print(\"current and last block numbers\", block, last_block)\n",
    "    return block, last_block"
   ]
  },
  {
   "cell_type": "code",
   "execution_count": 5,
   "metadata": {},
   "outputs": [],
   "source": [
    "def getAllValidatorInformation():\n",
    "    method = 'hmy_getAllValidatorInformation'\n",
    "    params = [-1]\n",
    "    return get_information(method, params)['result'] "
   ]
  },
  {
   "cell_type": "code",
   "execution_count": 10,
   "metadata": {},
   "outputs": [],
   "source": [
    "def R5_test(single):\n",
    "    logger.info(f\"Test-R5: Reward given out to block signers sums up to the total block reward\")\n",
    "    \n",
    "    block, last_block = getCurrentAndLastBlock()\n",
    "    logger.info(f\"current and last block numbers: {block}, {last_block}\")\n",
    "    while last_block - block > 32:\n",
    "        block = getBlockNumber()\n",
    "    if block == last_block:\n",
    "        logger.info(f\"current at the last block, wait until the 6th block in the new epoch\")\n",
    "        while block < last_block+6:\n",
    "            block = getBlockNumber()\n",
    "    logger.info(f\"current block {block}, will begin collecting infos...\")\n",
    "\n",
    "    acc_rewards_prev = dict()\n",
    "    validator_infos = getAllValidatorInformation()\n",
    "    for i in validator_infos:\n",
    "        if i['currently-in-committee'] == True:\n",
    "            address = i['validator']['address']\n",
    "            reward_accumulated = i['lifetime']['reward-accumulated']\n",
    "            acc_rewards_prev[address] = reward_accumulated\n",
    "\n",
    "    next_block = block + 1\n",
    "    while block < next_block:\n",
    "        block = getBlockNumber()\n",
    "    logger.info(f\"new block {block} reached, will begin testing...\")\n",
    "    flag = True\n",
    "    # get the validator info and compute validator rewards\n",
    "    acc_rewards_curr = dict()\n",
    "    validator_infos = getAllValidatorInformation()\n",
    "    block_reward = 28e18\n",
    "    validator_rewards = 0\n",
    "    total_reward = 0\n",
    "    signers = 0\n",
    "    for i in validator_infos:\n",
    "        if i['currently-in-committee'] == True:\n",
    "            signers += 1\n",
    "            address = i['validator']['address']\n",
    "            reward_accumulated = i['lifetime']['reward-accumulated']\n",
    "            key_metrics = i['metrics']['by-bls-key']\n",
    "            validator_reward = 0\n",
    "            for by_key in key_metrics:\n",
    "                validator_addr = by_key['key']['earning-account']\n",
    "                by_key_reward = block_reward * float(by_key['key']['overall-percent']) / 0.32\n",
    "                validator_reward += by_key_reward\n",
    "            acc_rewards_curr[address] = reward_accumulated\n",
    "            reward = reward_accumulated\n",
    "            if address in acc_rewards_prev:\n",
    "                reward -= acc_rewards_prev[address]\n",
    "            total_reward += reward\n",
    "            validator_rewards += validator_reward\n",
    "    if format(total_reward, '.20e') != format(validator_rewards, '.20e'):        \n",
    "        logger.warning(f\"Test-R5: Fail\")\n",
    "        logger.warning(f\"block: {block}, validator block reward: {validator_rewards:.20e}, total reward: {total_reward:.20e}, signers: {signers}\\n\")\n",
    "        flag = False\n",
    "    if single:\n",
    "        curr_test = None\n",
    "    else:\n",
    "        curr_test = R6_test\n",
    "    if flag:\n",
    "        logger.info(f\"Test-R5: Succeed\\n\")\n",
    "        return True, curr_test\n",
    "    else:\n",
    "        return False, curr_test"
   ]
  },
  {
   "cell_type": "code",
   "execution_count": 11,
   "metadata": {},
   "outputs": [
    {
     "name": "stderr",
     "output_type": "stream",
     "text": [
      "INFO:economic-test:Test-R5: Reward given out to block signers sums up to the total block reward\n",
      "INFO:economic-test:current and last block numbers: 128796, 128819\n",
      "INFO:economic-test:current block 128796, will begin collecting infos...\n"
     ]
    },
    {
     "name": "stdout",
     "output_type": "stream",
     "text": [
      "current and last block numbers 128796 128819\n"
     ]
    },
    {
     "name": "stderr",
     "output_type": "stream",
     "text": [
      "INFO:economic-test:new block 128797 reached, will begin testing...\n",
      "WARNING:economic-test:Test-R5: Fail\n",
      "WARNING:economic-test:block: 128797, validator block reward: 1.11999999999999967232e+20, total reward: 1.10646250305971388416e+20, signers: 190\n",
      "\n"
     ]
    },
    {
     "data": {
      "text/plain": [
       "(False, None)"
      ]
     },
     "execution_count": 11,
     "metadata": {},
     "output_type": "execute_result"
    }
   ],
   "source": [
    "R5_test(True)"
   ]
  }
 ],
 "metadata": {
  "kernelspec": {
   "display_name": "Python 3",
   "language": "python",
   "name": "python3"
  },
  "language_info": {
   "codemirror_mode": {
    "name": "ipython",
    "version": 3
   },
   "file_extension": ".py",
   "mimetype": "text/x-python",
   "name": "python",
   "nbconvert_exporter": "python",
   "pygments_lexer": "ipython3",
   "version": "3.7.6"
  }
 },
 "nbformat": 4,
 "nbformat_minor": 2
}
