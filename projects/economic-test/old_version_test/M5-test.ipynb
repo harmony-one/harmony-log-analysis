{
 "cells": [
  {
   "cell_type": "code",
   "execution_count": 11,
   "metadata": {},
   "outputs": [],
   "source": [
    "import json\n",
    "import pandas as pd\n",
    "import numpy as np\n",
    "import os\n",
    "import time\n",
    "import requests"
   ]
  },
  {
   "cell_type": "code",
   "execution_count": 12,
   "metadata": {},
   "outputs": [],
   "source": [
    "def get_information(method, params):\n",
    "    url = 'https://api.s0.t.hmny.io/'\n",
    "    headers = {'Content-Type': 'application/json'}\n",
    "    data = {\"jsonrpc\":\"2.0\", \"method\": method, \"params\": params, \"id\":1}\n",
    "    r = requests.post(url, headers=headers, data = json.dumps(data))\n",
    "    content = json.loads(r.content)\n",
    "    return content['result']"
   ]
  },
  {
   "cell_type": "code",
   "execution_count": 13,
   "metadata": {},
   "outputs": [],
   "source": [
    "def getSuperCommittees():\n",
    "    method = \"hmy_getSuperCommittees\"\n",
    "    params = []\n",
    "    return get_information(method, params)['current']"
   ]
  },
  {
   "cell_type": "code",
   "execution_count": 16,
   "metadata": {},
   "outputs": [],
   "source": [
    "def M5_test():\n",
    "    flag = True\n",
    "    # get the median stake and the upper and lower level \n",
    "    result = getSuperCommittees()\n",
    "    median = float(result['epos-median-stake'])\n",
    "    lower = float(median- 0.15*median)\n",
    "    upper = float(median + 0.15*median)\n",
    "    print(\"median stake is \" + str(median))\n",
    "    print(\"lower bond is \" + str(lower))\n",
    "    print(\"upper bond is \" + str(upper))\n",
    "    \n",
    "    shards = result['quorum-deciders']\n",
    "    count = 0\n",
    "    for k, v in shards.items():\n",
    "        members = v['committee-members']\n",
    "        for i in members:\n",
    "            if not i['is-harmony-slot']:\n",
    "                count += 1\n",
    "                stake = float(i['effective-stake'])\n",
    "                bls_key = i['bls-public-key']\n",
    "                addr = i['earning-account']\n",
    "                if stake > upper or stake < lower:\n",
    "                    print(\"validator: \", addr, \" bls public key: \", bls_key) \n",
    "                    print(\"effective stake is out of range. The effective stake is \", stake)\n",
    "                    print(\"\")\n",
    "                    flag = False\n",
    "    print(\"total slots verified:\", count)\n",
    "    if flag:\n",
    "        return True\n",
    "    else:\n",
    "        return False"
   ]
  },
  {
   "cell_type": "code",
   "execution_count": 17,
   "metadata": {},
   "outputs": [
    {
     "name": "stdout",
     "output_type": "stream",
     "text": [
      "median stake is 1.364243909458443e+24\n",
      "lower bond is 1.1596073230396766e+24\n",
      "upper bond is 1.5688804958772096e+24\n",
      "total slots verified: 320\n"
     ]
    },
    {
     "data": {
      "text/plain": [
       "True"
      ]
     },
     "execution_count": 17,
     "metadata": {},
     "output_type": "execute_result"
    }
   ],
   "source": [
    "M5_test()"
   ]
  },
  {
   "cell_type": "code",
   "execution_count": null,
   "metadata": {},
   "outputs": [],
   "source": []
  }
 ],
 "metadata": {
  "kernelspec": {
   "display_name": "Python 3",
   "language": "python",
   "name": "python3"
  },
  "language_info": {
   "codemirror_mode": {
    "name": "ipython",
    "version": 3
   },
   "file_extension": ".py",
   "mimetype": "text/x-python",
   "name": "python",
   "nbconvert_exporter": "python",
   "pygments_lexer": "ipython3",
   "version": "3.7.6"
  }
 },
 "nbformat": 4,
 "nbformat_minor": 2
}
