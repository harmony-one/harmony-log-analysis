{
 "cells": [
  {
   "cell_type": "code",
   "execution_count": 1,
   "metadata": {},
   "outputs": [],
   "source": [
    "import json\n",
    "import pandas as pd\n",
    "import numpy as np\n",
    "import os\n",
    "import time\n",
    "import requests"
   ]
  },
  {
   "cell_type": "code",
   "execution_count": 2,
   "metadata": {},
   "outputs": [],
   "source": [
    "def get_information(method, params):\n",
    "    url = 'https://api.s0.os.hmny.io/'\n",
    "    headers = {'Content-Type': 'application/json'}\n",
    "    data = {\"jsonrpc\":\"2.0\", \"method\": method, \"params\": params, \"id\":1}\n",
    "    r = requests.post(url, headers=headers, data = json.dumps(data))\n",
    "    content = json.loads(r.content)\n",
    "    return content['result']"
   ]
  },
  {
   "cell_type": "code",
   "execution_count": 3,
   "metadata": {},
   "outputs": [],
   "source": [
    "def getSuperCommittees():\n",
    "    method = \"hmy_getSuperCommittees\"\n",
    "    params = []\n",
    "    return get_information(method, params)['current']"
   ]
  },
  {
   "cell_type": "code",
   "execution_count": 4,
   "metadata": {},
   "outputs": [],
   "source": [
    "def M5_test():\n",
    "    flag = True\n",
    "    # get the median stake and the upper and lower level \n",
    "    result = getSuperCommittees()\n",
    "    median = float(result['epos-median-stake'])\n",
    "    lower = float(median- 0.15*median)\n",
    "    upper = float(median + 0.15*median)\n",
    "    print(\"median stake is \" + str(median))\n",
    "    print(\"lower bond is \" + str(lower))\n",
    "    print(\"upper bond is \" + str(upper))\n",
    "    \n",
    "    shards = result['quorum-deciders']\n",
    "    count = 0\n",
    "    for k, v in shards.items():\n",
    "        members = v['committee-members']\n",
    "        for i in members:\n",
    "            if not i['is-harmony-slot']:\n",
    "                count += 1\n",
    "                stake = float(i['effective-stake'])\n",
    "                bls_key = i['bls-public-key']\n",
    "                addr = i['earning-account']\n",
    "                if stake > upper or stake < lower:\n",
    "                    print(\"validator: \", addr, \" bls public key: \", bls_key) \n",
    "                    print(\"effective stake is out of range. The effective stake is \", stake)\n",
    "                    print(\"\")\n",
    "                flag = False\n",
    "    print(\"total slots verified:\", count)\n",
    "    if flag:\n",
    "        return True\n",
    "    else:\n",
    "        return False"
   ]
  },
  {
   "cell_type": "code",
   "execution_count": 5,
   "metadata": {},
   "outputs": [
    {
     "name": "stdout",
     "output_type": "stream",
     "text": [
      "median stake is 1.01e+22\n",
      "lower bond is 8.585e+21\n",
      "upper bond is 1.1614999999999998e+22\n",
      "validator:  one1ygchq3eve4u2majguwh8e55k3ys8l4t5nex224  bls public key:  1599542a6a047d65c8900075e6a92aa03492e0373019e15a729cde20253983dff723fae4be6e0a55e922d923897bc680\n",
      "effective stake is out of range. The effective stake is  1.1615e+22\n",
      "\n",
      "validator:  one1ekup98s5tqxtr5hdzsz664cfy579jpq6w5smrr  bls public key:  718b9ead7b9aaa9cb70570450c6256937c86f08978c8a48b536c2a849f61ff52f1b78b39014064cefc5f223efd45a080\n",
      "effective stake is out of range. The effective stake is  1.1615e+22\n",
      "\n",
      "validator:  one1hwn68w7m5g8daltvrjkmq23qn58nrvr3yz6ryt  bls public key:  48ad00d97fb657f3476b5a8466798f33a23b16615091ebcd3587c14c9aad9e2e28c28fd12a7e9c887e621eb2f7860d00\n",
      "effective stake is out of range. The effective stake is  1.1615e+22\n",
      "\n",
      "validator:  one149h38k3rt8m8gfaxxfn3zn43lqt6mzlvthcy5e  bls public key:  85dde30f23ffd30b511582550a20d675e96beaf348af5c1401eaef69e8485ac867cd78e9d4e59f42d9c65b8ae4466981\n",
      "effective stake is out of range. The effective stake is  1.1615e+22\n",
      "\n",
      "validator:  one149h38k3rt8m8gfaxxfn3zn43lqt6mzlvthcy5e  bls public key:  e3edfffe41b25d2816a8e3f55da76d89a261e2173ca9a7528577f354990a1cad663300f6b8e17f43ced4257fe10bbe05\n",
      "effective stake is out of range. The effective stake is  1.1615e+22\n",
      "\n",
      "validator:  one19cuygr776f7j9ep97hjm0np9ay6nus9w5msy0n  bls public key:  be205ec86841a3b96249f80e364c416a63b938617ade36b6798b377188d99bf27b5e85189116f4a4ba1b7a0c060cb115\n",
      "effective stake is out of range. The effective stake is  1.1615e+22\n",
      "\n",
      "validator:  one1qe9wp88t048y6r9hlzf42jqv6v8cfnk5enl94c  bls public key:  2c0ba52118e3f3ad5130b189a2040a3f47b608ce698e4eefaef6acd97b0ba5aa8c2ff0d28189faf9c7f094ccca6e6c09\n",
      "effective stake is out of range. The effective stake is  1.1615e+22\n",
      "\n",
      "validator:  one1m3w07gke5ekxg8yyj66v5eky5wx2e5kvqh3fkc  bls public key:  e1049c214ef21c3954d5ef0ca0132256fce020b8096ead11debab5aa5f05e09bdb3aaf2a2816536373ccc0c05623b215\n",
      "effective stake is out of range. The effective stake is  1.1615e+22\n",
      "\n",
      "validator:  one1v23gu2vl237uzqgcnwnnm8nqv4ckr6zehfkm0f  bls public key:  63aec947fc6ec0bbba103f9806c8e2385a22c1145dfbb436528c8eaaf65bed83c9f7ec5ec175b74c25556a8c40e2cd0a\n",
      "effective stake is out of range. The effective stake is  1.1615e+22\n",
      "\n",
      "validator:  one1v23gu2vl237uzqgcnwnnm8nqv4ckr6zehfkm0f  bls public key:  e29baf2061204800d9b5c6f9816cd2b9db88e88527ce4827fc8fd6c9e01d8bf6787ae5b3ab66da88008debce3dc38c92\n",
      "effective stake is out of range. The effective stake is  1.1615e+22\n",
      "\n",
      "validator:  one1v23gu2vl237uzqgcnwnnm8nqv4ckr6zehfkm0f  bls public key:  64f42cfab2c911d0094c25e828953baf427484eea61f9a419b4f990f65e8632052d421dfedf648a7be5432924fd60002\n",
      "effective stake is out of range. The effective stake is  1.1615e+22\n",
      "\n",
      "validator:  one1v23gu2vl237uzqgcnwnnm8nqv4ckr6zehfkm0f  bls public key:  54912c5b045908c6e1afd66213ad16d72fd453b3064f7cec2cea9fe97b61cf25521ba71441bce11442b354eb55754a06\n",
      "effective stake is out of range. The effective stake is  1.1615e+22\n",
      "\n",
      "validator:  one1v23gu2vl237uzqgcnwnnm8nqv4ckr6zehfkm0f  bls public key:  9559c7423498a5ac374dd3443b43847091adb56f374d4f561a99f4650497c1c0d7805b0cebce203b624ac75f172c2b8e\n",
      "effective stake is out of range. The effective stake is  1.1615e+22\n",
      "\n",
      "validator:  one149h38k3rt8m8gfaxxfn3zn43lqt6mzlvthcy5e  bls public key:  09daca3c60481be37ee1ce96bfd6c3fe8becfb92d2341f74e37d9188c191a1ab204a1b0f91913441717cfbcce6036a0f\n",
      "effective stake is out of range. The effective stake is  1.1615e+22\n",
      "\n",
      "validator:  one149h38k3rt8m8gfaxxfn3zn43lqt6mzlvthcy5e  bls public key:  ab08be98ef02d0d0000eb21314121854ff9db7445aae41a7872be40d4fbdb1596bd70fbb16c96a582dae008370365f17\n",
      "effective stake is out of range. The effective stake is  1.1615e+22\n",
      "\n",
      "total slots verified: 34\n"
     ]
    },
    {
     "data": {
      "text/plain": [
       "False"
      ]
     },
     "execution_count": 5,
     "metadata": {},
     "output_type": "execute_result"
    }
   ],
   "source": [
    "M5_test()"
   ]
  },
  {
   "cell_type": "code",
   "execution_count": null,
   "metadata": {},
   "outputs": [],
   "source": []
  }
 ],
 "metadata": {
  "kernelspec": {
   "display_name": "Python 3",
   "language": "python",
   "name": "python3"
  },
  "language_info": {
   "codemirror_mode": {
    "name": "ipython",
    "version": 3
   },
   "file_extension": ".py",
   "mimetype": "text/x-python",
   "name": "python",
   "nbconvert_exporter": "python",
   "pygments_lexer": "ipython3",
   "version": "3.7.6"
  }
 },
 "nbformat": 4,
 "nbformat_minor": 2
}
