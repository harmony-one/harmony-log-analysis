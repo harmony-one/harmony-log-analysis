{
 "cells": [
  {
   "cell_type": "code",
   "execution_count": 1,
   "metadata": {},
   "outputs": [],
   "source": [
    "import json\n",
    "import pandas as pd\n",
    "import numpy as np\n",
    "import time\n",
    "import requests\n",
    "import copy \n",
    "import logging"
   ]
  },
  {
   "cell_type": "code",
   "execution_count": 2,
   "metadata": {},
   "outputs": [],
   "source": [
    "logging.basicConfig(level=logging.INFO)\n",
    "logger = logging.getLogger(\"economic-test\")\n",
    "logger.setLevel(logging.INFO)"
   ]
  },
  {
   "cell_type": "code",
   "execution_count": 3,
   "metadata": {},
   "outputs": [],
   "source": [
    "def get_information(method, params):\n",
    "#     url = 'https://api.s0.os.hmny.io/'\n",
    "    url = 'https://api.s0.dry.hmny.io'\n",
    "    headers = {'Content-Type': 'application/json'}\n",
    "    data = {\"jsonrpc\":\"2.0\", \"method\": method, \"params\": params, \"id\":1}\n",
    "    r = requests.post(url, headers=headers, data = json.dumps(data))\n",
    "    content = json.loads(r.content)\n",
    "    return content"
   ]
  },
  {
   "cell_type": "code",
   "execution_count": 4,
   "metadata": {},
   "outputs": [],
   "source": [
    "def getBlockNumber():\n",
    "    method = \"hmy_blockNumber\"\n",
    "    params = []\n",
    "    num = get_information(method, params)['result']\n",
    "    return int(num, 16)"
   ]
  },
  {
   "cell_type": "code",
   "execution_count": 5,
   "metadata": {},
   "outputs": [],
   "source": [
    "def getLastBlockOfCurrentEpoch():\n",
    "    method = 'hmy_getStakingNetworkInfo'\n",
    "    params = []\n",
    "    return get_information(method, params)['result']['epoch-last-block']"
   ]
  },
  {
   "cell_type": "code",
   "execution_count": 6,
   "metadata": {},
   "outputs": [],
   "source": [
    "def getCurrentAndLastBlock():\n",
    "    block = getBlockNumber()\n",
    "    last_block = getLastBlockOfCurrentEpoch()\n",
    "    print(\"current and last block numbers\", block, last_block)\n",
    "    return block, last_block"
   ]
  },
  {
   "cell_type": "code",
   "execution_count": 7,
   "metadata": {},
   "outputs": [],
   "source": [
    "def getAllValidatorInformation():\n",
    "    method = 'hmy_getAllValidatorInformation'\n",
    "    params = [-1]\n",
    "    return get_information(method, params)['result'] "
   ]
  },
  {
   "cell_type": "code",
   "execution_count": 8,
   "metadata": {},
   "outputs": [],
   "source": [
    "def getAdjustment():\n",
    "    method = 'hmy_getCurrentUtilityMetrics'\n",
    "    params = []\n",
    "    num = get_information(method, params)['result']['Adjustment']\n",
    "    return float(num)"
   ]
  },
  {
   "cell_type": "code",
   "execution_count": 9,
   "metadata": {},
   "outputs": [],
   "source": [
    "def getBlockSigners(blockNum):\n",
    "    method = 'hmy_getBlockSigners'\n",
    "    params = [blockNum]\n",
    "    return get_information(method, params)['result']"
   ]
  },
  {
   "cell_type": "code",
   "execution_count": 13,
   "metadata": {},
   "outputs": [],
   "source": [
    "def R6_test(single):\n",
    "    logger.info(f\"Test-R6: Tests whether the delegation reward is distributed correctly\")\n",
    "    \n",
    "    block, last_block = getCurrentAndLastBlock()\n",
    "    logger.info(f\"current and last block numbers: {block}, {last_block}\")\n",
    "\n",
    "    if block != last_block:\n",
    "        while block < last_block:\n",
    "            block = getBlockNumber()\n",
    "        logger.info(f\"current block {block}, will begin collecting delegator infos...\")\n",
    "        \n",
    "    \n",
    "    acc_rewards_prev = dict()\n",
    "    delegations_prev = dict()\n",
    "    total_stake = dict()\n",
    "    validator_infos = getAllValidatorInformation()\n",
    "    for i in validator_infos:\n",
    "        if i['currently-in-committee'] == True:\n",
    "            address = i['validator']['address']\n",
    "            reward_accumulated = i['lifetime']['reward-accumulated']\n",
    "            acc_rewards_prev[address] = reward_accumulated\n",
    "            ds = i['validator']['delegations']\n",
    "            dels = dict()\n",
    "            for d in ds:\n",
    "                d_addr = d['delegator-address']\n",
    "                d_reward = d['reward']\n",
    "                dels[d_addr] = d_reward\n",
    "            delegations_prev[address] = dels\n",
    "            total_stake[address] = i['total-delegation']\n",
    "    logger.info(f\"wait until the 20th block to wait for non-beacon shard delay\")\n",
    "    next_block = block + 19\n",
    "    while block < next_block:\n",
    "        block = getBlockNumber()\n",
    "    flag = True\n",
    "    num = 2\n",
    "    iterations = 0\n",
    "    while iterations < num:\n",
    "        next_block = block + 1\n",
    "        while block < next_block:\n",
    "            block = getBlockNumber()\n",
    "        logger.info(f\"new block {block} reached, will begin testing...\")\n",
    "        # get the validator info and compute validator rewards\n",
    "        acc_rewards_curr = dict()\n",
    "        delegations_curr = dict()\n",
    "        validator_infos = getAllValidatorInformation()\n",
    "        for i in validator_infos:\n",
    "            if i['currently-in-committee'] == True:\n",
    "                address = i['validator']['address']\n",
    "                if (address not in delegations_prev) or (address not in acc_rewards_prev):\n",
    "                    continue\n",
    "                reward_accumulated = i['lifetime']['reward-accumulated']\n",
    "                acc_rewards_curr[address] = reward_accumulated\n",
    "                reward = reward_accumulated - acc_rewards_prev[address]\n",
    "                if reward == 0:\n",
    "                    continue\n",
    "                commission = float(i['validator']['rate']) * reward\n",
    "                total_delegation_reward = reward - commission\n",
    "                total_delegation = total_stake[address]\n",
    "                ds = i['validator']['delegations']            \n",
    "                dels = delegations_prev[address]\n",
    "                dels_curr = dict()\n",
    "                for d in ds:\n",
    "                    d_addr = d['delegator-address']\n",
    "                    if d_addr not in dels:\n",
    "                        continue\n",
    "                    d_reward = d['reward']\n",
    "                    dels_curr[d_addr] = d_reward\n",
    "                    d_amount = d['amount']\n",
    "                    delegation_reward_actual = d_reward\n",
    "                    if d_addr in dels:\n",
    "                        delegation_reward_actual = delegation_reward_actual - dels[d_addr]\n",
    "                    percentage = d_amount / total_delegation\n",
    "                    delegation_reward_expected = percentage * total_delegation_reward\n",
    "                    if d_addr == address:\n",
    "                        delegation_reward_expected = delegation_reward_expected + commission\n",
    "                    if format(delegation_reward_actual, '.15e') != format(delegation_reward_expected, '.15e'):\n",
    "                        logger.warning(f\"Test-R6: Fail\")\n",
    "                        logger.warning(f\"for validator {address} delegation {d_addr}, expected: {delegation_reward_expected:.15e}, actual: {delegation_reward_actual:.15e}\\n\")\n",
    "                        flag = False\n",
    "                delegations_curr[address] = dels_curr\n",
    "        iterations += 1\n",
    "        acc_rewards_prev = copy.deepcopy(acc_rewards_curr)\n",
    "        delegations_prev = copy.deepcopy(delegations_curr)\n",
    "    if single:\n",
    "        curr_test = None\n",
    "    else:\n",
    "        curr_test = R7_test\n",
    "    if flag:\n",
    "        logger.info(f\"Test-R6: Succeed\\n\")\n",
    "        return True, curr_test\n",
    "    else:\n",
    "        return False, curr_test"
   ]
  },
  {
   "cell_type": "code",
   "execution_count": 14,
   "metadata": {},
   "outputs": [
    {
     "name": "stderr",
     "output_type": "stream",
     "text": [
      "INFO:economic-test:Test-R6: Tests whether the delegation reward is distributed correctly\n",
      "INFO:economic-test:current and last block numbers: 3225157, 3225169\n"
     ]
    },
    {
     "name": "stdout",
     "output_type": "stream",
     "text": [
      "current and last block numbers 3225157 3225169\n"
     ]
    },
    {
     "name": "stderr",
     "output_type": "stream",
     "text": [
      "INFO:economic-test:current block 3225169, will begin collecting delegator infos...\n",
      "INFO:economic-test:wait until the 20th block to wait for non-beacon shard delay\n",
      "INFO:economic-test:new block 3225189 reached, will begin testing...\n",
      "WARNING:economic-test:Test-R6: Fail\n",
      "WARNING:economic-test:for validator one1tpxl87y4g8ecsm6ceqay49qxyl5vs94jjyfvd9 delegation one1tpxl87y4g8ecsm6ceqay49qxyl5vs94jjyfvd9, expected: 2.866976744186047e+20, actual: 2.866976744186046e+20\n",
      "\n",
      "WARNING:economic-test:Test-R6: Fail\n",
      "WARNING:economic-test:for validator one1fd094898rfktel7rezmk65zql3cjzhw9zgxcff delegation one1fd094898rfktel7rezmk65zql3cjzhw9zgxcff, expected: 6.513740458015268e+19, actual: 6.513740458015267e+19\n",
      "\n",
      "WARNING:economic-test:Test-R6: Fail\n",
      "WARNING:economic-test:for validator one1fd094898rfktel7rezmk65zql3cjzhw9zgxcff delegation one1tpxl87y4g8ecsm6ceqay49qxyl5vs94jjyfvd9, expected: 5.530534351145039e+18, actual: 5.530534351145038e+18\n",
      "\n",
      "WARNING:economic-test:Test-R6: Fail\n",
      "WARNING:economic-test:for validator one16295hjtqyr0z22swaqthv7mvmvn2gltnj5gera delegation one16295hjtqyr0z22swaqthv7mvmvn2gltnj5gera, expected: 9.048039783636271e+19, actual: 9.048039783636269e+19\n",
      "\n",
      "INFO:economic-test:new block 3225190 reached, will begin testing...\n",
      "WARNING:economic-test:Test-R6: Fail\n",
      "WARNING:economic-test:for validator one1km7xg8e3xjys7azp9f4xp8hkw79vm2h3f2lade delegation one1fd094898rfktel7rezmk65zql3cjzhw9zgxcff, expected: 5.434887482618690e+17, actual: 5.434887482618689e+17\n",
      "\n"
     ]
    },
    {
     "data": {
      "text/plain": [
       "(False, None)"
      ]
     },
     "execution_count": 14,
     "metadata": {},
     "output_type": "execute_result"
    }
   ],
   "source": [
    "R6_test(True)"
   ]
  },
  {
   "cell_type": "code",
   "execution_count": null,
   "metadata": {},
   "outputs": [],
   "source": []
  }
 ],
 "metadata": {
  "kernelspec": {
   "display_name": "Python 3",
   "language": "python",
   "name": "python3"
  },
  "language_info": {
   "codemirror_mode": {
    "name": "ipython",
    "version": 3
   },
   "file_extension": ".py",
   "mimetype": "text/x-python",
   "name": "python",
   "nbconvert_exporter": "python",
   "pygments_lexer": "ipython3",
   "version": "3.7.6"
  }
 },
 "nbformat": 4,
 "nbformat_minor": 2
}
