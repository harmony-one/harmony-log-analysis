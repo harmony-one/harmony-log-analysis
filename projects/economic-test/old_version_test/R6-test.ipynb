{
 "cells": [
  {
   "cell_type": "code",
   "execution_count": 1,
   "metadata": {},
   "outputs": [],
   "source": [
    "import json\n",
    "import pandas as pd\n",
    "import numpy as np\n",
    "import time\n",
    "import requests"
   ]
  },
  {
   "cell_type": "code",
   "execution_count": 2,
   "metadata": {},
   "outputs": [],
   "source": [
    "def get_information(method, params):\n",
    "    url = 'https://api.s0.os.hmny.io/'\n",
    "    headers = {'Content-Type': 'application/json'}\n",
    "    data = {\"jsonrpc\":\"2.0\", \"method\": method, \"params\": params, \"id\":1}\n",
    "    r = requests.post(url, headers=headers, data = json.dumps(data))\n",
    "    content = json.loads(r.content)\n",
    "    return content"
   ]
  },
  {
   "cell_type": "code",
   "execution_count": 3,
   "metadata": {},
   "outputs": [],
   "source": [
    "def getBlockNumber():\n",
    "    method = \"hmy_blockNumber\"\n",
    "    params = []\n",
    "    num = get_information(method, params)['result']\n",
    "    return int(num, 16)"
   ]
  },
  {
   "cell_type": "code",
   "execution_count": 4,
   "metadata": {},
   "outputs": [],
   "source": [
    "def getAllValidatorInformation():\n",
    "    method = 'hmy_getAllValidatorInformation'\n",
    "    params = [-1]\n",
    "    return get_information(method, params)['result'] "
   ]
  },
  {
   "cell_type": "code",
   "execution_count": 5,
   "metadata": {},
   "outputs": [],
   "source": [
    "def getAdjustment():\n",
    "    method = 'hmy_getCurrentUtilityMetrics'\n",
    "    params = []\n",
    "    num = get_information(method, params)['result']['Adjustment']\n",
    "    return float(num)"
   ]
  },
  {
   "cell_type": "code",
   "execution_count": 6,
   "metadata": {},
   "outputs": [],
   "source": [
    "def getBlockSigners(blockNum):\n",
    "    method = 'hmy_getBlockSigners'\n",
    "    params = [blockNum]\n",
    "    return get_information(method, params)['result']"
   ]
  },
  {
   "cell_type": "code",
   "execution_count": 7,
   "metadata": {},
   "outputs": [],
   "source": [
    "def R6_test():\n",
    "    print(\"Test-R6: Tests whether the delegation reward is distributed correctly\")\n",
    "    num = int(input(\"enter the number of blocks you want to test: \"))\n",
    "    \n",
    "    current_block = getBlockNumber()\n",
    "    next_block = current_block + 1\n",
    "    \n",
    "    acc_rewards_prev = dict()\n",
    "    delegations_prev = dict()\n",
    "    validator_infos = getAllValidatorInformation()\n",
    "    for i in validator_infos:\n",
    "        if i['currently-in-committee'] == True:\n",
    "            address = i['validator']['address']\n",
    "            reward_accumulated = i['lifetime']['reward-accumulated']\n",
    "            acc_rewards_prev[address] = reward_accumulated\n",
    "            ds = i['validator']['delegations']\n",
    "            dels = dict()\n",
    "            for d in ds:\n",
    "                d_addr = d['delegator-address']\n",
    "                d_reward = d['reward']\n",
    "                dels[d_addr] = d_reward\n",
    "            delegations_prev[address] = dels\n",
    "            \n",
    "    current_block = getBlockNumber()\n",
    "    while current_block < next_block:\n",
    "        current_block = getBlockNumber()\n",
    "    \n",
    "    iterations = 0\n",
    "    while iterations < num:\n",
    "        print(\"current block\", current_block)\n",
    "        # get the validator info and compute validator rewards\n",
    "        acc_rewards_curr = dict()\n",
    "        delegations_curr = dict()\n",
    "        validator_infos = getAllValidatorInformation()\n",
    "        for i in validator_infos:\n",
    "            if i['currently-in-committee'] == True:\n",
    "                address = i['validator']['address']\n",
    "                reward_accumulated = i['lifetime']['reward-accumulated']\n",
    "                acc_rewards_curr[address] = reward_accumulated\n",
    "                if address not in acc_rewards_prev:\n",
    "                    continue\n",
    "                reward = reward_accumulated - acc_rewards_prev[address]\n",
    "                if reward == 0:\n",
    "                    continue\n",
    "                elif reward < 0:\n",
    "                    reward = -reward # first time delegations\n",
    "                commission = float(i['validator']['rate']) * reward\n",
    "                total_delegation_reward = reward - commission\n",
    "                total_delegation = i['total-delegation']\n",
    "                ds = i['validator']['delegations']\n",
    "                del_rewards = 0\n",
    "                dels = delegations_prev[address]\n",
    "                dels_curr = dict()\n",
    "                for d in ds:\n",
    "                    d_addr = d['delegator-address']\n",
    "                    d_reward = d['reward']\n",
    "                    dels_curr[d_addr] = d_reward\n",
    "                    d_amount = d['amount']\n",
    "                    delegation_reward_actual = d_reward\n",
    "                    if d_addr in dels:\n",
    "                        delegation_reward_actual = delegation_reward_actual - dels[d_addr]\n",
    "                    percentage = d_amount / total_delegation\n",
    "                    delegation_reward_expected = int(percentage * total_delegation_reward)\n",
    "                    if d_addr == address:\n",
    "                        delegation_reward_expected = delegation_reward_expected + commission\n",
    "                    if \"{:.15e}\".delegation_reward_actual != \"{:.15e}\".delegation_reward_expected:\n",
    "                        print(\"Test R6: Fail for validator\", address, \"delegation\", d_addr, \\\n",
    "                            \"expected\", \"{:.15e}\".delegation_reward_expected, \\\n",
    "                            \"actual\", \"{:.15e}\".format(delegation_reward_actual))\n",
    "                delegations_curr[address] = dels_curr\n",
    "        last_block = current_block\n",
    "        current_block = getBlockNumber()\n",
    "        while current_block == last_block:\n",
    "            current_block = getBlockNumber()\n",
    "        \n",
    "        acc_rewards_prev = acc_rewards_curr\n",
    "        delegations_prev = delegations_curr\n",
    "              \n",
    "        iterations = iterations + 1"
   ]
  },
  {
   "cell_type": "code",
   "execution_count": 8,
   "metadata": {},
   "outputs": [
    {
     "name": "stdout",
     "output_type": "stream",
     "text": [
      "Test-R6: Tests whether the delegation reward is distributed correctly\n",
      "enter the number of blocks you want to test: 1\n",
      "current block 815\n",
      "Test R6: Fail for validator one1tpxl87y4g8ecsm6ceqay49qxyl5vs94jjyfvd9 delegation one1tpxl87y4g8ecsm6ceqay49qxyl5vs94jjyfvd9 expected 9.787693966485529e+18 actual 9.78769396648552857600e+18\n",
      "Test R6: Fail for validator one1tpxl87y4g8ecsm6ceqay49qxyl5vs94jjyfvd9 delegation one1km7xg8e3xjys7azp9f4xp8hkw79vm2h3f2lade expected 257217407943381216 actual 2.57217407943381184000e+17\n",
      "Test R6: Fail for validator one1tpxl87y4g8ecsm6ceqay49qxyl5vs94jjyfvd9 delegation one1gm8xwupd9e77ja46eaxv8tk4ea7re5zknaauvq expected 771652223830143616 actual 7.71652223830143616000e+17\n"
     ]
    }
   ],
   "source": [
    "R6_test()"
   ]
  },
  {
   "cell_type": "code",
   "execution_count": null,
   "metadata": {},
   "outputs": [],
   "source": []
  }
 ],
 "metadata": {
  "kernelspec": {
   "display_name": "Python 3",
   "language": "python",
   "name": "python3"
  },
  "language_info": {
   "codemirror_mode": {
    "name": "ipython",
    "version": 3
   },
   "file_extension": ".py",
   "mimetype": "text/x-python",
   "name": "python",
   "nbconvert_exporter": "python",
   "pygments_lexer": "ipython3",
   "version": "3.7.6"
  }
 },
 "nbformat": 4,
 "nbformat_minor": 2
}
