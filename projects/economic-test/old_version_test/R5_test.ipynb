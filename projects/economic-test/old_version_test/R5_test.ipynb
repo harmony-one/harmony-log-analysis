{
 "cells": [
  {
   "cell_type": "code",
   "execution_count": 1,
   "metadata": {},
   "outputs": [],
   "source": [
    "import json\n",
    "import pandas as pd\n",
    "import numpy as np\n",
    "import time\n",
    "import requests\n",
    "import logging\n",
    "from collections import defaultdict"
   ]
  },
  {
   "cell_type": "code",
   "execution_count": 2,
   "metadata": {},
   "outputs": [],
   "source": [
    "logging.basicConfig(level=logging.INFO)\n",
    "logger = logging.getLogger(\"economic-test\")\n",
    "logger.setLevel(logging.INFO)"
   ]
  },
  {
   "cell_type": "code",
   "execution_count": 3,
   "metadata": {},
   "outputs": [],
   "source": [
    "def get_information(method, params):\n",
    "    url = 'https://api.s0.os.hmny.io/'\n",
    "    headers = {'Content-Type': 'application/json'}\n",
    "    data = {\"jsonrpc\":\"2.0\", \"method\": method, \"params\": params, \"id\":1}\n",
    "    r = requests.post(url, headers=headers, data = json.dumps(data))\n",
    "    content = json.loads(r.content)\n",
    "    return content"
   ]
  },
  {
   "cell_type": "code",
   "execution_count": 4,
   "metadata": {},
   "outputs": [],
   "source": [
    "def getBlockNumber():\n",
    "    method = \"hmy_blockNumber\"\n",
    "    params = []\n",
    "    num = get_information(method, params)['result']\n",
    "    return int(num, 16)"
   ]
  },
  {
   "cell_type": "code",
   "execution_count": 5,
   "metadata": {},
   "outputs": [],
   "source": [
    "def getLastBlockOfCurrentEpoch():\n",
    "    method = 'hmy_getStakingNetworkInfo'\n",
    "    params = []\n",
    "    return get_information(method, params)['result']['epoch-last-block']"
   ]
  },
  {
   "cell_type": "code",
   "execution_count": 6,
   "metadata": {},
   "outputs": [],
   "source": [
    "def getCurrentAndLastBlock():\n",
    "    block = getBlockNumber()\n",
    "    last_block = getLastBlockOfCurrentEpoch()\n",
    "    print(\"current and last block numbers\", block, last_block)\n",
    "    return block, last_block"
   ]
  },
  {
   "cell_type": "code",
   "execution_count": 7,
   "metadata": {},
   "outputs": [],
   "source": [
    "def getAllValidatorInformation():\n",
    "    method = 'hmy_getAllValidatorInformation'\n",
    "    params = [-1]\n",
    "    return get_information(method, params)['result'] "
   ]
  },
  {
   "cell_type": "code",
   "execution_count": 8,
   "metadata": {},
   "outputs": [],
   "source": [
    "def getSuperCommittees():\n",
    "    method = \"hmy_getSuperCommittees\"\n",
    "    params = []\n",
    "    return get_information(method, params)['result']['current']"
   ]
  },
  {
   "cell_type": "code",
   "execution_count": 9,
   "metadata": {},
   "outputs": [],
   "source": [
    "def diffAndFilter(map1, map2):\n",
    "    map3 = dict()\n",
    "    for k, v in map2.items():\n",
    "        if k in map1:\n",
    "#             if v - map1[k] != 0:\n",
    "            map3[k] = v - map1[k]\n",
    "    return map3"
   ]
  },
  {
   "cell_type": "code",
   "execution_count": 10,
   "metadata": {},
   "outputs": [],
   "source": [
    "def diffAndFilter2(map1, map2):\n",
    "    map3 = dict()\n",
    "    for key, val in map2.items():\n",
    "        diff = dict()\n",
    "        for k, v in map2[key].items():\n",
    "#             if v - map1[key][k] != 0:\n",
    "            diff[k] = v - map1[key][k]\n",
    "        map3[key] = diff\n",
    "    return map3"
   ]
  },
  {
   "cell_type": "code",
   "execution_count": 11,
   "metadata": {},
   "outputs": [],
   "source": [
    "def getValidatorInfo(validator):\n",
    "    method = \"hmy_getValidatorInformation\"\n",
    "    params = [validator]\n",
    "    return get_information(method, params)['result']"
   ]
  },
  {
   "cell_type": "code",
   "execution_count": 12,
   "metadata": {},
   "outputs": [],
   "source": [
    "def R5_test(single):\n",
    "    logger.info(f\"Test-R5: Reward given out to block signers sums up to the total block reward\")\n",
    "    logger.info(f\"check sum over earned-reward diff of all keys per shard = 28\")\n",
    "    block, last_block = getCurrentAndLastBlock()\n",
    "    logger.info(f\"current and last block numbers: {block}, {last_block}\")\n",
    "    if block == last_block or block == last_block -1:\n",
    "        logger.info(f\"current at the last block or last second block, wait until the first block in the new epoch\")\n",
    "        while block < last_block+1:\n",
    "            block = getBlockNumber()\n",
    "                    \n",
    "    next_block = block + 1\n",
    "    while block < next_block:\n",
    "        block = getBlockNumber()\n",
    "    time.sleep(3)\n",
    "    logger.info(f\"current block {block}, will begin collecting infos...\")\n",
    "\n",
    "    earn_rewards_prev = defaultdict(dict)\n",
    "    validator_infos = getAllValidatorInformation()\n",
    "    for i in validator_infos:\n",
    "        if i['metrics']:\n",
    "            for k in i['metrics']['by-bls-key']:\n",
    "                key = k['key']\n",
    "                shard = key['shard-id']\n",
    "                bls_key = key['bls-public-key']\n",
    "                earn_reward = k['earned-reward']\n",
    "                earn_rewards_prev[shard][bls_key] = earn_reward\n",
    "                \n",
    "    next_block = block + 1\n",
    "    while block < next_block:\n",
    "        block = getBlockNumber()\n",
    "    time.sleep(3)\n",
    "    logger.info(f\"new block {block} reached, will begin testing...\")\n",
    "    flag = True\n",
    "    # get the validator info and compute validator rewards\n",
    "    earn_rewards_curr = defaultdict(dict)\n",
    "    validator_infos = getAllValidatorInformation()\n",
    "    block_reward = 28e18\n",
    "    for i in validator_infos:\n",
    "        if i['metrics']:\n",
    "            for k in i['metrics']['by-bls-key']:\n",
    "                key = k['key']\n",
    "                shard = key['shard-id']\n",
    "                bls_key = key['bls-public-key']\n",
    "                earn_reward = k['earned-reward']\n",
    "                earn_rewards_curr[shard][bls_key] = earn_reward\n",
    "    earn_reward_diff = diffAndFilter2(earn_rewards_prev, earn_rewards_curr) \n",
    "    for shard, diff in earn_reward_diff.items():\n",
    "        reward = sum(diff.values())\n",
    "        if format(reward, '.20e') != format(block_reward, '.20e'):\n",
    "            logger.warning(f\"Test-R5: Fail\")\n",
    "            logger.warning(f\"shard: {shard}, block: {block}, sum of earned reward: {reward:.20e}, block reward: {block_reward:.20e}\\n\")\n",
    "            flag = False\n",
    "    \n",
    "    if single:\n",
    "        curr_test = None\n",
    "    else:\n",
    "        curr_test = R6_test\n",
    "    if flag:\n",
    "        logger.info(f\"Test-R5: Succeed\\n\")\n",
    "        return True, curr_test\n",
    "    else:\n",
    "        return False, curr_test"
   ]
  },
  {
   "cell_type": "code",
   "execution_count": 13,
   "metadata": {},
   "outputs": [
    {
     "name": "stderr",
     "output_type": "stream",
     "text": [
      "INFO:economic-test:Test-R5: Reward given out to block signers sums up to the total block reward\n",
      "INFO:economic-test:check sum over earned-reward diff of all keys per shard = 28\n",
      "INFO:economic-test:current and last block numbers: 2663, 2699\n"
     ]
    },
    {
     "name": "stdout",
     "output_type": "stream",
     "text": [
      "current and last block numbers 2663 2699\n"
     ]
    },
    {
     "name": "stderr",
     "output_type": "stream",
     "text": [
      "INFO:economic-test:current block 2664, will begin collecting infos...\n",
      "INFO:economic-test:new block 2665 reached, will begin testing...\n",
      "INFO:economic-test:Test-R5: Succeed\n",
      "\n"
     ]
    },
    {
     "data": {
      "text/plain": [
       "(True, None)"
      ]
     },
     "execution_count": 13,
     "metadata": {},
     "output_type": "execute_result"
    }
   ],
   "source": [
    "R5_test(True)"
   ]
  },
  {
   "cell_type": "code",
   "execution_count": null,
   "metadata": {},
   "outputs": [],
   "source": []
  }
 ],
 "metadata": {
  "kernelspec": {
   "display_name": "Python 3",
   "language": "python",
   "name": "python3"
  },
  "language_info": {
   "codemirror_mode": {
    "name": "ipython",
    "version": 3
   },
   "file_extension": ".py",
   "mimetype": "text/x-python",
   "name": "python",
   "nbconvert_exporter": "python",
   "pygments_lexer": "ipython3",
   "version": "3.7.6"
  }
 },
 "nbformat": 4,
 "nbformat_minor": 2
}
