{
 "cells": [
  {
   "cell_type": "code",
   "execution_count": 45,
   "metadata": {},
   "outputs": [],
   "source": [
    "import json\n",
    "import pandas as pd\n",
    "import numpy as np\n",
    "import time\n",
    "import requests\n",
    "import logging\n",
    "from collections import defaultdict"
   ]
  },
  {
   "cell_type": "code",
   "execution_count": 46,
   "metadata": {},
   "outputs": [],
   "source": [
    "logging.basicConfig(level=logging.INFO)\n",
    "logger = logging.getLogger(\"economic-test\")\n",
    "logger.setLevel(logging.INFO)"
   ]
  },
  {
   "cell_type": "code",
   "execution_count": 47,
   "metadata": {},
   "outputs": [],
   "source": [
    "def get_information(method, params):\n",
    "#     url = 'https://api.s0.os.hmny.io/'\n",
    "    url = 'https://api.s0.t.hmny.io/'\n",
    "    headers = {'Content-Type': 'application/json'}\n",
    "    data = {\"jsonrpc\":\"2.0\", \"method\": method, \"params\": params, \"id\":1}\n",
    "    r = requests.post(url, headers=headers, data = json.dumps(data))\n",
    "    content = json.loads(r.content)\n",
    "    return content"
   ]
  },
  {
   "cell_type": "code",
   "execution_count": 48,
   "metadata": {},
   "outputs": [],
   "source": [
    "def getBlockNumber():\n",
    "    method = \"hmy_blockNumber\"\n",
    "    params = []\n",
    "    num = get_information(method, params)['result']\n",
    "    return int(num, 16)"
   ]
  },
  {
   "cell_type": "code",
   "execution_count": 49,
   "metadata": {},
   "outputs": [],
   "source": [
    "def getLastBlockOfCurrentEpoch():\n",
    "    method = 'hmy_getStakingNetworkInfo'\n",
    "    params = []\n",
    "    return get_information(method, params)['result']['epoch-last-block']"
   ]
  },
  {
   "cell_type": "code",
   "execution_count": 50,
   "metadata": {},
   "outputs": [],
   "source": [
    "def getCurrentAndLastBlock():\n",
    "    block = getBlockNumber()\n",
    "    last_block = getLastBlockOfCurrentEpoch()\n",
    "    print(\"current and last block numbers\", block, last_block)\n",
    "    return block, last_block"
   ]
  },
  {
   "cell_type": "code",
   "execution_count": 51,
   "metadata": {},
   "outputs": [],
   "source": [
    "def getAllValidatorInformation():\n",
    "    method = 'hmy_getAllValidatorInformation'\n",
    "    params = [-1]\n",
    "    return get_information(method, params)['result'] "
   ]
  },
  {
   "cell_type": "code",
   "execution_count": 52,
   "metadata": {},
   "outputs": [],
   "source": [
    "def getAllValidatorInformation():\n",
    "    method = 'hmy_getAllValidatorInformation'\n",
    "    params = [-1]\n",
    "    return get_information(method, params)['result'] "
   ]
  },
  {
   "cell_type": "code",
   "execution_count": 53,
   "metadata": {},
   "outputs": [],
   "source": [
    "def getSuperCommittees():\n",
    "    method = \"hmy_getSuperCommittees\"\n",
    "    params = []\n",
    "    return get_information(method, params)['result']['current']"
   ]
  },
  {
   "cell_type": "code",
   "execution_count": 54,
   "metadata": {},
   "outputs": [],
   "source": [
    "def diffAndFilter(map1, map2):\n",
    "    map3 = dict()\n",
    "    for k, v in map2.items():\n",
    "        if k in map1:\n",
    "#             if v - map1[k] != 0:\n",
    "            map3[k] = v - map1[k]\n",
    "    return map3"
   ]
  },
  {
   "cell_type": "code",
   "execution_count": 55,
   "metadata": {},
   "outputs": [],
   "source": [
    "# def diffAndFilter2(map1, map2):\n",
    "#     map3 = dict()\n",
    "#     for key, val in map2.items():\n",
    "#         diff = dict()\n",
    "#         for k, v in map2[key].items():\n",
    "# #             if v - map1[key][k] != 0:\n",
    "#             diff[k] = v - map1[key][k]\n",
    "#         map3[key] = diff\n",
    "#     return map3"
   ]
  },
  {
   "cell_type": "code",
   "execution_count": 56,
   "metadata": {},
   "outputs": [],
   "source": [
    "def diffAndFilter2(map1, map2):\n",
    "    map3 = dict()\n",
    "    for key, val in map2.items():\n",
    "        diff = dict()\n",
    "        for k, v in map2[key].items():\n",
    "            if key in map1 and k in map1[key]:\n",
    "                diff[k] = v - map1[key][k]\n",
    "            if key in map1 and k not in map1[key]:\n",
    "                diff[k] = map2[key][k]\n",
    "        map3[key] = diff\n",
    "    return map3"
   ]
  },
  {
   "cell_type": "code",
   "execution_count": 57,
   "metadata": {},
   "outputs": [],
   "source": [
    "def getValidatorInfo(validator):\n",
    "    method = \"hmy_getValidatorInformation\"\n",
    "    params = [validator]\n",
    "    return get_information(method, params)['result']"
   ]
  },
  {
   "cell_type": "code",
   "execution_count": 58,
   "metadata": {},
   "outputs": [],
   "source": [
    "def getAllValidatorInformationByBlockNumber(block):\n",
    "    method = 'hmy_getAllValidatorInformationByBlockNumber'\n",
    "    params = [-1, hex(block)]\n",
    "    return get_information( method, params)['result']"
   ]
  },
  {
   "cell_type": "code",
   "execution_count": 95,
   "metadata": {},
   "outputs": [],
   "source": [
    "def R5_test(single):\n",
    "    logger.info(f\"Test-R5: Reward given out to block signers sums up to the total block reward\")\n",
    "    logger.info(f\"check sum over earned-reward diff of all keys per shard = 28\")\n",
    "    block, last_block = getCurrentAndLastBlock()\n",
    "    logger.info(f\"current and last block numbers: {block}, {last_block}\")\n",
    "    if block == last_block or block == last_block -1:\n",
    "        logger.info(f\"current at the last block or last second block, wait until the first block in the new epoch\")\n",
    "        while block < last_block+1:\n",
    "            block = getBlockNumber()\n",
    "    earn_rewards_prev = defaultdict(dict)\n",
    "    next_block = block + 1\n",
    "    while block < next_block:\n",
    "        block = getBlockNumber()\n",
    "    time.sleep(1)\n",
    "    validator_infos = getAllValidatorInformation()    \n",
    "    block = getBlockNumber()\n",
    "    next_block = block + 1\n",
    "    while block < next_block:\n",
    "        block = getBlockNumber()              \n",
    "    validator_infos_i = getAllValidatorInformation()\n",
    "    next_block = block + 1\n",
    "    while block < next_block:\n",
    "        block = getBlockNumber()\n",
    "    validator_infos = getAllValidatorInformation()\n",
    "    \n",
    "    logger.info(f\"current block {block}, will begin collecting infos...\")\n",
    "    for i in validator_infos_i:\n",
    "        if i['currently-in-committee'] == True and i['metrics']:\n",
    "            for k in i['metrics']['by-bls-key']:\n",
    "                key = k['key']\n",
    "                shard = key['shard-id']\n",
    "                bls_key = key['bls-public-key']\n",
    "                earn_reward = k['earned-reward']\n",
    "                earn_rewards_prev[shard][bls_key] = earn_reward\n",
    "    earn_rewards_curr = defaultdict(dict)   \n",
    "    flag = True\n",
    "    \n",
    "    #get the validator info and compute validator rewards\n",
    "    validator_infos = getAllValidatorInformationByBlockNumber(block)\n",
    "    logger.info(f\"new block {block} reached, will begin testing...\")\n",
    "    time.sleep(1)\n",
    "    block = getBlockNumber()\n",
    "    logger.info(f\"block {block}, will begin testing...\")\n",
    "    \n",
    "    block_reward = 28e18\n",
    "    for i in validator_infos:\n",
    "        if i['currently-in-committee'] == True and i['metrics']:\n",
    "            for k in i['metrics']['by-bls-key']:\n",
    "                key = k['key']\n",
    "                shard = key['shard-id']\n",
    "                bls_key = key['bls-public-key']\n",
    "                earn_reward = k['earned-reward']\n",
    "                earn_rewards_curr[shard][bls_key] = earn_reward\n",
    "    earn_reward_diff = diffAndFilter2(earn_rewards_prev, earn_rewards_curr) \n",
    "    for shard, diff in earn_reward_diff.items():\n",
    "        reward = sum(diff.values())\n",
    "        if format(reward, '.20e') != format(block_reward, '.20e'):\n",
    "            logger.warning(f\"Test-R5: Fail\")\n",
    "            logger.warning(f\"shard: {shard}, block: {block}, sum of earned reward: {reward:.20e}, block reward: {block_reward:.20e}\\n\")\n",
    "            flag = False\n",
    "        else:\n",
    "            logger.info(f\"shard: {shard} sum over earned-reward diff of all keys per shard = 28\")\n",
    "    \n",
    "    if single:\n",
    "        curr_test = None\n",
    "    else:\n",
    "        curr_test = R6_test\n",
    "    if flag:\n",
    "        logger.info(f\"Test-R5: Succeed\\n\")\n",
    "        return True, curr_test\n",
    "    else:\n",
    "        return False, curr_test"
   ]
  },
  {
   "cell_type": "code",
   "execution_count": 96,
   "metadata": {},
   "outputs": [
    {
     "name": "stderr",
     "output_type": "stream",
     "text": [
      "INFO:economic-test:Test-R5: Reward given out to block signers sums up to the total block reward\n",
      "INFO:economic-test:check sum over earned-reward diff of all keys per shard = 28\n",
      "INFO:economic-test:current block 3453540, will begin collecting infos...\n",
      "INFO:economic-test:shard: 0 sum over earned-reward diff of all keys per shard = 28\n",
      "INFO:economic-test:shard: 1 sum over earned-reward diff of all keys per shard = 28\n",
      "INFO:economic-test:shard: 2 sum over earned-reward diff of all keys per shard = 28\n",
      "INFO:economic-test:shard: 3 sum over earned-reward diff of all keys per shard = 28\n",
      "INFO:economic-test:Test-R5: Succeed\n",
      "\n"
     ]
    },
    {
     "data": {
      "text/plain": [
       "(True, None)"
      ]
     },
     "execution_count": 96,
     "metadata": {},
     "output_type": "execute_result"
    }
   ],
   "source": [
    "R5_test(True)"
   ]
  },
  {
   "cell_type": "code",
   "execution_count": null,
   "metadata": {},
   "outputs": [],
   "source": []
  },
  {
   "cell_type": "code",
   "execution_count": null,
   "metadata": {},
   "outputs": [],
   "source": []
  }
 ],
 "metadata": {
  "kernelspec": {
   "display_name": "Python 3",
   "language": "python",
   "name": "python3"
  },
  "language_info": {
   "codemirror_mode": {
    "name": "ipython",
    "version": 3
   },
   "file_extension": ".py",
   "mimetype": "text/x-python",
   "name": "python",
   "nbconvert_exporter": "python",
   "pygments_lexer": "ipython3",
   "version": "3.7.6"
  }
 },
 "nbformat": 4,
 "nbformat_minor": 2
}
