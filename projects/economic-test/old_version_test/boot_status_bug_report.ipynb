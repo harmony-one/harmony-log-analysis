{
 "cells": [
  {
   "cell_type": "code",
   "execution_count": 1,
   "metadata": {},
   "outputs": [],
   "source": [
    "import json\n",
    "import pandas as pd\n",
    "import numpy as np\n",
    "import time\n",
    "import requests"
   ]
  },
  {
   "cell_type": "code",
   "execution_count": 2,
   "metadata": {},
   "outputs": [],
   "source": [
    "def get_information(method, params):\n",
    "    url = 'https://api.s0.os.hmny.io/'\n",
    "    headers = {'Content-Type': 'application/json'}\n",
    "    data = {\"jsonrpc\":\"2.0\", \"method\": method, \"params\": params, \"id\":1}\n",
    "    r = requests.post(url, headers=headers, data = json.dumps(data))\n",
    "    content = json.loads(r.content)\n",
    "    return content"
   ]
  },
  {
   "cell_type": "code",
   "execution_count": 3,
   "metadata": {},
   "outputs": [],
   "source": [
    "def getBlockNumber():\n",
    "    method = \"hmy_blockNumber\"\n",
    "    params = []\n",
    "    num = get_information(method, params)['result']\n",
    "    return int(num, 16)"
   ]
  },
  {
   "cell_type": "code",
   "execution_count": 4,
   "metadata": {},
   "outputs": [],
   "source": [
    "def getLastBlockOfCurrentEpoch():\n",
    "    method = 'hmy_getStakingNetworkInfo'\n",
    "    params = []\n",
    "    return get_information(method, params)['result']['epoch-last-block']"
   ]
  },
  {
   "cell_type": "code",
   "execution_count": 5,
   "metadata": {},
   "outputs": [],
   "source": [
    "def getValidatorInfo(validator):\n",
    "    method = \"hmy_getValidatorInformation\"\n",
    "    params = [validator]\n",
    "    return get_information(method, params)['result']"
   ]
  },
  {
   "cell_type": "code",
   "execution_count": 6,
   "metadata": {},
   "outputs": [],
   "source": [
    "def getAllValidatorInformation():\n",
    "    method = 'hmy_getAllValidatorInformation'\n",
    "    params = [-1]\n",
    "    return get_information(method, params)['result']"
   ]
  },
  {
   "cell_type": "code",
   "execution_count": 7,
   "metadata": {},
   "outputs": [
    {
     "name": "stdout",
     "output_type": "stream",
     "text": [
      "current and last block 108995 109021\n",
      "current block: 108995\n",
      "epos-status\n",
      "currently elected                        193\n",
      "eligible to be elected next epoch         80\n",
      "not eligible to be elected next epoch      6\n",
      "Name: epos-status, dtype: int64\n",
      "current block: 108996\n",
      "epos-status\n",
      "currently elected                        193\n",
      "eligible to be elected next epoch         80\n",
      "not eligible to be elected next epoch      6\n",
      "Name: epos-status, dtype: int64\n",
      "current block: 108997\n",
      "epos-status\n",
      "currently elected                        193\n",
      "eligible to be elected next epoch         80\n",
      "not eligible to be elected next epoch      6\n",
      "Name: epos-status, dtype: int64\n",
      "current block: 108998\n",
      "epos-status\n",
      "currently elected                        193\n",
      "eligible to be elected next epoch         80\n",
      "not eligible to be elected next epoch      6\n",
      "Name: epos-status, dtype: int64\n",
      "current block: 108999\n",
      "epos-status\n",
      "currently elected                        193\n",
      "eligible to be elected next epoch         80\n",
      "not eligible to be elected next epoch      6\n",
      "Name: epos-status, dtype: int64\n",
      "current block: 109000\n",
      "epos-status\n",
      "currently elected                        193\n",
      "eligible to be elected next epoch         80\n",
      "not eligible to be elected next epoch      6\n",
      "Name: epos-status, dtype: int64\n",
      "current block: 109001\n",
      "epos-status\n",
      "currently elected                        193\n",
      "eligible to be elected next epoch         80\n",
      "not eligible to be elected next epoch      6\n",
      "Name: epos-status, dtype: int64\n",
      "current block: 109002\n",
      "epos-status\n",
      "currently elected                        193\n",
      "eligible to be elected next epoch         80\n",
      "not eligible to be elected next epoch      6\n",
      "Name: epos-status, dtype: int64\n",
      "current block: 109003\n",
      "epos-status\n",
      "currently elected                        193\n",
      "eligible to be elected next epoch         80\n",
      "not eligible to be elected next epoch      6\n",
      "Name: epos-status, dtype: int64\n",
      "current block: 109004\n",
      "epos-status\n",
      "currently elected                        193\n",
      "eligible to be elected next epoch         80\n",
      "not eligible to be elected next epoch      6\n",
      "Name: epos-status, dtype: int64\n",
      "current block: 109005\n",
      "epos-status\n",
      "currently elected                        193\n",
      "eligible to be elected next epoch         80\n",
      "not eligible to be elected next epoch      6\n",
      "Name: epos-status, dtype: int64\n",
      "current block: 109006\n",
      "epos-status\n",
      "currently elected                        193\n",
      "eligible to be elected next epoch         80\n",
      "not eligible to be elected next epoch      6\n",
      "Name: epos-status, dtype: int64\n",
      "current block: 109007\n",
      "epos-status\n",
      "currently elected                        193\n",
      "eligible to be elected next epoch         80\n",
      "not eligible to be elected next epoch      6\n",
      "Name: epos-status, dtype: int64\n",
      "current block: 109008\n",
      "epos-status\n",
      "currently elected                        193\n",
      "eligible to be elected next epoch         80\n",
      "not eligible to be elected next epoch      6\n",
      "Name: epos-status, dtype: int64\n",
      "current block: 109009\n",
      "epos-status\n",
      "currently elected                        193\n",
      "eligible to be elected next epoch         80\n",
      "not eligible to be elected next epoch      6\n",
      "Name: epos-status, dtype: int64\n",
      "current block: 109010\n",
      "epos-status\n",
      "currently elected                        193\n",
      "eligible to be elected next epoch         80\n",
      "not eligible to be elected next epoch      6\n",
      "Name: epos-status, dtype: int64\n",
      "current block: 109011\n",
      "epos-status\n",
      "currently elected                        193\n",
      "eligible to be elected next epoch         80\n",
      "not eligible to be elected next epoch      6\n",
      "Name: epos-status, dtype: int64\n",
      "current block: 109012\n",
      "epos-status\n",
      "currently elected                        193\n",
      "eligible to be elected next epoch         80\n",
      "not eligible to be elected next epoch      6\n",
      "Name: epos-status, dtype: int64\n",
      "current block: 109013\n",
      "epos-status\n",
      "currently elected                        193\n",
      "eligible to be elected next epoch         80\n",
      "not eligible to be elected next epoch      6\n",
      "Name: epos-status, dtype: int64\n",
      "current block: 109014\n",
      "epos-status\n",
      "currently elected                        193\n",
      "eligible to be elected next epoch         80\n",
      "not eligible to be elected next epoch      6\n",
      "Name: epos-status, dtype: int64\n",
      "current block: 109015\n",
      "epos-status\n",
      "currently elected                        193\n",
      "eligible to be elected next epoch         80\n",
      "not eligible to be elected next epoch      6\n",
      "Name: epos-status, dtype: int64\n",
      "current block: 109016\n",
      "epos-status\n",
      "currently elected                        193\n",
      "eligible to be elected next epoch         80\n",
      "not eligible to be elected next epoch      6\n",
      "Name: epos-status, dtype: int64\n",
      "current block: 109017\n",
      "epos-status\n",
      "currently elected                        193\n",
      "eligible to be elected next epoch         80\n",
      "not eligible to be elected next epoch      6\n",
      "Name: epos-status, dtype: int64\n",
      "current block: 109018\n",
      "epos-status\n",
      "currently elected                        193\n",
      "eligible to be elected next epoch         81\n",
      "not eligible to be elected next epoch      5\n",
      "Name: epos-status, dtype: int64\n",
      "current block: 109019\n",
      "epos-status\n",
      "currently elected                        193\n",
      "eligible to be elected next epoch         81\n",
      "not eligible to be elected next epoch      5\n",
      "Name: epos-status, dtype: int64\n",
      "current block: 109020\n",
      "epos-status\n",
      "currently elected                        193\n",
      "eligible to be elected next epoch         81\n",
      "not eligible to be elected next epoch      5\n",
      "Name: epos-status, dtype: int64\n",
      "current block: 109021\n",
      "epos-status\n",
      "currently elected                        195\n",
      "eligible to be elected next epoch         80\n",
      "not eligible to be elected next epoch      5\n",
      "Name: epos-status, dtype: int64\n",
      "current block: 109022\n",
      "epos-status\n",
      "currently elected                        193\n",
      "eligible to be elected next epoch         80\n",
      "not eligible to be elected next epoch      5\n",
      "Name: epos-status, dtype: int64\n",
      "current block: 109023\n",
      "epos-status\n",
      "currently elected                        193\n",
      "eligible to be elected next epoch         80\n",
      "not eligible to be elected next epoch      5\n",
      "Name: epos-status, dtype: int64\n",
      "current block: 109024\n",
      "epos-status\n",
      "currently elected                        193\n",
      "eligible to be elected next epoch         80\n",
      "not eligible to be elected next epoch      5\n",
      "Name: epos-status, dtype: int64\n",
      "current block: 109025\n",
      "epos-status\n",
      "currently elected                        193\n",
      "eligible to be elected next epoch         80\n",
      "not eligible to be elected next epoch      5\n",
      "Name: epos-status, dtype: int64\n"
     ]
    }
   ],
   "source": [
    "block = getBlockNumber()\n",
    "last_block = getLastBlockOfCurrentEpoch()\n",
    "print(\"current and last block\", block, last_block)\n",
    "num = last_block - block + 5\n",
    "iterations = 0\n",
    "while iterations < num:\n",
    "    print('current block:', block)\n",
    "    validator_infos = getAllValidatorInformation()\n",
    "    epos_status = []\n",
    "    boot_status = []\n",
    "    address = []\n",
    "    for info in validator_infos:    \n",
    "        epos_status.append(info['epos-status'])\n",
    "        address.append(info['validator']['address'])\n",
    "        boot_status.append(info['booted-status'])\n",
    "    df = pd.DataFrame(list(zip(address, epos_status, boot_status)), columns = ['address','epos-status','boot-status'])\n",
    "    print(df[df['boot-status'].isna()].groupby('epos-status')['epos-status'].count())\n",
    "    new_block = block + 1\n",
    "    while block < new_block:\n",
    "        block = getBlockNumber()\n",
    "    iterations += 1\n"
   ]
  },
  {
   "cell_type": "code",
   "execution_count": 12,
   "metadata": {},
   "outputs": [
    {
     "data": {
      "text/plain": [
       "epos-status\n",
       "currently elected                        193\n",
       "eligible to be elected next epoch        208\n",
       "not eligible to be elected next epoch    202\n",
       "Name: epos-status, dtype: int64"
      ]
     },
     "execution_count": 12,
     "metadata": {},
     "output_type": "execute_result"
    }
   ],
   "source": [
    "df.groupby('epos-status')['epos-status'].count()"
   ]
  },
  {
   "cell_type": "code",
   "execution_count": 17,
   "metadata": {},
   "outputs": [],
   "source": [
    "address = df[(df['boot-status'].isna()) & (df['epos-status'] == 'eligible to be elected next epoch')].address.tolist()"
   ]
  },
  {
   "cell_type": "code",
   "execution_count": 26,
   "metadata": {},
   "outputs": [],
   "source": [
    "for i in address:\n",
    "    if getValidatorInfo(i)['lifetime']['blocks']['signed'] != 0:\n",
    "        print(i)"
   ]
  },
  {
   "cell_type": "code",
   "execution_count": 20,
   "metadata": {},
   "outputs": [],
   "source": [
    "no_address = df[(df['boot-status'].isna()) & (df['epos-status'] == 'not eligible to be elected next epoch')].address.tolist()"
   ]
  },
  {
   "cell_type": "code",
   "execution_count": 25,
   "metadata": {},
   "outputs": [],
   "source": [
    "for i in no_address:\n",
    "    if getValidatorInfo(i)['lifetime']['blocks']['signed'] != 0:\n",
    "        print(i)"
   ]
  },
  {
   "cell_type": "code",
   "execution_count": 24,
   "metadata": {},
   "outputs": [
    {
     "data": {
      "text/plain": [
       "{'to-sign': 0, 'signed': 0}"
      ]
     },
     "execution_count": 24,
     "metadata": {},
     "output_type": "execute_result"
    }
   ],
   "source": [
    "getValidatorInfo(i)['lifetime']['blocks']['signed']\n"
   ]
  },
  {
   "cell_type": "code",
   "execution_count": null,
   "metadata": {},
   "outputs": [],
   "source": []
  }
 ],
 "metadata": {
  "kernelspec": {
   "display_name": "Python 3",
   "language": "python",
   "name": "python3"
  },
  "language_info": {
   "codemirror_mode": {
    "name": "ipython",
    "version": 3
   },
   "file_extension": ".py",
   "mimetype": "text/x-python",
   "name": "python",
   "nbconvert_exporter": "python",
   "pygments_lexer": "ipython3",
   "version": "3.7.6"
  }
 },
 "nbformat": 4,
 "nbformat_minor": 2
}
