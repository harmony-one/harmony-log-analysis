{
 "cells": [
  {
   "cell_type": "code",
   "execution_count": 1,
   "metadata": {},
   "outputs": [],
   "source": [
    "import json\n",
    "import pandas as pd\n",
    "import numpy as np\n",
    "import time\n",
    "import requests\n",
    "from collections import defaultdict\n",
    "import logging"
   ]
  },
  {
   "cell_type": "code",
   "execution_count": 2,
   "metadata": {},
   "outputs": [],
   "source": [
    "logging.basicConfig(level=logging.INFO)\n",
    "logger = logging.getLogger(\"economic-test\")\n",
    "logger.setLevel(logging.INFO)"
   ]
  },
  {
   "cell_type": "code",
   "execution_count": 3,
   "metadata": {},
   "outputs": [],
   "source": [
    "def get_information(method, params):\n",
    "    url = 'https://api.s0.os.hmny.io/'\n",
    "    headers = {'Content-Type': 'application/json'}\n",
    "    data = {\"jsonrpc\":\"2.0\", \"method\": method, \"params\": params, \"id\":1}\n",
    "    r = requests.post(url, headers=headers, data = json.dumps(data))\n",
    "    content = json.loads(r.content)\n",
    "    return content"
   ]
  },
  {
   "cell_type": "code",
   "execution_count": 4,
   "metadata": {},
   "outputs": [],
   "source": [
    "def getBlockNumber():\n",
    "    method = \"hmy_blockNumber\"\n",
    "    params = []\n",
    "    num = get_information(method, params)['result']\n",
    "    return int(num, 16)"
   ]
  },
  {
   "cell_type": "code",
   "execution_count": 5,
   "metadata": {},
   "outputs": [],
   "source": [
    "def getLastBlockOfCurrentEpoch():\n",
    "    method = 'hmy_getStakingNetworkInfo'\n",
    "    params = []\n",
    "    return get_information(method, params)['result']['epoch-last-block']"
   ]
  },
  {
   "cell_type": "code",
   "execution_count": 6,
   "metadata": {},
   "outputs": [],
   "source": [
    "def getCurrentAndLastBlock():\n",
    "    block = getBlockNumber()\n",
    "    last_block = getLastBlockOfCurrentEpoch()\n",
    "    return block, last_block"
   ]
  },
  {
   "cell_type": "code",
   "execution_count": 7,
   "metadata": {},
   "outputs": [],
   "source": [
    "def getEpoch():\n",
    "    method = 'hmy_getEpoch'\n",
    "    params = []\n",
    "    num = get_information(method, params)['result']\n",
    "    return int(num, 16)"
   ]
  },
  {
   "cell_type": "code",
   "execution_count": 8,
   "metadata": {},
   "outputs": [],
   "source": [
    "def getAllValidatorInformation():\n",
    "    method = 'hmy_getAllValidatorInformation'\n",
    "    params = [0]\n",
    "    return get_information(method, params)['result'] "
   ]
  },
  {
   "cell_type": "code",
   "execution_count": 9,
   "metadata": {},
   "outputs": [],
   "source": [
    "def getStakeAndUndelegate2(epoch):\n",
    "    validator = dict()\n",
    "    undelegate = dict()\n",
    "    validator_infos = getAllValidatorInformation()\n",
    "    for i in validator_infos:\n",
    "        address = i['validator']['address']\n",
    "        stake = dict()\n",
    "        undel = dict()\n",
    "        for d in i['validator']['delegations']:\n",
    "            del_address = d['delegator-address']\n",
    "            del_amount = d['amount']\n",
    "            if not d['undelegations']:\n",
    "                undel_amount = 0\n",
    "            flag = False\n",
    "            for j in d['undelegations']:\n",
    "                if epoch == j['epoch']:\n",
    "                    flag = True\n",
    "                    undel_amount = j['amount']\n",
    "                    break\n",
    "            if not flag:\n",
    "                undel_amount = 0\n",
    "            \n",
    "            stake[del_address] = del_amount\n",
    "            undel[del_address] = undel_amount\n",
    "        validator[address] = stake\n",
    "        undelegate[address] = undel\n",
    "    return validator, undelegate"
   ]
  },
  {
   "cell_type": "code",
   "execution_count": 10,
   "metadata": {},
   "outputs": [],
   "source": [
    "def diffAndFilter2(map1, map2):\n",
    "    map3 = dict()\n",
    "    for key, val in map2.items():\n",
    "        diff = dict()\n",
    "        for k, v in map2[key].items():\n",
    "            if key in map1 and k in map1[key]:\n",
    "                diff[k] = v - map1[key][k]\n",
    "            if key in map1 and k not in map1[key]:\n",
    "                diff[k] = map2[key][k]\n",
    "        map3[key] = diff\n",
    "    return map3"
   ]
  },
  {
   "cell_type": "code",
   "execution_count": 11,
   "metadata": {},
   "outputs": [],
   "source": [
    "def U1_test(single):\n",
    "    logger.info(\"Test-U1: Delegator/validator stake locked until undelegate\")\n",
    "    num = 1\n",
    "    \n",
    "    block, last_block = getCurrentAndLastBlock()\n",
    "    logger.info(f\"current and last block numbers: {block}, {last_block}\")\n",
    "    if block + num > last_block:  \n",
    "        logger.info(f\"wait until new epoch starts ...\")\n",
    "        new_block = last_block + 1\n",
    "        while block < new_block:\n",
    "            block = getBlockNumber()\n",
    "    iterations = 0\n",
    "    flag = True\n",
    "    total_reduce_num = 0\n",
    "    while iterations < num:\n",
    "        epoch = getEpoch()\n",
    "        logger.info(f\"current epoch number, {epoch}, current block number, {block}, will begin testing...\")\n",
    "        stake, undelegate = getStakeAndUndelegate2(epoch)\n",
    "        next_block = block + 1\n",
    "        while block < next_block:\n",
    "            block = getBlockNumber()\n",
    "        epoch = getEpoch()\n",
    "        logger.info(f\"next block reached, {block}, current epoch, {epoch}, will compare the stakes\")\n",
    "        new_stake, new_undelegate = getStakeAndUndelegate2(epoch)\n",
    "        diff_stake = diffAndFilter2(stake, new_stake)\n",
    "        diff_undelegate = diffAndFilter2(undelegate, new_undelegate)\n",
    "\n",
    "        reduce_num = 0\n",
    "        for key, val in diff_stake.items():\n",
    "            for k,v in diff_stake[key].items():\n",
    "                if v < 0:\n",
    "                    reduce_num += 1\n",
    "                    total_reduce_num +=1\n",
    "                    if diff_undelegate[key][k] <= 0:\n",
    "                        logger.warning(f\"Test-U1: Fail\")\n",
    "                        logger.warning(f\"Delgeator stake reduces without undelegate\")\n",
    "                        logger.warning(f\"undelegate changes:  {diff_undelegate[key][k]}\")\n",
    "                        logger.warning(f\"stake changes: {v}\\n\")\n",
    "                        flag = False        \n",
    "        if reduce_num == 0:\n",
    "            logger.info(f\"No stake reduces at current test, need more tests\\n\")\n",
    "        iterations += 1  \n",
    "    if single:\n",
    "        curr_test = None\n",
    "    else:        \n",
    "        curr_test = U2_test\n",
    "    if total_reduce_num == 0:\n",
    "        return \"Need More Tests\", curr_test\n",
    "    if flag:\n",
    "        logger.info(f\"Test-U1: Succeed\\n\")\n",
    "        return True, curr_test\n",
    "    if not flag:\n",
    "        return False, curr_test"
   ]
  },
  {
   "cell_type": "code",
   "execution_count": 12,
   "metadata": {},
   "outputs": [
    {
     "name": "stderr",
     "output_type": "stream",
     "text": [
      "INFO:economic-test:Test-U1: Delegator/validator stake locked until undelegate\n",
      "INFO:economic-test:current and last block numbers: 934, 1349\n",
      "INFO:economic-test:current epoch number, 2, current block number, 934, will begin testing...\n",
      "INFO:economic-test:next block reached, 936, current epoch, 2, will compare the stakes\n",
      "INFO:economic-test:No stake reduces at current test, need more tests\n",
      "\n"
     ]
    },
    {
     "data": {
      "text/plain": [
       "('Need More Tests', None)"
      ]
     },
     "execution_count": 12,
     "metadata": {},
     "output_type": "execute_result"
    }
   ],
   "source": [
    "U1_test(True)"
   ]
  },
  {
   "cell_type": "code",
   "execution_count": null,
   "metadata": {},
   "outputs": [],
   "source": []
  }
 ],
 "metadata": {
  "kernelspec": {
   "display_name": "Python 3",
   "language": "python",
   "name": "python3"
  },
  "language_info": {
   "codemirror_mode": {
    "name": "ipython",
    "version": 3
   },
   "file_extension": ".py",
   "mimetype": "text/x-python",
   "name": "python",
   "nbconvert_exporter": "python",
   "pygments_lexer": "ipython3",
   "version": "3.7.6"
  }
 },
 "nbformat": 4,
 "nbformat_minor": 2
}
