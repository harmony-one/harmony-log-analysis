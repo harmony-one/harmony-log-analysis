{
 "cells": [
  {
   "cell_type": "code",
   "execution_count": 1,
   "metadata": {},
   "outputs": [],
   "source": [
    "import json\n",
    "import pandas as pd\n",
    "import numpy as np\n",
    "import time\n",
    "import requests"
   ]
  },
  {
   "cell_type": "code",
   "execution_count": 2,
   "metadata": {},
   "outputs": [],
   "source": [
    "def get_information(method, params):\n",
    "    url = 'https://api.s0.os.hmny.io/'\n",
    "    headers = {'Content-Type': 'application/json'}\n",
    "    data = {\"jsonrpc\":\"2.0\", \"method\": method, \"params\": params, \"id\":1}\n",
    "    r = requests.post(url, headers=headers, data = json.dumps(data))\n",
    "    content = json.loads(r.content)\n",
    "    return content"
   ]
  },
  {
   "cell_type": "code",
   "execution_count": 5,
   "metadata": {},
   "outputs": [],
   "source": [
    "def getLatestHeader():\n",
    "    method = 'hmyv2_latestHeader'\n",
    "    params = []\n",
    "    return get_information(method, params)"
   ]
  },
  {
   "cell_type": "code",
   "execution_count": 3,
   "metadata": {},
   "outputs": [],
   "source": [
    "def getBlockNumber():\n",
    "    method = \"hmy_blockNumber\"\n",
    "    params = []\n",
    "    num = get_information(method, params)['result']\n",
    "    return int(num, 16)"
   ]
  },
  {
   "cell_type": "code",
   "execution_count": 4,
   "metadata": {},
   "outputs": [],
   "source": [
    "def getLastBlockOfCurrentEpoch():\n",
    "    method = 'hmy_getStakingNetworkInfo'\n",
    "    params = []\n",
    "    return get_information(method, params)['result']['epoch-last-block']"
   ]
  },
  {
   "cell_type": "code",
   "execution_count": 5,
   "metadata": {},
   "outputs": [],
   "source": [
    "def getEpoch():\n",
    "    method = 'hmy_getEpoch'\n",
    "    params = []\n",
    "    num = get_information(method, params)['result']\n",
    "    return int(num, 16)"
   ]
  },
  {
   "cell_type": "code",
   "execution_count": 6,
   "metadata": {},
   "outputs": [],
   "source": [
    "def getValidatorInfo(validator):\n",
    "    method = \"hmy_getValidatorInformation\"\n",
    "    params = [validator]\n",
    "    return get_information(method, params)['result']"
   ]
  },
  {
   "cell_type": "code",
   "execution_count": 12,
   "metadata": {},
   "outputs": [],
   "source": [
    "def getAllValidatorInformation():\n",
    "    method = 'hmy_getAllValidatorInformation'\n",
    "    params = [-1]\n",
    "    return get_information(method, params)['result']"
   ]
  },
  {
   "cell_type": "code",
   "execution_count": 26,
   "metadata": {},
   "outputs": [],
   "source": [
    "def getCurrentAndLastBlock():\n",
    "    block = getBlockNumber()\n",
    "    last_block = getLastBlockOfCurrentEpoch()\n",
    "    print(f\"current and last block numbers: {block}, {last_block}\")"
   ]
  },
  {
   "cell_type": "code",
   "execution_count": 34,
   "metadata": {},
   "outputs": [
    {
     "name": "stdout",
     "output_type": "stream",
     "text": [
      "current and last block numbers 7723 7751\n",
      "block number:  7724 earning:  783977183398397632\n",
      "block number:  7725 earning:  783977183398397632\n",
      "block number:  7726 earning:  783977183398397632\n",
      "block number:  7727 earning:  783977183398397632\n",
      "block number:  7728 earning:  1567954366796795264\n",
      "block number:  7729 earning:  783977183398397632\n",
      "block number:  7730 earning:  783977183398397632\n",
      "block number:  7731 earning:  783977183398397632\n",
      "block number:  7732 earning:  783977183398397632\n",
      "block number:  7733 earning:  783977183398397632\n",
      "block number:  7734 earning:  783977183398397632\n",
      "block number:  7735 earning:  783977183398397632\n",
      "block number:  7736 earning:  783977183398397632\n",
      "block number:  7737 earning:  783977183398397632\n",
      "block number:  7738 earning:  783977183398397632\n",
      "block number:  7739 earning:  783977183398397632\n",
      "block number:  7740 earning:  783977183398397632\n",
      "block number:  7741 earning:  783977183398397632\n",
      "block number:  7742 earning:  783977183398397632\n",
      "block number:  7743 earning:  783977183398397632\n",
      "block number:  7744 earning:  783977183398397632\n",
      "block number:  7745 earning:  0\n",
      "block number:  7746 earning:  1567954366796795264\n",
      "block number:  7747 earning:  783977183398397632\n",
      "block number:  7748 earning:  783977183398397632\n",
      "block number:  7749 earning:  783977183398397632\n",
      "block number:  7750 earning:  0\n",
      "block number:  7751 earning:  -28223178602342314752\n",
      "block number:  7752 earning:  783977183398397632\n",
      "block number:  7753 earning:  1567954366796795264\n"
     ]
    }
   ],
   "source": [
    "i = 'one18vn078vyp5jafma8q7kek6w0resrgex9yufqws'\n",
    "iterations = 0\n",
    "block = getBlockNumber()\n",
    "last_block = getLastBlockOfCurrentEpoch()\n",
    "print(\"current and last block numbers\", block, last_block)\n",
    "num = last_block - block + 2\n",
    "reward = getValidatorInfo(i)['metrics']['by-bls-key'][0]['earned-reward']\n",
    "new_block = block+1\n",
    "while block < new_block:\n",
    "    block = getBlockNumber()\n",
    "time.sleep(2)\n",
    "while iterations < num:\n",
    "    new_reward = getValidatorInfo(i)['metrics']['by-bls-key'][0]['earned-reward']\n",
    "    diff_reward = new_reward - reward\n",
    "    print(\"block number: \", block, \"earning: \", diff_reward,  )\n",
    "    reward = new_reward\n",
    "    new_block = block+1\n",
    "    while block < new_block:\n",
    "        block = getBlockNumber()\n",
    "    time.sleep(2)\n",
    "    iterations += 1"
   ]
  },
  {
   "cell_type": "code",
   "execution_count": 29,
   "metadata": {},
   "outputs": [
    {
     "name": "stdout",
     "output_type": "stream",
     "text": [
      "current and last block numbers 7331 7333\n",
      "block number:  7332 earning:  3957205914395601 stake_change:  0\n",
      "block number:  7333 earning:  3957205914395601 stake_change:  0\n",
      "block number:  7334 earning:  3957205914395601 stake_change:  10000000000000000000000\n",
      "block number:  7335 earning:  3957205914395601 stake_change:  0\n",
      "block number:  7336 earning:  3957205914395601 stake_change:  0\n",
      "block number:  7337 earning:  3957205914395601 stake_change:  0\n",
      "block number:  7338 earning:  4084162576235832 stake_change:  0\n"
     ]
    }
   ],
   "source": [
    "i = 'one18vn078vyp5jafma8q7kek6w0resrgex9yufqws'\n",
    "iterations = 0\n",
    "block = getBlockNumber()\n",
    "last_block = getLastBlockOfCurrentEpoch()\n",
    "print(\"current and last block numbers\", block, last_block)\n",
    "num = last_block - block + 5\n",
    "dels = getValidatorInfo(i)['validator']['delegations'][3]\n",
    "reward = dels['reward']\n",
    "stake = dels['amount']\n",
    "new_block = block+1\n",
    "while block < new_block:\n",
    "    block = getBlockNumber()\n",
    "while iterations < num:\n",
    "    new_dels = getValidatorInfo(i)['validator']['delegations'][3]\n",
    "    new_reward = new_dels['reward']\n",
    "    new_stake = new_dels['amount']\n",
    "    diff_reward = new_reward - reward\n",
    "    diff_stake = new_stake - stake\n",
    "    print(\"block number: \", block, \"earning: \", diff_reward, \"stake_change: \", diff_stake )\n",
    "    reward = new_reward\n",
    "    stake = new_stake\n",
    "    new_block = block+1\n",
    "    while block < new_block:\n",
    "        block = getBlockNumber()\n",
    "    iterations += 1"
   ]
  },
  {
   "cell_type": "code",
   "execution_count": 30,
   "metadata": {},
   "outputs": [
    {
     "name": "stdout",
     "output_type": "stream",
     "text": [
      "current and last block numbers 7339 7371\n",
      "block number:  7340 earning:  4084162576235832 stake_change:  0\n",
      "block number:  7341 earning:  4084162576235832 stake_change:  0\n",
      "block number:  7342 earning:  4084162576235832 stake_change:  0\n",
      "block number:  7343 earning:  0 stake_change:  0\n",
      "block number:  7344 earning:  4084162576235832 stake_change:  0\n",
      "block number:  7345 earning:  4084162576235832 stake_change:  0\n",
      "block number:  7346 earning:  4084162576235832 stake_change:  0\n",
      "block number:  7347 earning:  4084162576235832 stake_change:  0\n",
      "block number:  7348 earning:  4084162576235832 stake_change:  0\n",
      "block number:  7349 earning:  4084162576235832 stake_change:  0\n",
      "block number:  7350 earning:  4084162576235832 stake_change:  0\n",
      "block number:  7351 earning:  4084162576235832 stake_change:  0\n",
      "block number:  7352 earning:  4084162576235832 stake_change:  0\n",
      "block number:  7353 earning:  4084162576235832 stake_change:  0\n",
      "block number:  7354 earning:  4084162576235832 stake_change:  0\n",
      "block number:  7355 earning:  4084162576235832 stake_change:  0\n",
      "block number:  7356 earning:  4084162576235832 stake_change:  0\n",
      "block number:  7357 earning:  4084162576235832 stake_change:  0\n",
      "block number:  7358 earning:  4084162576235832 stake_change:  0\n",
      "block number:  7359 earning:  4084162576235832 stake_change:  0\n",
      "block number:  7360 earning:  4084162576235832 stake_change:  0\n",
      "block number:  7361 earning:  4084162576235832 stake_change:  0\n",
      "block number:  7362 earning:  4084162576235832 stake_change:  0\n",
      "block number:  7363 earning:  4084162576235832 stake_change:  0\n",
      "block number:  7364 earning:  4084162576235832 stake_change:  1000000000000000000000\n",
      "block number:  7365 earning:  4084162576235832 stake_change:  0\n",
      "block number:  7366 earning:  4084162576235832 stake_change:  0\n",
      "block number:  7367 earning:  4084162576235832 stake_change:  0\n",
      "block number:  7368 earning:  4084162576235832 stake_change:  0\n",
      "block number:  7369 earning:  4084162576235832 stake_change:  0\n",
      "block number:  7370 earning:  4084162576235832 stake_change:  0\n",
      "block number:  7371 earning:  4084162576235832 stake_change:  0\n",
      "block number:  7372 earning:  4084162576235832 stake_change:  0\n",
      "block number:  7373 earning:  6205310567905175 stake_change:  0\n",
      "block number:  7374 earning:  6205310567905175 stake_change:  0\n",
      "block number:  7375 earning:  6205310567905175 stake_change:  0\n",
      "block number:  7376 earning:  6530348818883045 stake_change:  0\n"
     ]
    }
   ],
   "source": [
    "i = 'one18vn078vyp5jafma8q7kek6w0resrgex9yufqws'\n",
    "iterations = 0\n",
    "block = getBlockNumber()\n",
    "last_block = getLastBlockOfCurrentEpoch()\n",
    "print(\"current and last block numbers\", block, last_block)\n",
    "num = last_block - block + 5\n",
    "dels = getValidatorInfo(i)['validator']['delegations'][3]\n",
    "reward = dels['reward']\n",
    "stake = dels['amount']\n",
    "new_block = block+1\n",
    "while block < new_block:\n",
    "    block = getBlockNumber()\n",
    "while iterations < num:\n",
    "    new_dels = getValidatorInfo(i)['validator']['delegations'][3]\n",
    "    new_reward = new_dels['reward']\n",
    "    new_stake = new_dels['amount']\n",
    "    diff_reward = new_reward - reward\n",
    "    diff_stake = new_stake - stake\n",
    "    print(\"block number: \", block, \"earning: \", diff_reward, \"stake_change: \", diff_stake )\n",
    "    reward = new_reward\n",
    "    stake = new_stake\n",
    "    new_block = block+1\n",
    "    while block < new_block:\n",
    "        block = getBlockNumber()\n",
    "    iterations += 1"
   ]
  },
  {
   "cell_type": "code",
   "execution_count": 14,
   "metadata": {},
   "outputs": [
    {
     "name": "stdout",
     "output_type": "stream",
     "text": [
      "enter the number of epoches you want to test: 2\n",
      "test 1 will begin ...\n",
      "current epoch:  252\n",
      "current and last block numbers 9585 9613\n",
      "block number:  9586 earning:  3434454452035485984\n",
      "block number:  9587 earning:  3434454452035485984\n",
      "block number:  9588 earning:  3434454452035485984\n",
      "block number:  9589 earning:  3434454452035485984\n",
      "block number:  9590 earning:  3434454452035485984\n",
      "block number:  9591 earning:  3434454452035485984\n",
      "block number:  9592 earning:  3434454452035485984\n",
      "block number:  9593 earning:  3434454452035485984\n",
      "block number:  9594 earning:  3434454452035485984\n",
      "block number:  9595 earning:  3434454452035485984\n",
      "block number:  9596 earning:  3434454452035485984\n",
      "block number:  9597 earning:  3434454452035485984\n",
      "block number:  9598 earning:  3434454452035485984\n",
      "block number:  9599 earning:  3434454452035485984\n",
      "block number:  9600 earning:  3434454452035485984\n",
      "block number:  9601 earning:  3434454452035485984\n",
      "block number:  9602 earning:  3434454452035485984\n",
      "block number:  9603 earning:  3434454452035485984\n",
      "block number:  9604 earning:  3434454452035485984\n",
      "block number:  9605 earning:  3434454452035485984\n",
      "block number:  9606 earning:  3434454452035485984\n",
      "block number:  9607 earning:  3434454452035485984\n",
      "block number:  9608 earning:  3434454452035485984\n",
      "block number:  9609 earning:  3434454452035485984\n",
      "block number:  9610 earning:  3434454452035485984\n",
      "block number:  9611 earning:  3434454452035485984\n",
      "block number:  9612 earning:  3434454452035485984\n",
      "block number:  9613 earning:  3434454452035485984\n",
      "block number:  9614 earning:  3434454452035485984\n",
      "test 2 will begin ...\n",
      "current epoch:  253\n",
      "current and last block numbers 9614 9651\n",
      "block number:  9615 earning:  3480608863647643616\n",
      "block number:  9616 earning:  3480608863647643616\n",
      "block number:  9617 earning:  3480608863647643616\n",
      "block number:  9618 earning:  3480608863647643616\n",
      "block number:  9619 earning:  3480608863647643616\n",
      "block number:  9620 earning:  3480608863647643616\n",
      "block number:  9621 earning:  3480608863647643616\n",
      "block number:  9622 earning:  3480608863647643616\n",
      "block number:  9623 earning:  3480608863647643616\n",
      "block number:  9624 earning:  3480608863647643616\n",
      "block number:  9625 earning:  3480608863647643616\n",
      "block number:  9626 earning:  3480608863647643616\n",
      "block number:  9627 earning:  3480608863647643616\n",
      "block number:  9628 earning:  3480608863647643616\n",
      "block number:  9629 earning:  3480608863647643616\n",
      "block number:  9630 earning:  3480608863647643616\n",
      "block number:  9631 earning:  3480608863647643616\n",
      "block number:  9632 earning:  3480608863647643616\n",
      "block number:  9633 earning:  3480608863647643616\n",
      "block number:  9634 earning:  3480608863647643616\n",
      "block number:  9635 earning:  3480608863647643616\n",
      "block number:  9636 earning:  3480608863647643616\n",
      "block number:  9637 earning:  3480608863647643616\n",
      "block number:  9638 earning:  3480608863647643616\n",
      "block number:  9639 earning:  3480608863647643616\n",
      "block number:  9640 earning:  3480608863647643616\n",
      "block number:  9641 earning:  3480608863647643616\n",
      "block number:  9642 earning:  3480608863647643616\n",
      "block number:  9643 earning:  3480608863647643616\n",
      "block number:  9644 earning:  3480608863647643616\n",
      "block number:  9645 earning:  3480608863647643616\n",
      "block number:  9646 earning:  3480608863647643616\n",
      "block number:  9647 earning:  3480608863647643616\n",
      "block number:  9648 earning:  3480608863647643616\n",
      "block number:  9649 earning:  3480608863647643616\n",
      "block number:  9650 earning:  3480608863647643616\n",
      "block number:  9651 earning:  3480608863647643616\n",
      "block number:  9652 earning:  3480608863647643616\n"
     ]
    }
   ],
   "source": [
    "i = 'one1tpxl87y4g8ecsm6ceqay49qxyl5vs94jjyfvd9'\n",
    "num = int(input(\"enter the number of epoches you want to test: \"))\n",
    "iterations = 0\n",
    "while iterations < num:\n",
    "    print(\"test \" + str(iterations+1) + \" will begin ...\")\n",
    "    epoch = getEpoch()\n",
    "    print(\"current epoch: \", epoch)\n",
    "    block = getBlockNumber()\n",
    "    last_block = getLastBlockOfCurrentEpoch()\n",
    "    print(\"current and last block numbers\", block, last_block)\n",
    "    while block <= last_block:\n",
    "        reward = getValidatorInfo(i)['lifetime']['reward-accumulated']\n",
    "        new_block = block+1\n",
    "        while block < new_block:\n",
    "            block = getBlockNumber()\n",
    "        new_reward = getValidatorInfo(i)['lifetime']['reward-accumulated']\n",
    "        diff = new_reward - reward\n",
    "        print(\"block number: \", block, \"earning: \", diff)\n",
    "    iterations += 1"
   ]
  },
  {
   "cell_type": "code",
   "execution_count": null,
   "metadata": {},
   "outputs": [],
   "source": []
  },
  {
   "cell_type": "code",
   "execution_count": null,
   "metadata": {},
   "outputs": [],
   "source": []
  }
 ],
 "metadata": {
  "kernelspec": {
   "display_name": "Python 3",
   "language": "python",
   "name": "python3"
  },
  "language_info": {
   "codemirror_mode": {
    "name": "ipython",
    "version": 3
   },
   "file_extension": ".py",
   "mimetype": "text/x-python",
   "name": "python",
   "nbconvert_exporter": "python",
   "pygments_lexer": "ipython3",
   "version": "3.7.6"
  }
 },
 "nbformat": 4,
 "nbformat_minor": 2
}
