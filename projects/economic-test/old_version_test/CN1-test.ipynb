{
 "cells": [
  {
   "cell_type": "code",
   "execution_count": 1,
   "metadata": {},
   "outputs": [],
   "source": [
    "import json\n",
    "import pandas as pd\n",
    "import numpy as np\n",
    "import time\n",
    "import requests\n",
    "import logging"
   ]
  },
  {
   "cell_type": "code",
   "execution_count": 2,
   "metadata": {},
   "outputs": [],
   "source": [
    "logging.basicConfig(level=logging.INFO)\n",
    "logger = logging.getLogger(\"economic-test\")\n",
    "logger.setLevel(logging.INFO)"
   ]
  },
  {
   "cell_type": "code",
   "execution_count": 3,
   "metadata": {},
   "outputs": [],
   "source": [
    "def get_information(method, params):\n",
    "#     url = 'https://api.s0.os.hmny.io/'\n",
    "    url = 'https://api.s0.t.hmny.io/'\n",
    "    headers = {'Content-Type': 'application/json'}\n",
    "    data = {\"jsonrpc\":\"2.0\", \"method\": method, \"params\": params, \"id\":1}\n",
    "    r = requests.post(url, headers=headers, data = json.dumps(data))\n",
    "    content = json.loads(r.content)\n",
    "    return content"
   ]
  },
  {
   "cell_type": "code",
   "execution_count": 4,
   "metadata": {},
   "outputs": [],
   "source": [
    "def getBlockNumber():\n",
    "    method = \"hmy_blockNumber\"\n",
    "    params = []\n",
    "    num = get_information(method, params)['result']\n",
    "    return int(num, 16)"
   ]
  },
  {
   "cell_type": "code",
   "execution_count": 5,
   "metadata": {},
   "outputs": [],
   "source": [
    "def getLastBlockOfCurrentEpoch():\n",
    "    method = 'hmy_getStakingNetworkInfo'\n",
    "    params = []\n",
    "    return get_information(method, params)['result']['epoch-last-block']"
   ]
  },
  {
   "cell_type": "code",
   "execution_count": 6,
   "metadata": {},
   "outputs": [],
   "source": [
    "def getCurrentAndLastBlock():\n",
    "    block = getBlockNumber()\n",
    "    last_block = getLastBlockOfCurrentEpoch()\n",
    "    print(\"current and last block numbers\", block, last_block)\n",
    "    return block, last_block"
   ]
  },
  {
   "cell_type": "code",
   "execution_count": 7,
   "metadata": {},
   "outputs": [],
   "source": [
    "def getAllValidatorInformation():\n",
    "    method = 'hmy_getAllValidatorInformation'\n",
    "    params = [-1]\n",
    "    return get_information(method, params)['result'] "
   ]
  },
  {
   "cell_type": "code",
   "execution_count": 8,
   "metadata": {},
   "outputs": [],
   "source": [
    "def getBlockSigner(block):\n",
    "    method = \"hmyv2_getBlockSigners\"\n",
    "    params = [block]\n",
    "    return get_information(method, params)['result']"
   ]
  },
  {
   "cell_type": "code",
   "execution_count": 9,
   "metadata": {},
   "outputs": [],
   "source": [
    "def getBlockByNumber(block):\n",
    "    method = \"hmy_getBlockByNumberNew\"\n",
    "    params = [hex(block),\n",
    "             {\"withSigners\":True}]\n",
    "    return get_information(method, params)"
   ]
  },
  {
   "cell_type": "code",
   "execution_count": 10,
   "metadata": {},
   "outputs": [],
   "source": [
    "def CN1_test(single):\n",
    "    logger.info(f\"Test-CN1: Slow validator is never starved (should be able to sign blocks)\")\n",
    "    curr_test = None\n",
    "    \n",
    "    block, last_block = getCurrentAndLastBlock()\n",
    "    logger.info(f\"current and last block numbers: {block}, {last_block}\")\n",
    "    if block == last_block or block == last_block -1:\n",
    "        logger.info(f\"current at the last block or last second block, wait until the 5th block in the new epoch\")\n",
    "        while block < last_block+5:\n",
    "            block = getBlockNumber()\n",
    "    logger.info(f\"current block: {block}, will begin collecting infos...\")\n",
    "    signer_address = getBlockSigner(block)\n",
    "    acc_rewards_prev = dict()\n",
    "    validator_infos = getAllValidatorInformation()\n",
    "    for i in validator_infos:\n",
    "        address = i['validator']['address']\n",
    "        if address in signer_address:\n",
    "            reward_accumulated = i['lifetime']['reward-accumulated']\n",
    "            acc_rewards_prev[address] = reward_accumulated\n",
    "\n",
    "    next_block = block + 1\n",
    "    while block < next_block:\n",
    "        block = getBlockNumber()\n",
    "    logger.info(f\"new block {block} reached, will begin testing...\")\n",
    "    flag = True\n",
    "    # get the validator info and compute validator rewards\n",
    "    new_signer_address = getBlockSigner(block)\n",
    "    validator_infos = getAllValidatorInformation()\n",
    "    for i in validator_infos:\n",
    "        address = i['validator']['address']\n",
    "        if address in new_signer_address:           \n",
    "            reward_accumulated = i['lifetime']['reward-accumulated']\n",
    "            if address not in acc_rewards_prev:\n",
    "                continue\n",
    "            reward = reward_accumulated - acc_rewards_prev[address]\n",
    "            if reward == 0:\n",
    "                flag = False\n",
    "                logger.warning(f\"Test-CN1: Fail\")\n",
    "                logger.warning(f\"validator {address} who is a signer doesn't get reward\\n\")\n",
    "    if flag:\n",
    "        logger.info(f\"Test-CN1: All signers get rewards\")\n",
    "    \n",
    "    while block < last_block:\n",
    "        block = getBlockNumber()\n",
    "    logger.info(f\"last block in this epoch reached, {block}\")\n",
    "    validator_infos = getAllValidatorInformation()\n",
    "    for i in validator_infos:\n",
    "        if i['current-epoch-performance']:\n",
    "            sign = i['current-epoch-performance']['current-epoch-signing-percent']\n",
    "            if sign['current-epoch-to-sign'] == 0:\n",
    "                continue\n",
    "            perc = float(sign['current-epoch-signing-percentage'])\n",
    "            if perc > 2/3:\n",
    "                address = i['validator']['address']\n",
    "                epos_status = i['epos-status']\n",
    "                if epos_status == 'not eligible to be elected next epoch':\n",
    "                    flag = False\n",
    "                    logger.warning(f\"Test-CN1: Fail\")\n",
    "                    logger.warning(f\"validator {address} who is a signer is not eligible to be elected next epoch\\n\")\n",
    "\n",
    "    if flag:\n",
    "        logger.info(f\"Test-CN1: Succeed\\n\")\n",
    "        return True, curr_test\n",
    "    else:\n",
    "        return False, curr_test"
   ]
  },
  {
   "cell_type": "code",
   "execution_count": 12,
   "metadata": {},
   "outputs": [
    {
     "name": "stderr",
     "output_type": "stream",
     "text": [
      "INFO:economic-test:Test-CN1: Slow validator is never starved (should be able to sign blocks)\n",
      "INFO:economic-test:current and last block numbers: 3417961, 3424255\n",
      "INFO:economic-test:current block: 3417961, will begin collecting infos...\n"
     ]
    },
    {
     "name": "stdout",
     "output_type": "stream",
     "text": [
      "current and last block numbers 3417961 3424255\n"
     ]
    },
    {
     "name": "stderr",
     "output_type": "stream",
     "text": [
      "INFO:economic-test:new block 3417962 reached, will begin testing...\n",
      "INFO:economic-test:Test-CN1: All signers get rewards\n",
      "INFO:economic-test:last block in this epoch reached, 3424255\n",
      "INFO:economic-test:Test-CN1: Succeed\n",
      "\n"
     ]
    },
    {
     "data": {
      "text/plain": [
       "(True, None)"
      ]
     },
     "execution_count": 12,
     "metadata": {},
     "output_type": "execute_result"
    }
   ],
   "source": [
    "CN1_test(True)"
   ]
  },
  {
   "cell_type": "code",
   "execution_count": null,
   "metadata": {},
   "outputs": [],
   "source": [
    "# def getValidatorInfo(validator):\n",
    "#     method = \"hmy_getValidatorInformation\"\n",
    "#     params = [validator]\n",
    "#     return get_information(method, params)['result']"
   ]
  },
  {
   "cell_type": "code",
   "execution_count": null,
   "metadata": {},
   "outputs": [],
   "source": [
    "# i = 'one103q7qe5t2505lypvltkqtddaef5tzfxwsse4z7'\n",
    "# getValidatorInfo(i)"
   ]
  },
  {
   "cell_type": "code",
   "execution_count": null,
   "metadata": {},
   "outputs": [],
   "source": []
  }
 ],
 "metadata": {
  "kernelspec": {
   "display_name": "Python 3",
   "language": "python",
   "name": "python3"
  },
  "language_info": {
   "codemirror_mode": {
    "name": "ipython",
    "version": 3
   },
   "file_extension": ".py",
   "mimetype": "text/x-python",
   "name": "python",
   "nbconvert_exporter": "python",
   "pygments_lexer": "ipython3",
   "version": "3.7.6"
  }
 },
 "nbformat": 4,
 "nbformat_minor": 2
}
