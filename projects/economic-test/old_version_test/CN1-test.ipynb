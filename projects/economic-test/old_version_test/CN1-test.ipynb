{
 "cells": [
  {
   "cell_type": "code",
   "execution_count": 15,
   "metadata": {},
   "outputs": [],
   "source": [
    "import json\n",
    "import pandas as pd\n",
    "import numpy as np\n",
    "import time\n",
    "import requests\n",
    "import logging"
   ]
  },
  {
   "cell_type": "code",
   "execution_count": 16,
   "metadata": {},
   "outputs": [],
   "source": [
    "logging.basicConfig(level=logging.INFO)\n",
    "logger = logging.getLogger(\"economic-test\")\n",
    "logger.setLevel(logging.INFO)"
   ]
  },
  {
   "cell_type": "code",
   "execution_count": 36,
   "metadata": {},
   "outputs": [],
   "source": [
    "def get_information(method, params):\n",
    "#     url = 'https://api.s0.os.hmny.io/'\n",
    "    url = 'https://api.s0.dry.hmny.io/'\n",
    "#     url = 'https://api.s0.t.hmny.io/'\n",
    "    headers = {'Content-Type': 'application/json'}\n",
    "    data = {\"jsonrpc\":\"2.0\", \"method\": method, \"params\": params, \"id\":1}\n",
    "    r = requests.post(url, headers=headers, data = json.dumps(data))\n",
    "    content = json.loads(r.content)\n",
    "    return content"
   ]
  },
  {
   "cell_type": "code",
   "execution_count": 4,
   "metadata": {},
   "outputs": [],
   "source": [
    "def getBlockNumber():\n",
    "    method = \"hmy_blockNumber\"\n",
    "    params = []\n",
    "    num = get_information(method, params)['result']\n",
    "    return int(num, 16)"
   ]
  },
  {
   "cell_type": "code",
   "execution_count": 5,
   "metadata": {},
   "outputs": [],
   "source": [
    "def getLastBlockOfCurrentEpoch():\n",
    "    method = 'hmy_getStakingNetworkInfo'\n",
    "    params = []\n",
    "    return get_information(method, params)['result']['epoch-last-block']"
   ]
  },
  {
   "cell_type": "code",
   "execution_count": 19,
   "metadata": {},
   "outputs": [],
   "source": [
    "def getCurrentAndLastBlock():\n",
    "    block = getBlockNumber()\n",
    "    last_block = getLastBlockOfCurrentEpoch()\n",
    "    print(\"current and last block numbers\", block, last_block)\n",
    "    return block, last_block"
   ]
  },
  {
   "cell_type": "code",
   "execution_count": 34,
   "metadata": {},
   "outputs": [],
   "source": [
    "def getAllValidatorInformation():\n",
    "    method = 'hmy_getAllValidatorInformation'\n",
    "    params = [-1]\n",
    "    return get_information(method, params)['result'] "
   ]
  },
  {
   "cell_type": "code",
   "execution_count": 24,
   "metadata": {},
   "outputs": [],
   "source": [
    "def getAvailabilityAndRewards():\n",
    "    reward = dict()\n",
    "    validator_infos = getAllValidatorInformation()\n",
    "    for i in validator_infos:\n",
    "        if i['current-epoch-performance']:\n",
    "            sign = i['current-epoch-performance']['current-epoch-signing-percent']\n",
    "            if sign['current-epoch-to-sign'] == 0:\n",
    "                continue\n",
    "            perc = float(sign['current-epoch-signing-percentage'])\n",
    "            if perc > 2/3:\n",
    "                address = i['validator']['address']\n",
    "                reward_accumulated = i['lifetime']['reward-accumulated']\n",
    "                reward[address] = reward_accumulated\n",
    "    return reward"
   ]
  },
  {
   "cell_type": "code",
   "execution_count": 8,
   "metadata": {},
   "outputs": [],
   "source": [
    "def getRewardsAndStatus(cutoff):\n",
    "    reward = dict()\n",
    "    status = dict()\n",
    "    validator_infos = getAllValidatorInformation()\n",
    "    for i in validator_infos:\n",
    "        address = i['validator']['address']\n",
    "        if address in cutoff: \n",
    "            reward_accumulated = i['lifetime']['reward-accumulated']\n",
    "            reward[address] = reward_accumulated\n",
    "            epos_status = i['epos-status']\n",
    "            status[address] = epos_status\n",
    "    return reward, status\n"
   ]
  },
  {
   "cell_type": "code",
   "execution_count": 20,
   "metadata": {},
   "outputs": [],
   "source": [
    "def CN1_test(single):\n",
    "    logger.info(f\"Test-CN1: Slow validator is never starved (should be able to sign blocks)\")\n",
    "    curr_test = None\n",
    "    \n",
    "    block, last_block = getCurrentAndLastBlock()\n",
    "    logger.info(f\"current and last block numbers: {block}, {last_block}\")\n",
    "    if block == last_block or block == last_block -1:\n",
    "        logger.info(f\"current at the last block or last second block, wait until the 5th block in the new epoch\")\n",
    "        while block < last_block+5:\n",
    "            block = getBlockNumber()\n",
    "    logger.info(f\"current block: {block}, will begin collecting infos...\")\n",
    "    # get the validator's reward who just meets the 2/3 cut-off  \n",
    "    cutoff_rewards = getAvailabilityAndRewards()\n",
    "    if not cutoff_rewards:\n",
    "        logger.info(f\"no validators sign more than 2/3 in this test\\n\")\n",
    "        return \"Need More Tests\", curr_test\n",
    "    new_block = block + 1\n",
    "    while block < new_block:\n",
    "        block = getBlockNumber()\n",
    "    logger.info(f\"new block reached, {block}, will wait for 5 seconds to begin testing\")\n",
    "    time.sleep(5)\n",
    "    next_rewards, status = getRewardsAndStatus(cutoff_rewards)\n",
    "    flag = True\n",
    "    for k,v in next_rewards.items():\n",
    "        reward_per_block = v - cutoff_rewards[k]\n",
    "        if reward_per_block == 0 or status[k] == 'not eligible to be elected next epoch':\n",
    "            flag = False\n",
    "            logger.warning(f\"Test-CN1: Fail\")\n",
    "            if reward_per_block == 0:\n",
    "                logger.warning(f\"Slow validator {k} doesn't get reward\\n\")\n",
    "            if status[k] == 'not eligible to be elected next epoch':\n",
    "                logger.warning(f\"Slow validator {k} is no longer eligible\\n\")\n",
    "\n",
    "    if flag:\n",
    "        logger.info(f\"Test-CN1: Succeed\\n\")\n",
    "        return True, curr_test\n",
    "    else:\n",
    "        return False, curr_test"
   ]
  },
  {
   "cell_type": "code",
   "execution_count": 30,
   "metadata": {},
   "outputs": [
    {
     "name": "stderr",
     "output_type": "stream",
     "text": [
      "INFO:economic-test:Test-CN1: Slow validator is never starved (should be able to sign blocks)\n",
      "INFO:economic-test:current and last block numbers: 3224119, 3224269\n",
      "INFO:economic-test:current block: 3224119, will begin collecting infos...\n"
     ]
    },
    {
     "name": "stdout",
     "output_type": "stream",
     "text": [
      "current and last block numbers 3224119 3224269\n"
     ]
    },
    {
     "name": "stderr",
     "output_type": "stream",
     "text": [
      "INFO:economic-test:new block reached, 3224120, will wait for 5 seconds to begin testing\n",
      "INFO:economic-test:Test-CN1: Succeed\n",
      "\n"
     ]
    },
    {
     "data": {
      "text/plain": [
       "(True, None)"
      ]
     },
     "execution_count": 30,
     "metadata": {},
     "output_type": "execute_result"
    }
   ],
   "source": [
    "CN1_test(True)"
   ]
  },
  {
   "cell_type": "code",
   "execution_count": 25,
   "metadata": {},
   "outputs": [
    {
     "name": "stderr",
     "output_type": "stream",
     "text": [
      "INFO:economic-test:Test-CN1: Slow validator is never starved (should be able to sign blocks)\n",
      "INFO:economic-test:current and last block numbers: 3223912, 3224269\n",
      "INFO:economic-test:current block: 3223912, will begin collecting infos...\n"
     ]
    },
    {
     "name": "stdout",
     "output_type": "stream",
     "text": [
      "current and last block numbers 3223912 3224269\n"
     ]
    },
    {
     "name": "stderr",
     "output_type": "stream",
     "text": [
      "INFO:economic-test:new block reached, 3223913, will wait for 5 seconds to begin testing\n",
      "WARNING:economic-test:Test-CN1: Fail\n",
      "WARNING:economic-test:Slow validator one103q7qe5t2505lypvltkqtddaef5tzfxwsse4z7 doesn't get reward\n",
      "\n",
      "WARNING:economic-test:Test-CN1: Fail\n",
      "WARNING:economic-test:Slow validator one18vn078vyp5jafma8q7kek6w0resrgex9yufqws doesn't get reward\n",
      "\n",
      "WARNING:economic-test:Test-CN1: Fail\n",
      "WARNING:economic-test:Slow validator one1km7xg8e3xjys7azp9f4xp8hkw79vm2h3f2lade doesn't get reward\n",
      "\n",
      "WARNING:economic-test:Test-CN1: Fail\n",
      "WARNING:economic-test:Slow validator one1gjsxmewzws9mt3fn65jmdhr3e4hel9xza8wd6t doesn't get reward\n",
      "\n",
      "WARNING:economic-test:Test-CN1: Fail\n",
      "WARNING:economic-test:Slow validator one1fd094898rfktel7rezmk65zql3cjzhw9zgxcff doesn't get reward\n",
      "\n"
     ]
    },
    {
     "data": {
      "text/plain": [
       "(False, None)"
      ]
     },
     "execution_count": 25,
     "metadata": {},
     "output_type": "execute_result"
    }
   ],
   "source": [
    "CN1_test(True)"
   ]
  },
  {
   "cell_type": "code",
   "execution_count": 10,
   "metadata": {},
   "outputs": [],
   "source": [
    "def getValidatorInfo(validator):\n",
    "    method = \"hmy_getValidatorInformation\"\n",
    "    params = [validator]\n",
    "    return get_information(method, params)['result']"
   ]
  },
  {
   "cell_type": "code",
   "execution_count": 26,
   "metadata": {},
   "outputs": [
    {
     "data": {
      "text/plain": [
       "{'validator': {'bls-public-keys': ['86dc2fdc2ceec18f6923b99fd86a68405c132e1005cf1df72dca75db0adfaeb53d201d66af37916d61f079f34f21fb96'],\n",
       "  'last-epoch-in-committee': 182,\n",
       "  'min-self-delegation': 10000000000000000000000,\n",
       "  'max-total-delegation': 12600000000000000000000000000,\n",
       "  'rate': '0.050000000000000000',\n",
       "  'max-rate': '1.000000000000000000',\n",
       "  'max-change-rate': '0.050000000000000000',\n",
       "  'update-height': 3221644,\n",
       "  'name': 'Rongjian',\n",
       "  'identity': 'rj',\n",
       "  'website': 'rongjian@harmony.one',\n",
       "  'security-contact': 'harmony',\n",
       "  'details': 'RJ the validator',\n",
       "  'creation-height': 3221644,\n",
       "  'address': 'one103q7qe5t2505lypvltkqtddaef5tzfxwsse4z7',\n",
       "  'delegations': [{'delegator-address': 'one103q7qe5t2505lypvltkqtddaef5tzfxwsse4z7',\n",
       "    'amount': 10000000000000000000000,\n",
       "    'reward': 1066139721385542171141,\n",
       "    'undelegations': []},\n",
       "   {'delegator-address': 'one18xfcqu7jf0cq5apweyu5jxr30x9cvetegwqfss',\n",
       "    'amount': 9700000000000000000000,\n",
       "    'reward': 178540625000000001426,\n",
       "    'undelegations': [{'amount': 300000000000000000000, 'epoch': 180}]},\n",
       "   {'delegator-address': 'one1tpxl87y4g8ecsm6ceqay49qxyl5vs94jjyfvd9',\n",
       "    'amount': 1000000000000000000000,\n",
       "    'reward': 18406250000000000310,\n",
       "    'undelegations': []}]},\n",
       " 'current-epoch-performance': {'current-epoch-signing-percent': {'current-epoch-signed': 93,\n",
       "   'current-epoch-to-sign': 93,\n",
       "   'current-epoch-signing-percentage': '1.000000000000000000'}},\n",
       " 'metrics': {'by-bls-key': [{'key': {'bls-public-key': '86dc2fdc2ceec18f6923b99fd86a68405c132e1005cf1df72dca75db0adfaeb53d201d66af37916d61f079f34f21fb96',\n",
       "     'group-percent': '0.154017857142857143',\n",
       "     'effective-stake': '17250000000000000000000.000000000000000000',\n",
       "     'raw-stake': '20700000000000000000000.000000000000000000',\n",
       "     'earning-account': 'one103q7qe5t2505lypvltkqtddaef5tzfxwsse4z7',\n",
       "     'overall-percent': '0.049285714285714286',\n",
       "     'shard-id': 2},\n",
       "    'earned-reward': 401062500000000002976}]},\n",
       " 'total-delegation': 20700000000000000000000,\n",
       " 'currently-in-committee': True,\n",
       " 'epos-status': 'currently elected',\n",
       " 'epos-winning-stake': '17250000000000000000000.000000000000000000',\n",
       " 'booted-status': None,\n",
       " 'lifetime': {'reward-accumulated': 1263086596385542172412,\n",
       "  'blocks': {'to-sign': 537, 'signed': 208},\n",
       "  'apr': '0.000000000000000000'}}"
      ]
     },
     "execution_count": 26,
     "metadata": {},
     "output_type": "execute_result"
    }
   ],
   "source": [
    "i = 'one103q7qe5t2505lypvltkqtddaef5tzfxwsse4z7'\n",
    "getValidatorInfo(i)"
   ]
  },
  {
   "cell_type": "code",
   "execution_count": 27,
   "metadata": {},
   "outputs": [
    {
     "data": {
      "text/plain": [
       "{'validator': {'bls-public-keys': ['394d726edbb908fa71bdb2b417dd0fe7c77d9f86b3a0b1e1b51d11e26dd1cddb4e21269c3e1d08e75d43ec98ff4ca582'],\n",
       "  'last-epoch-in-committee': 182,\n",
       "  'min-self-delegation': 15000000000000000000000,\n",
       "  'max-total-delegation': 10000000000000000000000000,\n",
       "  'rate': '0.050000000000000000',\n",
       "  'max-rate': '0.500000000000000000',\n",
       "  'max-change-rate': '0.050000000000000000',\n",
       "  'update-height': 3221765,\n",
       "  'name': 'leo-130',\n",
       "  'identity': 'Amazonian!',\n",
       "  'website': 'https://staking.leochen.net',\n",
       "  'security-contact': 'staking@leochen.net',\n",
       "  'details': 'Amazon Veteran with strong DevOps experience',\n",
       "  'creation-height': 3221765,\n",
       "  'address': 'one18vn078vyp5jafma8q7kek6w0resrgex9yufqws',\n",
       "  'delegations': [{'delegator-address': 'one18vn078vyp5jafma8q7kek6w0resrgex9yufqws',\n",
       "    'amount': 15000000000000000000000,\n",
       "    'reward': 15721889355329633964432,\n",
       "    'undelegations': []}]},\n",
       " 'current-epoch-performance': {'current-epoch-signing-percent': {'current-epoch-signed': 103,\n",
       "   'current-epoch-to-sign': 103,\n",
       "   'current-epoch-signing-percentage': '1.000000000000000000'}},\n",
       " 'metrics': {'by-bls-key': [{'key': {'bls-public-key': '394d726edbb908fa71bdb2b417dd0fe7c77d9f86b3a0b1e1b51d11e26dd1cddb4e21269c3e1d08e75d43ec98ff4ca582',\n",
       "     'group-percent': '0.133928571428571429',\n",
       "     'effective-stake': '15000000000000000000000.000000000000000000',\n",
       "     'raw-stake': '15000000000000000000000.000000000000000000',\n",
       "     'earning-account': 'one18vn078vyp5jafma8q7kek6w0resrgex9yufqws',\n",
       "     'overall-percent': '0.042857142857142857',\n",
       "     'shard-id': 2},\n",
       "    'earned-reward': 392080152671755723672}]},\n",
       " 'total-delegation': 15000000000000000000000,\n",
       " 'currently-in-committee': True,\n",
       " 'epos-status': 'currently elected',\n",
       " 'epos-winning-stake': '15000000000000000000000.000000000000000000',\n",
       " 'booted-status': None,\n",
       " 'lifetime': {'reward-accumulated': 15721889355329633964432,\n",
       "  'blocks': {'to-sign': 1912, 'signed': 1898},\n",
       "  'apr': '4072.965658481857870053'}}"
      ]
     },
     "execution_count": 27,
     "metadata": {},
     "output_type": "execute_result"
    }
   ],
   "source": [
    "i = 'one18vn078vyp5jafma8q7kek6w0resrgex9yufqws'\n",
    "getValidatorInfo(i)"
   ]
  },
  {
   "cell_type": "code",
   "execution_count": 28,
   "metadata": {},
   "outputs": [
    {
     "data": {
      "text/plain": [
       "{'validator': {'bls-public-keys': ['084c40353ede41cdd52b7b142884269a324022ce21826c9ecae66f6acf8de2c9bc9d1fae2f87a31ba0a0a1863a52f506',\n",
       "   '73aab123084e79be660e6e3a2102e1087b3db3a762d2fc4f0f5d7a7b99d326a97490e75a548e7a1f5d451757a331ae0e',\n",
       "   '93ddd28639e0878547134f4fb4cd26819042d76969ba520adb7a566a693b076c45e348b2a26876154af847a1b30fa492',\n",
       "   'a15560ec4d62de1a8b8e030445e30e644afdb3b4c1e5f06db95cc26050e05ce8ada141d04038e31abbc3ac0b141c860e'],\n",
       "  'last-epoch-in-committee': 182,\n",
       "  'min-self-delegation': 10000000000000000000000,\n",
       "  'max-total-delegation': 100000000000000000000000000,\n",
       "  'rate': '0.075000000000000000',\n",
       "  'max-rate': '0.750000000000000000',\n",
       "  'max-change-rate': '0.100000000000000000',\n",
       "  'update-height': 3221955,\n",
       "  'name': 'JB273-OpenStaking #P-OPS',\n",
       "  'identity': 'JB273',\n",
       "  'website': 'JB273.harmony.one',\n",
       "  'security-contact': 'JB273',\n",
       "  'details': 'OpenStaking made possible by JB273',\n",
       "  'creation-height': 3221955,\n",
       "  'address': 'one1gjsxmewzws9mt3fn65jmdhr3e4hel9xza8wd6t',\n",
       "  'delegations': [{'delegator-address': 'one1gjsxmewzws9mt3fn65jmdhr3e4hel9xza8wd6t',\n",
       "    'amount': 10010000000000000000000,\n",
       "    'reward': 7951510884930732262108,\n",
       "    'undelegations': []}]},\n",
       " 'current-epoch-performance': {'current-epoch-signing-percent': {'current-epoch-signed': 436,\n",
       "   'current-epoch-to-sign': 436,\n",
       "   'current-epoch-signing-percentage': '1.000000000000000000'}},\n",
       " 'metrics': {'by-bls-key': [{'key': {'bls-public-key': '93ddd28639e0878547134f4fb4cd26819042d76969ba520adb7a566a693b076c45e348b2a26876154af847a1b30fa492',\n",
       "     'group-percent': '0.113839285714285714',\n",
       "     'effective-stake': '12750000000000000000000.000000000000000000',\n",
       "     'raw-stake': '2502500000000000000000.000000000000000000',\n",
       "     'earning-account': 'one1gjsxmewzws9mt3fn65jmdhr3e4hel9xza8wd6t',\n",
       "     'overall-percent': '0.036428571428571428',\n",
       "     'shard-id': 2},\n",
       "    'earned-reward': 349667938931297703024},\n",
       "   {'key': {'bls-public-key': '73aab123084e79be660e6e3a2102e1087b3db3a762d2fc4f0f5d7a7b99d326a97490e75a548e7a1f5d451757a331ae0e',\n",
       "     'group-percent': '0.113839285714285714',\n",
       "     'effective-stake': '12750000000000000000000.000000000000000000',\n",
       "     'raw-stake': '2502500000000000000000.000000000000000000',\n",
       "     'earning-account': 'one1gjsxmewzws9mt3fn65jmdhr3e4hel9xza8wd6t',\n",
       "     'overall-percent': '0.036428571428571428',\n",
       "     'shard-id': 2},\n",
       "    'earned-reward': 349667938931297703024},\n",
       "   {'key': {'bls-public-key': 'a15560ec4d62de1a8b8e030445e30e644afdb3b4c1e5f06db95cc26050e05ce8ada141d04038e31abbc3ac0b141c860e',\n",
       "     'group-percent': '0.113839285714285714',\n",
       "     'effective-stake': '12750000000000000000000.000000000000000000',\n",
       "     'raw-stake': '2502500000000000000000.000000000000000000',\n",
       "     'earning-account': 'one1gjsxmewzws9mt3fn65jmdhr3e4hel9xza8wd6t',\n",
       "     'overall-percent': '0.036428571428571431',\n",
       "     'shard-id': 2},\n",
       "    'earned-reward': 349667938931297733124},\n",
       "   {'key': {'bls-public-key': '084c40353ede41cdd52b7b142884269a324022ce21826c9ecae66f6acf8de2c9bc9d1fae2f87a31ba0a0a1863a52f506',\n",
       "     'group-percent': '0.113839285714285714',\n",
       "     'effective-stake': '12750000000000000000000.000000000000000000',\n",
       "     'raw-stake': '2502500000000000000000.000000000000000000',\n",
       "     'earning-account': 'one1gjsxmewzws9mt3fn65jmdhr3e4hel9xza8wd6t',\n",
       "     'overall-percent': '0.036428571428571428',\n",
       "     'shard-id': 2},\n",
       "    'earned-reward': 349667938931297703024}]},\n",
       " 'total-delegation': 10010000000000000000000,\n",
       " 'currently-in-committee': True,\n",
       " 'epos-status': 'currently elected',\n",
       " 'epos-winning-stake': '51000000000000000000000.000000000000000000',\n",
       " 'booted-status': None,\n",
       " 'lifetime': {'reward-accumulated': 7951510884930732262108,\n",
       "  'blocks': {'to-sign': 4012, 'signed': 2236},\n",
       "  'apr': '2828.463139913521592729'}}"
      ]
     },
     "execution_count": 28,
     "metadata": {},
     "output_type": "execute_result"
    }
   ],
   "source": [
    "i = 'one1gjsxmewzws9mt3fn65jmdhr3e4hel9xza8wd6t'\n",
    "getValidatorInfo(i)"
   ]
  },
  {
   "cell_type": "code",
   "execution_count": null,
   "metadata": {},
   "outputs": [],
   "source": []
  }
 ],
 "metadata": {
  "kernelspec": {
   "display_name": "Python 3",
   "language": "python",
   "name": "python3"
  },
  "language_info": {
   "codemirror_mode": {
    "name": "ipython",
    "version": 3
   },
   "file_extension": ".py",
   "mimetype": "text/x-python",
   "name": "python",
   "nbconvert_exporter": "python",
   "pygments_lexer": "ipython3",
   "version": "3.7.6"
  }
 },
 "nbformat": 4,
 "nbformat_minor": 2
}
