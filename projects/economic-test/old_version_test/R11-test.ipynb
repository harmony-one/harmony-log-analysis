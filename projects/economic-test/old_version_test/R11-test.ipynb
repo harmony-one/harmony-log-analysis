{
 "cells": [
  {
   "cell_type": "code",
   "execution_count": 1,
   "metadata": {},
   "outputs": [],
   "source": [
    "import json\n",
    "import pandas as pd\n",
    "import numpy as np\n",
    "import time\n",
    "import requests\n",
    "import logging"
   ]
  },
  {
   "cell_type": "code",
   "execution_count": 2,
   "metadata": {},
   "outputs": [],
   "source": [
    "logging.basicConfig(level=logging.INFO)\n",
    "logger = logging.getLogger(\"economic-test\")\n",
    "logger.setLevel(logging.INFO)"
   ]
  },
  {
   "cell_type": "code",
   "execution_count": 3,
   "metadata": {},
   "outputs": [],
   "source": [
    "def get_information(method, params):\n",
    "    url = 'https://api.s0.os.hmny.io/'\n",
    "    headers = {'Content-Type': 'application/json'}\n",
    "    data = {\"jsonrpc\":\"2.0\", \"method\": method, \"params\": params, \"id\":1}\n",
    "    r = requests.post(url, headers=headers, data = json.dumps(data))\n",
    "    content = json.loads(r.content)\n",
    "    return content"
   ]
  },
  {
   "cell_type": "code",
   "execution_count": 4,
   "metadata": {},
   "outputs": [],
   "source": [
    "def getBlockNumber():\n",
    "    method = \"hmy_blockNumber\"\n",
    "    params = []\n",
    "    num = get_information(method, params)['result']\n",
    "    return int(num, 16)"
   ]
  },
  {
   "cell_type": "code",
   "execution_count": 5,
   "metadata": {},
   "outputs": [],
   "source": [
    "def getEpoch():\n",
    "    method = 'hmy_getEpoch'\n",
    "    params = []\n",
    "    num = get_information(method, params)['result']\n",
    "    return int(num, 16)"
   ]
  },
  {
   "cell_type": "code",
   "execution_count": 6,
   "metadata": {},
   "outputs": [],
   "source": [
    "def getLastBlockOfCurrentEpoch():\n",
    "    method = 'hmy_getStakingNetworkInfo'\n",
    "    params = []\n",
    "    return get_information(method, params)['result']['epoch-last-block']"
   ]
  },
  {
   "cell_type": "code",
   "execution_count": 7,
   "metadata": {},
   "outputs": [],
   "source": [
    "def getCurrentAndLastBlock():\n",
    "    block = getBlockNumber()\n",
    "    last_block = getLastBlockOfCurrentEpoch()\n",
    "    print(\"current and last block numbers\", block, last_block)\n",
    "    return block, last_block"
   ]
  },
  {
   "cell_type": "code",
   "execution_count": 8,
   "metadata": {},
   "outputs": [],
   "source": [
    "def getAllValidatorInformation():\n",
    "    method = 'hmy_getAllValidatorInformation'\n",
    "    params = [0]\n",
    "    return get_information(method, params)['result'] "
   ]
  },
  {
   "cell_type": "code",
   "execution_count": 9,
   "metadata": {},
   "outputs": [],
   "source": [
    "def getStakesAndAprs():\n",
    "    stakes = dict()\n",
    "    aprs = dict()\n",
    "    validator_infos = getAllValidatorInformation()\n",
    "    for i in validator_infos:\n",
    "        if i['currently-in-committee'] == True:\n",
    "            address = i['validator']['address']\n",
    "            effective_stake = 0\n",
    "            for j in i['metrics']['by-bls-key']:\n",
    "                effective_stake += float(j['key']['effective-stake'])\n",
    "       \n",
    "            apr = float(i['lifetime']['apr'])\n",
    "            stakes[address] = effective_stake\n",
    "            aprs[address] = apr\n",
    "    return stakes, aprs"
   ]
  },
  {
   "cell_type": "code",
   "execution_count": 10,
   "metadata": {},
   "outputs": [],
   "source": [
    "def diffAndFilter(map1, map2):\n",
    "    map3 = dict()\n",
    "    for k, v in map2.items():\n",
    "        if k in map1:\n",
    "            if v - map1[k] != 0:\n",
    "                map3[k] = v - map1[k]\n",
    "    return map3"
   ]
  },
  {
   "cell_type": "code",
   "execution_count": 11,
   "metadata": {},
   "outputs": [],
   "source": [
    "def R11_test(single):\n",
    "    logger.info(f\"Test-R11: Earning is proportional to effective stake \")\n",
    "    num = 1\n",
    "    iterations = 0\n",
    "    if single:\n",
    "        curr_test = None\n",
    "    else:\n",
    "        curr_test = R14_test\n",
    "    \n",
    "    while iterations < num:\n",
    "        logger.info(f\"test {iterations+1} will begin ...\")\n",
    "        block, last_block = getCurrentAndLastBlock()\n",
    "        logger.info(f\"current and last block numbers: {block}, {last_block}\")\n",
    "        if block == last_block:\n",
    "            new_block = block+1\n",
    "            while block < new_block:\n",
    "                block = getBlockNumber()\n",
    "            block, last_block = getCurrentAndLastBlock()\n",
    "            logger.info(f\"current and last block numbers: {block}, {last_block}\")\n",
    "        epoch = getEpoch()\n",
    "\n",
    "        second_last_block = last_block - 1\n",
    "        while block < second_last_block:\n",
    "            block = getBlockNumber()\n",
    "        logger.info(f\"second last block in current epoch reached {block}, will wait for 6 seconds...\")\n",
    "        time.sleep(6)\n",
    "        logger.info(f\"begin collecting stakes and aprs...\")\n",
    "        stakes, aprs = getStakesAndAprs()\n",
    "\n",
    "        # in the last block, we can not get the total effective stakes, no metrics. \n",
    "        new_block = block + 2\n",
    "        while block < new_block:\n",
    "            block = getBlockNumber()\n",
    "        logger.info(f\"first block in new epoch reached, {block}, will wait for 5 seconds...\")\n",
    "        time.sleep(5)\n",
    "        logger.info(f\"compare the changes...\")\n",
    "        new_stakes, new_aprs = getStakesAndAprs()\n",
    "\n",
    "        apr_diff = diffAndFilter(aprs, new_aprs)\n",
    "        # get the validators whose effective stake changes\n",
    "        stake_diff = diffAndFilter(stakes, new_stakes)\n",
    "\n",
    "        if not stake_diff:\n",
    "            logger.info(f\"in this iteration, no validators change the effective stake\\n\")\n",
    "            return \"Need More Tests\", curr_test\n",
    "        if not apr_diff:\n",
    "            logger.info(f\"in this iteration, no validators change the apr\\n\")\n",
    "            return \"Need More Tests\", curr_test\n",
    "\n",
    "        flag = True\n",
    "        for k,v in stake_diff.items():\n",
    "            if k in apr_diff:\n",
    "                if v > 0: \n",
    "                    if apr_diff[k] <= 0:\n",
    "                        flag = False\n",
    "                        logger.warning(f\"Test-R11: Fail\")\n",
    "                        logger.warning(f\"{k}'s effective stake increase: {v}\")\n",
    "                        logger.warning(f\"but apr doesn't increase, apr changes: {apr_diff[k]}\\n\")\n",
    "                if v < 0:\n",
    "                    if apr_diff[k] >= 0:\n",
    "                        flag = False\n",
    "                        logger.warning(f\"Test-R11: Fail\")\n",
    "                        logger.warning(f\"{k}'s effective stake decrease: {v}\")\n",
    "                        logger.warning(f\"apr doesn't decrease, apr changes: {apr_diff[k]}\\n\")\n",
    "        iterations += 1 \n",
    "\n",
    "    if flag:\n",
    "        logger.info(f\"Test-R11: Succeed\\n\")\n",
    "        return True, curr_test\n",
    "    else:\n",
    "        return False, curr_test"
   ]
  },
  {
   "cell_type": "code",
   "execution_count": 12,
   "metadata": {},
   "outputs": [
    {
     "name": "stderr",
     "output_type": "stream",
     "text": [
      "INFO:economic-test:Test-R11: Earning is proportional to effective stake \n",
      "INFO:economic-test:test 1 will begin ...\n",
      "INFO:economic-test:current and last block numbers: 129139, 129161\n"
     ]
    },
    {
     "name": "stdout",
     "output_type": "stream",
     "text": [
      "current and last block numbers 129139 129161\n"
     ]
    },
    {
     "name": "stderr",
     "output_type": "stream",
     "text": [
      "INFO:economic-test:second last block in current epoch reached 129160, will wait for 6 seconds...\n",
      "INFO:economic-test:begin collecting stakes and aprs...\n",
      "INFO:economic-test:first block in new epoch reached, 129162, will wait for 5 seconds...\n",
      "INFO:economic-test:compare the changes...\n",
      "WARNING:economic-test:Test-R11: Fail\n",
      "WARNING:economic-test:one1v8pukmelacy3xdap773rpg5pax3tmu40wmwr2j's effective stake increase: 6.485252500000034e+22\n",
      "WARNING:economic-test:but apr doesn't increase, apr changes: -0.00943888561266959\n",
      "\n",
      "WARNING:economic-test:Test-R11: Fail\n",
      "WARNING:economic-test:one1pgtnlatpnwl8laww7tc2f5qss6rjhzunwtrq5p's effective stake increase: 6.485252500000034e+22\n",
      "WARNING:economic-test:but apr doesn't increase, apr changes: -0.0018651170684038099\n",
      "\n",
      "WARNING:economic-test:Test-R11: Fail\n",
      "WARNING:economic-test:one1la07f5wduc3379ffzlpqrl4rcvlchyvtwf3uyj's effective stake increase: 6.485252500000034e+22\n",
      "WARNING:economic-test:but apr doesn't increase, apr changes: -0.00647523666561145\n",
      "\n",
      "WARNING:economic-test:Test-R11: Fail\n",
      "WARNING:economic-test:one1x9a8cl3aryhp9c3nyr0hzxzrhmlasgv4g47tya's effective stake increase: 6.485252500000034e+22\n",
      "WARNING:economic-test:but apr doesn't increase, apr changes: -0.007184881553965905\n",
      "\n",
      "WARNING:economic-test:Test-R11: Fail\n",
      "WARNING:economic-test:one1dcmp24uqgwszcvmm8n6r5dvhqhuukdj86pkg6n's effective stake increase: 6.485252500000034e+22\n",
      "WARNING:economic-test:but apr doesn't increase, apr changes: -0.003772845872713315\n",
      "\n",
      "WARNING:economic-test:Test-R11: Fail\n",
      "WARNING:economic-test:one1gjsxmewzws9mt3fn65jmdhr3e4hel9xza8wd6t's effective stake increase: 6.485252500000034e+22\n",
      "WARNING:economic-test:but apr doesn't increase, apr changes: -0.0046205380386800665\n",
      "\n",
      "WARNING:economic-test:Test-R11: Fail\n",
      "WARNING:economic-test:one19cuygr776f7j9ep97hjm0np9ay6nus9w5msy0n's effective stake increase: 6.485252500000034e+22\n",
      "WARNING:economic-test:but apr doesn't increase, apr changes: -0.010761283206906613\n",
      "\n",
      "WARNING:economic-test:Test-R11: Fail\n",
      "WARNING:economic-test:one1c0w53749uf70lfzdehhl0t23qdjvha0sf2ug5r's effective stake increase: 6.485252500000034e+22\n",
      "WARNING:economic-test:but apr doesn't increase, apr changes: -0.0034380568689821867\n",
      "\n",
      "WARNING:economic-test:Test-R11: Fail\n",
      "WARNING:economic-test:one1f8hrk0l4a36hxsl8g6kqtg5ghqvzwg35s9y0sk's effective stake increase: 6.485252500000034e+22\n",
      "WARNING:economic-test:but apr doesn't increase, apr changes: -0.003424541627855271\n",
      "\n",
      "WARNING:economic-test:Test-R11: Fail\n",
      "WARNING:economic-test:one1xnzpe9aqgm7aqd9f4sgzm5ycqgmw7uga43f2gd's effective stake increase: 6.485252500000034e+22\n",
      "WARNING:economic-test:but apr doesn't increase, apr changes: -0.002831954547948934\n",
      "\n",
      "WARNING:economic-test:Test-R11: Fail\n",
      "WARNING:economic-test:one1rmsztmw3727yjuszwd484z8mvf9v6fkkze4r5s's effective stake increase: 6.485252500000034e+22\n",
      "WARNING:economic-test:but apr doesn't increase, apr changes: -0.0030512679336249793\n",
      "\n",
      "WARNING:economic-test:Test-R11: Fail\n",
      "WARNING:economic-test:one1z8l2gca5rw5ws3pss0p76fyla9ge9zer3hne9d's effective stake increase: 6.485252500000034e+22\n",
      "WARNING:economic-test:but apr doesn't increase, apr changes: -0.002868676683956739\n",
      "\n",
      "WARNING:economic-test:Test-R11: Fail\n",
      "WARNING:economic-test:one1eapc4kmmtj3uscrlyz9lyd3tgkdemg7un5rup0's effective stake increase: 6.485252500000034e+22\n",
      "WARNING:economic-test:but apr doesn't increase, apr changes: -0.010585516046747956\n",
      "\n",
      "WARNING:economic-test:Test-R11: Fail\n",
      "WARNING:economic-test:one1r7rwp4dv2yt60kxl3rx3mhfy04cc0t9hzwkyj9's effective stake increase: 6.485252500000034e+22\n",
      "WARNING:economic-test:but apr doesn't increase, apr changes: -0.005479912631231931\n",
      "\n",
      "WARNING:economic-test:Test-R11: Fail\n",
      "WARNING:economic-test:one1wqq9xrca6g5vfaqwm47gc953kgy6kqxm2pffuj's effective stake increase: 6.485252500000034e+22\n",
      "WARNING:economic-test:but apr doesn't increase, apr changes: -0.07166829309074779\n",
      "\n",
      "WARNING:economic-test:Test-R11: Fail\n",
      "WARNING:economic-test:one1lxjup2vs6aflc3pjnhyu5pc9s52hxguvswq3zr's effective stake increase: 6.485252500000034e+22\n",
      "WARNING:economic-test:but apr doesn't increase, apr changes: -0.0028397308580628833\n",
      "\n"
     ]
    },
    {
     "data": {
      "text/plain": [
       "(False, None)"
      ]
     },
     "execution_count": 12,
     "metadata": {},
     "output_type": "execute_result"
    }
   ],
   "source": [
    "R11_test(True)"
   ]
  }
 ],
 "metadata": {
  "kernelspec": {
   "display_name": "Python 3",
   "language": "python",
   "name": "python3"
  },
  "language_info": {
   "codemirror_mode": {
    "name": "ipython",
    "version": 3
   },
   "file_extension": ".py",
   "mimetype": "text/x-python",
   "name": "python",
   "nbconvert_exporter": "python",
   "pygments_lexer": "ipython3",
   "version": "3.7.6"
  }
 },
 "nbformat": 4,
 "nbformat_minor": 2
}
