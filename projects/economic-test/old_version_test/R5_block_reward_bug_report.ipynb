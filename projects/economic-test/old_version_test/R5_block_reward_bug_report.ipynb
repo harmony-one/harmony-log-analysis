{
 "cells": [
  {
   "cell_type": "code",
   "execution_count": 2,
   "metadata": {},
   "outputs": [],
   "source": [
    "import json\n",
    "import pandas as pd\n",
    "import numpy as np\n",
    "import time\n",
    "import requests\n",
    "import logging\n",
    "from collections import defaultdict"
   ]
  },
  {
   "cell_type": "code",
   "execution_count": 3,
   "metadata": {},
   "outputs": [],
   "source": [
    "logging.basicConfig(level=logging.INFO)\n",
    "logger = logging.getLogger(\"economic-test\")\n",
    "logger.setLevel(logging.INFO)"
   ]
  },
  {
   "cell_type": "code",
   "execution_count": 1,
   "metadata": {},
   "outputs": [],
   "source": [
    "def get_information(method, params):\n",
    "#     url = 'https://api.s0.os.hmny.io/'\n",
    "    url = 'https://api.s0.t.hmny.io/'\n",
    "    headers = {'Content-Type': 'application/json'}\n",
    "    data = {\"jsonrpc\":\"2.0\", \"method\": method, \"params\": params, \"id\":1}\n",
    "    r = requests.post(url, headers=headers, data = json.dumps(data))\n",
    "    content = json.loads(r.content)\n",
    "    return content"
   ]
  },
  {
   "cell_type": "code",
   "execution_count": 4,
   "metadata": {},
   "outputs": [],
   "source": [
    "def getBlockNumber():\n",
    "    method = \"hmy_blockNumber\"\n",
    "    params = []\n",
    "    num = get_information(method, params)['result']\n",
    "    return int(num, 16)"
   ]
  },
  {
   "cell_type": "code",
   "execution_count": 5,
   "metadata": {},
   "outputs": [],
   "source": [
    "def getLastBlockOfCurrentEpoch():\n",
    "    method = 'hmy_getStakingNetworkInfo'\n",
    "    params = []\n",
    "    return get_information(method, params)['result']['epoch-last-block']"
   ]
  },
  {
   "cell_type": "code",
   "execution_count": 6,
   "metadata": {},
   "outputs": [],
   "source": [
    "def getCurrentAndLastBlock():\n",
    "    block = getBlockNumber()\n",
    "    last_block = getLastBlockOfCurrentEpoch()\n",
    "    print(\"current and last block numbers\", block, last_block)\n",
    "    return block, last_block"
   ]
  },
  {
   "cell_type": "code",
   "execution_count": 4,
   "metadata": {},
   "outputs": [],
   "source": [
    "def getAllValidatorInformation():\n",
    "    method = 'hmy_getAllValidatorInformation'\n",
    "    params = [-1]\n",
    "    return get_information(method, params)['result'] "
   ]
  },
  {
   "cell_type": "code",
   "execution_count": 8,
   "metadata": {},
   "outputs": [],
   "source": [
    "def getSuperCommittees():\n",
    "    method = \"hmy_getSuperCommittees\"\n",
    "    params = []\n",
    "    return get_information(method, params)['result']['current']"
   ]
  },
  {
   "cell_type": "code",
   "execution_count": 19,
   "metadata": {},
   "outputs": [],
   "source": [
    "def getElectedValidator():\n",
    "    method = 'hmy_getElectedValidatorAddresses'\n",
    "    params = []\n",
    "    return get_information(method, params)['result']"
   ]
  },
  {
   "cell_type": "code",
   "execution_count": 9,
   "metadata": {},
   "outputs": [],
   "source": [
    "def diffAndFilter(map1, map2):\n",
    "    map3 = dict()\n",
    "    for k, v in map2.items():\n",
    "        if k in map1:\n",
    "#             if v - map1[k] != 0:\n",
    "            map3[k] = v - map1[k]\n",
    "    return map3"
   ]
  },
  {
   "cell_type": "code",
   "execution_count": 10,
   "metadata": {},
   "outputs": [],
   "source": [
    "# def diffAndFilter2(map1, map2):\n",
    "#     map3 = dict()\n",
    "#     for key, val in map2.items():\n",
    "#         diff = dict()\n",
    "#         for k, v in map2[key].items():\n",
    "# #             if v - map1[key][k] != 0:\n",
    "#             diff[k] = v - map1[key][k]\n",
    "#         map3[key] = diff\n",
    "#     return map3"
   ]
  },
  {
   "cell_type": "code",
   "execution_count": 35,
   "metadata": {},
   "outputs": [],
   "source": [
    "def diffAndFilter2(map1, map2):\n",
    "    map3 = dict()\n",
    "    for key, val in map2.items():\n",
    "        diff = dict()\n",
    "        for k, v in map2[key].items():\n",
    "            if key in map1 and k in map1[key]:\n",
    "                diff[k] = v - map1[key][k]\n",
    "            if key in map1 and k not in map1[key]:\n",
    "                diff[k] = map2[key][k]\n",
    "        map3[key] = diff\n",
    "    return map3"
   ]
  },
  {
   "cell_type": "code",
   "execution_count": 11,
   "metadata": {},
   "outputs": [],
   "source": [
    "def getValidatorInfo(validator):\n",
    "    method = \"hmy_getValidatorInformation\"\n",
    "    params = [validator]\n",
    "    return get_information(method, params)['result']"
   ]
  },
  {
   "cell_type": "code",
   "execution_count": 30,
   "metadata": {},
   "outputs": [],
   "source": [
    "def R5_test(single):\n",
    "    logger.info(f\"Test-R5: Reward given out to block signers sums up to the total block reward\")\n",
    "    logger.info(f\"check sum over earned-reward diff of all keys per shard = 28\")\n",
    "    block, last_block = getCurrentAndLastBlock()\n",
    "    logger.info(f\"current and last block numbers: {block}, {last_block}\")\n",
    "    if block == last_block or block == last_block -1:\n",
    "        logger.info(f\"current at the last block or last second block, wait until the first block in the new epoch\")\n",
    "        while block < last_block+1:\n",
    "            block = getBlockNumber()\n",
    "                    \n",
    "    next_block = block + 1\n",
    "    while block < next_block:\n",
    "        block = getBlockNumber()\n",
    "    time.sleep(3)\n",
    "    logger.info(f\"current block {block}, will begin collecting infos...\")\n",
    "\n",
    "    earn_rewards_prev = defaultdict(dict)\n",
    "    validator_infos = getAllValidatorInformation()\n",
    "    for i in validator_infos:\n",
    "        if i['metrics']:\n",
    "            for k in i['metrics']['by-bls-key']:\n",
    "                key = k['key']\n",
    "                shard = key['shard-id']\n",
    "                bls_key = key['bls-public-key']\n",
    "                earn_reward = k['earned-reward']\n",
    "                earn_rewards_prev[shard][bls_key] = earn_reward\n",
    "                \n",
    "    next_block = block + 1\n",
    "    while block < next_block:\n",
    "        block = getBlockNumber()\n",
    "    time.sleep(3)\n",
    "    logger.info(f\"new block {block} reached, will begin testing...\")\n",
    "    flag = True\n",
    "    # get the validator info and compute validator rewards\n",
    "    earn_rewards_curr = defaultdict(dict)\n",
    "    validator_infos = getAllValidatorInformation()\n",
    "    block_reward = 28e18\n",
    "    for i in validator_infos:\n",
    "        if i['metrics']:\n",
    "            for k in i['metrics']['by-bls-key']:\n",
    "                key = k['key']\n",
    "                shard = key['shard-id']\n",
    "                bls_key = key['bls-public-key']\n",
    "                earn_reward = k['earned-reward']\n",
    "                earn_rewards_curr[shard][bls_key] = earn_reward\n",
    "    earn_reward_diff = diffAndFilter2(earn_rewards_prev, earn_rewards_curr) \n",
    "    for shard, diff in earn_reward_diff.items():\n",
    "        reward = sum(diff.values())\n",
    "        if format(reward, '.20e') != format(block_reward, '.20e'):\n",
    "            logger.warning(f\"Test-R5: Fail\")\n",
    "            logger.warning(f\"shard: {shard}, block: {block}, sum of earned reward: {reward:.20e}, block reward: {block_reward:.20e}\\n\")\n",
    "            flag = False\n",
    "    \n",
    "    if single:\n",
    "        curr_test = None\n",
    "    else:\n",
    "        curr_test = R6_test\n",
    "    if flag:\n",
    "        logger.info(f\"Test-R5: Succeed\\n\")\n",
    "        return True, curr_test\n",
    "    else:\n",
    "        return False, curr_test"
   ]
  },
  {
   "cell_type": "code",
   "execution_count": 31,
   "metadata": {},
   "outputs": [
    {
     "name": "stderr",
     "output_type": "stream",
     "text": [
      "INFO:economic-test:Test-R5: Reward given out to block signers sums up to the total block reward\n",
      "INFO:economic-test:check sum over earned-reward diff of all keys per shard = 28\n",
      "INFO:economic-test:current and last block numbers: 3230048, 3230119\n"
     ]
    },
    {
     "name": "stdout",
     "output_type": "stream",
     "text": [
      "current and last block numbers 3230048 3230119\n"
     ]
    },
    {
     "name": "stderr",
     "output_type": "stream",
     "text": [
      "INFO:economic-test:current block 3230049, will begin collecting infos...\n",
      "WARNING:economic-test:Test-R5: Fail\n",
      "WARNING:economic-test:shard: 2, block: 3230049, sum of earned reward: 3.84523891276287049728e+21, block reward: 2.80000000000000000000e+19\n",
      "\n",
      "WARNING:economic-test:Test-R5: Fail\n",
      "WARNING:economic-test:shard: 0, block: 3230049, sum of earned reward: 1.10487109789308656026e+21, block reward: 2.80000000000000000000e+19\n",
      "\n",
      "WARNING:economic-test:Test-R5: Fail\n",
      "WARNING:economic-test:shard: 3, block: 3230049, sum of earned reward: 3.82851114358213129011e+21, block reward: 2.80000000000000000000e+19\n",
      "\n"
     ]
    },
    {
     "data": {
      "text/plain": [
       "(False, None)"
      ]
     },
     "execution_count": 31,
     "metadata": {},
     "output_type": "execute_result"
    }
   ],
   "source": [
    "R5_test(True)"
   ]
  },
  {
   "cell_type": "code",
   "execution_count": 15,
   "metadata": {},
   "outputs": [],
   "source": [
    "validator_infos = getAllValidatorInformation()"
   ]
  },
  {
   "cell_type": "code",
   "execution_count": 21,
   "metadata": {},
   "outputs": [
    {
     "data": {
      "text/plain": [
       "['one1sgcpjc405ueglhp5udsskjxcn8crrc2lmuf35c',\n",
       " 'one1qy33jw3g92l40sk03g3kd74hmhszkz23ke8lzs',\n",
       " 'one1nlptlw8srthgljachm4w5rgv8ulvkt3cgk4uqq',\n",
       " 'one1uqu9jf8wnxz0j5fe00l67fnl38snvdknxu5lgg',\n",
       " 'one1lz2mpdnyssmh2x78cf50669hkpd4zx9d0tf2d0',\n",
       " 'one1km7xg8e3xjys7azp9f4xp8hkw79vm2h3f2lade',\n",
       " 'one18vn078vyp5jafma8q7kek6w0resrgex9yufqws',\n",
       " 'one16295hjtqyr0z22swaqthv7mvmvn2gltnj5gera']"
      ]
     },
     "execution_count": 21,
     "metadata": {},
     "output_type": "execute_result"
    }
   ],
   "source": [
    "elected = getElectedValidator()\n",
    "elected"
   ]
  },
  {
   "cell_type": "code",
   "execution_count": 26,
   "metadata": {},
   "outputs": [],
   "source": [
    "def R5_test(single):\n",
    "    logger.info(f\"check sum over earned-reward diff of all keys per shard = validator reward diff\")\n",
    "    block, last_block = getCurrentAndLastBlock()\n",
    "    logger.info(f\"current and last block numbers: {block}, {last_block}\")\n",
    "    if block == last_block or block == last_block -1:\n",
    "        logger.info(f\"current at the last block or last second block, wait until the first block in the new epoch\")\n",
    "        while block < last_block+1:\n",
    "            block = getBlockNumber()\n",
    "    logger.info(f\"current block {block}, will begin collecting infos...\")\n",
    "    acc_reward_prev = defaultdict(int)\n",
    "    earn_rewards_prev = defaultdict(dict)\n",
    "    validator_infos = getAllValidatorInformation()\n",
    "    for i in validator_infos:\n",
    "        if i['metrics']:\n",
    "            addr = i['validator']['address']\n",
    "            acc_reward_prev[addr] = i['lifetime']['reward-accumulated']\n",
    "            for k in i['metrics']['by-bls-key']:\n",
    "                key = k['key']\n",
    "                bls_key = key['bls-public-key']\n",
    "                earn_reward = k['earned-reward']\n",
    "                earn_rewards_prev[addr][bls_key] = earn_reward\n",
    "                acc_reward_prev[addr] = i['lifetime']['reward-accumulated']\n",
    "\n",
    "    next_block = block + 1\n",
    "    while block < next_block:\n",
    "        block = getBlockNumber()\n",
    "    logger.info(f\"new block {block} reached, will begin testing...\")\n",
    "    flag = True\n",
    "    # get the validator info and compute validator rewards\n",
    "    earn_rewards_curr = defaultdict(dict)\n",
    "    acc_reward_curr = defaultdict(int)\n",
    "    validator_infos = getAllValidatorInformation()\n",
    "    block_reward = 28e18\n",
    "    for i in validator_infos:\n",
    "        if i['metrics']:\n",
    "            addr = i['validator']['address']\n",
    "            acc_reward_curr[addr] = i['lifetime']['reward-accumulated']\n",
    "            for k in i['metrics']['by-bls-key']:\n",
    "                key = k['key']\n",
    "                bls_key = key['bls-public-key']\n",
    "                earn_reward = k['earned-reward']\n",
    "                earn_rewards_curr[addr][bls_key] = earn_reward\n",
    "\n",
    "    earn_reward_diff = diffAndFilter2(earn_rewards_prev, earn_rewards_curr) \n",
    "    val_reward_diff = diffAndFilter(acc_reward_prev, acc_reward_curr)\n",
    "    for addr, diff in earn_reward_diff.items():\n",
    "        reward = sum(diff.values())\n",
    "        val_reward = val_reward_diff[addr]\n",
    "        if format(reward, '.20e') != format(val_reward, '.20e'):\n",
    "            logger.warning(f\"Test-R5: Fail\")\n",
    "            logger.warning(f\"validator: {addr}, sum of earned reward: {reward:.20e}, validator reward: {val_reward:.20e}\\n\")\n",
    "            flag = False\n",
    "\n",
    "    if single:\n",
    "        curr_test = None\n",
    "    else:\n",
    "        curr_test = R6_test\n",
    "    if flag:\n",
    "        logger.info(f\"Test-R5: Succeed\\n\")\n",
    "        return True, curr_test\n",
    "    else:\n",
    "        return False, curr_test"
   ]
  },
  {
   "cell_type": "code",
   "execution_count": 27,
   "metadata": {},
   "outputs": [
    {
     "name": "stderr",
     "output_type": "stream",
     "text": [
      "INFO:economic-test:check sum over earned-reward diff of all keys per shard = validator reward diff\n",
      "INFO:economic-test:current and last block numbers: 3230024, 3230119\n",
      "INFO:economic-test:current block 3230024, will begin collecting infos...\n"
     ]
    },
    {
     "name": "stdout",
     "output_type": "stream",
     "text": [
      "current and last block numbers 3230024 3230119\n"
     ]
    },
    {
     "name": "stderr",
     "output_type": "stream",
     "text": [
      "INFO:economic-test:new block 3230025 reached, will begin testing...\n",
      "INFO:economic-test:Test-R5: Succeed\n",
      "\n"
     ]
    },
    {
     "data": {
      "text/plain": [
       "(True, None)"
      ]
     },
     "execution_count": 27,
     "metadata": {},
     "output_type": "execute_result"
    }
   ],
   "source": [
    "R5_test(True)"
   ]
  },
  {
   "cell_type": "code",
   "execution_count": 28,
   "metadata": {},
   "outputs": [],
   "source": [
    "def R5_test(single):\n",
    "    logger.info(f\"each key earned-reward diff should be equal to voting power * 28\")\n",
    "    block, last_block = getCurrentAndLastBlock()\n",
    "    logger.info(f\"current and last block numbers: {block}, {last_block}\")\n",
    "    if block == last_block or block == last_block -1:\n",
    "        logger.info(f\"current at the last block or last second block, wait until the first block in the new epoch\")\n",
    "        while block < last_block+1:\n",
    "            block = getBlockNumber()\n",
    "    next_block = block + 1\n",
    "    while block < next_block:\n",
    "        block = getBlockNumber()\n",
    "    logger.info(f\"current block {block}, will begin collecting infos...\")\n",
    "    time.sleep(5)\n",
    "    earn_rewards_prev = defaultdict(int)\n",
    "    voting_power = defaultdict(dict)\n",
    "    validator_infos = getAllValidatorInformation()\n",
    "    for i in validator_infos:\n",
    "        if i['metrics']:\n",
    "            for k in i['metrics']['by-bls-key']:\n",
    "                key = k['key']\n",
    "                bls_key = key['bls-public-key']\n",
    "                earn_reward = k['earned-reward']\n",
    "                earn_rewards_prev[bls_key] = earn_reward\n",
    "                perc = float(key['group-percent'])\n",
    "                voting_power[bls_key] = perc\n",
    "                \n",
    "    next_block = block + 1\n",
    "    while block < next_block:\n",
    "        block = getBlockNumber()\n",
    "    logger.info(f\"new block {block} reached, will begin testing...\")\n",
    "    flag = True\n",
    "    time.sleep(5)\n",
    "    # get the validator info and compute validator rewards\n",
    "    earn_rewards_curr = defaultdict(dict)\n",
    "    \n",
    "    validator_infos = getAllValidatorInformation()\n",
    "    block_reward = 28e18\n",
    "    for i in validator_infos:\n",
    "        if i['metrics']:\n",
    "            for k in i['metrics']['by-bls-key']:\n",
    "                key = k['key']\n",
    "                bls_key = key['bls-public-key']\n",
    "                earn_reward = k['earned-reward']\n",
    "                earn_rewards_curr[bls_key] = earn_reward\n",
    "                \n",
    "                \n",
    "    earn_reward_diff = diffAndFilter(earn_rewards_prev, earn_rewards_curr) \n",
    "    for k, v in earn_reward_diff.items():\n",
    "        reward = voting_power[k] * block_reward\n",
    "        if format(v, '.12e') != format(reward, '.12e'):\n",
    "            logger.warning(f\"Test-R5: Fail\")\n",
    "            logger.warning(f\"bls-key: {k}, earned reward: {v:.12e}, voting-power * 28: {reward:.12e}\\n\")\n",
    "            flag = False\n",
    "  \n",
    "    if single:\n",
    "        curr_test = None\n",
    "    else:\n",
    "        curr_test = R6_test\n",
    "    if flag:\n",
    "        logger.info(f\"Test-R5: Succeed\\n\")\n",
    "        return True, curr_test\n",
    "    else:\n",
    "        return False, curr_test"
   ]
  },
  {
   "cell_type": "code",
   "execution_count": 29,
   "metadata": {},
   "outputs": [
    {
     "name": "stderr",
     "output_type": "stream",
     "text": [
      "INFO:economic-test:each key earned-reward diff should be equal to voting power * 28\n",
      "INFO:economic-test:current and last block numbers: 3230031, 3230119\n"
     ]
    },
    {
     "name": "stdout",
     "output_type": "stream",
     "text": [
      "current and last block numbers 3230031 3230119\n"
     ]
    },
    {
     "name": "stderr",
     "output_type": "stream",
     "text": [
      "INFO:economic-test:current block 3230032, will begin collecting infos...\n",
      "INFO:economic-test:new block 3230033 reached, will begin testing...\n",
      "WARNING:economic-test:Test-R5: Fail\n",
      "WARNING:economic-test:bls-key: 95b7f81b4ad71a93e866c918a122a8754cf6db02c0f3df93d00e6651b77323d527ac39fc3e990f9c2f6e1e3ea9d15112, earned reward: 4.497991967871e+18, voting-power * 28: 1.400000000000e+19\n",
      "\n",
      "WARNING:economic-test:Test-R5: Fail\n",
      "WARNING:economic-test:bls-key: 394d726edbb908fa71bdb2b417dd0fe7c77d9f86b3a0b1e1b51d11e26dd1cddb4e21269c3e1d08e75d43ec98ff4ca582, earned reward: 4.497991967871e+18, voting-power * 28: 1.400000000000e+19\n",
      "\n",
      "WARNING:economic-test:Test-R5: Fail\n",
      "WARNING:economic-test:bls-key: dc9e4e6c9e4782012ccf628e3d3e7c1763ba2f78de99b98b89fac63b1f4375e288d5e155e9ee64fe126f78ce0088db10, earned reward: 2.882763654057e+18, voting-power * 28: 6.828953434763e+18\n",
      "\n",
      "WARNING:economic-test:Test-R5: Fail\n",
      "WARNING:economic-test:bls-key: fca5bb8c78055a4927bb3b8e60917e87dffd00d5f4a818111113c6ddff4e4af69f0d878a49c8f39c0842c15b40d0d603, earned reward: 0.000000000000e+00, voting-power * 28: 2.800000000000e+19\n",
      "\n",
      "WARNING:economic-test:Test-R5: Fail\n",
      "WARNING:economic-test:bls-key: c28dd7a911858c8f452fe8de42481bfe709208b2ce8956cbc3560829f1bf0b92454da369afab53a7aee8533ee028f390, earned reward: 0.000000000000e+00, voting-power * 28: 5.163669893960e+18\n",
      "\n",
      "WARNING:economic-test:Test-R5: Fail\n",
      "WARNING:economic-test:bls-key: 4669655c95a53997e01f176f8f5fd6038f324aab149f5cd5aa16da4e2400df7eea6d9a69ce6c2c1a4f2e879a0f9c2484, earned reward: 0.000000000000e+00, voting-power * 28: 5.163669893960e+18\n",
      "\n",
      "WARNING:economic-test:Test-R5: Fail\n",
      "WARNING:economic-test:bls-key: 71efaf7621c808eb6155aa7f97ab60792dfe031eba99b5b6d5b8313fd78206ca61f4dd71e236b7f81f0493926d330414, earned reward: 0.000000000000e+00, voting-power * 28: 5.163669893960e+18\n",
      "\n",
      "WARNING:economic-test:Test-R5: Fail\n",
      "WARNING:economic-test:bls-key: 379c941b221fa07a6aab5cc9a1b5e7ff27e51a33a0e66054698f0ce59b10b4d7977af7e5c7fb33d0457532c1e8ce1318, earned reward: 0.000000000000e+00, voting-power * 28: 5.680036883356e+18\n",
      "\n"
     ]
    },
    {
     "data": {
      "text/plain": [
       "(False, None)"
      ]
     },
     "execution_count": 29,
     "metadata": {},
     "output_type": "execute_result"
    }
   ],
   "source": [
    "R5_test(True)"
   ]
  },
  {
   "cell_type": "code",
   "execution_count": 32,
   "metadata": {},
   "outputs": [
    {
     "data": {
      "text/plain": [
       "['one1sgcpjc405ueglhp5udsskjxcn8crrc2lmuf35c',\n",
       " 'one1qy33jw3g92l40sk03g3kd74hmhszkz23ke8lzs',\n",
       " 'one1nlptlw8srthgljachm4w5rgv8ulvkt3cgk4uqq',\n",
       " 'one1uqu9jf8wnxz0j5fe00l67fnl38snvdknxu5lgg',\n",
       " 'one1lz2mpdnyssmh2x78cf50669hkpd4zx9d0tf2d0',\n",
       " 'one1km7xg8e3xjys7azp9f4xp8hkw79vm2h3f2lade',\n",
       " 'one18vn078vyp5jafma8q7kek6w0resrgex9yufqws',\n",
       " 'one16295hjtqyr0z22swaqthv7mvmvn2gltnj5gera']"
      ]
     },
     "execution_count": 32,
     "metadata": {},
     "output_type": "execute_result"
    }
   ],
   "source": [
    "elected = getElectedValidator()\n",
    "elected"
   ]
  },
  {
   "cell_type": "code",
   "execution_count": 36,
   "metadata": {},
   "outputs": [
    {
     "name": "stdout",
     "output_type": "stream",
     "text": [
      "block: 3230082\n",
      "group percentage: 0.243891194098662978, perc * 28e18: 6.828953434762564e+18\n",
      "earn reward: 0.0\n",
      "block: 3230083\n",
      "group percentage: 0.243891194098662978, perc * 28e18: 6.828953434762564e+18\n",
      "earn reward: 2.882763654056684e+18\n",
      "block: 3230084\n",
      "group percentage: 0.243891194098662978, perc * 28e18: 6.828953434762564e+18\n",
      "earn reward: 2.882763654056684e+18\n",
      "block: 3230085\n",
      "group percentage: 0.243891194098662978, perc * 28e18: 6.828953434762564e+18\n",
      "earn reward: 2.882763654056684e+18\n",
      "block: 3230086\n",
      "group percentage: 0.243891194098662978, perc * 28e18: 6.828953434762564e+18\n",
      "earn reward: 2.882763654056684e+18\n",
      "block: 3230087\n",
      "group percentage: 0.243891194098662978, perc * 28e18: 6.828953434762564e+18\n",
      "earn reward: 2.882763654056684e+18\n",
      "block: 3230088\n",
      "group percentage: 0.243891194098662978, perc * 28e18: 6.828953434762564e+18\n",
      "earn reward: 2.882763654056684e+18\n",
      "block: 3230089\n",
      "group percentage: 0.243891194098662978, perc * 28e18: 6.828953434762564e+18\n",
      "earn reward: 3.2228900916582804e+18\n",
      "block: 3230090\n",
      "group percentage: 0.243891194098662978, perc * 28e18: 6.828953434762564e+18\n",
      "earn reward: 2.882763654056684e+18\n",
      "block: 3230091\n",
      "group percentage: 0.243891194098662978, perc * 28e18: 6.828953434762564e+18\n",
      "earn reward: 2.8980559135787674e+18\n"
     ]
    }
   ],
   "source": [
    "i = elected[0]\n",
    "iterations = 0\n",
    "num = 10\n",
    "block = getBlockNumber()\n",
    "keys = getValidatorInfo(i)['metrics']['by-bls-key']\n",
    "prev_reward = keys[0]['earned-reward']\n",
    "while iterations < num:\n",
    "    next_block = block + 1\n",
    "    while block < next_block:\n",
    "        block = getBlockNumber()\n",
    "    print(f\"block: {block}\")\n",
    "    if getValidatorInfo(i)['metrics']:\n",
    "        keys = getValidatorInfo(i)['metrics']['by-bls-key']\n",
    "        for k in keys:\n",
    "            print(f\"group percentage: {k['key']['group-percent']}, perc * 28e18: {float(k['key']['group-percent']) * 28e18}\")\n",
    "            curr_reward = k['earned-reward']\n",
    "            reward_diff = curr_reward - prev_reward\n",
    "            print(f\"earn reward: {float(reward_diff)}\")\n",
    "        prev_reward = curr_reward\n",
    "    iterations += 1"
   ]
  },
  {
   "cell_type": "code",
   "execution_count": 7,
   "metadata": {},
   "outputs": [
    {
     "data": {
      "text/plain": [
       "509495.99999999994"
      ]
     },
     "execution_count": 7,
     "metadata": {},
     "output_type": "execute_result"
    }
   ],
   "source": [
    "getAllValidatorInformation()[0]['validator']['delegations'][0]['amount']/1e18"
   ]
  },
  {
   "cell_type": "code",
   "execution_count": null,
   "metadata": {},
   "outputs": [],
   "source": []
  }
 ],
 "metadata": {
  "kernelspec": {
   "display_name": "Python 3",
   "language": "python",
   "name": "python3"
  },
  "language_info": {
   "codemirror_mode": {
    "name": "ipython",
    "version": 3
   },
   "file_extension": ".py",
   "mimetype": "text/x-python",
   "name": "python",
   "nbconvert_exporter": "python",
   "pygments_lexer": "ipython3",
   "version": "3.7.6"
  }
 },
 "nbformat": 4,
 "nbformat_minor": 2
}
