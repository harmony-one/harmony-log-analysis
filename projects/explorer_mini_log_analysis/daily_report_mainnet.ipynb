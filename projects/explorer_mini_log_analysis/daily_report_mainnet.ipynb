{
 "cells": [
  {
   "cell_type": "markdown",
   "metadata": {},
   "source": [
    "# Log Analysis and Visulization"
   ]
  },
  {
   "cell_type": "code",
   "execution_count": null,
   "metadata": {},
   "outputs": [],
   "source": [
    "import utils\n",
    "import os\n",
    "from os import path\n",
    "import datetime\n",
    "import pandas as pd"
   ]
  },
  {
   "cell_type": "code",
   "execution_count": null,
   "metadata": {
    "scrolled": false
   },
   "outputs": [],
   "source": [
    "if __name__ == \"__main__\":\n",
    "    \n",
    "    date = datetime.date.today()-datetime.timedelta(days=1)\n",
    "    name = \"mainnet_\"+date.strftime(\"%Y_%m_%d\")\n",
    "    fig_dir = \"../../graphs/test_logs/mainnet/\" + date.strftime(\"%Y_%m_%d\") + \"/\"\n",
    "    log_dir = \"/home/ubuntu/jupyter/monitor/mini_explorer/data/\" + name\n",
    "    html_dir = \"../../docs/graphs/test_logs/mainnet/\" + date.strftime(\"%Y_%m_%d\") + \"/\"\n",
    "\n",
    "    data = [html_dir, fig_dir]\n",
    "    for directory in data:\n",
    "        if not path.exists(directory):\n",
    "            try:\n",
    "                os.makedirs(directory)\n",
    "            except:\n",
    "                print(\"Could not make directory\")\n",
    "                exit(1)\n",
    "\n",
    "    data = utils.read_data(log_dir)\n",
    "    shard = utils.data_processing(data)\n",
    "    \n",
    "    utils.set_config({\n",
    "        'ignore_printing_statistics_summary': True,\n",
    "        'ignore_drawing_features_vs_time_per_shard' : True,\n",
    "        'ignore_drawing_features_vs_block_per_shard' : True,\n",
    "        'ignore_drawing_staking_features_vs_time_per_shard' : True,\n",
    "        'ignore_drawing_staking_features_vs_block_per_shard' : True,\n",
    "        'ignore_drawing_features_vs_time' : False,\n",
    "        'ignore_drawing_features_vs_block' : True\n",
    "    })\n",
    "    \n",
    "    config = utils.config\n",
    "    ## get the index of the new chain started\n",
    "    index = []\n",
    "    for s in shard:\n",
    "        i = s[s['time_per_block'] < 0].index.tolist()   \n",
    "        if len(i) == 0:\n",
    "            break\n",
    "        i.insert(0,0)\n",
    "        i.append(len(s))\n",
    "        index.append(i)\n",
    "    \n",
    "    if len(index) == 0:\n",
    "        new = pd.concat(shard)\n",
    "        new.reset_index(inplace = True, drop = True)\n",
    "        print(\"transaction for \", date, new['transactions'].sum())\n",
    "        utils.visualization(new, fig_dir, html_dir, config)\n",
    "    else:    \n",
    "        for i in range(len(index[0])-1):\n",
    "            df = []\n",
    "            for s in range(len(shard)):\n",
    "                df.append(shard[s].iloc[index[s][i]+1:index[s][i+1]])\n",
    "            new = pd.concat(df)\n",
    "\n",
    "            fig_path = fig_dir + \"chain_\" + str(i) + \"/\"\n",
    "            if not os.path.exists(fig_path):\n",
    "                os.makedirs(fig_path)\n",
    "\n",
    "            utils.visualization(new, fig_path, html_dir, config)"
   ]
  },
  {
   "cell_type": "code",
   "execution_count": null,
   "metadata": {},
   "outputs": [],
   "source": []
  }
 ],
 "metadata": {
  "kernelspec": {
   "display_name": "Python 3",
   "language": "python",
   "name": "python3"
  },
  "language_info": {
   "codemirror_mode": {
    "name": "ipython",
    "version": 3
   },
   "file_extension": ".py",
   "mimetype": "text/x-python",
   "name": "python",
   "nbconvert_exporter": "python",
   "pygments_lexer": "ipython3",
   "version": "3.6.9"
  }
 },
 "nbformat": 4,
 "nbformat_minor": 2
}
