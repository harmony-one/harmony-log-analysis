{
 "cells": [
  {
   "cell_type": "markdown",
   "metadata": {},
   "source": [
    "# Retry analysis on 2020/03/09 Mainnet S0 leader: 3.112.219.248"
   ]
  },
  {
   "cell_type": "markdown",
   "metadata": {},
   "source": [
    "- revise the retry script, allowing maximum 6 times retry\n",
    "- add onview retry analysis"
   ]
  },
  {
   "cell_type": "code",
   "execution_count": 1,
   "metadata": {},
   "outputs": [],
   "source": [
    "import json\n",
    "import pandas as pd\n",
    "import numpy as np\n",
    "import os\n",
    "import plotly.express as px"
   ]
  },
  {
   "cell_type": "markdown",
   "metadata": {},
   "source": [
    "## Basic Statistics Summary"
   ]
  },
  {
   "cell_type": "code",
   "execution_count": 2,
   "metadata": {},
   "outputs": [],
   "source": [
    "def read_data(files, path):\n",
    "    \n",
    "    count_block, count_retry, count_new_view, count_view_change= 0,0,0,0\n",
    "    retry_data = []\n",
    "    new_view_data = []\n",
    "    for file in files:\n",
    "        if \"zerolog\" in file:\n",
    "            with open(path + file, errors='ignore') as f:\n",
    "                for line in f.readlines():\n",
    "                    if \"RetryCount\" in line:\n",
    "                        json_line = json.loads(line)\n",
    "                        if json_line['MsgType'] == 'NEWVIEW':\n",
    "                            new_view_data.append(json_line)\n",
    "                            count_new_view += 1\n",
    "                        else:\n",
    "                            retry_data.append(json_line)\n",
    "                            count_retry += 1\n",
    "                    if \"HOORAY\" in line:\n",
    "                        count_block += 1\n",
    "                    if \"Sent NewView Message\" in line:\n",
    "                        new_view_data.append(json_line)\n",
    "                        count_view_change += 1\n",
    "                        \n",
    "    print(\"total retry messages: \" + str(count_retry))\n",
    "    print(\"total successful messages: \" + str(count_block*3))\n",
    "    print(\"total messages: \" + str(count_block*3+count_retry))\n",
    "    if count_block != 0:\n",
    "        retry_perc = count_retry / (count_block*3+count_retry)\n",
    "    else:\n",
    "        retry_perc = 0\n",
    "    print(\"retry percentage:  \" + str(retry_perc))\n",
    "    \n",
    "    print(\"new view retry messages: \" + str(count_new_view))\n",
    "    print(\"total view change messages: \" + str(count_view_change))\n",
    "    if count_view_change != 0:\n",
    "        new_view_retry_perc = count_new_view / count_view_change\n",
    "    else:\n",
    "        new_view_retry_perc = 0\n",
    "    print(\"new view retry percentage: \"+ str(new_view_retry_perc))\n",
    "    \n",
    "    return retry_data, new_view_data"
   ]
  },
  {
   "cell_type": "code",
   "execution_count": 3,
   "metadata": {},
   "outputs": [
    {
     "name": "stdout",
     "output_type": "stream",
     "text": [
      "total retry messages: 1\n",
      "total successful messages: 31356\n",
      "total messages: 31357\n",
      "retry percentage:  3.1890805880664604e-05\n",
      "new view retry messages: 0\n",
      "total view change messages: 0\n",
      "new view retry percentage: 0\n"
     ]
    }
   ],
   "source": [
    "log_dir = \"../../logs/node_logs/mainnet_03_09/\"\n",
    "files = os.listdir(log_dir)\n",
    "retry_data, new_view_data = read_data(files, log_dir)"
   ]
  }
 ],
 "metadata": {
  "kernelspec": {
   "display_name": "Python 3",
   "language": "python",
   "name": "python3"
  },
  "language_info": {
   "codemirror_mode": {
    "name": "ipython",
    "version": 3
   },
   "file_extension": ".py",
   "mimetype": "text/x-python",
   "name": "python",
   "nbconvert_exporter": "python",
   "pygments_lexer": "ipython3",
   "version": "3.7.6"
  }
 },
 "nbformat": 4,
 "nbformat_minor": 2
}
