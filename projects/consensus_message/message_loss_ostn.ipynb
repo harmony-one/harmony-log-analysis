{
 "cells": [
  {
   "cell_type": "code",
   "execution_count": 1,
   "metadata": {},
   "outputs": [],
   "source": [
    "import json\n",
    "import pandas as pd\n",
    "import os\n",
    "import gzip\n",
    "import re"
   ]
  },
  {
   "cell_type": "code",
   "execution_count": 2,
   "metadata": {},
   "outputs": [],
   "source": [
    "def read_data(files, path, keyword):\n",
    "    data = []\n",
    "    for file in files:\n",
    "        if keyword in file:\n",
    "            with gzip.open(path + file) as f:\n",
    "                for line in f.readlines():\n",
    "                    if 'Received prepared message'.encode('utf-8') in line \\\n",
    "                    or 'Receive announce message'.encode('utf-8') in line\\\n",
    "                    or 'Receive committed message'.encode('utf-8') in line:\n",
    "                        data.append(json.loads(line))\n",
    "    return data"
   ]
  },
  {
   "cell_type": "code",
   "execution_count": 3,
   "metadata": {},
   "outputs": [],
   "source": [
    "def data_processing(data):\n",
    "    df = pd.DataFrame(data)\n",
    "    df['time'] = pd.to_datetime(df['time'], format = '%Y-%m-%dT%H:%M:%S.%f')\n",
    "    df.sort_values(by=['time','message'], inplace = True)\n",
    "    df.reset_index(inplace = True, drop = True)\n",
    "    return df"
   ]
  },
  {
   "cell_type": "code",
   "execution_count": 4,
   "metadata": {},
   "outputs": [],
   "source": [
    "def get_missing_msg_index(df):\n",
    "    for name, group in df.groupby(df.index //3):\n",
    "        if group.iloc[0]['message'] != '[OnAnnounce] Receive announce message':\n",
    "            index = group.iloc[0].name\n",
    "            print(index)\n",
    "            break"
   ]
  },
  {
   "cell_type": "code",
   "execution_count": 8,
   "metadata": {},
   "outputs": [
    {
     "data": {
      "text/plain": [
       "message\n",
       "[OnPrepared] Received prepared message    6110\n",
       "Name: message, dtype: int64"
      ]
     },
     "execution_count": 8,
     "metadata": {},
     "output_type": "execute_result"
    }
   ],
   "source": [
    "log_dir = \"/home/ubuntu/jupyter/logs/os/20/04/14/20:19:33/validator/tmp_log/log-20200405.194121/\"\n",
    "files = os.listdir(log_dir)\n",
    "data = read_data(files, log_dir, '13.56.179.90')\n",
    "df = data_processing(data)\n",
    "df.groupby('message')['message'].count()"
   ]
  },
  {
   "cell_type": "code",
   "execution_count": 9,
   "metadata": {},
   "outputs": [
    {
     "data": {
      "text/plain": [
       "message\n",
       "[OnPrepared] Received prepared message    6110\n",
       "Name: message, dtype: int64"
      ]
     },
     "execution_count": 9,
     "metadata": {},
     "output_type": "execute_result"
    }
   ],
   "source": [
    "log_dir = \"/home/ubuntu/jupyter/logs/os/20/04/14/19:35:10/validator/tmp_log/log-20200405.194121/\"\n",
    "files = os.listdir(log_dir)\n",
    "data = read_data(files, log_dir, '13.56.179.90')\n",
    "df = data_processing(data)\n",
    "df.groupby('message')['message'].count()"
   ]
  },
  {
   "cell_type": "code",
   "execution_count": 10,
   "metadata": {},
   "outputs": [
    {
     "data": {
      "text/plain": [
       "message\n",
       "[OnPrepared] Received prepared message    6123\n",
       "Name: message, dtype: int64"
      ]
     },
     "execution_count": 10,
     "metadata": {},
     "output_type": "execute_result"
    }
   ],
   "source": [
    "log_dir = \"/home/ubuntu/jupyter/logs/os/20/04/14/19:35:10/validator/tmp_log/log-20200405.194121/\"\n",
    "files = os.listdir(log_dir)\n",
    "data = read_data(files, log_dir, '107.20.95.47')\n",
    "df = data_processing(data)\n",
    "df.groupby('message')['message'].count()"
   ]
  },
  {
   "cell_type": "code",
   "execution_count": null,
   "metadata": {},
   "outputs": [],
   "source": []
  }
 ],
 "metadata": {
  "kernelspec": {
   "display_name": "Python 3",
   "language": "python",
   "name": "python3"
  },
  "language_info": {
   "codemirror_mode": {
    "name": "ipython",
    "version": 3
   },
   "file_extension": ".py",
   "mimetype": "text/x-python",
   "name": "python",
   "nbconvert_exporter": "python",
   "pygments_lexer": "ipython3",
   "version": "3.7.6"
  }
 },
 "nbformat": 4,
 "nbformat_minor": 4
}
