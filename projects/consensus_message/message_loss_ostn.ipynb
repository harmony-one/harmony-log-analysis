{
 "cells": [
  {
   "cell_type": "code",
   "execution_count": 2,
   "metadata": {},
   "outputs": [],
   "source": [
    "import json\n",
    "import pandas as pd\n",
    "import os\n",
    "import gzip\n",
    "import re"
   ]
  },
  {
   "cell_type": "code",
   "execution_count": 3,
   "metadata": {},
   "outputs": [],
   "source": [
    "def read_data(files, path, keyword):\n",
    "    data = []\n",
    "    for file in files:\n",
    "        if keyword in file:\n",
    "            with gzip.open(path + file) as f:\n",
    "                for line in f.readlines():\n",
    "                    if 'Received prepared message'.encode('utf-8') in line \\\n",
    "                    or 'Receive announce message'.encode('utf-8') in line\\\n",
    "                    or 'Receive committed message'.encode('utf-8') in line:\n",
    "                        data.append(json.loads(line))\n",
    "    return data"
   ]
  },
  {
   "cell_type": "code",
   "execution_count": 4,
   "metadata": {},
   "outputs": [],
   "source": [
    "def data_processing(data):\n",
    "    df = pd.DataFrame(data)\n",
    "    df['time'] = pd.to_datetime(df['time'], format = '%Y-%m-%dT%H:%M:%S.%f')\n",
    "    df.sort_values(by=['time','message'], inplace = True)\n",
    "    df.reset_index(inplace = True, drop = True)\n",
    "    return df"
   ]
  },
  {
   "cell_type": "code",
   "execution_count": 29,
   "metadata": {},
   "outputs": [],
   "source": [
    "def getMissingMsgDf(nodes):\n",
    "    announce = []\n",
    "    commit = []\n",
    "    prepare = []\n",
    "    node_lst = list(nodes)\n",
    "    for i in range(len(nodes)):\n",
    "        try:\n",
    "            data = read_data(files, log_dir, node_lst[i])\n",
    "        except:\n",
    "            print(\"can't read data\", node_lst[i])\n",
    "        try:\n",
    "            df = data_processing(data)\n",
    "        except:\n",
    "            print(\"can't process data\", node_lst[i])\n",
    "        count = df.groupby('message')['message'].count()\n",
    "        if \"[OnPrepared] Received prepared message\" in count.index:\n",
    "            prepare.append(count[\"[OnPrepared] Received prepared message\"])\n",
    "        else:\n",
    "            prepare.append(0)\n",
    "        if \"[OnAnnounce] Receive announce message\" in count.index:\n",
    "            announce.append(count[\"[OnAnnounce] Receive announce message\"])\n",
    "        else:\n",
    "            announce.append(0)\n",
    "        if \"[OnCommitted] Receive committed message\" in count.index:\n",
    "            commit.append(count[\"[OnCommitted] Receive committed message\"])\n",
    "        else:\n",
    "            commit.append(0)\n",
    "\n",
    "    col_name = [\"node\", \"[OnAnnounce] Receive announce message\", \"[OnPrepared] Received prepared message\", \"[OnCommitted] Receive committed message\"]\n",
    "    df = pd.DataFrame(list(zip(node_lst, announce, prepare, commit)), columns = col_name)\n",
    "    return df"
   ]
  },
  {
   "cell_type": "code",
   "execution_count": 9,
   "metadata": {},
   "outputs": [],
   "source": [
    "log_dir = \"/home/ubuntu/jupyter/logs/os/20/04/14/19:35:10/validator/tmp_log/log-20200405.194121/\"\n",
    "files = os.listdir(log_dir)\n",
    "nodes = set()\n",
    "pattern = re.compile(\"zerolog-validator-(.*?)-9000\")\n",
    "for file in files:\n",
    "    nodes.add(re.findall(pattern, file)[0])"
   ]
  },
  {
   "cell_type": "code",
   "execution_count": null,
   "metadata": {},
   "outputs": [],
   "source": [
    "getMissingMsgDf(nodes)"
   ]
  },
  {
   "cell_type": "code",
   "execution_count": 12,
   "metadata": {},
   "outputs": [
    {
     "data": {
      "text/plain": [
       "message\n",
       "[OnPrepared] Received prepared message    6110\n",
       "Name: message, dtype: int64"
      ]
     },
     "execution_count": 12,
     "metadata": {},
     "output_type": "execute_result"
    }
   ],
   "source": [
    "log_dir = \"/home/ubuntu/jupyter/logs/os/20/04/14/19:35:10/validator/tmp_log/log-20200405.194121/\"\n",
    "files = os.listdir(log_dir)\n",
    "data = read_data(files, log_dir, '13.56.179.90')\n",
    "df = data_processing(data)\n",
    "df.groupby('message')['message'].count()"
   ]
  },
  {
   "cell_type": "code",
   "execution_count": 13,
   "metadata": {},
   "outputs": [],
   "source": [
    "count = df.groupby('message')['message'].count()"
   ]
  },
  {
   "cell_type": "code",
   "execution_count": 17,
   "metadata": {},
   "outputs": [
    {
     "data": {
      "text/plain": [
       "6110"
      ]
     },
     "execution_count": 17,
     "metadata": {},
     "output_type": "execute_result"
    }
   ],
   "source": [
    "count['[OnPrepared] Received prepared message']"
   ]
  },
  {
   "cell_type": "code",
   "execution_count": 10,
   "metadata": {},
   "outputs": [
    {
     "data": {
      "text/plain": [
       "message\n",
       "[OnPrepared] Received prepared message    6123\n",
       "Name: message, dtype: int64"
      ]
     },
     "execution_count": 10,
     "metadata": {},
     "output_type": "execute_result"
    }
   ],
   "source": [
    "data = read_data(files, log_dir, '107.20.95.47')\n",
    "df = data_processing(data)\n",
    "df.groupby('message')['message'].count()"
   ]
  },
  {
   "cell_type": "code",
   "execution_count": null,
   "metadata": {},
   "outputs": [],
   "source": [
    "data = read_data(files, log_dir, '13.56.179.90')\n",
    "df = data_processing(data)\n",
    "df.groupby('message')['message'].count()"
   ]
  }
 ],
 "metadata": {
  "kernelspec": {
   "display_name": "Python 3",
   "language": "python",
   "name": "python3"
  },
  "language_info": {
   "codemirror_mode": {
    "name": "ipython",
    "version": 3
   },
   "file_extension": ".py",
   "mimetype": "text/x-python",
   "name": "python",
   "nbconvert_exporter": "python",
   "pygments_lexer": "ipython3",
   "version": "3.7.6"
  }
 },
 "nbformat": 4,
 "nbformat_minor": 4
}
