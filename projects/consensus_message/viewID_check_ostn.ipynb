{
 "cells": [
  {
   "cell_type": "code",
   "execution_count": 1,
   "metadata": {},
   "outputs": [],
   "source": [
    "import json\n",
    "import pandas as pd\n",
    "import os\n",
    "import gzip\n",
    "import re"
   ]
  },
  {
   "cell_type": "code",
   "execution_count": 2,
   "metadata": {},
   "outputs": [],
   "source": [
    "def read_data(files, path, keyword):\n",
    "    data = []\n",
    "    for file in files:\n",
    "        if keyword in file:\n",
    "            with gzip.open(path + file) as f:\n",
    "                for line in f.readlines():\n",
    "                    if 'Received prepared message'.encode('utf-8') in line:\n",
    "                        data.append(json.loads(line))\n",
    "    return data"
   ]
  },
  {
   "cell_type": "code",
   "execution_count": 3,
   "metadata": {},
   "outputs": [],
   "source": [
    "def data_processing(data):\n",
    "    df = pd.DataFrame(data)\n",
    "    df['time'] = pd.to_datetime(df['time'], format = '%Y-%m-%dT%H:%M:%S.%f')\n",
    "    df.sort_values(by=['time','message'], inplace = True)\n",
    "    df.reset_index(inplace = True, drop = True)\n",
    "    df['viewID-diff'] = df['MsgViewID']-df['MsgViewID'].shift()\n",
    "    return df"
   ]
  },
  {
   "cell_type": "code",
   "execution_count": 8,
   "metadata": {},
   "outputs": [],
   "source": [
    "def getViewIdDiff(nodes):\n",
    "    node_dict = {}\n",
    "    node_lst = list(nodes)\n",
    "    for i in range(len(nodes)):\n",
    "        try:\n",
    "            data = read_data(files, log_dir, node_lst[i])\n",
    "        except:\n",
    "            print(\"can't read data\", node_lst[i])\n",
    "        try:\n",
    "            df = data_processing(data)\n",
    "        except:\n",
    "            print(\"can't process data\", node_lst[i])\n",
    "        count = df.groupby('viewID-diff')['viewID-diff'].count()\n",
    "        node_dict[node_lst[i]] = count\n",
    "    return pd.DataFrame(node_dict)"
   ]
  },
  {
   "cell_type": "code",
   "execution_count": 5,
   "metadata": {},
   "outputs": [],
   "source": [
    "log_dir = \"/home/ubuntu/jupyter/logs/os/20/04/14/19:35:10/validator/tmp_log/log-20200405.194121/\"\n",
    "files = os.listdir(log_dir)\n",
    "nodes = set()\n",
    "pattern = re.compile(\"zerolog-validator-(.*?)-9000\")\n",
    "for file in files:\n",
    "    nodes.add(re.findall(pattern, file)[0])"
   ]
  },
  {
   "cell_type": "code",
   "execution_count": 9,
   "metadata": {},
   "outputs": [
    {
     "data": {
      "text/html": [
       "<div>\n",
       "<style scoped>\n",
       "    .dataframe tbody tr th:only-of-type {\n",
       "        vertical-align: middle;\n",
       "    }\n",
       "\n",
       "    .dataframe tbody tr th {\n",
       "        vertical-align: top;\n",
       "    }\n",
       "\n",
       "    .dataframe thead th {\n",
       "        text-align: right;\n",
       "    }\n",
       "</style>\n",
       "<table border=\"1\" class=\"dataframe\">\n",
       "  <thead>\n",
       "    <tr style=\"text-align: right;\">\n",
       "      <th></th>\n",
       "      <th>13.57.48.226</th>\n",
       "      <th>13.56.255.41</th>\n",
       "      <th>13.56.228.189</th>\n",
       "      <th>13.57.198.215</th>\n",
       "      <th>107.20.95.47</th>\n",
       "      <th>13.56.179.90</th>\n",
       "      <th>13.56.240.112</th>\n",
       "      <th>13.57.9.233</th>\n",
       "      <th>13.56.194.232</th>\n",
       "    </tr>\n",
       "    <tr>\n",
       "      <th>viewID-diff</th>\n",
       "      <th></th>\n",
       "      <th></th>\n",
       "      <th></th>\n",
       "      <th></th>\n",
       "      <th></th>\n",
       "      <th></th>\n",
       "      <th></th>\n",
       "      <th></th>\n",
       "      <th></th>\n",
       "    </tr>\n",
       "  </thead>\n",
       "  <tbody>\n",
       "    <tr>\n",
       "      <th>1.0</th>\n",
       "      <td>8800</td>\n",
       "      <td>8777</td>\n",
       "      <td>6123</td>\n",
       "      <td>9060</td>\n",
       "      <td>6122</td>\n",
       "      <td>6109</td>\n",
       "      <td>9063</td>\n",
       "      <td>6152</td>\n",
       "      <td>6060</td>\n",
       "    </tr>\n",
       "  </tbody>\n",
       "</table>\n",
       "</div>"
      ],
      "text/plain": [
       "             13.57.48.226  13.56.255.41  13.56.228.189  13.57.198.215  \\\n",
       "viewID-diff                                                             \n",
       "1.0                  8800          8777           6123           9060   \n",
       "\n",
       "             107.20.95.47  13.56.179.90  13.56.240.112  13.57.9.233  \\\n",
       "viewID-diff                                                           \n",
       "1.0                  6122          6109           9063         6152   \n",
       "\n",
       "             13.56.194.232  \n",
       "viewID-diff                 \n",
       "1.0                   6060  "
      ]
     },
     "execution_count": 9,
     "metadata": {},
     "output_type": "execute_result"
    }
   ],
   "source": [
    "getViewIdDiff(nodes)"
   ]
  }
 ],
 "metadata": {
  "kernelspec": {
   "display_name": "Python 3",
   "language": "python",
   "name": "python3"
  },
  "language_info": {
   "codemirror_mode": {
    "name": "ipython",
    "version": 3
   },
   "file_extension": ".py",
   "mimetype": "text/x-python",
   "name": "python",
   "nbconvert_exporter": "python",
   "pygments_lexer": "ipython3",
   "version": "3.7.6"
  }
 },
 "nbformat": 4,
 "nbformat_minor": 4
}
